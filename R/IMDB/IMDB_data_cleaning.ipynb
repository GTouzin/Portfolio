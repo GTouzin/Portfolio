{
 "cells": [
  {
   "cell_type": "markdown",
   "metadata": {},
   "source": [
    "# Creating a AI producer or: How I Learn to Stop Worrying and Love box office Bomb"
   ]
  },
  {
   "cell_type": "markdown",
   "metadata": {},
   "source": [
    "If you love the movie, you have probably seen a trailer for a new blockbuster in the past and ask yourself \"Why would someone spend 100 million dollars to make such a stupid movie?\". For me, the last time this happens is when I heard of the existence of the \"Baywatch\" movie. I mean nobody wanted to watch a \"Baywatch\" movie; no director could possibly have dreamed of making a \"Baywatch\" movie. So what happened? There's probably a producer who's been sitting on that script for years now and Zack Efron had bills to pay. Maybe Dwayne \"the Rock\" Johnson saw that and thought \"Hey, I like to have a new house and I'm free for two months between shooting \"The Fast and the Furious 8\" and \"Jumanji 2\"! I should be in this movie!\". Then a studio executive talked with the producer and taught something like \"It's an IP known by the public, there's two names we can put on the poster and we have a reason to put girls in bikini in the trailers... That could do 80 million at the box-office!\". Then the movie got green lit... and will probably fail.\n",
    "\n",
    "For every stupid movie made, there's always a weird commercial logic, who's been used to justify the investment and this logic is often based on hype, rumour and other subjective considerations. What if we used hard data to predict the success of a movie? Would we be more successful that a producer or the movie goers are so unpredictable that only a good judge the zeitgeist can predict if a movie will be successful.\n",
    "\n",
    "In this project, I will use a data set of 5000 movies, scrape from IMDB by https://www.kaggle.com/deepmatrix, to try to predict if a movie will make money at the box-office by looking at his cast, his director and others key characteristics. The project is divided in three sections: the first one, this article, explain my process for cleaning and getting the data; in the second one, I explore the data by looking at the distribution of the variables and the relations between them; in the third one, I test some statistical model with the objective to predict the revenue of a movie with the information available before the release of the movie.\n",
    "\n",
    "You can find the dataset here: https://www.kaggle.com/deepmatrix/imdb-5000-movie-dataset.  "
   ]
  },
  {
   "cell_type": "markdown",
   "metadata": {},
   "source": [
    "# Loading data"
   ]
  },
  {
   "cell_type": "markdown",
   "metadata": {},
   "source": [
    "First of all, I load the library that I will use in that notebook."
   ]
  },
  {
   "cell_type": "code",
   "execution_count": 40,
   "metadata": {
    "collapsed": false
   },
   "outputs": [],
   "source": [
    "library(dplyr)\n",
    "library(data.table)\n",
    "library(bit64)"
   ]
  },
  {
   "cell_type": "markdown",
   "metadata": {},
   "source": [
    "After I load the data in the data frame \"movies\", I look at the first five rows of the table  to get a sense of the data and at the list of the variables."
   ]
  },
  {
   "cell_type": "code",
   "execution_count": 2,
   "metadata": {
    "collapsed": false
   },
   "outputs": [],
   "source": [
    "movies <- fread(\"movie_metadata.csv\",na.strings=\"\",sep=\",\",stringsAsFactors = F)"
   ]
  },
  {
   "cell_type": "code",
   "execution_count": 3,
   "metadata": {
    "collapsed": false
   },
   "outputs": [
    {
     "data": {
      "text/html": [
       "<table>\n",
       "<thead><tr><th scope=col>color</th><th scope=col>director_name</th><th scope=col>num_critic_for_reviews</th><th scope=col>duration</th><th scope=col>director_facebook_likes</th><th scope=col>actor_3_facebook_likes</th><th scope=col>actor_2_name</th><th scope=col>actor_1_facebook_likes</th><th scope=col>gross</th><th scope=col>genres</th><th scope=col>...</th><th scope=col>num_user_for_reviews</th><th scope=col>language</th><th scope=col>country</th><th scope=col>content_rating</th><th scope=col>budget</th><th scope=col>title_year</th><th scope=col>actor_2_facebook_likes</th><th scope=col>imdb_score</th><th scope=col>aspect_ratio</th><th scope=col>movie_facebook_likes;</th></tr></thead>\n",
       "<tbody>\n",
       "\t<tr><td>Color                          </td><td>James Cameron                  </td><td>723                            </td><td>178                            </td><td>    0                          </td><td>  855                          </td><td>Joel David Moore               </td><td> 1000                          </td><td>760505847                      </td><td>Action|Adventure|Fantasy|Sci-Fi</td><td>...                            </td><td>3054                           </td><td>English                        </td><td>USA                            </td><td>PG-13                          </td><td>237000000                      </td><td>2009                           </td><td>  936                          </td><td>7.9                            </td><td>1.78                           </td><td>33000;                         </td></tr>\n",
       "\t<tr><td>Color                          </td><td>Gore Verbinski                 </td><td>302                            </td><td>169                            </td><td>  563                          </td><td> 1000                          </td><td>Orlando Bloom                  </td><td>40000                          </td><td>309404152                      </td><td>Action|Adventure|Fantasy       </td><td>...                            </td><td>1238                           </td><td>English                        </td><td>USA                            </td><td>PG-13                          </td><td>300000000                      </td><td>2007                           </td><td> 5000                          </td><td>7.1                            </td><td>2.35                           </td><td>0;                             </td></tr>\n",
       "\t<tr><td>Color                          </td><td>Sam Mendes                     </td><td>602                            </td><td>148                            </td><td>    0                          </td><td>  161                          </td><td>Rory Kinnear                   </td><td>11000                          </td><td>200074175                      </td><td>Action|Adventure|Thriller      </td><td>...                            </td><td> 994                           </td><td>English                        </td><td>UK                             </td><td>PG-13                          </td><td>245000000                      </td><td>2015                           </td><td>  393                          </td><td>6.8                            </td><td>2.35                           </td><td>85000;                         </td></tr>\n",
       "\t<tr><td>Color                          </td><td>Christopher Nolan              </td><td>813                            </td><td>164                            </td><td>22000                          </td><td>23000                          </td><td>Christian Bale                 </td><td>27000                          </td><td>448130642                      </td><td>Action|Thriller                </td><td>...                            </td><td>2701                           </td><td>English                        </td><td>USA                            </td><td>PG-13                          </td><td>250000000                      </td><td>2012                           </td><td>23000                          </td><td>8.5                            </td><td>2.35                           </td><td>164000;                        </td></tr>\n",
       "\t<tr><td>NA                             </td><td>Doug Walker                    </td><td> NA                            </td><td> NA                            </td><td>  131                          </td><td>   NA                          </td><td>Rob Walker                     </td><td>  131                          </td><td>       NA                      </td><td>Documentary                    </td><td>...                            </td><td>  NA                           </td><td>NA                             </td><td>NA                             </td><td>NA                             </td><td>       NA                      </td><td>  NA                           </td><td>   12                          </td><td>7.1                            </td><td>  NA                           </td><td>0;                             </td></tr>\n",
       "\t<tr><td>Color                          </td><td>Andrew Stanton                 </td><td>462                            </td><td>132                            </td><td>  475                          </td><td>  530                          </td><td>Samantha Morton                </td><td>  640                          </td><td> 73058679                      </td><td>Action|Adventure|Sci-Fi        </td><td>...                            </td><td> 738                           </td><td>English                        </td><td>USA                            </td><td>PG-13                          </td><td>263700000                      </td><td>2012                           </td><td>  632                          </td><td>6.6                            </td><td>2.35                           </td><td>24000;                         </td></tr>\n",
       "</tbody>\n",
       "</table>\n"
      ],
      "text/latex": [
       "\\begin{tabular}{r|llllllllllllllllllllllllllll}\n",
       " color & director\\_name & num\\_critic\\_for\\_reviews & duration & director\\_facebook\\_likes & actor\\_3\\_facebook\\_likes & actor\\_2\\_name & actor\\_1\\_facebook\\_likes & gross & genres & ... & num\\_user\\_for\\_reviews & language & country & content\\_rating & budget & title\\_year & actor\\_2\\_facebook\\_likes & imdb\\_score & aspect\\_ratio & movie\\_facebook\\_likes;\\\\\n",
       "\\hline\n",
       "\t Color                                                         & James Cameron                                                 & 723                                                           & 178                                                           &     0                                                         &   855                                                         & Joel David Moore                                              &  1000                                                         & 760505847                                                     & Action\\textbar{}Adventure\\textbar{}Fantasy\\textbar{}Sci-Fi & ...                                                           & 3054                                                          & English                                                       & USA                                                           & PG-13                                                         & 237000000                                                     & 2009                                                          &   936                                                         & 7.9                                                           & 1.78                                                          & 33000;                                                       \\\\\n",
       "\t Color                                               & Gore Verbinski                                      & 302                                                 & 169                                                 &   563                                               &  1000                                               & Orlando Bloom                                       & 40000                                               & 309404152                                           & Action\\textbar{}Adventure\\textbar{}Fantasy        & ...                                                 & 1238                                                & English                                             & USA                                                 & PG-13                                               & 300000000                                           & 2007                                                &  5000                                               & 7.1                                                 & 2.35                                                & 0;                                                 \\\\\n",
       "\t Color                                               & Sam Mendes                                          & 602                                                 & 148                                                 &     0                                               &   161                                               & Rory Kinnear                                        & 11000                                               & 200074175                                           & Action\\textbar{}Adventure\\textbar{}Thriller       & ...                                                 &  994                                                & English                                             & UK                                                  & PG-13                                               & 245000000                                           & 2015                                                &   393                                               & 6.8                                                 & 2.35                                                & 85000;                                             \\\\\n",
       "\t Color                                     & Christopher Nolan                         & 813                                       & 164                                       & 22000                                     & 23000                                     & Christian Bale                            & 27000                                     & 448130642                                 & Action\\textbar{}Thriller                 & ...                                       & 2701                                      & English                                   & USA                                       & PG-13                                     & 250000000                                 & 2012                                      & 23000                                     & 8.5                                       & 2.35                                      & 164000;                                  \\\\\n",
       "\t NA                              & Doug Walker                     &  NA                             &  NA                             &   131                           &    NA                           & Rob Walker                      &   131                           &        NA                       & Documentary                     & ...                             &   NA                            & NA                              & NA                              & NA                              &        NA                       &   NA                            &    12                           & 7.1                             &   NA                            & 0;                             \\\\\n",
       "\t Color                                               & Andrew Stanton                                      & 462                                                 & 132                                                 &   475                                               &   530                                               & Samantha Morton                                     &   640                                               &  73058679                                           & Action\\textbar{}Adventure\\textbar{}Sci-Fi         & ...                                                 &  738                                                & English                                             & USA                                                 & PG-13                                               & 263700000                                           & 2012                                                &   632                                               & 6.6                                                 & 2.35                                                & 24000;                                             \\\\\n",
       "\\end{tabular}\n"
      ],
      "text/markdown": [
       "\n",
       "color | director_name | num_critic_for_reviews | duration | director_facebook_likes | actor_3_facebook_likes | actor_2_name | actor_1_facebook_likes | gross | genres | ... | num_user_for_reviews | language | country | content_rating | budget | title_year | actor_2_facebook_likes | imdb_score | aspect_ratio | movie_facebook_likes; | \n",
       "|---|---|---|---|---|---|\n",
       "| Color                           | James Cameron                   | 723                             | 178                             |     0                           |   855                           | Joel David Moore                |  1000                           | 760505847                       | Action|Adventure|Fantasy|Sci-Fi | ...                             | 3054                            | English                         | USA                             | PG-13                           | 237000000                       | 2009                            |   936                           | 7.9                             | 1.78                            | 33000;                          | \n",
       "| Color                           | Gore Verbinski                  | 302                             | 169                             |   563                           |  1000                           | Orlando Bloom                   | 40000                           | 309404152                       | Action|Adventure|Fantasy        | ...                             | 1238                            | English                         | USA                             | PG-13                           | 300000000                       | 2007                            |  5000                           | 7.1                             | 2.35                            | 0;                              | \n",
       "| Color                           | Sam Mendes                      | 602                             | 148                             |     0                           |   161                           | Rory Kinnear                    | 11000                           | 200074175                       | Action|Adventure|Thriller       | ...                             |  994                            | English                         | UK                              | PG-13                           | 245000000                       | 2015                            |   393                           | 6.8                             | 2.35                            | 85000;                          | \n",
       "| Color                           | Christopher Nolan               | 813                             | 164                             | 22000                           | 23000                           | Christian Bale                  | 27000                           | 448130642                       | Action|Thriller                 | ...                             | 2701                            | English                         | USA                             | PG-13                           | 250000000                       | 2012                            | 23000                           | 8.5                             | 2.35                            | 164000;                         | \n",
       "| NA                              | Doug Walker                     |  NA                             |  NA                             |   131                           |    NA                           | Rob Walker                      |   131                           |        NA                       | Documentary                     | ...                             |   NA                            | NA                              | NA                              | NA                              |        NA                       |   NA                            |    12                           | 7.1                             |   NA                            | 0;                              | \n",
       "| Color                           | Andrew Stanton                  | 462                             | 132                             |   475                           |   530                           | Samantha Morton                 |   640                           |  73058679                       | Action|Adventure|Sci-Fi         | ...                             |  738                            | English                         | USA                             | PG-13                           | 263700000                       | 2012                            |   632                           | 6.6                             | 2.35                            | 24000;                          | \n",
       "\n",
       "\n"
      ],
      "text/plain": [
       "  color director_name     num_critic_for_reviews duration\n",
       "1 Color James Cameron     723                    178     \n",
       "2 Color Gore Verbinski    302                    169     \n",
       "3 Color Sam Mendes        602                    148     \n",
       "4 Color Christopher Nolan 813                    164     \n",
       "5 NA    Doug Walker        NA                     NA     \n",
       "6 Color Andrew Stanton    462                    132     \n",
       "  director_facebook_likes actor_3_facebook_likes actor_2_name    \n",
       "1     0                     855                  Joel David Moore\n",
       "2   563                    1000                  Orlando Bloom   \n",
       "3     0                     161                  Rory Kinnear    \n",
       "4 22000                   23000                  Christian Bale  \n",
       "5   131                      NA                  Rob Walker      \n",
       "6   475                     530                  Samantha Morton \n",
       "  actor_1_facebook_likes gross     genres                          ...\n",
       "1  1000                  760505847 Action|Adventure|Fantasy|Sci-Fi ...\n",
       "2 40000                  309404152 Action|Adventure|Fantasy        ...\n",
       "3 11000                  200074175 Action|Adventure|Thriller       ...\n",
       "4 27000                  448130642 Action|Thriller                 ...\n",
       "5   131                         NA Documentary                     ...\n",
       "6   640                   73058679 Action|Adventure|Sci-Fi         ...\n",
       "  num_user_for_reviews language country content_rating budget    title_year\n",
       "1 3054                 English  USA     PG-13          237000000 2009      \n",
       "2 1238                 English  USA     PG-13          300000000 2007      \n",
       "3  994                 English  UK      PG-13          245000000 2015      \n",
       "4 2701                 English  USA     PG-13          250000000 2012      \n",
       "5   NA                 NA       NA      NA                    NA   NA      \n",
       "6  738                 English  USA     PG-13          263700000 2012      \n",
       "  actor_2_facebook_likes imdb_score aspect_ratio movie_facebook_likes;\n",
       "1   936                  7.9        1.78         33000;               \n",
       "2  5000                  7.1        2.35         0;                   \n",
       "3   393                  6.8        2.35         85000;               \n",
       "4 23000                  8.5        2.35         164000;              \n",
       "5    12                  7.1          NA         0;                   \n",
       "6   632                  6.6        2.35         24000;               "
      ]
     },
     "metadata": {},
     "output_type": "display_data"
    }
   ],
   "source": [
    "head(movies)"
   ]
  },
  {
   "cell_type": "code",
   "execution_count": 4,
   "metadata": {
    "collapsed": false
   },
   "outputs": [
    {
     "name": "stdout",
     "output_type": "stream",
     "text": [
      "Classes 'data.table' and 'data.frame':\t5043 obs. of  28 variables:\n",
      " $ color                    : chr  \"Color\" \"Color\" \"Color\" \"Color\" ...\n",
      " $ director_name            : chr  \"James Cameron\" \"Gore Verbinski\" \"Sam Mendes\" \"Christopher Nolan\" ...\n",
      " $ num_critic_for_reviews   : int  723 302 602 813 NA 462 392 324 635 375 ...\n",
      " $ duration                 : int  178 169 148 164 NA 132 156 100 141 153 ...\n",
      " $ director_facebook_likes  : int  0 563 0 22000 131 475 0 15 0 282 ...\n",
      " $ actor_3_facebook_likes   : int  855 1000 161 23000 NA 530 4000 284 19000 10000 ...\n",
      " $ actor_2_name             : chr  \"Joel David Moore\" \"Orlando Bloom\" \"Rory Kinnear\" \"Christian Bale\" ...\n",
      " $ actor_1_facebook_likes   : int  1000 40000 11000 27000 131 640 24000 799 26000 25000 ...\n",
      " $ gross                    : int  760505847 309404152 200074175 448130642 NA 73058679 336530303 200807262 458991599 301956980 ...\n",
      " $ genres                   : chr  \"Action|Adventure|Fantasy|Sci-Fi\" \"Action|Adventure|Fantasy\" \"Action|Adventure|Thriller\" \"Action|Thriller\" ...\n",
      " $ actor_1_name             : chr  \"CCH Pounder\" \"Johnny Depp\" \"Christoph Waltz\" \"Tom Hardy\" ...\n",
      " $ movie_title              : chr  \"AvatarÂ \" \"Pirates of the Caribbean: At World's End \" \"SpectreÂ \" \"The Dark Knight RisesÂ \" ...\n",
      " $ num_voted_users          : int  886204 471220 275868 1144337 8 212204 383056 294810 462669 321795 ...\n",
      " $ cast_total_facebook_likes: int  4834 48350 11700 106759 143 1873 46055 2036 92000 58753 ...\n",
      " $ actor_3_name             : chr  \"Wes Studi\" \"Jack Davenport\" \"Stephanie Sigman\" \"Joseph Gordon-Levitt\" ...\n",
      " $ facenumber_in_poster     : int  0 0 1 0 0 1 0 1 4 3 ...\n",
      " $ plot_keywords            : chr  \"avatar|future|marine|native|paraplegic\" \"goddess|marriage ceremony|marriage proposal|pirate|singapore\" \"bomb|espionage|sequel|spy|terrorist\" \"deception|imprisonment|lawlessness|police officer|terrorist plot\" ...\n",
      " $ movie_imdb_link          : chr  \"http://www.imdb.com/title/tt0499549/?ref_=fn_tt_tt_1\" \"http://www.imdb.com/title/tt0449088/?ref_=fn_tt_tt_1\" \"http://www.imdb.com/title/tt2379713/?ref_=fn_tt_tt_1\" \"http://www.imdb.com/title/tt1345836/?ref_=fn_tt_tt_1\" ...\n",
      " $ num_user_for_reviews     : int  3054 1238 994 2701 NA 738 1902 387 1117 973 ...\n",
      " $ language                 : chr  \"English\" \"English\" \"English\" \"English\" ...\n",
      " $ country                  : chr  \"USA\" \"USA\" \"UK\" \"USA\" ...\n",
      " $ content_rating           : chr  \"PG-13\" \"PG-13\" \"PG-13\" \"PG-13\" ...\n",
      " $ budget                   :Class 'integer64'  num [1:5043] 1.17e-315 1.48e-315 1.21e-315 1.24e-315 0.00 ...\n",
      " $ title_year               : int  2009 2007 2015 2012 NA 2012 2007 2010 2015 2009 ...\n",
      " $ actor_2_facebook_likes   : int  936 5000 393 23000 12 632 11000 553 21000 11000 ...\n",
      " $ imdb_score               : num  7.9 7.1 6.8 8.5 7.1 6.6 6.2 7.8 7.5 7.5 ...\n",
      " $ aspect_ratio             : num  1.78 2.35 2.35 2.35 NA 2.35 2.35 1.85 2.35 2.35 ...\n",
      " $ movie_facebook_likes;    : chr  \"33000;\" \"0;\" \"85000;\" \"164000;\" ...\n",
      " - attr(*, \".internal.selfref\")=<externalptr> \n"
     ]
    }
   ],
   "source": [
    "str(movies)"
   ]
  },
  {
   "cell_type": "markdown",
   "metadata": {},
   "source": [
    "# Formatting data\n",
    "\n",
    "The end line character \";\", used in the JSON file containing the data originally, is included in the string \"movie_facebook_likes\". Since that variable is a numeric variable, I have to delet that character and convert the variable to an integer."
   ]
  },
  {
   "cell_type": "code",
   "execution_count": 5,
   "metadata": {
    "collapsed": false
   },
   "outputs": [
    {
     "data": {
      "text/html": [
       "<ol class=list-inline>\n",
       "\t<li>'33000;'</li>\n",
       "\t<li>'0;'</li>\n",
       "\t<li>'85000;'</li>\n",
       "\t<li>'164000;'</li>\n",
       "\t<li>'0;'</li>\n",
       "\t<li>'24000;'</li>\n",
       "</ol>\n"
      ],
      "text/latex": [
       "\\begin{enumerate*}\n",
       "\\item '33000;'\n",
       "\\item '0;'\n",
       "\\item '85000;'\n",
       "\\item '164000;'\n",
       "\\item '0;'\n",
       "\\item '24000;'\n",
       "\\end{enumerate*}\n"
      ],
      "text/markdown": [
       "1. '33000;'\n",
       "2. '0;'\n",
       "3. '85000;'\n",
       "4. '164000;'\n",
       "5. '0;'\n",
       "6. '24000;'\n",
       "\n",
       "\n"
      ],
      "text/plain": [
       "[1] \"33000;\"  \"0;\"      \"85000;\"  \"164000;\" \"0;\"      \"24000;\" "
      ]
     },
     "metadata": {},
     "output_type": "display_data"
    },
    {
     "data": {
      "text/html": [
       "<ol class=list-inline>\n",
       "\t<li>'33000'</li>\n",
       "\t<li>'0'</li>\n",
       "\t<li>'85000'</li>\n",
       "\t<li>'164000'</li>\n",
       "\t<li>'0'</li>\n",
       "\t<li>'24000'</li>\n",
       "</ol>\n"
      ],
      "text/latex": [
       "\\begin{enumerate*}\n",
       "\\item '33000'\n",
       "\\item '0'\n",
       "\\item '85000'\n",
       "\\item '164000'\n",
       "\\item '0'\n",
       "\\item '24000'\n",
       "\\end{enumerate*}\n"
      ],
      "text/markdown": [
       "1. '33000'\n",
       "2. '0'\n",
       "3. '85000'\n",
       "4. '164000'\n",
       "5. '0'\n",
       "6. '24000'\n",
       "\n",
       "\n"
      ],
      "text/plain": [
       "[1] \"33000\"  \"0\"      \"85000\"  \"164000\" \"0\"      \"24000\" "
      ]
     },
     "metadata": {},
     "output_type": "display_data"
    }
   ],
   "source": [
    "head(movies$movie_facebook_likes)\n",
    "movies$movie_facebook_likes<-substr(movies$movie_facebook_likes,1,nchar(movies$movie_facebook_likes)-1)\n",
    "head(movies$movie_facebook_likes)"
   ]
  },
  {
   "cell_type": "code",
   "execution_count": 6,
   "metadata": {
    "collapsed": false
   },
   "outputs": [],
   "source": [
    "col_drop<-\"movie_facebook_likes;\"\n",
    "movies<-movies[,(col_drop):=NULL]"
   ]
  },
  {
   "cell_type": "code",
   "execution_count": 7,
   "metadata": {
    "collapsed": false
   },
   "outputs": [
    {
     "name": "stderr",
     "output_type": "stream",
     "text": [
      "Warning message in eval(expr, envir, enclos):\n",
      "\"NAs introduits lors de la conversion automatique\""
     ]
    },
    {
     "name": "stdout",
     "output_type": "stream",
     "text": [
      "Classes 'data.table' and 'data.frame':\t5043 obs. of  28 variables:\n",
      " $ color                    : chr  \"Color\" \"Color\" \"Color\" \"Color\" ...\n",
      " $ director_name            : chr  \"James Cameron\" \"Gore Verbinski\" \"Sam Mendes\" \"Christopher Nolan\" ...\n",
      " $ num_critic_for_reviews   : int  723 302 602 813 NA 462 392 324 635 375 ...\n",
      " $ duration                 : int  178 169 148 164 NA 132 156 100 141 153 ...\n",
      " $ director_facebook_likes  : int  0 563 0 22000 131 475 0 15 0 282 ...\n",
      " $ actor_3_facebook_likes   : int  855 1000 161 23000 NA 530 4000 284 19000 10000 ...\n",
      " $ actor_2_name             : chr  \"Joel David Moore\" \"Orlando Bloom\" \"Rory Kinnear\" \"Christian Bale\" ...\n",
      " $ actor_1_facebook_likes   : int  1000 40000 11000 27000 131 640 24000 799 26000 25000 ...\n",
      " $ gross                    : int  760505847 309404152 200074175 448130642 NA 73058679 336530303 200807262 458991599 301956980 ...\n",
      " $ genres                   : chr  \"Action|Adventure|Fantasy|Sci-Fi\" \"Action|Adventure|Fantasy\" \"Action|Adventure|Thriller\" \"Action|Thriller\" ...\n",
      " $ actor_1_name             : chr  \"CCH Pounder\" \"Johnny Depp\" \"Christoph Waltz\" \"Tom Hardy\" ...\n",
      " $ movie_title              : chr  \"AvatarÂ \" \"Pirates of the Caribbean: At World's End \" \"SpectreÂ \" \"The Dark Knight RisesÂ \" ...\n",
      " $ num_voted_users          : int  886204 471220 275868 1144337 8 212204 383056 294810 462669 321795 ...\n",
      " $ cast_total_facebook_likes: int  4834 48350 11700 106759 143 1873 46055 2036 92000 58753 ...\n",
      " $ actor_3_name             : chr  \"Wes Studi\" \"Jack Davenport\" \"Stephanie Sigman\" \"Joseph Gordon-Levitt\" ...\n",
      " $ facenumber_in_poster     : int  0 0 1 0 0 1 0 1 4 3 ...\n",
      " $ plot_keywords            : chr  \"avatar|future|marine|native|paraplegic\" \"goddess|marriage ceremony|marriage proposal|pirate|singapore\" \"bomb|espionage|sequel|spy|terrorist\" \"deception|imprisonment|lawlessness|police officer|terrorist plot\" ...\n",
      " $ movie_imdb_link          : chr  \"http://www.imdb.com/title/tt0499549/?ref_=fn_tt_tt_1\" \"http://www.imdb.com/title/tt0449088/?ref_=fn_tt_tt_1\" \"http://www.imdb.com/title/tt2379713/?ref_=fn_tt_tt_1\" \"http://www.imdb.com/title/tt1345836/?ref_=fn_tt_tt_1\" ...\n",
      " $ num_user_for_reviews     : int  3054 1238 994 2701 NA 738 1902 387 1117 973 ...\n",
      " $ language                 : chr  \"English\" \"English\" \"English\" \"English\" ...\n",
      " $ country                  : chr  \"USA\" \"USA\" \"UK\" \"USA\" ...\n",
      " $ content_rating           : chr  \"PG-13\" \"PG-13\" \"PG-13\" \"PG-13\" ...\n",
      " $ budget                   :Class 'integer64'  num [1:5043] 1.17e-315 1.48e-315 1.21e-315 1.24e-315 0.00 ...\n",
      " $ title_year               : int  2009 2007 2015 2012 NA 2012 2007 2010 2015 2009 ...\n",
      " $ actor_2_facebook_likes   : int  936 5000 393 23000 12 632 11000 553 21000 11000 ...\n",
      " $ imdb_score               : num  7.9 7.1 6.8 8.5 7.1 6.6 6.2 7.8 7.5 7.5 ...\n",
      " $ aspect_ratio             : num  1.78 2.35 2.35 2.35 NA 2.35 2.35 1.85 2.35 2.35 ...\n",
      " $ movie_facebook_likes     : int  33000 0 85000 164000 0 24000 0 29000 118000 10000 ...\n",
      " - attr(*, \".internal.selfref\")=<externalptr> \n"
     ]
    }
   ],
   "source": [
    "movies$movie_facebook_likes<-as.integer(movies$movie_facebook_likes)\n",
    "str(movies)"
   ]
  },
  {
   "cell_type": "markdown",
   "metadata": {},
   "source": [
    "In the table above, each movie is in only one row and each variable are in his own column except for the column \"genres\" which contain too much information. "
   ]
  },
  {
   "cell_type": "code",
   "execution_count": 8,
   "metadata": {
    "collapsed": false
   },
   "outputs": [
    {
     "data": {
      "text/html": [
       "<ol class=list-inline>\n",
       "\t<li>'Action|Adventure|Fantasy|Sci-Fi'</li>\n",
       "\t<li>'Action|Adventure|Fantasy'</li>\n",
       "\t<li>'Action|Adventure|Thriller'</li>\n",
       "\t<li>'Action|Thriller'</li>\n",
       "\t<li>'Documentary'</li>\n",
       "\t<li>'Action|Adventure|Sci-Fi'</li>\n",
       "\t<li>'Action|Adventure|Romance'</li>\n",
       "\t<li>'Adventure|Animation|Comedy|Family|Fantasy|Musical|Romance'</li>\n",
       "\t<li>'Adventure|Family|Fantasy|Mystery'</li>\n",
       "\t<li>'Action|Adventure'</li>\n",
       "</ol>\n"
      ],
      "text/latex": [
       "\\begin{enumerate*}\n",
       "\\item 'Action\\textbar{}Adventure\\textbar{}Fantasy\\textbar{}Sci-Fi'\n",
       "\\item 'Action\\textbar{}Adventure\\textbar{}Fantasy'\n",
       "\\item 'Action\\textbar{}Adventure\\textbar{}Thriller'\n",
       "\\item 'Action\\textbar{}Thriller'\n",
       "\\item 'Documentary'\n",
       "\\item 'Action\\textbar{}Adventure\\textbar{}Sci-Fi'\n",
       "\\item 'Action\\textbar{}Adventure\\textbar{}Romance'\n",
       "\\item 'Adventure\\textbar{}Animation\\textbar{}Comedy\\textbar{}Family\\textbar{}Fantasy\\textbar{}Musical\\textbar{}Romance'\n",
       "\\item 'Adventure\\textbar{}Family\\textbar{}Fantasy\\textbar{}Mystery'\n",
       "\\item 'Action\\textbar{}Adventure'\n",
       "\\end{enumerate*}\n"
      ],
      "text/markdown": [
       "1. 'Action|Adventure|Fantasy|Sci-Fi'\n",
       "2. 'Action|Adventure|Fantasy'\n",
       "3. 'Action|Adventure|Thriller'\n",
       "4. 'Action|Thriller'\n",
       "5. 'Documentary'\n",
       "6. 'Action|Adventure|Sci-Fi'\n",
       "7. 'Action|Adventure|Romance'\n",
       "8. 'Adventure|Animation|Comedy|Family|Fantasy|Musical|Romance'\n",
       "9. 'Adventure|Family|Fantasy|Mystery'\n",
       "10. 'Action|Adventure'\n",
       "\n",
       "\n"
      ],
      "text/plain": [
       " [1] \"Action|Adventure|Fantasy|Sci-Fi\"                          \n",
       " [2] \"Action|Adventure|Fantasy\"                                 \n",
       " [3] \"Action|Adventure|Thriller\"                                \n",
       " [4] \"Action|Thriller\"                                          \n",
       " [5] \"Documentary\"                                              \n",
       " [6] \"Action|Adventure|Sci-Fi\"                                  \n",
       " [7] \"Action|Adventure|Romance\"                                 \n",
       " [8] \"Adventure|Animation|Comedy|Family|Fantasy|Musical|Romance\"\n",
       " [9] \"Adventure|Family|Fantasy|Mystery\"                         \n",
       "[10] \"Action|Adventure\"                                         "
      ]
     },
     "metadata": {},
     "output_type": "display_data"
    }
   ],
   "source": [
    "head(unique(movies$genres), n=10)"
   ]
  },
  {
   "cell_type": "markdown",
   "metadata": {},
   "source": [
    "To respect the principles of \"tidy data\" and facilitate the readability of the table, I'll have to split this column in multiple ones, one for each genre of movies listed in the variable \"genres\".   "
   ]
  },
  {
   "cell_type": "code",
   "execution_count": 9,
   "metadata": {
    "collapsed": true
   },
   "outputs": [],
   "source": [
    "library(splitstackshape)\n",
    "movies<-concat.split.expanded(movies, \"genres\", sep=\"|\", type=\"character\",fill = 0)"
   ]
  },
  {
   "cell_type": "code",
   "execution_count": 10,
   "metadata": {
    "collapsed": false
   },
   "outputs": [
    {
     "data": {
      "text/html": [
       "<table>\n",
       "<thead><tr><th scope=col>genres</th><th scope=col>genres_Action</th><th scope=col>genres_Adventure</th><th scope=col>genres_Animation</th><th scope=col>genres_Biography</th><th scope=col>genres_Comedy</th><th scope=col>genres_Crime</th><th scope=col>genres_Documentary</th><th scope=col>genres_Drama</th><th scope=col>genres_Family</th><th scope=col>...</th><th scope=col>genres_Mystery</th><th scope=col>genres_News</th><th scope=col>genres_Reality-TV</th><th scope=col>genres_Romance</th><th scope=col>genres_Sci-Fi</th><th scope=col>genres_Short</th><th scope=col>genres_Sport</th><th scope=col>genres_Thriller</th><th scope=col>genres_War</th><th scope=col>genres_Western</th></tr></thead>\n",
       "<tbody>\n",
       "\t<tr><td>Action|Adventure|Fantasy|Sci-Fi</td><td>1                              </td><td>1                              </td><td>0                              </td><td>0                              </td><td>0                              </td><td>0                              </td><td>0                              </td><td>0                              </td><td>0                              </td><td>...                            </td><td>0                              </td><td>0                              </td><td>0                              </td><td>0                              </td><td>1                              </td><td>0                              </td><td>0                              </td><td>0                              </td><td>0                              </td><td>0                              </td></tr>\n",
       "\t<tr><td>Action|Adventure|Fantasy       </td><td>1                              </td><td>1                              </td><td>0                              </td><td>0                              </td><td>0                              </td><td>0                              </td><td>0                              </td><td>0                              </td><td>0                              </td><td>...                            </td><td>0                              </td><td>0                              </td><td>0                              </td><td>0                              </td><td>0                              </td><td>0                              </td><td>0                              </td><td>0                              </td><td>0                              </td><td>0                              </td></tr>\n",
       "\t<tr><td>Action|Adventure|Thriller      </td><td>1                              </td><td>1                              </td><td>0                              </td><td>0                              </td><td>0                              </td><td>0                              </td><td>0                              </td><td>0                              </td><td>0                              </td><td>...                            </td><td>0                              </td><td>0                              </td><td>0                              </td><td>0                              </td><td>0                              </td><td>0                              </td><td>0                              </td><td>1                              </td><td>0                              </td><td>0                              </td></tr>\n",
       "\t<tr><td>Action|Thriller                </td><td>1                              </td><td>0                              </td><td>0                              </td><td>0                              </td><td>0                              </td><td>0                              </td><td>0                              </td><td>0                              </td><td>0                              </td><td>...                            </td><td>0                              </td><td>0                              </td><td>0                              </td><td>0                              </td><td>0                              </td><td>0                              </td><td>0                              </td><td>1                              </td><td>0                              </td><td>0                              </td></tr>\n",
       "\t<tr><td>Documentary                    </td><td>0                              </td><td>0                              </td><td>0                              </td><td>0                              </td><td>0                              </td><td>0                              </td><td>1                              </td><td>0                              </td><td>0                              </td><td>...                            </td><td>0                              </td><td>0                              </td><td>0                              </td><td>0                              </td><td>0                              </td><td>0                              </td><td>0                              </td><td>0                              </td><td>0                              </td><td>0                              </td></tr>\n",
       "\t<tr><td>Action|Adventure|Sci-Fi        </td><td>1                              </td><td>1                              </td><td>0                              </td><td>0                              </td><td>0                              </td><td>0                              </td><td>0                              </td><td>0                              </td><td>0                              </td><td>...                            </td><td>0                              </td><td>0                              </td><td>0                              </td><td>0                              </td><td>1                              </td><td>0                              </td><td>0                              </td><td>0                              </td><td>0                              </td><td>0                              </td></tr>\n",
       "</tbody>\n",
       "</table>\n"
      ],
      "text/latex": [
       "\\begin{tabular}{r|lllllllllllllllllllllllllll}\n",
       " genres & genres\\_Action & genres\\_Adventure & genres\\_Animation & genres\\_Biography & genres\\_Comedy & genres\\_Crime & genres\\_Documentary & genres\\_Drama & genres\\_Family & ... & genres\\_Mystery & genres\\_News & genres\\_Reality-TV & genres\\_Romance & genres\\_Sci-Fi & genres\\_Short & genres\\_Sport & genres\\_Thriller & genres\\_War & genres\\_Western\\\\\n",
       "\\hline\n",
       "\t Action\\textbar{}Adventure\\textbar{}Fantasy\\textbar{}Sci-Fi & 1                                                             & 1                                                             & 0                                                             & 0                                                             & 0                                                             & 0                                                             & 0                                                             & 0                                                             & 0                                                             & ...                                                           & 0                                                             & 0                                                             & 0                                                             & 0                                                             & 1                                                             & 0                                                             & 0                                                             & 0                                                             & 0                                                             & 0                                                            \\\\\n",
       "\t Action\\textbar{}Adventure\\textbar{}Fantasy        & 1                                                   & 1                                                   & 0                                                   & 0                                                   & 0                                                   & 0                                                   & 0                                                   & 0                                                   & 0                                                   & ...                                                 & 0                                                   & 0                                                   & 0                                                   & 0                                                   & 0                                                   & 0                                                   & 0                                                   & 0                                                   & 0                                                   & 0                                                  \\\\\n",
       "\t Action\\textbar{}Adventure\\textbar{}Thriller       & 1                                                   & 1                                                   & 0                                                   & 0                                                   & 0                                                   & 0                                                   & 0                                                   & 0                                                   & 0                                                   & ...                                                 & 0                                                   & 0                                                   & 0                                                   & 0                                                   & 0                                                   & 0                                                   & 0                                                   & 1                                                   & 0                                                   & 0                                                  \\\\\n",
       "\t Action\\textbar{}Thriller                 & 1                                         & 0                                         & 0                                         & 0                                         & 0                                         & 0                                         & 0                                         & 0                                         & 0                                         & ...                                       & 0                                         & 0                                         & 0                                         & 0                                         & 0                                         & 0                                         & 0                                         & 1                                         & 0                                         & 0                                        \\\\\n",
       "\t Documentary                     & 0                               & 0                               & 0                               & 0                               & 0                               & 0                               & 1                               & 0                               & 0                               & ...                             & 0                               & 0                               & 0                               & 0                               & 0                               & 0                               & 0                               & 0                               & 0                               & 0                              \\\\\n",
       "\t Action\\textbar{}Adventure\\textbar{}Sci-Fi         & 1                                                   & 1                                                   & 0                                                   & 0                                                   & 0                                                   & 0                                                   & 0                                                   & 0                                                   & 0                                                   & ...                                                 & 0                                                   & 0                                                   & 0                                                   & 0                                                   & 1                                                   & 0                                                   & 0                                                   & 0                                                   & 0                                                   & 0                                                  \\\\\n",
       "\\end{tabular}\n"
      ],
      "text/markdown": [
       "\n",
       "genres | genres_Action | genres_Adventure | genres_Animation | genres_Biography | genres_Comedy | genres_Crime | genres_Documentary | genres_Drama | genres_Family | ... | genres_Mystery | genres_News | genres_Reality-TV | genres_Romance | genres_Sci-Fi | genres_Short | genres_Sport | genres_Thriller | genres_War | genres_Western | \n",
       "|---|---|---|---|---|---|\n",
       "| Action|Adventure|Fantasy|Sci-Fi | 1                               | 1                               | 0                               | 0                               | 0                               | 0                               | 0                               | 0                               | 0                               | ...                             | 0                               | 0                               | 0                               | 0                               | 1                               | 0                               | 0                               | 0                               | 0                               | 0                               | \n",
       "| Action|Adventure|Fantasy        | 1                               | 1                               | 0                               | 0                               | 0                               | 0                               | 0                               | 0                               | 0                               | ...                             | 0                               | 0                               | 0                               | 0                               | 0                               | 0                               | 0                               | 0                               | 0                               | 0                               | \n",
       "| Action|Adventure|Thriller       | 1                               | 1                               | 0                               | 0                               | 0                               | 0                               | 0                               | 0                               | 0                               | ...                             | 0                               | 0                               | 0                               | 0                               | 0                               | 0                               | 0                               | 1                               | 0                               | 0                               | \n",
       "| Action|Thriller                 | 1                               | 0                               | 0                               | 0                               | 0                               | 0                               | 0                               | 0                               | 0                               | ...                             | 0                               | 0                               | 0                               | 0                               | 0                               | 0                               | 0                               | 1                               | 0                               | 0                               | \n",
       "| Documentary                     | 0                               | 0                               | 0                               | 0                               | 0                               | 0                               | 1                               | 0                               | 0                               | ...                             | 0                               | 0                               | 0                               | 0                               | 0                               | 0                               | 0                               | 0                               | 0                               | 0                               | \n",
       "| Action|Adventure|Sci-Fi         | 1                               | 1                               | 0                               | 0                               | 0                               | 0                               | 0                               | 0                               | 0                               | ...                             | 0                               | 0                               | 0                               | 0                               | 1                               | 0                               | 0                               | 0                               | 0                               | 0                               | \n",
       "\n",
       "\n"
      ],
      "text/plain": [
       "  genres                          genres_Action genres_Adventure\n",
       "1 Action|Adventure|Fantasy|Sci-Fi 1             1               \n",
       "2 Action|Adventure|Fantasy        1             1               \n",
       "3 Action|Adventure|Thriller       1             1               \n",
       "4 Action|Thriller                 1             0               \n",
       "5 Documentary                     0             0               \n",
       "6 Action|Adventure|Sci-Fi         1             1               \n",
       "  genres_Animation genres_Biography genres_Comedy genres_Crime\n",
       "1 0                0                0             0           \n",
       "2 0                0                0             0           \n",
       "3 0                0                0             0           \n",
       "4 0                0                0             0           \n",
       "5 0                0                0             0           \n",
       "6 0                0                0             0           \n",
       "  genres_Documentary genres_Drama genres_Family ... genres_Mystery genres_News\n",
       "1 0                  0            0             ... 0              0          \n",
       "2 0                  0            0             ... 0              0          \n",
       "3 0                  0            0             ... 0              0          \n",
       "4 0                  0            0             ... 0              0          \n",
       "5 1                  0            0             ... 0              0          \n",
       "6 0                  0            0             ... 0              0          \n",
       "  genres_Reality-TV genres_Romance genres_Sci-Fi genres_Short genres_Sport\n",
       "1 0                 0              1             0            0           \n",
       "2 0                 0              0             0            0           \n",
       "3 0                 0              0             0            0           \n",
       "4 0                 0              0             0            0           \n",
       "5 0                 0              0             0            0           \n",
       "6 0                 0              1             0            0           \n",
       "  genres_Thriller genres_War genres_Western\n",
       "1 0               0          0             \n",
       "2 0               0          0             \n",
       "3 1               0          0             \n",
       "4 1               0          0             \n",
       "5 0               0          0             \n",
       "6 0               0          0             "
      ]
     },
     "metadata": {},
     "output_type": "display_data"
    }
   ],
   "source": [
    "col<- c(\"genres\", \"genres_Action\",\"genres_Adventure\",\"genres_Animation\",\"genres_Biography\",\"genres_Comedy\",\n",
    "        \"genres_Crime\",\"genres_Documentary\",\"genres_Drama\",\"genres_Family\",\"genres_Fantasy\",\"genres_Film-Noir\",\n",
    "        \"genres_Game-Show\",\"genres_History\",\"genres_Horror\",\"genres_Music\",\"genres_Musical\", \"genres_Mystery\",\n",
    "        \"genres_News\", \"genres_Reality-TV\",\"genres_Romance\",\"genres_Sci-Fi\",\"genres_Short\",\"genres_Sport\",\n",
    "        \"genres_Thriller\",\"genres_War\",\"genres_Western\")\n",
    "head(movies[,col, with=FALSE])"
   ]
  },
  {
   "cell_type": "markdown",
   "metadata": {},
   "source": [
    "Now that the table follows the conditions of a tidy data set, let's look at the variables in more details."
   ]
  },
  {
   "cell_type": "code",
   "execution_count": 11,
   "metadata": {
    "collapsed": false
   },
   "outputs": [
    {
     "name": "stdout",
     "output_type": "stream",
     "text": [
      "Classes 'data.table' and 'data.frame':\t5043 obs. of  54 variables:\n",
      " $ color                    : chr  \"Color\" \"Color\" \"Color\" \"Color\" ...\n",
      " $ director_name            : chr  \"James Cameron\" \"Gore Verbinski\" \"Sam Mendes\" \"Christopher Nolan\" ...\n",
      " $ num_critic_for_reviews   : int  723 302 602 813 NA 462 392 324 635 375 ...\n",
      " $ duration                 : int  178 169 148 164 NA 132 156 100 141 153 ...\n",
      " $ director_facebook_likes  : int  0 563 0 22000 131 475 0 15 0 282 ...\n",
      " $ actor_3_facebook_likes   : int  855 1000 161 23000 NA 530 4000 284 19000 10000 ...\n",
      " $ actor_2_name             : chr  \"Joel David Moore\" \"Orlando Bloom\" \"Rory Kinnear\" \"Christian Bale\" ...\n",
      " $ actor_1_facebook_likes   : int  1000 40000 11000 27000 131 640 24000 799 26000 25000 ...\n",
      " $ gross                    : int  760505847 309404152 200074175 448130642 NA 73058679 336530303 200807262 458991599 301956980 ...\n",
      " $ genres                   : chr  \"Action|Adventure|Fantasy|Sci-Fi\" \"Action|Adventure|Fantasy\" \"Action|Adventure|Thriller\" \"Action|Thriller\" ...\n",
      " $ actor_1_name             : chr  \"CCH Pounder\" \"Johnny Depp\" \"Christoph Waltz\" \"Tom Hardy\" ...\n",
      " $ movie_title              : chr  \"AvatarÂ \" \"Pirates of the Caribbean: At World's End \" \"SpectreÂ \" \"The Dark Knight RisesÂ \" ...\n",
      " $ num_voted_users          : int  886204 471220 275868 1144337 8 212204 383056 294810 462669 321795 ...\n",
      " $ cast_total_facebook_likes: int  4834 48350 11700 106759 143 1873 46055 2036 92000 58753 ...\n",
      " $ actor_3_name             : chr  \"Wes Studi\" \"Jack Davenport\" \"Stephanie Sigman\" \"Joseph Gordon-Levitt\" ...\n",
      " $ facenumber_in_poster     : int  0 0 1 0 0 1 0 1 4 3 ...\n",
      " $ plot_keywords            : chr  \"avatar|future|marine|native|paraplegic\" \"goddess|marriage ceremony|marriage proposal|pirate|singapore\" \"bomb|espionage|sequel|spy|terrorist\" \"deception|imprisonment|lawlessness|police officer|terrorist plot\" ...\n",
      " $ movie_imdb_link          : chr  \"http://www.imdb.com/title/tt0499549/?ref_=fn_tt_tt_1\" \"http://www.imdb.com/title/tt0449088/?ref_=fn_tt_tt_1\" \"http://www.imdb.com/title/tt2379713/?ref_=fn_tt_tt_1\" \"http://www.imdb.com/title/tt1345836/?ref_=fn_tt_tt_1\" ...\n",
      " $ num_user_for_reviews     : int  3054 1238 994 2701 NA 738 1902 387 1117 973 ...\n",
      " $ language                 : chr  \"English\" \"English\" \"English\" \"English\" ...\n",
      " $ country                  : chr  \"USA\" \"USA\" \"UK\" \"USA\" ...\n",
      " $ content_rating           : chr  \"PG-13\" \"PG-13\" \"PG-13\" \"PG-13\" ...\n",
      " $ budget                   :Class 'integer64'  num [1:5043] 1.17e-315 1.48e-315 1.21e-315 1.24e-315 0.00 ...\n",
      " $ title_year               : int  2009 2007 2015 2012 NA 2012 2007 2010 2015 2009 ...\n",
      " $ actor_2_facebook_likes   : int  936 5000 393 23000 12 632 11000 553 21000 11000 ...\n",
      " $ imdb_score               : num  7.9 7.1 6.8 8.5 7.1 6.6 6.2 7.8 7.5 7.5 ...\n",
      " $ aspect_ratio             : num  1.78 2.35 2.35 2.35 NA 2.35 2.35 1.85 2.35 2.35 ...\n",
      " $ movie_facebook_likes     : int  33000 0 85000 164000 0 24000 0 29000 118000 10000 ...\n",
      " $ genres_Action            : num  1 1 1 1 0 1 1 0 1 0 ...\n",
      " $ genres_Adventure         : num  1 1 1 0 0 1 1 1 1 1 ...\n",
      " $ genres_Animation         : num  0 0 0 0 0 0 0 1 0 0 ...\n",
      " $ genres_Biography         : num  0 0 0 0 0 0 0 0 0 0 ...\n",
      " $ genres_Comedy            : num  0 0 0 0 0 0 0 1 0 0 ...\n",
      " $ genres_Crime             : num  0 0 0 0 0 0 0 0 0 0 ...\n",
      " $ genres_Documentary       : num  0 0 0 0 1 0 0 0 0 0 ...\n",
      " $ genres_Drama             : num  0 0 0 0 0 0 0 0 0 0 ...\n",
      " $ genres_Family            : num  0 0 0 0 0 0 0 1 0 1 ...\n",
      " $ genres_Fantasy           : num  1 1 0 0 0 0 0 1 0 1 ...\n",
      " $ genres_Film-Noir         : num  0 0 0 0 0 0 0 0 0 0 ...\n",
      " $ genres_Game-Show         : num  0 0 0 0 0 0 0 0 0 0 ...\n",
      " $ genres_History           : num  0 0 0 0 0 0 0 0 0 0 ...\n",
      " $ genres_Horror            : num  0 0 0 0 0 0 0 0 0 0 ...\n",
      " $ genres_Music             : num  0 0 0 0 0 0 0 0 0 0 ...\n",
      " $ genres_Musical           : num  0 0 0 0 0 0 0 1 0 0 ...\n",
      " $ genres_Mystery           : num  0 0 0 0 0 0 0 0 0 1 ...\n",
      " $ genres_News              : num  0 0 0 0 0 0 0 0 0 0 ...\n",
      " $ genres_Reality-TV        : num  0 0 0 0 0 0 0 0 0 0 ...\n",
      " $ genres_Romance           : num  0 0 0 0 0 0 1 1 0 0 ...\n",
      " $ genres_Sci-Fi            : num  1 0 0 0 0 1 0 0 1 0 ...\n",
      " $ genres_Short             : num  0 0 0 0 0 0 0 0 0 0 ...\n",
      " $ genres_Sport             : num  0 0 0 0 0 0 0 0 0 0 ...\n",
      " $ genres_Thriller          : num  0 0 1 1 0 0 0 0 0 0 ...\n",
      " $ genres_War               : num  0 0 0 0 0 0 0 0 0 0 ...\n",
      " $ genres_Western           : num  0 0 0 0 0 0 0 0 0 0 ...\n",
      " - attr(*, \".internal.selfref\")=<externalptr> \n"
     ]
    }
   ],
   "source": [
    "str(movies)"
   ]
  },
  {
   "cell_type": "markdown",
   "metadata": {},
   "source": [
    "For this data set, I'll use the variable \"movie_imdb_link\" as a the principal key to identify an observation, since two movies can have the same value in all of the others variable. Also, I see two problems with this data set. First, there's a lot of missing values, so I'll have either to scrape them from IMDB, estimate them or delete those observations completely. Second, the formatting of the string in the column movie_title is weird..."
   ]
  },
  {
   "cell_type": "code",
   "execution_count": 12,
   "metadata": {
    "collapsed": false
   },
   "outputs": [
    {
     "data": {
      "text/html": [
       "<ol class=list-inline>\n",
       "\t<li>'AvatarÂ '</li>\n",
       "\t<li>'Pirates of the Caribbean: At World\\'s End '</li>\n",
       "\t<li>'SpectreÂ '</li>\n",
       "\t<li>'The Dark Knight RisesÂ '</li>\n",
       "\t<li>'Star Wars: Episode VII - The Force Awakens'</li>\n",
       "\t<li>'John CarterÂ '</li>\n",
       "</ol>\n"
      ],
      "text/latex": [
       "\\begin{enumerate*}\n",
       "\\item 'AvatarÂ '\n",
       "\\item 'Pirates of the Caribbean: At World\\textbackslash{}'s End '\n",
       "\\item 'SpectreÂ '\n",
       "\\item 'The Dark Knight RisesÂ '\n",
       "\\item 'Star Wars: Episode VII - The Force Awakens'\n",
       "\\item 'John CarterÂ '\n",
       "\\end{enumerate*}\n"
      ],
      "text/markdown": [
       "1. 'AvatarÂ '\n",
       "2. 'Pirates of the Caribbean: At World\\'s End '\n",
       "3. 'SpectreÂ '\n",
       "4. 'The Dark Knight RisesÂ '\n",
       "5. 'Star Wars: Episode VII - The Force Awakens'\n",
       "6. 'John CarterÂ '\n",
       "\n",
       "\n"
      ],
      "text/plain": [
       "[1] \"AvatarÂ \"                                  \n",
       "[2] \"Pirates of the Caribbean: At World's End \" \n",
       "[3] \"SpectreÂ \"                                 \n",
       "[4] \"The Dark Knight RisesÂ \"                   \n",
       "[5] \"Star Wars: Episode VII - The Force Awakens\"\n",
       "[6] \"John CarterÂ \"                             "
      ]
     },
     "metadata": {},
     "output_type": "display_data"
    }
   ],
   "source": [
    "head(movies$movie_title)"
   ]
  },
  {
   "cell_type": "markdown",
   "metadata": {},
   "source": [
    "While getting the data from IMDB, there must have been an encoding error. I'll have to delete the character \"Â\" at the end of each string."
   ]
  },
  {
   "cell_type": "code",
   "execution_count": 13,
   "metadata": {
    "collapsed": false
   },
   "outputs": [],
   "source": [
    "movies$movie_title<-sub(\"Â\", \"\", movies$movie_title)\n",
    "movies$movie_title<-sub(\" \", \"\", movies$movie_title)"
   ]
  },
  {
   "cell_type": "code",
   "execution_count": 14,
   "metadata": {
    "collapsed": false
   },
   "outputs": [
    {
     "data": {
      "text/html": [
       "<ol class=list-inline>\n",
       "\t<li>'Avatar '</li>\n",
       "\t<li>'Piratesof the Caribbean: At World\\'s End '</li>\n",
       "\t<li>'Spectre '</li>\n",
       "\t<li>'TheDark Knight Rises '</li>\n",
       "\t<li>'StarWars: Episode VII - The Force Awakens'</li>\n",
       "\t<li>'JohnCarter '</li>\n",
       "</ol>\n"
      ],
      "text/latex": [
       "\\begin{enumerate*}\n",
       "\\item 'Avatar '\n",
       "\\item 'Piratesof the Caribbean: At World\\textbackslash{}'s End '\n",
       "\\item 'Spectre '\n",
       "\\item 'TheDark Knight Rises '\n",
       "\\item 'StarWars: Episode VII - The Force Awakens'\n",
       "\\item 'JohnCarter '\n",
       "\\end{enumerate*}\n"
      ],
      "text/markdown": [
       "1. 'Avatar '\n",
       "2. 'Piratesof the Caribbean: At World\\'s End '\n",
       "3. 'Spectre '\n",
       "4. 'TheDark Knight Rises '\n",
       "5. 'StarWars: Episode VII - The Force Awakens'\n",
       "6. 'JohnCarter '\n",
       "\n",
       "\n"
      ],
      "text/plain": [
       "[1] \"Avatar \"                                  \n",
       "[2] \"Piratesof the Caribbean: At World's End \" \n",
       "[3] \"Spectre \"                                 \n",
       "[4] \"TheDark Knight Rises \"                    \n",
       "[5] \"StarWars: Episode VII - The Force Awakens\"\n",
       "[6] \"JohnCarter \"                              "
      ]
     },
     "metadata": {},
     "output_type": "display_data"
    }
   ],
   "source": [
    "head(movies$movie_title)"
   ]
  },
  {
   "cell_type": "markdown",
   "metadata": {},
   "source": [
    "# Missing values\n",
    "First, let's look at the number of missing values from the first variable \"color\". To do this, I have to replace some string with their correct value."
   ]
  },
  {
   "cell_type": "code",
   "execution_count": 17,
   "metadata": {
    "collapsed": false
   },
   "outputs": [
    {
     "data": {
      "text/html": [
       "<ol class=list-inline>\n",
       "\t<li>'Color'</li>\n",
       "\t<li>'NA'</li>\n",
       "\t<li>'\"Color'</li>\n",
       "\t<li>'Black and White'</li>\n",
       "\t<li>'\"'</li>\n",
       "\t<li>'\" Black and White'</li>\n",
       "</ol>\n"
      ],
      "text/latex": [
       "\\begin{enumerate*}\n",
       "\\item 'Color'\n",
       "\\item 'NA'\n",
       "\\item '\"Color'\n",
       "\\item 'Black and White'\n",
       "\\item '\"'\n",
       "\\item '\" Black and White'\n",
       "\\end{enumerate*}\n"
      ],
      "text/markdown": [
       "1. 'Color'\n",
       "2. 'NA'\n",
       "3. '\"Color'\n",
       "4. 'Black and White'\n",
       "5. '\"'\n",
       "6. '\" Black and White'\n",
       "\n",
       "\n"
      ],
      "text/plain": [
       "[1] \"Color\"              NA                   \"\\\"Color\"           \n",
       "[4] \"Black and White\"    \"\\\"\"                 \"\\\" Black and White\""
      ]
     },
     "metadata": {},
     "output_type": "display_data"
    }
   ],
   "source": [
    "unique(movies$color)"
   ]
  },
  {
   "cell_type": "code",
   "execution_count": 18,
   "metadata": {
    "collapsed": false
   },
   "outputs": [
    {
     "data": {
      "text/plain": [
       "\n",
       "                \" \" Black and White            \"Color   Black and White \n",
       "                1                 2                66               207 \n",
       "            Color \n",
       "             4749 "
      ]
     },
     "metadata": {},
     "output_type": "display_data"
    }
   ],
   "source": [
    "table(movies$color)"
   ]
  },
  {
   "cell_type": "code",
   "execution_count": 19,
   "metadata": {
    "collapsed": false
   },
   "outputs": [
    {
     "data": {
      "text/html": [
       "<ol class=list-inline>\n",
       "\t<li>'Color'</li>\n",
       "\t<li>'NA'</li>\n",
       "\t<li>'Black and White'</li>\n",
       "</ol>\n"
      ],
      "text/latex": [
       "\\begin{enumerate*}\n",
       "\\item 'Color'\n",
       "\\item 'NA'\n",
       "\\item 'Black and White'\n",
       "\\end{enumerate*}\n"
      ],
      "text/markdown": [
       "1. 'Color'\n",
       "2. 'NA'\n",
       "3. 'Black and White'\n",
       "\n",
       "\n"
      ],
      "text/plain": [
       "[1] \"Color\"           NA                \"Black and White\""
      ]
     },
     "metadata": {},
     "output_type": "display_data"
    }
   ],
   "source": [
    "movies$color<-sub(\"\\\"Color\", \"Color\", movies$color)\n",
    "movies$color<-sub(\"\\\" Black and White\", \"Black and White\", movies$color)\n",
    "movies$color<-sub(\"\\\"\", NA, movies$color)\n",
    "unique(movies$color)"
   ]
  },
  {
   "cell_type": "code",
   "execution_count": 20,
   "metadata": {
    "collapsed": false
   },
   "outputs": [
    {
     "name": "stdout",
     "output_type": "stream",
     "text": [
      "[1] \"NA: 19\"\n"
     ]
    }
   ],
   "source": [
    "print(paste0(\"NA: \",sum(is.na(movies$color))))"
   ]
  },
  {
   "cell_type": "markdown",
   "metadata": {},
   "source": [
    "There's 19 observations where the value of the variable \"color\" is missing. Since before 1939, the year where the wizard of Oz was released, the majority of the movie was in black and white, my first thought was to look for a separation in the data. If the distributions of the variable \"title_year\", who represent the year where the movie was released, for the movies in black and white is quite different from the one for the movies in color, I will be able to tell if a movie is in color or in black and white just by looking at the variable \"title_year\".     "
   ]
  },
  {
   "cell_type": "code",
   "execution_count": 21,
   "metadata": {
    "collapsed": false
   },
   "outputs": [
    {
     "name": "stdout",
     "output_type": "stream",
     "text": [
      "[1] \"Mean, Black and White: 1984.02912621359\"\n",
      "[1] \"Standard deviation, Black and White: 26.252416868317\"\n",
      "[1] \"Mean, Color: 2003.24819686042\"\n",
      "[1] \"Standard deviation, Color: 10.821288180493\"\n"
     ]
    }
   ],
   "source": [
    "print(paste0(\"Mean, Black and White: \",mean(movies[which(color==\"Black and White\"),title_year], na.rm=TRUE)))\n",
    "print(paste0(\"Standard deviation, Black and White: \",sd(movies[which(color==\"Black and White\"),title_year],na.rm=TRUE)))\n",
    "print(paste0(\"Mean, Color: \",mean(movies[which(color==\"Color\"),title_year], na.rm=TRUE)))\n",
    "print(paste0(\"Standard deviation, Color: \",sd(movies[which(color==\"Color\"),title_year],na.rm=TRUE)))"
   ]
  },
  {
   "cell_type": "code",
   "execution_count": 22,
   "metadata": {
    "collapsed": false
   },
   "outputs": [
    {
     "name": "stdout",
     "output_type": "stream",
     "text": [
      "[1] \"Summary Black and White\"\n"
     ]
    },
    {
     "data": {
      "text/plain": [
       "   Min. 1st Qu.  Median    Mean 3rd Qu.    Max.    NA's \n",
       "   1916    1962    1998    1984    2004    2015       3 "
      ]
     },
     "metadata": {},
     "output_type": "display_data"
    },
    {
     "name": "stdout",
     "output_type": "stream",
     "text": [
      "[1] \"Summary color\"\n"
     ]
    },
    {
     "data": {
      "text/plain": [
       "   Min. 1st Qu.  Median    Mean 3rd Qu.    Max.    NA's \n",
       "   1937    1999    2006    2003    2011    2016     101 "
      ]
     },
     "metadata": {},
     "output_type": "display_data"
    }
   ],
   "source": [
    "print(\"Summary Black and White\")\n",
    "summary(movies[which(color==\"Black and White\"),title_year])\n",
    "print(\"Summary color\")\n",
    "summary(movies[which(color==\"Color\"),title_year])"
   ]
  },
  {
   "cell_type": "code",
   "execution_count": 23,
   "metadata": {
    "collapsed": false
   },
   "outputs": [
    {
     "data": {
      "text/html": [
       "<ol class=list-inline>\n",
       "\t<li>NA</li>\n",
       "\t<li>NA</li>\n",
       "\t<li>NA</li>\n",
       "\t<li>2010</li>\n",
       "\t<li>2014</li>\n",
       "\t<li>NA</li>\n",
       "\t<li>2009</li>\n",
       "\t<li>2015</li>\n",
       "\t<li>2014</li>\n",
       "\t<li>2011</li>\n",
       "\t<li>2012</li>\n",
       "\t<li>2014</li>\n",
       "\t<li>2015</li>\n",
       "\t<li>2012</li>\n",
       "\t<li>2016</li>\n",
       "\t<li>2013</li>\n",
       "\t<li>2014</li>\n",
       "\t<li>1990</li>\n",
       "\t<li>2011</li>\n",
       "</ol>\n"
      ],
      "text/latex": [
       "\\begin{enumerate*}\n",
       "\\item NA\n",
       "\\item NA\n",
       "\\item NA\n",
       "\\item 2010\n",
       "\\item 2014\n",
       "\\item NA\n",
       "\\item 2009\n",
       "\\item 2015\n",
       "\\item 2014\n",
       "\\item 2011\n",
       "\\item 2012\n",
       "\\item 2014\n",
       "\\item 2015\n",
       "\\item 2012\n",
       "\\item 2016\n",
       "\\item 2013\n",
       "\\item 2014\n",
       "\\item 1990\n",
       "\\item 2011\n",
       "\\end{enumerate*}\n"
      ],
      "text/markdown": [
       "1. NA\n",
       "2. NA\n",
       "3. NA\n",
       "4. 2010\n",
       "5. 2014\n",
       "6. NA\n",
       "7. 2009\n",
       "8. 2015\n",
       "9. 2014\n",
       "10. 2011\n",
       "11. 2012\n",
       "12. 2014\n",
       "13. 2015\n",
       "14. 2012\n",
       "15. 2016\n",
       "16. 2013\n",
       "17. 2014\n",
       "18. 1990\n",
       "19. 2011\n",
       "\n",
       "\n"
      ],
      "text/plain": [
       " [1]   NA   NA   NA 2010 2014   NA 2009 2015 2014 2011 2012 2014 2015 2012 2016\n",
       "[16] 2013 2014 1990 2011"
      ]
     },
     "metadata": {},
     "output_type": "display_data"
    }
   ],
   "source": [
    "movies[is.na(movies$color),title_year]"
   ]
  },
  {
   "cell_type": "markdown",
   "metadata": {},
   "source": [
    "We can see that the two means are much closer than I thought and that the standard deviation of the movies in black and white is quite large. The shape of those two distributions tells me that there's a high probability that a movie made after 2000 is in color and that those made before 1993 are in black and white. By looking at the year of release of the movies with a missing \"color\" value I count four movies with a missing value for the variable \"title_year\" and one movie made in 1990 right in between the two distributions. Let's look at the name of those movies."
   ]
  },
  {
   "cell_type": "code",
   "execution_count": 24,
   "metadata": {
    "collapsed": false
   },
   "outputs": [
    {
     "data": {
      "text/html": [
       "<ol class=list-inline>\n",
       "\t<li>'StarWars: Episode VII - The Force Awakens'</li>\n",
       "\t<li><span style=white-space:pre-wrap>'\"10,000B.C.             \"'</span></li>\n",
       "\t<li>'Daredevil '</li>\n",
       "\t<li>'Unforgettable '</li>\n",
       "\t<li>'MidnightCabaret '</li>\n",
       "</ol>\n"
      ],
      "text/latex": [
       "\\begin{enumerate*}\n",
       "\\item 'StarWars: Episode VII - The Force Awakens'\n",
       "\\item '\"10,000B.C.             \"'\n",
       "\\item 'Daredevil '\n",
       "\\item 'Unforgettable '\n",
       "\\item 'MidnightCabaret '\n",
       "\\end{enumerate*}\n"
      ],
      "text/markdown": [
       "1. 'StarWars: Episode VII - The Force Awakens'\n",
       "2. <span style=white-space:pre-wrap>'\"10,000B.C.             \"'</span>\n",
       "3. 'Daredevil '\n",
       "4. 'Unforgettable '\n",
       "5. 'MidnightCabaret '\n",
       "\n",
       "\n"
      ],
      "text/plain": [
       "[1] \"StarWars: Episode VII - The Force Awakens\"\n",
       "[2] \"\\\"10,000B.C.             \\\"\"              \n",
       "[3] \"Daredevil \"                               \n",
       "[4] \"Unforgettable \"                           \n",
       "[5] \"MidnightCabaret \"                         "
      ]
     },
     "metadata": {},
     "output_type": "display_data"
    }
   ],
   "source": [
    "movies[which(is.na(movies$color)&(title_year==1990|is.na(title_year))),movie_title]"
   ]
  },
  {
   "cell_type": "markdown",
   "metadata": {},
   "source": [
    "Since there's only five problematics movies, I decided to do some research and find the missing value. After 2 minutes of searching on IMDB, I learned that all those movies are in color, so I can assign that factor to all the movie with a missing value on that variable. "
   ]
  },
  {
   "cell_type": "code",
   "execution_count": 25,
   "metadata": {
    "collapsed": false
   },
   "outputs": [],
   "source": [
    "movies[is.na(movies$color),\"color\"]=\"Color\""
   ]
  },
  {
   "cell_type": "code",
   "execution_count": 26,
   "metadata": {
    "collapsed": false
   },
   "outputs": [
    {
     "data": {
      "text/html": [
       "0"
      ],
      "text/latex": [
       "0"
      ],
      "text/markdown": [
       "0"
      ],
      "text/plain": [
       "[1] 0"
      ]
     },
     "metadata": {},
     "output_type": "display_data"
    }
   ],
   "source": [
    "sum(is.na(movies$color))"
   ]
  },
  {
   "cell_type": "markdown",
   "metadata": {},
   "source": [
    "Let's look at the number of missing values for the other variables."
   ]
  },
  {
   "cell_type": "code",
   "execution_count": 27,
   "metadata": {
    "collapsed": false
   },
   "outputs": [
    {
     "data": {
      "text/html": [
       "<dl class=dl-horizontal>\n",
       "\t<dt>color</dt>\n",
       "\t\t<dd>0</dd>\n",
       "\t<dt>director_name</dt>\n",
       "\t\t<dd>104</dd>\n",
       "\t<dt>num_critic_for_reviews</dt>\n",
       "\t\t<dd>50</dd>\n",
       "\t<dt>duration</dt>\n",
       "\t\t<dd>15</dd>\n",
       "\t<dt>director_facebook_likes</dt>\n",
       "\t\t<dd>104</dd>\n",
       "\t<dt>actor_3_facebook_likes</dt>\n",
       "\t\t<dd>23</dd>\n",
       "\t<dt>actor_2_name</dt>\n",
       "\t\t<dd>13</dd>\n",
       "\t<dt>actor_1_facebook_likes</dt>\n",
       "\t\t<dd>7</dd>\n",
       "\t<dt>gross</dt>\n",
       "\t\t<dd>884</dd>\n",
       "\t<dt>genres</dt>\n",
       "\t\t<dd>0</dd>\n",
       "\t<dt>actor_1_name</dt>\n",
       "\t\t<dd>7</dd>\n",
       "\t<dt>movie_title</dt>\n",
       "\t\t<dd>0</dd>\n",
       "\t<dt>num_voted_users</dt>\n",
       "\t\t<dd>0</dd>\n",
       "\t<dt>cast_total_facebook_likes</dt>\n",
       "\t\t<dd>0</dd>\n",
       "\t<dt>actor_3_name</dt>\n",
       "\t\t<dd>23</dd>\n",
       "\t<dt>facenumber_in_poster</dt>\n",
       "\t\t<dd>13</dd>\n",
       "\t<dt>plot_keywords</dt>\n",
       "\t\t<dd>153</dd>\n",
       "\t<dt>movie_imdb_link</dt>\n",
       "\t\t<dd>0</dd>\n",
       "\t<dt>num_user_for_reviews</dt>\n",
       "\t\t<dd>21</dd>\n",
       "\t<dt>language</dt>\n",
       "\t\t<dd>12</dd>\n",
       "\t<dt>country</dt>\n",
       "\t\t<dd>5</dd>\n",
       "\t<dt>content_rating</dt>\n",
       "\t\t<dd>303</dd>\n",
       "\t<dt>budget</dt>\n",
       "\t\t<dd>492</dd>\n",
       "\t<dt>title_year</dt>\n",
       "\t\t<dd>108</dd>\n",
       "\t<dt>actor_2_facebook_likes</dt>\n",
       "\t\t<dd>13</dd>\n",
       "\t<dt>imdb_score</dt>\n",
       "\t\t<dd>0</dd>\n",
       "\t<dt>aspect_ratio</dt>\n",
       "\t\t<dd>329</dd>\n",
       "\t<dt>movie_facebook_likes</dt>\n",
       "\t\t<dd>69</dd>\n",
       "\t<dt>genres_Action</dt>\n",
       "\t\t<dd>0</dd>\n",
       "\t<dt>genres_Adventure</dt>\n",
       "\t\t<dd>0</dd>\n",
       "\t<dt>genres_Animation</dt>\n",
       "\t\t<dd>0</dd>\n",
       "\t<dt>genres_Biography</dt>\n",
       "\t\t<dd>0</dd>\n",
       "\t<dt>genres_Comedy</dt>\n",
       "\t\t<dd>0</dd>\n",
       "\t<dt>genres_Crime</dt>\n",
       "\t\t<dd>0</dd>\n",
       "\t<dt>genres_Documentary</dt>\n",
       "\t\t<dd>0</dd>\n",
       "\t<dt>genres_Drama</dt>\n",
       "\t\t<dd>0</dd>\n",
       "\t<dt>genres_Family</dt>\n",
       "\t\t<dd>0</dd>\n",
       "\t<dt>genres_Fantasy</dt>\n",
       "\t\t<dd>0</dd>\n",
       "\t<dt>genres_Film-Noir</dt>\n",
       "\t\t<dd>0</dd>\n",
       "\t<dt>genres_Game-Show</dt>\n",
       "\t\t<dd>0</dd>\n",
       "\t<dt>genres_History</dt>\n",
       "\t\t<dd>0</dd>\n",
       "\t<dt>genres_Horror</dt>\n",
       "\t\t<dd>0</dd>\n",
       "\t<dt>genres_Music</dt>\n",
       "\t\t<dd>0</dd>\n",
       "\t<dt>genres_Musical</dt>\n",
       "\t\t<dd>0</dd>\n",
       "\t<dt>genres_Mystery</dt>\n",
       "\t\t<dd>0</dd>\n",
       "\t<dt>genres_News</dt>\n",
       "\t\t<dd>0</dd>\n",
       "\t<dt>genres_Reality-TV</dt>\n",
       "\t\t<dd>0</dd>\n",
       "\t<dt>genres_Romance</dt>\n",
       "\t\t<dd>0</dd>\n",
       "\t<dt>genres_Sci-Fi</dt>\n",
       "\t\t<dd>0</dd>\n",
       "\t<dt>genres_Short</dt>\n",
       "\t\t<dd>0</dd>\n",
       "\t<dt>genres_Sport</dt>\n",
       "\t\t<dd>0</dd>\n",
       "\t<dt>genres_Thriller</dt>\n",
       "\t\t<dd>0</dd>\n",
       "\t<dt>genres_War</dt>\n",
       "\t\t<dd>0</dd>\n",
       "\t<dt>genres_Western</dt>\n",
       "\t\t<dd>0</dd>\n",
       "</dl>\n"
      ],
      "text/latex": [
       "\\begin{description*}\n",
       "\\item[color] 0\n",
       "\\item[director\\textbackslash{}\\_name] 104\n",
       "\\item[num\\textbackslash{}\\_critic\\textbackslash{}\\_for\\textbackslash{}\\_reviews] 50\n",
       "\\item[duration] 15\n",
       "\\item[director\\textbackslash{}\\_facebook\\textbackslash{}\\_likes] 104\n",
       "\\item[actor\\textbackslash{}\\_3\\textbackslash{}\\_facebook\\textbackslash{}\\_likes] 23\n",
       "\\item[actor\\textbackslash{}\\_2\\textbackslash{}\\_name] 13\n",
       "\\item[actor\\textbackslash{}\\_1\\textbackslash{}\\_facebook\\textbackslash{}\\_likes] 7\n",
       "\\item[gross] 884\n",
       "\\item[genres] 0\n",
       "\\item[actor\\textbackslash{}\\_1\\textbackslash{}\\_name] 7\n",
       "\\item[movie\\textbackslash{}\\_title] 0\n",
       "\\item[num\\textbackslash{}\\_voted\\textbackslash{}\\_users] 0\n",
       "\\item[cast\\textbackslash{}\\_total\\textbackslash{}\\_facebook\\textbackslash{}\\_likes] 0\n",
       "\\item[actor\\textbackslash{}\\_3\\textbackslash{}\\_name] 23\n",
       "\\item[facenumber\\textbackslash{}\\_in\\textbackslash{}\\_poster] 13\n",
       "\\item[plot\\textbackslash{}\\_keywords] 153\n",
       "\\item[movie\\textbackslash{}\\_imdb\\textbackslash{}\\_link] 0\n",
       "\\item[num\\textbackslash{}\\_user\\textbackslash{}\\_for\\textbackslash{}\\_reviews] 21\n",
       "\\item[language] 12\n",
       "\\item[country] 5\n",
       "\\item[content\\textbackslash{}\\_rating] 303\n",
       "\\item[budget] 492\n",
       "\\item[title\\textbackslash{}\\_year] 108\n",
       "\\item[actor\\textbackslash{}\\_2\\textbackslash{}\\_facebook\\textbackslash{}\\_likes] 13\n",
       "\\item[imdb\\textbackslash{}\\_score] 0\n",
       "\\item[aspect\\textbackslash{}\\_ratio] 329\n",
       "\\item[movie\\textbackslash{}\\_facebook\\textbackslash{}\\_likes] 69\n",
       "\\item[genres\\textbackslash{}\\_Action] 0\n",
       "\\item[genres\\textbackslash{}\\_Adventure] 0\n",
       "\\item[genres\\textbackslash{}\\_Animation] 0\n",
       "\\item[genres\\textbackslash{}\\_Biography] 0\n",
       "\\item[genres\\textbackslash{}\\_Comedy] 0\n",
       "\\item[genres\\textbackslash{}\\_Crime] 0\n",
       "\\item[genres\\textbackslash{}\\_Documentary] 0\n",
       "\\item[genres\\textbackslash{}\\_Drama] 0\n",
       "\\item[genres\\textbackslash{}\\_Family] 0\n",
       "\\item[genres\\textbackslash{}\\_Fantasy] 0\n",
       "\\item[genres\\textbackslash{}\\_Film-Noir] 0\n",
       "\\item[genres\\textbackslash{}\\_Game-Show] 0\n",
       "\\item[genres\\textbackslash{}\\_History] 0\n",
       "\\item[genres\\textbackslash{}\\_Horror] 0\n",
       "\\item[genres\\textbackslash{}\\_Music] 0\n",
       "\\item[genres\\textbackslash{}\\_Musical] 0\n",
       "\\item[genres\\textbackslash{}\\_Mystery] 0\n",
       "\\item[genres\\textbackslash{}\\_News] 0\n",
       "\\item[genres\\textbackslash{}\\_Reality-TV] 0\n",
       "\\item[genres\\textbackslash{}\\_Romance] 0\n",
       "\\item[genres\\textbackslash{}\\_Sci-Fi] 0\n",
       "\\item[genres\\textbackslash{}\\_Short] 0\n",
       "\\item[genres\\textbackslash{}\\_Sport] 0\n",
       "\\item[genres\\textbackslash{}\\_Thriller] 0\n",
       "\\item[genres\\textbackslash{}\\_War] 0\n",
       "\\item[genres\\textbackslash{}\\_Western] 0\n",
       "\\end{description*}\n"
      ],
      "text/markdown": [
       "color\n",
       ":   0director_name\n",
       ":   104num_critic_for_reviews\n",
       ":   50duration\n",
       ":   15director_facebook_likes\n",
       ":   104actor_3_facebook_likes\n",
       ":   23actor_2_name\n",
       ":   13actor_1_facebook_likes\n",
       ":   7gross\n",
       ":   884genres\n",
       ":   0actor_1_name\n",
       ":   7movie_title\n",
       ":   0num_voted_users\n",
       ":   0cast_total_facebook_likes\n",
       ":   0actor_3_name\n",
       ":   23facenumber_in_poster\n",
       ":   13plot_keywords\n",
       ":   153movie_imdb_link\n",
       ":   0num_user_for_reviews\n",
       ":   21language\n",
       ":   12country\n",
       ":   5content_rating\n",
       ":   303budget\n",
       ":   492title_year\n",
       ":   108actor_2_facebook_likes\n",
       ":   13imdb_score\n",
       ":   0aspect_ratio\n",
       ":   329movie_facebook_likes\n",
       ":   69genres_Action\n",
       ":   0genres_Adventure\n",
       ":   0genres_Animation\n",
       ":   0genres_Biography\n",
       ":   0genres_Comedy\n",
       ":   0genres_Crime\n",
       ":   0genres_Documentary\n",
       ":   0genres_Drama\n",
       ":   0genres_Family\n",
       ":   0genres_Fantasy\n",
       ":   0genres_Film-Noir\n",
       ":   0genres_Game-Show\n",
       ":   0genres_History\n",
       ":   0genres_Horror\n",
       ":   0genres_Music\n",
       ":   0genres_Musical\n",
       ":   0genres_Mystery\n",
       ":   0genres_News\n",
       ":   0genres_Reality-TV\n",
       ":   0genres_Romance\n",
       ":   0genres_Sci-Fi\n",
       ":   0genres_Short\n",
       ":   0genres_Sport\n",
       ":   0genres_Thriller\n",
       ":   0genres_War\n",
       ":   0genres_Western\n",
       ":   0\n",
       "\n"
      ],
      "text/plain": [
       "                    color             director_name    num_critic_for_reviews \n",
       "                        0                       104                        50 \n",
       "                 duration   director_facebook_likes    actor_3_facebook_likes \n",
       "                       15                       104                        23 \n",
       "             actor_2_name    actor_1_facebook_likes                     gross \n",
       "                       13                         7                       884 \n",
       "                   genres              actor_1_name               movie_title \n",
       "                        0                         7                         0 \n",
       "          num_voted_users cast_total_facebook_likes              actor_3_name \n",
       "                        0                         0                        23 \n",
       "     facenumber_in_poster             plot_keywords           movie_imdb_link \n",
       "                       13                       153                         0 \n",
       "     num_user_for_reviews                  language                   country \n",
       "                       21                        12                         5 \n",
       "           content_rating                    budget                title_year \n",
       "                      303                       492                       108 \n",
       "   actor_2_facebook_likes                imdb_score              aspect_ratio \n",
       "                       13                         0                       329 \n",
       "     movie_facebook_likes             genres_Action          genres_Adventure \n",
       "                       69                         0                         0 \n",
       "         genres_Animation          genres_Biography             genres_Comedy \n",
       "                        0                         0                         0 \n",
       "             genres_Crime        genres_Documentary              genres_Drama \n",
       "                        0                         0                         0 \n",
       "            genres_Family            genres_Fantasy          genres_Film-Noir \n",
       "                        0                         0                         0 \n",
       "         genres_Game-Show            genres_History             genres_Horror \n",
       "                        0                         0                         0 \n",
       "             genres_Music            genres_Musical            genres_Mystery \n",
       "                        0                         0                         0 \n",
       "              genres_News         genres_Reality-TV            genres_Romance \n",
       "                        0                         0                         0 \n",
       "            genres_Sci-Fi              genres_Short              genres_Sport \n",
       "                        0                         0                         0 \n",
       "          genres_Thriller                genres_War            genres_Western \n",
       "                        0                         0                         0 "
      ]
     },
     "metadata": {},
     "output_type": "display_data"
    }
   ],
   "source": [
    "sapply(movies, function(y) sum(length(which(is.na(y)))))"
   ]
  },
  {
   "cell_type": "markdown",
   "metadata": {},
   "source": [
    "Of those variables, only the variable duration as few missing data that are easily obtainable, so I will manually fetch those data by searching them on IMDB."
   ]
  },
  {
   "cell_type": "code",
   "execution_count": 28,
   "metadata": {
    "collapsed": false
   },
   "outputs": [
    {
     "data": {
      "text/html": [
       "<ol class=list-inline>\n",
       "\t<li>'StarWars: Episode VII - The Force Awakens'</li>\n",
       "\t<li>'HarryPotter and the Deathly Hallows: Part II '</li>\n",
       "\t<li>'HarryPotter and the Deathly Hallows: Part I '</li>\n",
       "\t<li>'BlackWater Transit '</li>\n",
       "\t<li>'War&amp; Peace '</li>\n",
       "\t<li>'Should\\'veBeen Romeo '</li>\n",
       "\t<li>'Barfi '</li>\n",
       "\t<li>'HumTo Mohabbat Karega '</li>\n",
       "\t<li>'N-Secure '</li>\n",
       "\t<li>'DilJo Bhi Kahey... '</li>\n",
       "\t<li>'WolfCreek '</li>\n",
       "\t<li>'Karachise Lahore '</li>\n",
       "\t<li>'Destiny '</li>\n",
       "\t<li>'RomanticSchemer '</li>\n",
       "\t<li>'TheNaked Ape '</li>\n",
       "</ol>\n"
      ],
      "text/latex": [
       "\\begin{enumerate*}\n",
       "\\item 'StarWars: Episode VII - The Force Awakens'\n",
       "\\item 'HarryPotter and the Deathly Hallows: Part II '\n",
       "\\item 'HarryPotter and the Deathly Hallows: Part I '\n",
       "\\item 'BlackWater Transit '\n",
       "\\item 'War\\& Peace '\n",
       "\\item 'Should\\textbackslash{}'veBeen Romeo '\n",
       "\\item 'Barfi '\n",
       "\\item 'HumTo Mohabbat Karega '\n",
       "\\item 'N-Secure '\n",
       "\\item 'DilJo Bhi Kahey... '\n",
       "\\item 'WolfCreek '\n",
       "\\item 'Karachise Lahore '\n",
       "\\item 'Destiny '\n",
       "\\item 'RomanticSchemer '\n",
       "\\item 'TheNaked Ape '\n",
       "\\end{enumerate*}\n"
      ],
      "text/markdown": [
       "1. 'StarWars: Episode VII - The Force Awakens'\n",
       "2. 'HarryPotter and the Deathly Hallows: Part II '\n",
       "3. 'HarryPotter and the Deathly Hallows: Part I '\n",
       "4. 'BlackWater Transit '\n",
       "5. 'War&amp; Peace '\n",
       "6. 'Should\\'veBeen Romeo '\n",
       "7. 'Barfi '\n",
       "8. 'HumTo Mohabbat Karega '\n",
       "9. 'N-Secure '\n",
       "10. 'DilJo Bhi Kahey... '\n",
       "11. 'WolfCreek '\n",
       "12. 'Karachise Lahore '\n",
       "13. 'Destiny '\n",
       "14. 'RomanticSchemer '\n",
       "15. 'TheNaked Ape '\n",
       "\n",
       "\n"
      ],
      "text/plain": [
       " [1] \"StarWars: Episode VII - The Force Awakens\"    \n",
       " [2] \"HarryPotter and the Deathly Hallows: Part II \"\n",
       " [3] \"HarryPotter and the Deathly Hallows: Part I \" \n",
       " [4] \"BlackWater Transit \"                          \n",
       " [5] \"War& Peace \"                                  \n",
       " [6] \"Should'veBeen Romeo \"                         \n",
       " [7] \"Barfi \"                                       \n",
       " [8] \"HumTo Mohabbat Karega \"                       \n",
       " [9] \"N-Secure \"                                    \n",
       "[10] \"DilJo Bhi Kahey... \"                          \n",
       "[11] \"WolfCreek \"                                   \n",
       "[12] \"Karachise Lahore \"                            \n",
       "[13] \"Destiny \"                                     \n",
       "[14] \"RomanticSchemer \"                             \n",
       "[15] \"TheNaked Ape \"                                "
      ]
     },
     "metadata": {},
     "output_type": "display_data"
    }
   ],
   "source": [
    "movies[is.na(movies$duration),movie_title]"
   ]
  },
  {
   "cell_type": "code",
   "execution_count": 29,
   "metadata": {
    "collapsed": false
   },
   "outputs": [],
   "source": [
    "movies[movie_title==\"Star Wars: Episode VII - The Force Awakens\",4]<-136\n",
    "movies[movie_title==\"Harry Potter and the Deathly Hallows: Part II\",4]<-130\n",
    "movies[movie_title==\"Harry Potter and the Deathly Hallows: Part I\",4]<-146\n",
    "movies[movie_title==\"Black Water Transit\",4]<-100\n",
    "movies[movie_title==\"Should've Been Romeo\",4]<-90\n",
    "movies[movie_title==\"Barfi\",4]<-151\n",
    "movies[movie_title==\"Hum To Mohabbat Karega\",4]<-87\n",
    "movies[movie_title==\"N-Secure\",4]<-115\n",
    "movies[movie_title==\"Dil Jo Bhi Kahey...\",4]<-144\n",
    "movies[movie_title==\"Wolf Creek\",4]<-95\n",
    "movies[movie_title==\"Karachi se Lahore\",4]<-143\n",
    "movies[movie_title==\"Destiny\",4]<-105\n",
    "movies[movie_title==\"Romantic Schemer\",4]<-85\n",
    "movies[movie_title==\"The Naked Ape\",4]<-110\n",
    "movies[movie_title==\"War & Peace\",4]<- 379"
   ]
  },
  {
   "cell_type": "markdown",
   "metadata": {},
   "source": [
    "Now if we look back at the number of missing value of every variable in the data set, we see that the variable \"duration\" have none."
   ]
  },
  {
   "cell_type": "code",
   "execution_count": 30,
   "metadata": {
    "collapsed": false
   },
   "outputs": [
    {
     "data": {
      "text/html": [
       "<dl class=dl-horizontal>\n",
       "\t<dt>color</dt>\n",
       "\t\t<dd>0</dd>\n",
       "\t<dt>director_name</dt>\n",
       "\t\t<dd>104</dd>\n",
       "\t<dt>num_critic_for_reviews</dt>\n",
       "\t\t<dd>50</dd>\n",
       "\t<dt>duration</dt>\n",
       "\t\t<dd>15</dd>\n",
       "\t<dt>director_facebook_likes</dt>\n",
       "\t\t<dd>104</dd>\n",
       "\t<dt>actor_3_facebook_likes</dt>\n",
       "\t\t<dd>23</dd>\n",
       "\t<dt>actor_2_name</dt>\n",
       "\t\t<dd>13</dd>\n",
       "\t<dt>actor_1_facebook_likes</dt>\n",
       "\t\t<dd>7</dd>\n",
       "\t<dt>gross</dt>\n",
       "\t\t<dd>884</dd>\n",
       "\t<dt>genres</dt>\n",
       "\t\t<dd>0</dd>\n",
       "\t<dt>actor_1_name</dt>\n",
       "\t\t<dd>7</dd>\n",
       "\t<dt>movie_title</dt>\n",
       "\t\t<dd>0</dd>\n",
       "\t<dt>num_voted_users</dt>\n",
       "\t\t<dd>0</dd>\n",
       "\t<dt>cast_total_facebook_likes</dt>\n",
       "\t\t<dd>0</dd>\n",
       "\t<dt>actor_3_name</dt>\n",
       "\t\t<dd>23</dd>\n",
       "\t<dt>facenumber_in_poster</dt>\n",
       "\t\t<dd>13</dd>\n",
       "\t<dt>plot_keywords</dt>\n",
       "\t\t<dd>153</dd>\n",
       "\t<dt>movie_imdb_link</dt>\n",
       "\t\t<dd>0</dd>\n",
       "\t<dt>num_user_for_reviews</dt>\n",
       "\t\t<dd>21</dd>\n",
       "\t<dt>language</dt>\n",
       "\t\t<dd>12</dd>\n",
       "\t<dt>country</dt>\n",
       "\t\t<dd>5</dd>\n",
       "\t<dt>content_rating</dt>\n",
       "\t\t<dd>303</dd>\n",
       "\t<dt>budget</dt>\n",
       "\t\t<dd>492</dd>\n",
       "\t<dt>title_year</dt>\n",
       "\t\t<dd>108</dd>\n",
       "\t<dt>actor_2_facebook_likes</dt>\n",
       "\t\t<dd>13</dd>\n",
       "\t<dt>imdb_score</dt>\n",
       "\t\t<dd>0</dd>\n",
       "\t<dt>aspect_ratio</dt>\n",
       "\t\t<dd>329</dd>\n",
       "\t<dt>movie_facebook_likes</dt>\n",
       "\t\t<dd>69</dd>\n",
       "\t<dt>genres_Action</dt>\n",
       "\t\t<dd>0</dd>\n",
       "\t<dt>genres_Adventure</dt>\n",
       "\t\t<dd>0</dd>\n",
       "\t<dt>genres_Animation</dt>\n",
       "\t\t<dd>0</dd>\n",
       "\t<dt>genres_Biography</dt>\n",
       "\t\t<dd>0</dd>\n",
       "\t<dt>genres_Comedy</dt>\n",
       "\t\t<dd>0</dd>\n",
       "\t<dt>genres_Crime</dt>\n",
       "\t\t<dd>0</dd>\n",
       "\t<dt>genres_Documentary</dt>\n",
       "\t\t<dd>0</dd>\n",
       "\t<dt>genres_Drama</dt>\n",
       "\t\t<dd>0</dd>\n",
       "\t<dt>genres_Family</dt>\n",
       "\t\t<dd>0</dd>\n",
       "\t<dt>genres_Fantasy</dt>\n",
       "\t\t<dd>0</dd>\n",
       "\t<dt>genres_Film-Noir</dt>\n",
       "\t\t<dd>0</dd>\n",
       "\t<dt>genres_Game-Show</dt>\n",
       "\t\t<dd>0</dd>\n",
       "\t<dt>genres_History</dt>\n",
       "\t\t<dd>0</dd>\n",
       "\t<dt>genres_Horror</dt>\n",
       "\t\t<dd>0</dd>\n",
       "\t<dt>genres_Music</dt>\n",
       "\t\t<dd>0</dd>\n",
       "\t<dt>genres_Musical</dt>\n",
       "\t\t<dd>0</dd>\n",
       "\t<dt>genres_Mystery</dt>\n",
       "\t\t<dd>0</dd>\n",
       "\t<dt>genres_News</dt>\n",
       "\t\t<dd>0</dd>\n",
       "\t<dt>genres_Reality-TV</dt>\n",
       "\t\t<dd>0</dd>\n",
       "\t<dt>genres_Romance</dt>\n",
       "\t\t<dd>0</dd>\n",
       "\t<dt>genres_Sci-Fi</dt>\n",
       "\t\t<dd>0</dd>\n",
       "\t<dt>genres_Short</dt>\n",
       "\t\t<dd>0</dd>\n",
       "\t<dt>genres_Sport</dt>\n",
       "\t\t<dd>0</dd>\n",
       "\t<dt>genres_Thriller</dt>\n",
       "\t\t<dd>0</dd>\n",
       "\t<dt>genres_War</dt>\n",
       "\t\t<dd>0</dd>\n",
       "\t<dt>genres_Western</dt>\n",
       "\t\t<dd>0</dd>\n",
       "</dl>\n"
      ],
      "text/latex": [
       "\\begin{description*}\n",
       "\\item[color] 0\n",
       "\\item[director\\textbackslash{}\\_name] 104\n",
       "\\item[num\\textbackslash{}\\_critic\\textbackslash{}\\_for\\textbackslash{}\\_reviews] 50\n",
       "\\item[duration] 15\n",
       "\\item[director\\textbackslash{}\\_facebook\\textbackslash{}\\_likes] 104\n",
       "\\item[actor\\textbackslash{}\\_3\\textbackslash{}\\_facebook\\textbackslash{}\\_likes] 23\n",
       "\\item[actor\\textbackslash{}\\_2\\textbackslash{}\\_name] 13\n",
       "\\item[actor\\textbackslash{}\\_1\\textbackslash{}\\_facebook\\textbackslash{}\\_likes] 7\n",
       "\\item[gross] 884\n",
       "\\item[genres] 0\n",
       "\\item[actor\\textbackslash{}\\_1\\textbackslash{}\\_name] 7\n",
       "\\item[movie\\textbackslash{}\\_title] 0\n",
       "\\item[num\\textbackslash{}\\_voted\\textbackslash{}\\_users] 0\n",
       "\\item[cast\\textbackslash{}\\_total\\textbackslash{}\\_facebook\\textbackslash{}\\_likes] 0\n",
       "\\item[actor\\textbackslash{}\\_3\\textbackslash{}\\_name] 23\n",
       "\\item[facenumber\\textbackslash{}\\_in\\textbackslash{}\\_poster] 13\n",
       "\\item[plot\\textbackslash{}\\_keywords] 153\n",
       "\\item[movie\\textbackslash{}\\_imdb\\textbackslash{}\\_link] 0\n",
       "\\item[num\\textbackslash{}\\_user\\textbackslash{}\\_for\\textbackslash{}\\_reviews] 21\n",
       "\\item[language] 12\n",
       "\\item[country] 5\n",
       "\\item[content\\textbackslash{}\\_rating] 303\n",
       "\\item[budget] 492\n",
       "\\item[title\\textbackslash{}\\_year] 108\n",
       "\\item[actor\\textbackslash{}\\_2\\textbackslash{}\\_facebook\\textbackslash{}\\_likes] 13\n",
       "\\item[imdb\\textbackslash{}\\_score] 0\n",
       "\\item[aspect\\textbackslash{}\\_ratio] 329\n",
       "\\item[movie\\textbackslash{}\\_facebook\\textbackslash{}\\_likes] 69\n",
       "\\item[genres\\textbackslash{}\\_Action] 0\n",
       "\\item[genres\\textbackslash{}\\_Adventure] 0\n",
       "\\item[genres\\textbackslash{}\\_Animation] 0\n",
       "\\item[genres\\textbackslash{}\\_Biography] 0\n",
       "\\item[genres\\textbackslash{}\\_Comedy] 0\n",
       "\\item[genres\\textbackslash{}\\_Crime] 0\n",
       "\\item[genres\\textbackslash{}\\_Documentary] 0\n",
       "\\item[genres\\textbackslash{}\\_Drama] 0\n",
       "\\item[genres\\textbackslash{}\\_Family] 0\n",
       "\\item[genres\\textbackslash{}\\_Fantasy] 0\n",
       "\\item[genres\\textbackslash{}\\_Film-Noir] 0\n",
       "\\item[genres\\textbackslash{}\\_Game-Show] 0\n",
       "\\item[genres\\textbackslash{}\\_History] 0\n",
       "\\item[genres\\textbackslash{}\\_Horror] 0\n",
       "\\item[genres\\textbackslash{}\\_Music] 0\n",
       "\\item[genres\\textbackslash{}\\_Musical] 0\n",
       "\\item[genres\\textbackslash{}\\_Mystery] 0\n",
       "\\item[genres\\textbackslash{}\\_News] 0\n",
       "\\item[genres\\textbackslash{}\\_Reality-TV] 0\n",
       "\\item[genres\\textbackslash{}\\_Romance] 0\n",
       "\\item[genres\\textbackslash{}\\_Sci-Fi] 0\n",
       "\\item[genres\\textbackslash{}\\_Short] 0\n",
       "\\item[genres\\textbackslash{}\\_Sport] 0\n",
       "\\item[genres\\textbackslash{}\\_Thriller] 0\n",
       "\\item[genres\\textbackslash{}\\_War] 0\n",
       "\\item[genres\\textbackslash{}\\_Western] 0\n",
       "\\end{description*}\n"
      ],
      "text/markdown": [
       "color\n",
       ":   0director_name\n",
       ":   104num_critic_for_reviews\n",
       ":   50duration\n",
       ":   15director_facebook_likes\n",
       ":   104actor_3_facebook_likes\n",
       ":   23actor_2_name\n",
       ":   13actor_1_facebook_likes\n",
       ":   7gross\n",
       ":   884genres\n",
       ":   0actor_1_name\n",
       ":   7movie_title\n",
       ":   0num_voted_users\n",
       ":   0cast_total_facebook_likes\n",
       ":   0actor_3_name\n",
       ":   23facenumber_in_poster\n",
       ":   13plot_keywords\n",
       ":   153movie_imdb_link\n",
       ":   0num_user_for_reviews\n",
       ":   21language\n",
       ":   12country\n",
       ":   5content_rating\n",
       ":   303budget\n",
       ":   492title_year\n",
       ":   108actor_2_facebook_likes\n",
       ":   13imdb_score\n",
       ":   0aspect_ratio\n",
       ":   329movie_facebook_likes\n",
       ":   69genres_Action\n",
       ":   0genres_Adventure\n",
       ":   0genres_Animation\n",
       ":   0genres_Biography\n",
       ":   0genres_Comedy\n",
       ":   0genres_Crime\n",
       ":   0genres_Documentary\n",
       ":   0genres_Drama\n",
       ":   0genres_Family\n",
       ":   0genres_Fantasy\n",
       ":   0genres_Film-Noir\n",
       ":   0genres_Game-Show\n",
       ":   0genres_History\n",
       ":   0genres_Horror\n",
       ":   0genres_Music\n",
       ":   0genres_Musical\n",
       ":   0genres_Mystery\n",
       ":   0genres_News\n",
       ":   0genres_Reality-TV\n",
       ":   0genres_Romance\n",
       ":   0genres_Sci-Fi\n",
       ":   0genres_Short\n",
       ":   0genres_Sport\n",
       ":   0genres_Thriller\n",
       ":   0genres_War\n",
       ":   0genres_Western\n",
       ":   0\n",
       "\n"
      ],
      "text/plain": [
       "                    color             director_name    num_critic_for_reviews \n",
       "                        0                       104                        50 \n",
       "                 duration   director_facebook_likes    actor_3_facebook_likes \n",
       "                       15                       104                        23 \n",
       "             actor_2_name    actor_1_facebook_likes                     gross \n",
       "                       13                         7                       884 \n",
       "                   genres              actor_1_name               movie_title \n",
       "                        0                         7                         0 \n",
       "          num_voted_users cast_total_facebook_likes              actor_3_name \n",
       "                        0                         0                        23 \n",
       "     facenumber_in_poster             plot_keywords           movie_imdb_link \n",
       "                       13                       153                         0 \n",
       "     num_user_for_reviews                  language                   country \n",
       "                       21                        12                         5 \n",
       "           content_rating                    budget                title_year \n",
       "                      303                       492                       108 \n",
       "   actor_2_facebook_likes                imdb_score              aspect_ratio \n",
       "                       13                         0                       329 \n",
       "     movie_facebook_likes             genres_Action          genres_Adventure \n",
       "                       69                         0                         0 \n",
       "         genres_Animation          genres_Biography             genres_Comedy \n",
       "                        0                         0                         0 \n",
       "             genres_Crime        genres_Documentary              genres_Drama \n",
       "                        0                         0                         0 \n",
       "            genres_Family            genres_Fantasy          genres_Film-Noir \n",
       "                        0                         0                         0 \n",
       "         genres_Game-Show            genres_History             genres_Horror \n",
       "                        0                         0                         0 \n",
       "             genres_Music            genres_Musical            genres_Mystery \n",
       "                        0                         0                         0 \n",
       "              genres_News         genres_Reality-TV            genres_Romance \n",
       "                        0                         0                         0 \n",
       "            genres_Sci-Fi              genres_Short              genres_Sport \n",
       "                        0                         0                         0 \n",
       "          genres_Thriller                genres_War            genres_Western \n",
       "                        0                         0                         0 "
      ]
     },
     "metadata": {},
     "output_type": "display_data"
    }
   ],
   "source": [
    "sapply(movies, function(y) sum(length(which(is.na(y)))))"
   ]
  },
  {
   "cell_type": "markdown",
   "metadata": {},
   "source": [
    "Having missing values in the variables \"num_critic_for_reviews\",\"num_voted_users\",\"movie_imdb_link\",\"num_user_for_reviews\", \"imdb_score\" and \"movie_facebook_likes\" is not really an issue, since I'm interested in predicting the box-office result of a movie before his production and those variables are metrics collected after the theater release of their respective movie. Also, some variable like \"director_facebook_likes\", \"facenumber_in_poster\", \"title_year\" and \"actor_2_facebook_likes\" have a relatively low number of missing values and the omission of those observations won't affect significantly the quality of our model. With that in mind, I'll focus my attention on the variables \"gross\" and \"budget\".\n",
    "\n",
    "First, I need to find why the script that scrape the data from IMDB returned those empty fields. I looked at the IMDB page of some movies with missing data to try to find a pattern."
   ]
  },
  {
   "cell_type": "code",
   "execution_count": 31,
   "metadata": {
    "collapsed": false
   },
   "outputs": [
    {
     "data": {
      "text/html": [
       "<ol class=list-inline>\n",
       "\t<li>'StarWars: Episode VII - The Force Awakens'</li>\n",
       "\t<li>'TheLovers '</li>\n",
       "\t<li>'GodzillaResurgence '</li>\n",
       "\t<li>'MiamiVice'</li>\n",
       "\t<li>'HarryPotter and the Deathly Hallows: Part II '</li>\n",
       "\t<li>'GodzillaResurgence '</li>\n",
       "</ol>\n"
      ],
      "text/latex": [
       "\\begin{enumerate*}\n",
       "\\item 'StarWars: Episode VII - The Force Awakens'\n",
       "\\item 'TheLovers '\n",
       "\\item 'GodzillaResurgence '\n",
       "\\item 'MiamiVice'\n",
       "\\item 'HarryPotter and the Deathly Hallows: Part II '\n",
       "\\item 'GodzillaResurgence '\n",
       "\\end{enumerate*}\n"
      ],
      "text/markdown": [
       "1. 'StarWars: Episode VII - The Force Awakens'\n",
       "2. 'TheLovers '\n",
       "3. 'GodzillaResurgence '\n",
       "4. 'MiamiVice'\n",
       "5. 'HarryPotter and the Deathly Hallows: Part II '\n",
       "6. 'GodzillaResurgence '\n",
       "\n",
       "\n"
      ],
      "text/plain": [
       "[1] \"StarWars: Episode VII - The Force Awakens\"    \n",
       "[2] \"TheLovers \"                                   \n",
       "[3] \"GodzillaResurgence \"                          \n",
       "[4] \"MiamiVice\"                                    \n",
       "[5] \"HarryPotter and the Deathly Hallows: Part II \"\n",
       "[6] \"GodzillaResurgence \"                          "
      ]
     },
     "metadata": {},
     "output_type": "display_data"
    }
   ],
   "source": [
    "head(movies[is.na(movies$gross),movie_title],)"
   ]
  },
  {
   "cell_type": "code",
   "execution_count": 32,
   "metadata": {
    "collapsed": false
   },
   "outputs": [
    {
     "data": {
      "text/html": [],
      "text/latex": [],
      "text/markdown": [],
      "text/plain": [
       "character(0)"
      ]
     },
     "metadata": {},
     "output_type": "display_data"
    }
   ],
   "source": [
    "movies[movie_title=='Star Wars: Episode VII - The Force Awakens',movie_imdb_link]"
   ]
  },
  {
   "cell_type": "code",
   "execution_count": 33,
   "metadata": {
    "collapsed": false
   },
   "outputs": [
    {
     "data": {
      "text/html": [],
      "text/latex": [],
      "text/markdown": [],
      "text/plain": [
       "character(0)"
      ]
     },
     "metadata": {},
     "output_type": "display_data"
    }
   ],
   "source": [
    "movies[movies$movie_title=='Miami Vice', movie_imdb_link]"
   ]
  },
  {
   "cell_type": "markdown",
   "metadata": {},
   "source": [
    "By looking at those three pages, we see the problem: IMDB list not only theatrical movie release, but also web series, tv show, direct to dvd release and since some entries have the same title some error have been injected in the data set. For example, instead of having data on the movie \"Miami Vice\", the script return data on an episode of the tv serie of the same name, where the fields \"gross\" ans \"budget\" are empty. In consequence, a missing value in those columns seems to be an indicator of a bad observation. \n",
    "\n",
    "I took a sample of 20 movies (about 3% of the observations with the value \"gross\" missing) to see if that hypothesis is correct."
   ]
  },
  {
   "cell_type": "code",
   "execution_count": 34,
   "metadata": {
    "collapsed": false
   },
   "outputs": [
    {
     "name": "stdout",
     "output_type": "stream",
     "text": [
      "[1] \"Number of rows: 224\"\n"
     ]
    },
    {
     "data": {
      "text/html": [
       "<table>\n",
       "<thead><tr><th scope=col>movie_title</th><th scope=col>director_name</th><th scope=col>actor_1_name</th><th scope=col>actor_2_name</th><th scope=col>actor_3_name</th><th scope=col>title_year</th><th scope=col>movie_imdb_link</th></tr></thead>\n",
       "<tbody>\n",
       "\t<tr><td>StarWars: Episode VII - The Force Awakens           </td><td>Doug Walker                                         </td><td>Doug Walker                                         </td><td>Rob Walker                                          </td><td>NA                                                  </td><td>  NA                                                </td><td>http://www.imdb.com/title/tt5289954/?ref_=fn_tt_tt_1</td></tr>\n",
       "\t<tr><td>TheLovers                                           </td><td>Roland JoffÃ©                                       </td><td>Tamsin Egerton                                      </td><td>Alice Englert                                       </td><td>Bipasha Basu                                        </td><td>2015                                                </td><td>http://www.imdb.com/title/tt1321869/?ref_=fn_tt_tt_1</td></tr>\n",
       "\t<tr><td>GodzillaResurgence                                  </td><td>Hideaki Anno                                        </td><td>Mark Chinnery                                       </td><td>Shin'ya Tsukamoto                                   </td><td>Atsuko Maeda                                        </td><td>2016                                                </td><td>http://www.imdb.com/title/tt4262980/?ref_=fn_tt_tt_1</td></tr>\n",
       "\t<tr><td>HarryPotter and the Deathly Hallows: Part II        </td><td>Matt Birch                                          </td><td>Rupert Grint                                        </td><td>Dave Legeno                                         </td><td>Ralph Ineson                                        </td><td>2011                                                </td><td>http://www.imdb.com/title/tt1680310/?ref_=fn_tt_tt_1</td></tr>\n",
       "\t<tr><td>GodzillaResurgence                                  </td><td>Hideaki Anno                                        </td><td>Mark Chinnery                                       </td><td>Shin'ya Tsukamoto                                   </td><td>Atsuko Maeda                                        </td><td>2016                                                </td><td>http://www.imdb.com/title/tt4262980/?ref_=fn_tt_tt_1</td></tr>\n",
       "\t<tr><td>HarryPotter and the Deathly Hallows: Part I         </td><td>Matt Birch                                          </td><td>Rupert Grint                                        </td><td>Toby Jones                                          </td><td>Alfred Enoch                                        </td><td>2010                                                </td><td>http://www.imdb.com/title/tt1571403/?ref_=fn_tt_tt_1</td></tr>\n",
       "\t<tr><td>TheA-Team                                           </td><td>NA                                                  </td><td>George Peppard                                      </td><td>Dirk Benedict                                       </td><td>Dwight Schultz                                      </td><td>  NA                                                </td><td>http://www.imdb.com/title/tt0084967/?ref_=fn_tt_tt_1</td></tr>\n",
       "\t<tr><td>\"10,000B.C.             \"                           </td><td>Christopher Barnard                                 </td><td>Mathew Buck                                         </td><td>NA                                                  </td><td>NA                                                  </td><td>  NA                                                </td><td>http://www.imdb.com/title/tt1869849/?ref_=fn_tt_tt_1</td></tr>\n",
       "\t<tr><td>Ben-Hur                                             </td><td>Timur Bekmambetov                                   </td><td>Morgan Freeman                                      </td><td>Ayelet Zurer                                        </td><td>Moises Arias                                        </td><td>2016                                                </td><td>http://www.imdb.com/title/tt2638144/?ref_=fn_tt_tt_1</td></tr>\n",
       "\t<tr><td>Hannibal                                            </td><td>NA                                                  </td><td>Caroline Dhavernas                                  </td><td>Scott Thompson                                      </td><td>Hettienne Park                                      </td><td>  NA                                                </td><td>http://www.imdb.com/title/tt2243973/?ref_=fn_tt_tt_1</td></tr>\n",
       "\t<tr><td>AllThat Jazz                                        </td><td>Bob Fosse                                           </td><td>Roy Scheider                                        </td><td>Ben Vereen                                          </td><td>Max Wright                                          </td><td>1979                                                </td><td>http://www.imdb.com/title/tt0078754/?ref_=fn_tt_tt_1</td></tr>\n",
       "\t<tr><td>Daredevil                                           </td><td>NA                                                  </td><td>Elden Henson                                        </td><td>Royce Johnson                                       </td><td>Charlie Cox                                         </td><td>  NA                                                </td><td>http://www.imdb.com/title/tt3322312/?ref_=fn_tt_tt_1</td></tr>\n",
       "\t<tr><td>Bewitched                                           </td><td>NA                                                  </td><td>Elizabeth Montgomery                                </td><td>Agnes Moorehead                                     </td><td>Dick York                                           </td><td>  NA                                                </td><td>http://www.imdb.com/title/tt0057733/?ref_=fn_tt_tt_1</td></tr>\n",
       "\t<tr><td>Evolution                                           </td><td>Lucile Hadzihalilovic                               </td><td>Nissim Renard                                       </td><td>Roxane Duran                                        </td><td>Julie-Marie Parmentier                              </td><td>2015                                                </td><td>http://www.imdb.com/title/tt4291590/?ref_=fn_tt_tt_1</td></tr>\n",
       "\t<tr><td>Constantine                                         </td><td>NA                                                  </td><td>Harold Perrineau                                    </td><td>Matt Ryan                                           </td><td>Charles Halford                                     </td><td>  NA                                                </td><td>http://www.imdb.com/title/tt3489184/?ref_=fn_tt_tt_1</td></tr>\n",
       "\t<tr><td>Life                                                </td><td>NA                                                  </td><td>Adam Arkin                                          </td><td>Brent Sexton                                        </td><td>Damian Lewis                                        </td><td>  NA                                                </td><td>http://www.imdb.com/title/tt0874936/?ref_=fn_tt_tt_1</td></tr>\n",
       "\t<tr><td>SleepyHollow                                        </td><td>NA                                                  </td><td>Nicole Beharie                                      </td><td>Katia Winter                                        </td><td>Lyndie Greenwood                                    </td><td>  NA                                                </td><td>http://www.imdb.com/title/tt2647544/?ref_=fn_tt_tt_1</td></tr>\n",
       "\t<tr><td>LastMan Standing                                    </td><td>NA                                                  </td><td>Hector Elizondo                                     </td><td>Kaitlyn Dever                                       </td><td>Nancy Travis                                        </td><td>  NA                                                </td><td>http://www.imdb.com/title/tt1828327/?ref_=fn_tt_tt_1</td></tr>\n",
       "\t<tr><td>TheMissing                                          </td><td>NA                                                  </td><td>Jason Flemyng                                       </td><td>James Nesbitt                                       </td><td>Frances O'Connor                                    </td><td>  NA                                                </td><td>http://www.imdb.com/title/tt3877200/?ref_=fn_tt_tt_1</td></tr>\n",
       "\t<tr><td>Rulesof Engagement                                  </td><td>NA                                                  </td><td>Bianca Kajlich                                      </td><td>Oliver Hudson                                       </td><td>Adhir Kalyan                                        </td><td>  NA                                                </td><td>http://www.imdb.com/title/tt0790772/?ref_=fn_tt_tt_1</td></tr>\n",
       "</tbody>\n",
       "</table>\n"
      ],
      "text/latex": [
       "\\begin{tabular}{r|lllllll}\n",
       " movie\\_title & director\\_name & actor\\_1\\_name & actor\\_2\\_name & actor\\_3\\_name & title\\_year & movie\\_imdb\\_link\\\\\n",
       "\\hline\n",
       "\t StarWars: Episode VII - The Force Awakens                    & Doug Walker                                                  & Doug Walker                                                  & Rob Walker                                                   & NA                                                           &   NA                                                         & http://www.imdb.com/title/tt5289954/?ref\\_=fn\\_tt\\_tt\\_1\\\\\n",
       "\t TheLovers                                                    & Roland JoffÃ©                                                & Tamsin Egerton                                               & Alice Englert                                                & Bipasha Basu                                                 & 2015                                                         & http://www.imdb.com/title/tt1321869/?ref\\_=fn\\_tt\\_tt\\_1\\\\\n",
       "\t GodzillaResurgence                                           & Hideaki Anno                                                 & Mark Chinnery                                                & Shin'ya Tsukamoto                                            & Atsuko Maeda                                                 & 2016                                                         & http://www.imdb.com/title/tt4262980/?ref\\_=fn\\_tt\\_tt\\_1\\\\\n",
       "\t HarryPotter and the Deathly Hallows: Part II                 & Matt Birch                                                   & Rupert Grint                                                 & Dave Legeno                                                  & Ralph Ineson                                                 & 2011                                                         & http://www.imdb.com/title/tt1680310/?ref\\_=fn\\_tt\\_tt\\_1\\\\\n",
       "\t GodzillaResurgence                                           & Hideaki Anno                                                 & Mark Chinnery                                                & Shin'ya Tsukamoto                                            & Atsuko Maeda                                                 & 2016                                                         & http://www.imdb.com/title/tt4262980/?ref\\_=fn\\_tt\\_tt\\_1\\\\\n",
       "\t HarryPotter and the Deathly Hallows: Part I                  & Matt Birch                                                   & Rupert Grint                                                 & Toby Jones                                                   & Alfred Enoch                                                 & 2010                                                         & http://www.imdb.com/title/tt1571403/?ref\\_=fn\\_tt\\_tt\\_1\\\\\n",
       "\t TheA-Team                                                    & NA                                                           & George Peppard                                               & Dirk Benedict                                                & Dwight Schultz                                               &   NA                                                         & http://www.imdb.com/title/tt0084967/?ref\\_=fn\\_tt\\_tt\\_1\\\\\n",
       "\t \"10,000B.C.             \"                                    & Christopher Barnard                                          & Mathew Buck                                                  & NA                                                           & NA                                                           &   NA                                                         & http://www.imdb.com/title/tt1869849/?ref\\_=fn\\_tt\\_tt\\_1\\\\\n",
       "\t Ben-Hur                                                      & Timur Bekmambetov                                            & Morgan Freeman                                               & Ayelet Zurer                                                 & Moises Arias                                                 & 2016                                                         & http://www.imdb.com/title/tt2638144/?ref\\_=fn\\_tt\\_tt\\_1\\\\\n",
       "\t Hannibal                                                     & NA                                                           & Caroline Dhavernas                                           & Scott Thompson                                               & Hettienne Park                                               &   NA                                                         & http://www.imdb.com/title/tt2243973/?ref\\_=fn\\_tt\\_tt\\_1\\\\\n",
       "\t AllThat Jazz                                                 & Bob Fosse                                                    & Roy Scheider                                                 & Ben Vereen                                                   & Max Wright                                                   & 1979                                                         & http://www.imdb.com/title/tt0078754/?ref\\_=fn\\_tt\\_tt\\_1\\\\\n",
       "\t Daredevil                                                    & NA                                                           & Elden Henson                                                 & Royce Johnson                                                & Charlie Cox                                                  &   NA                                                         & http://www.imdb.com/title/tt3322312/?ref\\_=fn\\_tt\\_tt\\_1\\\\\n",
       "\t Bewitched                                                    & NA                                                           & Elizabeth Montgomery                                         & Agnes Moorehead                                              & Dick York                                                    &   NA                                                         & http://www.imdb.com/title/tt0057733/?ref\\_=fn\\_tt\\_tt\\_1\\\\\n",
       "\t Evolution                                                    & Lucile Hadzihalilovic                                        & Nissim Renard                                                & Roxane Duran                                                 & Julie-Marie Parmentier                                       & 2015                                                         & http://www.imdb.com/title/tt4291590/?ref\\_=fn\\_tt\\_tt\\_1\\\\\n",
       "\t Constantine                                                  & NA                                                           & Harold Perrineau                                             & Matt Ryan                                                    & Charles Halford                                              &   NA                                                         & http://www.imdb.com/title/tt3489184/?ref\\_=fn\\_tt\\_tt\\_1\\\\\n",
       "\t Life                                                         & NA                                                           & Adam Arkin                                                   & Brent Sexton                                                 & Damian Lewis                                                 &   NA                                                         & http://www.imdb.com/title/tt0874936/?ref\\_=fn\\_tt\\_tt\\_1\\\\\n",
       "\t SleepyHollow                                                 & NA                                                           & Nicole Beharie                                               & Katia Winter                                                 & Lyndie Greenwood                                             &   NA                                                         & http://www.imdb.com/title/tt2647544/?ref\\_=fn\\_tt\\_tt\\_1\\\\\n",
       "\t LastMan Standing                                             & NA                                                           & Hector Elizondo                                              & Kaitlyn Dever                                                & Nancy Travis                                                 &   NA                                                         & http://www.imdb.com/title/tt1828327/?ref\\_=fn\\_tt\\_tt\\_1\\\\\n",
       "\t TheMissing                                                   & NA                                                           & Jason Flemyng                                                & James Nesbitt                                                & Frances O'Connor                                             &   NA                                                         & http://www.imdb.com/title/tt3877200/?ref\\_=fn\\_tt\\_tt\\_1\\\\\n",
       "\t Rulesof Engagement                                           & NA                                                           & Bianca Kajlich                                               & Oliver Hudson                                                & Adhir Kalyan                                                 &   NA                                                         & http://www.imdb.com/title/tt0790772/?ref\\_=fn\\_tt\\_tt\\_1\\\\\n",
       "\\end{tabular}\n"
      ],
      "text/markdown": [
       "\n",
       "movie_title | director_name | actor_1_name | actor_2_name | actor_3_name | title_year | movie_imdb_link | \n",
       "|---|---|---|---|---|---|---|---|---|---|---|---|---|---|---|---|---|---|---|---|\n",
       "| StarWars: Episode VII - The Force Awakens            | Doug Walker                                          | Doug Walker                                          | Rob Walker                                           | NA                                                   |   NA                                                 | http://www.imdb.com/title/tt5289954/?ref_=fn_tt_tt_1 | \n",
       "| TheLovers                                            | Roland JoffÃ©                                        | Tamsin Egerton                                       | Alice Englert                                        | Bipasha Basu                                         | 2015                                                 | http://www.imdb.com/title/tt1321869/?ref_=fn_tt_tt_1 | \n",
       "| GodzillaResurgence                                   | Hideaki Anno                                         | Mark Chinnery                                        | Shin'ya Tsukamoto                                    | Atsuko Maeda                                         | 2016                                                 | http://www.imdb.com/title/tt4262980/?ref_=fn_tt_tt_1 | \n",
       "| HarryPotter and the Deathly Hallows: Part II         | Matt Birch                                           | Rupert Grint                                         | Dave Legeno                                          | Ralph Ineson                                         | 2011                                                 | http://www.imdb.com/title/tt1680310/?ref_=fn_tt_tt_1 | \n",
       "| GodzillaResurgence                                   | Hideaki Anno                                         | Mark Chinnery                                        | Shin'ya Tsukamoto                                    | Atsuko Maeda                                         | 2016                                                 | http://www.imdb.com/title/tt4262980/?ref_=fn_tt_tt_1 | \n",
       "| HarryPotter and the Deathly Hallows: Part I          | Matt Birch                                           | Rupert Grint                                         | Toby Jones                                           | Alfred Enoch                                         | 2010                                                 | http://www.imdb.com/title/tt1571403/?ref_=fn_tt_tt_1 | \n",
       "| TheA-Team                                            | NA                                                   | George Peppard                                       | Dirk Benedict                                        | Dwight Schultz                                       |   NA                                                 | http://www.imdb.com/title/tt0084967/?ref_=fn_tt_tt_1 | \n",
       "| \"10,000B.C.             \"                            | Christopher Barnard                                  | Mathew Buck                                          | NA                                                   | NA                                                   |   NA                                                 | http://www.imdb.com/title/tt1869849/?ref_=fn_tt_tt_1 | \n",
       "| Ben-Hur                                              | Timur Bekmambetov                                    | Morgan Freeman                                       | Ayelet Zurer                                         | Moises Arias                                         | 2016                                                 | http://www.imdb.com/title/tt2638144/?ref_=fn_tt_tt_1 | \n",
       "| Hannibal                                             | NA                                                   | Caroline Dhavernas                                   | Scott Thompson                                       | Hettienne Park                                       |   NA                                                 | http://www.imdb.com/title/tt2243973/?ref_=fn_tt_tt_1 | \n",
       "| AllThat Jazz                                         | Bob Fosse                                            | Roy Scheider                                         | Ben Vereen                                           | Max Wright                                           | 1979                                                 | http://www.imdb.com/title/tt0078754/?ref_=fn_tt_tt_1 | \n",
       "| Daredevil                                            | NA                                                   | Elden Henson                                         | Royce Johnson                                        | Charlie Cox                                          |   NA                                                 | http://www.imdb.com/title/tt3322312/?ref_=fn_tt_tt_1 | \n",
       "| Bewitched                                            | NA                                                   | Elizabeth Montgomery                                 | Agnes Moorehead                                      | Dick York                                            |   NA                                                 | http://www.imdb.com/title/tt0057733/?ref_=fn_tt_tt_1 | \n",
       "| Evolution                                            | Lucile Hadzihalilovic                                | Nissim Renard                                        | Roxane Duran                                         | Julie-Marie Parmentier                               | 2015                                                 | http://www.imdb.com/title/tt4291590/?ref_=fn_tt_tt_1 | \n",
       "| Constantine                                          | NA                                                   | Harold Perrineau                                     | Matt Ryan                                            | Charles Halford                                      |   NA                                                 | http://www.imdb.com/title/tt3489184/?ref_=fn_tt_tt_1 | \n",
       "| Life                                                 | NA                                                   | Adam Arkin                                           | Brent Sexton                                         | Damian Lewis                                         |   NA                                                 | http://www.imdb.com/title/tt0874936/?ref_=fn_tt_tt_1 | \n",
       "| SleepyHollow                                         | NA                                                   | Nicole Beharie                                       | Katia Winter                                         | Lyndie Greenwood                                     |   NA                                                 | http://www.imdb.com/title/tt2647544/?ref_=fn_tt_tt_1 | \n",
       "| LastMan Standing                                     | NA                                                   | Hector Elizondo                                      | Kaitlyn Dever                                        | Nancy Travis                                         |   NA                                                 | http://www.imdb.com/title/tt1828327/?ref_=fn_tt_tt_1 | \n",
       "| TheMissing                                           | NA                                                   | Jason Flemyng                                        | James Nesbitt                                        | Frances O'Connor                                     |   NA                                                 | http://www.imdb.com/title/tt3877200/?ref_=fn_tt_tt_1 | \n",
       "| Rulesof Engagement                                   | NA                                                   | Bianca Kajlich                                       | Oliver Hudson                                        | Adhir Kalyan                                         |   NA                                                 | http://www.imdb.com/title/tt0790772/?ref_=fn_tt_tt_1 | \n",
       "\n",
       "\n"
      ],
      "text/plain": [
       "   movie_title                                   director_name        \n",
       "1  StarWars: Episode VII - The Force Awakens     Doug Walker          \n",
       "2  TheLovers                                     Roland JoffÃ©        \n",
       "3  GodzillaResurgence                            Hideaki Anno         \n",
       "4  HarryPotter and the Deathly Hallows: Part II  Matt Birch           \n",
       "5  GodzillaResurgence                            Hideaki Anno         \n",
       "6  HarryPotter and the Deathly Hallows: Part I   Matt Birch           \n",
       "7  TheA-Team                                     NA                   \n",
       "8  \"10,000B.C.             \"                     Christopher Barnard  \n",
       "9  Ben-Hur                                       Timur Bekmambetov    \n",
       "10 Hannibal                                      NA                   \n",
       "11 AllThat Jazz                                  Bob Fosse            \n",
       "12 Daredevil                                     NA                   \n",
       "13 Bewitched                                     NA                   \n",
       "14 Evolution                                     Lucile Hadzihalilovic\n",
       "15 Constantine                                   NA                   \n",
       "16 Life                                          NA                   \n",
       "17 SleepyHollow                                  NA                   \n",
       "18 LastMan Standing                              NA                   \n",
       "19 TheMissing                                    NA                   \n",
       "20 Rulesof Engagement                            NA                   \n",
       "   actor_1_name         actor_2_name      actor_3_name           title_year\n",
       "1  Doug Walker          Rob Walker        NA                       NA      \n",
       "2  Tamsin Egerton       Alice Englert     Bipasha Basu           2015      \n",
       "3  Mark Chinnery        Shin'ya Tsukamoto Atsuko Maeda           2016      \n",
       "4  Rupert Grint         Dave Legeno       Ralph Ineson           2011      \n",
       "5  Mark Chinnery        Shin'ya Tsukamoto Atsuko Maeda           2016      \n",
       "6  Rupert Grint         Toby Jones        Alfred Enoch           2010      \n",
       "7  George Peppard       Dirk Benedict     Dwight Schultz           NA      \n",
       "8  Mathew Buck          NA                NA                       NA      \n",
       "9  Morgan Freeman       Ayelet Zurer      Moises Arias           2016      \n",
       "10 Caroline Dhavernas   Scott Thompson    Hettienne Park           NA      \n",
       "11 Roy Scheider         Ben Vereen        Max Wright             1979      \n",
       "12 Elden Henson         Royce Johnson     Charlie Cox              NA      \n",
       "13 Elizabeth Montgomery Agnes Moorehead   Dick York                NA      \n",
       "14 Nissim Renard        Roxane Duran      Julie-Marie Parmentier 2015      \n",
       "15 Harold Perrineau     Matt Ryan         Charles Halford          NA      \n",
       "16 Adam Arkin           Brent Sexton      Damian Lewis             NA      \n",
       "17 Nicole Beharie       Katia Winter      Lyndie Greenwood         NA      \n",
       "18 Hector Elizondo      Kaitlyn Dever     Nancy Travis             NA      \n",
       "19 Jason Flemyng        James Nesbitt     Frances O'Connor         NA      \n",
       "20 Bianca Kajlich       Oliver Hudson     Adhir Kalyan             NA      \n",
       "   movie_imdb_link                                     \n",
       "1  http://www.imdb.com/title/tt5289954/?ref_=fn_tt_tt_1\n",
       "2  http://www.imdb.com/title/tt1321869/?ref_=fn_tt_tt_1\n",
       "3  http://www.imdb.com/title/tt4262980/?ref_=fn_tt_tt_1\n",
       "4  http://www.imdb.com/title/tt1680310/?ref_=fn_tt_tt_1\n",
       "5  http://www.imdb.com/title/tt4262980/?ref_=fn_tt_tt_1\n",
       "6  http://www.imdb.com/title/tt1571403/?ref_=fn_tt_tt_1\n",
       "7  http://www.imdb.com/title/tt0084967/?ref_=fn_tt_tt_1\n",
       "8  http://www.imdb.com/title/tt1869849/?ref_=fn_tt_tt_1\n",
       "9  http://www.imdb.com/title/tt2638144/?ref_=fn_tt_tt_1\n",
       "10 http://www.imdb.com/title/tt2243973/?ref_=fn_tt_tt_1\n",
       "11 http://www.imdb.com/title/tt0078754/?ref_=fn_tt_tt_1\n",
       "12 http://www.imdb.com/title/tt3322312/?ref_=fn_tt_tt_1\n",
       "13 http://www.imdb.com/title/tt0057733/?ref_=fn_tt_tt_1\n",
       "14 http://www.imdb.com/title/tt4291590/?ref_=fn_tt_tt_1\n",
       "15 http://www.imdb.com/title/tt3489184/?ref_=fn_tt_tt_1\n",
       "16 http://www.imdb.com/title/tt0874936/?ref_=fn_tt_tt_1\n",
       "17 http://www.imdb.com/title/tt2647544/?ref_=fn_tt_tt_1\n",
       "18 http://www.imdb.com/title/tt1828327/?ref_=fn_tt_tt_1\n",
       "19 http://www.imdb.com/title/tt3877200/?ref_=fn_tt_tt_1\n",
       "20 http://www.imdb.com/title/tt0790772/?ref_=fn_tt_tt_1"
      ]
     },
     "metadata": {},
     "output_type": "display_data"
    }
   ],
   "source": [
    "print(paste0(\"Number of rows: \",nrow(subset(movies,is.na(movies$gross)&is.na(movies$budget)))))\n",
    "head(subset(movies,is.na(movies$gross)&is.na(movies$budget),\n",
    "            select=c(\"movie_title\",\"director_name\",\"actor_1_name\",\"actor_2_name\",\n",
    "                     \"actor_3_name\",\"title_year\",\"movie_imdb_link\")), n=20)"
   ]
  },
  {
   "cell_type": "markdown",
   "metadata": {},
   "source": [
    "In these data, 13 observations, on a total of 20, come from the wrong IMDB page, and six are movies whose IMDB page don't show that information and one is a duplicate. From that sample, I notice that data who were mistakenly taken from the IMDB page of a TV show doesn't have a value for the variable \"director_name\", since generally more than one director work on a TV show, and for the variable \"title_year\", since they often run for more than a season. That could indicate that missing value for those two variables and the variable \"gross\" and/or \"budget\" is a strong indicator of an odd observation. \n",
    "\n",
    "Let's look at some examples of observations were only \"gross\" values is missing to see if that hypothesis is correct."
   ]
  },
  {
   "cell_type": "code",
   "execution_count": 35,
   "metadata": {
    "collapsed": false
   },
   "outputs": [
    {
     "name": "stdout",
     "output_type": "stream",
     "text": [
      "[1] \"Number of rows: 660\"\n"
     ]
    },
    {
     "data": {
      "text/html": [
       "<table>\n",
       "<thead><tr><th scope=col>movie_title</th><th scope=col>director_name</th><th scope=col>actor_1_name</th><th scope=col>actor_2_name</th><th scope=col>actor_3_name</th><th scope=col>title_year</th><th scope=col>movie_imdb_link</th></tr></thead>\n",
       "<tbody>\n",
       "\t<tr><td>MiamiVice                                           </td><td>NA                                                  </td><td>Don Johnson                                         </td><td>Philip Michael Thomas                               </td><td>John Diehl                                          </td><td>  NA                                                </td><td>http://www.imdb.com/title/tt0086759/?ref_=fn_tt_tt_1</td></tr>\n",
       "\t<tr><td>Asterixat the Olympic Games                         </td><td>FrÃ©dÃ©ric Forestier                                </td><td>Alain Delon                                         </td><td>Santiago Segura                                     </td><td>Vanessa Hessler                                     </td><td>2008                                                </td><td>http://www.imdb.com/title/tt0463872/?ref_=fn_tt_tt_1</td></tr>\n",
       "\t<tr><td>Creepshow                                           </td><td>George A. Romero                                    </td><td>Ted Danson                                          </td><td>Hal Holbrook                                        </td><td>Adrienne Barbeau                                    </td><td>1982                                                </td><td>http://www.imdb.com/title/tt0083767/?ref_=fn_tt_tt_1</td></tr>\n",
       "\t<tr><td>TopCat Begins                                       </td><td>AndrÃ©s Couturier                                   </td><td>Sariann Monaco                                      </td><td>David Hoffman                                       </td><td>Ben Diskin                                          </td><td>2015                                                </td><td>http://www.imdb.com/title/tt4057916/?ref_=fn_tt_tt_1</td></tr>\n",
       "\t<tr><td>RedDawn                                             </td><td>John Milius                                         </td><td>Lea Thompson                                        </td><td>Jennifer Grey                                       </td><td>William Smith                                       </td><td>1984                                                </td><td>http://www.imdb.com/title/tt0087985/?ref_=fn_tt_tt_1</td></tr>\n",
       "\t<tr><td>Xiyou ji zhi: Sun Wukong san da Baigu Jing          </td><td>Pou-Soi Cheang                                      </td><td>Li Gong                                             </td><td>Aaron Kwok                                          </td><td>Eddie Peng                                          </td><td>2016                                                </td><td>http://www.imdb.com/title/tt4591310/?ref_=fn_tt_tt_1</td></tr>\n",
       "\t<tr><td>\"Sabrina,the Teenage Witch             \"            </td><td>NA                                                  </td><td>Nate Richert                                        </td><td>Soleil Moon Frye                                    </td><td>Caroline Rhea                                       </td><td>  NA                                                </td><td>http://www.imdb.com/title/tt0115341/?ref_=fn_tt_tt_1</td></tr>\n",
       "\t<tr><td>StargateSG-1                                        </td><td>NA                                                  </td><td>Christopher Judge                                   </td><td>Don S. Davis                                        </td><td>Gary Jones                                          </td><td>  NA                                                </td><td>http://www.imdb.com/title/tt0118480/?ref_=fn_tt_tt_1</td></tr>\n",
       "\t<tr><td>Lolita                                              </td><td>Stanley Kubrick                                     </td><td>James Mason                                         </td><td>Shelley Winters                                     </td><td>Lois Maxwell                                        </td><td>1962                                                </td><td>http://www.imdb.com/title/tt0056193/?ref_=fn_tt_tt_1</td></tr>\n",
       "\t<tr><td>EyeSee You                                          </td><td>Jim Gillespie                                       </td><td>Sylvester Stallone                                  </td><td>Tom Berenger                                        </td><td>Charles S. Dutton                                   </td><td>2002                                                </td><td>http://www.imdb.com/title/tt0160184/?ref_=fn_tt_tt_1</td></tr>\n",
       "\t<tr><td>TheTooth Fairy                                      </td><td>Chuck Bowman                                        </td><td>P.J. Soles                                          </td><td>Lochlyn Munro                                       </td><td>Steve Bacic                                         </td><td>2006                                                </td><td>http://www.imdb.com/title/tt0473553/?ref_=fn_tt_tt_1</td></tr>\n",
       "\t<tr><td>FirstBlood                                          </td><td>Ted Kotcheff                                        </td><td>Sylvester Stallone                                  </td><td>Brian Dennehy                                       </td><td>Chris Mulkey                                        </td><td>1982                                                </td><td>http://www.imdb.com/title/tt0083944/?ref_=fn_tt_tt_1</td></tr>\n",
       "\t<tr><td>Solaris                                             </td><td>Andrei Tarkovsky                                    </td><td>Donatas Banionis                                    </td><td>Anatoliy Solonitsyn                                 </td><td>Natalya Bondarchuk                                  </td><td>1972                                                </td><td>http://www.imdb.com/title/tt0069293/?ref_=fn_tt_tt_1</td></tr>\n",
       "\t<tr><td>Inchon                                              </td><td>Terence Young                                       </td><td>Laurence Olivier                                    </td><td>Ben Gazzara                                         </td><td>Jacqueline Bisset                                   </td><td>1981                                                </td><td>http://www.imdb.com/title/tt0084132/?ref_=fn_tt_tt_1</td></tr>\n",
       "\t<tr><td>\"Yours,Mine and Ours \"                              </td><td>Melville Shavelson                                  </td><td>Lucille Ball                                        </td><td>Tom Bosley                                          </td><td>Tim Matheson                                        </td><td>1968                                                </td><td>http://www.imdb.com/title/tt0063829/?ref_=fn_tt_tt_1</td></tr>\n",
       "\t<tr><td>Foodfight!                                          </td><td>Lawrence Kasanoff                                   </td><td>Jerry Stiller                                       </td><td>Larry Miller                                        </td><td>Harvey Fierstein                                    </td><td>2012                                                </td><td>http://www.imdb.com/title/tt0249516/?ref_=fn_tt_tt_1</td></tr>\n",
       "\t<tr><td>AMonster in Paris                                   </td><td>Bibo Bergeron                                       </td><td>Adam Goldberg                                       </td><td>Bob Balaban                                         </td><td>FranÃ§ois Cluzet                                    </td><td>2011                                                </td><td>http://www.imdb.com/title/tt0961097/?ref_=fn_tt_tt_1</td></tr>\n",
       "\t<tr><td>DragonNest: Warriors' Dawn                          </td><td>Yuefeng Song                                        </td><td>Blythe Auffarth                                     </td><td>Bianca Collins                                      </td><td>Jiao Xu                                             </td><td>2014                                                </td><td>http://www.imdb.com/title/tt2911342/?ref_=fn_tt_tt_1</td></tr>\n",
       "\t<tr><td>VirginTerritory                                     </td><td>David Leland                                        </td><td>Hayden Christensen                                  </td><td>Ryan Cartwright                                     </td><td>David Walliams                                      </td><td>2007                                                </td><td>http://www.imdb.com/title/tt0437954/?ref_=fn_tt_tt_1</td></tr>\n",
       "\t<tr><td>Obitaemyyostrov                                     </td><td>Fedor Bondarchuk                                    </td><td>Yuliya Snigir                                       </td><td>Fedor Bondarchuk                                    </td><td>Aleksey Serebryakov                                 </td><td>2009                                                </td><td>http://www.imdb.com/title/tt0972558/?ref_=fn_tt_tt_1</td></tr>\n",
       "</tbody>\n",
       "</table>\n"
      ],
      "text/latex": [
       "\\begin{tabular}{r|lllllll}\n",
       " movie\\_title & director\\_name & actor\\_1\\_name & actor\\_2\\_name & actor\\_3\\_name & title\\_year & movie\\_imdb\\_link\\\\\n",
       "\\hline\n",
       "\t MiamiVice                                                    & NA                                                           & Don Johnson                                                  & Philip Michael Thomas                                        & John Diehl                                                   &   NA                                                         & http://www.imdb.com/title/tt0086759/?ref\\_=fn\\_tt\\_tt\\_1\\\\\n",
       "\t Asterixat the Olympic Games                                  & FrÃ©dÃ©ric Forestier                                         & Alain Delon                                                  & Santiago Segura                                              & Vanessa Hessler                                              & 2008                                                         & http://www.imdb.com/title/tt0463872/?ref\\_=fn\\_tt\\_tt\\_1\\\\\n",
       "\t Creepshow                                                    & George A. Romero                                             & Ted Danson                                                   & Hal Holbrook                                                 & Adrienne Barbeau                                             & 1982                                                         & http://www.imdb.com/title/tt0083767/?ref\\_=fn\\_tt\\_tt\\_1\\\\\n",
       "\t TopCat Begins                                                & AndrÃ©s Couturier                                            & Sariann Monaco                                               & David Hoffman                                                & Ben Diskin                                                   & 2015                                                         & http://www.imdb.com/title/tt4057916/?ref\\_=fn\\_tt\\_tt\\_1\\\\\n",
       "\t RedDawn                                                      & John Milius                                                  & Lea Thompson                                                 & Jennifer Grey                                                & William Smith                                                & 1984                                                         & http://www.imdb.com/title/tt0087985/?ref\\_=fn\\_tt\\_tt\\_1\\\\\n",
       "\t Xiyou ji zhi: Sun Wukong san da Baigu Jing                   & Pou-Soi Cheang                                               & Li Gong                                                      & Aaron Kwok                                                   & Eddie Peng                                                   & 2016                                                         & http://www.imdb.com/title/tt4591310/?ref\\_=fn\\_tt\\_tt\\_1\\\\\n",
       "\t \"Sabrina,the Teenage Witch             \"                     & NA                                                           & Nate Richert                                                 & Soleil Moon Frye                                             & Caroline Rhea                                                &   NA                                                         & http://www.imdb.com/title/tt0115341/?ref\\_=fn\\_tt\\_tt\\_1\\\\\n",
       "\t StargateSG-1                                                 & NA                                                           & Christopher Judge                                            & Don S. Davis                                                 & Gary Jones                                                   &   NA                                                         & http://www.imdb.com/title/tt0118480/?ref\\_=fn\\_tt\\_tt\\_1\\\\\n",
       "\t Lolita                                                       & Stanley Kubrick                                              & James Mason                                                  & Shelley Winters                                              & Lois Maxwell                                                 & 1962                                                         & http://www.imdb.com/title/tt0056193/?ref\\_=fn\\_tt\\_tt\\_1\\\\\n",
       "\t EyeSee You                                                   & Jim Gillespie                                                & Sylvester Stallone                                           & Tom Berenger                                                 & Charles S. Dutton                                            & 2002                                                         & http://www.imdb.com/title/tt0160184/?ref\\_=fn\\_tt\\_tt\\_1\\\\\n",
       "\t TheTooth Fairy                                               & Chuck Bowman                                                 & P.J. Soles                                                   & Lochlyn Munro                                                & Steve Bacic                                                  & 2006                                                         & http://www.imdb.com/title/tt0473553/?ref\\_=fn\\_tt\\_tt\\_1\\\\\n",
       "\t FirstBlood                                                   & Ted Kotcheff                                                 & Sylvester Stallone                                           & Brian Dennehy                                                & Chris Mulkey                                                 & 1982                                                         & http://www.imdb.com/title/tt0083944/?ref\\_=fn\\_tt\\_tt\\_1\\\\\n",
       "\t Solaris                                                      & Andrei Tarkovsky                                             & Donatas Banionis                                             & Anatoliy Solonitsyn                                          & Natalya Bondarchuk                                           & 1972                                                         & http://www.imdb.com/title/tt0069293/?ref\\_=fn\\_tt\\_tt\\_1\\\\\n",
       "\t Inchon                                                       & Terence Young                                                & Laurence Olivier                                             & Ben Gazzara                                                  & Jacqueline Bisset                                            & 1981                                                         & http://www.imdb.com/title/tt0084132/?ref\\_=fn\\_tt\\_tt\\_1\\\\\n",
       "\t \"Yours,Mine and Ours \"                                       & Melville Shavelson                                           & Lucille Ball                                                 & Tom Bosley                                                   & Tim Matheson                                                 & 1968                                                         & http://www.imdb.com/title/tt0063829/?ref\\_=fn\\_tt\\_tt\\_1\\\\\n",
       "\t Foodfight!                                                   & Lawrence Kasanoff                                            & Jerry Stiller                                                & Larry Miller                                                 & Harvey Fierstein                                             & 2012                                                         & http://www.imdb.com/title/tt0249516/?ref\\_=fn\\_tt\\_tt\\_1\\\\\n",
       "\t AMonster in Paris                                            & Bibo Bergeron                                                & Adam Goldberg                                                & Bob Balaban                                                  & FranÃ§ois Cluzet                                             & 2011                                                         & http://www.imdb.com/title/tt0961097/?ref\\_=fn\\_tt\\_tt\\_1\\\\\n",
       "\t DragonNest: Warriors' Dawn                                   & Yuefeng Song                                                 & Blythe Auffarth                                              & Bianca Collins                                               & Jiao Xu                                                      & 2014                                                         & http://www.imdb.com/title/tt2911342/?ref\\_=fn\\_tt\\_tt\\_1\\\\\n",
       "\t VirginTerritory                                              & David Leland                                                 & Hayden Christensen                                           & Ryan Cartwright                                              & David Walliams                                               & 2007                                                         & http://www.imdb.com/title/tt0437954/?ref\\_=fn\\_tt\\_tt\\_1\\\\\n",
       "\t Obitaemyyostrov                                              & Fedor Bondarchuk                                             & Yuliya Snigir                                                & Fedor Bondarchuk                                             & Aleksey Serebryakov                                          & 2009                                                         & http://www.imdb.com/title/tt0972558/?ref\\_=fn\\_tt\\_tt\\_1\\\\\n",
       "\\end{tabular}\n"
      ],
      "text/markdown": [
       "\n",
       "movie_title | director_name | actor_1_name | actor_2_name | actor_3_name | title_year | movie_imdb_link | \n",
       "|---|---|---|---|---|---|---|---|---|---|---|---|---|---|---|---|---|---|---|---|\n",
       "| MiamiVice                                            | NA                                                   | Don Johnson                                          | Philip Michael Thomas                                | John Diehl                                           |   NA                                                 | http://www.imdb.com/title/tt0086759/?ref_=fn_tt_tt_1 | \n",
       "| Asterixat the Olympic Games                          | FrÃ©dÃ©ric Forestier                                 | Alain Delon                                          | Santiago Segura                                      | Vanessa Hessler                                      | 2008                                                 | http://www.imdb.com/title/tt0463872/?ref_=fn_tt_tt_1 | \n",
       "| Creepshow                                            | George A. Romero                                     | Ted Danson                                           | Hal Holbrook                                         | Adrienne Barbeau                                     | 1982                                                 | http://www.imdb.com/title/tt0083767/?ref_=fn_tt_tt_1 | \n",
       "| TopCat Begins                                        | AndrÃ©s Couturier                                    | Sariann Monaco                                       | David Hoffman                                        | Ben Diskin                                           | 2015                                                 | http://www.imdb.com/title/tt4057916/?ref_=fn_tt_tt_1 | \n",
       "| RedDawn                                              | John Milius                                          | Lea Thompson                                         | Jennifer Grey                                        | William Smith                                        | 1984                                                 | http://www.imdb.com/title/tt0087985/?ref_=fn_tt_tt_1 | \n",
       "| Xiyou ji zhi: Sun Wukong san da Baigu Jing           | Pou-Soi Cheang                                       | Li Gong                                              | Aaron Kwok                                           | Eddie Peng                                           | 2016                                                 | http://www.imdb.com/title/tt4591310/?ref_=fn_tt_tt_1 | \n",
       "| \"Sabrina,the Teenage Witch             \"             | NA                                                   | Nate Richert                                         | Soleil Moon Frye                                     | Caroline Rhea                                        |   NA                                                 | http://www.imdb.com/title/tt0115341/?ref_=fn_tt_tt_1 | \n",
       "| StargateSG-1                                         | NA                                                   | Christopher Judge                                    | Don S. Davis                                         | Gary Jones                                           |   NA                                                 | http://www.imdb.com/title/tt0118480/?ref_=fn_tt_tt_1 | \n",
       "| Lolita                                               | Stanley Kubrick                                      | James Mason                                          | Shelley Winters                                      | Lois Maxwell                                         | 1962                                                 | http://www.imdb.com/title/tt0056193/?ref_=fn_tt_tt_1 | \n",
       "| EyeSee You                                           | Jim Gillespie                                        | Sylvester Stallone                                   | Tom Berenger                                         | Charles S. Dutton                                    | 2002                                                 | http://www.imdb.com/title/tt0160184/?ref_=fn_tt_tt_1 | \n",
       "| TheTooth Fairy                                       | Chuck Bowman                                         | P.J. Soles                                           | Lochlyn Munro                                        | Steve Bacic                                          | 2006                                                 | http://www.imdb.com/title/tt0473553/?ref_=fn_tt_tt_1 | \n",
       "| FirstBlood                                           | Ted Kotcheff                                         | Sylvester Stallone                                   | Brian Dennehy                                        | Chris Mulkey                                         | 1982                                                 | http://www.imdb.com/title/tt0083944/?ref_=fn_tt_tt_1 | \n",
       "| Solaris                                              | Andrei Tarkovsky                                     | Donatas Banionis                                     | Anatoliy Solonitsyn                                  | Natalya Bondarchuk                                   | 1972                                                 | http://www.imdb.com/title/tt0069293/?ref_=fn_tt_tt_1 | \n",
       "| Inchon                                               | Terence Young                                        | Laurence Olivier                                     | Ben Gazzara                                          | Jacqueline Bisset                                    | 1981                                                 | http://www.imdb.com/title/tt0084132/?ref_=fn_tt_tt_1 | \n",
       "| \"Yours,Mine and Ours \"                               | Melville Shavelson                                   | Lucille Ball                                         | Tom Bosley                                           | Tim Matheson                                         | 1968                                                 | http://www.imdb.com/title/tt0063829/?ref_=fn_tt_tt_1 | \n",
       "| Foodfight!                                           | Lawrence Kasanoff                                    | Jerry Stiller                                        | Larry Miller                                         | Harvey Fierstein                                     | 2012                                                 | http://www.imdb.com/title/tt0249516/?ref_=fn_tt_tt_1 | \n",
       "| AMonster in Paris                                    | Bibo Bergeron                                        | Adam Goldberg                                        | Bob Balaban                                          | FranÃ§ois Cluzet                                     | 2011                                                 | http://www.imdb.com/title/tt0961097/?ref_=fn_tt_tt_1 | \n",
       "| DragonNest: Warriors' Dawn                           | Yuefeng Song                                         | Blythe Auffarth                                      | Bianca Collins                                       | Jiao Xu                                              | 2014                                                 | http://www.imdb.com/title/tt2911342/?ref_=fn_tt_tt_1 | \n",
       "| VirginTerritory                                      | David Leland                                         | Hayden Christensen                                   | Ryan Cartwright                                      | David Walliams                                       | 2007                                                 | http://www.imdb.com/title/tt0437954/?ref_=fn_tt_tt_1 | \n",
       "| Obitaemyyostrov                                      | Fedor Bondarchuk                                     | Yuliya Snigir                                        | Fedor Bondarchuk                                     | Aleksey Serebryakov                                  | 2009                                                 | http://www.imdb.com/title/tt0972558/?ref_=fn_tt_tt_1 | \n",
       "\n",
       "\n"
      ],
      "text/plain": [
       "   movie_title                                 director_name       \n",
       "1  MiamiVice                                   NA                  \n",
       "2  Asterixat the Olympic Games                 FrÃ©dÃ©ric Forestier\n",
       "3  Creepshow                                   George A. Romero    \n",
       "4  TopCat Begins                               AndrÃ©s Couturier   \n",
       "5  RedDawn                                     John Milius         \n",
       "6  Xiyou ji zhi: Sun Wukong san da Baigu Jing  Pou-Soi Cheang      \n",
       "7  \"Sabrina,the Teenage Witch             \"    NA                  \n",
       "8  StargateSG-1                                NA                  \n",
       "9  Lolita                                      Stanley Kubrick     \n",
       "10 EyeSee You                                  Jim Gillespie       \n",
       "11 TheTooth Fairy                              Chuck Bowman        \n",
       "12 FirstBlood                                  Ted Kotcheff        \n",
       "13 Solaris                                     Andrei Tarkovsky    \n",
       "14 Inchon                                      Terence Young       \n",
       "15 \"Yours,Mine and Ours \"                      Melville Shavelson  \n",
       "16 Foodfight!                                  Lawrence Kasanoff   \n",
       "17 AMonster in Paris                           Bibo Bergeron       \n",
       "18 DragonNest: Warriors' Dawn                  Yuefeng Song        \n",
       "19 VirginTerritory                             David Leland        \n",
       "20 Obitaemyyostrov                             Fedor Bondarchuk    \n",
       "   actor_1_name       actor_2_name          actor_3_name        title_year\n",
       "1  Don Johnson        Philip Michael Thomas John Diehl            NA      \n",
       "2  Alain Delon        Santiago Segura       Vanessa Hessler     2008      \n",
       "3  Ted Danson         Hal Holbrook          Adrienne Barbeau    1982      \n",
       "4  Sariann Monaco     David Hoffman         Ben Diskin          2015      \n",
       "5  Lea Thompson       Jennifer Grey         William Smith       1984      \n",
       "6  Li Gong            Aaron Kwok            Eddie Peng          2016      \n",
       "7  Nate Richert       Soleil Moon Frye      Caroline Rhea         NA      \n",
       "8  Christopher Judge  Don S. Davis          Gary Jones            NA      \n",
       "9  James Mason        Shelley Winters       Lois Maxwell        1962      \n",
       "10 Sylvester Stallone Tom Berenger          Charles S. Dutton   2002      \n",
       "11 P.J. Soles         Lochlyn Munro         Steve Bacic         2006      \n",
       "12 Sylvester Stallone Brian Dennehy         Chris Mulkey        1982      \n",
       "13 Donatas Banionis   Anatoliy Solonitsyn   Natalya Bondarchuk  1972      \n",
       "14 Laurence Olivier   Ben Gazzara           Jacqueline Bisset   1981      \n",
       "15 Lucille Ball       Tom Bosley            Tim Matheson        1968      \n",
       "16 Jerry Stiller      Larry Miller          Harvey Fierstein    2012      \n",
       "17 Adam Goldberg      Bob Balaban           FranÃ§ois Cluzet    2011      \n",
       "18 Blythe Auffarth    Bianca Collins        Jiao Xu             2014      \n",
       "19 Hayden Christensen Ryan Cartwright       David Walliams      2007      \n",
       "20 Yuliya Snigir      Fedor Bondarchuk      Aleksey Serebryakov 2009      \n",
       "   movie_imdb_link                                     \n",
       "1  http://www.imdb.com/title/tt0086759/?ref_=fn_tt_tt_1\n",
       "2  http://www.imdb.com/title/tt0463872/?ref_=fn_tt_tt_1\n",
       "3  http://www.imdb.com/title/tt0083767/?ref_=fn_tt_tt_1\n",
       "4  http://www.imdb.com/title/tt4057916/?ref_=fn_tt_tt_1\n",
       "5  http://www.imdb.com/title/tt0087985/?ref_=fn_tt_tt_1\n",
       "6  http://www.imdb.com/title/tt4591310/?ref_=fn_tt_tt_1\n",
       "7  http://www.imdb.com/title/tt0115341/?ref_=fn_tt_tt_1\n",
       "8  http://www.imdb.com/title/tt0118480/?ref_=fn_tt_tt_1\n",
       "9  http://www.imdb.com/title/tt0056193/?ref_=fn_tt_tt_1\n",
       "10 http://www.imdb.com/title/tt0160184/?ref_=fn_tt_tt_1\n",
       "11 http://www.imdb.com/title/tt0473553/?ref_=fn_tt_tt_1\n",
       "12 http://www.imdb.com/title/tt0083944/?ref_=fn_tt_tt_1\n",
       "13 http://www.imdb.com/title/tt0069293/?ref_=fn_tt_tt_1\n",
       "14 http://www.imdb.com/title/tt0084132/?ref_=fn_tt_tt_1\n",
       "15 http://www.imdb.com/title/tt0063829/?ref_=fn_tt_tt_1\n",
       "16 http://www.imdb.com/title/tt0249516/?ref_=fn_tt_tt_1\n",
       "17 http://www.imdb.com/title/tt0961097/?ref_=fn_tt_tt_1\n",
       "18 http://www.imdb.com/title/tt2911342/?ref_=fn_tt_tt_1\n",
       "19 http://www.imdb.com/title/tt0437954/?ref_=fn_tt_tt_1\n",
       "20 http://www.imdb.com/title/tt0972558/?ref_=fn_tt_tt_1"
      ]
     },
     "metadata": {},
     "output_type": "display_data"
    }
   ],
   "source": [
    "print(paste0(\"Number of rows: \",nrow(subset(movies,is.na(movies$gross)&!is.na(movies$budget)))))\n",
    "head(subset(movies,is.na(movies$gross)&!is.na(movies$budget),\n",
    "            select=c(\"movie_title\",\"director_name\",\"actor_1_name\",\"actor_2_name\",\n",
    "                     \"actor_3_name\",\"title_year\",\"movie_imdb_link\")), n=20)"
   ]
  },
  {
   "cell_type": "markdown",
   "metadata": {},
   "source": [
    "Three observations out of 20 are from a TV show instead of the movie of the same name and they all have missing value in the column \"director_name\" and \"title_year\".\n",
    "\n",
    "Now I look at the observations were only the \"budget\" values is missing to see if I should keep them in the data set."
   ]
  },
  {
   "cell_type": "code",
   "execution_count": 36,
   "metadata": {
    "collapsed": false
   },
   "outputs": [
    {
     "name": "stdout",
     "output_type": "stream",
     "text": [
      "[1] \"Number of rows: 268\"\n"
     ]
    },
    {
     "data": {
      "text/html": [
       "<table>\n",
       "<thead><tr><th scope=col>movie_title</th><th scope=col>director_name</th><th scope=col>actor_1_name</th><th scope=col>actor_2_name</th><th scope=col>actor_3_name</th><th scope=col>title_year</th><th scope=col>movie_imdb_link</th></tr></thead>\n",
       "<tbody>\n",
       "\t<tr><td>TheGood Dinosaur                                    </td><td>Peter Sohn                                          </td><td>A.J. Buckley                                        </td><td>Jack McGraw                                         </td><td>Peter Sohn                                          </td><td>2015                                                </td><td>http://www.imdb.com/title/tt1979388/?ref_=fn_tt_tt_1</td></tr>\n",
       "\t<tr><td>Charlotte'sWeb                                      </td><td>Gary Winick                                         </td><td>Steve Buscemi                                       </td><td>Julia Roberts                                       </td><td>Oprah Winfrey                                       </td><td>2006                                                </td><td>http://www.imdb.com/title/tt0413895/?ref_=fn_tt_tt_1</td></tr>\n",
       "\t<tr><td>DÃ©jÃ Vu                                            </td><td>Henry Jaglom                                        </td><td>Vanessa Redgrave                                    </td><td>Stephen Dillane                                     </td><td>Michael Brandon                                     </td><td>1997                                                </td><td>http://www.imdb.com/title/tt0119033/?ref_=fn_tt_tt_1</td></tr>\n",
       "\t<tr><td>TheEdge                                             </td><td>Lee Tamahori                                        </td><td>Anthony Hopkins                                     </td><td>Harold Perrineau                                    </td><td>Bart the Bear                                       </td><td>1997                                                </td><td>http://www.imdb.com/title/tt0119051/?ref_=fn_tt_tt_1</td></tr>\n",
       "\t<tr><td>Carriers                                            </td><td>David Pastor                                        </td><td>Christopher Meloni                                  </td><td>Kiernan Shipka                                      </td><td>Lou Taylor Pucci                                    </td><td>2009                                                </td><td>http://www.imdb.com/title/tt0806203/?ref_=fn_tt_tt_1</td></tr>\n",
       "\t<tr><td>TheFinest Hours                                     </td><td>Craig Gillespie                                     </td><td>Michael Raymond-James                               </td><td>Abraham Benrubi                                     </td><td>Graham McTavish                                     </td><td>2016                                                </td><td>http://www.imdb.com/title/tt2025690/?ref_=fn_tt_tt_1</td></tr>\n",
       "\t<tr><td>Dinnerfor Schmucks                                  </td><td>Jay Roach                                           </td><td>Steve Carell                                        </td><td>Stephanie Szostak                                   </td><td>Bruce Greenwood                                     </td><td>2010                                                </td><td>http://www.imdb.com/title/tt0427152/?ref_=fn_tt_tt_1</td></tr>\n",
       "\t<tr><td>WildHogs                                            </td><td>Walt Becker                                         </td><td>Jill Hennessy                                       </td><td>Tichina Arnold                                      </td><td>Drew Sidora                                         </td><td>2007                                                </td><td>http://www.imdb.com/title/tt0486946/?ref_=fn_tt_tt_1</td></tr>\n",
       "\t<tr><td>Stateof Play                                        </td><td>Kevin Macdonald                                     </td><td>Robin Wright                                        </td><td>Harry Lennix                                        </td><td>Michael Weston                                      </td><td>2009                                                </td><td>http://www.imdb.com/title/tt0473705/?ref_=fn_tt_tt_1</td></tr>\n",
       "\t<tr><td>Troublewith the Curve                               </td><td>Robert Lorenz                                       </td><td>Clint Eastwood                                      </td><td>Ed Lauter                                           </td><td>Bob Gunton                                          </td><td>2012                                                </td><td>http://www.imdb.com/title/tt2083383/?ref_=fn_tt_tt_1</td></tr>\n",
       "\t<tr><td>Garfield2                                           </td><td>Tim Hill                                            </td><td>Bill Murray                                         </td><td>Roger Rees                                          </td><td>Ben Falcone                                         </td><td>2006                                                </td><td>http://www.imdb.com/title/tt0455499/?ref_=fn_tt_tt_1</td></tr>\n",
       "\t<tr><td>Deckthe Halls                                       </td><td>John Whitesell                                      </td><td>Matthew Broderick                                   </td><td>Jorge Garcia                                        </td><td>Alia Shawkat                                        </td><td>2006                                                </td><td>http://www.imdb.com/title/tt0790604/?ref_=fn_tt_tt_1</td></tr>\n",
       "\t<tr><td>WeBought a Zoo                                      </td><td>Cameron Crowe                                       </td><td>Scarlett Johansson                                  </td><td>Matt Damon                                          </td><td>Stephanie Szostak                                   </td><td>2011                                                </td><td>http://www.imdb.com/title/tt1389137/?ref_=fn_tt_tt_1</td></tr>\n",
       "\t<tr><td>TheRing Two                                         </td><td>Hideo Nakata                                        </td><td>Naomi Watts                                         </td><td>Gary Cole                                           </td><td>Sissy Spacek                                        </td><td>2005                                                </td><td>http://www.imdb.com/title/tt0377109/?ref_=fn_tt_tt_1</td></tr>\n",
       "\t<tr><td>PirateRadio                                         </td><td>Richard Curtis                                      </td><td>Philip Seymour Hoffman                              </td><td>Charlie Rowe                                        </td><td>Tom Sturridge                                       </td><td>2009                                                </td><td>http://www.imdb.com/title/tt1131729/?ref_=fn_tt_tt_1</td></tr>\n",
       "\t<tr><td>AnnaKarenina                                        </td><td>Joe Wright                                          </td><td>Kelly Macdonald                                     </td><td>Guro Nagelhus Schia                                 </td><td>Matthew Macfadyen                                   </td><td>2012                                                </td><td>http://www.imdb.com/title/tt1781769/?ref_=fn_tt_tt_1</td></tr>\n",
       "\t<tr><td>Earth                                               </td><td>Deepa Mehta                                         </td><td>Nandita Das                                         </td><td>Gulshan Grover                                      </td><td>Eric Peterson                                       </td><td>1998                                                </td><td>http://www.imdb.com/title/tt0150433/?ref_=fn_tt_tt_1</td></tr>\n",
       "\t<tr><td>GetHim to the Greek                                 </td><td>Nicholas Stoller                                    </td><td>Pink                                                </td><td>Mario Lopez                                         </td><td>Lino Facioli                                        </td><td>2010                                                </td><td>http://www.imdb.com/title/tt1226229/?ref_=fn_tt_tt_1</td></tr>\n",
       "\t<tr><td>Musicand Lyrics                                     </td><td>Marc Lawrence                                       </td><td>Brad Garrett                                        </td><td>Scott Porter                                        </td><td>Haley Bennett                                       </td><td>2007                                                </td><td>http://www.imdb.com/title/tt0758766/?ref_=fn_tt_tt_1</td></tr>\n",
       "\t<tr><td>SoulMen                                             </td><td>Malcolm D. Lee                                      </td><td>Bernie Mac                                          </td><td>Sean Hayes                                          </td><td>Mike Epps                                           </td><td>2008                                                </td><td>http://www.imdb.com/title/tt1111948/?ref_=fn_tt_tt_1</td></tr>\n",
       "</tbody>\n",
       "</table>\n"
      ],
      "text/latex": [
       "\\begin{tabular}{r|lllllll}\n",
       " movie\\_title & director\\_name & actor\\_1\\_name & actor\\_2\\_name & actor\\_3\\_name & title\\_year & movie\\_imdb\\_link\\\\\n",
       "\\hline\n",
       "\t TheGood Dinosaur                                             & Peter Sohn                                                   & A.J. Buckley                                                 & Jack McGraw                                                  & Peter Sohn                                                   & 2015                                                         & http://www.imdb.com/title/tt1979388/?ref\\_=fn\\_tt\\_tt\\_1\\\\\n",
       "\t Charlotte'sWeb                                               & Gary Winick                                                  & Steve Buscemi                                                & Julia Roberts                                                & Oprah Winfrey                                                & 2006                                                         & http://www.imdb.com/title/tt0413895/?ref\\_=fn\\_tt\\_tt\\_1\\\\\n",
       "\t DÃ©jÃ Vu                                                     & Henry Jaglom                                                 & Vanessa Redgrave                                             & Stephen Dillane                                              & Michael Brandon                                              & 1997                                                         & http://www.imdb.com/title/tt0119033/?ref\\_=fn\\_tt\\_tt\\_1\\\\\n",
       "\t TheEdge                                                      & Lee Tamahori                                                 & Anthony Hopkins                                              & Harold Perrineau                                             & Bart the Bear                                                & 1997                                                         & http://www.imdb.com/title/tt0119051/?ref\\_=fn\\_tt\\_tt\\_1\\\\\n",
       "\t Carriers                                                     & David Pastor                                                 & Christopher Meloni                                           & Kiernan Shipka                                               & Lou Taylor Pucci                                             & 2009                                                         & http://www.imdb.com/title/tt0806203/?ref\\_=fn\\_tt\\_tt\\_1\\\\\n",
       "\t TheFinest Hours                                              & Craig Gillespie                                              & Michael Raymond-James                                        & Abraham Benrubi                                              & Graham McTavish                                              & 2016                                                         & http://www.imdb.com/title/tt2025690/?ref\\_=fn\\_tt\\_tt\\_1\\\\\n",
       "\t Dinnerfor Schmucks                                           & Jay Roach                                                    & Steve Carell                                                 & Stephanie Szostak                                            & Bruce Greenwood                                              & 2010                                                         & http://www.imdb.com/title/tt0427152/?ref\\_=fn\\_tt\\_tt\\_1\\\\\n",
       "\t WildHogs                                                     & Walt Becker                                                  & Jill Hennessy                                                & Tichina Arnold                                               & Drew Sidora                                                  & 2007                                                         & http://www.imdb.com/title/tt0486946/?ref\\_=fn\\_tt\\_tt\\_1\\\\\n",
       "\t Stateof Play                                                 & Kevin Macdonald                                              & Robin Wright                                                 & Harry Lennix                                                 & Michael Weston                                               & 2009                                                         & http://www.imdb.com/title/tt0473705/?ref\\_=fn\\_tt\\_tt\\_1\\\\\n",
       "\t Troublewith the Curve                                        & Robert Lorenz                                                & Clint Eastwood                                               & Ed Lauter                                                    & Bob Gunton                                                   & 2012                                                         & http://www.imdb.com/title/tt2083383/?ref\\_=fn\\_tt\\_tt\\_1\\\\\n",
       "\t Garfield2                                                    & Tim Hill                                                     & Bill Murray                                                  & Roger Rees                                                   & Ben Falcone                                                  & 2006                                                         & http://www.imdb.com/title/tt0455499/?ref\\_=fn\\_tt\\_tt\\_1\\\\\n",
       "\t Deckthe Halls                                                & John Whitesell                                               & Matthew Broderick                                            & Jorge Garcia                                                 & Alia Shawkat                                                 & 2006                                                         & http://www.imdb.com/title/tt0790604/?ref\\_=fn\\_tt\\_tt\\_1\\\\\n",
       "\t WeBought a Zoo                                               & Cameron Crowe                                                & Scarlett Johansson                                           & Matt Damon                                                   & Stephanie Szostak                                            & 2011                                                         & http://www.imdb.com/title/tt1389137/?ref\\_=fn\\_tt\\_tt\\_1\\\\\n",
       "\t TheRing Two                                                  & Hideo Nakata                                                 & Naomi Watts                                                  & Gary Cole                                                    & Sissy Spacek                                                 & 2005                                                         & http://www.imdb.com/title/tt0377109/?ref\\_=fn\\_tt\\_tt\\_1\\\\\n",
       "\t PirateRadio                                                  & Richard Curtis                                               & Philip Seymour Hoffman                                       & Charlie Rowe                                                 & Tom Sturridge                                                & 2009                                                         & http://www.imdb.com/title/tt1131729/?ref\\_=fn\\_tt\\_tt\\_1\\\\\n",
       "\t AnnaKarenina                                                 & Joe Wright                                                   & Kelly Macdonald                                              & Guro Nagelhus Schia                                          & Matthew Macfadyen                                            & 2012                                                         & http://www.imdb.com/title/tt1781769/?ref\\_=fn\\_tt\\_tt\\_1\\\\\n",
       "\t Earth                                                        & Deepa Mehta                                                  & Nandita Das                                                  & Gulshan Grover                                               & Eric Peterson                                                & 1998                                                         & http://www.imdb.com/title/tt0150433/?ref\\_=fn\\_tt\\_tt\\_1\\\\\n",
       "\t GetHim to the Greek                                          & Nicholas Stoller                                             & Pink                                                         & Mario Lopez                                                  & Lino Facioli                                                 & 2010                                                         & http://www.imdb.com/title/tt1226229/?ref\\_=fn\\_tt\\_tt\\_1\\\\\n",
       "\t Musicand Lyrics                                              & Marc Lawrence                                                & Brad Garrett                                                 & Scott Porter                                                 & Haley Bennett                                                & 2007                                                         & http://www.imdb.com/title/tt0758766/?ref\\_=fn\\_tt\\_tt\\_1\\\\\n",
       "\t SoulMen                                                      & Malcolm D. Lee                                               & Bernie Mac                                                   & Sean Hayes                                                   & Mike Epps                                                    & 2008                                                         & http://www.imdb.com/title/tt1111948/?ref\\_=fn\\_tt\\_tt\\_1\\\\\n",
       "\\end{tabular}\n"
      ],
      "text/markdown": [
       "\n",
       "movie_title | director_name | actor_1_name | actor_2_name | actor_3_name | title_year | movie_imdb_link | \n",
       "|---|---|---|---|---|---|---|---|---|---|---|---|---|---|---|---|---|---|---|---|\n",
       "| TheGood Dinosaur                                     | Peter Sohn                                           | A.J. Buckley                                         | Jack McGraw                                          | Peter Sohn                                           | 2015                                                 | http://www.imdb.com/title/tt1979388/?ref_=fn_tt_tt_1 | \n",
       "| Charlotte'sWeb                                       | Gary Winick                                          | Steve Buscemi                                        | Julia Roberts                                        | Oprah Winfrey                                        | 2006                                                 | http://www.imdb.com/title/tt0413895/?ref_=fn_tt_tt_1 | \n",
       "| DÃ©jÃ Vu                                             | Henry Jaglom                                         | Vanessa Redgrave                                     | Stephen Dillane                                      | Michael Brandon                                      | 1997                                                 | http://www.imdb.com/title/tt0119033/?ref_=fn_tt_tt_1 | \n",
       "| TheEdge                                              | Lee Tamahori                                         | Anthony Hopkins                                      | Harold Perrineau                                     | Bart the Bear                                        | 1997                                                 | http://www.imdb.com/title/tt0119051/?ref_=fn_tt_tt_1 | \n",
       "| Carriers                                             | David Pastor                                         | Christopher Meloni                                   | Kiernan Shipka                                       | Lou Taylor Pucci                                     | 2009                                                 | http://www.imdb.com/title/tt0806203/?ref_=fn_tt_tt_1 | \n",
       "| TheFinest Hours                                      | Craig Gillespie                                      | Michael Raymond-James                                | Abraham Benrubi                                      | Graham McTavish                                      | 2016                                                 | http://www.imdb.com/title/tt2025690/?ref_=fn_tt_tt_1 | \n",
       "| Dinnerfor Schmucks                                   | Jay Roach                                            | Steve Carell                                         | Stephanie Szostak                                    | Bruce Greenwood                                      | 2010                                                 | http://www.imdb.com/title/tt0427152/?ref_=fn_tt_tt_1 | \n",
       "| WildHogs                                             | Walt Becker                                          | Jill Hennessy                                        | Tichina Arnold                                       | Drew Sidora                                          | 2007                                                 | http://www.imdb.com/title/tt0486946/?ref_=fn_tt_tt_1 | \n",
       "| Stateof Play                                         | Kevin Macdonald                                      | Robin Wright                                         | Harry Lennix                                         | Michael Weston                                       | 2009                                                 | http://www.imdb.com/title/tt0473705/?ref_=fn_tt_tt_1 | \n",
       "| Troublewith the Curve                                | Robert Lorenz                                        | Clint Eastwood                                       | Ed Lauter                                            | Bob Gunton                                           | 2012                                                 | http://www.imdb.com/title/tt2083383/?ref_=fn_tt_tt_1 | \n",
       "| Garfield2                                            | Tim Hill                                             | Bill Murray                                          | Roger Rees                                           | Ben Falcone                                          | 2006                                                 | http://www.imdb.com/title/tt0455499/?ref_=fn_tt_tt_1 | \n",
       "| Deckthe Halls                                        | John Whitesell                                       | Matthew Broderick                                    | Jorge Garcia                                         | Alia Shawkat                                         | 2006                                                 | http://www.imdb.com/title/tt0790604/?ref_=fn_tt_tt_1 | \n",
       "| WeBought a Zoo                                       | Cameron Crowe                                        | Scarlett Johansson                                   | Matt Damon                                           | Stephanie Szostak                                    | 2011                                                 | http://www.imdb.com/title/tt1389137/?ref_=fn_tt_tt_1 | \n",
       "| TheRing Two                                          | Hideo Nakata                                         | Naomi Watts                                          | Gary Cole                                            | Sissy Spacek                                         | 2005                                                 | http://www.imdb.com/title/tt0377109/?ref_=fn_tt_tt_1 | \n",
       "| PirateRadio                                          | Richard Curtis                                       | Philip Seymour Hoffman                               | Charlie Rowe                                         | Tom Sturridge                                        | 2009                                                 | http://www.imdb.com/title/tt1131729/?ref_=fn_tt_tt_1 | \n",
       "| AnnaKarenina                                         | Joe Wright                                           | Kelly Macdonald                                      | Guro Nagelhus Schia                                  | Matthew Macfadyen                                    | 2012                                                 | http://www.imdb.com/title/tt1781769/?ref_=fn_tt_tt_1 | \n",
       "| Earth                                                | Deepa Mehta                                          | Nandita Das                                          | Gulshan Grover                                       | Eric Peterson                                        | 1998                                                 | http://www.imdb.com/title/tt0150433/?ref_=fn_tt_tt_1 | \n",
       "| GetHim to the Greek                                  | Nicholas Stoller                                     | Pink                                                 | Mario Lopez                                          | Lino Facioli                                         | 2010                                                 | http://www.imdb.com/title/tt1226229/?ref_=fn_tt_tt_1 | \n",
       "| Musicand Lyrics                                      | Marc Lawrence                                        | Brad Garrett                                         | Scott Porter                                         | Haley Bennett                                        | 2007                                                 | http://www.imdb.com/title/tt0758766/?ref_=fn_tt_tt_1 | \n",
       "| SoulMen                                              | Malcolm D. Lee                                       | Bernie Mac                                           | Sean Hayes                                           | Mike Epps                                            | 2008                                                 | http://www.imdb.com/title/tt1111948/?ref_=fn_tt_tt_1 | \n",
       "\n",
       "\n"
      ],
      "text/plain": [
       "   movie_title            director_name    actor_1_name          \n",
       "1  TheGood Dinosaur       Peter Sohn       A.J. Buckley          \n",
       "2  Charlotte'sWeb         Gary Winick      Steve Buscemi         \n",
       "3  DÃ©jÃ Vu               Henry Jaglom     Vanessa Redgrave      \n",
       "4  TheEdge                Lee Tamahori     Anthony Hopkins       \n",
       "5  Carriers               David Pastor     Christopher Meloni    \n",
       "6  TheFinest Hours        Craig Gillespie  Michael Raymond-James \n",
       "7  Dinnerfor Schmucks     Jay Roach        Steve Carell          \n",
       "8  WildHogs               Walt Becker      Jill Hennessy         \n",
       "9  Stateof Play           Kevin Macdonald  Robin Wright          \n",
       "10 Troublewith the Curve  Robert Lorenz    Clint Eastwood        \n",
       "11 Garfield2              Tim Hill         Bill Murray           \n",
       "12 Deckthe Halls          John Whitesell   Matthew Broderick     \n",
       "13 WeBought a Zoo         Cameron Crowe    Scarlett Johansson    \n",
       "14 TheRing Two            Hideo Nakata     Naomi Watts           \n",
       "15 PirateRadio            Richard Curtis   Philip Seymour Hoffman\n",
       "16 AnnaKarenina           Joe Wright       Kelly Macdonald       \n",
       "17 Earth                  Deepa Mehta      Nandita Das           \n",
       "18 GetHim to the Greek    Nicholas Stoller Pink                  \n",
       "19 Musicand Lyrics        Marc Lawrence    Brad Garrett          \n",
       "20 SoulMen                Malcolm D. Lee   Bernie Mac            \n",
       "   actor_2_name        actor_3_name      title_year\n",
       "1  Jack McGraw         Peter Sohn        2015      \n",
       "2  Julia Roberts       Oprah Winfrey     2006      \n",
       "3  Stephen Dillane     Michael Brandon   1997      \n",
       "4  Harold Perrineau    Bart the Bear     1997      \n",
       "5  Kiernan Shipka      Lou Taylor Pucci  2009      \n",
       "6  Abraham Benrubi     Graham McTavish   2016      \n",
       "7  Stephanie Szostak   Bruce Greenwood   2010      \n",
       "8  Tichina Arnold      Drew Sidora       2007      \n",
       "9  Harry Lennix        Michael Weston    2009      \n",
       "10 Ed Lauter           Bob Gunton        2012      \n",
       "11 Roger Rees          Ben Falcone       2006      \n",
       "12 Jorge Garcia        Alia Shawkat      2006      \n",
       "13 Matt Damon          Stephanie Szostak 2011      \n",
       "14 Gary Cole           Sissy Spacek      2005      \n",
       "15 Charlie Rowe        Tom Sturridge     2009      \n",
       "16 Guro Nagelhus Schia Matthew Macfadyen 2012      \n",
       "17 Gulshan Grover      Eric Peterson     1998      \n",
       "18 Mario Lopez         Lino Facioli      2010      \n",
       "19 Scott Porter        Haley Bennett     2007      \n",
       "20 Sean Hayes          Mike Epps         2008      \n",
       "   movie_imdb_link                                     \n",
       "1  http://www.imdb.com/title/tt1979388/?ref_=fn_tt_tt_1\n",
       "2  http://www.imdb.com/title/tt0413895/?ref_=fn_tt_tt_1\n",
       "3  http://www.imdb.com/title/tt0119033/?ref_=fn_tt_tt_1\n",
       "4  http://www.imdb.com/title/tt0119051/?ref_=fn_tt_tt_1\n",
       "5  http://www.imdb.com/title/tt0806203/?ref_=fn_tt_tt_1\n",
       "6  http://www.imdb.com/title/tt2025690/?ref_=fn_tt_tt_1\n",
       "7  http://www.imdb.com/title/tt0427152/?ref_=fn_tt_tt_1\n",
       "8  http://www.imdb.com/title/tt0486946/?ref_=fn_tt_tt_1\n",
       "9  http://www.imdb.com/title/tt0473705/?ref_=fn_tt_tt_1\n",
       "10 http://www.imdb.com/title/tt2083383/?ref_=fn_tt_tt_1\n",
       "11 http://www.imdb.com/title/tt0455499/?ref_=fn_tt_tt_1\n",
       "12 http://www.imdb.com/title/tt0790604/?ref_=fn_tt_tt_1\n",
       "13 http://www.imdb.com/title/tt1389137/?ref_=fn_tt_tt_1\n",
       "14 http://www.imdb.com/title/tt0377109/?ref_=fn_tt_tt_1\n",
       "15 http://www.imdb.com/title/tt1131729/?ref_=fn_tt_tt_1\n",
       "16 http://www.imdb.com/title/tt1781769/?ref_=fn_tt_tt_1\n",
       "17 http://www.imdb.com/title/tt0150433/?ref_=fn_tt_tt_1\n",
       "18 http://www.imdb.com/title/tt1226229/?ref_=fn_tt_tt_1\n",
       "19 http://www.imdb.com/title/tt0758766/?ref_=fn_tt_tt_1\n",
       "20 http://www.imdb.com/title/tt1111948/?ref_=fn_tt_tt_1"
      ]
     },
     "metadata": {},
     "output_type": "display_data"
    }
   ],
   "source": [
    "print(paste0(\"Number of rows: \",nrow(subset(movies,!is.na(movies$gross)&is.na(movies$budget)))))\n",
    "head(subset(movies,!is.na(movies$gross)&is.na(movies$budget),\n",
    "            select=c(\"movie_title\",\"director_name\",\"actor_1_name\",\"actor_2_name\",\n",
    "                     \"actor_3_name\",\"title_year\",\"movie_imdb_link\")), n=20)"
   ]
  },
  {
   "cell_type": "markdown",
   "metadata": {},
   "source": [
    "All the observations from that sample have the same value on their IMDB page, so I will keep those observations in the data set. In fact, this table shows me that the absence of information on the budget of a movie is not a good indicator of an aberrant observation. \n",
    "\n",
    "The last three tables comfort my opinion that observations with missing \"gross\",\"director_name\" and \"title_year\" value won't contribute positively to the model, so I will delete them from the data set."
   ]
  },
  {
   "cell_type": "markdown",
   "metadata": {},
   "source": [
    "One more thing I saw while looking at the IMDB page of those movies, is that the value for the variables \"actor_1_name\", \"actor_2_name\" and \"actor_3_name\" are not necessarily goods indicators for the name of the starring actor of a movie. For example, the movie \"The Edge\" has Anthony Hopkins, Alec Baldwin, Elle Macpherson and Harold Perrineau as top billing actor, according to Wikipedia, while the data set list Anthony Hopkins, Harold Perrineau and \"Bart the Bear\" instead. I'm sure \"Bart the Bear\" did a good acting job in that movie, but I doubt that many people have bought a ticket to see him instead of Elle Macpherson or Alec Baldwin. I'll have to remember this while creating the predictive model."
   ]
  },
  {
   "cell_type": "markdown",
   "metadata": {},
   "source": [
    "All that being said, I have two things to do before moving forward: delete the duplicate in the table and delete the observations without a value for the variables \"gross\",\"director_name\" and \"title_year\". "
   ]
  },
  {
   "cell_type": "code",
   "execution_count": 37,
   "metadata": {
    "collapsed": false
   },
   "outputs": [
    {
     "name": "stdout",
     "output_type": "stream",
     "text": [
      "[1] \"Number of rows before: 5043\"\n",
      "[1] \"Number of rows after: 4998\"\n"
     ]
    }
   ],
   "source": [
    "print(paste0(\"Number of rows before: \",nrow(movies)))\n",
    "movies<-unique(movies)\n",
    "print(paste0(\"Number of rows after: \",nrow(movies)))"
   ]
  },
  {
   "cell_type": "code",
   "execution_count": 38,
   "metadata": {
    "collapsed": false
   },
   "outputs": [
    {
     "name": "stdout",
     "output_type": "stream",
     "text": [
      "[1] \"Number of rows before: 4998\"\n",
      "[1] \"Number of rows after: 4898\"\n"
     ]
    }
   ],
   "source": [
    "print(paste0(\"Number of rows before: \",nrow(movies)))\n",
    "movies<-subset(movies,!is.na(gross)|!is.na(title_year)|director_name!=\"\")\n",
    "print(paste0(\"Number of rows after: \",nrow(movies)))"
   ]
  },
  {
   "cell_type": "code",
   "execution_count": 39,
   "metadata": {
    "collapsed": false
   },
   "outputs": [],
   "source": [
    "write.csv(movies,file =\"movies_clean_na.csv\",row.names=FALSE)"
   ]
  },
  {
   "cell_type": "markdown",
   "metadata": {},
   "source": [
    "# Conclusion"
   ]
  },
  {
   "cell_type": "markdown",
   "metadata": {
    "collapsed": true
   },
   "source": [
    "  In this article, I made sure that the data set follow the principle of tidy data, I formatted the data and I started replace or delete the observations with missings values. There's still a lot of missing information for the variable \"gross\" and \"budget\" and since they are two of the most important variable of my model, I will spend some time to fetch them before moving to the exploration of the data. \n",
    "  \n",
    "  In the next article (https://github.com/GTouzin/Portfolio/blob/master/R/IMDB/IMDB_data_cleaning2.ipynb), I'll explain how I got that missing information and I'll finish cleaning the data set. \n",
    "  \n",
    "  Thanks for reading!"
   ]
  }
 ],
 "metadata": {
  "anaconda-cloud": {},
  "kernelspec": {
   "display_name": "R",
   "language": "R",
   "name": "ir"
  },
  "language_info": {
   "codemirror_mode": "r",
   "file_extension": ".r",
   "mimetype": "text/x-r-source",
   "name": "R",
   "pygments_lexer": "r",
   "version": "3.2.5"
  }
 },
 "nbformat": 4,
 "nbformat_minor": 0
}
