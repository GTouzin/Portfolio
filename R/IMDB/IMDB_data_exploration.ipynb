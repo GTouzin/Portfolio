{
 "cells": [
  {
   "cell_type": "markdown",
   "metadata": {},
   "source": [
    "# IMDB data set part III: A new dimension in error\n",
    "\n",
    "To recap, this project has for goal to create a model who predict if a movie will be profitable based on a handful of characteristics like the duration of each movie, their budget, the number of like their cast have on Facebook, etc. To do so, I used the <a href=\"https://www.kaggle.com/deepmatrix/imdb-5000-movie-dataset\">IMDB 5000</a> data set created by Kaggle user <a href=\"https://www.kaggle.com/deepmatrix\">deepmatrix</a>, a list of 5000 movies from IMDB and their key statistics. \n",
    "\n",
    "In <a href=\"https://github.com/GTouzin/Portfolio/blob/master/R/IMDB/IMDB_data_cleaning.ipynb\">part one</a> of this series of post, I clean this data set and realise that there was a lot of missing information, especially in the key variable budget and gross. In <a href=\"https://github.com/GTouzin/Portfolio/blob/master/R/IMDB/IMDB_data_cleaning2.ipynb\">part two</a> of this series I scape the missing data and continue cleaning the new data set and now, after spending way too much time getting data and cleaning the data set, I can finally look at the distribution of each variable and the relation between them. \n",
    "\n",
    "In this blog post, I explored the new IMDB data set and make some hypotheses on the best model to use to predict the profitability of a movie before his production. The first thing I do is to load the R library I'll use in this post and the IMDB data set in the movies data.frame."
   ]
  },
  {
   "cell_type": "code",
   "execution_count": 2,
   "metadata": {
    "collapsed": false
   },
   "outputs": [],
   "source": [
    "library(dplyr)\n",
    "library(data.table)\n",
    "library(bit64)\n",
    "library(plotly)\n",
    "library(corrplot)\n",
    "library(tidyr)\n",
    "options(scipen=999)"
   ]
  },
  {
   "cell_type": "code",
   "execution_count": 2,
   "metadata": {
    "collapsed": false
   },
   "outputs": [
    {
     "data": {
      "text/html": [
       "<table>\n",
       "<thead><tr><th scope=col>color</th><th scope=col>director_name</th><th scope=col>num_critic_for_reviews</th><th scope=col>duration</th><th scope=col>director_facebook_likes</th><th scope=col>actor_3_facebook_likes</th><th scope=col>actor_2_name</th><th scope=col>actor_1_facebook_likes</th><th scope=col>gross</th><th scope=col>genres</th><th scope=col>...</th><th scope=col>genres_Sci-Fi</th><th scope=col>genres_Short</th><th scope=col>genres_Sport</th><th scope=col>genres_Thriller</th><th scope=col>genres_War</th><th scope=col>genres_Western</th><th scope=col>currency</th><th scope=col>budget_us</th><th scope=col>gross_2016</th><th scope=col>budget_2016</th></tr></thead>\n",
       "<tbody>\n",
       "\t<tr><td>Color                                            </td><td>Joon-ho Bong                                     </td><td>363                                              </td><td>110                                              </td><td> 584                                             </td><td> 74                                              </td><td>Kang-ho Song                                     </td><td>629                                              </td><td>2201412                                          </td><td>Comedy|Drama|Horror|Sci-Fi                       </td><td>...                                              </td><td>1                                                </td><td>0                                                </td><td>0                                                </td><td>0                                                </td><td>0                                                </td><td>0                                                </td><td>KOR                                              </td><td>12793905                                         </td><td>2620914.8                                        </td><td>15231922                                         </td></tr>\n",
       "\t<tr><td>Color                                            </td><td>Chan-wook Park                                   </td><td>202                                              </td><td>112                                              </td><td>   0                                             </td><td> 38                                              </td><td>Yeong-ae Lee                                     </td><td>717                                              </td><td>211667                                           </td><td>Crime|Drama                                      </td><td>...                                              </td><td>0                                                </td><td>0                                                </td><td>0                                                </td><td>0                                                </td><td>0                                                </td><td>0                                                </td><td>KOR                                              </td><td> 4101095                                         </td><td> 260131.9                                        </td><td> 5040113                                         </td></tr>\n",
       "\t<tr><td>Color                                            </td><td>Lajos Koltai                                     </td><td> 73                                              </td><td>134                                              </td><td>  45                                             </td><td>  0                                              </td><td>PÃ©ter Fancsikai                                 </td><td>  9                                              </td><td>195888                                           </td><td>Drama|Romance|War                                </td><td>...                                              </td><td>0                                                </td><td>0                                                </td><td>0                                                </td><td>0                                                </td><td>1                                                </td><td>0                                                </td><td>HUN                                              </td><td>12526148                                         </td><td> 240740.0                                        </td><td>15394231                                         </td></tr>\n",
       "\t<tr><td>Color                                            </td><td>Hayao Miyazaki                                   </td><td>174                                              </td><td>134                                              </td><td>6000                                             </td><td>745                                              </td><td>Jada Pinkett Smith                               </td><td>893                                              </td><td>2298191                                          </td><td>Adventure|Animation|Fantasy                      </td><td>...                                              </td><td>0                                                </td><td>0                                                </td><td>0                                                </td><td>0                                                </td><td>0                                                </td><td>0                                                </td><td>JPN                                              </td><td>19836208                                         </td><td>3436293.2                                        </td><td>29659426                                         </td></tr>\n",
       "\t<tr><td>Color                                            </td><td>Katsuhiro Ã”tomo                                 </td><td>105                                              </td><td>103                                              </td><td>  78                                             </td><td>101                                              </td><td>Robin Atkin Downes                               </td><td>488                                              </td><td>410388                                           </td><td>Action|Adventure|Animation|Family|Sci-Fi|Thriller</td><td>...                                              </td><td>1                                                </td><td>0                                                </td><td>0                                                </td><td>1                                                </td><td>0                                                </td><td>0                                                </td><td>JPN                                              </td><td>19664196                                         </td><td> 521465.0                                        </td><td>24986575                                         </td></tr>\n",
       "\t<tr><td>Color                                            </td><td>Katsuhiro Ã”tomo                                 </td><td>150                                              </td><td>124                                              </td><td>  78                                             </td><td>  4                                              </td><td>Takeshi Kusao                                    </td><td>  6                                              </td><td>439162                                           </td><td>Action|Animation|Sci-Fi                          </td><td>...                                              </td><td>1                                                </td><td>0                                                </td><td>0                                                </td><td>0                                                </td><td>0                                                </td><td>0                                                </td><td>JPN                                              </td><td> 8583579                                         </td><td> 891286.1                                        </td><td>17420507                                         </td></tr>\n",
       "</tbody>\n",
       "</table>\n"
      ],
      "text/latex": [
       "\\begin{tabular}{r|llllllllllllllllllllllllllllllllllllllllllllllllllllllllll}\n",
       " color & director\\_name & num\\_critic\\_for\\_reviews & duration & director\\_facebook\\_likes & actor\\_3\\_facebook\\_likes & actor\\_2\\_name & actor\\_1\\_facebook\\_likes & gross & genres & ... & genres\\_Sci-Fi & genres\\_Short & genres\\_Sport & genres\\_Thriller & genres\\_War & genres\\_Western & currency & budget\\_us & gross\\_2016 & budget\\_2016\\\\\n",
       "\\hline\n",
       "\t Color                                                                           & Joon-ho Bong                                                                    & 363                                                                             & 110                                                                             &  584                                                                            &  74                                                                             & Kang-ho Song                                                                    & 629                                                                             & 2201412                                                                         & Comedy\\textbar{}Drama\\textbar{}Horror\\textbar{}Sci-Fi                        & ...                                                                             & 1                                                                               & 0                                                                               & 0                                                                               & 0                                                                               & 0                                                                               & 0                                                                               & KOR                                                                             & 12793905                                                                        & 2620914.8                                                                       & 15231922                                                                       \\\\\n",
       "\t Color                                                       & Chan-wook Park                                              & 202                                                         & 112                                                         &    0                                                        &  38                                                         & Yeong-ae Lee                                                & 717                                                         & 211667                                                      & Crime\\textbar{}Drama                                       & ...                                                         & 0                                                           & 0                                                           & 0                                                           & 0                                                           & 0                                                           & 0                                                           & KOR                                                         &  4101095                                                    &  260131.9                                                   &  5040113                                                   \\\\\n",
       "\t Color                                                                 & Lajos Koltai                                                          &  73                                                                   & 134                                                                   &   45                                                                  &   0                                                                   & PÃ©ter Fancsikai                                                      &   9                                                                   & 195888                                                                & Drama\\textbar{}Romance\\textbar{}War                                 & ...                                                                   & 0                                                                     & 0                                                                     & 0                                                                     & 0                                                                     & 1                                                                     & 0                                                                     & HUN                                                                   & 12526148                                                              &  240740.0                                                             & 15394231                                                             \\\\\n",
       "\t Color                                                                 & Hayao Miyazaki                                                        & 174                                                                   & 134                                                                   & 6000                                                                  & 745                                                                   & Jada Pinkett Smith                                                    & 893                                                                   & 2298191                                                               & Adventure\\textbar{}Animation\\textbar{}Fantasy                       & ...                                                                   & 0                                                                     & 0                                                                     & 0                                                                     & 0                                                                     & 0                                                                     & 0                                                                     & JPN                                                                   & 19836208                                                              & 3436293.2                                                             & 29659426                                                             \\\\\n",
       "\t Color                                                                                               & Katsuhiro Ã”tomo                                                                                    & 105                                                                                                 & 103                                                                                                 &   78                                                                                                & 101                                                                                                 & Robin Atkin Downes                                                                                  & 488                                                                                                 & 410388                                                                                              & Action\\textbar{}Adventure\\textbar{}Animation\\textbar{}Family\\textbar{}Sci-Fi\\textbar{}Thriller & ...                                                                                                 & 1                                                                                                   & 0                                                                                                   & 0                                                                                                   & 1                                                                                                   & 0                                                                                                   & 0                                                                                                   & JPN                                                                                                 & 19664196                                                                                            &  521465.0                                                                                           & 24986575                                                                                           \\\\\n",
       "\t Color                                                                 & Katsuhiro Ã”tomo                                                      & 150                                                                   & 124                                                                   &   78                                                                  &   4                                                                   & Takeshi Kusao                                                         &   6                                                                   & 439162                                                                & Action\\textbar{}Animation\\textbar{}Sci-Fi                           & ...                                                                   & 1                                                                     & 0                                                                     & 0                                                                     & 0                                                                     & 0                                                                     & 0                                                                     & JPN                                                                   &  8583579                                                              &  891286.1                                                             & 17420507                                                             \\\\\n",
       "\\end{tabular}\n"
      ],
      "text/markdown": [
       "\n",
       "color | director_name | num_critic_for_reviews | duration | director_facebook_likes | actor_3_facebook_likes | actor_2_name | actor_1_facebook_likes | gross | genres | ... | genres_Sci-Fi | genres_Short | genres_Sport | genres_Thriller | genres_War | genres_Western | currency | budget_us | gross_2016 | budget_2016 | \n",
       "|---|---|---|---|---|---|\n",
       "| Color                                             | Joon-ho Bong                                      | 363                                               | 110                                               |  584                                              |  74                                               | Kang-ho Song                                      | 629                                               | 2201412                                           | Comedy|Drama|Horror|Sci-Fi                        | ...                                               | 1                                                 | 0                                                 | 0                                                 | 0                                                 | 0                                                 | 0                                                 | KOR                                               | 12793905                                          | 2620914.8                                         | 15231922                                          | \n",
       "| Color                                             | Chan-wook Park                                    | 202                                               | 112                                               |    0                                              |  38                                               | Yeong-ae Lee                                      | 717                                               | 211667                                            | Crime|Drama                                       | ...                                               | 0                                                 | 0                                                 | 0                                                 | 0                                                 | 0                                                 | 0                                                 | KOR                                               |  4101095                                          |  260131.9                                         |  5040113                                          | \n",
       "| Color                                             | Lajos Koltai                                      |  73                                               | 134                                               |   45                                              |   0                                               | PÃ©ter Fancsikai                                  |   9                                               | 195888                                            | Drama|Romance|War                                 | ...                                               | 0                                                 | 0                                                 | 0                                                 | 0                                                 | 1                                                 | 0                                                 | HUN                                               | 12526148                                          |  240740.0                                         | 15394231                                          | \n",
       "| Color                                             | Hayao Miyazaki                                    | 174                                               | 134                                               | 6000                                              | 745                                               | Jada Pinkett Smith                                | 893                                               | 2298191                                           | Adventure|Animation|Fantasy                       | ...                                               | 0                                                 | 0                                                 | 0                                                 | 0                                                 | 0                                                 | 0                                                 | JPN                                               | 19836208                                          | 3436293.2                                         | 29659426                                          | \n",
       "| Color                                             | Katsuhiro Ã”tomo                                  | 105                                               | 103                                               |   78                                              | 101                                               | Robin Atkin Downes                                | 488                                               | 410388                                            | Action|Adventure|Animation|Family|Sci-Fi|Thriller | ...                                               | 1                                                 | 0                                                 | 0                                                 | 1                                                 | 0                                                 | 0                                                 | JPN                                               | 19664196                                          |  521465.0                                         | 24986575                                          | \n",
       "| Color                                             | Katsuhiro Ã”tomo                                  | 150                                               | 124                                               |   78                                              |   4                                               | Takeshi Kusao                                     |   6                                               | 439162                                            | Action|Animation|Sci-Fi                           | ...                                               | 1                                                 | 0                                                 | 0                                                 | 0                                                 | 0                                                 | 0                                                 | JPN                                               |  8583579                                          |  891286.1                                         | 17420507                                          | \n",
       "\n",
       "\n"
      ],
      "text/plain": [
       "  color director_name    num_critic_for_reviews duration\n",
       "1 Color Joon-ho Bong     363                    110     \n",
       "2 Color Chan-wook Park   202                    112     \n",
       "3 Color Lajos Koltai      73                    134     \n",
       "4 Color Hayao Miyazaki   174                    134     \n",
       "5 Color Katsuhiro Ãtomo 105                    103     \n",
       "6 Color Katsuhiro Ãtomo 150                    124     \n",
       "  director_facebook_likes actor_3_facebook_likes actor_2_name      \n",
       "1  584                     74                    Kang-ho Song      \n",
       "2    0                     38                    Yeong-ae Lee      \n",
       "3   45                      0                    PÃ©ter Fancsikai  \n",
       "4 6000                    745                    Jada Pinkett Smith\n",
       "5   78                    101                    Robin Atkin Downes\n",
       "6   78                      4                    Takeshi Kusao     \n",
       "  actor_1_facebook_likes gross  \n",
       "1 629                    2201412\n",
       "2 717                    211667 \n",
       "3   9                    195888 \n",
       "4 893                    2298191\n",
       "5 488                    410388 \n",
       "6   6                    439162 \n",
       "  genres                                            ... genres_Sci-Fi\n",
       "1 Comedy|Drama|Horror|Sci-Fi                        ... 1            \n",
       "2 Crime|Drama                                       ... 0            \n",
       "3 Drama|Romance|War                                 ... 0            \n",
       "4 Adventure|Animation|Fantasy                       ... 0            \n",
       "5 Action|Adventure|Animation|Family|Sci-Fi|Thriller ... 1            \n",
       "6 Action|Animation|Sci-Fi                           ... 1            \n",
       "  genres_Short genres_Sport genres_Thriller genres_War genres_Western currency\n",
       "1 0            0            0               0          0              KOR     \n",
       "2 0            0            0               0          0              KOR     \n",
       "3 0            0            0               1          0              HUN     \n",
       "4 0            0            0               0          0              JPN     \n",
       "5 0            0            1               0          0              JPN     \n",
       "6 0            0            0               0          0              JPN     \n",
       "  budget_us gross_2016 budget_2016\n",
       "1 12793905  2620914.8  15231922   \n",
       "2  4101095   260131.9   5040113   \n",
       "3 12526148   240740.0  15394231   \n",
       "4 19836208  3436293.2  29659426   \n",
       "5 19664196   521465.0  24986575   \n",
       "6  8583579   891286.1  17420507   "
      ]
     },
     "metadata": {},
     "output_type": "display_data"
    }
   ],
   "source": [
    "movies <- fread(\"movie_budget_us_2016.csv\",stringsAsFactors = F)\n",
    "head(movies)"
   ]
  },
  {
   "cell_type": "markdown",
   "metadata": {},
   "source": [
    "Since the categorical variables in the data set are encoded as string of character, I have to code them as factor to do the exploratory analysis."
   ]
  },
  {
   "cell_type": "code",
   "execution_count": 3,
   "metadata": {
    "collapsed": false
   },
   "outputs": [],
   "source": [
    "movies$color<-as.factor(movies$color) \n",
    "movies$director_name<-as.factor(movies$director_name)\n",
    "movies$actor_2_name<-as.factor(movies$actor_2_name)\n",
    "\n",
    "movies$gross<-as.integer(movies$gross)\n",
    "\n",
    "movies$actor_1_name<-as.factor(movies$actor_1_name)\n",
    "movies$actor_3_name<-as.factor(movies$actor_3_name)\n",
    "movies$language<-as.factor(movies$language)\n",
    "movies$country<-as.factor(movies$country)\n",
    "movies$content_rating<-as.factor(movies$content_rating)\n",
    "movies$aspect_ratio<-as.factor(movies$aspect_ratio)\n",
    "\n",
    "movies$movie_facebook_likes<-as.integer(movies$movie_facebook_likes)\n",
    "movies$genres_Action<-as.integer(movies$genres_Action)"
   ]
  },
  {
   "cell_type": "markdown",
   "metadata": {},
   "source": [
    "Let us look at the distribution of each variable."
   ]
  },
  {
   "cell_type": "markdown",
   "metadata": {
    "collapsed": true
   },
   "source": [
    "# Movie specific statistics\n",
    "\n",
    "In this section, I will look at the variables describing the movies themselves. In particular, I'll look at the film colorization, their duration, their title, their gross revenue and their budget. "
   ]
  },
  {
   "cell_type": "code",
   "execution_count": 4,
   "metadata": {
    "collapsed": false
   },
   "outputs": [
    {
     "data": {
      "text/html": [
       "<dl class=dl-horizontal>\n",
       "\t<dt>Black and White</dt>\n",
       "\t\t<dd>201</dd>\n",
       "\t<dt>Color</dt>\n",
       "\t\t<dd>4616</dd>\n",
       "</dl>\n"
      ],
      "text/latex": [
       "\\begin{description*}\n",
       "\\item[Black and White] 201\n",
       "\\item[Color] 4616\n",
       "\\end{description*}\n"
      ],
      "text/markdown": [
       "Black and White\n",
       ":   201Color\n",
       ":   4616\n",
       "\n"
      ],
      "text/plain": [
       "Black and White           Color \n",
       "            201            4616 "
      ]
     },
     "metadata": {},
     "output_type": "display_data"
    }
   ],
   "source": [
    "summary(movies$color)"
   ]
  },
  {
   "cell_type": "code",
   "execution_count": 5,
   "metadata": {
    "collapsed": false
   },
   "outputs": [
    {
     "name": "stderr",
     "output_type": "stream",
     "text": [
      "Warning message in RColorBrewer::brewer.pal(N, \"Set2\"):\n",
      "\"minimal value for n is 3, returning requested palette with 3 different levels\n",
      "\""
     ]
    },
    {
     "data": {
      "text/html": [
       "<iframe src="plotlyJupyterHTML/hist_color.html" width="100%" height="400" id="igraph" scrolling="no" seamless="seamless" frameBorder="0"> </iframe>"
      ]
     },
     "metadata": {},
     "output_type": "display_data"
    }
   ],
   "source": [
    "m = list(\n",
    "  l = 50,\n",
    "  r = 0,\n",
    "  b = 50,\n",
    "  t = 30,\n",
    "  pad = 0\n",
    ") \n",
    "\n",
    "hist_color <- plot_ly(movies[complete.cases(movies$color),],x=~color,color=~color,type=\"histogram\") %>%\n",
    "layout(title = 'Proprotion of each film colorization in the IMDB data set',\n",
    "         xaxis = list(title = 'Color of movies', zeroline = TRUE),\n",
    "         yaxis = list(title = 'Frequency',range = c(0,5000)),\n",
    "         margin=m)\n",
    "embed_notebook(hist_color,file=paste0(\"plotlyJupyterHTML/\",\"hist_color\",\".html\"))"
   ]
  },
  {
   "cell_type": "markdown",
   "metadata": {},
   "source": [
    "I'm interested to see how the colorization of movies changes over the years for the movie in the data set. "
   ]
  },
  {
   "cell_type": "code",
   "execution_count": 6,
   "metadata": {
    "collapsed": false
   },
   "outputs": [],
   "source": [
    "movies_decade<-movies[,c(\"title_year\",\"color\"),with=FALSE]"
   ]
  },
  {
   "cell_type": "code",
   "execution_count": 7,
   "metadata": {
    "collapsed": true
   },
   "outputs": [],
   "source": [
    "decade<-function(x){\n",
    "    d<-as.double(x)\n",
    "    \n",
    "    return ((floor(d/10))*10)\n",
    "}"
   ]
  },
  {
   "cell_type": "code",
   "execution_count": 8,
   "metadata": {
    "collapsed": false
   },
   "outputs": [
    {
     "data": {
      "text/html": [
       "<ol class=list-inline>\n",
       "\t<li>2000</li>\n",
       "\t<li>2000</li>\n",
       "\t<li>2000</li>\n",
       "\t<li>1990</li>\n",
       "\t<li>2000</li>\n",
       "\t<li>1980</li>\n",
       "</ol>\n"
      ],
      "text/latex": [
       "\\begin{enumerate*}\n",
       "\\item 2000\n",
       "\\item 2000\n",
       "\\item 2000\n",
       "\\item 1990\n",
       "\\item 2000\n",
       "\\item 1980\n",
       "\\end{enumerate*}\n"
      ],
      "text/markdown": [
       "1. 2000\n",
       "2. 2000\n",
       "3. 2000\n",
       "4. 1990\n",
       "5. 2000\n",
       "6. 1980\n",
       "\n",
       "\n"
      ],
      "text/plain": [
       "[1] 2000 2000 2000 1990 2000 1980"
      ]
     },
     "metadata": {},
     "output_type": "display_data"
    }
   ],
   "source": [
    "movies_decade$decades<-decade(movies_decade$title_year)\n",
    "head(movies_decade$decades)"
   ]
  },
  {
   "cell_type": "code",
   "execution_count": 9,
   "metadata": {
    "collapsed": false
   },
   "outputs": [
    {
     "name": "stderr",
     "output_type": "stream",
     "text": [
      "Warning message:\n",
      "\"Ignoring 1 observations\"Warning message in RColorBrewer::brewer.pal(N, \"Set2\"):\n",
      "\"minimal value for n is 3, returning requested palette with 3 different levels\n",
      "\""
     ]
    },
    {
     "data": {
      "text/html": [
       "<iframe src=\"plotlyJupyterHTML/hist_color_decade.html\" width=\"100%\" height=\"400\" id=\"igraph\" scrolling=\"no\" seamless=\"seamless\" frameBorder=\"0\"> </iframe>"
      ]
     },
     "metadata": {},
     "output_type": "display_data"
    }
   ],
   "source": [
    "hist_color_decade <- movies_decade %>%\n",
    "  dplyr::count(color,decades) %>%\n",
    "  plot_ly(x =~decades, y = ~n,color=~color) %>% \n",
    "  add_bars()%>%\n",
    "layout(title = 'Film colorization in the IMDB data set by decade',\n",
    "         xaxis = list(title = 'Color of movies', zeroline = TRUE),\n",
    "         yaxis = list(title = 'Frequency'))\n",
    "\n",
    "embed_notebook(hist_color_decade,file=paste0(\"plotlyJupyterHTML/\",\"hist_color_decade\",\".html\"))"
   ]
  },
  {
   "cell_type": "markdown",
   "metadata": {},
   "source": [
    "The number of color movie grown decade from decade, but the number of black and white movie stay almost the same. In consequence their relative frequency must go down each year. Let us look at the relative frequency of both color and black and white movies in the data set."
   ]
  },
  {
   "cell_type": "code",
   "execution_count": 10,
   "metadata": {
    "collapsed": false
   },
   "outputs": [],
   "source": [
    "freq_color_year<-movies_decade %>%\n",
    "group_by(title_year,color) %>%\n",
    "tally%>%\n",
    "mutate(freq=n/sum(n))"
   ]
  },
  {
   "cell_type": "code",
   "execution_count": 11,
   "metadata": {
    "collapsed": false
   },
   "outputs": [
    {
     "data": {
      "text/html": [
       "<table>\n",
       "<thead><tr><th scope=col>title_year</th><th scope=col>color</th><th scope=col>n</th><th scope=col>freq</th></tr></thead>\n",
       "<tbody>\n",
       "\t<tr><td>1916</td><td>BW  </td><td>1   </td><td>1   </td></tr>\n",
       "\t<tr><td>1920</td><td>BW  </td><td>1   </td><td>1   </td></tr>\n",
       "\t<tr><td>1925</td><td>BW  </td><td>1   </td><td>1   </td></tr>\n",
       "\t<tr><td>1927</td><td>BW  </td><td>1   </td><td>1   </td></tr>\n",
       "\t<tr><td>1929</td><td>BW  </td><td>2   </td><td>1   </td></tr>\n",
       "\t<tr><td>1930</td><td>BW  </td><td>1   </td><td>1   </td></tr>\n",
       "</tbody>\n",
       "</table>\n"
      ],
      "text/latex": [
       "\\begin{tabular}{r|llll}\n",
       " title\\_year & color & n & freq\\\\\n",
       "\\hline\n",
       "\t 1916 & BW   & 1    & 1   \\\\\n",
       "\t 1920 & BW   & 1    & 1   \\\\\n",
       "\t 1925 & BW   & 1    & 1   \\\\\n",
       "\t 1927 & BW   & 1    & 1   \\\\\n",
       "\t 1929 & BW   & 2    & 1   \\\\\n",
       "\t 1930 & BW   & 1    & 1   \\\\\n",
       "\\end{tabular}\n"
      ],
      "text/markdown": [
       "\n",
       "title_year | color | n | freq | \n",
       "|---|---|---|---|---|---|\n",
       "| 1916 | BW   | 1    | 1    | \n",
       "| 1920 | BW   | 1    | 1    | \n",
       "| 1925 | BW   | 1    | 1    | \n",
       "| 1927 | BW   | 1    | 1    | \n",
       "| 1929 | BW   | 2    | 1    | \n",
       "| 1930 | BW   | 1    | 1    | \n",
       "\n",
       "\n"
      ],
      "text/plain": [
       "  title_year color n freq\n",
       "1 1916       BW    1 1   \n",
       "2 1920       BW    1 1   \n",
       "3 1925       BW    1 1   \n",
       "4 1927       BW    1 1   \n",
       "5 1929       BW    2 1   \n",
       "6 1930       BW    1 1   "
      ]
     },
     "metadata": {},
     "output_type": "display_data"
    }
   ],
   "source": [
    "levels(freq_color_year$color)[levels(freq_color_year$color)==\"Black and White\"]<-\"BW\"\n",
    "head(freq_color_year)"
   ]
  },
  {
   "cell_type": "code",
   "execution_count": 12,
   "metadata": {
    "collapsed": false
   },
   "outputs": [],
   "source": [
    "freq_color_year$title_year<-as.integer(freq_color_year$title_year)"
   ]
  },
  {
   "cell_type": "code",
   "execution_count": 13,
   "metadata": {
    "collapsed": false
   },
   "outputs": [
    {
     "data": {
      "text/html": [
       "<table>\n",
       "<thead><tr><th scope=col>title_year</th><th scope=col>n</th><th scope=col>BW</th><th scope=col>Color</th></tr></thead>\n",
       "<tbody>\n",
       "\t<tr><td>1916</td><td>1   </td><td>1   </td><td>NA  </td></tr>\n",
       "\t<tr><td>1920</td><td>1   </td><td>1   </td><td>NA  </td></tr>\n",
       "\t<tr><td>1925</td><td>1   </td><td>1   </td><td>NA  </td></tr>\n",
       "\t<tr><td>1927</td><td>1   </td><td>1   </td><td>NA  </td></tr>\n",
       "\t<tr><td>1929</td><td>2   </td><td>1   </td><td>NA  </td></tr>\n",
       "</tbody>\n",
       "</table>\n"
      ],
      "text/latex": [
       "\\begin{tabular}{r|llll}\n",
       " title\\_year & n & BW & Color\\\\\n",
       "\\hline\n",
       "\t 1916 & 1    & 1    & NA  \\\\\n",
       "\t 1920 & 1    & 1    & NA  \\\\\n",
       "\t 1925 & 1    & 1    & NA  \\\\\n",
       "\t 1927 & 1    & 1    & NA  \\\\\n",
       "\t 1929 & 2    & 1    & NA  \\\\\n",
       "\\end{tabular}\n"
      ],
      "text/markdown": [
       "\n",
       "title_year | n | BW | Color | \n",
       "|---|---|---|---|---|\n",
       "| 1916 | 1    | 1    | NA   | \n",
       "| 1920 | 1    | 1    | NA   | \n",
       "| 1925 | 1    | 1    | NA   | \n",
       "| 1927 | 1    | 1    | NA   | \n",
       "| 1929 | 2    | 1    | NA   | \n",
       "\n",
       "\n"
      ],
      "text/plain": [
       "  title_year n BW Color\n",
       "1 1916       1 1  NA   \n",
       "2 1920       1 1  NA   \n",
       "3 1925       1 1  NA   \n",
       "4 1927       1 1  NA   \n",
       "5 1929       2 1  NA   "
      ]
     },
     "metadata": {},
     "output_type": "display_data"
    }
   ],
   "source": [
    "freq_color_spread<-spread(freq_color_year,color,value=freq)\n",
    "head(freq_color_spread,n=5)"
   ]
  },
  {
   "cell_type": "code",
   "execution_count": 14,
   "metadata": {
    "collapsed": false,
    "scrolled": true
   },
   "outputs": [
    {
     "data": {
      "text/html": [
       "<iframe src=\"plotlyJupyterHTML/plot_color_freq.html\" width=\"100%\" height=\"400\" id=\"igraph\" scrolling=\"no\" seamless=\"seamless\" frameBorder=\"0\"> </iframe>"
      ]
     },
     "metadata": {},
     "output_type": "display_data"
    }
   ],
   "source": [
    "plot_color_freq<-plot_ly(freq_color_spread, x = ~title_year) %>%\n",
    "add_trace(y=~BW,name = 'trace 0', type = 'scatter',mode = 'lines+markers' )%>%\n",
    "add_trace(y=~Color,name = 'trace 1', type = 'scatter',mode = 'lines+markers' )%>%\n",
    "layout(title = 'Trend line of the proportion ofmovie\\'s color in the IMDB data set over the year',\n",
    "         xaxis = list(title = 'Year', zeroline = TRUE),\n",
    "         yaxis = list(title = 'Relative frequency'))\n",
    "\n",
    "embed_notebook(plot_color_freq,file=paste0(\"plotlyJupyterHTML/\",\"plot_color_freq\",\".html\"))"
   ]
  },
  {
   "cell_type": "markdown",
   "metadata": {
    "collapsed": true
   },
   "source": [
    "We can see that the number of movies in black and white stay stable over time, but the overall number of movies grows so much that their relative frequency is almost zero near the 90's.\n",
    "\n",
    "Now I take a look at the \"duration\" variable."
   ]
  },
  {
   "cell_type": "code",
   "execution_count": 15,
   "metadata": {
    "collapsed": false
   },
   "outputs": [
    {
     "data": {
      "text/plain": [
       "   Min. 1st Qu.  Median    Mean 3rd Qu.    Max.    NA's \n",
       "    7.0    94.0   104.0   108.1   118.0   334.0      13 "
      ]
     },
     "metadata": {},
     "output_type": "display_data"
    }
   ],
   "source": [
    "summary(movies$duration)"
   ]
  },
  {
   "cell_type": "code",
   "execution_count": 16,
   "metadata": {
    "collapsed": false
   },
   "outputs": [
    {
     "name": "stderr",
     "output_type": "stream",
     "text": [
      "Warning message:\n",
      "\"Ignoring 13 observations\""
     ]
    },
    {
     "data": {
      "text/html": [
       "<iframe src=\"plotlyJupyterHTML/hist_duration.html\" width=\"100%\" height=\"400\" id=\"igraph\" scrolling=\"no\" seamless=\"seamless\" frameBorder=\"0\"> </iframe>"
      ]
     },
     "metadata": {},
     "output_type": "display_data"
    }
   ],
   "source": [
    "hist_duration <- plot_ly(x=~movies$duration,type=\"histogram\")%>%\n",
    "layout(title = 'Length of the movies in the IMDB data set',\n",
    "         xaxis = list(title = 'Duration of movie', zeroline = TRUE),\n",
    "         yaxis = list(title = 'Frequency'))\n",
    "\n",
    "embed_notebook(hist_duration,file=paste0(\"plotlyJupyterHTML/\",\"hist_duration\",\".html\"))"
   ]
  },
  {
   "cell_type": "markdown",
   "metadata": {},
   "source": [
    "There seem's to be some outlier in the data. By drawing a box plot, I can easily find the value that are out of the norm."
   ]
  },
  {
   "cell_type": "code",
   "execution_count": 17,
   "metadata": {
    "collapsed": false
   },
   "outputs": [
    {
     "data": {
      "text/html": [
       "<iframe src=\"plotlyJupyterHTML/box_duration.html\" width=\"100%\" height=\"400\" id=\"igraph\" scrolling=\"no\" seamless=\"seamless\" frameBorder=\"0\"> </iframe>"
      ]
     },
     "metadata": {},
     "output_type": "display_data"
    }
   ],
   "source": [
    "box_duration <- plot_ly(x=~movies$duration[complete.cases(movies$duration)],type=\"box\")%>%\n",
    "layout(title = 'Distribution of the length of the movies in the IMDB data set',\n",
    "         xaxis = list(title = 'Duration of movie', zeroline = TRUE),\n",
    "         yaxis = list(title = 'Frequency'))\n",
    "\n",
    "embed_notebook(box_duration,file=paste0(\"plotlyJupyterHTML/\",\"box_duration\",\".html\"))"
   ]
  },
  {
   "cell_type": "code",
   "execution_count": 18,
   "metadata": {
    "collapsed": false
   },
   "outputs": [
    {
     "data": {
      "text/html": [
       "<ol class=list-inline>\n",
       "\t<li>'http://www.imdb.com/title/tt0920458/?ref_=fn_tt_tt_1'</li>\n",
       "\t<li>'http://www.imdb.com/title/tt0245280/?ref_=fn_tt_tt_1'</li>\n",
       "\t<li>'http://www.imdb.com/title/tt4061848/?ref_=fn_tt_tt_1'</li>\n",
       "\t<li>'http://www.imdb.com/title/tt0996382/?ref_=fn_tt_tt_1'</li>\n",
       "\t<li>'http://www.imdb.com/title/tt1529567/?ref_=fn_tt_tt_1'</li>\n",
       "\t<li>'http://www.imdb.com/title/tt0092991/?ref_=fn_tt_tt_1'</li>\n",
       "\t<li>'http://www.imdb.com/title/tt0473107/?ref_=fn_tt_tt_1'</li>\n",
       "\t<li>'http://www.imdb.com/title/tt0854678/?ref_=fn_tt_tt_1'</li>\n",
       "\t<li>'http://www.imdb.com/title/tt4273494/?ref_=fn_tt_tt_1'</li>\n",
       "\t<li>'http://www.imdb.com/title/tt0059026/?ref_=fn_tt_tt_1'</li>\n",
       "\t<li>'http://www.imdb.com/title/tt0478988/?ref_=fn_tt_tt_1'</li>\n",
       "\t<li>'http://www.imdb.com/title/tt0283465/?ref_=fn_tt_tt_1'</li>\n",
       "\t<li>'http://www.imdb.com/title/tt1128219/?ref_=fn_tt_tt_1'</li>\n",
       "\t<li>'http://www.imdb.com/title/tt1869849/?ref_=fn_tt_tt_1'</li>\n",
       "\t<li>'http://www.imdb.com/title/tt0092337/?ref_=fn_tt_tt_1'</li>\n",
       "\t<li>'http://www.imdb.com/title/tt2164708/?ref_=fn_tt_tt_1'</li>\n",
       "\t<li>'http://www.imdb.com/title/tt1003002/?ref_=fn_tt_tt_1'</li>\n",
       "</ol>\n"
      ],
      "text/latex": [
       "\\begin{enumerate*}\n",
       "\\item 'http://www.imdb.com/title/tt0920458/?ref\\_=fn\\_tt\\_tt\\_1'\n",
       "\\item 'http://www.imdb.com/title/tt0245280/?ref\\_=fn\\_tt\\_tt\\_1'\n",
       "\\item 'http://www.imdb.com/title/tt4061848/?ref\\_=fn\\_tt\\_tt\\_1'\n",
       "\\item 'http://www.imdb.com/title/tt0996382/?ref\\_=fn\\_tt\\_tt\\_1'\n",
       "\\item 'http://www.imdb.com/title/tt1529567/?ref\\_=fn\\_tt\\_tt\\_1'\n",
       "\\item 'http://www.imdb.com/title/tt0092991/?ref\\_=fn\\_tt\\_tt\\_1'\n",
       "\\item 'http://www.imdb.com/title/tt0473107/?ref\\_=fn\\_tt\\_tt\\_1'\n",
       "\\item 'http://www.imdb.com/title/tt0854678/?ref\\_=fn\\_tt\\_tt\\_1'\n",
       "\\item 'http://www.imdb.com/title/tt4273494/?ref\\_=fn\\_tt\\_tt\\_1'\n",
       "\\item 'http://www.imdb.com/title/tt0059026/?ref\\_=fn\\_tt\\_tt\\_1'\n",
       "\\item 'http://www.imdb.com/title/tt0478988/?ref\\_=fn\\_tt\\_tt\\_1'\n",
       "\\item 'http://www.imdb.com/title/tt0283465/?ref\\_=fn\\_tt\\_tt\\_1'\n",
       "\\item 'http://www.imdb.com/title/tt1128219/?ref\\_=fn\\_tt\\_tt\\_1'\n",
       "\\item 'http://www.imdb.com/title/tt1869849/?ref\\_=fn\\_tt\\_tt\\_1'\n",
       "\\item 'http://www.imdb.com/title/tt0092337/?ref\\_=fn\\_tt\\_tt\\_1'\n",
       "\\item 'http://www.imdb.com/title/tt2164708/?ref\\_=fn\\_tt\\_tt\\_1'\n",
       "\\item 'http://www.imdb.com/title/tt1003002/?ref\\_=fn\\_tt\\_tt\\_1'\n",
       "\\end{enumerate*}\n"
      ],
      "text/markdown": [
       "1. 'http://www.imdb.com/title/tt0920458/?ref_=fn_tt_tt_1'\n",
       "2. 'http://www.imdb.com/title/tt0245280/?ref_=fn_tt_tt_1'\n",
       "3. 'http://www.imdb.com/title/tt4061848/?ref_=fn_tt_tt_1'\n",
       "4. 'http://www.imdb.com/title/tt0996382/?ref_=fn_tt_tt_1'\n",
       "5. 'http://www.imdb.com/title/tt1529567/?ref_=fn_tt_tt_1'\n",
       "6. 'http://www.imdb.com/title/tt0092991/?ref_=fn_tt_tt_1'\n",
       "7. 'http://www.imdb.com/title/tt0473107/?ref_=fn_tt_tt_1'\n",
       "8. 'http://www.imdb.com/title/tt0854678/?ref_=fn_tt_tt_1'\n",
       "9. 'http://www.imdb.com/title/tt4273494/?ref_=fn_tt_tt_1'\n",
       "10. 'http://www.imdb.com/title/tt0059026/?ref_=fn_tt_tt_1'\n",
       "11. 'http://www.imdb.com/title/tt0478988/?ref_=fn_tt_tt_1'\n",
       "12. 'http://www.imdb.com/title/tt0283465/?ref_=fn_tt_tt_1'\n",
       "13. 'http://www.imdb.com/title/tt1128219/?ref_=fn_tt_tt_1'\n",
       "14. 'http://www.imdb.com/title/tt1869849/?ref_=fn_tt_tt_1'\n",
       "15. 'http://www.imdb.com/title/tt0092337/?ref_=fn_tt_tt_1'\n",
       "16. 'http://www.imdb.com/title/tt2164708/?ref_=fn_tt_tt_1'\n",
       "17. 'http://www.imdb.com/title/tt1003002/?ref_=fn_tt_tt_1'\n",
       "\n",
       "\n"
      ],
      "text/plain": [
       " [1] \"http://www.imdb.com/title/tt0920458/?ref_=fn_tt_tt_1\"\n",
       " [2] \"http://www.imdb.com/title/tt0245280/?ref_=fn_tt_tt_1\"\n",
       " [3] \"http://www.imdb.com/title/tt4061848/?ref_=fn_tt_tt_1\"\n",
       " [4] \"http://www.imdb.com/title/tt0996382/?ref_=fn_tt_tt_1\"\n",
       " [5] \"http://www.imdb.com/title/tt1529567/?ref_=fn_tt_tt_1\"\n",
       " [6] \"http://www.imdb.com/title/tt0092991/?ref_=fn_tt_tt_1\"\n",
       " [7] \"http://www.imdb.com/title/tt0473107/?ref_=fn_tt_tt_1\"\n",
       " [8] \"http://www.imdb.com/title/tt0854678/?ref_=fn_tt_tt_1\"\n",
       " [9] \"http://www.imdb.com/title/tt4273494/?ref_=fn_tt_tt_1\"\n",
       "[10] \"http://www.imdb.com/title/tt0059026/?ref_=fn_tt_tt_1\"\n",
       "[11] \"http://www.imdb.com/title/tt0478988/?ref_=fn_tt_tt_1\"\n",
       "[12] \"http://www.imdb.com/title/tt0283465/?ref_=fn_tt_tt_1\"\n",
       "[13] \"http://www.imdb.com/title/tt1128219/?ref_=fn_tt_tt_1\"\n",
       "[14] \"http://www.imdb.com/title/tt1869849/?ref_=fn_tt_tt_1\"\n",
       "[15] \"http://www.imdb.com/title/tt0092337/?ref_=fn_tt_tt_1\"\n",
       "[16] \"http://www.imdb.com/title/tt2164708/?ref_=fn_tt_tt_1\"\n",
       "[17] \"http://www.imdb.com/title/tt1003002/?ref_=fn_tt_tt_1\""
      ]
     },
     "metadata": {},
     "output_type": "display_data"
    }
   ],
   "source": [
    "movies[duration<59,movie_imdb_link]"
   ]
  },
  {
   "cell_type": "markdown",
   "metadata": {},
   "source": [
    "Looking at the IMDB page of the observations with a strangely short duration, I found out that most of them are either short film, small documentary or mini series who had theater release. In those cases, the episode running time is often written in the running time of the theatrical cut which case the difference in time. Since the number of problematic observation is really small, I won't change the data set. \n",
    "\n",
    "Now, I look at movie who are suspiciously long. The box-plot tell us that movie with a length of more than 154 is out of the norm, but a lot of movies these days last more than 200 minutes. In consequence, I'll look at movie who are longer than 200 minutes to see for outlier."
   ]
  },
  {
   "cell_type": "code",
   "execution_count": 19,
   "metadata": {
    "collapsed": false
   },
   "outputs": [
    {
     "data": {
      "text/html": [
       "<ol class=list-inline>\n",
       "\t<li>'http://www.imdb.com/title/tt0360717/?ref_=fn_tt_tt_1'</li>\n",
       "\t<li>'http://www.imdb.com/title/tt0346491/?ref_=fn_tt_tt_1'</li>\n",
       "\t<li>'http://www.imdb.com/title/tt0409459/?ref_=fn_tt_tt_1'</li>\n",
       "\t<li>'http://www.imdb.com/title/tt0993846/?ref_=fn_tt_tt_1'</li>\n",
       "\t<li>'http://www.imdb.com/title/tt0217505/?ref_=fn_tt_tt_1'</li>\n",
       "\t<li>'http://www.imdb.com/title/tt0111756/?ref_=fn_tt_tt_1'</li>\n",
       "\t<li>'http://www.imdb.com/title/tt0149624/?ref_=fn_tt_tt_1'</li>\n",
       "\t<li>'http://www.imdb.com/title/tt0279111/?ref_=fn_tt_tt_1'</li>\n",
       "\t<li>'http://www.imdb.com/title/tt0120863/?ref_=fn_tt_tt_1'</li>\n",
       "\t<li>'http://www.imdb.com/title/tt0113987/?ref_=fn_tt_tt_1'</li>\n",
       "\t<li>'http://www.imdb.com/title/tt0102138/?ref_=fn_tt_tt_1'</li>\n",
       "\t<li>'http://www.imdb.com/title/tt0104797/?ref_=fn_tt_tt_1'</li>\n",
       "\t<li>'http://www.imdb.com/title/tt0078788/?ref_=fn_tt_tt_1'</li>\n",
       "\t<li>'http://www.imdb.com/title/tt0056937/?ref_=fn_tt_tt_1'</li>\n",
       "\t<li>'http://www.imdb.com/title/tt0087843/?ref_=fn_tt_tt_1'</li>\n",
       "\t<li>'http://www.imdb.com/title/tt0107007/?ref_=fn_tt_tt_1'</li>\n",
       "\t<li>'http://www.imdb.com/title/tt0837106/?ref_=fn_tt_tt_1'</li>\n",
       "\t<li>'http://www.imdb.com/title/tt0093389/?ref_=fn_tt_tt_1'</li>\n",
       "\t<li>'http://www.imdb.com/title/tt0083987/?ref_=fn_tt_tt_1'</li>\n",
       "\t<li>'http://www.imdb.com/title/tt0099348/?ref_=fn_tt_tt_1'</li>\n",
       "\t<li>'http://www.imdb.com/title/tt0059245/?ref_=fn_tt_tt_1'</li>\n",
       "\t<li>'http://www.imdb.com/title/tt0056172/?ref_=fn_tt_tt_1'</li>\n",
       "\t<li>'http://www.imdb.com/title/tt0082096/?ref_=fn_tt_tt_1'</li>\n",
       "\t<li>'http://www.imdb.com/title/tt0071562/?ref_=fn_tt_tt_1'</li>\n",
       "\t<li>'http://www.imdb.com/title/tt0031381/?ref_=fn_tt_tt_1'</li>\n",
       "\t<li>'http://www.imdb.com/title/tt0047478/?ref_=fn_tt_tt_1'</li>\n",
       "\t<li>'http://www.imdb.com/title/tt0066580/?ref_=fn_tt_tt_1'</li>\n",
       "</ol>\n"
      ],
      "text/latex": [
       "\\begin{enumerate*}\n",
       "\\item 'http://www.imdb.com/title/tt0360717/?ref\\_=fn\\_tt\\_tt\\_1'\n",
       "\\item 'http://www.imdb.com/title/tt0346491/?ref\\_=fn\\_tt\\_tt\\_1'\n",
       "\\item 'http://www.imdb.com/title/tt0409459/?ref\\_=fn\\_tt\\_tt\\_1'\n",
       "\\item 'http://www.imdb.com/title/tt0993846/?ref\\_=fn\\_tt\\_tt\\_1'\n",
       "\\item 'http://www.imdb.com/title/tt0217505/?ref\\_=fn\\_tt\\_tt\\_1'\n",
       "\\item 'http://www.imdb.com/title/tt0111756/?ref\\_=fn\\_tt\\_tt\\_1'\n",
       "\\item 'http://www.imdb.com/title/tt0149624/?ref\\_=fn\\_tt\\_tt\\_1'\n",
       "\\item 'http://www.imdb.com/title/tt0279111/?ref\\_=fn\\_tt\\_tt\\_1'\n",
       "\\item 'http://www.imdb.com/title/tt0120863/?ref\\_=fn\\_tt\\_tt\\_1'\n",
       "\\item 'http://www.imdb.com/title/tt0113987/?ref\\_=fn\\_tt\\_tt\\_1'\n",
       "\\item 'http://www.imdb.com/title/tt0102138/?ref\\_=fn\\_tt\\_tt\\_1'\n",
       "\\item 'http://www.imdb.com/title/tt0104797/?ref\\_=fn\\_tt\\_tt\\_1'\n",
       "\\item 'http://www.imdb.com/title/tt0078788/?ref\\_=fn\\_tt\\_tt\\_1'\n",
       "\\item 'http://www.imdb.com/title/tt0056937/?ref\\_=fn\\_tt\\_tt\\_1'\n",
       "\\item 'http://www.imdb.com/title/tt0087843/?ref\\_=fn\\_tt\\_tt\\_1'\n",
       "\\item 'http://www.imdb.com/title/tt0107007/?ref\\_=fn\\_tt\\_tt\\_1'\n",
       "\\item 'http://www.imdb.com/title/tt0837106/?ref\\_=fn\\_tt\\_tt\\_1'\n",
       "\\item 'http://www.imdb.com/title/tt0093389/?ref\\_=fn\\_tt\\_tt\\_1'\n",
       "\\item 'http://www.imdb.com/title/tt0083987/?ref\\_=fn\\_tt\\_tt\\_1'\n",
       "\\item 'http://www.imdb.com/title/tt0099348/?ref\\_=fn\\_tt\\_tt\\_1'\n",
       "\\item 'http://www.imdb.com/title/tt0059245/?ref\\_=fn\\_tt\\_tt\\_1'\n",
       "\\item 'http://www.imdb.com/title/tt0056172/?ref\\_=fn\\_tt\\_tt\\_1'\n",
       "\\item 'http://www.imdb.com/title/tt0082096/?ref\\_=fn\\_tt\\_tt\\_1'\n",
       "\\item 'http://www.imdb.com/title/tt0071562/?ref\\_=fn\\_tt\\_tt\\_1'\n",
       "\\item 'http://www.imdb.com/title/tt0031381/?ref\\_=fn\\_tt\\_tt\\_1'\n",
       "\\item 'http://www.imdb.com/title/tt0047478/?ref\\_=fn\\_tt\\_tt\\_1'\n",
       "\\item 'http://www.imdb.com/title/tt0066580/?ref\\_=fn\\_tt\\_tt\\_1'\n",
       "\\end{enumerate*}\n"
      ],
      "text/markdown": [
       "1. 'http://www.imdb.com/title/tt0360717/?ref_=fn_tt_tt_1'\n",
       "2. 'http://www.imdb.com/title/tt0346491/?ref_=fn_tt_tt_1'\n",
       "3. 'http://www.imdb.com/title/tt0409459/?ref_=fn_tt_tt_1'\n",
       "4. 'http://www.imdb.com/title/tt0993846/?ref_=fn_tt_tt_1'\n",
       "5. 'http://www.imdb.com/title/tt0217505/?ref_=fn_tt_tt_1'\n",
       "6. 'http://www.imdb.com/title/tt0111756/?ref_=fn_tt_tt_1'\n",
       "7. 'http://www.imdb.com/title/tt0149624/?ref_=fn_tt_tt_1'\n",
       "8. 'http://www.imdb.com/title/tt0279111/?ref_=fn_tt_tt_1'\n",
       "9. 'http://www.imdb.com/title/tt0120863/?ref_=fn_tt_tt_1'\n",
       "10. 'http://www.imdb.com/title/tt0113987/?ref_=fn_tt_tt_1'\n",
       "11. 'http://www.imdb.com/title/tt0102138/?ref_=fn_tt_tt_1'\n",
       "12. 'http://www.imdb.com/title/tt0104797/?ref_=fn_tt_tt_1'\n",
       "13. 'http://www.imdb.com/title/tt0078788/?ref_=fn_tt_tt_1'\n",
       "14. 'http://www.imdb.com/title/tt0056937/?ref_=fn_tt_tt_1'\n",
       "15. 'http://www.imdb.com/title/tt0087843/?ref_=fn_tt_tt_1'\n",
       "16. 'http://www.imdb.com/title/tt0107007/?ref_=fn_tt_tt_1'\n",
       "17. 'http://www.imdb.com/title/tt0837106/?ref_=fn_tt_tt_1'\n",
       "18. 'http://www.imdb.com/title/tt0093389/?ref_=fn_tt_tt_1'\n",
       "19. 'http://www.imdb.com/title/tt0083987/?ref_=fn_tt_tt_1'\n",
       "20. 'http://www.imdb.com/title/tt0099348/?ref_=fn_tt_tt_1'\n",
       "21. 'http://www.imdb.com/title/tt0059245/?ref_=fn_tt_tt_1'\n",
       "22. 'http://www.imdb.com/title/tt0056172/?ref_=fn_tt_tt_1'\n",
       "23. 'http://www.imdb.com/title/tt0082096/?ref_=fn_tt_tt_1'\n",
       "24. 'http://www.imdb.com/title/tt0071562/?ref_=fn_tt_tt_1'\n",
       "25. 'http://www.imdb.com/title/tt0031381/?ref_=fn_tt_tt_1'\n",
       "26. 'http://www.imdb.com/title/tt0047478/?ref_=fn_tt_tt_1'\n",
       "27. 'http://www.imdb.com/title/tt0066580/?ref_=fn_tt_tt_1'\n",
       "\n",
       "\n"
      ],
      "text/plain": [
       " [1] \"http://www.imdb.com/title/tt0360717/?ref_=fn_tt_tt_1\"\n",
       " [2] \"http://www.imdb.com/title/tt0346491/?ref_=fn_tt_tt_1\"\n",
       " [3] \"http://www.imdb.com/title/tt0409459/?ref_=fn_tt_tt_1\"\n",
       " [4] \"http://www.imdb.com/title/tt0993846/?ref_=fn_tt_tt_1\"\n",
       " [5] \"http://www.imdb.com/title/tt0217505/?ref_=fn_tt_tt_1\"\n",
       " [6] \"http://www.imdb.com/title/tt0111756/?ref_=fn_tt_tt_1\"\n",
       " [7] \"http://www.imdb.com/title/tt0149624/?ref_=fn_tt_tt_1\"\n",
       " [8] \"http://www.imdb.com/title/tt0279111/?ref_=fn_tt_tt_1\"\n",
       " [9] \"http://www.imdb.com/title/tt0120863/?ref_=fn_tt_tt_1\"\n",
       "[10] \"http://www.imdb.com/title/tt0113987/?ref_=fn_tt_tt_1\"\n",
       "[11] \"http://www.imdb.com/title/tt0102138/?ref_=fn_tt_tt_1\"\n",
       "[12] \"http://www.imdb.com/title/tt0104797/?ref_=fn_tt_tt_1\"\n",
       "[13] \"http://www.imdb.com/title/tt0078788/?ref_=fn_tt_tt_1\"\n",
       "[14] \"http://www.imdb.com/title/tt0056937/?ref_=fn_tt_tt_1\"\n",
       "[15] \"http://www.imdb.com/title/tt0087843/?ref_=fn_tt_tt_1\"\n",
       "[16] \"http://www.imdb.com/title/tt0107007/?ref_=fn_tt_tt_1\"\n",
       "[17] \"http://www.imdb.com/title/tt0837106/?ref_=fn_tt_tt_1\"\n",
       "[18] \"http://www.imdb.com/title/tt0093389/?ref_=fn_tt_tt_1\"\n",
       "[19] \"http://www.imdb.com/title/tt0083987/?ref_=fn_tt_tt_1\"\n",
       "[20] \"http://www.imdb.com/title/tt0099348/?ref_=fn_tt_tt_1\"\n",
       "[21] \"http://www.imdb.com/title/tt0059245/?ref_=fn_tt_tt_1\"\n",
       "[22] \"http://www.imdb.com/title/tt0056172/?ref_=fn_tt_tt_1\"\n",
       "[23] \"http://www.imdb.com/title/tt0082096/?ref_=fn_tt_tt_1\"\n",
       "[24] \"http://www.imdb.com/title/tt0071562/?ref_=fn_tt_tt_1\"\n",
       "[25] \"http://www.imdb.com/title/tt0031381/?ref_=fn_tt_tt_1\"\n",
       "[26] \"http://www.imdb.com/title/tt0047478/?ref_=fn_tt_tt_1\"\n",
       "[27] \"http://www.imdb.com/title/tt0066580/?ref_=fn_tt_tt_1\""
      ]
     },
     "metadata": {},
     "output_type": "display_data"
    }
   ],
   "source": [
    "movies[duration>200&duration<300,movie_imdb_link]"
   ]
  },
  {
   "cell_type": "markdown",
   "metadata": {},
   "source": [
    "I looked at the IMDB page of the majority of those movies and all the durations seems correct. The only thing that could add some variability in the model is the fact that some movie has multiple cuts and it is impossible to know if the value of the duration of the data set is the one of the cut that made it in the majority of the theater.\n",
    "\n",
    "After that, I looked at the variable \"movie_title\". First of all, I'm interested to know the distribution of the number of letters in the title of the movies."
   ]
  },
  {
   "cell_type": "code",
   "execution_count": 20,
   "metadata": {
    "collapsed": false
   },
   "outputs": [
    {
     "data": {
      "text/html": [
       "<table>\n",
       "<thead><tr><th scope=col>Title</th><th scope=col>Length</th><th scope=col>Gross</th></tr></thead>\n",
       "<tbody>\n",
       "\t<tr><td>thehost         </td><td> 7              </td><td>2201412         </td></tr>\n",
       "\t<tr><td>ladyvengeance   </td><td>13              </td><td> 211667         </td></tr>\n",
       "\t<tr><td>fateless        </td><td> 8              </td><td> 195888         </td></tr>\n",
       "\t<tr><td>princessmononoke</td><td>16              </td><td>2298191         </td></tr>\n",
       "\t<tr><td>steamboy        </td><td> 8              </td><td> 410388         </td></tr>\n",
       "\t<tr><td>akira           </td><td> 5              </td><td> 439162         </td></tr>\n",
       "</tbody>\n",
       "</table>\n"
      ],
      "text/latex": [
       "\\begin{tabular}{r|lll}\n",
       " Title & Length & Gross\\\\\n",
       "\\hline\n",
       "\t thehost          &  7               & 2201412         \\\\\n",
       "\t ladyvengeance    & 13               &  211667         \\\\\n",
       "\t fateless         &  8               &  195888         \\\\\n",
       "\t princessmononoke & 16               & 2298191         \\\\\n",
       "\t steamboy         &  8               &  410388         \\\\\n",
       "\t akira            &  5               &  439162         \\\\\n",
       "\\end{tabular}\n"
      ],
      "text/markdown": [
       "\n",
       "Title | Length | Gross | \n",
       "|---|---|---|---|---|---|\n",
       "| thehost          |  7               | 2201412          | \n",
       "| ladyvengeance    | 13               |  211667          | \n",
       "| fateless         |  8               |  195888          | \n",
       "| princessmononoke | 16               | 2298191          | \n",
       "| steamboy         |  8               |  410388          | \n",
       "| akira            |  5               |  439162          | \n",
       "\n",
       "\n"
      ],
      "text/plain": [
       "  Title            Length Gross  \n",
       "1 thehost           7     2201412\n",
       "2 ladyvengeance    13      211667\n",
       "3 fateless          8      195888\n",
       "4 princessmononoke 16     2298191\n",
       "5 steamboy          8      410388\n",
       "6 akira             5      439162"
      ]
     },
     "metadata": {},
     "output_type": "display_data"
    }
   ],
   "source": [
    "title_length<-data.frame(\"Title\"=movies$movie_title,\"Length\"=nchar(movies$movie_title),\"Gross\"=movies$gross)\n",
    "head(title_length)"
   ]
  },
  {
   "cell_type": "code",
   "execution_count": 21,
   "metadata": {
    "collapsed": false
   },
   "outputs": [
    {
     "data": {
      "text/html": [
       "<iframe src=\"plotlyJupyterHTML/hist_length.html\" width=\"100%\" height=\"400\" id=\"igraph\" scrolling=\"no\" seamless=\"seamless\" frameBorder=\"0\"> </iframe>"
      ]
     },
     "metadata": {},
     "output_type": "display_data"
    }
   ],
   "source": [
    "hist_length <- title_length %>%\n",
    "  dplyr::count(Length) %>%\n",
    "  plot_ly(x =~Length, y = ~n) %>% \n",
    "  add_bars()%>%\n",
    "layout(title = 'Distribution of movie\\'s title length in the IMDB data set',\n",
    "         xaxis = list(title = 'Length of the movies title', zeroline = TRUE),\n",
    "         yaxis = list(title = 'Frequency'))\n",
    "\n",
    "embed_notebook(hist_length,file=paste0(\"plotlyJupyterHTML/\",\"hist_length\",\".html\"))"
   ]
  },
  {
   "cell_type": "markdown",
   "metadata": {},
   "source": [
    "Here again, there seem's to be some outlier in the data and to make sure those are not error in the data set, I looked at the longest movie title."
   ]
  },
  {
   "cell_type": "code",
   "execution_count": 22,
   "metadata": {
    "collapsed": false
   },
   "outputs": [
    {
     "data": {
      "text/html": [
       "<table>\n",
       "<thead><tr><th></th><th scope=col>Title</th><th scope=col>Length</th><th scope=col>Gross</th></tr></thead>\n",
       "<tbody>\n",
       "\t<tr><th scope=row>3845</th><td>30nightsofparanormalactivitywiththedevilinsidethegirlwiththedragontattoo</td><td>72                                                                      </td><td>        0                                                               </td></tr>\n",
       "\t<tr><th scope=row>2310</th><td>boratculturallearningsofamericaformakebenefitgloriousnationofkazakhstan </td><td>71                                                                      </td><td>128505958                                                               </td></tr>\n",
       "\t<tr><th scope=row>4132</th><td>the41yearoldvirginwhoknockedupsarahmarshallandfeltsuperbadaboutit       </td><td>65                                                                      </td><td>       NA                                                               </td></tr>\n",
       "\t<tr><th scope=row>3967</th><td>everythingyoualwayswantedtoknowaboutsexbutwereafraidtoask               </td><td>57                                                                      </td><td>       NA                                                               </td></tr>\n",
       "\t<tr><th scope=row>4040</th><td>drstrangeloveorhowilearnedtostopworryingandlovethebomb                  </td><td>54                                                                      </td><td>       NA                                                               </td></tr>\n",
       "\t<tr><th scope=row>4226</th><td>onceinalifetimetheextraordinarystoryofthenewyorkcosmos                  </td><td>54                                                                      </td><td>   144431                                                               </td></tr>\n",
       "\t<tr><th scope=row>78</th><td>thechroniclesofnarniathelionthewitchandthewardrobe                      </td><td>50                                                                      </td><td>291709845                                                               </td></tr>\n",
       "\t<tr><th scope=row>1645</th><td>theassassinationofjessejamesbythecowardrobertford                       </td><td>49                                                                      </td><td>  3904982                                                               </td></tr>\n",
       "\t<tr><th scope=row>4371</th><td>deceptivepracticethemysteriesandmentorsofrickyjay                       </td><td>49                                                                      </td><td>   151389                                                               </td></tr>\n",
       "\t<tr><th scope=row>1709</th><td>alexanderandtheterriblehorriblenogoodverybadday                         </td><td>47                                                                      </td><td> 66950483                                                               </td></tr>\n",
       "</tbody>\n",
       "</table>\n"
      ],
      "text/latex": [
       "\\begin{tabular}{r|lll}\n",
       "  & Title & Length & Gross\\\\\n",
       "\\hline\n",
       "\t3845 & 30nightsofparanormalactivitywiththedevilinsidethegirlwiththedragontattoo & 72                                                                       &         0                                                               \\\\\n",
       "\t2310 & boratculturallearningsofamericaformakebenefitgloriousnationofkazakhstan  & 71                                                                       & 128505958                                                               \\\\\n",
       "\t4132 & the41yearoldvirginwhoknockedupsarahmarshallandfeltsuperbadaboutit        & 65                                                                       &        NA                                                               \\\\\n",
       "\t3967 & everythingyoualwayswantedtoknowaboutsexbutwereafraidtoask                & 57                                                                       &        NA                                                               \\\\\n",
       "\t4040 & drstrangeloveorhowilearnedtostopworryingandlovethebomb                   & 54                                                                       &        NA                                                               \\\\\n",
       "\t4226 & onceinalifetimetheextraordinarystoryofthenewyorkcosmos                   & 54                                                                       &    144431                                                               \\\\\n",
       "\t78 & thechroniclesofnarniathelionthewitchandthewardrobe                       & 50                                                                       & 291709845                                                               \\\\\n",
       "\t1645 & theassassinationofjessejamesbythecowardrobertford                        & 49                                                                       &   3904982                                                               \\\\\n",
       "\t4371 & deceptivepracticethemysteriesandmentorsofrickyjay                        & 49                                                                       &    151389                                                               \\\\\n",
       "\t1709 & alexanderandtheterriblehorriblenogoodverybadday                          & 47                                                                       &  66950483                                                               \\\\\n",
       "\\end{tabular}\n"
      ],
      "text/markdown": [
       "\n",
       "| <!--/--> | Title | Length | Gross | \n",
       "|---|---|---|---|---|---|---|---|---|---|\n",
       "| 3845 | 30nightsofparanormalactivitywiththedevilinsidethegirlwiththedragontattoo | 72                                                                       |         0                                                                | \n",
       "| 2310 | boratculturallearningsofamericaformakebenefitgloriousnationofkazakhstan  | 71                                                                       | 128505958                                                                | \n",
       "| 4132 | the41yearoldvirginwhoknockedupsarahmarshallandfeltsuperbadaboutit        | 65                                                                       |        NA                                                                | \n",
       "| 3967 | everythingyoualwayswantedtoknowaboutsexbutwereafraidtoask                | 57                                                                       |        NA                                                                | \n",
       "| 4040 | drstrangeloveorhowilearnedtostopworryingandlovethebomb                   | 54                                                                       |        NA                                                                | \n",
       "| 4226 | onceinalifetimetheextraordinarystoryofthenewyorkcosmos                   | 54                                                                       |    144431                                                                | \n",
       "| 78 | thechroniclesofnarniathelionthewitchandthewardrobe                       | 50                                                                       | 291709845                                                                | \n",
       "| 1645 | theassassinationofjessejamesbythecowardrobertford                        | 49                                                                       |   3904982                                                                | \n",
       "| 4371 | deceptivepracticethemysteriesandmentorsofrickyjay                        | 49                                                                       |    151389                                                                | \n",
       "| 1709 | alexanderandtheterriblehorriblenogoodverybadday                          | 47                                                                       |  66950483                                                                | \n",
       "\n",
       "\n"
      ],
      "text/plain": [
       "     Title                                                                   \n",
       "3845 30nightsofparanormalactivitywiththedevilinsidethegirlwiththedragontattoo\n",
       "2310 boratculturallearningsofamericaformakebenefitgloriousnationofkazakhstan \n",
       "4132 the41yearoldvirginwhoknockedupsarahmarshallandfeltsuperbadaboutit       \n",
       "3967 everythingyoualwayswantedtoknowaboutsexbutwereafraidtoask               \n",
       "4040 drstrangeloveorhowilearnedtostopworryingandlovethebomb                  \n",
       "4226 onceinalifetimetheextraordinarystoryofthenewyorkcosmos                  \n",
       "78   thechroniclesofnarniathelionthewitchandthewardrobe                      \n",
       "1645 theassassinationofjessejamesbythecowardrobertford                       \n",
       "4371 deceptivepracticethemysteriesandmentorsofrickyjay                       \n",
       "1709 alexanderandtheterriblehorriblenogoodverybadday                         \n",
       "     Length Gross    \n",
       "3845 72             0\n",
       "2310 71     128505958\n",
       "4132 65            NA\n",
       "3967 57            NA\n",
       "4040 54            NA\n",
       "4226 54        144431\n",
       "78   50     291709845\n",
       "1645 49       3904982\n",
       "4371 49        151389\n",
       "1709 47      66950483"
      ]
     },
     "metadata": {},
     "output_type": "display_data"
    }
   ],
   "source": [
    "head(title_length[order(-title_length$Length),],n=10)"
   ]
  },
  {
   "cell_type": "markdown",
   "metadata": {},
   "source": [
    "I learn two things by Googling those movies: first they are all legit movie, there was no error in the data set; second some porno producers like to concatenate the name of popular movies and use that as the name for their movie, probably to maximize their google ranking. Well, I knew I'll learn something by analysing that data set!\n",
    "\n",
    "I'm interested to know if the length of a movie influence his performance at the box-office."
   ]
  },
  {
   "cell_type": "code",
   "execution_count": 23,
   "metadata": {
    "collapsed": false
   },
   "outputs": [
    {
     "data": {
      "text/html": [
       "<iframe src=\"plotlyJupyterHTML/scat_title_gross.html\" width=\"100%\" height=\"400\" id=\"igraph\" scrolling=\"no\" seamless=\"seamless\" frameBorder=\"0\"> </iframe>"
      ]
     },
     "metadata": {},
     "output_type": "display_data"
    }
   ],
   "source": [
    "t_length<-title_length[!is.na(title_length$Gross),]\n",
    "fit <- lm(Gross ~ Length, data = t_length)\n",
    "scat_title_gross<-plot_ly(t_length,x=~Length,y=~Gross, type=\"scatter\", mode = \"markers\")%>% \n",
    "add_markers(color=~Gross, alpha = 0.4)%>% \n",
    "add_trace(data=t_length,x = ~Length, y = ~fitted(fit), mode = \"lines\")\n",
    "\n",
    "embed_notebook(scat_title_gross,file=paste0(\"plotlyJupyterHTML/\",\"scat_title_gross\",\".html\"))"
   ]
  },
  {
   "cell_type": "markdown",
   "metadata": {
    "collapsed": true
   },
   "source": [
    "We can see from this plot that the length of a movie title has a small effect on the box-office revenue of a movie. \n",
    "\n",
    "Next: I analyse at the \"facenumber_in_poster\" variable. This variable is an attempt to quantify the phenomenon of \"the giant floating head\" seen in a lot of movie posters like this one:<img src=\"image/ghost_rider.jpg\">\n",
    "\n",
    "or this one:<img src=\"image/scream_2.jpg\">\n",
    "\n",
    "or those :<img src=\"image/Movie-Posters-That-Look-Similar-13.jpg\" style=\"width:50%\">\n",
    "\n",
    "As you can see, it's an overuse poster style."
   ]
  },
  {
   "cell_type": "code",
   "execution_count": 24,
   "metadata": {
    "collapsed": false
   },
   "outputs": [
    {
     "data": {
      "text/plain": [
       "   Min. 1st Qu.  Median    Mean 3rd Qu.    Max.    NA's \n",
       "  0.000   0.000   1.000   1.368   2.000  43.000      13 "
      ]
     },
     "metadata": {},
     "output_type": "display_data"
    }
   ],
   "source": [
    "summary(movies$facenumber_in_poster)"
   ]
  },
  {
   "cell_type": "code",
   "execution_count": 25,
   "metadata": {
    "collapsed": false
   },
   "outputs": [
    {
     "data": {
      "text/html": [
       "<iframe src=\"plotlyJupyterHTML/scat_title_gross.html\" width=\"100%\" height=\"400\" id=\"igraph\" scrolling=\"no\" seamless=\"seamless\" frameBorder=\"0\"> </iframe>"
      ]
     },
     "metadata": {},
     "output_type": "display_data"
    }
   ],
   "source": [
    "scat_title_gross<-movies[complete.cases(movies$facenumber_in_poster),]%>% \n",
    "  dplyr::count(facenumber_in_poster) %>%\n",
    "  plot_ly(x =~facenumber_in_poster, y = ~n) %>% \n",
    "  add_bars()%>%\n",
    "layout(title = 'Number of faces on the movie poster',\n",
    "         xaxis = list(title = 'Number of faces', zeroline = TRUE),\n",
    "         yaxis = list(title = 'Frequency'))\n",
    "\n",
    "embed_notebook(scat_title_gross,file=paste0(\"plotlyJupyterHTML/\",\"scat_title_gross\",\".html\"))"
   ]
  },
  {
   "cell_type": "markdown",
   "metadata": {},
   "source": [
    "The maximal value taken by this variable is 43, which is quite high. Since the number of heads in each poster has been counted by a face recognition algorithm, I suspect that this is an aberrant value. If that's not the case, investigating these data is worth my time just to find what kind of abomination of a poster can contain that many heads."
   ]
  },
  {
   "cell_type": "code",
   "execution_count": 26,
   "metadata": {
    "collapsed": false
   },
   "outputs": [
    {
     "data": {
      "text/html": [
       "<table>\n",
       "<thead><tr><th scope=col>movie_title</th><th scope=col>facenumber</th></tr></thead>\n",
       "<tbody>\n",
       "\t<tr><td>500daysofsummer  </td><td>43               </td></tr>\n",
       "\t<tr><td>themaster        </td><td>31               </td></tr>\n",
       "\t<tr><td>battleoftheyear  </td><td>19               </td></tr>\n",
       "\t<tr><td>theexpendables3  </td><td>15               </td></tr>\n",
       "\t<tr><td>newyearseve      </td><td>15               </td></tr>\n",
       "\t<tr><td>cheaperbythedozen</td><td>15               </td></tr>\n",
       "\t<tr><td>asitisinheaven   </td><td>15               </td></tr>\n",
       "\t<tr><td>boogienights     </td><td>15               </td></tr>\n",
       "\t<tr><td>shouldvebeenromeo</td><td>15               </td></tr>\n",
       "\t<tr><td>abridgetoofar    </td><td>14               </td></tr>\n",
       "</tbody>\n",
       "</table>\n"
      ],
      "text/latex": [
       "\\begin{tabular}{r|ll}\n",
       " movie\\_title & facenumber\\\\\n",
       "\\hline\n",
       "\t 500daysofsummer   & 43               \\\\\n",
       "\t themaster         & 31               \\\\\n",
       "\t battleoftheyear   & 19               \\\\\n",
       "\t theexpendables3   & 15               \\\\\n",
       "\t newyearseve       & 15               \\\\\n",
       "\t cheaperbythedozen & 15               \\\\\n",
       "\t asitisinheaven    & 15               \\\\\n",
       "\t boogienights      & 15               \\\\\n",
       "\t shouldvebeenromeo & 15               \\\\\n",
       "\t abridgetoofar     & 14               \\\\\n",
       "\\end{tabular}\n"
      ],
      "text/markdown": [
       "\n",
       "movie_title | facenumber | \n",
       "|---|---|---|---|---|---|---|---|---|---|\n",
       "| 500daysofsummer   | 43                | \n",
       "| themaster         | 31                | \n",
       "| battleoftheyear   | 19                | \n",
       "| theexpendables3   | 15                | \n",
       "| newyearseve       | 15                | \n",
       "| cheaperbythedozen | 15                | \n",
       "| asitisinheaven    | 15                | \n",
       "| boogienights      | 15                | \n",
       "| shouldvebeenromeo | 15                | \n",
       "| abridgetoofar     | 14                | \n",
       "\n",
       "\n"
      ],
      "text/plain": [
       "   movie_title       facenumber\n",
       "1  500daysofsummer   43        \n",
       "2  themaster         31        \n",
       "3  battleoftheyear   19        \n",
       "4  theexpendables3   15        \n",
       "5  newyearseve       15        \n",
       "6  cheaperbythedozen 15        \n",
       "7  asitisinheaven    15        \n",
       "8  boogienights      15        \n",
       "9  shouldvebeenromeo 15        \n",
       "10 abridgetoofar     14        "
      ]
     },
     "metadata": {},
     "output_type": "display_data"
    }
   ],
   "source": [
    "faaaaaaaaaaace<-data.table(movie_title=movies$movie_title,facenumber=movies$facenumber)\n",
    "faaaaaaaaaaace<-faaaaaaaaaaace[order(-movies$facenumber)]\n",
    "head(faaaaaaaaaaace, n=10)"
   ]
  },
  {
   "cell_type": "markdown",
   "metadata": {},
   "source": [
    "Mother of God: the movies \"500 Days of Summer\" poster really has 43 faces on it! \n",
    "<img src=\"image/500_days_of_summer.jpg\" style=\"width:50%\">\n",
    "\n",
    "I also looked at 10 movies who have the most heads on their poster and the face recognition algorithm was on mark. As an exemple, here's the poster of \"The master\" movie: <img src=\"image/The_master.jpg\" style=\"width:50%\">\n",
    "\n",
    "I conclude that there's no outlier in those data, just marketing executive that pushed the concept of the giant floating head too far.\n",
    "\n",
    "After looking at the number of faces in each movie poster, focused on the genre of the movie, in particular the average gross revenue by genre."
   ]
  },
  {
   "cell_type": "code",
   "execution_count": 27,
   "metadata": {
    "collapsed": true
   },
   "outputs": [],
   "source": [
    "colnames(movies)<-sub(\"-\", \"_\", colnames(movies))"
   ]
  },
  {
   "cell_type": "code",
   "execution_count": 28,
   "metadata": {
    "collapsed": false
   },
   "outputs": [],
   "source": [
    "col_genre<-c(\"genres_Action\", \"genres_Adventure\", \"genres_Animation\", \"genres_Biography\", \"genres_Comedy\", \"genres_Crime\",\n",
    "\"genres_Documentary\", \"genres_Drama\", \"genres_Family\", \"genres_Fantasy\", \"genres_Film_Noir\", \n",
    " \"genres_History\", \"genres_Horror\", \"genres_Music\", \"genres_Musical\", \"genres_Mystery\",\"genres_News\",\n",
    "\"genres_Romance\", \"genres_Sci_Fi\",\"genres_Short\", \"genres_Sport\",\"genres_Thriller\",\"genres_War\",\"genres_Western\", \"gross\")\n",
    "\n",
    "genre_gross<-movies[,col_genre,with=FALSE]"
   ]
  },
  {
   "cell_type": "code",
   "execution_count": 29,
   "metadata": {
    "collapsed": false
   },
   "outputs": [],
   "source": [
    "count_genre_gross<-sapply(genre_gross[,!25], function(x)sum(as.numeric(x),na.rm=TRUE))\n",
    "sum_genre_gross<-sapply(genre_gross[,!25], function(x)sum(as.numeric(x)*as.numeric(genre_gross$gross),na.rm=TRUE))\n",
    "stat_genre_gross<-data.frame(Count=count_genre_gross,Sum=sum_genre_gross)"
   ]
  },
  {
   "cell_type": "code",
   "execution_count": 30,
   "metadata": {
    "collapsed": false
   },
   "outputs": [
    {
     "data": {
      "text/html": [
       "<table>\n",
       "<thead><tr><th></th><th scope=col>Count</th><th scope=col>Sum</th><th scope=col>Mean</th><th scope=col>Name</th></tr></thead>\n",
       "<tbody>\n",
       "\t<tr><th scope=row>genres_Action</th><td>1094            </td><td>71844560555     </td><td>65671445        </td><td>genres_Action   </td></tr>\n",
       "\t<tr><th scope=row>genres_Adventure</th><td> 877            </td><td>75440686524     </td><td>86021307        </td><td>genres_Adventure</td></tr>\n",
       "\t<tr><th scope=row>genres_Animation</th><td> 233            </td><td>21483583536     </td><td>92204221        </td><td>genres_Animation</td></tr>\n",
       "\t<tr><th scope=row>genres_Biography</th><td> 290            </td><td> 9143454008     </td><td>31529152        </td><td>genres_Biography</td></tr>\n",
       "\t<tr><th scope=row>genres_Comedy</th><td>1813            </td><td>76749009842     </td><td>42332603        </td><td>genres_Comedy   </td></tr>\n",
       "\t<tr><th scope=row>genres_Crime</th><td> 838            </td><td>27723849524     </td><td>33083353        </td><td>genres_Crime    </td></tr>\n",
       "</tbody>\n",
       "</table>\n"
      ],
      "text/latex": [
       "\\begin{tabular}{r|llll}\n",
       "  & Count & Sum & Mean & Name\\\\\n",
       "\\hline\n",
       "\tgenres\\_Action & 1094               & 71844560555        & 65671445           & genres\\_Action   \\\\\n",
       "\tgenres\\_Adventure &  877               & 75440686524        & 86021307           & genres\\_Adventure\\\\\n",
       "\tgenres\\_Animation &  233               & 21483583536        & 92204221           & genres\\_Animation\\\\\n",
       "\tgenres\\_Biography &  290               &  9143454008        & 31529152           & genres\\_Biography\\\\\n",
       "\tgenres\\_Comedy & 1813               & 76749009842        & 42332603           & genres\\_Comedy   \\\\\n",
       "\tgenres\\_Crime &  838               & 27723849524        & 33083353           & genres\\_Crime    \\\\\n",
       "\\end{tabular}\n"
      ],
      "text/markdown": [
       "\n",
       "| <!--/--> | Count | Sum | Mean | Name | \n",
       "|---|---|---|---|---|---|\n",
       "| genres_Action | 1094             | 71844560555      | 65671445         | genres_Action    | \n",
       "| genres_Adventure |  877             | 75440686524      | 86021307         | genres_Adventure | \n",
       "| genres_Animation |  233             | 21483583536      | 92204221         | genres_Animation | \n",
       "| genres_Biography |  290             |  9143454008      | 31529152         | genres_Biography | \n",
       "| genres_Comedy | 1813             | 76749009842      | 42332603         | genres_Comedy    | \n",
       "| genres_Crime |  838             | 27723849524      | 33083353         | genres_Crime     | \n",
       "\n",
       "\n"
      ],
      "text/plain": [
       "                 Count Sum         Mean     Name            \n",
       "genres_Action    1094  71844560555 65671445 genres_Action   \n",
       "genres_Adventure  877  75440686524 86021307 genres_Adventure\n",
       "genres_Animation  233  21483583536 92204221 genres_Animation\n",
       "genres_Biography  290   9143454008 31529152 genres_Biography\n",
       "genres_Comedy    1813  76749009842 42332603 genres_Comedy   \n",
       "genres_Crime      838  27723849524 33083353 genres_Crime    "
      ]
     },
     "metadata": {},
     "output_type": "display_data"
    }
   ],
   "source": [
    "stat_genre_gross$Mean<-as.numeric(stat_genre_gross$Sum/stat_genre_gross$Count)\n",
    "stat_genre_gross$Name<-as.character(col_genre[1:24])\n",
    "head(stat_genre_gross)"
   ]
  },
  {
   "cell_type": "code",
   "execution_count": 31,
   "metadata": {
    "collapsed": false
   },
   "outputs": [],
   "source": [
    "stat_genre_gross$Name<-substr(stat_genre_gross$Name,8,nchar(stat_genre_gross$Name))"
   ]
  },
  {
   "cell_type": "code",
   "execution_count": 32,
   "metadata": {
    "collapsed": false
   },
   "outputs": [
    {
     "data": {
      "text/html": [
       "<iframe src=\"plotlyJupyterHTML/hist_genre.html\" width=\"100%\" height=\"400\" id=\"igraph\" scrolling=\"no\" seamless=\"seamless\" frameBorder=\"0\"> </iframe>"
      ]
     },
     "metadata": {},
     "output_type": "display_data"
    }
   ],
   "source": [
    "m = list(\n",
    "  l = 50,\n",
    "  r = 0,\n",
    "  b = 50,\n",
    "  t = 30,\n",
    "  pad = 0\n",
    ") \n",
    "hist_genre<-plot_ly(stat_genre_gross,x=~Name,y=~Mean)%>% \n",
    "    add_bars()%>%\n",
    "    layout(title = 'Mean gross by genre',\n",
    "             xaxis = list(title = ''),\n",
    "             yaxis = list(title = 'Total gross'),\n",
    "         margin=m)\n",
    "\n",
    "embed_notebook(hist_genre,file=paste0(\"plotlyJupyterHTML/\",\"hist_genre\",\".html\"))"
   ]
  },
  {
   "cell_type": "markdown",
   "metadata": {},
   "source": [
    "The histogram suggests that the genre of movie influences significantly the gross revenue of a movie. Also, this plot gives me some insight on why I can't find a good film-noir to watch on a rainy Monday night: they make as much money than short movie. Sad.\n",
    "\n",
    "After looking at the genre of a movie, I look at the distribution of the language used in the movie data set."
   ]
  },
  {
   "cell_type": "code",
   "execution_count": 33,
   "metadata": {
    "collapsed": false
   },
   "outputs": [
    {
     "data": {
      "text/html": [
       "<dl class=dl-horizontal>\n",
       "\t<dt>English</dt>\n",
       "\t\t<dd>4488</dd>\n",
       "\t<dt>French</dt>\n",
       "\t\t<dd>72</dd>\n",
       "\t<dt>Spanish</dt>\n",
       "\t\t<dd>40</dd>\n",
       "\t<dt>Hindi</dt>\n",
       "\t\t<dd>28</dd>\n",
       "\t<dt>Mandarin</dt>\n",
       "\t\t<dd>24</dd>\n",
       "\t<dt>German</dt>\n",
       "\t\t<dd>19</dd>\n",
       "\t<dt>Japanese</dt>\n",
       "\t\t<dd>16</dd>\n",
       "\t<dt>Cantonese</dt>\n",
       "\t\t<dd>11</dd>\n",
       "\t<dt>(Other)</dt>\n",
       "\t\t<dd>108</dd>\n",
       "\t<dt>NA's</dt>\n",
       "\t\t<dd>11</dd>\n",
       "</dl>\n"
      ],
      "text/latex": [
       "\\begin{description*}\n",
       "\\item[English] 4488\n",
       "\\item[French] 72\n",
       "\\item[Spanish] 40\n",
       "\\item[Hindi] 28\n",
       "\\item[Mandarin] 24\n",
       "\\item[German] 19\n",
       "\\item[Japanese] 16\n",
       "\\item[Cantonese] 11\n",
       "\\item[(Other)] 108\n",
       "\\item[NA's] 11\n",
       "\\end{description*}\n"
      ],
      "text/markdown": [
       "English\n",
       ":   4488French\n",
       ":   72Spanish\n",
       ":   40Hindi\n",
       ":   28Mandarin\n",
       ":   24German\n",
       ":   19Japanese\n",
       ":   16Cantonese\n",
       ":   11(Other)\n",
       ":   108NA's\n",
       ":   11\n",
       "\n"
      ],
      "text/plain": [
       "  English    French   Spanish     Hindi  Mandarin    German  Japanese Cantonese \n",
       "     4488        72        40        28        24        19        16        11 \n",
       "  (Other)      NA's \n",
       "      108        11 "
      ]
     },
     "metadata": {},
     "output_type": "display_data"
    }
   ],
   "source": [
    "summary(movies$language,maxsum=10)"
   ]
  },
  {
   "cell_type": "code",
   "execution_count": 34,
   "metadata": {
    "collapsed": false
   },
   "outputs": [
    {
     "data": {
      "text/html": [
       "<iframe src=\"plotlyJupyterHTML/hist_lg.html\" width=\"100%\" height=\"400\" id=\"igraph\" scrolling=\"no\" seamless=\"seamless\" frameBorder=\"0\"> </iframe>"
      ]
     },
     "metadata": {},
     "output_type": "display_data"
    }
   ],
   "source": [
    "m = list(\n",
    "  l = 50,\n",
    "  r = 0,\n",
    "  b = 100,\n",
    "  t = 30,\n",
    "  pad = 0\n",
    ") \n",
    "hist_lg<-movies[complete.cases(movies$language),]%>% \n",
    "  dplyr::count(language) %>%\n",
    "  plot_ly(x =~language, y = ~n) %>% \n",
    "  add_bars()%>%\n",
    "layout(title = 'Language used in the movies from the IMDB data set',\n",
    "         xaxis = list(title = 'Language', zeroline = TRUE),\n",
    "         yaxis = list(title = 'Frequency'),\n",
    "         margin=m)\n",
    "\n",
    "embed_notebook(hist_lg,file=paste0(\"plotlyJupyterHTML/\",\"hist_lg\",\".html\"))"
   ]
  },
  {
   "cell_type": "markdown",
   "metadata": {},
   "source": [
    "There's so many movies of English language in the data set, that this graph is not really useful. Let's remove those movies from the set and draw the histogram of the non-English movies. "
   ]
  },
  {
   "cell_type": "code",
   "execution_count": 35,
   "metadata": {
    "collapsed": false
   },
   "outputs": [
    {
     "data": {
      "text/html": [
       "<iframe src=\"plotlyJupyterHTML/hist_lg_english_out.html\" width=\"100%\" height=\"400\" id=\"igraph\" scrolling=\"no\" seamless=\"seamless\" frameBorder=\"0\"> </iframe>"
      ]
     },
     "metadata": {},
     "output_type": "display_data"
    }
   ],
   "source": [
    "hist_lg_english_out<-movies[language!=\"English\"]%>% \n",
    "  dplyr::count(language) %>%\n",
    "  plot_ly(x =~language, y = ~n) %>% \n",
    "  add_bars()%>%\n",
    "layout(title = 'Non english language used in the movies from the IMDB data set',\n",
    "         xaxis = list(title = 'Language', zeroline = TRUE),\n",
    "         yaxis = list(title = 'Frequency'),\n",
    "         margin=m)\n",
    "\n",
    "embed_notebook(hist_lg_english_out,file=paste0(\"plotlyJupyterHTML/\",\"hist_lg_english_out\",\".html\"))"
   ]
  },
  {
   "cell_type": "markdown",
   "metadata": {
    "collapsed": true
   },
   "source": [
    "So the French, Spanish and Hindi are the most use language apart English in the data set. All and all, they represent a negligible amount of movie in the data set.\n",
    "\n",
    "Let us look at the country of production of each movie."
   ]
  },
  {
   "cell_type": "code",
   "execution_count": 36,
   "metadata": {
    "collapsed": false
   },
   "outputs": [
    {
     "data": {
      "text/html": [
       "<dl class=dl-horizontal>\n",
       "\t<dt>USA</dt>\n",
       "\t\t<dd>3637</dd>\n",
       "\t<dt>UK</dt>\n",
       "\t\t<dd>420</dd>\n",
       "\t<dt>France</dt>\n",
       "\t\t<dd>153</dd>\n",
       "\t<dt>Canada</dt>\n",
       "\t\t<dd>121</dd>\n",
       "\t<dt>Germany</dt>\n",
       "\t\t<dd>94</dd>\n",
       "\t<dt>Australia</dt>\n",
       "\t\t<dd>51</dd>\n",
       "\t<dt>India</dt>\n",
       "\t\t<dd>34</dd>\n",
       "\t<dt>Spain</dt>\n",
       "\t\t<dd>33</dd>\n",
       "\t<dt>(Other)</dt>\n",
       "\t\t<dd>271</dd>\n",
       "\t<dt>NA's</dt>\n",
       "\t\t<dd>3</dd>\n",
       "</dl>\n"
      ],
      "text/latex": [
       "\\begin{description*}\n",
       "\\item[USA] 3637\n",
       "\\item[UK] 420\n",
       "\\item[France] 153\n",
       "\\item[Canada] 121\n",
       "\\item[Germany] 94\n",
       "\\item[Australia] 51\n",
       "\\item[India] 34\n",
       "\\item[Spain] 33\n",
       "\\item[(Other)] 271\n",
       "\\item[NA's] 3\n",
       "\\end{description*}\n"
      ],
      "text/markdown": [
       "USA\n",
       ":   3637UK\n",
       ":   420France\n",
       ":   153Canada\n",
       ":   121Germany\n",
       ":   94Australia\n",
       ":   51India\n",
       ":   34Spain\n",
       ":   33(Other)\n",
       ":   271NA's\n",
       ":   3\n",
       "\n"
      ],
      "text/plain": [
       "      USA        UK    France    Canada   Germany Australia     India     Spain \n",
       "     3637       420       153       121        94        51        34        33 \n",
       "  (Other)      NA's \n",
       "      271         3 "
      ]
     },
     "metadata": {},
     "output_type": "display_data"
    }
   ],
   "source": [
    "summary(movies$country,maxsum=10)"
   ]
  },
  {
   "cell_type": "code",
   "execution_count": 37,
   "metadata": {
    "collapsed": false
   },
   "outputs": [
    {
     "data": {
      "text/html": [
       "<iframe src=\"plotlyJupyterHTML/hist_country1.html\" width=\"100%\" height=\"400\" id=\"igraph\" scrolling=\"no\" seamless=\"seamless\" frameBorder=\"0\"> </iframe>"
      ]
     },
     "metadata": {},
     "output_type": "display_data"
    },
    {
     "data": {
      "text/html": [
       "<iframe src=\"plotlyJupyterHTML/hist_country2.html\" width=\"100%\" height=\"400\" id=\"igraph\" scrolling=\"no\" seamless=\"seamless\" frameBorder=\"0\"> </iframe>"
      ]
     },
     "metadata": {},
     "output_type": "display_data"
    }
   ],
   "source": [
    "hist_country1<-movies%>% \n",
    "  dplyr::count(country) %>%\n",
    "  plot_ly(x =~country[1:25], y = ~n[1:25]) %>% \n",
    "  add_bars()%>%\n",
    "layout(title = 'Country of origin of the movies from the IMDB data set',\n",
    "         xaxis = list(title = 'Country'),\n",
    "         yaxis = list(title = 'Frequency'),\n",
    "         margin=m)\n",
    "\n",
    "embed_notebook(hist_country1,file=paste0(\"plotlyJupyterHTML/\",\"hist_country1\",\".html\"))\n",
    "\n",
    "m = list(\n",
    "  l = 50,\n",
    "  r = 0,\n",
    "  b = 120,\n",
    "  t = 30,\n",
    "  pad = 0\n",
    ") \n",
    "hist_country2<-movies%>% \n",
    "  dplyr::count(country) %>%\n",
    "  plot_ly(x =~country[26:65], y = ~n[26:65]) %>% \n",
    "  add_bars()%>%\n",
    "layout(title = 'Country of origin of the movies from the IMDB data set',\n",
    "         xaxis = list(title = 'Country'),\n",
    "         yaxis = list(title = 'Frequency'),\n",
    "         margin=m)\n",
    "\n",
    "embed_notebook(hist_country2,file=paste0(\"plotlyJupyterHTML/\",\"hist_country2\",\".html\"))"
   ]
  },
  {
   "cell_type": "markdown",
   "metadata": {},
   "source": [
    "Again, the American movie represents the vast majority of the movie in the data set. Without them, we get this histogram."
   ]
  },
  {
   "cell_type": "code",
   "execution_count": 38,
   "metadata": {
    "collapsed": false
   },
   "outputs": [
    {
     "data": {
      "text/html": [
       "<iframe src=\"plotlyJupyterHTML/hist_country_noUS.html\" width=\"100%\" height=\"400\" id=\"igraph\" scrolling=\"no\" seamless=\"seamless\" frameBorder=\"0\"> </iframe>"
      ]
     },
     "metadata": {},
     "output_type": "display_data"
    }
   ],
   "source": [
    "m = list(\n",
    "  l = 50,\n",
    "  r = 0,\n",
    "  b = 100,\n",
    "  t = 30,\n",
    "  pad = 0\n",
    ") \n",
    "hist_country_noUS<-movies[country!=\"USA\",]%>% \n",
    "  dplyr::count(country) %>%\n",
    "  plot_ly(x =~country[26:63], y = ~n[26:63]) %>% \n",
    "  add_bars()%>%\n",
    "layout(title = 'Country of origin of the movies from the IMDB data set',\n",
    "         xaxis = list(title = 'Country'),\n",
    "         yaxis = list(title = 'Frequency'),\n",
    "         margin=m)\n",
    "\n",
    "embed_notebook(hist_country_noUS,file=paste0(\"plotlyJupyterHTML/\",\"hist_country_noUS\",\".html\"))"
   ]
  },
  {
   "cell_type": "markdown",
   "metadata": {
    "collapsed": true
   },
   "source": [
    "The United Kingdom movie's are by far the most represented non-Americans movie in the data set. Again, this show the limitation of this data set: IMDB is an American website and the information in this site is primarily for the U.S market. Using this data to estimate the profitability of foreign movie in their primary market would be a waste of time.\n",
    "\n",
    "Now we look at the \"content_rating\" variable."
   ]
  },
  {
   "cell_type": "code",
   "execution_count": 39,
   "metadata": {
    "collapsed": false
   },
   "outputs": [
    {
     "data": {
      "text/html": [
       "<dl class=dl-horizontal>\n",
       "\t<dt>Approved</dt>\n",
       "\t\t<dd>54</dd>\n",
       "\t<dt>G</dt>\n",
       "\t\t<dd>112</dd>\n",
       "\t<dt>GP</dt>\n",
       "\t\t<dd>6</dd>\n",
       "\t<dt>M</dt>\n",
       "\t\t<dd>5</dd>\n",
       "\t<dt>NC-17</dt>\n",
       "\t\t<dd>7</dd>\n",
       "\t<dt>Not Rated</dt>\n",
       "\t\t<dd>115</dd>\n",
       "\t<dt>Passed</dt>\n",
       "\t\t<dd>9</dd>\n",
       "\t<dt>PG</dt>\n",
       "\t\t<dd>686</dd>\n",
       "\t<dt>PG-13</dt>\n",
       "\t\t<dd>1410</dd>\n",
       "\t<dt>R</dt>\n",
       "\t\t<dd>2069</dd>\n",
       "\t<dt>TV-14</dt>\n",
       "\t\t<dd>3</dd>\n",
       "\t<dt>TV-G</dt>\n",
       "\t\t<dd>4</dd>\n",
       "\t<dt>TV-MA</dt>\n",
       "\t\t<dd>1</dd>\n",
       "\t<dt>TV-PG</dt>\n",
       "\t\t<dd>3</dd>\n",
       "\t<dt>Unrated</dt>\n",
       "\t\t<dd>59</dd>\n",
       "\t<dt>X</dt>\n",
       "\t\t<dd>12</dd>\n",
       "\t<dt>NA's</dt>\n",
       "\t\t<dd>262</dd>\n",
       "</dl>\n"
      ],
      "text/latex": [
       "\\begin{description*}\n",
       "\\item[Approved] 54\n",
       "\\item[G] 112\n",
       "\\item[GP] 6\n",
       "\\item[M] 5\n",
       "\\item[NC-17] 7\n",
       "\\item[Not Rated] 115\n",
       "\\item[Passed] 9\n",
       "\\item[PG] 686\n",
       "\\item[PG-13] 1410\n",
       "\\item[R] 2069\n",
       "\\item[TV-14] 3\n",
       "\\item[TV-G] 4\n",
       "\\item[TV-MA] 1\n",
       "\\item[TV-PG] 3\n",
       "\\item[Unrated] 59\n",
       "\\item[X] 12\n",
       "\\item[NA's] 262\n",
       "\\end{description*}\n"
      ],
      "text/markdown": [
       "Approved\n",
       ":   54G\n",
       ":   112GP\n",
       ":   6M\n",
       ":   5NC-17\n",
       ":   7Not Rated\n",
       ":   115Passed\n",
       ":   9PG\n",
       ":   686PG-13\n",
       ":   1410R\n",
       ":   2069TV-14\n",
       ":   3TV-G\n",
       ":   4TV-MA\n",
       ":   1TV-PG\n",
       ":   3Unrated\n",
       ":   59X\n",
       ":   12NA's\n",
       ":   262\n",
       "\n"
      ],
      "text/plain": [
       " Approved         G        GP         M     NC-17 Not Rated    Passed        PG \n",
       "       54       112         6         5         7       115         9       686 \n",
       "    PG-13         R     TV-14      TV-G     TV-MA     TV-PG   Unrated         X \n",
       "     1410      2069         3         4         1         3        59        12 \n",
       "     NA's \n",
       "      262 "
      ]
     },
     "metadata": {},
     "output_type": "display_data"
    }
   ],
   "source": [
    "summary(movies$content_rating)"
   ]
  },
  {
   "cell_type": "code",
   "execution_count": 40,
   "metadata": {
    "collapsed": false
   },
   "outputs": [
    {
     "data": {
      "text/html": [
       "<iframe src=\"plotlyJupyterHTML/hist_rating.html\" width=\"100%\" height=\"400\" id=\"igraph\" scrolling=\"no\" seamless=\"seamless\" frameBorder=\"0\"> </iframe>"
      ]
     },
     "metadata": {},
     "output_type": "display_data"
    }
   ],
   "source": [
    "hist_rating<-movies[complete.cases(movies$content_rating),]%>% \n",
    "  dplyr::count(content_rating) %>%\n",
    "  plot_ly(x =~content_rating, y = ~n) %>% \n",
    "  add_bars()%>%\n",
    "layout(title = 'Content rating of the movies from the IMDB data set',\n",
    "         xaxis = list(title = 'Content rating', zeroline = TRUE),\n",
    "         yaxis = list(title = 'Frequency'))\n",
    "\n",
    "embed_notebook(hist_rating,file=paste0(\"plotlyJupyterHTML/\",\"hist_rating\",\".html\"))"
   ]
  },
  {
   "cell_type": "markdown",
   "metadata": {},
   "source": [
    "I'm not really familiar with some of the content rating, so I'll look at them more in detail, by looking at the movie with those ratings."
   ]
  },
  {
   "cell_type": "code",
   "execution_count": 41,
   "metadata": {
    "collapsed": false
   },
   "outputs": [
    {
     "data": {
      "text/html": [
       "<ol class=list-inline>\n",
       "\t<li>'http://www.imdb.com/title/tt2479478/?ref_=fn_tt_tt_1'</li>\n",
       "\t<li>'http://www.imdb.com/title/tt1477109/?ref_=fn_tt_tt_1'</li>\n",
       "\t<li>'http://www.imdb.com/title/tt2724064/?ref_=fn_tt_tt_1'</li>\n",
       "</ol>\n"
      ],
      "text/latex": [
       "\\begin{enumerate*}\n",
       "\\item 'http://www.imdb.com/title/tt2479478/?ref\\_=fn\\_tt\\_tt\\_1'\n",
       "\\item 'http://www.imdb.com/title/tt1477109/?ref\\_=fn\\_tt\\_tt\\_1'\n",
       "\\item 'http://www.imdb.com/title/tt2724064/?ref\\_=fn\\_tt\\_tt\\_1'\n",
       "\\end{enumerate*}\n"
      ],
      "text/markdown": [
       "1. 'http://www.imdb.com/title/tt2479478/?ref_=fn_tt_tt_1'\n",
       "2. 'http://www.imdb.com/title/tt1477109/?ref_=fn_tt_tt_1'\n",
       "3. 'http://www.imdb.com/title/tt2724064/?ref_=fn_tt_tt_1'\n",
       "\n",
       "\n"
      ],
      "text/plain": [
       "[1] \"http://www.imdb.com/title/tt2479478/?ref_=fn_tt_tt_1\"\n",
       "[2] \"http://www.imdb.com/title/tt1477109/?ref_=fn_tt_tt_1\"\n",
       "[3] \"http://www.imdb.com/title/tt2724064/?ref_=fn_tt_tt_1\""
      ]
     },
     "metadata": {},
     "output_type": "display_data"
    }
   ],
   "source": [
    "movies[content_rating==\"TV-14\",movie_imdb_link]"
   ]
  },
  {
   "cell_type": "code",
   "execution_count": 42,
   "metadata": {
    "collapsed": false
   },
   "outputs": [
    {
     "data": {
      "text/html": [
       "<ol class=list-inline>\n",
       "\t<li>'http://www.imdb.com/title/tt0810900/?ref_=fn_tt_tt_1'</li>\n",
       "\t<li>'http://www.imdb.com/title/tt0475293/?ref_=fn_tt_tt_1'</li>\n",
       "\t<li>'http://www.imdb.com/title/tt2395247/?ref_=fn_tt_tt_1'</li>\n",
       "\t<li>'http://www.imdb.com/title/tt0059026/?ref_=fn_tt_tt_1'</li>\n",
       "</ol>\n"
      ],
      "text/latex": [
       "\\begin{enumerate*}\n",
       "\\item 'http://www.imdb.com/title/tt0810900/?ref\\_=fn\\_tt\\_tt\\_1'\n",
       "\\item 'http://www.imdb.com/title/tt0475293/?ref\\_=fn\\_tt\\_tt\\_1'\n",
       "\\item 'http://www.imdb.com/title/tt2395247/?ref\\_=fn\\_tt\\_tt\\_1'\n",
       "\\item 'http://www.imdb.com/title/tt0059026/?ref\\_=fn\\_tt\\_tt\\_1'\n",
       "\\end{enumerate*}\n"
      ],
      "text/markdown": [
       "1. 'http://www.imdb.com/title/tt0810900/?ref_=fn_tt_tt_1'\n",
       "2. 'http://www.imdb.com/title/tt0475293/?ref_=fn_tt_tt_1'\n",
       "3. 'http://www.imdb.com/title/tt2395247/?ref_=fn_tt_tt_1'\n",
       "4. 'http://www.imdb.com/title/tt0059026/?ref_=fn_tt_tt_1'\n",
       "\n",
       "\n"
      ],
      "text/plain": [
       "[1] \"http://www.imdb.com/title/tt0810900/?ref_=fn_tt_tt_1\"\n",
       "[2] \"http://www.imdb.com/title/tt0475293/?ref_=fn_tt_tt_1\"\n",
       "[3] \"http://www.imdb.com/title/tt2395247/?ref_=fn_tt_tt_1\"\n",
       "[4] \"http://www.imdb.com/title/tt0059026/?ref_=fn_tt_tt_1\""
      ]
     },
     "metadata": {},
     "output_type": "display_data"
    }
   ],
   "source": [
    "movies[content_rating==\"TV-G\",movie_imdb_link]"
   ]
  },
  {
   "cell_type": "code",
   "execution_count": 43,
   "metadata": {
    "collapsed": false
   },
   "outputs": [
    {
     "data": {
      "text/html": [
       "'http://www.imdb.com/title/tt0092337/?ref_=fn_tt_tt_1'"
      ],
      "text/latex": [
       "'http://www.imdb.com/title/tt0092337/?ref\\_=fn\\_tt\\_tt\\_1'"
      ],
      "text/markdown": [
       "'http://www.imdb.com/title/tt0092337/?ref_=fn_tt_tt_1'"
      ],
      "text/plain": [
       "[1] \"http://www.imdb.com/title/tt0092337/?ref_=fn_tt_tt_1\""
      ]
     },
     "metadata": {},
     "output_type": "display_data"
    }
   ],
   "source": [
    "movies[content_rating==\"TV-MA\",movie_imdb_link]"
   ]
  },
  {
   "cell_type": "code",
   "execution_count": 44,
   "metadata": {
    "collapsed": false
   },
   "outputs": [
    {
     "data": {
      "text/html": [
       "<ol class=list-inline>\n",
       "\t<li>'http://www.imdb.com/title/tt2063015/?ref_=fn_tt_tt_1'</li>\n",
       "\t<li>'http://www.imdb.com/title/tt1663628/?ref_=fn_tt_tt_1'</li>\n",
       "\t<li>'http://www.imdb.com/title/tt1675312/?ref_=fn_tt_tt_1'</li>\n",
       "</ol>\n"
      ],
      "text/latex": [
       "\\begin{enumerate*}\n",
       "\\item 'http://www.imdb.com/title/tt2063015/?ref\\_=fn\\_tt\\_tt\\_1'\n",
       "\\item 'http://www.imdb.com/title/tt1663628/?ref\\_=fn\\_tt\\_tt\\_1'\n",
       "\\item 'http://www.imdb.com/title/tt1675312/?ref\\_=fn\\_tt\\_tt\\_1'\n",
       "\\end{enumerate*}\n"
      ],
      "text/markdown": [
       "1. 'http://www.imdb.com/title/tt2063015/?ref_=fn_tt_tt_1'\n",
       "2. 'http://www.imdb.com/title/tt1663628/?ref_=fn_tt_tt_1'\n",
       "3. 'http://www.imdb.com/title/tt1675312/?ref_=fn_tt_tt_1'\n",
       "\n",
       "\n"
      ],
      "text/plain": [
       "[1] \"http://www.imdb.com/title/tt2063015/?ref_=fn_tt_tt_1\"\n",
       "[2] \"http://www.imdb.com/title/tt1663628/?ref_=fn_tt_tt_1\"\n",
       "[3] \"http://www.imdb.com/title/tt1675312/?ref_=fn_tt_tt_1\""
      ]
     },
     "metadata": {},
     "output_type": "display_data"
    }
   ],
   "source": [
    "movies[content_rating==\"TV-PG\",movie_imdb_link]"
   ]
  },
  {
   "cell_type": "markdown",
   "metadata": {},
   "source": [
    "Those ratings classify made for tv movie who generally had a theatrical release. In consequence, these movies have a place in the data set."
   ]
  },
  {
   "cell_type": "code",
   "execution_count": 45,
   "metadata": {
    "collapsed": false
   },
   "outputs": [
    {
     "data": {
      "text/html": [
       "<ol class=list-inline>\n",
       "\t<li>'http://www.imdb.com/title/tt0064757/?ref_=fn_tt_tt_1'</li>\n",
       "\t<li>'http://www.imdb.com/title/tt0064115/?ref_=fn_tt_tt_1'</li>\n",
       "\t<li>'http://www.imdb.com/title/tt0065112/?ref_=fn_tt_tt_1'</li>\n",
       "\t<li>'http://www.imdb.com/title/tt0061747/?ref_=fn_tt_tt_1'</li>\n",
       "\t<li>'http://www.imdb.com/title/tt0062235/?ref_=fn_tt_tt_1'</li>\n",
       "</ol>\n"
      ],
      "text/latex": [
       "\\begin{enumerate*}\n",
       "\\item 'http://www.imdb.com/title/tt0064757/?ref\\_=fn\\_tt\\_tt\\_1'\n",
       "\\item 'http://www.imdb.com/title/tt0064115/?ref\\_=fn\\_tt\\_tt\\_1'\n",
       "\\item 'http://www.imdb.com/title/tt0065112/?ref\\_=fn\\_tt\\_tt\\_1'\n",
       "\\item 'http://www.imdb.com/title/tt0061747/?ref\\_=fn\\_tt\\_tt\\_1'\n",
       "\\item 'http://www.imdb.com/title/tt0062235/?ref\\_=fn\\_tt\\_tt\\_1'\n",
       "\\end{enumerate*}\n"
      ],
      "text/markdown": [
       "1. 'http://www.imdb.com/title/tt0064757/?ref_=fn_tt_tt_1'\n",
       "2. 'http://www.imdb.com/title/tt0064115/?ref_=fn_tt_tt_1'\n",
       "3. 'http://www.imdb.com/title/tt0065112/?ref_=fn_tt_tt_1'\n",
       "4. 'http://www.imdb.com/title/tt0061747/?ref_=fn_tt_tt_1'\n",
       "5. 'http://www.imdb.com/title/tt0062235/?ref_=fn_tt_tt_1'\n",
       "\n",
       "\n"
      ],
      "text/plain": [
       "[1] \"http://www.imdb.com/title/tt0064757/?ref_=fn_tt_tt_1\"\n",
       "[2] \"http://www.imdb.com/title/tt0064115/?ref_=fn_tt_tt_1\"\n",
       "[3] \"http://www.imdb.com/title/tt0065112/?ref_=fn_tt_tt_1\"\n",
       "[4] \"http://www.imdb.com/title/tt0061747/?ref_=fn_tt_tt_1\"\n",
       "[5] \"http://www.imdb.com/title/tt0062235/?ref_=fn_tt_tt_1\""
      ]
     },
     "metadata": {},
     "output_type": "display_data"
    }
   ],
   "source": [
    "movies[content_rating==\"M\",movie_imdb_link]"
   ]
  },
  {
   "cell_type": "markdown",
   "metadata": {},
   "source": [
    "The rating \"GP\", \"M\" and \"X\" are rating used in the past by the Motion Picture Association of America. Since the rating \"M\" became \"GP\" in 1970 and became \"PG\" in 1972 and that the \"X\" rating became the \"NC-17\" rating, I can map those values to the modern rating and avoid a useless segregation in the data.  "
   ]
  },
  {
   "cell_type": "code",
   "execution_count": 46,
   "metadata": {
    "collapsed": false
   },
   "outputs": [
    {
     "data": {
      "text/html": [
       "<ol class=list-inline>\n",
       "\t<li>'Approved'</li>\n",
       "\t<li>'G'</li>\n",
       "\t<li>'GP'</li>\n",
       "\t<li>'M'</li>\n",
       "\t<li>'NC-17'</li>\n",
       "\t<li>'Not Rated'</li>\n",
       "\t<li>'Passed'</li>\n",
       "\t<li>'PG'</li>\n",
       "\t<li>'PG-13'</li>\n",
       "\t<li>'R'</li>\n",
       "\t<li>'TV-14'</li>\n",
       "\t<li>'TV-G'</li>\n",
       "\t<li>'TV-MA'</li>\n",
       "\t<li>'TV-PG'</li>\n",
       "\t<li>'Unrated'</li>\n",
       "\t<li>'X'</li>\n",
       "</ol>\n"
      ],
      "text/latex": [
       "\\begin{enumerate*}\n",
       "\\item 'Approved'\n",
       "\\item 'G'\n",
       "\\item 'GP'\n",
       "\\item 'M'\n",
       "\\item 'NC-17'\n",
       "\\item 'Not Rated'\n",
       "\\item 'Passed'\n",
       "\\item 'PG'\n",
       "\\item 'PG-13'\n",
       "\\item 'R'\n",
       "\\item 'TV-14'\n",
       "\\item 'TV-G'\n",
       "\\item 'TV-MA'\n",
       "\\item 'TV-PG'\n",
       "\\item 'Unrated'\n",
       "\\item 'X'\n",
       "\\end{enumerate*}\n"
      ],
      "text/markdown": [
       "1. 'Approved'\n",
       "2. 'G'\n",
       "3. 'GP'\n",
       "4. 'M'\n",
       "5. 'NC-17'\n",
       "6. 'Not Rated'\n",
       "7. 'Passed'\n",
       "8. 'PG'\n",
       "9. 'PG-13'\n",
       "10. 'R'\n",
       "11. 'TV-14'\n",
       "12. 'TV-G'\n",
       "13. 'TV-MA'\n",
       "14. 'TV-PG'\n",
       "15. 'Unrated'\n",
       "16. 'X'\n",
       "\n",
       "\n"
      ],
      "text/plain": [
       " [1] \"Approved\"  \"G\"         \"GP\"        \"M\"         \"NC-17\"     \"Not Rated\"\n",
       " [7] \"Passed\"    \"PG\"        \"PG-13\"     \"R\"         \"TV-14\"     \"TV-G\"     \n",
       "[13] \"TV-MA\"     \"TV-PG\"     \"Unrated\"   \"X\"        "
      ]
     },
     "metadata": {},
     "output_type": "display_data"
    }
   ],
   "source": [
    "levels(movies$content_rating)"
   ]
  },
  {
   "cell_type": "code",
   "execution_count": 47,
   "metadata": {
    "collapsed": false
   },
   "outputs": [],
   "source": [
    "levels(movies$content_rating)[levels(movies$content_rating)==\"M\"]<-\"PG\"\n",
    "levels(movies$content_rating)[levels(movies$content_rating)==\"GP\"]<-\"PG\"\n",
    "levels(movies$content_rating)[levels(movies$content_rating)==\"X\"]<-\"NC-17\""
   ]
  },
  {
   "cell_type": "code",
   "execution_count": 48,
   "metadata": {
    "collapsed": false
   },
   "outputs": [
    {
     "data": {
      "text/html": [
       "<iframe src=\"plotlyJupyterHTML/hist_new_rating.html\" width=\"100%\" height=\"400\" id=\"igraph\" scrolling=\"no\" seamless=\"seamless\" frameBorder=\"0\"> </iframe>"
      ]
     },
     "metadata": {},
     "output_type": "display_data"
    }
   ],
   "source": [
    "hist_new_rating<-movies[complete.cases(movies$content_rating),]%>% \n",
    "  dplyr::count(content_rating) %>%\n",
    "  plot_ly(x =~content_rating, y = ~n) %>% \n",
    "  add_bars()%>%\n",
    "layout(title = 'Content rating of the movies from the IMDB data set',\n",
    "         xaxis = list(title = 'Content rating', zeroline = TRUE),\n",
    "         yaxis = list(title = 'Frequency'))\n",
    "\n",
    "embed_notebook(hist_new_rating,file=paste0(\"plotlyJupyterHTML/\",\"hist_new_rating\",\".html\"))"
   ]
  },
  {
   "cell_type": "markdown",
   "metadata": {},
   "source": [
    "After looking at the rating of each movie, I looked at the year where each movie was made"
   ]
  },
  {
   "cell_type": "code",
   "execution_count": 49,
   "metadata": {
    "collapsed": false
   },
   "outputs": [
    {
     "data": {
      "text/html": [
       "<iframe src=\"plotlyJupyterHTML/hist_year.html\" width=\"100%\" height=\"400\" id=\"igraph\" scrolling=\"no\" seamless=\"seamless\" frameBorder=\"0\"> </iframe>"
      ]
     },
     "metadata": {},
     "output_type": "display_data"
    }
   ],
   "source": [
    "hist_year<-movies[complete.cases(movies$title_year),]%>% \n",
    "  dplyr::count(title_year) %>%\n",
    "  plot_ly(x =~title_year, y = ~n) %>% \n",
    "  add_bars()%>%\n",
    "layout(title = 'Number of movies from each year',\n",
    "         xaxis = list(title = 'Year', zeroline = TRUE),\n",
    "         yaxis = list(title = 'Frequency'))\n",
    "\n",
    "embed_notebook(hist_year,file=paste0(\"plotlyJupyterHTML/\",\"hist_year\",\".html\"))"
   ]
  },
  {
   "cell_type": "markdown",
   "metadata": {},
   "source": [
    "The newer movies are over represented and the model will probably overfit for cultural trend that are 10 years old or younger. That tells us that the model I can generate with this data set could be usefull only in the close future. For better forecast, I would need more detail data. \n",
    "\n",
    "Next on the list is the aspect ratio. Since I know nobody who when to see a movie for his aspect ratio, I believe that this variable won't have a lot of influence on the final model. I will test that hypothesis in the last section of this article."
   ]
  },
  {
   "cell_type": "code",
   "execution_count": 50,
   "metadata": {
    "collapsed": false
   },
   "outputs": [
    {
     "data": {
      "text/html": [
       "<dl class=dl-horizontal>\n",
       "\t<dt>2.35</dt>\n",
       "\t\t<dd>2281</dd>\n",
       "\t<dt>1.85</dt>\n",
       "\t\t<dd>1866</dd>\n",
       "\t<dt>1.37</dt>\n",
       "\t\t<dd>99</dd>\n",
       "\t<dt>(Other)</dt>\n",
       "\t\t<dd>264</dd>\n",
       "\t<dt>NA's</dt>\n",
       "\t\t<dd>307</dd>\n",
       "</dl>\n"
      ],
      "text/latex": [
       "\\begin{description*}\n",
       "\\item[2.35] 2281\n",
       "\\item[1.85] 1866\n",
       "\\item[1.37] 99\n",
       "\\item[(Other)] 264\n",
       "\\item[NA's] 307\n",
       "\\end{description*}\n"
      ],
      "text/markdown": [
       "2.35\n",
       ":   22811.85\n",
       ":   18661.37\n",
       ":   99(Other)\n",
       ":   264NA's\n",
       ":   307\n",
       "\n"
      ],
      "text/plain": [
       "   2.35    1.85    1.37 (Other)    NA's \n",
       "   2281    1866      99     264     307 "
      ]
     },
     "metadata": {},
     "output_type": "display_data"
    }
   ],
   "source": [
    "summary(movies$aspect_ratio,maxsum=5)"
   ]
  },
  {
   "cell_type": "code",
   "execution_count": 51,
   "metadata": {
    "collapsed": false
   },
   "outputs": [
    {
     "data": {
      "text/html": [
       "<iframe src=\"plotlyJupyterHTML/hist_ratio.html\" width=\"100%\" height=\"400\" id=\"igraph\" scrolling=\"no\" seamless=\"seamless\" frameBorder=\"0\"> </iframe>"
      ]
     },
     "metadata": {},
     "output_type": "display_data"
    }
   ],
   "source": [
    "hist_ratio<- movies[complete.cases(movies$aspect_ratio),]%>% \n",
    "  dplyr::count(aspect_ratio) %>%\n",
    "  plot_ly(x =~aspect_ratio, y = ~n) %>% \n",
    "  add_bars()%>%\n",
    "layout(title = 'Distribution of the aspect ration used',\n",
    "         xaxis = list(title = 'Aspect ratio', zeroline = TRUE),\n",
    "         yaxis = list(title = 'Frequency'))\n",
    " \n",
    "embed_notebook(hist_ratio,file=paste0(\"plotlyJupyterHTML/\",\"hist_ratio\",\".html\"))"
   ]
  },
  {
   "cell_type": "markdown",
   "metadata": {},
   "source": [
    "Having looked at all those variables, we still have to look at the two variable that I believe to be the most important for our model, the \"budget_2016\" variable and the \"gross_2016\" variable. Of course the \"gross_2016\" variable is of interest since it is the primary marker for profitability of a movie. \n",
    "\n",
    "But \"budget_2016\" is definitely the second most important variable since the more a movie cost, the more it is easy to lose money, but also having a good cast, good special effect, music, editor, etc, cost a lot of money so having a big budget can potentially able you to make an excellent movie and have a better box-office performance. Basically, the core of the model is to correctly assess the optimal budget to make a great movie."
   ]
  },
  {
   "cell_type": "code",
   "execution_count": 52,
   "metadata": {
    "collapsed": false
   },
   "outputs": [
    {
     "data": {
      "text/plain": [
       "     Min.   1st Qu.    Median      Mean   3rd Qu.      Max.      NA's \n",
       "      284   8607000  24790000  41260000  56930000 347300000       268 "
      ]
     },
     "metadata": {},
     "output_type": "display_data"
    }
   ],
   "source": [
    "summary(movies$budget_2016)"
   ]
  },
  {
   "cell_type": "code",
   "execution_count": 53,
   "metadata": {
    "collapsed": false
   },
   "outputs": [
    {
     "data": {
      "text/html": [
       "<iframe src=\"plotlyJupyterHTML/hist_budget.html\" width=\"100%\" height=\"400\" id=\"igraph\" scrolling=\"no\" seamless=\"seamless\" frameBorder=\"0\"> </iframe>"
      ]
     },
     "metadata": {},
     "output_type": "display_data"
    }
   ],
   "source": [
    "hist_budget<-movies[complete.cases(movies$budget_2016),]%>% \n",
    "  plot_ly( ) %>% \n",
    "  add_histogram(x =~budget_2016) %>%\n",
    "layout(title = 'Distribution of the movie\\'s budget',\n",
    "         xaxis = list(title = 'budget', zeroline = TRUE),\n",
    "         yaxis = list(title = 'Frequency'))\n",
    "\n",
    "embed_notebook(hist_budget,file=paste0(\"plotlyJupyterHTML/\",\"hist_budget\",\".html\"))"
   ]
  },
  {
   "cell_type": "code",
   "execution_count": 54,
   "metadata": {
    "collapsed": false
   },
   "outputs": [
    {
     "data": {
      "text/html": [
       "0"
      ],
      "text/latex": [
       "0"
      ],
      "text/markdown": [
       "0"
      ],
      "text/plain": [
       "[1] 0"
      ]
     },
     "metadata": {},
     "output_type": "display_data"
    }
   ],
   "source": [
    "sum(movies$budget_2016==0,na.rm=TRUE)"
   ]
  },
  {
   "cell_type": "code",
   "execution_count": 55,
   "metadata": {
    "collapsed": false
   },
   "outputs": [
    {
     "data": {
      "text/plain": [
       "      Min.    1st Qu.     Median       Mean    3rd Qu.       Max.       NA's \n",
       "         0    4313000   28880000   62960000   78860000 1825000000        418 "
      ]
     },
     "metadata": {},
     "output_type": "display_data"
    }
   ],
   "source": [
    "summary(movies$gross_2016)"
   ]
  },
  {
   "cell_type": "code",
   "execution_count": 56,
   "metadata": {
    "collapsed": false
   },
   "outputs": [
    {
     "data": {
      "text/html": [
       "<iframe src=\"plotlyJupyterHTML/hist_gross.html\" width=\"100%\" height=\"400\" id=\"igraph\" scrolling=\"no\" seamless=\"seamless\" frameBorder=\"0\"> </iframe>"
      ]
     },
     "metadata": {},
     "output_type": "display_data"
    }
   ],
   "source": [
    "hist_gross<-movies[complete.cases(movies$gross_2016),]%>% \n",
    "  plot_ly( ) %>% \n",
    "  add_histogram(x =~gross_2016) %>%\n",
    "layout(title = 'Distribution of the movie\\'s box office results',\n",
    "         xaxis = list(title = 'budget', zeroline = TRUE),\n",
    "         yaxis = list(title = 'Frequency'))\n",
    " \n",
    "embed_notebook(hist_gross,file=paste0(\"plotlyJupyterHTML/\",\"hist_gross\",\".html\"))"
   ]
  },
  {
   "cell_type": "code",
   "execution_count": 57,
   "metadata": {
    "collapsed": false
   },
   "outputs": [],
   "source": [
    "movies$profit<-movies$gross_2016-movies$budget_2016"
   ]
  },
  {
   "cell_type": "code",
   "execution_count": 58,
   "metadata": {
    "collapsed": false
   },
   "outputs": [
    {
     "data": {
      "text/html": [
       "<iframe src=\"plotlyJupyterHTML/hist_profit.html\" width=\"100%\" height=\"400\" id=\"igraph\" scrolling=\"no\" seamless=\"seamless\" frameBorder=\"0\"> </iframe>"
      ]
     },
     "metadata": {},
     "output_type": "display_data"
    }
   ],
   "source": [
    "hist_profit<-movies[complete.cases(movies$profit),]%>% \n",
    "  plot_ly( ) %>% \n",
    "  add_histogram(x =~profit) %>%\n",
    "layout(title = 'Distribution of the movie\\'s box office results',\n",
    "         xaxis = list(title = 'Profit', zeroline = TRUE),\n",
    "         yaxis = list(title = 'Frequency'))\n",
    "\n",
    "embed_notebook(hist_profit,file=paste0(\"plotlyJupyterHTML/\",\"hist_profit\",\".html\"))"
   ]
  },
  {
   "cell_type": "markdown",
   "metadata": {},
   "source": [
    "We can see that a majority of movie lost money, but the majority of movies lost less than 5 millions dollar, an amount that can be raised via dvd sale, TV and Netflix licencing or merchandise related to the movies. Those data are not in the data set, just like the foreign box-office, which is a big part of the revenue of American blockbusters and, naturally, of foreign movie. This illustrates the limitations of this data set: since I don't have access to the complete financial result of those movies, I can't directly try to estimate the profitability of a movie, I just can predict the performance at the U.S. box-office.\n",
    "\n",
    "Looking at this plot, especially the heavy tail of the distribution, we can see another way movie studio makes their money: if they make four movies that lost a little amount of money and a fifth one that make a lot of money, the studio still make a profit. I calculated the proportion of profitable and non-profitable movies in the data set to see if that strategy would be valuable for the movie studios. The more the ratio of profitable to non-profitable movie is high, the less money the movies have to make at the box-office to generate a profit overall."
   ]
  },
  {
   "cell_type": "code",
   "execution_count": 59,
   "metadata": {
    "collapsed": false
   },
   "outputs": [],
   "source": [
    "name_profit<-c(\"profitable\",\"non-profitable\")\n",
    "percentage_profit<-c(count(movies[profit>=0])/nrow(movies),count(movies[profit<0])/nrow(movies))\n",
    "percent_profit<-data.table(name_profit,percentage_profit)"
   ]
  },
  {
   "cell_type": "code",
   "execution_count": 60,
   "metadata": {
    "collapsed": false
   },
   "outputs": [
    {
     "data": {
      "text/html": [
       "<iframe src=\"plotlyJupyterHTML/bar_percent_profit.html\" width=\"100%\" height=\"400\" id=\"igraph\" scrolling=\"no\" seamless=\"seamless\" frameBorder=\"0\"> </iframe>"
      ]
     },
     "metadata": {},
     "output_type": "display_data"
    }
   ],
   "source": [
    "bar_percent_profit<-plot_ly(percent_profit,x =~name_profit,y=~ percentage_profit, type = 'bar') %>%\n",
    "layout(title = 'Proportion of profitable and non-profitable movies',\n",
    "           xaxis = list(title = \"\"),\n",
    "         yaxis = list(title = 'Percentage'))\n",
    "\n",
    "embed_notebook(bar_percent_profit,file=paste0(\"plotlyJupyterHTML/\",\"bar_percent_profit\",\".html\"))"
   ]
  },
  {
   "cell_type": "markdown",
   "metadata": {},
   "source": [
    "The number of movies that are profitable is almost equal to the number of non-profitable movies. In consequence, as long as the profitable movies make a little bit money than the non-profitable one the studio should make a profit and since the majority of the outlier are profitable movie, in general, those movies should be profitable. For reference, let's look at the most profitable movies to see if they compensate for the rest."
   ]
  },
  {
   "cell_type": "code",
   "execution_count": 61,
   "metadata": {
    "collapsed": false
   },
   "outputs": [
    {
     "data": {
      "text/html": [
       "<table>\n",
       "<thead><tr><th scope=col>movie_title</th><th scope=col>budget_2016</th><th scope=col>gross</th><th scope=col>profit</th></tr></thead>\n",
       "<tbody>\n",
       "\t<tr><td>starwarsepisodeivanewhope</td><td>43559666                 </td><td>460935665                </td><td>1781731577               </td></tr>\n",
       "\t<tr><td>thesoundofmusic          </td><td>62461506                 </td><td>163214286                </td><td>1180783630               </td></tr>\n",
       "\t<tr><td>jaws                     </td><td>35677744                 </td><td>260000000                </td><td>1123848938               </td></tr>\n",
       "\t<tr><td>theexorcist              </td><td>43244528                 </td><td>204565000                </td><td>1062545084               </td></tr>\n",
       "\t<tr><td>ettheextraterrestrial    </td><td>26114766                 </td><td>434949459                </td><td>1055656994               </td></tr>\n",
       "\t<tr><td>thesting                 </td><td>29730613                 </td><td>159600000                </td><td> 832997723               </td></tr>\n",
       "</tbody>\n",
       "</table>\n"
      ],
      "text/latex": [
       "\\begin{tabular}{r|llll}\n",
       " movie\\_title & budget\\_2016 & gross & profit\\\\\n",
       "\\hline\n",
       "\t starwarsepisodeivanewhope & 43559666                  & 460935665                 & 1781731577               \\\\\n",
       "\t thesoundofmusic           & 62461506                  & 163214286                 & 1180783630               \\\\\n",
       "\t jaws                      & 35677744                  & 260000000                 & 1123848938               \\\\\n",
       "\t theexorcist               & 43244528                  & 204565000                 & 1062545084               \\\\\n",
       "\t ettheextraterrestrial     & 26114766                  & 434949459                 & 1055656994               \\\\\n",
       "\t thesting                  & 29730613                  & 159600000                 &  832997723               \\\\\n",
       "\\end{tabular}\n"
      ],
      "text/markdown": [
       "\n",
       "movie_title | budget_2016 | gross | profit | \n",
       "|---|---|---|---|---|---|\n",
       "| starwarsepisodeivanewhope | 43559666                  | 460935665                 | 1781731577                | \n",
       "| thesoundofmusic           | 62461506                  | 163214286                 | 1180783630                | \n",
       "| jaws                      | 35677744                  | 260000000                 | 1123848938                | \n",
       "| theexorcist               | 43244528                  | 204565000                 | 1062545084                | \n",
       "| ettheextraterrestrial     | 26114766                  | 434949459                 | 1055656994                | \n",
       "| thesting                  | 29730613                  | 159600000                 |  832997723                | \n",
       "\n",
       "\n"
      ],
      "text/plain": [
       "  movie_title               budget_2016 gross     profit    \n",
       "1 starwarsepisodeivanewhope 43559666    460935665 1781731577\n",
       "2 thesoundofmusic           62461506    163214286 1180783630\n",
       "3 jaws                      35677744    260000000 1123848938\n",
       "4 theexorcist               43244528    204565000 1062545084\n",
       "5 ettheextraterrestrial     26114766    434949459 1055656994\n",
       "6 thesting                  29730613    159600000  832997723"
      ]
     },
     "metadata": {},
     "output_type": "display_data"
    }
   ],
   "source": [
    "head(movies[order(-profit),c(\"movie_title\",\"budget_2016\",\"gross\",\"profit\")])"
   ]
  },
  {
   "cell_type": "code",
   "execution_count": 62,
   "metadata": {
    "collapsed": false
   },
   "outputs": [
    {
     "data": {
      "text/html": [
       "<table>\n",
       "<thead><tr><th scope=col>movie_title</th><th scope=col>budget_2016</th><th scope=col>gross</th><th scope=col>profit</th></tr></thead>\n",
       "<tbody>\n",
       "\t<tr><td>thepolarexpress             </td><td>209659464                   </td><td>  665426                    </td><td>-208813931                  </td></tr>\n",
       "\t<tr><td>johncarter                  </td><td>275660124                   </td><td>73058679                    </td><td>-199287865                  </td></tr>\n",
       "\t<tr><td>speed2cruisecontrol         </td><td>239234644                   </td><td>48068396                    </td><td>-167361984                  </td></tr>\n",
       "\t<tr><td>waterloo                    </td><td>154544204                   </td><td>       0                    </td><td>-154544204                  </td></tr>\n",
       "\t<tr><td>alexander                   </td><td>196952830                   </td><td>34293771                    </td><td>-153376990                  </td></tr>\n",
       "\t<tr><td>battleship                  </td><td>218479203                   </td><td>65173160                    </td><td>-150350112                  </td></tr>\n",
       "\t<tr><td>finalfantasythespiritswithin</td><td>185698297                   </td><td>32131830                    </td><td>-142144822                  </td></tr>\n",
       "\t<tr><td>47ronin                     </td><td>180296170                   </td><td>38297305                    </td><td>-140839842                  </td></tr>\n",
       "\t<tr><td>marsneedsmoms               </td><td>160048102                   </td><td>21379315                    </td><td>-137236643                  </td></tr>\n",
       "\t<tr><td>cutthroatisland             </td><td>154352186                   </td><td>11000000                    </td><td>-137026940                  </td></tr>\n",
       "</tbody>\n",
       "</table>\n"
      ],
      "text/latex": [
       "\\begin{tabular}{r|llll}\n",
       " movie\\_title & budget\\_2016 & gross & profit\\\\\n",
       "\\hline\n",
       "\t thepolarexpress              & 209659464                    &   665426                     & -208813931                  \\\\\n",
       "\t johncarter                   & 275660124                    & 73058679                     & -199287865                  \\\\\n",
       "\t speed2cruisecontrol          & 239234644                    & 48068396                     & -167361984                  \\\\\n",
       "\t waterloo                     & 154544204                    &        0                     & -154544204                  \\\\\n",
       "\t alexander                    & 196952830                    & 34293771                     & -153376990                  \\\\\n",
       "\t battleship                   & 218479203                    & 65173160                     & -150350112                  \\\\\n",
       "\t finalfantasythespiritswithin & 185698297                    & 32131830                     & -142144822                  \\\\\n",
       "\t 47ronin                      & 180296170                    & 38297305                     & -140839842                  \\\\\n",
       "\t marsneedsmoms                & 160048102                    & 21379315                     & -137236643                  \\\\\n",
       "\t cutthroatisland              & 154352186                    & 11000000                     & -137026940                  \\\\\n",
       "\\end{tabular}\n"
      ],
      "text/markdown": [
       "\n",
       "movie_title | budget_2016 | gross | profit | \n",
       "|---|---|---|---|---|---|---|---|---|---|\n",
       "| thepolarexpress              | 209659464                    |   665426                     | -208813931                   | \n",
       "| johncarter                   | 275660124                    | 73058679                     | -199287865                   | \n",
       "| speed2cruisecontrol          | 239234644                    | 48068396                     | -167361984                   | \n",
       "| waterloo                     | 154544204                    |        0                     | -154544204                   | \n",
       "| alexander                    | 196952830                    | 34293771                     | -153376990                   | \n",
       "| battleship                   | 218479203                    | 65173160                     | -150350112                   | \n",
       "| finalfantasythespiritswithin | 185698297                    | 32131830                     | -142144822                   | \n",
       "| 47ronin                      | 180296170                    | 38297305                     | -140839842                   | \n",
       "| marsneedsmoms                | 160048102                    | 21379315                     | -137236643                   | \n",
       "| cutthroatisland              | 154352186                    | 11000000                     | -137026940                   | \n",
       "\n",
       "\n"
      ],
      "text/plain": [
       "   movie_title                  budget_2016 gross    profit    \n",
       "1  thepolarexpress              209659464     665426 -208813931\n",
       "2  johncarter                   275660124   73058679 -199287865\n",
       "3  speed2cruisecontrol          239234644   48068396 -167361984\n",
       "4  waterloo                     154544204          0 -154544204\n",
       "5  alexander                    196952830   34293771 -153376990\n",
       "6  battleship                   218479203   65173160 -150350112\n",
       "7  finalfantasythespiritswithin 185698297   32131830 -142144822\n",
       "8  47ronin                      180296170   38297305 -140839842\n",
       "9  marsneedsmoms                160048102   21379315 -137236643\n",
       "10 cutthroatisland              154352186   11000000 -137026940"
      ]
     },
     "metadata": {},
     "output_type": "display_data"
    }
   ],
   "source": [
    "head(movies[order(profit),c(\"movie_title\",\"budget_2016\",\"gross\",\"profit\")],n=10)"
   ]
  },
  {
   "cell_type": "code",
   "execution_count": 63,
   "metadata": {
    "collapsed": false
   },
   "outputs": [
    {
     "data": {
      "text/html": [
       "54109106.1648004"
      ],
      "text/latex": [
       "54109106.1648004"
      ],
      "text/markdown": [
       "54109106.1648004"
      ],
      "text/plain": [
       "[1] 54109106"
      ]
     },
     "metadata": {},
     "output_type": "display_data"
    }
   ],
   "source": [
    "movies[movie_title==\"starwarsepisodeivanewhope\",profit]+sum(sort(movies$profit,partial=nrow(movies$profit))[1:11])"
   ]
  },
  {
   "cell_type": "markdown",
   "metadata": {},
   "source": [
    "We can see that the revenue generated at the box-office by the highly profitable movie compensate easily for the loss of the highly non-profitable movie. In fact, the most profitable movie in the data set, \"Star War episode four: a new hope\", made more money than the 11 least profitable movies in the data set.\n",
    "\n",
    "Finally, I looked at the profitability of the movie business, by plotting the yearly aggregate of movie profit."
   ]
  },
  {
   "cell_type": "code",
   "execution_count": 64,
   "metadata": {
    "collapsed": false
   },
   "outputs": [
    {
     "data": {
      "text/html": [
       "<iframe src=\"plotlyJupyterHTML/hist_profit_yearly.html\" width=\"100%\" height=\"400\" id=\"igraph\" scrolling=\"no\" seamless=\"seamless\" frameBorder=\"0\"> </iframe>"
      ]
     },
     "metadata": {},
     "output_type": "display_data"
    }
   ],
   "source": [
    "m = list(\n",
    "  l = 50,\n",
    "  r = 0,\n",
    "  b = 100,\n",
    "  t = 30,\n",
    "  pad = 0\n",
    ") \n",
    "\n",
    "hist_profit_yearly<-movies[complete.cases(movies$title_year),] %>%\n",
    "group_by(title_year)%>%\n",
    "summarise(profit_yearly=sum(profit,na.rm=TRUE))%>%\n",
    "plot_ly( ) %>% \n",
    "  add_bars(x =~title_year, y=~profit_yearly) %>%\n",
    "layout(title = 'Distribution of the movie\\'s box office results',\n",
    "         xaxis = list(title = 'Year', zeroline = TRUE),\n",
    "         yaxis = list(title = 'Profit'),\n",
    "         margin=m)\n",
    " \n",
    "embed_notebook(hist_profit_yearly,file=paste0(\"plotlyJupyterHTML/\",\"hist_profit_yearly\",\".html\"))"
   ]
  },
  {
   "cell_type": "markdown",
   "metadata": {},
   "source": [
    "We can see that year after year, the movies generate more money than they cost to the studio.\n",
    "\n",
    "As we saw before, one of the limitation of this data set is that IMDB doesn't always show the international box-office of a movie. This should affect the profitability of foreign movie, since their primary market is not the U.S. To verify this, I plotted the yearly profitability of foreign movies. "
   ]
  },
  {
   "cell_type": "code",
   "execution_count": 65,
   "metadata": {
    "collapsed": false
   },
   "outputs": [
    {
     "data": {
      "text/html": [
       "<iframe src=\"plotlyJupyterHTML/hist_profit_yearly_nonUS.html\" width=\"100%\" height=\"400\" id=\"igraph\" scrolling=\"no\" seamless=\"seamless\" frameBorder=\"0\"> </iframe>"
      ]
     },
     "metadata": {},
     "output_type": "display_data"
    }
   ],
   "source": [
    "hist_profit_yearly_nonUS<-movies[country!=\"USA\"&complete.cases(movies$title_year)] %>%\n",
    "group_by(title_year)%>%\n",
    "summarise(profit_yearly=sum(profit,na.rm=TRUE))%>%\n",
    "plot_ly( ) %>% \n",
    "  add_bars(x =~title_year, y=~profit_yearly) %>%\n",
    "layout(title = 'Distribution of the foreign movie\\'s box office results',\n",
    "         xaxis = list(title = 'Year', zeroline = TRUE),\n",
    "         yaxis = list(title = 'Profit'),\n",
    "         margin=m)\n",
    " \n",
    "embed_notebook(hist_profit_yearly_nonUS,file=paste0(\"plotlyJupyterHTML/\",\"hist_profit_yearly_nonUS\",\".html\"))"
   ]
  },
  {
   "cell_type": "markdown",
   "metadata": {},
   "source": [
    "# Cast statistics\n",
    "\n",
    "In this section, I will look at the variable who tell us something about the artisan working on the movies. I'll start to look at the variable describing the movie directors.  "
   ]
  },
  {
   "cell_type": "code",
   "execution_count": 66,
   "metadata": {
    "collapsed": false
   },
   "outputs": [
    {
     "data": {
      "text/html": [
       "<dl class=dl-horizontal>\n",
       "\t<dt>Steven Spielberg</dt>\n",
       "\t\t<dd>26</dd>\n",
       "\t<dt>Woody Allen</dt>\n",
       "\t\t<dd>22</dd>\n",
       "\t<dt>Clint Eastwood</dt>\n",
       "\t\t<dd>20</dd>\n",
       "\t<dt>Martin Scorsese</dt>\n",
       "\t\t<dd>20</dd>\n",
       "\t<dt>Ridley Scott</dt>\n",
       "\t\t<dd>16</dd>\n",
       "\t<dt>Spike Lee</dt>\n",
       "\t\t<dd>16</dd>\n",
       "\t<dt>Renny Harlin</dt>\n",
       "\t\t<dd>15</dd>\n",
       "\t<dt>Steven Soderbergh</dt>\n",
       "\t\t<dd>15</dd>\n",
       "\t<dt>Oliver Stone</dt>\n",
       "\t\t<dd>14</dd>\n",
       "\t<dt>Tim Burton</dt>\n",
       "\t\t<dd>14</dd>\n",
       "</dl>\n"
      ],
      "text/latex": [
       "\\begin{description*}\n",
       "\\item[Steven Spielberg] 26\n",
       "\\item[Woody Allen] 22\n",
       "\\item[Clint Eastwood] 20\n",
       "\\item[Martin Scorsese] 20\n",
       "\\item[Ridley Scott] 16\n",
       "\\item[Spike Lee] 16\n",
       "\\item[Renny Harlin] 15\n",
       "\\item[Steven Soderbergh] 15\n",
       "\\item[Oliver Stone] 14\n",
       "\\item[Tim Burton] 14\n",
       "\\end{description*}\n"
      ],
      "text/markdown": [
       "Steven Spielberg\n",
       ":   26Woody Allen\n",
       ":   22Clint Eastwood\n",
       ":   20Martin Scorsese\n",
       ":   20Ridley Scott\n",
       ":   16Spike Lee\n",
       ":   16Renny Harlin\n",
       ":   15Steven Soderbergh\n",
       ":   15Oliver Stone\n",
       ":   14Tim Burton\n",
       ":   14\n",
       "\n"
      ],
      "text/plain": [
       " Steven Spielberg       Woody Allen    Clint Eastwood   Martin Scorsese \n",
       "               26                22                20                20 \n",
       "     Ridley Scott         Spike Lee      Renny Harlin Steven Soderbergh \n",
       "               16                16                15                15 \n",
       "     Oliver Stone        Tim Burton \n",
       "               14                14 "
      ]
     },
     "metadata": {},
     "output_type": "display_data"
    }
   ],
   "source": [
    "head(summary(movies$director_name),n=10)"
   ]
  },
  {
   "cell_type": "markdown",
   "metadata": {},
   "source": [
    "The directors with a long career making blockbuster are overrepresented in the data set. Here'S another limitation of the data set: IMDB is a fan curated site and small art movie who have a small amount of exposure are less likely to have a lot of dedicated fans who will contribute to IMDB. In consequence, the movies with a big marketing budget or who have a lot of critical or commercial success have more chance to be in the data set.\n",
    "\n",
    "Let us test this hypothesis by looking at the number of movies of each director who are in the data set. If this number is small, that could indicate that only the most popular movie of each director career is in the data set and that their smaller movie are not represented."
   ]
  },
  {
   "cell_type": "code",
   "execution_count": 67,
   "metadata": {
    "collapsed": false
   },
   "outputs": [],
   "source": [
    "director_freq<-plyr::count(movies,'director_name')\n",
    "director_freq<-as.data.frame(director_freq)\n",
    "names(director_freq)[names(director_freq)==\"freq\"]<-\"Count\"\n",
    "director_freq<-director_freq[order(director_freq$Count),]"
   ]
  },
  {
   "cell_type": "code",
   "execution_count": 68,
   "metadata": {
    "collapsed": false
   },
   "outputs": [
    {
     "data": {
      "text/html": [
       "<iframe src=\"plotlyJupyterHTML/hist_director.html\" width=\"100%\" height=\"400\" id=\"igraph\" scrolling=\"no\" seamless=\"seamless\" frameBorder=\"0\"> </iframe>"
      ]
     },
     "metadata": {},
     "output_type": "display_data"
    }
   ],
   "source": [
    "hist_director <- director_freq %>%\n",
    "  dplyr::count(Count) %>%\n",
    "  plot_ly(x =~Count, y = ~n) %>% \n",
    "  add_bars()%>%\n",
    "layout(title = 'Distribution of the number of movies directed by each director',\n",
    "         xaxis = list(title = 'Number of movies directed', zeroline = TRUE),\n",
    "         yaxis = list(title = 'Number of directors'))\n",
    "\n",
    "embed_notebook(hist_director,file=paste0(\"plotlyJupyterHTML/\",\"hist_director\",\".html\"))"
   ]
  },
  {
   "cell_type": "markdown",
   "metadata": {},
   "source": [
    "This plot shows us that the filmography of each director is not all included in the IMDB data set and that he is probably biased.\n",
    "\n",
    "The data set give us insight on the popularity of the director via the \"director_facebook_likes\" variable. I will look at this variable in more detail."
   ]
  },
  {
   "cell_type": "code",
   "execution_count": 69,
   "metadata": {
    "collapsed": false
   },
   "outputs": [
    {
     "data": {
      "text/plain": [
       "   Min. 1st Qu.  Median    Mean 3rd Qu.    Max.    NA's \n",
       "    0.0     7.0    48.0   690.9   189.5 23000.0       2 "
      ]
     },
     "metadata": {},
     "output_type": "display_data"
    }
   ],
   "source": [
    "summary(movies$director_facebook_likes)"
   ]
  },
  {
   "cell_type": "code",
   "execution_count": 70,
   "metadata": {
    "collapsed": false
   },
   "outputs": [
    {
     "data": {
      "text/html": [
       "<iframe src=\"plotlyJupyterHTML/hist_dir_fb.html\" width=\"100%\" height=\"400\" id=\"igraph\" scrolling=\"no\" seamless=\"seamless\" frameBorder=\"0\"> </iframe>"
      ]
     },
     "metadata": {},
     "output_type": "display_data"
    }
   ],
   "source": [
    "hist_dir_fb <- plot_ly(movies[complete.cases(movies$director_facebook_likes),],x=~director_facebook_likes,type=\"histogram\")%>%\n",
    "layout(title = 'Number of likes on the Facebook page of directors',\n",
    "         xaxis = list(title = 'Number of likes', zeroline = TRUE),\n",
    "         yaxis = list(title = 'Frequency')) \n",
    " \n",
    "embed_notebook(hist_dir_fb,file=paste0(\"plotlyJupyterHTML/\",\"hist_dir_fb\",\".html\"))"
   ]
  },
  {
   "cell_type": "markdown",
   "metadata": {},
   "source": [
    "This plot tells us that the number of directors with zero likes on Facebook are overrepresented in the data set. The table below shows us a sample of director with no like on Facebook who made big budget movies."
   ]
  },
  {
   "cell_type": "code",
   "execution_count": 71,
   "metadata": {
    "collapsed": false
   },
   "outputs": [
    {
     "data": {
      "text/html": [
       "<table>\n",
       "<thead><tr><th scope=col>color</th><th scope=col>director_name</th><th scope=col>num_critic_for_reviews</th><th scope=col>duration</th><th scope=col>director_facebook_likes</th><th scope=col>actor_3_facebook_likes</th><th scope=col>actor_2_name</th><th scope=col>actor_1_facebook_likes</th><th scope=col>gross</th><th scope=col>genres</th><th scope=col>...</th><th scope=col>genres_Short</th><th scope=col>genres_Sport</th><th scope=col>genres_Thriller</th><th scope=col>genres_War</th><th scope=col>genres_Western</th><th scope=col>currency</th><th scope=col>budget_us</th><th scope=col>gross_2016</th><th scope=col>budget_2016</th><th scope=col>profit</th></tr></thead>\n",
       "<tbody>\n",
       "\t<tr><td>Color                                </td><td>Luc Besson                           </td><td>111                                  </td><td>158                                  </td><td>0                                    </td><td>   15                                </td><td>David Bailie                         </td><td>   51                                </td><td> 14131298                            </td><td>Adventure|Biography|Drama|History|War</td><td>...                                  </td><td>0                                    </td><td>0                                    </td><td>0                                    </td><td>1                                    </td><td>0                                    </td><td>FRA                                  </td><td> 65000000                            </td><td> 20360872                            </td><td> 93654288                            </td><td>-73293416                            </td></tr>\n",
       "\t<tr><td>Color                                </td><td>Sam Raimi                            </td><td>392                                  </td><td>156                                  </td><td>0                                    </td><td> 4000                                </td><td>James Franco                         </td><td>24000                                </td><td>336530303                            </td><td>Action|Adventure|Romance             </td><td>...                                  </td><td>0                                    </td><td>0                                    </td><td>0                                    </td><td>0                                    </td><td>0                                    </td><td>USA                                  </td><td>258000000                            </td><td>389547307                            </td><td>298645335                            </td><td> 90901972                            </td></tr>\n",
       "\t<tr><td>Color                                </td><td>Joss Whedon                          </td><td>635                                  </td><td>141                                  </td><td>0                                    </td><td>19000                                </td><td>Robert Downey Jr.                    </td><td>26000                                </td><td>458991599                            </td><td>Action|Adventure|Sci-Fi              </td><td>...                                  </td><td>0                                    </td><td>0                                    </td><td>0                                    </td><td>0                                    </td><td>0                                    </td><td>NA                                   </td><td>250000000                            </td><td>464782216                            </td><td>253153989                            </td><td>211628227                            </td></tr>\n",
       "\t<tr><td>Color                                </td><td>Zack Snyder                          </td><td>673                                  </td><td>183                                  </td><td>0                                    </td><td> 2000                                </td><td>Lauren Cohan                         </td><td>15000                                </td><td>330249062                            </td><td>Action|Adventure|Sci-Fi              </td><td>...                                  </td><td>0                                    </td><td>0                                    </td><td>0                                    </td><td>0                                    </td><td>0                                    </td><td>NA                                   </td><td>250000000                            </td><td>330249062                            </td><td>250000000                            </td><td> 80249062                            </td></tr>\n",
       "\t<tr><td>Color                                </td><td>Peter Jackson                        </td><td>422                                  </td><td>164                                  </td><td>0                                    </td><td>  773                                </td><td>Adam Brown                           </td><td> 5000                                </td><td>255108370                            </td><td>Adventure|Fantasy                    </td><td>...                                  </td><td>0                                    </td><td>0                                    </td><td>0                                    </td><td>0                                    </td><td>0                                    </td><td>USA                                  </td><td>250000000                            </td><td>258633276                            </td><td>253454322                            </td><td>  5178954                            </td></tr>\n",
       "\t<tr><td>Color                                </td><td>Sam Mendes                           </td><td>602                                  </td><td>148                                  </td><td>0                                    </td><td>  161                                </td><td>Rory Kinnear                         </td><td>11000                                </td><td>200074175                            </td><td>Action|Adventure|Thriller            </td><td>...                                  </td><td>0                                    </td><td>0                                    </td><td>1                                    </td><td>0                                    </td><td>0                                    </td><td>NA                                   </td><td>245000000                            </td><td>202598302                            </td><td>248090909                            </td><td>-45492607                            </td></tr>\n",
       "</tbody>\n",
       "</table>\n"
      ],
      "text/latex": [
       "\\begin{tabular}{r|lllllllllllllllllllllllllllllllllllllllllllllllllllllllllll}\n",
       " color & director\\_name & num\\_critic\\_for\\_reviews & duration & director\\_facebook\\_likes & actor\\_3\\_facebook\\_likes & actor\\_2\\_name & actor\\_1\\_facebook\\_likes & gross & genres & ... & genres\\_Short & genres\\_Sport & genres\\_Thriller & genres\\_War & genres\\_Western & currency & budget\\_us & gross\\_2016 & budget\\_2016 & profit\\\\\n",
       "\\hline\n",
       "\t Color                                                                         & Luc Besson                                                                    & 111                                                                           & 158                                                                           & 0                                                                             &    15                                                                         & David Bailie                                                                  &    51                                                                         &  14131298                                                                     & Adventure\\textbar{}Biography\\textbar{}Drama\\textbar{}History\\textbar{}War & ...                                                                           & 0                                                                             & 0                                                                             & 0                                                                             & 1                                                                             & 0                                                                             & FRA                                                                           &  65000000                                                                     &  20360872                                                                     &  93654288                                                                     & -73293416                                                                    \\\\\n",
       "\t Color                                                     & Sam Raimi                                                 & 392                                                       & 156                                                       & 0                                                         &  4000                                                     & James Franco                                              & 24000                                                     & 336530303                                                 & Action\\textbar{}Adventure\\textbar{}Romance              & ...                                                       & 0                                                         & 0                                                         & 0                                                         & 0                                                         & 0                                                         & USA                                                       & 258000000                                                 & 389547307                                                 & 298645335                                                 &  90901972                                                \\\\\n",
       "\t Color                                                     & Joss Whedon                                               & 635                                                       & 141                                                       & 0                                                         & 19000                                                     & Robert Downey Jr.                                         & 26000                                                     & 458991599                                                 & Action\\textbar{}Adventure\\textbar{}Sci-Fi               & ...                                                       & 0                                                         & 0                                                         & 0                                                         & 0                                                         & 0                                                         & NA                                                        & 250000000                                                 & 464782216                                                 & 253153989                                                 & 211628227                                                \\\\\n",
       "\t Color                                                     & Zack Snyder                                               & 673                                                       & 183                                                       & 0                                                         &  2000                                                     & Lauren Cohan                                              & 15000                                                     & 330249062                                                 & Action\\textbar{}Adventure\\textbar{}Sci-Fi               & ...                                                       & 0                                                         & 0                                                         & 0                                                         & 0                                                         & 0                                                         & NA                                                        & 250000000                                                 & 330249062                                                 & 250000000                                                 &  80249062                                                \\\\\n",
       "\t Color                                           & Peter Jackson                                   & 422                                             & 164                                             & 0                                               &   773                                           & Adam Brown                                      &  5000                                           & 255108370                                       & Adventure\\textbar{}Fantasy                     & ...                                             & 0                                               & 0                                               & 0                                               & 0                                               & 0                                               & USA                                             & 250000000                                       & 258633276                                       & 253454322                                       &   5178954                                      \\\\\n",
       "\t Color                                                     & Sam Mendes                                                & 602                                                       & 148                                                       & 0                                                         &   161                                                     & Rory Kinnear                                              & 11000                                                     & 200074175                                                 & Action\\textbar{}Adventure\\textbar{}Thriller             & ...                                                       & 0                                                         & 0                                                         & 1                                                         & 0                                                         & 0                                                         & NA                                                        & 245000000                                                 & 202598302                                                 & 248090909                                                 & -45492607                                                \\\\\n",
       "\\end{tabular}\n"
      ],
      "text/markdown": [
       "\n",
       "color | director_name | num_critic_for_reviews | duration | director_facebook_likes | actor_3_facebook_likes | actor_2_name | actor_1_facebook_likes | gross | genres | ... | genres_Short | genres_Sport | genres_Thriller | genres_War | genres_Western | currency | budget_us | gross_2016 | budget_2016 | profit | \n",
       "|---|---|---|---|---|---|\n",
       "| Color                                 | Luc Besson                            | 111                                   | 158                                   | 0                                     |    15                                 | David Bailie                          |    51                                 |  14131298                             | Adventure|Biography|Drama|History|War | ...                                   | 0                                     | 0                                     | 0                                     | 1                                     | 0                                     | FRA                                   |  65000000                             |  20360872                             |  93654288                             | -73293416                             | \n",
       "| Color                                 | Sam Raimi                             | 392                                   | 156                                   | 0                                     |  4000                                 | James Franco                          | 24000                                 | 336530303                             | Action|Adventure|Romance              | ...                                   | 0                                     | 0                                     | 0                                     | 0                                     | 0                                     | USA                                   | 258000000                             | 389547307                             | 298645335                             |  90901972                             | \n",
       "| Color                                 | Joss Whedon                           | 635                                   | 141                                   | 0                                     | 19000                                 | Robert Downey Jr.                     | 26000                                 | 458991599                             | Action|Adventure|Sci-Fi               | ...                                   | 0                                     | 0                                     | 0                                     | 0                                     | 0                                     | NA                                    | 250000000                             | 464782216                             | 253153989                             | 211628227                             | \n",
       "| Color                                 | Zack Snyder                           | 673                                   | 183                                   | 0                                     |  2000                                 | Lauren Cohan                          | 15000                                 | 330249062                             | Action|Adventure|Sci-Fi               | ...                                   | 0                                     | 0                                     | 0                                     | 0                                     | 0                                     | NA                                    | 250000000                             | 330249062                             | 250000000                             |  80249062                             | \n",
       "| Color                                 | Peter Jackson                         | 422                                   | 164                                   | 0                                     |   773                                 | Adam Brown                            |  5000                                 | 255108370                             | Adventure|Fantasy                     | ...                                   | 0                                     | 0                                     | 0                                     | 0                                     | 0                                     | USA                                   | 250000000                             | 258633276                             | 253454322                             |   5178954                             | \n",
       "| Color                                 | Sam Mendes                            | 602                                   | 148                                   | 0                                     |   161                                 | Rory Kinnear                          | 11000                                 | 200074175                             | Action|Adventure|Thriller             | ...                                   | 0                                     | 0                                     | 1                                     | 0                                     | 0                                     | NA                                    | 245000000                             | 202598302                             | 248090909                             | -45492607                             | \n",
       "\n",
       "\n"
      ],
      "text/plain": [
       "  color director_name num_critic_for_reviews duration director_facebook_likes\n",
       "1 Color Luc Besson    111                    158      0                      \n",
       "2 Color Sam Raimi     392                    156      0                      \n",
       "3 Color Joss Whedon   635                    141      0                      \n",
       "4 Color Zack Snyder   673                    183      0                      \n",
       "5 Color Peter Jackson 422                    164      0                      \n",
       "6 Color Sam Mendes    602                    148      0                      \n",
       "  actor_3_facebook_likes actor_2_name      actor_1_facebook_likes gross    \n",
       "1    15                  David Bailie         51                   14131298\n",
       "2  4000                  James Franco      24000                  336530303\n",
       "3 19000                  Robert Downey Jr. 26000                  458991599\n",
       "4  2000                  Lauren Cohan      15000                  330249062\n",
       "5   773                  Adam Brown         5000                  255108370\n",
       "6   161                  Rory Kinnear      11000                  200074175\n",
       "  genres                                ... genres_Short genres_Sport\n",
       "1 Adventure|Biography|Drama|History|War ... 0            0           \n",
       "2 Action|Adventure|Romance              ... 0            0           \n",
       "3 Action|Adventure|Sci-Fi               ... 0            0           \n",
       "4 Action|Adventure|Sci-Fi               ... 0            0           \n",
       "5 Adventure|Fantasy                     ... 0            0           \n",
       "6 Action|Adventure|Thriller             ... 0            0           \n",
       "  genres_Thriller genres_War genres_Western currency budget_us gross_2016\n",
       "1 0               1          0              FRA       65000000  20360872 \n",
       "2 0               0          0              USA      258000000 389547307 \n",
       "3 0               0          0              NA       250000000 464782216 \n",
       "4 0               0          0              NA       250000000 330249062 \n",
       "5 0               0          0              USA      250000000 258633276 \n",
       "6 1               0          0              NA       245000000 202598302 \n",
       "  budget_2016 profit   \n",
       "1  93654288   -73293416\n",
       "2 298645335    90901972\n",
       "3 253153989   211628227\n",
       "4 250000000    80249062\n",
       "5 253454322     5178954\n",
       "6 248090909   -45492607"
      ]
     },
     "metadata": {},
     "output_type": "display_data"
    }
   ],
   "source": [
    "head(movies[director_facebook_likes==0&budget_us>20000000])"
   ]
  },
  {
   "cell_type": "markdown",
   "metadata": {},
   "source": [
    "It is not normal that such famous director have zero like on Facebook. In fact, in a fast search on Facebook, I found that Luc Besson have 108 022 likes, Joss Whedon have 278 674 likes and  Zack Snyder have 100 693 likes. This fact makes me doubt the validity of those observations or at least tell me that I shouldn't take the observations with a value of 0 as a sign of absence of popularity. In consequence, I will label those observations as missing observation."
   ]
  },
  {
   "cell_type": "code",
   "execution_count": 72,
   "metadata": {
    "collapsed": false
   },
   "outputs": [],
   "source": [
    "movies[director_facebook_likes==0,\"director_facebook_likes\"]<-NA"
   ]
  },
  {
   "cell_type": "code",
   "execution_count": 73,
   "metadata": {
    "collapsed": false
   },
   "outputs": [
    {
     "data": {
      "text/html": [
       "<iframe src=\"plotlyJupyterHTML/hist_dir_fb_na.html\" width=\"100%\" height=\"400\" id=\"igraph\" scrolling=\"no\" seamless=\"seamless\" frameBorder=\"0\"> </iframe>"
      ]
     },
     "metadata": {},
     "output_type": "display_data"
    }
   ],
   "source": [
    "hist_dir_fb_na <- plot_ly(movies[complete.cases(movies$director_facebook_likes),],x=~director_facebook_likes,type=\"histogram\")%>%\n",
    "layout(title = 'Number of likes on the Facebook page of directors without missing data',\n",
    "         xaxis = list(title = 'Number of likes', zeroline = TRUE),\n",
    "         yaxis = list(title = 'Frequency')) \n",
    " \n",
    "embed_notebook(hist_dir_fb_na,file=paste0(\"plotlyJupyterHTML/\",\"hist_dir_fb_na\",\".html\"))"
   ]
  },
  {
   "cell_type": "markdown",
   "metadata": {},
   "source": [
    "Another interesting about this plot is that there's seems to exist a segmentation in the data, since there's exist a gap between the director who have less than 7000 likes, those who have between 10 000 and 19 000 likes and those with more than 20 000 likes. This fact can be used when I will create my model.\n",
    "\n",
    "Below I calculated the average gross box-office of each director's movie, add this value in the data frame and plotted his distribution."
   ]
  },
  {
   "cell_type": "code",
   "execution_count": 74,
   "metadata": {
    "collapsed": false
   },
   "outputs": [],
   "source": [
    "dir_mean_gross<-movies %>%\n",
    "group_by(director_name)%>%\n",
    "summarise(mean_gross=mean(gross))\n",
    "\n",
    "director_mean_gross<-data.frame(\"director_name\"=dir_mean_gross$director_name,\"dir_mean_gross\"=dir_mean_gross$mean_gross)"
   ]
  },
  {
   "cell_type": "code",
   "execution_count": 75,
   "metadata": {
    "collapsed": false
   },
   "outputs": [
    {
     "data": {
      "text/html": [
       "<iframe src=\"plotlyJupyterHTML/hist_mean_gross_director.html\" width=\"100%\" height=\"400\" id=\"igraph\" scrolling=\"no\" seamless=\"seamless\" frameBorder=\"0\"> </iframe>"
      ]
     },
     "metadata": {},
     "output_type": "display_data"
    }
   ],
   "source": [
    "hist_mean_gross_director <-  \n",
    "  plot_ly( dir_mean_gross[complete.cases(dir_mean_gross),],x =~mean_gross,type=\"histogram\") %>%\n",
    "layout(title = 'The average gross of the movies made by each director',\n",
    "         xaxis = list(title = 'Average gross', zeroline = TRUE),\n",
    "         yaxis = list(title = 'Number of actors'))\n",
    " \n",
    "embed_notebook(hist_mean_gross_director,file=paste0(\"plotlyJupyterHTML/\",\"hist_mean_gross_director\",\".html\"))"
   ]
  },
  {
   "cell_type": "markdown",
   "metadata": {},
   "source": [
    "This distribution seems to have a heavy tail, which indicate that some director are better than others to make really profitable movies.\n",
    "\n",
    "Now I put my attention on the principal actor of each movie."
   ]
  },
  {
   "cell_type": "code",
   "execution_count": 76,
   "metadata": {
    "collapsed": false
   },
   "outputs": [
    {
     "data": {
      "text/html": [
       "<dl class=dl-horizontal>\n",
       "\t<dt>Robert De Niro</dt>\n",
       "\t\t<dd>48</dd>\n",
       "\t<dt>Johnny Depp</dt>\n",
       "\t\t<dd>36</dd>\n",
       "\t<dt>Nicolas Cage</dt>\n",
       "\t\t<dd>32</dd>\n",
       "\t<dt>Denzel Washington</dt>\n",
       "\t\t<dd>29</dd>\n",
       "\t<dt>J.K. Simmons</dt>\n",
       "\t\t<dd>29</dd>\n",
       "\t<dt>Matt Damon</dt>\n",
       "\t\t<dd>29</dd>\n",
       "\t<dt>Bruce Willis</dt>\n",
       "\t\t<dd>28</dd>\n",
       "\t<dt>Harrison Ford</dt>\n",
       "\t\t<dd>27</dd>\n",
       "\t<dt>(Other)</dt>\n",
       "\t\t<dd>4552</dd>\n",
       "\t<dt>NA's</dt>\n",
       "\t\t<dd>7</dd>\n",
       "</dl>\n"
      ],
      "text/latex": [
       "\\begin{description*}\n",
       "\\item[Robert De Niro] 48\n",
       "\\item[Johnny Depp] 36\n",
       "\\item[Nicolas Cage] 32\n",
       "\\item[Denzel Washington] 29\n",
       "\\item[J.K. Simmons] 29\n",
       "\\item[Matt Damon] 29\n",
       "\\item[Bruce Willis] 28\n",
       "\\item[Harrison Ford] 27\n",
       "\\item[(Other)] 4552\n",
       "\\item[NA's] 7\n",
       "\\end{description*}\n"
      ],
      "text/markdown": [
       "Robert De Niro\n",
       ":   48Johnny Depp\n",
       ":   36Nicolas Cage\n",
       ":   32Denzel Washington\n",
       ":   29J.K. Simmons\n",
       ":   29Matt Damon\n",
       ":   29Bruce Willis\n",
       ":   28Harrison Ford\n",
       ":   27(Other)\n",
       ":   4552NA's\n",
       ":   7\n",
       "\n"
      ],
      "text/plain": [
       "   Robert De Niro       Johnny Depp      Nicolas Cage Denzel Washington \n",
       "               48                36                32                29 \n",
       "     J.K. Simmons        Matt Damon      Bruce Willis     Harrison Ford \n",
       "               29                29                28                27 \n",
       "          (Other)              NA's \n",
       "             4552                 7 "
      ]
     },
     "metadata": {},
     "output_type": "display_data"
    }
   ],
   "source": [
    "summary(movies$actor_1_name,maxsum=10)"
   ]
  },
  {
   "cell_type": "code",
   "execution_count": 77,
   "metadata": {
    "collapsed": false
   },
   "outputs": [],
   "source": [
    "actor1_count<-plyr::count(movies,'actor_1_name')\n",
    "actor1_count<-as.data.frame(actor1_count)\n",
    "#names(actor1_count)[names(actor1_count)==\"x\"]<-\"Name\"\n",
    "names(actor1_count)[names(actor1_count)==\"freq\"]<-\"Count\"\n",
    "actor1_count<-actor1_count[order(-actor1_count$Count),]"
   ]
  },
  {
   "cell_type": "code",
   "execution_count": 78,
   "metadata": {
    "collapsed": false
   },
   "outputs": [
    {
     "data": {
      "text/html": [
       "<table>\n",
       "<thead><tr><th></th><th scope=col>actor_1_name</th><th scope=col>Count</th></tr></thead>\n",
       "<tbody>\n",
       "\t<tr><th scope=row>1629</th><td>Robert De Niro   </td><td>48               </td></tr>\n",
       "\t<tr><th scope=row>957</th><td>Johnny Depp      </td><td>36               </td></tr>\n",
       "\t<tr><th scope=row>1439</th><td>Nicolas Cage     </td><td>32               </td></tr>\n",
       "\t<tr><th scope=row>475</th><td>Denzel Washington</td><td>29               </td></tr>\n",
       "\t<tr><th scope=row>765</th><td>J.K. Simmons     </td><td>29               </td></tr>\n",
       "\t<tr><th scope=row>1285</th><td>Matt Damon       </td><td>29               </td></tr>\n",
       "</tbody>\n",
       "</table>\n"
      ],
      "text/latex": [
       "\\begin{tabular}{r|ll}\n",
       "  & actor\\_1\\_name & Count\\\\\n",
       "\\hline\n",
       "\t1629 & Robert De Niro    & 48               \\\\\n",
       "\t957 & Johnny Depp       & 36               \\\\\n",
       "\t1439 & Nicolas Cage      & 32               \\\\\n",
       "\t475 & Denzel Washington & 29               \\\\\n",
       "\t765 & J.K. Simmons      & 29               \\\\\n",
       "\t1285 & Matt Damon        & 29               \\\\\n",
       "\\end{tabular}\n"
      ],
      "text/markdown": [
       "\n",
       "| <!--/--> | actor_1_name | Count | \n",
       "|---|---|---|---|---|---|\n",
       "| 1629 | Robert De Niro    | 48                | \n",
       "| 957 | Johnny Depp       | 36                | \n",
       "| 1439 | Nicolas Cage      | 32                | \n",
       "| 475 | Denzel Washington | 29                | \n",
       "| 765 | J.K. Simmons      | 29                | \n",
       "| 1285 | Matt Damon        | 29                | \n",
       "\n",
       "\n"
      ],
      "text/plain": [
       "     actor_1_name      Count\n",
       "1629 Robert De Niro    48   \n",
       "957  Johnny Depp       36   \n",
       "1439 Nicolas Cage      32   \n",
       "475  Denzel Washington 29   \n",
       "765  J.K. Simmons      29   \n",
       "1285 Matt Damon        29   "
      ]
     },
     "metadata": {},
     "output_type": "display_data"
    }
   ],
   "source": [
    "head(actor1_count[order(-actor1_count$Count),])"
   ]
  },
  {
   "cell_type": "code",
   "execution_count": 79,
   "metadata": {
    "collapsed": false
   },
   "outputs": [
    {
     "data": {
      "text/html": [
       "<iframe src=\"plotlyJupyterHTML/hist_actor.html\" width=\"100%\" height=\"400\" id=\"igraph\" scrolling=\"no\" seamless=\"seamless\" frameBorder=\"0\"> </iframe>"
      ]
     },
     "metadata": {},
     "output_type": "display_data"
    }
   ],
   "source": [
    "hist_actor <-  actor1_count %>%\n",
    "  dplyr::count(Count) %>%\n",
    "  plot_ly(x =~Count, y = ~n) %>% \n",
    "  add_bars()%>%\n",
    "layout(title = 'The number of roles played by each actor',\n",
    "         xaxis = list(title = 'Number of roles', zeroline = TRUE),\n",
    "         yaxis = list(title = 'Frequency'))\n",
    " \n",
    "embed_notebook(hist_actor,file=paste0(\"plotlyJupyterHTML/\",\"hist_actor\",\".html\"))"
   ]
  },
  {
   "cell_type": "markdown",
   "metadata": {},
   "source": [
    "I'm also interested to know how gross revenue is associated to each actor. In the table below, I calculated the mean gross revenue from the movie in which actor played and plotted the distribution of those amounts."
   ]
  },
  {
   "cell_type": "code",
   "execution_count": 80,
   "metadata": {
    "collapsed": false
   },
   "outputs": [],
   "source": [
    "act_1_mean_gross<-movies %>%\n",
    "group_by(actor_1_name)%>%\n",
    "summarise(mean_gross=mean(gross))\n",
    "\n",
    "actor1_mean_gross<-data.frame(\"actor_1_name\"=act_1_mean_gross$actor_1_name,\"act_1_mean_gross\"=act_1_mean_gross$mean_gross)"
   ]
  },
  {
   "cell_type": "code",
   "execution_count": 81,
   "metadata": {
    "collapsed": false
   },
   "outputs": [
    {
     "data": {
      "text/html": [
       "<iframe src=\"plotlyJupyterHTML/hist_mean_gross_actor.html\" width=\"100%\" height=\"400\" id=\"igraph\" scrolling=\"no\" seamless=\"seamless\" frameBorder=\"0\"> </iframe>"
      ]
     },
     "metadata": {},
     "output_type": "display_data"
    }
   ],
   "source": [
    "hist_mean_gross_actor <-  \n",
    "  plot_ly( act_1_mean_gross[complete.cases(act_1_mean_gross),],x =~mean_gross,type=\"histogram\") %>%\n",
    "layout(title = 'The average gross of the movies in which each actor played',\n",
    "         xaxis = list(title = 'Average gross', zeroline = TRUE),\n",
    "         yaxis = list(title = 'Number of actors'))\n",
    " \n",
    "embed_notebook(hist_mean_gross_actor,file=paste0(\"plotlyJupyterHTML/\",\"hist_mean_gross_actor\",\".html\"))"
   ]
  },
  {
   "cell_type": "markdown",
   "metadata": {},
   "source": [
    "Like for the directors, we can have a sense of the popularity of each actor via the \"actor_1_facebook_likes\" variable."
   ]
  },
  {
   "cell_type": "code",
   "execution_count": 82,
   "metadata": {
    "collapsed": false
   },
   "outputs": [
    {
     "data": {
      "text/plain": [
       "   Min. 1st Qu.  Median    Mean 3rd Qu.    Max.    NA's \n",
       "      0     611     989    6598   11000  640000       7 "
      ]
     },
     "metadata": {},
     "output_type": "display_data"
    }
   ],
   "source": [
    "summary(movies$actor_1_facebook_likes)"
   ]
  },
  {
   "cell_type": "code",
   "execution_count": 83,
   "metadata": {
    "collapsed": false
   },
   "outputs": [
    {
     "data": {
      "text/html": [
       "<iframe src=\"plotlyJupyterHTML/hist_fb_actor1.html\" width=\"100%\" height=\"400\" id=\"igraph\" scrolling=\"no\" seamless=\"seamless\" frameBorder=\"0\"> </iframe>"
      ]
     },
     "metadata": {},
     "output_type": "display_data"
    }
   ],
   "source": [
    "hist_fb_actor1 <-  plot_ly(movies[complete.cases(movies$actor_1_facebook_likes),],\n",
    "                           x =~actor_1_facebook_likes,type=\"histogram\") %>%\n",
    "layout(title = 'Number of Facebook likes for the principal actor of each movie',\n",
    "         xaxis = list(title = 'Facebook likes', zeroline = TRUE),\n",
    "         yaxis = list(title = 'Number of actors'))\n",
    " \n",
    "embed_notebook(hist_fb_actor1,file=paste0(\"plotlyJupyterHTML/\",\"hist_fb_actor1\",\".html\"))"
   ]
  },
  {
   "cell_type": "markdown",
   "metadata": {},
   "source": [
    "In that plot, the number of actors with less that a thousand like on Facebook seems to be over represented. Let's look at those data more in detail."
   ]
  },
  {
   "cell_type": "code",
   "execution_count": 84,
   "metadata": {
    "collapsed": false
   },
   "outputs": [
    {
     "name": "stdout",
     "output_type": "stream",
     "text": [
      "[1] \"Average gross : 26910482.159292\"\n",
      " [1] \"Name of actors : Doona Bae\"         \"Name of actors : Min-sik Choi\"     \n",
      " [3] \"Name of actors : Marcell Nagy\"      \"Name of actors : Minnie Driver\"    \n",
      " [5] \"Name of actors : William Hootkins\"  \"Name of actors : Mitsuo Iwata\"     \n",
      " [7] \"Name of actors : Hiroshi Abe\"       \"Name of actors : MÃ­a Maestro\"     \n",
      " [9] \"Name of actors : BÃ¡rbara Mori\"     \"Name of actors : Takeshi Kaneshiro\"\n",
      " [1] \"Country : South Korea\"        \"Country : Hungary\"           \n",
      " [3] \"Country : Japan\"              \"Country : Spain\"             \n",
      " [5] \"Country : India\"              \"Country : China\"             \n",
      " [7] \"Country : Thailand\"           \"Country : France\"            \n",
      " [9] \"Country : USA\"                \"Country : UK\"                \n",
      "[11] \"Country : Australia\"          \"Country : Germany\"           \n",
      "[13] \"Country : New Line\"           \"Country : Czech Republic\"    \n",
      "[15] \"Country : Canada\"             \"Country : Norway\"            \n",
      "[17] \"Country : Italy\"              \"Country : New Zealand\"       \n",
      "[19] \"Country : Denmark\"            \"Country : Hong Kong\"         \n",
      "[21] \"Country : Belgium\"            \"Country : Aruba\"             \n",
      "[23] \"Country : Libya\"              \"Country : Mexico\"            \n",
      "[25] \"Country : Switzerland\"        \"Country : Russia\"            \n",
      "[27] \"Country : Ireland\"            \"Country : West Germany\"      \n",
      "[29] \"Country : Chile\"              \"Country : Sweden\"            \n",
      "[31] \"Country : Georgia\"            \"Country : Netherlands\"       \n",
      "[33] \"Country : Taiwan\"             \"Country : South Africa\"      \n",
      "[35] \"Country : Iceland\"            \"Country : Turkey\"            \n",
      "[37] \"Country : Brazil\"             \"Country : Nigeria\"           \n",
      "[39] \"Country : Romania\"            \"Country : Finland\"           \n",
      "[41] \"Country : NA\"                 \"Country : Colombia\"          \n",
      "[43] \"Country : Poland\"             \"Country : Argentina\"         \n",
      "[45] \"Country : Israel\"             \"Country : Egypt\"             \n",
      "[47] \"Country : Kyrgyzstan\"         \"Country : Soviet Union\"      \n",
      "[49] \"Country : Pakistan\"           \"Country : Iran\"              \n",
      "[51] \"Country : Slovenia\"           \"Country : Dominican Republic\"\n",
      "[53] \"Country : Afghanistan\"        \"Country : Kenya\"             \n",
      "[55] \"Country : Philippines\"        \"Country : Cambodia\"          \n",
      "[57] \"Country : Slovakia\"           \"Country : Greece\"            \n",
      "[59] \"Country : Cameroon\"          \n"
     ]
    }
   ],
   "source": [
    "print(paste0(\"Average gross : \",mean(movies[actor_1_facebook_likes<1000,gross],na.rm=TRUE)))\n",
    "print(paste0(\"Name of actors : \",head(movies[actor_1_facebook_likes<1000,actor_1_name],n=10)))\n",
    "print(paste0(\"Country : \",unique(movies[actor_1_facebook_likes<1000,country])))"
   ]
  },
  {
   "cell_type": "markdown",
   "metadata": {},
   "source": [
    "We can see that the majority of actor with less than 1000 like played in low profile movies or come from a foreign country were Facebook not as used than in North America. Those two factors can deflate the number of Facebook like of an actor, but that show that this variable seems to indicate the popularity of an actor as well.\n",
    "\n",
    "To see if I should treat the observations with a value of zero like a missing value, I look at the name of the actor to spot some irregularity."
   ]
  },
  {
   "cell_type": "code",
   "execution_count": 85,
   "metadata": {
    "collapsed": false
   },
   "outputs": [
    {
     "data": {
      "text/html": [
       "25"
      ],
      "text/latex": [
       "25"
      ],
      "text/markdown": [
       "25"
      ],
      "text/plain": [
       "[1] 25"
      ]
     },
     "metadata": {},
     "output_type": "display_data"
    },
    {
     "data": {
      "text/html": [
       "<ol class=list-inline>\n",
       "\t<li>Robert Redford</li>\n",
       "\t<li>Tshewang Dendup</li>\n",
       "\t<li>Lee Scott</li>\n",
       "\t<li>Elina Abai Kyzy</li>\n",
       "\t<li>Stana Roumillac</li>\n",
       "\t<li>Karen Alexander</li>\n",
       "\t<li>Bhole Baba</li>\n",
       "\t<li>Dario Nozic Serini</li>\n",
       "\t<li>Heather Berman</li>\n",
       "\t<li>Elizabeth Streb</li>\n",
       "\t<li>Aliou TourÃ©</li>\n",
       "\t<li>Sam Adams</li>\n",
       "\t<li>Abigail Evans</li>\n",
       "\t<li>Iulia Ciochina</li>\n",
       "\t<li>Naderev Sano</li>\n",
       "\t<li>Ariel Hsing</li>\n",
       "\t<li>Jonathan Blow</li>\n",
       "\t<li>Chemeeka Walker</li>\n",
       "\t<li>Chris 'Wonder' Schoeck</li>\n",
       "\t<li>Don Brooks</li>\n",
       "\t<li>Ian Gamazon</li>\n",
       "\t<li>Eva Boehnke</li>\n",
       "\t<li>Ami Ayalon</li>\n",
       "\t<li>Carol Block</li>\n",
       "\t<li>Hanne Aagesen</li>\n",
       "</ol>\n"
      ],
      "text/latex": [
       "\\begin{enumerate*}\n",
       "\\item Robert Redford\n",
       "\\item Tshewang Dendup\n",
       "\\item Lee Scott\n",
       "\\item Elina Abai Kyzy\n",
       "\\item Stana Roumillac\n",
       "\\item Karen Alexander\n",
       "\\item Bhole Baba\n",
       "\\item Dario Nozic Serini\n",
       "\\item Heather Berman\n",
       "\\item Elizabeth Streb\n",
       "\\item Aliou TourÃ©\n",
       "\\item Sam Adams\n",
       "\\item Abigail Evans\n",
       "\\item Iulia Ciochina\n",
       "\\item Naderev Sano\n",
       "\\item Ariel Hsing\n",
       "\\item Jonathan Blow\n",
       "\\item Chemeeka Walker\n",
       "\\item Chris 'Wonder' Schoeck\n",
       "\\item Don Brooks\n",
       "\\item Ian Gamazon\n",
       "\\item Eva Boehnke\n",
       "\\item Ami Ayalon\n",
       "\\item Carol Block\n",
       "\\item Hanne Aagesen\n",
       "\\end{enumerate*}\n"
      ],
      "text/markdown": [
       "1. Robert Redford\n",
       "2. Tshewang Dendup\n",
       "3. Lee Scott\n",
       "4. Elina Abai Kyzy\n",
       "5. Stana Roumillac\n",
       "6. Karen Alexander\n",
       "7. Bhole Baba\n",
       "8. Dario Nozic Serini\n",
       "9. Heather Berman\n",
       "10. Elizabeth Streb\n",
       "11. Aliou TourÃ©\n",
       "12. Sam Adams\n",
       "13. Abigail Evans\n",
       "14. Iulia Ciochina\n",
       "15. Naderev Sano\n",
       "16. Ariel Hsing\n",
       "17. Jonathan Blow\n",
       "18. Chemeeka Walker\n",
       "19. Chris 'Wonder' Schoeck\n",
       "20. Don Brooks\n",
       "21. Ian Gamazon\n",
       "22. Eva Boehnke\n",
       "23. Ami Ayalon\n",
       "24. Carol Block\n",
       "25. Hanne Aagesen\n",
       "\n",
       "\n"
      ],
      "text/plain": [
       " [1] Robert Redford         Tshewang Dendup        Lee Scott             \n",
       " [4] Elina Abai Kyzy        Stana Roumillac        Karen Alexander       \n",
       " [7] Bhole Baba             Dario Nozic Serini     Heather Berman        \n",
       "[10] Elizabeth Streb        Aliou TourÃ©           Sam Adams             \n",
       "[13] Abigail Evans          Iulia Ciochina         Naderev Sano          \n",
       "[16] Ariel Hsing            Jonathan Blow          Chemeeka Walker       \n",
       "[19] Chris 'Wonder' Schoeck Don Brooks             Ian Gamazon           \n",
       "[22] Eva Boehnke            Ami Ayalon             Carol Block           \n",
       "[25] Hanne Aagesen         \n",
       "2045 Levels: 50 Cent A.J. Buckley Ãscar Jaenada Ãlex Angulo ... Zuhair Haddad"
      ]
     },
     "metadata": {},
     "output_type": "display_data"
    }
   ],
   "source": [
    "nrow(movies[actor_1_facebook_likes==0])\n",
    "movies[actor_1_facebook_likes==0,actor_1_name]"
   ]
  },
  {
   "cell_type": "markdown",
   "metadata": {
    "collapsed": true
   },
   "source": [
    "We can see that for the majority, those are less known actors or actors with a small Facebook presence, so I'll keep those data like they are. The only exception is Robert Redford and I correct the value in the table."
   ]
  },
  {
   "cell_type": "code",
   "execution_count": 86,
   "metadata": {
    "collapsed": false
   },
   "outputs": [
    {
     "data": {
      "text/html": [
       "<table>\n",
       "<thead><tr><th scope=col>color</th><th scope=col>director_name</th><th scope=col>num_critic_for_reviews</th><th scope=col>duration</th><th scope=col>director_facebook_likes</th><th scope=col>actor_3_facebook_likes</th><th scope=col>actor_2_name</th><th scope=col>actor_1_facebook_likes</th><th scope=col>gross</th><th scope=col>genres</th><th scope=col>...</th><th scope=col>genres_Short</th><th scope=col>genres_Sport</th><th scope=col>genres_Thriller</th><th scope=col>genres_War</th><th scope=col>genres_Western</th><th scope=col>currency</th><th scope=col>budget_us</th><th scope=col>gross_2016</th><th scope=col>budget_2016</th><th scope=col>profit</th></tr></thead>\n",
       "<tbody>\n",
       "\t<tr><td>Color                                                    </td><td>Joon-ho Bong                                             </td><td>363                                                      </td><td>110                                                      </td><td>  584                                                    </td><td>   74                                                    </td><td>Kang-ho Song                                             </td><td>  629                                                    </td><td>  2201412                                                </td><td>Comedy|Drama|Horror|Sci-Fi                               </td><td>...                                                      </td><td>0                                                        </td><td>0                                                        </td><td>0                                                        </td><td>0                                                        </td><td>0                                                        </td><td>KOR                                                      </td><td> 12793905                                                </td><td>  2620914.8                                              </td><td> 15231922                                                </td><td> -12611007                                               </td></tr>\n",
       "\t<tr><td>Color                                                    </td><td>Chan-wook Park                                           </td><td>202                                                      </td><td>112                                                      </td><td>   NA                                                    </td><td>   38                                                    </td><td>Yeong-ae Lee                                             </td><td>  717                                                    </td><td>   211667                                                </td><td>Crime|Drama                                              </td><td>...                                                      </td><td>0                                                        </td><td>0                                                        </td><td>0                                                        </td><td>0                                                        </td><td>0                                                        </td><td>KOR                                                      </td><td>  4101095                                                </td><td>   260131.9                                              </td><td>  5040113                                                </td><td>  -4779981                                               </td></tr>\n",
       "\t<tr><td>Color                                                    </td><td>Lajos Koltai                                             </td><td> 73                                                      </td><td>134                                                      </td><td>   45                                                    </td><td>    0                                                    </td><td>PÃ©ter Fancsikai                                         </td><td>    9                                                    </td><td>   195888                                                </td><td>Drama|Romance|War                                        </td><td>...                                                      </td><td>0                                                        </td><td>0                                                        </td><td>0                                                        </td><td>1                                                        </td><td>0                                                        </td><td>HUN                                                      </td><td> 12526148                                                </td><td>   240740.0                                              </td><td> 15394231                                                </td><td> -15153491                                               </td></tr>\n",
       "\t<tr><td>Color                                                    </td><td>Hayao Miyazaki                                           </td><td>174                                                      </td><td>134                                                      </td><td> 6000                                                    </td><td>  745                                                    </td><td>Jada Pinkett Smith                                       </td><td>  893                                                    </td><td>  2298191                                                </td><td>Adventure|Animation|Fantasy                              </td><td>...                                                      </td><td>0                                                        </td><td>0                                                        </td><td>0                                                        </td><td>0                                                        </td><td>0                                                        </td><td>JPN                                                      </td><td> 19836208                                                </td><td>  3436293.2                                              </td><td> 29659426                                                </td><td> -26223133                                               </td></tr>\n",
       "\t<tr><td>Color                                                    </td><td>Katsuhiro Ã”tomo                                         </td><td>105                                                      </td><td>103                                                      </td><td>   78                                                    </td><td>  101                                                    </td><td>Robin Atkin Downes                                       </td><td>  488                                                    </td><td>   410388                                                </td><td>Action|Adventure|Animation|Family|Sci-Fi|Thriller        </td><td>...                                                      </td><td>0                                                        </td><td>0                                                        </td><td>1                                                        </td><td>0                                                        </td><td>0                                                        </td><td>JPN                                                      </td><td> 19664196                                                </td><td>   521465.0                                              </td><td> 24986575                                                </td><td> -24465109                                               </td></tr>\n",
       "\t<tr><td>Color                                                    </td><td>Katsuhiro Ã”tomo                                         </td><td>150                                                      </td><td>124                                                      </td><td>   78                                                    </td><td>    4                                                    </td><td>Takeshi Kusao                                            </td><td>    6                                                    </td><td>   439162                                                </td><td>Action|Animation|Sci-Fi                                  </td><td>...                                                      </td><td>0                                                        </td><td>0                                                        </td><td>0                                                        </td><td>0                                                        </td><td>0                                                        </td><td>JPN                                                      </td><td>  8583579                                                </td><td>   891286.1                                              </td><td> 17420507                                                </td><td> -16529221                                               </td></tr>\n",
       "\t<tr><td>Color                                                    </td><td>Takao Okawara                                            </td><td>107                                                      </td><td> 99                                                      </td><td>    2                                                    </td><td>    3                                                    </td><td>Naomi Nishida                                            </td><td>   43                                                    </td><td> 10037390                                                </td><td>Action|Adventure|Drama|Sci-Fi|Thriller                   </td><td>...                                                      </td><td>0                                                        </td><td>0                                                        </td><td>1                                                        </td><td>0                                                        </td><td>0                                                        </td><td>JPN                                                      </td><td>  8779106                                                </td><td> 14462224.8                                              </td><td> 12649245                                                </td><td>   1812980                                               </td></tr>\n",
       "\t<tr><td>Color                                                    </td><td>Karan Johar                                              </td><td> 20                                                      </td><td>193                                                      </td><td>  160                                                    </td><td>  860                                                    </td><td>John Abraham                                             </td><td> 8000                                                    </td><td>  3275443                                                </td><td>Drama                                                    </td><td>...                                                      </td><td>0                                                        </td><td>0                                                        </td><td>0                                                        </td><td>0                                                        </td><td>0                                                        </td><td>IND                                                      </td><td> 15450148                                                </td><td>  3899614.0                                              </td><td> 18394340                                                </td><td> -14494726                                               </td></tr>\n",
       "\t<tr><td>Color                                                    </td><td>Carlos Saura                                             </td><td> 35                                                      </td><td>115                                                      </td><td>   98                                                    </td><td>    4                                                    </td><td>Juan Luis Galiardo                                       </td><td>  341                                                    </td><td>  1687311                                                </td><td>Drama|Musical                                            </td><td>...                                                      </td><td>0                                                        </td><td>0                                                        </td><td>0                                                        </td><td>0                                                        </td><td>0                                                        </td><td>ESP                                                      </td><td>  4604024                                                </td><td>  2484331.4                                              </td><td>  6778787                                                </td><td>  -4294455                                               </td></tr>\n",
       "\t<tr><td>Color                                                    </td><td>Anurag Basu                                              </td><td> 41                                                      </td><td> 90                                                      </td><td>  116                                                    </td><td>  303                                                    </td><td>Steven Michael Quezada                                   </td><td>  594                                                    </td><td>  1602466                                                </td><td>Action|Drama|Romance|Thriller                            </td><td>...                                                      </td><td>0                                                        </td><td>0                                                        </td><td>1                                                        </td><td>0                                                        </td><td>0                                                        </td><td>IND                                                      </td><td> 13121691                                                </td><td>  1763786.3                                              </td><td> 14442652                                                </td><td> -12678865                                               </td></tr>\n",
       "\t<tr><td>Color                                                    </td><td>John Woo                                                 </td><td>160                                                      </td><td>150                                                      </td><td>  610                                                    </td><td>  478                                                    </td><td>Tony Chiu Wai Leung                                      </td><td>  755                                                    </td><td>   626809                                                </td><td>Action|Adventure|Drama|History|War                       </td><td>...                                                      </td><td>0                                                        </td><td>0                                                        </td><td>0                                                        </td><td>1                                                        </td><td>0                                                        </td><td>CHN                                                      </td><td> 79674699                                                </td><td>   698731.5                                              </td><td> 88816882                                                </td><td> -88118150                                               </td></tr>\n",
       "\t<tr><td>Color                                                    </td><td>Chatrichalerm Yukol                                      </td><td> 31                                                      </td><td>300                                                      </td><td>    6                                                    </td><td>    6                                                    </td><td>Chatchai Plengpanich                                     </td><td>    7                                                    </td><td>   454255                                                </td><td>Action|Adventure|Drama|History|War                       </td><td>...                                                      </td><td>0                                                        </td><td>0                                                        </td><td>0                                                        </td><td>1                                                        </td><td>0                                                        </td><td>THA                                                      </td><td>  9134505                                                </td><td>   615725.4                                              </td><td> 12381475                                                </td><td> -11765749                                               </td></tr>\n",
       "\t<tr><td>Color                                                    </td><td>Luc Besson                                               </td><td>111                                                      </td><td>158                                                      </td><td>   NA                                                    </td><td>   15                                                    </td><td>David Bailie                                             </td><td>   51                                                    </td><td> 14131298                                                </td><td>Adventure|Biography|Drama|History|War                    </td><td>...                                                      </td><td>0                                                        </td><td>0                                                        </td><td>0                                                        </td><td>1                                                        </td><td>0                                                        </td><td>FRA                                                      </td><td> 65000000                                                </td><td> 20360871.5                                              </td><td> 93654288                                                </td><td> -73293416                                               </td></tr>\n",
       "\t<tr><td>Color                                                    </td><td>Gore Verbinski                                           </td><td>302                                                      </td><td>169                                                      </td><td>  563                                                    </td><td> 1000                                                    </td><td>Orlando Bloom                                            </td><td>40000                                                    </td><td>309404152                                                </td><td>Action|Adventure|Fantasy                                 </td><td>...                                                      </td><td>0                                                        </td><td>0                                                        </td><td>0                                                        </td><td>0                                                        </td><td>0                                                        </td><td>NA                                                       </td><td>300000000                                                </td><td>358147700.4                                              </td><td>347262018                                                </td><td>  10885683                                               </td></tr>\n",
       "\t<tr><td>Color                                                    </td><td>Tony Jaa                                                 </td><td>110                                                      </td><td>110                                                      </td><td>   NA                                                    </td><td>    7                                                    </td><td>Petchtai Wongkamlao                                      </td><td>   64                                                    </td><td>   102055                                                </td><td>Action                                                   </td><td>...                                                      </td><td>0                                                        </td><td>0                                                        </td><td>0                                                        </td><td>0                                                        </td><td>0                                                        </td><td>THA                                                      </td><td>  8522146                                                </td><td>   113765.2                                              </td><td>  9500010                                                </td><td>  -9386245                                               </td></tr>\n",
       "\t<tr><td>Color                                                    </td><td>Andrew Stanton                                           </td><td>462                                                      </td><td>132                                                      </td><td>  475                                                    </td><td>  530                                                    </td><td>Samantha Morton                                          </td><td>  640                                                    </td><td> 73058679                                                </td><td>Action|Adventure|Sci-Fi                                  </td><td>...                                                      </td><td>0                                                        </td><td>0                                                        </td><td>0                                                        </td><td>0                                                        </td><td>0                                                        </td><td>NA                                                       </td><td>263700000                                                </td><td> 76372258.2                                              </td><td>275660124                                                </td><td>-199287865                                               </td></tr>\n",
       "\t<tr><td>Color                                                    </td><td>Nathan Greno                                             </td><td>324                                                      </td><td>100                                                      </td><td>   15                                                    </td><td>  284                                                    </td><td>Donna Murphy                                             </td><td>  799                                                    </td><td>200807262                                                </td><td>Adventure|Animation|Comedy|Family|Fantasy|Musical|Romance</td><td>...                                                      </td><td>0                                                        </td><td>0                                                        </td><td>0                                                        </td><td>0                                                        </td><td>0                                                        </td><td>NA                                                       </td><td>260000000                                                </td><td>221022529.1                                              </td><td>286174200                                                </td><td> -65151671                                               </td></tr>\n",
       "\t<tr><td>Color                                                    </td><td>Sam Raimi                                                </td><td>392                                                      </td><td>156                                                      </td><td>   NA                                                    </td><td> 4000                                                    </td><td>James Franco                                             </td><td>24000                                                    </td><td>336530303                                                </td><td>Action|Adventure|Romance                                 </td><td>...                                                      </td><td>0                                                        </td><td>0                                                        </td><td>0                                                        </td><td>0                                                        </td><td>0                                                        </td><td>USA                                                      </td><td>258000000                                                </td><td>389547306.8                                              </td><td>298645335                                                </td><td>  90901972                                               </td></tr>\n",
       "\t<tr><td>Color                                                    </td><td>Christopher Nolan                                        </td><td>813                                                      </td><td>164                                                      </td><td>22000                                                    </td><td>23000                                                    </td><td>Christian Bale                                           </td><td>27000                                                    </td><td>448130642                                                </td><td>Action|Thriller                                          </td><td>...                                                      </td><td>0                                                        </td><td>0                                                        </td><td>1                                                        </td><td>0                                                        </td><td>0                                                        </td><td>NA                                                       </td><td>250000000                                                </td><td>468455624.3                                              </td><td>261338760                                                </td><td> 207116865                                               </td></tr>\n",
       "\t<tr><td>Color                                                    </td><td>Joss Whedon                                              </td><td>635                                                      </td><td>141                                                      </td><td>   NA                                                    </td><td>19000                                                    </td><td>Robert Downey Jr.                                        </td><td>26000                                                    </td><td>458991599                                                </td><td>Action|Adventure|Sci-Fi                                  </td><td>...                                                      </td><td>0                                                        </td><td>0                                                        </td><td>0                                                        </td><td>0                                                        </td><td>0                                                        </td><td>NA                                                       </td><td>250000000                                                </td><td>464782215.9                                              </td><td>253153989                                                </td><td> 211628227                                               </td></tr>\n",
       "\t<tr><td>Color                                                    </td><td>David Yates                                              </td><td>375                                                      </td><td>153                                                      </td><td>  282                                                    </td><td>10000                                                    </td><td>Daniel Radcliffe                                         </td><td>25000                                                    </td><td>301956980                                                </td><td>Adventure|Family|Fantasy|Mystery                         </td><td>...                                                      </td><td>0                                                        </td><td>0                                                        </td><td>0                                                        </td><td>0                                                        </td><td>0                                                        </td><td>NA                                                       </td><td>250000000                                                </td><td>337805755.3                                              </td><td>279680367                                                </td><td>  58125389                                               </td></tr>\n",
       "\t<tr><td>Color                                                    </td><td>Zack Snyder                                              </td><td>673                                                      </td><td>183                                                      </td><td>   NA                                                    </td><td> 2000                                                    </td><td>Lauren Cohan                                             </td><td>15000                                                    </td><td>330249062                                                </td><td>Action|Adventure|Sci-Fi                                  </td><td>...                                                      </td><td>0                                                        </td><td>0                                                        </td><td>0                                                        </td><td>0                                                        </td><td>0                                                        </td><td>NA                                                       </td><td>250000000                                                </td><td>330249062.0                                              </td><td>250000000                                                </td><td>  80249062                                               </td></tr>\n",
       "\t<tr><td>Color                                                    </td><td>Rob Marshall                                             </td><td>448                                                      </td><td>136                                                      </td><td>  252                                                    </td><td> 1000                                                    </td><td>Sam Claflin                                              </td><td>40000                                                    </td><td>241063875                                                </td><td>Action|Adventure|Fantasy                                 </td><td>...                                                      </td><td>0                                                        </td><td>0                                                        </td><td>0                                                        </td><td>0                                                        </td><td>0                                                        </td><td>USA                                                      </td><td>250000000                                                </td><td>257212103.7                                              </td><td>266746836                                                </td><td>  -9534732                                               </td></tr>\n",
       "\t<tr><td>Color                                                    </td><td>Peter Jackson                                            </td><td>422                                                      </td><td>164                                                      </td><td>   NA                                                    </td><td>  773                                                    </td><td>Adam Brown                                               </td><td> 5000                                                    </td><td>255108370                                                </td><td>Adventure|Fantasy                                        </td><td>...                                                      </td><td>0                                                        </td><td>0                                                        </td><td>0                                                        </td><td>0                                                        </td><td>0                                                        </td><td>USA                                                      </td><td>250000000                                                </td><td>258633275.6                                              </td><td>253454322                                                </td><td>   5178954                                               </td></tr>\n",
       "\t<tr><td>Color                                                    </td><td>Anthony Russo                                            </td><td>516                                                      </td><td>147                                                      </td><td>   94                                                    </td><td>11000                                                    </td><td>Scarlett Johansson                                       </td><td>21000                                                    </td><td>407197282                                                </td><td>Action|Adventure|Sci-Fi                                  </td><td>...                                                      </td><td>0                                                        </td><td>0                                                        </td><td>0                                                        </td><td>0                                                        </td><td>0                                                        </td><td>USA                                                      </td><td>250000000                                                </td><td>407197282.0                                              </td><td>250000000                                                </td><td> 157197282                                               </td></tr>\n",
       "\t<tr><td>Color                                                    </td><td>Sam Mendes                                               </td><td>602                                                      </td><td>148                                                      </td><td>   NA                                                    </td><td>  161                                                    </td><td>Rory Kinnear                                             </td><td>11000                                                    </td><td>200074175                                                </td><td>Action|Adventure|Thriller                                </td><td>...                                                      </td><td>0                                                        </td><td>0                                                        </td><td>1                                                        </td><td>0                                                        </td><td>0                                                        </td><td>NA                                                       </td><td>245000000                                                </td><td>202598301.6                                              </td><td>248090909                                                </td><td> -45492607                                               </td></tr>\n",
       "\t<tr><td>Color                                                    </td><td>James Cameron                                            </td><td>723                                                      </td><td>178                                                      </td><td>   NA                                                    </td><td>  855                                                    </td><td>Joel David Moore                                         </td><td> 1000                                                    </td><td>760505847                                                </td><td>Action|Adventure|Fantasy|Sci-Fi                          </td><td>...                                                      </td><td>0                                                        </td><td>0                                                        </td><td>0                                                        </td><td>0                                                        </td><td>0                                                        </td><td>NA                                                       </td><td>237000000                                                </td><td>850794216.1                                              </td><td>265136987                                                </td><td> 585657229                                               </td></tr>\n",
       "\t<tr><td>Color                                                    </td><td>Marc Webb                                                </td><td>599                                                      </td><td>153                                                      </td><td>  464                                                    </td><td>  963                                                    </td><td>Andrew Garfield                                          </td><td>15000                                                    </td><td>262030663                                                </td><td>Action|Adventure|Fantasy                                 </td><td>...                                                      </td><td>0                                                        </td><td>0                                                        </td><td>0                                                        </td><td>0                                                        </td><td>0                                                        </td><td>USA                                                      </td><td>230000000                                                </td><td>273915073.7                                              </td><td>240431659                                                </td><td>  33483415                                               </td></tr>\n",
       "\t<tr><td>Color                                                    </td><td>Gore Verbinski                                           </td><td>313                                                      </td><td>151                                                      </td><td>  563                                                    </td><td> 1000                                                    </td><td>Orlando Bloom                                            </td><td>40000                                                    </td><td>423032628                                                </td><td>Action|Adventure|Fantasy                                 </td><td>...                                                      </td><td>0                                                        </td><td>0                                                        </td><td>0                                                        </td><td>0                                                        </td><td>0                                                        </td><td>USA                                                      </td><td>225000000                                                </td><td>503646060.6                                              </td><td>267876178                                                </td><td> 235769882                                               </td></tr>\n",
       "\t<tr><td>Color                                                    </td><td>Zack Snyder                                              </td><td>733                                                      </td><td>143                                                      </td><td>   NA                                                    </td><td>  748                                                    </td><td>Christopher Meloni                                       </td><td>15000                                                    </td><td>291021565                                                </td><td>Action|Adventure|Fantasy|Sci-Fi                          </td><td>...                                                      </td><td>0                                                        </td><td>0                                                        </td><td>0                                                        </td><td>0                                                        </td><td>0                                                        </td><td>USA                                                      </td><td>225000000                                                </td><td>299828992.2                                              </td><td>231809362                                                </td><td>  68019630                                               </td></tr>\n",
       "\t<tr><td>...</td><td>...</td><td>...</td><td>...</td><td>...</td><td>...</td><td>...</td><td>...</td><td>...</td><td>...</td><td>   </td><td>...</td><td>...</td><td>...</td><td>...</td><td>...</td><td>...</td><td>...</td><td>...</td><td>...</td><td>...</td></tr>\n",
       "\t<tr><td>Color                         </td><td>Niall Johnson                 </td><td>  4                           </td><td>114                           </td><td>    7                         </td><td>  2                           </td><td>Mark Caven                    </td><td>   19                         </td><td>    NA                        </td><td>Drama                         </td><td>...                           </td><td>0                             </td><td>0                             </td><td>0                             </td><td>0                             </td><td>0                             </td><td>USA                           </td><td>NA                            </td><td>        NA                    </td><td>NA                            </td><td>NA                            </td></tr>\n",
       "\t<tr><td>Color                         </td><td>Florence Ayisi                </td><td> 27                           </td><td>104                           </td><td>   NA                         </td><td> NA                           </td><td>Beatrice Ntuba                </td><td>    2                         </td><td> 32631                        </td><td>Documentary                   </td><td>...                           </td><td>0                             </td><td>0                             </td><td>0                             </td><td>0                             </td><td>0                             </td><td>USA                           </td><td>NA                            </td><td>  40102.45                    </td><td>NA                            </td><td>NA                            </td></tr>\n",
       "\t<tr><td>Color                         </td><td>Pece Dingo                    </td><td>  1                           </td><td> 94                           </td><td>   NA                         </td><td> 87                           </td><td>Wilhelm von Homburg           </td><td>  156                         </td><td>    NA                        </td><td>Horror                        </td><td>...                           </td><td>0                             </td><td>0                             </td><td>0                             </td><td>0                             </td><td>0                             </td><td>USA                           </td><td>NA                            </td><td>        NA                    </td><td>NA                            </td><td>NA                            </td></tr>\n",
       "\t<tr><td>Color                         </td><td>Michael Kang                  </td><td> 27                           </td><td> 75                           </td><td>  269                         </td><td>  7                           </td><td>Clint Jordan                  </td><td>  100                         </td><td> 47111                        </td><td>Comedy|Drama                  </td><td>...                           </td><td>0                             </td><td>0                             </td><td>0                             </td><td>0                             </td><td>0                             </td><td>USA                           </td><td>NA                            </td><td>  57897.90                    </td><td>NA                            </td><td>NA                            </td></tr>\n",
       "\t<tr><td>Color                         </td><td>Lori Silverbush               </td><td> 26                           </td><td> 86                           </td><td>    5                         </td><td> 41                           </td><td>Flaco Navaja                  </td><td>   68                         </td><td>    NA                        </td><td>Drama                         </td><td>...                           </td><td>0                             </td><td>0                             </td><td>0                             </td><td>0                             </td><td>0                             </td><td>USA                           </td><td>NA                            </td><td>        NA                    </td><td>NA                            </td><td>NA                            </td></tr>\n",
       "\t<tr><td>Color                         </td><td>Stuart Hazeldine              </td><td> 77                           </td><td>101                           </td><td>   17                         </td><td>289                           </td><td>Luke Mably                    </td><td>  766                         </td><td>    NA                        </td><td>Mystery|Thriller              </td><td>...                           </td><td>0                             </td><td>0                             </td><td>1                             </td><td>0                             </td><td>0                             </td><td>USA                           </td><td>NA                            </td><td>        NA                    </td><td>NA                            </td><td>NA                            </td></tr>\n",
       "\t<tr><td>Color                         </td><td>Jason Naumann                 </td><td> NA                           </td><td> 35                           </td><td>    2                         </td><td>152                           </td><td>Kate Flannery                 </td><td>  338                         </td><td>    NA                        </td><td>Comedy|Short                  </td><td>...                           </td><td>1                             </td><td>0                             </td><td>0                             </td><td>0                             </td><td>0                             </td><td>USA                           </td><td>NA                            </td><td>        NA                    </td><td>NA                            </td><td>NA                            </td></tr>\n",
       "\t<tr><td>Color                         </td><td>Matt Cimber                   </td><td> 15                           </td><td>108                           </td><td>   32                         </td><td>180                           </td><td>June Lockhart                 </td><td>  602                         </td><td>    NA                        </td><td>Crime|Drama                   </td><td>...                           </td><td>0                             </td><td>0                             </td><td>0                             </td><td>0                             </td><td>0                             </td><td>USA                           </td><td>NA                            </td><td>        NA                    </td><td>NA                            </td><td>NA                            </td></tr>\n",
       "\t<tr><td>Color                         </td><td>Nicolas Winding Refn          </td><td>225                           </td><td> 92                           </td><td>   NA                         </td><td>146                           </td><td>James Lance                   </td><td>27000                         </td><td>104792                        </td><td>Action|Biography|Crime|Drama  </td><td>...                           </td><td>0                             </td><td>0                             </td><td>0                             </td><td>0                             </td><td>0                             </td><td>USA                           </td><td>NA                            </td><td> 116816.24                    </td><td>NA                            </td><td>NA                            </td></tr>\n",
       "\t<tr><td>Color                         </td><td>Tom Tykwer                    </td><td> 76                           </td><td>119                           </td><td>  670                         </td><td>  9                           </td><td>Sebastian Schipper            </td><td>   24                         </td><td> 59774                        </td><td>Comedy|Drama|Romance          </td><td>...                           </td><td>0                             </td><td>0                             </td><td>0                             </td><td>0                             </td><td>0                             </td><td>USA                           </td><td>NA                            </td><td>  65791.45                    </td><td>NA                            </td><td>NA                            </td></tr>\n",
       "\t<tr><td>Color                         </td><td>Livingston Oden               </td><td>  1                           </td><td> 89                           </td><td>   NA                         </td><td> 15                           </td><td>Victoria Lachelle             </td><td>  138                         </td><td>    NA                        </td><td>Comedy|Horror|Mystery|Thriller</td><td>...                           </td><td>0                             </td><td>0                             </td><td>1                             </td><td>0                             </td><td>0                             </td><td>USA                           </td><td>NA                            </td><td>        NA                    </td><td>NA                            </td><td>NA                            </td></tr>\n",
       "\t<tr><td>Black and White               </td><td>Carl Theodor Dreyer           </td><td> 54                           </td><td>126                           </td><td>  147                         </td><td>  0                           </td><td>Sylvia Eckhausen              </td><td>    0                         </td><td>    NA                        </td><td>Drama|Fantasy                 </td><td>...                           </td><td>0                             </td><td>0                             </td><td>0                             </td><td>0                             </td><td>0                             </td><td>USA                           </td><td>NA                            </td><td>        NA                    </td><td>NA                            </td><td>NA                            </td></tr>\n",
       "\t<tr><td>Color                         </td><td>Pat Holden                    </td><td> 44                           </td><td> 86                           </td><td>    6                         </td><td>115                           </td><td>Martin Compston               </td><td>  498                         </td><td>    NA                        </td><td>Horror                        </td><td>...                           </td><td>0                             </td><td>0                             </td><td>0                             </td><td>0                             </td><td>0                             </td><td>USA                           </td><td>NA                            </td><td>        NA                    </td><td>NA                            </td><td>NA                            </td></tr>\n",
       "\t<tr><td>Color                         </td><td>Zal Batmanglij                </td><td>136                           </td><td> 85                           </td><td>  129                         </td><td>100                           </td><td>James Urbaniak                </td><td>  120                         </td><td>405614                        </td><td>Drama|Mystery|Sci-Fi|Thriller </td><td>...                           </td><td>0                             </td><td>0                             </td><td>1                             </td><td>0                             </td><td>0                             </td><td>USA                           </td><td>NA                            </td><td> 432785.00                    </td><td>NA                            </td><td>NA                            </td></tr>\n",
       "\t<tr><td>Black and White               </td><td>John Reinhardt                </td><td>  1                           </td><td> 68                           </td><td>    2                         </td><td> 75                           </td><td>John Ireland                  </td><td>  142                         </td><td>    NA                        </td><td>Crime|Drama                   </td><td>...                           </td><td>0                             </td><td>0                             </td><td>0                             </td><td>0                             </td><td>0                             </td><td>USA                           </td><td>NA                            </td><td>        NA                    </td><td>NA                            </td><td>NA                            </td></tr>\n",
       "\t<tr><td>Color                         </td><td>Laslo Benedek                 </td><td> 14                           </td><td>106                           </td><td>    6                         </td><td> 13                           </td><td>Trevor Howard                 </td><td>  440                         </td><td>    NA                        </td><td>Crime|Horror|Thriller         </td><td>...                           </td><td>0                             </td><td>0                             </td><td>1                             </td><td>0                             </td><td>0                             </td><td>USA                           </td><td>NA                            </td><td>        NA                    </td><td>NA                            </td><td>NA                            </td></tr>\n",
       "\t<tr><td>Color                         </td><td>Julie Davis                   </td><td>  5                           </td><td> 86                           </td><td>   12                         </td><td>117                           </td><td>Meredith Scott Lynn           </td><td>  238                         </td><td> 33598                        </td><td>Comedy|Romance                </td><td>...                           </td><td>0                             </td><td>0                             </td><td>0                             </td><td>0                             </td><td>0                             </td><td>USA                           </td><td>NA                            </td><td>  50236.28                    </td><td>NA                            </td><td>NA                            </td></tr>\n",
       "\t<tr><td>Color                         </td><td>Daniel Schechter              </td><td> 15                           </td><td> 87                           </td><td>    8                         </td><td>272                           </td><td>Kevin Corrigan                </td><td>  969                         </td><td>    NA                        </td><td>Comedy                        </td><td>...                           </td><td>0                             </td><td>0                             </td><td>0                             </td><td>0                             </td><td>0                             </td><td>USA                           </td><td>NA                            </td><td>        NA                    </td><td>NA                            </td><td>NA                            </td></tr>\n",
       "\t<tr><td>Color                         </td><td>Bruno Barreto                 </td><td>  1                           </td><td> 99                           </td><td>    9                         </td><td>  3                           </td><td>Sonia Braga                   </td><td>  866                         </td><td>    NA                        </td><td>Comedy|Drama|Romance          </td><td>...                           </td><td>0                             </td><td>0                             </td><td>0                             </td><td>0                             </td><td>0                             </td><td>USA                           </td><td>NA                            </td><td>        NA                    </td><td>NA                            </td><td>NA                            </td></tr>\n",
       "\t<tr><td>Color                         </td><td>Daniel Mellitz                </td><td> NA                           </td><td> NA                           </td><td>   NA                         </td><td> 15                           </td><td>Chelse Swain                  </td><td> 1000                         </td><td>    NA                        </td><td>Comedy|Drama                  </td><td>...                           </td><td>0                             </td><td>0                             </td><td>0                             </td><td>0                             </td><td>0                             </td><td>USA                           </td><td>NA                            </td><td>        NA                    </td><td>NA                            </td><td>NA                            </td></tr>\n",
       "\t<tr><td>Color                         </td><td>Martin Scorsese               </td><td> 71                           </td><td>117                           </td><td>17000                         </td><td>476                           </td><td>Levon Helm                    </td><td>  725                         </td><td>321952                        </td><td>Documentary|Music             </td><td>...                           </td><td>0                             </td><td>0                             </td><td>0                             </td><td>0                             </td><td>0                             </td><td>USA                           </td><td>NA                            </td><td>1184529.14                    </td><td>NA                            </td><td>NA                            </td></tr>\n",
       "\t<tr><td>Color                         </td><td>Bradley Rust Gray             </td><td> 61                           </td><td> 79                           </td><td>    2                         </td><td> 20                           </td><td>Mark Rendall                  </td><td>  962                         </td><td> 24705                        </td><td>Drama                         </td><td>...                           </td><td>0                             </td><td>0                             </td><td>0                             </td><td>0                             </td><td>0                             </td><td>USA                           </td><td>NA                            </td><td>  27638.01                    </td><td>NA                            </td><td>NA                            </td></tr>\n",
       "\t<tr><td>Black and White               </td><td>Andrew Bujalski               </td><td> 52                           </td><td>109                           </td><td>   26                         </td><td>  3                           </td><td>Kate Dollenmayer              </td><td>   26                         </td><td>    NA                        </td><td>Comedy                        </td><td>...                           </td><td>0                             </td><td>0                             </td><td>0                             </td><td>0                             </td><td>0                             </td><td>USA                           </td><td>NA                            </td><td>        NA                    </td><td>NA                            </td><td>NA                            </td></tr>\n",
       "\t<tr><td>Color                         </td><td>Ben Wheatley                  </td><td> 53                           </td><td> 93                           </td><td>  214                         </td><td> 59                           </td><td>Tony Way                      </td><td>  177                         </td><td>  9609                        </td><td>Comedy|Crime|Drama            </td><td>...                           </td><td>0                             </td><td>0                             </td><td>0                             </td><td>0                             </td><td>0                             </td><td>USA                           </td><td>NA                            </td><td>  10749.79                    </td><td>NA                            </td><td>NA                            </td></tr>\n",
       "\t<tr><td>Color                         </td><td>Andrew Bujalski               </td><td> 43                           </td><td> 85                           </td><td>   26                         </td><td>  3                           </td><td>Kate Dollenmayer              </td><td>   26                         </td><td>    NA                        </td><td>Comedy|Drama                  </td><td>...                           </td><td>0                             </td><td>0                             </td><td>0                             </td><td>0                             </td><td>0                             </td><td>USA                           </td><td>NA                            </td><td>        NA                    </td><td>NA                            </td><td>NA                            </td></tr>\n",
       "\t<tr><td>Color                         </td><td>Uwe Boll                      </td><td> 58                           </td><td> 80                           </td><td>  892                         </td><td>492                           </td><td>Katharine Isabelle            </td><td>  986                         </td><td>    NA                        </td><td>Action|Crime|Thriller         </td><td>...                           </td><td>0                             </td><td>0                             </td><td>1                             </td><td>0                             </td><td>0                             </td><td>USA                           </td><td>NA                            </td><td>        NA                    </td><td>NA                            </td><td>NA                            </td></tr>\n",
       "\t<tr><td>Color                         </td><td>Marcus Nispel                 </td><td> 43                           </td><td> 91                           </td><td>  158                         </td><td>265                           </td><td>Brittany Curran               </td><td>  630                         </td><td>    NA                        </td><td>Horror|Mystery|Thriller       </td><td>...                           </td><td>0                             </td><td>0                             </td><td>1                             </td><td>0                             </td><td>0                             </td><td>USA                           </td><td>NA                            </td><td>        NA                    </td><td>NA                            </td><td>NA                            </td></tr>\n",
       "\t<tr><td>Color                         </td><td>Ash Baron-Cohen               </td><td> 10                           </td><td> 98                           </td><td>    3                         </td><td>152                           </td><td>Stanley B. Herman             </td><td>  789                         </td><td>    NA                        </td><td>Crime|Drama                   </td><td>...                           </td><td>0                             </td><td>0                             </td><td>0                             </td><td>0                             </td><td>0                             </td><td>NA                            </td><td>NA                            </td><td>        NA                    </td><td>NA                            </td><td>NA                            </td></tr>\n",
       "\t<tr><td>Color                         </td><td>Scott Smith                   </td><td>  1                           </td><td> 87                           </td><td>    2                         </td><td>318                           </td><td>Daphne Zuniga                 </td><td>  637                         </td><td>    NA                        </td><td>Comedy|Drama                  </td><td>...                           </td><td>0                             </td><td>0                             </td><td>0                             </td><td>0                             </td><td>0                             </td><td>NA                            </td><td>NA                            </td><td>        NA                    </td><td>NA                            </td><td>NA                            </td></tr>\n",
       "\t<tr><td>Color                         </td><td>Daniel Hsia                   </td><td> 14                           </td><td>100                           </td><td>   NA                         </td><td>489                           </td><td>Daniel Henney                 </td><td>  946                         </td><td> 10443                        </td><td>Comedy|Drama|Romance          </td><td>...                           </td><td>0                             </td><td>0                             </td><td>0                             </td><td>0                             </td><td>0                             </td><td>NA                            </td><td>NA                            </td><td>  10916.64                    </td><td>NA                            </td><td>NA                            </td></tr>\n",
       "</tbody>\n",
       "</table>\n"
      ],
      "text/latex": [
       "\\begin{tabular}{r|lllllllllllllllllllllllllllllllllllllllllllllllllllllllllll}\n",
       " color & director\\_name & num\\_critic\\_for\\_reviews & duration & director\\_facebook\\_likes & actor\\_3\\_facebook\\_likes & actor\\_2\\_name & actor\\_1\\_facebook\\_likes & gross & genres & ... & genres\\_Short & genres\\_Sport & genres\\_Thriller & genres\\_War & genres\\_Western & currency & budget\\_us & gross\\_2016 & budget\\_2016 & profit\\\\\n",
       "\\hline\n",
       "\t Color                                                                                   & Joon-ho Bong                                                                            & 363                                                                                     & 110                                                                                     &   584                                                                                   &    74                                                                                   & Kang-ho Song                                                                            &   629                                                                                   &   2201412                                                                               & Comedy\\textbar{}Drama\\textbar{}Horror\\textbar{}Sci-Fi                                & ...                                                                                     & 0                                                                                       & 0                                                                                       & 0                                                                                       & 0                                                                                       & 0                                                                                       & KOR                                                                                     &  12793905                                                                               &   2620914.8                                                                             &  15231922                                                                               &  -12611007                                                                             \\\\\n",
       "\t Color                                                               & Chan-wook Park                                                      & 202                                                                 & 112                                                                 &    NA                                                               &    38                                                               & Yeong-ae Lee                                                        &   717                                                               &    211667                                                           & Crime\\textbar{}Drama                                               & ...                                                                 & 0                                                                   & 0                                                                   & 0                                                                   & 0                                                                   & 0                                                                   & KOR                                                                 &   4101095                                                           &    260131.9                                                         &   5040113                                                           &   -4779981                                                         \\\\\n",
       "\t Color                                                                         & Lajos Koltai                                                                  &  73                                                                           & 134                                                                           &    45                                                                         &     0                                                                         & PÃ©ter Fancsikai                                                              &     9                                                                         &    195888                                                                     & Drama\\textbar{}Romance\\textbar{}War                                         & ...                                                                           & 0                                                                             & 0                                                                             & 0                                                                             & 1                                                                             & 0                                                                             & HUN                                                                           &  12526148                                                                     &    240740.0                                                                   &  15394231                                                                     &  -15153491                                                                   \\\\\n",
       "\t Color                                                                         & Hayao Miyazaki                                                                & 174                                                                           & 134                                                                           &  6000                                                                         &   745                                                                         & Jada Pinkett Smith                                                            &   893                                                                         &   2298191                                                                     & Adventure\\textbar{}Animation\\textbar{}Fantasy                               & ...                                                                           & 0                                                                             & 0                                                                             & 0                                                                             & 0                                                                             & 0                                                                             & JPN                                                                           &  19836208                                                                     &   3436293.2                                                                   &  29659426                                                                     &  -26223133                                                                   \\\\\n",
       "\t Color                                                                                                       & Katsuhiro Ã”tomo                                                                                            & 105                                                                                                         & 103                                                                                                         &    78                                                                                                       &   101                                                                                                       & Robin Atkin Downes                                                                                          &   488                                                                                                       &    410388                                                                                                   & Action\\textbar{}Adventure\\textbar{}Animation\\textbar{}Family\\textbar{}Sci-Fi\\textbar{}Thriller         & ...                                                                                                         & 0                                                                                                           & 0                                                                                                           & 1                                                                                                           & 0                                                                                                           & 0                                                                                                           & JPN                                                                                                         &  19664196                                                                                                   &    521465.0                                                                                                 &  24986575                                                                                                   &  -24465109                                                                                                 \\\\\n",
       "\t Color                                                                         & Katsuhiro Ã”tomo                                                              & 150                                                                           & 124                                                                           &    78                                                                         &     4                                                                         & Takeshi Kusao                                                                 &     6                                                                         &    439162                                                                     & Action\\textbar{}Animation\\textbar{}Sci-Fi                                   & ...                                                                           & 0                                                                             & 0                                                                             & 0                                                                             & 0                                                                             & 0                                                                             & JPN                                                                           &   8583579                                                                     &    891286.1                                                                   &  17420507                                                                     &  -16529221                                                                   \\\\\n",
       "\t Color                                                                                             & Takao Okawara                                                                                     & 107                                                                                               &  99                                                                                               &     2                                                                                             &     3                                                                                             & Naomi Nishida                                                                                     &    43                                                                                             &  10037390                                                                                         & Action\\textbar{}Adventure\\textbar{}Drama\\textbar{}Sci-Fi\\textbar{}Thriller                    & ...                                                                                               & 0                                                                                                 & 0                                                                                                 & 1                                                                                                 & 0                                                                                                 & 0                                                                                                 & JPN                                                                                               &   8779106                                                                                         &  14462224.8                                                                                       &  12649245                                                                                         &    1812980                                                                                       \\\\\n",
       "\t Color                                                     & Karan Johar                                               &  20                                                       & 193                                                       &   160                                                     &   860                                                     & John Abraham                                              &  8000                                                     &   3275443                                                 & Drama                                                     & ...                                                       & 0                                                         & 0                                                         & 0                                                         & 0                                                         & 0                                                         & IND                                                       &  15450148                                                 &   3899614.0                                               &  18394340                                                 &  -14494726                                               \\\\\n",
       "\t Color                                                               & Carlos Saura                                                        &  35                                                                 & 115                                                                 &    98                                                               &     4                                                               & Juan Luis Galiardo                                                  &   341                                                               &   1687311                                                           & Drama\\textbar{}Musical                                             & ...                                                                 & 0                                                                   & 0                                                                   & 0                                                                   & 0                                                                   & 0                                                                   & ESP                                                                 &   4604024                                                           &   2484331.4                                                         &   6778787                                                           &   -4294455                                                         \\\\\n",
       "\t Color                                                                                   & Anurag Basu                                                                             &  41                                                                                     &  90                                                                                     &   116                                                                                   &   303                                                                                   & Steven Michael Quezada                                                                  &   594                                                                                   &   1602466                                                                               & Action\\textbar{}Drama\\textbar{}Romance\\textbar{}Thriller                             & ...                                                                                     & 0                                                                                       & 0                                                                                       & 1                                                                                       & 0                                                                                       & 0                                                                                       & IND                                                                                     &  13121691                                                                               &   1763786.3                                                                             &  14442652                                                                               &  -12678865                                                                             \\\\\n",
       "\t Color                                                                                             & John Woo                                                                                          & 160                                                                                               & 150                                                                                               &   610                                                                                             &   478                                                                                             & Tony Chiu Wai Leung                                                                               &   755                                                                                             &    626809                                                                                         & Action\\textbar{}Adventure\\textbar{}Drama\\textbar{}History\\textbar{}War                        & ...                                                                                               & 0                                                                                                 & 0                                                                                                 & 0                                                                                                 & 1                                                                                                 & 0                                                                                                 & CHN                                                                                               &  79674699                                                                                         &    698731.5                                                                                       &  88816882                                                                                         &  -88118150                                                                                       \\\\\n",
       "\t Color                                                                                             & Chatrichalerm Yukol                                                                               &  31                                                                                               & 300                                                                                               &     6                                                                                             &     6                                                                                             & Chatchai Plengpanich                                                                              &     7                                                                                             &    454255                                                                                         & Action\\textbar{}Adventure\\textbar{}Drama\\textbar{}History\\textbar{}War                        & ...                                                                                               & 0                                                                                                 & 0                                                                                                 & 0                                                                                                 & 1                                                                                                 & 0                                                                                                 & THA                                                                                               &   9134505                                                                                         &    615725.4                                                                                       &  12381475                                                                                         &  -11765749                                                                                       \\\\\n",
       "\t Color                                                                                             & Luc Besson                                                                                        & 111                                                                                               & 158                                                                                               &    NA                                                                                             &    15                                                                                             & David Bailie                                                                                      &    51                                                                                             &  14131298                                                                                         & Adventure\\textbar{}Biography\\textbar{}Drama\\textbar{}History\\textbar{}War                     & ...                                                                                               & 0                                                                                                 & 0                                                                                                 & 0                                                                                                 & 1                                                                                                 & 0                                                                                                 & FRA                                                                                               &  65000000                                                                                         &  20360871.5                                                                                       &  93654288                                                                                         &  -73293416                                                                                       \\\\\n",
       "\t Color                                                                         & Gore Verbinski                                                                & 302                                                                           & 169                                                                           &   563                                                                         &  1000                                                                         & Orlando Bloom                                                                 & 40000                                                                         & 309404152                                                                     & Action\\textbar{}Adventure\\textbar{}Fantasy                                  & ...                                                                           & 0                                                                             & 0                                                                             & 0                                                                             & 0                                                                             & 0                                                                             & NA                                                                            & 300000000                                                                     & 358147700.4                                                                   & 347262018                                                                     &   10885683                                                                   \\\\\n",
       "\t Color                                                     & Tony Jaa                                                  & 110                                                       & 110                                                       &    NA                                                     &     7                                                     & Petchtai Wongkamlao                                       &    64                                                     &    102055                                                 & Action                                                    & ...                                                       & 0                                                         & 0                                                         & 0                                                         & 0                                                         & 0                                                         & THA                                                       &   8522146                                                 &    113765.2                                               &   9500010                                                 &   -9386245                                               \\\\\n",
       "\t Color                                                                         & Andrew Stanton                                                                & 462                                                                           & 132                                                                           &   475                                                                         &   530                                                                         & Samantha Morton                                                               &   640                                                                         &  73058679                                                                     & Action\\textbar{}Adventure\\textbar{}Sci-Fi                                   & ...                                                                           & 0                                                                             & 0                                                                             & 0                                                                             & 0                                                                             & 0                                                                             & NA                                                                            & 263700000                                                                     &  76372258.2                                                                   & 275660124                                                                     & -199287865                                                                   \\\\\n",
       "\t Color                                                                                                                 & Nathan Greno                                                                                                          & 324                                                                                                                   & 100                                                                                                                   &    15                                                                                                                 &   284                                                                                                                 & Donna Murphy                                                                                                          &   799                                                                                                                 & 200807262                                                                                                             & Adventure\\textbar{}Animation\\textbar{}Comedy\\textbar{}Family\\textbar{}Fantasy\\textbar{}Musical\\textbar{}Romance & ...                                                                                                                   & 0                                                                                                                     & 0                                                                                                                     & 0                                                                                                                     & 0                                                                                                                     & 0                                                                                                                     & NA                                                                                                                    & 260000000                                                                                                             & 221022529.1                                                                                                           & 286174200                                                                                                             &  -65151671                                                                                                           \\\\\n",
       "\t Color                                                                         & Sam Raimi                                                                     & 392                                                                           & 156                                                                           &    NA                                                                         &  4000                                                                         & James Franco                                                                  & 24000                                                                         & 336530303                                                                     & Action\\textbar{}Adventure\\textbar{}Romance                                  & ...                                                                           & 0                                                                             & 0                                                                             & 0                                                                             & 0                                                                             & 0                                                                             & USA                                                                           & 258000000                                                                     & 389547306.8                                                                   & 298645335                                                                     &   90901972                                                                   \\\\\n",
       "\t Color                                                               & Christopher Nolan                                                   & 813                                                                 & 164                                                                 & 22000                                                               & 23000                                                               & Christian Bale                                                      & 27000                                                               & 448130642                                                           & Action\\textbar{}Thriller                                           & ...                                                                 & 0                                                                   & 0                                                                   & 1                                                                   & 0                                                                   & 0                                                                   & NA                                                                  & 250000000                                                           & 468455624.3                                                         & 261338760                                                           &  207116865                                                         \\\\\n",
       "\t Color                                                                         & Joss Whedon                                                                   & 635                                                                           & 141                                                                           &    NA                                                                         & 19000                                                                         & Robert Downey Jr.                                                             & 26000                                                                         & 458991599                                                                     & Action\\textbar{}Adventure\\textbar{}Sci-Fi                                   & ...                                                                           & 0                                                                             & 0                                                                             & 0                                                                             & 0                                                                             & 0                                                                             & NA                                                                            & 250000000                                                                     & 464782215.9                                                                   & 253153989                                                                     &  211628227                                                                   \\\\\n",
       "\t Color                                                                                   & David Yates                                                                             & 375                                                                                     & 153                                                                                     &   282                                                                                   & 10000                                                                                   & Daniel Radcliffe                                                                        & 25000                                                                                   & 301956980                                                                               & Adventure\\textbar{}Family\\textbar{}Fantasy\\textbar{}Mystery                          & ...                                                                                     & 0                                                                                       & 0                                                                                       & 0                                                                                       & 0                                                                                       & 0                                                                                       & NA                                                                                      & 250000000                                                                               & 337805755.3                                                                             & 279680367                                                                               &   58125389                                                                             \\\\\n",
       "\t Color                                                                         & Zack Snyder                                                                   & 673                                                                           & 183                                                                           &    NA                                                                         &  2000                                                                         & Lauren Cohan                                                                  & 15000                                                                         & 330249062                                                                     & Action\\textbar{}Adventure\\textbar{}Sci-Fi                                   & ...                                                                           & 0                                                                             & 0                                                                             & 0                                                                             & 0                                                                             & 0                                                                             & NA                                                                            & 250000000                                                                     & 330249062.0                                                                   & 250000000                                                                     &   80249062                                                                   \\\\\n",
       "\t Color                                                                         & Rob Marshall                                                                  & 448                                                                           & 136                                                                           &   252                                                                         &  1000                                                                         & Sam Claflin                                                                   & 40000                                                                         & 241063875                                                                     & Action\\textbar{}Adventure\\textbar{}Fantasy                                  & ...                                                                           & 0                                                                             & 0                                                                             & 0                                                                             & 0                                                                             & 0                                                                             & USA                                                                           & 250000000                                                                     & 257212103.7                                                                   & 266746836                                                                     &   -9534732                                                                   \\\\\n",
       "\t Color                                                               & Peter Jackson                                                       & 422                                                                 & 164                                                                 &    NA                                                               &   773                                                               & Adam Brown                                                          &  5000                                                               & 255108370                                                           & Adventure\\textbar{}Fantasy                                         & ...                                                                 & 0                                                                   & 0                                                                   & 0                                                                   & 0                                                                   & 0                                                                   & USA                                                                 & 250000000                                                           & 258633275.6                                                         & 253454322                                                           &    5178954                                                         \\\\\n",
       "\t Color                                                                         & Anthony Russo                                                                 & 516                                                                           & 147                                                                           &    94                                                                         & 11000                                                                         & Scarlett Johansson                                                            & 21000                                                                         & 407197282                                                                     & Action\\textbar{}Adventure\\textbar{}Sci-Fi                                   & ...                                                                           & 0                                                                             & 0                                                                             & 0                                                                             & 0                                                                             & 0                                                                             & USA                                                                           & 250000000                                                                     & 407197282.0                                                                   & 250000000                                                                     &  157197282                                                                   \\\\\n",
       "\t Color                                                                         & Sam Mendes                                                                    & 602                                                                           & 148                                                                           &    NA                                                                         &   161                                                                         & Rory Kinnear                                                                  & 11000                                                                         & 200074175                                                                     & Action\\textbar{}Adventure\\textbar{}Thriller                                 & ...                                                                           & 0                                                                             & 0                                                                             & 1                                                                             & 0                                                                             & 0                                                                             & NA                                                                            & 245000000                                                                     & 202598301.6                                                                   & 248090909                                                                     &  -45492607                                                                   \\\\\n",
       "\t Color                                                                                   & James Cameron                                                                           & 723                                                                                     & 178                                                                                     &    NA                                                                                   &   855                                                                                   & Joel David Moore                                                                        &  1000                                                                                   & 760505847                                                                               & Action\\textbar{}Adventure\\textbar{}Fantasy\\textbar{}Sci-Fi                           & ...                                                                                     & 0                                                                                       & 0                                                                                       & 0                                                                                       & 0                                                                                       & 0                                                                                       & NA                                                                                      & 237000000                                                                               & 850794216.1                                                                             & 265136987                                                                               &  585657229                                                                             \\\\\n",
       "\t Color                                                                         & Marc Webb                                                                     & 599                                                                           & 153                                                                           &   464                                                                         &   963                                                                         & Andrew Garfield                                                               & 15000                                                                         & 262030663                                                                     & Action\\textbar{}Adventure\\textbar{}Fantasy                                  & ...                                                                           & 0                                                                             & 0                                                                             & 0                                                                             & 0                                                                             & 0                                                                             & USA                                                                           & 230000000                                                                     & 273915073.7                                                                   & 240431659                                                                     &   33483415                                                                   \\\\\n",
       "\t Color                                                                         & Gore Verbinski                                                                & 313                                                                           & 151                                                                           &   563                                                                         &  1000                                                                         & Orlando Bloom                                                                 & 40000                                                                         & 423032628                                                                     & Action\\textbar{}Adventure\\textbar{}Fantasy                                  & ...                                                                           & 0                                                                             & 0                                                                             & 0                                                                             & 0                                                                             & 0                                                                             & USA                                                                           & 225000000                                                                     & 503646060.6                                                                   & 267876178                                                                     &  235769882                                                                   \\\\\n",
       "\t Color                                                                                   & Zack Snyder                                                                             & 733                                                                                     & 143                                                                                     &    NA                                                                                   &   748                                                                                   & Christopher Meloni                                                                      & 15000                                                                                   & 291021565                                                                               & Action\\textbar{}Adventure\\textbar{}Fantasy\\textbar{}Sci-Fi                           & ...                                                                                     & 0                                                                                       & 0                                                                                       & 0                                                                                       & 0                                                                                       & 0                                                                                       & USA                                                                                     & 225000000                                                                               & 299828992.2                                                                             & 231809362                                                                               &   68019630                                                                             \\\\\n",
       "\t ... & ... & ... & ... & ... & ... & ... & ... & ... & ... &     & ... & ... & ... & ... & ... & ... & ... & ... & ... & ...\\\\\n",
       "\t Color                          & Niall Johnson                  &   4                            & 114                            &     7                          &   2                            & Mark Caven                     &    19                          &     NA                         & Drama                          & ...                            & 0                              & 0                              & 0                              & 0                              & 0                              & USA                            & NA                             &         NA                     & NA                             & NA                            \\\\\n",
       "\t Color                          & Florence Ayisi                 &  27                            & 104                            &    NA                          &  NA                            & Beatrice Ntuba                 &     2                          &  32631                         & Documentary                    & ...                            & 0                              & 0                              & 0                              & 0                              & 0                              & USA                            & NA                             &   40102.45                     & NA                             & NA                            \\\\\n",
       "\t Color                          & Pece Dingo                     &   1                            &  94                            &    NA                          &  87                            & Wilhelm von Homburg            &   156                          &     NA                         & Horror                         & ...                            & 0                              & 0                              & 0                              & 0                              & 0                              & USA                            & NA                             &         NA                     & NA                             & NA                            \\\\\n",
       "\t Color                                    & Michael Kang                             &  27                                      &  75                                      &   269                                    &   7                                      & Clint Jordan                             &   100                                    &  47111                                   & Comedy\\textbar{}Drama                   & ...                                      & 0                                        & 0                                        & 0                                        & 0                                        & 0                                        & USA                                      & NA                                       &   57897.90                               & NA                                       & NA                                      \\\\\n",
       "\t Color                          & Lori Silverbush                &  26                            &  86                            &     5                          &  41                            & Flaco Navaja                   &    68                          &     NA                         & Drama                          & ...                            & 0                              & 0                              & 0                              & 0                              & 0                              & USA                            & NA                             &         NA                     & NA                             & NA                            \\\\\n",
       "\t Color                                    & Stuart Hazeldine                         &  77                                      & 101                                      &    17                                    & 289                                      & Luke Mably                               &   766                                    &     NA                                   & Mystery\\textbar{}Thriller               & ...                                      & 0                                        & 0                                        & 1                                        & 0                                        & 0                                        & USA                                      & NA                                       &         NA                               & NA                                       & NA                                      \\\\\n",
       "\t Color                                    & Jason Naumann                            &  NA                                      &  35                                      &     2                                    & 152                                      & Kate Flannery                            &   338                                    &     NA                                   & Comedy\\textbar{}Short                   & ...                                      & 1                                        & 0                                        & 0                                        & 0                                        & 0                                        & USA                                      & NA                                       &         NA                               & NA                                       & NA                                      \\\\\n",
       "\t Color                                    & Matt Cimber                              &  15                                      & 108                                      &    32                                    & 180                                      & June Lockhart                            &   602                                    &     NA                                   & Crime\\textbar{}Drama                    & ...                                      & 0                                        & 0                                        & 0                                        & 0                                        & 0                                        & USA                                      & NA                                       &         NA                               & NA                                       & NA                                      \\\\\n",
       "\t Color                                                        & Nicolas Winding Refn                                         & 225                                                          &  92                                                          &    NA                                                        & 146                                                          & James Lance                                                  & 27000                                                        & 104792                                                       & Action\\textbar{}Biography\\textbar{}Crime\\textbar{}Drama   & ...                                                          & 0                                                            & 0                                                            & 0                                                            & 0                                                            & 0                                                            & USA                                                          & NA                                                           &  116816.24                                                   & NA                                                           & NA                                                          \\\\\n",
       "\t Color                                              & Tom Tykwer                                         &  76                                                & 119                                                &   670                                              &   9                                                & Sebastian Schipper                                 &    24                                              &  59774                                             & Comedy\\textbar{}Drama\\textbar{}Romance           & ...                                                & 0                                                  & 0                                                  & 0                                                  & 0                                                  & 0                                                  & USA                                                & NA                                                 &   65791.45                                         & NA                                                 & NA                                                \\\\\n",
       "\t Color                                                        & Livingston Oden                                              &   1                                                          &  89                                                          &    NA                                                        &  15                                                          & Victoria Lachelle                                            &   138                                                        &     NA                                                       & Comedy\\textbar{}Horror\\textbar{}Mystery\\textbar{}Thriller & ...                                                          & 0                                                            & 0                                                            & 1                                                            & 0                                                            & 0                                                            & USA                                                          & NA                                                           &         NA                                                   & NA                                                           & NA                                                          \\\\\n",
       "\t Black and White                          & Carl Theodor Dreyer                      &  54                                      & 126                                      &   147                                    &   0                                      & Sylvia Eckhausen                         &     0                                    &     NA                                   & Drama\\textbar{}Fantasy                  & ...                                      & 0                                        & 0                                        & 0                                        & 0                                        & 0                                        & USA                                      & NA                                       &         NA                               & NA                                       & NA                                      \\\\\n",
       "\t Color                          & Pat Holden                     &  44                            &  86                            &     6                          & 115                            & Martin Compston                &   498                          &     NA                         & Horror                         & ...                            & 0                              & 0                              & 0                              & 0                              & 0                              & USA                            & NA                             &         NA                     & NA                             & NA                            \\\\\n",
       "\t Color                                                        & Zal Batmanglij                                               & 136                                                          &  85                                                          &   129                                                        & 100                                                          & James Urbaniak                                               &   120                                                        & 405614                                                       & Drama\\textbar{}Mystery\\textbar{}Sci-Fi\\textbar{}Thriller  & ...                                                          & 0                                                            & 0                                                            & 1                                                            & 0                                                            & 0                                                            & USA                                                          & NA                                                           &  432785.00                                                   & NA                                                           & NA                                                          \\\\\n",
       "\t Black and White                          & John Reinhardt                           &   1                                      &  68                                      &     2                                    &  75                                      & John Ireland                             &   142                                    &     NA                                   & Crime\\textbar{}Drama                    & ...                                      & 0                                        & 0                                        & 0                                        & 0                                        & 0                                        & USA                                      & NA                                       &         NA                               & NA                                       & NA                                      \\\\\n",
       "\t Color                                              & Laslo Benedek                                      &  14                                                & 106                                                &     6                                              &  13                                                & Trevor Howard                                      &   440                                              &     NA                                             & Crime\\textbar{}Horror\\textbar{}Thriller          & ...                                                & 0                                                  & 0                                                  & 1                                                  & 0                                                  & 0                                                  & USA                                                & NA                                                 &         NA                                         & NA                                                 & NA                                                \\\\\n",
       "\t Color                                    & Julie Davis                              &   5                                      &  86                                      &    12                                    & 117                                      & Meredith Scott Lynn                      &   238                                    &  33598                                   & Comedy\\textbar{}Romance                 & ...                                      & 0                                        & 0                                        & 0                                        & 0                                        & 0                                        & USA                                      & NA                                       &   50236.28                               & NA                                       & NA                                      \\\\\n",
       "\t Color                          & Daniel Schechter               &  15                            &  87                            &     8                          & 272                            & Kevin Corrigan                 &   969                          &     NA                         & Comedy                         & ...                            & 0                              & 0                              & 0                              & 0                              & 0                              & USA                            & NA                             &         NA                     & NA                             & NA                            \\\\\n",
       "\t Color                                              & Bruno Barreto                                      &   1                                                &  99                                                &     9                                              &   3                                                & Sonia Braga                                        &   866                                              &     NA                                             & Comedy\\textbar{}Drama\\textbar{}Romance           & ...                                                & 0                                                  & 0                                                  & 0                                                  & 0                                                  & 0                                                  & USA                                                & NA                                                 &         NA                                         & NA                                                 & NA                                                \\\\\n",
       "\t Color                                    & Daniel Mellitz                           &  NA                                      &  NA                                      &    NA                                    &  15                                      & Chelse Swain                             &  1000                                    &     NA                                   & Comedy\\textbar{}Drama                   & ...                                      & 0                                        & 0                                        & 0                                        & 0                                        & 0                                        & USA                                      & NA                                       &         NA                               & NA                                       & NA                                      \\\\\n",
       "\t Color                                    & Martin Scorsese                          &  71                                      & 117                                      & 17000                                    & 476                                      & Levon Helm                               &   725                                    & 321952                                   & Documentary\\textbar{}Music              & ...                                      & 0                                        & 0                                        & 0                                        & 0                                        & 0                                        & USA                                      & NA                                       & 1184529.14                               & NA                                       & NA                                      \\\\\n",
       "\t Color                          & Bradley Rust Gray              &  61                            &  79                            &     2                          &  20                            & Mark Rendall                   &   962                          &  24705                         & Drama                          & ...                            & 0                              & 0                              & 0                              & 0                              & 0                              & USA                            & NA                             &   27638.01                     & NA                             & NA                            \\\\\n",
       "\t Black and White                & Andrew Bujalski                &  52                            & 109                            &    26                          &   3                            & Kate Dollenmayer               &    26                          &     NA                         & Comedy                         & ...                            & 0                              & 0                              & 0                              & 0                              & 0                              & USA                            & NA                             &         NA                     & NA                             & NA                            \\\\\n",
       "\t Color                                              & Ben Wheatley                                       &  53                                                &  93                                                &   214                                              &  59                                                & Tony Way                                           &   177                                              &   9609                                             & Comedy\\textbar{}Crime\\textbar{}Drama             & ...                                                & 0                                                  & 0                                                  & 0                                                  & 0                                                  & 0                                                  & USA                                                & NA                                                 &   10749.79                                         & NA                                                 & NA                                                \\\\\n",
       "\t Color                                    & Andrew Bujalski                          &  43                                      &  85                                      &    26                                    &   3                                      & Kate Dollenmayer                         &    26                                    &     NA                                   & Comedy\\textbar{}Drama                   & ...                                      & 0                                        & 0                                        & 0                                        & 0                                        & 0                                        & USA                                      & NA                                       &         NA                               & NA                                       & NA                                      \\\\\n",
       "\t Color                                              & Uwe Boll                                           &  58                                                &  80                                                &   892                                              & 492                                                & Katharine Isabelle                                 &   986                                              &     NA                                             & Action\\textbar{}Crime\\textbar{}Thriller          & ...                                                & 0                                                  & 0                                                  & 1                                                  & 0                                                  & 0                                                  & USA                                                & NA                                                 &         NA                                         & NA                                                 & NA                                                \\\\\n",
       "\t Color                                              & Marcus Nispel                                      &  43                                                &  91                                                &   158                                              & 265                                                & Brittany Curran                                    &   630                                              &     NA                                             & Horror\\textbar{}Mystery\\textbar{}Thriller        & ...                                                & 0                                                  & 0                                                  & 1                                                  & 0                                                  & 0                                                  & USA                                                & NA                                                 &         NA                                         & NA                                                 & NA                                                \\\\\n",
       "\t Color                                    & Ash Baron-Cohen                          &  10                                      &  98                                      &     3                                    & 152                                      & Stanley B. Herman                        &   789                                    &     NA                                   & Crime\\textbar{}Drama                    & ...                                      & 0                                        & 0                                        & 0                                        & 0                                        & 0                                        & NA                                       & NA                                       &         NA                               & NA                                       & NA                                      \\\\\n",
       "\t Color                                    & Scott Smith                              &   1                                      &  87                                      &     2                                    & 318                                      & Daphne Zuniga                            &   637                                    &     NA                                   & Comedy\\textbar{}Drama                   & ...                                      & 0                                        & 0                                        & 0                                        & 0                                        & 0                                        & NA                                       & NA                                       &         NA                               & NA                                       & NA                                      \\\\\n",
       "\t Color                                              & Daniel Hsia                                        &  14                                                & 100                                                &    NA                                              & 489                                                & Daniel Henney                                      &   946                                              &  10443                                             & Comedy\\textbar{}Drama\\textbar{}Romance           & ...                                                & 0                                                  & 0                                                  & 0                                                  & 0                                                  & 0                                                  & NA                                                 & NA                                                 &   10916.64                                         & NA                                                 & NA                                                \\\\\n",
       "\\end{tabular}\n"
      ],
      "text/markdown": [
       "\n",
       "color | director_name | num_critic_for_reviews | duration | director_facebook_likes | actor_3_facebook_likes | actor_2_name | actor_1_facebook_likes | gross | genres | ... | genres_Short | genres_Sport | genres_Thriller | genres_War | genres_Western | currency | budget_us | gross_2016 | budget_2016 | profit | \n",
       "|---|---|---|---|---|---|---|---|---|---|---|---|---|---|---|---|---|---|---|---|---|---|---|---|---|---|---|---|---|---|---|---|---|---|---|---|---|---|---|---|---|---|---|---|---|---|---|---|---|---|---|---|---|---|---|---|---|---|---|---|---|\n",
       "| Color                                                     | Joon-ho Bong                                              | 363                                                       | 110                                                       |   584                                                     |    74                                                     | Kang-ho Song                                              |   629                                                     |   2201412                                                 | Comedy|Drama|Horror|Sci-Fi                                | ...                                                       | 0                                                         | 0                                                         | 0                                                         | 0                                                         | 0                                                         | KOR                                                       |  12793905                                                 |   2620914.8                                               |  15231922                                                 |  -12611007                                                | \n",
       "| Color                                                     | Chan-wook Park                                            | 202                                                       | 112                                                       |    NA                                                     |    38                                                     | Yeong-ae Lee                                              |   717                                                     |    211667                                                 | Crime|Drama                                               | ...                                                       | 0                                                         | 0                                                         | 0                                                         | 0                                                         | 0                                                         | KOR                                                       |   4101095                                                 |    260131.9                                               |   5040113                                                 |   -4779981                                                | \n",
       "| Color                                                     | Lajos Koltai                                              |  73                                                       | 134                                                       |    45                                                     |     0                                                     | PÃ©ter Fancsikai                                          |     9                                                     |    195888                                                 | Drama|Romance|War                                         | ...                                                       | 0                                                         | 0                                                         | 0                                                         | 1                                                         | 0                                                         | HUN                                                       |  12526148                                                 |    240740.0                                               |  15394231                                                 |  -15153491                                                | \n",
       "| Color                                                     | Hayao Miyazaki                                            | 174                                                       | 134                                                       |  6000                                                     |   745                                                     | Jada Pinkett Smith                                        |   893                                                     |   2298191                                                 | Adventure|Animation|Fantasy                               | ...                                                       | 0                                                         | 0                                                         | 0                                                         | 0                                                         | 0                                                         | JPN                                                       |  19836208                                                 |   3436293.2                                               |  29659426                                                 |  -26223133                                                | \n",
       "| Color                                                     | Katsuhiro Ã”tomo                                          | 105                                                       | 103                                                       |    78                                                     |   101                                                     | Robin Atkin Downes                                        |   488                                                     |    410388                                                 | Action|Adventure|Animation|Family|Sci-Fi|Thriller         | ...                                                       | 0                                                         | 0                                                         | 1                                                         | 0                                                         | 0                                                         | JPN                                                       |  19664196                                                 |    521465.0                                               |  24986575                                                 |  -24465109                                                | \n",
       "| Color                                                     | Katsuhiro Ã”tomo                                          | 150                                                       | 124                                                       |    78                                                     |     4                                                     | Takeshi Kusao                                             |     6                                                     |    439162                                                 | Action|Animation|Sci-Fi                                   | ...                                                       | 0                                                         | 0                                                         | 0                                                         | 0                                                         | 0                                                         | JPN                                                       |   8583579                                                 |    891286.1                                               |  17420507                                                 |  -16529221                                                | \n",
       "| Color                                                     | Takao Okawara                                             | 107                                                       |  99                                                       |     2                                                     |     3                                                     | Naomi Nishida                                             |    43                                                     |  10037390                                                 | Action|Adventure|Drama|Sci-Fi|Thriller                    | ...                                                       | 0                                                         | 0                                                         | 1                                                         | 0                                                         | 0                                                         | JPN                                                       |   8779106                                                 |  14462224.8                                               |  12649245                                                 |    1812980                                                | \n",
       "| Color                                                     | Karan Johar                                               |  20                                                       | 193                                                       |   160                                                     |   860                                                     | John Abraham                                              |  8000                                                     |   3275443                                                 | Drama                                                     | ...                                                       | 0                                                         | 0                                                         | 0                                                         | 0                                                         | 0                                                         | IND                                                       |  15450148                                                 |   3899614.0                                               |  18394340                                                 |  -14494726                                                | \n",
       "| Color                                                     | Carlos Saura                                              |  35                                                       | 115                                                       |    98                                                     |     4                                                     | Juan Luis Galiardo                                        |   341                                                     |   1687311                                                 | Drama|Musical                                             | ...                                                       | 0                                                         | 0                                                         | 0                                                         | 0                                                         | 0                                                         | ESP                                                       |   4604024                                                 |   2484331.4                                               |   6778787                                                 |   -4294455                                                | \n",
       "| Color                                                     | Anurag Basu                                               |  41                                                       |  90                                                       |   116                                                     |   303                                                     | Steven Michael Quezada                                    |   594                                                     |   1602466                                                 | Action|Drama|Romance|Thriller                             | ...                                                       | 0                                                         | 0                                                         | 1                                                         | 0                                                         | 0                                                         | IND                                                       |  13121691                                                 |   1763786.3                                               |  14442652                                                 |  -12678865                                                | \n",
       "| Color                                                     | John Woo                                                  | 160                                                       | 150                                                       |   610                                                     |   478                                                     | Tony Chiu Wai Leung                                       |   755                                                     |    626809                                                 | Action|Adventure|Drama|History|War                        | ...                                                       | 0                                                         | 0                                                         | 0                                                         | 1                                                         | 0                                                         | CHN                                                       |  79674699                                                 |    698731.5                                               |  88816882                                                 |  -88118150                                                | \n",
       "| Color                                                     | Chatrichalerm Yukol                                       |  31                                                       | 300                                                       |     6                                                     |     6                                                     | Chatchai Plengpanich                                      |     7                                                     |    454255                                                 | Action|Adventure|Drama|History|War                        | ...                                                       | 0                                                         | 0                                                         | 0                                                         | 1                                                         | 0                                                         | THA                                                       |   9134505                                                 |    615725.4                                               |  12381475                                                 |  -11765749                                                | \n",
       "| Color                                                     | Luc Besson                                                | 111                                                       | 158                                                       |    NA                                                     |    15                                                     | David Bailie                                              |    51                                                     |  14131298                                                 | Adventure|Biography|Drama|History|War                     | ...                                                       | 0                                                         | 0                                                         | 0                                                         | 1                                                         | 0                                                         | FRA                                                       |  65000000                                                 |  20360871.5                                               |  93654288                                                 |  -73293416                                                | \n",
       "| Color                                                     | Gore Verbinski                                            | 302                                                       | 169                                                       |   563                                                     |  1000                                                     | Orlando Bloom                                             | 40000                                                     | 309404152                                                 | Action|Adventure|Fantasy                                  | ...                                                       | 0                                                         | 0                                                         | 0                                                         | 0                                                         | 0                                                         | NA                                                        | 300000000                                                 | 358147700.4                                               | 347262018                                                 |   10885683                                                | \n",
       "| Color                                                     | Tony Jaa                                                  | 110                                                       | 110                                                       |    NA                                                     |     7                                                     | Petchtai Wongkamlao                                       |    64                                                     |    102055                                                 | Action                                                    | ...                                                       | 0                                                         | 0                                                         | 0                                                         | 0                                                         | 0                                                         | THA                                                       |   8522146                                                 |    113765.2                                               |   9500010                                                 |   -9386245                                                | \n",
       "| Color                                                     | Andrew Stanton                                            | 462                                                       | 132                                                       |   475                                                     |   530                                                     | Samantha Morton                                           |   640                                                     |  73058679                                                 | Action|Adventure|Sci-Fi                                   | ...                                                       | 0                                                         | 0                                                         | 0                                                         | 0                                                         | 0                                                         | NA                                                        | 263700000                                                 |  76372258.2                                               | 275660124                                                 | -199287865                                                | \n",
       "| Color                                                     | Nathan Greno                                              | 324                                                       | 100                                                       |    15                                                     |   284                                                     | Donna Murphy                                              |   799                                                     | 200807262                                                 | Adventure|Animation|Comedy|Family|Fantasy|Musical|Romance | ...                                                       | 0                                                         | 0                                                         | 0                                                         | 0                                                         | 0                                                         | NA                                                        | 260000000                                                 | 221022529.1                                               | 286174200                                                 |  -65151671                                                | \n",
       "| Color                                                     | Sam Raimi                                                 | 392                                                       | 156                                                       |    NA                                                     |  4000                                                     | James Franco                                              | 24000                                                     | 336530303                                                 | Action|Adventure|Romance                                  | ...                                                       | 0                                                         | 0                                                         | 0                                                         | 0                                                         | 0                                                         | USA                                                       | 258000000                                                 | 389547306.8                                               | 298645335                                                 |   90901972                                                | \n",
       "| Color                                                     | Christopher Nolan                                         | 813                                                       | 164                                                       | 22000                                                     | 23000                                                     | Christian Bale                                            | 27000                                                     | 448130642                                                 | Action|Thriller                                           | ...                                                       | 0                                                         | 0                                                         | 1                                                         | 0                                                         | 0                                                         | NA                                                        | 250000000                                                 | 468455624.3                                               | 261338760                                                 |  207116865                                                | \n",
       "| Color                                                     | Joss Whedon                                               | 635                                                       | 141                                                       |    NA                                                     | 19000                                                     | Robert Downey Jr.                                         | 26000                                                     | 458991599                                                 | Action|Adventure|Sci-Fi                                   | ...                                                       | 0                                                         | 0                                                         | 0                                                         | 0                                                         | 0                                                         | NA                                                        | 250000000                                                 | 464782215.9                                               | 253153989                                                 |  211628227                                                | \n",
       "| Color                                                     | David Yates                                               | 375                                                       | 153                                                       |   282                                                     | 10000                                                     | Daniel Radcliffe                                          | 25000                                                     | 301956980                                                 | Adventure|Family|Fantasy|Mystery                          | ...                                                       | 0                                                         | 0                                                         | 0                                                         | 0                                                         | 0                                                         | NA                                                        | 250000000                                                 | 337805755.3                                               | 279680367                                                 |   58125389                                                | \n",
       "| Color                                                     | Zack Snyder                                               | 673                                                       | 183                                                       |    NA                                                     |  2000                                                     | Lauren Cohan                                              | 15000                                                     | 330249062                                                 | Action|Adventure|Sci-Fi                                   | ...                                                       | 0                                                         | 0                                                         | 0                                                         | 0                                                         | 0                                                         | NA                                                        | 250000000                                                 | 330249062.0                                               | 250000000                                                 |   80249062                                                | \n",
       "| Color                                                     | Rob Marshall                                              | 448                                                       | 136                                                       |   252                                                     |  1000                                                     | Sam Claflin                                               | 40000                                                     | 241063875                                                 | Action|Adventure|Fantasy                                  | ...                                                       | 0                                                         | 0                                                         | 0                                                         | 0                                                         | 0                                                         | USA                                                       | 250000000                                                 | 257212103.7                                               | 266746836                                                 |   -9534732                                                | \n",
       "| Color                                                     | Peter Jackson                                             | 422                                                       | 164                                                       |    NA                                                     |   773                                                     | Adam Brown                                                |  5000                                                     | 255108370                                                 | Adventure|Fantasy                                         | ...                                                       | 0                                                         | 0                                                         | 0                                                         | 0                                                         | 0                                                         | USA                                                       | 250000000                                                 | 258633275.6                                               | 253454322                                                 |    5178954                                                | \n",
       "| Color                                                     | Anthony Russo                                             | 516                                                       | 147                                                       |    94                                                     | 11000                                                     | Scarlett Johansson                                        | 21000                                                     | 407197282                                                 | Action|Adventure|Sci-Fi                                   | ...                                                       | 0                                                         | 0                                                         | 0                                                         | 0                                                         | 0                                                         | USA                                                       | 250000000                                                 | 407197282.0                                               | 250000000                                                 |  157197282                                                | \n",
       "| Color                                                     | Sam Mendes                                                | 602                                                       | 148                                                       |    NA                                                     |   161                                                     | Rory Kinnear                                              | 11000                                                     | 200074175                                                 | Action|Adventure|Thriller                                 | ...                                                       | 0                                                         | 0                                                         | 1                                                         | 0                                                         | 0                                                         | NA                                                        | 245000000                                                 | 202598301.6                                               | 248090909                                                 |  -45492607                                                | \n",
       "| Color                                                     | James Cameron                                             | 723                                                       | 178                                                       |    NA                                                     |   855                                                     | Joel David Moore                                          |  1000                                                     | 760505847                                                 | Action|Adventure|Fantasy|Sci-Fi                           | ...                                                       | 0                                                         | 0                                                         | 0                                                         | 0                                                         | 0                                                         | NA                                                        | 237000000                                                 | 850794216.1                                               | 265136987                                                 |  585657229                                                | \n",
       "| Color                                                     | Marc Webb                                                 | 599                                                       | 153                                                       |   464                                                     |   963                                                     | Andrew Garfield                                           | 15000                                                     | 262030663                                                 | Action|Adventure|Fantasy                                  | ...                                                       | 0                                                         | 0                                                         | 0                                                         | 0                                                         | 0                                                         | USA                                                       | 230000000                                                 | 273915073.7                                               | 240431659                                                 |   33483415                                                | \n",
       "| Color                                                     | Gore Verbinski                                            | 313                                                       | 151                                                       |   563                                                     |  1000                                                     | Orlando Bloom                                             | 40000                                                     | 423032628                                                 | Action|Adventure|Fantasy                                  | ...                                                       | 0                                                         | 0                                                         | 0                                                         | 0                                                         | 0                                                         | USA                                                       | 225000000                                                 | 503646060.6                                               | 267876178                                                 |  235769882                                                | \n",
       "| Color                                                     | Zack Snyder                                               | 733                                                       | 143                                                       |    NA                                                     |   748                                                     | Christopher Meloni                                        | 15000                                                     | 291021565                                                 | Action|Adventure|Fantasy|Sci-Fi                           | ...                                                       | 0                                                         | 0                                                         | 0                                                         | 0                                                         | 0                                                         | USA                                                       | 225000000                                                 | 299828992.2                                               | 231809362                                                 |   68019630                                                | \n",
       "| ... | ... | ... | ... | ... | ... | ... | ... | ... | ... |     | ... | ... | ... | ... | ... | ... | ... | ... | ... | ... | \n",
       "| Color                          | Niall Johnson                  |   4                            | 114                            |     7                          |   2                            | Mark Caven                     |    19                          |     NA                         | Drama                          | ...                            | 0                              | 0                              | 0                              | 0                              | 0                              | USA                            | NA                             |         NA                     | NA                             | NA                             | \n",
       "| Color                          | Florence Ayisi                 |  27                            | 104                            |    NA                          |  NA                            | Beatrice Ntuba                 |     2                          |  32631                         | Documentary                    | ...                            | 0                              | 0                              | 0                              | 0                              | 0                              | USA                            | NA                             |   40102.45                     | NA                             | NA                             | \n",
       "| Color                          | Pece Dingo                     |   1                            |  94                            |    NA                          |  87                            | Wilhelm von Homburg            |   156                          |     NA                         | Horror                         | ...                            | 0                              | 0                              | 0                              | 0                              | 0                              | USA                            | NA                             |         NA                     | NA                             | NA                             | \n",
       "| Color                          | Michael Kang                   |  27                            |  75                            |   269                          |   7                            | Clint Jordan                   |   100                          |  47111                         | Comedy|Drama                   | ...                            | 0                              | 0                              | 0                              | 0                              | 0                              | USA                            | NA                             |   57897.90                     | NA                             | NA                             | \n",
       "| Color                          | Lori Silverbush                |  26                            |  86                            |     5                          |  41                            | Flaco Navaja                   |    68                          |     NA                         | Drama                          | ...                            | 0                              | 0                              | 0                              | 0                              | 0                              | USA                            | NA                             |         NA                     | NA                             | NA                             | \n",
       "| Color                          | Stuart Hazeldine               |  77                            | 101                            |    17                          | 289                            | Luke Mably                     |   766                          |     NA                         | Mystery|Thriller               | ...                            | 0                              | 0                              | 1                              | 0                              | 0                              | USA                            | NA                             |         NA                     | NA                             | NA                             | \n",
       "| Color                          | Jason Naumann                  |  NA                            |  35                            |     2                          | 152                            | Kate Flannery                  |   338                          |     NA                         | Comedy|Short                   | ...                            | 1                              | 0                              | 0                              | 0                              | 0                              | USA                            | NA                             |         NA                     | NA                             | NA                             | \n",
       "| Color                          | Matt Cimber                    |  15                            | 108                            |    32                          | 180                            | June Lockhart                  |   602                          |     NA                         | Crime|Drama                    | ...                            | 0                              | 0                              | 0                              | 0                              | 0                              | USA                            | NA                             |         NA                     | NA                             | NA                             | \n",
       "| Color                          | Nicolas Winding Refn           | 225                            |  92                            |    NA                          | 146                            | James Lance                    | 27000                          | 104792                         | Action|Biography|Crime|Drama   | ...                            | 0                              | 0                              | 0                              | 0                              | 0                              | USA                            | NA                             |  116816.24                     | NA                             | NA                             | \n",
       "| Color                          | Tom Tykwer                     |  76                            | 119                            |   670                          |   9                            | Sebastian Schipper             |    24                          |  59774                         | Comedy|Drama|Romance           | ...                            | 0                              | 0                              | 0                              | 0                              | 0                              | USA                            | NA                             |   65791.45                     | NA                             | NA                             | \n",
       "| Color                          | Livingston Oden                |   1                            |  89                            |    NA                          |  15                            | Victoria Lachelle              |   138                          |     NA                         | Comedy|Horror|Mystery|Thriller | ...                            | 0                              | 0                              | 1                              | 0                              | 0                              | USA                            | NA                             |         NA                     | NA                             | NA                             | \n",
       "| Black and White                | Carl Theodor Dreyer            |  54                            | 126                            |   147                          |   0                            | Sylvia Eckhausen               |     0                          |     NA                         | Drama|Fantasy                  | ...                            | 0                              | 0                              | 0                              | 0                              | 0                              | USA                            | NA                             |         NA                     | NA                             | NA                             | \n",
       "| Color                          | Pat Holden                     |  44                            |  86                            |     6                          | 115                            | Martin Compston                |   498                          |     NA                         | Horror                         | ...                            | 0                              | 0                              | 0                              | 0                              | 0                              | USA                            | NA                             |         NA                     | NA                             | NA                             | \n",
       "| Color                          | Zal Batmanglij                 | 136                            |  85                            |   129                          | 100                            | James Urbaniak                 |   120                          | 405614                         | Drama|Mystery|Sci-Fi|Thriller  | ...                            | 0                              | 0                              | 1                              | 0                              | 0                              | USA                            | NA                             |  432785.00                     | NA                             | NA                             | \n",
       "| Black and White                | John Reinhardt                 |   1                            |  68                            |     2                          |  75                            | John Ireland                   |   142                          |     NA                         | Crime|Drama                    | ...                            | 0                              | 0                              | 0                              | 0                              | 0                              | USA                            | NA                             |         NA                     | NA                             | NA                             | \n",
       "| Color                          | Laslo Benedek                  |  14                            | 106                            |     6                          |  13                            | Trevor Howard                  |   440                          |     NA                         | Crime|Horror|Thriller          | ...                            | 0                              | 0                              | 1                              | 0                              | 0                              | USA                            | NA                             |         NA                     | NA                             | NA                             | \n",
       "| Color                          | Julie Davis                    |   5                            |  86                            |    12                          | 117                            | Meredith Scott Lynn            |   238                          |  33598                         | Comedy|Romance                 | ...                            | 0                              | 0                              | 0                              | 0                              | 0                              | USA                            | NA                             |   50236.28                     | NA                             | NA                             | \n",
       "| Color                          | Daniel Schechter               |  15                            |  87                            |     8                          | 272                            | Kevin Corrigan                 |   969                          |     NA                         | Comedy                         | ...                            | 0                              | 0                              | 0                              | 0                              | 0                              | USA                            | NA                             |         NA                     | NA                             | NA                             | \n",
       "| Color                          | Bruno Barreto                  |   1                            |  99                            |     9                          |   3                            | Sonia Braga                    |   866                          |     NA                         | Comedy|Drama|Romance           | ...                            | 0                              | 0                              | 0                              | 0                              | 0                              | USA                            | NA                             |         NA                     | NA                             | NA                             | \n",
       "| Color                          | Daniel Mellitz                 |  NA                            |  NA                            |    NA                          |  15                            | Chelse Swain                   |  1000                          |     NA                         | Comedy|Drama                   | ...                            | 0                              | 0                              | 0                              | 0                              | 0                              | USA                            | NA                             |         NA                     | NA                             | NA                             | \n",
       "| Color                          | Martin Scorsese                |  71                            | 117                            | 17000                          | 476                            | Levon Helm                     |   725                          | 321952                         | Documentary|Music              | ...                            | 0                              | 0                              | 0                              | 0                              | 0                              | USA                            | NA                             | 1184529.14                     | NA                             | NA                             | \n",
       "| Color                          | Bradley Rust Gray              |  61                            |  79                            |     2                          |  20                            | Mark Rendall                   |   962                          |  24705                         | Drama                          | ...                            | 0                              | 0                              | 0                              | 0                              | 0                              | USA                            | NA                             |   27638.01                     | NA                             | NA                             | \n",
       "| Black and White                | Andrew Bujalski                |  52                            | 109                            |    26                          |   3                            | Kate Dollenmayer               |    26                          |     NA                         | Comedy                         | ...                            | 0                              | 0                              | 0                              | 0                              | 0                              | USA                            | NA                             |         NA                     | NA                             | NA                             | \n",
       "| Color                          | Ben Wheatley                   |  53                            |  93                            |   214                          |  59                            | Tony Way                       |   177                          |   9609                         | Comedy|Crime|Drama             | ...                            | 0                              | 0                              | 0                              | 0                              | 0                              | USA                            | NA                             |   10749.79                     | NA                             | NA                             | \n",
       "| Color                          | Andrew Bujalski                |  43                            |  85                            |    26                          |   3                            | Kate Dollenmayer               |    26                          |     NA                         | Comedy|Drama                   | ...                            | 0                              | 0                              | 0                              | 0                              | 0                              | USA                            | NA                             |         NA                     | NA                             | NA                             | \n",
       "| Color                          | Uwe Boll                       |  58                            |  80                            |   892                          | 492                            | Katharine Isabelle             |   986                          |     NA                         | Action|Crime|Thriller          | ...                            | 0                              | 0                              | 1                              | 0                              | 0                              | USA                            | NA                             |         NA                     | NA                             | NA                             | \n",
       "| Color                          | Marcus Nispel                  |  43                            |  91                            |   158                          | 265                            | Brittany Curran                |   630                          |     NA                         | Horror|Mystery|Thriller        | ...                            | 0                              | 0                              | 1                              | 0                              | 0                              | USA                            | NA                             |         NA                     | NA                             | NA                             | \n",
       "| Color                          | Ash Baron-Cohen                |  10                            |  98                            |     3                          | 152                            | Stanley B. Herman              |   789                          |     NA                         | Crime|Drama                    | ...                            | 0                              | 0                              | 0                              | 0                              | 0                              | NA                             | NA                             |         NA                     | NA                             | NA                             | \n",
       "| Color                          | Scott Smith                    |   1                            |  87                            |     2                          | 318                            | Daphne Zuniga                  |   637                          |     NA                         | Comedy|Drama                   | ...                            | 0                              | 0                              | 0                              | 0                              | 0                              | NA                             | NA                             |         NA                     | NA                             | NA                             | \n",
       "| Color                          | Daniel Hsia                    |  14                            | 100                            |    NA                          | 489                            | Daniel Henney                  |   946                          |  10443                         | Comedy|Drama|Romance           | ...                            | 0                              | 0                              | 0                              | 0                              | 0                              | NA                             | NA                             |   10916.64                     | NA                             | NA                             | \n",
       "\n",
       "\n"
      ],
      "text/plain": [
       "     color           director_name        num_critic_for_reviews duration\n",
       "1    Color           Joon-ho Bong         363                    110     \n",
       "2    Color           Chan-wook Park       202                    112     \n",
       "3    Color           Lajos Koltai          73                    134     \n",
       "4    Color           Hayao Miyazaki       174                    134     \n",
       "5    Color           Katsuhiro Ãtomo     105                    103     \n",
       "6    Color           Katsuhiro Ãtomo     150                    124     \n",
       "7    Color           Takao Okawara        107                     99     \n",
       "8    Color           Karan Johar           20                    193     \n",
       "9    Color           Carlos Saura          35                    115     \n",
       "10   Color           Anurag Basu           41                     90     \n",
       "11   Color           John Woo             160                    150     \n",
       "12   Color           Chatrichalerm Yukol   31                    300     \n",
       "13   Color           Luc Besson           111                    158     \n",
       "14   Color           Gore Verbinski       302                    169     \n",
       "15   Color           Tony Jaa             110                    110     \n",
       "16   Color           Andrew Stanton       462                    132     \n",
       "17   Color           Nathan Greno         324                    100     \n",
       "18   Color           Sam Raimi            392                    156     \n",
       "19   Color           Christopher Nolan    813                    164     \n",
       "20   Color           Joss Whedon          635                    141     \n",
       "21   Color           David Yates          375                    153     \n",
       "22   Color           Zack Snyder          673                    183     \n",
       "23   Color           Rob Marshall         448                    136     \n",
       "24   Color           Peter Jackson        422                    164     \n",
       "25   Color           Anthony Russo        516                    147     \n",
       "26   Color           Sam Mendes           602                    148     \n",
       "27   Color           James Cameron        723                    178     \n",
       "28   Color           Marc Webb            599                    153     \n",
       "29   Color           Gore Verbinski       313                    151     \n",
       "30   Color           Zack Snyder          733                    143     \n",
       "...  ...             ...                  ...                    ...     \n",
       "4788 Color           Niall Johnson          4                    114     \n",
       "4789 Color           Florence Ayisi        27                    104     \n",
       "4790 Color           Pece Dingo             1                     94     \n",
       "4791 Color           Michael Kang          27                     75     \n",
       "4792 Color           Lori Silverbush       26                     86     \n",
       "4793 Color           Stuart Hazeldine      77                    101     \n",
       "4794 Color           Jason Naumann         NA                     35     \n",
       "4795 Color           Matt Cimber           15                    108     \n",
       "4796 Color           Nicolas Winding Refn 225                     92     \n",
       "4797 Color           Tom Tykwer            76                    119     \n",
       "4798 Color           Livingston Oden        1                     89     \n",
       "4799 Black and White Carl Theodor Dreyer   54                    126     \n",
       "4800 Color           Pat Holden            44                     86     \n",
       "4801 Color           Zal Batmanglij       136                     85     \n",
       "4802 Black and White John Reinhardt         1                     68     \n",
       "4803 Color           Laslo Benedek         14                    106     \n",
       "4804 Color           Julie Davis            5                     86     \n",
       "4805 Color           Daniel Schechter      15                     87     \n",
       "4806 Color           Bruno Barreto          1                     99     \n",
       "4807 Color           Daniel Mellitz        NA                     NA     \n",
       "4808 Color           Martin Scorsese       71                    117     \n",
       "4809 Color           Bradley Rust Gray     61                     79     \n",
       "4810 Black and White Andrew Bujalski       52                    109     \n",
       "4811 Color           Ben Wheatley          53                     93     \n",
       "4812 Color           Andrew Bujalski       43                     85     \n",
       "4813 Color           Uwe Boll              58                     80     \n",
       "4814 Color           Marcus Nispel         43                     91     \n",
       "4815 Color           Ash Baron-Cohen       10                     98     \n",
       "4816 Color           Scott Smith            1                     87     \n",
       "4817 Color           Daniel Hsia           14                    100     \n",
       "     director_facebook_likes actor_3_facebook_likes actor_2_name          \n",
       "1      584                      74                  Kang-ho Song          \n",
       "2       NA                      38                  Yeong-ae Lee          \n",
       "3       45                       0                  PÃ©ter Fancsikai      \n",
       "4     6000                     745                  Jada Pinkett Smith    \n",
       "5       78                     101                  Robin Atkin Downes    \n",
       "6       78                       4                  Takeshi Kusao         \n",
       "7        2                       3                  Naomi Nishida         \n",
       "8      160                     860                  John Abraham          \n",
       "9       98                       4                  Juan Luis Galiardo    \n",
       "10     116                     303                  Steven Michael Quezada\n",
       "11     610                     478                  Tony Chiu Wai Leung   \n",
       "12       6                       6                  Chatchai Plengpanich  \n",
       "13      NA                      15                  David Bailie          \n",
       "14     563                    1000                  Orlando Bloom         \n",
       "15      NA                       7                  Petchtai Wongkamlao   \n",
       "16     475                     530                  Samantha Morton       \n",
       "17      15                     284                  Donna Murphy          \n",
       "18      NA                    4000                  James Franco          \n",
       "19   22000                   23000                  Christian Bale        \n",
       "20      NA                   19000                  Robert Downey Jr.     \n",
       "21     282                   10000                  Daniel Radcliffe      \n",
       "22      NA                    2000                  Lauren Cohan          \n",
       "23     252                    1000                  Sam Claflin           \n",
       "24      NA                     773                  Adam Brown            \n",
       "25      94                   11000                  Scarlett Johansson    \n",
       "26      NA                     161                  Rory Kinnear          \n",
       "27      NA                     855                  Joel David Moore      \n",
       "28     464                     963                  Andrew Garfield       \n",
       "29     563                    1000                  Orlando Bloom         \n",
       "30      NA                     748                  Christopher Meloni    \n",
       "...  ...                     ...                    ...                   \n",
       "4788     7                     2                    Mark Caven            \n",
       "4789    NA                    NA                    Beatrice Ntuba        \n",
       "4790    NA                    87                    Wilhelm von Homburg   \n",
       "4791   269                     7                    Clint Jordan          \n",
       "4792     5                    41                    Flaco Navaja          \n",
       "4793    17                   289                    Luke Mably            \n",
       "4794     2                   152                    Kate Flannery         \n",
       "4795    32                   180                    June Lockhart         \n",
       "4796    NA                   146                    James Lance           \n",
       "4797   670                     9                    Sebastian Schipper    \n",
       "4798    NA                    15                    Victoria Lachelle     \n",
       "4799   147                     0                    Sylvia Eckhausen      \n",
       "4800     6                   115                    Martin Compston       \n",
       "4801   129                   100                    James Urbaniak        \n",
       "4802     2                    75                    John Ireland          \n",
       "4803     6                    13                    Trevor Howard         \n",
       "4804    12                   117                    Meredith Scott Lynn   \n",
       "4805     8                   272                    Kevin Corrigan        \n",
       "4806     9                     3                    Sonia Braga           \n",
       "4807    NA                    15                    Chelse Swain          \n",
       "4808 17000                   476                    Levon Helm            \n",
       "4809     2                    20                    Mark Rendall          \n",
       "4810    26                     3                    Kate Dollenmayer      \n",
       "4811   214                    59                    Tony Way              \n",
       "4812    26                     3                    Kate Dollenmayer      \n",
       "4813   892                   492                    Katharine Isabelle    \n",
       "4814   158                   265                    Brittany Curran       \n",
       "4815     3                   152                    Stanley B. Herman     \n",
       "4816     2                   318                    Daphne Zuniga         \n",
       "4817    NA                   489                    Daniel Henney         \n",
       "     actor_1_facebook_likes gross    \n",
       "1      629                    2201412\n",
       "2      717                     211667\n",
       "3        9                     195888\n",
       "4      893                    2298191\n",
       "5      488                     410388\n",
       "6        6                     439162\n",
       "7       43                   10037390\n",
       "8     8000                    3275443\n",
       "9      341                    1687311\n",
       "10     594                    1602466\n",
       "11     755                     626809\n",
       "12       7                     454255\n",
       "13      51                   14131298\n",
       "14   40000                  309404152\n",
       "15      64                     102055\n",
       "16     640                   73058679\n",
       "17     799                  200807262\n",
       "18   24000                  336530303\n",
       "19   27000                  448130642\n",
       "20   26000                  458991599\n",
       "21   25000                  301956980\n",
       "22   15000                  330249062\n",
       "23   40000                  241063875\n",
       "24    5000                  255108370\n",
       "25   21000                  407197282\n",
       "26   11000                  200074175\n",
       "27    1000                  760505847\n",
       "28   15000                  262030663\n",
       "29   40000                  423032628\n",
       "30   15000                  291021565\n",
       "...  ...                    ...      \n",
       "4788    19                      NA   \n",
       "4789     2                   32631   \n",
       "4790   156                      NA   \n",
       "4791   100                   47111   \n",
       "4792    68                      NA   \n",
       "4793   766                      NA   \n",
       "4794   338                      NA   \n",
       "4795   602                      NA   \n",
       "4796 27000                  104792   \n",
       "4797    24                   59774   \n",
       "4798   138                      NA   \n",
       "4799     0                      NA   \n",
       "4800   498                      NA   \n",
       "4801   120                  405614   \n",
       "4802   142                      NA   \n",
       "4803   440                      NA   \n",
       "4804   238                   33598   \n",
       "4805   969                      NA   \n",
       "4806   866                      NA   \n",
       "4807  1000                      NA   \n",
       "4808   725                  321952   \n",
       "4809   962                   24705   \n",
       "4810    26                      NA   \n",
       "4811   177                    9609   \n",
       "4812    26                      NA   \n",
       "4813   986                      NA   \n",
       "4814   630                      NA   \n",
       "4815   789                      NA   \n",
       "4816   637                      NA   \n",
       "4817   946                   10443   \n",
       "     genres                                                    ... genres_Short\n",
       "1    Comedy|Drama|Horror|Sci-Fi                                ... 0           \n",
       "2    Crime|Drama                                               ... 0           \n",
       "3    Drama|Romance|War                                         ... 0           \n",
       "4    Adventure|Animation|Fantasy                               ... 0           \n",
       "5    Action|Adventure|Animation|Family|Sci-Fi|Thriller         ... 0           \n",
       "6    Action|Animation|Sci-Fi                                   ... 0           \n",
       "7    Action|Adventure|Drama|Sci-Fi|Thriller                    ... 0           \n",
       "8    Drama                                                     ... 0           \n",
       "9    Drama|Musical                                             ... 0           \n",
       "10   Action|Drama|Romance|Thriller                             ... 0           \n",
       "11   Action|Adventure|Drama|History|War                        ... 0           \n",
       "12   Action|Adventure|Drama|History|War                        ... 0           \n",
       "13   Adventure|Biography|Drama|History|War                     ... 0           \n",
       "14   Action|Adventure|Fantasy                                  ... 0           \n",
       "15   Action                                                    ... 0           \n",
       "16   Action|Adventure|Sci-Fi                                   ... 0           \n",
       "17   Adventure|Animation|Comedy|Family|Fantasy|Musical|Romance ... 0           \n",
       "18   Action|Adventure|Romance                                  ... 0           \n",
       "19   Action|Thriller                                           ... 0           \n",
       "20   Action|Adventure|Sci-Fi                                   ... 0           \n",
       "21   Adventure|Family|Fantasy|Mystery                          ... 0           \n",
       "22   Action|Adventure|Sci-Fi                                   ... 0           \n",
       "23   Action|Adventure|Fantasy                                  ... 0           \n",
       "24   Adventure|Fantasy                                         ... 0           \n",
       "25   Action|Adventure|Sci-Fi                                   ... 0           \n",
       "26   Action|Adventure|Thriller                                 ... 0           \n",
       "27   Action|Adventure|Fantasy|Sci-Fi                           ... 0           \n",
       "28   Action|Adventure|Fantasy                                  ... 0           \n",
       "29   Action|Adventure|Fantasy                                  ... 0           \n",
       "30   Action|Adventure|Fantasy|Sci-Fi                           ... 0           \n",
       "...  ...                                                           ...         \n",
       "4788 Drama                                                     ... 0           \n",
       "4789 Documentary                                               ... 0           \n",
       "4790 Horror                                                    ... 0           \n",
       "4791 Comedy|Drama                                              ... 0           \n",
       "4792 Drama                                                     ... 0           \n",
       "4793 Mystery|Thriller                                          ... 0           \n",
       "4794 Comedy|Short                                              ... 1           \n",
       "4795 Crime|Drama                                               ... 0           \n",
       "4796 Action|Biography|Crime|Drama                              ... 0           \n",
       "4797 Comedy|Drama|Romance                                      ... 0           \n",
       "4798 Comedy|Horror|Mystery|Thriller                            ... 0           \n",
       "4799 Drama|Fantasy                                             ... 0           \n",
       "4800 Horror                                                    ... 0           \n",
       "4801 Drama|Mystery|Sci-Fi|Thriller                             ... 0           \n",
       "4802 Crime|Drama                                               ... 0           \n",
       "4803 Crime|Horror|Thriller                                     ... 0           \n",
       "4804 Comedy|Romance                                            ... 0           \n",
       "4805 Comedy                                                    ... 0           \n",
       "4806 Comedy|Drama|Romance                                      ... 0           \n",
       "4807 Comedy|Drama                                              ... 0           \n",
       "4808 Documentary|Music                                         ... 0           \n",
       "4809 Drama                                                     ... 0           \n",
       "4810 Comedy                                                    ... 0           \n",
       "4811 Comedy|Crime|Drama                                        ... 0           \n",
       "4812 Comedy|Drama                                              ... 0           \n",
       "4813 Action|Crime|Thriller                                     ... 0           \n",
       "4814 Horror|Mystery|Thriller                                   ... 0           \n",
       "4815 Crime|Drama                                               ... 0           \n",
       "4816 Comedy|Drama                                              ... 0           \n",
       "4817 Comedy|Drama|Romance                                      ... 0           \n",
       "     genres_Sport genres_Thriller genres_War genres_Western currency budget_us\n",
       "1    0            0               0          0              KOR       12793905\n",
       "2    0            0               0          0              KOR        4101095\n",
       "3    0            0               1          0              HUN       12526148\n",
       "4    0            0               0          0              JPN       19836208\n",
       "5    0            1               0          0              JPN       19664196\n",
       "6    0            0               0          0              JPN        8583579\n",
       "7    0            1               0          0              JPN        8779106\n",
       "8    0            0               0          0              IND       15450148\n",
       "9    0            0               0          0              ESP        4604024\n",
       "10   0            1               0          0              IND       13121691\n",
       "11   0            0               1          0              CHN       79674699\n",
       "12   0            0               1          0              THA        9134505\n",
       "13   0            0               1          0              FRA       65000000\n",
       "14   0            0               0          0              NA       300000000\n",
       "15   0            0               0          0              THA        8522146\n",
       "16   0            0               0          0              NA       263700000\n",
       "17   0            0               0          0              NA       260000000\n",
       "18   0            0               0          0              USA      258000000\n",
       "19   0            1               0          0              NA       250000000\n",
       "20   0            0               0          0              NA       250000000\n",
       "21   0            0               0          0              NA       250000000\n",
       "22   0            0               0          0              NA       250000000\n",
       "23   0            0               0          0              USA      250000000\n",
       "24   0            0               0          0              USA      250000000\n",
       "25   0            0               0          0              USA      250000000\n",
       "26   0            1               0          0              NA       245000000\n",
       "27   0            0               0          0              NA       237000000\n",
       "28   0            0               0          0              USA      230000000\n",
       "29   0            0               0          0              USA      225000000\n",
       "30   0            0               0          0              USA      225000000\n",
       "...  ...          ...             ...        ...            ...      ...      \n",
       "4788 0            0               0          0              USA      NA       \n",
       "4789 0            0               0          0              USA      NA       \n",
       "4790 0            0               0          0              USA      NA       \n",
       "4791 0            0               0          0              USA      NA       \n",
       "4792 0            0               0          0              USA      NA       \n",
       "4793 0            1               0          0              USA      NA       \n",
       "4794 0            0               0          0              USA      NA       \n",
       "4795 0            0               0          0              USA      NA       \n",
       "4796 0            0               0          0              USA      NA       \n",
       "4797 0            0               0          0              USA      NA       \n",
       "4798 0            1               0          0              USA      NA       \n",
       "4799 0            0               0          0              USA      NA       \n",
       "4800 0            0               0          0              USA      NA       \n",
       "4801 0            1               0          0              USA      NA       \n",
       "4802 0            0               0          0              USA      NA       \n",
       "4803 0            1               0          0              USA      NA       \n",
       "4804 0            0               0          0              USA      NA       \n",
       "4805 0            0               0          0              USA      NA       \n",
       "4806 0            0               0          0              USA      NA       \n",
       "4807 0            0               0          0              USA      NA       \n",
       "4808 0            0               0          0              USA      NA       \n",
       "4809 0            0               0          0              USA      NA       \n",
       "4810 0            0               0          0              USA      NA       \n",
       "4811 0            0               0          0              USA      NA       \n",
       "4812 0            0               0          0              USA      NA       \n",
       "4813 0            1               0          0              USA      NA       \n",
       "4814 0            1               0          0              USA      NA       \n",
       "4815 0            0               0          0              NA       NA       \n",
       "4816 0            0               0          0              NA       NA       \n",
       "4817 0            0               0          0              NA       NA       \n",
       "     gross_2016  budget_2016 profit    \n",
       "1      2620914.8  15231922    -12611007\n",
       "2       260131.9   5040113     -4779981\n",
       "3       240740.0  15394231    -15153491\n",
       "4      3436293.2  29659426    -26223133\n",
       "5       521465.0  24986575    -24465109\n",
       "6       891286.1  17420507    -16529221\n",
       "7     14462224.8  12649245      1812980\n",
       "8      3899614.0  18394340    -14494726\n",
       "9      2484331.4   6778787     -4294455\n",
       "10     1763786.3  14442652    -12678865\n",
       "11      698731.5  88816882    -88118150\n",
       "12      615725.4  12381475    -11765749\n",
       "13    20360871.5  93654288    -73293416\n",
       "14   358147700.4 347262018     10885683\n",
       "15      113765.2   9500010     -9386245\n",
       "16    76372258.2 275660124   -199287865\n",
       "17   221022529.1 286174200    -65151671\n",
       "18   389547306.8 298645335     90901972\n",
       "19   468455624.3 261338760    207116865\n",
       "20   464782215.9 253153989    211628227\n",
       "21   337805755.3 279680367     58125389\n",
       "22   330249062.0 250000000     80249062\n",
       "23   257212103.7 266746836     -9534732\n",
       "24   258633275.6 253454322      5178954\n",
       "25   407197282.0 250000000    157197282\n",
       "26   202598301.6 248090909    -45492607\n",
       "27   850794216.1 265136987    585657229\n",
       "28   273915073.7 240431659     33483415\n",
       "29   503646060.6 267876178    235769882\n",
       "30   299828992.2 231809362     68019630\n",
       "...  ...         ...         ...       \n",
       "4788         NA  NA          NA        \n",
       "4789   40102.45  NA          NA        \n",
       "4790         NA  NA          NA        \n",
       "4791   57897.90  NA          NA        \n",
       "4792         NA  NA          NA        \n",
       "4793         NA  NA          NA        \n",
       "4794         NA  NA          NA        \n",
       "4795         NA  NA          NA        \n",
       "4796  116816.24  NA          NA        \n",
       "4797   65791.45  NA          NA        \n",
       "4798         NA  NA          NA        \n",
       "4799         NA  NA          NA        \n",
       "4800         NA  NA          NA        \n",
       "4801  432785.00  NA          NA        \n",
       "4802         NA  NA          NA        \n",
       "4803         NA  NA          NA        \n",
       "4804   50236.28  NA          NA        \n",
       "4805         NA  NA          NA        \n",
       "4806         NA  NA          NA        \n",
       "4807         NA  NA          NA        \n",
       "4808 1184529.14  NA          NA        \n",
       "4809   27638.01  NA          NA        \n",
       "4810         NA  NA          NA        \n",
       "4811   10749.79  NA          NA        \n",
       "4812         NA  NA          NA        \n",
       "4813         NA  NA          NA        \n",
       "4814         NA  NA          NA        \n",
       "4815         NA  NA          NA        \n",
       "4816         NA  NA          NA        \n",
       "4817   10916.64  NA          NA        "
      ]
     },
     "metadata": {},
     "output_type": "display_data"
    }
   ],
   "source": [
    "movies[actor_1_name==\"Robert Redford\",actor_1_facebook_likes:=121588]"
   ]
  },
  {
   "cell_type": "markdown",
   "metadata": {},
   "source": [
    "I repeat this process with the second billing actor of each movie."
   ]
  },
  {
   "cell_type": "code",
   "execution_count": 87,
   "metadata": {
    "collapsed": false
   },
   "outputs": [
    {
     "data": {
      "text/html": [
       "<dl class=dl-horizontal>\n",
       "\t<dt>Morgan Freeman</dt>\n",
       "\t\t<dd>18</dd>\n",
       "\t<dt>Charlize Theron</dt>\n",
       "\t\t<dd>14</dd>\n",
       "\t<dt>Brad Pitt</dt>\n",
       "\t\t<dd>13</dd>\n",
       "\t<dt>Meryl Streep</dt>\n",
       "\t\t<dd>11</dd>\n",
       "\t<dt>Adam Sandler</dt>\n",
       "\t\t<dd>10</dd>\n",
       "\t<dt>James Franco</dt>\n",
       "\t\t<dd>10</dd>\n",
       "\t<dt>Bruce Willis</dt>\n",
       "\t\t<dd>9</dd>\n",
       "\t<dt>Scott Glenn</dt>\n",
       "\t\t<dd>9</dd>\n",
       "\t<dt>(Other)</dt>\n",
       "\t\t<dd>4712</dd>\n",
       "\t<dt>NA's</dt>\n",
       "\t\t<dd>11</dd>\n",
       "</dl>\n"
      ],
      "text/latex": [
       "\\begin{description*}\n",
       "\\item[Morgan Freeman] 18\n",
       "\\item[Charlize Theron] 14\n",
       "\\item[Brad Pitt] 13\n",
       "\\item[Meryl Streep] 11\n",
       "\\item[Adam Sandler] 10\n",
       "\\item[James Franco] 10\n",
       "\\item[Bruce Willis] 9\n",
       "\\item[Scott Glenn] 9\n",
       "\\item[(Other)] 4712\n",
       "\\item[NA's] 11\n",
       "\\end{description*}\n"
      ],
      "text/markdown": [
       "Morgan Freeman\n",
       ":   18Charlize Theron\n",
       ":   14Brad Pitt\n",
       ":   13Meryl Streep\n",
       ":   11Adam Sandler\n",
       ":   10James Franco\n",
       ":   10Bruce Willis\n",
       ":   9Scott Glenn\n",
       ":   9(Other)\n",
       ":   4712NA's\n",
       ":   11\n",
       "\n"
      ],
      "text/plain": [
       " Morgan Freeman Charlize Theron       Brad Pitt    Meryl Streep    Adam Sandler \n",
       "             18              14              13              11              10 \n",
       "   James Franco    Bruce Willis     Scott Glenn         (Other)            NA's \n",
       "             10               9               9            4712              11 "
      ]
     },
     "metadata": {},
     "output_type": "display_data"
    }
   ],
   "source": [
    "summary(movies$actor_2_name,maxsum=10)"
   ]
  },
  {
   "cell_type": "code",
   "execution_count": 88,
   "metadata": {
    "collapsed": false
   },
   "outputs": [],
   "source": [
    "actor2_count<-plyr::count(movies,'actor_2_name')\n",
    "actor2_count<-as.data.frame(actor2_count)\n",
    "names(actor2_count)[names(actor2_count)==\"x\"]<-\"Name\"\n",
    "names(actor2_count)[names(actor2_count)==\"freq\"]<-\"Count\"\n",
    "actor2_count<-actor2_count[order(-actor2_count$Count),]"
   ]
  },
  {
   "cell_type": "code",
   "execution_count": 89,
   "metadata": {
    "collapsed": false
   },
   "outputs": [
    {
     "data": {
      "text/html": [
       "<iframe src=\"plotlyJupyterHTML/hist_actor2.html\" width=\"100%\" height=\"400\" id=\"igraph\" scrolling=\"no\" seamless=\"seamless\" frameBorder=\"0\"> </iframe>"
      ]
     },
     "metadata": {},
     "output_type": "display_data"
    }
   ],
   "source": [
    "hist_actor2 <-  actor2_count[complete.cases(actor2_count),] %>%\n",
    "dplyr::count(Count) %>%\n",
    "  plot_ly(x =~Count, y = ~n) %>% \n",
    "  add_bars()%>%\n",
    "layout(title = 'Distribution of the number of appearances in a movie for second billing actors',\n",
    "         xaxis = list(title = 'Number of movies', zeroline = TRUE),\n",
    "         yaxis = list(title = 'Frequency'))\n",
    " \n",
    "embed_notebook(hist_actor2,file=paste0(\"plotlyJupyterHTML/\",\"hist_actor2\",\".html\"))"
   ]
  },
  {
   "cell_type": "code",
   "execution_count": 90,
   "metadata": {
    "collapsed": false
   },
   "outputs": [],
   "source": [
    "act_2_mean_gross<-movies %>%\n",
    "group_by(actor_2_name)%>%\n",
    "summarise(mean_gross=mean(gross))\n",
    "\n",
    "actor2_mean_gross<-data.frame(\"actor_2_name\"=act_2_mean_gross$actor_2_name,\"act_2_mean_gross\"=act_2_mean_gross$mean_gross)"
   ]
  },
  {
   "cell_type": "code",
   "execution_count": 91,
   "metadata": {
    "collapsed": false
   },
   "outputs": [
    {
     "data": {
      "text/html": [
       "<iframe src=\"plotlyJupyterHTML/hist_mean_gross_actor2.html\" width=\"100%\" height=\"400\" id=\"igraph\" scrolling=\"no\" seamless=\"seamless\" frameBorder=\"0\"> </iframe>"
      ]
     },
     "metadata": {},
     "output_type": "display_data"
    }
   ],
   "source": [
    "hist_mean_gross_actor2 <-  act_2_mean_gross[complete.cases(act_2_mean_gross),] %>%\n",
    "  plot_ly(x =~mean_gross,type=\"histogram\") %>% \n",
    "layout(title = 'Mean gross revenue of the movies in which each second actor played',\n",
    "         xaxis = list(title = 'Average gross', zeroline = TRUE),\n",
    "         yaxis = list(title = 'Number of actors'))\n",
    " \n",
    "embed_notebook(hist_mean_gross_actor2,file=paste0(\"plotlyJupyterHTML/\",\"hist_mean_gross_actor2\",\".html\"))"
   ]
  },
  {
   "cell_type": "markdown",
   "metadata": {},
   "source": [
    "The shape of this distribution is similar to the one for the main billing actor which is a good sign since those actors played in the same movies. \n",
    "\n",
    "Let us look at the number of Facebook likes for each second billing actor."
   ]
  },
  {
   "cell_type": "code",
   "execution_count": 92,
   "metadata": {
    "collapsed": false
   },
   "outputs": [
    {
     "data": {
      "text/plain": [
       "   Min. 1st Qu.  Median    Mean 3rd Qu.    Max.    NA's \n",
       "      0     278     595    1645     918  137000      11 "
      ]
     },
     "metadata": {},
     "output_type": "display_data"
    }
   ],
   "source": [
    "summary(movies$actor_2_facebook_likes)"
   ]
  },
  {
   "cell_type": "code",
   "execution_count": 93,
   "metadata": {
    "collapsed": false
   },
   "outputs": [
    {
     "data": {
      "text/html": [
       "<iframe src=\"plotlyJupyterHTML/hist_fb_actor2.html\" width=\"100%\" height=\"400\" id=\"igraph\" scrolling=\"no\" seamless=\"seamless\" frameBorder=\"0\"> </iframe>"
      ]
     },
     "metadata": {},
     "output_type": "display_data"
    }
   ],
   "source": [
    "hist_fb_actor2 <-plot_ly(movies[complete.cases(movies$actor_2_facebook_likes),],\n",
    "                         x =~actor_2_facebook_likes,type=\"histogram\") %>% \n",
    "layout(title = 'Number of Facebook likes for second billing actors',\n",
    "         xaxis = list(title = 'Number of likes', zeroline = TRUE),\n",
    "         yaxis = list(title = 'Frequency'))\n",
    "\n",
    "embed_notebook(hist_fb_actor2,file=paste0(\"plotlyJupyterHTML/\",\"hist_fb_actor2\",\".html\"))"
   ]
  },
  {
   "cell_type": "code",
   "execution_count": 94,
   "metadata": {
    "collapsed": false
   },
   "outputs": [
    {
     "data": {
      "text/html": [
       "<table>\n",
       "<thead><tr><th scope=col>n</th></tr></thead>\n",
       "<tbody>\n",
       "\t<tr><td>53</td></tr>\n",
       "</tbody>\n",
       "</table>\n"
      ],
      "text/latex": [
       "\\begin{tabular}{r|l}\n",
       " n\\\\\n",
       "\\hline\n",
       "\t 53\\\\\n",
       "\\end{tabular}\n"
      ],
      "text/markdown": [
       "\n",
       "n | \n",
       "|---|\n",
       "| 53 | \n",
       "\n",
       "\n"
      ],
      "text/plain": [
       "  n \n",
       "1 53"
      ]
     },
     "metadata": {},
     "output_type": "display_data"
    }
   ],
   "source": [
    "count(movies[actor_2_facebook_likes==0])"
   ]
  },
  {
   "cell_type": "markdown",
   "metadata": {},
   "source": [
    "Once again, the number of actors with a small amount of Facebook like compose the vast majority of the actor, but since the number of observations with a value of zero is small, I kept the data as they are.\n",
    "\n",
    "I look at the data of the third billing actor."
   ]
  },
  {
   "cell_type": "code",
   "execution_count": 95,
   "metadata": {
    "collapsed": false
   },
   "outputs": [
    {
     "data": {
      "text/html": [
       "<dl class=dl-horizontal>\n",
       "\t<dt>Steve Coogan</dt>\n",
       "\t\t<dd>8</dd>\n",
       "\t<dt>Ben Mendelsohn</dt>\n",
       "\t\t<dd>7</dd>\n",
       "\t<dt>Jon Gries</dt>\n",
       "\t\t<dd>7</dd>\n",
       "\t<dt>Robert Duvall</dt>\n",
       "\t\t<dd>7</dd>\n",
       "\t<dt>Sam Shepard</dt>\n",
       "\t\t<dd>7</dd>\n",
       "\t<dt>Stephen Root</dt>\n",
       "\t\t<dd>7</dd>\n",
       "\t<dt>Anne Hathaway</dt>\n",
       "\t\t<dd>6</dd>\n",
       "\t<dt>Bruce McGill</dt>\n",
       "\t\t<dd>6</dd>\n",
       "\t<dt>(Other)</dt>\n",
       "\t\t<dd>4742</dd>\n",
       "\t<dt>NA's</dt>\n",
       "\t\t<dd>20</dd>\n",
       "</dl>\n"
      ],
      "text/latex": [
       "\\begin{description*}\n",
       "\\item[Steve Coogan] 8\n",
       "\\item[Ben Mendelsohn] 7\n",
       "\\item[Jon Gries] 7\n",
       "\\item[Robert Duvall] 7\n",
       "\\item[Sam Shepard] 7\n",
       "\\item[Stephen Root] 7\n",
       "\\item[Anne Hathaway] 6\n",
       "\\item[Bruce McGill] 6\n",
       "\\item[(Other)] 4742\n",
       "\\item[NA's] 20\n",
       "\\end{description*}\n"
      ],
      "text/markdown": [
       "Steve Coogan\n",
       ":   8Ben Mendelsohn\n",
       ":   7Jon Gries\n",
       ":   7Robert Duvall\n",
       ":   7Sam Shepard\n",
       ":   7Stephen Root\n",
       ":   7Anne Hathaway\n",
       ":   6Bruce McGill\n",
       ":   6(Other)\n",
       ":   4742NA's\n",
       ":   20\n",
       "\n"
      ],
      "text/plain": [
       "  Steve Coogan Ben Mendelsohn      Jon Gries  Robert Duvall    Sam Shepard \n",
       "             8              7              7              7              7 \n",
       "  Stephen Root  Anne Hathaway   Bruce McGill        (Other)           NA's \n",
       "             7              6              6           4742             20 "
      ]
     },
     "metadata": {},
     "output_type": "display_data"
    }
   ],
   "source": [
    "summary(movies$actor_3_name,maxsum=10)"
   ]
  },
  {
   "cell_type": "code",
   "execution_count": 96,
   "metadata": {
    "collapsed": true
   },
   "outputs": [],
   "source": [
    "actor3_count<-plyr::count(movies,'actor_3_name')\n",
    "actor3_count<-as.data.frame(actor3_count)\n",
    "names(actor3_count)[names(actor3_count)==\"freq\"]<-\"Count\"\n",
    "actor3_count<-actor3_count[order(-actor3_count$Count),]"
   ]
  },
  {
   "cell_type": "code",
   "execution_count": 97,
   "metadata": {
    "collapsed": false
   },
   "outputs": [
    {
     "data": {
      "text/html": [
       "<iframe src=\"plotlyJupyterHTML/hist_actor3.html\" width=\"100%\" height=\"400\" id=\"igraph\" scrolling=\"no\" seamless=\"seamless\" frameBorder=\"0\"> </iframe>"
      ]
     },
     "metadata": {},
     "output_type": "display_data"
    }
   ],
   "source": [
    "hist_actor3 <-  actor3_count[complete.cases(actor3_count),] %>%\n",
    "dplyr::count(Count) %>%\n",
    "  plot_ly(x =~Count, y = ~n) %>% \n",
    "  add_bars()%>%\n",
    "layout(title = 'Number of appearances in a movie for each third billing actor',\n",
    "         xaxis = list(title = 'Number of movies', zeroline = TRUE),\n",
    "         yaxis = list(title = 'Frequency'))\n",
    " \n",
    "embed_notebook(hist_actor3,file=paste0(\"plotlyJupyterHTML/\",\"hist_actor3\",\".html\"))"
   ]
  },
  {
   "cell_type": "code",
   "execution_count": 98,
   "metadata": {
    "collapsed": false
   },
   "outputs": [],
   "source": [
    "act_3_mean_gross<-movies %>%\n",
    "group_by(actor_3_name)%>%\n",
    "summarise(mean_gross=mean(gross))\n",
    "\n",
    "actor_3_mean_gross<-data.frame(\"actor_3_name\"=act_3_mean_gross$actor_3_name,\"act_3_mean_gross\"=act_3_mean_gross$mean_gross)"
   ]
  },
  {
   "cell_type": "code",
   "execution_count": 99,
   "metadata": {
    "collapsed": false
   },
   "outputs": [
    {
     "data": {
      "text/html": [
       "<iframe src=\"plotlyJupyterHTML/hist_mean_gross_actor3.html\" width=\"100%\" height=\"400\" id=\"igraph\" scrolling=\"no\" seamless=\"seamless\" frameBorder=\"0\"> </iframe>"
      ]
     },
     "metadata": {},
     "output_type": "display_data"
    }
   ],
   "source": [
    "hist_mean_gross_actor3 <-  act_3_mean_gross[complete.cases(act_3_mean_gross),] %>%\n",
    "  plot_ly(x =~mean_gross,type=\"histogram\") %>% \n",
    "layout(title = 'Mean gross revenue of movies in which played each third actor',\n",
    "         xaxis = list(title = 'Gross', zeroline = TRUE),\n",
    "         yaxis = list(title = 'Frequency'))\n",
    " \n",
    "embed_notebook(hist_mean_gross_actor3,file=paste0(\"plotlyJupyterHTML/\",\"hist_mean_gross_actor3\",\".html\"))"
   ]
  },
  {
   "cell_type": "code",
   "execution_count": 100,
   "metadata": {
    "collapsed": false
   },
   "outputs": [
    {
     "data": {
      "text/plain": [
       "   Min. 1st Qu.  Median    Mean 3rd Qu.    Max.    NA's \n",
       "    0.0   131.0   367.0   636.9   636.0 23000.0      20 "
      ]
     },
     "metadata": {},
     "output_type": "display_data"
    }
   ],
   "source": [
    "summary(movies$actor_3_facebook_likes)"
   ]
  },
  {
   "cell_type": "code",
   "execution_count": 101,
   "metadata": {
    "collapsed": false
   },
   "outputs": [
    {
     "data": {
      "text/html": [
       "<iframe src=\"plotlyJupyterHTML/hist_fb_actor3.html\" width=\"100%\" height=\"400\" id=\"igraph\" scrolling=\"no\" seamless=\"seamless\" frameBorder=\"0\"> </iframe>"
      ]
     },
     "metadata": {},
     "output_type": "display_data"
    }
   ],
   "source": [
    "hist_fb_actor3 <-plot_ly(movies[complete.cases(movies$actor_3_facebook_likes),],\n",
    "                         x =~actor_3_facebook_likes,type=\"histogram\") %>% \n",
    "layout(title = 'Number of Facebook likes for third billing actors',\n",
    "         xaxis = list(title = 'Number of likes', zeroline = TRUE),\n",
    "         yaxis = list(title = 'Frequency'))\n",
    " \n",
    "embed_notebook(hist_fb_actor3,file=paste0(\"plotlyJupyterHTML/\",\"hist_fb_actor3\",\".html\"))"
   ]
  },
  {
   "cell_type": "markdown",
   "metadata": {
    "collapsed": true
   },
   "source": [
    "Finally, I took a closer look a the variable \"cast_total_facebook_likes\"."
   ]
  },
  {
   "cell_type": "code",
   "execution_count": 102,
   "metadata": {
    "collapsed": false
   },
   "outputs": [
    {
     "data": {
      "text/plain": [
       "   Min. 1st Qu.  Median    Mean 3rd Qu.    Max. \n",
       "      0    1397    3090    9714   13810  656700 "
      ]
     },
     "metadata": {},
     "output_type": "display_data"
    }
   ],
   "source": [
    "summary(movies$cast_total_facebook_likes)"
   ]
  },
  {
   "cell_type": "code",
   "execution_count": 103,
   "metadata": {
    "collapsed": false
   },
   "outputs": [
    {
     "data": {
      "text/html": [
       "<iframe src=\"plotlyJupyterHTML/hist_fb_cast.html\" width=\"100%\" height=\"400\" id=\"igraph\" scrolling=\"no\" seamless=\"seamless\" frameBorder=\"0\"> </iframe>"
      ]
     },
     "metadata": {},
     "output_type": "display_data"
    }
   ],
   "source": [
    "hist_fb_cast <-  movies[complete.cases(movies$cast_total_facebook_likes),] %>%\n",
    "dplyr::count(cast_total_facebook_likes) %>%\n",
    "  plot_ly(x =~cast_total_facebook_likes, type=\"histogram\") %>% \n",
    "layout(title = 'Number of Facebook likes for the cast',\n",
    "         xaxis = list(title = 'Number of likes', zeroline = TRUE),\n",
    "         yaxis = list(title = 'Frequency'))\n",
    " \n",
    "embed_notebook(hist_fb_cast,file=paste0(\"plotlyJupyterHTML/\",\"hist_fb_cast\",\".html\"))"
   ]
  },
  {
   "cell_type": "markdown",
   "metadata": {},
   "source": [
    "It is important to note that this variable is not the sum of the Facebook likes of the actor in the data set, but includes some actor that is listed on IMDB and not in the data set. In consequence, I couldn't use this variable to fill the missing value in the column \"actor_X_facebook_likes\" and \"director_facebook_likes\".\n",
    "\n",
    "The last variable I looked at in this section is the variable \"movie_facebook_likes\" which measure the Facebook user took interest in each movie. "
   ]
  },
  {
   "cell_type": "code",
   "execution_count": 104,
   "metadata": {
    "collapsed": false
   },
   "outputs": [
    {
     "data": {
      "text/plain": [
       "   Min. 1st Qu.  Median    Mean 3rd Qu.    Max.    NA's \n",
       "      0       0     157    7434    2000  349000      65 "
      ]
     },
     "metadata": {},
     "output_type": "display_data"
    }
   ],
   "source": [
    "summary(movies$movie_facebook_likes)"
   ]
  },
  {
   "cell_type": "code",
   "execution_count": 105,
   "metadata": {
    "collapsed": false
   },
   "outputs": [
    {
     "data": {
      "text/html": [
       "<iframe src=\"plotlyJupyterHTML/hist_fb_movie.html\" width=\"100%\" height=\"400\" id=\"igraph\" scrolling=\"no\" seamless=\"seamless\" frameBorder=\"0\"> </iframe>"
      ]
     },
     "metadata": {},
     "output_type": "display_data"
    }
   ],
   "source": [
    "hist_fb_movie <-  movies[complete.cases(movies$movie_facebook_likes),] %>%\n",
    "dplyr::count(movie_facebook_likes) %>%\n",
    "  plot_ly(x =~movie_facebook_likes,type='histogram') %>% \n",
    "layout(title = 'Number of Facebook likes of each movie',\n",
    "         xaxis = list(title = 'Number of likes', zeroline = TRUE),\n",
    "         yaxis = list(title = 'Frequency'))\n",
    " \n",
    "embed_notebook(hist_fb_movie,file=paste0(\"plotlyJupyterHTML/\",\"hist_fb_movie\",\".html\"))"
   ]
  },
  {
   "cell_type": "markdown",
   "metadata": {},
   "source": [
    "Since the majority of the movies have a small number of Facebook like, I look at a sample of the movie with zero like and a important budget to verify that the data are valid. I choosed the blockbuster in the data set because they have a high budget for the publicity and are more likely tu use Facebook for advertise purpose."
   ]
  },
  {
   "cell_type": "code",
   "execution_count": 106,
   "metadata": {
    "collapsed": false
   },
   "outputs": [
    {
     "data": {
      "text/html": [
       "<ol class=list-inline>\n",
       "\t<li>'piratesofthecaribbeanatworldsend'</li>\n",
       "\t<li>'spiderman3'</li>\n",
       "\t<li>'thechroniclesofnarniaprincecaspian'</li>\n",
       "\t<li>'xmenthelaststand'</li>\n",
       "\t<li>'supermanreturns'</li>\n",
       "\t<li>'kingkong'</li>\n",
       "\t<li>'quantumofsolace'</li>\n",
       "\t<li>'spiderman2'</li>\n",
       "\t<li>'transformersrevengeofthefallen'</li>\n",
       "\t<li>'terminatorsalvation'</li>\n",
       "\t<li>'achristmascarol'</li>\n",
       "\t<li>'terminator3riseofthemachines'</li>\n",
       "\t<li>'thegoldencompass'</li>\n",
       "\t<li>'monstersvsaliens'</li>\n",
       "\t<li>'waterworld'</li>\n",
       "</ol>\n"
      ],
      "text/latex": [
       "\\begin{enumerate*}\n",
       "\\item 'piratesofthecaribbeanatworldsend'\n",
       "\\item 'spiderman3'\n",
       "\\item 'thechroniclesofnarniaprincecaspian'\n",
       "\\item 'xmenthelaststand'\n",
       "\\item 'supermanreturns'\n",
       "\\item 'kingkong'\n",
       "\\item 'quantumofsolace'\n",
       "\\item 'spiderman2'\n",
       "\\item 'transformersrevengeofthefallen'\n",
       "\\item 'terminatorsalvation'\n",
       "\\item 'achristmascarol'\n",
       "\\item 'terminator3riseofthemachines'\n",
       "\\item 'thegoldencompass'\n",
       "\\item 'monstersvsaliens'\n",
       "\\item 'waterworld'\n",
       "\\end{enumerate*}\n"
      ],
      "text/markdown": [
       "1. 'piratesofthecaribbeanatworldsend'\n",
       "2. 'spiderman3'\n",
       "3. 'thechroniclesofnarniaprincecaspian'\n",
       "4. 'xmenthelaststand'\n",
       "5. 'supermanreturns'\n",
       "6. 'kingkong'\n",
       "7. 'quantumofsolace'\n",
       "8. 'spiderman2'\n",
       "9. 'transformersrevengeofthefallen'\n",
       "10. 'terminatorsalvation'\n",
       "11. 'achristmascarol'\n",
       "12. 'terminator3riseofthemachines'\n",
       "13. 'thegoldencompass'\n",
       "14. 'monstersvsaliens'\n",
       "15. 'waterworld'\n",
       "\n",
       "\n"
      ],
      "text/plain": [
       " [1] \"piratesofthecaribbeanatworldsend\"   \"spiderman3\"                        \n",
       " [3] \"thechroniclesofnarniaprincecaspian\" \"xmenthelaststand\"                  \n",
       " [5] \"supermanreturns\"                    \"kingkong\"                          \n",
       " [7] \"quantumofsolace\"                    \"spiderman2\"                        \n",
       " [9] \"transformersrevengeofthefallen\"     \"terminatorsalvation\"               \n",
       "[11] \"achristmascarol\"                    \"terminator3riseofthemachines\"      \n",
       "[13] \"thegoldencompass\"                   \"monstersvsaliens\"                  \n",
       "[15] \"waterworld\"                        "
      ]
     },
     "metadata": {},
     "output_type": "display_data"
    }
   ],
   "source": [
    "head(movies[movie_facebook_likes==0&budget_2016>100000000,movie_title],n=15)"
   ]
  },
  {
   "cell_type": "markdown",
   "metadata": {},
   "source": [
    "After searching for these movies on Facebook for a while, I remembered that the world existed before Facebook and that most of the movies in the data set couldn't use that site for promotion. In consequence, it's normal that a majority of movie in the data set has no Facebook like.  \n",
    "\n",
    "To confirm that hypothesis, I compared the total number of movies with zero Facebook like with the number of movies made before 2008 with zero like. I choose that year because that's the year MySpace collapse and Facebook really took off."
   ]
  },
  {
   "cell_type": "code",
   "execution_count": 107,
   "metadata": {
    "collapsed": false
   },
   "outputs": [
    {
     "data": {
      "text/html": [
       "<table>\n",
       "<thead><tr><th scope=col>n</th></tr></thead>\n",
       "<tbody>\n",
       "\t<tr><td>2063</td></tr>\n",
       "</tbody>\n",
       "</table>\n"
      ],
      "text/latex": [
       "\\begin{tabular}{r|l}\n",
       " n\\\\\n",
       "\\hline\n",
       "\t 2063\\\\\n",
       "\\end{tabular}\n"
      ],
      "text/markdown": [
       "\n",
       "n | \n",
       "|---|\n",
       "| 2063 | \n",
       "\n",
       "\n"
      ],
      "text/plain": [
       "  n   \n",
       "1 2063"
      ]
     },
     "metadata": {},
     "output_type": "display_data"
    }
   ],
   "source": [
    "count(movies[movie_facebook_likes==0])"
   ]
  },
  {
   "cell_type": "code",
   "execution_count": 108,
   "metadata": {
    "collapsed": false
   },
   "outputs": [
    {
     "data": {
      "text/html": [
       "<table>\n",
       "<thead><tr><th scope=col>n</th></tr></thead>\n",
       "<tbody>\n",
       "\t<tr><td>0.6781386</td></tr>\n",
       "</tbody>\n",
       "</table>\n"
      ],
      "text/latex": [
       "\\begin{tabular}{r|l}\n",
       " n\\\\\n",
       "\\hline\n",
       "\t 0.6781386\\\\\n",
       "\\end{tabular}\n"
      ],
      "text/markdown": [
       "\n",
       "n | \n",
       "|---|\n",
       "| 0.6781386 | \n",
       "\n",
       "\n"
      ],
      "text/plain": [
       "  n        \n",
       "1 0.6781386"
      ]
     },
     "metadata": {},
     "output_type": "display_data"
    }
   ],
   "source": [
    "count(movies[movie_facebook_likes==0&title_year<2008])/count(movies[movie_facebook_likes==0])"
   ]
  },
  {
   "cell_type": "markdown",
   "metadata": {
    "collapsed": true
   },
   "source": [
    "More than two third of those cases are movies who were made before Facebook was main stream. If we add the fact that some movie in the data set come from country where Facebook is not as widely used, we can explain why a large portion of the movie have zero like on Facebook. In consequence, I can't use those observations to create my model which will use Facebook likes as a measure of appreciation from the public."
   ]
  },
  {
   "cell_type": "code",
   "execution_count": 109,
   "metadata": {
    "collapsed": true
   },
   "outputs": [],
   "source": [
    "movies[movie_facebook_likes==0,\"movie_facebook_likes\"]<-NA"
   ]
  },
  {
   "cell_type": "markdown",
   "metadata": {},
   "source": [
    "# IMDB statistics\n",
    "\n",
    "After looking at the cast, it's time to look at statistics relative to IMDB it. By themselves, those statistics won't be used to create our model, since they concern facts that happen after the release of the movies, like the rating of the movie. But some information could be extracted from those variable, so I took the time to look at them. First of all, I looked at the number of users that reviewed each movie."
   ]
  },
  {
   "cell_type": "code",
   "execution_count": 110,
   "metadata": {
    "collapsed": false
   },
   "outputs": [
    {
     "data": {
      "text/plain": [
       "   Min. 1st Qu.  Median    Mean 3rd Qu.    Max.    NA's \n",
       "    1.0    66.0   156.0   271.2   323.0  5060.0      19 "
      ]
     },
     "metadata": {},
     "output_type": "display_data"
    }
   ],
   "source": [
    "summary(movies$num_user_for_reviews)"
   ]
  },
  {
   "cell_type": "code",
   "execution_count": 111,
   "metadata": {
    "collapsed": false
   },
   "outputs": [
    {
     "data": {
      "text/html": [
       "<iframe src=\"plotlyJupyterHTML/hist_user_reviews.html\" width=\"100%\" height=\"400\" id=\"igraph\" scrolling=\"no\" seamless=\"seamless\" frameBorder=\"0\"> </iframe>"
      ]
     },
     "metadata": {},
     "output_type": "display_data"
    }
   ],
   "source": [
    "hist_user_reviews <-  movies[complete.cases(movies$num_user_for_reviews),] %>%\n",
    "dplyr::count(num_user_for_reviews) %>%\n",
    "  plot_ly(x =~num_user_for_reviews, y = ~n) %>% \n",
    "  add_bars()%>%\n",
    "layout(title = 'Number of reviewers for each movie',\n",
    "         xaxis = list(title = 'Number of reviewers', zeroline = TRUE),\n",
    "         yaxis = list(title = 'Frequency'))\n",
    " \n",
    "embed_notebook(hist_user_reviews,file=paste0(\"plotlyJupyterHTML/\",\"hist_user_reviews\",\".html\"))"
   ]
  },
  {
   "cell_type": "markdown",
   "metadata": {
    "collapsed": false
   },
   "source": [
    "I look at the distribution of the quartile of the IMDB score."
   ]
  },
  {
   "cell_type": "code",
   "execution_count": 112,
   "metadata": {
    "collapsed": false
   },
   "outputs": [
    {
     "data": {
      "text/plain": [
       "   Min. 1st Qu.  Median    Mean 3rd Qu.    Max. \n",
       "  1.600   5.800   6.500   6.415   7.200   9.500 "
      ]
     },
     "metadata": {},
     "output_type": "display_data"
    }
   ],
   "source": [
    "summary(movies$imdb_score)"
   ]
  },
  {
   "cell_type": "markdown",
   "metadata": {},
   "source": [
    "I was able to find a blog post from 2015 (https://www.quora.com/What-is-an-average-rating-on-IMDB-for-a-movie) which analyse the rating of 17 845 movies on IMDB. His calculation reveals that the mean of the rating for his sample is 6.39. If our sample of 5000 movies is valid, this statistic should be about the same. The table above shows a mean of 6.415."
   ]
  },
  {
   "cell_type": "code",
   "execution_count": 113,
   "metadata": {
    "collapsed": false
   },
   "outputs": [
    {
     "data": {
      "text/plain": [
       "\n",
       "\tOne Sample t-test\n",
       "\n",
       "data:  movies$imdb_score\n",
       "t = 1.5771, df = 4816, p-value = 0.1148\n",
       "alternative hypothesis: true mean is not equal to 6.39\n",
       "95 percent confidence interval:\n",
       " 6.383821 6.447029\n",
       "sample estimates:\n",
       "mean of x \n",
       " 6.415425 \n"
      ]
     },
     "metadata": {},
     "output_type": "display_data"
    }
   ],
   "source": [
    "t.test(movies$imdb_score,mu=6.39)"
   ]
  },
  {
   "cell_type": "markdown",
   "metadata": {},
   "source": [
    "The t-test above show that we cannot conclude that the mean of the sample is different that the one of the IMDB complete data set. This fact suggests that our sample is representative of this data set."
   ]
  },
  {
   "cell_type": "code",
   "execution_count": 114,
   "metadata": {
    "collapsed": false
   },
   "outputs": [
    {
     "data": {
      "text/html": [
       "<iframe src=\"plotlyJupyterHTML/hist_score.html\" width=\"100%\" height=\"400\" id=\"igraph\" scrolling=\"no\" seamless=\"seamless\" frameBorder=\"0\"> </iframe>"
      ]
     },
     "metadata": {},
     "output_type": "display_data"
    }
   ],
   "source": [
    "hist_score <-  movies[complete.cases(movies$imdb_score),] %>%\n",
    "dplyr::count(imdb_score) %>%\n",
    "  plot_ly(x =~imdb_score, y = ~n) %>% \n",
    "  add_bars()%>%\n",
    "layout(title = 'Distribution of the IMDB scores',\n",
    "         xaxis = list(title = 'Scores', zeroline = TRUE),\n",
    "         yaxis = list(title = 'Frequency'))\n",
    " \n",
    "embed_notebook(hist_score,file=paste0(\"plotlyJupyterHTML/\",\"hist_score\",\".html\"))"
   ]
  },
  {
   "cell_type": "markdown",
   "metadata": {
    "collapsed": true
   },
   "source": [
    "Then I look at the distribution of the number of user that voted for each movie."
   ]
  },
  {
   "cell_type": "code",
   "execution_count": 115,
   "metadata": {
    "collapsed": false
   },
   "outputs": [
    {
     "data": {
      "text/plain": [
       "   Min. 1st Qu.  Median    Mean 3rd Qu.    Max. \n",
       "      5    8603   34190   83710   95290 1690000 "
      ]
     },
     "metadata": {},
     "output_type": "display_data"
    }
   ],
   "source": [
    "summary(movies$num_voted_users)"
   ]
  },
  {
   "cell_type": "code",
   "execution_count": 116,
   "metadata": {
    "collapsed": false
   },
   "outputs": [
    {
     "data": {
      "text/html": [
       "<iframe src=\"plotlyJupyterHTML/hist_voted_users.html\" width=\"100%\" height=\"400\" id=\"igraph\" scrolling=\"no\" seamless=\"seamless\" frameBorder=\"0\"> </iframe>"
      ]
     },
     "metadata": {},
     "output_type": "display_data"
    }
   ],
   "source": [
    "hist_voted_users <-  movies[complete.cases(movies$num_voted_users),] %>%\n",
    "dplyr::count(num_voted_users) %>%\n",
    "  plot_ly(x =~num_voted_users,type=\"histogram\") %>% \n",
    "layout(title = 'Number of IMDB users who vote for each movie',\n",
    "         xaxis = list(title = 'Number of user', zeroline = TRUE),\n",
    "         yaxis = list(title = 'Frequency'))\n",
    " \n",
    "embed_notebook(hist_voted_users,file=paste0(\"plotlyJupyterHTML/\",\"hist_voted_users\",\".html\"))"
   ]
  },
  {
   "cell_type": "markdown",
   "metadata": {
    "collapsed": true
   },
   "source": [
    "# Corrolation between variables\n",
    "\n",
    "Now that we have looked at all the variations, let us look at the relation between them. To do so, I started by ploting the correlation matrix of the continuous variables."
   ]
  },
  {
   "cell_type": "code",
   "execution_count": 117,
   "metadata": {
    "collapsed": false
   },
   "outputs": [
    {
     "data": {
      "image/png": "iVBORw0KGgoAAAANSUhEUgAAA0gAAANICAMAAADKOT/pAAACkVBMVEUAAAAFMGEGMmQHNWgJ\nOGwKOnAMPXMNQHcOQnsQRX8RSIITS4YUTYoVUI4XU5EYVZUaWJkbW50cXqEeYKQfY6ghZqwi\naK0kaq4mba8ob7ApcbErc7MtdrQueLUwerYyfLczf7g1gbk3g7s5hbw6iL08ir4+jL8/jsBB\nkcJDk8NHlsRLmMVPm8dTnchXoMpbostfpcxjp85nAB9nqs9qAR9rrNBuAiBvr9JyAyBzsdN2\nBCF3tNR5BiJ7ttZ9ByJ/udeBCCODu9iFCSOHvtqICiSLwNuMDCWPw92QDSWSxd6UDiaWx9+X\nDyaZyOCbECecyuCfEiify+GizeKjEyilz+OnFCmp0OSqFSms0uWuFiqv0+ayGCuy1eezGyy1\nHy611+i3IzC4uLi42Om5JjK7KjO82uq9LjW+MTe+vr6/2+rANTjCODrC3evEPDzF3+zGQD3H\nQz/I4O3JR0HLS0PL4u7NTkTPUkbP5O/QVUjR5fDSWUnUXUvU5vHWYE3W6PHXZFDY6fLZZ1La\na1Xb6vPcbljdclrd7PTfdV3f7fTgeGDifGLi7vXjf2Xk7/blg2jmhmrm8ffoim3pjXDp8vfr\nkXLr8/jslHXt9fnumHjvm3rv9vrxn33yooDy9/r0pYP0qIb0+fv1q4n1rY31sJD2s5T2tpf2\n+vz3uJv3u574vqL4wKX5w6n5xqz5+/36ybD6y7P6zrf70br70737/f381sH82cT928j93cr9\n38394dD94tP95Nb95tn96Nv96t797OH9/v7+7eT+7+f+8en+8+z+9e/+9vL++PX++vf+/Pr+\n/v3/AAD/TU3/aGj/fHz/jIz/mpr/p6f/srL/vb3/x8f/0ND/2dn/4eH/6en/8PD///9BK1jo\nAAAACXBIWXMAABJ0AAASdAHeZh94AAAgAElEQVR4nO3dh58zR7Y3dAl4yA8557xkLmHJS85L\nzlyiiAMsS1owYYEL74sxGIPBXExmSZdoksk52V5ohdFoNDPSX4M6VNWp/DvVQa1H5/fZfax0\nutSq+o66Wx0WZ4lE0juLa78BieRDiECSSAaIQJJIBohAkkgGiECSSAaIQJJIBohAkkgGiECS\nSAaIQJJIBohAkkgGiECSSAaIQJJIBohAkkgGiECSSAaIQJJIBohAkkgGiECSSAaIQJJIBohA\nkkgGiECSSAaIQJJIBohAkkgGiECSSAaIQJJIBohAkkgGiECSSAaIQJJIBohAkkgGiECSSAaI\nQJJIBohAkkgGiECSSAaIQJJIBohAkkgGiECSSAaIQJJIBohAkkgGiECSSAaIQJJIBohAkkgG\niECSSAaIQJJIBohAkkgGiECSSAaIQJJIBohAkkgGiECSSAaIQJJIBohAkkgGiECSSAaIQJJI\nBohAkkgGiECSSAaIQJJIBohAkkgGiECSSAaIQJJIBohAkkgGiECSSAaIQJJIBohAkkgGiECS\nSAaIQJJIBohAkkgGiECSXDOHzfn8tqk2L9d+I30jkCRXzLGqzud1dcmtSxJIkitmWz2fX6vN\n+bnaXvut9IxAklwx9RfSa7Vvb9x0BJLkiqn97KqjQJJI+mRbvR6r9VkW7SSSPjnW2xme6i+k\n47XfSs8IJMk1c1jXa0jnzfO130jfCCSJZIAIJIlkgAgkyVVz3DVb7t6u/T76RiBJrpltvbXh\nfK7Wty5JIEmumEO1PdWQDtXjtd9KzwgkyRWzrk7tb7Hyg6xEUp5msU4gSST9sum+keodV287\nAklyxXTrSMd1dbj2W+kZgSS5ZnZVm1vf1U4gSa6b+nekanfzewgJpLmEfcz1BAdpfxjHgU8z\nFwJpHmEfcz3BQdoTNPGkbpx2YzUx0dHsAmkeYR9zPcFB2hM0oab8NN7m74mOZhdI8wj7mOsJ\nDtKeoIl9M7qf181BSeNkoqPZBdI8wj7meoKDtKc4Dvwi6WVTVZvX0VqY6Gh2gTSPsI+5nuAg\n7UmOA993x8iOlomOZhdI8wj7mOsJDtKe5jjwfbUe7+voPNnR7AJpJmEfcz3BQdrTHAe+Hfnk\nkNPMhUCSXCmVnWu/nZ4RSJIrpQjSbj/umyqOQJpL2MdcT3CQ9vyOAy/55ppkLgTSTMI+5nqC\ng7RneBx4fdwFM9PMhUCaR9jHXE9wkPbITbQH9TEX7U67LXPTxERHswukeYR9zPUEB2mP3EQR\nJP7WiYmOZhdI8wj7mOsJDtKe43HgfEgTzYVAmkfYx1xPcJD2h3Ec+ERzIZDmEfYx1xMcpD1y\nExP9jjTR0ewCaSZhH3M9wUHa4zZRCIm9MXuao9kF0lzCPuZ6goO0Z3gceMHG7EnmQiBJ5hLk\nW2m2p2YVSPMI+5jrCQ7SnqAJKwgk/sbsieZCIM0j7GOuJzhIe4Im7PaAZvgbsyeaC4E0j7CP\nuZ7gIO0JmrCCjHT+xuyJ5kIgzSTsY67HP0h7iiZoGOtInI3Z08yFQJpL2Mdcj36Q9iRNkEDL\nXgUbsyeZC4E0m7CPuR77IO1pmjDBVmIKNmZPMRcCaT5hH3M99kHa0zShM+a57UafC4F0/bB/\n4p9g55qJ9t9x2hx+ipPNhUC6fgSSapPxmvUamqJAktxdOJDeZnRoRxOBJLliWLsdHK2vl5kd\n2iGQrh/2oaJFx5aO/J4Km2HtdrChjpDNBxPNRR2BdP3cMST2bge8tyKQJHeSiXeeGC8CSXLV\ncHc7mOtVBAXS9cPeSDvBVt0JmujC2+2Ad/296eZCIM0g9w2Jt9sB7/p7Akny4adolE90/T1+\nBNIMwx4kE4yqmey/0/P6e+N9UAJphrkPSEXpef09gXRXEUjR9Lz+nkC6q9wTpOf6/FqMw4v6\nXX9PIN1V7gjStltDGvfsjToC6a5yP5AO1bpeRBv7fMI6Aumucj+QNlX7YyzjDPfcZUErAumu\ncj+Q9FThyfdbFhRId5X7gWS+kZADXs+9lwUF0l3lfiCxXRQsC9IIpLvK/UBiL6nxlwXD5YNH\nIM0jd3sS/WfeaerYy4JyEv37ipxEHwt/HUlOon9XkZPog2FvtZOT6N9X7vUk+uyfhZjLgnIS\n/XvLfZ5Ef4pdhOQk+veVezyJ/jS7CMlJ9O8rd3gS/ZJdhOpFu0feQRRyEv27yB2fs6F8FyFo\nW7acs+GucseQ2D8L7VnLggJJch9hryOt++0iNF4EkuSamXgXofEikOYS/g8qfQ7MmU8TvJ+F\n9vobCd/hZ4K5EEizCfsHlQl+gZn4OHAoT82y4Msaf0/TzIVAmkfYKwsT/AIz9XHgSPibDyaa\nC4E0j7B/UOl5YM5MmlCLdvDPQnxIk8yFQJpL2CvRE6x1T7Fiz/pZqCgTbZ4QSPMI+wcV/oE5\n478nfszPQiX7wjG/kUabizoCaR6503Wkda9RLutIEi/3udWu33IXViRb7e4r7ONs2AX8jN6E\n+VloX1AN6pvggxJIkutm1/0s9FhSPKe9GwSS5Erpv0epQJL4ubtdhCaDJLsI3VPuc2NDv8jG\nBombO9383S+y+Vvi5m53ETrumsvCvpXUyi5CEjd3vYvQpYV1iSTofckuQneVO91F6FBtT/UA\nP1RF27+RyC5Cd5U7XUdaV6f2m2K8rwtZR7qv3OdWu2axjgXpacPdXi5b7e4rd7mL0Kb7RoK3\nBDwV/PAkuwhJPvR060icswjNdFO8QJJcMzvmctec9gqyIpDmEuYx1wUF/EzQxJG33LW7LAty\nM8FcCKTZhH3M9fgHaU/RBDdv6y33NN7TzIVAmkfYx1z3O0h7Lk2ww9/LdaK5EEjzCPuY634H\nac+lifNpX097vUcX2PiQppiLs0CaS+50F6G3dfcrUtEuQlBkF6G7CvuY634Hac+liW31WH8X\nnfbjrcFMMBd1BNJMwj7mutdB2nNpgvV10e4Gwf5BdoIP6iyQ5pDKzggFE7ynsqy7rdmncSBN\nNBd1BNL1c8eQ6iuOX/7zsh1nuUsgSe4kvfYondNuDgJJctU0ux1sy3agE0i3lPaXjnrv/e2o\nOxCzj7nuc5D2fJroExDSJHMhkDJpfuk4rXssgGBhH3Pd6yDt2TTRK4yzCI0+FwIpk8dqd7r8\n83jphbfH8X6KYB9zPcFB2hM0ofNS8jsSeBahSeZCIGVS1Rtoq3Yr7WnM3XGYx1xPcJD2BE2c\n9302qUFFU8zFWSBl03z864rcGa0ZVnfzD9Ie/z3xYxyVHOUAn0VIIF0/j/UeJk/tbian8VaS\n2MdcswsmeE/8rKvnyzrM29u24h4cUQc8r93oc1FHIGXyWq33r+fd+iLpuCn6uwmFfcw1u2CC\n98RPPcKfLp/qa9GfKM46kpxF6No5rs1P4yMe0cI95ppfMMF7YqemcKxH+Ign0Z/ggzoLJCTP\nj80poHZPo24/ZR5zXVDAz+hN7C6Ldm+XZa6XMa9GMcEHJZAkV82xttD80ANum96NeixEjwgk\nyTXzVH+pPFbwD3Rz2ivIikCaSbjHXPMLJnhPrOxL1jg3/LMITfBBnQXSXMI+5ppXULTD4MjH\ngesfeDg57bhnEZrgaPY6AmkeYR9zzSoo22Fw5OPAq+qND4l/dNEER7PXEUiZTHRs2LgnPynb\nYXDk04Y8lnyy/K6Qk5/MI4dpILGOuWYXlO0wyH5PvJx28/xkyyKQcnldT3EtYvYx16yCsh0G\nRz4OnPVeyjPBXNQRSNmMfB6nLqNeH6lwh8Fpro/EDPswPbk+0lxy6M6MNm7Yx1wzCkp3GOxz\nHDg/kKqCw/QmmQuBdBeZaIfBfkEgTXmwISsC6U4yzQ6DvYJAmugwPX4E0szCPua66CDt2TVR\nBz9JJPhiO+POhUDK5uWp3U6725ccfIaGfcx1r4O0Z9MEDdJMwWF608yFQMrkpK+iPeqGH/Yx\n1/0O0p5LE1YY60iMw/QmmguBlMm+Wj+3G+3eLr032oZw9jHX/Q7SnksTVqCvDPZhehPNhUDK\nZE22fY94rSr2Mdf9DtKeSxNee/lwD9ObaC4EUiZW7467rx3rmGtWQWVnrPfUM+M0M9FcCKRM\nJvpGYh9zzSoo22Gw33Hg/IzTzERzIZAyqa/l2/70Muo6EvuYa15B0Q6D7PfUM9hIb/ZT2OEb\nDiaaC4GUy5b8Kd+Md5Ql95hrZkHRDoPs9zRBVHfgPwpNMxcCKZuXfbOlaL17GmmzD/uY65KD\ntJk7DBYdB85L0YpbvYBwbnZ5Qt7gBHOhIpCuH/Yx10UHafMySRMFkNb60srI6uoEc6EikK4f\n9jHXRQdp8zJBE0XhHe864VwIpFxOl8XrbbduO5NjrosO0h75PU2Uvf5GQlZ5JpwLgZRJd8qQ\ndt12JsdcFxykzd1hcKLjwHXgPUp3zTrSyxraBDfhXAikTPb1b3mnQ7v5eIKTn4xSULbD4BRf\nRJw9SotWqmTRbibpznTwtt683S6ksh0GJzmhggrww5BAuuWofjhtt/PdVyZXMMDuGePM+iz3\niy2KQMrEnCN3s71ZSAPsMDjejnDz2y+2JAIpE3NygLdqe6uQZvuN9GHsF1tHIOWy1x/+cart\nwINDGmCHwbnsUbpfM9eRrAikK+ZVb5l9e7xRSAPsMDjOEGTvUbpnb2ywIpDuKiNswuu9w+BI\nQ5B/faRe56cTSPPJBIt3424LL8tM9m7o+TYE0nwyx0E7x/c0Tvb8C43RCKT5BOyLp035svzw\nkPrvMDjeVrsma3RT4nbb5wyXAmk+wfriqc9K8eCQBthhcFxIb/Dkj7Kx4QMJ1hf4edeKm2AU\nDLDD4PBD0JBotiViRb3+QAmkOQXrC26PjXvZ+4l2GGSG7km7gU/nN9W1MZgRSNxg43DHXCku\nGt2HdbWBxtU1dhiEMvZmlfEPJlMRSNxg/fG25l19m3fZ+9ddtT50iznITmrX2GFwnDyxPqcJ\nDiZTEUjcoIt2vGV51mXvX5vp7uvLdb/tkGWda+wwCOa53q+BceLUJ84fqIkOJqsjkLgZBxLr\n9c2FyfftzqcnaDWdvcNgZQeoKAv3upS89zThuqFA4mas7cCMAdK+hrXEwt1hcKKLuR/02bXA\nbQi89zThuqFAusG0Q+K5HXsjnUZ5mou5b/S5TODLHfEmP9m6oUACwv/9/cxf+GfksV47anN6\nLDoqAhhUk1zMXb+PcUb5hOuGAgkI//f3govSM+DVG6P0WxvtML0pLua+YZ3vkZ/pDiYTSJkU\n/f5esPDPg7dX425d9rUxly13I68jTXgwmUDKpeT3d/7CP3tE9ctcII281W7CCCQgBZ3GXfjv\nt9Y9wXEXYw3cZ+YF+Nq8bMsuUS772t1auAv//da6bxhSYU5lVzsSSFdOfeHS83mHHwrDXVTr\nt9Z9f5Bmsw+7ikBCsm2Xyas1Lom58N9vHelmIRX9sFDnMKeTitURSEAO1fZUd8GBszzBXPhn\nby6nuXlI8A8LZltD0TXEBNJVs65ObReMuXxTttbd5iYhFf2woF9etnFTIF01zWLd2JD65CYh\nFf6w0CsC6arZdN9I4Lbp1t2Uv3fc7FmEpv7LJJCumm4dCd0SUAKpeK3brk7lcPkr8LYp/dt/\ns1YnakIgIVEXfhtvh+iS3fn86lSaswM3R4wWSZrLKO9zmjOBdPUce2wJyE+8ZK3bCjI+ttVz\ns2z6PNGGwXGakLMI3VlYi2ola93s0w61K3l7xmAa98xGfpA3xv+dbaK5EEjjhLuoNv52t2bX\njPoKk3Bl+XsqWtGD2pvF5sZQBBIQ8oWxBf6+9V9UA8I77dC5XrR7Pda7A+CLduwm+q3oQUOe\ne5qzgrkoi0ACYsEYaVHt1BxitN6jvc467VCdhvdTPTPAdY/5TQzw1wOBxD3NWcEHVRaBhORR\n7Qj3cvmTCC1zc/8mv627X3zR3fn4P1Qd2mv1beBNJrwm+v+8ii3acWebX1EUgQRkr3fN3oKn\nv2Jn256G4bSvwANtJhgf7CZ6vhWB9KHHOliI2R8vGIyRzwJyE7npWRdIQNb0YCGwu/e8v4Pr\nbpX4NN5o6rdnQy4D7BclkD707PXBQnt0o5dxhK3a76tmlfhli58Ei3m+r5I9GxhNTLaDIfsY\nyzFPjGYikJCQg4XAqwGvq+dL1dvbFh227OORuAUFezZwmtj3Oz4Iv2Jfy5RxjGWvI73gCCQo\n7S5C9ZcLeEBZ3dlPl2+jV7j/muORtvDv9gUnsuLu2cBqomD18VzwyxP/GMuJzs8kkMZJ3dnH\nuuvGWsphn3aIv2cDq4mqemPOa9EvT/xjLEc+K7KKQBonu8uC1Nul617GgsTezMffs4HVxKPF\nAnpPJb888Y+xnGh7qEDKpOIPkDrNqn2zdI4ugjBXotmnHeLv2cBq4rQr+ZzYg5t5jOV5/LMi\ndxFImRRCuqwgnZs/0+hGOO5KNH/Rn71nQ9Fq2MhhHmN5lnWkWWXX9MXLuuikhFD4K9ETbIzi\nn0+Y3QT7xy3+MZay1W42MbsIwT/ycI+CKThRUZ/TDs2liYIft/jHWE7wQQkkKAXrq9w/zvyV\naH4m+GGS20TPw3ZnFIEEZM1fX+UeBcNfiWZnhsuCBT9uzTUCCci+WtdLHpf1Vfjne+5RMOyV\naPY+AfyV7oma4P24xT1uq+9hu2gEEhL1lxa/lgh7Qx93JZq9TwD/h8kJmmD/uMU+bqvvYbto\nBBKUZ72LEBj+FnPGSnThyX7dG1duQjfD+XGLd9zWJAf9txFIt5iSfQKYP0xO0EQd7o9bTKvT\nnRVZIM0jRWfXYqXHOtJ4TbDDP25LziJ0V5mgu+e41Y6dguO2polAAsJf4WGX8E8axd58xf9h\ncoImVMAj8kus8ueiJAIJyASQ2CeN4m++YmeCJrhH5J/Zx21NMhdngcRJwaW04RK2VfZph/in\n7p2gCe4R+QVhz0VZBBIjBZfSRkvYkNibmnuc7He8JthH5PMjxyPNMAV9MVb3sTdf8dfCJmiC\nf0S+CrxSNcH5meoIJEYKLqVdePXtfNibr/in7p2gCf4R+eyVqom28wkkIGaxC97XjlNSdiYr\n/sFC7PX68ZtgH5FfsFIlxyPNJqrvGJfS5pQUnhKOufmqoIXxm2AfkV+yUsXdzlcUgSS5ZrhH\n5JevVI0cgSS5pYx+mrPSCCQorL2/KzuDv94OuvmKtIBcLa2kie5zehztN6FepznD56IkAgkJ\n73ikaSBxN19ZbWCbEtlbyPjHbXH33+Gf5qxg54mSCCQg5iT6+AmuuSce4r6ev/mKfbU0dhN7\n9t7f/P13uCtVU+w8UUcgASk4ZwP3xEPsExWxN1/xr5bGbmJdcIQsY/+dsvP0T7DzRB2BBKTP\nWYTAkqLdcVibr6wWoFb6NTF8BfzGvaoJtvMJJCAF57Xjfomxv/TYm6/4V0tjN2E+p1H23+Gf\np7+tmmQ7n0BCwj/TKvfEQ+wTFRXsE8C9Whp/C9lT9znBf/tZ++8UnKf/PMHlDNoIpExKt01z\nN2BxX8/ffMW+Whq7iYLPirP/Ttl5+gu285VEIGVSCol94iHu69mbr/hXS+PvdsD/rNh7IaGv\n1OF/UCURSJJbytx2aNARSBLJABFIEskAEUgSyQARSBIJnDgXgSSRoFkIJImkdxbyjSSR9M5C\nFu3wPEjuKarbF8H4w0MgoXlYMcMu4FfcaRNTvCfV7YulmzAMgYRmlt19n00IpFvOLLv7PpsQ\nSLccVl8sl8nO+0UVqLs/0fG6O9rCT7rgFU2+3yVf8LGK90yo4iudwJPx9/RRG6jg512CE4o2\n8VGsCdXti1/DjUDqFx6kROf9opVMd3/ixOnuYAM/sQNUNPm+lWTBx1acJ/2Kr6x4T4ff00d2\nkgU/d4I18VGqCdXtAmnocCAto53nMLIp+RWuI4dSoImfBJKu6PJ9N7GCjwNJvKmvArFfEXhP\n7hi3h7lT4DIKUOI3obp98Wu6EUj9gkOql+vCnRdgRCm5FQFGtiS/iZAjKikyF54iLcktCDGy\nJVkVIUauJP89BQY5Hed2QciRS4nfhOp2gTR0YEjLaOeFGRlJdkWYkUXJayLsiEgKz0XQUSvJ\nKYg4opRoRcSRTclpIjzE6TC3CiKObEnubOebUN2OQopHINnpDynqSEmyKuKOjCS7iZgiKik0\nFxFGIUhxR0YSqYg7opLsJuKO9DCnBVFHFiV+E6rbF7+WG4HULyikZbjzUoxCkFKOtCSriZQj\nLSkwF1FHjSSrIOVISzIVKUdEktVEapCrYW4KUoyoJH4TqtsF0tABIS3DnZd21EkiFWlHShJt\nIu1ISfLnIuHIhZR25EFKOzKSaBPpQd4Nc12QcWQkMZroClS3L965EUj9gkFamptWQcZRK8lU\n5Bx1kkgTOUedJG8uUo4cSBlHSpKqyDnSkkgTOUc2pKwjLYnfhOp2gTR0IEhLcpsWZB3ZkPKO\nXEh5R0FISUYOpKyjTlJXkXekJJkmsoO8HeZ9IKFNqG4XSEMHgNRt9/Y6D3BkQQIctZJ0E4Cj\nVpI9FxlHFiTAERvSV/YHBQxyCglw5EGCm1Ddvvi13QikfslDWtp3TQHgqJE0NaScIwoJcdRK\nesAdFUD6iAfp5wWQPhJIYyYLyXFUDglyZEGCHHmQso4IJMyRgYQ5siFBg9xAghx1kvhNqG5f\n/DpuPgRIqZMAJp7zT1J62FTqElb7dWWuZnVQE3l9rKpH68o85ZAgRwYS5qiRxIP0ExtS3pGB\nBDpiQ/qKfFDYINeQQEcWJEYTqtsFksnGe6a9xNS65tOeYrq7as+rmsjRvEAlB8l1pMcs5qgP\nJNDRfUL6uUDyUwbJe+a1uYjVoT53+ku1fj2/rttLTb2u1UvXl0dP9tXr0pDs7Qx9IKGODCTU\nkQ0JcMSH9HFXgTpqJD1wBnk9zEshcZpQ3b74dd0IJJ1dpR/fN5c9fG7OHX+ott1LnxtCJ+uK\nRElIPiM9ZkFHU0MCHbUFsCOB5GemkPaXNZrupv53X1/Zx7tZrwcdzt2VECJTu5iqV4Ta61/p\nyvNjd10smhSkkKNCSLCjfpAQR5NCggd5Bwl21EjiN6G6ffHrufkwIO3UJXMIpGY1Z2duPjY3\nd+aSP2FIp/bJs57Oq757Wat6WrcXMdUphIQ64kP6pGsCdkQgQY4E0vnDhdSu0TxTSM/dg82F\nDMnN7el82tZLbpGFvgN5Tr1E320YWteajEMKrB9NAWk1NiQ9F7ijDhLuaEJIeAv3AKm5RmO9\nIGYg7ZotBcf25tHcbC6KbV7q5m29O8ch1RsbHq2rbkUhhRl144PjSCDNBNKKQvr13XwYkPR/\nDCTvwe6mvjpceMGuvZxpDFK9jvRmXcs+BinmaCpILEcdJHzJbipIvFEukHpmQEjbFsk6Asl6\ntMkHBInhiAlp9eFB+g3c3B0kt4rmbbNtd1tot9q9qSsddy/dwZAi60dqCLIczQsSmQuB9OFB\naleH1IrPi1kxIjfJ6lJX5U7nqK+V/dRV7K2Xto++WVfUDkKKMxJINwtpdQ+Q2q1yx3oL9aHe\nKOduqtM3m21550Nr7s2eDBFi7dmgIV3Wjk71xoZnUhSClHLEgmQqxoOkm+As2c0Okv5rMBWk\n39DNhwHpsfnN6FwT0T8e7cyPR1tz/fn25vqtNmdvyD4/ksvUb9TPTV0D7X+frEebzA2SKhgJ\nEp0LlqOy35E4g3xkSKu7gFTv2dBulK5/Me0G/pO1Z8P2Re/Z0O7A/bJxIJENEedTs/c3aaDN\ncUsebeJDSqwf3Twkay5GhKQKRoRU1oTq9sV7Nx8CJDD2V8lA8SClGbEgkQqOIxYk0wTHEQuS\nqRBIJrcIqarXapy9toeKCynniAGJVowFiTTBhsQ5rK+rYDjijHLSAuuAJH4TqtsXv5Gbe4DU\nrto4C3Jtqoou0BVkPEhWBccRAxJpguVoXpDoe0IlFTahuv0+IZ0P26raBL+PhoaUdVQICT9h\ngyoYHJI3F4wTNpRCgs9KUg6J14Tq9juFNGJsSHlH8J4NTsUokGgTLEcMSPYwxx2NC6m0CdXt\ni9/YjUDqFwsS4AiF5FbAJ7UbCVJoLuBz2pFhDjvqCvBBrlrgnteO4UggjRcCKbPd2+puhiMY\nklPAcJTf2BCeC/Qsq3SYo47KIQGSaAWjBQLpN3EjkPrFQFoG1AQCQQoNWtgRCslpguMIheRX\nwKf+BiEFWsBP/s1vQnW7QBo6hZCQq1C4AwR1pApwRxlI8bnALkRhVeQkuQXwIGdAKm9CdbtA\nGjq695aB4RZKHlKkArs2Ei1AGa3SO60m5gK7NJJdAV4eSRegg5y0kJHUownV7Yvf1I1A6hfV\nF8vQcEsNQdgRGSAQI1KAOkpCSs4FdLE+pwK7YJ8pAAc5bSElqVcTqtsF0tBp+wLbzmB3HuqI\nDhDIESnAGKkKmJH1niBG9jBHHJECaIzbLaygi8jmmvBnW3X74jdzI5D6pYMUGGuRkO5GFLkD\nJM/IKoAY6QqUkfOeAEbuMM8ysgqgQe5CAi5rzm9CdbtAGjp1XzC+j+zuRhh5AyTHyCkAGJEK\njJH3nvKOvGHuWUoW5Md4oAWPEqeJUAs4pMViEbmjHxxtSN5mGkjBDz0Sp7tzivwKQgksyCiy\nKgBEwfeURBSsoJSggvQYD7ZALeUrcowopN/cjQVjcSZSrDvWSyQmwd5LhV3Ar7jTJqZ4T6rb\n05AW5F/7jvsaicosu/s+m5gU0m/hRiD1yyy7+z6bmCkkWbSD8iC5p6huD0AimxScLyHZ2ABk\nln8377OJSb+Rfks38o3UL7Ps7vtsYqaQZB0JSrovkjv8IFlmKn784x8Hujv++s8+Cz6cflOs\nJr6MPJ5o4nNmwefMgq+/5r+n8AdlIP1WbgRSv0T7IvZTKwtS81NvpOLHNHZ3h17+GY375CBN\nfEnjPRuq+JyGXeBWhAq+JvGfDVV8lvqgBNJoCQ/BxM4/PEixih97SY6Pz7w4A6R/E196yTXx\nuZehC7524zzP/qBASJgbSBkAACAASURBVPKDLD+hIZjcGZUBqdv1KFDhD3I6zr0Cf3g4Q6Rv\nE74iT5LbhK/CkeG9p8zr3QJPkU8J+6Boger2xW/tJryL0ILesV8x5qi8wQSGYHq3bg6kcEVw\niNNh7hSEGVkjpGcTYUc2JbsizMiS0bMg7MiWZFcgn5Pq9hykfASSHc9FhNEv0hMQQ9G7wjoV\n0UGuhzk4PsgI6ddE1BGVZFVEWRAYvQpijGxJVhPQ56S6ffHbuBFI/eK6iDsiF2lBsgx3d2qQ\nq2FOCxLDg4yQXk0kHBFJtCLBwsDoU5BwRCXBH5QuUN0ukIaO4yLlyFx/D8gy3N3pQd4Nc1KQ\ndhSGBLRAC5KOjCRSkWShYfQoSDoilNgflEAaLbaLtCMGpCW5TSsyjlxImeFhBkh5ExlHWpKp\nyLBQMMoLco4CkMAPykD6bd0IpH6xXGQcNZIgSEt6h1TkBnk7zBnj47O+TWQdKUm6IsvCdZEv\n+NwqyDrSknQT+c+p/aAE0mihLrKOUEhL656pyA9ye5QD4+Ozfk0AjhxIAIvPexUAjpQk1QT+\nOaluX/x2bgRSvxAXeUc9IQGDvBnmnPHxWa8mEEedpAecRQuDA4kWjATpM4E0aowLwBEIyXak\nK6BBTkY5NDy6AVLYBBsS5oi6YBdAkL6mnyzjc1LdLpCGjnaBOIIgeadSeeAM8kkhYY56QWIX\nYI5aSewPykD67d3cK6Ts9ZCO0Ks0JMhRLSkHyWVUDAkcHp/1aAKE9OX4kD7vAYnxQQkkLzki\nmwp5lYYEOspD8h19SJBQFsYFtwB1ZCChn5MN6XdwI5DKnleZDBI4yOthzhsfn7GbUAWoo0ZS\nGSR2gUCaOMNCQh3lIAVPNfnAclQOidFCISSYBR/S51xIX7MhfSaQ7OzX1b6BUunFt6o6bard\nZcVoV1Xr/bm7tqx6xWFTbQ7tS9921fqJTowHaZWGFGJUOsrHh4Q7+gAh/Y5u7g/StjaycyFd\nHtiry5/vbUhNQbVtXrqub1JJDxxHGUhhR/cMCS/oIOGOFCT8cxJIVp6r9ev5de1C2p6am8/1\nC6ozfU4VPHcvO1QbMrkBIUUcNRXwIFejnDU+ypq4a0i/k5u7g7SrXi7/Hl1IL+YVDqRddWwK\ntupl1urTcJCip+L/YCCxWAikmadj4ELqnn07Pm0dSMECnQeOoxSkGKP5QVLvaVaQVuNDWlFI\nv7MbgUQhtatDo0FSQ5DlSCAJpDkmBemx2hyOb6NB0ixGhKQKWOOjrmBRZUJaCSQvNw+pXeV5\n0S5eHCxnF5JaR9qNCCl5qbI7hKSamC+k38XN3UE6mq12m+pwPm0tSC/nV7WO9HYObLU7n8eA\nlGLEg6QLxoOkm5gTJP3JjgdpJZDs7Oq1oMdaw8H5Rem8b1eR6m1zm6paB35HOp/LIRkWLEcf\nDiS+ixEhsT8oG9Lv6ub+IJ2f1J4N9a1Ha2PDxdf2pVmKe9loSOfDWu/ZYP7tgkMiLFiOOJBM\nAWt8cCCZJliOWC7YBQLp5nPHkFg7f5dB4hx2MTKklUAaNb0h5S+JjkOiTXDGR2ETY0EiTbAh\noZK4f3FWDqTfzY1A6hcYEmVBHeUYjQuJ24Q1FxxHHBeTQmJ9UAJptKCQLBYsR4WjnHHqk+Im\nGI4YLtgF9vm7cEd9IP3ubgRSv4CQbBYsR/Cu2U4TDEelTTAcdRVcSPwCTFLhByWQRkvTFzij\nESF5TeCOipsYA5LTBLuAf4JIxh8c1e0CaeggkHwWXZYJPm4FPsh1E7Cj8iZgR7CL3gUAJKeC\n8QdHdfvi93AjkPql7QvcEYW0XEGBRnmoCdhReRPoKfRNBcqivAA+hz7/gxJIoyUPKchihWz3\ntivgQW6aQB31aAJ1ZCpAFj0K+Jd1gf/gqG5f/J5uBFK/dH0BO9Kdt3SfiEZVoIOcjCjQEdBE\n5D2lJYUrMBZ9CvgXGkP/4KhuF0hDR/cFxkh33tJ/JhbdBDjI6YjCHPVqAmJkVSAqoILExZgB\nRgUflEAaLWlI7vjTnQcv11ndDY1xe0QhjHo2gVyK2a4AGDlNIBX2L3SAo/wH5b0n1e2L38uN\nQOoX0xeIItV5HEdWdwNj3B1R+eHRu4kApUxF3lHfglXAUroC+KAE0mix+iLPqO08liOnu7Nj\nPDCiMoyGaCKtKFCRRhFqIlfhFdiUgIr856S6ffE9NzaMxWIRuaMfHG1I3mb83osSMp23TL8k\n092XRIZ3vOCS4MgYtolV2FC8Iigo2USiIvKeVkFD8Yowoa5AdXsG0uJMpFh3rJdITGK9F+8L\nbgG/4k6bmOI9qW5PQ1qQf+077mskKrPs7vtsYlJIv7ebDCQvAsnOg+Seoro9AImsCTmQZB0J\nyCz/bt5nE5N+I/0+buLfSLKOhGSW3X2fTcwVEr3jvkaiMsvuvs8mBNItJ9IXn+jAnRf96YbV\n3fVPVLGCj1W8Z2IVP1XBCr7Q8Z/LfVBowac6QME3JqFp8ZtQ3b74fd0IpH4J9MUnTpDOS+1N\nwIHU/NQbKvjYCfCmfmonV/CFE+fpIT6oT51kCr5x4k2P34TqdoE0dPy+cIeHM0JCYza9fxsD\n0jJW4DpyKPkVPw0kVeAy8ih5FYHPKf1BuWPcHedOgcsoQInfhOr2xe/nRn6Q7Re3L0LDwxoi\n/pgN7ifqnR8BSbfrkVsQUORQcitCjCxKbkHIkS3Jqch+Tl4ToUFujXOrIMTIk4Q1QQtUt2cg\n6S3eC3rHfsWYo/IGA44PM0I8FhFHP7bProVkGS6IOSKSnIqYIyPJLggzsiXZFfnPyX1PEUdk\noJOCCCNXkt1EvgUcUj4CyY7VF/HhEYUUZzQUpLgjI8muiDvSkmhBlJFFqd8HFR/kZpybgrgj\nmxLchC5Q3b74/d0IpH6hfZEaHnqA2GM25cg6PTCQZXB8pBxpSbQixSgEKenISOr1QSUdeZCS\njiglfhOq2wXS0CF9kR4eaoBYozztiFz5AcgyOD7SjgKQ0o6UJFOQcaQl9fmg0oNcDXMYkpbE\nb0J1++IPcCOQ+sX0RW54dAOEjvKcIw6kpblJCjKOlCRTkXPUSdIFWUdKEuODcgtyg7wb5qog\n6ygACW1CdbtAGjq6L/KOPEhZR+bqeLlYhwqagqyjTpKuyDuyIQGOXEjsDyo/yNth/oA68iGB\nLQik8aL6Ahge7QAZBdLSuqcLAEd8SD/tB4n/QfEgAY60pAdGC5/akP5ANwKpX3pAAhyBkGxH\nugBx1EpSFYgjNqQv6JuCPifrg8JHOQ7pG4E0txSPD/xKLVlIjiNVgDmikCBHjaQHhqNWUukH\nBQ3yZphzIH2zYjdhQ/qD3EwKiV5lMppjfjqnx6raI43xX6DeYra6ywNjeDQDRLHAHCGQXEfT\nQQIdEUjsDwp0pCGBjigkThOq228A0gYYwfX1lJ+QxvgvmAoS6AiA5J+SiAfpY10BOuoBCf2c\nBFI6yOjEXvM2wISikNC3UacQEuooD8ljpApQR+WQUEdTQPqUCembnpB+wc2NQhqiseEg8cfH\nYJACjtoC2JGGhDriQ/qiGBLsqIMEOzKQGC3MAdJ+fVmrMctNp021uzx62FTrg37B9q1+qmrH\n8OWpTfOUfrFK1b3meFnCW++tajrJy0v2+nk9NWvCTaW9kGgv2rVPmnd53FbV1lqJ442PT4aG\nFHI0X0icz2lsSN8UNaEZ/MFuJoK0rcf+zozSXbO1YNeQ2OoXrE8a0lY/pV6s00F6av+7p9V0\nkk0dnbp7s2ln3z5KJk4gtU+aSR7aJg/k9bzxoSDBjuYMCXdUDAkf5MWQeE1oBleC9FytX8+v\nazNKt/WgP9b/OW2rY/2Cy83HWkX7VaAKnvWLaZrXVPWTz81NU00mWZlJPAdv1qWuIwtS+ySZ\n5Lp6raewIa+/KqTIqY/LIMGOBNKFwR/qZhpIu+qlGZJ6lL60j9ZCTvVyW/OCU7VWkHb1uK3H\nsH4xDVmBaW6aajLJqpvEzpqaNWHfEYXUPelN0krZEsswkMKM2gLckUCCW7g+pG7kO9uWKxVK\no73lFIQn93Z82nZfTuYZd5Kpm1sfKfnS7J4kk9xfFhdfX63XXxFSzNFsIeGfk0CKZBRIW1Vc\nDKlaW4tp9ltUT5JJnp/W9eN023sRJJajGKT4JS3uEdJqYkjfd3NdSO4LzgxIj9XmcHzzIMXa\nDN18eW1WtNxJ20/a7R/3mx7rSANCijLiQuoqcEd8SCuB5KV0HaleuXhxIO3MKsc2so60i0Nq\n/nnrNvGZdaSjedHL2VlH2nkTfqqL3Emr/7dP7twVI+sNXQtSwtHYkFQTI0JSTcwX0h/hZhpI\nR3erXfNoswXtfKgH9aHeNLZvt9q9nb2Na046SC/n13YdyVSTSaqtdsfUVrvzxtnXyHqLzZNk\nkpt2CtN9I2kXHEc8SKriw4DE+0X29iC1v8U8OpC6tZxmnUP/ErSpmu8B5+ceO92PPG1eaDWZ\nZNNe1f6UG/8d6bL8dnInrd9i+6SZ5LNpUYUFSY2Pm4akm5gTJP05jQdpNQtI9Wr6/uxCqvcZ\nqB7bdfd6i1h962XTLm0d1tYOCFbahy5Oti/HVoqqJpNsNmCvu+8bPTVvwk/WXhPOW3xS+190\n77LZs8Ha0DcqJOPCYZR0VAaJs6cdE5KqYH1OhZBYe632gPRHuZHjkfqFA0mPD5YjH1KaEQ+S\nqRgfEv+D4gzykSGtBNKoYYwPM2b7Qco5Yu3ZwIZEmuA44kAyBfOF9Me4uRVIlcmspt30Hnd8\nYJIsFwxHo0KiTYwPiXF8rP6ccEecJlYCadxp3zgkUsFx1L0nhiMGJNoEa5QLpBsODomOD44j\nG1JmOwMpYDjC9/7mQ7IqGJ8TY5Q7nxPsqKAJ1e2LH7gRSP3S9h53fHAcWZAARgxIdgXDEQ7J\nrmBDgs84Rz8nHiRWE6rbBdLQQSE5Q5DhiEJa5hWZAtxRV4E7Uk1wIfE/qPwwD3xOQ0MyTahu\nX/zxbgRSv3S9Bw8PDFLIxQp1hELyK2BH+j3BjlaFHxR4Um77c0JPo89vQnW7QBo6qvfQ4aE6\nD3dkBshyhUUVwI4wSKEmYEer0g8Ku0yE9TmtcpLKm1DdLpCGju49cHjozoMdlUOCLo1kVaCO\nyKAFHUGQwk2Ag9zeKIM4KmhCdfviT3QjkPrF9B53fKCOdMXSfSIW855AR6YCdEQHLcSIVICf\nE2kCG+TOzwR5RiVNqG4XSEOH9h4yPEjngY66CmS7d2BEQY5IBaLIaQJyRCsgR1YTyCB3f2/L\nOwKacN+T6vbFn+xGIPWL1Xv50WF1HsSoq2A4skdUXpFTgTiym0AcrXJ/cdJN5Md4YJ/EnKOC\nJlS3C6Sh4/RednjYnQcwais4jtwRlVPkVuQZ+YM2o8ivyH5ObkF2kPuQPEn9m1DdnoPkXsjc\nZyOQ7Hi9lxwcoe5OIuoqWI4CIyrNKFCRVBRsYpVAFKzIfE6hJuIjPFKwMpigihSipkB1++JP\ndWPBWJxtKQuBlEu49xJhF/Ar7rSJKd6T6vY0pAX5t70lkHKZZXffZxOTQvrT3SQgLWTRLp9Z\ndvd9NiGQbjkPknuK6vYAJLJ9wYbkrjCdrWclbWb5d/M+m5j0G+nPdBP9RlqQ295rJCqz7O77\nbGKekNwND/ZrJCqJvvhJHbzzPqvD6+7IBm3e+FgmK37pEl4TP2oCV3xZJ/REbi6ao4CggoJP\nVqW+hBgtUN2++KGbKKQu7sARSHYiffETmnznfUYDdTe05xyS5ieqYMUvWYGa+BFNvuJLGvfJ\n1FzQI+rSBfxPVsW6Hp8qUN2OQzp7t2OP3HdCffETL8nO+8xPprvBfbmRLCMVv+Qn28SPvKQq\nvvRiPx+fC/fg1GgB/5NV8a5s2RWobk9D8rcvCKRc/L7wGVmUvIJAb9sd7lXkdkNlQFpGKgKO\nLEqBJnxGFiWnwmfkUorMhXeMt6Y0wCer4jnqJBlIf46b8C5CdMudHYFkx+2LMCMiySkId7bV\n33ZF7LgI9wwMWJbhirAjQslrIsyISLIrwo4sSuG5CDoKQmJ/siYBR60kGFI+AsmO0xdRR1qS\nXRDtbdLfVkXckXNOICR6Fz6rIqooASnqKAwp6ohICs1FmFEnqecnqxJU1EkykP48NwKpX+y+\nSDhSkqyCRG+b/qYVKUfWWeqQLIMjKuVIS3KaiDvSkmhFwpGRFJiLqCMfEvuTVYk6EkijxuqL\npKNOEi1I9rbub1KRdkTPmwpkaW6SirQjJclqIsVISyIVSUdakj8XcUeNpF6fbJc4I4E0bmhf\nZBx5kDK97Xd3zhG5tkQ+S3LbVOQcdZJoExlHnSRTkXEUg5Ri5ELKfbKfhZtIOrIh/QVuBFK/\nkL7IOWolmYJsb7vdnXfEgLSkd3RF3pEHKevIgZRzpCQ5c5F2ZENif7Jdko5qSQJptJi+yDuy\nIeV7u+tvVQE4wiEtrXuqAnDUSjJN5B21klRF3lEnyZ6LjKNaUvknizmyIP2FbgRSv+i+ABw1\nkh4Yvc2H9DEtgB31gIQ4opAQRwFIWUc/6PPJCqTrR/UF5IhAgnq77e8RILmHrk8GCXLUSqJz\nkXf0gz6fLObIgvQXuxFI/fLAcdQLEuSokZSFtHQfeGA4aiTxIP2oJyTAUX9IgKO5QjrmX3J6\nrKrH19Cj+1xp9mJHwRd4l7nNZDJIoCMEkueoqwAdUUiYIw0JdORAQhz1hpR1NF9IG2CsrpvL\nf7mS6mukP+VK5wjpJ6rzwN5u+ntoSL6jYkigIzakL9mQVuWfLOjIhvSXurkiJGCs7qvH+p+d\n83BVvQ0w+Sgk8M01eWA5UpDg3tbdjTrKQwo4aitQRwYS6khBgh1ZkMAvpF6QAEc3DWldnUIv\nhEb5hJBgRzOAFDxF3pwhQY40JP4nWwbpL3czEaTjZWls3a3W7NfV9q27cmt9/7CpNof6RlWd\nNt63T/342r7bVQam2U5t3U3t8l2mntdtWM01lfZCor1o1z6pJ3k+bqtqa63azQ7Sx2lIIUZt\nBexoWkiwoz6QQEfXh/TUDv5mVG/rW+uThtTcr7bNIN6FNiLsq4N1v4MUmma7+kSm1t4kbVjN\nNRPfOhMnkNonzSQPbZP07UwEieMoBSnsqBAS7GjukBBH84BUVc/n83MzOJ+r7en8WI//9o/+\nc7V+Pb+u6xdU9VNungO2msrgNI/1rdO2OtbP6wk/B2/Wpa4jC1L7JJnkut7s8VxtyOsfmI6a\nzsN7e2BIEUcfDiT+J8txRCD9opsp15GaQb+rXs7nU7201kLa1SO0Hq31Ay9+0WG39rbQkRUY\nZ5q7ZqXqVC8gVt2Ed1YbVnO+Iwqpe9KbpJWbghQ9hXgRJJajugJ3ZCDhju4E0tvxadt9kdAx\nq++nNjk/Ost26oXBaVZqFcqfsHdz69M1kNSTZJL7y+Liq70t/pYgxRjNGBLmqB8k3BGB9Fe5\nmQjSVo3FEkgnZ2tD98LwNDmQqrW1mEZfY54kkzw/1b9rrem29xuCFHdUV+CO2JBUEzcMSX1O\nqtuvBemx2hyOb6WQvCea+4lp0pspSC+vzYqWO2n7Sbvx435Tvo5U3N24ozikhCMeJDUX84Gk\nZ6IEEuML6fqQmsH41m2kC68j7UKQ2t+R3tzvDaPHnebOrMW0S2bWOtLOa+4p9GWn/t8+uXNX\njKy3OTKk1WCQkpdYmhsk1QT8Y2zxJ1sK6a91MxWkl/Nruz5zqDeC7dutdvUykrMZzU6zZ8Np\nF1xHCk6zmdrl/s5stTumttqdN86WDGvzd/MkmeSmncKE30iqguMoCCnFaGRIugk+JM4X0piQ\n9OekGVwJ0r5bzai/I/RvPpuq+Yvv/LBjZ21+ACLpfuQJTLOb2rr5wfexvtn8wBv/Hemy/HZy\nJ60htU+aST6bFlU4kHp0d19IaUesjQ26gA2JtasdDonOBP+T5TgikP56NxNtbLiM6e3LsR3V\n9bav+rvoZdMuVx3W1q4GdvZrvUuCSfvC0DSb3RCqx7ez2rOh+745mMk4zT3Z+1LYeza0T+pJ\ntns2WBv6iiDB/a0rekLKOLppSNZM8D9ZjqMZQPpgw4DUp7s5jnxI2UvQjgmJNMFxhEKyZ0Ig\n3WpwSAXdbSo4jjxIOUYsSKaA5ah9UwxHICRnJvifLMcRgfQ3uZkfpMok++iYLWIZExKtYDhy\nIeUdMSCRApajeUEiFQxGAqmoRSxN7zEcdaN8QkiAo7aC4Qje185pYnBI3kywP1mOIwLpb3Uz\nP0i3FRRSQXfbFbgjGxLiCIZkF/Ah4SfjwiD5M8H+ZDmOBNJ4ASG53Y30t11RCGmZBGRVMBx1\nTTAc4ZBoAcdR4SfLcSSQxkvbe7gjPcrh3lYVsCMKaemZCaatwB2BkPwm8pKsAo6jwk+W44hA\n8uZVIPVL13uwIzPK0d7WFagjAim73duugB2pAtyRflOoo+wuQrGZYH6yDEYCacQgkEq6O1QB\nOjIFy8BYCEZVoI4gSOEmsGu6rLKQ4jPB+2Q5jgikH7sRSP2ieg91RL4usM6mFYgiUrAMjYVg\ndBOgI10AOyJzgTnqCnBHpZ8sw5FAGi+690BHdAUG621aATlSBcvgWAgPEH0Lc2QKMEX2XECO\n0pDSM8H7ZGFGAmnEkN4DFNndHenwVAXiqCtA14+cJiBHtABzZM93VhEpwBS5LTA+WdwRgfR3\nuxFI/UJ7D3Hk/FoK9LZTkVOkCpaxwRAcIPROVpFTAChymwhIihagjtwdOhifLKZoJZBGjNN7\nGUV+d9sdDlVkGLUFnO8jv4m0Iq8gzygw36uUIrsAUBRqAf9kMUYUkvc304axWCysOz4bgWTH\nHx+ZsAv4FXfaxBTvSXV7BtLiTKRYd6yXSExm2d332cR8IC3Iv/Yd9zUSlVl29302MSmkj9xE\nIZ39O8EH7jwPknuK6vYAJLIiJJD4meXfzftsYtJvpH/QTfobSdaRcplld99nEwLpljPL7r7P\nJmYMKaBGINlJ98X3dfKdZ/Y2Abv7pzpgAbDHD5JltOCXdfzn0CbeN4kWfGICtPCtSWhi/CZU\nty9+6iYFKYRGINlJjI/v20l2nrvnVq67vX7MFUA7c0NpfuoNFPyyE+dpqIn3KuGCT9ykW/jW\niTc9fhOq21mQgmYEkp3o+Pi+l2jneYxsSn6F14s2pUATmf3nGJCW4QKXkUcJaeJ9EpI3xp1x\n7hS4jAKUoCasAtXti3/UTfoHWT8CyU5kfPiMlCS/IMSIUnIrgoyopMQOPxFJOKRu1yOnIMTI\nkZRv4v37JKSgIzrQ7YKQI1cSvwnV7RlIehehRbuDUGAfIYFkJzw+go5aSV5BzJGW5FTEHBlJ\nTkHMkXsuEyTLUEGEkU0p28T7NKTYIDfDnBSEFXmW+E2obs9Bykcg2QmOj4ijEKQ4owikuCMt\nyS6IO3LOrgVkGSpIOCKSMk28f5+EFB/jZpibgpQjKgluQheobl94H6VA6pfA+IgxaiXZBSlH\nSpJVkXIUhJRyZJ3vEcgyNASTjoykdBPvk5CSjNiQjCT6nrAmVLcLpKHjj4+EIw9S2lEniVYk\nHSlJtCDtiJ6BOB9yaIYpyDjSkpJNBByRgowjNcx1QcaRkYRbVU2obl/8KjcCqV+88ZFy5ELK\nOfIgZRx1kkhBzhEH0pLc1gVZR0pSogmXERvSJ1YLWUdaEr8J1e0Caei44yPpqJZECrKOWkmm\nIuuolWQKso7IxSVyWdI7qgBwlIUUdmQK8oO8HeZdAeDIgwS2QCB5x/sLpH5xxkfGUT9IgCMb\nEuAIhrS07g0IyXfUCxLiyIWEtNA2obpdIA0da3zkGNmQAEcWJMRRI0kVII7MlSzTWdp3uwLE\nUScp0kSA0fuCUf4JD9K3AmluoeMDcWQGFOKokfTAcUQgYY4wSI4jHqRfjjcRd6QKMEdcSN/y\nm7AheU8LJJLDplrv20vK7tf6Zn0l5u7G66O6CKYKGR95RxQS5mgCSL8EQHIddQWgozikhKOu\nAHSkIYGOvi1sQnW7QEqlvbwzuaZzd/nyV3XdpKN5gYoZH4AjAgl0ZCCBjkaB5J+SaDxIThNj\nQfq2J6RP3Qgkndfq8VR/+zyezy/V+vX8um6vX375bwdpfXn0tKv2pGi+kFBHeUgeo64AdRSD\nFPo+KoX0iUCaTXYtl1rNvjpebj1X9TXRD9W2g/TcEDq112LvoscH4qgHJNTRCJACjpiQfjnY\nRNpRWwA76iDBjr4ta0J1+x1Auqzc7BsMVXXaVLtzs+azOTTPHS8ktkf7lpe6dlfVK0KvTXk3\nuUseq1fv1Wp8oI66AYU64kP6aVcAO8pBCjkaAlLG0diQvu0HyTuN64cGqVm5eWwh7ar6K6Rd\n3dme6++WJgd6y8upfmllvpzOr/rupjo/rZvlP5MySLCj8m+koSAFHTUFuCMYktsEPsiLIfGa\nUN3+wUM6dis3DaRtPeSfu0eeL6s49TfKc70JwdzycqiX6iikM7m7azY20JdPBInzhTQopLCj\nASDlvpBmDulzNx8YpF2zcnNsIb3QR5rvGbUwZ265eVs3i3MRSPXGhsdmzUnlgeloKki4oySk\niKP+kLKO5gdpdU+QiAAbQ7sJodq9Nqs55paT03rrFFl365I364vsgenotiDFHPWGlHdUMMoF\n0nBJQqrXcC7fKm/WLTvbFsk6Asl6tEkRJJajsSFp3QFHY0ECHM0c0hdu7grSZRFvv+m+UMwt\nk7fNtrXVbrV7a7bameLdnUGKMuJCcpsIOhJIc4q1jmQ9slMvMQ4sEeduRarJU1e0t17YPvqm\nX1XngemIB0lXcBwNBSnhqB8khNHcIXnz+IFBsrbaNY+QrXab+p9mW525RUKEWHs26Eld1o5O\n9caGZ1IEQ6LjY06QdBMcR70gYY54o1y3MB6k1V1B6n41IpDI70jP7VMv9BbJY6VrL9JUUR01\nqSfr0SYPoKOJIOmC3pDSl/wbGlKkCYF0vezX1faFQjof1taeDS/2LZOKQDo1e3+bZ7obl7L1\n3ipCIVnjg+Xotk8xrQAAIABJREFUOpCSjJiQ7CbAL6SxIZU1obp94V0D94OD1MT+1hgzICR7\nfLAcjQvJNMFx1AMS6og1yk0Lo0Fa3Rekql6BcXbQHjUYJGd8jAaJsOgFKeeIt69dDlK8Cc4g\n71oYCdLKgfSvufnAILVrMfZePKlUFV2gK0gRJEwSreA44kCiFQxHLEhWE7Ajzh6lVgu4o4Im\nVLd/8JDOh8vKzwb/PpoGkjc+xoFkNcFxVAgJk2Q3ATsSSPcVBJI/PjiO8L2/rYJySOntdbSA\n4airwB0xRrkzE7CjgiZUty/+TTcCqV/ykELjg+MIhuSMcoYjC9IyOrTduUAk2RUMR10T+CA3\nM4E6KmhCdbtAGjpZSOHxwXDUVeCO1IjCHVFIy/jQ9t4TfsLiGKR8E/AgJzMxNCTThOr2xc/c\nCKR+yUGKjA+ckR4gsCMUUsAF6qgQEoMRDCk0E1lJxU2obhdIQycDKTo+cEd6gKCOdAHsyIzB\nZWRUR+YCvhZFEBLWBDrIreVTyFFBE6rbBdLQafoCZ0S6G3UEQQo3gTrSFcvQO07OBXaVsVUI\nEtoEOMjtLSYAo5ImVLcvfsWNQOqXFKT0+EAdmQrQERlRoCNVgWyvc5uIS/IqWI5oE9Agd7bh\nA45IBeZIII2Xti9wR6TzQEekAmJkjyhAka5Yht9xei6gC8iuXEjMJoAx7v0YlndU0ITq9sVX\nbgRSv3R9ASqyOw9R5HQ3wMgZUYijtmIZfc+ZJvKXNF85kNhN5Md4YIfBnKOCJlS3C6Sho/sC\nUuR2Xl6RN0CyjLwRlVPUVSxT7zrThEspUsFg5DWRGeKB9+RL6t+E6nYMUuBi5ua5MUbjDYf2\nRRZRsLszjEIDJIEoXLBKIOoq8PWjSBMJRLoCVhRuIjXGgwUrg4nVRPQ9qW5ffO0mAGNxTngR\nSHbCvZcIu4BfcadNTPGeVLcjkBbkXz8Cyc4su/s+m5gU0v/hRiD1yyy7+z6bEEi3nAfJPUV1\newCSt2VBIHEyy7+b99nEpN9I/58b+Ubql1l29302IZBuOdG+aK91DXdedwoNTne3Z/hkFNT5\nURO0Iro9mzcEl9GKdotX8ClOE+/evRvyk23zwyZ2ger2xf/rRiD1S7Av7AvHZzvPOR8N0t3W\n2XKRgjo/spKryO2ngGcZrrA3H3tP4028exeDVPDJtvmhFVOgul0gDR2/Lz4OJNl53pmdnA73\nK7wTT3+RKVi5ihxJXgWyLzeaZajC+x3Gs4Q28e5dFBL/k23yQy+6QHX74udu5AfZfvH6IuSI\nSnIL/M52O9yp8BW5lPzx4SuyKTkV+d1QGZCWoYqQI0cS2IR2BH6y9KMNN+E70pJ4kGQXIUac\nvggzopLsgkhnJ7o74ohK8sZHxJGRlN8H1ZGEQ1oGKsKMHElQE+/exSBFP1ny0QaaCCkykpiQ\nUhFIdqy+iDIilKyCeG/HujvqiEhyx0fUkZZkVUQduWdgQLIMVEQdWZSQJqgj+JM1H63fRMxR\nJ8lA+s6NQOoX2hdJRwFIqc6OdHfCkZHkjI+EIyWJViQcuSfXymcZmIuUIyIJaOJdDFL6k9Uf\nrddE3FErSSCNFtIXaUdKkinI9Haou5OOtCR7fCQddZJIRdKRe7rHXJbmpq5IOzKS8k3Yjvp9\nsk1SjhxI3oFOAqlfTF/kHHWSdEGut3V/myYyjpQka3xkHLmQMo6cExBnsiS3VUXOkZaUbcJx\n1OuTbZJ01EgSSKNF90XekQ0p39uqv3UTWUcBSDlHDqSsIw6kJb3TVeQdKUmZJt65jjiQ3E+2\nToaRQBo3HEgf085DIH1pdXfeUSeJjI+so1aSqsg7cq92lMjSuseA9DXQxLt+kOxPtk7WkQ3p\nGzcCqV9UXyCO+kFCHLWSzPgAHFFIiCP/0sqRLO27bQXkCIAUcNTjT9QKcSSQRk3XF5CjRtID\no7fb/i6HhDhqJLUVmCMQknvo+gPuKA8p5Kj8k8Uc1ZIMpP/HjUDql0JIYG+T7sYcNZLU+MAc\nsSH9MgJp6T7AgfR1BlLQUfEne/uQjtCrDv6Vi06PVf6afNkrHgVfoK4+i14v6YHjqAck1FEP\nSKgjBJLnaEhIYUd9IEGOZgtpA43V18CQ3lVV9ZQrnDMktLd7QQIdjQHJd9RUoI4aSdEmIo6Y\nn+yXpAnUEYH0f7u5IiRorL6uAy+rqrcBJh+FBFV3eeA44kPS3c2HhDoaAVLA0XCQ3gkkJ8hY\nPVTbIKQhJn8FSB+XdjfsqBwS7CgLKXiKvKEgRR2VQ8Ic2ZD+LzcTQTpelsbW3WrNfl1t37rL\nt9b3D5tqc6hvVNVpU+2susuqkDek1SVfA9Nsp7bupnbe6+d1G1ZzTaW9kGgv2rVP6kmejxfW\nW2vVTiD5joKPDgQp7uguIHUXG29G9ba57PhJQ2ruV9tmEO/cjQivge+GDlJomu3qE5lae5O0\nYTV3rqlsnYkTSO2TZpKHtskDef0Dy1EHCe9tPqQvuvEBOxoaUthRXYE7ikJKOCr8ZGFHs4BU\nVc/n83MzOJ+r7en8WI//VshztX6t14Se6we2p1Bt+KHgNI/1rdO2OtbP6wk/B2/Wpa4jC1L7\nJJnkunqtp7Ahr+dBKu7u24EUcTQMpJSjsSGtLEj/p5sp15GaQb+rXs7nU7VWQnb1CK1Ha/3A\nS6wq+pAzzV1VUzzVC4hVN+Gd1YbVnO+IQuqe9CZpZXaQVlxI3RjEHSUhRU8hPgSkpKNSSIwv\npDlAejs+bbsvEjpm9f34Juc4pOA0K7UK5U/Yu7n16RpI6kkyyf1lcfH11Xq9QLIdxYANASnt\naFpI/7ubiSBt1VgcEFJ4mhxI1dpaTKOvMU+SSZ6f1vXjdNv7XCGxluwGgxR3NACkjKORIa1m\nAemx2hyOb8NCSkyT3kxBenltVrTcSdtP2u0f95t5ryNdE1LCUX9IOUeFnyzH0fUhNYPxrdtI\nF15H2nEhBae5M2sx7ZKZtY6085p7qovcSav/t0/u3BUj6w2NDEkNkPEgqTE4AKSUo96Qso4K\nP9lCSP+bm6kgvZxf2/WZQ70RbN9utauXkZzNaKHa8EPBaTZTu9zfma12x9RWu/PG2dfI2vzd\nPEkmuWmnUPyNVN7dHEcsSHoMshwFISUd9f0dKe/oLiDtu9WM+jtC/+azqZq/+M4PO15ikILT\n7Ka2bn7wfaxvNj/wxn9Huiy/ndxJa0jtk2aSz6ZFlQ8GEmsPoRCktCMeJK8JwNGokFQTmsH/\n6maijQ2XMb19Obajut72VX8XvWza5arD2trVwE10Y0Noms1uCNXj27nbgL3uvm90G15zT/a+\nFPaeDe2TepLtng3Whj4OJN3drF2UbwRSxlE/SIijwk+W42gGkD7YzAySLmA5YkEyc2E5GhMS\n5Egg3XQYkPjdTSoYjhiQrDHIcORByjHqKhiOSBOYo66A+8lyHBFI/4ub+UGqTLKPjtkilqb3\n2JDY3T0OJHsM9oCUdzQQpGwLY0AiTahuF0h4i1hwSPzuphVcSOj5g0hFOaRlanxb8407Mk2A\njkaDRJtQ3b74n93MD9Jtpe093JEaH1xI+Mm4YEjeGMQd2ZCWyfFtV8COdBPYcl3xJ8txJJDG\nCwqpoLudCthRVzAKJOc9NVkmh7dbgToKQYJaYH6yHEcCabx0vQc70uMD7m0YklPAcKSagB1R\nSMv08HYrUEeqAHZU+skyHBFI/5MbgdQvqvdQR2YIor2tK1BHqgB3pJtAHRFIy8TQDjWRk+QU\nwIyKP1mGI4E0XnTvgY7IEAR721SAjnQB7Mg0AToyBcsVGDPfECMPEqcF3icLM6KQ/kc3Aqlf\nTO9BjKyFIqy3SQXmCIEUHYOYI12w9MZaLGS+IUdtAcNR8ScLMxJII4b0HuTI3t6F9DatgByZ\nAkyR86YQR6pgGRhskdAmEEdNAYNRj08WdiSQxgvtPcSR8wtMtq/diqwiuwBzZDeRVaQLsvsF\nxZoAHFFIBS3wPlnQEYH0P7gRSP1i915OkdfdgQ7PVeQY2QWAIr+JrKO2YBmeGNSEbylUwGDU\n75NFFK1YkKwrmi/865sLJDtu72UYBXb3XKW6OlyRUuQXZBmFmkggUgWc76NQEylFKwOpRwsr\nxiebV7SikP57Nw6MxZlYse6QxyQmgd5jd/fQFXfaxBTvSXV7DtKC/GvfsV8hUZlld99nE7OF\ndPbvCCQ3s+zu+2xiUkj/nRuB1C8PknuK6vYAJHvrAvn37N0O3b/3zPLv5n02Mek30n/rJveN\nJJDSmWV332cTs4bkuRFIdmbZ3ffZxKSQ/hs3Cka7iOdC8tkIJDuhvvjKBO28z03Aik9IoILU\nbyroiHrfJFKQ/l2INWiXkYJfIYFa+E4n1Eyo4mckfoHq9jik7nny7zmoRiDZ8friKzdA533u\nJFvxiZtMQe5HfmyUv38fhwTtqIBmGSz4FTeZFr5z47XjNfEzN26B6vYcJP8HWTcCyY7TFx4j\nj5LXea4ij5JX4TFyJHkF6N6bqbw38QvAfVDBLEMFHiPPklPgOfIpORUeI8+SgfRfu4ntIrRo\nl/a8fYQEkh27L4KObErugAo6sii5FSFHFqX83puupPwof5+ChOzNjUNahgrCjixJVkGIkSfJ\nbiLsyJLEgJSLQLJD+yLGyJJkd16MEZVkV0QYUUlWQczRl6GDcKN5n4IUcxQ4Tg/IMlQQc0Ql\n0YKII8eS1UTMEZVkIP1XbgRSv5C+SDgikqzOSzgykmhFnBGRRAsSjvzTQsTy/n0KUtwRlYRC\nWoYK4o6IJFKQcEQl0SbijogkgTRadF8kGRFJtPOSjrQkUpF0pCWRgqQj70RFkbxPQUox+to/\nl0kuy1BBypGRZAqSjogk0kTKkaEkkEYLDOkrv/MyjnxIGUdKkinIOHJOnRdJwJEpyDjyz66V\nztLcNAVpR1qSLsg4MpJMExlHPqT/0o1A6pcekHKOlCRdkXXUSdIFWUfWWZEjcR0xIbnne0xm\nSW7rgpwjJUkVZB1pSbqJnCMlSSCNFtUXWUdKku68vKNOkqoAHNmQAEdZSB6j91ZB3hEH0pLe\nUQV5RzYkwJELKe/Ig/RfuBFI/dL1BeCok6Q6D3HEh/QJLRgAku/IggQ48k7lHc/SutcVAI46\nSQxI31lNAI46SQJptLR9ATlqJbEgfd4HEuKIXCiI46grgBx5F5fAHHUFkKNW0gPuyIIEOWol\nCaTRUgoJc0QhQY4aSQ8MR+YakBxHY0ByHI0L6bu+kP5zNwIJy+mxqvbNZV/sa5w/MBwRSKAj\nAgl0NCSkuKO2AHSEQXIdtQWgo0bSA8MRgQQ6aiQJpN7ZVVX1VEPa2NdQYkH6ig3pc1WBOhoQ\nUsIRD5J/bWXA0ciQvusJ6T9zI5CwVNWbumE9XgYJdlQOCXUUhRRwNB4k35FA+jCj/QQgwY5m\nCenL4CgPMTKOmgLYUR5SwFFTADtSkGBHGhLsSCCBuQjZV+t9e/O0qXaXG4dNtTmc1cUxz83/\n7AtkTgQJdjQQpIyjgSGFHDEh/QoX0nf9IP2nbgSSSrMOVFXb5uZllehCalt1j9wQpE/aAtxR\nCFLOERPS12lIQUcC6VZTVevX8+u6eq5vbk+XR57NI+0SXf1Pr0W7r9rOwx0VfyPdEKSwo/lB\n+hmF9J+4EUgqVVVv2D7Wi3RV9VI/suseab+kzvcDKetoSEgRRwLpVtMJIVjof+4JUt7RgJBi\njgTSrUYg4Y6GgxR1ND9IKwrpP3YjkFSmgLSaISQ1aJOOxoIUdySQbjXtitGxetRYdmat6VqQ\n1IiaDhLkaKjN3wlHY/+O1BPSf+RGIKmorXZHjSWy1e6NVs0NkioohQQxGgpSylEZJN4vsgJp\njFRV87OR/vo5k9+RCKTNBRypugdIkVHeG1LSkUC61VyU7Nr9GMzi22HdPWIgvWz6Q2Lt/F0G\nibXPqhnl4BfSIPvapR2NDUk1UQjpP3QjkFSclR8wTe8xHI0MyYzyIkioIx4k2yroiLfTqi5g\nQ4IlrQQSlhlCMiOK42hYSIlR3gtSzlEhJNYBSRxIKxvSf+BGIKn0gARKMuODDQmUxIdEKhiO\nugKGIxdS1hELEm0BdySQRsmUkBinPimFhEmyXMROGRSFVH7yk7yjrgB3VAqJce4TgTReGJBo\ndzMcMSBZQ5APCf9C6gsJcFQMiXE+LhySek+q2xf/vhuB1C9d73EhIZLsEYU7Uk3gjmKQcqMc\ngmRXNFnGJ+w1wYcESLKbEEgziOo91JHubtgRDMkdgvAJi7sKhiPdBOyIQlomJuw3gToiLTAh\nwSdaJZD+PTcCqV9074GOTHejjlQF7Mg0gTpqKjiOTBOoIzLMl6kJB5oAHVGqmCNTAToSSOPF\n9B7mCIUUGFGoIzKiQEchSOAoz0gKVCzTUw40gTmyFh4hRzAkU6C6XSANHdJ7kCPS3RgjUgE6\nAiG5FRxHdNBijnTFMjPlUBOQI3tzBuKIVGCOCKR/141A6her9wBHtLsxR7QCYWQVQIyaCg4j\nZ9AijlTFMjvpUBOII2cDO+CIVgCKVgJpxNi9l1PkdDfkyKoAGNkFkCMHkju9QOzZzjNSFUtg\n2sEmcoq8AuQqslYF4IhA+nfcCKR+cXov68jt7iwjpwJw5DaRZeRA8p4NxGkiy6irWCLTDjeR\ndeTvzZdW5FdkHQmk8eL1XppRoLvTivyKjKJQExlG1jpSaIJAExlGbcUSm3ikiTSjQMHKsZSv\nSCpaUUj/thsXxmJhP+I9P9KAvNWEem8VQxTr7lUUUaQijijaRMyQqYAVxZqIIuoqlvDko03E\nEEULVh0mvCKqaMWBtDjbVhYCKZ1Y70XDLuBX3GkTU7wn1e05SAvyb3tLIKUzy+6+zyYmhfRv\nuUlCWsiiXS4PknuK6vYAJGulSCBxM8u/m/fZxKTfSP+Gm9Q3krvCdA7cv/fMsrvvs4nZQlqQ\n284rJCqz7O77bGKukNwND+fg/XtPtC8+6gJ2XuKHpEjFp13gApUftAEq4j9WcYbgu3fvohWJ\nzdm8Ub6MFnzRpayJ7zXRBarbF/+6G70Y16wrWYS62ANHINkJ9sVHdnKdx9hFSOdTK/D4+IGV\nZAW6O18m797FIGV+YGVBWkYKvrDDbOJ7Jl2B6vY4pO558u/Zux26f+8J9MVHfpKdx9hptcun\nfpDx8QMv8Qp4B/NM3sUgcXedS2YZLvjCC6OJ7zlpClS3L/5VN5kfZAVSJn5fBBxRSm5BfsdV\npyKgyJEUGR++I00puRdSSBI4yt9pR8g+qLYkBqRlsMBn5FpKNeE6YkLSuwjRLXfW8+ONyZuM\n2xdhRkRSdqdVT5JdEXFEJYXHR9BRJ8muiDj6JHA0ezrvIpDCjBxKOKRlsCDiiEqKNuEp6iQx\nIOUikOzYfRFlZCTZBVFH3jkbukQdEUrB8RFxFIAUd+SdXyWZd9QRrYg7ih6nl8oyWBB1RCTF\nmgg6siH9K24EUr9YfZFypCTRggSjz92zCLVJOdKS/PERU6Qk0YqUI+eMX8nYjkhFylHkyPFU\nlsGChCMjKdxEmJFAGje0L9KOfEhpR/YJItukHSlJ3vhIOXIhpR3Z56BM5V0MUtpR8FwmqSz1\nLVqQdKQlBZuIOaolGUj/shuB1C+kLzKOOkmmIOfIh5Rz1Elyx0fSkQMp54iepz8V15GuyDkK\nnF0rlaW5SQoyjlKQ4o4E0pgxfZF11EpiQKLn/q6TdxSElHbUSNIVeUcQpHeeI1WRd+Sd7zGV\nJbltCnKOlCS/iQQjgTRqyiHlHZHLutQBHIUg5RxRSIAjBFLAEQeSdU78VJZLek8X5B11krwm\nMo4IpH/JjUDqF90XgKNGkipAHFmQEEetJGt8ZB0RSIgjci2zWN7FIUGOUEhL+64qQByFISUd\nCaRRo/oCckQgQY7MpS9XpZDyjgaHFHQ0AqSlc78rgBy1kpwm0o5sSP+iG4HUL11fYI4MJNAR\ngYQ5aiSR8QE4MpAwR/rC6SxHbQXmiF43TCDFc2Q/4F666PRYVftcM9nrHQVf0F64HL9a0siQ\nPu8HCXE0MKSIo+EhuY66AtBRAFLG0ewgbdwhmn/AHdW7qqqecu1MCQl0VEsqhIQ6siBBjjQk\n1FESUsxRU4E6MtdWjjPyHLUFqKNGEm0ix8jZ1+5fcDM9JG+I8h+oqreCdqAXqAfHhQQ7mgCS\nHoMDQHr3biJIPqOekLKOPlBIJe1ALyiCBDsqhgQ7opDgL6SmAnYUh5RwNCykkKNekPKOHEj/\nvJtRIO3X1bb5zjheFsLW7drMcVtV22M9Qit7kOoHDptqcyAPmOJAQWVN3LRYT2V96Ir2+nk1\nbXqznereXki0F+3aJ/Uk9UyYzA7Sp9eDlHJ085BWV4C0rQf6+nQ+P7Vjvh7Mh/bmIQ6pqaq2\n+gFSHIREnjctNqtPzVQuL9upm2ba9GYz1X37KJk4gdQ+aSapZ8LkgeVoUkiYo7EgBYY57igN\nKbB+pGYCd2RBAh1NDOm52p7Oj/UIr6rn+m49JtfVa31zE11we67Wr+fXdV3RPkCKg4t25HnT\n4rG+ddpWzVefnuBz8GZd6jqyILVPkkmamdDhQeo6D3fUZ9EOdzQIpOT30ZCQwowmhvTPuRkB\n0q56OZ9P1doZ9kd61x27ddWxHbX2K+KQyE3T4q6qv5ZO1U61eKxvkmnbzXiOKKTuSW+SVuYL\nifGFNASkjKPhIMUc9YCUd3QVSHTYvx2ftt1SUrV7fXWfJq/vHqabnnVxBFLg+UolNEHv5qX6\nJfBm7CfJJM1M6Nw6JDMG+0HKObpxSKoJ1e2Lf9bNuJC2agheVnnW9WrMGwOSKQ5DCj3Pg1St\nrcU0+hrzJJmkmQmd2ULifCHVFbijPKTIMB8EUtRROSTY0dUgPVabw/FN3T/uN4l1JG+wk+Ig\npODz7kJfGtLLa7Oi5U7aftJuvJsJHRYk1d3zgWTGIMuRN8qzX0hDQYo7KoaEO5oY0lavsTRj\n8M0Z3Jl1pJ0lKwGJPL8l60hH86KXs7OOtPOaeTKrcvY7NE/u3BUj692MDElVjASJjMFekLKM\nhoKUcMSEZOaiCNI/42YESId6M9e+3Wr3cn5tV2M27Saz5hvJ2S2hfcDanPZ2toojkPTzpsVm\nKpf7O7PV7pjaand5X0/epDX35kkySTMTOhxIurtHhKQKWF9IfSEBjob5HSnlaDxIpAnNYApI\n5ledfbd28dJsp+5ubSrnW6B7wPzA0z5AioOQyPPkd6R2Ku262GN9c3c+p35Huiy/ndxJa0jt\nk2aSZiZ0xoWkK8aHxNll1RnliCMeJK+JllHSUSkkhiMC6Z92M86eDZfx23ztXIby9qVZjmp3\nCqiH4MvGgaQeOKy7XQ66B0xxeGMDmbhpsd4NoXpsv9HqPRu67xs9bXKz2wjSToBO2iyAtk/q\nSZqZ0CmCxDqKggVJF7Ac9YOUXz8aBlKaEXPPBlPBcDQ5pDsKAxLp7nlAssdgKSSIEQ+S2wTk\nqBASx5FAGi84JNrdHEccSKaA5YgDicwFx1FbMRtIpoLjiED6p9xcCVJlMlLBmG+GpOk9hiMO\nJFoxPCRvDDIcRSBlh3kPSMvUxEkBwxEAyW1CdbtAGnraZZDwUwitOJBIwVSQQEaqAnfkQFqm\np24KBoXkNaG6ffFPupFFu35BITndzYYEn9RuhUEKjUHcUQgSNMwRSW4TdZaZqZOCASH5Tahu\nF0hDB4TkdfcIkKwmWI5gSO5c4F9IOCS3iTrLzMRpAe4oAynUhOp2gTR02t7DHenxATtSFUNC\nioxB2JEqwB3p+UYdUUjL3MStAthRGlKwCdXti1/tRiD1S9d7sCMzPlBHugJ1lN9FKDoGUUdd\nAc6IzDfoiEBa5qduFaCOkpDCTahuF0hDR/Ue6giFFKrAGGUhpcYg6MiFFBx1kSbAyyOZgiUw\ndbsF0FECUqwJ1e2Lf8KNQOoX3XugI9LdGCNagTnqChiOSBMQo66AwchaUoMc6YIlNHm7BcxR\nHFK0CdXtAmnomN7DHFnr0AgjqwJhpAtQRSsEUqCA5ciab8RRV5DZvy7WQoRSqILhiED6x90I\npH4hvQcocrsbcWRXAI50AezIbgJwRCHFpplqIs9IQwIn77YQlBSugBkJpBFj9V6ekb/nS0aR\nV5FlRAowRV4TOUUrAikx0VQTPqVgAeP7yP9kc4zCkNJNqG7PQ1JXNffvdA+NNiRvM07vZRQF\nutuihFUkFdkFEKNAE2lGBlJyqukmVilFXcESn36ohaQiWgEpWlFI/5gbB8biTKxYd8hjEhO/\n99jdPXjFnTYxxXtS3Z6DtCD/2nfsV0hUZtnd99nEpJD+ETdZSE4Ekp1Zdvd9NjFjSLKOlM2D\n5J6iuj0Ayd66QP49L2QdKZ9Z/t28zyYm/Ub6h93IOlK/zLK777MJgXTLmWV332cTk0L6h9wo\nGO0inkDixu+Ln9Ngnfc1CVDxDUmwu4OD4DOSbMW3VrAmviQBKr6zgjWR3+EHTfNTL3suAEjd\n8+RfgYTE6Yuf+8l199duvN6z737jJVOwshGFKDkV33rJN/Gll2TFd17yTWT2+eFBKpoLGJL8\nIMuN3RcBR64kp/M8Rr4lu8J35EnyxofvyKFkV/iOPElOE/7488egdc935Eny5gLZlxtMt+uR\nW5GdCwPpH3AT20VoQe/Q58cclTcY2hdBRi4lu/PCjmxJtCLEyLPkjI8gI5sSrQgx8izZTYQd\nOWOQ3A4x8izl90F1KHEgceaCzAYDUi4CyQ7pi6gjS5LVeTFHliRSEXVkSbLHR9QRkUQqoo4s\nSVYT0RFojUFzM+rIkmQ1EXXkHDiOZVk6FwbS3+9GIPWL6YuEIyqJdF6ckSXJVCQcUUl0fCQY\nEUmmIuGISqJNJEYgHYP6VsIRlUSbSDiyT2UCZVk8FwJptOi+SDoikkznJR0RSboi6YhIIuMj\n7UhL0hVJR0QSaSI5AskYVDeSjogk0kTSkXVyLSDk0Az2XAik0aL6IuPISNKdl3FkJKmKjCMj\nyYyPnCMxx6ivAAAR40lEQVQXUsaRkWSayIxAMwa7/2YcGUmmiYwjegLifJbkNnsuDKS/z41A\n6peuL7KOtCTVeVlHWlJXkXWkJTEgfWZVZB1pSbqJ7AjUY7D9T9aRlqSbyDqi15bIZUnvMOai\nK1DdLpCGDg7p51bnAY6UpAfUkZKkx0feUSfpAXWkJKkmAEcWJMCRCwlw1BcSPBcG0t/rRiD1\nywPsqJM0ISTEUT9IyAhkQ/rOagJxRK+/x3DEmosvBdKoecAd8SF9bSogRzYkyFEr6QF2VADp\nS1MBORoRku1IIM0ohZAwR2xI34wP6VvSBDYC2ZC+I01gjjBI3qlU2HNhIP09bq4C6fRY1VdO\n7h/8ojClLRwzz3Mg/ZwN6WsupG9ME6AjNqRv2UPwy/EhfQFAchkVzMXcIO2qyrmYeGFGh7TJ\nFZZBQh1pSKijHpBQRz0ggY5aSQ8cRwAk31Fbgc6EDenvcnMVSFX1NsRk+nzTDNXAA8NRI2lk\nSN+oJlBHjSQWpG9LhqBAcjIQpCGmMuSEihsYGdLXHwSkL2cAKeCoqeDNhOr2WUBSF5k8Xpbw\n1t2q0n5dbdtvqcOmWh/al73tqvXTWY3m+t/L/5+ax/btStbl/l5Pg1SeNtXObpJOz37CmsCm\nmcD5uK2q7bF7q8lpF0HCHU0HCXf0LXsIsiF9x4b0RQZSyBF/Lgykv9PN9SA9tf9tBvG2vrU+\nndvVp8sgbl62rtp1KQqpqTpuu8qq2qmXW5U7Z2NGW6umZz3xpCew1RM4tG/toCHFpy2QcEi4\nIwUJd5SBFHR065A6GVX1fD4/Nzefq+3p/FiPz2N967Stmm+Dy81DtbEhNY+1/64bHK/n13U9\nJbfSa9BMz3pCT+DZ3FxXr/V93XRi2jxIP58MEu7oHiCFHfWB9He4ufY6UvcH/+V8PtUydlU9\nTE/1wlNVP6gW6PSt9rE3fb/ePH2sX+5Vug2a6VlPkAm0N7fqUfNOE9MWSPOHFD0V/4cC6e34\ntO2+nMwzlVqFstaMvFv0fnfTqXQbpLXuO3GmdVkD272+0qai054dpG8EEvZ19OFA2qrBOTtI\n56d6dWr9JpBuBtIqCinuqM9Wu7/dzfUgPVabw/HNg2S/iAPpHJgIeYQD6bKIt9/Yq2eRac8O\n0ooLSY2oESGpJgSSyZAbGy7/tJC2ZB3paL3IDPGXMKR6jYWs4pBKt8EIpHYCj2YdaecXJaY9\n1612AqljlHDUB9Lf5uaakF7Or+060qHeFLavt9o1m84u93d04G+qQ73NLAip3dJ2DFS6DUYg\n2RNot9pt2q14G7VdIzHtkSGp7hZIZZBSjD4USPtuvaP+SjC/I7UrTnT1pPtZZxeG9Ng8dw5U\nug1GIG2dCdQ/Fj3rd7ap6u/JxLTnuovQnUFSLbAc8eZiNVdIl5WkavvSLUrV28n0ng3V49vZ\nGviXdf/H2DrSXu+t4FS6DcbWkXZqd4bzYW3t2VALf9k0kOLTbnpvfEisvVZZkPSIYu21yh6C\nrL2/9S5C84X0t7i58+ORfHPMsCDp7h4PkipgOeJB0gXjQ+IcjhSAlHHEmouVQErlSpBGO7DP\nHEYhkPKXRO8B6W928+FCqkziTwwDiXOILAcS6W7OIbKFkDiHyLKHYNfEhJCyjAQSlikhYZJo\nd7MhMc5+0hYwHLEgkQKGIxYkUoA7ciABjjiQVg6kv9HNhwtpmpRCgiSNDskaUZgkWsBwpJqA\nHTEg2S3gjvhzIZBGi+o91BEHkjNAUEeqAHekm2BCwk8PaZpgQgIkuS00WeYZMeZCF6huF0hD\nR/ce6IgByRsgoCNdADsyTYCOdAE8BE0ToCNdgDqyIC19NYGgkEyB6vbF3+BGIPWL6T3Mkelu\n1BEZIJgjFJI/olbwWfR1AToESROYIxRSqAXQEfrngBSobhdIQ4f0HuSIdDfoiA4QyJEpQB3R\nJiBHKKRwE5AjUwA6Ii0sV1iwuaAFqtsXf50bgdQvdHkCcUQHFObIWmRBHJEC0JHVBOKIFIBD\n0GoCcUQKMEe6IP/7EWsurALV7QJp6FhruIAje5UYcWRXAI5oAebIbgJwRAugEeg0ATiiBZAj\nA2mFhj0XAmm02D9e5B05v3bkGXk/NGYdWQUII7eJvCO7AHHkNJF3ZBUgjlTB0p25eNhzYSD9\nNW4EUr+4+6VkGPk7smQd+fuQpRm5BXlGfhMZRl5BlpHfRFqRV5BTpAuW/txFYzeBzITqdoE0\ndLxR7ljKdF6TlKJwRUJRqCDDKNhEQlGoID0Aw02kGAUK0ozaAnz9KNhEbi4MpL/ajQtjsVhE\n7nQPjTYkbzOB8VEnjCjYeW3ChlIVqyCiWEGMULKJMKJ4QQxRookwolhBFJEqWMaaZ7ynxFzg\nkBZnYsW6Qx6TmMRGObPzBq240yameE+q23OQFuRf+479ConKLLv7PpuYFNJf6UYg9cuD5J6i\nuj0AyV4pIv/Koh2SWf7dvM8mJv1G+ivcJL6RZGMDkFl29302MV9I8o2Uzyy7+z6bmC0kWUcC\nEu2Lj7qgnYf/WtrlUxW0QOcXumQrPlHhNfFDlWzFz1QCz+VH+fe6pAtSPwtlmyCpf6IykP4y\nN/rbp1mME0jcBPviIye5zkvveRCo+NRJtsDkF2gSFZ84AZv4oZ1Uxc/suE/nRvn3TKIFrN2W\nMlmuIEjd8+RfgYQk0BcuI5uSX5DbGc6vcB05lBLj4xfcxCpcRw6lWBM/9BKr+Jkf+wXJUf49\nJ8GC7L5zHEjLpkB1++IvcSM/yPaL3xchR0SSW5DfO9utCDCyJcXGh6dIS3IqAoocScEmfEVE\nklMRcORQio9yV1EnyS0I74UaOUYqk27XIxyS3lC3oHfo82OOyhuM2xdhRkSSUxBx9FnghApt\nwowsSpHxEXQUghRxRCmFmgg7UpJoRViRIyk6ykOOApAijsJH7WayVAWq2/OQchFIduy+iDIy\nkuyCuCPvFD9t4o6MpOD4CDPqJFkVcUdGkt9EjJGSRCrijiil2CgPOnIhRRVZknpA+ovcCKR+\nsfoi5UhJsgpSjpyTzrVJOdKSQuMj6siDlHKkJXlNJBy5kJKOcpDCjBpJpCDpyD+zUS5LXaC6\nXSANHdoXaUedJFqQdhSAlHakJAXGR9xRI4lUpB0pSW4TKUetJF2RdmQkBUd51JEFKeOIC2mp\nbxlIf74bgdQvpC9yjjxIGUf2+YTr5Bx1krzxkWLkQMo56iQ5TaQdWZByjrSk0CiPO6KQco6c\ns7/msjQ3BdJoMX2RddRKMgVZR/SaK3XyjsKQ0o4sSHlHIUgZR0xIP4uN8gQjJqQvY00EsiS3\nBdJo0X0BOLIhAY5sSICjVpIzPjKOKCTAUSvJaiLnqJHUVQCOOkneKE86IpAAR/QKGRlG1BGB\n9Oe6EUj9woL0Eek8xJEFCXIUgJRzRCBBjjxIeUcGEuQoDCnnaBRIS/uuQBotqi8gRwQS5Mhc\nl7IcUtZRX0iAIw0Jc9RKckZ52hGBBDkyl+PkOCKQ/mw314R0zL+kvubken9yHjw9VvWVm9PJ\nXrEl+AJ1kUz0ei8PHEd9IGGOGkmlkDBHjSTTBOJoAEgZRwYS6OhDgrQBxmp7xea1I2l3eewp\nVzprSKCjRtIDx5ELKe9IIMGOZgoJGKuv1eOpvqr5o1v5NsDko5DAN9fkgeOoljQtJMxRW4E6\nsiBBjhQk1FEjyRrlgKO2AHXUSEpDCpzay0D6s9zMG9KuCr4SGuVzhgQ76gkJcNQPEuaoN6Sc\nozEg+YzmAOl4WRpbd6s1+3W1feuuQFnfv6wGbQ71jao6bapdoNoe1epyloFptlNbd1O7LBiq\n53UbVnNNpb2QaC/atU/qSZ6P26raWqt2DyxHxZBgRxYk1FFTATsikEBHfSFBjgaGFHJEIP0Z\nbqaB9NQO/mZUb7u1HgWpuV9tm0G8C25EODXP6nSQQtNsV5/I1NqbpA2ruXNNxZq2Dal90kzy\n0DZ5IK+fHaRPZwhJNSGQTMogVdXz+fzcDM7nans6P9bjv/2j/1ytX8+v6/oFVf1UIIfK2b7X\nVAaneaxvnbZ1QWUm/By8WZe6jixI7ZNkkuvqtZ7Chrz+geVoWkiIo16QGF9IdQXuyIaEOWoK\ncEdpSJFTH18dkhmkl7/vL/V3zFpB2jVKjvWYreqn/Lyt3cU9sqjnTHNX1RRP9QJi1U14Z7Vh\nNec7opC6J71JWuFB6joPd9Rn0Q53NDIk1UQhpKyj4SGFGVFIf5qbqSC9HZ+23RcJHbP6fnyT\n82ntDnb1wuA0K7UK5U/Yu7n16RpI6kkyyf1lcfH11Xr9PUPifCGVQ0IdDQgp5mgGkLZqLPIh\nbTfeQ+0Lw9PkQKrWlTtxA0k9SSZ5flrXj9Nt7x8MJNyRQLow+FPcTAPpsdocjm8lkN42W/83\no+aFiWnSmylIL6/NipY7aftJ+10d95se60hTQmI4GheSbqIIEuxoMEiJS8NcHVIzGN+6jXTh\ndaRdENLRW4nRkwtOc2fWYtolM2sdaec191QXuZNW/2+f3AU3daiwIKnungISxxEPkpoL1hdS\nKSTc0VCQ4oxmAenl/NquzxzqjWD7dqtd/V3jbEaz8xZ0pCAFptlM7XJ/Z7baHVNb7c4bZ18j\na/N38ySZ5KadQvE3Eh+SqhgHEh2DtwppRWeCt/U7CCnliED6k9xMA2nfrWbU3xH6N59N1fzF\nd37YsfJI1k9Iuh95AtPsprZufvBtqpstfvHfkS7Lbyd30hpS+6SZ5LNpUYUDSXf3iJD0+JgN\nJDLMBZJJ4caGy5jevhzbUV1v+6q/i1427XLVYW3takBTJSAFp9nshlA9vp3Vng3d941uw2vu\nyd6Xwt6zoX1ST7Lds8Ha0DcuJF0xCiR7DHIcMSDRJjiO2rlgOGL+IBuGlLl0poH0J7iR45H6\npQgSLIkNSRewHI0IyWpieEgrZyZYO3/7kNKMBNKIYUAi3T0HSO4YHAWS3QTHUVPAcTQApJwj\nAumPczM/SFUVWqALPzpmi1hwSLS7OY44e3+bApYjDiRTwIeESuoBCZREKwTSuC1iafqC4YgD\niVaMDwk/8wkOyW1iWEjuKO8LKevotiDdVsog4acQYkEiBSxHY0HyhznuKA/JG+Xtf4oh5R0R\nSH+sG4HULygkp7sZjroK3BEAKTwGcUcYpNAwhx1lIfmjvP0P7siGtAzScZpQ3S6Qhg4Iyevu\nESBZBSxHMCS7gOMIh0QLGIw4kJyKOpnt3qpAdfvij3YjkPql7Qvcke482JGqgB1lIUXHIOwI\ngRRuAj71dxpScJR3/4UdEUjL0AQDTahuF0hDp+sL2JHpPC4k7EoUuoDjSDeBOspDijaBXowi\nCSk8ytUN1JFAmlFUX6COMEjhCtBRGlJ6DGKMVAHDERm0mKMEpOAsWAtqmCNTsYxM0mtCdfvi\nj3QjkPpF9wXoiHQ36IhUYI6SkCIDRN0AHakC3BEd5pCjOKTwLNibDiBHumIZm6TXhOp2gTR0\nTO8hipzuhhxZFQAjVcBwRJrAHKUhZZqIS/ILGI7sbXB5RboC287QFqhuX/zhbgRSv5DegxzZ\n3Y04sisAR6oAVeQ0ATAiBSAj9zebLCNVgCryWgAcKUipiToFqtsF0tCxei+ryOtuz1K+IsfI\nFMCO3CZyjKwCiJHXREaRKYAdeZ9sjlFbwfg+KoMUeUIg2XF7b5Vm5Hc3oYRWpBA5BQCiYBMp\nRF5BFlGwCYopWYAgirSwSijqKpbZ6dIC1e2LP8xNDMZCIEEJ9R67uweuuNMmpnhPqtthSAv5\nRsIyy+6+zyYmhfSHuAnDWMiiHZhZdvd9NjFHSGeBBOZBck9R3b4IJjhCBJJEMkAEkkQyQASS\nRFIcs6QnkCSSASKQJJIBIpAkkgEikCSS8SKQJJIBIpAkkgEikCSSASKQJJIBIpAkkgEikCSS\nASKQJJIBIpAkkgEikCSSASKQJJIBIpAkkgEikCSSASKQJJIBIpAkkgEikCSSASKQJJIBIpAk\nkgEikCSSASKQJJIBIpAkkgEikCSSASKQJJIBIpAkkgEikCSSASKQJJIBIpAkkgEikCSSASKQ\nJJIBIpAkkgEikCSSASKQJJIBIpAkkgEikCSSASKQJJIBIpAkkgEikCSSASKQJJIBIpAkkgHy\n/wPvX668bZiWDQAAAABJRU5ErkJggg==",
      "text/plain": [
       "Plot with title \"\""
      ]
     },
     "metadata": {},
     "output_type": "display_data"
    }
   ],
   "source": [
    "cont.var.corr.plot<-c(\"budget_2016\",\"duration\",\"director_facebook_likes\",\"actor_3_facebook_likes\",\"gross_2016\",\n",
    "                                   \"actor_1_facebook_likes\",\"profit\",\"cast_total_facebook_likes\",\"facenumber_in_poster\",\n",
    "                                   \"actor_2_facebook_likes\")\n",
    "corr_movie<-cor(movies[,cont.var.corr.plot,with=FALSE], use = \"na.or.complete\")\n",
    "#setkey(movies,NULL)\n",
    "corrplot(corr_movie, method=\"ellipse\", bg=\"#b8b8b8\")"
   ]
  },
  {
   "cell_type": "markdown",
   "metadata": {
    "collapsed": true
   },
   "source": [
    "We can see that \"budget_2016\" and \"duration\" are the variables who are the more correlated with the value of the gross box-office and that those correlations are not really strong. The other variables have mild correlation with the variable \"gross_2016\" at best. The same thing can be said for the variable \"profit\" which have a correlation virtually null with all the other variables except \"gross_2016\", which make sense since \"profit\" is a linear combination of this variable and \"budget_2016\".\n",
    "\n",
    "Next I plot the correlation matrix of the genre of each movie and the \"profit\" and \"gross_2016\" variables."
   ]
  },
  {
   "cell_type": "code",
   "execution_count": 118,
   "metadata": {
    "collapsed": false
   },
   "outputs": [
    {
     "data": {
      "image/png": "iVBORw0KGgoAAAANSUhEUgAAA0gAAANICAMAAADKOT/pAAACkVBMVEUAAAAFMGEGMmQHNWgJ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\nUAGpqGgE/X8vyiXnmQPV+gAAAABJRU5ErkJggg==",
      "text/plain": [
       "Plot with title \"\""
      ]
     },
     "metadata": {},
     "output_type": "display_data"
    }
   ],
   "source": [
    "genre.var.corr.plot<-c(\"genres_Action\",\"genres_Adventure\",\"genres_Animation\",\"genres_Biography\",\"genres_Comedy\",\n",
    "                        \"genres_Crime\",\"genres_Documentary\",\"genres_Drama\",\"genres_Family\",\"genres_Fantasy\",\n",
    "                        \"genres_History\",\"genres_Horror\",\"genres_Music\",\"genres_Musical\",\"genres_Mystery\",\n",
    "                        \"genres_News\",\"genres_Romance\",\"genres_Sci_Fi\",\"genres_Short\",\"genres_Sport\",\n",
    "                        \"genres_Thriller\",\"genres_War\",\"genres_Western\",\"gross_2016\",\"profit\")\n",
    "\n",
    "\n",
    "corr_movie<-cor(movies[,genre.var.corr.plot,with=FALSE], use = \"na.or.complete\")\n",
    "#setkey(movies,NULL)\n",
    "corrplot(corr_movie, method=\"ellipse\", bg=\"#b8b8b8\")"
   ]
  },
  {
   "cell_type": "markdown",
   "metadata": {},
   "source": [
    "Again, the \"profit\" and \"gross_2016\" variables have little to no correlation with the genre variables, except for the variable \"genre_Adventure\" who is positively correlated with the gross. \n",
    "\n",
    "The last correlations I'm interested in is between the engineered variables \"act_1_mean_gross\", \"act_2_mean_gross\", \"act_3_mean_gross\", \"dir_mean_gross\", \"gross_2016\" and \"profit\". If I calculated the average movie gross for each member of the cast using all the observations in the data set, the correlation between those variables and \"gross_2016\" will necessarily higher that normal. This is because the mean gross variables would be a linear combination of the observations of the \"gross_2016\" variable and that most cast members have only a few movies in the data set.\n",
    "\n",
    "To eliminate this source of bias, I will calculate the mean gross variable for each actor and each movie by calculating the average gross of movies made by an actor if we omit this particular movie. To do this, I have to write four custom functions."
   ]
  },
  {
   "cell_type": "code",
   "execution_count": 119,
   "metadata": {
    "collapsed": true
   },
   "outputs": [],
   "source": [
    "dir.mean.gross<-function(column)\n",
    "{\n",
    "    result<- data.frame(movie_name= character(0), director_name= character(0), dir_mean_gross = numeric(0))\n",
    "\n",
    "    for (i in unique(column)){\n",
    "        df<-movies[director_name==i,]\n",
    "        total<-sum(df$gross_2016,na.rm=TRUE)\n",
    "        \n",
    "        for (j in 1:nrow(df)){\n",
    "           \n",
    "            if(nrow(df)==1){\n",
    "                mean<-0\n",
    "            }\n",
    "            else\n",
    "                {\n",
    "                mean<-(total-df$gross_2016[j])/(nrow(df)-1)\n",
    "            }\n",
    "            result<-rbind(result,data.frame(movie_title=df$movie_title[j],\n",
    "                                           director_name=df$director_name[j],\n",
    "                                           dir_mean_gross=mean))\n",
    "            \n",
    "        }\n",
    "        \n",
    "    }\n",
    "    \n",
    "    return (result)\n",
    "}"
   ]
  },
  {
   "cell_type": "code",
   "execution_count": 120,
   "metadata": {
    "collapsed": false
   },
   "outputs": [],
   "source": [
    "temp<-dir.mean.gross(movies$director_name)"
   ]
  },
  {
   "cell_type": "markdown",
   "metadata": {},
   "source": [
    "Once I calculated the average revenue associated with a particular movie director, I added those values to the table."
   ]
  },
  {
   "cell_type": "code",
   "execution_count": 121,
   "metadata": {
    "collapsed": false
   },
   "outputs": [],
   "source": [
    "movies<-merge(movies,temp,by=c(\"movie_title\",\"director_name\"))"
   ]
  },
  {
   "cell_type": "markdown",
   "metadata": {},
   "source": [
    "Then I did the same thing for the variable \"actor_1_name\", \"actor_2_name\" and \"actor_3_name\"."
   ]
  },
  {
   "cell_type": "code",
   "execution_count": 122,
   "metadata": {
    "collapsed": true
   },
   "outputs": [],
   "source": [
    "act1.mean.gross<-function(column)\n",
    "{\n",
    "    result<- data.frame(movie_name= character(0), actor_1_name= character(0), act_1_mean_gross = numeric(0))\n",
    "\n",
    "    for (i in unique(column)){\n",
    "        df<-movies[actor_1_name==i,]\n",
    "        total<-sum(df$gross_2016,na.rm=TRUE)\n",
    "        \n",
    "        for (j in 1:nrow(df)){\n",
    "            if(nrow(df)==1){\n",
    "                mean<-0\n",
    "            }\n",
    "            else\n",
    "                {\n",
    "                mean<-(total-df$gross_2016[j])/(nrow(df)-1)\n",
    "            }\n",
    "           result<-rbind(result,data.frame(\"movie_title\"=df$movie_title[j],\n",
    "                                           \"actor_1_name\"=df$actor_1_name[j],\n",
    "                                           \"act_1_mean_gross\"=mean))\n",
    "        }\n",
    "        \n",
    "    }\n",
    "    \n",
    "    return (result)\n",
    "}"
   ]
  },
  {
   "cell_type": "code",
   "execution_count": 123,
   "metadata": {
    "collapsed": true
   },
   "outputs": [],
   "source": [
    "temp<-act1.mean.gross(movies$actor_1_name)"
   ]
  },
  {
   "cell_type": "code",
   "execution_count": 124,
   "metadata": {
    "collapsed": true
   },
   "outputs": [],
   "source": [
    "movies<-merge(movies,temp,by=c(\"movie_title\",\"actor_1_name\"))"
   ]
  },
  {
   "cell_type": "code",
   "execution_count": 125,
   "metadata": {
    "collapsed": true
   },
   "outputs": [],
   "source": [
    "act2.mean.gross<-function(column)\n",
    "{\n",
    "    result<- data.frame(movie_name= character(0), actor_2_name= character(0), act_2_mean_gross = numeric(0))\n",
    "\n",
    "    for (i in unique(column)){\n",
    "        df<-movies[actor_2_name==i,]\n",
    "        total<-sum(df$gross_2016,na.rm=TRUE)\n",
    "        \n",
    "        for (j in 1:nrow(df)){\n",
    "            if(nrow(df)==1){\n",
    "                mean<-0\n",
    "            }\n",
    "            else\n",
    "                {\n",
    "                mean<-(total-df$gross_2016[j])/(nrow(df)-1)\n",
    "            }\n",
    "           result<-rbind(result,data.frame(\"movie_title\"=df$movie_title[j],\n",
    "                                           \"actor_2_name\"=df$actor_2_name[j],\n",
    "                                           \"act_2_mean_gross\"=mean))\n",
    "        }\n",
    "        \n",
    "    }\n",
    "    \n",
    "    return (result)\n",
    "}"
   ]
  },
  {
   "cell_type": "code",
   "execution_count": 126,
   "metadata": {
    "collapsed": false
   },
   "outputs": [],
   "source": [
    "temp<-act2.mean.gross(movies$actor_2_name)"
   ]
  },
  {
   "cell_type": "code",
   "execution_count": 127,
   "metadata": {
    "collapsed": false
   },
   "outputs": [],
   "source": [
    "movies<-merge(movies,temp,by=c(\"movie_title\",\"actor_2_name\"))"
   ]
  },
  {
   "cell_type": "code",
   "execution_count": 128,
   "metadata": {
    "collapsed": true
   },
   "outputs": [],
   "source": [
    "act3.mean.gross<-function(column)\n",
    "{\n",
    "    result<- data.frame(movie_name= character(0), actor_3_name= character(0), act_3_mean_gross = numeric(0))\n",
    "\n",
    "    for (i in unique(column)){\n",
    "        df<-movies[actor_3_name==i,]\n",
    "        total<-sum(df$gross_2016,na.rm=TRUE)\n",
    "        \n",
    "        for (j in 1:nrow(df)){\n",
    "            if(nrow(df)==1){\n",
    "                mean<-0\n",
    "            }\n",
    "            else\n",
    "                {\n",
    "                mean<-(total-df$gross_2016[j])/(nrow(df)-1)\n",
    "            }\n",
    "           result<-rbind(result,data.frame(\"movie_title\"=df$movie_title[j],\n",
    "                                           \"actor_3_name\"=df$actor_3_name[j],\n",
    "                                           \"act_3_mean_gross\"=mean))\n",
    "        }\n",
    "        \n",
    "    }\n",
    "    \n",
    "    return (result)\n",
    "}"
   ]
  },
  {
   "cell_type": "code",
   "execution_count": 129,
   "metadata": {
    "collapsed": true
   },
   "outputs": [],
   "source": [
    "temp<-act3.mean.gross(movies$actor_3_name)"
   ]
  },
  {
   "cell_type": "code",
   "execution_count": 130,
   "metadata": {
    "collapsed": true
   },
   "outputs": [],
   "source": [
    "movies<-merge(movies,temp,by=c(\"movie_title\",\"actor_3_name\"))"
   ]
  },
  {
   "cell_type": "markdown",
   "metadata": {},
   "source": [
    "Let us draw the correlation plot of the new variables and the \"gross_2016\" and \"profit\" variables."
   ]
  },
  {
   "cell_type": "code",
   "execution_count": 131,
   "metadata": {
    "collapsed": false
   },
   "outputs": [
    {
     "data": {
      "image/png": "iVBORw0KGgoAAAANSUhEUgAAA0gAAANICAMAAADKOT/pAAACkVBMVEUAAAAFMGEGMmQHNWgJ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\nYhhACIlhACEkhgHk/weOl5H5yaZsAQAAAABJRU5ErkJggg==",
      "text/plain": [
       "Plot with title \"\""
      ]
     },
     "metadata": {},
     "output_type": "display_data"
    }
   ],
   "source": [
    "mean.gross.corr.plot<-c(\"act_1_mean_gross\",\"act_2_mean_gross\",\"act_3_mean_gross\",\"dir_mean_gross\",\"gross_2016\",\"profit\")\n",
    "\n",
    "corr_movie<-cor(movies[,mean.gross.corr.plot,with=FALSE], use = \"na.or.complete\")\n",
    "#setkey(movies,NULL)\n",
    "corrplot(corr_movie, method=\"ellipse\", bg=\"#b8b8b8\")"
   ]
  },
  {
   "cell_type": "markdown",
   "metadata": {},
   "source": [
    "This correlation matrix tells us that those new variables are better suited to explain the \"gross_2016\" and \"profil\" variables than the other variables. "
   ]
  },
  {
   "cell_type": "code",
   "execution_count": 132,
   "metadata": {
    "collapsed": false
   },
   "outputs": [
    {
     "name": "stderr",
     "output_type": "stream",
     "text": [
      "Warning message in write.csv(movies, \"movie_exploration.csv\", col.names = TRUE):\n",
      "\"attempt to set 'col.names' ignored\""
     ]
    }
   ],
   "source": [
    "write.csv(movies,\"movie_exploration.csv\", col.names=TRUE)"
   ]
  },
  {
   "cell_type": "markdown",
   "metadata": {},
   "source": [
    "# Conclusion\n",
    "\n",
    "The lack of a strong correlation between the variables suggests that linear regression won't be the most effective way to modelize those data. A better way would be to use a decision tree to classify profitable and non-profitable movie. Also the engineered variables seem to be the best indicator of the profitability of a movie. That explains why movie stars are paid so much!\n",
    "\n",
    "In the <a href=\"https://github.com/GTouzin/Portfolio/blob/master/R/IMDB/IMDB_model.ipynb\">last part</a> of this series, I'll use machine learning algorithms to predict if a movie will be profitable and see if we can make better predictions than the average Hollywood producer. "
   ]
  }
 ],
 "metadata": {
  "anaconda-cloud": {},
  "kernelspec": {
   "display_name": "R",
   "language": "R",
   "name": "ir"
  },
  "language_info": {
   "codemirror_mode": "r",
   "file_extension": ".r",
   "mimetype": "text/x-r-source",
   "name": "R",
   "pygments_lexer": "r",
   "version": "3.2.5"
  }
 },
 "nbformat": 4,
 "nbformat_minor": 0
}
