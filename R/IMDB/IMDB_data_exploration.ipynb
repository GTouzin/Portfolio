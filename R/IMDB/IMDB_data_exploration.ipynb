{
 "cells": [
  {
   "cell_type": "markdown",
   "metadata": {},
   "source": [
    "# IMDB data set part III: A new dimension in error\n",
    "\n",
    "After spending way too much time getting data and cleaning it (see part I and part II), now, I can finaly look at the distribution of each variable and the relation between them. In this blog post, I'll finish the exploration of the IMDB data set and make some hypotheses on the best model to use to predict the profitability of a movie. "
   ]
  },
  {
   "cell_type": "code",
   "execution_count": 124,
   "metadata": {
    "collapsed": false
   },
   "outputs": [],
   "source": [
    "library(dplyr)\n",
    "library(data.table)\n",
    "library(bit64)\n",
    "library(plotly)\n",
    "library(corrplot)\n",
    "options(scipen=999)"
   ]
  },
  {
   "cell_type": "code",
   "execution_count": 125,
   "metadata": {
    "collapsed": false
   },
   "outputs": [
    {
     "data": {
      "text/html": [
       "<table>\n",
       "<thead><tr><th scope=col>color</th><th scope=col>director_name</th><th scope=col>num_critic_for_reviews</th><th scope=col>duration</th><th scope=col>director_facebook_likes</th><th scope=col>actor_3_facebook_likes</th><th scope=col>actor_2_name</th><th scope=col>actor_1_facebook_likes</th><th scope=col>gross</th><th scope=col>genres</th><th scope=col>...</th><th scope=col>genres_Sci-Fi</th><th scope=col>genres_Short</th><th scope=col>genres_Sport</th><th scope=col>genres_Thriller</th><th scope=col>genres_War</th><th scope=col>genres_Western</th><th scope=col>currency</th><th scope=col>budget_us</th><th scope=col>gross_2016</th><th scope=col>budget_2016</th></tr></thead>\n",
       "<tbody>\n",
       "\t<tr><td>Color                                            </td><td>Joon-ho Bong                                     </td><td>363                                              </td><td>110                                              </td><td> 584                                             </td><td> 74                                              </td><td>Kang-ho Song                                     </td><td>629                                              </td><td>2201412                                          </td><td>Comedy|Drama|Horror|Sci-Fi                       </td><td>...                                              </td><td>1                                                </td><td>0                                                </td><td>0                                                </td><td>0                                                </td><td>0                                                </td><td>0                                                </td><td>KOR                                              </td><td>12793905                                         </td><td>2620914.8                                        </td><td>15231922                                         </td></tr>\n",
       "\t<tr><td>Color                                            </td><td>Chan-wook Park                                   </td><td>202                                              </td><td>112                                              </td><td>   0                                             </td><td> 38                                              </td><td>Yeong-ae Lee                                     </td><td>717                                              </td><td>211667                                           </td><td>Crime|Drama                                      </td><td>...                                              </td><td>0                                                </td><td>0                                                </td><td>0                                                </td><td>0                                                </td><td>0                                                </td><td>0                                                </td><td>KOR                                              </td><td> 4101095                                         </td><td> 260131.9                                        </td><td> 5040113                                         </td></tr>\n",
       "\t<tr><td>Color                                            </td><td>Lajos Koltai                                     </td><td> 73                                              </td><td>134                                              </td><td>  45                                             </td><td>  0                                              </td><td>PÃ©ter Fancsikai                                 </td><td>  9                                              </td><td>195888                                           </td><td>Drama|Romance|War                                </td><td>...                                              </td><td>0                                                </td><td>0                                                </td><td>0                                                </td><td>0                                                </td><td>1                                                </td><td>0                                                </td><td>HUN                                              </td><td>12526148                                         </td><td> 240740.0                                        </td><td>15394231                                         </td></tr>\n",
       "\t<tr><td>Color                                            </td><td>Hayao Miyazaki                                   </td><td>174                                              </td><td>134                                              </td><td>6000                                             </td><td>745                                              </td><td>Jada Pinkett Smith                               </td><td>893                                              </td><td>2298191                                          </td><td>Adventure|Animation|Fantasy                      </td><td>...                                              </td><td>0                                                </td><td>0                                                </td><td>0                                                </td><td>0                                                </td><td>0                                                </td><td>0                                                </td><td>JPN                                              </td><td>19836208                                         </td><td>3436293.2                                        </td><td>29659426                                         </td></tr>\n",
       "\t<tr><td>Color                                            </td><td>Katsuhiro Ã”tomo                                 </td><td>105                                              </td><td>103                                              </td><td>  78                                             </td><td>101                                              </td><td>Robin Atkin Downes                               </td><td>488                                              </td><td>410388                                           </td><td>Action|Adventure|Animation|Family|Sci-Fi|Thriller</td><td>...                                              </td><td>1                                                </td><td>0                                                </td><td>0                                                </td><td>1                                                </td><td>0                                                </td><td>0                                                </td><td>JPN                                              </td><td>19664196                                         </td><td> 521465.0                                        </td><td>24986575                                         </td></tr>\n",
       "\t<tr><td>Color                                            </td><td>Katsuhiro Ã”tomo                                 </td><td>150                                              </td><td>124                                              </td><td>  78                                             </td><td>  4                                              </td><td>Takeshi Kusao                                    </td><td>  6                                              </td><td>439162                                           </td><td>Action|Animation|Sci-Fi                          </td><td>...                                              </td><td>1                                                </td><td>0                                                </td><td>0                                                </td><td>0                                                </td><td>0                                                </td><td>0                                                </td><td>JPN                                              </td><td> 8583579                                         </td><td> 891286.1                                        </td><td>17420507                                         </td></tr>\n",
       "</tbody>\n",
       "</table>\n"
      ],
      "text/latex": [
       "\\begin{tabular}{r|llllllllllllllllllllllllllllllllllllllllllllllllllllllllll}\n",
       " color & director\\_name & num\\_critic\\_for\\_reviews & duration & director\\_facebook\\_likes & actor\\_3\\_facebook\\_likes & actor\\_2\\_name & actor\\_1\\_facebook\\_likes & gross & genres & ... & genres\\_Sci-Fi & genres\\_Short & genres\\_Sport & genres\\_Thriller & genres\\_War & genres\\_Western & currency & budget\\_us & gross\\_2016 & budget\\_2016\\\\\n",
       "\\hline\n",
       "\t Color                                                                           & Joon-ho Bong                                                                    & 363                                                                             & 110                                                                             &  584                                                                            &  74                                                                             & Kang-ho Song                                                                    & 629                                                                             & 2201412                                                                         & Comedy\\textbar{}Drama\\textbar{}Horror\\textbar{}Sci-Fi                        & ...                                                                             & 1                                                                               & 0                                                                               & 0                                                                               & 0                                                                               & 0                                                                               & 0                                                                               & KOR                                                                             & 12793905                                                                        & 2620914.8                                                                       & 15231922                                                                       \\\\\n",
       "\t Color                                                       & Chan-wook Park                                              & 202                                                         & 112                                                         &    0                                                        &  38                                                         & Yeong-ae Lee                                                & 717                                                         & 211667                                                      & Crime\\textbar{}Drama                                       & ...                                                         & 0                                                           & 0                                                           & 0                                                           & 0                                                           & 0                                                           & 0                                                           & KOR                                                         &  4101095                                                    &  260131.9                                                   &  5040113                                                   \\\\\n",
       "\t Color                                                                 & Lajos Koltai                                                          &  73                                                                   & 134                                                                   &   45                                                                  &   0                                                                   & PÃ©ter Fancsikai                                                      &   9                                                                   & 195888                                                                & Drama\\textbar{}Romance\\textbar{}War                                 & ...                                                                   & 0                                                                     & 0                                                                     & 0                                                                     & 0                                                                     & 1                                                                     & 0                                                                     & HUN                                                                   & 12526148                                                              &  240740.0                                                             & 15394231                                                             \\\\\n",
       "\t Color                                                                 & Hayao Miyazaki                                                        & 174                                                                   & 134                                                                   & 6000                                                                  & 745                                                                   & Jada Pinkett Smith                                                    & 893                                                                   & 2298191                                                               & Adventure\\textbar{}Animation\\textbar{}Fantasy                       & ...                                                                   & 0                                                                     & 0                                                                     & 0                                                                     & 0                                                                     & 0                                                                     & 0                                                                     & JPN                                                                   & 19836208                                                              & 3436293.2                                                             & 29659426                                                             \\\\\n",
       "\t Color                                                                                               & Katsuhiro Ã”tomo                                                                                    & 105                                                                                                 & 103                                                                                                 &   78                                                                                                & 101                                                                                                 & Robin Atkin Downes                                                                                  & 488                                                                                                 & 410388                                                                                              & Action\\textbar{}Adventure\\textbar{}Animation\\textbar{}Family\\textbar{}Sci-Fi\\textbar{}Thriller & ...                                                                                                 & 1                                                                                                   & 0                                                                                                   & 0                                                                                                   & 1                                                                                                   & 0                                                                                                   & 0                                                                                                   & JPN                                                                                                 & 19664196                                                                                            &  521465.0                                                                                           & 24986575                                                                                           \\\\\n",
       "\t Color                                                                 & Katsuhiro Ã”tomo                                                      & 150                                                                   & 124                                                                   &   78                                                                  &   4                                                                   & Takeshi Kusao                                                         &   6                                                                   & 439162                                                                & Action\\textbar{}Animation\\textbar{}Sci-Fi                           & ...                                                                   & 1                                                                     & 0                                                                     & 0                                                                     & 0                                                                     & 0                                                                     & 0                                                                     & JPN                                                                   &  8583579                                                              &  891286.1                                                             & 17420507                                                             \\\\\n",
       "\\end{tabular}\n"
      ],
      "text/markdown": [
       "\n",
       "color | director_name | num_critic_for_reviews | duration | director_facebook_likes | actor_3_facebook_likes | actor_2_name | actor_1_facebook_likes | gross | genres | ... | genres_Sci-Fi | genres_Short | genres_Sport | genres_Thriller | genres_War | genres_Western | currency | budget_us | gross_2016 | budget_2016 | \n",
       "|---|---|---|---|---|---|\n",
       "| Color                                             | Joon-ho Bong                                      | 363                                               | 110                                               |  584                                              |  74                                               | Kang-ho Song                                      | 629                                               | 2201412                                           | Comedy|Drama|Horror|Sci-Fi                        | ...                                               | 1                                                 | 0                                                 | 0                                                 | 0                                                 | 0                                                 | 0                                                 | KOR                                               | 12793905                                          | 2620914.8                                         | 15231922                                          | \n",
       "| Color                                             | Chan-wook Park                                    | 202                                               | 112                                               |    0                                              |  38                                               | Yeong-ae Lee                                      | 717                                               | 211667                                            | Crime|Drama                                       | ...                                               | 0                                                 | 0                                                 | 0                                                 | 0                                                 | 0                                                 | 0                                                 | KOR                                               |  4101095                                          |  260131.9                                         |  5040113                                          | \n",
       "| Color                                             | Lajos Koltai                                      |  73                                               | 134                                               |   45                                              |   0                                               | PÃ©ter Fancsikai                                  |   9                                               | 195888                                            | Drama|Romance|War                                 | ...                                               | 0                                                 | 0                                                 | 0                                                 | 0                                                 | 1                                                 | 0                                                 | HUN                                               | 12526148                                          |  240740.0                                         | 15394231                                          | \n",
       "| Color                                             | Hayao Miyazaki                                    | 174                                               | 134                                               | 6000                                              | 745                                               | Jada Pinkett Smith                                | 893                                               | 2298191                                           | Adventure|Animation|Fantasy                       | ...                                               | 0                                                 | 0                                                 | 0                                                 | 0                                                 | 0                                                 | 0                                                 | JPN                                               | 19836208                                          | 3436293.2                                         | 29659426                                          | \n",
       "| Color                                             | Katsuhiro Ã”tomo                                  | 105                                               | 103                                               |   78                                              | 101                                               | Robin Atkin Downes                                | 488                                               | 410388                                            | Action|Adventure|Animation|Family|Sci-Fi|Thriller | ...                                               | 1                                                 | 0                                                 | 0                                                 | 1                                                 | 0                                                 | 0                                                 | JPN                                               | 19664196                                          |  521465.0                                         | 24986575                                          | \n",
       "| Color                                             | Katsuhiro Ã”tomo                                  | 150                                               | 124                                               |   78                                              |   4                                               | Takeshi Kusao                                     |   6                                               | 439162                                            | Action|Animation|Sci-Fi                           | ...                                               | 1                                                 | 0                                                 | 0                                                 | 0                                                 | 0                                                 | 0                                                 | JPN                                               |  8583579                                          |  891286.1                                         | 17420507                                          | \n",
       "\n",
       "\n"
      ],
      "text/plain": [
       "  color director_name    num_critic_for_reviews duration\n",
       "1 Color Joon-ho Bong     363                    110     \n",
       "2 Color Chan-wook Park   202                    112     \n",
       "3 Color Lajos Koltai      73                    134     \n",
       "4 Color Hayao Miyazaki   174                    134     \n",
       "5 Color Katsuhiro Ãtomo 105                    103     \n",
       "6 Color Katsuhiro Ãtomo 150                    124     \n",
       "  director_facebook_likes actor_3_facebook_likes actor_2_name      \n",
       "1  584                     74                    Kang-ho Song      \n",
       "2    0                     38                    Yeong-ae Lee      \n",
       "3   45                      0                    PÃ©ter Fancsikai  \n",
       "4 6000                    745                    Jada Pinkett Smith\n",
       "5   78                    101                    Robin Atkin Downes\n",
       "6   78                      4                    Takeshi Kusao     \n",
       "  actor_1_facebook_likes gross  \n",
       "1 629                    2201412\n",
       "2 717                    211667 \n",
       "3   9                    195888 \n",
       "4 893                    2298191\n",
       "5 488                    410388 \n",
       "6   6                    439162 \n",
       "  genres                                            ... genres_Sci-Fi\n",
       "1 Comedy|Drama|Horror|Sci-Fi                        ... 1            \n",
       "2 Crime|Drama                                       ... 0            \n",
       "3 Drama|Romance|War                                 ... 0            \n",
       "4 Adventure|Animation|Fantasy                       ... 0            \n",
       "5 Action|Adventure|Animation|Family|Sci-Fi|Thriller ... 1            \n",
       "6 Action|Animation|Sci-Fi                           ... 1            \n",
       "  genres_Short genres_Sport genres_Thriller genres_War genres_Western currency\n",
       "1 0            0            0               0          0              KOR     \n",
       "2 0            0            0               0          0              KOR     \n",
       "3 0            0            0               1          0              HUN     \n",
       "4 0            0            0               0          0              JPN     \n",
       "5 0            0            1               0          0              JPN     \n",
       "6 0            0            0               0          0              JPN     \n",
       "  budget_us gross_2016 budget_2016\n",
       "1 12793905  2620914.8  15231922   \n",
       "2  4101095   260131.9   5040113   \n",
       "3 12526148   240740.0  15394231   \n",
       "4 19836208  3436293.2  29659426   \n",
       "5 19664196   521465.0  24986575   \n",
       "6  8583579   891286.1  17420507   "
      ]
     },
     "metadata": {},
     "output_type": "display_data"
    }
   ],
   "source": [
    "movies <- fread(\"movie_budget_us_2016.csv\",stringsAsFactors = F)\n",
    "head(movies)"
   ]
  },
  {
   "cell_type": "code",
   "execution_count": 126,
   "metadata": {
    "collapsed": false
   },
   "outputs": [
    {
     "name": "stdout",
     "output_type": "stream",
     "text": [
      "Classes 'data.table' and 'data.frame':\t4817 obs. of  58 variables:\n",
      " $ color                    : chr  \"Color\" \"Color\" \"Color\" \"Color\" ...\n",
      " $ director_name            : chr  \"Joon-ho Bong\" \"Chan-wook Park\" \"Lajos Koltai\" \"Hayao Miyazaki\" ...\n",
      " $ num_critic_for_reviews   : int  363 202 73 174 105 150 107 20 35 41 ...\n",
      " $ duration                 : int  110 112 134 134 103 124 99 193 115 90 ...\n",
      " $ director_facebook_likes  : int  584 0 45 6000 78 78 2 160 98 116 ...\n",
      " $ actor_3_facebook_likes   : int  74 38 0 745 101 4 3 860 4 303 ...\n",
      " $ actor_2_name             : chr  \"Kang-ho Song\" \"Yeong-ae Lee\" \"PÃ©ter Fancsikai\" \"Jada Pinkett Smith\" ...\n",
      " $ actor_1_facebook_likes   : int  629 717 9 893 488 6 43 8000 341 594 ...\n",
      " $ gross                    : chr  \"2201412\" \"211667\" \"195888\" \"2298191\" ...\n",
      " $ genres                   : chr  \"Comedy|Drama|Horror|Sci-Fi\" \"Crime|Drama\" \"Drama|Romance|War\" \"Adventure|Animation|Fantasy\" ...\n",
      " $ actor_1_name             : chr  \"Doona Bae\" \"Min-sik Choi\" \"Marcell Nagy\" \"Minnie Driver\" ...\n",
      " $ movie_title              : chr  \"thehost\" \"ladyvengeance\" \"fateless\" \"princessmononoke\" ...\n",
      " $ num_voted_users          : int  68883 53508 5603 221552 13727 106160 5442 13998 2412 9673 ...\n",
      " $ cast_total_facebook_likes: int  1173 907 11 2710 991 28 53 10822 371 1836 ...\n",
      " $ actor_3_name             : chr  \"Ah-sung Ko\" \"Hye-jeong Kang\" \"BÃ¡lint PÃ©ntek\" \"Billy Crudup\" ...\n",
      " $ facenumber_in_poster     : int  0 0 0 0 1 0 0 2 3 0 ...\n",
      " $ plot_keywords            : chr  \"daughter|han river|monster|river|seoul\" \"cake|christian|lesbian sex|oral sex|pregnant schoolgirl\" \"bus|death|gay slur|hatred|jewish\" \"anime|cult film|forest|princess|studio ghibli\" ...\n",
      " $ movie_imdb_link          : chr  \"http://www.imdb.com/title/tt0468492/?ref_=fn_tt_tt_1\" \"http://www.imdb.com/title/tt0451094/?ref_=fn_tt_tt_1\" \"http://www.imdb.com/title/tt0367082/?ref_=fn_tt_tt_1\" \"http://www.imdb.com/title/tt0119698/?ref_=fn_tt_tt_1\" ...\n",
      " $ num_user_for_reviews     : int  279 131 45 570 79 430 140 264 40 106 ...\n",
      " $ language                 : chr  \"Korean\" \"Korean\" \"Hungarian\" \"Japanese\" ...\n",
      " $ country                  : chr  \"South Korea\" \"South Korea\" \"Hungary\" \"Japan\" ...\n",
      " $ content_rating           : chr  \"R\" \"R\" \"R\" \"PG-13\" ...\n",
      " $ budget                   :Class 'integer64'  num [1:4817] 0.0000000000000000000000000000000000000000000000000000000000000000000000000000000000000000000000000000000000000000000000000000000000000000000000000000000000000000000000000000000000000000000000000000000000000000000000000000000000000000000000000000000000000000000000000000000000000000000000000000000000000000000000000604 0.0000000000000000000000000000000000000000000000000000000000000000000000000000000000000000000000000000000000000000000000000000000000000000000000000000000000000000000000000000000000000000000000000000000000000000000000000000000000000000000000000000000000000000000000000000000000000000000000000000000000000000000000000208 0.0000000000000000000000000000000000000000000000000000000000000000000000000000000000000000000000000000000000000000000000000000000000000000000000000000000000000000000000000000000000000000000000000000000000000000000000000000000000000000000000000000000000000000000000000000000000000000000000000000000000000000000000000124 0.0000000000000000000000000000000000000000000000000000000000000000000000000000000000000000000000000000000000000000000000000000000000000000000000000000000000000000000000000000000000000000000000000000000000000000000000000000000000000000000000000000000000000000000000000000000000000000000000000000000000000000000000000119 0.0000000000000000000000000000000000000000000000000000000000000000000000000000000000000000000000000000000000000000000000000000000000000000000000000000000000000000000000000000000000000000000000000000000000000000000000000000000000000000000000000000000000000000000000000000000000000000000000000000000000000000000000000105 ...\n",
      " $ title_year               : chr  \"2006\" \"2005\" \"2005\" \"1997\" ...\n",
      " $ actor_2_facebook_likes   : int  398 126 2 851 336 5 3 1000 26 412 ...\n",
      " $ imdb_score               : num  7 7.7 7.1 8.4 6.9 8.1 6 6 7.2 6 ...\n",
      " $ aspect_ratio             : num  1.85 2.35 2.35 1.85 1.85 1.85 2.35 2.35 2 NA ...\n",
      " $ movie_facebook_likes     : int  7000 4000 607 11000 973 0 339 659 539 0 ...\n",
      " $ genres_Action            : int  0 0 0 0 1 1 1 0 0 1 ...\n",
      " $ genres_Adventure         : int  0 0 0 1 1 0 1 0 0 0 ...\n",
      " $ genres_Animation         : int  0 0 0 1 1 1 0 0 0 0 ...\n",
      " $ genres_Biography         : int  0 0 0 0 0 0 0 0 0 0 ...\n",
      " $ genres_Comedy            : int  1 0 0 0 0 0 0 0 0 0 ...\n",
      " $ genres_Crime             : int  0 1 0 0 0 0 0 0 0 0 ...\n",
      " $ genres_Documentary       : int  0 0 0 0 0 0 0 0 0 0 ...\n",
      " $ genres_Drama             : int  1 1 1 0 0 0 1 1 1 1 ...\n",
      " $ genres_Family            : int  0 0 0 0 1 0 0 0 0 0 ...\n",
      " $ genres_Fantasy           : int  0 0 0 1 0 0 0 0 0 0 ...\n",
      " $ genres_Film-Noir         : int  0 0 0 0 0 0 0 0 0 0 ...\n",
      " $ genres_Game-Show         : int  0 0 0 0 0 0 0 0 0 0 ...\n",
      " $ genres_History           : int  0 0 0 0 0 0 0 0 0 0 ...\n",
      " $ genres_Horror            : int  1 0 0 0 0 0 0 0 0 0 ...\n",
      " $ genres_Music             : int  0 0 0 0 0 0 0 0 0 0 ...\n",
      " $ genres_Musical           : int  0 0 0 0 0 0 0 0 1 0 ...\n",
      " $ genres_Mystery           : int  0 0 0 0 0 0 0 0 0 0 ...\n",
      " $ genres_News              : int  0 0 0 0 0 0 0 0 0 0 ...\n",
      " $ genres_Reality-TV        : int  0 0 0 0 0 0 0 0 0 0 ...\n",
      " $ genres_Romance           : int  0 0 1 0 0 0 0 0 0 1 ...\n",
      " $ genres_Sci-Fi            : int  1 0 0 0 1 1 1 0 0 0 ...\n",
      " $ genres_Short             : int  0 0 0 0 0 0 0 0 0 0 ...\n",
      " $ genres_Sport             : int  0 0 0 0 0 0 0 0 0 0 ...\n",
      " $ genres_Thriller          : int  0 0 0 0 1 0 1 0 0 1 ...\n",
      " $ genres_War               : int  0 0 1 0 0 0 0 0 0 0 ...\n",
      " $ genres_Western           : int  0 0 0 0 0 0 0 0 0 0 ...\n",
      " $ currency                 : chr  \"KOR\" \"KOR\" \"HUN\" \"JPN\" ...\n",
      " $ budget_us                : int  12793905 4101095 12526148 19836208 19664196 8583579 8779106 15450148 4604024 13121691 ...\n",
      " $ gross_2016               : num  2620915 260132 240740 3436293 521465 ...\n",
      " $ budget_2016              : num  15231922 5040113 15394231 29659426 24986575 ...\n",
      " - attr(*, \".internal.selfref\")=<externalptr> \n"
     ]
    }
   ],
   "source": [
    "str(movies)"
   ]
  },
  {
   "cell_type": "markdown",
   "metadata": {},
   "source": [
    "I have to change the encoding of certain variable to their correct format."
   ]
  },
  {
   "cell_type": "code",
   "execution_count": 127,
   "metadata": {
    "collapsed": false
   },
   "outputs": [],
   "source": [
    "movies$color<-as.factor(movies$color) \n",
    "movies$director_name<-as.factor(movies$director_name)\n",
    "movies$actor_2_name<-as.factor(movies$actor_2_name)\n",
    "\n",
    "movies$gross<-as.integer(movies$gross)\n",
    "\n",
    "movies$actor_1_name<-as.factor(movies$actor_1_name)\n",
    "movies$actor_3_name<-as.factor(movies$actor_3_name)\n",
    "movies$language<-as.factor(movies$language)\n",
    "movies$country<-as.factor(movies$country)\n",
    "movies$content_rating<-as.factor(movies$content_rating)\n",
    "movies$aspect_ratio<-as.factor(movies$aspect_ratio)\n",
    "\n",
    "movies$movie_facebook_likes<-as.integer(movies$movie_facebook_likes)\n",
    "movies$genres_Action<-as.integer(movies$genres_Action)"
   ]
  },
  {
   "cell_type": "markdown",
   "metadata": {},
   "source": [
    "Let's look at the distribution of each variable."
   ]
  },
  {
   "cell_type": "code",
   "execution_count": 128,
   "metadata": {
    "collapsed": false
   },
   "outputs": [
    {
     "data": {
      "text/plain": [
       "             color               director_name  num_critic_for_reviews\n",
       " Black and White: 201   Steven Spielberg:  26   Min.   :  1.0         \n",
       " Color          :4616   Woody Allen     :  22   1st Qu.: 52.0         \n",
       "                        Clint Eastwood  :  20   Median :111.0         \n",
       "                        Martin Scorsese :  20   Mean   :140.3         \n",
       "                        Ridley Scott    :  16   3rd Qu.:194.0         \n",
       "                        (Other)         :4711   Max.   :813.0         \n",
       "                        NA's            :   2   NA's   :44            \n",
       "    duration     director_facebook_likes actor_3_facebook_likes\n",
       " Min.   :  7.0   Min.   :    0.0         Min.   :    0.0       \n",
       " 1st Qu.: 94.0   1st Qu.:    7.0         1st Qu.:  131.0       \n",
       " Median :104.0   Median :   48.0         Median :  367.0       \n",
       " Mean   :108.1   Mean   :  690.9         Mean   :  636.9       \n",
       " 3rd Qu.:118.0   3rd Qu.:  189.5         3rd Qu.:  636.0       \n",
       " Max.   :334.0   Max.   :23000.0         Max.   :23000.0       \n",
       " NA's   :13      NA's   :2               NA's   :20            \n",
       "          actor_2_name  actor_1_facebook_likes     gross          \n",
       " Morgan Freeman :  18   Min.   :     0         Min.   :        0  \n",
       " Charlize Theron:  14   1st Qu.:   611         1st Qu.:  3218000  \n",
       " Brad Pitt      :  13   Median :   989         Median : 20566327  \n",
       " Meryl Streep   :  11   Mean   :  6598         Mean   : 44078528  \n",
       " Adam Sandler   :  10   3rd Qu.: 11000         3rd Qu.: 56120692  \n",
       " (Other)        :4740   Max.   :640000         Max.   :760505847  \n",
       " NA's           :  11   NA's   :7              NA's   :366        \n",
       "    genres                     actor_1_name  movie_title       \n",
       " Length:4817        Robert De Niro   :  48   Length:4817       \n",
       " Class :character   Johnny Depp      :  36   Class :character  \n",
       " Mode  :character   Nicolas Cage     :  32   Mode  :character  \n",
       "                    Denzel Washington:  29                     \n",
       "                    J.K. Simmons     :  29                     \n",
       "                    (Other)          :4636                     \n",
       "                    NA's             :   7                     \n",
       " num_voted_users   cast_total_facebook_likes         actor_3_name \n",
       " Min.   :      5   Min.   :     0            Steve Coogan  :   8  \n",
       " 1st Qu.:   8603   1st Qu.:  1397            Ben Mendelsohn:   7  \n",
       " Median :  34194   Median :  3090            Jon Gries     :   7  \n",
       " Mean   :  83706   Mean   :  9714            Robert Duvall :   7  \n",
       " 3rd Qu.:  95294   3rd Qu.: 13811            Sam Shepard   :   7  \n",
       " Max.   :1689764   Max.   :656730            (Other)       :4761  \n",
       "                                             NA's          :  20  \n",
       " facenumber_in_poster plot_keywords      movie_imdb_link   \n",
       " Min.   : 0.000       Length:4817        Length:4817       \n",
       " 1st Qu.: 0.000       Class :character   Class :character  \n",
       " Median : 1.000       Mode  :character   Mode  :character  \n",
       " Mean   : 1.368                                            \n",
       " 3rd Qu.: 2.000                                            \n",
       " Max.   :43.000                                            \n",
       " NA's   :13                                                \n",
       " num_user_for_reviews     language       country       content_rating\n",
       " Min.   :   1.0       English :4488   USA    :3637   R        :2069  \n",
       " 1st Qu.:  66.0       French  :  72   UK     : 420   PG-13    :1410  \n",
       " Median : 156.0       Spanish :  40   France : 153   PG       : 686  \n",
       " Mean   : 271.2       Hindi   :  28   Canada : 121   Not Rated: 115  \n",
       " 3rd Qu.: 323.0       Mandarin:  24   Germany:  94   G        : 112  \n",
       " Max.   :5060.0       (Other) : 154   (Other): 389   (Other)  : 163  \n",
       " NA's   :19           NA's    :  11   NA's   :   3   NA's     : 262  \n",
       "     budget             title_year        actor_2_facebook_likes\n",
       " Min.   :        218   Length:4817        Min.   :     0        \n",
       " 1st Qu.:    5600000   Class :character   1st Qu.:   278        \n",
       " Median :   18000000   Mode  :character   Median :   595        \n",
       " Mean   :   38406122                      Mean   :  1645        \n",
       " 3rd Qu.:   40000000                      3rd Qu.:   918        \n",
       " Max.   :12215500000                      Max.   :137000        \n",
       " NA's   :        212                      NA's   :11            \n",
       "   imdb_score     aspect_ratio  movie_facebook_likes genres_Action   \n",
       " Min.   :1.600   2.35   :2281   Min.   :     0       Min.   :0.0000  \n",
       " 1st Qu.:5.800   1.85   :1866   1st Qu.:     0       1st Qu.:0.0000  \n",
       " Median :6.500   1.37   :  99   Median :   157       Median :0.0000  \n",
       " Mean   :6.415   1.78   :  92   Mean   :  7434       Mean   :0.2271  \n",
       " 3rd Qu.:7.200   1.66   :  63   3rd Qu.:  2000       3rd Qu.:0.0000  \n",
       " Max.   :9.500   (Other): 109   Max.   :349000       Max.   :1.0000  \n",
       "                 NA's   : 307   NA's   :65                           \n",
       " genres_Adventure genres_Animation  genres_Biography genres_Comedy   \n",
       " Min.   :0.0000   Min.   :0.00000   Min.   :0.0000   Min.   :0.0000  \n",
       " 1st Qu.:0.0000   1st Qu.:0.00000   1st Qu.:0.0000   1st Qu.:0.0000  \n",
       " Median :0.0000   Median :0.00000   Median :0.0000   Median :0.0000  \n",
       " Mean   :0.1821   Mean   :0.04837   Mean   :0.0602   Mean   :0.3764  \n",
       " 3rd Qu.:0.0000   3rd Qu.:0.00000   3rd Qu.:0.0000   3rd Qu.:1.0000  \n",
       " Max.   :1.0000   Max.   :1.00000   Max.   :1.0000   Max.   :1.0000  \n",
       "                                                                     \n",
       "  genres_Crime   genres_Documentary  genres_Drama    genres_Family   \n",
       " Min.   :0.000   Min.   :0.00000    Min.   :0.0000   Min.   :0.0000  \n",
       " 1st Qu.:0.000   1st Qu.:0.00000    1st Qu.:0.0000   1st Qu.:0.0000  \n",
       " Median :0.000   Median :0.00000    Median :1.0000   Median :0.0000  \n",
       " Mean   :0.174   Mean   :0.02491    Mean   :0.5111   Mean   :0.1086  \n",
       " 3rd Qu.:0.000   3rd Qu.:0.00000    3rd Qu.:1.0000   3rd Qu.:0.0000  \n",
       " Max.   :1.000   Max.   :1.00000    Max.   :1.0000   Max.   :1.0000  \n",
       "                                                                     \n",
       " genres_Fantasy   genres_Film-Noir   genres_Game-Show genres_History   \n",
       " Min.   :0.0000   Min.   :0.000000   Min.   :0        Min.   :0.00000  \n",
       " 1st Qu.:0.0000   1st Qu.:0.000000   1st Qu.:0        1st Qu.:0.00000  \n",
       " Median :0.0000   Median :0.000000   Median :0        Median :0.00000  \n",
       " Mean   :0.1181   Mean   :0.001246   Mean   :0        Mean   :0.04131  \n",
       " 3rd Qu.:0.0000   3rd Qu.:0.000000   3rd Qu.:0        3rd Qu.:0.00000  \n",
       " Max.   :1.0000   Max.   :1.000000   Max.   :0        Max.   :1.00000  \n",
       "                                                                       \n",
       " genres_Horror     genres_Music    genres_Musical   genres_Mystery  \n",
       " Min.   :0.0000   Min.   :0.0000   Min.   :0.0000   Min.   :0.0000  \n",
       " 1st Qu.:0.0000   1st Qu.:0.0000   1st Qu.:0.0000   1st Qu.:0.0000  \n",
       " Median :0.0000   Median :0.0000   Median :0.0000   Median :0.0000  \n",
       " Mean   :0.1106   Mean   :0.0438   Mean   :0.0272   Mean   :0.0957  \n",
       " 3rd Qu.:0.0000   3rd Qu.:0.0000   3rd Qu.:0.0000   3rd Qu.:0.0000  \n",
       " Max.   :1.0000   Max.   :1.0000   Max.   :1.0000   Max.   :1.0000  \n",
       "                                                                    \n",
       "  genres_News        genres_Reality-TV genres_Romance   genres_Sci-Fi   \n",
       " Min.   :0.0000000   Min.   :0         Min.   :0.0000   Min.   :0.0000  \n",
       " 1st Qu.:0.0000000   1st Qu.:0         1st Qu.:0.0000   1st Qu.:0.0000  \n",
       " Median :0.0000000   Median :0         Median :0.0000   Median :0.0000  \n",
       " Mean   :0.0006228   Mean   :0         Mean   :0.2213   Mean   :0.1198  \n",
       " 3rd Qu.:0.0000000   3rd Qu.:0         3rd Qu.:0.0000   3rd Qu.:0.0000  \n",
       " Max.   :1.0000000   Max.   :0         Max.   :1.0000   Max.   :1.0000  \n",
       "                                                                        \n",
       "  genres_Short       genres_Sport     genres_Thriller    genres_War     \n",
       " Min.   :0.000000   Min.   :0.00000   Min.   :0.0000   Min.   :0.00000  \n",
       " 1st Qu.:0.000000   1st Qu.:0.00000   1st Qu.:0.0000   1st Qu.:0.00000  \n",
       " Median :0.000000   Median :0.00000   Median :0.0000   Median :0.00000  \n",
       " Mean   :0.001038   Mean   :0.03654   Mean   :0.2776   Mean   :0.04277  \n",
       " 3rd Qu.:0.000000   3rd Qu.:0.00000   3rd Qu.:1.0000   3rd Qu.:0.00000  \n",
       " Max.   :1.000000   Max.   :1.00000   Max.   :1.0000   Max.   :1.00000  \n",
       "                                                                        \n",
       " genres_Western      currency           budget_us           gross_2016        \n",
       " Min.   :0.00000   Length:4817        Min.   :      218   Min.   :         0  \n",
       " 1st Qu.:0.00000   Class :character   1st Qu.:  5500000   1st Qu.:   4312863  \n",
       " Median :0.00000   Mode  :character   Median : 18000000   Median :  28876924  \n",
       " Mean   :0.01951                      Mean   : 31848437   Mean   :  62962007  \n",
       " 3rd Qu.:0.00000                      3rd Qu.: 40000000   3rd Qu.:  78855643  \n",
       " Max.   :1.00000                      Max.   :300000000   Max.   :1825291244  \n",
       "                                      NA's   :212         NA's   :418         \n",
       "  budget_2016       \n",
       " Min.   :      284  \n",
       " 1st Qu.:  8607236  \n",
       " Median : 24788960  \n",
       " Mean   : 41263712  \n",
       " 3rd Qu.: 56929405  \n",
       " Max.   :347262018  \n",
       " NA's   :268        "
      ]
     },
     "metadata": {},
     "output_type": "display_data"
    }
   ],
   "source": [
    "summary(movies)"
   ]
  },
  {
   "cell_type": "markdown",
   "metadata": {
    "collapsed": true
   },
   "source": [
    "# Movie specific statistics\n",
    "\n",
    "In this section, I will look at the variables describing the movies themselves. Specifictly, I'll look at the colorisation of the movies, their duration, their title, their gross revenu and their budget. "
   ]
  },
  {
   "cell_type": "code",
   "execution_count": 129,
   "metadata": {
    "collapsed": false
   },
   "outputs": [
    {
     "data": {
      "text/html": [
       "<dl class=dl-horizontal>\n",
       "\t<dt>Black and White</dt>\n",
       "\t\t<dd>201</dd>\n",
       "\t<dt>Color</dt>\n",
       "\t\t<dd>4616</dd>\n",
       "</dl>\n"
      ],
      "text/latex": [
       "\\begin{description*}\n",
       "\\item[Black and White] 201\n",
       "\\item[Color] 4616\n",
       "\\end{description*}\n"
      ],
      "text/markdown": [
       "Black and White\n",
       ":   201Color\n",
       ":   4616\n",
       "\n"
      ],
      "text/plain": [
       "Black and White           Color \n",
       "            201            4616 "
      ]
     },
     "metadata": {},
     "output_type": "display_data"
    }
   ],
   "source": [
    "summary(movies$color)"
   ]
  },
  {
   "cell_type": "code",
   "execution_count": 130,
   "metadata": {
    "collapsed": false
   },
   "outputs": [
    {
     "name": "stderr",
     "output_type": "stream",
     "text": [
      "Warning message in RColorBrewer::brewer.pal(N, \"Set2\"):\n",
      "\"minimal value for n is 3, returning requested palette with 3 different levels\n",
      "\""
     ]
    },
    {
     "data": {
      "text/html": [
       "<iframe src=\"plotlyJupyterHTML/9cdde12e105e33ea1a59d1b10aed0566.html\" width=\"100%\" height=\"400\" id=\"igraph\" scrolling=\"no\" seamless=\"seamless\" frameBorder=\"0\"> </iframe>"
      ]
     },
     "metadata": {},
     "output_type": "display_data"
    }
   ],
   "source": [
    "hist_color <- plot_ly(movies,x=~color,color=~color,type=\"histogram\") %>%\n",
    "layout(title = 'Distribution of movie\\'s color in the IMDB data set',\n",
    "         xaxis = list(title = 'Color of movies', zeroline = TRUE),\n",
    "         yaxis = list(title = 'Frequency',range = c(0,5000)))\n",
    "embed_notebook(hist_color)"
   ]
  },
  {
   "cell_type": "markdown",
   "metadata": {},
   "source": [
    "I'm interested to see how the colorisation of movie chande over the years for the movie in the data set."
   ]
  },
  {
   "cell_type": "code",
   "execution_count": 131,
   "metadata": {
    "collapsed": false
   },
   "outputs": [],
   "source": [
    "temp<-movies[,c(\"title_year\",\"color\"),with=FALSE]"
   ]
  },
  {
   "cell_type": "code",
   "execution_count": 132,
   "metadata": {
    "collapsed": true
   },
   "outputs": [],
   "source": [
    "decade<-function(x){\n",
    "    d<-as.double(x)\n",
    "    \n",
    "    return ((floor(d/10))*10)\n",
    "}"
   ]
  },
  {
   "cell_type": "code",
   "execution_count": 133,
   "metadata": {
    "collapsed": false
   },
   "outputs": [
    {
     "data": {
      "text/html": [
       "<ol class=list-inline>\n",
       "\t<li>2000</li>\n",
       "\t<li>2000</li>\n",
       "\t<li>2000</li>\n",
       "\t<li>1990</li>\n",
       "\t<li>2000</li>\n",
       "\t<li>1980</li>\n",
       "</ol>\n"
      ],
      "text/latex": [
       "\\begin{enumerate*}\n",
       "\\item 2000\n",
       "\\item 2000\n",
       "\\item 2000\n",
       "\\item 1990\n",
       "\\item 2000\n",
       "\\item 1980\n",
       "\\end{enumerate*}\n"
      ],
      "text/markdown": [
       "1. 2000\n",
       "2. 2000\n",
       "3. 2000\n",
       "4. 1990\n",
       "5. 2000\n",
       "6. 1980\n",
       "\n",
       "\n"
      ],
      "text/plain": [
       "[1] 2000 2000 2000 1990 2000 1980"
      ]
     },
     "metadata": {},
     "output_type": "display_data"
    }
   ],
   "source": [
    "temp$decades<-decade(temp$title_year)\n",
    "head(temp$decades)"
   ]
  },
  {
   "cell_type": "code",
   "execution_count": 134,
   "metadata": {
    "collapsed": false
   },
   "outputs": [
    {
     "name": "stdout",
     "output_type": "stream",
     "text": [
      "Classes 'data.table' and 'data.frame':\t4817 obs. of  3 variables:\n",
      " $ title_year: chr  \"2006\" \"2005\" \"2005\" \"1997\" ...\n",
      " $ color     : Factor w/ 2 levels \"Black and White\",..: 2 2 2 2 2 2 2 2 2 2 ...\n",
      " $ decades   : num  2000 2000 2000 1990 2000 1980 1990 2000 1990 2010 ...\n",
      " - attr(*, \".internal.selfref\")=<externalptr> \n"
     ]
    }
   ],
   "source": [
    "str(temp)"
   ]
  },
  {
   "cell_type": "code",
   "execution_count": 135,
   "metadata": {
    "collapsed": false
   },
   "outputs": [
    {
     "name": "stderr",
     "output_type": "stream",
     "text": [
      "Warning message:\n",
      "\"Ignoring 1 observations\"Warning message in RColorBrewer::brewer.pal(N, \"Set2\"):\n",
      "\"minimal value for n is 3, returning requested palette with 3 different levels\n",
      "\""
     ]
    },
    {
     "data": {
      "text/html": [
       "<iframe src=\"plotlyJupyterHTML/1980e2af72416ec4bf29f2a2cf9344e2.html\" width=\"100%\" height=\"400\" id=\"igraph\" scrolling=\"no\" seamless=\"seamless\" frameBorder=\"0\"> </iframe>"
      ]
     },
     "metadata": {},
     "output_type": "display_data"
    }
   ],
   "source": [
    "hist_color_decade <- temp %>%\n",
    "  dplyr::count(color,decades) %>%\n",
    "  plot_ly(x =~decades, y = ~n,color=~color) %>% \n",
    "  add_bars()%>%\n",
    "layout(title = 'Distribution of movie\\'s color in the IMDB data set by decade',\n",
    "         xaxis = list(title = 'Color of movies', zeroline = TRUE),\n",
    "         yaxis = list(title = 'Frequency'))\n",
    "\n",
    "embed_notebook(hist_color_decade)"
   ]
  },
  {
   "cell_type": "code",
   "execution_count": 136,
   "metadata": {
    "collapsed": false
   },
   "outputs": [
    {
     "name": "stderr",
     "output_type": "stream",
     "text": [
      "No trace type specified:\n",
      "  Based on info supplied, a 'bar' trace seems appropriate.\n",
      "  Read more about this trace type -> https://plot.ly/r/reference/#bar\n",
      "Warning message:\n",
      "\"Ignoring 1 observations\"Warning message in RColorBrewer::brewer.pal(N, \"Set2\"):\n",
      "\"minimal value for n is 3, returning requested palette with 3 different levels\n",
      "\""
     ]
    },
    {
     "data": {
      "text/html": [
       "<iframe src=\"plotlyJupyterHTML/a19178d408de1981c502b9d2270a14d1.html\" width=\"100%\" height=\"400\" id=\"igraph\" scrolling=\"no\" seamless=\"seamless\" frameBorder=\"0\"> </iframe>"
      ]
     },
     "metadata": {},
     "output_type": "display_data"
    }
   ],
   "source": [
    "hist_color_year <- temp %>%\n",
    "  dplyr::count(color,title_year) %>%\n",
    "  plot_ly(x =~title_year, y = ~n,color=~color) %>% \n",
    "add_bars()%>%\n",
    "layout(title = 'Distribution of movie\\'s color in the IMDB data set by year',\n",
    "         xaxis = list(title = 'Year', zeroline = TRUE),\n",
    "         yaxis = list(title = 'Frequency'))\n",
    "\n",
    "embed_notebook(hist_color_year) "
   ]
  },
  {
   "cell_type": "code",
   "execution_count": 137,
   "metadata": {
    "collapsed": false
   },
   "outputs": [],
   "source": [
    "freq_color_year<-temp %>%\n",
    "group_by(title_year,color) %>%\n",
    "tally%>%\n",
    "mutate(freq=n/sum(n))"
   ]
  },
  {
   "cell_type": "code",
   "execution_count": 138,
   "metadata": {
    "collapsed": false
   },
   "outputs": [
    {
     "data": {
      "text/html": [
       "<table>\n",
       "<thead><tr><th scope=col>title_year</th><th scope=col>color</th><th scope=col>n</th><th scope=col>freq</th></tr></thead>\n",
       "<tbody>\n",
       "\t<tr><td>1916</td><td>BW  </td><td>1   </td><td>1   </td></tr>\n",
       "\t<tr><td>1920</td><td>BW  </td><td>1   </td><td>1   </td></tr>\n",
       "\t<tr><td>1925</td><td>BW  </td><td>1   </td><td>1   </td></tr>\n",
       "\t<tr><td>1927</td><td>BW  </td><td>1   </td><td>1   </td></tr>\n",
       "\t<tr><td>1929</td><td>BW  </td><td>2   </td><td>1   </td></tr>\n",
       "\t<tr><td>1930</td><td>BW  </td><td>1   </td><td>1   </td></tr>\n",
       "</tbody>\n",
       "</table>\n"
      ],
      "text/latex": [
       "\\begin{tabular}{r|llll}\n",
       " title\\_year & color & n & freq\\\\\n",
       "\\hline\n",
       "\t 1916 & BW   & 1    & 1   \\\\\n",
       "\t 1920 & BW   & 1    & 1   \\\\\n",
       "\t 1925 & BW   & 1    & 1   \\\\\n",
       "\t 1927 & BW   & 1    & 1   \\\\\n",
       "\t 1929 & BW   & 2    & 1   \\\\\n",
       "\t 1930 & BW   & 1    & 1   \\\\\n",
       "\\end{tabular}\n"
      ],
      "text/markdown": [
       "\n",
       "title_year | color | n | freq | \n",
       "|---|---|---|---|---|---|\n",
       "| 1916 | BW   | 1    | 1    | \n",
       "| 1920 | BW   | 1    | 1    | \n",
       "| 1925 | BW   | 1    | 1    | \n",
       "| 1927 | BW   | 1    | 1    | \n",
       "| 1929 | BW   | 2    | 1    | \n",
       "| 1930 | BW   | 1    | 1    | \n",
       "\n",
       "\n"
      ],
      "text/plain": [
       "  title_year color n freq\n",
       "1 1916       BW    1 1   \n",
       "2 1920       BW    1 1   \n",
       "3 1925       BW    1 1   \n",
       "4 1927       BW    1 1   \n",
       "5 1929       BW    2 1   \n",
       "6 1930       BW    1 1   "
      ]
     },
     "metadata": {},
     "output_type": "display_data"
    }
   ],
   "source": [
    "levels(freq_color_year$color)[levels(freq_color_year$color)==\"Black and White\"]<-\"BW\"\n",
    "head(freq_color_year)"
   ]
  },
  {
   "cell_type": "code",
   "execution_count": 139,
   "metadata": {
    "collapsed": false
   },
   "outputs": [],
   "source": [
    "freq_color_year$title_year<-as.integer(freq_color_year$title_year)"
   ]
  },
  {
   "cell_type": "code",
   "execution_count": 140,
   "metadata": {
    "collapsed": true
   },
   "outputs": [],
   "source": [
    "library(tidyr)"
   ]
  },
  {
   "cell_type": "code",
   "execution_count": 141,
   "metadata": {
    "collapsed": false
   },
   "outputs": [
    {
     "data": {
      "text/html": [
       "<table>\n",
       "<thead><tr><th scope=col>title_year</th><th scope=col>n</th><th scope=col>BW</th><th scope=col>Color</th></tr></thead>\n",
       "<tbody>\n",
       "\t<tr><td>1916</td><td>1   </td><td>1   </td><td>NA  </td></tr>\n",
       "\t<tr><td>1920</td><td>1   </td><td>1   </td><td>NA  </td></tr>\n",
       "\t<tr><td>1925</td><td>1   </td><td>1   </td><td>NA  </td></tr>\n",
       "\t<tr><td>1927</td><td>1   </td><td>1   </td><td>NA  </td></tr>\n",
       "\t<tr><td>1929</td><td>2   </td><td>1   </td><td>NA  </td></tr>\n",
       "</tbody>\n",
       "</table>\n"
      ],
      "text/latex": [
       "\\begin{tabular}{r|llll}\n",
       " title\\_year & n & BW & Color\\\\\n",
       "\\hline\n",
       "\t 1916 & 1    & 1    & NA  \\\\\n",
       "\t 1920 & 1    & 1    & NA  \\\\\n",
       "\t 1925 & 1    & 1    & NA  \\\\\n",
       "\t 1927 & 1    & 1    & NA  \\\\\n",
       "\t 1929 & 2    & 1    & NA  \\\\\n",
       "\\end{tabular}\n"
      ],
      "text/markdown": [
       "\n",
       "title_year | n | BW | Color | \n",
       "|---|---|---|---|---|\n",
       "| 1916 | 1    | 1    | NA   | \n",
       "| 1920 | 1    | 1    | NA   | \n",
       "| 1925 | 1    | 1    | NA   | \n",
       "| 1927 | 1    | 1    | NA   | \n",
       "| 1929 | 2    | 1    | NA   | \n",
       "\n",
       "\n"
      ],
      "text/plain": [
       "  title_year n BW Color\n",
       "1 1916       1 1  NA   \n",
       "2 1920       1 1  NA   \n",
       "3 1925       1 1  NA   \n",
       "4 1927       1 1  NA   \n",
       "5 1929       2 1  NA   "
      ]
     },
     "metadata": {},
     "output_type": "display_data"
    }
   ],
   "source": [
    "freq_color_spread<-spread(freq_color_year,color,value=freq)\n",
    "head(freq_color_spread,n=5)"
   ]
  },
  {
   "cell_type": "code",
   "execution_count": 142,
   "metadata": {
    "collapsed": false,
    "scrolled": true
   },
   "outputs": [
    {
     "data": {
      "text/html": [
       "<iframe src=\"plotlyJupyterHTML/6157427a0c6f8a94fccad25edbdbeb48.html\" width=\"100%\" height=\"400\" id=\"igraph\" scrolling=\"no\" seamless=\"seamless\" frameBorder=\"0\"> </iframe>"
      ]
     },
     "metadata": {},
     "output_type": "display_data"
    }
   ],
   "source": [
    "plot_color_freq<-plot_ly(freq_color_spread, x = ~title_year) %>%\n",
    "add_trace(y=~BW,name = 'trace 0', type = 'scatter',mode = 'lines+markers' )%>%\n",
    "add_trace(y=~Color,name = 'trace 1', type = 'scatter',mode = 'lines+markers' )%>%\n",
    "layout(title = 'Trend line of the proportion ofmovie\\'s color in the IMDB data set over the year',\n",
    "         xaxis = list(title = 'Year', zeroline = TRUE),\n",
    "         yaxis = list(title = 'Relative frequency'))\n",
    "embed_notebook(plot_color_freq)"
   ]
  },
  {
   "cell_type": "markdown",
   "metadata": {
    "collapsed": true
   },
   "source": [
    "We can see that the number of movies in black and white stay stable over time, but the overall number of movie grow soo much that their relative frequency is almost zero near the 90's.\n",
    "\n",
    "Now I take a look at the \"duration\" variable."
   ]
  },
  {
   "cell_type": "code",
   "execution_count": 143,
   "metadata": {
    "collapsed": false
   },
   "outputs": [
    {
     "data": {
      "text/plain": [
       "   Min. 1st Qu.  Median    Mean 3rd Qu.    Max.    NA's \n",
       "    7.0    94.0   104.0   108.1   118.0   334.0      13 "
      ]
     },
     "metadata": {},
     "output_type": "display_data"
    }
   ],
   "source": [
    "summary(movies$duration)"
   ]
  },
  {
   "cell_type": "code",
   "execution_count": 144,
   "metadata": {
    "collapsed": false
   },
   "outputs": [
    {
     "name": "stderr",
     "output_type": "stream",
     "text": [
      "Warning message:\n",
      "\"Ignoring 13 observations\""
     ]
    },
    {
     "data": {
      "text/html": [
       "<iframe src=\"plotlyJupyterHTML/c0d174813fa7aa55ca06ec5e94af6b10.html\" width=\"100%\" height=\"400\" id=\"igraph\" scrolling=\"no\" seamless=\"seamless\" frameBorder=\"0\"> </iframe>"
      ]
     },
     "metadata": {},
     "output_type": "display_data"
    }
   ],
   "source": [
    "hist_duration <- plot_ly(x=~movies$duration,type=\"histogram\")%>%\n",
    "layout(title = 'Distribution of the length of the movie in the IMDB data set',\n",
    "         xaxis = list(title = 'Duration of movie', zeroline = TRUE),\n",
    "         yaxis = list(title = 'Frequency'))\n",
    "embed_notebook(hist_duration)"
   ]
  },
  {
   "cell_type": "markdown",
   "metadata": {},
   "source": [
    "There seem's to be some outlier in the data. By drawing a box plot, I can easily find the value that are suspicus."
   ]
  },
  {
   "cell_type": "code",
   "execution_count": 145,
   "metadata": {
    "collapsed": false
   },
   "outputs": [
    {
     "name": "stderr",
     "output_type": "stream",
     "text": [
      "Warning message:\n",
      "\"Ignoring 13 observations\""
     ]
    },
    {
     "data": {
      "text/html": [
       "<iframe src=\"plotlyJupyterHTML/3d06645b5c353542f713a554a8a9eba5.html\" width=\"100%\" height=\"400\" id=\"igraph\" scrolling=\"no\" seamless=\"seamless\" frameBorder=\"0\"> </iframe>"
      ]
     },
     "metadata": {},
     "output_type": "display_data"
    }
   ],
   "source": [
    "box_duration <- plot_ly(x=~movies$duration,type=\"box\")%>%\n",
    "layout(title = 'Distribution of the length of the movie in the IMDB data set',\n",
    "         xaxis = list(title = 'Duration of movie', zeroline = TRUE),\n",
    "         yaxis = list(title = 'Frequency'))\n",
    "embed_notebook(box_duration)"
   ]
  },
  {
   "cell_type": "code",
   "execution_count": 146,
   "metadata": {
    "collapsed": false
   },
   "outputs": [
    {
     "data": {
      "text/html": [
       "<ol class=list-inline>\n",
       "\t<li>'http://www.imdb.com/title/tt0920458/?ref_=fn_tt_tt_1'</li>\n",
       "\t<li>'http://www.imdb.com/title/tt0245280/?ref_=fn_tt_tt_1'</li>\n",
       "\t<li>'http://www.imdb.com/title/tt4061848/?ref_=fn_tt_tt_1'</li>\n",
       "\t<li>'http://www.imdb.com/title/tt0996382/?ref_=fn_tt_tt_1'</li>\n",
       "\t<li>'http://www.imdb.com/title/tt1529567/?ref_=fn_tt_tt_1'</li>\n",
       "\t<li>'http://www.imdb.com/title/tt0092991/?ref_=fn_tt_tt_1'</li>\n",
       "\t<li>'http://www.imdb.com/title/tt0473107/?ref_=fn_tt_tt_1'</li>\n",
       "\t<li>'http://www.imdb.com/title/tt0854678/?ref_=fn_tt_tt_1'</li>\n",
       "\t<li>'http://www.imdb.com/title/tt4273494/?ref_=fn_tt_tt_1'</li>\n",
       "\t<li>'http://www.imdb.com/title/tt0059026/?ref_=fn_tt_tt_1'</li>\n",
       "\t<li>'http://www.imdb.com/title/tt0478988/?ref_=fn_tt_tt_1'</li>\n",
       "\t<li>'http://www.imdb.com/title/tt0283465/?ref_=fn_tt_tt_1'</li>\n",
       "\t<li>'http://www.imdb.com/title/tt1128219/?ref_=fn_tt_tt_1'</li>\n",
       "\t<li>'http://www.imdb.com/title/tt1869849/?ref_=fn_tt_tt_1'</li>\n",
       "\t<li>'http://www.imdb.com/title/tt0092337/?ref_=fn_tt_tt_1'</li>\n",
       "\t<li>'http://www.imdb.com/title/tt2164708/?ref_=fn_tt_tt_1'</li>\n",
       "\t<li>'http://www.imdb.com/title/tt1003002/?ref_=fn_tt_tt_1'</li>\n",
       "</ol>\n"
      ],
      "text/latex": [
       "\\begin{enumerate*}\n",
       "\\item 'http://www.imdb.com/title/tt0920458/?ref\\_=fn\\_tt\\_tt\\_1'\n",
       "\\item 'http://www.imdb.com/title/tt0245280/?ref\\_=fn\\_tt\\_tt\\_1'\n",
       "\\item 'http://www.imdb.com/title/tt4061848/?ref\\_=fn\\_tt\\_tt\\_1'\n",
       "\\item 'http://www.imdb.com/title/tt0996382/?ref\\_=fn\\_tt\\_tt\\_1'\n",
       "\\item 'http://www.imdb.com/title/tt1529567/?ref\\_=fn\\_tt\\_tt\\_1'\n",
       "\\item 'http://www.imdb.com/title/tt0092991/?ref\\_=fn\\_tt\\_tt\\_1'\n",
       "\\item 'http://www.imdb.com/title/tt0473107/?ref\\_=fn\\_tt\\_tt\\_1'\n",
       "\\item 'http://www.imdb.com/title/tt0854678/?ref\\_=fn\\_tt\\_tt\\_1'\n",
       "\\item 'http://www.imdb.com/title/tt4273494/?ref\\_=fn\\_tt\\_tt\\_1'\n",
       "\\item 'http://www.imdb.com/title/tt0059026/?ref\\_=fn\\_tt\\_tt\\_1'\n",
       "\\item 'http://www.imdb.com/title/tt0478988/?ref\\_=fn\\_tt\\_tt\\_1'\n",
       "\\item 'http://www.imdb.com/title/tt0283465/?ref\\_=fn\\_tt\\_tt\\_1'\n",
       "\\item 'http://www.imdb.com/title/tt1128219/?ref\\_=fn\\_tt\\_tt\\_1'\n",
       "\\item 'http://www.imdb.com/title/tt1869849/?ref\\_=fn\\_tt\\_tt\\_1'\n",
       "\\item 'http://www.imdb.com/title/tt0092337/?ref\\_=fn\\_tt\\_tt\\_1'\n",
       "\\item 'http://www.imdb.com/title/tt2164708/?ref\\_=fn\\_tt\\_tt\\_1'\n",
       "\\item 'http://www.imdb.com/title/tt1003002/?ref\\_=fn\\_tt\\_tt\\_1'\n",
       "\\end{enumerate*}\n"
      ],
      "text/markdown": [
       "1. 'http://www.imdb.com/title/tt0920458/?ref_=fn_tt_tt_1'\n",
       "2. 'http://www.imdb.com/title/tt0245280/?ref_=fn_tt_tt_1'\n",
       "3. 'http://www.imdb.com/title/tt4061848/?ref_=fn_tt_tt_1'\n",
       "4. 'http://www.imdb.com/title/tt0996382/?ref_=fn_tt_tt_1'\n",
       "5. 'http://www.imdb.com/title/tt1529567/?ref_=fn_tt_tt_1'\n",
       "6. 'http://www.imdb.com/title/tt0092991/?ref_=fn_tt_tt_1'\n",
       "7. 'http://www.imdb.com/title/tt0473107/?ref_=fn_tt_tt_1'\n",
       "8. 'http://www.imdb.com/title/tt0854678/?ref_=fn_tt_tt_1'\n",
       "9. 'http://www.imdb.com/title/tt4273494/?ref_=fn_tt_tt_1'\n",
       "10. 'http://www.imdb.com/title/tt0059026/?ref_=fn_tt_tt_1'\n",
       "11. 'http://www.imdb.com/title/tt0478988/?ref_=fn_tt_tt_1'\n",
       "12. 'http://www.imdb.com/title/tt0283465/?ref_=fn_tt_tt_1'\n",
       "13. 'http://www.imdb.com/title/tt1128219/?ref_=fn_tt_tt_1'\n",
       "14. 'http://www.imdb.com/title/tt1869849/?ref_=fn_tt_tt_1'\n",
       "15. 'http://www.imdb.com/title/tt0092337/?ref_=fn_tt_tt_1'\n",
       "16. 'http://www.imdb.com/title/tt2164708/?ref_=fn_tt_tt_1'\n",
       "17. 'http://www.imdb.com/title/tt1003002/?ref_=fn_tt_tt_1'\n",
       "\n",
       "\n"
      ],
      "text/plain": [
       " [1] \"http://www.imdb.com/title/tt0920458/?ref_=fn_tt_tt_1\"\n",
       " [2] \"http://www.imdb.com/title/tt0245280/?ref_=fn_tt_tt_1\"\n",
       " [3] \"http://www.imdb.com/title/tt4061848/?ref_=fn_tt_tt_1\"\n",
       " [4] \"http://www.imdb.com/title/tt0996382/?ref_=fn_tt_tt_1\"\n",
       " [5] \"http://www.imdb.com/title/tt1529567/?ref_=fn_tt_tt_1\"\n",
       " [6] \"http://www.imdb.com/title/tt0092991/?ref_=fn_tt_tt_1\"\n",
       " [7] \"http://www.imdb.com/title/tt0473107/?ref_=fn_tt_tt_1\"\n",
       " [8] \"http://www.imdb.com/title/tt0854678/?ref_=fn_tt_tt_1\"\n",
       " [9] \"http://www.imdb.com/title/tt4273494/?ref_=fn_tt_tt_1\"\n",
       "[10] \"http://www.imdb.com/title/tt0059026/?ref_=fn_tt_tt_1\"\n",
       "[11] \"http://www.imdb.com/title/tt0478988/?ref_=fn_tt_tt_1\"\n",
       "[12] \"http://www.imdb.com/title/tt0283465/?ref_=fn_tt_tt_1\"\n",
       "[13] \"http://www.imdb.com/title/tt1128219/?ref_=fn_tt_tt_1\"\n",
       "[14] \"http://www.imdb.com/title/tt1869849/?ref_=fn_tt_tt_1\"\n",
       "[15] \"http://www.imdb.com/title/tt0092337/?ref_=fn_tt_tt_1\"\n",
       "[16] \"http://www.imdb.com/title/tt2164708/?ref_=fn_tt_tt_1\"\n",
       "[17] \"http://www.imdb.com/title/tt1003002/?ref_=fn_tt_tt_1\""
      ]
     },
     "metadata": {},
     "output_type": "display_data"
    }
   ],
   "source": [
    "movies[duration<59,movie_imdb_link]"
   ]
  },
  {
   "cell_type": "markdown",
   "metadata": {},
   "source": [
    "Looking at the IMDB page of those suspicious data, I found out that most of them are either short film, small documentary or mini serie who had theater release. In those case, the episode running time is often written with the running time of the theatrical cut which cause the difference in time. Since the number of problematic observation is really small, I won't change the data set. \n",
    "\n",
    "Now, I look at movie who are suspiciusly long. The box-plot tell us that movie with a length of more than 154 is suspicious, but a lot of movie these day last more than 200 minutes. In consequence, I'll look at movie who are longer than 200 minutes to see for outlier."
   ]
  },
  {
   "cell_type": "code",
   "execution_count": 147,
   "metadata": {
    "collapsed": false
   },
   "outputs": [
    {
     "data": {
      "text/html": [
       "<ol class=list-inline>\n",
       "\t<li>'http://www.imdb.com/title/tt0360717/?ref_=fn_tt_tt_1'</li>\n",
       "\t<li>'http://www.imdb.com/title/tt0346491/?ref_=fn_tt_tt_1'</li>\n",
       "\t<li>'http://www.imdb.com/title/tt0409459/?ref_=fn_tt_tt_1'</li>\n",
       "\t<li>'http://www.imdb.com/title/tt0993846/?ref_=fn_tt_tt_1'</li>\n",
       "\t<li>'http://www.imdb.com/title/tt0217505/?ref_=fn_tt_tt_1'</li>\n",
       "\t<li>'http://www.imdb.com/title/tt0111756/?ref_=fn_tt_tt_1'</li>\n",
       "\t<li>'http://www.imdb.com/title/tt0149624/?ref_=fn_tt_tt_1'</li>\n",
       "\t<li>'http://www.imdb.com/title/tt0279111/?ref_=fn_tt_tt_1'</li>\n",
       "\t<li>'http://www.imdb.com/title/tt0120863/?ref_=fn_tt_tt_1'</li>\n",
       "\t<li>'http://www.imdb.com/title/tt0113987/?ref_=fn_tt_tt_1'</li>\n",
       "\t<li>'http://www.imdb.com/title/tt0102138/?ref_=fn_tt_tt_1'</li>\n",
       "\t<li>'http://www.imdb.com/title/tt0104797/?ref_=fn_tt_tt_1'</li>\n",
       "\t<li>'http://www.imdb.com/title/tt0078788/?ref_=fn_tt_tt_1'</li>\n",
       "\t<li>'http://www.imdb.com/title/tt0056937/?ref_=fn_tt_tt_1'</li>\n",
       "\t<li>'http://www.imdb.com/title/tt0087843/?ref_=fn_tt_tt_1'</li>\n",
       "\t<li>'http://www.imdb.com/title/tt0107007/?ref_=fn_tt_tt_1'</li>\n",
       "\t<li>'http://www.imdb.com/title/tt0837106/?ref_=fn_tt_tt_1'</li>\n",
       "\t<li>'http://www.imdb.com/title/tt0093389/?ref_=fn_tt_tt_1'</li>\n",
       "\t<li>'http://www.imdb.com/title/tt0083987/?ref_=fn_tt_tt_1'</li>\n",
       "\t<li>'http://www.imdb.com/title/tt0099348/?ref_=fn_tt_tt_1'</li>\n",
       "\t<li>'http://www.imdb.com/title/tt0059245/?ref_=fn_tt_tt_1'</li>\n",
       "\t<li>'http://www.imdb.com/title/tt0056172/?ref_=fn_tt_tt_1'</li>\n",
       "\t<li>'http://www.imdb.com/title/tt0082096/?ref_=fn_tt_tt_1'</li>\n",
       "\t<li>'http://www.imdb.com/title/tt0071562/?ref_=fn_tt_tt_1'</li>\n",
       "\t<li>'http://www.imdb.com/title/tt0031381/?ref_=fn_tt_tt_1'</li>\n",
       "\t<li>'http://www.imdb.com/title/tt0047478/?ref_=fn_tt_tt_1'</li>\n",
       "\t<li>'http://www.imdb.com/title/tt0066580/?ref_=fn_tt_tt_1'</li>\n",
       "</ol>\n"
      ],
      "text/latex": [
       "\\begin{enumerate*}\n",
       "\\item 'http://www.imdb.com/title/tt0360717/?ref\\_=fn\\_tt\\_tt\\_1'\n",
       "\\item 'http://www.imdb.com/title/tt0346491/?ref\\_=fn\\_tt\\_tt\\_1'\n",
       "\\item 'http://www.imdb.com/title/tt0409459/?ref\\_=fn\\_tt\\_tt\\_1'\n",
       "\\item 'http://www.imdb.com/title/tt0993846/?ref\\_=fn\\_tt\\_tt\\_1'\n",
       "\\item 'http://www.imdb.com/title/tt0217505/?ref\\_=fn\\_tt\\_tt\\_1'\n",
       "\\item 'http://www.imdb.com/title/tt0111756/?ref\\_=fn\\_tt\\_tt\\_1'\n",
       "\\item 'http://www.imdb.com/title/tt0149624/?ref\\_=fn\\_tt\\_tt\\_1'\n",
       "\\item 'http://www.imdb.com/title/tt0279111/?ref\\_=fn\\_tt\\_tt\\_1'\n",
       "\\item 'http://www.imdb.com/title/tt0120863/?ref\\_=fn\\_tt\\_tt\\_1'\n",
       "\\item 'http://www.imdb.com/title/tt0113987/?ref\\_=fn\\_tt\\_tt\\_1'\n",
       "\\item 'http://www.imdb.com/title/tt0102138/?ref\\_=fn\\_tt\\_tt\\_1'\n",
       "\\item 'http://www.imdb.com/title/tt0104797/?ref\\_=fn\\_tt\\_tt\\_1'\n",
       "\\item 'http://www.imdb.com/title/tt0078788/?ref\\_=fn\\_tt\\_tt\\_1'\n",
       "\\item 'http://www.imdb.com/title/tt0056937/?ref\\_=fn\\_tt\\_tt\\_1'\n",
       "\\item 'http://www.imdb.com/title/tt0087843/?ref\\_=fn\\_tt\\_tt\\_1'\n",
       "\\item 'http://www.imdb.com/title/tt0107007/?ref\\_=fn\\_tt\\_tt\\_1'\n",
       "\\item 'http://www.imdb.com/title/tt0837106/?ref\\_=fn\\_tt\\_tt\\_1'\n",
       "\\item 'http://www.imdb.com/title/tt0093389/?ref\\_=fn\\_tt\\_tt\\_1'\n",
       "\\item 'http://www.imdb.com/title/tt0083987/?ref\\_=fn\\_tt\\_tt\\_1'\n",
       "\\item 'http://www.imdb.com/title/tt0099348/?ref\\_=fn\\_tt\\_tt\\_1'\n",
       "\\item 'http://www.imdb.com/title/tt0059245/?ref\\_=fn\\_tt\\_tt\\_1'\n",
       "\\item 'http://www.imdb.com/title/tt0056172/?ref\\_=fn\\_tt\\_tt\\_1'\n",
       "\\item 'http://www.imdb.com/title/tt0082096/?ref\\_=fn\\_tt\\_tt\\_1'\n",
       "\\item 'http://www.imdb.com/title/tt0071562/?ref\\_=fn\\_tt\\_tt\\_1'\n",
       "\\item 'http://www.imdb.com/title/tt0031381/?ref\\_=fn\\_tt\\_tt\\_1'\n",
       "\\item 'http://www.imdb.com/title/tt0047478/?ref\\_=fn\\_tt\\_tt\\_1'\n",
       "\\item 'http://www.imdb.com/title/tt0066580/?ref\\_=fn\\_tt\\_tt\\_1'\n",
       "\\end{enumerate*}\n"
      ],
      "text/markdown": [
       "1. 'http://www.imdb.com/title/tt0360717/?ref_=fn_tt_tt_1'\n",
       "2. 'http://www.imdb.com/title/tt0346491/?ref_=fn_tt_tt_1'\n",
       "3. 'http://www.imdb.com/title/tt0409459/?ref_=fn_tt_tt_1'\n",
       "4. 'http://www.imdb.com/title/tt0993846/?ref_=fn_tt_tt_1'\n",
       "5. 'http://www.imdb.com/title/tt0217505/?ref_=fn_tt_tt_1'\n",
       "6. 'http://www.imdb.com/title/tt0111756/?ref_=fn_tt_tt_1'\n",
       "7. 'http://www.imdb.com/title/tt0149624/?ref_=fn_tt_tt_1'\n",
       "8. 'http://www.imdb.com/title/tt0279111/?ref_=fn_tt_tt_1'\n",
       "9. 'http://www.imdb.com/title/tt0120863/?ref_=fn_tt_tt_1'\n",
       "10. 'http://www.imdb.com/title/tt0113987/?ref_=fn_tt_tt_1'\n",
       "11. 'http://www.imdb.com/title/tt0102138/?ref_=fn_tt_tt_1'\n",
       "12. 'http://www.imdb.com/title/tt0104797/?ref_=fn_tt_tt_1'\n",
       "13. 'http://www.imdb.com/title/tt0078788/?ref_=fn_tt_tt_1'\n",
       "14. 'http://www.imdb.com/title/tt0056937/?ref_=fn_tt_tt_1'\n",
       "15. 'http://www.imdb.com/title/tt0087843/?ref_=fn_tt_tt_1'\n",
       "16. 'http://www.imdb.com/title/tt0107007/?ref_=fn_tt_tt_1'\n",
       "17. 'http://www.imdb.com/title/tt0837106/?ref_=fn_tt_tt_1'\n",
       "18. 'http://www.imdb.com/title/tt0093389/?ref_=fn_tt_tt_1'\n",
       "19. 'http://www.imdb.com/title/tt0083987/?ref_=fn_tt_tt_1'\n",
       "20. 'http://www.imdb.com/title/tt0099348/?ref_=fn_tt_tt_1'\n",
       "21. 'http://www.imdb.com/title/tt0059245/?ref_=fn_tt_tt_1'\n",
       "22. 'http://www.imdb.com/title/tt0056172/?ref_=fn_tt_tt_1'\n",
       "23. 'http://www.imdb.com/title/tt0082096/?ref_=fn_tt_tt_1'\n",
       "24. 'http://www.imdb.com/title/tt0071562/?ref_=fn_tt_tt_1'\n",
       "25. 'http://www.imdb.com/title/tt0031381/?ref_=fn_tt_tt_1'\n",
       "26. 'http://www.imdb.com/title/tt0047478/?ref_=fn_tt_tt_1'\n",
       "27. 'http://www.imdb.com/title/tt0066580/?ref_=fn_tt_tt_1'\n",
       "\n",
       "\n"
      ],
      "text/plain": [
       " [1] \"http://www.imdb.com/title/tt0360717/?ref_=fn_tt_tt_1\"\n",
       " [2] \"http://www.imdb.com/title/tt0346491/?ref_=fn_tt_tt_1\"\n",
       " [3] \"http://www.imdb.com/title/tt0409459/?ref_=fn_tt_tt_1\"\n",
       " [4] \"http://www.imdb.com/title/tt0993846/?ref_=fn_tt_tt_1\"\n",
       " [5] \"http://www.imdb.com/title/tt0217505/?ref_=fn_tt_tt_1\"\n",
       " [6] \"http://www.imdb.com/title/tt0111756/?ref_=fn_tt_tt_1\"\n",
       " [7] \"http://www.imdb.com/title/tt0149624/?ref_=fn_tt_tt_1\"\n",
       " [8] \"http://www.imdb.com/title/tt0279111/?ref_=fn_tt_tt_1\"\n",
       " [9] \"http://www.imdb.com/title/tt0120863/?ref_=fn_tt_tt_1\"\n",
       "[10] \"http://www.imdb.com/title/tt0113987/?ref_=fn_tt_tt_1\"\n",
       "[11] \"http://www.imdb.com/title/tt0102138/?ref_=fn_tt_tt_1\"\n",
       "[12] \"http://www.imdb.com/title/tt0104797/?ref_=fn_tt_tt_1\"\n",
       "[13] \"http://www.imdb.com/title/tt0078788/?ref_=fn_tt_tt_1\"\n",
       "[14] \"http://www.imdb.com/title/tt0056937/?ref_=fn_tt_tt_1\"\n",
       "[15] \"http://www.imdb.com/title/tt0087843/?ref_=fn_tt_tt_1\"\n",
       "[16] \"http://www.imdb.com/title/tt0107007/?ref_=fn_tt_tt_1\"\n",
       "[17] \"http://www.imdb.com/title/tt0837106/?ref_=fn_tt_tt_1\"\n",
       "[18] \"http://www.imdb.com/title/tt0093389/?ref_=fn_tt_tt_1\"\n",
       "[19] \"http://www.imdb.com/title/tt0083987/?ref_=fn_tt_tt_1\"\n",
       "[20] \"http://www.imdb.com/title/tt0099348/?ref_=fn_tt_tt_1\"\n",
       "[21] \"http://www.imdb.com/title/tt0059245/?ref_=fn_tt_tt_1\"\n",
       "[22] \"http://www.imdb.com/title/tt0056172/?ref_=fn_tt_tt_1\"\n",
       "[23] \"http://www.imdb.com/title/tt0082096/?ref_=fn_tt_tt_1\"\n",
       "[24] \"http://www.imdb.com/title/tt0071562/?ref_=fn_tt_tt_1\"\n",
       "[25] \"http://www.imdb.com/title/tt0031381/?ref_=fn_tt_tt_1\"\n",
       "[26] \"http://www.imdb.com/title/tt0047478/?ref_=fn_tt_tt_1\"\n",
       "[27] \"http://www.imdb.com/title/tt0066580/?ref_=fn_tt_tt_1\""
      ]
     },
     "metadata": {},
     "output_type": "display_data"
    }
   ],
   "source": [
    "movies[duration>200&duration<300,movie_imdb_link]"
   ]
  },
  {
   "cell_type": "code",
   "execution_count": 148,
   "metadata": {
    "collapsed": false
   },
   "outputs": [
    {
     "data": {
      "text/html": [
       "<ol class=list-inline>\n",
       "\t<li>'http://www.imdb.com/title/tt0080855/?ref_=fn_tt_tt_1'</li>\n",
       "\t<li>'http://www.imdb.com/title/tt0106469/?ref_=fn_tt_tt_1'</li>\n",
       "\t<li>'http://www.imdb.com/title/tt1321865/?ref_=fn_tt_tt_1'</li>\n",
       "</ol>\n"
      ],
      "text/latex": [
       "\\begin{enumerate*}\n",
       "\\item 'http://www.imdb.com/title/tt0080855/?ref\\_=fn\\_tt\\_tt\\_1'\n",
       "\\item 'http://www.imdb.com/title/tt0106469/?ref\\_=fn\\_tt\\_tt\\_1'\n",
       "\\item 'http://www.imdb.com/title/tt1321865/?ref\\_=fn\\_tt\\_tt\\_1'\n",
       "\\end{enumerate*}\n"
      ],
      "text/markdown": [
       "1. 'http://www.imdb.com/title/tt0080855/?ref_=fn_tt_tt_1'\n",
       "2. 'http://www.imdb.com/title/tt0106469/?ref_=fn_tt_tt_1'\n",
       "3. 'http://www.imdb.com/title/tt1321865/?ref_=fn_tt_tt_1'\n",
       "\n",
       "\n"
      ],
      "text/plain": [
       "[1] \"http://www.imdb.com/title/tt0080855/?ref_=fn_tt_tt_1\"\n",
       "[2] \"http://www.imdb.com/title/tt0106469/?ref_=fn_tt_tt_1\"\n",
       "[3] \"http://www.imdb.com/title/tt1321865/?ref_=fn_tt_tt_1\""
      ]
     },
     "metadata": {},
     "output_type": "display_data"
    }
   ],
   "source": [
    "movies[duration>300,movie_imdb_link]"
   ]
  },
  {
   "cell_type": "markdown",
   "metadata": {},
   "source": [
    "I looked at the IMDB page of the majority of those movie and all the duration seem correct. The only thing that could add some variability in the model is the fact that some movie have multiple cut and it is impossible to know if the value of the duration in the data set is the one of the cut that made it in the majority of the theater.\n",
    "\n",
    "After that, I looked at the variable \"movie_title\". First of all, I'm interested to know the distribution of the number of letter in the title of the movies."
   ]
  },
  {
   "cell_type": "code",
   "execution_count": 149,
   "metadata": {
    "collapsed": false
   },
   "outputs": [
    {
     "data": {
      "text/html": [
       "<table>\n",
       "<thead><tr><th scope=col>Title</th><th scope=col>Length</th><th scope=col>Gross</th></tr></thead>\n",
       "<tbody>\n",
       "\t<tr><td>thehost         </td><td> 7              </td><td>2201412         </td></tr>\n",
       "\t<tr><td>ladyvengeance   </td><td>13              </td><td> 211667         </td></tr>\n",
       "\t<tr><td>fateless        </td><td> 8              </td><td> 195888         </td></tr>\n",
       "\t<tr><td>princessmononoke</td><td>16              </td><td>2298191         </td></tr>\n",
       "\t<tr><td>steamboy        </td><td> 8              </td><td> 410388         </td></tr>\n",
       "\t<tr><td>akira           </td><td> 5              </td><td> 439162         </td></tr>\n",
       "</tbody>\n",
       "</table>\n"
      ],
      "text/latex": [
       "\\begin{tabular}{r|lll}\n",
       " Title & Length & Gross\\\\\n",
       "\\hline\n",
       "\t thehost          &  7               & 2201412         \\\\\n",
       "\t ladyvengeance    & 13               &  211667         \\\\\n",
       "\t fateless         &  8               &  195888         \\\\\n",
       "\t princessmononoke & 16               & 2298191         \\\\\n",
       "\t steamboy         &  8               &  410388         \\\\\n",
       "\t akira            &  5               &  439162         \\\\\n",
       "\\end{tabular}\n"
      ],
      "text/markdown": [
       "\n",
       "Title | Length | Gross | \n",
       "|---|---|---|---|---|---|\n",
       "| thehost          |  7               | 2201412          | \n",
       "| ladyvengeance    | 13               |  211667          | \n",
       "| fateless         |  8               |  195888          | \n",
       "| princessmononoke | 16               | 2298191          | \n",
       "| steamboy         |  8               |  410388          | \n",
       "| akira            |  5               |  439162          | \n",
       "\n",
       "\n"
      ],
      "text/plain": [
       "  Title            Length Gross  \n",
       "1 thehost           7     2201412\n",
       "2 ladyvengeance    13      211667\n",
       "3 fateless          8      195888\n",
       "4 princessmononoke 16     2298191\n",
       "5 steamboy          8      410388\n",
       "6 akira             5      439162"
      ]
     },
     "metadata": {},
     "output_type": "display_data"
    }
   ],
   "source": [
    "title_length<-data.frame(\"Title\"=movies$movie_title,\"Length\"=nchar(movies$movie_title),\"Gross\"=movies$gross)\n",
    "head(title_length)"
   ]
  },
  {
   "cell_type": "code",
   "execution_count": 150,
   "metadata": {
    "collapsed": false
   },
   "outputs": [
    {
     "data": {
      "text/html": [
       "<iframe src=\"plotlyJupyterHTML/9e524eb020dd0990b6d74310123b26e6.html\" width=\"100%\" height=\"400\" id=\"igraph\" scrolling=\"no\" seamless=\"seamless\" frameBorder=\"0\"> </iframe>"
      ]
     },
     "metadata": {},
     "output_type": "display_data"
    }
   ],
   "source": [
    "hist_length <- title_length %>%\n",
    "  dplyr::count(Length) %>%\n",
    "  plot_ly(x =~Length, y = ~n) %>% \n",
    "  add_bars()%>%\n",
    "layout(title = 'Distribution of movie\\'s title length in the IMDB data set',\n",
    "         xaxis = list(title = 'Length of the movies title', zeroline = TRUE),\n",
    "         yaxis = list(title = 'Frequency'))\n",
    "\n",
    "embed_notebook(hist_length)"
   ]
  },
  {
   "cell_type": "markdown",
   "metadata": {},
   "source": [
    "Here again there seem's to be some outlier in the data and to make sure that isn't the case, I looked at the longest movie title."
   ]
  },
  {
   "cell_type": "code",
   "execution_count": 151,
   "metadata": {
    "collapsed": false
   },
   "outputs": [
    {
     "data": {
      "text/html": [
       "<table>\n",
       "<thead><tr><th></th><th scope=col>Title</th><th scope=col>Length</th><th scope=col>Gross</th></tr></thead>\n",
       "<tbody>\n",
       "\t<tr><th scope=row>3845</th><td>30nightsofparanormalactivitywiththedevilinsidethegirlwiththedragontattoo</td><td>72                                                                      </td><td>        0                                                               </td></tr>\n",
       "\t<tr><th scope=row>2310</th><td>boratculturallearningsofamericaformakebenefitgloriousnationofkazakhstan </td><td>71                                                                      </td><td>128505958                                                               </td></tr>\n",
       "\t<tr><th scope=row>4132</th><td>the41yearoldvirginwhoknockedupsarahmarshallandfeltsuperbadaboutit       </td><td>65                                                                      </td><td>       NA                                                               </td></tr>\n",
       "\t<tr><th scope=row>3967</th><td>everythingyoualwayswantedtoknowaboutsexbutwereafraidtoask               </td><td>57                                                                      </td><td>       NA                                                               </td></tr>\n",
       "\t<tr><th scope=row>4040</th><td>drstrangeloveorhowilearnedtostopworryingandlovethebomb                  </td><td>54                                                                      </td><td>       NA                                                               </td></tr>\n",
       "\t<tr><th scope=row>4226</th><td>onceinalifetimetheextraordinarystoryofthenewyorkcosmos                  </td><td>54                                                                      </td><td>   144431                                                               </td></tr>\n",
       "\t<tr><th scope=row>78</th><td>thechroniclesofnarniathelionthewitchandthewardrobe                      </td><td>50                                                                      </td><td>291709845                                                               </td></tr>\n",
       "\t<tr><th scope=row>1645</th><td>theassassinationofjessejamesbythecowardrobertford                       </td><td>49                                                                      </td><td>  3904982                                                               </td></tr>\n",
       "\t<tr><th scope=row>4371</th><td>deceptivepracticethemysteriesandmentorsofrickyjay                       </td><td>49                                                                      </td><td>   151389                                                               </td></tr>\n",
       "\t<tr><th scope=row>1709</th><td>alexanderandtheterriblehorriblenogoodverybadday                         </td><td>47                                                                      </td><td> 66950483                                                               </td></tr>\n",
       "</tbody>\n",
       "</table>\n"
      ],
      "text/latex": [
       "\\begin{tabular}{r|lll}\n",
       "  & Title & Length & Gross\\\\\n",
       "\\hline\n",
       "\t3845 & 30nightsofparanormalactivitywiththedevilinsidethegirlwiththedragontattoo & 72                                                                       &         0                                                               \\\\\n",
       "\t2310 & boratculturallearningsofamericaformakebenefitgloriousnationofkazakhstan  & 71                                                                       & 128505958                                                               \\\\\n",
       "\t4132 & the41yearoldvirginwhoknockedupsarahmarshallandfeltsuperbadaboutit        & 65                                                                       &        NA                                                               \\\\\n",
       "\t3967 & everythingyoualwayswantedtoknowaboutsexbutwereafraidtoask                & 57                                                                       &        NA                                                               \\\\\n",
       "\t4040 & drstrangeloveorhowilearnedtostopworryingandlovethebomb                   & 54                                                                       &        NA                                                               \\\\\n",
       "\t4226 & onceinalifetimetheextraordinarystoryofthenewyorkcosmos                   & 54                                                                       &    144431                                                               \\\\\n",
       "\t78 & thechroniclesofnarniathelionthewitchandthewardrobe                       & 50                                                                       & 291709845                                                               \\\\\n",
       "\t1645 & theassassinationofjessejamesbythecowardrobertford                        & 49                                                                       &   3904982                                                               \\\\\n",
       "\t4371 & deceptivepracticethemysteriesandmentorsofrickyjay                        & 49                                                                       &    151389                                                               \\\\\n",
       "\t1709 & alexanderandtheterriblehorriblenogoodverybadday                          & 47                                                                       &  66950483                                                               \\\\\n",
       "\\end{tabular}\n"
      ],
      "text/markdown": [
       "\n",
       "| <!--/--> | Title | Length | Gross | \n",
       "|---|---|---|---|---|---|---|---|---|---|\n",
       "| 3845 | 30nightsofparanormalactivitywiththedevilinsidethegirlwiththedragontattoo | 72                                                                       |         0                                                                | \n",
       "| 2310 | boratculturallearningsofamericaformakebenefitgloriousnationofkazakhstan  | 71                                                                       | 128505958                                                                | \n",
       "| 4132 | the41yearoldvirginwhoknockedupsarahmarshallandfeltsuperbadaboutit        | 65                                                                       |        NA                                                                | \n",
       "| 3967 | everythingyoualwayswantedtoknowaboutsexbutwereafraidtoask                | 57                                                                       |        NA                                                                | \n",
       "| 4040 | drstrangeloveorhowilearnedtostopworryingandlovethebomb                   | 54                                                                       |        NA                                                                | \n",
       "| 4226 | onceinalifetimetheextraordinarystoryofthenewyorkcosmos                   | 54                                                                       |    144431                                                                | \n",
       "| 78 | thechroniclesofnarniathelionthewitchandthewardrobe                       | 50                                                                       | 291709845                                                                | \n",
       "| 1645 | theassassinationofjessejamesbythecowardrobertford                        | 49                                                                       |   3904982                                                                | \n",
       "| 4371 | deceptivepracticethemysteriesandmentorsofrickyjay                        | 49                                                                       |    151389                                                                | \n",
       "| 1709 | alexanderandtheterriblehorriblenogoodverybadday                          | 47                                                                       |  66950483                                                                | \n",
       "\n",
       "\n"
      ],
      "text/plain": [
       "     Title                                                                   \n",
       "3845 30nightsofparanormalactivitywiththedevilinsidethegirlwiththedragontattoo\n",
       "2310 boratculturallearningsofamericaformakebenefitgloriousnationofkazakhstan \n",
       "4132 the41yearoldvirginwhoknockedupsarahmarshallandfeltsuperbadaboutit       \n",
       "3967 everythingyoualwayswantedtoknowaboutsexbutwereafraidtoask               \n",
       "4040 drstrangeloveorhowilearnedtostopworryingandlovethebomb                  \n",
       "4226 onceinalifetimetheextraordinarystoryofthenewyorkcosmos                  \n",
       "78   thechroniclesofnarniathelionthewitchandthewardrobe                      \n",
       "1645 theassassinationofjessejamesbythecowardrobertford                       \n",
       "4371 deceptivepracticethemysteriesandmentorsofrickyjay                       \n",
       "1709 alexanderandtheterriblehorriblenogoodverybadday                         \n",
       "     Length Gross    \n",
       "3845 72             0\n",
       "2310 71     128505958\n",
       "4132 65            NA\n",
       "3967 57            NA\n",
       "4040 54            NA\n",
       "4226 54        144431\n",
       "78   50     291709845\n",
       "1645 49       3904982\n",
       "4371 49        151389\n",
       "1709 47      66950483"
      ]
     },
     "metadata": {},
     "output_type": "display_data"
    }
   ],
   "source": [
    "head(title_length[order(-title_length$Length),],n=10)"
   ]
  },
  {
   "cell_type": "markdown",
   "metadata": {},
   "source": [
    "I learn two things by searching those movie: first they are all legit movie, there was no error in the data gathering; second some porno produceur like to concatenate name of popular movie and use that as the name for their movie, probably to maximaze their google ranking. Well I knew I'll learn something by analysing that data set! \n",
    "\n",
    "I'm interested to know if the length of a movie influence his performance at the box-office."
   ]
  },
  {
   "cell_type": "code",
   "execution_count": 152,
   "metadata": {
    "collapsed": false
   },
   "outputs": [
    {
     "name": "stderr",
     "output_type": "stream",
     "text": [
      "No trace type specified:\n",
      "  Based on info supplied, a 'scatter' trace seems appropriate.\n",
      "  Read more about this trace type -> https://plot.ly/r/reference/#scatter\n"
     ]
    },
    {
     "data": {
      "text/html": [
       "<iframe src=\"plotlyJupyterHTML/9e61cf74ac257fb0120e329e780b03e6.html\" width=\"100%\" height=\"400\" id=\"igraph\" scrolling=\"no\" seamless=\"seamless\" frameBorder=\"0\"> </iframe>"
      ]
     },
     "metadata": {},
     "output_type": "display_data"
    }
   ],
   "source": [
    "temp<-title_length[!is.na(title_length$Gross),]\n",
    "fit <- lm(Gross ~ Length, data = temp)\n",
    "scat_title_gross<-plot_ly(temp,x=~Length,y=~Gross)%>% \n",
    "add_markers(color=~Gross, alpha = 0.4)%>% \n",
    "add_trace(data=temp,x = ~Length, y = ~fitted(fit), mode = \"lines\")\n",
    "\n",
    "embed_notebook(scat_title_gross)"
   ]
  },
  {
   "cell_type": "markdown",
   "metadata": {
    "collapsed": true
   },
   "source": [
    "We can see from this plot that the length of a movie title has little to do with the box-office revenu of a movie. Sad.\n",
    "\n",
    "Next: I analyse at the \"facenumber_in_poster\" variable. This variable is a attempt to quantify the phenomenon of \"the giant floating head\" seen in a lot of movie poster like this one:<img src=\"image/ghost_rider.jpg\">\n",
    "\n",
    "or this one:<img src=\"image/scream_2.jpg\">\n",
    "\n",
    "or those one:<img src=\"image/Movie-Posters-That-Look-Similar-13.jpg\" style=\"width:50%\">\n",
    "\n",
    "As you can see, it's an overuse poster style."
   ]
  },
  {
   "cell_type": "code",
   "execution_count": 153,
   "metadata": {
    "collapsed": false
   },
   "outputs": [
    {
     "data": {
      "text/plain": [
       "   Min. 1st Qu.  Median    Mean 3rd Qu.    Max.    NA's \n",
       "  0.000   0.000   1.000   1.368   2.000  43.000      13 "
      ]
     },
     "metadata": {},
     "output_type": "display_data"
    }
   ],
   "source": [
    "summary(movies$facenumber_in_poster)"
   ]
  },
  {
   "cell_type": "code",
   "execution_count": 154,
   "metadata": {
    "collapsed": false
   },
   "outputs": [
    {
     "name": "stderr",
     "output_type": "stream",
     "text": [
      "Warning message:\n",
      "\"Ignoring 1 observations\""
     ]
    },
    {
     "data": {
      "text/html": [
       "<iframe src=\"plotlyJupyterHTML/87f5ac196853f296bf6a19cc82bc1315.html\" width=\"100%\" height=\"400\" id=\"igraph\" scrolling=\"no\" seamless=\"seamless\" frameBorder=\"0\"> </iframe>"
      ]
     },
     "metadata": {},
     "output_type": "display_data"
    }
   ],
   "source": [
    "scat_title_gross<-movies%>% \n",
    "  dplyr::count(facenumber_in_poster) %>%\n",
    "  plot_ly(x =~facenumber_in_poster, y = ~n) %>% \n",
    "  add_bars()%>%\n",
    "layout(title = 'Distribution of the number of face on the movie poster',\n",
    "         xaxis = list(title = 'Number of faces', zeroline = TRUE),\n",
    "         yaxis = list(title = 'Frequency'))\n",
    "\n",
    "embed_notebook(scat_title_gross)"
   ]
  },
  {
   "cell_type": "markdown",
   "metadata": {},
   "source": [
    "The maximal value taken by the variable \"facenumber_in_poster\" that count the number of head on the movie poster is 43, which is quite high. Since the number of head in each poster has been counted by a face recognicion algorithm, I suspect that this is an aberrant value. If that's not the case, investigating these data is worth my time just to find what kind of abobination of a poster can containt that many head."
   ]
  },
  {
   "cell_type": "code",
   "execution_count": 155,
   "metadata": {
    "collapsed": false
   },
   "outputs": [
    {
     "data": {
      "text/html": [
       "<table>\n",
       "<thead><tr><th scope=col>movie_title</th><th scope=col>facenumber</th></tr></thead>\n",
       "<tbody>\n",
       "\t<tr><td>500daysofsummer  </td><td>43               </td></tr>\n",
       "\t<tr><td>themaster        </td><td>31               </td></tr>\n",
       "\t<tr><td>battleoftheyear  </td><td>19               </td></tr>\n",
       "\t<tr><td>theexpendables3  </td><td>15               </td></tr>\n",
       "\t<tr><td>newyearseve      </td><td>15               </td></tr>\n",
       "\t<tr><td>cheaperbythedozen</td><td>15               </td></tr>\n",
       "\t<tr><td>asitisinheaven   </td><td>15               </td></tr>\n",
       "\t<tr><td>boogienights     </td><td>15               </td></tr>\n",
       "\t<tr><td>shouldvebeenromeo</td><td>15               </td></tr>\n",
       "\t<tr><td>abridgetoofar    </td><td>14               </td></tr>\n",
       "</tbody>\n",
       "</table>\n"
      ],
      "text/latex": [
       "\\begin{tabular}{r|ll}\n",
       " movie\\_title & facenumber\\\\\n",
       "\\hline\n",
       "\t 500daysofsummer   & 43               \\\\\n",
       "\t themaster         & 31               \\\\\n",
       "\t battleoftheyear   & 19               \\\\\n",
       "\t theexpendables3   & 15               \\\\\n",
       "\t newyearseve       & 15               \\\\\n",
       "\t cheaperbythedozen & 15               \\\\\n",
       "\t asitisinheaven    & 15               \\\\\n",
       "\t boogienights      & 15               \\\\\n",
       "\t shouldvebeenromeo & 15               \\\\\n",
       "\t abridgetoofar     & 14               \\\\\n",
       "\\end{tabular}\n"
      ],
      "text/markdown": [
       "\n",
       "movie_title | facenumber | \n",
       "|---|---|---|---|---|---|---|---|---|---|\n",
       "| 500daysofsummer   | 43                | \n",
       "| themaster         | 31                | \n",
       "| battleoftheyear   | 19                | \n",
       "| theexpendables3   | 15                | \n",
       "| newyearseve       | 15                | \n",
       "| cheaperbythedozen | 15                | \n",
       "| asitisinheaven    | 15                | \n",
       "| boogienights      | 15                | \n",
       "| shouldvebeenromeo | 15                | \n",
       "| abridgetoofar     | 14                | \n",
       "\n",
       "\n"
      ],
      "text/plain": [
       "   movie_title       facenumber\n",
       "1  500daysofsummer   43        \n",
       "2  themaster         31        \n",
       "3  battleoftheyear   19        \n",
       "4  theexpendables3   15        \n",
       "5  newyearseve       15        \n",
       "6  cheaperbythedozen 15        \n",
       "7  asitisinheaven    15        \n",
       "8  boogienights      15        \n",
       "9  shouldvebeenromeo 15        \n",
       "10 abridgetoofar     14        "
      ]
     },
     "metadata": {},
     "output_type": "display_data"
    }
   ],
   "source": [
    "faaaaaaaaaaace<-data.table(movie_title=movies$movie_title,facenumber=movies$facenumber)\n",
    "faaaaaaaaaaace<-faaaaaaaaaaace[order(-movies$facenumber)]\n",
    "head(faaaaaaaaaaace, n=10)"
   ]
  },
  {
   "cell_type": "markdown",
   "metadata": {},
   "source": [
    "Mother of god: the movies \"500 Days of Summer\" poster really has 43 faces on it! \n",
    "<img src=\"image/500_days_of_summer.jpg\" style=\"width:50%\">\n",
    "\n",
    "I also looked at the poster of 10 movies who have the most head on their poster and the face recognition algorithm was on mark. As an exemple, here's the poster of \"The master\" movie: <img src=\"image/The_master.jpg\" style=\"width:50%\">\n",
    "\n",
    "I conclude that there's no outlier in those data, just marketing executive that pushed the concept of the giant floating head too far.\n",
    "\n",
    "After looking at the number of face in each movie poster, I analyse the genre of the movie."
   ]
  },
  {
   "cell_type": "code",
   "execution_count": 156,
   "metadata": {
    "collapsed": false
   },
   "outputs": [],
   "source": [
    "col_genre<-c(\"genres_Action\", \"genres_Adventure\", \"genres_Animation\", \"genres_Biography\", \"genres_Comedy\", \"genres_Crime\",\n",
    "\"genres_Documentary\", \"genres_Drama\", \"genres_Family\", \"genres_Fantasy\", \"genres_Film-Noir\", \"genres_Game-Show\",\n",
    " \"genres_History\", \"genres_Horror\", \"genres_Music\", \"genres_Musical\", \"genres_Mystery\",\"genres_News\",\"genres_Reality-TV\",\n",
    "\"genres_Romance\", \"genres_Sci-Fi\",\"genres_Short\", \"genres_Sport\",\"genres_Thriller\",\"genres_War\",\"genres_Western\", \"gross\")\n",
    "\n",
    "genre_gross<-movies[,col_genre,with=FALSE]"
   ]
  },
  {
   "cell_type": "code",
   "execution_count": 157,
   "metadata": {
    "collapsed": false
   },
   "outputs": [
    {
     "name": "stderr",
     "output_type": "stream",
     "text": [
      "Warning message in x * genre_gross$gross:\n",
      "\"NA produit par débordement d'entier par le haut\""
     ]
    },
    {
     "name": "stdout",
     "output_type": "stream",
     "text": [
      "'data.frame':\t27 obs. of  2 variables:\n",
      " $ Count: num  1094 877 233 290 1813 ...\n",
      " $ Sum  : num  71844560555 75440686524 21483583536 9143454008 76749009842 ...\n"
     ]
    }
   ],
   "source": [
    "count_genre_gross<-sapply(genre_gross, function(x)sum(as.numeric(x),na.rm=TRUE))\n",
    "sum_genre_gross<-sapply(genre_gross, function(x)sum(as.numeric(x*genre_gross$gross),na.rm=TRUE))\n",
    "stat_genre_gross<-data.frame(Count=count_genre_gross,Sum=sum_genre_gross)\n",
    "str(stat_genre_gross)"
   ]
  },
  {
   "cell_type": "code",
   "execution_count": 158,
   "metadata": {
    "collapsed": false
   },
   "outputs": [
    {
     "data": {
      "text/html": [
       "<table>\n",
       "<thead><tr><th></th><th scope=col>Count</th><th scope=col>Sum</th><th scope=col>Mean</th><th scope=col>Name</th></tr></thead>\n",
       "<tbody>\n",
       "\t<tr><th scope=row>genres_Action</th><td>1094            </td><td>71844560555     </td><td>65671445        </td><td>genres_Action   </td></tr>\n",
       "\t<tr><th scope=row>genres_Adventure</th><td> 877            </td><td>75440686524     </td><td>86021307        </td><td>genres_Adventure</td></tr>\n",
       "\t<tr><th scope=row>genres_Animation</th><td> 233            </td><td>21483583536     </td><td>92204221        </td><td>genres_Animation</td></tr>\n",
       "\t<tr><th scope=row>genres_Biography</th><td> 290            </td><td> 9143454008     </td><td>31529152        </td><td>genres_Biography</td></tr>\n",
       "\t<tr><th scope=row>genres_Comedy</th><td>1813            </td><td>76749009842     </td><td>42332603        </td><td>genres_Comedy   </td></tr>\n",
       "\t<tr><th scope=row>genres_Crime</th><td> 838            </td><td>27723849524     </td><td>33083353        </td><td>genres_Crime    </td></tr>\n",
       "</tbody>\n",
       "</table>\n"
      ],
      "text/latex": [
       "\\begin{tabular}{r|llll}\n",
       "  & Count & Sum & Mean & Name\\\\\n",
       "\\hline\n",
       "\tgenres\\_Action & 1094               & 71844560555        & 65671445           & genres\\_Action   \\\\\n",
       "\tgenres\\_Adventure &  877               & 75440686524        & 86021307           & genres\\_Adventure\\\\\n",
       "\tgenres\\_Animation &  233               & 21483583536        & 92204221           & genres\\_Animation\\\\\n",
       "\tgenres\\_Biography &  290               &  9143454008        & 31529152           & genres\\_Biography\\\\\n",
       "\tgenres\\_Comedy & 1813               & 76749009842        & 42332603           & genres\\_Comedy   \\\\\n",
       "\tgenres\\_Crime &  838               & 27723849524        & 33083353           & genres\\_Crime    \\\\\n",
       "\\end{tabular}\n"
      ],
      "text/markdown": [
       "\n",
       "| <!--/--> | Count | Sum | Mean | Name | \n",
       "|---|---|---|---|---|---|\n",
       "| genres_Action | 1094             | 71844560555      | 65671445         | genres_Action    | \n",
       "| genres_Adventure |  877             | 75440686524      | 86021307         | genres_Adventure | \n",
       "| genres_Animation |  233             | 21483583536      | 92204221         | genres_Animation | \n",
       "| genres_Biography |  290             |  9143454008      | 31529152         | genres_Biography | \n",
       "| genres_Comedy | 1813             | 76749009842      | 42332603         | genres_Comedy    | \n",
       "| genres_Crime |  838             | 27723849524      | 33083353         | genres_Crime     | \n",
       "\n",
       "\n"
      ],
      "text/plain": [
       "                 Count Sum         Mean     Name            \n",
       "genres_Action    1094  71844560555 65671445 genres_Action   \n",
       "genres_Adventure  877  75440686524 86021307 genres_Adventure\n",
       "genres_Animation  233  21483583536 92204221 genres_Animation\n",
       "genres_Biography  290   9143454008 31529152 genres_Biography\n",
       "genres_Comedy    1813  76749009842 42332603 genres_Comedy   \n",
       "genres_Crime      838  27723849524 33083353 genres_Crime    "
      ]
     },
     "metadata": {},
     "output_type": "display_data"
    }
   ],
   "source": [
    "stat_genre_gross$Mean<-stat_genre_gross$Sum/stat_genre_gross$Count\n",
    "stat_genre_gross$Name<-col_genre\n",
    "head(stat_genre_gross)"
   ]
  },
  {
   "cell_type": "code",
   "execution_count": 159,
   "metadata": {
    "collapsed": false
   },
   "outputs": [],
   "source": [
    "stat_genre_gross$Name<-substr(stat_genre_gross$Name,8,nchar(stat_genre_gross$Name))"
   ]
  },
  {
   "cell_type": "code",
   "execution_count": 160,
   "metadata": {
    "collapsed": false
   },
   "outputs": [
    {
     "name": "stderr",
     "output_type": "stream",
     "text": [
      "Warning message:\n",
      "\"Ignoring 2 observations\""
     ]
    },
    {
     "data": {
      "text/html": [
       "<iframe src=\"plotlyJupyterHTML/521c5bf8edc5d02333a71e02de045bd2.html\" width=\"100%\" height=\"400\" id=\"igraph\" scrolling=\"no\" seamless=\"seamless\" frameBorder=\"0\"> </iframe>"
      ]
     },
     "metadata": {},
     "output_type": "display_data"
    }
   ],
   "source": [
    "hist_genre<-plot_ly(stat_genre_gross,x=~Name,y=~Mean)%>% \n",
    "    add_bars()%>%\n",
    "    layout(title = 'Mean gross by genre',\n",
    "             xaxis = list(title = ''),\n",
    "             yaxis = list(title = 'Total gross'))\n",
    "embed_notebook(hist_genre)"
   ]
  },
  {
   "cell_type": "markdown",
   "metadata": {},
   "source": [
    "The histogram suggest that the genre of movie influence significatively the gross revenu of a movie. Also that plot give me some insigth on why I can't find a good film-noir to watch on a rainy monday nigth: they make as much money than short movie. Sad.\n",
    "\n",
    "After looking at the genre of a movie, I look at the distribution of the language use in the movie data set."
   ]
  },
  {
   "cell_type": "code",
   "execution_count": 161,
   "metadata": {
    "collapsed": false
   },
   "outputs": [
    {
     "data": {
      "text/html": [
       "<dl class=dl-horizontal>\n",
       "\t<dt>English</dt>\n",
       "\t\t<dd>4488</dd>\n",
       "\t<dt>French</dt>\n",
       "\t\t<dd>72</dd>\n",
       "\t<dt>Spanish</dt>\n",
       "\t\t<dd>40</dd>\n",
       "\t<dt>Hindi</dt>\n",
       "\t\t<dd>28</dd>\n",
       "\t<dt>Mandarin</dt>\n",
       "\t\t<dd>24</dd>\n",
       "\t<dt>German</dt>\n",
       "\t\t<dd>19</dd>\n",
       "\t<dt>Japanese</dt>\n",
       "\t\t<dd>16</dd>\n",
       "\t<dt>Cantonese</dt>\n",
       "\t\t<dd>11</dd>\n",
       "\t<dt>(Other)</dt>\n",
       "\t\t<dd>108</dd>\n",
       "\t<dt>NA's</dt>\n",
       "\t\t<dd>11</dd>\n",
       "</dl>\n"
      ],
      "text/latex": [
       "\\begin{description*}\n",
       "\\item[English] 4488\n",
       "\\item[French] 72\n",
       "\\item[Spanish] 40\n",
       "\\item[Hindi] 28\n",
       "\\item[Mandarin] 24\n",
       "\\item[German] 19\n",
       "\\item[Japanese] 16\n",
       "\\item[Cantonese] 11\n",
       "\\item[(Other)] 108\n",
       "\\item[NA's] 11\n",
       "\\end{description*}\n"
      ],
      "text/markdown": [
       "English\n",
       ":   4488French\n",
       ":   72Spanish\n",
       ":   40Hindi\n",
       ":   28Mandarin\n",
       ":   24German\n",
       ":   19Japanese\n",
       ":   16Cantonese\n",
       ":   11(Other)\n",
       ":   108NA's\n",
       ":   11\n",
       "\n"
      ],
      "text/plain": [
       "  English    French   Spanish     Hindi  Mandarin    German  Japanese Cantonese \n",
       "     4488        72        40        28        24        19        16        11 \n",
       "  (Other)      NA's \n",
       "      108        11 "
      ]
     },
     "metadata": {},
     "output_type": "display_data"
    }
   ],
   "source": [
    "summary(movies$language,maxsum=10)"
   ]
  },
  {
   "cell_type": "code",
   "execution_count": 162,
   "metadata": {
    "collapsed": false
   },
   "outputs": [
    {
     "name": "stderr",
     "output_type": "stream",
     "text": [
      "Warning message:\n",
      "\"Ignoring 1 observations\""
     ]
    },
    {
     "data": {
      "text/html": [
       "<iframe src=\"plotlyJupyterHTML/6a75c61b281aedbbc76d0b0215dbf25d.html\" width=\"100%\" height=\"400\" id=\"igraph\" scrolling=\"no\" seamless=\"seamless\" frameBorder=\"0\"> </iframe>"
      ]
     },
     "metadata": {},
     "output_type": "display_data"
    }
   ],
   "source": [
    "hist_lg<-movies%>% \n",
    "  dplyr::count(language) %>%\n",
    "  plot_ly(x =~language, y = ~n) %>% \n",
    "  add_bars()%>%\n",
    "layout(title = 'Language used in the movies from the IMDB data set',\n",
    "         xaxis = list(title = 'Language', zeroline = TRUE),\n",
    "         yaxis = list(title = 'Frequency'))\n",
    "embed_notebook(hist_lg)"
   ]
  },
  {
   "cell_type": "markdown",
   "metadata": {},
   "source": [
    "There's so many movies of english language in the data set, that this graph is not really usefull. Let's remove those movies from the set and draw the histogram of the non-english movies. "
   ]
  },
  {
   "cell_type": "code",
   "execution_count": 163,
   "metadata": {
    "collapsed": false
   },
   "outputs": [
    {
     "data": {
      "text/html": [
       "<iframe src=\"plotlyJupyterHTML/955a95d3d7bdd08243e6a270fb36dd19.html\" width=\"100%\" height=\"400\" id=\"igraph\" scrolling=\"no\" seamless=\"seamless\" frameBorder=\"0\"> </iframe>"
      ]
     },
     "metadata": {},
     "output_type": "display_data"
    }
   ],
   "source": [
    "temp<-\n",
    "hist_lg_english_out<-movies[language!=\"English\"]%>% \n",
    "  dplyr::count(language) %>%\n",
    "  plot_ly(x =~language, y = ~n) %>% \n",
    "  add_bars()%>%\n",
    "layout(title = 'Non english language used in the movies from the IMDB data set',\n",
    "         xaxis = list(title = 'Language', zeroline = TRUE),\n",
    "         yaxis = list(title = 'Frequency'))\n",
    "embed_notebook(hist_lg_english_out)"
   ]
  },
  {
   "cell_type": "markdown",
   "metadata": {
    "collapsed": true
   },
   "source": [
    "Soo the French, spanish and hindi are the most use language apart english in the data set.\n",
    "\n",
    "Lett's look at the country of production of each movie."
   ]
  },
  {
   "cell_type": "code",
   "execution_count": 164,
   "metadata": {
    "collapsed": false
   },
   "outputs": [
    {
     "data": {
      "text/html": [
       "<dl class=dl-horizontal>\n",
       "\t<dt>USA</dt>\n",
       "\t\t<dd>3637</dd>\n",
       "\t<dt>UK</dt>\n",
       "\t\t<dd>420</dd>\n",
       "\t<dt>France</dt>\n",
       "\t\t<dd>153</dd>\n",
       "\t<dt>Canada</dt>\n",
       "\t\t<dd>121</dd>\n",
       "\t<dt>Germany</dt>\n",
       "\t\t<dd>94</dd>\n",
       "\t<dt>Australia</dt>\n",
       "\t\t<dd>51</dd>\n",
       "\t<dt>India</dt>\n",
       "\t\t<dd>34</dd>\n",
       "\t<dt>Spain</dt>\n",
       "\t\t<dd>33</dd>\n",
       "\t<dt>(Other)</dt>\n",
       "\t\t<dd>271</dd>\n",
       "\t<dt>NA's</dt>\n",
       "\t\t<dd>3</dd>\n",
       "</dl>\n"
      ],
      "text/latex": [
       "\\begin{description*}\n",
       "\\item[USA] 3637\n",
       "\\item[UK] 420\n",
       "\\item[France] 153\n",
       "\\item[Canada] 121\n",
       "\\item[Germany] 94\n",
       "\\item[Australia] 51\n",
       "\\item[India] 34\n",
       "\\item[Spain] 33\n",
       "\\item[(Other)] 271\n",
       "\\item[NA's] 3\n",
       "\\end{description*}\n"
      ],
      "text/markdown": [
       "USA\n",
       ":   3637UK\n",
       ":   420France\n",
       ":   153Canada\n",
       ":   121Germany\n",
       ":   94Australia\n",
       ":   51India\n",
       ":   34Spain\n",
       ":   33(Other)\n",
       ":   271NA's\n",
       ":   3\n",
       "\n"
      ],
      "text/plain": [
       "      USA        UK    France    Canada   Germany Australia     India     Spain \n",
       "     3637       420       153       121        94        51        34        33 \n",
       "  (Other)      NA's \n",
       "      271         3 "
      ]
     },
     "metadata": {},
     "output_type": "display_data"
    }
   ],
   "source": [
    "summary(movies$country,maxsum=10)"
   ]
  },
  {
   "cell_type": "code",
   "execution_count": 165,
   "metadata": {
    "collapsed": false
   },
   "outputs": [
    {
     "name": "stderr",
     "output_type": "stream",
     "text": [
      "Warning message:\n",
      "\"Ignoring 1 observations\""
     ]
    },
    {
     "data": {
      "text/html": [
       "<iframe src=\"plotlyJupyterHTML/4312b12e87c49095c73b866221556435.html\" width=\"100%\" height=\"400\" id=\"igraph\" scrolling=\"no\" seamless=\"seamless\" frameBorder=\"0\"> </iframe>"
      ]
     },
     "metadata": {},
     "output_type": "display_data"
    }
   ],
   "source": [
    "hist_country<-movies%>% \n",
    "  dplyr::count(country) %>%\n",
    "  plot_ly(x =~country, y = ~n) %>% \n",
    "  add_bars()%>%\n",
    "layout(title = 'Country of origin of the movies from the IMDB data set',\n",
    "         xaxis = list(title = 'Country'),\n",
    "         yaxis = list(title = 'Frequency'))\n",
    "embed_notebook(hist_country)"
   ]
  },
  {
   "cell_type": "code",
   "execution_count": 166,
   "metadata": {
    "collapsed": false
   },
   "outputs": [
    {
     "data": {
      "text/html": [
       "<iframe src=\"plotlyJupyterHTML/0210e65d39686e7878ff12c7d30b1357.html\" width=\"100%\" height=\"400\" id=\"igraph\" scrolling=\"no\" seamless=\"seamless\" frameBorder=\"0\"> </iframe>"
      ]
     },
     "metadata": {},
     "output_type": "display_data"
    }
   ],
   "source": [
    "hist_country<-movies[country!=\"USA\"]%>% \n",
    "  dplyr::count(country) %>%\n",
    "  plot_ly(x =~country, y = ~n) %>% \n",
    "  add_bars()%>%\n",
    "layout(title = 'Country of origin of the movies from the IMDB data set',\n",
    "         xaxis = list(title = 'Country', zeroline = TRUE),\n",
    "         yaxis = list(title = 'Frequency'))\n",
    "embed_notebook(hist_country)"
   ]
  },
  {
   "cell_type": "markdown",
   "metadata": {
    "collapsed": true
   },
   "source": [
    "Now we look at the \"content_rating\" variable."
   ]
  },
  {
   "cell_type": "code",
   "execution_count": 167,
   "metadata": {
    "collapsed": false
   },
   "outputs": [
    {
     "data": {
      "text/html": [
       "<dl class=dl-horizontal>\n",
       "\t<dt>Approved</dt>\n",
       "\t\t<dd>54</dd>\n",
       "\t<dt>G</dt>\n",
       "\t\t<dd>112</dd>\n",
       "\t<dt>GP</dt>\n",
       "\t\t<dd>6</dd>\n",
       "\t<dt>M</dt>\n",
       "\t\t<dd>5</dd>\n",
       "\t<dt>NC-17</dt>\n",
       "\t\t<dd>7</dd>\n",
       "\t<dt>Not Rated</dt>\n",
       "\t\t<dd>115</dd>\n",
       "\t<dt>Passed</dt>\n",
       "\t\t<dd>9</dd>\n",
       "\t<dt>PG</dt>\n",
       "\t\t<dd>686</dd>\n",
       "\t<dt>PG-13</dt>\n",
       "\t\t<dd>1410</dd>\n",
       "\t<dt>R</dt>\n",
       "\t\t<dd>2069</dd>\n",
       "\t<dt>TV-14</dt>\n",
       "\t\t<dd>3</dd>\n",
       "\t<dt>TV-G</dt>\n",
       "\t\t<dd>4</dd>\n",
       "\t<dt>TV-MA</dt>\n",
       "\t\t<dd>1</dd>\n",
       "\t<dt>TV-PG</dt>\n",
       "\t\t<dd>3</dd>\n",
       "\t<dt>Unrated</dt>\n",
       "\t\t<dd>59</dd>\n",
       "\t<dt>X</dt>\n",
       "\t\t<dd>12</dd>\n",
       "\t<dt>NA's</dt>\n",
       "\t\t<dd>262</dd>\n",
       "</dl>\n"
      ],
      "text/latex": [
       "\\begin{description*}\n",
       "\\item[Approved] 54\n",
       "\\item[G] 112\n",
       "\\item[GP] 6\n",
       "\\item[M] 5\n",
       "\\item[NC-17] 7\n",
       "\\item[Not Rated] 115\n",
       "\\item[Passed] 9\n",
       "\\item[PG] 686\n",
       "\\item[PG-13] 1410\n",
       "\\item[R] 2069\n",
       "\\item[TV-14] 3\n",
       "\\item[TV-G] 4\n",
       "\\item[TV-MA] 1\n",
       "\\item[TV-PG] 3\n",
       "\\item[Unrated] 59\n",
       "\\item[X] 12\n",
       "\\item[NA's] 262\n",
       "\\end{description*}\n"
      ],
      "text/markdown": [
       "Approved\n",
       ":   54G\n",
       ":   112GP\n",
       ":   6M\n",
       ":   5NC-17\n",
       ":   7Not Rated\n",
       ":   115Passed\n",
       ":   9PG\n",
       ":   686PG-13\n",
       ":   1410R\n",
       ":   2069TV-14\n",
       ":   3TV-G\n",
       ":   4TV-MA\n",
       ":   1TV-PG\n",
       ":   3Unrated\n",
       ":   59X\n",
       ":   12NA's\n",
       ":   262\n",
       "\n"
      ],
      "text/plain": [
       " Approved         G        GP         M     NC-17 Not Rated    Passed        PG \n",
       "       54       112         6         5         7       115         9       686 \n",
       "    PG-13         R     TV-14      TV-G     TV-MA     TV-PG   Unrated         X \n",
       "     1410      2069         3         4         1         3        59        12 \n",
       "     NA's \n",
       "      262 "
      ]
     },
     "metadata": {},
     "output_type": "display_data"
    }
   ],
   "source": [
    "summary(movies$content_rating)"
   ]
  },
  {
   "cell_type": "code",
   "execution_count": 168,
   "metadata": {
    "collapsed": false
   },
   "outputs": [
    {
     "name": "stderr",
     "output_type": "stream",
     "text": [
      "Warning message:\n",
      "\"Ignoring 1 observations\""
     ]
    },
    {
     "data": {
      "text/html": [
       "<iframe src=\"plotlyJupyterHTML/65a4a6a304c21830932a549f5f8fa6ad.html\" width=\"100%\" height=\"400\" id=\"igraph\" scrolling=\"no\" seamless=\"seamless\" frameBorder=\"0\"> </iframe>"
      ]
     },
     "metadata": {},
     "output_type": "display_data"
    }
   ],
   "source": [
    "hist_rating<-movies%>% \n",
    "  dplyr::count(content_rating) %>%\n",
    "  plot_ly(x =~content_rating, y = ~n) %>% \n",
    "  add_bars()%>%\n",
    "layout(title = 'Content rating of the movies from the IMDB data set',\n",
    "         xaxis = list(title = 'Content rating', zeroline = TRUE),\n",
    "         yaxis = list(title = 'Frequency'))\n",
    "embed_notebook(hist_rating)"
   ]
  },
  {
   "cell_type": "markdown",
   "metadata": {},
   "source": [
    "I'm not really familiar with some of the content rating, so I'll look at them more in detail, by looking at the movie with those rating."
   ]
  },
  {
   "cell_type": "code",
   "execution_count": 169,
   "metadata": {
    "collapsed": false
   },
   "outputs": [
    {
     "data": {
      "text/html": [
       "<ol class=list-inline>\n",
       "\t<li>'http://www.imdb.com/title/tt2479478/?ref_=fn_tt_tt_1'</li>\n",
       "\t<li>'http://www.imdb.com/title/tt1477109/?ref_=fn_tt_tt_1'</li>\n",
       "\t<li>'http://www.imdb.com/title/tt2724064/?ref_=fn_tt_tt_1'</li>\n",
       "</ol>\n"
      ],
      "text/latex": [
       "\\begin{enumerate*}\n",
       "\\item 'http://www.imdb.com/title/tt2479478/?ref\\_=fn\\_tt\\_tt\\_1'\n",
       "\\item 'http://www.imdb.com/title/tt1477109/?ref\\_=fn\\_tt\\_tt\\_1'\n",
       "\\item 'http://www.imdb.com/title/tt2724064/?ref\\_=fn\\_tt\\_tt\\_1'\n",
       "\\end{enumerate*}\n"
      ],
      "text/markdown": [
       "1. 'http://www.imdb.com/title/tt2479478/?ref_=fn_tt_tt_1'\n",
       "2. 'http://www.imdb.com/title/tt1477109/?ref_=fn_tt_tt_1'\n",
       "3. 'http://www.imdb.com/title/tt2724064/?ref_=fn_tt_tt_1'\n",
       "\n",
       "\n"
      ],
      "text/plain": [
       "[1] \"http://www.imdb.com/title/tt2479478/?ref_=fn_tt_tt_1\"\n",
       "[2] \"http://www.imdb.com/title/tt1477109/?ref_=fn_tt_tt_1\"\n",
       "[3] \"http://www.imdb.com/title/tt2724064/?ref_=fn_tt_tt_1\""
      ]
     },
     "metadata": {},
     "output_type": "display_data"
    }
   ],
   "source": [
    "movies[content_rating==\"TV-14\",movie_imdb_link]"
   ]
  },
  {
   "cell_type": "code",
   "execution_count": 170,
   "metadata": {
    "collapsed": false
   },
   "outputs": [
    {
     "data": {
      "text/html": [
       "<ol class=list-inline>\n",
       "\t<li>'http://www.imdb.com/title/tt0810900/?ref_=fn_tt_tt_1'</li>\n",
       "\t<li>'http://www.imdb.com/title/tt0475293/?ref_=fn_tt_tt_1'</li>\n",
       "\t<li>'http://www.imdb.com/title/tt2395247/?ref_=fn_tt_tt_1'</li>\n",
       "\t<li>'http://www.imdb.com/title/tt0059026/?ref_=fn_tt_tt_1'</li>\n",
       "</ol>\n"
      ],
      "text/latex": [
       "\\begin{enumerate*}\n",
       "\\item 'http://www.imdb.com/title/tt0810900/?ref\\_=fn\\_tt\\_tt\\_1'\n",
       "\\item 'http://www.imdb.com/title/tt0475293/?ref\\_=fn\\_tt\\_tt\\_1'\n",
       "\\item 'http://www.imdb.com/title/tt2395247/?ref\\_=fn\\_tt\\_tt\\_1'\n",
       "\\item 'http://www.imdb.com/title/tt0059026/?ref\\_=fn\\_tt\\_tt\\_1'\n",
       "\\end{enumerate*}\n"
      ],
      "text/markdown": [
       "1. 'http://www.imdb.com/title/tt0810900/?ref_=fn_tt_tt_1'\n",
       "2. 'http://www.imdb.com/title/tt0475293/?ref_=fn_tt_tt_1'\n",
       "3. 'http://www.imdb.com/title/tt2395247/?ref_=fn_tt_tt_1'\n",
       "4. 'http://www.imdb.com/title/tt0059026/?ref_=fn_tt_tt_1'\n",
       "\n",
       "\n"
      ],
      "text/plain": [
       "[1] \"http://www.imdb.com/title/tt0810900/?ref_=fn_tt_tt_1\"\n",
       "[2] \"http://www.imdb.com/title/tt0475293/?ref_=fn_tt_tt_1\"\n",
       "[3] \"http://www.imdb.com/title/tt2395247/?ref_=fn_tt_tt_1\"\n",
       "[4] \"http://www.imdb.com/title/tt0059026/?ref_=fn_tt_tt_1\""
      ]
     },
     "metadata": {},
     "output_type": "display_data"
    }
   ],
   "source": [
    "movies[content_rating==\"TV-G\",movie_imdb_link]"
   ]
  },
  {
   "cell_type": "code",
   "execution_count": 171,
   "metadata": {
    "collapsed": false
   },
   "outputs": [
    {
     "data": {
      "text/html": [
       "'http://www.imdb.com/title/tt0092337/?ref_=fn_tt_tt_1'"
      ],
      "text/latex": [
       "'http://www.imdb.com/title/tt0092337/?ref\\_=fn\\_tt\\_tt\\_1'"
      ],
      "text/markdown": [
       "'http://www.imdb.com/title/tt0092337/?ref_=fn_tt_tt_1'"
      ],
      "text/plain": [
       "[1] \"http://www.imdb.com/title/tt0092337/?ref_=fn_tt_tt_1\""
      ]
     },
     "metadata": {},
     "output_type": "display_data"
    }
   ],
   "source": [
    "movies[content_rating==\"TV-MA\",movie_imdb_link]"
   ]
  },
  {
   "cell_type": "code",
   "execution_count": 172,
   "metadata": {
    "collapsed": false
   },
   "outputs": [
    {
     "data": {
      "text/html": [
       "<ol class=list-inline>\n",
       "\t<li>'http://www.imdb.com/title/tt2063015/?ref_=fn_tt_tt_1'</li>\n",
       "\t<li>'http://www.imdb.com/title/tt1663628/?ref_=fn_tt_tt_1'</li>\n",
       "\t<li>'http://www.imdb.com/title/tt1675312/?ref_=fn_tt_tt_1'</li>\n",
       "</ol>\n"
      ],
      "text/latex": [
       "\\begin{enumerate*}\n",
       "\\item 'http://www.imdb.com/title/tt2063015/?ref\\_=fn\\_tt\\_tt\\_1'\n",
       "\\item 'http://www.imdb.com/title/tt1663628/?ref\\_=fn\\_tt\\_tt\\_1'\n",
       "\\item 'http://www.imdb.com/title/tt1675312/?ref\\_=fn\\_tt\\_tt\\_1'\n",
       "\\end{enumerate*}\n"
      ],
      "text/markdown": [
       "1. 'http://www.imdb.com/title/tt2063015/?ref_=fn_tt_tt_1'\n",
       "2. 'http://www.imdb.com/title/tt1663628/?ref_=fn_tt_tt_1'\n",
       "3. 'http://www.imdb.com/title/tt1675312/?ref_=fn_tt_tt_1'\n",
       "\n",
       "\n"
      ],
      "text/plain": [
       "[1] \"http://www.imdb.com/title/tt2063015/?ref_=fn_tt_tt_1\"\n",
       "[2] \"http://www.imdb.com/title/tt1663628/?ref_=fn_tt_tt_1\"\n",
       "[3] \"http://www.imdb.com/title/tt1675312/?ref_=fn_tt_tt_1\""
      ]
     },
     "metadata": {},
     "output_type": "display_data"
    }
   ],
   "source": [
    "movies[content_rating==\"TV-PG\",movie_imdb_link]"
   ]
  },
  {
   "cell_type": "markdown",
   "metadata": {},
   "source": [
    "Those are made for tv movie who generally had a theatrical release. In consequence, these movies have a place in the data set."
   ]
  },
  {
   "cell_type": "code",
   "execution_count": 173,
   "metadata": {
    "collapsed": false
   },
   "outputs": [
    {
     "data": {
      "text/html": [
       "<ol class=list-inline>\n",
       "\t<li>'http://www.imdb.com/title/tt0064757/?ref_=fn_tt_tt_1'</li>\n",
       "\t<li>'http://www.imdb.com/title/tt0064115/?ref_=fn_tt_tt_1'</li>\n",
       "\t<li>'http://www.imdb.com/title/tt0065112/?ref_=fn_tt_tt_1'</li>\n",
       "\t<li>'http://www.imdb.com/title/tt0061747/?ref_=fn_tt_tt_1'</li>\n",
       "\t<li>'http://www.imdb.com/title/tt0062235/?ref_=fn_tt_tt_1'</li>\n",
       "</ol>\n"
      ],
      "text/latex": [
       "\\begin{enumerate*}\n",
       "\\item 'http://www.imdb.com/title/tt0064757/?ref\\_=fn\\_tt\\_tt\\_1'\n",
       "\\item 'http://www.imdb.com/title/tt0064115/?ref\\_=fn\\_tt\\_tt\\_1'\n",
       "\\item 'http://www.imdb.com/title/tt0065112/?ref\\_=fn\\_tt\\_tt\\_1'\n",
       "\\item 'http://www.imdb.com/title/tt0061747/?ref\\_=fn\\_tt\\_tt\\_1'\n",
       "\\item 'http://www.imdb.com/title/tt0062235/?ref\\_=fn\\_tt\\_tt\\_1'\n",
       "\\end{enumerate*}\n"
      ],
      "text/markdown": [
       "1. 'http://www.imdb.com/title/tt0064757/?ref_=fn_tt_tt_1'\n",
       "2. 'http://www.imdb.com/title/tt0064115/?ref_=fn_tt_tt_1'\n",
       "3. 'http://www.imdb.com/title/tt0065112/?ref_=fn_tt_tt_1'\n",
       "4. 'http://www.imdb.com/title/tt0061747/?ref_=fn_tt_tt_1'\n",
       "5. 'http://www.imdb.com/title/tt0062235/?ref_=fn_tt_tt_1'\n",
       "\n",
       "\n"
      ],
      "text/plain": [
       "[1] \"http://www.imdb.com/title/tt0064757/?ref_=fn_tt_tt_1\"\n",
       "[2] \"http://www.imdb.com/title/tt0064115/?ref_=fn_tt_tt_1\"\n",
       "[3] \"http://www.imdb.com/title/tt0065112/?ref_=fn_tt_tt_1\"\n",
       "[4] \"http://www.imdb.com/title/tt0061747/?ref_=fn_tt_tt_1\"\n",
       "[5] \"http://www.imdb.com/title/tt0062235/?ref_=fn_tt_tt_1\""
      ]
     },
     "metadata": {},
     "output_type": "display_data"
    }
   ],
   "source": [
    "movies[content_rating==\"M\",movie_imdb_link]"
   ]
  },
  {
   "cell_type": "markdown",
   "metadata": {},
   "source": [
    "The rating \"GP\", \"M\" and \"X\" are rating used in the past by the Motion Picture Association of America. Since the rating \"M\" became \"GP\" in 1970 which became \"PG\" in 1972 and \"X\" became the \"NC-17\" rating, I can map those values to the more use modern rating.  "
   ]
  },
  {
   "cell_type": "code",
   "execution_count": 174,
   "metadata": {
    "collapsed": false
   },
   "outputs": [
    {
     "data": {
      "text/html": [
       "<ol class=list-inline>\n",
       "\t<li>'Approved'</li>\n",
       "\t<li>'G'</li>\n",
       "\t<li>'GP'</li>\n",
       "\t<li>'M'</li>\n",
       "\t<li>'NC-17'</li>\n",
       "\t<li>'Not Rated'</li>\n",
       "\t<li>'Passed'</li>\n",
       "\t<li>'PG'</li>\n",
       "\t<li>'PG-13'</li>\n",
       "\t<li>'R'</li>\n",
       "\t<li>'TV-14'</li>\n",
       "\t<li>'TV-G'</li>\n",
       "\t<li>'TV-MA'</li>\n",
       "\t<li>'TV-PG'</li>\n",
       "\t<li>'Unrated'</li>\n",
       "\t<li>'X'</li>\n",
       "</ol>\n"
      ],
      "text/latex": [
       "\\begin{enumerate*}\n",
       "\\item 'Approved'\n",
       "\\item 'G'\n",
       "\\item 'GP'\n",
       "\\item 'M'\n",
       "\\item 'NC-17'\n",
       "\\item 'Not Rated'\n",
       "\\item 'Passed'\n",
       "\\item 'PG'\n",
       "\\item 'PG-13'\n",
       "\\item 'R'\n",
       "\\item 'TV-14'\n",
       "\\item 'TV-G'\n",
       "\\item 'TV-MA'\n",
       "\\item 'TV-PG'\n",
       "\\item 'Unrated'\n",
       "\\item 'X'\n",
       "\\end{enumerate*}\n"
      ],
      "text/markdown": [
       "1. 'Approved'\n",
       "2. 'G'\n",
       "3. 'GP'\n",
       "4. 'M'\n",
       "5. 'NC-17'\n",
       "6. 'Not Rated'\n",
       "7. 'Passed'\n",
       "8. 'PG'\n",
       "9. 'PG-13'\n",
       "10. 'R'\n",
       "11. 'TV-14'\n",
       "12. 'TV-G'\n",
       "13. 'TV-MA'\n",
       "14. 'TV-PG'\n",
       "15. 'Unrated'\n",
       "16. 'X'\n",
       "\n",
       "\n"
      ],
      "text/plain": [
       " [1] \"Approved\"  \"G\"         \"GP\"        \"M\"         \"NC-17\"     \"Not Rated\"\n",
       " [7] \"Passed\"    \"PG\"        \"PG-13\"     \"R\"         \"TV-14\"     \"TV-G\"     \n",
       "[13] \"TV-MA\"     \"TV-PG\"     \"Unrated\"   \"X\"        "
      ]
     },
     "metadata": {},
     "output_type": "display_data"
    }
   ],
   "source": [
    "levels(movies$content_rating)"
   ]
  },
  {
   "cell_type": "code",
   "execution_count": 175,
   "metadata": {
    "collapsed": false
   },
   "outputs": [],
   "source": [
    "levels(movies$content_rating)[levels(movies$content_rating)==\"M\"]<-\"PG\"\n",
    "levels(movies$content_rating)[levels(movies$content_rating)==\"GP\"]<-\"PG\"\n",
    "levels(movies$content_rating)[levels(movies$content_rating)==\"X\"]<-\"NC-17\""
   ]
  },
  {
   "cell_type": "code",
   "execution_count": 176,
   "metadata": {
    "collapsed": false
   },
   "outputs": [
    {
     "name": "stderr",
     "output_type": "stream",
     "text": [
      "Warning message:\n",
      "\"Ignoring 1 observations\""
     ]
    },
    {
     "data": {
      "text/html": [
       "<iframe src=\"plotlyJupyterHTML/371aed87cd711bed867ffe50081f0a3e.html\" width=\"100%\" height=\"400\" id=\"igraph\" scrolling=\"no\" seamless=\"seamless\" frameBorder=\"0\"> </iframe>"
      ]
     },
     "metadata": {},
     "output_type": "display_data"
    }
   ],
   "source": [
    "hist_new_rating<-movies%>% \n",
    "  dplyr::count(content_rating) %>%\n",
    "  plot_ly(x =~content_rating, y = ~n) %>% \n",
    "  add_bars()%>%\n",
    "layout(title = 'Content rating of the movies from the IMDB data set',\n",
    "         xaxis = list(title = 'Content rating', zeroline = TRUE),\n",
    "         yaxis = list(title = 'Frequency'))\n",
    "embed_notebook(hist_new_rating)"
   ]
  },
  {
   "cell_type": "code",
   "execution_count": null,
   "metadata": {
    "collapsed": true
   },
   "outputs": [],
   "source": []
  },
  {
   "cell_type": "markdown",
   "metadata": {},
   "source": [
    "After looking at the rating of each movie, I looked at the year where each movie where made"
   ]
  },
  {
   "cell_type": "code",
   "execution_count": 177,
   "metadata": {
    "collapsed": false
   },
   "outputs": [
    {
     "name": "stderr",
     "output_type": "stream",
     "text": [
      "Warning message:\n",
      "\"Ignoring 1 observations\""
     ]
    },
    {
     "data": {
      "text/html": [
       "<iframe src=\"plotlyJupyterHTML/ece8376929e16c29ec88de5cba24dbf6.html\" width=\"100%\" height=\"400\" id=\"igraph\" scrolling=\"no\" seamless=\"seamless\" frameBorder=\"0\"> </iframe>"
      ]
     },
     "metadata": {},
     "output_type": "display_data"
    }
   ],
   "source": [
    "hist_year<-movies%>% \n",
    "  dplyr::count(title_year) %>%\n",
    "  plot_ly(x =~title_year, y = ~n) %>% \n",
    "  add_bars()%>%\n",
    "layout(title = 'Number of movie made each year',\n",
    "         xaxis = list(title = 'Year', zeroline = TRUE),\n",
    "         yaxis = list(title = 'Frequency'))\n",
    "embed_notebook(hist_year)"
   ]
  },
  {
   "cell_type": "markdown",
   "metadata": {},
   "source": [
    "The newer movies are over represented and the model will probably over fit for cultural trend that are 10 year old or younger. That tell us that the model that I can generate with this data set could be usefull only in the close future. For better forcast, I would need more detail data. \n",
    "\n",
    "Next on the list is the aspect ratio. Since I know noboday who when to see a movie for his aspect ratio, I believe that this variable won't have a lot of influence on the final model."
   ]
  },
  {
   "cell_type": "code",
   "execution_count": 178,
   "metadata": {
    "collapsed": false
   },
   "outputs": [
    {
     "data": {
      "text/html": [
       "<dl class=dl-horizontal>\n",
       "\t<dt>2.35</dt>\n",
       "\t\t<dd>2281</dd>\n",
       "\t<dt>1.85</dt>\n",
       "\t\t<dd>1866</dd>\n",
       "\t<dt>1.37</dt>\n",
       "\t\t<dd>99</dd>\n",
       "\t<dt>(Other)</dt>\n",
       "\t\t<dd>264</dd>\n",
       "\t<dt>NA's</dt>\n",
       "\t\t<dd>307</dd>\n",
       "</dl>\n"
      ],
      "text/latex": [
       "\\begin{description*}\n",
       "\\item[2.35] 2281\n",
       "\\item[1.85] 1866\n",
       "\\item[1.37] 99\n",
       "\\item[(Other)] 264\n",
       "\\item[NA's] 307\n",
       "\\end{description*}\n"
      ],
      "text/markdown": [
       "2.35\n",
       ":   22811.85\n",
       ":   18661.37\n",
       ":   99(Other)\n",
       ":   264NA's\n",
       ":   307\n",
       "\n"
      ],
      "text/plain": [
       "   2.35    1.85    1.37 (Other)    NA's \n",
       "   2281    1866      99     264     307 "
      ]
     },
     "metadata": {},
     "output_type": "display_data"
    }
   ],
   "source": [
    "summary(movies$aspect_ratio,maxsum=5)"
   ]
  },
  {
   "cell_type": "code",
   "execution_count": 179,
   "metadata": {
    "collapsed": false
   },
   "outputs": [
    {
     "name": "stderr",
     "output_type": "stream",
     "text": [
      "Warning message:\n",
      "\"Ignoring 1 observations\""
     ]
    },
    {
     "data": {
      "text/html": [
       "<iframe src=\"plotlyJupyterHTML/c456e19226d804424f9caf5b8c13cf1c.html\" width=\"100%\" height=\"400\" id=\"igraph\" scrolling=\"no\" seamless=\"seamless\" frameBorder=\"0\"> </iframe>"
      ]
     },
     "metadata": {},
     "output_type": "display_data"
    }
   ],
   "source": [
    "hist_ratio<-movies%>% \n",
    "  dplyr::count(aspect_ratio) %>%\n",
    "  plot_ly(x =~aspect_ratio, y = ~n) %>% \n",
    "  add_bars()%>%\n",
    "layout(title = 'Distribution of the aspect ration used',\n",
    "         xaxis = list(title = 'Aspect ratio', zeroline = TRUE),\n",
    "         yaxis = list(title = 'Frequency'))\n",
    "embed_notebook(hist_ratio)"
   ]
  },
  {
   "cell_type": "markdown",
   "metadata": {},
   "source": [
    "Having looked at all the variable of the data set, we still have to look at the two variable that I believe to be the most important for or model, the \"budget_us\" variable and the \"gross\" variable. Of course the \"gross\" variable have our interest since it is the primary marker for profitability of a movie. But \"budget_us\" is definetly the secondary marker since the more a movie cost, the more it is easy to lose money, but also having a good cast, good special effect, music, editor etc cost a lot of money so having a big budget can potentionnely able you to make an excellent movie and have a better box-office performance. Basicly, the core of the model is to correctly asses the optimal budget to make a great movie."
   ]
  },
  {
   "cell_type": "code",
   "execution_count": 180,
   "metadata": {
    "collapsed": false
   },
   "outputs": [
    {
     "data": {
      "text/plain": [
       "     Min.   1st Qu.    Median      Mean   3rd Qu.      Max.      NA's \n",
       "      218   5500000  18000000  31850000  40000000 300000000       212 "
      ]
     },
     "metadata": {},
     "output_type": "display_data"
    }
   ],
   "source": [
    "summary(movies$budget_us)"
   ]
  },
  {
   "cell_type": "code",
   "execution_count": 181,
   "metadata": {
    "collapsed": false
   },
   "outputs": [
    {
     "name": "stderr",
     "output_type": "stream",
     "text": [
      "Warning message:\n",
      "\"Ignoring 268 observations\""
     ]
    },
    {
     "data": {
      "text/html": [
       "<iframe src=\"plotlyJupyterHTML/37aae58ea9196fb88b29fda4f608260a.html\" width=\"100%\" height=\"400\" id=\"igraph\" scrolling=\"no\" seamless=\"seamless\" frameBorder=\"0\"> </iframe>"
      ]
     },
     "metadata": {},
     "output_type": "display_data"
    }
   ],
   "source": [
    "hist_budget<-movies%>% \n",
    "  plot_ly( ) %>% \n",
    "  add_histogram(x =~budget_2016) %>%\n",
    "layout(title = 'Distribution of the movie\\'s budget',\n",
    "         xaxis = list(title = 'budget', zeroline = TRUE),\n",
    "         yaxis = list(title = 'Frequency'))\n",
    "embed_notebook(hist_budget)"
   ]
  },
  {
   "cell_type": "code",
   "execution_count": 182,
   "metadata": {
    "collapsed": false
   },
   "outputs": [
    {
     "data": {
      "text/plain": [
       "      Min.    1st Qu.     Median       Mean    3rd Qu.       Max.       NA's \n",
       "         0    4313000   28880000   62960000   78860000 1825000000        418 "
      ]
     },
     "metadata": {},
     "output_type": "display_data"
    }
   ],
   "source": [
    "summary(movies$gross_2016)"
   ]
  },
  {
   "cell_type": "code",
   "execution_count": 183,
   "metadata": {
    "collapsed": false
   },
   "outputs": [
    {
     "name": "stderr",
     "output_type": "stream",
     "text": [
      "Warning message:\n",
      "\"Ignoring 418 observations\""
     ]
    },
    {
     "data": {
      "text/html": [
       "<iframe src=\"plotlyJupyterHTML/510a6437db18816dddf84bdd9da46097.html\" width=\"100%\" height=\"400\" id=\"igraph\" scrolling=\"no\" seamless=\"seamless\" frameBorder=\"0\"> </iframe>"
      ]
     },
     "metadata": {},
     "output_type": "display_data"
    }
   ],
   "source": [
    "hist_gross<-movies%>% \n",
    "  plot_ly( ) %>% \n",
    "  add_histogram(x =~gross_2016) %>%\n",
    "layout(title = 'Distribution of the movie\\'s box office results',\n",
    "         xaxis = list(title = 'budget', zeroline = TRUE),\n",
    "         yaxis = list(title = 'Frequency'))\n",
    "embed_notebook(hist_gross)"
   ]
  },
  {
   "cell_type": "markdown",
   "metadata": {},
   "source": [
    "This plot tells us how much the movie business is a risky gamble, since the majority of the movie make less than 3 million dollars at the box-office. But if the budget is small enough, even those movies can be profitable! \n",
    "\n",
    "I plotted the distribution of the profit variable and the proportion of profitable and non-profitable movies in the data set."
   ]
  },
  {
   "cell_type": "code",
   "execution_count": 184,
   "metadata": {
    "collapsed": false
   },
   "outputs": [],
   "source": [
    "movies$profit<-movies$gross_2016-movies$budget_2016\n",
    "#movies[budget_2016<=0,profit:=0]\n",
    "#movies[budget_2016>150000000,profit:=gross_2016-3*budget_2016]"
   ]
  },
  {
   "cell_type": "code",
   "execution_count": 185,
   "metadata": {
    "collapsed": false
   },
   "outputs": [
    {
     "name": "stderr",
     "output_type": "stream",
     "text": [
      "Warning message:\n",
      "\"Ignoring 533 observations\""
     ]
    },
    {
     "data": {
      "text/html": [
       "<iframe src=\"plotlyJupyterHTML/b9f93832471ea777c32a1b0d4e5eb3d6.html\" width=\"100%\" height=\"400\" id=\"igraph\" scrolling=\"no\" seamless=\"seamless\" frameBorder=\"0\"> </iframe>"
      ]
     },
     "metadata": {},
     "output_type": "display_data"
    }
   ],
   "source": [
    "hist_profit<-movies%>% \n",
    "  plot_ly( ) %>% \n",
    "  add_histogram(x =~profit) %>%\n",
    "layout(title = 'Distribution of the movie\\'s box office results',\n",
    "         xaxis = list(title = 'Profit', zeroline = TRUE),\n",
    "         yaxis = list(title = 'Frequency'))\n",
    "embed_notebook(hist_profit)"
   ]
  },
  {
   "cell_type": "markdown",
   "metadata": {},
   "source": [
    "We can see that a majority of movie lost money, but the majority of movies lost less than 5 millions dollar, a amounth that can be raise via dvd sale, TV and Netflix licencing or merchandise related to the movies. Those data are not in the data set, just like the foreign box-office, which is a big part of the revenue of american blockbusters and, naturally, of foreign movie. This illustrate the limitations of this data set: since I don't have access to the complete financial result of those movie, I can't directly try to estimate the profitability of a movies, I just can predict the performance at the U.S. box-office. \n",
    "\n",
    "Looking at this plot, especialy the heavy tail of the distribution, we can see another way movie studio make their money: if they make four movie that lost a little amounth of money and a fifth one that make a lot of money, the studio still make a profit. \n",
    "\n",
    "I calculated the proportion of profitable and non-protitable movies in the data set to see if that stratagie would be valuable for the movies studio. The more the ratio of profitable to non-profitable movie is high, the less money the movies have to make at the box-office to generate a profit overall."
   ]
  },
  {
   "cell_type": "code",
   "execution_count": 186,
   "metadata": {
    "collapsed": true
   },
   "outputs": [],
   "source": [
    "name_profit<-c(\"profitable\",\"non-profitable\")\n",
    "percentage_profit<-c(count(movies[profit>=0])/nrow(movies),count(movies[profit<0])/nrow(movies))\n",
    "percent_profit<-data.table(name_profit,percentage_profit)"
   ]
  },
  {
   "cell_type": "code",
   "execution_count": 187,
   "metadata": {
    "collapsed": false
   },
   "outputs": [
    {
     "data": {
      "text/html": [
       "<iframe src=\"plotlyJupyterHTML/a6ecb9a3a93e0642121e65dc388cd605.html\" width=\"100%\" height=\"400\" id=\"igraph\" scrolling=\"no\" seamless=\"seamless\" frameBorder=\"0\"> </iframe>"
      ]
     },
     "metadata": {},
     "output_type": "display_data"
    }
   ],
   "source": [
    "bar_percent_profit<-plot_ly(percent_profit,x =~name_profit,y=~ percentage_profit, type = 'bar') %>%\n",
    "layout(title = 'Proportion of profitable and non-profitable movies',\n",
    "           xaxis = list(title = \"\"),\n",
    "         yaxis = list(title = 'Percentage'))\n",
    "embed_notebook(bar_percent_profit)"
   ]
  },
  {
   "cell_type": "markdown",
   "metadata": {},
   "source": [
    "The number of movie that are profitable is almost equal to the number of non-profitable movies. In consequence, as long as the profitable movies make a little bit money than the non-profitable one the studio should make a profit and since the majority of the outlier are profitable movie, in general, those movie should be profitable. For reference, let's look at the most profitable movie to see if they compensate for the rest."
   ]
  },
  {
   "cell_type": "code",
   "execution_count": 188,
   "metadata": {
    "collapsed": false
   },
   "outputs": [
    {
     "data": {
      "text/html": [
       "<table>\n",
       "<thead><tr><th scope=col>movie_title</th><th scope=col>budget_2016</th><th scope=col>gross</th><th scope=col>profit</th></tr></thead>\n",
       "<tbody>\n",
       "\t<tr><td>starwarsepisodeivanewhope</td><td>43559666                 </td><td>460935665                </td><td>1781731577               </td></tr>\n",
       "\t<tr><td>thesoundofmusic          </td><td>62461506                 </td><td>163214286                </td><td>1180783630               </td></tr>\n",
       "\t<tr><td>jaws                     </td><td>35677744                 </td><td>260000000                </td><td>1123848938               </td></tr>\n",
       "\t<tr><td>theexorcist              </td><td>43244528                 </td><td>204565000                </td><td>1062545084               </td></tr>\n",
       "\t<tr><td>ettheextraterrestrial    </td><td>26114766                 </td><td>434949459                </td><td>1055656994               </td></tr>\n",
       "\t<tr><td>thesting                 </td><td>29730613                 </td><td>159600000                </td><td> 832997723               </td></tr>\n",
       "</tbody>\n",
       "</table>\n"
      ],
      "text/latex": [
       "\\begin{tabular}{r|llll}\n",
       " movie\\_title & budget\\_2016 & gross & profit\\\\\n",
       "\\hline\n",
       "\t starwarsepisodeivanewhope & 43559666                  & 460935665                 & 1781731577               \\\\\n",
       "\t thesoundofmusic           & 62461506                  & 163214286                 & 1180783630               \\\\\n",
       "\t jaws                      & 35677744                  & 260000000                 & 1123848938               \\\\\n",
       "\t theexorcist               & 43244528                  & 204565000                 & 1062545084               \\\\\n",
       "\t ettheextraterrestrial     & 26114766                  & 434949459                 & 1055656994               \\\\\n",
       "\t thesting                  & 29730613                  & 159600000                 &  832997723               \\\\\n",
       "\\end{tabular}\n"
      ],
      "text/markdown": [
       "\n",
       "movie_title | budget_2016 | gross | profit | \n",
       "|---|---|---|---|---|---|\n",
       "| starwarsepisodeivanewhope | 43559666                  | 460935665                 | 1781731577                | \n",
       "| thesoundofmusic           | 62461506                  | 163214286                 | 1180783630                | \n",
       "| jaws                      | 35677744                  | 260000000                 | 1123848938                | \n",
       "| theexorcist               | 43244528                  | 204565000                 | 1062545084                | \n",
       "| ettheextraterrestrial     | 26114766                  | 434949459                 | 1055656994                | \n",
       "| thesting                  | 29730613                  | 159600000                 |  832997723                | \n",
       "\n",
       "\n"
      ],
      "text/plain": [
       "  movie_title               budget_2016 gross     profit    \n",
       "1 starwarsepisodeivanewhope 43559666    460935665 1781731577\n",
       "2 thesoundofmusic           62461506    163214286 1180783630\n",
       "3 jaws                      35677744    260000000 1123848938\n",
       "4 theexorcist               43244528    204565000 1062545084\n",
       "5 ettheextraterrestrial     26114766    434949459 1055656994\n",
       "6 thesting                  29730613    159600000  832997723"
      ]
     },
     "metadata": {},
     "output_type": "display_data"
    }
   ],
   "source": [
    "head(movies[order(-profit),c(\"movie_title\",\"budget_2016\",\"gross\",\"profit\")])"
   ]
  },
  {
   "cell_type": "code",
   "execution_count": 189,
   "metadata": {
    "collapsed": false
   },
   "outputs": [
    {
     "data": {
      "text/html": [
       "<table>\n",
       "<thead><tr><th scope=col>movie_title</th><th scope=col>budget_2016</th><th scope=col>gross</th><th scope=col>profit</th></tr></thead>\n",
       "<tbody>\n",
       "\t<tr><td>thepolarexpress             </td><td>209659464                   </td><td>  665426                    </td><td>-208813931                  </td></tr>\n",
       "\t<tr><td>johncarter                  </td><td>275660124                   </td><td>73058679                    </td><td>-199287865                  </td></tr>\n",
       "\t<tr><td>speed2cruisecontrol         </td><td>239234644                   </td><td>48068396                    </td><td>-167361984                  </td></tr>\n",
       "\t<tr><td>waterloo                    </td><td>154544204                   </td><td>       0                    </td><td>-154544204                  </td></tr>\n",
       "\t<tr><td>alexander                   </td><td>196952830                   </td><td>34293771                    </td><td>-153376990                  </td></tr>\n",
       "\t<tr><td>battleship                  </td><td>218479203                   </td><td>65173160                    </td><td>-150350112                  </td></tr>\n",
       "\t<tr><td>finalfantasythespiritswithin</td><td>185698297                   </td><td>32131830                    </td><td>-142144822                  </td></tr>\n",
       "\t<tr><td>47ronin                     </td><td>180296170                   </td><td>38297305                    </td><td>-140839842                  </td></tr>\n",
       "\t<tr><td>marsneedsmoms               </td><td>160048102                   </td><td>21379315                    </td><td>-137236643                  </td></tr>\n",
       "\t<tr><td>cutthroatisland             </td><td>154352186                   </td><td>11000000                    </td><td>-137026940                  </td></tr>\n",
       "</tbody>\n",
       "</table>\n"
      ],
      "text/latex": [
       "\\begin{tabular}{r|llll}\n",
       " movie\\_title & budget\\_2016 & gross & profit\\\\\n",
       "\\hline\n",
       "\t thepolarexpress              & 209659464                    &   665426                     & -208813931                  \\\\\n",
       "\t johncarter                   & 275660124                    & 73058679                     & -199287865                  \\\\\n",
       "\t speed2cruisecontrol          & 239234644                    & 48068396                     & -167361984                  \\\\\n",
       "\t waterloo                     & 154544204                    &        0                     & -154544204                  \\\\\n",
       "\t alexander                    & 196952830                    & 34293771                     & -153376990                  \\\\\n",
       "\t battleship                   & 218479203                    & 65173160                     & -150350112                  \\\\\n",
       "\t finalfantasythespiritswithin & 185698297                    & 32131830                     & -142144822                  \\\\\n",
       "\t 47ronin                      & 180296170                    & 38297305                     & -140839842                  \\\\\n",
       "\t marsneedsmoms                & 160048102                    & 21379315                     & -137236643                  \\\\\n",
       "\t cutthroatisland              & 154352186                    & 11000000                     & -137026940                  \\\\\n",
       "\\end{tabular}\n"
      ],
      "text/markdown": [
       "\n",
       "movie_title | budget_2016 | gross | profit | \n",
       "|---|---|---|---|---|---|---|---|---|---|\n",
       "| thepolarexpress              | 209659464                    |   665426                     | -208813931                   | \n",
       "| johncarter                   | 275660124                    | 73058679                     | -199287865                   | \n",
       "| speed2cruisecontrol          | 239234644                    | 48068396                     | -167361984                   | \n",
       "| waterloo                     | 154544204                    |        0                     | -154544204                   | \n",
       "| alexander                    | 196952830                    | 34293771                     | -153376990                   | \n",
       "| battleship                   | 218479203                    | 65173160                     | -150350112                   | \n",
       "| finalfantasythespiritswithin | 185698297                    | 32131830                     | -142144822                   | \n",
       "| 47ronin                      | 180296170                    | 38297305                     | -140839842                   | \n",
       "| marsneedsmoms                | 160048102                    | 21379315                     | -137236643                   | \n",
       "| cutthroatisland              | 154352186                    | 11000000                     | -137026940                   | \n",
       "\n",
       "\n"
      ],
      "text/plain": [
       "   movie_title                  budget_2016 gross    profit    \n",
       "1  thepolarexpress              209659464     665426 -208813931\n",
       "2  johncarter                   275660124   73058679 -199287865\n",
       "3  speed2cruisecontrol          239234644   48068396 -167361984\n",
       "4  waterloo                     154544204          0 -154544204\n",
       "5  alexander                    196952830   34293771 -153376990\n",
       "6  battleship                   218479203   65173160 -150350112\n",
       "7  finalfantasythespiritswithin 185698297   32131830 -142144822\n",
       "8  47ronin                      180296170   38297305 -140839842\n",
       "9  marsneedsmoms                160048102   21379315 -137236643\n",
       "10 cutthroatisland              154352186   11000000 -137026940"
      ]
     },
     "metadata": {},
     "output_type": "display_data"
    }
   ],
   "source": [
    "head(movies[order(profit),c(\"movie_title\",\"budget_2016\",\"gross\",\"profit\")],n=10)"
   ]
  },
  {
   "cell_type": "code",
   "execution_count": 190,
   "metadata": {
    "collapsed": false
   },
   "outputs": [
    {
     "data": {
      "text/html": [
       "54109106.1648004"
      ],
      "text/latex": [
       "54109106.1648004"
      ],
      "text/markdown": [
       "54109106.1648004"
      ],
      "text/plain": [
       "[1] 54109106"
      ]
     },
     "metadata": {},
     "output_type": "display_data"
    }
   ],
   "source": [
    "movies[movie_title==\"starwarsepisodeivanewhope\",profit]+sum(sort(movies$profit,partial=nrow(movies$profit))[1:11])"
   ]
  },
  {
   "cell_type": "markdown",
   "metadata": {},
   "source": [
    "We can see that the revenue generated at the box-office by the hightly profitable movie compensate easily for the loss of the hightly non-profitable movie. In fact, the most profitable movie in the data set, \"Star War episode four: a new hope\", made more money than the 11 least profitable movies in the data set. \n",
    "\n",
    "Finally I looked at the profitability of the movie business, by plotting the yearly aggregate of movie profit."
   ]
  },
  {
   "cell_type": "code",
   "execution_count": 191,
   "metadata": {
    "collapsed": false
   },
   "outputs": [
    {
     "name": "stderr",
     "output_type": "stream",
     "text": [
      "Warning message:\n",
      "\"Ignoring 1 observations\""
     ]
    },
    {
     "data": {
      "text/html": [
       "<iframe src=\"plotlyJupyterHTML/87377fd39bd3d6471a35b864191c4b68.html\" width=\"100%\" height=\"400\" id=\"igraph\" scrolling=\"no\" seamless=\"seamless\" frameBorder=\"0\"> </iframe>"
      ]
     },
     "metadata": {},
     "output_type": "display_data"
    }
   ],
   "source": [
    "hist_profit_yearly<-movies %>%\n",
    "group_by(title_year)%>%\n",
    "summarise(profit_yearly=sum(profit,na.rm=TRUE))%>%\n",
    "plot_ly( ) %>% \n",
    "  add_bars(x =~title_year, y=~profit_yearly) %>%\n",
    "layout(title = 'Distribution of the movie\\'s box office results',\n",
    "         xaxis = list(title = 'Year', zeroline = TRUE),\n",
    "         yaxis = list(title = 'Profit'))\n",
    "embed_notebook(hist_profit_yearly)"
   ]
  },
  {
   "cell_type": "markdown",
   "metadata": {},
   "source": [
    "We can see that year after year, the movies generate more money than they cost to the studio. \n",
    "\n",
    "As we saw before, one of the limitation of this data set is that IMDB doesn't always show the international box-office of movie. This should affect the profitability of foreign movie, since their primary market is not the U.S. To verify this, I ploted the yearly profitability of foreign movies. "
   ]
  },
  {
   "cell_type": "code",
   "execution_count": 192,
   "metadata": {
    "collapsed": false
   },
   "outputs": [
    {
     "name": "stderr",
     "output_type": "stream",
     "text": [
      "Warning message:\n",
      "\"Ignoring 1 observations\""
     ]
    },
    {
     "data": {
      "text/html": [
       "<iframe src=\"plotlyJupyterHTML/e9b1564f624f9bc9b77f5eeeb77b4e33.html\" width=\"100%\" height=\"400\" id=\"igraph\" scrolling=\"no\" seamless=\"seamless\" frameBorder=\"0\"> </iframe>"
      ]
     },
     "metadata": {},
     "output_type": "display_data"
    }
   ],
   "source": [
    "hist_profit_yearly_nonUS<-movies[country!=\"USA\"] %>%\n",
    "group_by(title_year)%>%\n",
    "summarise(profit_yearly=sum(profit,na.rm=TRUE))%>%\n",
    "plot_ly( ) %>% \n",
    "  add_bars(x =~title_year, y=~profit_yearly) %>%\n",
    "layout(title = 'Distribution of the foreign movie\\'s box office results',\n",
    "         xaxis = list(title = 'Year', zeroline = TRUE),\n",
    "         yaxis = list(title = 'Profit'))\n",
    "embed_notebook(hist_profit_yearly_nonUS)"
   ]
  },
  {
   "cell_type": "code",
   "execution_count": null,
   "metadata": {
    "collapsed": true
   },
   "outputs": [],
   "source": []
  },
  {
   "cell_type": "markdown",
   "metadata": {},
   "source": [
    "# Cast statistics\n",
    "\n",
    "In this section, I will look at the variable who tell us something about the artisan working on the movies. I'll start to look at the variable describing the movies directors.  "
   ]
  },
  {
   "cell_type": "code",
   "execution_count": 193,
   "metadata": {
    "collapsed": false
   },
   "outputs": [
    {
     "data": {
      "text/html": [
       "<dl class=dl-horizontal>\n",
       "\t<dt>Steven Spielberg</dt>\n",
       "\t\t<dd>26</dd>\n",
       "\t<dt>Woody Allen</dt>\n",
       "\t\t<dd>22</dd>\n",
       "\t<dt>Clint Eastwood</dt>\n",
       "\t\t<dd>20</dd>\n",
       "\t<dt>Martin Scorsese</dt>\n",
       "\t\t<dd>20</dd>\n",
       "\t<dt>Ridley Scott</dt>\n",
       "\t\t<dd>16</dd>\n",
       "\t<dt>Spike Lee</dt>\n",
       "\t\t<dd>16</dd>\n",
       "</dl>\n"
      ],
      "text/latex": [
       "\\begin{description*}\n",
       "\\item[Steven Spielberg] 26\n",
       "\\item[Woody Allen] 22\n",
       "\\item[Clint Eastwood] 20\n",
       "\\item[Martin Scorsese] 20\n",
       "\\item[Ridley Scott] 16\n",
       "\\item[Spike Lee] 16\n",
       "\\end{description*}\n"
      ],
      "text/markdown": [
       "Steven Spielberg\n",
       ":   26Woody Allen\n",
       ":   22Clint Eastwood\n",
       ":   20Martin Scorsese\n",
       ":   20Ridley Scott\n",
       ":   16Spike Lee\n",
       ":   16\n",
       "\n"
      ],
      "text/plain": [
       "Steven Spielberg      Woody Allen   Clint Eastwood  Martin Scorsese \n",
       "              26               22               20               20 \n",
       "    Ridley Scott        Spike Lee \n",
       "              16               16 "
      ]
     },
     "metadata": {},
     "output_type": "display_data"
    }
   ],
   "source": [
    "head(summary(movies$director_name))"
   ]
  },
  {
   "cell_type": "markdown",
   "metadata": {},
   "source": [
    "I'm interested to know how many director made one movie, two movie, three movies etc."
   ]
  },
  {
   "cell_type": "code",
   "execution_count": 194,
   "metadata": {
    "collapsed": false
   },
   "outputs": [],
   "source": [
    "director_freq<-plyr::count(movies,'director_name')\n",
    "director_freq<-as.data.frame(director_freq)\n",
    "#names(director_freq)[names(director_freq)==\"x\"]<-\"Name\"\n",
    "names(director_freq)[names(director_freq)==\"freq\"]<-\"Count\"\n",
    "director_freq<-director_freq[order(director_freq$Count),]"
   ]
  },
  {
   "cell_type": "code",
   "execution_count": 195,
   "metadata": {
    "collapsed": false
   },
   "outputs": [
    {
     "name": "stdout",
     "output_type": "stream",
     "text": [
      "'data.frame':\t2398 obs. of  2 variables:\n",
      " $ director_name: Factor w/ 2397 levels \"A. Raven Cruz\",..: 1 2 3 4 5 6 7 8 9 10 ...\n",
      " $ Count        : int  1 1 1 1 1 1 1 1 1 1 ...\n"
     ]
    }
   ],
   "source": [
    "str(director_freq)"
   ]
  },
  {
   "cell_type": "code",
   "execution_count": 196,
   "metadata": {
    "collapsed": false
   },
   "outputs": [
    {
     "data": {
      "text/html": [
       "<table>\n",
       "<thead><tr><th scope=col>director_name</th><th scope=col>Count</th></tr></thead>\n",
       "<tbody>\n",
       "\t<tr><td>A. Raven Cruz      </td><td>1                  </td></tr>\n",
       "\t<tr><td>Ã‰mile Gaudreault  </td><td>1                  </td></tr>\n",
       "\t<tr><td>Ã‰ric Tessier      </td><td>1                  </td></tr>\n",
       "\t<tr><td>Ã‰tienne Faure     </td><td>1                  </td></tr>\n",
       "\t<tr><td>Ãlex de la Iglesia</td><td>1                  </td></tr>\n",
       "\t<tr><td>Aaron Hann         </td><td>1                  </td></tr>\n",
       "</tbody>\n",
       "</table>\n"
      ],
      "text/latex": [
       "\\begin{tabular}{r|ll}\n",
       " director\\_name & Count\\\\\n",
       "\\hline\n",
       "\t A. Raven Cruz       & 1                  \\\\\n",
       "\t Ã‰mile Gaudreault   & 1                  \\\\\n",
       "\t Ã‰ric Tessier       & 1                  \\\\\n",
       "\t Ã‰tienne Faure      & 1                  \\\\\n",
       "\t Ãlex de la Iglesia & 1                  \\\\\n",
       "\t Aaron Hann          & 1                  \\\\\n",
       "\\end{tabular}\n"
      ],
      "text/markdown": [
       "\n",
       "director_name | Count | \n",
       "|---|---|---|---|---|---|\n",
       "| A. Raven Cruz       | 1                   | \n",
       "| Ã‰mile Gaudreault   | 1                   | \n",
       "| Ã‰ric Tessier       | 1                   | \n",
       "| Ã‰tienne Faure      | 1                   | \n",
       "| Ãlex de la Iglesia | 1                   | \n",
       "| Aaron Hann          | 1                   | \n",
       "\n",
       "\n"
      ],
      "text/plain": [
       "  director_name       Count\n",
       "1 A. Raven Cruz       1    \n",
       "2 Ãmile Gaudreault   1    \n",
       "3 Ãric Tessier       1    \n",
       "4 Ãtienne Faure      1    \n",
       "5 Ãlex de la Iglesia 1    \n",
       "6 Aaron Hann          1    "
      ]
     },
     "metadata": {},
     "output_type": "display_data"
    }
   ],
   "source": [
    "head(director_freq)"
   ]
  },
  {
   "cell_type": "code",
   "execution_count": 197,
   "metadata": {
    "collapsed": false
   },
   "outputs": [
    {
     "data": {
      "text/html": [
       "<iframe src=\"plotlyJupyterHTML/bd0594dd8fa5c2df2238644d3b155d24.html\" width=\"100%\" height=\"400\" id=\"igraph\" scrolling=\"no\" seamless=\"seamless\" frameBorder=\"0\"> </iframe>"
      ]
     },
     "metadata": {},
     "output_type": "display_data"
    }
   ],
   "source": [
    "hist_director <- director_freq %>%\n",
    "  dplyr::count(Count) %>%\n",
    "  plot_ly(x =~Count, y = ~n) %>% \n",
    "  add_bars()%>%\n",
    "layout(title = 'Distribution of the number of movies directed by each director',\n",
    "         xaxis = list(title = 'Number of movie directed', zeroline = TRUE),\n",
    "         yaxis = list(title = 'Number of director'))\n",
    "\n",
    "embed_notebook(hist_director) "
   ]
  },
  {
   "cell_type": "markdown",
   "metadata": {},
   "source": [
    "The data set give us insight on the popularity of the director via the \"director_facebook_likes\" variable. I will look at this variable in more detail."
   ]
  },
  {
   "cell_type": "code",
   "execution_count": 198,
   "metadata": {
    "collapsed": false
   },
   "outputs": [
    {
     "data": {
      "text/plain": [
       "   Min. 1st Qu.  Median    Mean 3rd Qu.    Max.    NA's \n",
       "    0.0     7.0    48.0   690.9   189.5 23000.0       2 "
      ]
     },
     "metadata": {},
     "output_type": "display_data"
    }
   ],
   "source": [
    "summary(movies$director_facebook_likes)"
   ]
  },
  {
   "cell_type": "code",
   "execution_count": 199,
   "metadata": {
    "collapsed": false
   },
   "outputs": [
    {
     "name": "stderr",
     "output_type": "stream",
     "text": [
      "Warning message:\n",
      "\"Ignoring 2 observations\""
     ]
    },
    {
     "data": {
      "text/html": [
       "<iframe src=\"plotlyJupyterHTML/777ba4d4508c5c87ceb8d1a72a1416f0.html\" width=\"100%\" height=\"400\" id=\"igraph\" scrolling=\"no\" seamless=\"seamless\" frameBorder=\"0\"> </iframe>"
      ]
     },
     "metadata": {},
     "output_type": "display_data"
    }
   ],
   "source": [
    "hist_dir_fb <- plot_ly(x=~movies$director_facebook_likes,type=\"histogram\")%>%\n",
    "layout(title = 'Distribution of like on the Facebook page of the director',\n",
    "         xaxis = list(title = 'Number of like', zeroline = TRUE),\n",
    "         yaxis = list(title = 'Frequency')) \n",
    "embed_notebook(hist_dir_fb)"
   ]
  },
  {
   "cell_type": "markdown",
   "metadata": {},
   "source": [
    "This plot tell us the the number of director with zero like on facebook are over represented in the data set. The table below show us a sample of director with no like on facebook who made big budget movies."
   ]
  },
  {
   "cell_type": "code",
   "execution_count": 200,
   "metadata": {
    "collapsed": false
   },
   "outputs": [
    {
     "data": {
      "text/html": [
       "<table>\n",
       "<thead><tr><th scope=col>color</th><th scope=col>director_name</th><th scope=col>num_critic_for_reviews</th><th scope=col>duration</th><th scope=col>director_facebook_likes</th><th scope=col>actor_3_facebook_likes</th><th scope=col>actor_2_name</th><th scope=col>actor_1_facebook_likes</th><th scope=col>gross</th><th scope=col>genres</th><th scope=col>...</th><th scope=col>genres_Short</th><th scope=col>genres_Sport</th><th scope=col>genres_Thriller</th><th scope=col>genres_War</th><th scope=col>genres_Western</th><th scope=col>currency</th><th scope=col>budget_us</th><th scope=col>gross_2016</th><th scope=col>budget_2016</th><th scope=col>profit</th></tr></thead>\n",
       "<tbody>\n",
       "\t<tr><td>Color                                </td><td>Luc Besson                           </td><td>111                                  </td><td>158                                  </td><td>0                                    </td><td>   15                                </td><td>David Bailie                         </td><td>   51                                </td><td> 14131298                            </td><td>Adventure|Biography|Drama|History|War</td><td>...                                  </td><td>0                                    </td><td>0                                    </td><td>0                                    </td><td>1                                    </td><td>0                                    </td><td>FRA                                  </td><td> 65000000                            </td><td> 20360872                            </td><td> 93654288                            </td><td>-73293416                            </td></tr>\n",
       "\t<tr><td>Color                                </td><td>Sam Raimi                            </td><td>392                                  </td><td>156                                  </td><td>0                                    </td><td> 4000                                </td><td>James Franco                         </td><td>24000                                </td><td>336530303                            </td><td>Action|Adventure|Romance             </td><td>...                                  </td><td>0                                    </td><td>0                                    </td><td>0                                    </td><td>0                                    </td><td>0                                    </td><td>USA                                  </td><td>258000000                            </td><td>389547307                            </td><td>298645335                            </td><td> 90901972                            </td></tr>\n",
       "\t<tr><td>Color                                </td><td>Joss Whedon                          </td><td>635                                  </td><td>141                                  </td><td>0                                    </td><td>19000                                </td><td>Robert Downey Jr.                    </td><td>26000                                </td><td>458991599                            </td><td>Action|Adventure|Sci-Fi              </td><td>...                                  </td><td>0                                    </td><td>0                                    </td><td>0                                    </td><td>0                                    </td><td>0                                    </td><td>NA                                   </td><td>250000000                            </td><td>464782216                            </td><td>253153989                            </td><td>211628227                            </td></tr>\n",
       "\t<tr><td>Color                                </td><td>Zack Snyder                          </td><td>673                                  </td><td>183                                  </td><td>0                                    </td><td> 2000                                </td><td>Lauren Cohan                         </td><td>15000                                </td><td>330249062                            </td><td>Action|Adventure|Sci-Fi              </td><td>...                                  </td><td>0                                    </td><td>0                                    </td><td>0                                    </td><td>0                                    </td><td>0                                    </td><td>NA                                   </td><td>250000000                            </td><td>330249062                            </td><td>250000000                            </td><td> 80249062                            </td></tr>\n",
       "\t<tr><td>Color                                </td><td>Peter Jackson                        </td><td>422                                  </td><td>164                                  </td><td>0                                    </td><td>  773                                </td><td>Adam Brown                           </td><td> 5000                                </td><td>255108370                            </td><td>Adventure|Fantasy                    </td><td>...                                  </td><td>0                                    </td><td>0                                    </td><td>0                                    </td><td>0                                    </td><td>0                                    </td><td>USA                                  </td><td>250000000                            </td><td>258633276                            </td><td>253454322                            </td><td>  5178954                            </td></tr>\n",
       "\t<tr><td>Color                                </td><td>Sam Mendes                           </td><td>602                                  </td><td>148                                  </td><td>0                                    </td><td>  161                                </td><td>Rory Kinnear                         </td><td>11000                                </td><td>200074175                            </td><td>Action|Adventure|Thriller            </td><td>...                                  </td><td>0                                    </td><td>0                                    </td><td>1                                    </td><td>0                                    </td><td>0                                    </td><td>NA                                   </td><td>245000000                            </td><td>202598302                            </td><td>248090909                            </td><td>-45492607                            </td></tr>\n",
       "</tbody>\n",
       "</table>\n"
      ],
      "text/latex": [
       "\\begin{tabular}{r|lllllllllllllllllllllllllllllllllllllllllllllllllllllllllll}\n",
       " color & director\\_name & num\\_critic\\_for\\_reviews & duration & director\\_facebook\\_likes & actor\\_3\\_facebook\\_likes & actor\\_2\\_name & actor\\_1\\_facebook\\_likes & gross & genres & ... & genres\\_Short & genres\\_Sport & genres\\_Thriller & genres\\_War & genres\\_Western & currency & budget\\_us & gross\\_2016 & budget\\_2016 & profit\\\\\n",
       "\\hline\n",
       "\t Color                                                                         & Luc Besson                                                                    & 111                                                                           & 158                                                                           & 0                                                                             &    15                                                                         & David Bailie                                                                  &    51                                                                         &  14131298                                                                     & Adventure\\textbar{}Biography\\textbar{}Drama\\textbar{}History\\textbar{}War & ...                                                                           & 0                                                                             & 0                                                                             & 0                                                                             & 1                                                                             & 0                                                                             & FRA                                                                           &  65000000                                                                     &  20360872                                                                     &  93654288                                                                     & -73293416                                                                    \\\\\n",
       "\t Color                                                     & Sam Raimi                                                 & 392                                                       & 156                                                       & 0                                                         &  4000                                                     & James Franco                                              & 24000                                                     & 336530303                                                 & Action\\textbar{}Adventure\\textbar{}Romance              & ...                                                       & 0                                                         & 0                                                         & 0                                                         & 0                                                         & 0                                                         & USA                                                       & 258000000                                                 & 389547307                                                 & 298645335                                                 &  90901972                                                \\\\\n",
       "\t Color                                                     & Joss Whedon                                               & 635                                                       & 141                                                       & 0                                                         & 19000                                                     & Robert Downey Jr.                                         & 26000                                                     & 458991599                                                 & Action\\textbar{}Adventure\\textbar{}Sci-Fi               & ...                                                       & 0                                                         & 0                                                         & 0                                                         & 0                                                         & 0                                                         & NA                                                        & 250000000                                                 & 464782216                                                 & 253153989                                                 & 211628227                                                \\\\\n",
       "\t Color                                                     & Zack Snyder                                               & 673                                                       & 183                                                       & 0                                                         &  2000                                                     & Lauren Cohan                                              & 15000                                                     & 330249062                                                 & Action\\textbar{}Adventure\\textbar{}Sci-Fi               & ...                                                       & 0                                                         & 0                                                         & 0                                                         & 0                                                         & 0                                                         & NA                                                        & 250000000                                                 & 330249062                                                 & 250000000                                                 &  80249062                                                \\\\\n",
       "\t Color                                           & Peter Jackson                                   & 422                                             & 164                                             & 0                                               &   773                                           & Adam Brown                                      &  5000                                           & 255108370                                       & Adventure\\textbar{}Fantasy                     & ...                                             & 0                                               & 0                                               & 0                                               & 0                                               & 0                                               & USA                                             & 250000000                                       & 258633276                                       & 253454322                                       &   5178954                                      \\\\\n",
       "\t Color                                                     & Sam Mendes                                                & 602                                                       & 148                                                       & 0                                                         &   161                                                     & Rory Kinnear                                              & 11000                                                     & 200074175                                                 & Action\\textbar{}Adventure\\textbar{}Thriller             & ...                                                       & 0                                                         & 0                                                         & 1                                                         & 0                                                         & 0                                                         & NA                                                        & 245000000                                                 & 202598302                                                 & 248090909                                                 & -45492607                                                \\\\\n",
       "\\end{tabular}\n"
      ],
      "text/markdown": [
       "\n",
       "color | director_name | num_critic_for_reviews | duration | director_facebook_likes | actor_3_facebook_likes | actor_2_name | actor_1_facebook_likes | gross | genres | ... | genres_Short | genres_Sport | genres_Thriller | genres_War | genres_Western | currency | budget_us | gross_2016 | budget_2016 | profit | \n",
       "|---|---|---|---|---|---|\n",
       "| Color                                 | Luc Besson                            | 111                                   | 158                                   | 0                                     |    15                                 | David Bailie                          |    51                                 |  14131298                             | Adventure|Biography|Drama|History|War | ...                                   | 0                                     | 0                                     | 0                                     | 1                                     | 0                                     | FRA                                   |  65000000                             |  20360872                             |  93654288                             | -73293416                             | \n",
       "| Color                                 | Sam Raimi                             | 392                                   | 156                                   | 0                                     |  4000                                 | James Franco                          | 24000                                 | 336530303                             | Action|Adventure|Romance              | ...                                   | 0                                     | 0                                     | 0                                     | 0                                     | 0                                     | USA                                   | 258000000                             | 389547307                             | 298645335                             |  90901972                             | \n",
       "| Color                                 | Joss Whedon                           | 635                                   | 141                                   | 0                                     | 19000                                 | Robert Downey Jr.                     | 26000                                 | 458991599                             | Action|Adventure|Sci-Fi               | ...                                   | 0                                     | 0                                     | 0                                     | 0                                     | 0                                     | NA                                    | 250000000                             | 464782216                             | 253153989                             | 211628227                             | \n",
       "| Color                                 | Zack Snyder                           | 673                                   | 183                                   | 0                                     |  2000                                 | Lauren Cohan                          | 15000                                 | 330249062                             | Action|Adventure|Sci-Fi               | ...                                   | 0                                     | 0                                     | 0                                     | 0                                     | 0                                     | NA                                    | 250000000                             | 330249062                             | 250000000                             |  80249062                             | \n",
       "| Color                                 | Peter Jackson                         | 422                                   | 164                                   | 0                                     |   773                                 | Adam Brown                            |  5000                                 | 255108370                             | Adventure|Fantasy                     | ...                                   | 0                                     | 0                                     | 0                                     | 0                                     | 0                                     | USA                                   | 250000000                             | 258633276                             | 253454322                             |   5178954                             | \n",
       "| Color                                 | Sam Mendes                            | 602                                   | 148                                   | 0                                     |   161                                 | Rory Kinnear                          | 11000                                 | 200074175                             | Action|Adventure|Thriller             | ...                                   | 0                                     | 0                                     | 1                                     | 0                                     | 0                                     | NA                                    | 245000000                             | 202598302                             | 248090909                             | -45492607                             | \n",
       "\n",
       "\n"
      ],
      "text/plain": [
       "  color director_name num_critic_for_reviews duration director_facebook_likes\n",
       "1 Color Luc Besson    111                    158      0                      \n",
       "2 Color Sam Raimi     392                    156      0                      \n",
       "3 Color Joss Whedon   635                    141      0                      \n",
       "4 Color Zack Snyder   673                    183      0                      \n",
       "5 Color Peter Jackson 422                    164      0                      \n",
       "6 Color Sam Mendes    602                    148      0                      \n",
       "  actor_3_facebook_likes actor_2_name      actor_1_facebook_likes gross    \n",
       "1    15                  David Bailie         51                   14131298\n",
       "2  4000                  James Franco      24000                  336530303\n",
       "3 19000                  Robert Downey Jr. 26000                  458991599\n",
       "4  2000                  Lauren Cohan      15000                  330249062\n",
       "5   773                  Adam Brown         5000                  255108370\n",
       "6   161                  Rory Kinnear      11000                  200074175\n",
       "  genres                                ... genres_Short genres_Sport\n",
       "1 Adventure|Biography|Drama|History|War ... 0            0           \n",
       "2 Action|Adventure|Romance              ... 0            0           \n",
       "3 Action|Adventure|Sci-Fi               ... 0            0           \n",
       "4 Action|Adventure|Sci-Fi               ... 0            0           \n",
       "5 Adventure|Fantasy                     ... 0            0           \n",
       "6 Action|Adventure|Thriller             ... 0            0           \n",
       "  genres_Thriller genres_War genres_Western currency budget_us gross_2016\n",
       "1 0               1          0              FRA       65000000  20360872 \n",
       "2 0               0          0              USA      258000000 389547307 \n",
       "3 0               0          0              NA       250000000 464782216 \n",
       "4 0               0          0              NA       250000000 330249062 \n",
       "5 0               0          0              USA      250000000 258633276 \n",
       "6 1               0          0              NA       245000000 202598302 \n",
       "  budget_2016 profit   \n",
       "1  93654288   -73293416\n",
       "2 298645335    90901972\n",
       "3 253153989   211628227\n",
       "4 250000000    80249062\n",
       "5 253454322     5178954\n",
       "6 248090909   -45492607"
      ]
     },
     "metadata": {},
     "output_type": "display_data"
    }
   ],
   "source": [
    "head(movies[director_facebook_likes==0&budget_us>20000000])"
   ]
  },
  {
   "cell_type": "markdown",
   "metadata": {},
   "source": [
    "It is not normal that such famous director have zero like on Facebook. In fact, in a fast seach on Facebook, I found that Luc Besson have 108 022 like, Joss Whedon have 278 674 like and  Zack Snyder have 100 693 like. This fact make me doubt the validity of this variable or at least tell me that I shouldn't take the observation with a value of 0 as a sign of abscence of popularity. In consequence, I will label those observation as a missing observation."
   ]
  },
  {
   "cell_type": "code",
   "execution_count": 201,
   "metadata": {
    "collapsed": false
   },
   "outputs": [],
   "source": [
    "movies[director_facebook_likes==0,\"director_facebook_likes\"]<-NA"
   ]
  },
  {
   "cell_type": "code",
   "execution_count": 202,
   "metadata": {
    "collapsed": false
   },
   "outputs": [
    {
     "name": "stderr",
     "output_type": "stream",
     "text": [
      "Warning message:\n",
      "\"Ignoring 880 observations\""
     ]
    },
    {
     "data": {
      "text/html": [
       "<iframe src=\"plotlyJupyterHTML/e8e39beceb536dc154601fecf29005c8.html\" width=\"100%\" height=\"400\" id=\"igraph\" scrolling=\"no\" seamless=\"seamless\" frameBorder=\"0\"> </iframe>"
      ]
     },
     "metadata": {},
     "output_type": "display_data"
    }
   ],
   "source": [
    "hist_dir_fb_na <- plot_ly(x=~movies$director_facebook_likes,type=\"histogram\")%>%\n",
    "layout(title = 'Distribution of like on the Facebook page of the director',\n",
    "         xaxis = list(title = 'Number of like', zeroline = TRUE),\n",
    "         yaxis = list(title = 'Frequency')) \n",
    "embed_notebook(hist_dir_fb_na)"
   ]
  },
  {
   "cell_type": "markdown",
   "metadata": {},
   "source": [
    "Another interesting about this plot is that there's seems to exist a segmentation in the data, since there's exist a gap between the director who have less than 7000 like, those who have more than 10 000 likes and those with more than 20 000 like. I will use this fact to create 3 class of director when I will create my model.\n",
    "\n",
    "Now I put my attention on the principal actor of each movies."
   ]
  },
  {
   "cell_type": "code",
   "execution_count": 203,
   "metadata": {
    "collapsed": false
   },
   "outputs": [
    {
     "data": {
      "text/html": [
       "<dl class=dl-horizontal>\n",
       "\t<dt>Robert De Niro</dt>\n",
       "\t\t<dd>48</dd>\n",
       "\t<dt>Johnny Depp</dt>\n",
       "\t\t<dd>36</dd>\n",
       "\t<dt>Nicolas Cage</dt>\n",
       "\t\t<dd>32</dd>\n",
       "\t<dt>Denzel Washington</dt>\n",
       "\t\t<dd>29</dd>\n",
       "\t<dt>J.K. Simmons</dt>\n",
       "\t\t<dd>29</dd>\n",
       "\t<dt>Matt Damon</dt>\n",
       "\t\t<dd>29</dd>\n",
       "\t<dt>Bruce Willis</dt>\n",
       "\t\t<dd>28</dd>\n",
       "\t<dt>Harrison Ford</dt>\n",
       "\t\t<dd>27</dd>\n",
       "\t<dt>(Other)</dt>\n",
       "\t\t<dd>4552</dd>\n",
       "\t<dt>NA's</dt>\n",
       "\t\t<dd>7</dd>\n",
       "</dl>\n"
      ],
      "text/latex": [
       "\\begin{description*}\n",
       "\\item[Robert De Niro] 48\n",
       "\\item[Johnny Depp] 36\n",
       "\\item[Nicolas Cage] 32\n",
       "\\item[Denzel Washington] 29\n",
       "\\item[J.K. Simmons] 29\n",
       "\\item[Matt Damon] 29\n",
       "\\item[Bruce Willis] 28\n",
       "\\item[Harrison Ford] 27\n",
       "\\item[(Other)] 4552\n",
       "\\item[NA's] 7\n",
       "\\end{description*}\n"
      ],
      "text/markdown": [
       "Robert De Niro\n",
       ":   48Johnny Depp\n",
       ":   36Nicolas Cage\n",
       ":   32Denzel Washington\n",
       ":   29J.K. Simmons\n",
       ":   29Matt Damon\n",
       ":   29Bruce Willis\n",
       ":   28Harrison Ford\n",
       ":   27(Other)\n",
       ":   4552NA's\n",
       ":   7\n",
       "\n"
      ],
      "text/plain": [
       "   Robert De Niro       Johnny Depp      Nicolas Cage Denzel Washington \n",
       "               48                36                32                29 \n",
       "     J.K. Simmons        Matt Damon      Bruce Willis     Harrison Ford \n",
       "               29                29                28                27 \n",
       "          (Other)              NA's \n",
       "             4552                 7 "
      ]
     },
     "metadata": {},
     "output_type": "display_data"
    }
   ],
   "source": [
    "summary(movies$actor_1_name,maxsum=10)"
   ]
  },
  {
   "cell_type": "code",
   "execution_count": 204,
   "metadata": {
    "collapsed": false
   },
   "outputs": [],
   "source": [
    "actor1_count<-plyr::count(movies,'actor_1_name')\n",
    "actor1_count<-as.data.frame(actor1_count)\n",
    "#names(actor1_count)[names(actor1_count)==\"x\"]<-\"Name\"\n",
    "names(actor1_count)[names(actor1_count)==\"freq\"]<-\"Count\"\n",
    "actor1_count<-actor1_count[order(-actor1_count$Count),]"
   ]
  },
  {
   "cell_type": "code",
   "execution_count": 205,
   "metadata": {
    "collapsed": false
   },
   "outputs": [
    {
     "data": {
      "text/html": [
       "<table>\n",
       "<thead><tr><th></th><th scope=col>actor_1_name</th><th scope=col>Count</th></tr></thead>\n",
       "<tbody>\n",
       "\t<tr><th scope=row>1629</th><td>Robert De Niro   </td><td>48               </td></tr>\n",
       "\t<tr><th scope=row>957</th><td>Johnny Depp      </td><td>36               </td></tr>\n",
       "\t<tr><th scope=row>1439</th><td>Nicolas Cage     </td><td>32               </td></tr>\n",
       "\t<tr><th scope=row>475</th><td>Denzel Washington</td><td>29               </td></tr>\n",
       "\t<tr><th scope=row>765</th><td>J.K. Simmons     </td><td>29               </td></tr>\n",
       "\t<tr><th scope=row>1285</th><td>Matt Damon       </td><td>29               </td></tr>\n",
       "</tbody>\n",
       "</table>\n"
      ],
      "text/latex": [
       "\\begin{tabular}{r|ll}\n",
       "  & actor\\_1\\_name & Count\\\\\n",
       "\\hline\n",
       "\t1629 & Robert De Niro    & 48               \\\\\n",
       "\t957 & Johnny Depp       & 36               \\\\\n",
       "\t1439 & Nicolas Cage      & 32               \\\\\n",
       "\t475 & Denzel Washington & 29               \\\\\n",
       "\t765 & J.K. Simmons      & 29               \\\\\n",
       "\t1285 & Matt Damon        & 29               \\\\\n",
       "\\end{tabular}\n"
      ],
      "text/markdown": [
       "\n",
       "| <!--/--> | actor_1_name | Count | \n",
       "|---|---|---|---|---|---|\n",
       "| 1629 | Robert De Niro    | 48                | \n",
       "| 957 | Johnny Depp       | 36                | \n",
       "| 1439 | Nicolas Cage      | 32                | \n",
       "| 475 | Denzel Washington | 29                | \n",
       "| 765 | J.K. Simmons      | 29                | \n",
       "| 1285 | Matt Damon        | 29                | \n",
       "\n",
       "\n"
      ],
      "text/plain": [
       "     actor_1_name      Count\n",
       "1629 Robert De Niro    48   \n",
       "957  Johnny Depp       36   \n",
       "1439 Nicolas Cage      32   \n",
       "475  Denzel Washington 29   \n",
       "765  J.K. Simmons      29   \n",
       "1285 Matt Damon        29   "
      ]
     },
     "metadata": {},
     "output_type": "display_data"
    }
   ],
   "source": [
    "head(actor1_count[order(-actor1_count$Count),])"
   ]
  },
  {
   "cell_type": "code",
   "execution_count": 206,
   "metadata": {
    "collapsed": false
   },
   "outputs": [
    {
     "data": {
      "text/html": [
       "<iframe src=\"plotlyJupyterHTML/9b9b2da8ffb7d2cef84cd1c7bc0857ae.html\" width=\"100%\" height=\"400\" id=\"igraph\" scrolling=\"no\" seamless=\"seamless\" frameBorder=\"0\"> </iframe>"
      ]
     },
     "metadata": {},
     "output_type": "display_data"
    }
   ],
   "source": [
    "hist_actor <-  actor1_count %>%\n",
    "  dplyr::count(Count) %>%\n",
    "  plot_ly(x =~Count, y = ~n) %>% \n",
    "  add_bars()%>%\n",
    "layout(title = 'Distribution of the number of role play by actor',\n",
    "         xaxis = list(title = 'Number of role', zeroline = TRUE),\n",
    "         yaxis = list(title = 'Frequency'))\n",
    "\n",
    "embed_notebook(hist_actor)"
   ]
  },
  {
   "cell_type": "markdown",
   "metadata": {},
   "source": [
    "I'm also interested to know how gross revenue are associated to each actor. In the table, I calculate the mean gross revenu from the movie in which actor played and ploted the distribution of those amount."
   ]
  },
  {
   "cell_type": "code",
   "execution_count": 207,
   "metadata": {
    "collapsed": false
   },
   "outputs": [
    {
     "data": {
      "text/html": [
       "<table>\n",
       "<thead><tr><th scope=col>actor_1_name</th><th scope=col>mean_gross</th></tr></thead>\n",
       "<tbody>\n",
       "\t<tr><td>50 Cent       </td><td> 30981850     </td></tr>\n",
       "\t<tr><td>A.J. Buckley  </td><td>123070338     </td></tr>\n",
       "\t<tr><td>Ã“scar Jaenada</td><td> 54257433     </td></tr>\n",
       "\t<tr><td>Ãlex Angulo  </td><td>        0     </td></tr>\n",
       "\t<tr><td>Aaliyah       </td><td> 30307804     </td></tr>\n",
       "\t<tr><td>Aasif Mandvi  </td><td> 13214030     </td></tr>\n",
       "</tbody>\n",
       "</table>\n"
      ],
      "text/latex": [
       "\\begin{tabular}{r|ll}\n",
       " actor\\_1\\_name & mean\\_gross\\\\\n",
       "\\hline\n",
       "\t 50 Cent        &  30981850     \\\\\n",
       "\t A.J. Buckley   & 123070338     \\\\\n",
       "\t Ã“scar Jaenada &  54257433     \\\\\n",
       "\t Ãlex Angulo   &         0     \\\\\n",
       "\t Aaliyah        &  30307804     \\\\\n",
       "\t Aasif Mandvi   &  13214030     \\\\\n",
       "\\end{tabular}\n"
      ],
      "text/markdown": [
       "\n",
       "actor_1_name | mean_gross | \n",
       "|---|---|---|---|---|---|\n",
       "| 50 Cent        |  30981850      | \n",
       "| A.J. Buckley   | 123070338      | \n",
       "| Ã“scar Jaenada |  54257433      | \n",
       "| Ãlex Angulo   |         0      | \n",
       "| Aaliyah        |  30307804      | \n",
       "| Aasif Mandvi   |  13214030      | \n",
       "\n",
       "\n"
      ],
      "text/plain": [
       "  actor_1_name   mean_gross\n",
       "1 50 Cent         30981850 \n",
       "2 A.J. Buckley   123070338 \n",
       "3 Ãscar Jaenada  54257433 \n",
       "4 Ãlex Angulo           0 \n",
       "5 Aaliyah         30307804 \n",
       "6 Aasif Mandvi    13214030 "
      ]
     },
     "metadata": {},
     "output_type": "display_data"
    }
   ],
   "source": [
    "actor1_mean_gross<-movies %>%\n",
    "group_by(actor_1_name)%>%\n",
    "summarise(mean_gross=mean(gross))\n",
    "actor1_mean_gross<-as.data.table(actor1_mean_gross)\n",
    "head(actor1_mean_gross)"
   ]
  },
  {
   "cell_type": "code",
   "execution_count": 208,
   "metadata": {
    "collapsed": false
   },
   "outputs": [
    {
     "name": "stderr",
     "output_type": "stream",
     "text": [
      "Warning message:\n",
      "\"Ignoring 343 observations\""
     ]
    },
    {
     "data": {
      "text/html": [
       "<iframe src=\"plotlyJupyterHTML/4fa25e3b1c4dc6c367d2291078a8569c.html\" width=\"100%\" height=\"400\" id=\"igraph\" scrolling=\"no\" seamless=\"seamless\" frameBorder=\"0\"> </iframe>"
      ]
     },
     "metadata": {},
     "output_type": "display_data"
    }
   ],
   "source": [
    "hist_mean_gross_actor <-  \n",
    "  plot_ly( actor1_mean_gross,x =~mean_gross,type=\"histogram\") \n",
    "embed_notebook(hist_mean_gross_actor)"
   ]
  },
  {
   "cell_type": "markdown",
   "metadata": {},
   "source": [
    "Like for director, we can have a sense of the popularity of the actor via the \"actor_1_facebook_likes\" variable."
   ]
  },
  {
   "cell_type": "code",
   "execution_count": 209,
   "metadata": {
    "collapsed": false
   },
   "outputs": [
    {
     "data": {
      "text/plain": [
       "   Min. 1st Qu.  Median    Mean 3rd Qu.    Max.    NA's \n",
       "      0     611     989    6598   11000  640000       7 "
      ]
     },
     "metadata": {},
     "output_type": "display_data"
    }
   ],
   "source": [
    "summary(movies$actor_1_facebook_likes)"
   ]
  },
  {
   "cell_type": "code",
   "execution_count": 210,
   "metadata": {
    "collapsed": false
   },
   "outputs": [
    {
     "name": "stderr",
     "output_type": "stream",
     "text": [
      "Warning message:\n",
      "\"Ignoring 7 observations\""
     ]
    },
    {
     "data": {
      "text/html": [
       "<iframe src=\"plotlyJupyterHTML/3038429739625916f830c976dd24dcfb.html\" width=\"100%\" height=\"400\" id=\"igraph\" scrolling=\"no\" seamless=\"seamless\" frameBorder=\"0\"> </iframe>"
      ]
     },
     "metadata": {},
     "output_type": "display_data"
    }
   ],
   "source": [
    "hist_fb_actor1 <-  plot_ly(movies,x =~actor_1_facebook_likes,type=\"histogram\") \n",
    "embed_notebook(hist_fb_actor1)"
   ]
  },
  {
   "cell_type": "markdown",
   "metadata": {},
   "source": [
    "In that plot, the number of actor with less that a thousand like on Facebook seems to be over represented. Let's look at those data more in detail."
   ]
  },
  {
   "cell_type": "code",
   "execution_count": 211,
   "metadata": {
    "collapsed": false
   },
   "outputs": [
    {
     "data": {
      "text/html": [
       "26910482.159292"
      ],
      "text/latex": [
       "26910482.159292"
      ],
      "text/markdown": [
       "26910482.159292"
      ],
      "text/plain": [
       "[1] 26910482"
      ]
     },
     "metadata": {},
     "output_type": "display_data"
    },
    {
     "data": {
      "text/html": [
       "<ol class=list-inline>\n",
       "\t<li>Doona Bae</li>\n",
       "\t<li>Min-sik Choi</li>\n",
       "\t<li>Marcell Nagy</li>\n",
       "\t<li>Minnie Driver</li>\n",
       "\t<li>William Hootkins</li>\n",
       "\t<li>Mitsuo Iwata</li>\n",
       "\t<li>Hiroshi Abe</li>\n",
       "\t<li>MÃ­a Maestro</li>\n",
       "\t<li>BÃ¡rbara Mori</li>\n",
       "\t<li>Takeshi Kaneshiro</li>\n",
       "</ol>\n"
      ],
      "text/latex": [
       "\\begin{enumerate*}\n",
       "\\item Doona Bae\n",
       "\\item Min-sik Choi\n",
       "\\item Marcell Nagy\n",
       "\\item Minnie Driver\n",
       "\\item William Hootkins\n",
       "\\item Mitsuo Iwata\n",
       "\\item Hiroshi Abe\n",
       "\\item MÃ­a Maestro\n",
       "\\item BÃ¡rbara Mori\n",
       "\\item Takeshi Kaneshiro\n",
       "\\end{enumerate*}\n"
      ],
      "text/markdown": [
       "1. Doona Bae\n",
       "2. Min-sik Choi\n",
       "3. Marcell Nagy\n",
       "4. Minnie Driver\n",
       "5. William Hootkins\n",
       "6. Mitsuo Iwata\n",
       "7. Hiroshi Abe\n",
       "8. MÃ­a Maestro\n",
       "9. BÃ¡rbara Mori\n",
       "10. Takeshi Kaneshiro\n",
       "\n",
       "\n"
      ],
      "text/plain": [
       " [1] Doona Bae         Min-sik Choi      Marcell Nagy      Minnie Driver    \n",
       " [5] William Hootkins  Mitsuo Iwata      Hiroshi Abe       MÃ­a Maestro     \n",
       " [9] BÃ¡rbara Mori     Takeshi Kaneshiro\n",
       "2045 Levels: 50 Cent A.J. Buckley Ãscar Jaenada Ãlex Angulo ... Zuhair Haddad"
      ]
     },
     "metadata": {},
     "output_type": "display_data"
    },
    {
     "data": {
      "text/html": [
       "<ol class=list-inline>\n",
       "\t<li>South Korea</li>\n",
       "\t<li>Hungary</li>\n",
       "\t<li>Japan</li>\n",
       "\t<li>Spain</li>\n",
       "\t<li>India</li>\n",
       "\t<li>China</li>\n",
       "\t<li>Thailand</li>\n",
       "\t<li>France</li>\n",
       "\t<li>USA</li>\n",
       "\t<li>UK</li>\n",
       "\t<li>Australia</li>\n",
       "\t<li>Germany</li>\n",
       "\t<li>New Line</li>\n",
       "\t<li>Czech Republic</li>\n",
       "\t<li>Canada</li>\n",
       "\t<li>Norway</li>\n",
       "\t<li>Italy</li>\n",
       "\t<li>New Zealand</li>\n",
       "\t<li>Denmark</li>\n",
       "\t<li>Hong Kong</li>\n",
       "\t<li>Belgium</li>\n",
       "\t<li>Aruba</li>\n",
       "\t<li>Libya</li>\n",
       "\t<li>Mexico</li>\n",
       "\t<li>Switzerland</li>\n",
       "\t<li>Russia</li>\n",
       "\t<li>Ireland</li>\n",
       "\t<li>West Germany</li>\n",
       "\t<li>Chile</li>\n",
       "\t<li>Sweden</li>\n",
       "\t<li>Georgia</li>\n",
       "\t<li>Netherlands</li>\n",
       "\t<li>Taiwan</li>\n",
       "\t<li>South Africa</li>\n",
       "\t<li>Iceland</li>\n",
       "\t<li>Turkey</li>\n",
       "\t<li>Brazil</li>\n",
       "\t<li>Nigeria</li>\n",
       "\t<li>Romania</li>\n",
       "\t<li>Finland</li>\n",
       "\t<li>NA</li>\n",
       "\t<li>Colombia</li>\n",
       "\t<li>Poland</li>\n",
       "\t<li>Argentina</li>\n",
       "\t<li>Israel</li>\n",
       "\t<li>Egypt</li>\n",
       "\t<li>Kyrgyzstan</li>\n",
       "\t<li>Soviet Union</li>\n",
       "\t<li>Pakistan</li>\n",
       "\t<li>Iran</li>\n",
       "\t<li>Slovenia</li>\n",
       "\t<li>Dominican Republic</li>\n",
       "\t<li>Afghanistan</li>\n",
       "\t<li>Kenya</li>\n",
       "\t<li>Philippines</li>\n",
       "\t<li>Cambodia</li>\n",
       "\t<li>Slovakia</li>\n",
       "\t<li>Greece</li>\n",
       "\t<li>Cameroon</li>\n",
       "</ol>\n"
      ],
      "text/latex": [
       "\\begin{enumerate*}\n",
       "\\item South Korea\n",
       "\\item Hungary\n",
       "\\item Japan\n",
       "\\item Spain\n",
       "\\item India\n",
       "\\item China\n",
       "\\item Thailand\n",
       "\\item France\n",
       "\\item USA\n",
       "\\item UK\n",
       "\\item Australia\n",
       "\\item Germany\n",
       "\\item New Line\n",
       "\\item Czech Republic\n",
       "\\item Canada\n",
       "\\item Norway\n",
       "\\item Italy\n",
       "\\item New Zealand\n",
       "\\item Denmark\n",
       "\\item Hong Kong\n",
       "\\item Belgium\n",
       "\\item Aruba\n",
       "\\item Libya\n",
       "\\item Mexico\n",
       "\\item Switzerland\n",
       "\\item Russia\n",
       "\\item Ireland\n",
       "\\item West Germany\n",
       "\\item Chile\n",
       "\\item Sweden\n",
       "\\item Georgia\n",
       "\\item Netherlands\n",
       "\\item Taiwan\n",
       "\\item South Africa\n",
       "\\item Iceland\n",
       "\\item Turkey\n",
       "\\item Brazil\n",
       "\\item Nigeria\n",
       "\\item Romania\n",
       "\\item Finland\n",
       "\\item NA\n",
       "\\item Colombia\n",
       "\\item Poland\n",
       "\\item Argentina\n",
       "\\item Israel\n",
       "\\item Egypt\n",
       "\\item Kyrgyzstan\n",
       "\\item Soviet Union\n",
       "\\item Pakistan\n",
       "\\item Iran\n",
       "\\item Slovenia\n",
       "\\item Dominican Republic\n",
       "\\item Afghanistan\n",
       "\\item Kenya\n",
       "\\item Philippines\n",
       "\\item Cambodia\n",
       "\\item Slovakia\n",
       "\\item Greece\n",
       "\\item Cameroon\n",
       "\\end{enumerate*}\n"
      ],
      "text/markdown": [
       "1. South Korea\n",
       "2. Hungary\n",
       "3. Japan\n",
       "4. Spain\n",
       "5. India\n",
       "6. China\n",
       "7. Thailand\n",
       "8. France\n",
       "9. USA\n",
       "10. UK\n",
       "11. Australia\n",
       "12. Germany\n",
       "13. New Line\n",
       "14. Czech Republic\n",
       "15. Canada\n",
       "16. Norway\n",
       "17. Italy\n",
       "18. New Zealand\n",
       "19. Denmark\n",
       "20. Hong Kong\n",
       "21. Belgium\n",
       "22. Aruba\n",
       "23. Libya\n",
       "24. Mexico\n",
       "25. Switzerland\n",
       "26. Russia\n",
       "27. Ireland\n",
       "28. West Germany\n",
       "29. Chile\n",
       "30. Sweden\n",
       "31. Georgia\n",
       "32. Netherlands\n",
       "33. Taiwan\n",
       "34. South Africa\n",
       "35. Iceland\n",
       "36. Turkey\n",
       "37. Brazil\n",
       "38. Nigeria\n",
       "39. Romania\n",
       "40. Finland\n",
       "41. NA\n",
       "42. Colombia\n",
       "43. Poland\n",
       "44. Argentina\n",
       "45. Israel\n",
       "46. Egypt\n",
       "47. Kyrgyzstan\n",
       "48. Soviet Union\n",
       "49. Pakistan\n",
       "50. Iran\n",
       "51. Slovenia\n",
       "52. Dominican Republic\n",
       "53. Afghanistan\n",
       "54. Kenya\n",
       "55. Philippines\n",
       "56. Cambodia\n",
       "57. Slovakia\n",
       "58. Greece\n",
       "59. Cameroon\n",
       "\n",
       "\n"
      ],
      "text/plain": [
       " [1] South Korea        Hungary            Japan              Spain             \n",
       " [5] India              China              Thailand           France            \n",
       " [9] USA                UK                 Australia          Germany           \n",
       "[13] New Line           Czech Republic     Canada             Norway            \n",
       "[17] Italy              New Zealand        Denmark            Hong Kong         \n",
       "[21] Belgium            Aruba              Libya              Mexico            \n",
       "[25] Switzerland        Russia             Ireland            West Germany      \n",
       "[29] Chile              Sweden             Georgia            Netherlands       \n",
       "[33] Taiwan             South Africa       Iceland            Turkey            \n",
       "[37] Brazil             Nigeria            Romania            Finland           \n",
       "[41] <NA>               Colombia           Poland             Argentina         \n",
       "[45] Israel             Egypt              Kyrgyzstan         Soviet Union      \n",
       "[49] Pakistan           Iran               Slovenia           Dominican Republic\n",
       "[53] Afghanistan        Kenya              Philippines        Cambodia          \n",
       "[57] Slovakia           Greece             Cameroon          \n",
       "65 Levels: Afghanistan Argentina Aruba Australia Bahamas Belgium ... West Germany"
      ]
     },
     "metadata": {},
     "output_type": "display_data"
    }
   ],
   "source": [
    "mean(movies[actor_1_facebook_likes<1000,gross],na.rm=TRUE)\n",
    "head(movies[actor_1_facebook_likes<1000,actor_1_name],n=10)\n",
    "unique(movies[actor_1_facebook_likes<1000,country])"
   ]
  },
  {
   "cell_type": "markdown",
   "metadata": {},
   "source": [
    "We can see that the majority of actor with less than 1000 like played in low profile movies or come from a foreign country were Facebook not as used than in North America. Those two factor can deflate the number of Facebook like of an actor but that show that this variable seems indicate the popularity of an actor well. \n",
    "\n",
    "To see if I should treat the observations with a value of zero like a missing value, I look at the name of the actor to spot some irregularity."
   ]
  },
  {
   "cell_type": "code",
   "execution_count": 212,
   "metadata": {
    "collapsed": false
   },
   "outputs": [
    {
     "data": {
      "text/html": [
       "25"
      ],
      "text/latex": [
       "25"
      ],
      "text/markdown": [
       "25"
      ],
      "text/plain": [
       "[1] 25"
      ]
     },
     "metadata": {},
     "output_type": "display_data"
    },
    {
     "data": {
      "text/html": [
       "<ol class=list-inline>\n",
       "\t<li>Robert Redford</li>\n",
       "\t<li>Tshewang Dendup</li>\n",
       "\t<li>Lee Scott</li>\n",
       "\t<li>Elina Abai Kyzy</li>\n",
       "\t<li>Stana Roumillac</li>\n",
       "\t<li>Karen Alexander</li>\n",
       "\t<li>Bhole Baba</li>\n",
       "\t<li>Dario Nozic Serini</li>\n",
       "\t<li>Heather Berman</li>\n",
       "\t<li>Elizabeth Streb</li>\n",
       "\t<li>Aliou TourÃ©</li>\n",
       "\t<li>Sam Adams</li>\n",
       "\t<li>Abigail Evans</li>\n",
       "\t<li>Iulia Ciochina</li>\n",
       "\t<li>Naderev Sano</li>\n",
       "\t<li>Ariel Hsing</li>\n",
       "\t<li>Jonathan Blow</li>\n",
       "\t<li>Chemeeka Walker</li>\n",
       "\t<li>Chris 'Wonder' Schoeck</li>\n",
       "\t<li>Don Brooks</li>\n",
       "\t<li>Ian Gamazon</li>\n",
       "\t<li>Eva Boehnke</li>\n",
       "\t<li>Ami Ayalon</li>\n",
       "\t<li>Carol Block</li>\n",
       "\t<li>Hanne Aagesen</li>\n",
       "</ol>\n"
      ],
      "text/latex": [
       "\\begin{enumerate*}\n",
       "\\item Robert Redford\n",
       "\\item Tshewang Dendup\n",
       "\\item Lee Scott\n",
       "\\item Elina Abai Kyzy\n",
       "\\item Stana Roumillac\n",
       "\\item Karen Alexander\n",
       "\\item Bhole Baba\n",
       "\\item Dario Nozic Serini\n",
       "\\item Heather Berman\n",
       "\\item Elizabeth Streb\n",
       "\\item Aliou TourÃ©\n",
       "\\item Sam Adams\n",
       "\\item Abigail Evans\n",
       "\\item Iulia Ciochina\n",
       "\\item Naderev Sano\n",
       "\\item Ariel Hsing\n",
       "\\item Jonathan Blow\n",
       "\\item Chemeeka Walker\n",
       "\\item Chris 'Wonder' Schoeck\n",
       "\\item Don Brooks\n",
       "\\item Ian Gamazon\n",
       "\\item Eva Boehnke\n",
       "\\item Ami Ayalon\n",
       "\\item Carol Block\n",
       "\\item Hanne Aagesen\n",
       "\\end{enumerate*}\n"
      ],
      "text/markdown": [
       "1. Robert Redford\n",
       "2. Tshewang Dendup\n",
       "3. Lee Scott\n",
       "4. Elina Abai Kyzy\n",
       "5. Stana Roumillac\n",
       "6. Karen Alexander\n",
       "7. Bhole Baba\n",
       "8. Dario Nozic Serini\n",
       "9. Heather Berman\n",
       "10. Elizabeth Streb\n",
       "11. Aliou TourÃ©\n",
       "12. Sam Adams\n",
       "13. Abigail Evans\n",
       "14. Iulia Ciochina\n",
       "15. Naderev Sano\n",
       "16. Ariel Hsing\n",
       "17. Jonathan Blow\n",
       "18. Chemeeka Walker\n",
       "19. Chris 'Wonder' Schoeck\n",
       "20. Don Brooks\n",
       "21. Ian Gamazon\n",
       "22. Eva Boehnke\n",
       "23. Ami Ayalon\n",
       "24. Carol Block\n",
       "25. Hanne Aagesen\n",
       "\n",
       "\n"
      ],
      "text/plain": [
       " [1] Robert Redford         Tshewang Dendup        Lee Scott             \n",
       " [4] Elina Abai Kyzy        Stana Roumillac        Karen Alexander       \n",
       " [7] Bhole Baba             Dario Nozic Serini     Heather Berman        \n",
       "[10] Elizabeth Streb        Aliou TourÃ©           Sam Adams             \n",
       "[13] Abigail Evans          Iulia Ciochina         Naderev Sano          \n",
       "[16] Ariel Hsing            Jonathan Blow          Chemeeka Walker       \n",
       "[19] Chris 'Wonder' Schoeck Don Brooks             Ian Gamazon           \n",
       "[22] Eva Boehnke            Ami Ayalon             Carol Block           \n",
       "[25] Hanne Aagesen         \n",
       "2045 Levels: 50 Cent A.J. Buckley Ãscar Jaenada Ãlex Angulo ... Zuhair Haddad"
      ]
     },
     "metadata": {},
     "output_type": "display_data"
    }
   ],
   "source": [
    "nrow(movies[actor_1_facebook_likes==0])\n",
    "movies[actor_1_facebook_likes==0,actor_1_name]"
   ]
  },
  {
   "cell_type": "markdown",
   "metadata": {
    "collapsed": true
   },
   "source": [
    "We can see that the majority of those actor are less known actor or actor with a small Facebook presence, soo I'll keep those data like they are. The only exception is Robert Redford and I correct the value in the table."
   ]
  },
  {
   "cell_type": "code",
   "execution_count": 213,
   "metadata": {
    "collapsed": false
   },
   "outputs": [
    {
     "data": {
      "text/html": [
       "<table>\n",
       "<thead><tr><th scope=col>color</th><th scope=col>director_name</th><th scope=col>num_critic_for_reviews</th><th scope=col>duration</th><th scope=col>director_facebook_likes</th><th scope=col>actor_3_facebook_likes</th><th scope=col>actor_2_name</th><th scope=col>actor_1_facebook_likes</th><th scope=col>gross</th><th scope=col>genres</th><th scope=col>...</th><th scope=col>genres_Short</th><th scope=col>genres_Sport</th><th scope=col>genres_Thriller</th><th scope=col>genres_War</th><th scope=col>genres_Western</th><th scope=col>currency</th><th scope=col>budget_us</th><th scope=col>gross_2016</th><th scope=col>budget_2016</th><th scope=col>profit</th></tr></thead>\n",
       "<tbody>\n",
       "\t<tr><td>Color                                                    </td><td>Joon-ho Bong                                             </td><td>363                                                      </td><td>110                                                      </td><td>  584                                                    </td><td>   74                                                    </td><td>Kang-ho Song                                             </td><td>  629                                                    </td><td>  2201412                                                </td><td>Comedy|Drama|Horror|Sci-Fi                               </td><td>...                                                      </td><td>0                                                        </td><td>0                                                        </td><td>0                                                        </td><td>0                                                        </td><td>0                                                        </td><td>KOR                                                      </td><td> 12793905                                                </td><td>  2620914.8                                              </td><td> 15231922                                                </td><td> -12611007                                               </td></tr>\n",
       "\t<tr><td>Color                                                    </td><td>Chan-wook Park                                           </td><td>202                                                      </td><td>112                                                      </td><td>   NA                                                    </td><td>   38                                                    </td><td>Yeong-ae Lee                                             </td><td>  717                                                    </td><td>   211667                                                </td><td>Crime|Drama                                              </td><td>...                                                      </td><td>0                                                        </td><td>0                                                        </td><td>0                                                        </td><td>0                                                        </td><td>0                                                        </td><td>KOR                                                      </td><td>  4101095                                                </td><td>   260131.9                                              </td><td>  5040113                                                </td><td>  -4779981                                               </td></tr>\n",
       "\t<tr><td>Color                                                    </td><td>Lajos Koltai                                             </td><td> 73                                                      </td><td>134                                                      </td><td>   45                                                    </td><td>    0                                                    </td><td>PÃ©ter Fancsikai                                         </td><td>    9                                                    </td><td>   195888                                                </td><td>Drama|Romance|War                                        </td><td>...                                                      </td><td>0                                                        </td><td>0                                                        </td><td>0                                                        </td><td>1                                                        </td><td>0                                                        </td><td>HUN                                                      </td><td> 12526148                                                </td><td>   240740.0                                              </td><td> 15394231                                                </td><td> -15153491                                               </td></tr>\n",
       "\t<tr><td>Color                                                    </td><td>Hayao Miyazaki                                           </td><td>174                                                      </td><td>134                                                      </td><td> 6000                                                    </td><td>  745                                                    </td><td>Jada Pinkett Smith                                       </td><td>  893                                                    </td><td>  2298191                                                </td><td>Adventure|Animation|Fantasy                              </td><td>...                                                      </td><td>0                                                        </td><td>0                                                        </td><td>0                                                        </td><td>0                                                        </td><td>0                                                        </td><td>JPN                                                      </td><td> 19836208                                                </td><td>  3436293.2                                              </td><td> 29659426                                                </td><td> -26223133                                               </td></tr>\n",
       "\t<tr><td>Color                                                    </td><td>Katsuhiro Ã”tomo                                         </td><td>105                                                      </td><td>103                                                      </td><td>   78                                                    </td><td>  101                                                    </td><td>Robin Atkin Downes                                       </td><td>  488                                                    </td><td>   410388                                                </td><td>Action|Adventure|Animation|Family|Sci-Fi|Thriller        </td><td>...                                                      </td><td>0                                                        </td><td>0                                                        </td><td>1                                                        </td><td>0                                                        </td><td>0                                                        </td><td>JPN                                                      </td><td> 19664196                                                </td><td>   521465.0                                              </td><td> 24986575                                                </td><td> -24465109                                               </td></tr>\n",
       "\t<tr><td>Color                                                    </td><td>Katsuhiro Ã”tomo                                         </td><td>150                                                      </td><td>124                                                      </td><td>   78                                                    </td><td>    4                                                    </td><td>Takeshi Kusao                                            </td><td>    6                                                    </td><td>   439162                                                </td><td>Action|Animation|Sci-Fi                                  </td><td>...                                                      </td><td>0                                                        </td><td>0                                                        </td><td>0                                                        </td><td>0                                                        </td><td>0                                                        </td><td>JPN                                                      </td><td>  8583579                                                </td><td>   891286.1                                              </td><td> 17420507                                                </td><td> -16529221                                               </td></tr>\n",
       "\t<tr><td>Color                                                    </td><td>Takao Okawara                                            </td><td>107                                                      </td><td> 99                                                      </td><td>    2                                                    </td><td>    3                                                    </td><td>Naomi Nishida                                            </td><td>   43                                                    </td><td> 10037390                                                </td><td>Action|Adventure|Drama|Sci-Fi|Thriller                   </td><td>...                                                      </td><td>0                                                        </td><td>0                                                        </td><td>1                                                        </td><td>0                                                        </td><td>0                                                        </td><td>JPN                                                      </td><td>  8779106                                                </td><td> 14462224.8                                              </td><td> 12649245                                                </td><td>   1812980                                               </td></tr>\n",
       "\t<tr><td>Color                                                    </td><td>Karan Johar                                              </td><td> 20                                                      </td><td>193                                                      </td><td>  160                                                    </td><td>  860                                                    </td><td>John Abraham                                             </td><td> 8000                                                    </td><td>  3275443                                                </td><td>Drama                                                    </td><td>...                                                      </td><td>0                                                        </td><td>0                                                        </td><td>0                                                        </td><td>0                                                        </td><td>0                                                        </td><td>IND                                                      </td><td> 15450148                                                </td><td>  3899614.0                                              </td><td> 18394340                                                </td><td> -14494726                                               </td></tr>\n",
       "\t<tr><td>Color                                                    </td><td>Carlos Saura                                             </td><td> 35                                                      </td><td>115                                                      </td><td>   98                                                    </td><td>    4                                                    </td><td>Juan Luis Galiardo                                       </td><td>  341                                                    </td><td>  1687311                                                </td><td>Drama|Musical                                            </td><td>...                                                      </td><td>0                                                        </td><td>0                                                        </td><td>0                                                        </td><td>0                                                        </td><td>0                                                        </td><td>ESP                                                      </td><td>  4604024                                                </td><td>  2484331.4                                              </td><td>  6778787                                                </td><td>  -4294455                                               </td></tr>\n",
       "\t<tr><td>Color                                                    </td><td>Anurag Basu                                              </td><td> 41                                                      </td><td> 90                                                      </td><td>  116                                                    </td><td>  303                                                    </td><td>Steven Michael Quezada                                   </td><td>  594                                                    </td><td>  1602466                                                </td><td>Action|Drama|Romance|Thriller                            </td><td>...                                                      </td><td>0                                                        </td><td>0                                                        </td><td>1                                                        </td><td>0                                                        </td><td>0                                                        </td><td>IND                                                      </td><td> 13121691                                                </td><td>  1763786.3                                              </td><td> 14442652                                                </td><td> -12678865                                               </td></tr>\n",
       "\t<tr><td>Color                                                    </td><td>John Woo                                                 </td><td>160                                                      </td><td>150                                                      </td><td>  610                                                    </td><td>  478                                                    </td><td>Tony Chiu Wai Leung                                      </td><td>  755                                                    </td><td>   626809                                                </td><td>Action|Adventure|Drama|History|War                       </td><td>...                                                      </td><td>0                                                        </td><td>0                                                        </td><td>0                                                        </td><td>1                                                        </td><td>0                                                        </td><td>CHN                                                      </td><td> 79674699                                                </td><td>   698731.5                                              </td><td> 88816882                                                </td><td> -88118150                                               </td></tr>\n",
       "\t<tr><td>Color                                                    </td><td>Chatrichalerm Yukol                                      </td><td> 31                                                      </td><td>300                                                      </td><td>    6                                                    </td><td>    6                                                    </td><td>Chatchai Plengpanich                                     </td><td>    7                                                    </td><td>   454255                                                </td><td>Action|Adventure|Drama|History|War                       </td><td>...                                                      </td><td>0                                                        </td><td>0                                                        </td><td>0                                                        </td><td>1                                                        </td><td>0                                                        </td><td>THA                                                      </td><td>  9134505                                                </td><td>   615725.4                                              </td><td> 12381475                                                </td><td> -11765749                                               </td></tr>\n",
       "\t<tr><td>Color                                                    </td><td>Luc Besson                                               </td><td>111                                                      </td><td>158                                                      </td><td>   NA                                                    </td><td>   15                                                    </td><td>David Bailie                                             </td><td>   51                                                    </td><td> 14131298                                                </td><td>Adventure|Biography|Drama|History|War                    </td><td>...                                                      </td><td>0                                                        </td><td>0                                                        </td><td>0                                                        </td><td>1                                                        </td><td>0                                                        </td><td>FRA                                                      </td><td> 65000000                                                </td><td> 20360871.5                                              </td><td> 93654288                                                </td><td> -73293416                                               </td></tr>\n",
       "\t<tr><td>Color                                                    </td><td>Gore Verbinski                                           </td><td>302                                                      </td><td>169                                                      </td><td>  563                                                    </td><td> 1000                                                    </td><td>Orlando Bloom                                            </td><td>40000                                                    </td><td>309404152                                                </td><td>Action|Adventure|Fantasy                                 </td><td>...                                                      </td><td>0                                                        </td><td>0                                                        </td><td>0                                                        </td><td>0                                                        </td><td>0                                                        </td><td>NA                                                       </td><td>300000000                                                </td><td>358147700.4                                              </td><td>347262018                                                </td><td>  10885683                                               </td></tr>\n",
       "\t<tr><td>Color                                                    </td><td>Tony Jaa                                                 </td><td>110                                                      </td><td>110                                                      </td><td>   NA                                                    </td><td>    7                                                    </td><td>Petchtai Wongkamlao                                      </td><td>   64                                                    </td><td>   102055                                                </td><td>Action                                                   </td><td>...                                                      </td><td>0                                                        </td><td>0                                                        </td><td>0                                                        </td><td>0                                                        </td><td>0                                                        </td><td>THA                                                      </td><td>  8522146                                                </td><td>   113765.2                                              </td><td>  9500010                                                </td><td>  -9386245                                               </td></tr>\n",
       "\t<tr><td>Color                                                    </td><td>Andrew Stanton                                           </td><td>462                                                      </td><td>132                                                      </td><td>  475                                                    </td><td>  530                                                    </td><td>Samantha Morton                                          </td><td>  640                                                    </td><td> 73058679                                                </td><td>Action|Adventure|Sci-Fi                                  </td><td>...                                                      </td><td>0                                                        </td><td>0                                                        </td><td>0                                                        </td><td>0                                                        </td><td>0                                                        </td><td>NA                                                       </td><td>263700000                                                </td><td> 76372258.2                                              </td><td>275660124                                                </td><td>-199287865                                               </td></tr>\n",
       "\t<tr><td>Color                                                    </td><td>Nathan Greno                                             </td><td>324                                                      </td><td>100                                                      </td><td>   15                                                    </td><td>  284                                                    </td><td>Donna Murphy                                             </td><td>  799                                                    </td><td>200807262                                                </td><td>Adventure|Animation|Comedy|Family|Fantasy|Musical|Romance</td><td>...                                                      </td><td>0                                                        </td><td>0                                                        </td><td>0                                                        </td><td>0                                                        </td><td>0                                                        </td><td>NA                                                       </td><td>260000000                                                </td><td>221022529.1                                              </td><td>286174200                                                </td><td> -65151671                                               </td></tr>\n",
       "\t<tr><td>Color                                                    </td><td>Sam Raimi                                                </td><td>392                                                      </td><td>156                                                      </td><td>   NA                                                    </td><td> 4000                                                    </td><td>James Franco                                             </td><td>24000                                                    </td><td>336530303                                                </td><td>Action|Adventure|Romance                                 </td><td>...                                                      </td><td>0                                                        </td><td>0                                                        </td><td>0                                                        </td><td>0                                                        </td><td>0                                                        </td><td>USA                                                      </td><td>258000000                                                </td><td>389547306.8                                              </td><td>298645335                                                </td><td>  90901972                                               </td></tr>\n",
       "\t<tr><td>Color                                                    </td><td>Christopher Nolan                                        </td><td>813                                                      </td><td>164                                                      </td><td>22000                                                    </td><td>23000                                                    </td><td>Christian Bale                                           </td><td>27000                                                    </td><td>448130642                                                </td><td>Action|Thriller                                          </td><td>...                                                      </td><td>0                                                        </td><td>0                                                        </td><td>1                                                        </td><td>0                                                        </td><td>0                                                        </td><td>NA                                                       </td><td>250000000                                                </td><td>468455624.3                                              </td><td>261338760                                                </td><td> 207116865                                               </td></tr>\n",
       "\t<tr><td>Color                                                    </td><td>Joss Whedon                                              </td><td>635                                                      </td><td>141                                                      </td><td>   NA                                                    </td><td>19000                                                    </td><td>Robert Downey Jr.                                        </td><td>26000                                                    </td><td>458991599                                                </td><td>Action|Adventure|Sci-Fi                                  </td><td>...                                                      </td><td>0                                                        </td><td>0                                                        </td><td>0                                                        </td><td>0                                                        </td><td>0                                                        </td><td>NA                                                       </td><td>250000000                                                </td><td>464782215.9                                              </td><td>253153989                                                </td><td> 211628227                                               </td></tr>\n",
       "\t<tr><td>Color                                                    </td><td>David Yates                                              </td><td>375                                                      </td><td>153                                                      </td><td>  282                                                    </td><td>10000                                                    </td><td>Daniel Radcliffe                                         </td><td>25000                                                    </td><td>301956980                                                </td><td>Adventure|Family|Fantasy|Mystery                         </td><td>...                                                      </td><td>0                                                        </td><td>0                                                        </td><td>0                                                        </td><td>0                                                        </td><td>0                                                        </td><td>NA                                                       </td><td>250000000                                                </td><td>337805755.3                                              </td><td>279680367                                                </td><td>  58125389                                               </td></tr>\n",
       "\t<tr><td>Color                                                    </td><td>Zack Snyder                                              </td><td>673                                                      </td><td>183                                                      </td><td>   NA                                                    </td><td> 2000                                                    </td><td>Lauren Cohan                                             </td><td>15000                                                    </td><td>330249062                                                </td><td>Action|Adventure|Sci-Fi                                  </td><td>...                                                      </td><td>0                                                        </td><td>0                                                        </td><td>0                                                        </td><td>0                                                        </td><td>0                                                        </td><td>NA                                                       </td><td>250000000                                                </td><td>330249062.0                                              </td><td>250000000                                                </td><td>  80249062                                               </td></tr>\n",
       "\t<tr><td>Color                                                    </td><td>Rob Marshall                                             </td><td>448                                                      </td><td>136                                                      </td><td>  252                                                    </td><td> 1000                                                    </td><td>Sam Claflin                                              </td><td>40000                                                    </td><td>241063875                                                </td><td>Action|Adventure|Fantasy                                 </td><td>...                                                      </td><td>0                                                        </td><td>0                                                        </td><td>0                                                        </td><td>0                                                        </td><td>0                                                        </td><td>USA                                                      </td><td>250000000                                                </td><td>257212103.7                                              </td><td>266746836                                                </td><td>  -9534732                                               </td></tr>\n",
       "\t<tr><td>Color                                                    </td><td>Peter Jackson                                            </td><td>422                                                      </td><td>164                                                      </td><td>   NA                                                    </td><td>  773                                                    </td><td>Adam Brown                                               </td><td> 5000                                                    </td><td>255108370                                                </td><td>Adventure|Fantasy                                        </td><td>...                                                      </td><td>0                                                        </td><td>0                                                        </td><td>0                                                        </td><td>0                                                        </td><td>0                                                        </td><td>USA                                                      </td><td>250000000                                                </td><td>258633275.6                                              </td><td>253454322                                                </td><td>   5178954                                               </td></tr>\n",
       "\t<tr><td>Color                                                    </td><td>Anthony Russo                                            </td><td>516                                                      </td><td>147                                                      </td><td>   94                                                    </td><td>11000                                                    </td><td>Scarlett Johansson                                       </td><td>21000                                                    </td><td>407197282                                                </td><td>Action|Adventure|Sci-Fi                                  </td><td>...                                                      </td><td>0                                                        </td><td>0                                                        </td><td>0                                                        </td><td>0                                                        </td><td>0                                                        </td><td>USA                                                      </td><td>250000000                                                </td><td>407197282.0                                              </td><td>250000000                                                </td><td> 157197282                                               </td></tr>\n",
       "\t<tr><td>Color                                                    </td><td>Sam Mendes                                               </td><td>602                                                      </td><td>148                                                      </td><td>   NA                                                    </td><td>  161                                                    </td><td>Rory Kinnear                                             </td><td>11000                                                    </td><td>200074175                                                </td><td>Action|Adventure|Thriller                                </td><td>...                                                      </td><td>0                                                        </td><td>0                                                        </td><td>1                                                        </td><td>0                                                        </td><td>0                                                        </td><td>NA                                                       </td><td>245000000                                                </td><td>202598301.6                                              </td><td>248090909                                                </td><td> -45492607                                               </td></tr>\n",
       "\t<tr><td>Color                                                    </td><td>James Cameron                                            </td><td>723                                                      </td><td>178                                                      </td><td>   NA                                                    </td><td>  855                                                    </td><td>Joel David Moore                                         </td><td> 1000                                                    </td><td>760505847                                                </td><td>Action|Adventure|Fantasy|Sci-Fi                          </td><td>...                                                      </td><td>0                                                        </td><td>0                                                        </td><td>0                                                        </td><td>0                                                        </td><td>0                                                        </td><td>NA                                                       </td><td>237000000                                                </td><td>850794216.1                                              </td><td>265136987                                                </td><td> 585657229                                               </td></tr>\n",
       "\t<tr><td>Color                                                    </td><td>Marc Webb                                                </td><td>599                                                      </td><td>153                                                      </td><td>  464                                                    </td><td>  963                                                    </td><td>Andrew Garfield                                          </td><td>15000                                                    </td><td>262030663                                                </td><td>Action|Adventure|Fantasy                                 </td><td>...                                                      </td><td>0                                                        </td><td>0                                                        </td><td>0                                                        </td><td>0                                                        </td><td>0                                                        </td><td>USA                                                      </td><td>230000000                                                </td><td>273915073.7                                              </td><td>240431659                                                </td><td>  33483415                                               </td></tr>\n",
       "\t<tr><td>Color                                                    </td><td>Gore Verbinski                                           </td><td>313                                                      </td><td>151                                                      </td><td>  563                                                    </td><td> 1000                                                    </td><td>Orlando Bloom                                            </td><td>40000                                                    </td><td>423032628                                                </td><td>Action|Adventure|Fantasy                                 </td><td>...                                                      </td><td>0                                                        </td><td>0                                                        </td><td>0                                                        </td><td>0                                                        </td><td>0                                                        </td><td>USA                                                      </td><td>225000000                                                </td><td>503646060.6                                              </td><td>267876178                                                </td><td> 235769882                                               </td></tr>\n",
       "\t<tr><td>Color                                                    </td><td>Zack Snyder                                              </td><td>733                                                      </td><td>143                                                      </td><td>   NA                                                    </td><td>  748                                                    </td><td>Christopher Meloni                                       </td><td>15000                                                    </td><td>291021565                                                </td><td>Action|Adventure|Fantasy|Sci-Fi                          </td><td>...                                                      </td><td>0                                                        </td><td>0                                                        </td><td>0                                                        </td><td>0                                                        </td><td>0                                                        </td><td>USA                                                      </td><td>225000000                                                </td><td>299828992.2                                              </td><td>231809362                                                </td><td>  68019630                                               </td></tr>\n",
       "\t<tr><td>...</td><td>...</td><td>...</td><td>...</td><td>...</td><td>...</td><td>...</td><td>...</td><td>...</td><td>...</td><td>   </td><td>...</td><td>...</td><td>...</td><td>...</td><td>...</td><td>...</td><td>...</td><td>...</td><td>...</td><td>...</td></tr>\n",
       "\t<tr><td>Color                         </td><td>Niall Johnson                 </td><td>  4                           </td><td>114                           </td><td>    7                         </td><td>  2                           </td><td>Mark Caven                    </td><td>   19                         </td><td>    NA                        </td><td>Drama                         </td><td>...                           </td><td>0                             </td><td>0                             </td><td>0                             </td><td>0                             </td><td>0                             </td><td>USA                           </td><td>NA                            </td><td>        NA                    </td><td>NA                            </td><td>NA                            </td></tr>\n",
       "\t<tr><td>Color                         </td><td>Florence Ayisi                </td><td> 27                           </td><td>104                           </td><td>   NA                         </td><td> NA                           </td><td>Beatrice Ntuba                </td><td>    2                         </td><td> 32631                        </td><td>Documentary                   </td><td>...                           </td><td>0                             </td><td>0                             </td><td>0                             </td><td>0                             </td><td>0                             </td><td>USA                           </td><td>NA                            </td><td>  40102.45                    </td><td>NA                            </td><td>NA                            </td></tr>\n",
       "\t<tr><td>Color                         </td><td>Pece Dingo                    </td><td>  1                           </td><td> 94                           </td><td>   NA                         </td><td> 87                           </td><td>Wilhelm von Homburg           </td><td>  156                         </td><td>    NA                        </td><td>Horror                        </td><td>...                           </td><td>0                             </td><td>0                             </td><td>0                             </td><td>0                             </td><td>0                             </td><td>USA                           </td><td>NA                            </td><td>        NA                    </td><td>NA                            </td><td>NA                            </td></tr>\n",
       "\t<tr><td>Color                         </td><td>Michael Kang                  </td><td> 27                           </td><td> 75                           </td><td>  269                         </td><td>  7                           </td><td>Clint Jordan                  </td><td>  100                         </td><td> 47111                        </td><td>Comedy|Drama                  </td><td>...                           </td><td>0                             </td><td>0                             </td><td>0                             </td><td>0                             </td><td>0                             </td><td>USA                           </td><td>NA                            </td><td>  57897.90                    </td><td>NA                            </td><td>NA                            </td></tr>\n",
       "\t<tr><td>Color                         </td><td>Lori Silverbush               </td><td> 26                           </td><td> 86                           </td><td>    5                         </td><td> 41                           </td><td>Flaco Navaja                  </td><td>   68                         </td><td>    NA                        </td><td>Drama                         </td><td>...                           </td><td>0                             </td><td>0                             </td><td>0                             </td><td>0                             </td><td>0                             </td><td>USA                           </td><td>NA                            </td><td>        NA                    </td><td>NA                            </td><td>NA                            </td></tr>\n",
       "\t<tr><td>Color                         </td><td>Stuart Hazeldine              </td><td> 77                           </td><td>101                           </td><td>   17                         </td><td>289                           </td><td>Luke Mably                    </td><td>  766                         </td><td>    NA                        </td><td>Mystery|Thriller              </td><td>...                           </td><td>0                             </td><td>0                             </td><td>1                             </td><td>0                             </td><td>0                             </td><td>USA                           </td><td>NA                            </td><td>        NA                    </td><td>NA                            </td><td>NA                            </td></tr>\n",
       "\t<tr><td>Color                         </td><td>Jason Naumann                 </td><td> NA                           </td><td> 35                           </td><td>    2                         </td><td>152                           </td><td>Kate Flannery                 </td><td>  338                         </td><td>    NA                        </td><td>Comedy|Short                  </td><td>...                           </td><td>1                             </td><td>0                             </td><td>0                             </td><td>0                             </td><td>0                             </td><td>USA                           </td><td>NA                            </td><td>        NA                    </td><td>NA                            </td><td>NA                            </td></tr>\n",
       "\t<tr><td>Color                         </td><td>Matt Cimber                   </td><td> 15                           </td><td>108                           </td><td>   32                         </td><td>180                           </td><td>June Lockhart                 </td><td>  602                         </td><td>    NA                        </td><td>Crime|Drama                   </td><td>...                           </td><td>0                             </td><td>0                             </td><td>0                             </td><td>0                             </td><td>0                             </td><td>USA                           </td><td>NA                            </td><td>        NA                    </td><td>NA                            </td><td>NA                            </td></tr>\n",
       "\t<tr><td>Color                         </td><td>Nicolas Winding Refn          </td><td>225                           </td><td> 92                           </td><td>   NA                         </td><td>146                           </td><td>James Lance                   </td><td>27000                         </td><td>104792                        </td><td>Action|Biography|Crime|Drama  </td><td>...                           </td><td>0                             </td><td>0                             </td><td>0                             </td><td>0                             </td><td>0                             </td><td>USA                           </td><td>NA                            </td><td> 116816.24                    </td><td>NA                            </td><td>NA                            </td></tr>\n",
       "\t<tr><td>Color                         </td><td>Tom Tykwer                    </td><td> 76                           </td><td>119                           </td><td>  670                         </td><td>  9                           </td><td>Sebastian Schipper            </td><td>   24                         </td><td> 59774                        </td><td>Comedy|Drama|Romance          </td><td>...                           </td><td>0                             </td><td>0                             </td><td>0                             </td><td>0                             </td><td>0                             </td><td>USA                           </td><td>NA                            </td><td>  65791.45                    </td><td>NA                            </td><td>NA                            </td></tr>\n",
       "\t<tr><td>Color                         </td><td>Livingston Oden               </td><td>  1                           </td><td> 89                           </td><td>   NA                         </td><td> 15                           </td><td>Victoria Lachelle             </td><td>  138                         </td><td>    NA                        </td><td>Comedy|Horror|Mystery|Thriller</td><td>...                           </td><td>0                             </td><td>0                             </td><td>1                             </td><td>0                             </td><td>0                             </td><td>USA                           </td><td>NA                            </td><td>        NA                    </td><td>NA                            </td><td>NA                            </td></tr>\n",
       "\t<tr><td>Black and White               </td><td>Carl Theodor Dreyer           </td><td> 54                           </td><td>126                           </td><td>  147                         </td><td>  0                           </td><td>Sylvia Eckhausen              </td><td>    0                         </td><td>    NA                        </td><td>Drama|Fantasy                 </td><td>...                           </td><td>0                             </td><td>0                             </td><td>0                             </td><td>0                             </td><td>0                             </td><td>USA                           </td><td>NA                            </td><td>        NA                    </td><td>NA                            </td><td>NA                            </td></tr>\n",
       "\t<tr><td>Color                         </td><td>Pat Holden                    </td><td> 44                           </td><td> 86                           </td><td>    6                         </td><td>115                           </td><td>Martin Compston               </td><td>  498                         </td><td>    NA                        </td><td>Horror                        </td><td>...                           </td><td>0                             </td><td>0                             </td><td>0                             </td><td>0                             </td><td>0                             </td><td>USA                           </td><td>NA                            </td><td>        NA                    </td><td>NA                            </td><td>NA                            </td></tr>\n",
       "\t<tr><td>Color                         </td><td>Zal Batmanglij                </td><td>136                           </td><td> 85                           </td><td>  129                         </td><td>100                           </td><td>James Urbaniak                </td><td>  120                         </td><td>405614                        </td><td>Drama|Mystery|Sci-Fi|Thriller </td><td>...                           </td><td>0                             </td><td>0                             </td><td>1                             </td><td>0                             </td><td>0                             </td><td>USA                           </td><td>NA                            </td><td> 432785.00                    </td><td>NA                            </td><td>NA                            </td></tr>\n",
       "\t<tr><td>Black and White               </td><td>John Reinhardt                </td><td>  1                           </td><td> 68                           </td><td>    2                         </td><td> 75                           </td><td>John Ireland                  </td><td>  142                         </td><td>    NA                        </td><td>Crime|Drama                   </td><td>...                           </td><td>0                             </td><td>0                             </td><td>0                             </td><td>0                             </td><td>0                             </td><td>USA                           </td><td>NA                            </td><td>        NA                    </td><td>NA                            </td><td>NA                            </td></tr>\n",
       "\t<tr><td>Color                         </td><td>Laslo Benedek                 </td><td> 14                           </td><td>106                           </td><td>    6                         </td><td> 13                           </td><td>Trevor Howard                 </td><td>  440                         </td><td>    NA                        </td><td>Crime|Horror|Thriller         </td><td>...                           </td><td>0                             </td><td>0                             </td><td>1                             </td><td>0                             </td><td>0                             </td><td>USA                           </td><td>NA                            </td><td>        NA                    </td><td>NA                            </td><td>NA                            </td></tr>\n",
       "\t<tr><td>Color                         </td><td>Julie Davis                   </td><td>  5                           </td><td> 86                           </td><td>   12                         </td><td>117                           </td><td>Meredith Scott Lynn           </td><td>  238                         </td><td> 33598                        </td><td>Comedy|Romance                </td><td>...                           </td><td>0                             </td><td>0                             </td><td>0                             </td><td>0                             </td><td>0                             </td><td>USA                           </td><td>NA                            </td><td>  50236.28                    </td><td>NA                            </td><td>NA                            </td></tr>\n",
       "\t<tr><td>Color                         </td><td>Daniel Schechter              </td><td> 15                           </td><td> 87                           </td><td>    8                         </td><td>272                           </td><td>Kevin Corrigan                </td><td>  969                         </td><td>    NA                        </td><td>Comedy                        </td><td>...                           </td><td>0                             </td><td>0                             </td><td>0                             </td><td>0                             </td><td>0                             </td><td>USA                           </td><td>NA                            </td><td>        NA                    </td><td>NA                            </td><td>NA                            </td></tr>\n",
       "\t<tr><td>Color                         </td><td>Bruno Barreto                 </td><td>  1                           </td><td> 99                           </td><td>    9                         </td><td>  3                           </td><td>Sonia Braga                   </td><td>  866                         </td><td>    NA                        </td><td>Comedy|Drama|Romance          </td><td>...                           </td><td>0                             </td><td>0                             </td><td>0                             </td><td>0                             </td><td>0                             </td><td>USA                           </td><td>NA                            </td><td>        NA                    </td><td>NA                            </td><td>NA                            </td></tr>\n",
       "\t<tr><td>Color                         </td><td>Daniel Mellitz                </td><td> NA                           </td><td> NA                           </td><td>   NA                         </td><td> 15                           </td><td>Chelse Swain                  </td><td> 1000                         </td><td>    NA                        </td><td>Comedy|Drama                  </td><td>...                           </td><td>0                             </td><td>0                             </td><td>0                             </td><td>0                             </td><td>0                             </td><td>USA                           </td><td>NA                            </td><td>        NA                    </td><td>NA                            </td><td>NA                            </td></tr>\n",
       "\t<tr><td>Color                         </td><td>Martin Scorsese               </td><td> 71                           </td><td>117                           </td><td>17000                         </td><td>476                           </td><td>Levon Helm                    </td><td>  725                         </td><td>321952                        </td><td>Documentary|Music             </td><td>...                           </td><td>0                             </td><td>0                             </td><td>0                             </td><td>0                             </td><td>0                             </td><td>USA                           </td><td>NA                            </td><td>1184529.14                    </td><td>NA                            </td><td>NA                            </td></tr>\n",
       "\t<tr><td>Color                         </td><td>Bradley Rust Gray             </td><td> 61                           </td><td> 79                           </td><td>    2                         </td><td> 20                           </td><td>Mark Rendall                  </td><td>  962                         </td><td> 24705                        </td><td>Drama                         </td><td>...                           </td><td>0                             </td><td>0                             </td><td>0                             </td><td>0                             </td><td>0                             </td><td>USA                           </td><td>NA                            </td><td>  27638.01                    </td><td>NA                            </td><td>NA                            </td></tr>\n",
       "\t<tr><td>Black and White               </td><td>Andrew Bujalski               </td><td> 52                           </td><td>109                           </td><td>   26                         </td><td>  3                           </td><td>Kate Dollenmayer              </td><td>   26                         </td><td>    NA                        </td><td>Comedy                        </td><td>...                           </td><td>0                             </td><td>0                             </td><td>0                             </td><td>0                             </td><td>0                             </td><td>USA                           </td><td>NA                            </td><td>        NA                    </td><td>NA                            </td><td>NA                            </td></tr>\n",
       "\t<tr><td>Color                         </td><td>Ben Wheatley                  </td><td> 53                           </td><td> 93                           </td><td>  214                         </td><td> 59                           </td><td>Tony Way                      </td><td>  177                         </td><td>  9609                        </td><td>Comedy|Crime|Drama            </td><td>...                           </td><td>0                             </td><td>0                             </td><td>0                             </td><td>0                             </td><td>0                             </td><td>USA                           </td><td>NA                            </td><td>  10749.79                    </td><td>NA                            </td><td>NA                            </td></tr>\n",
       "\t<tr><td>Color                         </td><td>Andrew Bujalski               </td><td> 43                           </td><td> 85                           </td><td>   26                         </td><td>  3                           </td><td>Kate Dollenmayer              </td><td>   26                         </td><td>    NA                        </td><td>Comedy|Drama                  </td><td>...                           </td><td>0                             </td><td>0                             </td><td>0                             </td><td>0                             </td><td>0                             </td><td>USA                           </td><td>NA                            </td><td>        NA                    </td><td>NA                            </td><td>NA                            </td></tr>\n",
       "\t<tr><td>Color                         </td><td>Uwe Boll                      </td><td> 58                           </td><td> 80                           </td><td>  892                         </td><td>492                           </td><td>Katharine Isabelle            </td><td>  986                         </td><td>    NA                        </td><td>Action|Crime|Thriller         </td><td>...                           </td><td>0                             </td><td>0                             </td><td>1                             </td><td>0                             </td><td>0                             </td><td>USA                           </td><td>NA                            </td><td>        NA                    </td><td>NA                            </td><td>NA                            </td></tr>\n",
       "\t<tr><td>Color                         </td><td>Marcus Nispel                 </td><td> 43                           </td><td> 91                           </td><td>  158                         </td><td>265                           </td><td>Brittany Curran               </td><td>  630                         </td><td>    NA                        </td><td>Horror|Mystery|Thriller       </td><td>...                           </td><td>0                             </td><td>0                             </td><td>1                             </td><td>0                             </td><td>0                             </td><td>USA                           </td><td>NA                            </td><td>        NA                    </td><td>NA                            </td><td>NA                            </td></tr>\n",
       "\t<tr><td>Color                         </td><td>Ash Baron-Cohen               </td><td> 10                           </td><td> 98                           </td><td>    3                         </td><td>152                           </td><td>Stanley B. Herman             </td><td>  789                         </td><td>    NA                        </td><td>Crime|Drama                   </td><td>...                           </td><td>0                             </td><td>0                             </td><td>0                             </td><td>0                             </td><td>0                             </td><td>NA                            </td><td>NA                            </td><td>        NA                    </td><td>NA                            </td><td>NA                            </td></tr>\n",
       "\t<tr><td>Color                         </td><td>Scott Smith                   </td><td>  1                           </td><td> 87                           </td><td>    2                         </td><td>318                           </td><td>Daphne Zuniga                 </td><td>  637                         </td><td>    NA                        </td><td>Comedy|Drama                  </td><td>...                           </td><td>0                             </td><td>0                             </td><td>0                             </td><td>0                             </td><td>0                             </td><td>NA                            </td><td>NA                            </td><td>        NA                    </td><td>NA                            </td><td>NA                            </td></tr>\n",
       "\t<tr><td>Color                         </td><td>Daniel Hsia                   </td><td> 14                           </td><td>100                           </td><td>   NA                         </td><td>489                           </td><td>Daniel Henney                 </td><td>  946                         </td><td> 10443                        </td><td>Comedy|Drama|Romance          </td><td>...                           </td><td>0                             </td><td>0                             </td><td>0                             </td><td>0                             </td><td>0                             </td><td>NA                            </td><td>NA                            </td><td>  10916.64                    </td><td>NA                            </td><td>NA                            </td></tr>\n",
       "</tbody>\n",
       "</table>\n"
      ],
      "text/latex": [
       "\\begin{tabular}{r|lllllllllllllllllllllllllllllllllllllllllllllllllllllllllll}\n",
       " color & director\\_name & num\\_critic\\_for\\_reviews & duration & director\\_facebook\\_likes & actor\\_3\\_facebook\\_likes & actor\\_2\\_name & actor\\_1\\_facebook\\_likes & gross & genres & ... & genres\\_Short & genres\\_Sport & genres\\_Thriller & genres\\_War & genres\\_Western & currency & budget\\_us & gross\\_2016 & budget\\_2016 & profit\\\\\n",
       "\\hline\n",
       "\t Color                                                                                   & Joon-ho Bong                                                                            & 363                                                                                     & 110                                                                                     &   584                                                                                   &    74                                                                                   & Kang-ho Song                                                                            &   629                                                                                   &   2201412                                                                               & Comedy\\textbar{}Drama\\textbar{}Horror\\textbar{}Sci-Fi                                & ...                                                                                     & 0                                                                                       & 0                                                                                       & 0                                                                                       & 0                                                                                       & 0                                                                                       & KOR                                                                                     &  12793905                                                                               &   2620914.8                                                                             &  15231922                                                                               &  -12611007                                                                             \\\\\n",
       "\t Color                                                               & Chan-wook Park                                                      & 202                                                                 & 112                                                                 &    NA                                                               &    38                                                               & Yeong-ae Lee                                                        &   717                                                               &    211667                                                           & Crime\\textbar{}Drama                                               & ...                                                                 & 0                                                                   & 0                                                                   & 0                                                                   & 0                                                                   & 0                                                                   & KOR                                                                 &   4101095                                                           &    260131.9                                                         &   5040113                                                           &   -4779981                                                         \\\\\n",
       "\t Color                                                                         & Lajos Koltai                                                                  &  73                                                                           & 134                                                                           &    45                                                                         &     0                                                                         & PÃ©ter Fancsikai                                                              &     9                                                                         &    195888                                                                     & Drama\\textbar{}Romance\\textbar{}War                                         & ...                                                                           & 0                                                                             & 0                                                                             & 0                                                                             & 1                                                                             & 0                                                                             & HUN                                                                           &  12526148                                                                     &    240740.0                                                                   &  15394231                                                                     &  -15153491                                                                   \\\\\n",
       "\t Color                                                                         & Hayao Miyazaki                                                                & 174                                                                           & 134                                                                           &  6000                                                                         &   745                                                                         & Jada Pinkett Smith                                                            &   893                                                                         &   2298191                                                                     & Adventure\\textbar{}Animation\\textbar{}Fantasy                               & ...                                                                           & 0                                                                             & 0                                                                             & 0                                                                             & 0                                                                             & 0                                                                             & JPN                                                                           &  19836208                                                                     &   3436293.2                                                                   &  29659426                                                                     &  -26223133                                                                   \\\\\n",
       "\t Color                                                                                                       & Katsuhiro Ã”tomo                                                                                            & 105                                                                                                         & 103                                                                                                         &    78                                                                                                       &   101                                                                                                       & Robin Atkin Downes                                                                                          &   488                                                                                                       &    410388                                                                                                   & Action\\textbar{}Adventure\\textbar{}Animation\\textbar{}Family\\textbar{}Sci-Fi\\textbar{}Thriller         & ...                                                                                                         & 0                                                                                                           & 0                                                                                                           & 1                                                                                                           & 0                                                                                                           & 0                                                                                                           & JPN                                                                                                         &  19664196                                                                                                   &    521465.0                                                                                                 &  24986575                                                                                                   &  -24465109                                                                                                 \\\\\n",
       "\t Color                                                                         & Katsuhiro Ã”tomo                                                              & 150                                                                           & 124                                                                           &    78                                                                         &     4                                                                         & Takeshi Kusao                                                                 &     6                                                                         &    439162                                                                     & Action\\textbar{}Animation\\textbar{}Sci-Fi                                   & ...                                                                           & 0                                                                             & 0                                                                             & 0                                                                             & 0                                                                             & 0                                                                             & JPN                                                                           &   8583579                                                                     &    891286.1                                                                   &  17420507                                                                     &  -16529221                                                                   \\\\\n",
       "\t Color                                                                                             & Takao Okawara                                                                                     & 107                                                                                               &  99                                                                                               &     2                                                                                             &     3                                                                                             & Naomi Nishida                                                                                     &    43                                                                                             &  10037390                                                                                         & Action\\textbar{}Adventure\\textbar{}Drama\\textbar{}Sci-Fi\\textbar{}Thriller                    & ...                                                                                               & 0                                                                                                 & 0                                                                                                 & 1                                                                                                 & 0                                                                                                 & 0                                                                                                 & JPN                                                                                               &   8779106                                                                                         &  14462224.8                                                                                       &  12649245                                                                                         &    1812980                                                                                       \\\\\n",
       "\t Color                                                     & Karan Johar                                               &  20                                                       & 193                                                       &   160                                                     &   860                                                     & John Abraham                                              &  8000                                                     &   3275443                                                 & Drama                                                     & ...                                                       & 0                                                         & 0                                                         & 0                                                         & 0                                                         & 0                                                         & IND                                                       &  15450148                                                 &   3899614.0                                               &  18394340                                                 &  -14494726                                               \\\\\n",
       "\t Color                                                               & Carlos Saura                                                        &  35                                                                 & 115                                                                 &    98                                                               &     4                                                               & Juan Luis Galiardo                                                  &   341                                                               &   1687311                                                           & Drama\\textbar{}Musical                                             & ...                                                                 & 0                                                                   & 0                                                                   & 0                                                                   & 0                                                                   & 0                                                                   & ESP                                                                 &   4604024                                                           &   2484331.4                                                         &   6778787                                                           &   -4294455                                                         \\\\\n",
       "\t Color                                                                                   & Anurag Basu                                                                             &  41                                                                                     &  90                                                                                     &   116                                                                                   &   303                                                                                   & Steven Michael Quezada                                                                  &   594                                                                                   &   1602466                                                                               & Action\\textbar{}Drama\\textbar{}Romance\\textbar{}Thriller                             & ...                                                                                     & 0                                                                                       & 0                                                                                       & 1                                                                                       & 0                                                                                       & 0                                                                                       & IND                                                                                     &  13121691                                                                               &   1763786.3                                                                             &  14442652                                                                               &  -12678865                                                                             \\\\\n",
       "\t Color                                                                                             & John Woo                                                                                          & 160                                                                                               & 150                                                                                               &   610                                                                                             &   478                                                                                             & Tony Chiu Wai Leung                                                                               &   755                                                                                             &    626809                                                                                         & Action\\textbar{}Adventure\\textbar{}Drama\\textbar{}History\\textbar{}War                        & ...                                                                                               & 0                                                                                                 & 0                                                                                                 & 0                                                                                                 & 1                                                                                                 & 0                                                                                                 & CHN                                                                                               &  79674699                                                                                         &    698731.5                                                                                       &  88816882                                                                                         &  -88118150                                                                                       \\\\\n",
       "\t Color                                                                                             & Chatrichalerm Yukol                                                                               &  31                                                                                               & 300                                                                                               &     6                                                                                             &     6                                                                                             & Chatchai Plengpanich                                                                              &     7                                                                                             &    454255                                                                                         & Action\\textbar{}Adventure\\textbar{}Drama\\textbar{}History\\textbar{}War                        & ...                                                                                               & 0                                                                                                 & 0                                                                                                 & 0                                                                                                 & 1                                                                                                 & 0                                                                                                 & THA                                                                                               &   9134505                                                                                         &    615725.4                                                                                       &  12381475                                                                                         &  -11765749                                                                                       \\\\\n",
       "\t Color                                                                                             & Luc Besson                                                                                        & 111                                                                                               & 158                                                                                               &    NA                                                                                             &    15                                                                                             & David Bailie                                                                                      &    51                                                                                             &  14131298                                                                                         & Adventure\\textbar{}Biography\\textbar{}Drama\\textbar{}History\\textbar{}War                     & ...                                                                                               & 0                                                                                                 & 0                                                                                                 & 0                                                                                                 & 1                                                                                                 & 0                                                                                                 & FRA                                                                                               &  65000000                                                                                         &  20360871.5                                                                                       &  93654288                                                                                         &  -73293416                                                                                       \\\\\n",
       "\t Color                                                                         & Gore Verbinski                                                                & 302                                                                           & 169                                                                           &   563                                                                         &  1000                                                                         & Orlando Bloom                                                                 & 40000                                                                         & 309404152                                                                     & Action\\textbar{}Adventure\\textbar{}Fantasy                                  & ...                                                                           & 0                                                                             & 0                                                                             & 0                                                                             & 0                                                                             & 0                                                                             & NA                                                                            & 300000000                                                                     & 358147700.4                                                                   & 347262018                                                                     &   10885683                                                                   \\\\\n",
       "\t Color                                                     & Tony Jaa                                                  & 110                                                       & 110                                                       &    NA                                                     &     7                                                     & Petchtai Wongkamlao                                       &    64                                                     &    102055                                                 & Action                                                    & ...                                                       & 0                                                         & 0                                                         & 0                                                         & 0                                                         & 0                                                         & THA                                                       &   8522146                                                 &    113765.2                                               &   9500010                                                 &   -9386245                                               \\\\\n",
       "\t Color                                                                         & Andrew Stanton                                                                & 462                                                                           & 132                                                                           &   475                                                                         &   530                                                                         & Samantha Morton                                                               &   640                                                                         &  73058679                                                                     & Action\\textbar{}Adventure\\textbar{}Sci-Fi                                   & ...                                                                           & 0                                                                             & 0                                                                             & 0                                                                             & 0                                                                             & 0                                                                             & NA                                                                            & 263700000                                                                     &  76372258.2                                                                   & 275660124                                                                     & -199287865                                                                   \\\\\n",
       "\t Color                                                                                                                 & Nathan Greno                                                                                                          & 324                                                                                                                   & 100                                                                                                                   &    15                                                                                                                 &   284                                                                                                                 & Donna Murphy                                                                                                          &   799                                                                                                                 & 200807262                                                                                                             & Adventure\\textbar{}Animation\\textbar{}Comedy\\textbar{}Family\\textbar{}Fantasy\\textbar{}Musical\\textbar{}Romance & ...                                                                                                                   & 0                                                                                                                     & 0                                                                                                                     & 0                                                                                                                     & 0                                                                                                                     & 0                                                                                                                     & NA                                                                                                                    & 260000000                                                                                                             & 221022529.1                                                                                                           & 286174200                                                                                                             &  -65151671                                                                                                           \\\\\n",
       "\t Color                                                                         & Sam Raimi                                                                     & 392                                                                           & 156                                                                           &    NA                                                                         &  4000                                                                         & James Franco                                                                  & 24000                                                                         & 336530303                                                                     & Action\\textbar{}Adventure\\textbar{}Romance                                  & ...                                                                           & 0                                                                             & 0                                                                             & 0                                                                             & 0                                                                             & 0                                                                             & USA                                                                           & 258000000                                                                     & 389547306.8                                                                   & 298645335                                                                     &   90901972                                                                   \\\\\n",
       "\t Color                                                               & Christopher Nolan                                                   & 813                                                                 & 164                                                                 & 22000                                                               & 23000                                                               & Christian Bale                                                      & 27000                                                               & 448130642                                                           & Action\\textbar{}Thriller                                           & ...                                                                 & 0                                                                   & 0                                                                   & 1                                                                   & 0                                                                   & 0                                                                   & NA                                                                  & 250000000                                                           & 468455624.3                                                         & 261338760                                                           &  207116865                                                         \\\\\n",
       "\t Color                                                                         & Joss Whedon                                                                   & 635                                                                           & 141                                                                           &    NA                                                                         & 19000                                                                         & Robert Downey Jr.                                                             & 26000                                                                         & 458991599                                                                     & Action\\textbar{}Adventure\\textbar{}Sci-Fi                                   & ...                                                                           & 0                                                                             & 0                                                                             & 0                                                                             & 0                                                                             & 0                                                                             & NA                                                                            & 250000000                                                                     & 464782215.9                                                                   & 253153989                                                                     &  211628227                                                                   \\\\\n",
       "\t Color                                                                                   & David Yates                                                                             & 375                                                                                     & 153                                                                                     &   282                                                                                   & 10000                                                                                   & Daniel Radcliffe                                                                        & 25000                                                                                   & 301956980                                                                               & Adventure\\textbar{}Family\\textbar{}Fantasy\\textbar{}Mystery                          & ...                                                                                     & 0                                                                                       & 0                                                                                       & 0                                                                                       & 0                                                                                       & 0                                                                                       & NA                                                                                      & 250000000                                                                               & 337805755.3                                                                             & 279680367                                                                               &   58125389                                                                             \\\\\n",
       "\t Color                                                                         & Zack Snyder                                                                   & 673                                                                           & 183                                                                           &    NA                                                                         &  2000                                                                         & Lauren Cohan                                                                  & 15000                                                                         & 330249062                                                                     & Action\\textbar{}Adventure\\textbar{}Sci-Fi                                   & ...                                                                           & 0                                                                             & 0                                                                             & 0                                                                             & 0                                                                             & 0                                                                             & NA                                                                            & 250000000                                                                     & 330249062.0                                                                   & 250000000                                                                     &   80249062                                                                   \\\\\n",
       "\t Color                                                                         & Rob Marshall                                                                  & 448                                                                           & 136                                                                           &   252                                                                         &  1000                                                                         & Sam Claflin                                                                   & 40000                                                                         & 241063875                                                                     & Action\\textbar{}Adventure\\textbar{}Fantasy                                  & ...                                                                           & 0                                                                             & 0                                                                             & 0                                                                             & 0                                                                             & 0                                                                             & USA                                                                           & 250000000                                                                     & 257212103.7                                                                   & 266746836                                                                     &   -9534732                                                                   \\\\\n",
       "\t Color                                                               & Peter Jackson                                                       & 422                                                                 & 164                                                                 &    NA                                                               &   773                                                               & Adam Brown                                                          &  5000                                                               & 255108370                                                           & Adventure\\textbar{}Fantasy                                         & ...                                                                 & 0                                                                   & 0                                                                   & 0                                                                   & 0                                                                   & 0                                                                   & USA                                                                 & 250000000                                                           & 258633275.6                                                         & 253454322                                                           &    5178954                                                         \\\\\n",
       "\t Color                                                                         & Anthony Russo                                                                 & 516                                                                           & 147                                                                           &    94                                                                         & 11000                                                                         & Scarlett Johansson                                                            & 21000                                                                         & 407197282                                                                     & Action\\textbar{}Adventure\\textbar{}Sci-Fi                                   & ...                                                                           & 0                                                                             & 0                                                                             & 0                                                                             & 0                                                                             & 0                                                                             & USA                                                                           & 250000000                                                                     & 407197282.0                                                                   & 250000000                                                                     &  157197282                                                                   \\\\\n",
       "\t Color                                                                         & Sam Mendes                                                                    & 602                                                                           & 148                                                                           &    NA                                                                         &   161                                                                         & Rory Kinnear                                                                  & 11000                                                                         & 200074175                                                                     & Action\\textbar{}Adventure\\textbar{}Thriller                                 & ...                                                                           & 0                                                                             & 0                                                                             & 1                                                                             & 0                                                                             & 0                                                                             & NA                                                                            & 245000000                                                                     & 202598301.6                                                                   & 248090909                                                                     &  -45492607                                                                   \\\\\n",
       "\t Color                                                                                   & James Cameron                                                                           & 723                                                                                     & 178                                                                                     &    NA                                                                                   &   855                                                                                   & Joel David Moore                                                                        &  1000                                                                                   & 760505847                                                                               & Action\\textbar{}Adventure\\textbar{}Fantasy\\textbar{}Sci-Fi                           & ...                                                                                     & 0                                                                                       & 0                                                                                       & 0                                                                                       & 0                                                                                       & 0                                                                                       & NA                                                                                      & 237000000                                                                               & 850794216.1                                                                             & 265136987                                                                               &  585657229                                                                             \\\\\n",
       "\t Color                                                                         & Marc Webb                                                                     & 599                                                                           & 153                                                                           &   464                                                                         &   963                                                                         & Andrew Garfield                                                               & 15000                                                                         & 262030663                                                                     & Action\\textbar{}Adventure\\textbar{}Fantasy                                  & ...                                                                           & 0                                                                             & 0                                                                             & 0                                                                             & 0                                                                             & 0                                                                             & USA                                                                           & 230000000                                                                     & 273915073.7                                                                   & 240431659                                                                     &   33483415                                                                   \\\\\n",
       "\t Color                                                                         & Gore Verbinski                                                                & 313                                                                           & 151                                                                           &   563                                                                         &  1000                                                                         & Orlando Bloom                                                                 & 40000                                                                         & 423032628                                                                     & Action\\textbar{}Adventure\\textbar{}Fantasy                                  & ...                                                                           & 0                                                                             & 0                                                                             & 0                                                                             & 0                                                                             & 0                                                                             & USA                                                                           & 225000000                                                                     & 503646060.6                                                                   & 267876178                                                                     &  235769882                                                                   \\\\\n",
       "\t Color                                                                                   & Zack Snyder                                                                             & 733                                                                                     & 143                                                                                     &    NA                                                                                   &   748                                                                                   & Christopher Meloni                                                                      & 15000                                                                                   & 291021565                                                                               & Action\\textbar{}Adventure\\textbar{}Fantasy\\textbar{}Sci-Fi                           & ...                                                                                     & 0                                                                                       & 0                                                                                       & 0                                                                                       & 0                                                                                       & 0                                                                                       & USA                                                                                     & 225000000                                                                               & 299828992.2                                                                             & 231809362                                                                               &   68019630                                                                             \\\\\n",
       "\t ... & ... & ... & ... & ... & ... & ... & ... & ... & ... &     & ... & ... & ... & ... & ... & ... & ... & ... & ... & ...\\\\\n",
       "\t Color                          & Niall Johnson                  &   4                            & 114                            &     7                          &   2                            & Mark Caven                     &    19                          &     NA                         & Drama                          & ...                            & 0                              & 0                              & 0                              & 0                              & 0                              & USA                            & NA                             &         NA                     & NA                             & NA                            \\\\\n",
       "\t Color                          & Florence Ayisi                 &  27                            & 104                            &    NA                          &  NA                            & Beatrice Ntuba                 &     2                          &  32631                         & Documentary                    & ...                            & 0                              & 0                              & 0                              & 0                              & 0                              & USA                            & NA                             &   40102.45                     & NA                             & NA                            \\\\\n",
       "\t Color                          & Pece Dingo                     &   1                            &  94                            &    NA                          &  87                            & Wilhelm von Homburg            &   156                          &     NA                         & Horror                         & ...                            & 0                              & 0                              & 0                              & 0                              & 0                              & USA                            & NA                             &         NA                     & NA                             & NA                            \\\\\n",
       "\t Color                                    & Michael Kang                             &  27                                      &  75                                      &   269                                    &   7                                      & Clint Jordan                             &   100                                    &  47111                                   & Comedy\\textbar{}Drama                   & ...                                      & 0                                        & 0                                        & 0                                        & 0                                        & 0                                        & USA                                      & NA                                       &   57897.90                               & NA                                       & NA                                      \\\\\n",
       "\t Color                          & Lori Silverbush                &  26                            &  86                            &     5                          &  41                            & Flaco Navaja                   &    68                          &     NA                         & Drama                          & ...                            & 0                              & 0                              & 0                              & 0                              & 0                              & USA                            & NA                             &         NA                     & NA                             & NA                            \\\\\n",
       "\t Color                                    & Stuart Hazeldine                         &  77                                      & 101                                      &    17                                    & 289                                      & Luke Mably                               &   766                                    &     NA                                   & Mystery\\textbar{}Thriller               & ...                                      & 0                                        & 0                                        & 1                                        & 0                                        & 0                                        & USA                                      & NA                                       &         NA                               & NA                                       & NA                                      \\\\\n",
       "\t Color                                    & Jason Naumann                            &  NA                                      &  35                                      &     2                                    & 152                                      & Kate Flannery                            &   338                                    &     NA                                   & Comedy\\textbar{}Short                   & ...                                      & 1                                        & 0                                        & 0                                        & 0                                        & 0                                        & USA                                      & NA                                       &         NA                               & NA                                       & NA                                      \\\\\n",
       "\t Color                                    & Matt Cimber                              &  15                                      & 108                                      &    32                                    & 180                                      & June Lockhart                            &   602                                    &     NA                                   & Crime\\textbar{}Drama                    & ...                                      & 0                                        & 0                                        & 0                                        & 0                                        & 0                                        & USA                                      & NA                                       &         NA                               & NA                                       & NA                                      \\\\\n",
       "\t Color                                                        & Nicolas Winding Refn                                         & 225                                                          &  92                                                          &    NA                                                        & 146                                                          & James Lance                                                  & 27000                                                        & 104792                                                       & Action\\textbar{}Biography\\textbar{}Crime\\textbar{}Drama   & ...                                                          & 0                                                            & 0                                                            & 0                                                            & 0                                                            & 0                                                            & USA                                                          & NA                                                           &  116816.24                                                   & NA                                                           & NA                                                          \\\\\n",
       "\t Color                                              & Tom Tykwer                                         &  76                                                & 119                                                &   670                                              &   9                                                & Sebastian Schipper                                 &    24                                              &  59774                                             & Comedy\\textbar{}Drama\\textbar{}Romance           & ...                                                & 0                                                  & 0                                                  & 0                                                  & 0                                                  & 0                                                  & USA                                                & NA                                                 &   65791.45                                         & NA                                                 & NA                                                \\\\\n",
       "\t Color                                                        & Livingston Oden                                              &   1                                                          &  89                                                          &    NA                                                        &  15                                                          & Victoria Lachelle                                            &   138                                                        &     NA                                                       & Comedy\\textbar{}Horror\\textbar{}Mystery\\textbar{}Thriller & ...                                                          & 0                                                            & 0                                                            & 1                                                            & 0                                                            & 0                                                            & USA                                                          & NA                                                           &         NA                                                   & NA                                                           & NA                                                          \\\\\n",
       "\t Black and White                          & Carl Theodor Dreyer                      &  54                                      & 126                                      &   147                                    &   0                                      & Sylvia Eckhausen                         &     0                                    &     NA                                   & Drama\\textbar{}Fantasy                  & ...                                      & 0                                        & 0                                        & 0                                        & 0                                        & 0                                        & USA                                      & NA                                       &         NA                               & NA                                       & NA                                      \\\\\n",
       "\t Color                          & Pat Holden                     &  44                            &  86                            &     6                          & 115                            & Martin Compston                &   498                          &     NA                         & Horror                         & ...                            & 0                              & 0                              & 0                              & 0                              & 0                              & USA                            & NA                             &         NA                     & NA                             & NA                            \\\\\n",
       "\t Color                                                        & Zal Batmanglij                                               & 136                                                          &  85                                                          &   129                                                        & 100                                                          & James Urbaniak                                               &   120                                                        & 405614                                                       & Drama\\textbar{}Mystery\\textbar{}Sci-Fi\\textbar{}Thriller  & ...                                                          & 0                                                            & 0                                                            & 1                                                            & 0                                                            & 0                                                            & USA                                                          & NA                                                           &  432785.00                                                   & NA                                                           & NA                                                          \\\\\n",
       "\t Black and White                          & John Reinhardt                           &   1                                      &  68                                      &     2                                    &  75                                      & John Ireland                             &   142                                    &     NA                                   & Crime\\textbar{}Drama                    & ...                                      & 0                                        & 0                                        & 0                                        & 0                                        & 0                                        & USA                                      & NA                                       &         NA                               & NA                                       & NA                                      \\\\\n",
       "\t Color                                              & Laslo Benedek                                      &  14                                                & 106                                                &     6                                              &  13                                                & Trevor Howard                                      &   440                                              &     NA                                             & Crime\\textbar{}Horror\\textbar{}Thriller          & ...                                                & 0                                                  & 0                                                  & 1                                                  & 0                                                  & 0                                                  & USA                                                & NA                                                 &         NA                                         & NA                                                 & NA                                                \\\\\n",
       "\t Color                                    & Julie Davis                              &   5                                      &  86                                      &    12                                    & 117                                      & Meredith Scott Lynn                      &   238                                    &  33598                                   & Comedy\\textbar{}Romance                 & ...                                      & 0                                        & 0                                        & 0                                        & 0                                        & 0                                        & USA                                      & NA                                       &   50236.28                               & NA                                       & NA                                      \\\\\n",
       "\t Color                          & Daniel Schechter               &  15                            &  87                            &     8                          & 272                            & Kevin Corrigan                 &   969                          &     NA                         & Comedy                         & ...                            & 0                              & 0                              & 0                              & 0                              & 0                              & USA                            & NA                             &         NA                     & NA                             & NA                            \\\\\n",
       "\t Color                                              & Bruno Barreto                                      &   1                                                &  99                                                &     9                                              &   3                                                & Sonia Braga                                        &   866                                              &     NA                                             & Comedy\\textbar{}Drama\\textbar{}Romance           & ...                                                & 0                                                  & 0                                                  & 0                                                  & 0                                                  & 0                                                  & USA                                                & NA                                                 &         NA                                         & NA                                                 & NA                                                \\\\\n",
       "\t Color                                    & Daniel Mellitz                           &  NA                                      &  NA                                      &    NA                                    &  15                                      & Chelse Swain                             &  1000                                    &     NA                                   & Comedy\\textbar{}Drama                   & ...                                      & 0                                        & 0                                        & 0                                        & 0                                        & 0                                        & USA                                      & NA                                       &         NA                               & NA                                       & NA                                      \\\\\n",
       "\t Color                                    & Martin Scorsese                          &  71                                      & 117                                      & 17000                                    & 476                                      & Levon Helm                               &   725                                    & 321952                                   & Documentary\\textbar{}Music              & ...                                      & 0                                        & 0                                        & 0                                        & 0                                        & 0                                        & USA                                      & NA                                       & 1184529.14                               & NA                                       & NA                                      \\\\\n",
       "\t Color                          & Bradley Rust Gray              &  61                            &  79                            &     2                          &  20                            & Mark Rendall                   &   962                          &  24705                         & Drama                          & ...                            & 0                              & 0                              & 0                              & 0                              & 0                              & USA                            & NA                             &   27638.01                     & NA                             & NA                            \\\\\n",
       "\t Black and White                & Andrew Bujalski                &  52                            & 109                            &    26                          &   3                            & Kate Dollenmayer               &    26                          &     NA                         & Comedy                         & ...                            & 0                              & 0                              & 0                              & 0                              & 0                              & USA                            & NA                             &         NA                     & NA                             & NA                            \\\\\n",
       "\t Color                                              & Ben Wheatley                                       &  53                                                &  93                                                &   214                                              &  59                                                & Tony Way                                           &   177                                              &   9609                                             & Comedy\\textbar{}Crime\\textbar{}Drama             & ...                                                & 0                                                  & 0                                                  & 0                                                  & 0                                                  & 0                                                  & USA                                                & NA                                                 &   10749.79                                         & NA                                                 & NA                                                \\\\\n",
       "\t Color                                    & Andrew Bujalski                          &  43                                      &  85                                      &    26                                    &   3                                      & Kate Dollenmayer                         &    26                                    &     NA                                   & Comedy\\textbar{}Drama                   & ...                                      & 0                                        & 0                                        & 0                                        & 0                                        & 0                                        & USA                                      & NA                                       &         NA                               & NA                                       & NA                                      \\\\\n",
       "\t Color                                              & Uwe Boll                                           &  58                                                &  80                                                &   892                                              & 492                                                & Katharine Isabelle                                 &   986                                              &     NA                                             & Action\\textbar{}Crime\\textbar{}Thriller          & ...                                                & 0                                                  & 0                                                  & 1                                                  & 0                                                  & 0                                                  & USA                                                & NA                                                 &         NA                                         & NA                                                 & NA                                                \\\\\n",
       "\t Color                                              & Marcus Nispel                                      &  43                                                &  91                                                &   158                                              & 265                                                & Brittany Curran                                    &   630                                              &     NA                                             & Horror\\textbar{}Mystery\\textbar{}Thriller        & ...                                                & 0                                                  & 0                                                  & 1                                                  & 0                                                  & 0                                                  & USA                                                & NA                                                 &         NA                                         & NA                                                 & NA                                                \\\\\n",
       "\t Color                                    & Ash Baron-Cohen                          &  10                                      &  98                                      &     3                                    & 152                                      & Stanley B. Herman                        &   789                                    &     NA                                   & Crime\\textbar{}Drama                    & ...                                      & 0                                        & 0                                        & 0                                        & 0                                        & 0                                        & NA                                       & NA                                       &         NA                               & NA                                       & NA                                      \\\\\n",
       "\t Color                                    & Scott Smith                              &   1                                      &  87                                      &     2                                    & 318                                      & Daphne Zuniga                            &   637                                    &     NA                                   & Comedy\\textbar{}Drama                   & ...                                      & 0                                        & 0                                        & 0                                        & 0                                        & 0                                        & NA                                       & NA                                       &         NA                               & NA                                       & NA                                      \\\\\n",
       "\t Color                                              & Daniel Hsia                                        &  14                                                & 100                                                &    NA                                              & 489                                                & Daniel Henney                                      &   946                                              &  10443                                             & Comedy\\textbar{}Drama\\textbar{}Romance           & ...                                                & 0                                                  & 0                                                  & 0                                                  & 0                                                  & 0                                                  & NA                                                 & NA                                                 &   10916.64                                         & NA                                                 & NA                                                \\\\\n",
       "\\end{tabular}\n"
      ],
      "text/markdown": [
       "\n",
       "color | director_name | num_critic_for_reviews | duration | director_facebook_likes | actor_3_facebook_likes | actor_2_name | actor_1_facebook_likes | gross | genres | ... | genres_Short | genres_Sport | genres_Thriller | genres_War | genres_Western | currency | budget_us | gross_2016 | budget_2016 | profit | \n",
       "|---|---|---|---|---|---|---|---|---|---|---|---|---|---|---|---|---|---|---|---|---|---|---|---|---|---|---|---|---|---|---|---|---|---|---|---|---|---|---|---|---|---|---|---|---|---|---|---|---|---|---|---|---|---|---|---|---|---|---|---|---|\n",
       "| Color                                                     | Joon-ho Bong                                              | 363                                                       | 110                                                       |   584                                                     |    74                                                     | Kang-ho Song                                              |   629                                                     |   2201412                                                 | Comedy|Drama|Horror|Sci-Fi                                | ...                                                       | 0                                                         | 0                                                         | 0                                                         | 0                                                         | 0                                                         | KOR                                                       |  12793905                                                 |   2620914.8                                               |  15231922                                                 |  -12611007                                                | \n",
       "| Color                                                     | Chan-wook Park                                            | 202                                                       | 112                                                       |    NA                                                     |    38                                                     | Yeong-ae Lee                                              |   717                                                     |    211667                                                 | Crime|Drama                                               | ...                                                       | 0                                                         | 0                                                         | 0                                                         | 0                                                         | 0                                                         | KOR                                                       |   4101095                                                 |    260131.9                                               |   5040113                                                 |   -4779981                                                | \n",
       "| Color                                                     | Lajos Koltai                                              |  73                                                       | 134                                                       |    45                                                     |     0                                                     | PÃ©ter Fancsikai                                          |     9                                                     |    195888                                                 | Drama|Romance|War                                         | ...                                                       | 0                                                         | 0                                                         | 0                                                         | 1                                                         | 0                                                         | HUN                                                       |  12526148                                                 |    240740.0                                               |  15394231                                                 |  -15153491                                                | \n",
       "| Color                                                     | Hayao Miyazaki                                            | 174                                                       | 134                                                       |  6000                                                     |   745                                                     | Jada Pinkett Smith                                        |   893                                                     |   2298191                                                 | Adventure|Animation|Fantasy                               | ...                                                       | 0                                                         | 0                                                         | 0                                                         | 0                                                         | 0                                                         | JPN                                                       |  19836208                                                 |   3436293.2                                               |  29659426                                                 |  -26223133                                                | \n",
       "| Color                                                     | Katsuhiro Ã”tomo                                          | 105                                                       | 103                                                       |    78                                                     |   101                                                     | Robin Atkin Downes                                        |   488                                                     |    410388                                                 | Action|Adventure|Animation|Family|Sci-Fi|Thriller         | ...                                                       | 0                                                         | 0                                                         | 1                                                         | 0                                                         | 0                                                         | JPN                                                       |  19664196                                                 |    521465.0                                               |  24986575                                                 |  -24465109                                                | \n",
       "| Color                                                     | Katsuhiro Ã”tomo                                          | 150                                                       | 124                                                       |    78                                                     |     4                                                     | Takeshi Kusao                                             |     6                                                     |    439162                                                 | Action|Animation|Sci-Fi                                   | ...                                                       | 0                                                         | 0                                                         | 0                                                         | 0                                                         | 0                                                         | JPN                                                       |   8583579                                                 |    891286.1                                               |  17420507                                                 |  -16529221                                                | \n",
       "| Color                                                     | Takao Okawara                                             | 107                                                       |  99                                                       |     2                                                     |     3                                                     | Naomi Nishida                                             |    43                                                     |  10037390                                                 | Action|Adventure|Drama|Sci-Fi|Thriller                    | ...                                                       | 0                                                         | 0                                                         | 1                                                         | 0                                                         | 0                                                         | JPN                                                       |   8779106                                                 |  14462224.8                                               |  12649245                                                 |    1812980                                                | \n",
       "| Color                                                     | Karan Johar                                               |  20                                                       | 193                                                       |   160                                                     |   860                                                     | John Abraham                                              |  8000                                                     |   3275443                                                 | Drama                                                     | ...                                                       | 0                                                         | 0                                                         | 0                                                         | 0                                                         | 0                                                         | IND                                                       |  15450148                                                 |   3899614.0                                               |  18394340                                                 |  -14494726                                                | \n",
       "| Color                                                     | Carlos Saura                                              |  35                                                       | 115                                                       |    98                                                     |     4                                                     | Juan Luis Galiardo                                        |   341                                                     |   1687311                                                 | Drama|Musical                                             | ...                                                       | 0                                                         | 0                                                         | 0                                                         | 0                                                         | 0                                                         | ESP                                                       |   4604024                                                 |   2484331.4                                               |   6778787                                                 |   -4294455                                                | \n",
       "| Color                                                     | Anurag Basu                                               |  41                                                       |  90                                                       |   116                                                     |   303                                                     | Steven Michael Quezada                                    |   594                                                     |   1602466                                                 | Action|Drama|Romance|Thriller                             | ...                                                       | 0                                                         | 0                                                         | 1                                                         | 0                                                         | 0                                                         | IND                                                       |  13121691                                                 |   1763786.3                                               |  14442652                                                 |  -12678865                                                | \n",
       "| Color                                                     | John Woo                                                  | 160                                                       | 150                                                       |   610                                                     |   478                                                     | Tony Chiu Wai Leung                                       |   755                                                     |    626809                                                 | Action|Adventure|Drama|History|War                        | ...                                                       | 0                                                         | 0                                                         | 0                                                         | 1                                                         | 0                                                         | CHN                                                       |  79674699                                                 |    698731.5                                               |  88816882                                                 |  -88118150                                                | \n",
       "| Color                                                     | Chatrichalerm Yukol                                       |  31                                                       | 300                                                       |     6                                                     |     6                                                     | Chatchai Plengpanich                                      |     7                                                     |    454255                                                 | Action|Adventure|Drama|History|War                        | ...                                                       | 0                                                         | 0                                                         | 0                                                         | 1                                                         | 0                                                         | THA                                                       |   9134505                                                 |    615725.4                                               |  12381475                                                 |  -11765749                                                | \n",
       "| Color                                                     | Luc Besson                                                | 111                                                       | 158                                                       |    NA                                                     |    15                                                     | David Bailie                                              |    51                                                     |  14131298                                                 | Adventure|Biography|Drama|History|War                     | ...                                                       | 0                                                         | 0                                                         | 0                                                         | 1                                                         | 0                                                         | FRA                                                       |  65000000                                                 |  20360871.5                                               |  93654288                                                 |  -73293416                                                | \n",
       "| Color                                                     | Gore Verbinski                                            | 302                                                       | 169                                                       |   563                                                     |  1000                                                     | Orlando Bloom                                             | 40000                                                     | 309404152                                                 | Action|Adventure|Fantasy                                  | ...                                                       | 0                                                         | 0                                                         | 0                                                         | 0                                                         | 0                                                         | NA                                                        | 300000000                                                 | 358147700.4                                               | 347262018                                                 |   10885683                                                | \n",
       "| Color                                                     | Tony Jaa                                                  | 110                                                       | 110                                                       |    NA                                                     |     7                                                     | Petchtai Wongkamlao                                       |    64                                                     |    102055                                                 | Action                                                    | ...                                                       | 0                                                         | 0                                                         | 0                                                         | 0                                                         | 0                                                         | THA                                                       |   8522146                                                 |    113765.2                                               |   9500010                                                 |   -9386245                                                | \n",
       "| Color                                                     | Andrew Stanton                                            | 462                                                       | 132                                                       |   475                                                     |   530                                                     | Samantha Morton                                           |   640                                                     |  73058679                                                 | Action|Adventure|Sci-Fi                                   | ...                                                       | 0                                                         | 0                                                         | 0                                                         | 0                                                         | 0                                                         | NA                                                        | 263700000                                                 |  76372258.2                                               | 275660124                                                 | -199287865                                                | \n",
       "| Color                                                     | Nathan Greno                                              | 324                                                       | 100                                                       |    15                                                     |   284                                                     | Donna Murphy                                              |   799                                                     | 200807262                                                 | Adventure|Animation|Comedy|Family|Fantasy|Musical|Romance | ...                                                       | 0                                                         | 0                                                         | 0                                                         | 0                                                         | 0                                                         | NA                                                        | 260000000                                                 | 221022529.1                                               | 286174200                                                 |  -65151671                                                | \n",
       "| Color                                                     | Sam Raimi                                                 | 392                                                       | 156                                                       |    NA                                                     |  4000                                                     | James Franco                                              | 24000                                                     | 336530303                                                 | Action|Adventure|Romance                                  | ...                                                       | 0                                                         | 0                                                         | 0                                                         | 0                                                         | 0                                                         | USA                                                       | 258000000                                                 | 389547306.8                                               | 298645335                                                 |   90901972                                                | \n",
       "| Color                                                     | Christopher Nolan                                         | 813                                                       | 164                                                       | 22000                                                     | 23000                                                     | Christian Bale                                            | 27000                                                     | 448130642                                                 | Action|Thriller                                           | ...                                                       | 0                                                         | 0                                                         | 1                                                         | 0                                                         | 0                                                         | NA                                                        | 250000000                                                 | 468455624.3                                               | 261338760                                                 |  207116865                                                | \n",
       "| Color                                                     | Joss Whedon                                               | 635                                                       | 141                                                       |    NA                                                     | 19000                                                     | Robert Downey Jr.                                         | 26000                                                     | 458991599                                                 | Action|Adventure|Sci-Fi                                   | ...                                                       | 0                                                         | 0                                                         | 0                                                         | 0                                                         | 0                                                         | NA                                                        | 250000000                                                 | 464782215.9                                               | 253153989                                                 |  211628227                                                | \n",
       "| Color                                                     | David Yates                                               | 375                                                       | 153                                                       |   282                                                     | 10000                                                     | Daniel Radcliffe                                          | 25000                                                     | 301956980                                                 | Adventure|Family|Fantasy|Mystery                          | ...                                                       | 0                                                         | 0                                                         | 0                                                         | 0                                                         | 0                                                         | NA                                                        | 250000000                                                 | 337805755.3                                               | 279680367                                                 |   58125389                                                | \n",
       "| Color                                                     | Zack Snyder                                               | 673                                                       | 183                                                       |    NA                                                     |  2000                                                     | Lauren Cohan                                              | 15000                                                     | 330249062                                                 | Action|Adventure|Sci-Fi                                   | ...                                                       | 0                                                         | 0                                                         | 0                                                         | 0                                                         | 0                                                         | NA                                                        | 250000000                                                 | 330249062.0                                               | 250000000                                                 |   80249062                                                | \n",
       "| Color                                                     | Rob Marshall                                              | 448                                                       | 136                                                       |   252                                                     |  1000                                                     | Sam Claflin                                               | 40000                                                     | 241063875                                                 | Action|Adventure|Fantasy                                  | ...                                                       | 0                                                         | 0                                                         | 0                                                         | 0                                                         | 0                                                         | USA                                                       | 250000000                                                 | 257212103.7                                               | 266746836                                                 |   -9534732                                                | \n",
       "| Color                                                     | Peter Jackson                                             | 422                                                       | 164                                                       |    NA                                                     |   773                                                     | Adam Brown                                                |  5000                                                     | 255108370                                                 | Adventure|Fantasy                                         | ...                                                       | 0                                                         | 0                                                         | 0                                                         | 0                                                         | 0                                                         | USA                                                       | 250000000                                                 | 258633275.6                                               | 253454322                                                 |    5178954                                                | \n",
       "| Color                                                     | Anthony Russo                                             | 516                                                       | 147                                                       |    94                                                     | 11000                                                     | Scarlett Johansson                                        | 21000                                                     | 407197282                                                 | Action|Adventure|Sci-Fi                                   | ...                                                       | 0                                                         | 0                                                         | 0                                                         | 0                                                         | 0                                                         | USA                                                       | 250000000                                                 | 407197282.0                                               | 250000000                                                 |  157197282                                                | \n",
       "| Color                                                     | Sam Mendes                                                | 602                                                       | 148                                                       |    NA                                                     |   161                                                     | Rory Kinnear                                              | 11000                                                     | 200074175                                                 | Action|Adventure|Thriller                                 | ...                                                       | 0                                                         | 0                                                         | 1                                                         | 0                                                         | 0                                                         | NA                                                        | 245000000                                                 | 202598301.6                                               | 248090909                                                 |  -45492607                                                | \n",
       "| Color                                                     | James Cameron                                             | 723                                                       | 178                                                       |    NA                                                     |   855                                                     | Joel David Moore                                          |  1000                                                     | 760505847                                                 | Action|Adventure|Fantasy|Sci-Fi                           | ...                                                       | 0                                                         | 0                                                         | 0                                                         | 0                                                         | 0                                                         | NA                                                        | 237000000                                                 | 850794216.1                                               | 265136987                                                 |  585657229                                                | \n",
       "| Color                                                     | Marc Webb                                                 | 599                                                       | 153                                                       |   464                                                     |   963                                                     | Andrew Garfield                                           | 15000                                                     | 262030663                                                 | Action|Adventure|Fantasy                                  | ...                                                       | 0                                                         | 0                                                         | 0                                                         | 0                                                         | 0                                                         | USA                                                       | 230000000                                                 | 273915073.7                                               | 240431659                                                 |   33483415                                                | \n",
       "| Color                                                     | Gore Verbinski                                            | 313                                                       | 151                                                       |   563                                                     |  1000                                                     | Orlando Bloom                                             | 40000                                                     | 423032628                                                 | Action|Adventure|Fantasy                                  | ...                                                       | 0                                                         | 0                                                         | 0                                                         | 0                                                         | 0                                                         | USA                                                       | 225000000                                                 | 503646060.6                                               | 267876178                                                 |  235769882                                                | \n",
       "| Color                                                     | Zack Snyder                                               | 733                                                       | 143                                                       |    NA                                                     |   748                                                     | Christopher Meloni                                        | 15000                                                     | 291021565                                                 | Action|Adventure|Fantasy|Sci-Fi                           | ...                                                       | 0                                                         | 0                                                         | 0                                                         | 0                                                         | 0                                                         | USA                                                       | 225000000                                                 | 299828992.2                                               | 231809362                                                 |   68019630                                                | \n",
       "| ... | ... | ... | ... | ... | ... | ... | ... | ... | ... |     | ... | ... | ... | ... | ... | ... | ... | ... | ... | ... | \n",
       "| Color                          | Niall Johnson                  |   4                            | 114                            |     7                          |   2                            | Mark Caven                     |    19                          |     NA                         | Drama                          | ...                            | 0                              | 0                              | 0                              | 0                              | 0                              | USA                            | NA                             |         NA                     | NA                             | NA                             | \n",
       "| Color                          | Florence Ayisi                 |  27                            | 104                            |    NA                          |  NA                            | Beatrice Ntuba                 |     2                          |  32631                         | Documentary                    | ...                            | 0                              | 0                              | 0                              | 0                              | 0                              | USA                            | NA                             |   40102.45                     | NA                             | NA                             | \n",
       "| Color                          | Pece Dingo                     |   1                            |  94                            |    NA                          |  87                            | Wilhelm von Homburg            |   156                          |     NA                         | Horror                         | ...                            | 0                              | 0                              | 0                              | 0                              | 0                              | USA                            | NA                             |         NA                     | NA                             | NA                             | \n",
       "| Color                          | Michael Kang                   |  27                            |  75                            |   269                          |   7                            | Clint Jordan                   |   100                          |  47111                         | Comedy|Drama                   | ...                            | 0                              | 0                              | 0                              | 0                              | 0                              | USA                            | NA                             |   57897.90                     | NA                             | NA                             | \n",
       "| Color                          | Lori Silverbush                |  26                            |  86                            |     5                          |  41                            | Flaco Navaja                   |    68                          |     NA                         | Drama                          | ...                            | 0                              | 0                              | 0                              | 0                              | 0                              | USA                            | NA                             |         NA                     | NA                             | NA                             | \n",
       "| Color                          | Stuart Hazeldine               |  77                            | 101                            |    17                          | 289                            | Luke Mably                     |   766                          |     NA                         | Mystery|Thriller               | ...                            | 0                              | 0                              | 1                              | 0                              | 0                              | USA                            | NA                             |         NA                     | NA                             | NA                             | \n",
       "| Color                          | Jason Naumann                  |  NA                            |  35                            |     2                          | 152                            | Kate Flannery                  |   338                          |     NA                         | Comedy|Short                   | ...                            | 1                              | 0                              | 0                              | 0                              | 0                              | USA                            | NA                             |         NA                     | NA                             | NA                             | \n",
       "| Color                          | Matt Cimber                    |  15                            | 108                            |    32                          | 180                            | June Lockhart                  |   602                          |     NA                         | Crime|Drama                    | ...                            | 0                              | 0                              | 0                              | 0                              | 0                              | USA                            | NA                             |         NA                     | NA                             | NA                             | \n",
       "| Color                          | Nicolas Winding Refn           | 225                            |  92                            |    NA                          | 146                            | James Lance                    | 27000                          | 104792                         | Action|Biography|Crime|Drama   | ...                            | 0                              | 0                              | 0                              | 0                              | 0                              | USA                            | NA                             |  116816.24                     | NA                             | NA                             | \n",
       "| Color                          | Tom Tykwer                     |  76                            | 119                            |   670                          |   9                            | Sebastian Schipper             |    24                          |  59774                         | Comedy|Drama|Romance           | ...                            | 0                              | 0                              | 0                              | 0                              | 0                              | USA                            | NA                             |   65791.45                     | NA                             | NA                             | \n",
       "| Color                          | Livingston Oden                |   1                            |  89                            |    NA                          |  15                            | Victoria Lachelle              |   138                          |     NA                         | Comedy|Horror|Mystery|Thriller | ...                            | 0                              | 0                              | 1                              | 0                              | 0                              | USA                            | NA                             |         NA                     | NA                             | NA                             | \n",
       "| Black and White                | Carl Theodor Dreyer            |  54                            | 126                            |   147                          |   0                            | Sylvia Eckhausen               |     0                          |     NA                         | Drama|Fantasy                  | ...                            | 0                              | 0                              | 0                              | 0                              | 0                              | USA                            | NA                             |         NA                     | NA                             | NA                             | \n",
       "| Color                          | Pat Holden                     |  44                            |  86                            |     6                          | 115                            | Martin Compston                |   498                          |     NA                         | Horror                         | ...                            | 0                              | 0                              | 0                              | 0                              | 0                              | USA                            | NA                             |         NA                     | NA                             | NA                             | \n",
       "| Color                          | Zal Batmanglij                 | 136                            |  85                            |   129                          | 100                            | James Urbaniak                 |   120                          | 405614                         | Drama|Mystery|Sci-Fi|Thriller  | ...                            | 0                              | 0                              | 1                              | 0                              | 0                              | USA                            | NA                             |  432785.00                     | NA                             | NA                             | \n",
       "| Black and White                | John Reinhardt                 |   1                            |  68                            |     2                          |  75                            | John Ireland                   |   142                          |     NA                         | Crime|Drama                    | ...                            | 0                              | 0                              | 0                              | 0                              | 0                              | USA                            | NA                             |         NA                     | NA                             | NA                             | \n",
       "| Color                          | Laslo Benedek                  |  14                            | 106                            |     6                          |  13                            | Trevor Howard                  |   440                          |     NA                         | Crime|Horror|Thriller          | ...                            | 0                              | 0                              | 1                              | 0                              | 0                              | USA                            | NA                             |         NA                     | NA                             | NA                             | \n",
       "| Color                          | Julie Davis                    |   5                            |  86                            |    12                          | 117                            | Meredith Scott Lynn            |   238                          |  33598                         | Comedy|Romance                 | ...                            | 0                              | 0                              | 0                              | 0                              | 0                              | USA                            | NA                             |   50236.28                     | NA                             | NA                             | \n",
       "| Color                          | Daniel Schechter               |  15                            |  87                            |     8                          | 272                            | Kevin Corrigan                 |   969                          |     NA                         | Comedy                         | ...                            | 0                              | 0                              | 0                              | 0                              | 0                              | USA                            | NA                             |         NA                     | NA                             | NA                             | \n",
       "| Color                          | Bruno Barreto                  |   1                            |  99                            |     9                          |   3                            | Sonia Braga                    |   866                          |     NA                         | Comedy|Drama|Romance           | ...                            | 0                              | 0                              | 0                              | 0                              | 0                              | USA                            | NA                             |         NA                     | NA                             | NA                             | \n",
       "| Color                          | Daniel Mellitz                 |  NA                            |  NA                            |    NA                          |  15                            | Chelse Swain                   |  1000                          |     NA                         | Comedy|Drama                   | ...                            | 0                              | 0                              | 0                              | 0                              | 0                              | USA                            | NA                             |         NA                     | NA                             | NA                             | \n",
       "| Color                          | Martin Scorsese                |  71                            | 117                            | 17000                          | 476                            | Levon Helm                     |   725                          | 321952                         | Documentary|Music              | ...                            | 0                              | 0                              | 0                              | 0                              | 0                              | USA                            | NA                             | 1184529.14                     | NA                             | NA                             | \n",
       "| Color                          | Bradley Rust Gray              |  61                            |  79                            |     2                          |  20                            | Mark Rendall                   |   962                          |  24705                         | Drama                          | ...                            | 0                              | 0                              | 0                              | 0                              | 0                              | USA                            | NA                             |   27638.01                     | NA                             | NA                             | \n",
       "| Black and White                | Andrew Bujalski                |  52                            | 109                            |    26                          |   3                            | Kate Dollenmayer               |    26                          |     NA                         | Comedy                         | ...                            | 0                              | 0                              | 0                              | 0                              | 0                              | USA                            | NA                             |         NA                     | NA                             | NA                             | \n",
       "| Color                          | Ben Wheatley                   |  53                            |  93                            |   214                          |  59                            | Tony Way                       |   177                          |   9609                         | Comedy|Crime|Drama             | ...                            | 0                              | 0                              | 0                              | 0                              | 0                              | USA                            | NA                             |   10749.79                     | NA                             | NA                             | \n",
       "| Color                          | Andrew Bujalski                |  43                            |  85                            |    26                          |   3                            | Kate Dollenmayer               |    26                          |     NA                         | Comedy|Drama                   | ...                            | 0                              | 0                              | 0                              | 0                              | 0                              | USA                            | NA                             |         NA                     | NA                             | NA                             | \n",
       "| Color                          | Uwe Boll                       |  58                            |  80                            |   892                          | 492                            | Katharine Isabelle             |   986                          |     NA                         | Action|Crime|Thriller          | ...                            | 0                              | 0                              | 1                              | 0                              | 0                              | USA                            | NA                             |         NA                     | NA                             | NA                             | \n",
       "| Color                          | Marcus Nispel                  |  43                            |  91                            |   158                          | 265                            | Brittany Curran                |   630                          |     NA                         | Horror|Mystery|Thriller        | ...                            | 0                              | 0                              | 1                              | 0                              | 0                              | USA                            | NA                             |         NA                     | NA                             | NA                             | \n",
       "| Color                          | Ash Baron-Cohen                |  10                            |  98                            |     3                          | 152                            | Stanley B. Herman              |   789                          |     NA                         | Crime|Drama                    | ...                            | 0                              | 0                              | 0                              | 0                              | 0                              | NA                             | NA                             |         NA                     | NA                             | NA                             | \n",
       "| Color                          | Scott Smith                    |   1                            |  87                            |     2                          | 318                            | Daphne Zuniga                  |   637                          |     NA                         | Comedy|Drama                   | ...                            | 0                              | 0                              | 0                              | 0                              | 0                              | NA                             | NA                             |         NA                     | NA                             | NA                             | \n",
       "| Color                          | Daniel Hsia                    |  14                            | 100                            |    NA                          | 489                            | Daniel Henney                  |   946                          |  10443                         | Comedy|Drama|Romance           | ...                            | 0                              | 0                              | 0                              | 0                              | 0                              | NA                             | NA                             |   10916.64                     | NA                             | NA                             | \n",
       "\n",
       "\n"
      ],
      "text/plain": [
       "     color           director_name        num_critic_for_reviews duration\n",
       "1    Color           Joon-ho Bong         363                    110     \n",
       "2    Color           Chan-wook Park       202                    112     \n",
       "3    Color           Lajos Koltai          73                    134     \n",
       "4    Color           Hayao Miyazaki       174                    134     \n",
       "5    Color           Katsuhiro Ãtomo     105                    103     \n",
       "6    Color           Katsuhiro Ãtomo     150                    124     \n",
       "7    Color           Takao Okawara        107                     99     \n",
       "8    Color           Karan Johar           20                    193     \n",
       "9    Color           Carlos Saura          35                    115     \n",
       "10   Color           Anurag Basu           41                     90     \n",
       "11   Color           John Woo             160                    150     \n",
       "12   Color           Chatrichalerm Yukol   31                    300     \n",
       "13   Color           Luc Besson           111                    158     \n",
       "14   Color           Gore Verbinski       302                    169     \n",
       "15   Color           Tony Jaa             110                    110     \n",
       "16   Color           Andrew Stanton       462                    132     \n",
       "17   Color           Nathan Greno         324                    100     \n",
       "18   Color           Sam Raimi            392                    156     \n",
       "19   Color           Christopher Nolan    813                    164     \n",
       "20   Color           Joss Whedon          635                    141     \n",
       "21   Color           David Yates          375                    153     \n",
       "22   Color           Zack Snyder          673                    183     \n",
       "23   Color           Rob Marshall         448                    136     \n",
       "24   Color           Peter Jackson        422                    164     \n",
       "25   Color           Anthony Russo        516                    147     \n",
       "26   Color           Sam Mendes           602                    148     \n",
       "27   Color           James Cameron        723                    178     \n",
       "28   Color           Marc Webb            599                    153     \n",
       "29   Color           Gore Verbinski       313                    151     \n",
       "30   Color           Zack Snyder          733                    143     \n",
       "...  ...             ...                  ...                    ...     \n",
       "4788 Color           Niall Johnson          4                    114     \n",
       "4789 Color           Florence Ayisi        27                    104     \n",
       "4790 Color           Pece Dingo             1                     94     \n",
       "4791 Color           Michael Kang          27                     75     \n",
       "4792 Color           Lori Silverbush       26                     86     \n",
       "4793 Color           Stuart Hazeldine      77                    101     \n",
       "4794 Color           Jason Naumann         NA                     35     \n",
       "4795 Color           Matt Cimber           15                    108     \n",
       "4796 Color           Nicolas Winding Refn 225                     92     \n",
       "4797 Color           Tom Tykwer            76                    119     \n",
       "4798 Color           Livingston Oden        1                     89     \n",
       "4799 Black and White Carl Theodor Dreyer   54                    126     \n",
       "4800 Color           Pat Holden            44                     86     \n",
       "4801 Color           Zal Batmanglij       136                     85     \n",
       "4802 Black and White John Reinhardt         1                     68     \n",
       "4803 Color           Laslo Benedek         14                    106     \n",
       "4804 Color           Julie Davis            5                     86     \n",
       "4805 Color           Daniel Schechter      15                     87     \n",
       "4806 Color           Bruno Barreto          1                     99     \n",
       "4807 Color           Daniel Mellitz        NA                     NA     \n",
       "4808 Color           Martin Scorsese       71                    117     \n",
       "4809 Color           Bradley Rust Gray     61                     79     \n",
       "4810 Black and White Andrew Bujalski       52                    109     \n",
       "4811 Color           Ben Wheatley          53                     93     \n",
       "4812 Color           Andrew Bujalski       43                     85     \n",
       "4813 Color           Uwe Boll              58                     80     \n",
       "4814 Color           Marcus Nispel         43                     91     \n",
       "4815 Color           Ash Baron-Cohen       10                     98     \n",
       "4816 Color           Scott Smith            1                     87     \n",
       "4817 Color           Daniel Hsia           14                    100     \n",
       "     director_facebook_likes actor_3_facebook_likes actor_2_name          \n",
       "1      584                      74                  Kang-ho Song          \n",
       "2       NA                      38                  Yeong-ae Lee          \n",
       "3       45                       0                  PÃ©ter Fancsikai      \n",
       "4     6000                     745                  Jada Pinkett Smith    \n",
       "5       78                     101                  Robin Atkin Downes    \n",
       "6       78                       4                  Takeshi Kusao         \n",
       "7        2                       3                  Naomi Nishida         \n",
       "8      160                     860                  John Abraham          \n",
       "9       98                       4                  Juan Luis Galiardo    \n",
       "10     116                     303                  Steven Michael Quezada\n",
       "11     610                     478                  Tony Chiu Wai Leung   \n",
       "12       6                       6                  Chatchai Plengpanich  \n",
       "13      NA                      15                  David Bailie          \n",
       "14     563                    1000                  Orlando Bloom         \n",
       "15      NA                       7                  Petchtai Wongkamlao   \n",
       "16     475                     530                  Samantha Morton       \n",
       "17      15                     284                  Donna Murphy          \n",
       "18      NA                    4000                  James Franco          \n",
       "19   22000                   23000                  Christian Bale        \n",
       "20      NA                   19000                  Robert Downey Jr.     \n",
       "21     282                   10000                  Daniel Radcliffe      \n",
       "22      NA                    2000                  Lauren Cohan          \n",
       "23     252                    1000                  Sam Claflin           \n",
       "24      NA                     773                  Adam Brown            \n",
       "25      94                   11000                  Scarlett Johansson    \n",
       "26      NA                     161                  Rory Kinnear          \n",
       "27      NA                     855                  Joel David Moore      \n",
       "28     464                     963                  Andrew Garfield       \n",
       "29     563                    1000                  Orlando Bloom         \n",
       "30      NA                     748                  Christopher Meloni    \n",
       "...  ...                     ...                    ...                   \n",
       "4788     7                     2                    Mark Caven            \n",
       "4789    NA                    NA                    Beatrice Ntuba        \n",
       "4790    NA                    87                    Wilhelm von Homburg   \n",
       "4791   269                     7                    Clint Jordan          \n",
       "4792     5                    41                    Flaco Navaja          \n",
       "4793    17                   289                    Luke Mably            \n",
       "4794     2                   152                    Kate Flannery         \n",
       "4795    32                   180                    June Lockhart         \n",
       "4796    NA                   146                    James Lance           \n",
       "4797   670                     9                    Sebastian Schipper    \n",
       "4798    NA                    15                    Victoria Lachelle     \n",
       "4799   147                     0                    Sylvia Eckhausen      \n",
       "4800     6                   115                    Martin Compston       \n",
       "4801   129                   100                    James Urbaniak        \n",
       "4802     2                    75                    John Ireland          \n",
       "4803     6                    13                    Trevor Howard         \n",
       "4804    12                   117                    Meredith Scott Lynn   \n",
       "4805     8                   272                    Kevin Corrigan        \n",
       "4806     9                     3                    Sonia Braga           \n",
       "4807    NA                    15                    Chelse Swain          \n",
       "4808 17000                   476                    Levon Helm            \n",
       "4809     2                    20                    Mark Rendall          \n",
       "4810    26                     3                    Kate Dollenmayer      \n",
       "4811   214                    59                    Tony Way              \n",
       "4812    26                     3                    Kate Dollenmayer      \n",
       "4813   892                   492                    Katharine Isabelle    \n",
       "4814   158                   265                    Brittany Curran       \n",
       "4815     3                   152                    Stanley B. Herman     \n",
       "4816     2                   318                    Daphne Zuniga         \n",
       "4817    NA                   489                    Daniel Henney         \n",
       "     actor_1_facebook_likes gross    \n",
       "1      629                    2201412\n",
       "2      717                     211667\n",
       "3        9                     195888\n",
       "4      893                    2298191\n",
       "5      488                     410388\n",
       "6        6                     439162\n",
       "7       43                   10037390\n",
       "8     8000                    3275443\n",
       "9      341                    1687311\n",
       "10     594                    1602466\n",
       "11     755                     626809\n",
       "12       7                     454255\n",
       "13      51                   14131298\n",
       "14   40000                  309404152\n",
       "15      64                     102055\n",
       "16     640                   73058679\n",
       "17     799                  200807262\n",
       "18   24000                  336530303\n",
       "19   27000                  448130642\n",
       "20   26000                  458991599\n",
       "21   25000                  301956980\n",
       "22   15000                  330249062\n",
       "23   40000                  241063875\n",
       "24    5000                  255108370\n",
       "25   21000                  407197282\n",
       "26   11000                  200074175\n",
       "27    1000                  760505847\n",
       "28   15000                  262030663\n",
       "29   40000                  423032628\n",
       "30   15000                  291021565\n",
       "...  ...                    ...      \n",
       "4788    19                      NA   \n",
       "4789     2                   32631   \n",
       "4790   156                      NA   \n",
       "4791   100                   47111   \n",
       "4792    68                      NA   \n",
       "4793   766                      NA   \n",
       "4794   338                      NA   \n",
       "4795   602                      NA   \n",
       "4796 27000                  104792   \n",
       "4797    24                   59774   \n",
       "4798   138                      NA   \n",
       "4799     0                      NA   \n",
       "4800   498                      NA   \n",
       "4801   120                  405614   \n",
       "4802   142                      NA   \n",
       "4803   440                      NA   \n",
       "4804   238                   33598   \n",
       "4805   969                      NA   \n",
       "4806   866                      NA   \n",
       "4807  1000                      NA   \n",
       "4808   725                  321952   \n",
       "4809   962                   24705   \n",
       "4810    26                      NA   \n",
       "4811   177                    9609   \n",
       "4812    26                      NA   \n",
       "4813   986                      NA   \n",
       "4814   630                      NA   \n",
       "4815   789                      NA   \n",
       "4816   637                      NA   \n",
       "4817   946                   10443   \n",
       "     genres                                                    ... genres_Short\n",
       "1    Comedy|Drama|Horror|Sci-Fi                                ... 0           \n",
       "2    Crime|Drama                                               ... 0           \n",
       "3    Drama|Romance|War                                         ... 0           \n",
       "4    Adventure|Animation|Fantasy                               ... 0           \n",
       "5    Action|Adventure|Animation|Family|Sci-Fi|Thriller         ... 0           \n",
       "6    Action|Animation|Sci-Fi                                   ... 0           \n",
       "7    Action|Adventure|Drama|Sci-Fi|Thriller                    ... 0           \n",
       "8    Drama                                                     ... 0           \n",
       "9    Drama|Musical                                             ... 0           \n",
       "10   Action|Drama|Romance|Thriller                             ... 0           \n",
       "11   Action|Adventure|Drama|History|War                        ... 0           \n",
       "12   Action|Adventure|Drama|History|War                        ... 0           \n",
       "13   Adventure|Biography|Drama|History|War                     ... 0           \n",
       "14   Action|Adventure|Fantasy                                  ... 0           \n",
       "15   Action                                                    ... 0           \n",
       "16   Action|Adventure|Sci-Fi                                   ... 0           \n",
       "17   Adventure|Animation|Comedy|Family|Fantasy|Musical|Romance ... 0           \n",
       "18   Action|Adventure|Romance                                  ... 0           \n",
       "19   Action|Thriller                                           ... 0           \n",
       "20   Action|Adventure|Sci-Fi                                   ... 0           \n",
       "21   Adventure|Family|Fantasy|Mystery                          ... 0           \n",
       "22   Action|Adventure|Sci-Fi                                   ... 0           \n",
       "23   Action|Adventure|Fantasy                                  ... 0           \n",
       "24   Adventure|Fantasy                                         ... 0           \n",
       "25   Action|Adventure|Sci-Fi                                   ... 0           \n",
       "26   Action|Adventure|Thriller                                 ... 0           \n",
       "27   Action|Adventure|Fantasy|Sci-Fi                           ... 0           \n",
       "28   Action|Adventure|Fantasy                                  ... 0           \n",
       "29   Action|Adventure|Fantasy                                  ... 0           \n",
       "30   Action|Adventure|Fantasy|Sci-Fi                           ... 0           \n",
       "...  ...                                                           ...         \n",
       "4788 Drama                                                     ... 0           \n",
       "4789 Documentary                                               ... 0           \n",
       "4790 Horror                                                    ... 0           \n",
       "4791 Comedy|Drama                                              ... 0           \n",
       "4792 Drama                                                     ... 0           \n",
       "4793 Mystery|Thriller                                          ... 0           \n",
       "4794 Comedy|Short                                              ... 1           \n",
       "4795 Crime|Drama                                               ... 0           \n",
       "4796 Action|Biography|Crime|Drama                              ... 0           \n",
       "4797 Comedy|Drama|Romance                                      ... 0           \n",
       "4798 Comedy|Horror|Mystery|Thriller                            ... 0           \n",
       "4799 Drama|Fantasy                                             ... 0           \n",
       "4800 Horror                                                    ... 0           \n",
       "4801 Drama|Mystery|Sci-Fi|Thriller                             ... 0           \n",
       "4802 Crime|Drama                                               ... 0           \n",
       "4803 Crime|Horror|Thriller                                     ... 0           \n",
       "4804 Comedy|Romance                                            ... 0           \n",
       "4805 Comedy                                                    ... 0           \n",
       "4806 Comedy|Drama|Romance                                      ... 0           \n",
       "4807 Comedy|Drama                                              ... 0           \n",
       "4808 Documentary|Music                                         ... 0           \n",
       "4809 Drama                                                     ... 0           \n",
       "4810 Comedy                                                    ... 0           \n",
       "4811 Comedy|Crime|Drama                                        ... 0           \n",
       "4812 Comedy|Drama                                              ... 0           \n",
       "4813 Action|Crime|Thriller                                     ... 0           \n",
       "4814 Horror|Mystery|Thriller                                   ... 0           \n",
       "4815 Crime|Drama                                               ... 0           \n",
       "4816 Comedy|Drama                                              ... 0           \n",
       "4817 Comedy|Drama|Romance                                      ... 0           \n",
       "     genres_Sport genres_Thriller genres_War genres_Western currency budget_us\n",
       "1    0            0               0          0              KOR       12793905\n",
       "2    0            0               0          0              KOR        4101095\n",
       "3    0            0               1          0              HUN       12526148\n",
       "4    0            0               0          0              JPN       19836208\n",
       "5    0            1               0          0              JPN       19664196\n",
       "6    0            0               0          0              JPN        8583579\n",
       "7    0            1               0          0              JPN        8779106\n",
       "8    0            0               0          0              IND       15450148\n",
       "9    0            0               0          0              ESP        4604024\n",
       "10   0            1               0          0              IND       13121691\n",
       "11   0            0               1          0              CHN       79674699\n",
       "12   0            0               1          0              THA        9134505\n",
       "13   0            0               1          0              FRA       65000000\n",
       "14   0            0               0          0              NA       300000000\n",
       "15   0            0               0          0              THA        8522146\n",
       "16   0            0               0          0              NA       263700000\n",
       "17   0            0               0          0              NA       260000000\n",
       "18   0            0               0          0              USA      258000000\n",
       "19   0            1               0          0              NA       250000000\n",
       "20   0            0               0          0              NA       250000000\n",
       "21   0            0               0          0              NA       250000000\n",
       "22   0            0               0          0              NA       250000000\n",
       "23   0            0               0          0              USA      250000000\n",
       "24   0            0               0          0              USA      250000000\n",
       "25   0            0               0          0              USA      250000000\n",
       "26   0            1               0          0              NA       245000000\n",
       "27   0            0               0          0              NA       237000000\n",
       "28   0            0               0          0              USA      230000000\n",
       "29   0            0               0          0              USA      225000000\n",
       "30   0            0               0          0              USA      225000000\n",
       "...  ...          ...             ...        ...            ...      ...      \n",
       "4788 0            0               0          0              USA      NA       \n",
       "4789 0            0               0          0              USA      NA       \n",
       "4790 0            0               0          0              USA      NA       \n",
       "4791 0            0               0          0              USA      NA       \n",
       "4792 0            0               0          0              USA      NA       \n",
       "4793 0            1               0          0              USA      NA       \n",
       "4794 0            0               0          0              USA      NA       \n",
       "4795 0            0               0          0              USA      NA       \n",
       "4796 0            0               0          0              USA      NA       \n",
       "4797 0            0               0          0              USA      NA       \n",
       "4798 0            1               0          0              USA      NA       \n",
       "4799 0            0               0          0              USA      NA       \n",
       "4800 0            0               0          0              USA      NA       \n",
       "4801 0            1               0          0              USA      NA       \n",
       "4802 0            0               0          0              USA      NA       \n",
       "4803 0            1               0          0              USA      NA       \n",
       "4804 0            0               0          0              USA      NA       \n",
       "4805 0            0               0          0              USA      NA       \n",
       "4806 0            0               0          0              USA      NA       \n",
       "4807 0            0               0          0              USA      NA       \n",
       "4808 0            0               0          0              USA      NA       \n",
       "4809 0            0               0          0              USA      NA       \n",
       "4810 0            0               0          0              USA      NA       \n",
       "4811 0            0               0          0              USA      NA       \n",
       "4812 0            0               0          0              USA      NA       \n",
       "4813 0            1               0          0              USA      NA       \n",
       "4814 0            1               0          0              USA      NA       \n",
       "4815 0            0               0          0              NA       NA       \n",
       "4816 0            0               0          0              NA       NA       \n",
       "4817 0            0               0          0              NA       NA       \n",
       "     gross_2016  budget_2016 profit    \n",
       "1      2620914.8  15231922    -12611007\n",
       "2       260131.9   5040113     -4779981\n",
       "3       240740.0  15394231    -15153491\n",
       "4      3436293.2  29659426    -26223133\n",
       "5       521465.0  24986575    -24465109\n",
       "6       891286.1  17420507    -16529221\n",
       "7     14462224.8  12649245      1812980\n",
       "8      3899614.0  18394340    -14494726\n",
       "9      2484331.4   6778787     -4294455\n",
       "10     1763786.3  14442652    -12678865\n",
       "11      698731.5  88816882    -88118150\n",
       "12      615725.4  12381475    -11765749\n",
       "13    20360871.5  93654288    -73293416\n",
       "14   358147700.4 347262018     10885683\n",
       "15      113765.2   9500010     -9386245\n",
       "16    76372258.2 275660124   -199287865\n",
       "17   221022529.1 286174200    -65151671\n",
       "18   389547306.8 298645335     90901972\n",
       "19   468455624.3 261338760    207116865\n",
       "20   464782215.9 253153989    211628227\n",
       "21   337805755.3 279680367     58125389\n",
       "22   330249062.0 250000000     80249062\n",
       "23   257212103.7 266746836     -9534732\n",
       "24   258633275.6 253454322      5178954\n",
       "25   407197282.0 250000000    157197282\n",
       "26   202598301.6 248090909    -45492607\n",
       "27   850794216.1 265136987    585657229\n",
       "28   273915073.7 240431659     33483415\n",
       "29   503646060.6 267876178    235769882\n",
       "30   299828992.2 231809362     68019630\n",
       "...  ...         ...         ...       \n",
       "4788         NA  NA          NA        \n",
       "4789   40102.45  NA          NA        \n",
       "4790         NA  NA          NA        \n",
       "4791   57897.90  NA          NA        \n",
       "4792         NA  NA          NA        \n",
       "4793         NA  NA          NA        \n",
       "4794         NA  NA          NA        \n",
       "4795         NA  NA          NA        \n",
       "4796  116816.24  NA          NA        \n",
       "4797   65791.45  NA          NA        \n",
       "4798         NA  NA          NA        \n",
       "4799         NA  NA          NA        \n",
       "4800         NA  NA          NA        \n",
       "4801  432785.00  NA          NA        \n",
       "4802         NA  NA          NA        \n",
       "4803         NA  NA          NA        \n",
       "4804   50236.28  NA          NA        \n",
       "4805         NA  NA          NA        \n",
       "4806         NA  NA          NA        \n",
       "4807         NA  NA          NA        \n",
       "4808 1184529.14  NA          NA        \n",
       "4809   27638.01  NA          NA        \n",
       "4810         NA  NA          NA        \n",
       "4811   10749.79  NA          NA        \n",
       "4812         NA  NA          NA        \n",
       "4813         NA  NA          NA        \n",
       "4814         NA  NA          NA        \n",
       "4815         NA  NA          NA        \n",
       "4816         NA  NA          NA        \n",
       "4817   10916.64  NA          NA        "
      ]
     },
     "metadata": {},
     "output_type": "display_data"
    }
   ],
   "source": [
    "movies[actor_1_name==\"Robert Redford\",actor_1_facebook_likes:=121588]"
   ]
  },
  {
   "cell_type": "markdown",
   "metadata": {},
   "source": [
    "I repeat this process with the second billing actor of each movie."
   ]
  },
  {
   "cell_type": "code",
   "execution_count": 214,
   "metadata": {
    "collapsed": false
   },
   "outputs": [
    {
     "data": {
      "text/html": [
       "<dl class=dl-horizontal>\n",
       "\t<dt>Morgan Freeman</dt>\n",
       "\t\t<dd>18</dd>\n",
       "\t<dt>Charlize Theron</dt>\n",
       "\t\t<dd>14</dd>\n",
       "\t<dt>Brad Pitt</dt>\n",
       "\t\t<dd>13</dd>\n",
       "\t<dt>Meryl Streep</dt>\n",
       "\t\t<dd>11</dd>\n",
       "\t<dt>Adam Sandler</dt>\n",
       "\t\t<dd>10</dd>\n",
       "\t<dt>James Franco</dt>\n",
       "\t\t<dd>10</dd>\n",
       "\t<dt>Bruce Willis</dt>\n",
       "\t\t<dd>9</dd>\n",
       "\t<dt>Scott Glenn</dt>\n",
       "\t\t<dd>9</dd>\n",
       "\t<dt>(Other)</dt>\n",
       "\t\t<dd>4712</dd>\n",
       "\t<dt>NA's</dt>\n",
       "\t\t<dd>11</dd>\n",
       "</dl>\n"
      ],
      "text/latex": [
       "\\begin{description*}\n",
       "\\item[Morgan Freeman] 18\n",
       "\\item[Charlize Theron] 14\n",
       "\\item[Brad Pitt] 13\n",
       "\\item[Meryl Streep] 11\n",
       "\\item[Adam Sandler] 10\n",
       "\\item[James Franco] 10\n",
       "\\item[Bruce Willis] 9\n",
       "\\item[Scott Glenn] 9\n",
       "\\item[(Other)] 4712\n",
       "\\item[NA's] 11\n",
       "\\end{description*}\n"
      ],
      "text/markdown": [
       "Morgan Freeman\n",
       ":   18Charlize Theron\n",
       ":   14Brad Pitt\n",
       ":   13Meryl Streep\n",
       ":   11Adam Sandler\n",
       ":   10James Franco\n",
       ":   10Bruce Willis\n",
       ":   9Scott Glenn\n",
       ":   9(Other)\n",
       ":   4712NA's\n",
       ":   11\n",
       "\n"
      ],
      "text/plain": [
       " Morgan Freeman Charlize Theron       Brad Pitt    Meryl Streep    Adam Sandler \n",
       "             18              14              13              11              10 \n",
       "   James Franco    Bruce Willis     Scott Glenn         (Other)            NA's \n",
       "             10               9               9            4712              11 "
      ]
     },
     "metadata": {},
     "output_type": "display_data"
    }
   ],
   "source": [
    "summary(movies$actor_2_name,maxsum=10)"
   ]
  },
  {
   "cell_type": "code",
   "execution_count": 215,
   "metadata": {
    "collapsed": false
   },
   "outputs": [],
   "source": [
    "actor2_count<-plyr::count(movies,'actor_2_name')\n",
    "actor2_count<-as.data.frame(actor2_count)\n",
    "names(actor2_count)[names(actor2_count)==\"x\"]<-\"Name\"\n",
    "names(actor2_count)[names(actor2_count)==\"freq\"]<-\"Count\"\n",
    "actor2_count<-actor2_count[order(-actor2_count$Count),]"
   ]
  },
  {
   "cell_type": "code",
   "execution_count": 216,
   "metadata": {
    "collapsed": false
   },
   "outputs": [
    {
     "data": {
      "text/html": [
       "<iframe src=\"plotlyJupyterHTML/6007c5d74654fe792771b4f16212e6a5.html\" width=\"100%\" height=\"400\" id=\"igraph\" scrolling=\"no\" seamless=\"seamless\" frameBorder=\"0\"> </iframe>"
      ]
     },
     "metadata": {},
     "output_type": "display_data"
    }
   ],
   "source": [
    "hist_actor2 <-  actor2_count %>%\n",
    "dplyr::count(Count) %>%\n",
    "  plot_ly(x =~Count, y = ~n) %>% \n",
    "  add_bars()%>%\n",
    "layout(title = 'Distribution of apperence in a movie for second billing actor',\n",
    "         xaxis = list(title = 'Number of movies', zeroline = TRUE),\n",
    "         yaxis = list(title = 'Frequency'))\n",
    "\n",
    "embed_notebook(hist_actor2)"
   ]
  },
  {
   "cell_type": "code",
   "execution_count": 217,
   "metadata": {
    "collapsed": false
   },
   "outputs": [
    {
     "data": {
      "text/html": [
       "<table>\n",
       "<thead><tr><th scope=col>actor_2_name</th><th scope=col>mean_gross</th></tr></thead>\n",
       "<tbody>\n",
       "\t<tr><td>50 Cent           </td><td>25846731          </td></tr>\n",
       "\t<tr><td>A. Michael Baldwin</td><td> 7282851          </td></tr>\n",
       "\t<tr><td>A.J. Buckley      </td><td>       0          </td></tr>\n",
       "\t<tr><td>Aaron Ashmore     </td><td>      NA          </td></tr>\n",
       "\t<tr><td>Aaron Hughes      </td><td> 2426851          </td></tr>\n",
       "\t<tr><td>Aaron Kwok        </td><td>  709982          </td></tr>\n",
       "</tbody>\n",
       "</table>\n"
      ],
      "text/latex": [
       "\\begin{tabular}{r|ll}\n",
       " actor\\_2\\_name & mean\\_gross\\\\\n",
       "\\hline\n",
       "\t 50 Cent            & 25846731          \\\\\n",
       "\t A. Michael Baldwin &  7282851          \\\\\n",
       "\t A.J. Buckley       &        0          \\\\\n",
       "\t Aaron Ashmore      &       NA          \\\\\n",
       "\t Aaron Hughes       &  2426851          \\\\\n",
       "\t Aaron Kwok         &   709982          \\\\\n",
       "\\end{tabular}\n"
      ],
      "text/markdown": [
       "\n",
       "actor_2_name | mean_gross | \n",
       "|---|---|---|---|---|---|\n",
       "| 50 Cent            | 25846731           | \n",
       "| A. Michael Baldwin |  7282851           | \n",
       "| A.J. Buckley       |        0           | \n",
       "| Aaron Ashmore      |       NA           | \n",
       "| Aaron Hughes       |  2426851           | \n",
       "| Aaron Kwok         |   709982           | \n",
       "\n",
       "\n"
      ],
      "text/plain": [
       "  actor_2_name       mean_gross\n",
       "1 50 Cent            25846731  \n",
       "2 A. Michael Baldwin  7282851  \n",
       "3 A.J. Buckley              0  \n",
       "4 Aaron Ashmore            NA  \n",
       "5 Aaron Hughes        2426851  \n",
       "6 Aaron Kwok           709982  "
      ]
     },
     "metadata": {},
     "output_type": "display_data"
    }
   ],
   "source": [
    "actor2_mean_gross<-movies %>%\n",
    "group_by(actor_2_name)%>%\n",
    "summarise(mean_gross=mean(gross))\n",
    "actor1_mean_gross<-as.data.table(actor2_mean_gross)\n",
    "head(actor2_mean_gross)"
   ]
  },
  {
   "cell_type": "code",
   "execution_count": 218,
   "metadata": {
    "collapsed": false
   },
   "outputs": [
    {
     "name": "stderr",
     "output_type": "stream",
     "text": [
      "Warning message:\n",
      "\"Ignoring 355 observations\""
     ]
    },
    {
     "data": {
      "text/html": [
       "<iframe src=\"plotlyJupyterHTML/57657c25cd2a2eb0fc5f048b1d3868ac.html\" width=\"100%\" height=\"400\" id=\"igraph\" scrolling=\"no\" seamless=\"seamless\" frameBorder=\"0\"> </iframe>"
      ]
     },
     "metadata": {},
     "output_type": "display_data"
    }
   ],
   "source": [
    "hist_mean_gross_actor2 <-  actor2_mean_gross %>%\n",
    "  plot_ly(x =~mean_gross,type=\"histogram\") %>% \n",
    "layout(title = 'Mean gross revenue of movie in which played each second actor',\n",
    "         xaxis = list(title = 'Gross', zeroline = TRUE),\n",
    "         yaxis = list(title = 'Frequency'))\n",
    "\n",
    "embed_notebook(hist_mean_gross_actor2)"
   ]
  },
  {
   "cell_type": "markdown",
   "metadata": {},
   "source": [
    "The shape of this distribution is similar to the one for the main billing actor which is a good sign since those actor played in the same movie."
   ]
  },
  {
   "cell_type": "code",
   "execution_count": 219,
   "metadata": {
    "collapsed": false
   },
   "outputs": [
    {
     "data": {
      "text/plain": [
       "   Min. 1st Qu.  Median    Mean 3rd Qu.    Max.    NA's \n",
       "      0     278     595    1645     918  137000      11 "
      ]
     },
     "metadata": {},
     "output_type": "display_data"
    }
   ],
   "source": [
    "summary(movies$actor_2_facebook_likes)"
   ]
  },
  {
   "cell_type": "code",
   "execution_count": 220,
   "metadata": {
    "collapsed": false
   },
   "outputs": [],
   "source": [
    "actor2_fb<-plyr::count(movies,'actor_2_facebook_likes')\n",
    "actor2_fb<-as.data.frame(actor2_fb)\n",
    "#names(actor2_fb)[names(actor2_fb)==\"x\"]<-\"Name\"\n",
    "names(actor2_fb)[names(actor2_fb)==\"freq\"]<-\"Count\"\n",
    "actor2_fb<-actor2_fb[order(-actor2_fb$Count),]"
   ]
  },
  {
   "cell_type": "code",
   "execution_count": 221,
   "metadata": {
    "collapsed": false
   },
   "outputs": [
    {
     "data": {
      "text/html": [
       "<table>\n",
       "<thead><tr><th></th><th scope=col>actor_2_facebook_likes</th><th scope=col>Count</th></tr></thead>\n",
       "<tbody>\n",
       "\t<tr><th scope=row>889</th><td> 1000</td><td>292  </td></tr>\n",
       "\t<tr><th scope=row>899</th><td>11000</td><td>106  </td></tr>\n",
       "\t<tr><th scope=row>890</th><td> 2000</td><td> 97  </td></tr>\n",
       "\t<tr><th scope=row>891</th><td> 3000</td><td> 72  </td></tr>\n",
       "\t<tr><th scope=row>1</th><td>    0</td><td> 53  </td></tr>\n",
       "\t<tr><th scope=row>898</th><td>10000</td><td> 45  </td></tr>\n",
       "</tbody>\n",
       "</table>\n"
      ],
      "text/latex": [
       "\\begin{tabular}{r|ll}\n",
       "  & actor\\_2\\_facebook\\_likes & Count\\\\\n",
       "\\hline\n",
       "\t889 &  1000 & 292  \\\\\n",
       "\t899 & 11000 & 106  \\\\\n",
       "\t890 &  2000 &  97  \\\\\n",
       "\t891 &  3000 &  72  \\\\\n",
       "\t1 &     0 &  53  \\\\\n",
       "\t898 & 10000 &  45  \\\\\n",
       "\\end{tabular}\n"
      ],
      "text/markdown": [
       "\n",
       "| <!--/--> | actor_2_facebook_likes | Count | \n",
       "|---|---|---|---|---|---|\n",
       "| 889 |  1000 | 292   | \n",
       "| 899 | 11000 | 106   | \n",
       "| 890 |  2000 |  97   | \n",
       "| 891 |  3000 |  72   | \n",
       "| 1 |     0 |  53   | \n",
       "| 898 | 10000 |  45   | \n",
       "\n",
       "\n"
      ],
      "text/plain": [
       "    actor_2_facebook_likes Count\n",
       "889  1000                  292  \n",
       "899 11000                  106  \n",
       "890  2000                   97  \n",
       "891  3000                   72  \n",
       "1       0                   53  \n",
       "898 10000                   45  "
      ]
     },
     "metadata": {},
     "output_type": "display_data"
    }
   ],
   "source": [
    "head(actor2_fb)"
   ]
  },
  {
   "cell_type": "code",
   "execution_count": 222,
   "metadata": {
    "collapsed": false
   },
   "outputs": [
    {
     "name": "stderr",
     "output_type": "stream",
     "text": [
      "Warning message:\n",
      "\"Ignoring 11 observations\""
     ]
    },
    {
     "data": {
      "text/html": [
       "<iframe src=\"plotlyJupyterHTML/aa61f91de21b6ebb253315292754b52b.html\" width=\"100%\" height=\"400\" id=\"igraph\" scrolling=\"no\" seamless=\"seamless\" frameBorder=\"0\"> </iframe>"
      ]
     },
     "metadata": {},
     "output_type": "display_data"
    }
   ],
   "source": [
    "hist_fb_actor2 <-plot_ly(movies,x =~actor_2_facebook_likes,type=\"histogram\") %>% \n",
    "layout(title = 'Number of Facebook like for second actor',\n",
    "         xaxis = list(title = 'Number of like', zeroline = TRUE),\n",
    "         yaxis = list(title = 'Frequency'))\n",
    "\n",
    "embed_notebook(hist_fb_actor2)"
   ]
  },
  {
   "cell_type": "code",
   "execution_count": 223,
   "metadata": {
    "collapsed": false
   },
   "outputs": [
    {
     "data": {
      "text/html": [
       "<table>\n",
       "<thead><tr><th scope=col>n</th></tr></thead>\n",
       "<tbody>\n",
       "\t<tr><td>53</td></tr>\n",
       "</tbody>\n",
       "</table>\n"
      ],
      "text/latex": [
       "\\begin{tabular}{r|l}\n",
       " n\\\\\n",
       "\\hline\n",
       "\t 53\\\\\n",
       "\\end{tabular}\n"
      ],
      "text/markdown": [
       "\n",
       "n | \n",
       "|---|\n",
       "| 53 | \n",
       "\n",
       "\n"
      ],
      "text/plain": [
       "  n \n",
       "1 53"
      ]
     },
     "metadata": {},
     "output_type": "display_data"
    }
   ],
   "source": [
    "count(movies[actor_2_facebook_likes==0])"
   ]
  },
  {
   "cell_type": "markdown",
   "metadata": {},
   "source": [
    "Once again, the number of actor with a small amount of Facebook like compose the vast majority of the actor, but since the number of observation with a value of zero is small, I keep the data as they are.\n",
    "\n",
    "I look at the value for the third billing actor."
   ]
  },
  {
   "cell_type": "code",
   "execution_count": 224,
   "metadata": {
    "collapsed": false
   },
   "outputs": [
    {
     "data": {
      "text/html": [
       "<dl class=dl-horizontal>\n",
       "\t<dt>Steve Coogan</dt>\n",
       "\t\t<dd>8</dd>\n",
       "\t<dt>Ben Mendelsohn</dt>\n",
       "\t\t<dd>7</dd>\n",
       "\t<dt>Jon Gries</dt>\n",
       "\t\t<dd>7</dd>\n",
       "\t<dt>Robert Duvall</dt>\n",
       "\t\t<dd>7</dd>\n",
       "\t<dt>Sam Shepard</dt>\n",
       "\t\t<dd>7</dd>\n",
       "\t<dt>Stephen Root</dt>\n",
       "\t\t<dd>7</dd>\n",
       "\t<dt>Anne Hathaway</dt>\n",
       "\t\t<dd>6</dd>\n",
       "\t<dt>Bruce McGill</dt>\n",
       "\t\t<dd>6</dd>\n",
       "\t<dt>(Other)</dt>\n",
       "\t\t<dd>4742</dd>\n",
       "\t<dt>NA's</dt>\n",
       "\t\t<dd>20</dd>\n",
       "</dl>\n"
      ],
      "text/latex": [
       "\\begin{description*}\n",
       "\\item[Steve Coogan] 8\n",
       "\\item[Ben Mendelsohn] 7\n",
       "\\item[Jon Gries] 7\n",
       "\\item[Robert Duvall] 7\n",
       "\\item[Sam Shepard] 7\n",
       "\\item[Stephen Root] 7\n",
       "\\item[Anne Hathaway] 6\n",
       "\\item[Bruce McGill] 6\n",
       "\\item[(Other)] 4742\n",
       "\\item[NA's] 20\n",
       "\\end{description*}\n"
      ],
      "text/markdown": [
       "Steve Coogan\n",
       ":   8Ben Mendelsohn\n",
       ":   7Jon Gries\n",
       ":   7Robert Duvall\n",
       ":   7Sam Shepard\n",
       ":   7Stephen Root\n",
       ":   7Anne Hathaway\n",
       ":   6Bruce McGill\n",
       ":   6(Other)\n",
       ":   4742NA's\n",
       ":   20\n",
       "\n"
      ],
      "text/plain": [
       "  Steve Coogan Ben Mendelsohn      Jon Gries  Robert Duvall    Sam Shepard \n",
       "             8              7              7              7              7 \n",
       "  Stephen Root  Anne Hathaway   Bruce McGill        (Other)           NA's \n",
       "             7              6              6           4742             20 "
      ]
     },
     "metadata": {},
     "output_type": "display_data"
    }
   ],
   "source": [
    "summary(movies$actor_3_name,maxsum=10)"
   ]
  },
  {
   "cell_type": "code",
   "execution_count": 225,
   "metadata": {
    "collapsed": true
   },
   "outputs": [],
   "source": [
    "actor3_count<-plyr::count(movies,'actor_3_name')\n",
    "actor3_count<-as.data.frame(actor3_count)\n",
    "#names(actor3_count)[names(actor3_count)==\"x\"]<-\"Name\"\n",
    "names(actor3_count)[names(actor3_count)==\"freq\"]<-\"Count\"\n",
    "actor3_count<-actor3_count[order(-actor3_count$Count),]"
   ]
  },
  {
   "cell_type": "code",
   "execution_count": 226,
   "metadata": {
    "collapsed": false
   },
   "outputs": [
    {
     "data": {
      "text/html": [
       "<iframe src=\"plotlyJupyterHTML/a9012c9aadb0240e41abafb120771906.html\" width=\"100%\" height=\"400\" id=\"igraph\" scrolling=\"no\" seamless=\"seamless\" frameBorder=\"0\"> </iframe>"
      ]
     },
     "metadata": {},
     "output_type": "display_data"
    }
   ],
   "source": [
    "hist_actor3 <-  actor3_count %>%\n",
    "dplyr::count(Count) %>%\n",
    "  plot_ly(x =~Count, y = ~n) %>% \n",
    "  add_bars()%>%\n",
    "layout(title = 'Distribution of apperence in a movie for third billing actor',\n",
    "         xaxis = list(title = 'Number of movies', zeroline = TRUE),\n",
    "         yaxis = list(title = 'Frequency'))\n",
    "\n",
    "embed_notebook(hist_actor3)"
   ]
  },
  {
   "cell_type": "code",
   "execution_count": 227,
   "metadata": {
    "collapsed": false
   },
   "outputs": [
    {
     "data": {
      "text/html": [
       "<table>\n",
       "<thead><tr><th scope=col>actor_3_name</th><th scope=col>mean_gross</th></tr></thead>\n",
       "<tbody>\n",
       "\t<tr><td>50 Cent         </td><td>40076438        </td></tr>\n",
       "\t<tr><td>A.J. Buckley    </td><td> 2020422        </td></tr>\n",
       "\t<tr><td>A.J. DeLucia    </td><td>      NA        </td></tr>\n",
       "\t<tr><td>A.J. Langer     </td><td> 4308981        </td></tr>\n",
       "\t<tr><td>Ã“scar Jaenada  </td><td>13638508        </td></tr>\n",
       "\t<tr><td>Ã‰milie Dequenne</td><td>    2874        </td></tr>\n",
       "</tbody>\n",
       "</table>\n"
      ],
      "text/latex": [
       "\\begin{tabular}{r|ll}\n",
       " actor\\_3\\_name & mean\\_gross\\\\\n",
       "\\hline\n",
       "\t 50 Cent          & 40076438        \\\\\n",
       "\t A.J. Buckley     &  2020422        \\\\\n",
       "\t A.J. DeLucia     &       NA        \\\\\n",
       "\t A.J. Langer      &  4308981        \\\\\n",
       "\t Ã“scar Jaenada   & 13638508        \\\\\n",
       "\t Ã‰milie Dequenne &     2874        \\\\\n",
       "\\end{tabular}\n"
      ],
      "text/markdown": [
       "\n",
       "actor_3_name | mean_gross | \n",
       "|---|---|---|---|---|---|\n",
       "| 50 Cent          | 40076438         | \n",
       "| A.J. Buckley     |  2020422         | \n",
       "| A.J. DeLucia     |       NA         | \n",
       "| A.J. Langer      |  4308981         | \n",
       "| Ã“scar Jaenada   | 13638508         | \n",
       "| Ã‰milie Dequenne |     2874         | \n",
       "\n",
       "\n"
      ],
      "text/plain": [
       "  actor_3_name     mean_gross\n",
       "1 50 Cent          40076438  \n",
       "2 A.J. Buckley      2020422  \n",
       "3 A.J. DeLucia           NA  \n",
       "4 A.J. Langer       4308981  \n",
       "5 Ãscar Jaenada   13638508  \n",
       "6 Ãmilie Dequenne     2874  "
      ]
     },
     "metadata": {},
     "output_type": "display_data"
    }
   ],
   "source": [
    "actor3_mean_gross<-movies %>%\n",
    "group_by(actor_3_name)%>%\n",
    "summarise(mean_gross=mean(gross))\n",
    "actor1_mean_gross<-as.data.table(actor3_mean_gross)\n",
    "head(actor3_mean_gross)"
   ]
  },
  {
   "cell_type": "code",
   "execution_count": 228,
   "metadata": {
    "collapsed": false
   },
   "outputs": [
    {
     "name": "stderr",
     "output_type": "stream",
     "text": [
      "Warning message:\n",
      "\"Ignoring 358 observations\""
     ]
    },
    {
     "data": {
      "text/html": [
       "<iframe src=\"plotlyJupyterHTML/2eee24bccf5fa416cca139cc7a47eb66.html\" width=\"100%\" height=\"400\" id=\"igraph\" scrolling=\"no\" seamless=\"seamless\" frameBorder=\"0\"> </iframe>"
      ]
     },
     "metadata": {},
     "output_type": "display_data"
    }
   ],
   "source": [
    "hist_mean_gross_actor3 <-  actor3_mean_gross %>%\n",
    "  plot_ly(x =~mean_gross,type=\"histogram\") %>% \n",
    "layout(title = 'Mean gross revenue of movie in which played each third actor',\n",
    "         xaxis = list(title = 'Gross', zeroline = TRUE),\n",
    "         yaxis = list(title = 'Frequency'))\n",
    "\n",
    "embed_notebook(hist_mean_gross_actor3)"
   ]
  },
  {
   "cell_type": "code",
   "execution_count": 229,
   "metadata": {
    "collapsed": false
   },
   "outputs": [
    {
     "data": {
      "text/plain": [
       "   Min. 1st Qu.  Median    Mean 3rd Qu.    Max.    NA's \n",
       "    0.0   131.0   367.0   636.9   636.0 23000.0      20 "
      ]
     },
     "metadata": {},
     "output_type": "display_data"
    }
   ],
   "source": [
    "summary(movies$actor_3_facebook_likes)"
   ]
  },
  {
   "cell_type": "code",
   "execution_count": 230,
   "metadata": {
    "collapsed": false
   },
   "outputs": [
    {
     "name": "stderr",
     "output_type": "stream",
     "text": [
      "Warning message:\n",
      "\"Ignoring 1 observations\""
     ]
    },
    {
     "data": {
      "text/html": [
       "<iframe src=\"plotlyJupyterHTML/fb1c97cda11904d705fbadd598bc8cdf.html\" width=\"100%\" height=\"400\" id=\"igraph\" scrolling=\"no\" seamless=\"seamless\" frameBorder=\"0\"> </iframe>"
      ]
     },
     "metadata": {},
     "output_type": "display_data"
    }
   ],
   "source": [
    "hist_fb_actor3 <-  movies %>%\n",
    "dplyr::count(actor_3_facebook_likes) %>%\n",
    "  plot_ly(x =~actor_3_facebook_likes, y = ~n) %>% \n",
    "  add_bars()%>%\n",
    "layout(title = 'Distribution of the number of Facebook like',\n",
    "         xaxis = list(title = 'Number of like', zeroline = TRUE),\n",
    "         yaxis = list(title = 'Frequency'))\n",
    "\n",
    "embed_notebook(hist_fb_actor3)"
   ]
  },
  {
   "cell_type": "code",
   "execution_count": null,
   "metadata": {
    "collapsed": true
   },
   "outputs": [],
   "source": []
  },
  {
   "cell_type": "code",
   "execution_count": 231,
   "metadata": {
    "collapsed": false
   },
   "outputs": [
    {
     "data": {
      "text/plain": [
       "   Min. 1st Qu.  Median    Mean 3rd Qu.    Max. \n",
       "      0    1397    3090    9714   13810  656700 "
      ]
     },
     "metadata": {},
     "output_type": "display_data"
    }
   ],
   "source": [
    "summary(movies$cast_total_facebook_likes)"
   ]
  },
  {
   "cell_type": "code",
   "execution_count": 232,
   "metadata": {
    "collapsed": false
   },
   "outputs": [
    {
     "data": {
      "text/html": [
       "<iframe src=\"plotlyJupyterHTML/fb33896bb0a11f129d730b32ec1d8b62.html\" width=\"100%\" height=\"400\" id=\"igraph\" scrolling=\"no\" seamless=\"seamless\" frameBorder=\"0\"> </iframe>"
      ]
     },
     "metadata": {},
     "output_type": "display_data"
    }
   ],
   "source": [
    "hist_fb_cast <-  movies %>%\n",
    "dplyr::count(cast_total_facebook_likes) %>%\n",
    "  plot_ly(x =~cast_total_facebook_likes, type=\"histogram\") %>% \n",
    "layout(title = 'Number of Facebook like for the cast',\n",
    "         xaxis = list(title = 'Number of like', zeroline = TRUE),\n",
    "         yaxis = list(title = 'Frequency'))\n",
    "\n",
    "embed_notebook(hist_fb_cast)"
   ]
  },
  {
   "cell_type": "code",
   "execution_count": null,
   "metadata": {
    "collapsed": true
   },
   "outputs": [],
   "source": []
  },
  {
   "cell_type": "code",
   "execution_count": 233,
   "metadata": {
    "collapsed": false
   },
   "outputs": [
    {
     "data": {
      "text/plain": [
       "   Min. 1st Qu.  Median    Mean 3rd Qu.    Max.    NA's \n",
       "      0       0     157    7434    2000  349000      65 "
      ]
     },
     "metadata": {},
     "output_type": "display_data"
    }
   ],
   "source": [
    "summary(movies$movie_facebook_likes)"
   ]
  },
  {
   "cell_type": "code",
   "execution_count": 234,
   "metadata": {
    "collapsed": false
   },
   "outputs": [
    {
     "name": "stderr",
     "output_type": "stream",
     "text": [
      "Warning message:\n",
      "\"Ignoring 1 observations\""
     ]
    },
    {
     "data": {
      "text/html": [
       "<iframe src=\"plotlyJupyterHTML/30af1348660458f697192dded4432280.html\" width=\"100%\" height=\"400\" id=\"igraph\" scrolling=\"no\" seamless=\"seamless\" frameBorder=\"0\"> </iframe>"
      ]
     },
     "metadata": {},
     "output_type": "display_data"
    }
   ],
   "source": [
    "hist_fb_movie <-  movies %>%\n",
    "dplyr::count(movie_facebook_likes) %>%\n",
    "  plot_ly(x =~movie_facebook_likes,type='histogram') %>% \n",
    "layout(title = 'Number of Facebook like of the movie',\n",
    "         xaxis = list(title = 'Number of like', zeroline = TRUE),\n",
    "         yaxis = list(title = 'Frequency'))\n",
    "\n",
    "embed_notebook(hist_fb_movie)"
   ]
  },
  {
   "cell_type": "markdown",
   "metadata": {},
   "source": [
    "Since the majority of the movies have a small number of Facebook like, I look at a sample of the movie with zero like and a important budget to verify that the data are valid. I choosed the blockbuster in the data set because they have a high budget for the publicity and are more likely tu use Facebook for advertise purpose."
   ]
  },
  {
   "cell_type": "code",
   "execution_count": 235,
   "metadata": {
    "collapsed": false
   },
   "outputs": [
    {
     "data": {
      "text/html": [
       "<ol class=list-inline>\n",
       "\t<li>'piratesofthecaribbeanatworldsend'</li>\n",
       "\t<li>'spiderman3'</li>\n",
       "\t<li>'thechroniclesofnarniaprincecaspian'</li>\n",
       "\t<li>'xmenthelaststand'</li>\n",
       "\t<li>'supermanreturns'</li>\n",
       "\t<li>'kingkong'</li>\n",
       "\t<li>'quantumofsolace'</li>\n",
       "\t<li>'spiderman2'</li>\n",
       "\t<li>'transformersrevengeofthefallen'</li>\n",
       "\t<li>'terminatorsalvation'</li>\n",
       "\t<li>'achristmascarol'</li>\n",
       "\t<li>'terminator3riseofthemachines'</li>\n",
       "\t<li>'thegoldencompass'</li>\n",
       "\t<li>'monstersvsaliens'</li>\n",
       "\t<li>'waterworld'</li>\n",
       "</ol>\n"
      ],
      "text/latex": [
       "\\begin{enumerate*}\n",
       "\\item 'piratesofthecaribbeanatworldsend'\n",
       "\\item 'spiderman3'\n",
       "\\item 'thechroniclesofnarniaprincecaspian'\n",
       "\\item 'xmenthelaststand'\n",
       "\\item 'supermanreturns'\n",
       "\\item 'kingkong'\n",
       "\\item 'quantumofsolace'\n",
       "\\item 'spiderman2'\n",
       "\\item 'transformersrevengeofthefallen'\n",
       "\\item 'terminatorsalvation'\n",
       "\\item 'achristmascarol'\n",
       "\\item 'terminator3riseofthemachines'\n",
       "\\item 'thegoldencompass'\n",
       "\\item 'monstersvsaliens'\n",
       "\\item 'waterworld'\n",
       "\\end{enumerate*}\n"
      ],
      "text/markdown": [
       "1. 'piratesofthecaribbeanatworldsend'\n",
       "2. 'spiderman3'\n",
       "3. 'thechroniclesofnarniaprincecaspian'\n",
       "4. 'xmenthelaststand'\n",
       "5. 'supermanreturns'\n",
       "6. 'kingkong'\n",
       "7. 'quantumofsolace'\n",
       "8. 'spiderman2'\n",
       "9. 'transformersrevengeofthefallen'\n",
       "10. 'terminatorsalvation'\n",
       "11. 'achristmascarol'\n",
       "12. 'terminator3riseofthemachines'\n",
       "13. 'thegoldencompass'\n",
       "14. 'monstersvsaliens'\n",
       "15. 'waterworld'\n",
       "\n",
       "\n"
      ],
      "text/plain": [
       " [1] \"piratesofthecaribbeanatworldsend\"   \"spiderman3\"                        \n",
       " [3] \"thechroniclesofnarniaprincecaspian\" \"xmenthelaststand\"                  \n",
       " [5] \"supermanreturns\"                    \"kingkong\"                          \n",
       " [7] \"quantumofsolace\"                    \"spiderman2\"                        \n",
       " [9] \"transformersrevengeofthefallen\"     \"terminatorsalvation\"               \n",
       "[11] \"achristmascarol\"                    \"terminator3riseofthemachines\"      \n",
       "[13] \"thegoldencompass\"                   \"monstersvsaliens\"                  \n",
       "[15] \"waterworld\"                        "
      ]
     },
     "metadata": {},
     "output_type": "display_data"
    }
   ],
   "source": [
    "head(movies[movie_facebook_likes==0&budget_2016>100000000,movie_title],n=15)"
   ]
  },
  {
   "cell_type": "markdown",
   "metadata": {},
   "source": [
    "After searching for these movies on Facebook for a while, I realised that the world existed before Facebook and that most of the movies in the data set couldn't use that site for promotion. In consequence, it's normal that a majority of movie in the data set have no Facebook like. \n",
    "\n",
    "To confirm that hypothesys, I compared the total number of movie with zero Facebook like with the number of movie made before 2008 with zero like. I choose that year because that's the year MySpace colapse and Facebook really took off."
   ]
  },
  {
   "cell_type": "code",
   "execution_count": 236,
   "metadata": {
    "collapsed": false
   },
   "outputs": [
    {
     "data": {
      "text/html": [
       "<table>\n",
       "<thead><tr><th scope=col>n</th></tr></thead>\n",
       "<tbody>\n",
       "\t<tr><td>2063</td></tr>\n",
       "</tbody>\n",
       "</table>\n"
      ],
      "text/latex": [
       "\\begin{tabular}{r|l}\n",
       " n\\\\\n",
       "\\hline\n",
       "\t 2063\\\\\n",
       "\\end{tabular}\n"
      ],
      "text/markdown": [
       "\n",
       "n | \n",
       "|---|\n",
       "| 2063 | \n",
       "\n",
       "\n"
      ],
      "text/plain": [
       "  n   \n",
       "1 2063"
      ]
     },
     "metadata": {},
     "output_type": "display_data"
    }
   ],
   "source": [
    "count(movies[movie_facebook_likes==0])"
   ]
  },
  {
   "cell_type": "code",
   "execution_count": 237,
   "metadata": {
    "collapsed": false
   },
   "outputs": [
    {
     "data": {
      "text/html": [
       "<table>\n",
       "<thead><tr><th scope=col>n</th></tr></thead>\n",
       "<tbody>\n",
       "\t<tr><td>0.6781386</td></tr>\n",
       "</tbody>\n",
       "</table>\n"
      ],
      "text/latex": [
       "\\begin{tabular}{r|l}\n",
       " n\\\\\n",
       "\\hline\n",
       "\t 0.6781386\\\\\n",
       "\\end{tabular}\n"
      ],
      "text/markdown": [
       "\n",
       "n | \n",
       "|---|\n",
       "| 0.6781386 | \n",
       "\n",
       "\n"
      ],
      "text/plain": [
       "  n        \n",
       "1 0.6781386"
      ]
     },
     "metadata": {},
     "output_type": "display_data"
    }
   ],
   "source": [
    "count(movies[movie_facebook_likes==0&title_year<2008])/count(movies[movie_facebook_likes==0])"
   ]
  },
  {
   "cell_type": "markdown",
   "metadata": {
    "collapsed": true
   },
   "source": [
    "More than two third of those cases are movies who were made before Facebook was main stream. If we add the fact that some movie in the data set come from country where Facebook is not as widely adopted, we can explain why a large portion of the movie have zero like on Facebook.   "
   ]
  },
  {
   "cell_type": "markdown",
   "metadata": {},
   "source": [
    "# IMDB statistics\n",
    "\n",
    "After looking at the cast, it's time to look at statistics relative to IMDB itself. First of all, I looked at the number of user that reviewed each movie."
   ]
  },
  {
   "cell_type": "code",
   "execution_count": 238,
   "metadata": {
    "collapsed": false
   },
   "outputs": [
    {
     "data": {
      "text/plain": [
       "   Min. 1st Qu.  Median    Mean 3rd Qu.    Max.    NA's \n",
       "    1.0    66.0   156.0   271.2   323.0  5060.0      19 "
      ]
     },
     "metadata": {},
     "output_type": "display_data"
    }
   ],
   "source": [
    "summary(movies$num_user_for_reviews)"
   ]
  },
  {
   "cell_type": "code",
   "execution_count": 239,
   "metadata": {
    "collapsed": false
   },
   "outputs": [
    {
     "name": "stderr",
     "output_type": "stream",
     "text": [
      "Warning message:\n",
      "\"Ignoring 1 observations\""
     ]
    },
    {
     "data": {
      "text/html": [
       "<iframe src=\"plotlyJupyterHTML/74cfc29b08c7725ed5217e1735b04269.html\" width=\"100%\" height=\"400\" id=\"igraph\" scrolling=\"no\" seamless=\"seamless\" frameBorder=\"0\"> </iframe>"
      ]
     },
     "metadata": {},
     "output_type": "display_data"
    }
   ],
   "source": [
    "hist_user_reviews <-  movies %>%\n",
    "dplyr::count(num_user_for_reviews) %>%\n",
    "  plot_ly(x =~num_user_for_reviews, y = ~n) %>% \n",
    "  add_bars()%>%\n",
    "layout(title = 'Number of reviewer for each movie',\n",
    "         xaxis = list(title = 'Number of reviewer', zeroline = TRUE),\n",
    "         yaxis = list(title = 'Frequency'))\n",
    "\n",
    "embed_notebook(hist_user_reviews)"
   ]
  },
  {
   "cell_type": "markdown",
   "metadata": {
    "collapsed": false
   },
   "source": [
    "I look at the distribution of the quartile of the IMDB score."
   ]
  },
  {
   "cell_type": "code",
   "execution_count": 240,
   "metadata": {
    "collapsed": false
   },
   "outputs": [
    {
     "data": {
      "text/plain": [
       "   Min. 1st Qu.  Median    Mean 3rd Qu.    Max. \n",
       "  1.600   5.800   6.500   6.415   7.200   9.500 "
      ]
     },
     "metadata": {},
     "output_type": "display_data"
    }
   ],
   "source": [
    "summary(movies$imdb_score)"
   ]
  },
  {
   "cell_type": "markdown",
   "metadata": {},
   "source": [
    "I was able to find a blog post from 2006 (http://blog.moertel.com/posts/2006-01-17-mining-gold-from-the-internet-movie-database-part-1.html) which analyse the rating of 23 396 movies on IMDB. His calculation reveal that the mean of the rating for his sample is 6.2. If our sample of 5000 movies is valid, this statistic should be about the same. The table above show a mean of 6.415, soo the difference between those two value is about 3.5%."
   ]
  },
  {
   "cell_type": "code",
   "execution_count": 241,
   "metadata": {
    "collapsed": false
   },
   "outputs": [
    {
     "data": {
      "text/html": [
       "3.46774193548387"
      ],
      "text/latex": [
       "3.46774193548387"
      ],
      "text/markdown": [
       "3.46774193548387"
      ],
      "text/plain": [
       "[1] 3.467742"
      ]
     },
     "metadata": {},
     "output_type": "display_data"
    }
   ],
   "source": [
    "100*((6.415-6.2)/6.2)"
   ]
  },
  {
   "cell_type": "markdown",
   "metadata": {},
   "source": [
    "That difference is relatively small and give me confience in the representativity of this sample. I plot the histogram of the review score."
   ]
  },
  {
   "cell_type": "code",
   "execution_count": 242,
   "metadata": {
    "collapsed": false
   },
   "outputs": [
    {
     "data": {
      "text/html": [
       "<iframe src=\"plotlyJupyterHTML/f8c0e0cc5a06115e04697f17ff859a5c.html\" width=\"100%\" height=\"400\" id=\"igraph\" scrolling=\"no\" seamless=\"seamless\" frameBorder=\"0\"> </iframe>"
      ]
     },
     "metadata": {},
     "output_type": "display_data"
    }
   ],
   "source": [
    "hist_score <-  movies %>%\n",
    "dplyr::count(imdb_score) %>%\n",
    "  plot_ly(x =~imdb_score, y = ~n) %>% \n",
    "  add_bars()%>%\n",
    "layout(title = 'Distribution of the IMDB score',\n",
    "         xaxis = list(title = 'Score', zeroline = TRUE),\n",
    "         yaxis = list(title = 'Frequency'))\n",
    "\n",
    "embed_notebook(hist_score)"
   ]
  },
  {
   "cell_type": "markdown",
   "metadata": {
    "collapsed": true
   },
   "source": [
    "Then I look at the distribution of the number of user that voted for each movie."
   ]
  },
  {
   "cell_type": "code",
   "execution_count": 243,
   "metadata": {
    "collapsed": false
   },
   "outputs": [
    {
     "data": {
      "text/plain": [
       "   Min. 1st Qu.  Median    Mean 3rd Qu.    Max. \n",
       "      5    8603   34190   83710   95290 1690000 "
      ]
     },
     "metadata": {},
     "output_type": "display_data"
    }
   ],
   "source": [
    "summary(movies$num_voted_users)"
   ]
  },
  {
   "cell_type": "code",
   "execution_count": 244,
   "metadata": {
    "collapsed": false
   },
   "outputs": [
    {
     "data": {
      "text/html": [
       "<iframe src=\"plotlyJupyterHTML/9c125c5835c73b7ad84d028761ed09f5.html\" width=\"100%\" height=\"400\" id=\"igraph\" scrolling=\"no\" seamless=\"seamless\" frameBorder=\"0\"> </iframe>"
      ]
     },
     "metadata": {},
     "output_type": "display_data"
    }
   ],
   "source": [
    "hist_voted_users <-  movies %>%\n",
    "dplyr::count(num_voted_users) %>%\n",
    "  plot_ly(x =~num_voted_users,type=\"histogram\") %>% \n",
    "layout(title = 'Number of voted user on IMDB',\n",
    "         xaxis = list(title = 'Number of vote', zeroline = TRUE),\n",
    "         yaxis = list(title = 'Frequency'))\n",
    "\n",
    "embed_notebook(hist_voted_users)"
   ]
  },
  {
   "cell_type": "code",
   "execution_count": null,
   "metadata": {
    "collapsed": true
   },
   "outputs": [],
   "source": []
  },
  {
   "cell_type": "code",
   "execution_count": 261,
   "metadata": {
    "collapsed": false
   },
   "outputs": [
    {
     "data": {
      "image/png": "[encoded data removed]",
      "text/plain": [
       "Plot with title \"\""
      ]
     },
     "metadata": {},
     "output_type": "display_data"
    }
   ],
   "source": [
    "col_corr_plot<-c(\"budget_2016\",\"duration\",\"director_facebook_likes\",\"actor_3_facebook_likes\",\n",
    "                                   \"actor_1_facebook_likes\",\"profit\",\"cast_total_facebook_likes\",\"facenumber_in_poster\",\n",
    "                                   \"actor_2_facebook_likes\")\n",
    "corr_movie<-cor(movies[,col_corr_plot,with=FALSE], use = \"na.or.complete\")\n",
    "#setkey(movies,NULL)\n",
    "corrplot(corr_movie, method=\"ellipse\", bg=\"#a8a8a8\")"
   ]
  },
  {
   "cell_type": "code",
   "execution_count": null,
   "metadata": {
    "collapsed": true
   },
   "outputs": [],
   "source": []
  },
  {
   "cell_type": "code",
   "execution_count": 262,
   "metadata": {
    "collapsed": false
   },
   "outputs": [
    {
     "name": "stderr",
     "output_type": "stream",
     "text": [
      "Warning message in write.csv(movies, \"movie_exploration.csv\", row.names = FALSE, :\n",
      "\"attempt to set 'col.names' ignored\""
     ]
    }
   ],
   "source": [
    "write.csv(movies,\"movie_exploration.csv\",row.names=FALSE, col.names=TRUE)"
   ]
  }
 ],
 "metadata": {
  "anaconda-cloud": {},
  "kernelspec": {
   "display_name": "R",
   "language": "R",
   "name": "ir"
  },
  "language_info": {
   "codemirror_mode": "r",
   "file_extension": ".r",
   "mimetype": "text/x-r-source",
   "name": "R",
   "pygments_lexer": "r",
   "version": "3.2.5"
  }
 },
 "nbformat": 4,
 "nbformat_minor": 0
}
