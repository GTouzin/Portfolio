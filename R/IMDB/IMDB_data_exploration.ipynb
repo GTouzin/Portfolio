{
 "cells": [
  {
   "cell_type": "markdown",
   "metadata": {},
   "source": [
    "# IMDB data set part III: A new dimension in error\n",
    "\n",
    "To recap, this project has for goal to create a model who predict if a movie will be profitable based on a handful of characteristics like the duration of each movie, their budget, the number of like their cast have on Facebook, etc. To do so, I used the <a href=\"https://www.kaggle.com/deepmatrix/imdb-5000-movie-dataset\">IMDB 5000</a> data set created by Kaggle user <a href=\"https://www.kaggle.com/deepmatrix\">deepmatrix</a>, a list of 5000 movies from IMDB and their key statistics. \n",
    "\n",
    "In <a href=\"https://github.com/GTouzin/Portfolio/blob/master/R/IMDB/IMDB_data_cleaning.ipynb\">part one</a> of this series of post, I clean this data set and realise that there was a lot of missing information, especially in the key variable budget and gross. In <a href=\"https://github.com/GTouzin/Portfolio/blob/master/R/IMDB/IMDB_data_cleaning2.ipynb\">part two</a> of this series I scape the missing data and continue cleaning the new data set and now, after spending way too much time getting data and cleaning the data set, I can finally look at the distribution of each variable and the relation between them. \n",
    "\n",
    "In this blog post, I explored the new IMDB data set and make some hypotheses on the best model to use to predict the profitability of a movie before his production. The first thing I do is to load the R library I'll use in this post and the IMDB data set in the movies data.frame."
   ]
  },
  {
   "cell_type": "code",
   "execution_count": 127,
   "metadata": {
    "collapsed": false
   },
   "outputs": [],
   "source": [
    "library(dplyr)\n",
    "library(data.table)\n",
    "library(bit64)\n",
    "library(plotly)\n",
    "library(corrplot)\n",
    "library(tidyr)\n",
    "options(scipen=999)"
   ]
  },
  {
   "cell_type": "code",
   "execution_count": 2,
   "metadata": {
    "collapsed": false
   },
   "outputs": [
    {
     "data": {
      "text/html": [
       "<table>\n",
       "<thead><tr><th scope=col>color</th><th scope=col>director_name</th><th scope=col>num_critic_for_reviews</th><th scope=col>duration</th><th scope=col>director_facebook_likes</th><th scope=col>actor_3_facebook_likes</th><th scope=col>actor_2_name</th><th scope=col>actor_1_facebook_likes</th><th scope=col>gross</th><th scope=col>genres</th><th scope=col>...</th><th scope=col>genres_Sci-Fi</th><th scope=col>genres_Short</th><th scope=col>genres_Sport</th><th scope=col>genres_Thriller</th><th scope=col>genres_War</th><th scope=col>genres_Western</th><th scope=col>currency</th><th scope=col>budget_us</th><th scope=col>gross_2016</th><th scope=col>budget_2016</th></tr></thead>\n",
       "<tbody>\n",
       "\t<tr><td>Color                                            </td><td>Joon-ho Bong                                     </td><td>363                                              </td><td>110                                              </td><td> 584                                             </td><td> 74                                              </td><td>Kang-ho Song                                     </td><td>629                                              </td><td>2201412                                          </td><td>Comedy|Drama|Horror|Sci-Fi                       </td><td>...                                              </td><td>1                                                </td><td>0                                                </td><td>0                                                </td><td>0                                                </td><td>0                                                </td><td>0                                                </td><td>KOR                                              </td><td>12793905                                         </td><td>2620914.8                                        </td><td>15231922                                         </td></tr>\n",
       "\t<tr><td>Color                                            </td><td>Chan-wook Park                                   </td><td>202                                              </td><td>112                                              </td><td>   0                                             </td><td> 38                                              </td><td>Yeong-ae Lee                                     </td><td>717                                              </td><td>211667                                           </td><td>Crime|Drama                                      </td><td>...                                              </td><td>0                                                </td><td>0                                                </td><td>0                                                </td><td>0                                                </td><td>0                                                </td><td>0                                                </td><td>KOR                                              </td><td> 4101095                                         </td><td> 260131.9                                        </td><td> 5040113                                         </td></tr>\n",
       "\t<tr><td>Color                                            </td><td>Lajos Koltai                                     </td><td> 73                                              </td><td>134                                              </td><td>  45                                             </td><td>  0                                              </td><td>PÃ©ter Fancsikai                                 </td><td>  9                                              </td><td>195888                                           </td><td>Drama|Romance|War                                </td><td>...                                              </td><td>0                                                </td><td>0                                                </td><td>0                                                </td><td>0                                                </td><td>1                                                </td><td>0                                                </td><td>HUN                                              </td><td>12526148                                         </td><td> 240740.0                                        </td><td>15394231                                         </td></tr>\n",
       "\t<tr><td>Color                                            </td><td>Hayao Miyazaki                                   </td><td>174                                              </td><td>134                                              </td><td>6000                                             </td><td>745                                              </td><td>Jada Pinkett Smith                               </td><td>893                                              </td><td>2298191                                          </td><td>Adventure|Animation|Fantasy                      </td><td>...                                              </td><td>0                                                </td><td>0                                                </td><td>0                                                </td><td>0                                                </td><td>0                                                </td><td>0                                                </td><td>JPN                                              </td><td>19836208                                         </td><td>3436293.2                                        </td><td>29659426                                         </td></tr>\n",
       "\t<tr><td>Color                                            </td><td>Katsuhiro Ã”tomo                                 </td><td>105                                              </td><td>103                                              </td><td>  78                                             </td><td>101                                              </td><td>Robin Atkin Downes                               </td><td>488                                              </td><td>410388                                           </td><td>Action|Adventure|Animation|Family|Sci-Fi|Thriller</td><td>...                                              </td><td>1                                                </td><td>0                                                </td><td>0                                                </td><td>1                                                </td><td>0                                                </td><td>0                                                </td><td>JPN                                              </td><td>19664196                                         </td><td> 521465.0                                        </td><td>24986575                                         </td></tr>\n",
       "\t<tr><td>Color                                            </td><td>Katsuhiro Ã”tomo                                 </td><td>150                                              </td><td>124                                              </td><td>  78                                             </td><td>  4                                              </td><td>Takeshi Kusao                                    </td><td>  6                                              </td><td>439162                                           </td><td>Action|Animation|Sci-Fi                          </td><td>...                                              </td><td>1                                                </td><td>0                                                </td><td>0                                                </td><td>0                                                </td><td>0                                                </td><td>0                                                </td><td>JPN                                              </td><td> 8583579                                         </td><td> 891286.1                                        </td><td>17420507                                         </td></tr>\n",
       "</tbody>\n",
       "</table>\n"
      ],
      "text/latex": [
       "\\begin{tabular}{r|llllllllllllllllllllllllllllllllllllllllllllllllllllllllll}\n",
       " color & director\\_name & num\\_critic\\_for\\_reviews & duration & director\\_facebook\\_likes & actor\\_3\\_facebook\\_likes & actor\\_2\\_name & actor\\_1\\_facebook\\_likes & gross & genres & ... & genres\\_Sci-Fi & genres\\_Short & genres\\_Sport & genres\\_Thriller & genres\\_War & genres\\_Western & currency & budget\\_us & gross\\_2016 & budget\\_2016\\\\\n",
       "\\hline\n",
       "\t Color                                                                           & Joon-ho Bong                                                                    & 363                                                                             & 110                                                                             &  584                                                                            &  74                                                                             & Kang-ho Song                                                                    & 629                                                                             & 2201412                                                                         & Comedy\\textbar{}Drama\\textbar{}Horror\\textbar{}Sci-Fi                        & ...                                                                             & 1                                                                               & 0                                                                               & 0                                                                               & 0                                                                               & 0                                                                               & 0                                                                               & KOR                                                                             & 12793905                                                                        & 2620914.8                                                                       & 15231922                                                                       \\\\\n",
       "\t Color                                                       & Chan-wook Park                                              & 202                                                         & 112                                                         &    0                                                        &  38                                                         & Yeong-ae Lee                                                & 717                                                         & 211667                                                      & Crime\\textbar{}Drama                                       & ...                                                         & 0                                                           & 0                                                           & 0                                                           & 0                                                           & 0                                                           & 0                                                           & KOR                                                         &  4101095                                                    &  260131.9                                                   &  5040113                                                   \\\\\n",
       "\t Color                                                                 & Lajos Koltai                                                          &  73                                                                   & 134                                                                   &   45                                                                  &   0                                                                   & PÃ©ter Fancsikai                                                      &   9                                                                   & 195888                                                                & Drama\\textbar{}Romance\\textbar{}War                                 & ...                                                                   & 0                                                                     & 0                                                                     & 0                                                                     & 0                                                                     & 1                                                                     & 0                                                                     & HUN                                                                   & 12526148                                                              &  240740.0                                                             & 15394231                                                             \\\\\n",
       "\t Color                                                                 & Hayao Miyazaki                                                        & 174                                                                   & 134                                                                   & 6000                                                                  & 745                                                                   & Jada Pinkett Smith                                                    & 893                                                                   & 2298191                                                               & Adventure\\textbar{}Animation\\textbar{}Fantasy                       & ...                                                                   & 0                                                                     & 0                                                                     & 0                                                                     & 0                                                                     & 0                                                                     & 0                                                                     & JPN                                                                   & 19836208                                                              & 3436293.2                                                             & 29659426                                                             \\\\\n",
       "\t Color                                                                                               & Katsuhiro Ã”tomo                                                                                    & 105                                                                                                 & 103                                                                                                 &   78                                                                                                & 101                                                                                                 & Robin Atkin Downes                                                                                  & 488                                                                                                 & 410388                                                                                              & Action\\textbar{}Adventure\\textbar{}Animation\\textbar{}Family\\textbar{}Sci-Fi\\textbar{}Thriller & ...                                                                                                 & 1                                                                                                   & 0                                                                                                   & 0                                                                                                   & 1                                                                                                   & 0                                                                                                   & 0                                                                                                   & JPN                                                                                                 & 19664196                                                                                            &  521465.0                                                                                           & 24986575                                                                                           \\\\\n",
       "\t Color                                                                 & Katsuhiro Ã”tomo                                                      & 150                                                                   & 124                                                                   &   78                                                                  &   4                                                                   & Takeshi Kusao                                                         &   6                                                                   & 439162                                                                & Action\\textbar{}Animation\\textbar{}Sci-Fi                           & ...                                                                   & 1                                                                     & 0                                                                     & 0                                                                     & 0                                                                     & 0                                                                     & 0                                                                     & JPN                                                                   &  8583579                                                              &  891286.1                                                             & 17420507                                                             \\\\\n",
       "\\end{tabular}\n"
      ],
      "text/markdown": [
       "\n",
       "color | director_name | num_critic_for_reviews | duration | director_facebook_likes | actor_3_facebook_likes | actor_2_name | actor_1_facebook_likes | gross | genres | ... | genres_Sci-Fi | genres_Short | genres_Sport | genres_Thriller | genres_War | genres_Western | currency | budget_us | gross_2016 | budget_2016 | \n",
       "|---|---|---|---|---|---|\n",
       "| Color                                             | Joon-ho Bong                                      | 363                                               | 110                                               |  584                                              |  74                                               | Kang-ho Song                                      | 629                                               | 2201412                                           | Comedy|Drama|Horror|Sci-Fi                        | ...                                               | 1                                                 | 0                                                 | 0                                                 | 0                                                 | 0                                                 | 0                                                 | KOR                                               | 12793905                                          | 2620914.8                                         | 15231922                                          | \n",
       "| Color                                             | Chan-wook Park                                    | 202                                               | 112                                               |    0                                              |  38                                               | Yeong-ae Lee                                      | 717                                               | 211667                                            | Crime|Drama                                       | ...                                               | 0                                                 | 0                                                 | 0                                                 | 0                                                 | 0                                                 | 0                                                 | KOR                                               |  4101095                                          |  260131.9                                         |  5040113                                          | \n",
       "| Color                                             | Lajos Koltai                                      |  73                                               | 134                                               |   45                                              |   0                                               | PÃ©ter Fancsikai                                  |   9                                               | 195888                                            | Drama|Romance|War                                 | ...                                               | 0                                                 | 0                                                 | 0                                                 | 0                                                 | 1                                                 | 0                                                 | HUN                                               | 12526148                                          |  240740.0                                         | 15394231                                          | \n",
       "| Color                                             | Hayao Miyazaki                                    | 174                                               | 134                                               | 6000                                              | 745                                               | Jada Pinkett Smith                                | 893                                               | 2298191                                           | Adventure|Animation|Fantasy                       | ...                                               | 0                                                 | 0                                                 | 0                                                 | 0                                                 | 0                                                 | 0                                                 | JPN                                               | 19836208                                          | 3436293.2                                         | 29659426                                          | \n",
       "| Color                                             | Katsuhiro Ã”tomo                                  | 105                                               | 103                                               |   78                                              | 101                                               | Robin Atkin Downes                                | 488                                               | 410388                                            | Action|Adventure|Animation|Family|Sci-Fi|Thriller | ...                                               | 1                                                 | 0                                                 | 0                                                 | 1                                                 | 0                                                 | 0                                                 | JPN                                               | 19664196                                          |  521465.0                                         | 24986575                                          | \n",
       "| Color                                             | Katsuhiro Ã”tomo                                  | 150                                               | 124                                               |   78                                              |   4                                               | Takeshi Kusao                                     |   6                                               | 439162                                            | Action|Animation|Sci-Fi                           | ...                                               | 1                                                 | 0                                                 | 0                                                 | 0                                                 | 0                                                 | 0                                                 | JPN                                               |  8583579                                          |  891286.1                                         | 17420507                                          | \n",
       "\n",
       "\n"
      ],
      "text/plain": [
       "  color director_name    num_critic_for_reviews duration\n",
       "1 Color Joon-ho Bong     363                    110     \n",
       "2 Color Chan-wook Park   202                    112     \n",
       "3 Color Lajos Koltai      73                    134     \n",
       "4 Color Hayao Miyazaki   174                    134     \n",
       "5 Color Katsuhiro Ãtomo 105                    103     \n",
       "6 Color Katsuhiro Ãtomo 150                    124     \n",
       "  director_facebook_likes actor_3_facebook_likes actor_2_name      \n",
       "1  584                     74                    Kang-ho Song      \n",
       "2    0                     38                    Yeong-ae Lee      \n",
       "3   45                      0                    PÃ©ter Fancsikai  \n",
       "4 6000                    745                    Jada Pinkett Smith\n",
       "5   78                    101                    Robin Atkin Downes\n",
       "6   78                      4                    Takeshi Kusao     \n",
       "  actor_1_facebook_likes gross  \n",
       "1 629                    2201412\n",
       "2 717                    211667 \n",
       "3   9                    195888 \n",
       "4 893                    2298191\n",
       "5 488                    410388 \n",
       "6   6                    439162 \n",
       "  genres                                            ... genres_Sci-Fi\n",
       "1 Comedy|Drama|Horror|Sci-Fi                        ... 1            \n",
       "2 Crime|Drama                                       ... 0            \n",
       "3 Drama|Romance|War                                 ... 0            \n",
       "4 Adventure|Animation|Fantasy                       ... 0            \n",
       "5 Action|Adventure|Animation|Family|Sci-Fi|Thriller ... 1            \n",
       "6 Action|Animation|Sci-Fi                           ... 1            \n",
       "  genres_Short genres_Sport genres_Thriller genres_War genres_Western currency\n",
       "1 0            0            0               0          0              KOR     \n",
       "2 0            0            0               0          0              KOR     \n",
       "3 0            0            0               1          0              HUN     \n",
       "4 0            0            0               0          0              JPN     \n",
       "5 0            0            1               0          0              JPN     \n",
       "6 0            0            0               0          0              JPN     \n",
       "  budget_us gross_2016 budget_2016\n",
       "1 12793905  2620914.8  15231922   \n",
       "2  4101095   260131.9   5040113   \n",
       "3 12526148   240740.0  15394231   \n",
       "4 19836208  3436293.2  29659426   \n",
       "5 19664196   521465.0  24986575   \n",
       "6  8583579   891286.1  17420507   "
      ]
     },
     "metadata": {},
     "output_type": "display_data"
    }
   ],
   "source": [
    "movies <- fread(\"movie_budget_us_2016.csv\",stringsAsFactors = F)\n",
    "head(movies)"
   ]
  },
  {
   "cell_type": "markdown",
   "metadata": {},
   "source": [
    "Since the categorical variables in the data set are encoded as string of character, I have to code them as factor to do the exploratory analysis."
   ]
  },
  {
   "cell_type": "code",
   "execution_count": 3,
   "metadata": {
    "collapsed": false
   },
   "outputs": [],
   "source": [
    "movies$color<-as.factor(movies$color) \n",
    "movies$director_name<-as.factor(movies$director_name)\n",
    "movies$actor_2_name<-as.factor(movies$actor_2_name)\n",
    "\n",
    "movies$gross<-as.integer(movies$gross)\n",
    "\n",
    "movies$actor_1_name<-as.factor(movies$actor_1_name)\n",
    "movies$actor_3_name<-as.factor(movies$actor_3_name)\n",
    "movies$language<-as.factor(movies$language)\n",
    "movies$country<-as.factor(movies$country)\n",
    "movies$content_rating<-as.factor(movies$content_rating)\n",
    "movies$aspect_ratio<-as.factor(movies$aspect_ratio)\n",
    "\n",
    "movies$movie_facebook_likes<-as.integer(movies$movie_facebook_likes)\n",
    "movies$genres_Action<-as.integer(movies$genres_Action)"
   ]
  },
  {
   "cell_type": "markdown",
   "metadata": {},
   "source": [
    "Let us look at the distribution of each variable."
   ]
  },
  {
   "cell_type": "markdown",
   "metadata": {
    "collapsed": true
   },
   "source": [
    "# Movie specific statistics\n",
    "\n",
    "In this section, I will look at the variables describing the movies themselves. In particular, I'll look at the film colorization, their duration, their title, their gross revenue and their budget. "
   ]
  },
  {
   "cell_type": "code",
   "execution_count": 4,
   "metadata": {
    "collapsed": false
   },
   "outputs": [
    {
     "data": {
      "text/html": [
       "<dl class=dl-horizontal>\n",
       "\t<dt>Black and White</dt>\n",
       "\t\t<dd>201</dd>\n",
       "\t<dt>Color</dt>\n",
       "\t\t<dd>4616</dd>\n",
       "</dl>\n"
      ],
      "text/latex": [
       "\\begin{description*}\n",
       "\\item[Black and White] 201\n",
       "\\item[Color] 4616\n",
       "\\end{description*}\n"
      ],
      "text/markdown": [
       "Black and White\n",
       ":   201Color\n",
       ":   4616\n",
       "\n"
      ],
      "text/plain": [
       "Black and White           Color \n",
       "            201            4616 "
      ]
     },
     "metadata": {},
     "output_type": "display_data"
    }
   ],
   "source": [
    "summary(movies$color)"
   ]
  },
  {
   "cell_type": "code",
   "execution_count": 5,
   "metadata": {
    "collapsed": false
   },
   "outputs": [
    {
     "name": "stderr",
     "output_type": "stream",
     "text": [
      "Warning message in RColorBrewer::brewer.pal(N, \"Set2\"):\n",
      "\"minimal value for n is 3, returning requested palette with 3 different levels\n",
      "\""
     ]
    },
    {
     "data": {
      "text/html": [
       "<iframe src=\"plotlyJupyterHTML/hist_color.html\" width=\"100%\" height=\"400\" id=\"igraph\" scrolling=\"no\" seamless=\"seamless\" frameBorder=\"0\"> </iframe>"
      ]
     },
     "metadata": {},
     "output_type": "display_data"
    }
   ],
   "source": [
    "m = list(\n",
    "  l = 50,\n",
    "  r = 0,\n",
    "  b = 50,\n",
    "  t = 30,\n",
    "  pad = 0\n",
    ") \n",
    "\n",
    "hist_color <- plot_ly(movies[complete.cases(movies$color),],x=~color,color=~color,type=\"histogram\") %>%\n",
    "layout(title = 'Proprotion of each film colorization in the IMDB data set',\n",
    "         xaxis = list(title = 'Color of movies', zeroline = TRUE),\n",
    "         yaxis = list(title = 'Frequency',range = c(0,5000)),\n",
    "         margin=m)\n",
    "embed_notebook(hist_color,file=paste0(\"plotlyJupyterHTML/\",\"hist_color\",\".html\"))"
   ]
  },
  {
   "cell_type": "markdown",
   "metadata": {},
   "source": [
    "I'm interested to see how the colorization of movies changes over the years for the movie in the data set. "
   ]
  },
  {
   "cell_type": "code",
   "execution_count": 6,
   "metadata": {
    "collapsed": false
   },
   "outputs": [],
   "source": [
    "movies_decade<-movies[,c(\"title_year\",\"color\"),with=FALSE]"
   ]
  },
  {
   "cell_type": "code",
   "execution_count": 7,
   "metadata": {
    "collapsed": true
   },
   "outputs": [],
   "source": [
    "decade<-function(x){\n",
    "    d<-as.double(x)\n",
    "    \n",
    "    return ((floor(d/10))*10)\n",
    "}"
   ]
  },
  {
   "cell_type": "code",
   "execution_count": 8,
   "metadata": {
    "collapsed": false
   },
   "outputs": [
    {
     "data": {
      "text/html": [
       "<ol class=list-inline>\n",
       "\t<li>2000</li>\n",
       "\t<li>2000</li>\n",
       "\t<li>2000</li>\n",
       "\t<li>1990</li>\n",
       "\t<li>2000</li>\n",
       "\t<li>1980</li>\n",
       "</ol>\n"
      ],
      "text/latex": [
       "\\begin{enumerate*}\n",
       "\\item 2000\n",
       "\\item 2000\n",
       "\\item 2000\n",
       "\\item 1990\n",
       "\\item 2000\n",
       "\\item 1980\n",
       "\\end{enumerate*}\n"
      ],
      "text/markdown": [
       "1. 2000\n",
       "2. 2000\n",
       "3. 2000\n",
       "4. 1990\n",
       "5. 2000\n",
       "6. 1980\n",
       "\n",
       "\n"
      ],
      "text/plain": [
       "[1] 2000 2000 2000 1990 2000 1980"
      ]
     },
     "metadata": {},
     "output_type": "display_data"
    }
   ],
   "source": [
    "movies_decade$decades<-decade(movies_decade$title_year)\n",
    "head(movies_decade$decades)"
   ]
  },
  {
   "cell_type": "code",
   "execution_count": 9,
   "metadata": {
    "collapsed": false
   },
   "outputs": [
    {
     "name": "stderr",
     "output_type": "stream",
     "text": [
      "Warning message:\n",
      "\"Ignoring 1 observations\"Warning message in RColorBrewer::brewer.pal(N, \"Set2\"):\n",
      "\"minimal value for n is 3, returning requested palette with 3 different levels\n",
      "\""
     ]
    },
    {
     "data": {
      "text/html": [
       "<iframe src=\"plotlyJupyterHTML/hist_color_decade.html\" width=\"100%\" height=\"400\" id=\"igraph\" scrolling=\"no\" seamless=\"seamless\" frameBorder=\"0\"> </iframe>"
      ]
     },
     "metadata": {},
     "output_type": "display_data"
    }
   ],
   "source": [
    "hist_color_decade <- movies_decade %>%\n",
    "  dplyr::count(color,decades) %>%\n",
    "  plot_ly(x =~decades, y = ~n,color=~color) %>% \n",
    "  add_bars()%>%\n",
    "layout(title = 'Film colorization in the IMDB data set by decade',\n",
    "         xaxis = list(title = 'Color of movies', zeroline = TRUE),\n",
    "         yaxis = list(title = 'Frequency'))\n",
    "\n",
    "embed_notebook(hist_color_decade,file=paste0(\"plotlyJupyterHTML/\",\"hist_color_decade\",\".html\"))"
   ]
  },
  {
   "cell_type": "markdown",
   "metadata": {},
   "source": [
    "The number of color movie grown decade from decade, but the number of black and white movie stay almost the same. In consequence their relative frequency must go down each year. Let us look at the relative frequency of both color and black and white movies in the data set."
   ]
  },
  {
   "cell_type": "code",
   "execution_count": 10,
   "metadata": {
    "collapsed": false
   },
   "outputs": [],
   "source": [
    "freq_color_year<-movies_decade %>%\n",
    "group_by(title_year,color) %>%\n",
    "tally%>%\n",
    "mutate(freq=n/sum(n))"
   ]
  },
  {
   "cell_type": "code",
   "execution_count": 11,
   "metadata": {
    "collapsed": false
   },
   "outputs": [
    {
     "data": {
      "text/html": [
       "<table>\n",
       "<thead><tr><th scope=col>title_year</th><th scope=col>color</th><th scope=col>n</th><th scope=col>freq</th></tr></thead>\n",
       "<tbody>\n",
       "\t<tr><td>1916</td><td>BW  </td><td>1   </td><td>1   </td></tr>\n",
       "\t<tr><td>1920</td><td>BW  </td><td>1   </td><td>1   </td></tr>\n",
       "\t<tr><td>1925</td><td>BW  </td><td>1   </td><td>1   </td></tr>\n",
       "\t<tr><td>1927</td><td>BW  </td><td>1   </td><td>1   </td></tr>\n",
       "\t<tr><td>1929</td><td>BW  </td><td>2   </td><td>1   </td></tr>\n",
       "\t<tr><td>1930</td><td>BW  </td><td>1   </td><td>1   </td></tr>\n",
       "</tbody>\n",
       "</table>\n"
      ],
      "text/latex": [
       "\\begin{tabular}{r|llll}\n",
       " title\\_year & color & n & freq\\\\\n",
       "\\hline\n",
       "\t 1916 & BW   & 1    & 1   \\\\\n",
       "\t 1920 & BW   & 1    & 1   \\\\\n",
       "\t 1925 & BW   & 1    & 1   \\\\\n",
       "\t 1927 & BW   & 1    & 1   \\\\\n",
       "\t 1929 & BW   & 2    & 1   \\\\\n",
       "\t 1930 & BW   & 1    & 1   \\\\\n",
       "\\end{tabular}\n"
      ],
      "text/markdown": [
       "\n",
       "title_year | color | n | freq | \n",
       "|---|---|---|---|---|---|\n",
       "| 1916 | BW   | 1    | 1    | \n",
       "| 1920 | BW   | 1    | 1    | \n",
       "| 1925 | BW   | 1    | 1    | \n",
       "| 1927 | BW   | 1    | 1    | \n",
       "| 1929 | BW   | 2    | 1    | \n",
       "| 1930 | BW   | 1    | 1    | \n",
       "\n",
       "\n"
      ],
      "text/plain": [
       "  title_year color n freq\n",
       "1 1916       BW    1 1   \n",
       "2 1920       BW    1 1   \n",
       "3 1925       BW    1 1   \n",
       "4 1927       BW    1 1   \n",
       "5 1929       BW    2 1   \n",
       "6 1930       BW    1 1   "
      ]
     },
     "metadata": {},
     "output_type": "display_data"
    }
   ],
   "source": [
    "levels(freq_color_year$color)[levels(freq_color_year$color)==\"Black and White\"]<-\"BW\"\n",
    "head(freq_color_year)"
   ]
  },
  {
   "cell_type": "code",
   "execution_count": 12,
   "metadata": {
    "collapsed": false
   },
   "outputs": [],
   "source": [
    "freq_color_year$title_year<-as.integer(freq_color_year$title_year)"
   ]
  },
  {
   "cell_type": "code",
   "execution_count": 13,
   "metadata": {
    "collapsed": false
   },
   "outputs": [
    {
     "data": {
      "text/html": [
       "<table>\n",
       "<thead><tr><th scope=col>title_year</th><th scope=col>n</th><th scope=col>BW</th><th scope=col>Color</th></tr></thead>\n",
       "<tbody>\n",
       "\t<tr><td>1916</td><td>1   </td><td>1   </td><td>NA  </td></tr>\n",
       "\t<tr><td>1920</td><td>1   </td><td>1   </td><td>NA  </td></tr>\n",
       "\t<tr><td>1925</td><td>1   </td><td>1   </td><td>NA  </td></tr>\n",
       "\t<tr><td>1927</td><td>1   </td><td>1   </td><td>NA  </td></tr>\n",
       "\t<tr><td>1929</td><td>2   </td><td>1   </td><td>NA  </td></tr>\n",
       "</tbody>\n",
       "</table>\n"
      ],
      "text/latex": [
       "\\begin{tabular}{r|llll}\n",
       " title\\_year & n & BW & Color\\\\\n",
       "\\hline\n",
       "\t 1916 & 1    & 1    & NA  \\\\\n",
       "\t 1920 & 1    & 1    & NA  \\\\\n",
       "\t 1925 & 1    & 1    & NA  \\\\\n",
       "\t 1927 & 1    & 1    & NA  \\\\\n",
       "\t 1929 & 2    & 1    & NA  \\\\\n",
       "\\end{tabular}\n"
      ],
      "text/markdown": [
       "\n",
       "title_year | n | BW | Color | \n",
       "|---|---|---|---|---|\n",
       "| 1916 | 1    | 1    | NA   | \n",
       "| 1920 | 1    | 1    | NA   | \n",
       "| 1925 | 1    | 1    | NA   | \n",
       "| 1927 | 1    | 1    | NA   | \n",
       "| 1929 | 2    | 1    | NA   | \n",
       "\n",
       "\n"
      ],
      "text/plain": [
       "  title_year n BW Color\n",
       "1 1916       1 1  NA   \n",
       "2 1920       1 1  NA   \n",
       "3 1925       1 1  NA   \n",
       "4 1927       1 1  NA   \n",
       "5 1929       2 1  NA   "
      ]
     },
     "metadata": {},
     "output_type": "display_data"
    }
   ],
   "source": [
    "freq_color_spread<-spread(freq_color_year,color,value=freq)\n",
    "head(freq_color_spread,n=5)"
   ]
  },
  {
   "cell_type": "code",
   "execution_count": 14,
   "metadata": {
    "collapsed": false,
    "scrolled": true
   },
   "outputs": [
    {
     "data": {
      "text/html": [
       "<iframe src=\"plotlyJupyterHTML/plot_color_freq.html\" width=\"100%\" height=\"400\" id=\"igraph\" scrolling=\"no\" seamless=\"seamless\" frameBorder=\"0\"> </iframe>"
      ]
     },
     "metadata": {},
     "output_type": "display_data"
    }
   ],
   "source": [
    "plot_color_freq<-plot_ly(freq_color_spread, x = ~title_year) %>%\n",
    "add_trace(y=~BW,name = 'trace 0', type = 'scatter',mode = 'lines+markers' )%>%\n",
    "add_trace(y=~Color,name = 'trace 1', type = 'scatter',mode = 'lines+markers' )%>%\n",
    "layout(title = 'Trend line of the proportion ofmovie\\'s color in the IMDB data set over the year',\n",
    "         xaxis = list(title = 'Year', zeroline = TRUE),\n",
    "         yaxis = list(title = 'Relative frequency'))\n",
    "\n",
    "embed_notebook(plot_color_freq,file=paste0(\"plotlyJupyterHTML/\",\"plot_color_freq\",\".html\"))"
   ]
  },
  {
   "cell_type": "markdown",
   "metadata": {
    "collapsed": true
   },
   "source": [
    "We can see that the number of movies in black and white stay stable over time, but the overall number of movies grows so much that their relative frequency is almost zero near the 90's.\n",
    "\n",
    "Now I take a look at the \"duration\" variable."
   ]
  },
  {
   "cell_type": "code",
   "execution_count": 15,
   "metadata": {
    "collapsed": false
   },
   "outputs": [
    {
     "data": {
      "text/plain": [
       "   Min. 1st Qu.  Median    Mean 3rd Qu.    Max.    NA's \n",
       "    7.0    94.0   104.0   108.1   118.0   334.0      13 "
      ]
     },
     "metadata": {},
     "output_type": "display_data"
    }
   ],
   "source": [
    "summary(movies$duration)"
   ]
  },
  {
   "cell_type": "code",
   "execution_count": 16,
   "metadata": {
    "collapsed": false
   },
   "outputs": [
    {
     "name": "stderr",
     "output_type": "stream",
     "text": [
      "Warning message:\n",
      "\"Ignoring 13 observations\""
     ]
    },
    {
     "data": {
      "text/html": [
       "<iframe src=\"plotlyJupyterHTML/hist_duration.html\" width=\"100%\" height=\"400\" id=\"igraph\" scrolling=\"no\" seamless=\"seamless\" frameBorder=\"0\"> </iframe>"
      ]
     },
     "metadata": {},
     "output_type": "display_data"
    }
   ],
   "source": [
    "hist_duration <- plot_ly(x=~movies$duration,type=\"histogram\")%>%\n",
    "layout(title = 'Length of the movies in the IMDB data set',\n",
    "         xaxis = list(title = 'Duration of movie', zeroline = TRUE),\n",
    "         yaxis = list(title = 'Frequency'))\n",
    "\n",
    "embed_notebook(hist_duration,file=paste0(\"plotlyJupyterHTML/\",\"hist_duration\",\".html\"))"
   ]
  },
  {
   "cell_type": "markdown",
   "metadata": {},
   "source": [
    "There seem's to be some outlier in the data. By drawing a box plot, I can easily find the value that are out of the norm."
   ]
  },
  {
   "cell_type": "code",
   "execution_count": 17,
   "metadata": {
    "collapsed": false
   },
   "outputs": [
    {
     "data": {
      "text/html": [
       "<iframe src=\"plotlyJupyterHTML/box_duration.html\" width=\"100%\" height=\"400\" id=\"igraph\" scrolling=\"no\" seamless=\"seamless\" frameBorder=\"0\"> </iframe>"
      ]
     },
     "metadata": {},
     "output_type": "display_data"
    }
   ],
   "source": [
    "box_duration <- plot_ly(x=~movies$duration[complete.cases(movies$duration)],type=\"box\")%>%\n",
    "layout(title = 'Distribution of the length of the movies in the IMDB data set',\n",
    "         xaxis = list(title = 'Duration of movie', zeroline = TRUE),\n",
    "         yaxis = list(title = 'Frequency'))\n",
    "\n",
    "embed_notebook(box_duration,file=paste0(\"plotlyJupyterHTML/\",\"box_duration\",\".html\"))"
   ]
  },
  {
   "cell_type": "code",
   "execution_count": 18,
   "metadata": {
    "collapsed": false
   },
   "outputs": [
    {
     "data": {
      "text/html": [
       "<ol class=list-inline>\n",
       "\t<li>'http://www.imdb.com/title/tt0920458/?ref_=fn_tt_tt_1'</li>\n",
       "\t<li>'http://www.imdb.com/title/tt0245280/?ref_=fn_tt_tt_1'</li>\n",
       "\t<li>'http://www.imdb.com/title/tt4061848/?ref_=fn_tt_tt_1'</li>\n",
       "\t<li>'http://www.imdb.com/title/tt0996382/?ref_=fn_tt_tt_1'</li>\n",
       "\t<li>'http://www.imdb.com/title/tt1529567/?ref_=fn_tt_tt_1'</li>\n",
       "\t<li>'http://www.imdb.com/title/tt0092991/?ref_=fn_tt_tt_1'</li>\n",
       "\t<li>'http://www.imdb.com/title/tt0473107/?ref_=fn_tt_tt_1'</li>\n",
       "\t<li>'http://www.imdb.com/title/tt0854678/?ref_=fn_tt_tt_1'</li>\n",
       "\t<li>'http://www.imdb.com/title/tt4273494/?ref_=fn_tt_tt_1'</li>\n",
       "\t<li>'http://www.imdb.com/title/tt0059026/?ref_=fn_tt_tt_1'</li>\n",
       "\t<li>'http://www.imdb.com/title/tt0478988/?ref_=fn_tt_tt_1'</li>\n",
       "\t<li>'http://www.imdb.com/title/tt0283465/?ref_=fn_tt_tt_1'</li>\n",
       "\t<li>'http://www.imdb.com/title/tt1128219/?ref_=fn_tt_tt_1'</li>\n",
       "\t<li>'http://www.imdb.com/title/tt1869849/?ref_=fn_tt_tt_1'</li>\n",
       "\t<li>'http://www.imdb.com/title/tt0092337/?ref_=fn_tt_tt_1'</li>\n",
       "\t<li>'http://www.imdb.com/title/tt2164708/?ref_=fn_tt_tt_1'</li>\n",
       "\t<li>'http://www.imdb.com/title/tt1003002/?ref_=fn_tt_tt_1'</li>\n",
       "</ol>\n"
      ],
      "text/latex": [
       "\\begin{enumerate*}\n",
       "\\item 'http://www.imdb.com/title/tt0920458/?ref\\_=fn\\_tt\\_tt\\_1'\n",
       "\\item 'http://www.imdb.com/title/tt0245280/?ref\\_=fn\\_tt\\_tt\\_1'\n",
       "\\item 'http://www.imdb.com/title/tt4061848/?ref\\_=fn\\_tt\\_tt\\_1'\n",
       "\\item 'http://www.imdb.com/title/tt0996382/?ref\\_=fn\\_tt\\_tt\\_1'\n",
       "\\item 'http://www.imdb.com/title/tt1529567/?ref\\_=fn\\_tt\\_tt\\_1'\n",
       "\\item 'http://www.imdb.com/title/tt0092991/?ref\\_=fn\\_tt\\_tt\\_1'\n",
       "\\item 'http://www.imdb.com/title/tt0473107/?ref\\_=fn\\_tt\\_tt\\_1'\n",
       "\\item 'http://www.imdb.com/title/tt0854678/?ref\\_=fn\\_tt\\_tt\\_1'\n",
       "\\item 'http://www.imdb.com/title/tt4273494/?ref\\_=fn\\_tt\\_tt\\_1'\n",
       "\\item 'http://www.imdb.com/title/tt0059026/?ref\\_=fn\\_tt\\_tt\\_1'\n",
       "\\item 'http://www.imdb.com/title/tt0478988/?ref\\_=fn\\_tt\\_tt\\_1'\n",
       "\\item 'http://www.imdb.com/title/tt0283465/?ref\\_=fn\\_tt\\_tt\\_1'\n",
       "\\item 'http://www.imdb.com/title/tt1128219/?ref\\_=fn\\_tt\\_tt\\_1'\n",
       "\\item 'http://www.imdb.com/title/tt1869849/?ref\\_=fn\\_tt\\_tt\\_1'\n",
       "\\item 'http://www.imdb.com/title/tt0092337/?ref\\_=fn\\_tt\\_tt\\_1'\n",
       "\\item 'http://www.imdb.com/title/tt2164708/?ref\\_=fn\\_tt\\_tt\\_1'\n",
       "\\item 'http://www.imdb.com/title/tt1003002/?ref\\_=fn\\_tt\\_tt\\_1'\n",
       "\\end{enumerate*}\n"
      ],
      "text/markdown": [
       "1. 'http://www.imdb.com/title/tt0920458/?ref_=fn_tt_tt_1'\n",
       "2. 'http://www.imdb.com/title/tt0245280/?ref_=fn_tt_tt_1'\n",
       "3. 'http://www.imdb.com/title/tt4061848/?ref_=fn_tt_tt_1'\n",
       "4. 'http://www.imdb.com/title/tt0996382/?ref_=fn_tt_tt_1'\n",
       "5. 'http://www.imdb.com/title/tt1529567/?ref_=fn_tt_tt_1'\n",
       "6. 'http://www.imdb.com/title/tt0092991/?ref_=fn_tt_tt_1'\n",
       "7. 'http://www.imdb.com/title/tt0473107/?ref_=fn_tt_tt_1'\n",
       "8. 'http://www.imdb.com/title/tt0854678/?ref_=fn_tt_tt_1'\n",
       "9. 'http://www.imdb.com/title/tt4273494/?ref_=fn_tt_tt_1'\n",
       "10. 'http://www.imdb.com/title/tt0059026/?ref_=fn_tt_tt_1'\n",
       "11. 'http://www.imdb.com/title/tt0478988/?ref_=fn_tt_tt_1'\n",
       "12. 'http://www.imdb.com/title/tt0283465/?ref_=fn_tt_tt_1'\n",
       "13. 'http://www.imdb.com/title/tt1128219/?ref_=fn_tt_tt_1'\n",
       "14. 'http://www.imdb.com/title/tt1869849/?ref_=fn_tt_tt_1'\n",
       "15. 'http://www.imdb.com/title/tt0092337/?ref_=fn_tt_tt_1'\n",
       "16. 'http://www.imdb.com/title/tt2164708/?ref_=fn_tt_tt_1'\n",
       "17. 'http://www.imdb.com/title/tt1003002/?ref_=fn_tt_tt_1'\n",
       "\n",
       "\n"
      ],
      "text/plain": [
       " [1] \"http://www.imdb.com/title/tt0920458/?ref_=fn_tt_tt_1\"\n",
       " [2] \"http://www.imdb.com/title/tt0245280/?ref_=fn_tt_tt_1\"\n",
       " [3] \"http://www.imdb.com/title/tt4061848/?ref_=fn_tt_tt_1\"\n",
       " [4] \"http://www.imdb.com/title/tt0996382/?ref_=fn_tt_tt_1\"\n",
       " [5] \"http://www.imdb.com/title/tt1529567/?ref_=fn_tt_tt_1\"\n",
       " [6] \"http://www.imdb.com/title/tt0092991/?ref_=fn_tt_tt_1\"\n",
       " [7] \"http://www.imdb.com/title/tt0473107/?ref_=fn_tt_tt_1\"\n",
       " [8] \"http://www.imdb.com/title/tt0854678/?ref_=fn_tt_tt_1\"\n",
       " [9] \"http://www.imdb.com/title/tt4273494/?ref_=fn_tt_tt_1\"\n",
       "[10] \"http://www.imdb.com/title/tt0059026/?ref_=fn_tt_tt_1\"\n",
       "[11] \"http://www.imdb.com/title/tt0478988/?ref_=fn_tt_tt_1\"\n",
       "[12] \"http://www.imdb.com/title/tt0283465/?ref_=fn_tt_tt_1\"\n",
       "[13] \"http://www.imdb.com/title/tt1128219/?ref_=fn_tt_tt_1\"\n",
       "[14] \"http://www.imdb.com/title/tt1869849/?ref_=fn_tt_tt_1\"\n",
       "[15] \"http://www.imdb.com/title/tt0092337/?ref_=fn_tt_tt_1\"\n",
       "[16] \"http://www.imdb.com/title/tt2164708/?ref_=fn_tt_tt_1\"\n",
       "[17] \"http://www.imdb.com/title/tt1003002/?ref_=fn_tt_tt_1\""
      ]
     },
     "metadata": {},
     "output_type": "display_data"
    }
   ],
   "source": [
    "movies[duration<59,movie_imdb_link]"
   ]
  },
  {
   "cell_type": "markdown",
   "metadata": {},
   "source": [
    "Looking at the IMDB page of the observations with a strangely short duration, I found out that most of them are either short film, small documentary or mini series who had theater release. In those cases, the episode running time is often written in the running time of the theatrical cut which case the difference in time. Since the number of problematic observation is really small, I won't change the data set. \n",
    "\n",
    "Now, I look at movie who are suspiciously long. The box-plot tell us that movie with a length of more than 154 is out of the norm, but a lot of movies these days last more than 200 minutes. In consequence, I'll look at movie who are longer than 200 minutes to see for outlier."
   ]
  },
  {
   "cell_type": "code",
   "execution_count": 19,
   "metadata": {
    "collapsed": false
   },
   "outputs": [
    {
     "data": {
      "text/html": [
       "<ol class=list-inline>\n",
       "\t<li>'http://www.imdb.com/title/tt0360717/?ref_=fn_tt_tt_1'</li>\n",
       "\t<li>'http://www.imdb.com/title/tt0346491/?ref_=fn_tt_tt_1'</li>\n",
       "\t<li>'http://www.imdb.com/title/tt0409459/?ref_=fn_tt_tt_1'</li>\n",
       "\t<li>'http://www.imdb.com/title/tt0993846/?ref_=fn_tt_tt_1'</li>\n",
       "\t<li>'http://www.imdb.com/title/tt0217505/?ref_=fn_tt_tt_1'</li>\n",
       "\t<li>'http://www.imdb.com/title/tt0111756/?ref_=fn_tt_tt_1'</li>\n",
       "\t<li>'http://www.imdb.com/title/tt0149624/?ref_=fn_tt_tt_1'</li>\n",
       "\t<li>'http://www.imdb.com/title/tt0279111/?ref_=fn_tt_tt_1'</li>\n",
       "\t<li>'http://www.imdb.com/title/tt0120863/?ref_=fn_tt_tt_1'</li>\n",
       "\t<li>'http://www.imdb.com/title/tt0113987/?ref_=fn_tt_tt_1'</li>\n",
       "\t<li>'http://www.imdb.com/title/tt0102138/?ref_=fn_tt_tt_1'</li>\n",
       "\t<li>'http://www.imdb.com/title/tt0104797/?ref_=fn_tt_tt_1'</li>\n",
       "\t<li>'http://www.imdb.com/title/tt0078788/?ref_=fn_tt_tt_1'</li>\n",
       "\t<li>'http://www.imdb.com/title/tt0056937/?ref_=fn_tt_tt_1'</li>\n",
       "\t<li>'http://www.imdb.com/title/tt0087843/?ref_=fn_tt_tt_1'</li>\n",
       "\t<li>'http://www.imdb.com/title/tt0107007/?ref_=fn_tt_tt_1'</li>\n",
       "\t<li>'http://www.imdb.com/title/tt0837106/?ref_=fn_tt_tt_1'</li>\n",
       "\t<li>'http://www.imdb.com/title/tt0093389/?ref_=fn_tt_tt_1'</li>\n",
       "\t<li>'http://www.imdb.com/title/tt0083987/?ref_=fn_tt_tt_1'</li>\n",
       "\t<li>'http://www.imdb.com/title/tt0099348/?ref_=fn_tt_tt_1'</li>\n",
       "\t<li>'http://www.imdb.com/title/tt0059245/?ref_=fn_tt_tt_1'</li>\n",
       "\t<li>'http://www.imdb.com/title/tt0056172/?ref_=fn_tt_tt_1'</li>\n",
       "\t<li>'http://www.imdb.com/title/tt0082096/?ref_=fn_tt_tt_1'</li>\n",
       "\t<li>'http://www.imdb.com/title/tt0071562/?ref_=fn_tt_tt_1'</li>\n",
       "\t<li>'http://www.imdb.com/title/tt0031381/?ref_=fn_tt_tt_1'</li>\n",
       "\t<li>'http://www.imdb.com/title/tt0047478/?ref_=fn_tt_tt_1'</li>\n",
       "\t<li>'http://www.imdb.com/title/tt0066580/?ref_=fn_tt_tt_1'</li>\n",
       "</ol>\n"
      ],
      "text/latex": [
       "\\begin{enumerate*}\n",
       "\\item 'http://www.imdb.com/title/tt0360717/?ref\\_=fn\\_tt\\_tt\\_1'\n",
       "\\item 'http://www.imdb.com/title/tt0346491/?ref\\_=fn\\_tt\\_tt\\_1'\n",
       "\\item 'http://www.imdb.com/title/tt0409459/?ref\\_=fn\\_tt\\_tt\\_1'\n",
       "\\item 'http://www.imdb.com/title/tt0993846/?ref\\_=fn\\_tt\\_tt\\_1'\n",
       "\\item 'http://www.imdb.com/title/tt0217505/?ref\\_=fn\\_tt\\_tt\\_1'\n",
       "\\item 'http://www.imdb.com/title/tt0111756/?ref\\_=fn\\_tt\\_tt\\_1'\n",
       "\\item 'http://www.imdb.com/title/tt0149624/?ref\\_=fn\\_tt\\_tt\\_1'\n",
       "\\item 'http://www.imdb.com/title/tt0279111/?ref\\_=fn\\_tt\\_tt\\_1'\n",
       "\\item 'http://www.imdb.com/title/tt0120863/?ref\\_=fn\\_tt\\_tt\\_1'\n",
       "\\item 'http://www.imdb.com/title/tt0113987/?ref\\_=fn\\_tt\\_tt\\_1'\n",
       "\\item 'http://www.imdb.com/title/tt0102138/?ref\\_=fn\\_tt\\_tt\\_1'\n",
       "\\item 'http://www.imdb.com/title/tt0104797/?ref\\_=fn\\_tt\\_tt\\_1'\n",
       "\\item 'http://www.imdb.com/title/tt0078788/?ref\\_=fn\\_tt\\_tt\\_1'\n",
       "\\item 'http://www.imdb.com/title/tt0056937/?ref\\_=fn\\_tt\\_tt\\_1'\n",
       "\\item 'http://www.imdb.com/title/tt0087843/?ref\\_=fn\\_tt\\_tt\\_1'\n",
       "\\item 'http://www.imdb.com/title/tt0107007/?ref\\_=fn\\_tt\\_tt\\_1'\n",
       "\\item 'http://www.imdb.com/title/tt0837106/?ref\\_=fn\\_tt\\_tt\\_1'\n",
       "\\item 'http://www.imdb.com/title/tt0093389/?ref\\_=fn\\_tt\\_tt\\_1'\n",
       "\\item 'http://www.imdb.com/title/tt0083987/?ref\\_=fn\\_tt\\_tt\\_1'\n",
       "\\item 'http://www.imdb.com/title/tt0099348/?ref\\_=fn\\_tt\\_tt\\_1'\n",
       "\\item 'http://www.imdb.com/title/tt0059245/?ref\\_=fn\\_tt\\_tt\\_1'\n",
       "\\item 'http://www.imdb.com/title/tt0056172/?ref\\_=fn\\_tt\\_tt\\_1'\n",
       "\\item 'http://www.imdb.com/title/tt0082096/?ref\\_=fn\\_tt\\_tt\\_1'\n",
       "\\item 'http://www.imdb.com/title/tt0071562/?ref\\_=fn\\_tt\\_tt\\_1'\n",
       "\\item 'http://www.imdb.com/title/tt0031381/?ref\\_=fn\\_tt\\_tt\\_1'\n",
       "\\item 'http://www.imdb.com/title/tt0047478/?ref\\_=fn\\_tt\\_tt\\_1'\n",
       "\\item 'http://www.imdb.com/title/tt0066580/?ref\\_=fn\\_tt\\_tt\\_1'\n",
       "\\end{enumerate*}\n"
      ],
      "text/markdown": [
       "1. 'http://www.imdb.com/title/tt0360717/?ref_=fn_tt_tt_1'\n",
       "2. 'http://www.imdb.com/title/tt0346491/?ref_=fn_tt_tt_1'\n",
       "3. 'http://www.imdb.com/title/tt0409459/?ref_=fn_tt_tt_1'\n",
       "4. 'http://www.imdb.com/title/tt0993846/?ref_=fn_tt_tt_1'\n",
       "5. 'http://www.imdb.com/title/tt0217505/?ref_=fn_tt_tt_1'\n",
       "6. 'http://www.imdb.com/title/tt0111756/?ref_=fn_tt_tt_1'\n",
       "7. 'http://www.imdb.com/title/tt0149624/?ref_=fn_tt_tt_1'\n",
       "8. 'http://www.imdb.com/title/tt0279111/?ref_=fn_tt_tt_1'\n",
       "9. 'http://www.imdb.com/title/tt0120863/?ref_=fn_tt_tt_1'\n",
       "10. 'http://www.imdb.com/title/tt0113987/?ref_=fn_tt_tt_1'\n",
       "11. 'http://www.imdb.com/title/tt0102138/?ref_=fn_tt_tt_1'\n",
       "12. 'http://www.imdb.com/title/tt0104797/?ref_=fn_tt_tt_1'\n",
       "13. 'http://www.imdb.com/title/tt0078788/?ref_=fn_tt_tt_1'\n",
       "14. 'http://www.imdb.com/title/tt0056937/?ref_=fn_tt_tt_1'\n",
       "15. 'http://www.imdb.com/title/tt0087843/?ref_=fn_tt_tt_1'\n",
       "16. 'http://www.imdb.com/title/tt0107007/?ref_=fn_tt_tt_1'\n",
       "17. 'http://www.imdb.com/title/tt0837106/?ref_=fn_tt_tt_1'\n",
       "18. 'http://www.imdb.com/title/tt0093389/?ref_=fn_tt_tt_1'\n",
       "19. 'http://www.imdb.com/title/tt0083987/?ref_=fn_tt_tt_1'\n",
       "20. 'http://www.imdb.com/title/tt0099348/?ref_=fn_tt_tt_1'\n",
       "21. 'http://www.imdb.com/title/tt0059245/?ref_=fn_tt_tt_1'\n",
       "22. 'http://www.imdb.com/title/tt0056172/?ref_=fn_tt_tt_1'\n",
       "23. 'http://www.imdb.com/title/tt0082096/?ref_=fn_tt_tt_1'\n",
       "24. 'http://www.imdb.com/title/tt0071562/?ref_=fn_tt_tt_1'\n",
       "25. 'http://www.imdb.com/title/tt0031381/?ref_=fn_tt_tt_1'\n",
       "26. 'http://www.imdb.com/title/tt0047478/?ref_=fn_tt_tt_1'\n",
       "27. 'http://www.imdb.com/title/tt0066580/?ref_=fn_tt_tt_1'\n",
       "\n",
       "\n"
      ],
      "text/plain": [
       " [1] \"http://www.imdb.com/title/tt0360717/?ref_=fn_tt_tt_1\"\n",
       " [2] \"http://www.imdb.com/title/tt0346491/?ref_=fn_tt_tt_1\"\n",
       " [3] \"http://www.imdb.com/title/tt0409459/?ref_=fn_tt_tt_1\"\n",
       " [4] \"http://www.imdb.com/title/tt0993846/?ref_=fn_tt_tt_1\"\n",
       " [5] \"http://www.imdb.com/title/tt0217505/?ref_=fn_tt_tt_1\"\n",
       " [6] \"http://www.imdb.com/title/tt0111756/?ref_=fn_tt_tt_1\"\n",
       " [7] \"http://www.imdb.com/title/tt0149624/?ref_=fn_tt_tt_1\"\n",
       " [8] \"http://www.imdb.com/title/tt0279111/?ref_=fn_tt_tt_1\"\n",
       " [9] \"http://www.imdb.com/title/tt0120863/?ref_=fn_tt_tt_1\"\n",
       "[10] \"http://www.imdb.com/title/tt0113987/?ref_=fn_tt_tt_1\"\n",
       "[11] \"http://www.imdb.com/title/tt0102138/?ref_=fn_tt_tt_1\"\n",
       "[12] \"http://www.imdb.com/title/tt0104797/?ref_=fn_tt_tt_1\"\n",
       "[13] \"http://www.imdb.com/title/tt0078788/?ref_=fn_tt_tt_1\"\n",
       "[14] \"http://www.imdb.com/title/tt0056937/?ref_=fn_tt_tt_1\"\n",
       "[15] \"http://www.imdb.com/title/tt0087843/?ref_=fn_tt_tt_1\"\n",
       "[16] \"http://www.imdb.com/title/tt0107007/?ref_=fn_tt_tt_1\"\n",
       "[17] \"http://www.imdb.com/title/tt0837106/?ref_=fn_tt_tt_1\"\n",
       "[18] \"http://www.imdb.com/title/tt0093389/?ref_=fn_tt_tt_1\"\n",
       "[19] \"http://www.imdb.com/title/tt0083987/?ref_=fn_tt_tt_1\"\n",
       "[20] \"http://www.imdb.com/title/tt0099348/?ref_=fn_tt_tt_1\"\n",
       "[21] \"http://www.imdb.com/title/tt0059245/?ref_=fn_tt_tt_1\"\n",
       "[22] \"http://www.imdb.com/title/tt0056172/?ref_=fn_tt_tt_1\"\n",
       "[23] \"http://www.imdb.com/title/tt0082096/?ref_=fn_tt_tt_1\"\n",
       "[24] \"http://www.imdb.com/title/tt0071562/?ref_=fn_tt_tt_1\"\n",
       "[25] \"http://www.imdb.com/title/tt0031381/?ref_=fn_tt_tt_1\"\n",
       "[26] \"http://www.imdb.com/title/tt0047478/?ref_=fn_tt_tt_1\"\n",
       "[27] \"http://www.imdb.com/title/tt0066580/?ref_=fn_tt_tt_1\""
      ]
     },
     "metadata": {},
     "output_type": "display_data"
    }
   ],
   "source": [
    "movies[duration>200&duration<300,movie_imdb_link]"
   ]
  },
  {
   "cell_type": "markdown",
   "metadata": {},
   "source": [
    "I looked at the IMDB page of the majority of those movies and all the durations seems correct. The only thing that could add some variability in the model is the fact that some movie has multiple cuts and it is impossible to know if the value of the duration of the data set is the one of the cut that made it in the majority of the theater.\n",
    "\n",
    "After that, I looked at the variable \"movie_title\". First of all, I'm interested to know the distribution of the number of letters in the title of the movies."
   ]
  },
  {
   "cell_type": "code",
   "execution_count": 20,
   "metadata": {
    "collapsed": false
   },
   "outputs": [
    {
     "data": {
      "text/html": [
       "<table>\n",
       "<thead><tr><th scope=col>Title</th><th scope=col>Length</th><th scope=col>Gross</th></tr></thead>\n",
       "<tbody>\n",
       "\t<tr><td>thehost         </td><td> 7              </td><td>2201412         </td></tr>\n",
       "\t<tr><td>ladyvengeance   </td><td>13              </td><td> 211667         </td></tr>\n",
       "\t<tr><td>fateless        </td><td> 8              </td><td> 195888         </td></tr>\n",
       "\t<tr><td>princessmononoke</td><td>16              </td><td>2298191         </td></tr>\n",
       "\t<tr><td>steamboy        </td><td> 8              </td><td> 410388         </td></tr>\n",
       "\t<tr><td>akira           </td><td> 5              </td><td> 439162         </td></tr>\n",
       "</tbody>\n",
       "</table>\n"
      ],
      "text/latex": [
       "\\begin{tabular}{r|lll}\n",
       " Title & Length & Gross\\\\\n",
       "\\hline\n",
       "\t thehost          &  7               & 2201412         \\\\\n",
       "\t ladyvengeance    & 13               &  211667         \\\\\n",
       "\t fateless         &  8               &  195888         \\\\\n",
       "\t princessmononoke & 16               & 2298191         \\\\\n",
       "\t steamboy         &  8               &  410388         \\\\\n",
       "\t akira            &  5               &  439162         \\\\\n",
       "\\end{tabular}\n"
      ],
      "text/markdown": [
       "\n",
       "Title | Length | Gross | \n",
       "|---|---|---|---|---|---|\n",
       "| thehost          |  7               | 2201412          | \n",
       "| ladyvengeance    | 13               |  211667          | \n",
       "| fateless         |  8               |  195888          | \n",
       "| princessmononoke | 16               | 2298191          | \n",
       "| steamboy         |  8               |  410388          | \n",
       "| akira            |  5               |  439162          | \n",
       "\n",
       "\n"
      ],
      "text/plain": [
       "  Title            Length Gross  \n",
       "1 thehost           7     2201412\n",
       "2 ladyvengeance    13      211667\n",
       "3 fateless          8      195888\n",
       "4 princessmononoke 16     2298191\n",
       "5 steamboy          8      410388\n",
       "6 akira             5      439162"
      ]
     },
     "metadata": {},
     "output_type": "display_data"
    }
   ],
   "source": [
    "title_length<-data.frame(\"Title\"=movies$movie_title,\"Length\"=nchar(movies$movie_title),\"Gross\"=movies$gross)\n",
    "head(title_length)"
   ]
  },
  {
   "cell_type": "code",
   "execution_count": 21,
   "metadata": {
    "collapsed": false
   },
   "outputs": [
    {
     "data": {
      "text/html": [
       "<iframe src=\"plotlyJupyterHTML/hist_length.html\" width=\"100%\" height=\"400\" id=\"igraph\" scrolling=\"no\" seamless=\"seamless\" frameBorder=\"0\"> </iframe>"
      ]
     },
     "metadata": {},
     "output_type": "display_data"
    }
   ],
   "source": [
    "hist_length <- title_length %>%\n",
    "  dplyr::count(Length) %>%\n",
    "  plot_ly(x =~Length, y = ~n) %>% \n",
    "  add_bars()%>%\n",
    "layout(title = 'Distribution of movie\\'s title length in the IMDB data set',\n",
    "         xaxis = list(title = 'Length of the movies title', zeroline = TRUE),\n",
    "         yaxis = list(title = 'Frequency'))\n",
    "\n",
    "embed_notebook(hist_length,file=paste0(\"plotlyJupyterHTML/\",\"hist_length\",\".html\"))"
   ]
  },
  {
   "cell_type": "markdown",
   "metadata": {},
   "source": [
    "Here again, there seem's to be some outlier in the data and to make sure those are not error in the data set, I looked at the longest movie title."
   ]
  },
  {
   "cell_type": "code",
   "execution_count": 22,
   "metadata": {
    "collapsed": false
   },
   "outputs": [
    {
     "data": {
      "text/html": [
       "<table>\n",
       "<thead><tr><th></th><th scope=col>Title</th><th scope=col>Length</th><th scope=col>Gross</th></tr></thead>\n",
       "<tbody>\n",
       "\t<tr><th scope=row>3845</th><td>30nightsofparanormalactivitywiththedevilinsidethegirlwiththedragontattoo</td><td>72                                                                      </td><td>        0                                                               </td></tr>\n",
       "\t<tr><th scope=row>2310</th><td>boratculturallearningsofamericaformakebenefitgloriousnationofkazakhstan </td><td>71                                                                      </td><td>128505958                                                               </td></tr>\n",
       "\t<tr><th scope=row>4132</th><td>the41yearoldvirginwhoknockedupsarahmarshallandfeltsuperbadaboutit       </td><td>65                                                                      </td><td>       NA                                                               </td></tr>\n",
       "\t<tr><th scope=row>3967</th><td>everythingyoualwayswantedtoknowaboutsexbutwereafraidtoask               </td><td>57                                                                      </td><td>       NA                                                               </td></tr>\n",
       "\t<tr><th scope=row>4040</th><td>drstrangeloveorhowilearnedtostopworryingandlovethebomb                  </td><td>54                                                                      </td><td>       NA                                                               </td></tr>\n",
       "\t<tr><th scope=row>4226</th><td>onceinalifetimetheextraordinarystoryofthenewyorkcosmos                  </td><td>54                                                                      </td><td>   144431                                                               </td></tr>\n",
       "\t<tr><th scope=row>78</th><td>thechroniclesofnarniathelionthewitchandthewardrobe                      </td><td>50                                                                      </td><td>291709845                                                               </td></tr>\n",
       "\t<tr><th scope=row>1645</th><td>theassassinationofjessejamesbythecowardrobertford                       </td><td>49                                                                      </td><td>  3904982                                                               </td></tr>\n",
       "\t<tr><th scope=row>4371</th><td>deceptivepracticethemysteriesandmentorsofrickyjay                       </td><td>49                                                                      </td><td>   151389                                                               </td></tr>\n",
       "\t<tr><th scope=row>1709</th><td>alexanderandtheterriblehorriblenogoodverybadday                         </td><td>47                                                                      </td><td> 66950483                                                               </td></tr>\n",
       "</tbody>\n",
       "</table>\n"
      ],
      "text/latex": [
       "\\begin{tabular}{r|lll}\n",
       "  & Title & Length & Gross\\\\\n",
       "\\hline\n",
       "\t3845 & 30nightsofparanormalactivitywiththedevilinsidethegirlwiththedragontattoo & 72                                                                       &         0                                                               \\\\\n",
       "\t2310 & boratculturallearningsofamericaformakebenefitgloriousnationofkazakhstan  & 71                                                                       & 128505958                                                               \\\\\n",
       "\t4132 & the41yearoldvirginwhoknockedupsarahmarshallandfeltsuperbadaboutit        & 65                                                                       &        NA                                                               \\\\\n",
       "\t3967 & everythingyoualwayswantedtoknowaboutsexbutwereafraidtoask                & 57                                                                       &        NA                                                               \\\\\n",
       "\t4040 & drstrangeloveorhowilearnedtostopworryingandlovethebomb                   & 54                                                                       &        NA                                                               \\\\\n",
       "\t4226 & onceinalifetimetheextraordinarystoryofthenewyorkcosmos                   & 54                                                                       &    144431                                                               \\\\\n",
       "\t78 & thechroniclesofnarniathelionthewitchandthewardrobe                       & 50                                                                       & 291709845                                                               \\\\\n",
       "\t1645 & theassassinationofjessejamesbythecowardrobertford                        & 49                                                                       &   3904982                                                               \\\\\n",
       "\t4371 & deceptivepracticethemysteriesandmentorsofrickyjay                        & 49                                                                       &    151389                                                               \\\\\n",
       "\t1709 & alexanderandtheterriblehorriblenogoodverybadday                          & 47                                                                       &  66950483                                                               \\\\\n",
       "\\end{tabular}\n"
      ],
      "text/markdown": [
       "\n",
       "| <!--/--> | Title | Length | Gross | \n",
       "|---|---|---|---|---|---|---|---|---|---|\n",
       "| 3845 | 30nightsofparanormalactivitywiththedevilinsidethegirlwiththedragontattoo | 72                                                                       |         0                                                                | \n",
       "| 2310 | boratculturallearningsofamericaformakebenefitgloriousnationofkazakhstan  | 71                                                                       | 128505958                                                                | \n",
       "| 4132 | the41yearoldvirginwhoknockedupsarahmarshallandfeltsuperbadaboutit        | 65                                                                       |        NA                                                                | \n",
       "| 3967 | everythingyoualwayswantedtoknowaboutsexbutwereafraidtoask                | 57                                                                       |        NA                                                                | \n",
       "| 4040 | drstrangeloveorhowilearnedtostopworryingandlovethebomb                   | 54                                                                       |        NA                                                                | \n",
       "| 4226 | onceinalifetimetheextraordinarystoryofthenewyorkcosmos                   | 54                                                                       |    144431                                                                | \n",
       "| 78 | thechroniclesofnarniathelionthewitchandthewardrobe                       | 50                                                                       | 291709845                                                                | \n",
       "| 1645 | theassassinationofjessejamesbythecowardrobertford                        | 49                                                                       |   3904982                                                                | \n",
       "| 4371 | deceptivepracticethemysteriesandmentorsofrickyjay                        | 49                                                                       |    151389                                                                | \n",
       "| 1709 | alexanderandtheterriblehorriblenogoodverybadday                          | 47                                                                       |  66950483                                                                | \n",
       "\n",
       "\n"
      ],
      "text/plain": [
       "     Title                                                                   \n",
       "3845 30nightsofparanormalactivitywiththedevilinsidethegirlwiththedragontattoo\n",
       "2310 boratculturallearningsofamericaformakebenefitgloriousnationofkazakhstan \n",
       "4132 the41yearoldvirginwhoknockedupsarahmarshallandfeltsuperbadaboutit       \n",
       "3967 everythingyoualwayswantedtoknowaboutsexbutwereafraidtoask               \n",
       "4040 drstrangeloveorhowilearnedtostopworryingandlovethebomb                  \n",
       "4226 onceinalifetimetheextraordinarystoryofthenewyorkcosmos                  \n",
       "78   thechroniclesofnarniathelionthewitchandthewardrobe                      \n",
       "1645 theassassinationofjessejamesbythecowardrobertford                       \n",
       "4371 deceptivepracticethemysteriesandmentorsofrickyjay                       \n",
       "1709 alexanderandtheterriblehorriblenogoodverybadday                         \n",
       "     Length Gross    \n",
       "3845 72             0\n",
       "2310 71     128505958\n",
       "4132 65            NA\n",
       "3967 57            NA\n",
       "4040 54            NA\n",
       "4226 54        144431\n",
       "78   50     291709845\n",
       "1645 49       3904982\n",
       "4371 49        151389\n",
       "1709 47      66950483"
      ]
     },
     "metadata": {},
     "output_type": "display_data"
    }
   ],
   "source": [
    "head(title_length[order(-title_length$Length),],n=10)"
   ]
  },
  {
   "cell_type": "markdown",
   "metadata": {},
   "source": [
    "I learn two things by Googling those movies: first they are all legit movie, there was no error in the data set; second some porno producers like to concatenate the name of popular movies and use that as the name for their movie, probably to maximize their google ranking. Well, I knew I'll learn something by analysing that data set!\n",
    "\n",
    "I'm interested to know if the length of a movie influence his performance at the box-office."
   ]
  },
  {
   "cell_type": "code",
   "execution_count": 23,
   "metadata": {
    "collapsed": false
   },
   "outputs": [
    {
     "data": {
      "text/html": [
       "<iframe src=\"plotlyJupyterHTML/scat_title_gross.html\" width=\"100%\" height=\"400\" id=\"igraph\" scrolling=\"no\" seamless=\"seamless\" frameBorder=\"0\"> </iframe>"
      ]
     },
     "metadata": {},
     "output_type": "display_data"
    }
   ],
   "source": [
    "temp<-title_length[!is.na(title_length$Gross),]\n",
    "fit <- lm(Gross ~ Length, data = temp)\n",
    "scat_title_gross<-plot_ly(temp,x=~Length,y=~Gross, type=\"scatter\", mode = \"markers\")%>% \n",
    "add_markers(color=~Gross, alpha = 0.4)%>% \n",
    "add_trace(data=temp,x = ~Length, y = ~fitted(fit), mode = \"lines\")\n",
    "\n",
    "embed_notebook(scat_title_gross,file=paste0(\"plotlyJupyterHTML/\",\"scat_title_gross\",\".html\"))"
   ]
  },
  {
   "cell_type": "markdown",
   "metadata": {
    "collapsed": true
   },
   "source": [
    "We can see from this plot that the length of a movie title has a small effect on the box-office revenue of a movie. \n",
    "\n",
    "Next: I analyse at the \"facenumber_in_poster\" variable. This variable is an attempt to quantify the phenomenon of \"the giant floating head\" seen in a lot of movie posters like this one:<img src=\"image/ghost_rider.jpg\">\n",
    "\n",
    "or this one:<img src=\"image/scream_2.jpg\">\n",
    "\n",
    "or those :<img src=\"image/Movie-Posters-That-Look-Similar-13.jpg\" style=\"width:50%\">\n",
    "\n",
    "As you can see, it's an overuse poster style."
   ]
  },
  {
   "cell_type": "code",
   "execution_count": 24,
   "metadata": {
    "collapsed": false
   },
   "outputs": [
    {
     "data": {
      "text/plain": [
       "   Min. 1st Qu.  Median    Mean 3rd Qu.    Max.    NA's \n",
       "  0.000   0.000   1.000   1.368   2.000  43.000      13 "
      ]
     },
     "metadata": {},
     "output_type": "display_data"
    }
   ],
   "source": [
    "summary(movies$facenumber_in_poster)"
   ]
  },
  {
   "cell_type": "code",
   "execution_count": 25,
   "metadata": {
    "collapsed": false
   },
   "outputs": [
    {
     "data": {
      "text/html": [
       "<iframe src=\"plotlyJupyterHTML/scat_title_gross.html\" width=\"100%\" height=\"400\" id=\"igraph\" scrolling=\"no\" seamless=\"seamless\" frameBorder=\"0\"> </iframe>"
      ]
     },
     "metadata": {},
     "output_type": "display_data"
    }
   ],
   "source": [
    "scat_title_gross<-movies[complete.cases(movies$facenumber_in_poster),]%>% \n",
    "  dplyr::count(facenumber_in_poster) %>%\n",
    "  plot_ly(x =~facenumber_in_poster, y = ~n) %>% \n",
    "  add_bars()%>%\n",
    "layout(title = 'Number of faces on the movie poster',\n",
    "         xaxis = list(title = 'Number of faces', zeroline = TRUE),\n",
    "         yaxis = list(title = 'Frequency'))\n",
    "\n",
    "embed_notebook(scat_title_gross,file=paste0(\"plotlyJupyterHTML/\",\"scat_title_gross\",\".html\"))"
   ]
  },
  {
   "cell_type": "markdown",
   "metadata": {},
   "source": [
    "The maximal value taken by this variable is 43, which is quite high. Since the number of heads in each poster has been counted by a face recognition algorithm, I suspect that this is an aberrant value. If that's not the case, investigating these data is worth my time just to find what kind of abomination of a poster can contain that many heads."
   ]
  },
  {
   "cell_type": "code",
   "execution_count": 26,
   "metadata": {
    "collapsed": false
   },
   "outputs": [
    {
     "data": {
      "text/html": [
       "<table>\n",
       "<thead><tr><th scope=col>movie_title</th><th scope=col>facenumber</th></tr></thead>\n",
       "<tbody>\n",
       "\t<tr><td>500daysofsummer  </td><td>43               </td></tr>\n",
       "\t<tr><td>themaster        </td><td>31               </td></tr>\n",
       "\t<tr><td>battleoftheyear  </td><td>19               </td></tr>\n",
       "\t<tr><td>theexpendables3  </td><td>15               </td></tr>\n",
       "\t<tr><td>newyearseve      </td><td>15               </td></tr>\n",
       "\t<tr><td>cheaperbythedozen</td><td>15               </td></tr>\n",
       "\t<tr><td>asitisinheaven   </td><td>15               </td></tr>\n",
       "\t<tr><td>boogienights     </td><td>15               </td></tr>\n",
       "\t<tr><td>shouldvebeenromeo</td><td>15               </td></tr>\n",
       "\t<tr><td>abridgetoofar    </td><td>14               </td></tr>\n",
       "</tbody>\n",
       "</table>\n"
      ],
      "text/latex": [
       "\\begin{tabular}{r|ll}\n",
       " movie\\_title & facenumber\\\\\n",
       "\\hline\n",
       "\t 500daysofsummer   & 43               \\\\\n",
       "\t themaster         & 31               \\\\\n",
       "\t battleoftheyear   & 19               \\\\\n",
       "\t theexpendables3   & 15               \\\\\n",
       "\t newyearseve       & 15               \\\\\n",
       "\t cheaperbythedozen & 15               \\\\\n",
       "\t asitisinheaven    & 15               \\\\\n",
       "\t boogienights      & 15               \\\\\n",
       "\t shouldvebeenromeo & 15               \\\\\n",
       "\t abridgetoofar     & 14               \\\\\n",
       "\\end{tabular}\n"
      ],
      "text/markdown": [
       "\n",
       "movie_title | facenumber | \n",
       "|---|---|---|---|---|---|---|---|---|---|\n",
       "| 500daysofsummer   | 43                | \n",
       "| themaster         | 31                | \n",
       "| battleoftheyear   | 19                | \n",
       "| theexpendables3   | 15                | \n",
       "| newyearseve       | 15                | \n",
       "| cheaperbythedozen | 15                | \n",
       "| asitisinheaven    | 15                | \n",
       "| boogienights      | 15                | \n",
       "| shouldvebeenromeo | 15                | \n",
       "| abridgetoofar     | 14                | \n",
       "\n",
       "\n"
      ],
      "text/plain": [
       "   movie_title       facenumber\n",
       "1  500daysofsummer   43        \n",
       "2  themaster         31        \n",
       "3  battleoftheyear   19        \n",
       "4  theexpendables3   15        \n",
       "5  newyearseve       15        \n",
       "6  cheaperbythedozen 15        \n",
       "7  asitisinheaven    15        \n",
       "8  boogienights      15        \n",
       "9  shouldvebeenromeo 15        \n",
       "10 abridgetoofar     14        "
      ]
     },
     "metadata": {},
     "output_type": "display_data"
    }
   ],
   "source": [
    "faaaaaaaaaaace<-data.table(movie_title=movies$movie_title,facenumber=movies$facenumber)\n",
    "faaaaaaaaaaace<-faaaaaaaaaaace[order(-movies$facenumber)]\n",
    "head(faaaaaaaaaaace, n=10)"
   ]
  },
  {
   "cell_type": "markdown",
   "metadata": {},
   "source": [
    "Mother of God: the movies \"500 Days of Summer\" poster really has 43 faces on it! \n",
    "<img src=\"image/500_days_of_summer.jpg\" style=\"width:50%\">\n",
    "\n",
    "I also looked at 10 movies who have the most heads on their poster and the face recognition algorithm was on mark. As an exemple, here's the poster of \"The master\" movie: <img src=\"image/The_master.jpg\" style=\"width:50%\">\n",
    "\n",
    "I conclude that there's no outlier in those data, just marketing executive that pushed the concept of the giant floating head too far.\n",
    "\n",
    "After looking at the number of faces in each movie poster, focused on the genre of the movie, in particular the average gross revenue by genre."
   ]
  },
  {
   "cell_type": "code",
   "execution_count": 27,
   "metadata": {
    "collapsed": true
   },
   "outputs": [],
   "source": [
    "colnames(movies)<-sub(\"-\", \"_\", colnames(movies))"
   ]
  },
  {
   "cell_type": "code",
   "execution_count": 28,
   "metadata": {
    "collapsed": false
   },
   "outputs": [],
   "source": [
    "col_genre<-c(\"genres_Action\", \"genres_Adventure\", \"genres_Animation\", \"genres_Biography\", \"genres_Comedy\", \"genres_Crime\",\n",
    "\"genres_Documentary\", \"genres_Drama\", \"genres_Family\", \"genres_Fantasy\", \"genres_Film_Noir\", \n",
    " \"genres_History\", \"genres_Horror\", \"genres_Music\", \"genres_Musical\", \"genres_Mystery\",\"genres_News\",\n",
    "\"genres_Romance\", \"genres_Sci_Fi\",\"genres_Short\", \"genres_Sport\",\"genres_Thriller\",\"genres_War\",\"genres_Western\", \"gross\")\n",
    "\n",
    "genre_gross<-movies[,col_genre,with=FALSE]"
   ]
  },
  {
   "cell_type": "code",
   "execution_count": 29,
   "metadata": {
    "collapsed": false
   },
   "outputs": [],
   "source": [
    "count_genre_gross<-sapply(genre_gross[,!25], function(x)sum(as.numeric(x),na.rm=TRUE))\n",
    "sum_genre_gross<-sapply(genre_gross[,!25], function(x)sum(as.numeric(x)*as.numeric(genre_gross$gross),na.rm=TRUE))\n",
    "stat_genre_gross<-data.frame(Count=count_genre_gross,Sum=sum_genre_gross)"
   ]
  },
  {
   "cell_type": "code",
   "execution_count": 30,
   "metadata": {
    "collapsed": false
   },
   "outputs": [
    {
     "data": {
      "text/html": [
       "<table>\n",
       "<thead><tr><th></th><th scope=col>Count</th><th scope=col>Sum</th><th scope=col>Mean</th><th scope=col>Name</th></tr></thead>\n",
       "<tbody>\n",
       "\t<tr><th scope=row>genres_Action</th><td>1094            </td><td>71844560555     </td><td>65671445        </td><td>genres_Action   </td></tr>\n",
       "\t<tr><th scope=row>genres_Adventure</th><td> 877            </td><td>75440686524     </td><td>86021307        </td><td>genres_Adventure</td></tr>\n",
       "\t<tr><th scope=row>genres_Animation</th><td> 233            </td><td>21483583536     </td><td>92204221        </td><td>genres_Animation</td></tr>\n",
       "\t<tr><th scope=row>genres_Biography</th><td> 290            </td><td> 9143454008     </td><td>31529152        </td><td>genres_Biography</td></tr>\n",
       "\t<tr><th scope=row>genres_Comedy</th><td>1813            </td><td>76749009842     </td><td>42332603        </td><td>genres_Comedy   </td></tr>\n",
       "\t<tr><th scope=row>genres_Crime</th><td> 838            </td><td>27723849524     </td><td>33083353        </td><td>genres_Crime    </td></tr>\n",
       "</tbody>\n",
       "</table>\n"
      ],
      "text/latex": [
       "\\begin{tabular}{r|llll}\n",
       "  & Count & Sum & Mean & Name\\\\\n",
       "\\hline\n",
       "\tgenres\\_Action & 1094               & 71844560555        & 65671445           & genres\\_Action   \\\\\n",
       "\tgenres\\_Adventure &  877               & 75440686524        & 86021307           & genres\\_Adventure\\\\\n",
       "\tgenres\\_Animation &  233               & 21483583536        & 92204221           & genres\\_Animation\\\\\n",
       "\tgenres\\_Biography &  290               &  9143454008        & 31529152           & genres\\_Biography\\\\\n",
       "\tgenres\\_Comedy & 1813               & 76749009842        & 42332603           & genres\\_Comedy   \\\\\n",
       "\tgenres\\_Crime &  838               & 27723849524        & 33083353           & genres\\_Crime    \\\\\n",
       "\\end{tabular}\n"
      ],
      "text/markdown": [
       "\n",
       "| <!--/--> | Count | Sum | Mean | Name | \n",
       "|---|---|---|---|---|---|\n",
       "| genres_Action | 1094             | 71844560555      | 65671445         | genres_Action    | \n",
       "| genres_Adventure |  877             | 75440686524      | 86021307         | genres_Adventure | \n",
       "| genres_Animation |  233             | 21483583536      | 92204221         | genres_Animation | \n",
       "| genres_Biography |  290             |  9143454008      | 31529152         | genres_Biography | \n",
       "| genres_Comedy | 1813             | 76749009842      | 42332603         | genres_Comedy    | \n",
       "| genres_Crime |  838             | 27723849524      | 33083353         | genres_Crime     | \n",
       "\n",
       "\n"
      ],
      "text/plain": [
       "                 Count Sum         Mean     Name            \n",
       "genres_Action    1094  71844560555 65671445 genres_Action   \n",
       "genres_Adventure  877  75440686524 86021307 genres_Adventure\n",
       "genres_Animation  233  21483583536 92204221 genres_Animation\n",
       "genres_Biography  290   9143454008 31529152 genres_Biography\n",
       "genres_Comedy    1813  76749009842 42332603 genres_Comedy   \n",
       "genres_Crime      838  27723849524 33083353 genres_Crime    "
      ]
     },
     "metadata": {},
     "output_type": "display_data"
    }
   ],
   "source": [
    "stat_genre_gross$Mean<-as.numeric(stat_genre_gross$Sum/stat_genre_gross$Count)\n",
    "stat_genre_gross$Name<-as.character(col_genre[1:24])\n",
    "head(stat_genre_gross)"
   ]
  },
  {
   "cell_type": "code",
   "execution_count": 31,
   "metadata": {
    "collapsed": false
   },
   "outputs": [],
   "source": [
    "stat_genre_gross$Name<-substr(stat_genre_gross$Name,8,nchar(stat_genre_gross$Name))"
   ]
  },
  {
   "cell_type": "code",
   "execution_count": 32,
   "metadata": {
    "collapsed": false
   },
   "outputs": [
    {
     "data": {
      "text/html": [
       "<iframe src=\"plotlyJupyterHTML/hist_genre.html\" width=\"100%\" height=\"400\" id=\"igraph\" scrolling=\"no\" seamless=\"seamless\" frameBorder=\"0\"> </iframe>"
      ]
     },
     "metadata": {},
     "output_type": "display_data"
    }
   ],
   "source": [
    "m = list(\n",
    "  l = 50,\n",
    "  r = 0,\n",
    "  b = 50,\n",
    "  t = 30,\n",
    "  pad = 0\n",
    ") \n",
    "hist_genre<-plot_ly(stat_genre_gross,x=~Name,y=~Mean)%>% \n",
    "    add_bars()%>%\n",
    "    layout(title = 'Mean gross by genre',\n",
    "             xaxis = list(title = ''),\n",
    "             yaxis = list(title = 'Total gross'),\n",
    "         margin=m)\n",
    "\n",
    "embed_notebook(hist_genre,file=paste0(\"plotlyJupyterHTML/\",\"hist_genre\",\".html\"))"
   ]
  },
  {
   "cell_type": "markdown",
   "metadata": {},
   "source": [
    "The histogram suggests that the genre of movie influences significantly the gross revenue of a movie. Also, this plot gives me some insight on why I can't find a good film-noir to watch on a rainy Monday night: they make as much money than short movie. Sad.\n",
    "\n",
    "After looking at the genre of a movie, I look at the distribution of the language used in the movie data set."
   ]
  },
  {
   "cell_type": "code",
   "execution_count": 33,
   "metadata": {
    "collapsed": false
   },
   "outputs": [
    {
     "data": {
      "text/html": [
       "<dl class=dl-horizontal>\n",
       "\t<dt>English</dt>\n",
       "\t\t<dd>4488</dd>\n",
       "\t<dt>French</dt>\n",
       "\t\t<dd>72</dd>\n",
       "\t<dt>Spanish</dt>\n",
       "\t\t<dd>40</dd>\n",
       "\t<dt>Hindi</dt>\n",
       "\t\t<dd>28</dd>\n",
       "\t<dt>Mandarin</dt>\n",
       "\t\t<dd>24</dd>\n",
       "\t<dt>German</dt>\n",
       "\t\t<dd>19</dd>\n",
       "\t<dt>Japanese</dt>\n",
       "\t\t<dd>16</dd>\n",
       "\t<dt>Cantonese</dt>\n",
       "\t\t<dd>11</dd>\n",
       "\t<dt>(Other)</dt>\n",
       "\t\t<dd>108</dd>\n",
       "\t<dt>NA's</dt>\n",
       "\t\t<dd>11</dd>\n",
       "</dl>\n"
      ],
      "text/latex": [
       "\\begin{description*}\n",
       "\\item[English] 4488\n",
       "\\item[French] 72\n",
       "\\item[Spanish] 40\n",
       "\\item[Hindi] 28\n",
       "\\item[Mandarin] 24\n",
       "\\item[German] 19\n",
       "\\item[Japanese] 16\n",
       "\\item[Cantonese] 11\n",
       "\\item[(Other)] 108\n",
       "\\item[NA's] 11\n",
       "\\end{description*}\n"
      ],
      "text/markdown": [
       "English\n",
       ":   4488French\n",
       ":   72Spanish\n",
       ":   40Hindi\n",
       ":   28Mandarin\n",
       ":   24German\n",
       ":   19Japanese\n",
       ":   16Cantonese\n",
       ":   11(Other)\n",
       ":   108NA's\n",
       ":   11\n",
       "\n"
      ],
      "text/plain": [
       "  English    French   Spanish     Hindi  Mandarin    German  Japanese Cantonese \n",
       "     4488        72        40        28        24        19        16        11 \n",
       "  (Other)      NA's \n",
       "      108        11 "
      ]
     },
     "metadata": {},
     "output_type": "display_data"
    }
   ],
   "source": [
    "summary(movies$language,maxsum=10)"
   ]
  },
  {
   "cell_type": "code",
   "execution_count": 34,
   "metadata": {
    "collapsed": false
   },
   "outputs": [
    {
     "data": {
      "text/html": [
       "<iframe src=\"plotlyJupyterHTML/hist_lg.html\" width=\"100%\" height=\"400\" id=\"igraph\" scrolling=\"no\" seamless=\"seamless\" frameBorder=\"0\"> </iframe>"
      ]
     },
     "metadata": {},
     "output_type": "display_data"
    }
   ],
   "source": [
    "m = list(\n",
    "  l = 50,\n",
    "  r = 0,\n",
    "  b = 100,\n",
    "  t = 30,\n",
    "  pad = 0\n",
    ") \n",
    "hist_lg<-movies[complete.cases(movies$language),]%>% \n",
    "  dplyr::count(language) %>%\n",
    "  plot_ly(x =~language, y = ~n) %>% \n",
    "  add_bars()%>%\n",
    "layout(title = 'Language used in the movies from the IMDB data set',\n",
    "         xaxis = list(title = 'Language', zeroline = TRUE),\n",
    "         yaxis = list(title = 'Frequency'),\n",
    "         margin=m)\n",
    "\n",
    "embed_notebook(hist_lg,file=paste0(\"plotlyJupyterHTML/\",\"hist_lg\",\".html\"))"
   ]
  },
  {
   "cell_type": "markdown",
   "metadata": {},
   "source": [
    "There's so many movies of English language in the data set, that this graph is not really useful. Let's remove those movies from the set and draw the histogram of the non-English movies. "
   ]
  },
  {
   "cell_type": "code",
   "execution_count": 35,
   "metadata": {
    "collapsed": false
   },
   "outputs": [
    {
     "data": {
      "text/html": [
       "<iframe src=\"plotlyJupyterHTML/hist_lg_english_out.html\" width=\"100%\" height=\"400\" id=\"igraph\" scrolling=\"no\" seamless=\"seamless\" frameBorder=\"0\"> </iframe>"
      ]
     },
     "metadata": {},
     "output_type": "display_data"
    }
   ],
   "source": [
    "hist_lg_english_out<-movies[language!=\"English\"]%>% \n",
    "  dplyr::count(language) %>%\n",
    "  plot_ly(x =~language, y = ~n) %>% \n",
    "  add_bars()%>%\n",
    "layout(title = 'Non english language used in the movies from the IMDB data set',\n",
    "         xaxis = list(title = 'Language', zeroline = TRUE),\n",
    "         yaxis = list(title = 'Frequency'),\n",
    "         margin=m)\n",
    "\n",
    "embed_notebook(hist_lg_english_out,file=paste0(\"plotlyJupyterHTML/\",\"hist_lg_english_out\",\".html\"))"
   ]
  },
  {
   "cell_type": "markdown",
   "metadata": {
    "collapsed": true
   },
   "source": [
    "So the French, Spanish and Hindi are the most use language apart English in the data set. All and all, they represent a negligible amount of movie in the data set.\n",
    "\n",
    "Let us look at the country of production of each movie."
   ]
  },
  {
   "cell_type": "code",
   "execution_count": 36,
   "metadata": {
    "collapsed": false
   },
   "outputs": [
    {
     "data": {
      "text/html": [
       "<dl class=dl-horizontal>\n",
       "\t<dt>USA</dt>\n",
       "\t\t<dd>3637</dd>\n",
       "\t<dt>UK</dt>\n",
       "\t\t<dd>420</dd>\n",
       "\t<dt>France</dt>\n",
       "\t\t<dd>153</dd>\n",
       "\t<dt>Canada</dt>\n",
       "\t\t<dd>121</dd>\n",
       "\t<dt>Germany</dt>\n",
       "\t\t<dd>94</dd>\n",
       "\t<dt>Australia</dt>\n",
       "\t\t<dd>51</dd>\n",
       "\t<dt>India</dt>\n",
       "\t\t<dd>34</dd>\n",
       "\t<dt>Spain</dt>\n",
       "\t\t<dd>33</dd>\n",
       "\t<dt>(Other)</dt>\n",
       "\t\t<dd>271</dd>\n",
       "\t<dt>NA's</dt>\n",
       "\t\t<dd>3</dd>\n",
       "</dl>\n"
      ],
      "text/latex": [
       "\\begin{description*}\n",
       "\\item[USA] 3637\n",
       "\\item[UK] 420\n",
       "\\item[France] 153\n",
       "\\item[Canada] 121\n",
       "\\item[Germany] 94\n",
       "\\item[Australia] 51\n",
       "\\item[India] 34\n",
       "\\item[Spain] 33\n",
       "\\item[(Other)] 271\n",
       "\\item[NA's] 3\n",
       "\\end{description*}\n"
      ],
      "text/markdown": [
       "USA\n",
       ":   3637UK\n",
       ":   420France\n",
       ":   153Canada\n",
       ":   121Germany\n",
       ":   94Australia\n",
       ":   51India\n",
       ":   34Spain\n",
       ":   33(Other)\n",
       ":   271NA's\n",
       ":   3\n",
       "\n"
      ],
      "text/plain": [
       "      USA        UK    France    Canada   Germany Australia     India     Spain \n",
       "     3637       420       153       121        94        51        34        33 \n",
       "  (Other)      NA's \n",
       "      271         3 "
      ]
     },
     "metadata": {},
     "output_type": "display_data"
    }
   ],
   "source": [
    "summary(movies$country,maxsum=10)"
   ]
  },
  {
   "cell_type": "code",
   "execution_count": 38,
   "metadata": {
    "collapsed": false
   },
   "outputs": [
    {
     "data": {
      "text/html": [
       "<iframe src=\"plotlyJupyterHTML/hist_country.html\" width=\"100%\" height=\"400\" id=\"igraph\" scrolling=\"no\" seamless=\"seamless\" frameBorder=\"0\"> </iframe>"
      ]
     },
     "metadata": {},
     "output_type": "display_data"
    },
    {
     "data": {
      "text/html": [
       "<iframe src=\"plotlyJupyterHTML/hist_country.html\" width=\"100%\" height=\"400\" id=\"igraph\" scrolling=\"no\" seamless=\"seamless\" frameBorder=\"0\"> </iframe>"
      ]
     },
     "metadata": {},
     "output_type": "display_data"
    }
   ],
   "source": [
    "hist_country1<-movies%>% \n",
    "  dplyr::count(country) %>%\n",
    "  plot_ly(x =~country[1:25], y = ~n[1:25]) %>% \n",
    "  add_bars()%>%\n",
    "layout(title = 'Country of origin of the movies from the IMDB data set',\n",
    "         xaxis = list(title = 'Country'),\n",
    "         yaxis = list(title = 'Frequency'),\n",
    "         margin=m)\n",
    "\n",
    "embed_notebook(hist_country1,file=paste0(\"plotlyJupyterHTML/\",\"hist_country\",\".html\"))\n",
    "\n",
    "m = list(\n",
    "  l = 50,\n",
    "  r = 0,\n",
    "  b = 120,\n",
    "  t = 30,\n",
    "  pad = 0\n",
    ") \n",
    "hist_country2<-movies%>% \n",
    "  dplyr::count(country) %>%\n",
    "  plot_ly(x =~country[26:65], y = ~n[26:65]) %>% \n",
    "  add_bars()%>%\n",
    "layout(title = 'Country of origin of the movies from the IMDB data set',\n",
    "         xaxis = list(title = 'Country'),\n",
    "         yaxis = list(title = 'Frequency'),\n",
    "         margin=m)\n",
    "\n",
    "embed_notebook(hist_country2,file=paste0(\"plotlyJupyterHTML/\",\"hist_country\",\".html\"))"
   ]
  },
  {
   "cell_type": "markdown",
   "metadata": {},
   "source": [
    "Again, the American movie represents the vast majority of the movie in the data set. Without them, we get this histogram."
   ]
  },
  {
   "cell_type": "code",
   "execution_count": 39,
   "metadata": {
    "collapsed": false
   },
   "outputs": [
    {
     "data": {
      "text/html": [
       "<iframe src=\"plotlyJupyterHTML/hist_country_noUS.html\" width=\"100%\" height=\"400\" id=\"igraph\" scrolling=\"no\" seamless=\"seamless\" frameBorder=\"0\"> </iframe>"
      ]
     },
     "metadata": {},
     "output_type": "display_data"
    }
   ],
   "source": [
    "m = list(\n",
    "  l = 50,\n",
    "  r = 0,\n",
    "  b = 100,\n",
    "  t = 30,\n",
    "  pad = 0\n",
    ") \n",
    "hist_country_noUS<-movies[country!=\"USA\",]%>% \n",
    "  dplyr::count(country) %>%\n",
    "  plot_ly(x =~country[26:63], y = ~n[26:63]) %>% \n",
    "  add_bars()%>%\n",
    "layout(title = 'Country of origin of the movies from the IMDB data set',\n",
    "         xaxis = list(title = 'Country'),\n",
    "         yaxis = list(title = 'Frequency'),\n",
    "         margin=m)\n",
    "\n",
    "embed_notebook(hist_country_noUS,file=paste0(\"plotlyJupyterHTML/\",\"hist_country_noUS\",\".html\"))"
   ]
  },
  {
   "cell_type": "markdown",
   "metadata": {
    "collapsed": true
   },
   "source": [
    "The United Kingdom movie's are by far the most represented non-Americans movie in the data set. Again, this show the limitation of this data set: IMDB is an American website and the information in this site is primarily for the U.S market. Using this data to estimate the profitability of foreign movie in their primary market would be a waste of time.\n",
    "\n",
    "Now we look at the \"content_rating\" variable."
   ]
  },
  {
   "cell_type": "code",
   "execution_count": 40,
   "metadata": {
    "collapsed": false
   },
   "outputs": [
    {
     "data": {
      "text/html": [
       "<dl class=dl-horizontal>\n",
       "\t<dt>Approved</dt>\n",
       "\t\t<dd>54</dd>\n",
       "\t<dt>G</dt>\n",
       "\t\t<dd>112</dd>\n",
       "\t<dt>GP</dt>\n",
       "\t\t<dd>6</dd>\n",
       "\t<dt>M</dt>\n",
       "\t\t<dd>5</dd>\n",
       "\t<dt>NC-17</dt>\n",
       "\t\t<dd>7</dd>\n",
       "\t<dt>Not Rated</dt>\n",
       "\t\t<dd>115</dd>\n",
       "\t<dt>Passed</dt>\n",
       "\t\t<dd>9</dd>\n",
       "\t<dt>PG</dt>\n",
       "\t\t<dd>686</dd>\n",
       "\t<dt>PG-13</dt>\n",
       "\t\t<dd>1410</dd>\n",
       "\t<dt>R</dt>\n",
       "\t\t<dd>2069</dd>\n",
       "\t<dt>TV-14</dt>\n",
       "\t\t<dd>3</dd>\n",
       "\t<dt>TV-G</dt>\n",
       "\t\t<dd>4</dd>\n",
       "\t<dt>TV-MA</dt>\n",
       "\t\t<dd>1</dd>\n",
       "\t<dt>TV-PG</dt>\n",
       "\t\t<dd>3</dd>\n",
       "\t<dt>Unrated</dt>\n",
       "\t\t<dd>59</dd>\n",
       "\t<dt>X</dt>\n",
       "\t\t<dd>12</dd>\n",
       "\t<dt>NA's</dt>\n",
       "\t\t<dd>262</dd>\n",
       "</dl>\n"
      ],
      "text/latex": [
       "\\begin{description*}\n",
       "\\item[Approved] 54\n",
       "\\item[G] 112\n",
       "\\item[GP] 6\n",
       "\\item[M] 5\n",
       "\\item[NC-17] 7\n",
       "\\item[Not Rated] 115\n",
       "\\item[Passed] 9\n",
       "\\item[PG] 686\n",
       "\\item[PG-13] 1410\n",
       "\\item[R] 2069\n",
       "\\item[TV-14] 3\n",
       "\\item[TV-G] 4\n",
       "\\item[TV-MA] 1\n",
       "\\item[TV-PG] 3\n",
       "\\item[Unrated] 59\n",
       "\\item[X] 12\n",
       "\\item[NA's] 262\n",
       "\\end{description*}\n"
      ],
      "text/markdown": [
       "Approved\n",
       ":   54G\n",
       ":   112GP\n",
       ":   6M\n",
       ":   5NC-17\n",
       ":   7Not Rated\n",
       ":   115Passed\n",
       ":   9PG\n",
       ":   686PG-13\n",
       ":   1410R\n",
       ":   2069TV-14\n",
       ":   3TV-G\n",
       ":   4TV-MA\n",
       ":   1TV-PG\n",
       ":   3Unrated\n",
       ":   59X\n",
       ":   12NA's\n",
       ":   262\n",
       "\n"
      ],
      "text/plain": [
       " Approved         G        GP         M     NC-17 Not Rated    Passed        PG \n",
       "       54       112         6         5         7       115         9       686 \n",
       "    PG-13         R     TV-14      TV-G     TV-MA     TV-PG   Unrated         X \n",
       "     1410      2069         3         4         1         3        59        12 \n",
       "     NA's \n",
       "      262 "
      ]
     },
     "metadata": {},
     "output_type": "display_data"
    }
   ],
   "source": [
    "summary(movies$content_rating)"
   ]
  },
  {
   "cell_type": "code",
   "execution_count": 41,
   "metadata": {
    "collapsed": false
   },
   "outputs": [
    {
     "data": {
      "text/html": [
       "<iframe src=\"plotlyJupyterHTML/hist_rating.html\" width=\"100%\" height=\"400\" id=\"igraph\" scrolling=\"no\" seamless=\"seamless\" frameBorder=\"0\"> </iframe>"
      ]
     },
     "metadata": {},
     "output_type": "display_data"
    }
   ],
   "source": [
    "hist_rating<-movies[complete.cases(movies$content_rating),]%>% \n",
    "  dplyr::count(content_rating) %>%\n",
    "  plot_ly(x =~content_rating, y = ~n) %>% \n",
    "  add_bars()%>%\n",
    "layout(title = 'Content rating of the movies from the IMDB data set',\n",
    "         xaxis = list(title = 'Content rating', zeroline = TRUE),\n",
    "         yaxis = list(title = 'Frequency'))\n",
    "\n",
    "embed_notebook(hist_rating,file=paste0(\"plotlyJupyterHTML/\",\"hist_rating\",\".html\"))"
   ]
  },
  {
   "cell_type": "markdown",
   "metadata": {},
   "source": [
    "I'm not really familiar with some of the content rating, so I'll look at them more in detail, by looking at the movie with those ratings."
   ]
  },
  {
   "cell_type": "code",
   "execution_count": 42,
   "metadata": {
    "collapsed": false
   },
   "outputs": [
    {
     "data": {
      "text/html": [
       "<ol class=list-inline>\n",
       "\t<li>'http://www.imdb.com/title/tt2479478/?ref_=fn_tt_tt_1'</li>\n",
       "\t<li>'http://www.imdb.com/title/tt1477109/?ref_=fn_tt_tt_1'</li>\n",
       "\t<li>'http://www.imdb.com/title/tt2724064/?ref_=fn_tt_tt_1'</li>\n",
       "</ol>\n"
      ],
      "text/latex": [
       "\\begin{enumerate*}\n",
       "\\item 'http://www.imdb.com/title/tt2479478/?ref\\_=fn\\_tt\\_tt\\_1'\n",
       "\\item 'http://www.imdb.com/title/tt1477109/?ref\\_=fn\\_tt\\_tt\\_1'\n",
       "\\item 'http://www.imdb.com/title/tt2724064/?ref\\_=fn\\_tt\\_tt\\_1'\n",
       "\\end{enumerate*}\n"
      ],
      "text/markdown": [
       "1. 'http://www.imdb.com/title/tt2479478/?ref_=fn_tt_tt_1'\n",
       "2. 'http://www.imdb.com/title/tt1477109/?ref_=fn_tt_tt_1'\n",
       "3. 'http://www.imdb.com/title/tt2724064/?ref_=fn_tt_tt_1'\n",
       "\n",
       "\n"
      ],
      "text/plain": [
       "[1] \"http://www.imdb.com/title/tt2479478/?ref_=fn_tt_tt_1\"\n",
       "[2] \"http://www.imdb.com/title/tt1477109/?ref_=fn_tt_tt_1\"\n",
       "[3] \"http://www.imdb.com/title/tt2724064/?ref_=fn_tt_tt_1\""
      ]
     },
     "metadata": {},
     "output_type": "display_data"
    }
   ],
   "source": [
    "movies[content_rating==\"TV-14\",movie_imdb_link]"
   ]
  },
  {
   "cell_type": "code",
   "execution_count": 43,
   "metadata": {
    "collapsed": false
   },
   "outputs": [
    {
     "data": {
      "text/html": [
       "<ol class=list-inline>\n",
       "\t<li>'http://www.imdb.com/title/tt0810900/?ref_=fn_tt_tt_1'</li>\n",
       "\t<li>'http://www.imdb.com/title/tt0475293/?ref_=fn_tt_tt_1'</li>\n",
       "\t<li>'http://www.imdb.com/title/tt2395247/?ref_=fn_tt_tt_1'</li>\n",
       "\t<li>'http://www.imdb.com/title/tt0059026/?ref_=fn_tt_tt_1'</li>\n",
       "</ol>\n"
      ],
      "text/latex": [
       "\\begin{enumerate*}\n",
       "\\item 'http://www.imdb.com/title/tt0810900/?ref\\_=fn\\_tt\\_tt\\_1'\n",
       "\\item 'http://www.imdb.com/title/tt0475293/?ref\\_=fn\\_tt\\_tt\\_1'\n",
       "\\item 'http://www.imdb.com/title/tt2395247/?ref\\_=fn\\_tt\\_tt\\_1'\n",
       "\\item 'http://www.imdb.com/title/tt0059026/?ref\\_=fn\\_tt\\_tt\\_1'\n",
       "\\end{enumerate*}\n"
      ],
      "text/markdown": [
       "1. 'http://www.imdb.com/title/tt0810900/?ref_=fn_tt_tt_1'\n",
       "2. 'http://www.imdb.com/title/tt0475293/?ref_=fn_tt_tt_1'\n",
       "3. 'http://www.imdb.com/title/tt2395247/?ref_=fn_tt_tt_1'\n",
       "4. 'http://www.imdb.com/title/tt0059026/?ref_=fn_tt_tt_1'\n",
       "\n",
       "\n"
      ],
      "text/plain": [
       "[1] \"http://www.imdb.com/title/tt0810900/?ref_=fn_tt_tt_1\"\n",
       "[2] \"http://www.imdb.com/title/tt0475293/?ref_=fn_tt_tt_1\"\n",
       "[3] \"http://www.imdb.com/title/tt2395247/?ref_=fn_tt_tt_1\"\n",
       "[4] \"http://www.imdb.com/title/tt0059026/?ref_=fn_tt_tt_1\""
      ]
     },
     "metadata": {},
     "output_type": "display_data"
    }
   ],
   "source": [
    "movies[content_rating==\"TV-G\",movie_imdb_link]"
   ]
  },
  {
   "cell_type": "code",
   "execution_count": 44,
   "metadata": {
    "collapsed": false
   },
   "outputs": [
    {
     "data": {
      "text/html": [
       "'http://www.imdb.com/title/tt0092337/?ref_=fn_tt_tt_1'"
      ],
      "text/latex": [
       "'http://www.imdb.com/title/tt0092337/?ref\\_=fn\\_tt\\_tt\\_1'"
      ],
      "text/markdown": [
       "'http://www.imdb.com/title/tt0092337/?ref_=fn_tt_tt_1'"
      ],
      "text/plain": [
       "[1] \"http://www.imdb.com/title/tt0092337/?ref_=fn_tt_tt_1\""
      ]
     },
     "metadata": {},
     "output_type": "display_data"
    }
   ],
   "source": [
    "movies[content_rating==\"TV-MA\",movie_imdb_link]"
   ]
  },
  {
   "cell_type": "code",
   "execution_count": 45,
   "metadata": {
    "collapsed": false
   },
   "outputs": [
    {
     "data": {
      "text/html": [
       "<ol class=list-inline>\n",
       "\t<li>'http://www.imdb.com/title/tt2063015/?ref_=fn_tt_tt_1'</li>\n",
       "\t<li>'http://www.imdb.com/title/tt1663628/?ref_=fn_tt_tt_1'</li>\n",
       "\t<li>'http://www.imdb.com/title/tt1675312/?ref_=fn_tt_tt_1'</li>\n",
       "</ol>\n"
      ],
      "text/latex": [
       "\\begin{enumerate*}\n",
       "\\item 'http://www.imdb.com/title/tt2063015/?ref\\_=fn\\_tt\\_tt\\_1'\n",
       "\\item 'http://www.imdb.com/title/tt1663628/?ref\\_=fn\\_tt\\_tt\\_1'\n",
       "\\item 'http://www.imdb.com/title/tt1675312/?ref\\_=fn\\_tt\\_tt\\_1'\n",
       "\\end{enumerate*}\n"
      ],
      "text/markdown": [
       "1. 'http://www.imdb.com/title/tt2063015/?ref_=fn_tt_tt_1'\n",
       "2. 'http://www.imdb.com/title/tt1663628/?ref_=fn_tt_tt_1'\n",
       "3. 'http://www.imdb.com/title/tt1675312/?ref_=fn_tt_tt_1'\n",
       "\n",
       "\n"
      ],
      "text/plain": [
       "[1] \"http://www.imdb.com/title/tt2063015/?ref_=fn_tt_tt_1\"\n",
       "[2] \"http://www.imdb.com/title/tt1663628/?ref_=fn_tt_tt_1\"\n",
       "[3] \"http://www.imdb.com/title/tt1675312/?ref_=fn_tt_tt_1\""
      ]
     },
     "metadata": {},
     "output_type": "display_data"
    }
   ],
   "source": [
    "movies[content_rating==\"TV-PG\",movie_imdb_link]"
   ]
  },
  {
   "cell_type": "markdown",
   "metadata": {},
   "source": [
    "Those ratings classify made for tv movie who generally had a theatrical release. In consequence, these movies have a place in the data set."
   ]
  },
  {
   "cell_type": "code",
   "execution_count": 46,
   "metadata": {
    "collapsed": false
   },
   "outputs": [
    {
     "data": {
      "text/html": [
       "<ol class=list-inline>\n",
       "\t<li>'http://www.imdb.com/title/tt0064757/?ref_=fn_tt_tt_1'</li>\n",
       "\t<li>'http://www.imdb.com/title/tt0064115/?ref_=fn_tt_tt_1'</li>\n",
       "\t<li>'http://www.imdb.com/title/tt0065112/?ref_=fn_tt_tt_1'</li>\n",
       "\t<li>'http://www.imdb.com/title/tt0061747/?ref_=fn_tt_tt_1'</li>\n",
       "\t<li>'http://www.imdb.com/title/tt0062235/?ref_=fn_tt_tt_1'</li>\n",
       "</ol>\n"
      ],
      "text/latex": [
       "\\begin{enumerate*}\n",
       "\\item 'http://www.imdb.com/title/tt0064757/?ref\\_=fn\\_tt\\_tt\\_1'\n",
       "\\item 'http://www.imdb.com/title/tt0064115/?ref\\_=fn\\_tt\\_tt\\_1'\n",
       "\\item 'http://www.imdb.com/title/tt0065112/?ref\\_=fn\\_tt\\_tt\\_1'\n",
       "\\item 'http://www.imdb.com/title/tt0061747/?ref\\_=fn\\_tt\\_tt\\_1'\n",
       "\\item 'http://www.imdb.com/title/tt0062235/?ref\\_=fn\\_tt\\_tt\\_1'\n",
       "\\end{enumerate*}\n"
      ],
      "text/markdown": [
       "1. 'http://www.imdb.com/title/tt0064757/?ref_=fn_tt_tt_1'\n",
       "2. 'http://www.imdb.com/title/tt0064115/?ref_=fn_tt_tt_1'\n",
       "3. 'http://www.imdb.com/title/tt0065112/?ref_=fn_tt_tt_1'\n",
       "4. 'http://www.imdb.com/title/tt0061747/?ref_=fn_tt_tt_1'\n",
       "5. 'http://www.imdb.com/title/tt0062235/?ref_=fn_tt_tt_1'\n",
       "\n",
       "\n"
      ],
      "text/plain": [
       "[1] \"http://www.imdb.com/title/tt0064757/?ref_=fn_tt_tt_1\"\n",
       "[2] \"http://www.imdb.com/title/tt0064115/?ref_=fn_tt_tt_1\"\n",
       "[3] \"http://www.imdb.com/title/tt0065112/?ref_=fn_tt_tt_1\"\n",
       "[4] \"http://www.imdb.com/title/tt0061747/?ref_=fn_tt_tt_1\"\n",
       "[5] \"http://www.imdb.com/title/tt0062235/?ref_=fn_tt_tt_1\""
      ]
     },
     "metadata": {},
     "output_type": "display_data"
    }
   ],
   "source": [
    "movies[content_rating==\"M\",movie_imdb_link]"
   ]
  },
  {
   "cell_type": "markdown",
   "metadata": {},
   "source": [
    "The rating \"GP\", \"M\" and \"X\" are rating used in the past by the Motion Picture Association of America. Since the rating \"M\" became \"GP\" in 1970 and became \"PG\" in 1972 and that the \"X\" rating became the \"NC-17\" rating, I can map those values to the modern rating and avoid a useless segregation in the data.  "
   ]
  },
  {
   "cell_type": "code",
   "execution_count": 47,
   "metadata": {
    "collapsed": false
   },
   "outputs": [
    {
     "data": {
      "text/html": [
       "<ol class=list-inline>\n",
       "\t<li>'Approved'</li>\n",
       "\t<li>'G'</li>\n",
       "\t<li>'GP'</li>\n",
       "\t<li>'M'</li>\n",
       "\t<li>'NC-17'</li>\n",
       "\t<li>'Not Rated'</li>\n",
       "\t<li>'Passed'</li>\n",
       "\t<li>'PG'</li>\n",
       "\t<li>'PG-13'</li>\n",
       "\t<li>'R'</li>\n",
       "\t<li>'TV-14'</li>\n",
       "\t<li>'TV-G'</li>\n",
       "\t<li>'TV-MA'</li>\n",
       "\t<li>'TV-PG'</li>\n",
       "\t<li>'Unrated'</li>\n",
       "\t<li>'X'</li>\n",
       "</ol>\n"
      ],
      "text/latex": [
       "\\begin{enumerate*}\n",
       "\\item 'Approved'\n",
       "\\item 'G'\n",
       "\\item 'GP'\n",
       "\\item 'M'\n",
       "\\item 'NC-17'\n",
       "\\item 'Not Rated'\n",
       "\\item 'Passed'\n",
       "\\item 'PG'\n",
       "\\item 'PG-13'\n",
       "\\item 'R'\n",
       "\\item 'TV-14'\n",
       "\\item 'TV-G'\n",
       "\\item 'TV-MA'\n",
       "\\item 'TV-PG'\n",
       "\\item 'Unrated'\n",
       "\\item 'X'\n",
       "\\end{enumerate*}\n"
      ],
      "text/markdown": [
       "1. 'Approved'\n",
       "2. 'G'\n",
       "3. 'GP'\n",
       "4. 'M'\n",
       "5. 'NC-17'\n",
       "6. 'Not Rated'\n",
       "7. 'Passed'\n",
       "8. 'PG'\n",
       "9. 'PG-13'\n",
       "10. 'R'\n",
       "11. 'TV-14'\n",
       "12. 'TV-G'\n",
       "13. 'TV-MA'\n",
       "14. 'TV-PG'\n",
       "15. 'Unrated'\n",
       "16. 'X'\n",
       "\n",
       "\n"
      ],
      "text/plain": [
       " [1] \"Approved\"  \"G\"         \"GP\"        \"M\"         \"NC-17\"     \"Not Rated\"\n",
       " [7] \"Passed\"    \"PG\"        \"PG-13\"     \"R\"         \"TV-14\"     \"TV-G\"     \n",
       "[13] \"TV-MA\"     \"TV-PG\"     \"Unrated\"   \"X\"        "
      ]
     },
     "metadata": {},
     "output_type": "display_data"
    }
   ],
   "source": [
    "levels(movies$content_rating)"
   ]
  },
  {
   "cell_type": "code",
   "execution_count": 48,
   "metadata": {
    "collapsed": false
   },
   "outputs": [],
   "source": [
    "levels(movies$content_rating)[levels(movies$content_rating)==\"M\"]<-\"PG\"\n",
    "levels(movies$content_rating)[levels(movies$content_rating)==\"GP\"]<-\"PG\"\n",
    "levels(movies$content_rating)[levels(movies$content_rating)==\"X\"]<-\"NC-17\""
   ]
  },
  {
   "cell_type": "code",
   "execution_count": 49,
   "metadata": {
    "collapsed": false
   },
   "outputs": [
    {
     "data": {
      "text/html": [
       "<iframe src=\"plotlyJupyterHTML/hist_new_rating.html\" width=\"100%\" height=\"400\" id=\"igraph\" scrolling=\"no\" seamless=\"seamless\" frameBorder=\"0\"> </iframe>"
      ]
     },
     "metadata": {},
     "output_type": "display_data"
    }
   ],
   "source": [
    "hist_new_rating<-movies[complete.cases(movies$content_rating),]%>% \n",
    "  dplyr::count(content_rating) %>%\n",
    "  plot_ly(x =~content_rating, y = ~n) %>% \n",
    "  add_bars()%>%\n",
    "layout(title = 'Content rating of the movies from the IMDB data set',\n",
    "         xaxis = list(title = 'Content rating', zeroline = TRUE),\n",
    "         yaxis = list(title = 'Frequency'))\n",
    "\n",
    "embed_notebook(hist_new_rating,file=paste0(\"plotlyJupyterHTML/\",\"hist_new_rating\",\".html\"))"
   ]
  },
  {
   "cell_type": "markdown",
   "metadata": {},
   "source": [
    "After looking at the rating of each movie, I looked at the year where each movie was made"
   ]
  },
  {
   "cell_type": "code",
   "execution_count": 50,
   "metadata": {
    "collapsed": false
   },
   "outputs": [
    {
     "data": {
      "text/html": [
       "<iframe src=\"plotlyJupyterHTML/hist_year.html\" width=\"100%\" height=\"400\" id=\"igraph\" scrolling=\"no\" seamless=\"seamless\" frameBorder=\"0\"> </iframe>"
      ]
     },
     "metadata": {},
     "output_type": "display_data"
    }
   ],
   "source": [
    "hist_year<-movies[complete.cases(movies$title_year),]%>% \n",
    "  dplyr::count(title_year) %>%\n",
    "  plot_ly(x =~title_year, y = ~n) %>% \n",
    "  add_bars()%>%\n",
    "layout(title = 'Number of movies from each year',\n",
    "         xaxis = list(title = 'Year', zeroline = TRUE),\n",
    "         yaxis = list(title = 'Frequency'))\n",
    "\n",
    "embed_notebook(hist_year,file=paste0(\"plotlyJupyterHTML/\",\"hist_year\",\".html\"))"
   ]
  },
  {
   "cell_type": "markdown",
   "metadata": {},
   "source": [
    "The newer movies are over represented and the model will probably overfit for cultural trend that are 10 years old or younger. That tells us that the model I can generate with this data set could be usefull only in the close future. For better forecast, I would need more detail data. \n",
    "\n",
    "Next on the list is the aspect ratio. Since I know nobody who when to see a movie for his aspect ratio, I believe that this variable won't have a lot of influence on the final model. I will test that hypothesis in the last section of this article."
   ]
  },
  {
   "cell_type": "code",
   "execution_count": 51,
   "metadata": {
    "collapsed": false
   },
   "outputs": [
    {
     "data": {
      "text/html": [
       "<dl class=dl-horizontal>\n",
       "\t<dt>2.35</dt>\n",
       "\t\t<dd>2281</dd>\n",
       "\t<dt>1.85</dt>\n",
       "\t\t<dd>1866</dd>\n",
       "\t<dt>1.37</dt>\n",
       "\t\t<dd>99</dd>\n",
       "\t<dt>(Other)</dt>\n",
       "\t\t<dd>264</dd>\n",
       "\t<dt>NA's</dt>\n",
       "\t\t<dd>307</dd>\n",
       "</dl>\n"
      ],
      "text/latex": [
       "\\begin{description*}\n",
       "\\item[2.35] 2281\n",
       "\\item[1.85] 1866\n",
       "\\item[1.37] 99\n",
       "\\item[(Other)] 264\n",
       "\\item[NA's] 307\n",
       "\\end{description*}\n"
      ],
      "text/markdown": [
       "2.35\n",
       ":   22811.85\n",
       ":   18661.37\n",
       ":   99(Other)\n",
       ":   264NA's\n",
       ":   307\n",
       "\n"
      ],
      "text/plain": [
       "   2.35    1.85    1.37 (Other)    NA's \n",
       "   2281    1866      99     264     307 "
      ]
     },
     "metadata": {},
     "output_type": "display_data"
    }
   ],
   "source": [
    "summary(movies$aspect_ratio,maxsum=5)"
   ]
  },
  {
   "cell_type": "code",
   "execution_count": 52,
   "metadata": {
    "collapsed": false
   },
   "outputs": [
    {
     "data": {
      "text/html": [
       "<iframe src=\"plotlyJupyterHTML/hist_ratio.html\" width=\"100%\" height=\"400\" id=\"igraph\" scrolling=\"no\" seamless=\"seamless\" frameBorder=\"0\"> </iframe>"
      ]
     },
     "metadata": {},
     "output_type": "display_data"
    }
   ],
   "source": [
    "hist_ratio<- movies[complete.cases(movies$aspect_ratio),]%>% \n",
    "  dplyr::count(aspect_ratio) %>%\n",
    "  plot_ly(x =~aspect_ratio, y = ~n) %>% \n",
    "  add_bars()%>%\n",
    "layout(title = 'Distribution of the aspect ration used',\n",
    "         xaxis = list(title = 'Aspect ratio', zeroline = TRUE),\n",
    "         yaxis = list(title = 'Frequency'))\n",
    " \n",
    "embed_notebook(hist_ratio,file=paste0(\"plotlyJupyterHTML/\",\"hist_ratio\",\".html\"))"
   ]
  },
  {
   "cell_type": "markdown",
   "metadata": {},
   "source": [
    "Having looked at all those variables, we still have to look at the two variable that I believe to be the most important for our model, the \"budget_2016\" variable and the \"gross_2016\" variable. Of course the \"gross_2016\" variable is of interest since it is the primary marker for profitability of a movie. \n",
    "\n",
    "But \"budget_2016\" is definitely the second most important variable since the more a movie cost, the more it is easy to lose money, but also having a good cast, good special effect, music, editor, etc, cost a lot of money so having a big budget can potentially able you to make an excellent movie and have a better box-office performance. Basically, the core of the model is to correctly assess the optimal budget to make a great movie."
   ]
  },
  {
   "cell_type": "code",
   "execution_count": 53,
   "metadata": {
    "collapsed": false
   },
   "outputs": [
    {
     "data": {
      "text/plain": [
       "     Min.   1st Qu.    Median      Mean   3rd Qu.      Max.      NA's \n",
       "      284   8607000  24790000  41260000  56930000 347300000       268 "
      ]
     },
     "metadata": {},
     "output_type": "display_data"
    }
   ],
   "source": [
    "summary(movies$budget_2016)"
   ]
  },
  {
   "cell_type": "code",
   "execution_count": 54,
   "metadata": {
    "collapsed": false
   },
   "outputs": [
    {
     "data": {
      "text/html": [
       "<iframe src=\"plotlyJupyterHTML/hist_budget.html\" width=\"100%\" height=\"400\" id=\"igraph\" scrolling=\"no\" seamless=\"seamless\" frameBorder=\"0\"> </iframe>"
      ]
     },
     "metadata": {},
     "output_type": "display_data"
    }
   ],
   "source": [
    "hist_budget<-movies[complete.cases(movies$budget_2016),]%>% \n",
    "  plot_ly( ) %>% \n",
    "  add_histogram(x =~budget_2016) %>%\n",
    "layout(title = 'Distribution of the movie\\'s budget',\n",
    "         xaxis = list(title = 'budget', zeroline = TRUE),\n",
    "         yaxis = list(title = 'Frequency'))\n",
    "\n",
    "embed_notebook(hist_budget,file=paste0(\"plotlyJupyterHTML/\",\"hist_budget\",\".html\"))"
   ]
  },
  {
   "cell_type": "code",
   "execution_count": 55,
   "metadata": {
    "collapsed": false
   },
   "outputs": [
    {
     "data": {
      "text/html": [
       "0"
      ],
      "text/latex": [
       "0"
      ],
      "text/markdown": [
       "0"
      ],
      "text/plain": [
       "[1] 0"
      ]
     },
     "metadata": {},
     "output_type": "display_data"
    }
   ],
   "source": [
    "sum(movies$budget_2016==0,na.rm=TRUE)"
   ]
  },
  {
   "cell_type": "code",
   "execution_count": 56,
   "metadata": {
    "collapsed": false
   },
   "outputs": [
    {
     "data": {
      "text/plain": [
       "      Min.    1st Qu.     Median       Mean    3rd Qu.       Max.       NA's \n",
       "         0    4313000   28880000   62960000   78860000 1825000000        418 "
      ]
     },
     "metadata": {},
     "output_type": "display_data"
    }
   ],
   "source": [
    "summary(movies$gross_2016)"
   ]
  },
  {
   "cell_type": "code",
   "execution_count": 57,
   "metadata": {
    "collapsed": false
   },
   "outputs": [
    {
     "data": {
      "text/html": [
       "<iframe src=\"plotlyJupyterHTML/hist_gross.html\" width=\"100%\" height=\"400\" id=\"igraph\" scrolling=\"no\" seamless=\"seamless\" frameBorder=\"0\"> </iframe>"
      ]
     },
     "metadata": {},
     "output_type": "display_data"
    }
   ],
   "source": [
    "hist_gross<-movies[complete.cases(movies$gross_2016),]%>% \n",
    "  plot_ly( ) %>% \n",
    "  add_histogram(x =~gross_2016) %>%\n",
    "layout(title = 'Distribution of the movie\\'s box office results',\n",
    "         xaxis = list(title = 'budget', zeroline = TRUE),\n",
    "         yaxis = list(title = 'Frequency'))\n",
    " \n",
    "embed_notebook(hist_gross,file=paste0(\"plotlyJupyterHTML/\",\"hist_gross\",\".html\"))"
   ]
  },
  {
   "cell_type": "code",
   "execution_count": 58,
   "metadata": {
    "collapsed": false
   },
   "outputs": [],
   "source": [
    "movies$profit<-movies$gross_2016-movies$budget_2016"
   ]
  },
  {
   "cell_type": "code",
   "execution_count": 59,
   "metadata": {
    "collapsed": false
   },
   "outputs": [
    {
     "data": {
      "text/html": [
       "<iframe src=\"plotlyJupyterHTML/hist_profit.html\" width=\"100%\" height=\"400\" id=\"igraph\" scrolling=\"no\" seamless=\"seamless\" frameBorder=\"0\"> </iframe>"
      ]
     },
     "metadata": {},
     "output_type": "display_data"
    }
   ],
   "source": [
    "hist_profit<-movies[complete.cases(movies$profit),]%>% \n",
    "  plot_ly( ) %>% \n",
    "  add_histogram(x =~profit) %>%\n",
    "layout(title = 'Distribution of the movie\\'s box office results',\n",
    "         xaxis = list(title = 'Profit', zeroline = TRUE),\n",
    "         yaxis = list(title = 'Frequency'))\n",
    "\n",
    "embed_notebook(hist_profit,file=paste0(\"plotlyJupyterHTML/\",\"hist_profit\",\".html\"))"
   ]
  },
  {
   "cell_type": "markdown",
   "metadata": {},
   "source": [
    "We can see that a majority of movie lost money, but the majority of movies lost less than 5 millions dollar, an amount that can be raised via dvd sale, TV and Netflix licencing or merchandise related to the movies. Those data are not in the data set, just like the foreign box-office, which is a big part of the revenue of American blockbusters and, naturally, of foreign movie. This illustrates the limitations of this data set: since I don't have access to the complete financial result of those movies, I can't directly try to estimate the profitability of a movie, I just can predict the performance at the U.S. box-office.\n",
    "\n",
    "Looking at this plot, especially the heavy tail of the distribution, we can see another way movie studio makes their money: if they make four movies that lost a little amount of money and a fifth one that make a lot of money, the studio still make a profit. I calculated the proportion of profitable and non-profitable movies in the data set to see if that strategy would be valuable for the movie studios. The more the ratio of profitable to non-profitable movie is high, the less money the movies have to make at the box-office to generate a profit overall."
   ]
  },
  {
   "cell_type": "code",
   "execution_count": 60,
   "metadata": {
    "collapsed": false
   },
   "outputs": [],
   "source": [
    "name_profit<-c(\"profitable\",\"non-profitable\")\n",
    "percentage_profit<-c(count(movies[profit>=0])/nrow(movies),count(movies[profit<0])/nrow(movies))\n",
    "percent_profit<-data.table(name_profit,percentage_profit)"
   ]
  },
  {
   "cell_type": "code",
   "execution_count": 61,
   "metadata": {
    "collapsed": false
   },
   "outputs": [
    {
     "data": {
      "text/html": [
       "<iframe src=\"plotlyJupyterHTML/bar_percent_profit.html\" width=\"100%\" height=\"400\" id=\"igraph\" scrolling=\"no\" seamless=\"seamless\" frameBorder=\"0\"> </iframe>"
      ]
     },
     "metadata": {},
     "output_type": "display_data"
    }
   ],
   "source": [
    "bar_percent_profit<-plot_ly(percent_profit,x =~name_profit,y=~ percentage_profit, type = 'bar') %>%\n",
    "layout(title = 'Proportion of profitable and non-profitable movies',\n",
    "           xaxis = list(title = \"\"),\n",
    "         yaxis = list(title = 'Percentage'))\n",
    "\n",
    "embed_notebook(bar_percent_profit,file=paste0(\"plotlyJupyterHTML/\",\"bar_percent_profit\",\".html\"))"
   ]
  },
  {
   "cell_type": "markdown",
   "metadata": {},
   "source": [
    "The number of movies that are profitable is almost equal to the number of non-profitable movies. In consequence, as long as the profitable movies make a little bit money than the non-profitable one the studio should make a profit and since the majority of the outlier are profitable movie, in general, those movies should be profitable. For reference, let's look at the most profitable movies to see if they compensate for the rest."
   ]
  },
  {
   "cell_type": "code",
   "execution_count": 62,
   "metadata": {
    "collapsed": false
   },
   "outputs": [
    {
     "data": {
      "text/html": [
       "<table>\n",
       "<thead><tr><th scope=col>movie_title</th><th scope=col>budget_2016</th><th scope=col>gross</th><th scope=col>profit</th></tr></thead>\n",
       "<tbody>\n",
       "\t<tr><td>starwarsepisodeivanewhope</td><td>43559666                 </td><td>460935665                </td><td>1781731577               </td></tr>\n",
       "\t<tr><td>thesoundofmusic          </td><td>62461506                 </td><td>163214286                </td><td>1180783630               </td></tr>\n",
       "\t<tr><td>jaws                     </td><td>35677744                 </td><td>260000000                </td><td>1123848938               </td></tr>\n",
       "\t<tr><td>theexorcist              </td><td>43244528                 </td><td>204565000                </td><td>1062545084               </td></tr>\n",
       "\t<tr><td>ettheextraterrestrial    </td><td>26114766                 </td><td>434949459                </td><td>1055656994               </td></tr>\n",
       "\t<tr><td>thesting                 </td><td>29730613                 </td><td>159600000                </td><td> 832997723               </td></tr>\n",
       "</tbody>\n",
       "</table>\n"
      ],
      "text/latex": [
       "\\begin{tabular}{r|llll}\n",
       " movie\\_title & budget\\_2016 & gross & profit\\\\\n",
       "\\hline\n",
       "\t starwarsepisodeivanewhope & 43559666                  & 460935665                 & 1781731577               \\\\\n",
       "\t thesoundofmusic           & 62461506                  & 163214286                 & 1180783630               \\\\\n",
       "\t jaws                      & 35677744                  & 260000000                 & 1123848938               \\\\\n",
       "\t theexorcist               & 43244528                  & 204565000                 & 1062545084               \\\\\n",
       "\t ettheextraterrestrial     & 26114766                  & 434949459                 & 1055656994               \\\\\n",
       "\t thesting                  & 29730613                  & 159600000                 &  832997723               \\\\\n",
       "\\end{tabular}\n"
      ],
      "text/markdown": [
       "\n",
       "movie_title | budget_2016 | gross | profit | \n",
       "|---|---|---|---|---|---|\n",
       "| starwarsepisodeivanewhope | 43559666                  | 460935665                 | 1781731577                | \n",
       "| thesoundofmusic           | 62461506                  | 163214286                 | 1180783630                | \n",
       "| jaws                      | 35677744                  | 260000000                 | 1123848938                | \n",
       "| theexorcist               | 43244528                  | 204565000                 | 1062545084                | \n",
       "| ettheextraterrestrial     | 26114766                  | 434949459                 | 1055656994                | \n",
       "| thesting                  | 29730613                  | 159600000                 |  832997723                | \n",
       "\n",
       "\n"
      ],
      "text/plain": [
       "  movie_title               budget_2016 gross     profit    \n",
       "1 starwarsepisodeivanewhope 43559666    460935665 1781731577\n",
       "2 thesoundofmusic           62461506    163214286 1180783630\n",
       "3 jaws                      35677744    260000000 1123848938\n",
       "4 theexorcist               43244528    204565000 1062545084\n",
       "5 ettheextraterrestrial     26114766    434949459 1055656994\n",
       "6 thesting                  29730613    159600000  832997723"
      ]
     },
     "metadata": {},
     "output_type": "display_data"
    }
   ],
   "source": [
    "head(movies[order(-profit),c(\"movie_title\",\"budget_2016\",\"gross\",\"profit\")])"
   ]
  },
  {
   "cell_type": "code",
   "execution_count": 63,
   "metadata": {
    "collapsed": false
   },
   "outputs": [
    {
     "data": {
      "text/html": [
       "<table>\n",
       "<thead><tr><th scope=col>movie_title</th><th scope=col>budget_2016</th><th scope=col>gross</th><th scope=col>profit</th></tr></thead>\n",
       "<tbody>\n",
       "\t<tr><td>thepolarexpress             </td><td>209659464                   </td><td>  665426                    </td><td>-208813931                  </td></tr>\n",
       "\t<tr><td>johncarter                  </td><td>275660124                   </td><td>73058679                    </td><td>-199287865                  </td></tr>\n",
       "\t<tr><td>speed2cruisecontrol         </td><td>239234644                   </td><td>48068396                    </td><td>-167361984                  </td></tr>\n",
       "\t<tr><td>waterloo                    </td><td>154544204                   </td><td>       0                    </td><td>-154544204                  </td></tr>\n",
       "\t<tr><td>alexander                   </td><td>196952830                   </td><td>34293771                    </td><td>-153376990                  </td></tr>\n",
       "\t<tr><td>battleship                  </td><td>218479203                   </td><td>65173160                    </td><td>-150350112                  </td></tr>\n",
       "\t<tr><td>finalfantasythespiritswithin</td><td>185698297                   </td><td>32131830                    </td><td>-142144822                  </td></tr>\n",
       "\t<tr><td>47ronin                     </td><td>180296170                   </td><td>38297305                    </td><td>-140839842                  </td></tr>\n",
       "\t<tr><td>marsneedsmoms               </td><td>160048102                   </td><td>21379315                    </td><td>-137236643                  </td></tr>\n",
       "\t<tr><td>cutthroatisland             </td><td>154352186                   </td><td>11000000                    </td><td>-137026940                  </td></tr>\n",
       "</tbody>\n",
       "</table>\n"
      ],
      "text/latex": [
       "\\begin{tabular}{r|llll}\n",
       " movie\\_title & budget\\_2016 & gross & profit\\\\\n",
       "\\hline\n",
       "\t thepolarexpress              & 209659464                    &   665426                     & -208813931                  \\\\\n",
       "\t johncarter                   & 275660124                    & 73058679                     & -199287865                  \\\\\n",
       "\t speed2cruisecontrol          & 239234644                    & 48068396                     & -167361984                  \\\\\n",
       "\t waterloo                     & 154544204                    &        0                     & -154544204                  \\\\\n",
       "\t alexander                    & 196952830                    & 34293771                     & -153376990                  \\\\\n",
       "\t battleship                   & 218479203                    & 65173160                     & -150350112                  \\\\\n",
       "\t finalfantasythespiritswithin & 185698297                    & 32131830                     & -142144822                  \\\\\n",
       "\t 47ronin                      & 180296170                    & 38297305                     & -140839842                  \\\\\n",
       "\t marsneedsmoms                & 160048102                    & 21379315                     & -137236643                  \\\\\n",
       "\t cutthroatisland              & 154352186                    & 11000000                     & -137026940                  \\\\\n",
       "\\end{tabular}\n"
      ],
      "text/markdown": [
       "\n",
       "movie_title | budget_2016 | gross | profit | \n",
       "|---|---|---|---|---|---|---|---|---|---|\n",
       "| thepolarexpress              | 209659464                    |   665426                     | -208813931                   | \n",
       "| johncarter                   | 275660124                    | 73058679                     | -199287865                   | \n",
       "| speed2cruisecontrol          | 239234644                    | 48068396                     | -167361984                   | \n",
       "| waterloo                     | 154544204                    |        0                     | -154544204                   | \n",
       "| alexander                    | 196952830                    | 34293771                     | -153376990                   | \n",
       "| battleship                   | 218479203                    | 65173160                     | -150350112                   | \n",
       "| finalfantasythespiritswithin | 185698297                    | 32131830                     | -142144822                   | \n",
       "| 47ronin                      | 180296170                    | 38297305                     | -140839842                   | \n",
       "| marsneedsmoms                | 160048102                    | 21379315                     | -137236643                   | \n",
       "| cutthroatisland              | 154352186                    | 11000000                     | -137026940                   | \n",
       "\n",
       "\n"
      ],
      "text/plain": [
       "   movie_title                  budget_2016 gross    profit    \n",
       "1  thepolarexpress              209659464     665426 -208813931\n",
       "2  johncarter                   275660124   73058679 -199287865\n",
       "3  speed2cruisecontrol          239234644   48068396 -167361984\n",
       "4  waterloo                     154544204          0 -154544204\n",
       "5  alexander                    196952830   34293771 -153376990\n",
       "6  battleship                   218479203   65173160 -150350112\n",
       "7  finalfantasythespiritswithin 185698297   32131830 -142144822\n",
       "8  47ronin                      180296170   38297305 -140839842\n",
       "9  marsneedsmoms                160048102   21379315 -137236643\n",
       "10 cutthroatisland              154352186   11000000 -137026940"
      ]
     },
     "metadata": {},
     "output_type": "display_data"
    }
   ],
   "source": [
    "head(movies[order(profit),c(\"movie_title\",\"budget_2016\",\"gross\",\"profit\")],n=10)"
   ]
  },
  {
   "cell_type": "code",
   "execution_count": 64,
   "metadata": {
    "collapsed": false
   },
   "outputs": [
    {
     "data": {
      "text/html": [
       "54109106.1648004"
      ],
      "text/latex": [
       "54109106.1648004"
      ],
      "text/markdown": [
       "54109106.1648004"
      ],
      "text/plain": [
       "[1] 54109106"
      ]
     },
     "metadata": {},
     "output_type": "display_data"
    }
   ],
   "source": [
    "movies[movie_title==\"starwarsepisodeivanewhope\",profit]+sum(sort(movies$profit,partial=nrow(movies$profit))[1:11])"
   ]
  },
  {
   "cell_type": "markdown",
   "metadata": {},
   "source": [
    "We can see that the revenue generated at the box-office by the highly profitable movie compensate easily for the loss of the highly non-profitable movie. In fact, the most profitable movie in the data set, \"Star War episode four: a new hope\", made more money than the 11 least profitable movies in the data set.\n",
    "\n",
    "Finally, I looked at the profitability of the movie business, by plotting the yearly aggregate of movie profit."
   ]
  },
  {
   "cell_type": "code",
   "execution_count": 65,
   "metadata": {
    "collapsed": false
   },
   "outputs": [
    {
     "data": {
      "text/html": [
       "<iframe src=\"plotlyJupyterHTML/hist_profit_yearly.html\" width=\"100%\" height=\"400\" id=\"igraph\" scrolling=\"no\" seamless=\"seamless\" frameBorder=\"0\"> </iframe>"
      ]
     },
     "metadata": {},
     "output_type": "display_data"
    }
   ],
   "source": [
    "m = list(\n",
    "  l = 50,\n",
    "  r = 0,\n",
    "  b = 100,\n",
    "  t = 30,\n",
    "  pad = 0\n",
    ") \n",
    "\n",
    "hist_profit_yearly<-movies[complete.cases(movies$title_year),] %>%\n",
    "group_by(title_year)%>%\n",
    "summarise(profit_yearly=sum(profit,na.rm=TRUE))%>%\n",
    "plot_ly( ) %>% \n",
    "  add_bars(x =~title_year, y=~profit_yearly) %>%\n",
    "layout(title = 'Distribution of the movie\\'s box office results',\n",
    "         xaxis = list(title = 'Year', zeroline = TRUE),\n",
    "         yaxis = list(title = 'Profit'),\n",
    "         margin=m)\n",
    " \n",
    "embed_notebook(hist_profit_yearly,file=paste0(\"plotlyJupyterHTML/\",\"hist_profit_yearly\",\".html\"))"
   ]
  },
  {
   "cell_type": "markdown",
   "metadata": {},
   "source": [
    "We can see that year after year, the movies generate more money than they cost to the studio.\n",
    "\n",
    "As we saw before, one of the limitation of this data set is that IMDB doesn't always show the international box-office of a movie. This should affect the profitability of foreign movie, since their primary market is not the U.S. To verify this, I plotted the yearly profitability of foreign movies. "
   ]
  },
  {
   "cell_type": "code",
   "execution_count": 66,
   "metadata": {
    "collapsed": false
   },
   "outputs": [
    {
     "data": {
      "text/html": [
       "<iframe src=\"plotlyJupyterHTML/hist_profit_yearly_nonUS.html\" width=\"100%\" height=\"400\" id=\"igraph\" scrolling=\"no\" seamless=\"seamless\" frameBorder=\"0\"> </iframe>"
      ]
     },
     "metadata": {},
     "output_type": "display_data"
    }
   ],
   "source": [
    "hist_profit_yearly_nonUS<-movies[country!=\"USA\"&complete.cases(movies$title_year)] %>%\n",
    "group_by(title_year)%>%\n",
    "summarise(profit_yearly=sum(profit,na.rm=TRUE))%>%\n",
    "plot_ly( ) %>% \n",
    "  add_bars(x =~title_year, y=~profit_yearly) %>%\n",
    "layout(title = 'Distribution of the foreign movie\\'s box office results',\n",
    "         xaxis = list(title = 'Year', zeroline = TRUE),\n",
    "         yaxis = list(title = 'Profit'),\n",
    "         margin=m)\n",
    " \n",
    "embed_notebook(hist_profit_yearly_nonUS,file=paste0(\"plotlyJupyterHTML/\",\"hist_profit_yearly_nonUS\",\".html\"))"
   ]
  },
  {
   "cell_type": "markdown",
   "metadata": {},
   "source": [
    "# Cast statistics\n",
    "\n",
    "In this section, I will look at the variable who tell us something about the artisan working on the movies. I'll start to look at the variable describing the movie directors.  "
   ]
  },
  {
   "cell_type": "code",
   "execution_count": 67,
   "metadata": {
    "collapsed": false
   },
   "outputs": [
    {
     "data": {
      "text/html": [
       "<dl class=dl-horizontal>\n",
       "\t<dt>Steven Spielberg</dt>\n",
       "\t\t<dd>26</dd>\n",
       "\t<dt>Woody Allen</dt>\n",
       "\t\t<dd>22</dd>\n",
       "\t<dt>Clint Eastwood</dt>\n",
       "\t\t<dd>20</dd>\n",
       "\t<dt>Martin Scorsese</dt>\n",
       "\t\t<dd>20</dd>\n",
       "\t<dt>Ridley Scott</dt>\n",
       "\t\t<dd>16</dd>\n",
       "\t<dt>Spike Lee</dt>\n",
       "\t\t<dd>16</dd>\n",
       "\t<dt>Renny Harlin</dt>\n",
       "\t\t<dd>15</dd>\n",
       "\t<dt>Steven Soderbergh</dt>\n",
       "\t\t<dd>15</dd>\n",
       "\t<dt>Oliver Stone</dt>\n",
       "\t\t<dd>14</dd>\n",
       "\t<dt>Tim Burton</dt>\n",
       "\t\t<dd>14</dd>\n",
       "</dl>\n"
      ],
      "text/latex": [
       "\\begin{description*}\n",
       "\\item[Steven Spielberg] 26\n",
       "\\item[Woody Allen] 22\n",
       "\\item[Clint Eastwood] 20\n",
       "\\item[Martin Scorsese] 20\n",
       "\\item[Ridley Scott] 16\n",
       "\\item[Spike Lee] 16\n",
       "\\item[Renny Harlin] 15\n",
       "\\item[Steven Soderbergh] 15\n",
       "\\item[Oliver Stone] 14\n",
       "\\item[Tim Burton] 14\n",
       "\\end{description*}\n"
      ],
      "text/markdown": [
       "Steven Spielberg\n",
       ":   26Woody Allen\n",
       ":   22Clint Eastwood\n",
       ":   20Martin Scorsese\n",
       ":   20Ridley Scott\n",
       ":   16Spike Lee\n",
       ":   16Renny Harlin\n",
       ":   15Steven Soderbergh\n",
       ":   15Oliver Stone\n",
       ":   14Tim Burton\n",
       ":   14\n",
       "\n"
      ],
      "text/plain": [
       " Steven Spielberg       Woody Allen    Clint Eastwood   Martin Scorsese \n",
       "               26                22                20                20 \n",
       "     Ridley Scott         Spike Lee      Renny Harlin Steven Soderbergh \n",
       "               16                16                15                15 \n",
       "     Oliver Stone        Tim Burton \n",
       "               14                14 "
      ]
     },
     "metadata": {},
     "output_type": "display_data"
    }
   ],
   "source": [
    "head(summary(movies$director_name),n=10)"
   ]
  },
  {
   "cell_type": "markdown",
   "metadata": {},
   "source": [
    "The directors with a long career making blockbuster are overrepresented in the data set. Here'S another limitation of the data set: IMDB is a fan curated site and small art movie who have a small amount of exposure are less likely to have a lot of dedicated fans who will contribute to IMDB. In consequence, the movies with a big marketing budget or who have a lot of critical or commercial success have more chance to be in the data set.\n",
    "\n",
    "Let us test this hypothesis by looking at the number of movies of each director who are in the data set. If this number is small, that could indicate that only the most popular movie of each director career is in the data set and that their smaller movie are not represented."
   ]
  },
  {
   "cell_type": "code",
   "execution_count": 68,
   "metadata": {
    "collapsed": false
   },
   "outputs": [],
   "source": [
    "director_freq<-plyr::count(movies,'director_name')\n",
    "director_freq<-as.data.frame(director_freq)\n",
    "names(director_freq)[names(director_freq)==\"freq\"]<-\"Count\"\n",
    "director_freq<-director_freq[order(director_freq$Count),]"
   ]
  },
  {
   "cell_type": "code",
   "execution_count": 69,
   "metadata": {
    "collapsed": false
   },
   "outputs": [
    {
     "data": {
      "text/html": [
       "<iframe src=\"plotlyJupyterHTML/hist_director.html\" width=\"100%\" height=\"400\" id=\"igraph\" scrolling=\"no\" seamless=\"seamless\" frameBorder=\"0\"> </iframe>"
      ]
     },
     "metadata": {},
     "output_type": "display_data"
    }
   ],
   "source": [
    "hist_director <- director_freq %>%\n",
    "  dplyr::count(Count) %>%\n",
    "  plot_ly(x =~Count, y = ~n) %>% \n",
    "  add_bars()%>%\n",
    "layout(title = 'Distribution of the number of movies directed by each director',\n",
    "         xaxis = list(title = 'Number of movies directed', zeroline = TRUE),\n",
    "         yaxis = list(title = 'Number of directors'))\n",
    "\n",
    "embed_notebook(hist_director,file=paste0(\"plotlyJupyterHTML/\",\"hist_director\",\".html\"))"
   ]
  },
  {
   "cell_type": "markdown",
   "metadata": {},
   "source": [
    "This plot shows us that the filmography of each director is not all included in the IMDB data set and that he is probably biased.\n",
    "\n",
    "The data set give us insight on the popularity of the director via the \"director_facebook_likes\" variable. I will look at this variable in more detail."
   ]
  },
  {
   "cell_type": "code",
   "execution_count": 70,
   "metadata": {
    "collapsed": false
   },
   "outputs": [
    {
     "data": {
      "text/plain": [
       "   Min. 1st Qu.  Median    Mean 3rd Qu.    Max.    NA's \n",
       "    0.0     7.0    48.0   690.9   189.5 23000.0       2 "
      ]
     },
     "metadata": {},
     "output_type": "display_data"
    }
   ],
   "source": [
    "summary(movies$director_facebook_likes)"
   ]
  },
  {
   "cell_type": "code",
   "execution_count": 71,
   "metadata": {
    "collapsed": false
   },
   "outputs": [
    {
     "data": {
      "text/html": [
       "<iframe src=\"plotlyJupyterHTML/hist_dir_fb.html\" width=\"100%\" height=\"400\" id=\"igraph\" scrolling=\"no\" seamless=\"seamless\" frameBorder=\"0\"> </iframe>"
      ]
     },
     "metadata": {},
     "output_type": "display_data"
    }
   ],
   "source": [
    "hist_dir_fb <- plot_ly(movies[complete.cases(movies$director_facebook_likes),],x=~director_facebook_likes,type=\"histogram\")%>%\n",
    "layout(title = 'Number of likes on the Facebook page of directors',\n",
    "         xaxis = list(title = 'Number of likes', zeroline = TRUE),\n",
    "         yaxis = list(title = 'Frequency')) \n",
    " \n",
    "embed_notebook(hist_dir_fb,file=paste0(\"plotlyJupyterHTML/\",\"hist_dir_fb\",\".html\"))"
   ]
  },
  {
   "cell_type": "markdown",
   "metadata": {},
   "source": [
    "This plot tells us that the number of directors with zero likes on Facebook are overrepresented in the data set. The table below shows us a sample of director with no like on Facebook who made big budget movies."
   ]
  },
  {
   "cell_type": "code",
   "execution_count": 72,
   "metadata": {
    "collapsed": false
   },
   "outputs": [
    {
     "data": {
      "text/html": [
       "<table>\n",
       "<thead><tr><th scope=col>color</th><th scope=col>director_name</th><th scope=col>num_critic_for_reviews</th><th scope=col>duration</th><th scope=col>director_facebook_likes</th><th scope=col>actor_3_facebook_likes</th><th scope=col>actor_2_name</th><th scope=col>actor_1_facebook_likes</th><th scope=col>gross</th><th scope=col>genres</th><th scope=col>...</th><th scope=col>genres_Short</th><th scope=col>genres_Sport</th><th scope=col>genres_Thriller</th><th scope=col>genres_War</th><th scope=col>genres_Western</th><th scope=col>currency</th><th scope=col>budget_us</th><th scope=col>gross_2016</th><th scope=col>budget_2016</th><th scope=col>profit</th></tr></thead>\n",
       "<tbody>\n",
       "\t<tr><td>Color                                </td><td>Luc Besson                           </td><td>111                                  </td><td>158                                  </td><td>0                                    </td><td>   15                                </td><td>David Bailie                         </td><td>   51                                </td><td> 14131298                            </td><td>Adventure|Biography|Drama|History|War</td><td>...                                  </td><td>0                                    </td><td>0                                    </td><td>0                                    </td><td>1                                    </td><td>0                                    </td><td>FRA                                  </td><td> 65000000                            </td><td> 20360872                            </td><td> 93654288                            </td><td>-73293416                            </td></tr>\n",
       "\t<tr><td>Color                                </td><td>Sam Raimi                            </td><td>392                                  </td><td>156                                  </td><td>0                                    </td><td> 4000                                </td><td>James Franco                         </td><td>24000                                </td><td>336530303                            </td><td>Action|Adventure|Romance             </td><td>...                                  </td><td>0                                    </td><td>0                                    </td><td>0                                    </td><td>0                                    </td><td>0                                    </td><td>USA                                  </td><td>258000000                            </td><td>389547307                            </td><td>298645335                            </td><td> 90901972                            </td></tr>\n",
       "\t<tr><td>Color                                </td><td>Joss Whedon                          </td><td>635                                  </td><td>141                                  </td><td>0                                    </td><td>19000                                </td><td>Robert Downey Jr.                    </td><td>26000                                </td><td>458991599                            </td><td>Action|Adventure|Sci-Fi              </td><td>...                                  </td><td>0                                    </td><td>0                                    </td><td>0                                    </td><td>0                                    </td><td>0                                    </td><td>NA                                   </td><td>250000000                            </td><td>464782216                            </td><td>253153989                            </td><td>211628227                            </td></tr>\n",
       "\t<tr><td>Color                                </td><td>Zack Snyder                          </td><td>673                                  </td><td>183                                  </td><td>0                                    </td><td> 2000                                </td><td>Lauren Cohan                         </td><td>15000                                </td><td>330249062                            </td><td>Action|Adventure|Sci-Fi              </td><td>...                                  </td><td>0                                    </td><td>0                                    </td><td>0                                    </td><td>0                                    </td><td>0                                    </td><td>NA                                   </td><td>250000000                            </td><td>330249062                            </td><td>250000000                            </td><td> 80249062                            </td></tr>\n",
       "\t<tr><td>Color                                </td><td>Peter Jackson                        </td><td>422                                  </td><td>164                                  </td><td>0                                    </td><td>  773                                </td><td>Adam Brown                           </td><td> 5000                                </td><td>255108370                            </td><td>Adventure|Fantasy                    </td><td>...                                  </td><td>0                                    </td><td>0                                    </td><td>0                                    </td><td>0                                    </td><td>0                                    </td><td>USA                                  </td><td>250000000                            </td><td>258633276                            </td><td>253454322                            </td><td>  5178954                            </td></tr>\n",
       "\t<tr><td>Color                                </td><td>Sam Mendes                           </td><td>602                                  </td><td>148                                  </td><td>0                                    </td><td>  161                                </td><td>Rory Kinnear                         </td><td>11000                                </td><td>200074175                            </td><td>Action|Adventure|Thriller            </td><td>...                                  </td><td>0                                    </td><td>0                                    </td><td>1                                    </td><td>0                                    </td><td>0                                    </td><td>NA                                   </td><td>245000000                            </td><td>202598302                            </td><td>248090909                            </td><td>-45492607                            </td></tr>\n",
       "</tbody>\n",
       "</table>\n"
      ],
      "text/latex": [
       "\\begin{tabular}{r|lllllllllllllllllllllllllllllllllllllllllllllllllllllllllll}\n",
       " color & director\\_name & num\\_critic\\_for\\_reviews & duration & director\\_facebook\\_likes & actor\\_3\\_facebook\\_likes & actor\\_2\\_name & actor\\_1\\_facebook\\_likes & gross & genres & ... & genres\\_Short & genres\\_Sport & genres\\_Thriller & genres\\_War & genres\\_Western & currency & budget\\_us & gross\\_2016 & budget\\_2016 & profit\\\\\n",
       "\\hline\n",
       "\t Color                                                                         & Luc Besson                                                                    & 111                                                                           & 158                                                                           & 0                                                                             &    15                                                                         & David Bailie                                                                  &    51                                                                         &  14131298                                                                     & Adventure\\textbar{}Biography\\textbar{}Drama\\textbar{}History\\textbar{}War & ...                                                                           & 0                                                                             & 0                                                                             & 0                                                                             & 1                                                                             & 0                                                                             & FRA                                                                           &  65000000                                                                     &  20360872                                                                     &  93654288                                                                     & -73293416                                                                    \\\\\n",
       "\t Color                                                     & Sam Raimi                                                 & 392                                                       & 156                                                       & 0                                                         &  4000                                                     & James Franco                                              & 24000                                                     & 336530303                                                 & Action\\textbar{}Adventure\\textbar{}Romance              & ...                                                       & 0                                                         & 0                                                         & 0                                                         & 0                                                         & 0                                                         & USA                                                       & 258000000                                                 & 389547307                                                 & 298645335                                                 &  90901972                                                \\\\\n",
       "\t Color                                                     & Joss Whedon                                               & 635                                                       & 141                                                       & 0                                                         & 19000                                                     & Robert Downey Jr.                                         & 26000                                                     & 458991599                                                 & Action\\textbar{}Adventure\\textbar{}Sci-Fi               & ...                                                       & 0                                                         & 0                                                         & 0                                                         & 0                                                         & 0                                                         & NA                                                        & 250000000                                                 & 464782216                                                 & 253153989                                                 & 211628227                                                \\\\\n",
       "\t Color                                                     & Zack Snyder                                               & 673                                                       & 183                                                       & 0                                                         &  2000                                                     & Lauren Cohan                                              & 15000                                                     & 330249062                                                 & Action\\textbar{}Adventure\\textbar{}Sci-Fi               & ...                                                       & 0                                                         & 0                                                         & 0                                                         & 0                                                         & 0                                                         & NA                                                        & 250000000                                                 & 330249062                                                 & 250000000                                                 &  80249062                                                \\\\\n",
       "\t Color                                           & Peter Jackson                                   & 422                                             & 164                                             & 0                                               &   773                                           & Adam Brown                                      &  5000                                           & 255108370                                       & Adventure\\textbar{}Fantasy                     & ...                                             & 0                                               & 0                                               & 0                                               & 0                                               & 0                                               & USA                                             & 250000000                                       & 258633276                                       & 253454322                                       &   5178954                                      \\\\\n",
       "\t Color                                                     & Sam Mendes                                                & 602                                                       & 148                                                       & 0                                                         &   161                                                     & Rory Kinnear                                              & 11000                                                     & 200074175                                                 & Action\\textbar{}Adventure\\textbar{}Thriller             & ...                                                       & 0                                                         & 0                                                         & 1                                                         & 0                                                         & 0                                                         & NA                                                        & 245000000                                                 & 202598302                                                 & 248090909                                                 & -45492607                                                \\\\\n",
       "\\end{tabular}\n"
      ],
      "text/markdown": [
       "\n",
       "color | director_name | num_critic_for_reviews | duration | director_facebook_likes | actor_3_facebook_likes | actor_2_name | actor_1_facebook_likes | gross | genres | ... | genres_Short | genres_Sport | genres_Thriller | genres_War | genres_Western | currency | budget_us | gross_2016 | budget_2016 | profit | \n",
       "|---|---|---|---|---|---|\n",
       "| Color                                 | Luc Besson                            | 111                                   | 158                                   | 0                                     |    15                                 | David Bailie                          |    51                                 |  14131298                             | Adventure|Biography|Drama|History|War | ...                                   | 0                                     | 0                                     | 0                                     | 1                                     | 0                                     | FRA                                   |  65000000                             |  20360872                             |  93654288                             | -73293416                             | \n",
       "| Color                                 | Sam Raimi                             | 392                                   | 156                                   | 0                                     |  4000                                 | James Franco                          | 24000                                 | 336530303                             | Action|Adventure|Romance              | ...                                   | 0                                     | 0                                     | 0                                     | 0                                     | 0                                     | USA                                   | 258000000                             | 389547307                             | 298645335                             |  90901972                             | \n",
       "| Color                                 | Joss Whedon                           | 635                                   | 141                                   | 0                                     | 19000                                 | Robert Downey Jr.                     | 26000                                 | 458991599                             | Action|Adventure|Sci-Fi               | ...                                   | 0                                     | 0                                     | 0                                     | 0                                     | 0                                     | NA                                    | 250000000                             | 464782216                             | 253153989                             | 211628227                             | \n",
       "| Color                                 | Zack Snyder                           | 673                                   | 183                                   | 0                                     |  2000                                 | Lauren Cohan                          | 15000                                 | 330249062                             | Action|Adventure|Sci-Fi               | ...                                   | 0                                     | 0                                     | 0                                     | 0                                     | 0                                     | NA                                    | 250000000                             | 330249062                             | 250000000                             |  80249062                             | \n",
       "| Color                                 | Peter Jackson                         | 422                                   | 164                                   | 0                                     |   773                                 | Adam Brown                            |  5000                                 | 255108370                             | Adventure|Fantasy                     | ...                                   | 0                                     | 0                                     | 0                                     | 0                                     | 0                                     | USA                                   | 250000000                             | 258633276                             | 253454322                             |   5178954                             | \n",
       "| Color                                 | Sam Mendes                            | 602                                   | 148                                   | 0                                     |   161                                 | Rory Kinnear                          | 11000                                 | 200074175                             | Action|Adventure|Thriller             | ...                                   | 0                                     | 0                                     | 1                                     | 0                                     | 0                                     | NA                                    | 245000000                             | 202598302                             | 248090909                             | -45492607                             | \n",
       "\n",
       "\n"
      ],
      "text/plain": [
       "  color director_name num_critic_for_reviews duration director_facebook_likes\n",
       "1 Color Luc Besson    111                    158      0                      \n",
       "2 Color Sam Raimi     392                    156      0                      \n",
       "3 Color Joss Whedon   635                    141      0                      \n",
       "4 Color Zack Snyder   673                    183      0                      \n",
       "5 Color Peter Jackson 422                    164      0                      \n",
       "6 Color Sam Mendes    602                    148      0                      \n",
       "  actor_3_facebook_likes actor_2_name      actor_1_facebook_likes gross    \n",
       "1    15                  David Bailie         51                   14131298\n",
       "2  4000                  James Franco      24000                  336530303\n",
       "3 19000                  Robert Downey Jr. 26000                  458991599\n",
       "4  2000                  Lauren Cohan      15000                  330249062\n",
       "5   773                  Adam Brown         5000                  255108370\n",
       "6   161                  Rory Kinnear      11000                  200074175\n",
       "  genres                                ... genres_Short genres_Sport\n",
       "1 Adventure|Biography|Drama|History|War ... 0            0           \n",
       "2 Action|Adventure|Romance              ... 0            0           \n",
       "3 Action|Adventure|Sci-Fi               ... 0            0           \n",
       "4 Action|Adventure|Sci-Fi               ... 0            0           \n",
       "5 Adventure|Fantasy                     ... 0            0           \n",
       "6 Action|Adventure|Thriller             ... 0            0           \n",
       "  genres_Thriller genres_War genres_Western currency budget_us gross_2016\n",
       "1 0               1          0              FRA       65000000  20360872 \n",
       "2 0               0          0              USA      258000000 389547307 \n",
       "3 0               0          0              NA       250000000 464782216 \n",
       "4 0               0          0              NA       250000000 330249062 \n",
       "5 0               0          0              USA      250000000 258633276 \n",
       "6 1               0          0              NA       245000000 202598302 \n",
       "  budget_2016 profit   \n",
       "1  93654288   -73293416\n",
       "2 298645335    90901972\n",
       "3 253153989   211628227\n",
       "4 250000000    80249062\n",
       "5 253454322     5178954\n",
       "6 248090909   -45492607"
      ]
     },
     "metadata": {},
     "output_type": "display_data"
    }
   ],
   "source": [
    "head(movies[director_facebook_likes==0&budget_us>20000000])"
   ]
  },
  {
   "cell_type": "markdown",
   "metadata": {},
   "source": [
    "It is not normal that such famous director have zero like on Facebook. In fact, in a fast search on Facebook, I found that Luc Besson have 108 022 likes, Joss Whedon have 278 674 likes and  Zack Snyder have 100 693 likes. This fact makes me doubt the validity of those observations or at least tell me that I shouldn't take the observations with a value of 0 as a sign of absence of popularity. In consequence, I will label those observations as missing observation."
   ]
  },
  {
   "cell_type": "code",
   "execution_count": 73,
   "metadata": {
    "collapsed": false
   },
   "outputs": [],
   "source": [
    "movies[director_facebook_likes==0,\"director_facebook_likes\"]<-NA"
   ]
  },
  {
   "cell_type": "code",
   "execution_count": 74,
   "metadata": {
    "collapsed": false
   },
   "outputs": [
    {
     "data": {
      "text/html": [
       "<iframe src=\"plotlyJupyterHTML/hist_dir_fb_na.html\" width=\"100%\" height=\"400\" id=\"igraph\" scrolling=\"no\" seamless=\"seamless\" frameBorder=\"0\"> </iframe>"
      ]
     },
     "metadata": {},
     "output_type": "display_data"
    }
   ],
   "source": [
    "hist_dir_fb_na <- plot_ly(movies[complete.cases(movies$director_facebook_likes),],x=~director_facebook_likes,type=\"histogram\")%>%\n",
    "layout(title = 'Number of likes on the Facebook page of directors without missing data',\n",
    "         xaxis = list(title = 'Number of likes', zeroline = TRUE),\n",
    "         yaxis = list(title = 'Frequency')) \n",
    " \n",
    "embed_notebook(hist_dir_fb_na,file=paste0(\"plotlyJupyterHTML/\",\"hist_dir_fb_na\",\".html\"))"
   ]
  },
  {
   "cell_type": "markdown",
   "metadata": {},
   "source": [
    "Another interesting about this plot is that there's seems to exist a segmentation in the data, since there's exist a gap between the director who have less than 7000 likes, those who have between 10 000 and 19 000 likes and those with more than 20 000 likes. This fact can be used when I will create my model.\n",
    "\n",
    "Below I calculated the average gross box-office of each director's movie, add this value in the data frame and plotted his distribution."
   ]
  },
  {
   "cell_type": "code",
   "execution_count": 75,
   "metadata": {
    "collapsed": false
   },
   "outputs": [],
   "source": [
    "dir_mean_gross<-movies %>%\n",
    "group_by(director_name)%>%\n",
    "summarise(mean_gross=mean(gross))\n",
    "\n",
    "director_mean_gross<-data.frame(\"director_name\"=dir_mean_gross$director_name,\"dir_mean_gross\"=dir_mean_gross$mean_gross)"
   ]
  },
  {
   "cell_type": "code",
   "execution_count": 76,
   "metadata": {
    "collapsed": true
   },
   "outputs": [],
   "source": [
    "movies<-merge(movies,director_mean_gross,by=\"director_name\")"
   ]
  },
  {
   "cell_type": "code",
   "execution_count": 77,
   "metadata": {
    "collapsed": false
   },
   "outputs": [
    {
     "data": {
      "text/html": [
       "<iframe src=\"plotlyJupyterHTML/hist_mean_gross_director.html\" width=\"100%\" height=\"400\" id=\"igraph\" scrolling=\"no\" seamless=\"seamless\" frameBorder=\"0\"> </iframe>"
      ]
     },
     "metadata": {},
     "output_type": "display_data"
    }
   ],
   "source": [
    "hist_mean_gross_director <-  \n",
    "  plot_ly( dir_mean_gross[complete.cases(dir_mean_gross),],x =~mean_gross,type=\"histogram\") %>%\n",
    "layout(title = 'The average gross of the movies made by each director',\n",
    "         xaxis = list(title = 'Average gross', zeroline = TRUE),\n",
    "         yaxis = list(title = 'Number of actors'))\n",
    " \n",
    "embed_notebook(hist_mean_gross_director,file=paste0(\"plotlyJupyterHTML/\",\"hist_mean_gross_director\",\".html\"))"
   ]
  },
  {
   "cell_type": "markdown",
   "metadata": {},
   "source": [
    "This distribution seems to have a heavy tail, which indicate that some director are better than others to make really profitable movies.\n",
    "\n",
    "Now I put my attention on the principal actor of each movie."
   ]
  },
  {
   "cell_type": "code",
   "execution_count": 78,
   "metadata": {
    "collapsed": false
   },
   "outputs": [
    {
     "data": {
      "text/html": [
       "<dl class=dl-horizontal>\n",
       "\t<dt>Robert De Niro</dt>\n",
       "\t\t<dd>48</dd>\n",
       "\t<dt>Johnny Depp</dt>\n",
       "\t\t<dd>36</dd>\n",
       "\t<dt>Nicolas Cage</dt>\n",
       "\t\t<dd>32</dd>\n",
       "\t<dt>Denzel Washington</dt>\n",
       "\t\t<dd>29</dd>\n",
       "\t<dt>J.K. Simmons</dt>\n",
       "\t\t<dd>29</dd>\n",
       "\t<dt>Matt Damon</dt>\n",
       "\t\t<dd>29</dd>\n",
       "\t<dt>Bruce Willis</dt>\n",
       "\t\t<dd>28</dd>\n",
       "\t<dt>Harrison Ford</dt>\n",
       "\t\t<dd>27</dd>\n",
       "\t<dt>(Other)</dt>\n",
       "\t\t<dd>4552</dd>\n",
       "\t<dt>NA's</dt>\n",
       "\t\t<dd>7</dd>\n",
       "</dl>\n"
      ],
      "text/latex": [
       "\\begin{description*}\n",
       "\\item[Robert De Niro] 48\n",
       "\\item[Johnny Depp] 36\n",
       "\\item[Nicolas Cage] 32\n",
       "\\item[Denzel Washington] 29\n",
       "\\item[J.K. Simmons] 29\n",
       "\\item[Matt Damon] 29\n",
       "\\item[Bruce Willis] 28\n",
       "\\item[Harrison Ford] 27\n",
       "\\item[(Other)] 4552\n",
       "\\item[NA's] 7\n",
       "\\end{description*}\n"
      ],
      "text/markdown": [
       "Robert De Niro\n",
       ":   48Johnny Depp\n",
       ":   36Nicolas Cage\n",
       ":   32Denzel Washington\n",
       ":   29J.K. Simmons\n",
       ":   29Matt Damon\n",
       ":   29Bruce Willis\n",
       ":   28Harrison Ford\n",
       ":   27(Other)\n",
       ":   4552NA's\n",
       ":   7\n",
       "\n"
      ],
      "text/plain": [
       "   Robert De Niro       Johnny Depp      Nicolas Cage Denzel Washington \n",
       "               48                36                32                29 \n",
       "     J.K. Simmons        Matt Damon      Bruce Willis     Harrison Ford \n",
       "               29                29                28                27 \n",
       "          (Other)              NA's \n",
       "             4552                 7 "
      ]
     },
     "metadata": {},
     "output_type": "display_data"
    }
   ],
   "source": [
    "summary(movies$actor_1_name,maxsum=10)"
   ]
  },
  {
   "cell_type": "code",
   "execution_count": 79,
   "metadata": {
    "collapsed": false
   },
   "outputs": [],
   "source": [
    "actor1_count<-plyr::count(movies,'actor_1_name')\n",
    "actor1_count<-as.data.frame(actor1_count)\n",
    "#names(actor1_count)[names(actor1_count)==\"x\"]<-\"Name\"\n",
    "names(actor1_count)[names(actor1_count)==\"freq\"]<-\"Count\"\n",
    "actor1_count<-actor1_count[order(-actor1_count$Count),]"
   ]
  },
  {
   "cell_type": "code",
   "execution_count": 80,
   "metadata": {
    "collapsed": false
   },
   "outputs": [
    {
     "data": {
      "text/html": [
       "<table>\n",
       "<thead><tr><th></th><th scope=col>actor_1_name</th><th scope=col>Count</th></tr></thead>\n",
       "<tbody>\n",
       "\t<tr><th scope=row>1629</th><td>Robert De Niro   </td><td>48               </td></tr>\n",
       "\t<tr><th scope=row>957</th><td>Johnny Depp      </td><td>36               </td></tr>\n",
       "\t<tr><th scope=row>1439</th><td>Nicolas Cage     </td><td>32               </td></tr>\n",
       "\t<tr><th scope=row>475</th><td>Denzel Washington</td><td>29               </td></tr>\n",
       "\t<tr><th scope=row>765</th><td>J.K. Simmons     </td><td>29               </td></tr>\n",
       "\t<tr><th scope=row>1285</th><td>Matt Damon       </td><td>29               </td></tr>\n",
       "</tbody>\n",
       "</table>\n"
      ],
      "text/latex": [
       "\\begin{tabular}{r|ll}\n",
       "  & actor\\_1\\_name & Count\\\\\n",
       "\\hline\n",
       "\t1629 & Robert De Niro    & 48               \\\\\n",
       "\t957 & Johnny Depp       & 36               \\\\\n",
       "\t1439 & Nicolas Cage      & 32               \\\\\n",
       "\t475 & Denzel Washington & 29               \\\\\n",
       "\t765 & J.K. Simmons      & 29               \\\\\n",
       "\t1285 & Matt Damon        & 29               \\\\\n",
       "\\end{tabular}\n"
      ],
      "text/markdown": [
       "\n",
       "| <!--/--> | actor_1_name | Count | \n",
       "|---|---|---|---|---|---|\n",
       "| 1629 | Robert De Niro    | 48                | \n",
       "| 957 | Johnny Depp       | 36                | \n",
       "| 1439 | Nicolas Cage      | 32                | \n",
       "| 475 | Denzel Washington | 29                | \n",
       "| 765 | J.K. Simmons      | 29                | \n",
       "| 1285 | Matt Damon        | 29                | \n",
       "\n",
       "\n"
      ],
      "text/plain": [
       "     actor_1_name      Count\n",
       "1629 Robert De Niro    48   \n",
       "957  Johnny Depp       36   \n",
       "1439 Nicolas Cage      32   \n",
       "475  Denzel Washington 29   \n",
       "765  J.K. Simmons      29   \n",
       "1285 Matt Damon        29   "
      ]
     },
     "metadata": {},
     "output_type": "display_data"
    }
   ],
   "source": [
    "head(actor1_count[order(-actor1_count$Count),])"
   ]
  },
  {
   "cell_type": "code",
   "execution_count": 81,
   "metadata": {
    "collapsed": false
   },
   "outputs": [
    {
     "data": {
      "text/html": [
       "<iframe src=\"plotlyJupyterHTML/hist_actor.html\" width=\"100%\" height=\"400\" id=\"igraph\" scrolling=\"no\" seamless=\"seamless\" frameBorder=\"0\"> </iframe>"
      ]
     },
     "metadata": {},
     "output_type": "display_data"
    }
   ],
   "source": [
    "hist_actor <-  actor1_count %>%\n",
    "  dplyr::count(Count) %>%\n",
    "  plot_ly(x =~Count, y = ~n) %>% \n",
    "  add_bars()%>%\n",
    "layout(title = 'The number of roles played by each actor',\n",
    "         xaxis = list(title = 'Number of roles', zeroline = TRUE),\n",
    "         yaxis = list(title = 'Frequency'))\n",
    " \n",
    "embed_notebook(hist_actor,file=paste0(\"plotlyJupyterHTML/\",\"hist_actor\",\".html\"))"
   ]
  },
  {
   "cell_type": "markdown",
   "metadata": {},
   "source": [
    "I'm also interested to know how gross revenue is associated to each actor. In the table below, I calculated the mean gross revenue from the movie in which actor played and plotted the distribution of those amounts."
   ]
  },
  {
   "cell_type": "code",
   "execution_count": 82,
   "metadata": {
    "collapsed": false
   },
   "outputs": [],
   "source": [
    "act_1_mean_gross<-movies %>%\n",
    "group_by(actor_1_name)%>%\n",
    "summarise(mean_gross=mean(gross))\n",
    "\n",
    "actor1_mean_gross<-data.frame(\"actor_1_name\"=act_1_mean_gross$actor_1_name,\"act_1_mean_gross\"=act_1_mean_gross$mean_gross)"
   ]
  },
  {
   "cell_type": "code",
   "execution_count": 83,
   "metadata": {
    "collapsed": false
   },
   "outputs": [],
   "source": [
    "movies<-merge(movies,actor1_mean_gross,by=\"actor_1_name\")"
   ]
  },
  {
   "cell_type": "code",
   "execution_count": 84,
   "metadata": {
    "collapsed": false
   },
   "outputs": [
    {
     "data": {
      "text/html": [
       "<iframe src=\"plotlyJupyterHTML/hist_mean_gross_actor.html\" width=\"100%\" height=\"400\" id=\"igraph\" scrolling=\"no\" seamless=\"seamless\" frameBorder=\"0\"> </iframe>"
      ]
     },
     "metadata": {},
     "output_type": "display_data"
    }
   ],
   "source": [
    "hist_mean_gross_actor <-  \n",
    "  plot_ly( act_1_mean_gross[complete.cases(act_1_mean_gross),],x =~mean_gross,type=\"histogram\") %>%\n",
    "layout(title = 'The average gross of the movies in which each actor played',\n",
    "         xaxis = list(title = 'Average gross', zeroline = TRUE),\n",
    "         yaxis = list(title = 'Number of actors'))\n",
    " \n",
    "embed_notebook(hist_mean_gross_actor,file=paste0(\"plotlyJupyterHTML/\",\"hist_mean_gross_actor\",\".html\"))"
   ]
  },
  {
   "cell_type": "markdown",
   "metadata": {},
   "source": [
    "Like for the directors, we can have a sense of the popularity of each actor via the \"actor_1_facebook_likes\" variable."
   ]
  },
  {
   "cell_type": "code",
   "execution_count": 85,
   "metadata": {
    "collapsed": false
   },
   "outputs": [
    {
     "data": {
      "text/plain": [
       "   Min. 1st Qu.  Median    Mean 3rd Qu.    Max.    NA's \n",
       "      0     611     989    6598   11000  640000       7 "
      ]
     },
     "metadata": {},
     "output_type": "display_data"
    }
   ],
   "source": [
    "summary(movies$actor_1_facebook_likes)"
   ]
  },
  {
   "cell_type": "code",
   "execution_count": 86,
   "metadata": {
    "collapsed": false
   },
   "outputs": [
    {
     "data": {
      "text/html": [
       "<iframe src=\"plotlyJupyterHTML/hist_fb_actor1.html\" width=\"100%\" height=\"400\" id=\"igraph\" scrolling=\"no\" seamless=\"seamless\" frameBorder=\"0\"> </iframe>"
      ]
     },
     "metadata": {},
     "output_type": "display_data"
    }
   ],
   "source": [
    "hist_fb_actor1 <-  plot_ly(movies[complete.cases(movies$actor_1_facebook_likes),],\n",
    "                           x =~actor_1_facebook_likes,type=\"histogram\") %>%\n",
    "layout(title = 'Number of Facebook likes for the principal actor of each movie',\n",
    "         xaxis = list(title = 'Facebook likes', zeroline = TRUE),\n",
    "         yaxis = list(title = 'Number of actors'))\n",
    " \n",
    "embed_notebook(hist_fb_actor1,file=paste0(\"plotlyJupyterHTML/\",\"hist_fb_actor1\",\".html\"))"
   ]
  },
  {
   "cell_type": "markdown",
   "metadata": {},
   "source": [
    "In that plot, the number of actors with less that a thousand like on Facebook seems to be over represented. Let's look at those data more in detail."
   ]
  },
  {
   "cell_type": "code",
   "execution_count": 87,
   "metadata": {
    "collapsed": false
   },
   "outputs": [
    {
     "name": "stdout",
     "output_type": "stream",
     "text": [
      "[1] \"Average gross : 26910482.159292\"\n",
      " [1] \"Name of actors : A.J. Buckley\"      \"Name of actors : Ãscar Jaenada\"   \n",
      " [3] \"Name of actors : Ãlex Angulo\"      \"Name of actors : Aaliyah\"          \n",
      " [5] \"Name of actors : Aasif Mandvi\"      \"Name of actors : Abhishek Bachchan\"\n",
      " [7] \"Name of actors : Abhishek Bachchan\" \"Name of actors : Abigail Evans\"    \n",
      " [9] \"Name of actors : Adam Arkin\"        \"Name of actors : Adam Garcia\"      \n",
      " [1] \"Country : USA\"                \"Country : Spain\"             \n",
      " [3] \"Country : India\"              \"Country : Germany\"           \n",
      " [5] \"Country : Mexico\"             \"Country : Ireland\"           \n",
      " [7] \"Country : Nigeria\"            \"Country : Norway\"            \n",
      " [9] \"Country : France\"             \"Country : UK\"                \n",
      "[11] \"Country : Canada\"             \"Country : Brazil\"            \n",
      "[13] \"Country : Thailand\"           \"Country : Australia\"         \n",
      "[15] \"Country : Iceland\"            \"Country : Israel\"            \n",
      "[17] \"Country : Japan\"              \"Country : Romania\"           \n",
      "[19] \"Country : China\"              \"Country : Hong Kong\"         \n",
      "[21] \"Country : Greece\"             \"Country : Slovakia\"          \n",
      "[23] \"Country : Iran\"               \"Country : Colombia\"          \n",
      "[25] \"Country : Denmark\"            \"Country : Italy\"             \n",
      "[27] \"Country : Taiwan\"             \"Country : NA\"                \n",
      "[29] \"Country : Slovenia\"           \"Country : New Line\"          \n",
      "[31] \"Country : Soviet Union\"       \"Country : South Korea\"       \n",
      "[33] \"Country : Kyrgyzstan\"         \"Country : Russia\"            \n",
      "[35] \"Country : Netherlands\"        \"Country : Sweden\"            \n",
      "[37] \"Country : West Germany\"       \"Country : Philippines\"       \n",
      "[39] \"Country : Finland\"            \"Country : South Africa\"      \n",
      "[41] \"Country : Czech Republic\"     \"Country : Poland\"            \n",
      "[43] \"Country : New Zealand\"        \"Country : Egypt\"             \n",
      "[45] \"Country : Belgium\"            \"Country : Argentina\"         \n",
      "[47] \"Country : Dominican Republic\" \"Country : Hungary\"           \n",
      "[49] \"Country : Chile\"              \"Country : Afghanistan\"       \n",
      "[51] \"Country : Turkey\"             \"Country : Libya\"             \n",
      "[53] \"Country : Kenya\"              \"Country : Aruba\"             \n",
      "[55] \"Country : Switzerland\"        \"Country : Pakistan\"          \n",
      "[57] \"Country : Georgia\"            \"Country : Cambodia\"          \n",
      "[59] \"Country : Cameroon\"          \n"
     ]
    }
   ],
   "source": [
    "print(paste0(\"Average gross : \",mean(movies[actor_1_facebook_likes<1000,gross],na.rm=TRUE)))\n",
    "print(paste0(\"Name of actors : \",head(movies[actor_1_facebook_likes<1000,actor_1_name],n=10)))\n",
    "print(paste0(\"Country : \",unique(movies[actor_1_facebook_likes<1000,country])))"
   ]
  },
  {
   "cell_type": "markdown",
   "metadata": {},
   "source": [
    "We can see that the majority of actor with less than 1000 like played in low profile movies or come from a foreign country were Facebook not as used than in North America. Those two factors can deflate the number of Facebook like of an actor, but that show that this variable seems to indicate the popularity of an actor as well.\n",
    "\n",
    "To see if I should treat the observations with a value of zero like a missing value, I look at the name of the actor to spot some irregularity."
   ]
  },
  {
   "cell_type": "code",
   "execution_count": 88,
   "metadata": {
    "collapsed": false
   },
   "outputs": [
    {
     "data": {
      "text/html": [
       "25"
      ],
      "text/latex": [
       "25"
      ],
      "text/markdown": [
       "25"
      ],
      "text/plain": [
       "[1] 25"
      ]
     },
     "metadata": {},
     "output_type": "display_data"
    },
    {
     "data": {
      "text/html": [
       "<ol class=list-inline>\n",
       "\t<li>Abigail Evans</li>\n",
       "\t<li>Aliou TourÃ©</li>\n",
       "\t<li>Ami Ayalon</li>\n",
       "\t<li>Ariel Hsing</li>\n",
       "\t<li>Bhole Baba</li>\n",
       "\t<li>Carol Block</li>\n",
       "\t<li>Chemeeka Walker</li>\n",
       "\t<li>Chris 'Wonder' Schoeck</li>\n",
       "\t<li>Dario Nozic Serini</li>\n",
       "\t<li>Don Brooks</li>\n",
       "\t<li>Elina Abai Kyzy</li>\n",
       "\t<li>Elizabeth Streb</li>\n",
       "\t<li>Eva Boehnke</li>\n",
       "\t<li>Hanne Aagesen</li>\n",
       "\t<li>Heather Berman</li>\n",
       "\t<li>Ian Gamazon</li>\n",
       "\t<li>Iulia Ciochina</li>\n",
       "\t<li>Jonathan Blow</li>\n",
       "\t<li>Karen Alexander</li>\n",
       "\t<li>Lee Scott</li>\n",
       "\t<li>Naderev Sano</li>\n",
       "\t<li>Robert Redford</li>\n",
       "\t<li>Sam Adams</li>\n",
       "\t<li>Stana Roumillac</li>\n",
       "\t<li>Tshewang Dendup</li>\n",
       "</ol>\n"
      ],
      "text/latex": [
       "\\begin{enumerate*}\n",
       "\\item Abigail Evans\n",
       "\\item Aliou TourÃ©\n",
       "\\item Ami Ayalon\n",
       "\\item Ariel Hsing\n",
       "\\item Bhole Baba\n",
       "\\item Carol Block\n",
       "\\item Chemeeka Walker\n",
       "\\item Chris 'Wonder' Schoeck\n",
       "\\item Dario Nozic Serini\n",
       "\\item Don Brooks\n",
       "\\item Elina Abai Kyzy\n",
       "\\item Elizabeth Streb\n",
       "\\item Eva Boehnke\n",
       "\\item Hanne Aagesen\n",
       "\\item Heather Berman\n",
       "\\item Ian Gamazon\n",
       "\\item Iulia Ciochina\n",
       "\\item Jonathan Blow\n",
       "\\item Karen Alexander\n",
       "\\item Lee Scott\n",
       "\\item Naderev Sano\n",
       "\\item Robert Redford\n",
       "\\item Sam Adams\n",
       "\\item Stana Roumillac\n",
       "\\item Tshewang Dendup\n",
       "\\end{enumerate*}\n"
      ],
      "text/markdown": [
       "1. Abigail Evans\n",
       "2. Aliou TourÃ©\n",
       "3. Ami Ayalon\n",
       "4. Ariel Hsing\n",
       "5. Bhole Baba\n",
       "6. Carol Block\n",
       "7. Chemeeka Walker\n",
       "8. Chris 'Wonder' Schoeck\n",
       "9. Dario Nozic Serini\n",
       "10. Don Brooks\n",
       "11. Elina Abai Kyzy\n",
       "12. Elizabeth Streb\n",
       "13. Eva Boehnke\n",
       "14. Hanne Aagesen\n",
       "15. Heather Berman\n",
       "16. Ian Gamazon\n",
       "17. Iulia Ciochina\n",
       "18. Jonathan Blow\n",
       "19. Karen Alexander\n",
       "20. Lee Scott\n",
       "21. Naderev Sano\n",
       "22. Robert Redford\n",
       "23. Sam Adams\n",
       "24. Stana Roumillac\n",
       "25. Tshewang Dendup\n",
       "\n",
       "\n"
      ],
      "text/plain": [
       " [1] Abigail Evans          Aliou TourÃ©           Ami Ayalon            \n",
       " [4] Ariel Hsing            Bhole Baba             Carol Block           \n",
       " [7] Chemeeka Walker        Chris 'Wonder' Schoeck Dario Nozic Serini    \n",
       "[10] Don Brooks             Elina Abai Kyzy        Elizabeth Streb       \n",
       "[13] Eva Boehnke            Hanne Aagesen          Heather Berman        \n",
       "[16] Ian Gamazon            Iulia Ciochina         Jonathan Blow         \n",
       "[19] Karen Alexander        Lee Scott              Naderev Sano          \n",
       "[22] Robert Redford         Sam Adams              Stana Roumillac       \n",
       "[25] Tshewang Dendup       \n",
       "2045 Levels: 50 Cent A.J. Buckley Ãscar Jaenada Ãlex Angulo ... Zuhair Haddad"
      ]
     },
     "metadata": {},
     "output_type": "display_data"
    }
   ],
   "source": [
    "nrow(movies[actor_1_facebook_likes==0])\n",
    "movies[actor_1_facebook_likes==0,actor_1_name]"
   ]
  },
  {
   "cell_type": "markdown",
   "metadata": {
    "collapsed": true
   },
   "source": [
    "We can see that for the majority, those are less known actors or actors with a small Facebook presence, so I'll keep those data like they are. The only exception is Robert Redford and I correct the value in the table."
   ]
  },
  {
   "cell_type": "code",
   "execution_count": 89,
   "metadata": {
    "collapsed": false
   },
   "outputs": [
    {
     "data": {
      "text/html": [
       "<table>\n",
       "<thead><tr><th scope=col>actor_1_name</th><th scope=col>director_name</th><th scope=col>color</th><th scope=col>num_critic_for_reviews</th><th scope=col>duration</th><th scope=col>director_facebook_likes</th><th scope=col>actor_3_facebook_likes</th><th scope=col>actor_2_name</th><th scope=col>actor_1_facebook_likes</th><th scope=col>gross</th><th scope=col>...</th><th scope=col>genres_Thriller</th><th scope=col>genres_War</th><th scope=col>genres_Western</th><th scope=col>currency</th><th scope=col>budget_us</th><th scope=col>gross_2016</th><th scope=col>budget_2016</th><th scope=col>profit</th><th scope=col>dir_mean_gross</th><th scope=col>act_1_mean_gross</th></tr></thead>\n",
       "<tbody>\n",
       "\t<tr><td>NA                 </td><td>Amal Al-Agroobi    </td><td>Color              </td><td> NA                </td><td> 62                </td><td> 58                </td><td> NA                </td><td>NA                 </td><td>  NA               </td><td>       NA          </td><td>...                </td><td>0                  </td><td>0                  </td><td>0                  </td><td>USA                </td><td>   125000          </td><td>           NA      </td><td>   128783.0        </td><td>          NA       </td><td>       NA          </td><td>         NA        </td></tr>\n",
       "\t<tr><td>NA                 </td><td>Andrew Berends     </td><td>Color              </td><td> 12                </td><td> 90                </td><td> NA                </td><td> NA                </td><td>NA                 </td><td>  NA               </td><td>       NA          </td><td>...                </td><td>0                  </td><td>1                  </td><td>0                  </td><td>USA                </td><td>   120000          </td><td>           NA      </td><td>   147476.1        </td><td>          NA       </td><td>       NA          </td><td>         NA        </td></tr>\n",
       "\t<tr><td>NA                 </td><td>Harry Gantz        </td><td>Color              </td><td> 12                </td><td>105                </td><td> NA                </td><td> NA                </td><td>NA                 </td><td>  NA               </td><td>   247740          </td><td>...                </td><td>0                  </td><td>0                  </td><td>0                  </td><td>USA                </td><td>  1100000          </td><td>   330559.420      </td><td>  1467729.7        </td><td> -1137170.30       </td><td>   247740          </td><td>         NA        </td></tr>\n",
       "\t<tr><td>NA                 </td><td>Jem Cohen          </td><td>Color              </td><td> 12                </td><td>111                </td><td>  6                </td><td> NA                </td><td>NA                 </td><td>  NA               </td><td>     8374          </td><td>...                </td><td>0                  </td><td>0                  </td><td>0                  </td><td>USA                </td><td>    50000          </td><td>     8479.646      </td><td>    50630.8        </td><td>   -42151.15       </td><td>     8374          </td><td>         NA        </td></tr>\n",
       "\t<tr><td>NA                 </td><td>LÃ©a Pool          </td><td>Color              </td><td> 23                </td><td> 97                </td><td>  4                </td><td> NA                </td><td>NA                 </td><td>  NA               </td><td>    24784          </td><td>...                </td><td>0                  </td><td>0                  </td><td>0                  </td><td>CAN                </td><td>  1212695          </td><td>    26444.214      </td><td>  1293930.2        </td><td> -1267486.00       </td><td>   817489          </td><td>         NA        </td></tr>\n",
       "\t<tr><td>NA                 </td><td>Pan Nalin          </td><td>Color              </td><td> 15                </td><td>102                </td><td> 95                </td><td> NA                </td><td>NA                 </td><td>  NA               </td><td>    16892          </td><td>...                </td><td>0                  </td><td>0                  </td><td>0                  </td><td>USA                </td><td>   300000          </td><td>    22896.465      </td><td>   406638.6        </td><td>  -383742.14       </td><td>       NA          </td><td>         NA        </td></tr>\n",
       "\t<tr><td>NA                 </td><td>U. Roberto Romano  </td><td>Color              </td><td>  3                </td><td> 80                </td><td>  6                </td><td> NA                </td><td>NA                 </td><td>  NA               </td><td>     2245          </td><td>...                </td><td>0                  </td><td>0                  </td><td>0                  </td><td>USA                </td><td>   560000          </td><td>     2395.387      </td><td>   597512.9        </td><td>  -595117.53       </td><td>     2245          </td><td>         NA        </td></tr>\n",
       "\t<tr><td>50 Cent            </td><td>Jim Sheridan       </td><td>Color              </td><td> 98                </td><td>117                </td><td>260                </td><td>441                </td><td>Bill Duke          </td><td>1000               </td><td> 30981850          </td><td>...                </td><td>0                  </td><td>0                  </td><td>0                  </td><td>USA                </td><td> 40000000          </td><td> 38075693.432      </td><td> 49158708.6        </td><td>-11083015.21       </td><td> 26922314          </td><td> 30981850.0        </td></tr>\n",
       "\t<tr><td>A.J. Buckley       </td><td>Peter Sohn         </td><td>Color              </td><td>298                </td><td> 93                </td><td>113                </td><td>113                </td><td>Jack McGraw        </td><td> 275               </td><td>123070338          </td><td>...                </td><td>0                  </td><td>0                  </td><td>0                  </td><td>USA                </td><td>187500000          </td><td>124622987.723      </td><td>189865491.4        </td><td>-65242503.65       </td><td>123070338          </td><td>123070338.0        </td></tr>\n",
       "\t<tr><td>Ã“scar Jaenada     </td><td>Jaume Collet-Serra </td><td>Color              </td><td>186                </td><td> 86                </td><td>174                </td><td>  2                </td><td>Brett Cullen       </td><td> 619               </td><td> 54257433          </td><td>...                </td><td>1                  </td><td>0                  </td><td>0                  </td><td>USA                </td><td> 17000000          </td><td> 54257433.000      </td><td> 17000000.0        </td><td> 37257433.00       </td><td> 51142756          </td><td> 54257433.0        </td></tr>\n",
       "\t<tr><td>Ãlex Angulo       </td><td>Mikel Rueda        </td><td>Color              </td><td>  9                </td><td> 96                </td><td> NA                </td><td>  0                </td><td>GermÃ¡n Alcarazu   </td><td>  90               </td><td>        0          </td><td>...                </td><td>0                  </td><td>0                  </td><td>0                  </td><td>USA                </td><td>  1000000          </td><td>        0.000      </td><td>  1013817.3        </td><td> -1013817.29       </td><td>        0          </td><td>        0.0        </td></tr>\n",
       "\t<tr><td>Aaliyah            </td><td>Michael Rymer      </td><td>Color              </td><td>137                </td><td>101                </td><td> 48                </td><td>531                </td><td>Lena Olin          </td><td> 775               </td><td> 30307804          </td><td>...                </td><td>0                  </td><td>0                  </td><td>0                  </td><td>USA                </td><td> 35000000          </td><td> 40439695.240      </td><td> 46700491.2        </td><td> -6260795.94       </td><td> 22155473          </td><td> 30307804.0        </td></tr>\n",
       "\t<tr><td>Aasif Mandvi       </td><td>David Koepp        </td><td>Color              </td><td>210                </td><td>102                </td><td>192                </td><td> 31                </td><td>Dequina Moore      </td><td> 346               </td><td> 13214030          </td><td>...                </td><td>0                  </td><td>0                  </td><td>0                  </td><td>USA                </td><td> 20000000          </td><td> 14730258.861      </td><td> 22294877.3        </td><td> -7564618.42       </td><td> 22001924          </td><td> 13214030.0        </td></tr>\n",
       "\t<tr><td>Abbie Cornish      </td><td>Jane Campion       </td><td>Color              </td><td>222                </td><td>119                </td><td>319                </td><td>179                </td><td>Paul Schneider     </td><td>2000               </td><td>  4440055          </td><td>...                </td><td>0                  </td><td>0                  </td><td>0                  </td><td>USA                </td><td>  8500000          </td><td>  4967184.839      </td><td>  9509132.5        </td><td> -4541947.62       </td><td> 16438503          </td><td> 25034383.0        </td></tr>\n",
       "\t<tr><td>Abbie Cornish      </td><td>Martin McDonagh    </td><td>Color              </td><td>401                </td><td>110                </td><td>454                </td><td>816                </td><td>Gabourey Sidibe    </td><td>2000               </td><td> 14989761          </td><td>...                </td><td>0                  </td><td>0                  </td><td>0                  </td><td>USA                </td><td> 15000000          </td><td> 15669622.180      </td><td> 15680325.6        </td><td>   -10703.39       </td><td> 11373446          </td><td> 25034383.0        </td></tr>\n",
       "\t<tr><td>Abbie Cornish      </td><td>Zack Snyder        </td><td>Color              </td><td>188                </td><td>101                </td><td> NA                </td><td>577                </td><td>Richard Roxburgh   </td><td>2000               </td><td> 55673333          </td><td>...                </td><td>0                  </td><td>0                  </td><td>0                  </td><td>USA                </td><td> 80000000          </td><td> 61277967.433      </td><td> 88053600.0        </td><td>-26775632.57       </td><td>155758174          </td><td> 25034383.0        </td></tr>\n",
       "\t<tr><td>Abhishek Bachchan  </td><td>Arjun Sablok       </td><td>Color              </td><td>  5                </td><td> 97                </td><td> NA                </td><td> 40                </td><td>Uday Chopra        </td><td> 374               </td><td>   100358          </td><td>...                </td><td>0                  </td><td>0                  </td><td>0                  </td><td>CAN                </td><td>  1237865          </td><td>   123336.742      </td><td>  1521296.1        </td><td> -1397959.38       </td><td>   100358          </td><td>   332028.5        </td></tr>\n",
       "\t<tr><td>Abhishek Bachchan  </td><td>Rohan Sippy        </td><td>Color              </td><td> 24                </td><td>128                </td><td>  4                </td><td> 47                </td><td>Bipasha Basu       </td><td> 374               </td><td>   563699          </td><td>...                </td><td>1                  </td><td>0                  </td><td>0                  </td><td>USA                </td><td>  5200000          </td><td>   601459.699      </td><td>  5548334.2        </td><td> -4946874.49       </td><td>   563699          </td><td>   332028.5        </td></tr>\n",
       "\t<tr><td>Abigail Evans      </td><td>Cary Bell          </td><td>Color              </td><td> NA                </td><td> 78                </td><td> NA                </td><td>  0                </td><td>Stacie Evans       </td><td>   0               </td><td>       NA          </td><td>...                </td><td>0                  </td><td>0                  </td><td>0                  </td><td>USA                </td><td>   180000          </td><td>           NA      </td><td>   182487.1        </td><td>          NA       </td><td>       NA          </td><td>         NA        </td></tr>\n",
       "\t<tr><td>Abigail Spencer    </td><td>Tom Elkins         </td><td>Color              </td><td> 79                </td><td>101                </td><td> 14                </td><td>559                </td><td>Cicely Tyson       </td><td>1000               </td><td>       NA          </td><td>...                </td><td>1                  </td><td>0                  </td><td>0                  </td><td>USA                </td><td>  9000000          </td><td>           NA      </td><td>  9272374.5        </td><td>          NA       </td><td>       NA          </td><td>         NA        </td></tr>\n",
       "\t<tr><td>Adam Arkin         </td><td>Diane Keaton       </td><td>Color              </td><td> 82                </td><td> 94                </td><td> NA                </td><td>235                </td><td>Celia Weston       </td><td> 374               </td><td> 36037909          </td><td>...                </td><td>0                  </td><td>0                  </td><td>0                  </td><td>USA                </td><td> 60000000          </td><td> 50228547.093      </td><td> 83626184.5        </td><td>-33397637.37       </td><td> 36037909          </td><td> 36037909.0        </td></tr>\n",
       "\t<tr><td>Adam Baldwin       </td><td>Joss Whedon        </td><td>Color              </td><td>276                </td><td>119                </td><td> NA                </td><td>279                </td><td>Sean Maher         </td><td>2000               </td><td> 25335935          </td><td>...                </td><td>1                  </td><td>0                  </td><td>0                  </td><td>USA                </td><td> 40000000          </td><td> 31137046.170      </td><td> 49158708.6        </td><td>-18021662.47       </td><td>369202360          </td><td> 28864331.2        </td></tr>\n",
       "\t<tr><td>Adam Baldwin       </td><td>Richard Donner     </td><td>Color              </td><td> 10                </td><td>114                </td><td>503                </td><td>697                </td><td>Thomas Ian Nicholas</td><td>2000               </td><td>  4651977          </td><td>...                </td><td>0                  </td><td>0                  </td><td>0                  </td><td>USA                </td><td> 35000000          </td><td>  7957057.218      </td><td> 59866375.7        </td><td>-51909318.44       </td><td> 63944347          </td><td> 28864331.2        </td></tr>\n",
       "\t<tr><td>Adam Baldwin       </td><td>Robert Redford     </td><td>Color              </td><td> 62                </td><td>124                </td><td> NA                </td><td>535                </td><td>Elizabeth McGovern </td><td>2000               </td><td> 54800000          </td><td>...                </td><td>0                  </td><td>0                  </td><td>0                  </td><td>USA                </td><td>  6000000          </td><td>159600247.360      </td><td> 17474479.6        </td><td>142125767.72       </td><td> 37480453          </td><td> 28864331.2        </td></tr>\n",
       "\t<tr><td>Adam Baldwin       </td><td>Stephen Hopkins    </td><td>Color              </td><td>119                </td><td>103                </td><td> 81                </td><td>636                </td><td>Robert Davi        </td><td>2000               </td><td> 30669413          </td><td>...                </td><td>0                  </td><td>0                  </td><td>0                  </td><td>USA                </td><td> 35000000          </td><td> 56336845.808      </td><td> 64291729.5        </td><td> -7954883.65       </td><td> 34118335          </td><td> 28864331.2        </td></tr>\n",
       "\t<tr><td>Adam Garcia        </td><td>David McNally      </td><td>Color              </td><td>155                </td><td>107                </td><td> 18                </td><td>560                </td><td>Tyra Banks         </td><td> 811               </td><td> 60786269          </td><td>...                </td><td>0                  </td><td>0                  </td><td>0                  </td><td>USA                </td><td> 45000000          </td><td> 84722062.400      </td><td> 62719638.3        </td><td> 22002424.06       </td><td> 63760631          </td><td> 30034810.7        </td></tr>\n",
       "\t<tr><td>Adam Garcia        </td><td>Klaus Menzel       </td><td>Color              </td><td> 13                </td><td>103                </td><td> 34                </td><td>227                </td><td>Jacqueline Bisset  </td><td> 811               </td><td>    16066          </td><td>...                </td><td>1                  </td><td>0                  </td><td>0                  </td><td>USA                </td><td>  5000000          </td><td>    20414.478      </td><td>  6353317.1        </td><td> -6332902.61       </td><td>    16066          </td><td> 30034810.7        </td></tr>\n",
       "\t<tr><td>Adam Garcia        </td><td>Sara Sugarman      </td><td>Color              </td><td> 74                </td><td> 89                </td><td> 10                </td><td>231                </td><td>Carol Kane         </td><td> 811               </td><td> 29302097          </td><td>...                </td><td>0                  </td><td>0                  </td><td>0                  </td><td>USA                </td><td> 15000000          </td><td> 37233102.729      </td><td> 19059951.3        </td><td> 18173151.46       </td><td> 29302097          </td><td> 30034810.7        </td></tr>\n",
       "\t<tr><td>Adam Goldberg      </td><td>Bibo Bergeron      </td><td>Color              </td><td> 63                </td><td> 90                </td><td> 10                </td><td>541                </td><td>Bob Balaban        </td><td>1000               </td><td>       NA          </td><td>...                </td><td>0                  </td><td>0                  </td><td>0                  </td><td>EU28               </td><td> 34753355          </td><td>           NA      </td><td> 37081389.9        </td><td>          NA       </td><td>       NA          </td><td>         NA        </td></tr>\n",
       "\t<tr><td>Adam Goldberg      </td><td>D.J. Caruso        </td><td>Color              </td><td> 79                </td><td>103                </td><td>154                </td><td>576                </td><td>Meat Loaf          </td><td>1000               </td><td>   676698          </td><td>...                </td><td>1                  </td><td>0                  </td><td>0                  </td><td>USA                </td><td> 18000000          </td><td>   902917.971      </td><td> 24017395.5        </td><td>-23114477.49       </td><td> 59232884          </td><td>         NA        </td></tr>\n",
       "\t<tr><td>...</td><td>...</td><td>...</td><td>...</td><td>...</td><td>...</td><td>...</td><td>...</td><td>...</td><td>...</td><td>   </td><td>...</td><td>...</td><td>...</td><td>...</td><td>...</td><td>...</td><td>...</td><td>...</td><td>...</td><td>...</td></tr>\n",
       "\t<tr><td>Yuliya Snigir        </td><td>Fedor Bondarchuk     </td><td>Color                </td><td> 14                  </td><td>115                  </td><td> 35                  </td><td>  30                 </td><td>Fedor Bondarchuk     </td><td>  463                </td><td>        0            </td><td>...                  </td><td>0                    </td><td>0                    </td><td>0                    </td><td>USA                  </td><td> 29500000            </td><td>        0.00         </td><td> 33002283.25         </td><td>-33002283.25         </td><td>        0            </td><td>       0             </td></tr>\n",
       "\t<tr><td>Yuri Lowenthal       </td><td>Mike Nawrocki        </td><td>Color                </td><td> 37                  </td><td> 85                  </td><td> 12                  </td><td>  23                 </td><td>Cam Clarke           </td><td>  354                </td><td> 12701880            </td><td>...                  </td><td>0                    </td><td>0                    </td><td>0                    </td><td>USA                  </td><td> 15000000            </td><td> 14159342.79         </td><td> 16721157.96         </td><td> -2561815.17         </td><td> 19136616            </td><td>12701880             </td></tr>\n",
       "\t<tr><td>Zach Gilford         </td><td>Jee-woon Kim         </td><td>Color                </td><td>376                  </td><td>107                  </td><td>419                  </td><td> 165                 </td><td>James Burnett        </td><td>  971                </td><td> 12026670            </td><td>...                  </td><td>1                    </td><td>0                    </td><td>0                    </td><td>USA                  </td><td> 45000000            </td><td> 12390643.10         </td><td> 46361872.35         </td><td>-33971229.25         </td><td>  6077578            </td><td>13922819             </td></tr>\n",
       "\t<tr><td>Zach Gilford         </td><td>Matt Bettinelli-Olpin</td><td>Color                </td><td>137                  </td><td> 89                  </td><td> 14                  </td><td> 270                 </td><td>Allison Miller       </td><td>  971                </td><td> 15818967            </td><td>...                  </td><td>0                    </td><td>0                    </td><td>0                    </td><td>USA                  </td><td>  7000000            </td><td> 16037542.21         </td><td>  7096721.01         </td><td>  8940821.20         </td><td> 15818967            </td><td>13922819             </td></tr>\n",
       "\t<tr><td>Zachary Gordon       </td><td>David Bowers         </td><td>Color                </td><td> 88                  </td><td> 94                  </td><td> 42                  </td><td> 517                 </td><td>Rachael Harris       </td><td>  975                </td><td> 49002815            </td><td>...                  </td><td>0                    </td><td>0                    </td><td>0                    </td><td>USA                  </td><td> 22000000            </td><td> 51225339.54         </td><td> 22997810.84         </td><td> 28227528.70         </td><td> 46425301            </td><td>35071150             </td></tr>\n",
       "\t<tr><td>Zachary Gordon       </td><td>David Bowers         </td><td>Color                </td><td>103                  </td><td> 99                  </td><td> 42                  </td><td> 557                 </td><td>Rachael Harris       </td><td>  975                </td><td> 52691009            </td><td>...                  </td><td>0                    </td><td>0                    </td><td>0                    </td><td>USA                  </td><td> 21000000            </td><td> 56220639.75         </td><td> 22406734.22         </td><td> 33813905.52         </td><td> 46425301            </td><td>35071150             </td></tr>\n",
       "\t<tr><td>Zachary Gordon       </td><td>Rian Johnson         </td><td>Color                </td><td>182                  </td><td>114                  </td><td> NA                  </td><td> 446                 </td><td>Maximilian Schell    </td><td>  975                </td><td>  3519627            </td><td>...                  </td><td>0                    </td><td>0                    </td><td>0                    </td><td>USA                  </td><td> 20000000            </td><td>  3923482.60         </td><td> 22294877.28         </td><td>-18371394.68         </td><td> 34993971            </td><td>35071150             </td></tr>\n",
       "\t<tr><td>Zachary Knighton     </td><td>Michael Burke        </td><td>Color                </td><td> 17                  </td><td> 94                  </td><td>  3                  </td><td> 181                 </td><td>Tom Guiry            </td><td>  262                </td><td>       NA            </td><td>...                  </td><td>0                    </td><td>0                    </td><td>0                    </td><td>USA                  </td><td>   800000            </td><td>          NA         </td><td>  1043745.68         </td><td>          NA         </td><td>       NA            </td><td>      NA             </td></tr>\n",
       "\t<tr><td>Zack Ward            </td><td>Bob Clark            </td><td>Color                </td><td>109                  </td><td> 94                  </td><td> 84                  </td><td> 378                 </td><td>Darren McGavin       </td><td>  662                </td><td> 20605209            </td><td>...                  </td><td>0                    </td><td>0                    </td><td>0                    </td><td>CAN                  </td><td>  3245654            </td><td> 49652578.94         </td><td>  7821085.02         </td><td> 41831493.92         </td><td> 40589123            </td><td>      NA             </td></tr>\n",
       "\t<tr><td>Zack Ward            </td><td>Marco Kreuzpaintner  </td><td>Color                </td><td> 69                  </td><td>120                  </td><td>  7                  </td><td> 289                 </td><td>Kate del Castillo    </td><td>  662                </td><td>   214202            </td><td>...                  </td><td>1                    </td><td>0                    </td><td>0                    </td><td>USA                  </td><td> 12000000            </td><td>   247947.40         </td><td> 13890480.71         </td><td>-13642533.31         </td><td>   154609            </td><td>      NA             </td></tr>\n",
       "\t<tr><td>Zack Ward            </td><td>Michael Bay          </td><td>Color                </td><td>396                  </td><td>144                  </td><td> NA                  </td><td> 581                 </td><td>Michael O'Neill      </td><td>  662                </td><td>318759914            </td><td>...                  </td><td>0                    </td><td>0                    </td><td>0                    </td><td>USA                  </td><td>150000000            </td><td>368977369.66         </td><td>173631008.85         </td><td>195346360.81         </td><td>182953626            </td><td>      NA             </td></tr>\n",
       "\t<tr><td>Zack Ward            </td><td>Zack Ward            </td><td>Color                </td><td> 15                  </td><td> 92                  </td><td>662                  </td><td> 161                 </td><td>Anna Harr            </td><td>  662                </td><td>       NA            </td><td>...                  </td><td>0                    </td><td>0                    </td><td>0                    </td><td>USA                  </td><td>       NA            </td><td>          NA         </td><td>          NA         </td><td>          NA         </td><td>       NA            </td><td>      NA             </td></tr>\n",
       "\t<tr><td>Zak Penn             </td><td>Zak Penn             </td><td>Color                </td><td> 60                  </td><td> 94                  </td><td> 87                  </td><td>  37                 </td><td>Gabriel Beristain    </td><td>   87                </td><td>    36830            </td><td>...                  </td><td>0                    </td><td>0                    </td><td>0                    </td><td>USA                  </td><td>  1400000            </td><td>    46798.53         </td><td>  1778928.79         </td><td> -1732130.25         </td><td>    36830            </td><td>   36830             </td></tr>\n",
       "\t<tr><td>ZoÃ« Kravitz         </td><td>Analeine Cal y Mayor </td><td>Color                </td><td> 10                  </td><td> 92                  </td><td>  4                  </td><td> 140                 </td><td>Douglas Smith        </td><td>  943                </td><td>       NA            </td><td>...                  </td><td>0                    </td><td>0                    </td><td>0                    </td><td>USA                  </td><td>  4700000            </td><td>          NA         </td><td>  4842240.00         </td><td>          NA         </td><td>       NA            </td><td>      NA             </td></tr>\n",
       "\t<tr><td>ZoÃ« Kravitz         </td><td>Anna Boden           </td><td>Color                </td><td>163                  </td><td>101                  </td><td> 16                  </td><td> 472                 </td><td>Jeremy Davies        </td><td>  943                </td><td>  6350058            </td><td>...                  </td><td>0                    </td><td>0                    </td><td>0                    </td><td>USA                  </td><td>  8000000            </td><td>  6989318.34         </td><td>  8805360.00         </td><td> -1816041.66         </td><td>  6350058            </td><td>      NA             </td></tr>\n",
       "\t<tr><td>ZoÃ« Kravitz         </td><td>Scott Hicks          </td><td>Color                </td><td>171                  </td><td>104                  </td><td> 96                  </td><td> 559                 </td><td>Lily Rabe            </td><td>  943                </td><td> 43097652            </td><td>...                  </td><td>0                    </td><td>0                    </td><td>0                    </td><td>USA                  </td><td> 28000000            </td><td> 49887258.64         </td><td> 32411121.65         </td><td> 17476136.99         </td><td> 35583306            </td><td>      NA             </td></tr>\n",
       "\t<tr><td>Zoe Kazan            </td><td>Bradley Rust Gray    </td><td>Color                </td><td> 61                  </td><td> 79                  </td><td>  2                  </td><td>  20                 </td><td>Mark Rendall         </td><td>  962                </td><td>    24705            </td><td>...                  </td><td>0                    </td><td>0                    </td><td>0                    </td><td>USA                  </td><td>       NA            </td><td>    27638.01         </td><td>          NA         </td><td>          NA         </td><td>    24705            </td><td>  605831             </td></tr>\n",
       "\t<tr><td>Zoe Kazan            </td><td>Richard Linklater    </td><td>Color                </td><td>160                  </td><td>107                  </td><td> NA                  </td><td> 240                 </td><td>Aidan McArdle        </td><td>  962                </td><td>  1186957            </td><td>...                  </td><td>0                    </td><td>0                    </td><td>0                    </td><td>USA                  </td><td> 25000000            </td><td>  1323153.03         </td><td> 27868596.60         </td><td>-26545443.57         </td><td> 14664906            </td><td>  605831             </td></tr>\n",
       "\t<tr><td>Zoe Lister-Jones     </td><td>Daryl Wein           </td><td>Color                </td><td> 22                  </td><td> 88                  </td><td> 38                  </td><td> 211                 </td><td>Heather Burns        </td><td>  331                </td><td>    76382            </td><td>...                  </td><td>0                    </td><td>0                    </td><td>0                    </td><td>USA                  </td><td>    15000            </td><td>    85450.18         </td><td>    16780.82         </td><td>    68669.36         </td><td>    76382            </td><td>   76382             </td></tr>\n",
       "\t<tr><td>Zoe Ventoura         </td><td>Brian Trenchard-Smith</td><td>Color                </td><td> 30                  </td><td> 92                  </td><td> 53                  </td><td>  32                 </td><td>Damien Garvey        </td><td>   84                </td><td>        0            </td><td>...                  </td><td>0                    </td><td>0                    </td><td>0                    </td><td>USA                  </td><td> 12000000            </td><td>        0.00         </td><td> 12165807.44         </td><td>-12165807.44         </td><td>  1991791            </td><td>       0             </td></tr>\n",
       "\t<tr><td>Zooey Deschanel      </td><td>Adam Rapp            </td><td>Color                </td><td> 50                  </td><td> 98                  </td><td>  9                  </td><td> 405                 </td><td>Will Ferrell         </td><td>11000                </td><td>   101228            </td><td>...                  </td><td>0                    </td><td>0                    </td><td>0                    </td><td>USA                  </td><td>  3500000            </td><td>   124405.94         </td><td>  4301387.01         </td><td> -4176981.06         </td><td>   101228            </td><td>20204898             </td></tr>\n",
       "\t<tr><td>Zooey Deschanel      </td><td>Barry Sonnenfeld     </td><td>Color                </td><td> 87                  </td><td> 74                  </td><td>188                  </td><td> 865                 </td><td>Janeane Garofalo     </td><td>11000                </td><td>  7262288            </td><td>...                  </td><td>1                    </td><td>0                    </td><td>0                    </td><td>USA                  </td><td> 40000000            </td><td>  9690069.05         </td><td> 53371989.92         </td><td>-43681920.87         </td><td>132310602            </td><td>20204898             </td></tr>\n",
       "\t<tr><td>Zooey Deschanel      </td><td>David Gordon Green   </td><td>Color                </td><td> 88                  </td><td>108                  </td><td>234                  </td><td> 463                 </td><td>Paul Schneider       </td><td>11000                </td><td>   548712            </td><td>...                  </td><td>0                    </td><td>0                    </td><td>0                    </td><td>USA                  </td><td>  2500000            </td><td>   715894.72         </td><td>  3261705.24         </td><td> -2545810.52         </td><td> 18500107            </td><td>20204898             </td></tr>\n",
       "\t<tr><td>Zooey Deschanel      </td><td>Ed Decter            </td><td>Color                </td><td> 49                  </td><td> 92                  </td><td> 13                  </td><td> 301                 </td><td>Eddie Griffin        </td><td>11000                </td><td> 28972187            </td><td>...                  </td><td>0                    </td><td>0                    </td><td>0                    </td><td>USA                  </td><td> 13000000            </td><td> 38657581.81         </td><td> 17345896.72         </td><td> 21311685.09         </td><td> 28972187            </td><td>20204898             </td></tr>\n",
       "\t<tr><td>Zooey Deschanel      </td><td>Garth Jennings       </td><td>Color                </td><td>276                  </td><td>109                  </td><td> 37                  </td><td> 651                 </td><td>Kelly Macdonald      </td><td>11000                </td><td> 51019112            </td><td>...                  </td><td>0                    </td><td>0                    </td><td>0                    </td><td>USA                  </td><td> 50000000            </td><td> 62700841.55         </td><td> 61448385.80         </td><td>  1252455.75         </td><td> 51019112            </td><td>20204898             </td></tr>\n",
       "\t<tr><td>Zooey Deschanel      </td><td>Jesse Peretz         </td><td>Color                </td><td>179                  </td><td> 90                  </td><td> 37                  </td><td>1000                 </td><td>Adam Scott           </td><td>11000                </td><td> 24809547            </td><td>...                  </td><td>0                    </td><td>0                    </td><td>0                    </td><td>USA                  </td><td>  5000000            </td><td> 26471472.66         </td><td>  5334936.72         </td><td> 21136535.94         </td><td> 12425045            </td><td>20204898             </td></tr>\n",
       "\t<tr><td>Zooey Deschanel      </td><td>Lawrence Kasdan      </td><td>Black and White      </td><td> 65                  </td><td>112                  </td><td>759                  </td><td> 933                 </td><td>Alfre Woodard        </td><td>11000                </td><td>  4554569            </td><td>...                  </td><td>0                    </td><td>0                    </td><td>0                    </td><td>USA                  </td><td> 28000000            </td><td>  6562383.32         </td><td> 40343385.52         </td><td>-33781002.19         </td><td> 19457038            </td><td>20204898             </td></tr>\n",
       "\t<tr><td>Zooey Deschanel      </td><td>M. Night Shyamalan   </td><td>Color                </td><td>323                  </td><td> 91                  </td><td> NA                  </td><td> 751                 </td><td>Alan Ruck            </td><td>11000                </td><td> 64505912            </td><td>...                  </td><td>1                    </td><td>0                    </td><td>0                    </td><td>USA                  </td><td> 48000000            </td><td> 71907569.59         </td><td> 53507705.47         </td><td> 18399864.12         </td><td>121621863            </td><td>20204898             </td></tr>\n",
       "\t<tr><td>Zooey Deschanel      </td><td>Michael Clancy       </td><td>Color                </td><td> 27                  </td><td> 85                  </td><td> NA                  </td><td> 742                 </td><td>Rip Torn             </td><td>11000                </td><td>    70527            </td><td>...                  </td><td>0                    </td><td>0                    </td><td>0                    </td><td>USA                  </td><td>  6500000            </td><td>    89616.08         </td><td>  8259312.22         </td><td> -8169696.14         </td><td>    70527            </td><td>20204898             </td></tr>\n",
       "\t<tr><td>Zuhair Haddad        </td><td>Giovanni Zelko       </td><td>Color                </td><td>  5                  </td><td> 99                  </td><td>  4                  </td><td> 434                 </td><td>Harry Lennix         </td><td>18000                </td><td>       NA            </td><td>...                  </td><td>1                    </td><td>0                    </td><td>0                    </td><td>USA                  </td><td>  1300000            </td><td>          NA         </td><td>  1317962.47         </td><td>          NA         </td><td>       NA            </td><td>      NA             </td></tr>\n",
       "</tbody>\n",
       "</table>\n"
      ],
      "text/latex": [
       "\\begin{tabular}{r|lllllllllllllllllllllllllllllllllllllllllllllllllllllllllllll}\n",
       " actor\\_1\\_name & director\\_name & color & num\\_critic\\_for\\_reviews & duration & director\\_facebook\\_likes & actor\\_3\\_facebook\\_likes & actor\\_2\\_name & actor\\_1\\_facebook\\_likes & gross & ... & genres\\_Thriller & genres\\_War & genres\\_Western & currency & budget\\_us & gross\\_2016 & budget\\_2016 & profit & dir\\_mean\\_gross & act\\_1\\_mean\\_gross\\\\\n",
       "\\hline\n",
       "\t NA                  & Amal Al-Agroobi     & Color               &  NA                 &  62                 &  58                 &  NA                 & NA                  &   NA                &        NA           & ...                 & 0                   & 0                   & 0                   & USA                 &    125000           &            NA       &    128783.0         &           NA        &        NA           &          NA        \\\\\n",
       "\t NA                  & Andrew Berends      & Color               &  12                 &  90                 &  NA                 &  NA                 & NA                  &   NA                &        NA           & ...                 & 0                   & 1                   & 0                   & USA                 &    120000           &            NA       &    147476.1         &           NA        &        NA           &          NA        \\\\\n",
       "\t NA                  & Harry Gantz         & Color               &  12                 & 105                 &  NA                 &  NA                 & NA                  &   NA                &    247740           & ...                 & 0                   & 0                   & 0                   & USA                 &   1100000           &    330559.420       &   1467729.7         &  -1137170.30        &    247740           &          NA        \\\\\n",
       "\t NA                  & Jem Cohen           & Color               &  12                 & 111                 &   6                 &  NA                 & NA                  &   NA                &      8374           & ...                 & 0                   & 0                   & 0                   & USA                 &     50000           &      8479.646       &     50630.8         &    -42151.15        &      8374           &          NA        \\\\\n",
       "\t NA                  & LÃ©a Pool           & Color               &  23                 &  97                 &   4                 &  NA                 & NA                  &   NA                &     24784           & ...                 & 0                   & 0                   & 0                   & CAN                 &   1212695           &     26444.214       &   1293930.2         &  -1267486.00        &    817489           &          NA        \\\\\n",
       "\t NA                  & Pan Nalin           & Color               &  15                 & 102                 &  95                 &  NA                 & NA                  &   NA                &     16892           & ...                 & 0                   & 0                   & 0                   & USA                 &    300000           &     22896.465       &    406638.6         &   -383742.14        &        NA           &          NA        \\\\\n",
       "\t NA                  & U. Roberto Romano   & Color               &   3                 &  80                 &   6                 &  NA                 & NA                  &   NA                &      2245           & ...                 & 0                   & 0                   & 0                   & USA                 &    560000           &      2395.387       &    597512.9         &   -595117.53        &      2245           &          NA        \\\\\n",
       "\t 50 Cent             & Jim Sheridan        & Color               &  98                 & 117                 & 260                 & 441                 & Bill Duke           & 1000                &  30981850           & ...                 & 0                   & 0                   & 0                   & USA                 &  40000000           &  38075693.432       &  49158708.6         & -11083015.21        &  26922314           &  30981850.0        \\\\\n",
       "\t A.J. Buckley        & Peter Sohn          & Color               & 298                 &  93                 & 113                 & 113                 & Jack McGraw         &  275                & 123070338           & ...                 & 0                   & 0                   & 0                   & USA                 & 187500000           & 124622987.723       & 189865491.4         & -65242503.65        & 123070338           & 123070338.0        \\\\\n",
       "\t Ã“scar Jaenada      & Jaume Collet-Serra  & Color               & 186                 &  86                 & 174                 &   2                 & Brett Cullen        &  619                &  54257433           & ...                 & 1                   & 0                   & 0                   & USA                 &  17000000           &  54257433.000       &  17000000.0         &  37257433.00        &  51142756           &  54257433.0        \\\\\n",
       "\t Ãlex Angulo        & Mikel Rueda         & Color               &   9                 &  96                 &  NA                 &   0                 & GermÃ¡n Alcarazu    &   90                &         0           & ...                 & 0                   & 0                   & 0                   & USA                 &   1000000           &         0.000       &   1013817.3         &  -1013817.29        &         0           &         0.0        \\\\\n",
       "\t Aaliyah             & Michael Rymer       & Color               & 137                 & 101                 &  48                 & 531                 & Lena Olin           &  775                &  30307804           & ...                 & 0                   & 0                   & 0                   & USA                 &  35000000           &  40439695.240       &  46700491.2         &  -6260795.94        &  22155473           &  30307804.0        \\\\\n",
       "\t Aasif Mandvi        & David Koepp         & Color               & 210                 & 102                 & 192                 &  31                 & Dequina Moore       &  346                &  13214030           & ...                 & 0                   & 0                   & 0                   & USA                 &  20000000           &  14730258.861       &  22294877.3         &  -7564618.42        &  22001924           &  13214030.0        \\\\\n",
       "\t Abbie Cornish       & Jane Campion        & Color               & 222                 & 119                 & 319                 & 179                 & Paul Schneider      & 2000                &   4440055           & ...                 & 0                   & 0                   & 0                   & USA                 &   8500000           &   4967184.839       &   9509132.5         &  -4541947.62        &  16438503           &  25034383.0        \\\\\n",
       "\t Abbie Cornish       & Martin McDonagh     & Color               & 401                 & 110                 & 454                 & 816                 & Gabourey Sidibe     & 2000                &  14989761           & ...                 & 0                   & 0                   & 0                   & USA                 &  15000000           &  15669622.180       &  15680325.6         &    -10703.39        &  11373446           &  25034383.0        \\\\\n",
       "\t Abbie Cornish       & Zack Snyder         & Color               & 188                 & 101                 &  NA                 & 577                 & Richard Roxburgh    & 2000                &  55673333           & ...                 & 0                   & 0                   & 0                   & USA                 &  80000000           &  61277967.433       &  88053600.0         & -26775632.57        & 155758174           &  25034383.0        \\\\\n",
       "\t Abhishek Bachchan   & Arjun Sablok        & Color               &   5                 &  97                 &  NA                 &  40                 & Uday Chopra         &  374                &    100358           & ...                 & 0                   & 0                   & 0                   & CAN                 &   1237865           &    123336.742       &   1521296.1         &  -1397959.38        &    100358           &    332028.5        \\\\\n",
       "\t Abhishek Bachchan   & Rohan Sippy         & Color               &  24                 & 128                 &   4                 &  47                 & Bipasha Basu        &  374                &    563699           & ...                 & 1                   & 0                   & 0                   & USA                 &   5200000           &    601459.699       &   5548334.2         &  -4946874.49        &    563699           &    332028.5        \\\\\n",
       "\t Abigail Evans       & Cary Bell           & Color               &  NA                 &  78                 &  NA                 &   0                 & Stacie Evans        &    0                &        NA           & ...                 & 0                   & 0                   & 0                   & USA                 &    180000           &            NA       &    182487.1         &           NA        &        NA           &          NA        \\\\\n",
       "\t Abigail Spencer     & Tom Elkins          & Color               &  79                 & 101                 &  14                 & 559                 & Cicely Tyson        & 1000                &        NA           & ...                 & 1                   & 0                   & 0                   & USA                 &   9000000           &            NA       &   9272374.5         &           NA        &        NA           &          NA        \\\\\n",
       "\t Adam Arkin          & Diane Keaton        & Color               &  82                 &  94                 &  NA                 & 235                 & Celia Weston        &  374                &  36037909           & ...                 & 0                   & 0                   & 0                   & USA                 &  60000000           &  50228547.093       &  83626184.5         & -33397637.37        &  36037909           &  36037909.0        \\\\\n",
       "\t Adam Baldwin        & Joss Whedon         & Color               & 276                 & 119                 &  NA                 & 279                 & Sean Maher          & 2000                &  25335935           & ...                 & 1                   & 0                   & 0                   & USA                 &  40000000           &  31137046.170       &  49158708.6         & -18021662.47        & 369202360           &  28864331.2        \\\\\n",
       "\t Adam Baldwin        & Richard Donner      & Color               &  10                 & 114                 & 503                 & 697                 & Thomas Ian Nicholas & 2000                &   4651977           & ...                 & 0                   & 0                   & 0                   & USA                 &  35000000           &   7957057.218       &  59866375.7         & -51909318.44        &  63944347           &  28864331.2        \\\\\n",
       "\t Adam Baldwin        & Robert Redford      & Color               &  62                 & 124                 &  NA                 & 535                 & Elizabeth McGovern  & 2000                &  54800000           & ...                 & 0                   & 0                   & 0                   & USA                 &   6000000           & 159600247.360       &  17474479.6         & 142125767.72        &  37480453           &  28864331.2        \\\\\n",
       "\t Adam Baldwin        & Stephen Hopkins     & Color               & 119                 & 103                 &  81                 & 636                 & Robert Davi         & 2000                &  30669413           & ...                 & 0                   & 0                   & 0                   & USA                 &  35000000           &  56336845.808       &  64291729.5         &  -7954883.65        &  34118335           &  28864331.2        \\\\\n",
       "\t Adam Garcia         & David McNally       & Color               & 155                 & 107                 &  18                 & 560                 & Tyra Banks          &  811                &  60786269           & ...                 & 0                   & 0                   & 0                   & USA                 &  45000000           &  84722062.400       &  62719638.3         &  22002424.06        &  63760631           &  30034810.7        \\\\\n",
       "\t Adam Garcia         & Klaus Menzel        & Color               &  13                 & 103                 &  34                 & 227                 & Jacqueline Bisset   &  811                &     16066           & ...                 & 1                   & 0                   & 0                   & USA                 &   5000000           &     20414.478       &   6353317.1         &  -6332902.61        &     16066           &  30034810.7        \\\\\n",
       "\t Adam Garcia         & Sara Sugarman       & Color               &  74                 &  89                 &  10                 & 231                 & Carol Kane          &  811                &  29302097           & ...                 & 0                   & 0                   & 0                   & USA                 &  15000000           &  37233102.729       &  19059951.3         &  18173151.46        &  29302097           &  30034810.7        \\\\\n",
       "\t Adam Goldberg       & Bibo Bergeron       & Color               &  63                 &  90                 &  10                 & 541                 & Bob Balaban         & 1000                &        NA           & ...                 & 0                   & 0                   & 0                   & EU28                &  34753355           &            NA       &  37081389.9         &           NA        &        NA           &          NA        \\\\\n",
       "\t Adam Goldberg       & D.J. Caruso         & Color               &  79                 & 103                 & 154                 & 576                 & Meat Loaf           & 1000                &    676698           & ...                 & 1                   & 0                   & 0                   & USA                 &  18000000           &    902917.971       &  24017395.5         & -23114477.49        &  59232884           &          NA        \\\\\n",
       "\t ... & ... & ... & ... & ... & ... & ... & ... & ... & ... &     & ... & ... & ... & ... & ... & ... & ... & ... & ... & ...\\\\\n",
       "\t Yuliya Snigir         & Fedor Bondarchuk      & Color                 &  14                   & 115                   &  35                   &   30                  & Fedor Bondarchuk      &   463                 &         0             & ...                   & 0                     & 0                     & 0                     & USA                   &  29500000             &         0.00          &  33002283.25          & -33002283.25          &         0             &        0             \\\\\n",
       "\t Yuri Lowenthal        & Mike Nawrocki         & Color                 &  37                   &  85                   &  12                   &   23                  & Cam Clarke            &   354                 &  12701880             & ...                   & 0                     & 0                     & 0                     & USA                   &  15000000             &  14159342.79          &  16721157.96          &  -2561815.17          &  19136616             & 12701880             \\\\\n",
       "\t Zach Gilford          & Jee-woon Kim          & Color                 & 376                   & 107                   & 419                   &  165                  & James Burnett         &   971                 &  12026670             & ...                   & 1                     & 0                     & 0                     & USA                   &  45000000             &  12390643.10          &  46361872.35          & -33971229.25          &   6077578             & 13922819             \\\\\n",
       "\t Zach Gilford          & Matt Bettinelli-Olpin & Color                 & 137                   &  89                   &  14                   &  270                  & Allison Miller        &   971                 &  15818967             & ...                   & 0                     & 0                     & 0                     & USA                   &   7000000             &  16037542.21          &   7096721.01          &   8940821.20          &  15818967             & 13922819             \\\\\n",
       "\t Zachary Gordon        & David Bowers          & Color                 &  88                   &  94                   &  42                   &  517                  & Rachael Harris        &   975                 &  49002815             & ...                   & 0                     & 0                     & 0                     & USA                   &  22000000             &  51225339.54          &  22997810.84          &  28227528.70          &  46425301             & 35071150             \\\\\n",
       "\t Zachary Gordon        & David Bowers          & Color                 & 103                   &  99                   &  42                   &  557                  & Rachael Harris        &   975                 &  52691009             & ...                   & 0                     & 0                     & 0                     & USA                   &  21000000             &  56220639.75          &  22406734.22          &  33813905.52          &  46425301             & 35071150             \\\\\n",
       "\t Zachary Gordon        & Rian Johnson          & Color                 & 182                   & 114                   &  NA                   &  446                  & Maximilian Schell     &   975                 &   3519627             & ...                   & 0                     & 0                     & 0                     & USA                   &  20000000             &   3923482.60          &  22294877.28          & -18371394.68          &  34993971             & 35071150             \\\\\n",
       "\t Zachary Knighton      & Michael Burke         & Color                 &  17                   &  94                   &   3                   &  181                  & Tom Guiry             &   262                 &        NA             & ...                   & 0                     & 0                     & 0                     & USA                   &    800000             &           NA          &   1043745.68          &           NA          &        NA             &       NA             \\\\\n",
       "\t Zack Ward             & Bob Clark             & Color                 & 109                   &  94                   &  84                   &  378                  & Darren McGavin        &   662                 &  20605209             & ...                   & 0                     & 0                     & 0                     & CAN                   &   3245654             &  49652578.94          &   7821085.02          &  41831493.92          &  40589123             &       NA             \\\\\n",
       "\t Zack Ward             & Marco Kreuzpaintner   & Color                 &  69                   & 120                   &   7                   &  289                  & Kate del Castillo     &   662                 &    214202             & ...                   & 1                     & 0                     & 0                     & USA                   &  12000000             &    247947.40          &  13890480.71          & -13642533.31          &    154609             &       NA             \\\\\n",
       "\t Zack Ward             & Michael Bay           & Color                 & 396                   & 144                   &  NA                   &  581                  & Michael O'Neill       &   662                 & 318759914             & ...                   & 0                     & 0                     & 0                     & USA                   & 150000000             & 368977369.66          & 173631008.85          & 195346360.81          & 182953626             &       NA             \\\\\n",
       "\t Zack Ward             & Zack Ward             & Color                 &  15                   &  92                   & 662                   &  161                  & Anna Harr             &   662                 &        NA             & ...                   & 0                     & 0                     & 0                     & USA                   &        NA             &           NA          &           NA          &           NA          &        NA             &       NA             \\\\\n",
       "\t Zak Penn              & Zak Penn              & Color                 &  60                   &  94                   &  87                   &   37                  & Gabriel Beristain     &    87                 &     36830             & ...                   & 0                     & 0                     & 0                     & USA                   &   1400000             &     46798.53          &   1778928.79          &  -1732130.25          &     36830             &    36830             \\\\\n",
       "\t ZoÃ« Kravitz          & Analeine Cal y Mayor  & Color                 &  10                   &  92                   &   4                   &  140                  & Douglas Smith         &   943                 &        NA             & ...                   & 0                     & 0                     & 0                     & USA                   &   4700000             &           NA          &   4842240.00          &           NA          &        NA             &       NA             \\\\\n",
       "\t ZoÃ« Kravitz          & Anna Boden            & Color                 & 163                   & 101                   &  16                   &  472                  & Jeremy Davies         &   943                 &   6350058             & ...                   & 0                     & 0                     & 0                     & USA                   &   8000000             &   6989318.34          &   8805360.00          &  -1816041.66          &   6350058             &       NA             \\\\\n",
       "\t ZoÃ« Kravitz          & Scott Hicks           & Color                 & 171                   & 104                   &  96                   &  559                  & Lily Rabe             &   943                 &  43097652             & ...                   & 0                     & 0                     & 0                     & USA                   &  28000000             &  49887258.64          &  32411121.65          &  17476136.99          &  35583306             &       NA             \\\\\n",
       "\t Zoe Kazan             & Bradley Rust Gray     & Color                 &  61                   &  79                   &   2                   &   20                  & Mark Rendall          &   962                 &     24705             & ...                   & 0                     & 0                     & 0                     & USA                   &        NA             &     27638.01          &           NA          &           NA          &     24705             &   605831             \\\\\n",
       "\t Zoe Kazan             & Richard Linklater     & Color                 & 160                   & 107                   &  NA                   &  240                  & Aidan McArdle         &   962                 &   1186957             & ...                   & 0                     & 0                     & 0                     & USA                   &  25000000             &   1323153.03          &  27868596.60          & -26545443.57          &  14664906             &   605831             \\\\\n",
       "\t Zoe Lister-Jones      & Daryl Wein            & Color                 &  22                   &  88                   &  38                   &  211                  & Heather Burns         &   331                 &     76382             & ...                   & 0                     & 0                     & 0                     & USA                   &     15000             &     85450.18          &     16780.82          &     68669.36          &     76382             &    76382             \\\\\n",
       "\t Zoe Ventoura          & Brian Trenchard-Smith & Color                 &  30                   &  92                   &  53                   &   32                  & Damien Garvey         &    84                 &         0             & ...                   & 0                     & 0                     & 0                     & USA                   &  12000000             &         0.00          &  12165807.44          & -12165807.44          &   1991791             &        0             \\\\\n",
       "\t Zooey Deschanel       & Adam Rapp             & Color                 &  50                   &  98                   &   9                   &  405                  & Will Ferrell          & 11000                 &    101228             & ...                   & 0                     & 0                     & 0                     & USA                   &   3500000             &    124405.94          &   4301387.01          &  -4176981.06          &    101228             & 20204898             \\\\\n",
       "\t Zooey Deschanel       & Barry Sonnenfeld      & Color                 &  87                   &  74                   & 188                   &  865                  & Janeane Garofalo      & 11000                 &   7262288             & ...                   & 1                     & 0                     & 0                     & USA                   &  40000000             &   9690069.05          &  53371989.92          & -43681920.87          & 132310602             & 20204898             \\\\\n",
       "\t Zooey Deschanel       & David Gordon Green    & Color                 &  88                   & 108                   & 234                   &  463                  & Paul Schneider        & 11000                 &    548712             & ...                   & 0                     & 0                     & 0                     & USA                   &   2500000             &    715894.72          &   3261705.24          &  -2545810.52          &  18500107             & 20204898             \\\\\n",
       "\t Zooey Deschanel       & Ed Decter             & Color                 &  49                   &  92                   &  13                   &  301                  & Eddie Griffin         & 11000                 &  28972187             & ...                   & 0                     & 0                     & 0                     & USA                   &  13000000             &  38657581.81          &  17345896.72          &  21311685.09          &  28972187             & 20204898             \\\\\n",
       "\t Zooey Deschanel       & Garth Jennings        & Color                 & 276                   & 109                   &  37                   &  651                  & Kelly Macdonald       & 11000                 &  51019112             & ...                   & 0                     & 0                     & 0                     & USA                   &  50000000             &  62700841.55          &  61448385.80          &   1252455.75          &  51019112             & 20204898             \\\\\n",
       "\t Zooey Deschanel       & Jesse Peretz          & Color                 & 179                   &  90                   &  37                   & 1000                  & Adam Scott            & 11000                 &  24809547             & ...                   & 0                     & 0                     & 0                     & USA                   &   5000000             &  26471472.66          &   5334936.72          &  21136535.94          &  12425045             & 20204898             \\\\\n",
       "\t Zooey Deschanel       & Lawrence Kasdan       & Black and White       &  65                   & 112                   & 759                   &  933                  & Alfre Woodard         & 11000                 &   4554569             & ...                   & 0                     & 0                     & 0                     & USA                   &  28000000             &   6562383.32          &  40343385.52          & -33781002.19          &  19457038             & 20204898             \\\\\n",
       "\t Zooey Deschanel       & M. Night Shyamalan    & Color                 & 323                   &  91                   &  NA                   &  751                  & Alan Ruck             & 11000                 &  64505912             & ...                   & 1                     & 0                     & 0                     & USA                   &  48000000             &  71907569.59          &  53507705.47          &  18399864.12          & 121621863             & 20204898             \\\\\n",
       "\t Zooey Deschanel       & Michael Clancy        & Color                 &  27                   &  85                   &  NA                   &  742                  & Rip Torn              & 11000                 &     70527             & ...                   & 0                     & 0                     & 0                     & USA                   &   6500000             &     89616.08          &   8259312.22          &  -8169696.14          &     70527             & 20204898             \\\\\n",
       "\t Zuhair Haddad         & Giovanni Zelko        & Color                 &   5                   &  99                   &   4                   &  434                  & Harry Lennix          & 18000                 &        NA             & ...                   & 1                     & 0                     & 0                     & USA                   &   1300000             &           NA          &   1317962.47          &           NA          &        NA             &       NA             \\\\\n",
       "\\end{tabular}\n"
      ],
      "text/markdown": [
       "\n",
       "actor_1_name | director_name | color | num_critic_for_reviews | duration | director_facebook_likes | actor_3_facebook_likes | actor_2_name | actor_1_facebook_likes | gross | ... | genres_Thriller | genres_War | genres_Western | currency | budget_us | gross_2016 | budget_2016 | profit | dir_mean_gross | act_1_mean_gross | \n",
       "|---|---|---|---|---|---|---|---|---|---|---|---|---|---|---|---|---|---|---|---|---|---|---|---|---|---|---|---|---|---|---|---|---|---|---|---|---|---|---|---|---|---|---|---|---|---|---|---|---|---|---|---|---|---|---|---|---|---|---|---|---|\n",
       "| NA                  | Amal Al-Agroobi     | Color               |  NA                 |  62                 |  58                 |  NA                 | NA                  |   NA                |        NA           | ...                 | 0                   | 0                   | 0                   | USA                 |    125000           |            NA       |    128783.0         |           NA        |        NA           |          NA         | \n",
       "| NA                  | Andrew Berends      | Color               |  12                 |  90                 |  NA                 |  NA                 | NA                  |   NA                |        NA           | ...                 | 0                   | 1                   | 0                   | USA                 |    120000           |            NA       |    147476.1         |           NA        |        NA           |          NA         | \n",
       "| NA                  | Harry Gantz         | Color               |  12                 | 105                 |  NA                 |  NA                 | NA                  |   NA                |    247740           | ...                 | 0                   | 0                   | 0                   | USA                 |   1100000           |    330559.420       |   1467729.7         |  -1137170.30        |    247740           |          NA         | \n",
       "| NA                  | Jem Cohen           | Color               |  12                 | 111                 |   6                 |  NA                 | NA                  |   NA                |      8374           | ...                 | 0                   | 0                   | 0                   | USA                 |     50000           |      8479.646       |     50630.8         |    -42151.15        |      8374           |          NA         | \n",
       "| NA                  | LÃ©a Pool           | Color               |  23                 |  97                 |   4                 |  NA                 | NA                  |   NA                |     24784           | ...                 | 0                   | 0                   | 0                   | CAN                 |   1212695           |     26444.214       |   1293930.2         |  -1267486.00        |    817489           |          NA         | \n",
       "| NA                  | Pan Nalin           | Color               |  15                 | 102                 |  95                 |  NA                 | NA                  |   NA                |     16892           | ...                 | 0                   | 0                   | 0                   | USA                 |    300000           |     22896.465       |    406638.6         |   -383742.14        |        NA           |          NA         | \n",
       "| NA                  | U. Roberto Romano   | Color               |   3                 |  80                 |   6                 |  NA                 | NA                  |   NA                |      2245           | ...                 | 0                   | 0                   | 0                   | USA                 |    560000           |      2395.387       |    597512.9         |   -595117.53        |      2245           |          NA         | \n",
       "| 50 Cent             | Jim Sheridan        | Color               |  98                 | 117                 | 260                 | 441                 | Bill Duke           | 1000                |  30981850           | ...                 | 0                   | 0                   | 0                   | USA                 |  40000000           |  38075693.432       |  49158708.6         | -11083015.21        |  26922314           |  30981850.0         | \n",
       "| A.J. Buckley        | Peter Sohn          | Color               | 298                 |  93                 | 113                 | 113                 | Jack McGraw         |  275                | 123070338           | ...                 | 0                   | 0                   | 0                   | USA                 | 187500000           | 124622987.723       | 189865491.4         | -65242503.65        | 123070338           | 123070338.0         | \n",
       "| Ã“scar Jaenada      | Jaume Collet-Serra  | Color               | 186                 |  86                 | 174                 |   2                 | Brett Cullen        |  619                |  54257433           | ...                 | 1                   | 0                   | 0                   | USA                 |  17000000           |  54257433.000       |  17000000.0         |  37257433.00        |  51142756           |  54257433.0         | \n",
       "| Ãlex Angulo        | Mikel Rueda         | Color               |   9                 |  96                 |  NA                 |   0                 | GermÃ¡n Alcarazu    |   90                |         0           | ...                 | 0                   | 0                   | 0                   | USA                 |   1000000           |         0.000       |   1013817.3         |  -1013817.29        |         0           |         0.0         | \n",
       "| Aaliyah             | Michael Rymer       | Color               | 137                 | 101                 |  48                 | 531                 | Lena Olin           |  775                |  30307804           | ...                 | 0                   | 0                   | 0                   | USA                 |  35000000           |  40439695.240       |  46700491.2         |  -6260795.94        |  22155473           |  30307804.0         | \n",
       "| Aasif Mandvi        | David Koepp         | Color               | 210                 | 102                 | 192                 |  31                 | Dequina Moore       |  346                |  13214030           | ...                 | 0                   | 0                   | 0                   | USA                 |  20000000           |  14730258.861       |  22294877.3         |  -7564618.42        |  22001924           |  13214030.0         | \n",
       "| Abbie Cornish       | Jane Campion        | Color               | 222                 | 119                 | 319                 | 179                 | Paul Schneider      | 2000                |   4440055           | ...                 | 0                   | 0                   | 0                   | USA                 |   8500000           |   4967184.839       |   9509132.5         |  -4541947.62        |  16438503           |  25034383.0         | \n",
       "| Abbie Cornish       | Martin McDonagh     | Color               | 401                 | 110                 | 454                 | 816                 | Gabourey Sidibe     | 2000                |  14989761           | ...                 | 0                   | 0                   | 0                   | USA                 |  15000000           |  15669622.180       |  15680325.6         |    -10703.39        |  11373446           |  25034383.0         | \n",
       "| Abbie Cornish       | Zack Snyder         | Color               | 188                 | 101                 |  NA                 | 577                 | Richard Roxburgh    | 2000                |  55673333           | ...                 | 0                   | 0                   | 0                   | USA                 |  80000000           |  61277967.433       |  88053600.0         | -26775632.57        | 155758174           |  25034383.0         | \n",
       "| Abhishek Bachchan   | Arjun Sablok        | Color               |   5                 |  97                 |  NA                 |  40                 | Uday Chopra         |  374                |    100358           | ...                 | 0                   | 0                   | 0                   | CAN                 |   1237865           |    123336.742       |   1521296.1         |  -1397959.38        |    100358           |    332028.5         | \n",
       "| Abhishek Bachchan   | Rohan Sippy         | Color               |  24                 | 128                 |   4                 |  47                 | Bipasha Basu        |  374                |    563699           | ...                 | 1                   | 0                   | 0                   | USA                 |   5200000           |    601459.699       |   5548334.2         |  -4946874.49        |    563699           |    332028.5         | \n",
       "| Abigail Evans       | Cary Bell           | Color               |  NA                 |  78                 |  NA                 |   0                 | Stacie Evans        |    0                |        NA           | ...                 | 0                   | 0                   | 0                   | USA                 |    180000           |            NA       |    182487.1         |           NA        |        NA           |          NA         | \n",
       "| Abigail Spencer     | Tom Elkins          | Color               |  79                 | 101                 |  14                 | 559                 | Cicely Tyson        | 1000                |        NA           | ...                 | 1                   | 0                   | 0                   | USA                 |   9000000           |            NA       |   9272374.5         |           NA        |        NA           |          NA         | \n",
       "| Adam Arkin          | Diane Keaton        | Color               |  82                 |  94                 |  NA                 | 235                 | Celia Weston        |  374                |  36037909           | ...                 | 0                   | 0                   | 0                   | USA                 |  60000000           |  50228547.093       |  83626184.5         | -33397637.37        |  36037909           |  36037909.0         | \n",
       "| Adam Baldwin        | Joss Whedon         | Color               | 276                 | 119                 |  NA                 | 279                 | Sean Maher          | 2000                |  25335935           | ...                 | 1                   | 0                   | 0                   | USA                 |  40000000           |  31137046.170       |  49158708.6         | -18021662.47        | 369202360           |  28864331.2         | \n",
       "| Adam Baldwin        | Richard Donner      | Color               |  10                 | 114                 | 503                 | 697                 | Thomas Ian Nicholas | 2000                |   4651977           | ...                 | 0                   | 0                   | 0                   | USA                 |  35000000           |   7957057.218       |  59866375.7         | -51909318.44        |  63944347           |  28864331.2         | \n",
       "| Adam Baldwin        | Robert Redford      | Color               |  62                 | 124                 |  NA                 | 535                 | Elizabeth McGovern  | 2000                |  54800000           | ...                 | 0                   | 0                   | 0                   | USA                 |   6000000           | 159600247.360       |  17474479.6         | 142125767.72        |  37480453           |  28864331.2         | \n",
       "| Adam Baldwin        | Stephen Hopkins     | Color               | 119                 | 103                 |  81                 | 636                 | Robert Davi         | 2000                |  30669413           | ...                 | 0                   | 0                   | 0                   | USA                 |  35000000           |  56336845.808       |  64291729.5         |  -7954883.65        |  34118335           |  28864331.2         | \n",
       "| Adam Garcia         | David McNally       | Color               | 155                 | 107                 |  18                 | 560                 | Tyra Banks          |  811                |  60786269           | ...                 | 0                   | 0                   | 0                   | USA                 |  45000000           |  84722062.400       |  62719638.3         |  22002424.06        |  63760631           |  30034810.7         | \n",
       "| Adam Garcia         | Klaus Menzel        | Color               |  13                 | 103                 |  34                 | 227                 | Jacqueline Bisset   |  811                |     16066           | ...                 | 1                   | 0                   | 0                   | USA                 |   5000000           |     20414.478       |   6353317.1         |  -6332902.61        |     16066           |  30034810.7         | \n",
       "| Adam Garcia         | Sara Sugarman       | Color               |  74                 |  89                 |  10                 | 231                 | Carol Kane          |  811                |  29302097           | ...                 | 0                   | 0                   | 0                   | USA                 |  15000000           |  37233102.729       |  19059951.3         |  18173151.46        |  29302097           |  30034810.7         | \n",
       "| Adam Goldberg       | Bibo Bergeron       | Color               |  63                 |  90                 |  10                 | 541                 | Bob Balaban         | 1000                |        NA           | ...                 | 0                   | 0                   | 0                   | EU28                |  34753355           |            NA       |  37081389.9         |           NA        |        NA           |          NA         | \n",
       "| Adam Goldberg       | D.J. Caruso         | Color               |  79                 | 103                 | 154                 | 576                 | Meat Loaf           | 1000                |    676698           | ...                 | 1                   | 0                   | 0                   | USA                 |  18000000           |    902917.971       |  24017395.5         | -23114477.49        |  59232884           |          NA         | \n",
       "| ... | ... | ... | ... | ... | ... | ... | ... | ... | ... |     | ... | ... | ... | ... | ... | ... | ... | ... | ... | ... | \n",
       "| Yuliya Snigir         | Fedor Bondarchuk      | Color                 |  14                   | 115                   |  35                   |   30                  | Fedor Bondarchuk      |   463                 |         0             | ...                   | 0                     | 0                     | 0                     | USA                   |  29500000             |         0.00          |  33002283.25          | -33002283.25          |         0             |        0              | \n",
       "| Yuri Lowenthal        | Mike Nawrocki         | Color                 |  37                   |  85                   |  12                   |   23                  | Cam Clarke            |   354                 |  12701880             | ...                   | 0                     | 0                     | 0                     | USA                   |  15000000             |  14159342.79          |  16721157.96          |  -2561815.17          |  19136616             | 12701880              | \n",
       "| Zach Gilford          | Jee-woon Kim          | Color                 | 376                   | 107                   | 419                   |  165                  | James Burnett         |   971                 |  12026670             | ...                   | 1                     | 0                     | 0                     | USA                   |  45000000             |  12390643.10          |  46361872.35          | -33971229.25          |   6077578             | 13922819              | \n",
       "| Zach Gilford          | Matt Bettinelli-Olpin | Color                 | 137                   |  89                   |  14                   |  270                  | Allison Miller        |   971                 |  15818967             | ...                   | 0                     | 0                     | 0                     | USA                   |   7000000             |  16037542.21          |   7096721.01          |   8940821.20          |  15818967             | 13922819              | \n",
       "| Zachary Gordon        | David Bowers          | Color                 |  88                   |  94                   |  42                   |  517                  | Rachael Harris        |   975                 |  49002815             | ...                   | 0                     | 0                     | 0                     | USA                   |  22000000             |  51225339.54          |  22997810.84          |  28227528.70          |  46425301             | 35071150              | \n",
       "| Zachary Gordon        | David Bowers          | Color                 | 103                   |  99                   |  42                   |  557                  | Rachael Harris        |   975                 |  52691009             | ...                   | 0                     | 0                     | 0                     | USA                   |  21000000             |  56220639.75          |  22406734.22          |  33813905.52          |  46425301             | 35071150              | \n",
       "| Zachary Gordon        | Rian Johnson          | Color                 | 182                   | 114                   |  NA                   |  446                  | Maximilian Schell     |   975                 |   3519627             | ...                   | 0                     | 0                     | 0                     | USA                   |  20000000             |   3923482.60          |  22294877.28          | -18371394.68          |  34993971             | 35071150              | \n",
       "| Zachary Knighton      | Michael Burke         | Color                 |  17                   |  94                   |   3                   |  181                  | Tom Guiry             |   262                 |        NA             | ...                   | 0                     | 0                     | 0                     | USA                   |    800000             |           NA          |   1043745.68          |           NA          |        NA             |       NA              | \n",
       "| Zack Ward             | Bob Clark             | Color                 | 109                   |  94                   |  84                   |  378                  | Darren McGavin        |   662                 |  20605209             | ...                   | 0                     | 0                     | 0                     | CAN                   |   3245654             |  49652578.94          |   7821085.02          |  41831493.92          |  40589123             |       NA              | \n",
       "| Zack Ward             | Marco Kreuzpaintner   | Color                 |  69                   | 120                   |   7                   |  289                  | Kate del Castillo     |   662                 |    214202             | ...                   | 1                     | 0                     | 0                     | USA                   |  12000000             |    247947.40          |  13890480.71          | -13642533.31          |    154609             |       NA              | \n",
       "| Zack Ward             | Michael Bay           | Color                 | 396                   | 144                   |  NA                   |  581                  | Michael O'Neill       |   662                 | 318759914             | ...                   | 0                     | 0                     | 0                     | USA                   | 150000000             | 368977369.66          | 173631008.85          | 195346360.81          | 182953626             |       NA              | \n",
       "| Zack Ward             | Zack Ward             | Color                 |  15                   |  92                   | 662                   |  161                  | Anna Harr             |   662                 |        NA             | ...                   | 0                     | 0                     | 0                     | USA                   |        NA             |           NA          |           NA          |           NA          |        NA             |       NA              | \n",
       "| Zak Penn              | Zak Penn              | Color                 |  60                   |  94                   |  87                   |   37                  | Gabriel Beristain     |    87                 |     36830             | ...                   | 0                     | 0                     | 0                     | USA                   |   1400000             |     46798.53          |   1778928.79          |  -1732130.25          |     36830             |    36830              | \n",
       "| ZoÃ« Kravitz          | Analeine Cal y Mayor  | Color                 |  10                   |  92                   |   4                   |  140                  | Douglas Smith         |   943                 |        NA             | ...                   | 0                     | 0                     | 0                     | USA                   |   4700000             |           NA          |   4842240.00          |           NA          |        NA             |       NA              | \n",
       "| ZoÃ« Kravitz          | Anna Boden            | Color                 | 163                   | 101                   |  16                   |  472                  | Jeremy Davies         |   943                 |   6350058             | ...                   | 0                     | 0                     | 0                     | USA                   |   8000000             |   6989318.34          |   8805360.00          |  -1816041.66          |   6350058             |       NA              | \n",
       "| ZoÃ« Kravitz          | Scott Hicks           | Color                 | 171                   | 104                   |  96                   |  559                  | Lily Rabe             |   943                 |  43097652             | ...                   | 0                     | 0                     | 0                     | USA                   |  28000000             |  49887258.64          |  32411121.65          |  17476136.99          |  35583306             |       NA              | \n",
       "| Zoe Kazan             | Bradley Rust Gray     | Color                 |  61                   |  79                   |   2                   |   20                  | Mark Rendall          |   962                 |     24705             | ...                   | 0                     | 0                     | 0                     | USA                   |        NA             |     27638.01          |           NA          |           NA          |     24705             |   605831              | \n",
       "| Zoe Kazan             | Richard Linklater     | Color                 | 160                   | 107                   |  NA                   |  240                  | Aidan McArdle         |   962                 |   1186957             | ...                   | 0                     | 0                     | 0                     | USA                   |  25000000             |   1323153.03          |  27868596.60          | -26545443.57          |  14664906             |   605831              | \n",
       "| Zoe Lister-Jones      | Daryl Wein            | Color                 |  22                   |  88                   |  38                   |  211                  | Heather Burns         |   331                 |     76382             | ...                   | 0                     | 0                     | 0                     | USA                   |     15000             |     85450.18          |     16780.82          |     68669.36          |     76382             |    76382              | \n",
       "| Zoe Ventoura          | Brian Trenchard-Smith | Color                 |  30                   |  92                   |  53                   |   32                  | Damien Garvey         |    84                 |         0             | ...                   | 0                     | 0                     | 0                     | USA                   |  12000000             |         0.00          |  12165807.44          | -12165807.44          |   1991791             |        0              | \n",
       "| Zooey Deschanel       | Adam Rapp             | Color                 |  50                   |  98                   |   9                   |  405                  | Will Ferrell          | 11000                 |    101228             | ...                   | 0                     | 0                     | 0                     | USA                   |   3500000             |    124405.94          |   4301387.01          |  -4176981.06          |    101228             | 20204898              | \n",
       "| Zooey Deschanel       | Barry Sonnenfeld      | Color                 |  87                   |  74                   | 188                   |  865                  | Janeane Garofalo      | 11000                 |   7262288             | ...                   | 1                     | 0                     | 0                     | USA                   |  40000000             |   9690069.05          |  53371989.92          | -43681920.87          | 132310602             | 20204898              | \n",
       "| Zooey Deschanel       | David Gordon Green    | Color                 |  88                   | 108                   | 234                   |  463                  | Paul Schneider        | 11000                 |    548712             | ...                   | 0                     | 0                     | 0                     | USA                   |   2500000             |    715894.72          |   3261705.24          |  -2545810.52          |  18500107             | 20204898              | \n",
       "| Zooey Deschanel       | Ed Decter             | Color                 |  49                   |  92                   |  13                   |  301                  | Eddie Griffin         | 11000                 |  28972187             | ...                   | 0                     | 0                     | 0                     | USA                   |  13000000             |  38657581.81          |  17345896.72          |  21311685.09          |  28972187             | 20204898              | \n",
       "| Zooey Deschanel       | Garth Jennings        | Color                 | 276                   | 109                   |  37                   |  651                  | Kelly Macdonald       | 11000                 |  51019112             | ...                   | 0                     | 0                     | 0                     | USA                   |  50000000             |  62700841.55          |  61448385.80          |   1252455.75          |  51019112             | 20204898              | \n",
       "| Zooey Deschanel       | Jesse Peretz          | Color                 | 179                   |  90                   |  37                   | 1000                  | Adam Scott            | 11000                 |  24809547             | ...                   | 0                     | 0                     | 0                     | USA                   |   5000000             |  26471472.66          |   5334936.72          |  21136535.94          |  12425045             | 20204898              | \n",
       "| Zooey Deschanel       | Lawrence Kasdan       | Black and White       |  65                   | 112                   | 759                   |  933                  | Alfre Woodard         | 11000                 |   4554569             | ...                   | 0                     | 0                     | 0                     | USA                   |  28000000             |   6562383.32          |  40343385.52          | -33781002.19          |  19457038             | 20204898              | \n",
       "| Zooey Deschanel       | M. Night Shyamalan    | Color                 | 323                   |  91                   |  NA                   |  751                  | Alan Ruck             | 11000                 |  64505912             | ...                   | 1                     | 0                     | 0                     | USA                   |  48000000             |  71907569.59          |  53507705.47          |  18399864.12          | 121621863             | 20204898              | \n",
       "| Zooey Deschanel       | Michael Clancy        | Color                 |  27                   |  85                   |  NA                   |  742                  | Rip Torn              | 11000                 |     70527             | ...                   | 0                     | 0                     | 0                     | USA                   |   6500000             |     89616.08          |   8259312.22          |  -8169696.14          |     70527             | 20204898              | \n",
       "| Zuhair Haddad         | Giovanni Zelko        | Color                 |   5                   |  99                   |   4                   |  434                  | Harry Lennix          | 18000                 |        NA             | ...                   | 1                     | 0                     | 0                     | USA                   |   1300000             |           NA          |   1317962.47          |           NA          |        NA             |       NA              | \n",
       "\n",
       "\n"
      ],
      "text/plain": [
       "     actor_1_name      director_name         color          \n",
       "1    NA                Amal Al-Agroobi       Color          \n",
       "2    NA                Andrew Berends        Color          \n",
       "3    NA                Harry Gantz           Color          \n",
       "4    NA                Jem Cohen             Color          \n",
       "5    NA                LÃ©a Pool             Color          \n",
       "6    NA                Pan Nalin             Color          \n",
       "7    NA                U. Roberto Romano     Color          \n",
       "8    50 Cent           Jim Sheridan          Color          \n",
       "9    A.J. Buckley      Peter Sohn            Color          \n",
       "10   Ãscar Jaenada    Jaume Collet-Serra    Color          \n",
       "11   Ãlex Angulo      Mikel Rueda           Color          \n",
       "12   Aaliyah           Michael Rymer         Color          \n",
       "13   Aasif Mandvi      David Koepp           Color          \n",
       "14   Abbie Cornish     Jane Campion          Color          \n",
       "15   Abbie Cornish     Martin McDonagh       Color          \n",
       "16   Abbie Cornish     Zack Snyder           Color          \n",
       "17   Abhishek Bachchan Arjun Sablok          Color          \n",
       "18   Abhishek Bachchan Rohan Sippy           Color          \n",
       "19   Abigail Evans     Cary Bell             Color          \n",
       "20   Abigail Spencer   Tom Elkins            Color          \n",
       "21   Adam Arkin        Diane Keaton          Color          \n",
       "22   Adam Baldwin      Joss Whedon           Color          \n",
       "23   Adam Baldwin      Richard Donner        Color          \n",
       "24   Adam Baldwin      Robert Redford        Color          \n",
       "25   Adam Baldwin      Stephen Hopkins       Color          \n",
       "26   Adam Garcia       David McNally         Color          \n",
       "27   Adam Garcia       Klaus Menzel          Color          \n",
       "28   Adam Garcia       Sara Sugarman         Color          \n",
       "29   Adam Goldberg     Bibo Bergeron         Color          \n",
       "30   Adam Goldberg     D.J. Caruso           Color          \n",
       "...  ...               ...                   ...            \n",
       "4788 Yuliya Snigir     Fedor Bondarchuk      Color          \n",
       "4789 Yuri Lowenthal    Mike Nawrocki         Color          \n",
       "4790 Zach Gilford      Jee-woon Kim          Color          \n",
       "4791 Zach Gilford      Matt Bettinelli-Olpin Color          \n",
       "4792 Zachary Gordon    David Bowers          Color          \n",
       "4793 Zachary Gordon    David Bowers          Color          \n",
       "4794 Zachary Gordon    Rian Johnson          Color          \n",
       "4795 Zachary Knighton  Michael Burke         Color          \n",
       "4796 Zack Ward         Bob Clark             Color          \n",
       "4797 Zack Ward         Marco Kreuzpaintner   Color          \n",
       "4798 Zack Ward         Michael Bay           Color          \n",
       "4799 Zack Ward         Zack Ward             Color          \n",
       "4800 Zak Penn          Zak Penn              Color          \n",
       "4801 ZoÃ« Kravitz      Analeine Cal y Mayor  Color          \n",
       "4802 ZoÃ« Kravitz      Anna Boden            Color          \n",
       "4803 ZoÃ« Kravitz      Scott Hicks           Color          \n",
       "4804 Zoe Kazan         Bradley Rust Gray     Color          \n",
       "4805 Zoe Kazan         Richard Linklater     Color          \n",
       "4806 Zoe Lister-Jones  Daryl Wein            Color          \n",
       "4807 Zoe Ventoura      Brian Trenchard-Smith Color          \n",
       "4808 Zooey Deschanel   Adam Rapp             Color          \n",
       "4809 Zooey Deschanel   Barry Sonnenfeld      Color          \n",
       "4810 Zooey Deschanel   David Gordon Green    Color          \n",
       "4811 Zooey Deschanel   Ed Decter             Color          \n",
       "4812 Zooey Deschanel   Garth Jennings        Color          \n",
       "4813 Zooey Deschanel   Jesse Peretz          Color          \n",
       "4814 Zooey Deschanel   Lawrence Kasdan       Black and White\n",
       "4815 Zooey Deschanel   M. Night Shyamalan    Color          \n",
       "4816 Zooey Deschanel   Michael Clancy        Color          \n",
       "4817 Zuhair Haddad     Giovanni Zelko        Color          \n",
       "     num_critic_for_reviews duration director_facebook_likes\n",
       "1     NA                     62       58                    \n",
       "2     12                     90       NA                    \n",
       "3     12                    105       NA                    \n",
       "4     12                    111        6                    \n",
       "5     23                     97        4                    \n",
       "6     15                    102       95                    \n",
       "7      3                     80        6                    \n",
       "8     98                    117      260                    \n",
       "9    298                     93      113                    \n",
       "10   186                     86      174                    \n",
       "11     9                     96       NA                    \n",
       "12   137                    101       48                    \n",
       "13   210                    102      192                    \n",
       "14   222                    119      319                    \n",
       "15   401                    110      454                    \n",
       "16   188                    101       NA                    \n",
       "17     5                     97       NA                    \n",
       "18    24                    128        4                    \n",
       "19    NA                     78       NA                    \n",
       "20    79                    101       14                    \n",
       "21    82                     94       NA                    \n",
       "22   276                    119       NA                    \n",
       "23    10                    114      503                    \n",
       "24    62                    124       NA                    \n",
       "25   119                    103       81                    \n",
       "26   155                    107       18                    \n",
       "27    13                    103       34                    \n",
       "28    74                     89       10                    \n",
       "29    63                     90       10                    \n",
       "30    79                    103      154                    \n",
       "...  ...                    ...      ...                    \n",
       "4788  14                    115       35                    \n",
       "4789  37                     85       12                    \n",
       "4790 376                    107      419                    \n",
       "4791 137                     89       14                    \n",
       "4792  88                     94       42                    \n",
       "4793 103                     99       42                    \n",
       "4794 182                    114       NA                    \n",
       "4795  17                     94        3                    \n",
       "4796 109                     94       84                    \n",
       "4797  69                    120        7                    \n",
       "4798 396                    144       NA                    \n",
       "4799  15                     92      662                    \n",
       "4800  60                     94       87                    \n",
       "4801  10                     92        4                    \n",
       "4802 163                    101       16                    \n",
       "4803 171                    104       96                    \n",
       "4804  61                     79        2                    \n",
       "4805 160                    107       NA                    \n",
       "4806  22                     88       38                    \n",
       "4807  30                     92       53                    \n",
       "4808  50                     98        9                    \n",
       "4809  87                     74      188                    \n",
       "4810  88                    108      234                    \n",
       "4811  49                     92       13                    \n",
       "4812 276                    109       37                    \n",
       "4813 179                     90       37                    \n",
       "4814  65                    112      759                    \n",
       "4815 323                     91       NA                    \n",
       "4816  27                     85       NA                    \n",
       "4817   5                     99        4                    \n",
       "     actor_3_facebook_likes actor_2_name        actor_1_facebook_likes\n",
       "1     NA                    NA                    NA                  \n",
       "2     NA                    NA                    NA                  \n",
       "3     NA                    NA                    NA                  \n",
       "4     NA                    NA                    NA                  \n",
       "5     NA                    NA                    NA                  \n",
       "6     NA                    NA                    NA                  \n",
       "7     NA                    NA                    NA                  \n",
       "8    441                    Bill Duke           1000                  \n",
       "9    113                    Jack McGraw          275                  \n",
       "10     2                    Brett Cullen         619                  \n",
       "11     0                    GermÃ¡n Alcarazu      90                  \n",
       "12   531                    Lena Olin            775                  \n",
       "13    31                    Dequina Moore        346                  \n",
       "14   179                    Paul Schneider      2000                  \n",
       "15   816                    Gabourey Sidibe     2000                  \n",
       "16   577                    Richard Roxburgh    2000                  \n",
       "17    40                    Uday Chopra          374                  \n",
       "18    47                    Bipasha Basu         374                  \n",
       "19     0                    Stacie Evans           0                  \n",
       "20   559                    Cicely Tyson        1000                  \n",
       "21   235                    Celia Weston         374                  \n",
       "22   279                    Sean Maher          2000                  \n",
       "23   697                    Thomas Ian Nicholas 2000                  \n",
       "24   535                    Elizabeth McGovern  2000                  \n",
       "25   636                    Robert Davi         2000                  \n",
       "26   560                    Tyra Banks           811                  \n",
       "27   227                    Jacqueline Bisset    811                  \n",
       "28   231                    Carol Kane           811                  \n",
       "29   541                    Bob Balaban         1000                  \n",
       "30   576                    Meat Loaf           1000                  \n",
       "...  ...                    ...                 ...                   \n",
       "4788   30                   Fedor Bondarchuk      463                 \n",
       "4789   23                   Cam Clarke            354                 \n",
       "4790  165                   James Burnett         971                 \n",
       "4791  270                   Allison Miller        971                 \n",
       "4792  517                   Rachael Harris        975                 \n",
       "4793  557                   Rachael Harris        975                 \n",
       "4794  446                   Maximilian Schell     975                 \n",
       "4795  181                   Tom Guiry             262                 \n",
       "4796  378                   Darren McGavin        662                 \n",
       "4797  289                   Kate del Castillo     662                 \n",
       "4798  581                   Michael O'Neill       662                 \n",
       "4799  161                   Anna Harr             662                 \n",
       "4800   37                   Gabriel Beristain      87                 \n",
       "4801  140                   Douglas Smith         943                 \n",
       "4802  472                   Jeremy Davies         943                 \n",
       "4803  559                   Lily Rabe             943                 \n",
       "4804   20                   Mark Rendall          962                 \n",
       "4805  240                   Aidan McArdle         962                 \n",
       "4806  211                   Heather Burns         331                 \n",
       "4807   32                   Damien Garvey          84                 \n",
       "4808  405                   Will Ferrell        11000                 \n",
       "4809  865                   Janeane Garofalo    11000                 \n",
       "4810  463                   Paul Schneider      11000                 \n",
       "4811  301                   Eddie Griffin       11000                 \n",
       "4812  651                   Kelly Macdonald     11000                 \n",
       "4813 1000                   Adam Scott          11000                 \n",
       "4814  933                   Alfre Woodard       11000                 \n",
       "4815  751                   Alan Ruck           11000                 \n",
       "4816  742                   Rip Torn            11000                 \n",
       "4817  434                   Harry Lennix        18000                 \n",
       "     gross     ... genres_Thriller genres_War genres_Western currency budget_us\n",
       "1           NA ... 0               0          0              USA         125000\n",
       "2           NA ... 0               1          0              USA         120000\n",
       "3       247740 ... 0               0          0              USA        1100000\n",
       "4         8374 ... 0               0          0              USA          50000\n",
       "5        24784 ... 0               0          0              CAN        1212695\n",
       "6        16892 ... 0               0          0              USA         300000\n",
       "7         2245 ... 0               0          0              USA         560000\n",
       "8     30981850 ... 0               0          0              USA       40000000\n",
       "9    123070338 ... 0               0          0              USA      187500000\n",
       "10    54257433 ... 1               0          0              USA       17000000\n",
       "11           0 ... 0               0          0              USA        1000000\n",
       "12    30307804 ... 0               0          0              USA       35000000\n",
       "13    13214030 ... 0               0          0              USA       20000000\n",
       "14     4440055 ... 0               0          0              USA        8500000\n",
       "15    14989761 ... 0               0          0              USA       15000000\n",
       "16    55673333 ... 0               0          0              USA       80000000\n",
       "17      100358 ... 0               0          0              CAN        1237865\n",
       "18      563699 ... 1               0          0              USA        5200000\n",
       "19          NA ... 0               0          0              USA         180000\n",
       "20          NA ... 1               0          0              USA        9000000\n",
       "21    36037909 ... 0               0          0              USA       60000000\n",
       "22    25335935 ... 1               0          0              USA       40000000\n",
       "23     4651977 ... 0               0          0              USA       35000000\n",
       "24    54800000 ... 0               0          0              USA        6000000\n",
       "25    30669413 ... 0               0          0              USA       35000000\n",
       "26    60786269 ... 0               0          0              USA       45000000\n",
       "27       16066 ... 1               0          0              USA        5000000\n",
       "28    29302097 ... 0               0          0              USA       15000000\n",
       "29          NA ... 0               0          0              EU28      34753355\n",
       "30      676698 ... 1               0          0              USA       18000000\n",
       "...  ...           ...             ...        ...            ...      ...      \n",
       "4788         0 ... 0               0          0              USA       29500000\n",
       "4789  12701880 ... 0               0          0              USA       15000000\n",
       "4790  12026670 ... 1               0          0              USA       45000000\n",
       "4791  15818967 ... 0               0          0              USA        7000000\n",
       "4792  49002815 ... 0               0          0              USA       22000000\n",
       "4793  52691009 ... 0               0          0              USA       21000000\n",
       "4794   3519627 ... 0               0          0              USA       20000000\n",
       "4795        NA ... 0               0          0              USA         800000\n",
       "4796  20605209 ... 0               0          0              CAN        3245654\n",
       "4797    214202 ... 1               0          0              USA       12000000\n",
       "4798 318759914 ... 0               0          0              USA      150000000\n",
       "4799        NA ... 0               0          0              USA             NA\n",
       "4800     36830 ... 0               0          0              USA        1400000\n",
       "4801        NA ... 0               0          0              USA        4700000\n",
       "4802   6350058 ... 0               0          0              USA        8000000\n",
       "4803  43097652 ... 0               0          0              USA       28000000\n",
       "4804     24705 ... 0               0          0              USA             NA\n",
       "4805   1186957 ... 0               0          0              USA       25000000\n",
       "4806     76382 ... 0               0          0              USA          15000\n",
       "4807         0 ... 0               0          0              USA       12000000\n",
       "4808    101228 ... 0               0          0              USA        3500000\n",
       "4809   7262288 ... 1               0          0              USA       40000000\n",
       "4810    548712 ... 0               0          0              USA        2500000\n",
       "4811  28972187 ... 0               0          0              USA       13000000\n",
       "4812  51019112 ... 0               0          0              USA       50000000\n",
       "4813  24809547 ... 0               0          0              USA        5000000\n",
       "4814   4554569 ... 0               0          0              USA       28000000\n",
       "4815  64505912 ... 1               0          0              USA       48000000\n",
       "4816     70527 ... 0               0          0              USA        6500000\n",
       "4817        NA ... 1               0          0              USA        1300000\n",
       "     gross_2016    budget_2016  profit       dir_mean_gross act_1_mean_gross\n",
       "1               NA    128783.0            NA        NA               NA     \n",
       "2               NA    147476.1            NA        NA               NA     \n",
       "3       330559.420   1467729.7   -1137170.30    247740               NA     \n",
       "4         8479.646     50630.8     -42151.15      8374               NA     \n",
       "5        26444.214   1293930.2   -1267486.00    817489               NA     \n",
       "6        22896.465    406638.6    -383742.14        NA               NA     \n",
       "7         2395.387    597512.9    -595117.53      2245               NA     \n",
       "8     38075693.432  49158708.6  -11083015.21  26922314       30981850.0     \n",
       "9    124622987.723 189865491.4  -65242503.65 123070338      123070338.0     \n",
       "10    54257433.000  17000000.0   37257433.00  51142756       54257433.0     \n",
       "11           0.000   1013817.3   -1013817.29         0              0.0     \n",
       "12    40439695.240  46700491.2   -6260795.94  22155473       30307804.0     \n",
       "13    14730258.861  22294877.3   -7564618.42  22001924       13214030.0     \n",
       "14     4967184.839   9509132.5   -4541947.62  16438503       25034383.0     \n",
       "15    15669622.180  15680325.6     -10703.39  11373446       25034383.0     \n",
       "16    61277967.433  88053600.0  -26775632.57 155758174       25034383.0     \n",
       "17      123336.742   1521296.1   -1397959.38    100358         332028.5     \n",
       "18      601459.699   5548334.2   -4946874.49    563699         332028.5     \n",
       "19              NA    182487.1            NA        NA               NA     \n",
       "20              NA   9272374.5            NA        NA               NA     \n",
       "21    50228547.093  83626184.5  -33397637.37  36037909       36037909.0     \n",
       "22    31137046.170  49158708.6  -18021662.47 369202360       28864331.2     \n",
       "23     7957057.218  59866375.7  -51909318.44  63944347       28864331.2     \n",
       "24   159600247.360  17474479.6  142125767.72  37480453       28864331.2     \n",
       "25    56336845.808  64291729.5   -7954883.65  34118335       28864331.2     \n",
       "26    84722062.400  62719638.3   22002424.06  63760631       30034810.7     \n",
       "27       20414.478   6353317.1   -6332902.61     16066       30034810.7     \n",
       "28    37233102.729  19059951.3   18173151.46  29302097       30034810.7     \n",
       "29              NA  37081389.9            NA        NA               NA     \n",
       "30      902917.971  24017395.5  -23114477.49  59232884               NA     \n",
       "...  ...           ...          ...          ...            ...             \n",
       "4788         0.00   33002283.25 -33002283.25         0             0        \n",
       "4789  14159342.79   16721157.96  -2561815.17  19136616      12701880        \n",
       "4790  12390643.10   46361872.35 -33971229.25   6077578      13922819        \n",
       "4791  16037542.21    7096721.01   8940821.20  15818967      13922819        \n",
       "4792  51225339.54   22997810.84  28227528.70  46425301      35071150        \n",
       "4793  56220639.75   22406734.22  33813905.52  46425301      35071150        \n",
       "4794   3923482.60   22294877.28 -18371394.68  34993971      35071150        \n",
       "4795           NA    1043745.68           NA        NA            NA        \n",
       "4796  49652578.94    7821085.02  41831493.92  40589123            NA        \n",
       "4797    247947.40   13890480.71 -13642533.31    154609            NA        \n",
       "4798 368977369.66  173631008.85 195346360.81 182953626            NA        \n",
       "4799           NA            NA           NA        NA            NA        \n",
       "4800     46798.53    1778928.79  -1732130.25     36830         36830        \n",
       "4801           NA    4842240.00           NA        NA            NA        \n",
       "4802   6989318.34    8805360.00  -1816041.66   6350058            NA        \n",
       "4803  49887258.64   32411121.65  17476136.99  35583306            NA        \n",
       "4804     27638.01            NA           NA     24705        605831        \n",
       "4805   1323153.03   27868596.60 -26545443.57  14664906        605831        \n",
       "4806     85450.18      16780.82     68669.36     76382         76382        \n",
       "4807         0.00   12165807.44 -12165807.44   1991791             0        \n",
       "4808    124405.94    4301387.01  -4176981.06    101228      20204898        \n",
       "4809   9690069.05   53371989.92 -43681920.87 132310602      20204898        \n",
       "4810    715894.72    3261705.24  -2545810.52  18500107      20204898        \n",
       "4811  38657581.81   17345896.72  21311685.09  28972187      20204898        \n",
       "4812  62700841.55   61448385.80   1252455.75  51019112      20204898        \n",
       "4813  26471472.66    5334936.72  21136535.94  12425045      20204898        \n",
       "4814   6562383.32   40343385.52 -33781002.19  19457038      20204898        \n",
       "4815  71907569.59   53507705.47  18399864.12 121621863      20204898        \n",
       "4816     89616.08    8259312.22  -8169696.14     70527      20204898        \n",
       "4817           NA    1317962.47           NA        NA            NA        "
      ]
     },
     "metadata": {},
     "output_type": "display_data"
    }
   ],
   "source": [
    "movies[actor_1_name==\"Robert Redford\",actor_1_facebook_likes:=121588]"
   ]
  },
  {
   "cell_type": "markdown",
   "metadata": {},
   "source": [
    "I repeat this process with the second billing actor of each movie."
   ]
  },
  {
   "cell_type": "code",
   "execution_count": 90,
   "metadata": {
    "collapsed": false
   },
   "outputs": [
    {
     "data": {
      "text/html": [
       "<dl class=dl-horizontal>\n",
       "\t<dt>Morgan Freeman</dt>\n",
       "\t\t<dd>18</dd>\n",
       "\t<dt>Charlize Theron</dt>\n",
       "\t\t<dd>14</dd>\n",
       "\t<dt>Brad Pitt</dt>\n",
       "\t\t<dd>13</dd>\n",
       "\t<dt>Meryl Streep</dt>\n",
       "\t\t<dd>11</dd>\n",
       "\t<dt>Adam Sandler</dt>\n",
       "\t\t<dd>10</dd>\n",
       "\t<dt>James Franco</dt>\n",
       "\t\t<dd>10</dd>\n",
       "\t<dt>Bruce Willis</dt>\n",
       "\t\t<dd>9</dd>\n",
       "\t<dt>Scott Glenn</dt>\n",
       "\t\t<dd>9</dd>\n",
       "\t<dt>(Other)</dt>\n",
       "\t\t<dd>4712</dd>\n",
       "\t<dt>NA's</dt>\n",
       "\t\t<dd>11</dd>\n",
       "</dl>\n"
      ],
      "text/latex": [
       "\\begin{description*}\n",
       "\\item[Morgan Freeman] 18\n",
       "\\item[Charlize Theron] 14\n",
       "\\item[Brad Pitt] 13\n",
       "\\item[Meryl Streep] 11\n",
       "\\item[Adam Sandler] 10\n",
       "\\item[James Franco] 10\n",
       "\\item[Bruce Willis] 9\n",
       "\\item[Scott Glenn] 9\n",
       "\\item[(Other)] 4712\n",
       "\\item[NA's] 11\n",
       "\\end{description*}\n"
      ],
      "text/markdown": [
       "Morgan Freeman\n",
       ":   18Charlize Theron\n",
       ":   14Brad Pitt\n",
       ":   13Meryl Streep\n",
       ":   11Adam Sandler\n",
       ":   10James Franco\n",
       ":   10Bruce Willis\n",
       ":   9Scott Glenn\n",
       ":   9(Other)\n",
       ":   4712NA's\n",
       ":   11\n",
       "\n"
      ],
      "text/plain": [
       " Morgan Freeman Charlize Theron       Brad Pitt    Meryl Streep    Adam Sandler \n",
       "             18              14              13              11              10 \n",
       "   James Franco    Bruce Willis     Scott Glenn         (Other)            NA's \n",
       "             10               9               9            4712              11 "
      ]
     },
     "metadata": {},
     "output_type": "display_data"
    }
   ],
   "source": [
    "summary(movies$actor_2_name,maxsum=10)"
   ]
  },
  {
   "cell_type": "code",
   "execution_count": 91,
   "metadata": {
    "collapsed": false
   },
   "outputs": [],
   "source": [
    "actor2_count<-plyr::count(movies,'actor_2_name')\n",
    "actor2_count<-as.data.frame(actor2_count)\n",
    "names(actor2_count)[names(actor2_count)==\"x\"]<-\"Name\"\n",
    "names(actor2_count)[names(actor2_count)==\"freq\"]<-\"Count\"\n",
    "actor2_count<-actor2_count[order(-actor2_count$Count),]"
   ]
  },
  {
   "cell_type": "code",
   "execution_count": 92,
   "metadata": {
    "collapsed": false
   },
   "outputs": [
    {
     "data": {
      "text/html": [
       "<iframe src=\"plotlyJupyterHTML/hist_actor2.html\" width=\"100%\" height=\"400\" id=\"igraph\" scrolling=\"no\" seamless=\"seamless\" frameBorder=\"0\"> </iframe>"
      ]
     },
     "metadata": {},
     "output_type": "display_data"
    }
   ],
   "source": [
    "hist_actor2 <-  actor2_count[complete.cases(actor2_count),] %>%\n",
    "dplyr::count(Count) %>%\n",
    "  plot_ly(x =~Count, y = ~n) %>% \n",
    "  add_bars()%>%\n",
    "layout(title = 'Distribution of the number of appearances in a movie for second billing actors',\n",
    "         xaxis = list(title = 'Number of movies', zeroline = TRUE),\n",
    "         yaxis = list(title = 'Frequency'))\n",
    " \n",
    "embed_notebook(hist_actor2,file=paste0(\"plotlyJupyterHTML/\",\"hist_actor2\",\".html\"))"
   ]
  },
  {
   "cell_type": "code",
   "execution_count": 93,
   "metadata": {
    "collapsed": false
   },
   "outputs": [],
   "source": [
    "act_2_mean_gross<-movies %>%\n",
    "group_by(actor_2_name)%>%\n",
    "summarise(mean_gross=mean(gross))\n",
    "\n",
    "actor2_mean_gross<-data.frame(\"actor_2_name\"=act_2_mean_gross$actor_2_name,\"act_2_mean_gross\"=act_2_mean_gross$mean_gross)"
   ]
  },
  {
   "cell_type": "code",
   "execution_count": 94,
   "metadata": {
    "collapsed": false
   },
   "outputs": [],
   "source": [
    "movies<-merge(movies,actor2_mean_gross,by=\"actor_2_name\")"
   ]
  },
  {
   "cell_type": "code",
   "execution_count": 95,
   "metadata": {
    "collapsed": false
   },
   "outputs": [
    {
     "data": {
      "text/html": [
       "<iframe src=\"plotlyJupyterHTML/hist_mean_gross_actor2.html\" width=\"100%\" height=\"400\" id=\"igraph\" scrolling=\"no\" seamless=\"seamless\" frameBorder=\"0\"> </iframe>"
      ]
     },
     "metadata": {},
     "output_type": "display_data"
    }
   ],
   "source": [
    "hist_mean_gross_actor2 <-  act_2_mean_gross[complete.cases(act_2_mean_gross),] %>%\n",
    "  plot_ly(x =~mean_gross,type=\"histogram\") %>% \n",
    "layout(title = 'Mean gross revenue of the movies in which each second actor played',\n",
    "         xaxis = list(title = 'Average gross', zeroline = TRUE),\n",
    "         yaxis = list(title = 'Number of actors'))\n",
    " \n",
    "embed_notebook(hist_mean_gross_actor2,file=paste0(\"plotlyJupyterHTML/\",\"hist_mean_gross_actor2\",\".html\"))"
   ]
  },
  {
   "cell_type": "markdown",
   "metadata": {},
   "source": [
    "The shape of this distribution is similar to the one for the main billing actor which is a good sign since those actors played in the same movies. \n",
    "\n",
    "Let us look at the number of Facebook likes for each second billing actor."
   ]
  },
  {
   "cell_type": "code",
   "execution_count": 96,
   "metadata": {
    "collapsed": false
   },
   "outputs": [
    {
     "data": {
      "text/plain": [
       "   Min. 1st Qu.  Median    Mean 3rd Qu.    Max.    NA's \n",
       "      0     278     595    1645     918  137000      11 "
      ]
     },
     "metadata": {},
     "output_type": "display_data"
    }
   ],
   "source": [
    "summary(movies$actor_2_facebook_likes)"
   ]
  },
  {
   "cell_type": "code",
   "execution_count": 97,
   "metadata": {
    "collapsed": false
   },
   "outputs": [
    {
     "data": {
      "text/html": [
       "<iframe src=\"plotlyJupyterHTML/hist_fb_actor2.html\" width=\"100%\" height=\"400\" id=\"igraph\" scrolling=\"no\" seamless=\"seamless\" frameBorder=\"0\"> </iframe>"
      ]
     },
     "metadata": {},
     "output_type": "display_data"
    }
   ],
   "source": [
    "hist_fb_actor2 <-plot_ly(movies[complete.cases(movies$actor_2_facebook_likes),],\n",
    "                         x =~actor_2_facebook_likes,type=\"histogram\") %>% \n",
    "layout(title = 'Number of Facebook likes for second billing actors',\n",
    "         xaxis = list(title = 'Number of likes', zeroline = TRUE),\n",
    "         yaxis = list(title = 'Frequency'))\n",
    "\n",
    "embed_notebook(hist_fb_actor2,file=paste0(\"plotlyJupyterHTML/\",\"hist_fb_actor2\",\".html\"))"
   ]
  },
  {
   "cell_type": "code",
   "execution_count": 98,
   "metadata": {
    "collapsed": false
   },
   "outputs": [
    {
     "data": {
      "text/html": [
       "<table>\n",
       "<thead><tr><th scope=col>n</th></tr></thead>\n",
       "<tbody>\n",
       "\t<tr><td>53</td></tr>\n",
       "</tbody>\n",
       "</table>\n"
      ],
      "text/latex": [
       "\\begin{tabular}{r|l}\n",
       " n\\\\\n",
       "\\hline\n",
       "\t 53\\\\\n",
       "\\end{tabular}\n"
      ],
      "text/markdown": [
       "\n",
       "n | \n",
       "|---|\n",
       "| 53 | \n",
       "\n",
       "\n"
      ],
      "text/plain": [
       "  n \n",
       "1 53"
      ]
     },
     "metadata": {},
     "output_type": "display_data"
    }
   ],
   "source": [
    "count(movies[actor_2_facebook_likes==0])"
   ]
  },
  {
   "cell_type": "markdown",
   "metadata": {},
   "source": [
    "Once again, the number of actors with a small amount of Facebook like compose the vast majority of the actor, but since the number of observations with a value of zero is small, I kept the data as they are.\n",
    "\n",
    "I look at the data of the third billing actor."
   ]
  },
  {
   "cell_type": "code",
   "execution_count": 99,
   "metadata": {
    "collapsed": false
   },
   "outputs": [
    {
     "data": {
      "text/html": [
       "<dl class=dl-horizontal>\n",
       "\t<dt>Steve Coogan</dt>\n",
       "\t\t<dd>8</dd>\n",
       "\t<dt>Ben Mendelsohn</dt>\n",
       "\t\t<dd>7</dd>\n",
       "\t<dt>Jon Gries</dt>\n",
       "\t\t<dd>7</dd>\n",
       "\t<dt>Robert Duvall</dt>\n",
       "\t\t<dd>7</dd>\n",
       "\t<dt>Sam Shepard</dt>\n",
       "\t\t<dd>7</dd>\n",
       "\t<dt>Stephen Root</dt>\n",
       "\t\t<dd>7</dd>\n",
       "\t<dt>Anne Hathaway</dt>\n",
       "\t\t<dd>6</dd>\n",
       "\t<dt>Bruce McGill</dt>\n",
       "\t\t<dd>6</dd>\n",
       "\t<dt>(Other)</dt>\n",
       "\t\t<dd>4742</dd>\n",
       "\t<dt>NA's</dt>\n",
       "\t\t<dd>20</dd>\n",
       "</dl>\n"
      ],
      "text/latex": [
       "\\begin{description*}\n",
       "\\item[Steve Coogan] 8\n",
       "\\item[Ben Mendelsohn] 7\n",
       "\\item[Jon Gries] 7\n",
       "\\item[Robert Duvall] 7\n",
       "\\item[Sam Shepard] 7\n",
       "\\item[Stephen Root] 7\n",
       "\\item[Anne Hathaway] 6\n",
       "\\item[Bruce McGill] 6\n",
       "\\item[(Other)] 4742\n",
       "\\item[NA's] 20\n",
       "\\end{description*}\n"
      ],
      "text/markdown": [
       "Steve Coogan\n",
       ":   8Ben Mendelsohn\n",
       ":   7Jon Gries\n",
       ":   7Robert Duvall\n",
       ":   7Sam Shepard\n",
       ":   7Stephen Root\n",
       ":   7Anne Hathaway\n",
       ":   6Bruce McGill\n",
       ":   6(Other)\n",
       ":   4742NA's\n",
       ":   20\n",
       "\n"
      ],
      "text/plain": [
       "  Steve Coogan Ben Mendelsohn      Jon Gries  Robert Duvall    Sam Shepard \n",
       "             8              7              7              7              7 \n",
       "  Stephen Root  Anne Hathaway   Bruce McGill        (Other)           NA's \n",
       "             7              6              6           4742             20 "
      ]
     },
     "metadata": {},
     "output_type": "display_data"
    }
   ],
   "source": [
    "summary(movies$actor_3_name,maxsum=10)"
   ]
  },
  {
   "cell_type": "code",
   "execution_count": 100,
   "metadata": {
    "collapsed": true
   },
   "outputs": [],
   "source": [
    "actor3_count<-plyr::count(movies,'actor_3_name')\n",
    "actor3_count<-as.data.frame(actor3_count)\n",
    "names(actor3_count)[names(actor3_count)==\"freq\"]<-\"Count\"\n",
    "actor3_count<-actor3_count[order(-actor3_count$Count),]"
   ]
  },
  {
   "cell_type": "code",
   "execution_count": 101,
   "metadata": {
    "collapsed": false
   },
   "outputs": [
    {
     "data": {
      "text/html": [
       "<iframe src=\"plotlyJupyterHTML/hist_actor3.html\" width=\"100%\" height=\"400\" id=\"igraph\" scrolling=\"no\" seamless=\"seamless\" frameBorder=\"0\"> </iframe>"
      ]
     },
     "metadata": {},
     "output_type": "display_data"
    }
   ],
   "source": [
    "hist_actor3 <-  actor3_count[complete.cases(actor3_count),] %>%\n",
    "dplyr::count(Count) %>%\n",
    "  plot_ly(x =~Count, y = ~n) %>% \n",
    "  add_bars()%>%\n",
    "layout(title = 'Number of appearances in a movie for each third billing actor',\n",
    "         xaxis = list(title = 'Number of movies', zeroline = TRUE),\n",
    "         yaxis = list(title = 'Frequency'))\n",
    " \n",
    "embed_notebook(hist_actor3,file=paste0(\"plotlyJupyterHTML/\",\"hist_actor3\",\".html\"))"
   ]
  },
  {
   "cell_type": "code",
   "execution_count": 102,
   "metadata": {
    "collapsed": false
   },
   "outputs": [],
   "source": [
    "act_3_mean_gross<-movies %>%\n",
    "group_by(actor_3_name)%>%\n",
    "summarise(mean_gross=mean(gross))\n",
    "\n",
    "actor_3_mean_gross<-data.frame(\"actor_3_name\"=act_3_mean_gross$actor_3_name,\"act_3_mean_gross\"=act_3_mean_gross$mean_gross)"
   ]
  },
  {
   "cell_type": "code",
   "execution_count": 103,
   "metadata": {
    "collapsed": false
   },
   "outputs": [],
   "source": [
    "movies<-merge(movies,actor_3_mean_gross,by=\"actor_3_name\")"
   ]
  },
  {
   "cell_type": "code",
   "execution_count": 104,
   "metadata": {
    "collapsed": false
   },
   "outputs": [
    {
     "data": {
      "text/html": [
       "<iframe src=\"plotlyJupyterHTML/hist_mean_gross_actor3.html\" width=\"100%\" height=\"400\" id=\"igraph\" scrolling=\"no\" seamless=\"seamless\" frameBorder=\"0\"> </iframe>"
      ]
     },
     "metadata": {},
     "output_type": "display_data"
    }
   ],
   "source": [
    "hist_mean_gross_actor3 <-  act_3_mean_gross[complete.cases(act_3_mean_gross),] %>%\n",
    "  plot_ly(x =~mean_gross,type=\"histogram\") %>% \n",
    "layout(title = 'Mean gross revenue of movies in which played each third actor',\n",
    "         xaxis = list(title = 'Gross', zeroline = TRUE),\n",
    "         yaxis = list(title = 'Frequency'))\n",
    " \n",
    "embed_notebook(hist_mean_gross_actor3,file=paste0(\"plotlyJupyterHTML/\",\"hist_mean_gross_actor3\",\".html\"))"
   ]
  },
  {
   "cell_type": "code",
   "execution_count": 105,
   "metadata": {
    "collapsed": false
   },
   "outputs": [
    {
     "data": {
      "text/plain": [
       "   Min. 1st Qu.  Median    Mean 3rd Qu.    Max.    NA's \n",
       "    0.0   131.0   367.0   636.9   636.0 23000.0      20 "
      ]
     },
     "metadata": {},
     "output_type": "display_data"
    }
   ],
   "source": [
    "summary(movies$actor_3_facebook_likes)"
   ]
  },
  {
   "cell_type": "code",
   "execution_count": 106,
   "metadata": {
    "collapsed": false
   },
   "outputs": [
    {
     "data": {
      "text/html": [
       "<iframe src=\"plotlyJupyterHTML/hist_fb_actor3.html\" width=\"100%\" height=\"400\" id=\"igraph\" scrolling=\"no\" seamless=\"seamless\" frameBorder=\"0\"> </iframe>"
      ]
     },
     "metadata": {},
     "output_type": "display_data"
    }
   ],
   "source": [
    "hist_fb_actor3 <-plot_ly(movies[complete.cases(movies$actor_3_facebook_likes),],\n",
    "                         x =~actor_3_facebook_likes,type=\"histogram\") %>% \n",
    "layout(title = 'Number of Facebook likes for third billing actors',\n",
    "         xaxis = list(title = 'Number of likes', zeroline = TRUE),\n",
    "         yaxis = list(title = 'Frequency'))\n",
    " \n",
    "embed_notebook(hist_fb_actor3,file=paste0(\"plotlyJupyterHTML/\",\"hist_fb_actor3\",\".html\"))"
   ]
  },
  {
   "cell_type": "markdown",
   "metadata": {
    "collapsed": true
   },
   "source": [
    "Finally, I took a closer look a the variable \"cast_total_facebook_likes\"."
   ]
  },
  {
   "cell_type": "code",
   "execution_count": 107,
   "metadata": {
    "collapsed": false
   },
   "outputs": [
    {
     "data": {
      "text/plain": [
       "   Min. 1st Qu.  Median    Mean 3rd Qu.    Max. \n",
       "      0    1397    3090    9714   13810  656700 "
      ]
     },
     "metadata": {},
     "output_type": "display_data"
    }
   ],
   "source": [
    "summary(movies$cast_total_facebook_likes)"
   ]
  },
  {
   "cell_type": "code",
   "execution_count": 108,
   "metadata": {
    "collapsed": false
   },
   "outputs": [
    {
     "data": {
      "text/html": [
       "<iframe src=\"plotlyJupyterHTML/hist_fb_cast.html\" width=\"100%\" height=\"400\" id=\"igraph\" scrolling=\"no\" seamless=\"seamless\" frameBorder=\"0\"> </iframe>"
      ]
     },
     "metadata": {},
     "output_type": "display_data"
    }
   ],
   "source": [
    "hist_fb_cast <-  movies[complete.cases(movies$cast_total_facebook_likes),] %>%\n",
    "dplyr::count(cast_total_facebook_likes) %>%\n",
    "  plot_ly(x =~cast_total_facebook_likes, type=\"histogram\") %>% \n",
    "layout(title = 'Number of Facebook likes for the cast',\n",
    "         xaxis = list(title = 'Number of likes', zeroline = TRUE),\n",
    "         yaxis = list(title = 'Frequency'))\n",
    " \n",
    "embed_notebook(hist_fb_cast,file=paste0(\"plotlyJupyterHTML/\",\"hist_fb_cast\",\".html\"))"
   ]
  },
  {
   "cell_type": "markdown",
   "metadata": {},
   "source": [
    "It is important to note that this variable is not the sum of the Facebook likes of the actor in the data set, but includes some actor that is listed on IMDB and not in the data set. In consequence, I couldn't use this variable to fill the missing value in the column \"actor_X_facebook_likes\" and \"director_facebook_likes\".\n",
    "\n",
    "The last variable I looked at in this section is the variable \"movie_facebook_likes\" which measure the Facebook user took interest in each movie. "
   ]
  },
  {
   "cell_type": "code",
   "execution_count": 109,
   "metadata": {
    "collapsed": false
   },
   "outputs": [
    {
     "data": {
      "text/plain": [
       "   Min. 1st Qu.  Median    Mean 3rd Qu.    Max.    NA's \n",
       "      0       0     157    7434    2000  349000      65 "
      ]
     },
     "metadata": {},
     "output_type": "display_data"
    }
   ],
   "source": [
    "summary(movies$movie_facebook_likes)"
   ]
  },
  {
   "cell_type": "code",
   "execution_count": 110,
   "metadata": {
    "collapsed": false
   },
   "outputs": [
    {
     "data": {
      "text/html": [
       "<iframe src=\"plotlyJupyterHTML/hist_fb_movie.html\" width=\"100%\" height=\"400\" id=\"igraph\" scrolling=\"no\" seamless=\"seamless\" frameBorder=\"0\"> </iframe>"
      ]
     },
     "metadata": {},
     "output_type": "display_data"
    }
   ],
   "source": [
    "hist_fb_movie <-  movies[complete.cases(movies$movie_facebook_likes),] %>%\n",
    "dplyr::count(movie_facebook_likes) %>%\n",
    "  plot_ly(x =~movie_facebook_likes,type='histogram') %>% \n",
    "layout(title = 'Number of Facebook likes of each movie',\n",
    "         xaxis = list(title = 'Number of likes', zeroline = TRUE),\n",
    "         yaxis = list(title = 'Frequency'))\n",
    " \n",
    "embed_notebook(hist_fb_movie,file=paste0(\"plotlyJupyterHTML/\",\"hist_fb_movie\",\".html\"))"
   ]
  },
  {
   "cell_type": "markdown",
   "metadata": {},
   "source": [
    "Since the majority of the movies have a small number of Facebook like, I look at a sample of the movie with zero like and a important budget to verify that the data are valid. I choosed the blockbuster in the data set because they have a high budget for the publicity and are more likely tu use Facebook for advertise purpose."
   ]
  },
  {
   "cell_type": "code",
   "execution_count": 111,
   "metadata": {
    "collapsed": false
   },
   "outputs": [
    {
     "data": {
      "text/html": [
       "<ol class=list-inline>\n",
       "\t<li>'xmen2'</li>\n",
       "\t<li>'cloudywithachanceofmeatballs'</li>\n",
       "\t<li>'thebourneultimatum'</li>\n",
       "\t<li>'jurassicparkiii'</li>\n",
       "\t<li>'catwoman'</li>\n",
       "\t<li>'daylight'</li>\n",
       "\t<li>'sixdayssevennights'</li>\n",
       "\t<li>'fantastic4riseofthesilversurfer'</li>\n",
       "\t<li>'poseidon'</li>\n",
       "\t<li>'batmanreturns'</li>\n",
       "\t<li>'antz'</li>\n",
       "\t<li>'nationaltreasure'</li>\n",
       "\t<li>'angels&amp;demons'</li>\n",
       "\t<li>'thewolfman'</li>\n",
       "\t<li>'bandits'</li>\n",
       "</ol>\n"
      ],
      "text/latex": [
       "\\begin{enumerate*}\n",
       "\\item 'xmen2'\n",
       "\\item 'cloudywithachanceofmeatballs'\n",
       "\\item 'thebourneultimatum'\n",
       "\\item 'jurassicparkiii'\n",
       "\\item 'catwoman'\n",
       "\\item 'daylight'\n",
       "\\item 'sixdayssevennights'\n",
       "\\item 'fantastic4riseofthesilversurfer'\n",
       "\\item 'poseidon'\n",
       "\\item 'batmanreturns'\n",
       "\\item 'antz'\n",
       "\\item 'nationaltreasure'\n",
       "\\item 'angels\\&demons'\n",
       "\\item 'thewolfman'\n",
       "\\item 'bandits'\n",
       "\\end{enumerate*}\n"
      ],
      "text/markdown": [
       "1. 'xmen2'\n",
       "2. 'cloudywithachanceofmeatballs'\n",
       "3. 'thebourneultimatum'\n",
       "4. 'jurassicparkiii'\n",
       "5. 'catwoman'\n",
       "6. 'daylight'\n",
       "7. 'sixdayssevennights'\n",
       "8. 'fantastic4riseofthesilversurfer'\n",
       "9. 'poseidon'\n",
       "10. 'batmanreturns'\n",
       "11. 'antz'\n",
       "12. 'nationaltreasure'\n",
       "13. 'angels&amp;demons'\n",
       "14. 'thewolfman'\n",
       "15. 'bandits'\n",
       "\n",
       "\n"
      ],
      "text/plain": [
       " [1] \"xmen2\"                           \"cloudywithachanceofmeatballs\"   \n",
       " [3] \"thebourneultimatum\"              \"jurassicparkiii\"                \n",
       " [5] \"catwoman\"                        \"daylight\"                       \n",
       " [7] \"sixdayssevennights\"              \"fantastic4riseofthesilversurfer\"\n",
       " [9] \"poseidon\"                        \"batmanreturns\"                  \n",
       "[11] \"antz\"                            \"nationaltreasure\"               \n",
       "[13] \"angels&demons\"                   \"thewolfman\"                     \n",
       "[15] \"bandits\"                        "
      ]
     },
     "metadata": {},
     "output_type": "display_data"
    }
   ],
   "source": [
    "head(movies[movie_facebook_likes==0&budget_2016>100000000,movie_title],n=15)"
   ]
  },
  {
   "cell_type": "markdown",
   "metadata": {},
   "source": [
    "After searching for these movies on Facebook for a while, I remembered that the world existed before Facebook and that most of the movies in the data set couldn't use that site for promotion. In consequence, it's normal that a majority of movie in the data set has no Facebook like.  \n",
    "\n",
    "To confirm that hypothesis, I compared the total number of movies with zero Facebook like with the number of movies made before 2008 with zero like. I choose that year because that's the year MySpace collapse and Facebook really took off."
   ]
  },
  {
   "cell_type": "code",
   "execution_count": 112,
   "metadata": {
    "collapsed": false
   },
   "outputs": [
    {
     "data": {
      "text/html": [
       "<table>\n",
       "<thead><tr><th scope=col>n</th></tr></thead>\n",
       "<tbody>\n",
       "\t<tr><td>2063</td></tr>\n",
       "</tbody>\n",
       "</table>\n"
      ],
      "text/latex": [
       "\\begin{tabular}{r|l}\n",
       " n\\\\\n",
       "\\hline\n",
       "\t 2063\\\\\n",
       "\\end{tabular}\n"
      ],
      "text/markdown": [
       "\n",
       "n | \n",
       "|---|\n",
       "| 2063 | \n",
       "\n",
       "\n"
      ],
      "text/plain": [
       "  n   \n",
       "1 2063"
      ]
     },
     "metadata": {},
     "output_type": "display_data"
    }
   ],
   "source": [
    "count(movies[movie_facebook_likes==0])"
   ]
  },
  {
   "cell_type": "code",
   "execution_count": 113,
   "metadata": {
    "collapsed": false
   },
   "outputs": [
    {
     "data": {
      "text/html": [
       "<table>\n",
       "<thead><tr><th scope=col>n</th></tr></thead>\n",
       "<tbody>\n",
       "\t<tr><td>0.6781386</td></tr>\n",
       "</tbody>\n",
       "</table>\n"
      ],
      "text/latex": [
       "\\begin{tabular}{r|l}\n",
       " n\\\\\n",
       "\\hline\n",
       "\t 0.6781386\\\\\n",
       "\\end{tabular}\n"
      ],
      "text/markdown": [
       "\n",
       "n | \n",
       "|---|\n",
       "| 0.6781386 | \n",
       "\n",
       "\n"
      ],
      "text/plain": [
       "  n        \n",
       "1 0.6781386"
      ]
     },
     "metadata": {},
     "output_type": "display_data"
    }
   ],
   "source": [
    "count(movies[movie_facebook_likes==0&title_year<2008])/count(movies[movie_facebook_likes==0])"
   ]
  },
  {
   "cell_type": "markdown",
   "metadata": {
    "collapsed": true
   },
   "source": [
    "More than two third of those cases are movies who were made before Facebook was main stream. If we add the fact that some movie in the data set come from country where Facebook is not as widely used, we can explain why a large portion of the movie have zero like on Facebook. In consequence, I can't use those observations to create my model which will use Facebook likes as a measure of appreciation from the public."
   ]
  },
  {
   "cell_type": "code",
   "execution_count": 114,
   "metadata": {
    "collapsed": true
   },
   "outputs": [],
   "source": [
    "movies[movie_facebook_likes==0,\"movie_facebook_likes\"]<-NA"
   ]
  },
  {
   "cell_type": "markdown",
   "metadata": {},
   "source": [
    "# IMDB statistics\n",
    "\n",
    "After looking at the cast, it's time to look at statistics relative to IMDB it. By themselves, those statistics won't be used to create our model, since they concern facts that happen after the release of the movies, like the rating of the movie. But some information could be extracted from those variable, so I took the time to look at them. First of all, I looked at the number of users that reviewed each movie."
   ]
  },
  {
   "cell_type": "code",
   "execution_count": 115,
   "metadata": {
    "collapsed": false
   },
   "outputs": [
    {
     "data": {
      "text/plain": [
       "   Min. 1st Qu.  Median    Mean 3rd Qu.    Max.    NA's \n",
       "    1.0    66.0   156.0   271.2   323.0  5060.0      19 "
      ]
     },
     "metadata": {},
     "output_type": "display_data"
    }
   ],
   "source": [
    "summary(movies$num_user_for_reviews)"
   ]
  },
  {
   "cell_type": "code",
   "execution_count": 116,
   "metadata": {
    "collapsed": false
   },
   "outputs": [
    {
     "data": {
      "text/html": [
       "<iframe src=\"plotlyJupyterHTML/hist_user_reviews.html\" width=\"100%\" height=\"400\" id=\"igraph\" scrolling=\"no\" seamless=\"seamless\" frameBorder=\"0\"> </iframe>"
      ]
     },
     "metadata": {},
     "output_type": "display_data"
    }
   ],
   "source": [
    "hist_user_reviews <-  movies[complete.cases(movies$num_user_for_reviews),] %>%\n",
    "dplyr::count(num_user_for_reviews) %>%\n",
    "  plot_ly(x =~num_user_for_reviews, y = ~n) %>% \n",
    "  add_bars()%>%\n",
    "layout(title = 'Number of reviewers for each movie',\n",
    "         xaxis = list(title = 'Number of reviewers', zeroline = TRUE),\n",
    "         yaxis = list(title = 'Frequency'))\n",
    " \n",
    "embed_notebook(hist_user_reviews,file=paste0(\"plotlyJupyterHTML/\",\"hist_user_reviews\",\".html\"))"
   ]
  },
  {
   "cell_type": "markdown",
   "metadata": {
    "collapsed": false
   },
   "source": [
    "I look at the distribution of the quartile of the IMDB score."
   ]
  },
  {
   "cell_type": "code",
   "execution_count": 117,
   "metadata": {
    "collapsed": false
   },
   "outputs": [
    {
     "data": {
      "text/plain": [
       "   Min. 1st Qu.  Median    Mean 3rd Qu.    Max. \n",
       "  1.600   5.800   6.500   6.415   7.200   9.500 "
      ]
     },
     "metadata": {},
     "output_type": "display_data"
    }
   ],
   "source": [
    "summary(movies$imdb_score)"
   ]
  },
  {
   "cell_type": "markdown",
   "metadata": {},
   "source": [
    "I was able to find a blog post from 2015 (https://www.quora.com/What-is-an-average-rating-on-IMDB-for-a-movie) which analyse the rating of 17 845 movies on IMDB. His calculation reveals that the mean of the rating for his sample is 6.39. If our sample of 5000 movies is valid, this statistic should be about the same. The table above shows a mean of 6.415."
   ]
  },
  {
   "cell_type": "code",
   "execution_count": 118,
   "metadata": {
    "collapsed": false
   },
   "outputs": [
    {
     "data": {
      "text/plain": [
       "\n",
       "\tOne Sample t-test\n",
       "\n",
       "data:  movies$imdb_score\n",
       "t = 1.5771, df = 4816, p-value = 0.1148\n",
       "alternative hypothesis: true mean is not equal to 6.39\n",
       "95 percent confidence interval:\n",
       " 6.383821 6.447029\n",
       "sample estimates:\n",
       "mean of x \n",
       " 6.415425 \n"
      ]
     },
     "metadata": {},
     "output_type": "display_data"
    }
   ],
   "source": [
    "t.test(movies$imdb_score,mu=6.39)"
   ]
  },
  {
   "cell_type": "markdown",
   "metadata": {},
   "source": [
    "The t-test above show that we cannot conclude that the mean of the sample is different that the one of the IMDB complete data set. This fact suggests that our sample is representative of this data set."
   ]
  },
  {
   "cell_type": "code",
   "execution_count": 119,
   "metadata": {
    "collapsed": false
   },
   "outputs": [
    {
     "data": {
      "text/html": [
       "<iframe src=\"plotlyJupyterHTML/hist_score.html\" width=\"100%\" height=\"400\" id=\"igraph\" scrolling=\"no\" seamless=\"seamless\" frameBorder=\"0\"> </iframe>"
      ]
     },
     "metadata": {},
     "output_type": "display_data"
    }
   ],
   "source": [
    "hist_score <-  movies[complete.cases(movies$imdb_score),] %>%\n",
    "dplyr::count(imdb_score) %>%\n",
    "  plot_ly(x =~imdb_score, y = ~n) %>% \n",
    "  add_bars()%>%\n",
    "layout(title = 'Distribution of the IMDB scores',\n",
    "         xaxis = list(title = 'Scores', zeroline = TRUE),\n",
    "         yaxis = list(title = 'Frequency'))\n",
    " \n",
    "embed_notebook(hist_score,file=paste0(\"plotlyJupyterHTML/\",\"hist_score\",\".html\"))"
   ]
  },
  {
   "cell_type": "markdown",
   "metadata": {
    "collapsed": true
   },
   "source": [
    "Then I look at the distribution of the number of user that voted for each movie."
   ]
  },
  {
   "cell_type": "code",
   "execution_count": 120,
   "metadata": {
    "collapsed": false
   },
   "outputs": [
    {
     "data": {
      "text/plain": [
       "   Min. 1st Qu.  Median    Mean 3rd Qu.    Max. \n",
       "      5    8603   34190   83710   95290 1690000 "
      ]
     },
     "metadata": {},
     "output_type": "display_data"
    }
   ],
   "source": [
    "summary(movies$num_voted_users)"
   ]
  },
  {
   "cell_type": "code",
   "execution_count": 121,
   "metadata": {
    "collapsed": false
   },
   "outputs": [
    {
     "data": {
      "text/html": [
       "<iframe src=\"plotlyJupyterHTML/hist_voted_users.html\" width=\"100%\" height=\"400\" id=\"igraph\" scrolling=\"no\" seamless=\"seamless\" frameBorder=\"0\"> </iframe>"
      ]
     },
     "metadata": {},
     "output_type": "display_data"
    }
   ],
   "source": [
    "hist_voted_users <-  movies[complete.cases(movies$num_voted_users),] %>%\n",
    "dplyr::count(num_voted_users) %>%\n",
    "  plot_ly(x =~num_voted_users,type=\"histogram\") %>% \n",
    "layout(title = 'Number of IMDB users who vote for each movie',\n",
    "         xaxis = list(title = 'Number of user', zeroline = TRUE),\n",
    "         yaxis = list(title = 'Frequency'))\n",
    " \n",
    "embed_notebook(hist_voted_users,file=paste0(\"plotlyJupyterHTML/\",\"hist_voted_users\",\".html\"))"
   ]
  },
  {
   "cell_type": "markdown",
   "metadata": {
    "collapsed": true
   },
   "source": [
    "# Corrolation between variables\n",
    "\n",
    "Now that we have looked at all the variations, let us look at the relation between them. To do so, I started by ploting the correlation matrix of the continuous variables."
   ]
  },
  {
   "cell_type": "code",
   "execution_count": 122,
   "metadata": {
    "collapsed": false
   },
   "outputs": [
    {
     "data": {
      "image/png": "[encoded data removed]",
      "text/plain": [
       "Plot with title \"\""
      ]
     },
     "metadata": {},
     "output_type": "display_data"
    }
   ],
   "source": [
    "cont.var.corr.plot<-c(\"budget_2016\",\"duration\",\"director_facebook_likes\",\"actor_3_facebook_likes\",\"gross_2016\",\n",
    "                                   \"actor_1_facebook_likes\",\"profit\",\"cast_total_facebook_likes\",\"facenumber_in_poster\",\n",
    "                                   \"actor_2_facebook_likes\")\n",
    "corr_movie<-cor(movies[,cont.var.corr.plot,with=FALSE], use = \"na.or.complete\")\n",
    "#setkey(movies,NULL)\n",
    "corrplot(corr_movie, method=\"ellipse\", bg=\"#b8b8b8\")"
   ]
  },
  {
   "cell_type": "markdown",
   "metadata": {
    "collapsed": true
   },
   "source": [
    "We can see that \"budget_2016\" and \"duration\" are the variables who are the more correlated with the value of the gross box-office and that those correlations are not really strong. The other variables have mild correlation with the variable \"gross_2016\" at best. The same thing can be said for the variable \"profit\" which have a correlation virtually null with all the other variables except \"gross_2016\", which make sense since \"profit\" is a linear combination of this variable and \"budget_2016\".\n",
    "\n",
    "Next I plot the correlation matrix of the genre of each movie and the \"profit\" and \"gross_2016\" variables."
   ]
  },
  {
   "cell_type": "code",
   "execution_count": 123,
   "metadata": {
    "collapsed": false
   },
   "outputs": [
    {
     "ename": "ERROR",
     "evalue": "Error in `[.data.table`(movies, , genre.var.corr.plot, with = FALSE): column(s) not found: genres_Sci-Fi\n",
     "output_type": "error",
     "traceback": [
      "Error in `[.data.table`(movies, , genre.var.corr.plot, with = FALSE): column(s) not found: genres_Sci-Fi\nTraceback:\n",
      "1. cor(movies[, genre.var.corr.plot, with = FALSE], use = \"na.or.complete\")",
      "2. is.data.frame(x)",
      "3. movies[, genre.var.corr.plot, with = FALSE]",
      "4. `[.data.table`(movies, , genre.var.corr.plot, with = FALSE)",
      "5. stop(\"column(s) not found: \", paste(ansvars[wna], collapse = \", \"))"
     ]
    }
   ],
   "source": [
    "genre.var.corr.plot<-c(\"genres_Action\",\"genres_Adventure\",\"genres_Animation\",\"genres_Biography\",\"genres_Comedy\",\n",
    "                        \"genres_Crime\",\"genres_Documentary\",\"genres_Drama\",\"genres_Family\",\"genres_Fantasy\",\n",
    "                        \"genres_History\",\"genres_Horror\",\"genres_Music\",\"genres_Musical\",\"genres_Mystery\",\n",
    "                        \"genres_News\",\"genres_Romance\",\"genres_Sci-Fi\",\"genres_Short\",\"genres_Sport\",\n",
    "                        \"genres_Thriller\",\"genres_War\",\"genres_Western\",\"gross_2016\",\"profit\")\n",
    "\n",
    "\n",
    "corr_movie<-cor(movies[,genre.var.corr.plot,with=FALSE], use = \"na.or.complete\")\n",
    "#setkey(movies,NULL)\n",
    "corrplot(corr_movie, method=\"ellipse\", bg=\"#b8b8b8\")"
   ]
  },
  {
   "cell_type": "markdown",
   "metadata": {},
   "source": [
    "Again, the \"profit\" and \"gross_2016\" variables have little to no correlation with the genre variables, except for the variable \"genre_Adventure\" who is positively correlated with the gross.\n",
    "\n",
    "The last correlation matrix I plotted show the relation between the engineered variables \"act_1_mean_gross\", \"act_2_mean_gross\", \"act_3_mean_gross\", \"dir_mean_gross\", \"gross_2016\" and \"profit\"."
   ]
  },
  {
   "cell_type": "code",
   "execution_count": 124,
   "metadata": {
    "collapsed": false
   },
   "outputs": [
    {
     "data": {
      "image/png": "[encoded data removed]",
      "text/plain": [
       "Plot with title \"\""
      ]
     },
     "metadata": {},
     "output_type": "display_data"
    }
   ],
   "source": [
    "mean.gross.corr.plot<-c(\"act_1_mean_gross\",\"act_2_mean_gross\",\"act_3_mean_gross\",\"dir_mean_gross\",\"gross_2016\",\"profit\")\n",
    "\n",
    "\n",
    "corr_movie<-cor(movies[,mean.gross.corr.plot,with=FALSE], use = \"na.or.complete\")\n",
    "#setkey(movies,NULL)\n",
    "corrplot(corr_movie, method=\"ellipse\", bg=\"#b8b8b8\")"
   ]
  },
  {
   "cell_type": "markdown",
   "metadata": {},
   "source": [
    "This correlation matrix show that there's a strong correlation between the new variables and the \"gross_2016\" and \"profit\" variable. This can be explained in good part by the fact that the mean gross variables are a linear combination of the observations of the \"gross_2016\" variable and that most cast members have only a few movies in the data set. However, This result is a good indication that those new variables are a good feature to use in the model. To make sure that is the case and to avoid this source of bias, I will have to calculate the mean gross using only a fraction of the data set and calculate the correlation with the remaining observations. Since I have to separate the data in a training set and a test set and for brevity sake I just delete those variable of the data set and calculate the correlations in the next installment of that series of blog post."
   ]
  },
  {
   "cell_type": "code",
   "execution_count": 125,
   "metadata": {
    "collapsed": false
   },
   "outputs": [],
   "source": [
    "movies<-movies[,!c(\"act_1_mean_gross\",\"act_2_mean_gross\",\"act_3_mean_gross\",\"dir_mean_gross\"),with=FALSE]"
   ]
  },
  {
   "cell_type": "code",
   "execution_count": 126,
   "metadata": {
    "collapsed": false
   },
   "outputs": [
    {
     "name": "stderr",
     "output_type": "stream",
     "text": [
      "Warning message in write.csv(movies, \"movie_exploration.csv\", col.names = TRUE):\n",
      "\"attempt to set 'col.names' ignored\""
     ]
    }
   ],
   "source": [
    "write.csv(movies,\"movie_exploration.csv\", col.names=TRUE)"
   ]
  },
  {
   "cell_type": "markdown",
   "metadata": {},
   "source": [
    "# Conclusion\n",
    "\n",
    "The lack of correlation between the variable suggests that linear regression won't be the most effective way to modelize those data. A better way would be to use a decision tree to classify profitable and non-profitable movie. Also the engineered variables seem to be the best indicator of the profitability of a movie. That explains why movie stars are paid so much!\n",
    "\n",
    "In the next part of this series, I'll use machine learning algorithms to predict if a movie will be profitable and see if we can make better predictions than the average Hollywood producer. "
   ]
  }
 ],
 "metadata": {
  "anaconda-cloud": {},
  "kernelspec": {
   "display_name": "R",
   "language": "R",
   "name": "ir"
  },
  "language_info": {
   "codemirror_mode": "r",
   "file_extension": ".r",
   "mimetype": "text/x-r-source",
   "name": "R",
   "pygments_lexer": "r",
   "version": "3.2.5"
  }
 },
 "nbformat": 4,
 "nbformat_minor": 0
}
