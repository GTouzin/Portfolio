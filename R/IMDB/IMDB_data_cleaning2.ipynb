{
 "cells": [
  {
   "cell_type": "markdown",
   "metadata": {},
   "source": [
    "# Cleaning data' 2: Electric Boogaloo"
   ]
  },
  {
   "cell_type": "markdown",
   "metadata": {},
   "source": [
    "In the previous blog post (https://github.com/GTouzin/Portfolio/blob/master/R/IMDB_data_cleaning.ipynb), I started to clean the data scraped from IMDB by Kaggle user chuansun76 (https://www.kaggle.com/deepmatrix). I wanted to find the missing data from the variables \"budget\" and \"gross\" by using a Python script to scrape the data from the web. Since chuansun76 was kind enough to share his source code with the IMDB data set, I have modified his code to scrape the data from the site www.the-numbers.com. You can find the details of that scrapping process here https://github.com/GTouzin/Portfolio/tree/master/Python (full notebook coming soon).\n",
    "\n",
    "In this post, I'll clean the new data and merge it with the data from the original data set."
   ]
  },
  {
   "cell_type": "code",
   "execution_count": 59,
   "metadata": {
    "collapsed": false
   },
   "outputs": [],
   "source": [
    "library(dplyr)\n",
    "library(data.table)\n",
    "library(bit64)\n",
    "library(plotly)\n",
    "options(scipen=999)"
   ]
  },
  {
   "cell_type": "markdown",
   "metadata": {
    "collapsed": false
   },
   "source": [
    "# Merging the data "
   ]
  },
  {
   "cell_type": "markdown",
   "metadata": {},
   "source": [
    "I saved the IMDB data set partially clean in the file \"movies_clean_na.csv\" and data scrape from the site the-number.com in the file \"scrap_gross_budget.csv\". So the first thing I do is loading those two data sets and look at the structure of the table."
   ]
  },
  {
   "cell_type": "code",
   "execution_count": 60,
   "metadata": {
    "collapsed": false
   },
   "outputs": [
    {
     "data": {
      "text/html": [
       "<table>\n",
       "<thead><tr><th scope=col>color</th><th scope=col>director_name</th><th scope=col>num_critic_for_reviews</th><th scope=col>duration</th><th scope=col>director_facebook_likes</th><th scope=col>actor_3_facebook_likes</th><th scope=col>actor_2_name</th><th scope=col>actor_1_facebook_likes</th><th scope=col>gross</th><th scope=col>genres</th><th scope=col>...</th><th scope=col>genres_News</th><th scope=col>genres_Reality.TV</th><th scope=col>genres_Romance</th><th scope=col>genres_Sci.Fi</th><th scope=col>genres_Short</th><th scope=col>genres_Sport</th><th scope=col>genres_Thriller</th><th scope=col>genres_War</th><th scope=col>genres_Western</th><th scope=col>movie_facebook_likes.1</th></tr></thead>\n",
       "<tbody>\n",
       "\t<tr><td>Color                          </td><td>James Cameron                  </td><td>723                            </td><td>178                            </td><td>    0                          </td><td>  855                          </td><td>Joel David Moore               </td><td> 1000                          </td><td>760505847                      </td><td>Action|Adventure|Fantasy|Sci-Fi</td><td>...                            </td><td>0                              </td><td>0                              </td><td>0                              </td><td>1                              </td><td>0                              </td><td>0                              </td><td>0                              </td><td>0                              </td><td>0                              </td><td> 33000                         </td></tr>\n",
       "\t<tr><td>Color                          </td><td>Gore Verbinski                 </td><td>302                            </td><td>169                            </td><td>  563                          </td><td> 1000                          </td><td>Orlando Bloom                  </td><td>40000                          </td><td>309404152                      </td><td>Action|Adventure|Fantasy       </td><td>...                            </td><td>0                              </td><td>0                              </td><td>0                              </td><td>0                              </td><td>0                              </td><td>0                              </td><td>0                              </td><td>0                              </td><td>0                              </td><td>     0                         </td></tr>\n",
       "\t<tr><td>Color                          </td><td>Sam Mendes                     </td><td>602                            </td><td>148                            </td><td>    0                          </td><td>  161                          </td><td>Rory Kinnear                   </td><td>11000                          </td><td>200074175                      </td><td>Action|Adventure|Thriller      </td><td>...                            </td><td>0                              </td><td>0                              </td><td>0                              </td><td>0                              </td><td>0                              </td><td>0                              </td><td>1                              </td><td>0                              </td><td>0                              </td><td> 85000                         </td></tr>\n",
       "\t<tr><td>Color                          </td><td>Christopher Nolan              </td><td>813                            </td><td>164                            </td><td>22000                          </td><td>23000                          </td><td>Christian Bale                 </td><td>27000                          </td><td>448130642                      </td><td>Action|Thriller                </td><td>...                            </td><td>0                              </td><td>0                              </td><td>0                              </td><td>0                              </td><td>0                              </td><td>0                              </td><td>1                              </td><td>0                              </td><td>0                              </td><td>164000                         </td></tr>\n",
       "\t<tr><td>Color                          </td><td>Doug Walker                    </td><td> NA                            </td><td>136                            </td><td>  131                          </td><td>   NA                          </td><td>Rob Walker                     </td><td>  131                          </td><td>NA                             </td><td>Documentary                    </td><td>...                            </td><td>0                              </td><td>0                              </td><td>0                              </td><td>0                              </td><td>0                              </td><td>0                              </td><td>0                              </td><td>0                              </td><td>0                              </td><td>     0                         </td></tr>\n",
       "\t<tr><td>Color                          </td><td>Andrew Stanton                 </td><td>462                            </td><td>132                            </td><td>  475                          </td><td>  530                          </td><td>Samantha Morton                </td><td>  640                          </td><td>73058679                       </td><td>Action|Adventure|Sci-Fi        </td><td>...                            </td><td>0                              </td><td>0                              </td><td>0                              </td><td>1                              </td><td>0                              </td><td>0                              </td><td>0                              </td><td>0                              </td><td>0                              </td><td> 24000                         </td></tr>\n",
       "</tbody>\n",
       "</table>\n"
      ],
      "text/latex": [
       "\\begin{tabular}{r|lllllllllllllllllllllllllllllllllllllllllllllllllllllll}\n",
       " color & director\\_name & num\\_critic\\_for\\_reviews & duration & director\\_facebook\\_likes & actor\\_3\\_facebook\\_likes & actor\\_2\\_name & actor\\_1\\_facebook\\_likes & gross & genres & ... & genres\\_News & genres\\_Reality.TV & genres\\_Romance & genres\\_Sci.Fi & genres\\_Short & genres\\_Sport & genres\\_Thriller & genres\\_War & genres\\_Western & movie\\_facebook\\_likes.1\\\\\n",
       "\\hline\n",
       "\t Color                                                         & James Cameron                                                 & 723                                                           & 178                                                           &     0                                                         &   855                                                         & Joel David Moore                                              &  1000                                                         & 760505847                                                     & Action\\textbar{}Adventure\\textbar{}Fantasy\\textbar{}Sci-Fi & ...                                                           & 0                                                             & 0                                                             & 0                                                             & 1                                                             & 0                                                             & 0                                                             & 0                                                             & 0                                                             & 0                                                             &  33000                                                       \\\\\n",
       "\t Color                                               & Gore Verbinski                                      & 302                                                 & 169                                                 &   563                                               &  1000                                               & Orlando Bloom                                       & 40000                                               & 309404152                                           & Action\\textbar{}Adventure\\textbar{}Fantasy        & ...                                                 & 0                                                   & 0                                                   & 0                                                   & 0                                                   & 0                                                   & 0                                                   & 0                                                   & 0                                                   & 0                                                   &      0                                             \\\\\n",
       "\t Color                                               & Sam Mendes                                          & 602                                                 & 148                                                 &     0                                               &   161                                               & Rory Kinnear                                        & 11000                                               & 200074175                                           & Action\\textbar{}Adventure\\textbar{}Thriller       & ...                                                 & 0                                                   & 0                                                   & 0                                                   & 0                                                   & 0                                                   & 0                                                   & 1                                                   & 0                                                   & 0                                                   &  85000                                             \\\\\n",
       "\t Color                                     & Christopher Nolan                         & 813                                       & 164                                       & 22000                                     & 23000                                     & Christian Bale                            & 27000                                     & 448130642                                 & Action\\textbar{}Thriller                 & ...                                       & 0                                         & 0                                         & 0                                         & 0                                         & 0                                         & 0                                         & 1                                         & 0                                         & 0                                         & 164000                                   \\\\\n",
       "\t Color                           & Doug Walker                     &  NA                             & 136                             &   131                           &    NA                           & Rob Walker                      &   131                           & NA                              & Documentary                     & ...                             & 0                               & 0                               & 0                               & 0                               & 0                               & 0                               & 0                               & 0                               & 0                               &      0                         \\\\\n",
       "\t Color                                               & Andrew Stanton                                      & 462                                                 & 132                                                 &   475                                               &   530                                               & Samantha Morton                                     &   640                                               & 73058679                                            & Action\\textbar{}Adventure\\textbar{}Sci-Fi         & ...                                                 & 0                                                   & 0                                                   & 0                                                   & 1                                                   & 0                                                   & 0                                                   & 0                                                   & 0                                                   & 0                                                   &  24000                                             \\\\\n",
       "\\end{tabular}\n"
      ],
      "text/markdown": [
       "\n",
       "color | director_name | num_critic_for_reviews | duration | director_facebook_likes | actor_3_facebook_likes | actor_2_name | actor_1_facebook_likes | gross | genres | ... | genres_News | genres_Reality.TV | genres_Romance | genres_Sci.Fi | genres_Short | genres_Sport | genres_Thriller | genres_War | genres_Western | movie_facebook_likes.1 | \n",
       "|---|---|---|---|---|---|\n",
       "| Color                           | James Cameron                   | 723                             | 178                             |     0                           |   855                           | Joel David Moore                |  1000                           | 760505847                       | Action|Adventure|Fantasy|Sci-Fi | ...                             | 0                               | 0                               | 0                               | 1                               | 0                               | 0                               | 0                               | 0                               | 0                               |  33000                          | \n",
       "| Color                           | Gore Verbinski                  | 302                             | 169                             |   563                           |  1000                           | Orlando Bloom                   | 40000                           | 309404152                       | Action|Adventure|Fantasy        | ...                             | 0                               | 0                               | 0                               | 0                               | 0                               | 0                               | 0                               | 0                               | 0                               |      0                          | \n",
       "| Color                           | Sam Mendes                      | 602                             | 148                             |     0                           |   161                           | Rory Kinnear                    | 11000                           | 200074175                       | Action|Adventure|Thriller       | ...                             | 0                               | 0                               | 0                               | 0                               | 0                               | 0                               | 1                               | 0                               | 0                               |  85000                          | \n",
       "| Color                           | Christopher Nolan               | 813                             | 164                             | 22000                           | 23000                           | Christian Bale                  | 27000                           | 448130642                       | Action|Thriller                 | ...                             | 0                               | 0                               | 0                               | 0                               | 0                               | 0                               | 1                               | 0                               | 0                               | 164000                          | \n",
       "| Color                           | Doug Walker                     |  NA                             | 136                             |   131                           |    NA                           | Rob Walker                      |   131                           | NA                              | Documentary                     | ...                             | 0                               | 0                               | 0                               | 0                               | 0                               | 0                               | 0                               | 0                               | 0                               |      0                          | \n",
       "| Color                           | Andrew Stanton                  | 462                             | 132                             |   475                           |   530                           | Samantha Morton                 |   640                           | 73058679                        | Action|Adventure|Sci-Fi         | ...                             | 0                               | 0                               | 0                               | 1                               | 0                               | 0                               | 0                               | 0                               | 0                               |  24000                          | \n",
       "\n",
       "\n"
      ],
      "text/plain": [
       "  color director_name     num_critic_for_reviews duration\n",
       "1 Color James Cameron     723                    178     \n",
       "2 Color Gore Verbinski    302                    169     \n",
       "3 Color Sam Mendes        602                    148     \n",
       "4 Color Christopher Nolan 813                    164     \n",
       "5 Color Doug Walker        NA                    136     \n",
       "6 Color Andrew Stanton    462                    132     \n",
       "  director_facebook_likes actor_3_facebook_likes actor_2_name    \n",
       "1     0                     855                  Joel David Moore\n",
       "2   563                    1000                  Orlando Bloom   \n",
       "3     0                     161                  Rory Kinnear    \n",
       "4 22000                   23000                  Christian Bale  \n",
       "5   131                      NA                  Rob Walker      \n",
       "6   475                     530                  Samantha Morton \n",
       "  actor_1_facebook_likes gross     genres                          ...\n",
       "1  1000                  760505847 Action|Adventure|Fantasy|Sci-Fi ...\n",
       "2 40000                  309404152 Action|Adventure|Fantasy        ...\n",
       "3 11000                  200074175 Action|Adventure|Thriller       ...\n",
       "4 27000                  448130642 Action|Thriller                 ...\n",
       "5   131                  NA        Documentary                     ...\n",
       "6   640                  73058679  Action|Adventure|Sci-Fi         ...\n",
       "  genres_News genres_Reality.TV genres_Romance genres_Sci.Fi genres_Short\n",
       "1 0           0                 0              1             0           \n",
       "2 0           0                 0              0             0           \n",
       "3 0           0                 0              0             0           \n",
       "4 0           0                 0              0             0           \n",
       "5 0           0                 0              0             0           \n",
       "6 0           0                 0              1             0           \n",
       "  genres_Sport genres_Thriller genres_War genres_Western movie_facebook_likes.1\n",
       "1 0            0               0          0               33000                \n",
       "2 0            0               0          0                   0                \n",
       "3 0            1               0          0               85000                \n",
       "4 0            1               0          0              164000                \n",
       "5 0            0               0          0                   0                \n",
       "6 0            0               0          0               24000                "
      ]
     },
     "metadata": {},
     "output_type": "display_data"
    },
    {
     "data": {
      "text/html": [
       "<table>\n",
       "<thead><tr><th scope=col>title_year</th><th scope=col>budget</th><th scope=col>movie_title</th><th scope=col>gross</th></tr></thead>\n",
       "<tbody>\n",
       "\t<tr><td>2009                                   </td><td>425000000                              </td><td>Avatar                                 </td><td>760507625                              </td></tr>\n",
       "\t<tr><td>2015                                   </td><td>306000000                              </td><td>Star Wars Ep. VII: The Force Awakens   </td><td>936662225                              </td></tr>\n",
       "\t<tr><td>2007                                   </td><td>300000000                              </td><td>Pirates of the Caribbean: At Worlds End</td><td>309420425                              </td></tr>\n",
       "\t<tr><td>2015                                   </td><td>300000000                              </td><td>Spectre                                </td><td>200074175                              </td></tr>\n",
       "\t<tr><td>2012                                   </td><td>275000000                              </td><td>The Dark Knight Rises                  </td><td>448139099                              </td></tr>\n",
       "\t<tr><td>2013                                   </td><td>275000000                              </td><td>The Lone Ranger                        </td><td>89302115                               </td></tr>\n",
       "</tbody>\n",
       "</table>\n"
      ],
      "text/latex": [
       "\\begin{tabular}{r|llll}\n",
       " title\\_year & budget & movie\\_title & gross\\\\\n",
       "\\hline\n",
       "\t 2009                                    & 425000000                               & Avatar                                  & 760507625                              \\\\\n",
       "\t 2015                                    & 306000000                               & Star Wars Ep. VII: The Force Awakens    & 936662225                              \\\\\n",
       "\t 2007                                    & 300000000                               & Pirates of the Caribbean: At Worlds End & 309420425                              \\\\\n",
       "\t 2015                                    & 300000000                               & Spectre                                 & 200074175                              \\\\\n",
       "\t 2012                                    & 275000000                               & The Dark Knight Rises                   & 448139099                              \\\\\n",
       "\t 2013                                    & 275000000                               & The Lone Ranger                         & 89302115                               \\\\\n",
       "\\end{tabular}\n"
      ],
      "text/markdown": [
       "\n",
       "title_year | budget | movie_title | gross | \n",
       "|---|---|---|---|---|---|\n",
       "| 2009                                    | 425000000                               | Avatar                                  | 760507625                               | \n",
       "| 2015                                    | 306000000                               | Star Wars Ep. VII: The Force Awakens    | 936662225                               | \n",
       "| 2007                                    | 300000000                               | Pirates of the Caribbean: At Worlds End | 309420425                               | \n",
       "| 2015                                    | 300000000                               | Spectre                                 | 200074175                               | \n",
       "| 2012                                    | 275000000                               | The Dark Knight Rises                   | 448139099                               | \n",
       "| 2013                                    | 275000000                               | The Lone Ranger                         | 89302115                                | \n",
       "\n",
       "\n"
      ],
      "text/plain": [
       "  title_year budget    movie_title                             gross    \n",
       "1 2009       425000000 Avatar                                  760507625\n",
       "2 2015       306000000 Star Wars Ep. VII: The Force Awakens    936662225\n",
       "3 2007       300000000 Pirates of the Caribbean: At Worlds End 309420425\n",
       "4 2015       300000000 Spectre                                 200074175\n",
       "5 2012       275000000 The Dark Knight Rises                   448139099\n",
       "6 2013       275000000 The Lone Ranger                         89302115 "
      ]
     },
     "metadata": {},
     "output_type": "display_data"
    }
   ],
   "source": [
    "movies <- read.csv(\"movies_clean_na2.csv\",sep=\";\",stringsAsFactors = F)\n",
    "setDT(movies)\n",
    "head(movies)\n",
    "budget <- read.csv (\"scrap_gross_budget_copie.csv\",stringsAsFactors = F)\n",
    "setDT(budget)\n",
    "head(budget)"
   ]
  },
  {
   "cell_type": "code",
   "execution_count": 61,
   "metadata": {
    "collapsed": false
   },
   "outputs": [
    {
     "name": "stdout",
     "output_type": "stream",
     "text": [
      "Classes 'data.table' and 'data.frame':\t5241 obs. of  4 variables:\n",
      " $ title_year : chr  \"2009\" \"2015\" \"2007\" \"2015\" ...\n",
      " $ budget     : chr  \"425000000\" \"306000000\" \"300000000\" \"300000000\" ...\n",
      " $ movie_title: chr  \"Avatar\" \"Star Wars Ep. VII: The Force Awakens\" \"Pirates of the Caribbean: At Worlds End\" \"Spectre\" ...\n",
      " $ gross      : chr  \"760507625\" \"936662225\" \"309420425\" \"200074175\" ...\n",
      " - attr(*, \".internal.selfref\")=<externalptr> \n"
     ]
    }
   ],
   "source": [
    "str(budget)"
   ]
  },
  {
   "cell_type": "markdown",
   "metadata": {},
   "source": [
    "We see that the variable \"budget\" in the new data set is encoded as a chr variable, so I change it to a numerical variable."
   ]
  },
  {
   "cell_type": "code",
   "execution_count": 62,
   "metadata": {
    "collapsed": false
   },
   "outputs": [
    {
     "name": "stderr",
     "output_type": "stream",
     "text": [
      "Warning message in eval(expr, envir, enclos):\n",
      "\"NAs introduits lors de la conversion automatique\""
     ]
    },
    {
     "name": "stdout",
     "output_type": "stream",
     "text": [
      "Classes 'data.table' and 'data.frame':\t5241 obs. of  4 variables:\n",
      " $ title_year : chr  \"2009\" \"2015\" \"2007\" \"2015\" ...\n",
      " $ budget     : num  425000000 306000000 300000000 300000000 275000000 275000000 275000000 260000000 258000000 250000000 ...\n",
      " $ movie_title: chr  \"Avatar\" \"Star Wars Ep. VII: The Force Awakens\" \"Pirates of the Caribbean: At Worlds End\" \"Spectre\" ...\n",
      " $ gross      : chr  \"760507625\" \"936662225\" \"309420425\" \"200074175\" ...\n",
      " - attr(*, \".internal.selfref\")=<externalptr> \n"
     ]
    }
   ],
   "source": [
    "budget$budget<-as.numeric(budget$budget)\n",
    "str(budget)"
   ]
  },
  {
   "cell_type": "markdown",
   "metadata": {},
   "source": [
    "The function below count the number of missing values in the column \"gross\" and \"budget\" of the original data set. Those are the values that I want to fill in with the new values."
   ]
  },
  {
   "cell_type": "code",
   "execution_count": 63,
   "metadata": {
    "collapsed": false
   },
   "outputs": [
    {
     "name": "stdout",
     "output_type": "stream",
     "text": [
      "[1] \"Number of missing values in budget: 395\"\n",
      "[1] \"Number of missing values in gross: 773\"\n"
     ]
    }
   ],
   "source": [
    "print(paste0(\"Number of missing values in budget: \",sum(is.na(movies[, budget]))))\n",
    "print(paste0(\"Number of missing values in gross: \",sum(is.na(movies[, gross]))))"
   ]
  },
  {
   "cell_type": "markdown",
   "metadata": {},
   "source": [
    "I have to make a custom function to fill the missing \"budget\" and \"gross\" values with the new values. The function below return a vector who's a copy of the column with the missing data. To do this, the function makes a copy of this column, it compares the variables \"movie_title\" and \"title_year\" of a movie in the initial table with those of the movie in the table containing the scrape data with the intention to find the corresponding movie, then verify if the value is missing in the copied column and, if that's the case, it adds the new value. "
   ]
  },
  {
   "cell_type": "code",
   "execution_count": 64,
   "metadata": {
    "collapsed": true
   },
   "outputs": [],
   "source": [
    "fill_budget<-function(title_ref,year_ref,budget_ref,title_to_fill,year_to_fill,budget_to_fill){\n",
    "    value<-budget_to_fill\n",
    "    for (i in 1:length(title_to_fill))\n",
    "    {\n",
    "       index<-which(gsub(\" \", \"\", tolower(title_ref), fixed = TRUE) %in% gsub(\" \", \"\", tolower(title_to_fill[i]), fixed = TRUE)\n",
    "                    & gsub(\" \", \"\", tolower(year_ref), fixed = TRUE) %in% gsub(\" \", \"\", tolower(year_to_fill[i]), fixed = TRUE))\n",
    "       \n",
    "        if(length(index)==0||length(index)>=2)\n",
    "        {\n",
    "           #print(paste0(title_to_fill[i],\": \",length(index)))            \n",
    "        }\n",
    "        else\n",
    "        {\n",
    "            if(is.na(value[i]))\n",
    "            {\n",
    "                value[i]<-budget_ref[index[1]]\n",
    "                #print(paste0(title_to_fill[i],\": \",budget_ref[index[1]]))  \n",
    "            }  \n",
    "        }\n",
    "    } \n",
    "    return(value)\n",
    "}"
   ]
  },
  {
   "cell_type": "markdown",
   "metadata": {},
   "source": [
    "First, I used my function on the \"budget\" variable."
   ]
  },
  {
   "cell_type": "code",
   "execution_count": 65,
   "metadata": {
    "collapsed": false,
    "scrolled": true
   },
   "outputs": [],
   "source": [
    "temp<-fill_budget(budget$movie_title,budget$title_year,budget$budget,movies$movie_title,movies$title_year,movies$budget)"
   ]
  },
  {
   "cell_type": "markdown",
   "metadata": {
    "collapsed": true
   },
   "source": [
    "I count the numbers of missing observations that have been replaced by my function."
   ]
  },
  {
   "cell_type": "code",
   "execution_count": 66,
   "metadata": {
    "collapsed": false
   },
   "outputs": [
    {
     "name": "stdout",
     "output_type": "stream",
     "text": [
      "[1] \"Number of NA in the new vector: 229\"\n",
      "[1] \"Number of NA in the original vector: 395\"\n",
      "[1] \"Ratio: 0.579746835443038\"\n"
     ]
    }
   ],
   "source": [
    "print(paste0(\"Number of NA in the new vector: \",sum(is.na(temp))))\n",
    "print(paste0(\"Number of NA in the original vector: \",sum(is.na(movies[, budget]))))\n",
    "print(paste0(\"Ratio: \",sum(is.na(temp))/sum(is.na(movies[, budget]))))\n"
   ]
  },
  {
   "cell_type": "markdown",
   "metadata": {},
   "source": [
    "I filled more than half of the missing data: not bad! By looking at the name of the movies who still have a missing value, I realized that some movies names in the reference data set are a little bit different than the movie name in the data set with the new budget values. Generally, the difference is small, often a quote missing is the cause of the difference. When I'll have more time, I would like to write a script to fix that problem.\n",
    "\n",
    "Let's make sure my function didn't create any error in the data by comparing the value of the original vector with the vector I created."
   ]
  },
  {
   "cell_type": "code",
   "execution_count": 67,
   "metadata": {
    "collapsed": false
   },
   "outputs": [
    {
     "name": "stdout",
     "output_type": "stream",
     "text": [
      "[1] \"Number of missing values in movies: 395\"\n",
      "[1] \"Number of missing values in the new vector: 229\"\n",
      "[1] \"Number of difference between the two vector: 0\"\n"
     ]
    }
   ],
   "source": [
    "print(paste0(\"Number of missing values in movies: \",sum(is.na(movies[, budget]))))\n",
    "print(paste0(\"Number of missing values in the new vector: \",sum(is.na(temp))))\n",
    "print(paste0(\"Number of difference between the two vector: \",sum(movies[, budget]!=temp, na.rm=TRUE)))"
   ]
  },
  {
   "cell_type": "markdown",
   "metadata": {},
   "source": [
    "Since the only difference between the two vectors are present on the rows where there's a missing value in the first vector, my function didn't change a original value in the first vector. Reassured by that fact, I copied the vector returned by my function in the original data set."
   ]
  },
  {
   "cell_type": "code",
   "execution_count": 68,
   "metadata": {
    "collapsed": false
   },
   "outputs": [],
   "source": [
    "movies$budget<-temp"
   ]
  },
  {
   "cell_type": "markdown",
   "metadata": {},
   "source": [
    "I repeat those steps to fill the missing \"gross\" values."
   ]
  },
  {
   "cell_type": "code",
   "execution_count": 69,
   "metadata": {
    "collapsed": false
   },
   "outputs": [],
   "source": [
    "temp<-fill_budget(budget$movie_title,budget$title_year,budget$gross,movies$movie_title,movies$title_year,movies$gross)"
   ]
  },
  {
   "cell_type": "code",
   "execution_count": 70,
   "metadata": {
    "collapsed": false
   },
   "outputs": [
    {
     "name": "stdout",
     "output_type": "stream",
     "text": [
      "[1] \"Number of NA in the new vector: 390\"\n",
      "[1] \"Number of NA in the original vector: 773\"\n",
      "[1] \"Ratio: 0.504527813712807\"\n"
     ]
    }
   ],
   "source": [
    "print(paste0(\"Number of NA in the new vector: \",sum(is.na(temp))))\n",
    "print(paste0(\"Number of NA in the original vector: \",sum(is.na(movies[, gross]))))\n",
    "print(paste0(\"Ratio: \",sum(is.na(temp))/sum(is.na(movies[, gross]))))"
   ]
  },
  {
   "cell_type": "code",
   "execution_count": 71,
   "metadata": {
    "collapsed": false
   },
   "outputs": [
    {
     "name": "stdout",
     "output_type": "stream",
     "text": [
      "[1] \"Number of missing values in movies: 773\"\n",
      "[1] \"Number of missing values in the new vector: 390\"\n",
      "[1] \"Number of difference between the two vector: 0\"\n"
     ]
    }
   ],
   "source": [
    "print(paste0(\"Number of missing values in movies: \",sum(is.na(movies[, gross]))))\n",
    "print(paste0(\"Number of missing values in the new vector: \",sum(is.na(temp))))\n",
    "print(paste0(\"Number of difference between the two vector: \",sum(movies[, gross]!=temp, na.rm=TRUE)))"
   ]
  },
  {
   "cell_type": "code",
   "execution_count": 72,
   "metadata": {
    "collapsed": true
   },
   "outputs": [],
   "source": [
    "movies$gross<-temp"
   ]
  },
  {
   "cell_type": "markdown",
   "metadata": {},
   "source": [
    "Here's the numbers of missing values in the data set for each variable. Since most of the variables are categorical with too much level to allow for two observations to be similar I'm afraid that to impute missing data would generate too much noise in the data. So, I will capitalise on the fact that my data set is large and I won't use those observations while creating my model. Also, I won't delete the observations with missing values, since the information in those observations will be useful in the estimation of the distribution for each variable.  "
   ]
  },
  {
   "cell_type": "code",
   "execution_count": 73,
   "metadata": {
    "collapsed": false
   },
   "outputs": [
    {
     "data": {
      "text/html": [
       "<dl class=dl-horizontal>\n",
       "\t<dt>color</dt>\n",
       "\t\t<dd>0</dd>\n",
       "\t<dt>director_name</dt>\n",
       "\t\t<dd>1</dd>\n",
       "\t<dt>num_critic_for_reviews</dt>\n",
       "\t\t<dd>43</dd>\n",
       "\t<dt>duration</dt>\n",
       "\t\t<dd>0</dd>\n",
       "\t<dt>director_facebook_likes</dt>\n",
       "\t\t<dd>4</dd>\n",
       "\t<dt>actor_3_facebook_likes</dt>\n",
       "\t\t<dd>20</dd>\n",
       "\t<dt>actor_2_name</dt>\n",
       "\t\t<dd>0</dd>\n",
       "\t<dt>actor_1_facebook_likes</dt>\n",
       "\t\t<dd>8</dd>\n",
       "\t<dt>gross</dt>\n",
       "\t\t<dd>390</dd>\n",
       "\t<dt>genres</dt>\n",
       "\t\t<dd>0</dd>\n",
       "\t<dt>actor_1_name</dt>\n",
       "\t\t<dd>0</dd>\n",
       "\t<dt>movie_title</dt>\n",
       "\t\t<dd>0</dd>\n",
       "\t<dt>num_voted_users</dt>\n",
       "\t\t<dd>0</dd>\n",
       "\t<dt>cast_total_facebook_likes</dt>\n",
       "\t\t<dd>1</dd>\n",
       "\t<dt>actor_3_name</dt>\n",
       "\t\t<dd>0</dd>\n",
       "\t<dt>facenumber_in_poster</dt>\n",
       "\t\t<dd>14</dd>\n",
       "\t<dt>plot_keywords</dt>\n",
       "\t\t<dd>0</dd>\n",
       "\t<dt>movie_imdb_link</dt>\n",
       "\t\t<dd>1</dd>\n",
       "\t<dt>num_user_for_reviews</dt>\n",
       "\t\t<dd>19</dd>\n",
       "\t<dt>language</dt>\n",
       "\t\t<dd>0</dd>\n",
       "\t<dt>country</dt>\n",
       "\t\t<dd>0</dd>\n",
       "\t<dt>content_rating</dt>\n",
       "\t\t<dd>1</dd>\n",
       "\t<dt>budget</dt>\n",
       "\t\t<dd>229</dd>\n",
       "\t<dt>title_year</dt>\n",
       "\t\t<dd>7</dd>\n",
       "\t<dt>actor_2_facebook_likes</dt>\n",
       "\t\t<dd>10</dd>\n",
       "\t<dt>imdb_score</dt>\n",
       "\t\t<dd>1</dd>\n",
       "\t<dt>aspect_ratio</dt>\n",
       "\t\t<dd>307</dd>\n",
       "\t<dt>movie_facebook_likes</dt>\n",
       "\t\t<dd>0</dd>\n",
       "\t<dt>genres_Action</dt>\n",
       "\t\t<dd>0</dd>\n",
       "\t<dt>genres_Adventure</dt>\n",
       "\t\t<dd>66</dd>\n",
       "\t<dt>genres_Animation</dt>\n",
       "\t\t<dd>66</dd>\n",
       "\t<dt>genres_Biography</dt>\n",
       "\t\t<dd>66</dd>\n",
       "\t<dt>genres_Comedy</dt>\n",
       "\t\t<dd>66</dd>\n",
       "\t<dt>genres_Crime</dt>\n",
       "\t\t<dd>66</dd>\n",
       "\t<dt>genres_Documentary</dt>\n",
       "\t\t<dd>66</dd>\n",
       "\t<dt>genres_Drama</dt>\n",
       "\t\t<dd>66</dd>\n",
       "\t<dt>genres_Family</dt>\n",
       "\t\t<dd>66</dd>\n",
       "\t<dt>genres_Fantasy</dt>\n",
       "\t\t<dd>66</dd>\n",
       "\t<dt>genres_Film.Noir</dt>\n",
       "\t\t<dd>66</dd>\n",
       "\t<dt>genres_Game.Show</dt>\n",
       "\t\t<dd>66</dd>\n",
       "\t<dt>genres_History</dt>\n",
       "\t\t<dd>66</dd>\n",
       "\t<dt>genres_Horror</dt>\n",
       "\t\t<dd>66</dd>\n",
       "\t<dt>genres_Music</dt>\n",
       "\t\t<dd>66</dd>\n",
       "\t<dt>genres_Musical</dt>\n",
       "\t\t<dd>66</dd>\n",
       "\t<dt>genres_Mystery</dt>\n",
       "\t\t<dd>66</dd>\n",
       "\t<dt>genres_News</dt>\n",
       "\t\t<dd>66</dd>\n",
       "\t<dt>genres_Reality.TV</dt>\n",
       "\t\t<dd>66</dd>\n",
       "\t<dt>genres_Romance</dt>\n",
       "\t\t<dd>66</dd>\n",
       "\t<dt>genres_Sci.Fi</dt>\n",
       "\t\t<dd>66</dd>\n",
       "\t<dt>genres_Short</dt>\n",
       "\t\t<dd>66</dd>\n",
       "\t<dt>genres_Sport</dt>\n",
       "\t\t<dd>66</dd>\n",
       "\t<dt>genres_Thriller</dt>\n",
       "\t\t<dd>66</dd>\n",
       "\t<dt>genres_War</dt>\n",
       "\t\t<dd>66</dd>\n",
       "\t<dt>genres_Western</dt>\n",
       "\t\t<dd>66</dd>\n",
       "\t<dt>movie_facebook_likes.1</dt>\n",
       "\t\t<dd>66</dd>\n",
       "</dl>\n"
      ],
      "text/latex": [
       "\\begin{description*}\n",
       "\\item[color] 0\n",
       "\\item[director\\textbackslash{}\\_name] 1\n",
       "\\item[num\\textbackslash{}\\_critic\\textbackslash{}\\_for\\textbackslash{}\\_reviews] 43\n",
       "\\item[duration] 0\n",
       "\\item[director\\textbackslash{}\\_facebook\\textbackslash{}\\_likes] 4\n",
       "\\item[actor\\textbackslash{}\\_3\\textbackslash{}\\_facebook\\textbackslash{}\\_likes] 20\n",
       "\\item[actor\\textbackslash{}\\_2\\textbackslash{}\\_name] 0\n",
       "\\item[actor\\textbackslash{}\\_1\\textbackslash{}\\_facebook\\textbackslash{}\\_likes] 8\n",
       "\\item[gross] 390\n",
       "\\item[genres] 0\n",
       "\\item[actor\\textbackslash{}\\_1\\textbackslash{}\\_name] 0\n",
       "\\item[movie\\textbackslash{}\\_title] 0\n",
       "\\item[num\\textbackslash{}\\_voted\\textbackslash{}\\_users] 0\n",
       "\\item[cast\\textbackslash{}\\_total\\textbackslash{}\\_facebook\\textbackslash{}\\_likes] 1\n",
       "\\item[actor\\textbackslash{}\\_3\\textbackslash{}\\_name] 0\n",
       "\\item[facenumber\\textbackslash{}\\_in\\textbackslash{}\\_poster] 14\n",
       "\\item[plot\\textbackslash{}\\_keywords] 0\n",
       "\\item[movie\\textbackslash{}\\_imdb\\textbackslash{}\\_link] 1\n",
       "\\item[num\\textbackslash{}\\_user\\textbackslash{}\\_for\\textbackslash{}\\_reviews] 19\n",
       "\\item[language] 0\n",
       "\\item[country] 0\n",
       "\\item[content\\textbackslash{}\\_rating] 1\n",
       "\\item[budget] 229\n",
       "\\item[title\\textbackslash{}\\_year] 7\n",
       "\\item[actor\\textbackslash{}\\_2\\textbackslash{}\\_facebook\\textbackslash{}\\_likes] 10\n",
       "\\item[imdb\\textbackslash{}\\_score] 1\n",
       "\\item[aspect\\textbackslash{}\\_ratio] 307\n",
       "\\item[movie\\textbackslash{}\\_facebook\\textbackslash{}\\_likes] 0\n",
       "\\item[genres\\textbackslash{}\\_Action] 0\n",
       "\\item[genres\\textbackslash{}\\_Adventure] 66\n",
       "\\item[genres\\textbackslash{}\\_Animation] 66\n",
       "\\item[genres\\textbackslash{}\\_Biography] 66\n",
       "\\item[genres\\textbackslash{}\\_Comedy] 66\n",
       "\\item[genres\\textbackslash{}\\_Crime] 66\n",
       "\\item[genres\\textbackslash{}\\_Documentary] 66\n",
       "\\item[genres\\textbackslash{}\\_Drama] 66\n",
       "\\item[genres\\textbackslash{}\\_Family] 66\n",
       "\\item[genres\\textbackslash{}\\_Fantasy] 66\n",
       "\\item[genres\\textbackslash{}\\_Film.Noir] 66\n",
       "\\item[genres\\textbackslash{}\\_Game.Show] 66\n",
       "\\item[genres\\textbackslash{}\\_History] 66\n",
       "\\item[genres\\textbackslash{}\\_Horror] 66\n",
       "\\item[genres\\textbackslash{}\\_Music] 66\n",
       "\\item[genres\\textbackslash{}\\_Musical] 66\n",
       "\\item[genres\\textbackslash{}\\_Mystery] 66\n",
       "\\item[genres\\textbackslash{}\\_News] 66\n",
       "\\item[genres\\textbackslash{}\\_Reality.TV] 66\n",
       "\\item[genres\\textbackslash{}\\_Romance] 66\n",
       "\\item[genres\\textbackslash{}\\_Sci.Fi] 66\n",
       "\\item[genres\\textbackslash{}\\_Short] 66\n",
       "\\item[genres\\textbackslash{}\\_Sport] 66\n",
       "\\item[genres\\textbackslash{}\\_Thriller] 66\n",
       "\\item[genres\\textbackslash{}\\_War] 66\n",
       "\\item[genres\\textbackslash{}\\_Western] 66\n",
       "\\item[movie\\textbackslash{}\\_facebook\\textbackslash{}\\_likes.1] 66\n",
       "\\end{description*}\n"
      ],
      "text/markdown": [
       "color\n",
       ":   0director_name\n",
       ":   1num_critic_for_reviews\n",
       ":   43duration\n",
       ":   0director_facebook_likes\n",
       ":   4actor_3_facebook_likes\n",
       ":   20actor_2_name\n",
       ":   0actor_1_facebook_likes\n",
       ":   8gross\n",
       ":   390genres\n",
       ":   0actor_1_name\n",
       ":   0movie_title\n",
       ":   0num_voted_users\n",
       ":   0cast_total_facebook_likes\n",
       ":   1actor_3_name\n",
       ":   0facenumber_in_poster\n",
       ":   14plot_keywords\n",
       ":   0movie_imdb_link\n",
       ":   1num_user_for_reviews\n",
       ":   19language\n",
       ":   0country\n",
       ":   0content_rating\n",
       ":   1budget\n",
       ":   229title_year\n",
       ":   7actor_2_facebook_likes\n",
       ":   10imdb_score\n",
       ":   1aspect_ratio\n",
       ":   307movie_facebook_likes\n",
       ":   0genres_Action\n",
       ":   0genres_Adventure\n",
       ":   66genres_Animation\n",
       ":   66genres_Biography\n",
       ":   66genres_Comedy\n",
       ":   66genres_Crime\n",
       ":   66genres_Documentary\n",
       ":   66genres_Drama\n",
       ":   66genres_Family\n",
       ":   66genres_Fantasy\n",
       ":   66genres_Film.Noir\n",
       ":   66genres_Game.Show\n",
       ":   66genres_History\n",
       ":   66genres_Horror\n",
       ":   66genres_Music\n",
       ":   66genres_Musical\n",
       ":   66genres_Mystery\n",
       ":   66genres_News\n",
       ":   66genres_Reality.TV\n",
       ":   66genres_Romance\n",
       ":   66genres_Sci.Fi\n",
       ":   66genres_Short\n",
       ":   66genres_Sport\n",
       ":   66genres_Thriller\n",
       ":   66genres_War\n",
       ":   66genres_Western\n",
       ":   66movie_facebook_likes.1\n",
       ":   66\n",
       "\n"
      ],
      "text/plain": [
       "                    color             director_name    num_critic_for_reviews \n",
       "                        0                         1                        43 \n",
       "                 duration   director_facebook_likes    actor_3_facebook_likes \n",
       "                        0                         4                        20 \n",
       "             actor_2_name    actor_1_facebook_likes                     gross \n",
       "                        0                         8                       390 \n",
       "                   genres              actor_1_name               movie_title \n",
       "                        0                         0                         0 \n",
       "          num_voted_users cast_total_facebook_likes              actor_3_name \n",
       "                        0                         1                         0 \n",
       "     facenumber_in_poster             plot_keywords           movie_imdb_link \n",
       "                       14                         0                         1 \n",
       "     num_user_for_reviews                  language                   country \n",
       "                       19                         0                         0 \n",
       "           content_rating                    budget                title_year \n",
       "                        1                       229                         7 \n",
       "   actor_2_facebook_likes                imdb_score              aspect_ratio \n",
       "                       10                         1                       307 \n",
       "     movie_facebook_likes             genres_Action          genres_Adventure \n",
       "                        0                         0                        66 \n",
       "         genres_Animation          genres_Biography             genres_Comedy \n",
       "                       66                        66                        66 \n",
       "             genres_Crime        genres_Documentary              genres_Drama \n",
       "                       66                        66                        66 \n",
       "            genres_Family            genres_Fantasy          genres_Film.Noir \n",
       "                       66                        66                        66 \n",
       "         genres_Game.Show            genres_History             genres_Horror \n",
       "                       66                        66                        66 \n",
       "             genres_Music            genres_Musical            genres_Mystery \n",
       "                       66                        66                        66 \n",
       "              genres_News         genres_Reality.TV            genres_Romance \n",
       "                       66                        66                        66 \n",
       "            genres_Sci.Fi              genres_Short              genres_Sport \n",
       "                       66                        66                        66 \n",
       "          genres_Thriller                genres_War            genres_Western \n",
       "                       66                        66                        66 \n",
       "   movie_facebook_likes.1 \n",
       "                       66 "
      ]
     },
     "metadata": {},
     "output_type": "display_data"
    }
   ],
   "source": [
    "sapply(movies, function(y) sum(length(which(is.na(y)))))"
   ]
  },
  {
   "cell_type": "code",
   "execution_count": 74,
   "metadata": {
    "collapsed": false
   },
   "outputs": [],
   "source": [
    "#write.table(movies,file =\"movies_clean_budget.csv\",row.names=FALSE,sep=\";\")"
   ]
  },
  {
   "cell_type": "markdown",
   "metadata": {
    "collapsed": true
   },
   "source": [
    "# Converting the currency"
   ]
  },
  {
   "cell_type": "markdown",
   "metadata": {},
   "source": [
    "Here I'm cheating a little bit: I realised there was a problem with the data way into the exploration phase, which will be my next article. But, even though I saw this problem way past this particular point, I believe that I should covert it while I'm cleaning the data. So without further adieu, let's look at the distribution of the \"budget\" variable."
   ]
  },
  {
   "cell_type": "code",
   "execution_count": 75,
   "metadata": {
    "collapsed": false
   },
   "outputs": [
    {
     "name": "stderr",
     "output_type": "stream",
     "text": [
      "Warning message:\n",
      "\"Ignoring 229 observations\""
     ]
    },
    {
     "data": {
      "text/html": [
       "<iframe src=\"plotlyJupyterHTML/2f88f2e1a8f6d0bffa0e08856ca7976d.html\" width=\"100%\" height=\"400\" id=\"igraph\" scrolling=\"no\" seamless=\"seamless\" frameBorder=\"0\"> </iframe>"
      ]
     },
     "metadata": {},
     "output_type": "display_data"
    }
   ],
   "source": [
    "budget_hist <- plot_ly(x=~movies$budget,type=\"histogram\")\n",
    "embed_notebook(budget_hist)"
   ]
  },
  {
   "cell_type": "code",
   "execution_count": 76,
   "metadata": {
    "collapsed": false
   },
   "outputs": [
    {
     "name": "stderr",
     "output_type": "stream",
     "text": [
      "Warning message:\n",
      "\"Ignoring 229 observations\""
     ]
    },
    {
     "data": {
      "text/html": [
       "<iframe src=\"plotlyJupyterHTML/a822d2c38945e345c3c371351bd43e1c.html\" width=\"100%\" height=\"400\" id=\"igraph\" scrolling=\"no\" seamless=\"seamless\" frameBorder=\"0\"> </iframe>"
      ]
     },
     "metadata": {},
     "output_type": "display_data"
    }
   ],
   "source": [
    "budget_box<-plot_ly(y=~movies$budget,type=\"box\")\n",
    "embed_notebook(budget_box)"
   ]
  },
  {
   "cell_type": "markdown",
   "metadata": {},
   "source": [
    "When the outliers of your graph are so far away from the mode of the distribution that your histogram look like a density plot, something's wrong! Let's look at the table to have a better sense of what is happening. "
   ]
  },
  {
   "cell_type": "code",
   "execution_count": 77,
   "metadata": {
    "collapsed": false
   },
   "outputs": [
    {
     "data": {
      "text/html": [
       "<table>\n",
       "<thead><tr><th scope=col>movie_title</th><th scope=col>budget</th><th scope=col>gross</th><th scope=col>country</th><th scope=col>title_year</th></tr></thead>\n",
       "<tbody>\n",
       "\t<tr><td>The Host              </td><td>12215500000           </td><td>2201412               </td><td>South Korea           </td><td>2006                  </td></tr>\n",
       "\t<tr><td>Lady Vengeance        </td><td> 4200000000           </td><td>211667                </td><td>South Korea           </td><td>2005                  </td></tr>\n",
       "\t<tr><td>Fateless              </td><td> 2500000000           </td><td>195888                </td><td>Hungary               </td><td>2005                  </td></tr>\n",
       "\t<tr><td>Princess Mononoke     </td><td> 2400000000           </td><td>2298191               </td><td>Japan                 </td><td>1997                  </td></tr>\n",
       "\t<tr><td>Steamboy              </td><td> 2127519898           </td><td>410388                </td><td>Japan                 </td><td>2004                  </td></tr>\n",
       "\t<tr><td>Akira                 </td><td> 1100000000           </td><td>439162                </td><td>Japan                 </td><td>1988                  </td></tr>\n",
       "\t<tr><td>Godzilla 2000         </td><td> 1000000000           </td><td>10037390              </td><td>Japan                 </td><td>1999                  </td></tr>\n",
       "\t<tr><td>Kabhi Alvida Naa Kehna</td><td>  700000000           </td><td>3275443               </td><td>India                 </td><td>2006                  </td></tr>\n",
       "\t<tr><td>Tango                 </td><td>  700000000           </td><td>1687311               </td><td>Spain                 </td><td>1998                  </td></tr>\n",
       "\t<tr><td>Kites                 </td><td>  600000000           </td><td>1602466               </td><td>India                 </td><td>2010                  </td></tr>\n",
       "</tbody>\n",
       "</table>\n"
      ],
      "text/latex": [
       "\\begin{tabular}{r|lllll}\n",
       " movie\\_title & budget & gross & country & title\\_year\\\\\n",
       "\\hline\n",
       "\t The Host               & 12215500000            & 2201412                & South Korea            & 2006                  \\\\\n",
       "\t Lady Vengeance         &  4200000000            & 211667                 & South Korea            & 2005                  \\\\\n",
       "\t Fateless               &  2500000000            & 195888                 & Hungary                & 2005                  \\\\\n",
       "\t Princess Mononoke      &  2400000000            & 2298191                & Japan                  & 1997                  \\\\\n",
       "\t Steamboy               &  2127519898            & 410388                 & Japan                  & 2004                  \\\\\n",
       "\t Akira                  &  1100000000            & 439162                 & Japan                  & 1988                  \\\\\n",
       "\t Godzilla 2000          &  1000000000            & 10037390               & Japan                  & 1999                  \\\\\n",
       "\t Kabhi Alvida Naa Kehna &   700000000            & 3275443                & India                  & 2006                  \\\\\n",
       "\t Tango                  &   700000000            & 1687311                & Spain                  & 1998                  \\\\\n",
       "\t Kites                  &   600000000            & 1602466                & India                  & 2010                  \\\\\n",
       "\\end{tabular}\n"
      ],
      "text/markdown": [
       "\n",
       "movie_title | budget | gross | country | title_year | \n",
       "|---|---|---|---|---|---|---|---|---|---|\n",
       "| The Host               | 12215500000            | 2201412                | South Korea            | 2006                   | \n",
       "| Lady Vengeance         |  4200000000            | 211667                 | South Korea            | 2005                   | \n",
       "| Fateless               |  2500000000            | 195888                 | Hungary                | 2005                   | \n",
       "| Princess Mononoke      |  2400000000            | 2298191                | Japan                  | 1997                   | \n",
       "| Steamboy               |  2127519898            | 410388                 | Japan                  | 2004                   | \n",
       "| Akira                  |  1100000000            | 439162                 | Japan                  | 1988                   | \n",
       "| Godzilla 2000          |  1000000000            | 10037390               | Japan                  | 1999                   | \n",
       "| Kabhi Alvida Naa Kehna |   700000000            | 3275443                | India                  | 2006                   | \n",
       "| Tango                  |   700000000            | 1687311                | Spain                  | 1998                   | \n",
       "| Kites                  |   600000000            | 1602466                | India                  | 2010                   | \n",
       "\n",
       "\n"
      ],
      "text/plain": [
       "   movie_title            budget      gross    country     title_year\n",
       "1  The Host               12215500000 2201412  South Korea 2006      \n",
       "2  Lady Vengeance          4200000000 211667   South Korea 2005      \n",
       "3  Fateless                2500000000 195888   Hungary     2005      \n",
       "4  Princess Mononoke       2400000000 2298191  Japan       1997      \n",
       "5  Steamboy                2127519898 410388   Japan       2004      \n",
       "6  Akira                   1100000000 439162   Japan       1988      \n",
       "7  Godzilla 2000           1000000000 10037390 Japan       1999      \n",
       "8  Kabhi Alvida Naa Kehna   700000000 3275443  India       2006      \n",
       "9  Tango                    700000000 1687311  Spain       1998      \n",
       "10 Kites                    600000000 1602466  India       2010      "
      ]
     },
     "metadata": {},
     "output_type": "display_data"
    }
   ],
   "source": [
    "temp<-data.table(movie_title=movies$movie_title,budget=movies$budget,gross=movies$gross,\n",
    "                 country=movies$country,title_year=movies$title_year)\n",
    "temp<-temp[order(-budget)]\n",
    "head(temp, n=10)"
   ]
  },
  {
   "cell_type": "markdown",
   "metadata": {
    "collapsed": false
   },
   "source": [
    "We see that foreing movie skew the distribution of that variable, especially the Asian films. That is because those \"budget\" and \"gross\" revenues are listed in a foreign currency and since most currencies have an exchange rate bigger than one with the US dollar, their value tends to skew negatively those two distributions.\n",
    "\n",
    "I looked at the movie from South Korea to see how I could deal with this problem."
   ]
  },
  {
   "cell_type": "code",
   "execution_count": 78,
   "metadata": {
    "collapsed": false
   },
   "outputs": [
    {
     "data": {
      "text/html": [
       "<table>\n",
       "<thead><tr><th scope=col>movie_title</th><th scope=col>budget</th><th scope=col>gross</th><th scope=col>country</th><th scope=col>title_year</th></tr></thead>\n",
       "<tbody>\n",
       "\t<tr><td>The Host                           </td><td>12215500000                        </td><td>2201412                            </td><td>South Korea                        </td><td>2006                               </td></tr>\n",
       "\t<tr><td>Lady Vengeance                     </td><td> 4200000000                        </td><td>211667                             </td><td>South Korea                        </td><td>2005                               </td></tr>\n",
       "\t<tr><td>Inchon                             </td><td>   48000000                        </td><td>NA                                 </td><td>South Korea                        </td><td>1981                               </td></tr>\n",
       "\t<tr><td>Snowpiercer                        </td><td>   39200000                        </td><td>4563029                            </td><td>South Korea                        </td><td>2013                               </td></tr>\n",
       "\t<tr><td>Dragon Wars: D-War                 </td><td>   35000000                        </td><td>10956379                           </td><td>South Korea                        </td><td>2007                               </td></tr>\n",
       "\t<tr><td>The Last Godfather                 </td><td>   13400000                        </td><td>163591                             </td><td>South Korea                        </td><td>2010                               </td></tr>\n",
       "\t<tr><td>Tae Guk Gi: The Brotherhood of War </td><td>   12800000                        </td><td>1110186                            </td><td>South Korea                        </td><td>2004                               </td></tr>\n",
       "\t<tr><td>Operation Chromite                 </td><td>   12620000                        </td><td>31662                              </td><td>South Korea                        </td><td>2016                               </td></tr>\n",
       "\t<tr><td>Jungle Shuffle                     </td><td>   10000000                        </td><td>NA                                 </td><td>South Korea                        </td><td>2014                               </td></tr>\n",
       "\t<tr><td>\\The Good, the Bad, the Weird \\\"\"</td><td>   10000000                        </td><td>128486                             </td><td>South Korea                        </td><td>2008                               </td></tr>\n",
       "\t<tr><td>Silmido                            </td><td>    8000000                        </td><td>NA                                 </td><td>South Korea                        </td><td>2003                               </td></tr>\n",
       "\t<tr><td>Oldboy                             </td><td>    3000000                        </td><td>2181290                            </td><td>South Korea                        </td><td>2003                               </td></tr>\n",
       "\t<tr><td>Tidal Wave                         </td><td>         NA                        </td><td>NA                                 </td><td>South Korea                        </td><td>2009                               </td></tr>\n",
       "\t<tr><td>The Wailing                        </td><td>         NA                        </td><td>770629                             </td><td>South Korea                        </td><td>2016                               </td></tr>\n",
       "</tbody>\n",
       "</table>\n"
      ],
      "text/latex": [
       "\\begin{tabular}{r|lllll}\n",
       " movie\\_title & budget & gross & country & title\\_year\\\\\n",
       "\\hline\n",
       "\t The Host                            & 12215500000                         & 2201412                             & South Korea                         & 2006                               \\\\\n",
       "\t Lady Vengeance                      &  4200000000                         & 211667                              & South Korea                         & 2005                               \\\\\n",
       "\t Inchon                              &    48000000                         & NA                                  & South Korea                         & 1981                               \\\\\n",
       "\t Snowpiercer                         &    39200000                         & 4563029                             & South Korea                         & 2013                               \\\\\n",
       "\t Dragon Wars: D-War                  &    35000000                         & 10956379                            & South Korea                         & 2007                               \\\\\n",
       "\t The Last Godfather                  &    13400000                         & 163591                              & South Korea                         & 2010                               \\\\\n",
       "\t Tae Guk Gi: The Brotherhood of War  &    12800000                         & 1110186                             & South Korea                         & 2004                               \\\\\n",
       "\t Operation Chromite                  &    12620000                         & 31662                               & South Korea                         & 2016                               \\\\\n",
       "\t Jungle Shuffle                      &    10000000                         & NA                                  & South Korea                         & 2014                               \\\\\n",
       "\t \\textbackslash{}The Good, the Bad, the Weird \\textbackslash{}\"\" &    10000000                                                       & 128486                                                            & South Korea                                                       & 2008                                                             \\\\\n",
       "\t Silmido                             &     8000000                         & NA                                  & South Korea                         & 2003                               \\\\\n",
       "\t Oldboy                              &     3000000                         & 2181290                             & South Korea                         & 2003                               \\\\\n",
       "\t Tidal Wave                          &          NA                         & NA                                  & South Korea                         & 2009                               \\\\\n",
       "\t The Wailing                         &          NA                         & 770629                              & South Korea                         & 2016                               \\\\\n",
       "\\end{tabular}\n"
      ],
      "text/markdown": [
       "\n",
       "movie_title | budget | gross | country | title_year | \n",
       "|---|---|---|---|---|---|---|---|---|---|---|---|---|---|\n",
       "| The Host                            | 12215500000                         | 2201412                             | South Korea                         | 2006                                | \n",
       "| Lady Vengeance                      |  4200000000                         | 211667                              | South Korea                         | 2005                                | \n",
       "| Inchon                              |    48000000                         | NA                                  | South Korea                         | 1981                                | \n",
       "| Snowpiercer                         |    39200000                         | 4563029                             | South Korea                         | 2013                                | \n",
       "| Dragon Wars: D-War                  |    35000000                         | 10956379                            | South Korea                         | 2007                                | \n",
       "| The Last Godfather                  |    13400000                         | 163591                              | South Korea                         | 2010                                | \n",
       "| Tae Guk Gi: The Brotherhood of War  |    12800000                         | 1110186                             | South Korea                         | 2004                                | \n",
       "| Operation Chromite                  |    12620000                         | 31662                               | South Korea                         | 2016                                | \n",
       "| Jungle Shuffle                      |    10000000                         | NA                                  | South Korea                         | 2014                                | \n",
       "| \\The Good, the Bad, the Weird \\\"\" |    10000000                         | 128486                              | South Korea                         | 2008                                | \n",
       "| Silmido                             |     8000000                         | NA                                  | South Korea                         | 2003                                | \n",
       "| Oldboy                              |     3000000                         | 2181290                             | South Korea                         | 2003                                | \n",
       "| Tidal Wave                          |          NA                         | NA                                  | South Korea                         | 2009                                | \n",
       "| The Wailing                         |          NA                         | 770629                              | South Korea                         | 2016                                | \n",
       "\n",
       "\n"
      ],
      "text/plain": [
       "   movie_title                         budget      gross    country    \n",
       "1  The Host                            12215500000 2201412  South Korea\n",
       "2  Lady Vengeance                       4200000000 211667   South Korea\n",
       "3  Inchon                                 48000000 NA       South Korea\n",
       "4  Snowpiercer                            39200000 4563029  South Korea\n",
       "5  Dragon Wars: D-War                     35000000 10956379 South Korea\n",
       "6  The Last Godfather                     13400000 163591   South Korea\n",
       "7  Tae Guk Gi: The Brotherhood of War     12800000 1110186  South Korea\n",
       "8  Operation Chromite                     12620000 31662    South Korea\n",
       "9  Jungle Shuffle                         10000000 NA       South Korea\n",
       "10 \\\\The Good, the Bad, the Weird \\\\\"\"    10000000 128486   South Korea\n",
       "11 Silmido                                 8000000 NA       South Korea\n",
       "12 Oldboy                                  3000000 2181290  South Korea\n",
       "13 Tidal Wave                                   NA NA       South Korea\n",
       "14 The Wailing                                  NA 770629   South Korea\n",
       "   title_year\n",
       "1  2006      \n",
       "2  2005      \n",
       "3  1981      \n",
       "4  2013      \n",
       "5  2007      \n",
       "6  2010      \n",
       "7  2004      \n",
       "8  2016      \n",
       "9  2014      \n",
       "10 2008      \n",
       "11 2003      \n",
       "12 2003      \n",
       "13 2009      \n",
       "14 2016      "
      ]
     },
     "metadata": {},
     "output_type": "display_data"
    }
   ],
   "source": [
    "temp[temp$country==\"South Korea\"]"
   ]
  },
  {
   "cell_type": "markdown",
   "metadata": {},
   "source": [
    "The budget for \"Oldboy\" is in US dollar. This observation tells me that I can't just convert all budgets of foreign movie without taking for consideration in which currency it is valued. Maybe I can convert the budget of foreign movies with budget high enough to indicate that it's not written in us dollar, let's say 50 000 000$? Of course, it's not an optimal approach, because some movies that cost under 50 million dollars will still be written in a foreign currency, but this approach would diminish the negative skew of the distribution and be the most time effective.\n",
    "\n",
    "On the next table, the foreign movies with a budget of more than 50 million dollars are displayed in descending order."
   ]
  },
  {
   "cell_type": "code",
   "execution_count": 79,
   "metadata": {
    "collapsed": false
   },
   "outputs": [
    {
     "data": {
      "text/html": [
       "<table>\n",
       "<thead><tr><th scope=col>movie_title</th><th scope=col>budget</th><th scope=col>gross</th><th scope=col>country</th><th scope=col>title_year</th></tr></thead>\n",
       "<tbody>\n",
       "\t<tr><td>The Host                                 </td><td>12215500000                              </td><td>2201412                                  </td><td>South Korea                              </td><td>2006                                     </td></tr>\n",
       "\t<tr><td>Lady Vengeance                           </td><td> 4200000000                              </td><td>211667                                   </td><td>South Korea                              </td><td>2005                                     </td></tr>\n",
       "\t<tr><td>Fateless                                 </td><td> 2500000000                              </td><td>195888                                   </td><td>Hungary                                  </td><td>2005                                     </td></tr>\n",
       "\t<tr><td>Princess Mononoke                        </td><td> 2400000000                              </td><td>2298191                                  </td><td>Japan                                    </td><td>1997                                     </td></tr>\n",
       "\t<tr><td>Steamboy                                 </td><td> 2127519898                              </td><td>410388                                   </td><td>Japan                                    </td><td>2004                                     </td></tr>\n",
       "\t<tr><td>Akira                                    </td><td> 1100000000                              </td><td>439162                                   </td><td>Japan                                    </td><td>1988                                     </td></tr>\n",
       "\t<tr><td>Godzilla 2000                            </td><td> 1000000000                              </td><td>10037390                                 </td><td>Japan                                    </td><td>1999                                     </td></tr>\n",
       "\t<tr><td>Kabhi Alvida Naa Kehna                   </td><td>  700000000                              </td><td>3275443                                  </td><td>India                                    </td><td>2006                                     </td></tr>\n",
       "\t<tr><td>Tango                                    </td><td>  700000000                              </td><td>1687311                                  </td><td>Spain                                    </td><td>1998                                     </td></tr>\n",
       "\t<tr><td>Kites                                    </td><td>  600000000                              </td><td>1602466                                  </td><td>India                                    </td><td>2010                                     </td></tr>\n",
       "\t<tr><td>Red Cliff                                </td><td>  553632000                              </td><td>626809                                   </td><td>China                                    </td><td>2008                                     </td></tr>\n",
       "\t<tr><td>The Legend of Suriyothai                 </td><td>  400000000                              </td><td>454255                                   </td><td>Thailand                                 </td><td>2001                                     </td></tr>\n",
       "\t<tr><td>The Messenger: The Story of Joan of Arc  </td><td>  390000000                              </td><td>14131298                                 </td><td>France                                   </td><td>1999                                     </td></tr>\n",
       "\t<tr><td>Ong-bak 2                                </td><td>  300000000                              </td><td>102055                                   </td><td>Thailand                                 </td><td>2008                                     </td></tr>\n",
       "\t<tr><td>Harry Potter and the Half-Blood Prince   </td><td>  250000000                              </td><td>301956980                                </td><td>UK                                       </td><td>2009                                     </td></tr>\n",
       "\t<tr><td>The Hobbit: The Battle of the Five Armies</td><td>  250000000                              </td><td>255108370                                </td><td>New Zealand                              </td><td>2014                                     </td></tr>\n",
       "\t<tr><td>Spectre                                  </td><td>  245000000                              </td><td>200074175                                </td><td>UK                                       </td><td>2015                                     </td></tr>\n",
       "\t<tr><td>X-Men: The Last Stand                    </td><td>  210000000                              </td><td>234360014                                </td><td>Canada                                   </td><td>2006                                     </td></tr>\n",
       "\t<tr><td>King Kong                                </td><td>  207000000                              </td><td>218051260                                </td><td>New Zealand                              </td><td>2005                                     </td></tr>\n",
       "\t<tr><td>King Kong                                </td><td>  207000000                              </td><td>218051260                                </td><td>New Zealand                              </td><td>2005                                     </td></tr>\n",
       "</tbody>\n",
       "</table>\n"
      ],
      "text/latex": [
       "\\begin{tabular}{r|lllll}\n",
       " movie\\_title & budget & gross & country & title\\_year\\\\\n",
       "\\hline\n",
       "\t The Host                                  & 12215500000                               & 2201412                                   & South Korea                               & 2006                                     \\\\\n",
       "\t Lady Vengeance                            &  4200000000                               & 211667                                    & South Korea                               & 2005                                     \\\\\n",
       "\t Fateless                                  &  2500000000                               & 195888                                    & Hungary                                   & 2005                                     \\\\\n",
       "\t Princess Mononoke                         &  2400000000                               & 2298191                                   & Japan                                     & 1997                                     \\\\\n",
       "\t Steamboy                                  &  2127519898                               & 410388                                    & Japan                                     & 2004                                     \\\\\n",
       "\t Akira                                     &  1100000000                               & 439162                                    & Japan                                     & 1988                                     \\\\\n",
       "\t Godzilla 2000                             &  1000000000                               & 10037390                                  & Japan                                     & 1999                                     \\\\\n",
       "\t Kabhi Alvida Naa Kehna                    &   700000000                               & 3275443                                   & India                                     & 2006                                     \\\\\n",
       "\t Tango                                     &   700000000                               & 1687311                                   & Spain                                     & 1998                                     \\\\\n",
       "\t Kites                                     &   600000000                               & 1602466                                   & India                                     & 2010                                     \\\\\n",
       "\t Red Cliff                                 &   553632000                               & 626809                                    & China                                     & 2008                                     \\\\\n",
       "\t The Legend of Suriyothai                  &   400000000                               & 454255                                    & Thailand                                  & 2001                                     \\\\\n",
       "\t The Messenger: The Story of Joan of Arc   &   390000000                               & 14131298                                  & France                                    & 1999                                     \\\\\n",
       "\t Ong-bak 2                                 &   300000000                               & 102055                                    & Thailand                                  & 2008                                     \\\\\n",
       "\t Harry Potter and the Half-Blood Prince    &   250000000                               & 301956980                                 & UK                                        & 2009                                     \\\\\n",
       "\t The Hobbit: The Battle of the Five Armies &   250000000                               & 255108370                                 & New Zealand                               & 2014                                     \\\\\n",
       "\t Spectre                                   &   245000000                               & 200074175                                 & UK                                        & 2015                                     \\\\\n",
       "\t X-Men: The Last Stand                     &   210000000                               & 234360014                                 & Canada                                    & 2006                                     \\\\\n",
       "\t King Kong                                 &   207000000                               & 218051260                                 & New Zealand                               & 2005                                     \\\\\n",
       "\t King Kong                                 &   207000000                               & 218051260                                 & New Zealand                               & 2005                                     \\\\\n",
       "\\end{tabular}\n"
      ],
      "text/markdown": [
       "\n",
       "movie_title | budget | gross | country | title_year | \n",
       "|---|---|---|---|---|---|---|---|---|---|---|---|---|---|---|---|---|---|---|---|\n",
       "| The Host                                  | 12215500000                               | 2201412                                   | South Korea                               | 2006                                      | \n",
       "| Lady Vengeance                            |  4200000000                               | 211667                                    | South Korea                               | 2005                                      | \n",
       "| Fateless                                  |  2500000000                               | 195888                                    | Hungary                                   | 2005                                      | \n",
       "| Princess Mononoke                         |  2400000000                               | 2298191                                   | Japan                                     | 1997                                      | \n",
       "| Steamboy                                  |  2127519898                               | 410388                                    | Japan                                     | 2004                                      | \n",
       "| Akira                                     |  1100000000                               | 439162                                    | Japan                                     | 1988                                      | \n",
       "| Godzilla 2000                             |  1000000000                               | 10037390                                  | Japan                                     | 1999                                      | \n",
       "| Kabhi Alvida Naa Kehna                    |   700000000                               | 3275443                                   | India                                     | 2006                                      | \n",
       "| Tango                                     |   700000000                               | 1687311                                   | Spain                                     | 1998                                      | \n",
       "| Kites                                     |   600000000                               | 1602466                                   | India                                     | 2010                                      | \n",
       "| Red Cliff                                 |   553632000                               | 626809                                    | China                                     | 2008                                      | \n",
       "| The Legend of Suriyothai                  |   400000000                               | 454255                                    | Thailand                                  | 2001                                      | \n",
       "| The Messenger: The Story of Joan of Arc   |   390000000                               | 14131298                                  | France                                    | 1999                                      | \n",
       "| Ong-bak 2                                 |   300000000                               | 102055                                    | Thailand                                  | 2008                                      | \n",
       "| Harry Potter and the Half-Blood Prince    |   250000000                               | 301956980                                 | UK                                        | 2009                                      | \n",
       "| The Hobbit: The Battle of the Five Armies |   250000000                               | 255108370                                 | New Zealand                               | 2014                                      | \n",
       "| Spectre                                   |   245000000                               | 200074175                                 | UK                                        | 2015                                      | \n",
       "| X-Men: The Last Stand                     |   210000000                               | 234360014                                 | Canada                                    | 2006                                      | \n",
       "| King Kong                                 |   207000000                               | 218051260                                 | New Zealand                               | 2005                                      | \n",
       "| King Kong                                 |   207000000                               | 218051260                                 | New Zealand                               | 2005                                      | \n",
       "\n",
       "\n"
      ],
      "text/plain": [
       "   movie_title                               budget      gross     country    \n",
       "1  The Host                                  12215500000 2201412   South Korea\n",
       "2  Lady Vengeance                             4200000000 211667    South Korea\n",
       "3  Fateless                                   2500000000 195888    Hungary    \n",
       "4  Princess Mononoke                          2400000000 2298191   Japan      \n",
       "5  Steamboy                                   2127519898 410388    Japan      \n",
       "6  Akira                                      1100000000 439162    Japan      \n",
       "7  Godzilla 2000                              1000000000 10037390  Japan      \n",
       "8  Kabhi Alvida Naa Kehna                      700000000 3275443   India      \n",
       "9  Tango                                       700000000 1687311   Spain      \n",
       "10 Kites                                       600000000 1602466   India      \n",
       "11 Red Cliff                                   553632000 626809    China      \n",
       "12 The Legend of Suriyothai                    400000000 454255    Thailand   \n",
       "13 The Messenger: The Story of Joan of Arc     390000000 14131298  France     \n",
       "14 Ong-bak 2                                   300000000 102055    Thailand   \n",
       "15 Harry Potter and the Half-Blood Prince      250000000 301956980 UK         \n",
       "16 The Hobbit: The Battle of the Five Armies   250000000 255108370 New Zealand\n",
       "17 Spectre                                     245000000 200074175 UK         \n",
       "18 X-Men: The Last Stand                       210000000 234360014 Canada     \n",
       "19 King Kong                                   207000000 218051260 New Zealand\n",
       "20 King Kong                                   207000000 218051260 New Zealand\n",
       "   title_year\n",
       "1  2006      \n",
       "2  2005      \n",
       "3  2005      \n",
       "4  1997      \n",
       "5  2004      \n",
       "6  1988      \n",
       "7  1999      \n",
       "8  2006      \n",
       "9  1998      \n",
       "10 2010      \n",
       "11 2008      \n",
       "12 2001      \n",
       "13 1999      \n",
       "14 2008      \n",
       "15 2009      \n",
       "16 2014      \n",
       "17 2015      \n",
       "18 2006      \n",
       "19 2005      \n",
       "20 2005      "
      ]
     },
     "metadata": {},
     "output_type": "display_data"
    }
   ],
   "source": [
    "head(temp[temp$country!=\"USA\"&temp$budget>=50000000], n=20)"
   ]
  },
  {
   "cell_type": "markdown",
   "metadata": {},
   "source": [
    "We see that there's quite a few American movies that are credited as foreign movie on IMDB (probably for tax reasons) but their budget are in US dollars. See, for exemple, King Kong, X-Men: The Last Stand and Harry Potter and the Half-Blood Prince.\n",
    "\n",
    "So by using the strategy that I described above, not only some budget will still be written in a foreign currency, but I will change the value of some of the American movies for an incorrect value. I'll have to scrape some more data... "
   ]
  },
  {
   "cell_type": "markdown",
   "metadata": {
    "collapsed": true
   },
   "source": [
    "# Getting the currency labels"
   ]
  },
  {
   "cell_type": "markdown",
   "metadata": {
    "collapsed": true
   },
   "source": [
    "By looking at the JSON file shared by Kaggle user chuansun76 containing the IMDB information, I saw that before the value for the \"gross\" and \"budget\" there's a prefix indicating in which currency the value is written. So by parcing that file, I was able to retrive this information and save it in the file find_estimated.csv."
   ]
  },
  {
   "cell_type": "code",
   "execution_count": 80,
   "metadata": {
    "collapsed": false
   },
   "outputs": [],
   "source": [
    "currency <- fread(\"find_estimated.csv\",stringsAsFactors = F)\n",
    "setDT(currency)"
   ]
  },
  {
   "cell_type": "code",
   "execution_count": 81,
   "metadata": {
    "collapsed": false
   },
   "outputs": [
    {
     "data": {
      "text/html": [
       "<table>\n",
       "<thead><tr><th scope=col>title_year</th><th scope=col>currency</th><th scope=col>estimated</th><th scope=col>movie_title</th></tr></thead>\n",
       "<tbody>\n",
       "\t<tr><td>2006                                           </td><td>b'$'                                           </td><td>1                                              </td><td>b\"\"Pirates of the Caribbean: Dead Man's Chest\"\"</td></tr>\n",
       "\t<tr><td>2013                                           </td><td>b'$'                                           </td><td>1                                              </td><td>b'The Lone Ranger'                             </td></tr>\n",
       "\t<tr><td>2013                                           </td><td>b'$'                                           </td><td>1                                              </td><td>b'Man of Steel'                                </td></tr>\n",
       "\t<tr><td>2008                                           </td><td>b'$'                                           </td><td>1                                              </td><td>b'The Chronicles of Narnia: Prince Caspian'    </td></tr>\n",
       "\t<tr><td>2012                                           </td><td>b'$'                                           </td><td>1                                              </td><td>b'The Avengers'                                </td></tr>\n",
       "\t<tr><td>2011                                           </td><td>b'$'                                           </td><td>1                                              </td><td>b'Pirates of the Caribbean: On Stranger Tides' </td></tr>\n",
       "</tbody>\n",
       "</table>\n"
      ],
      "text/latex": [
       "\\begin{tabular}{r|llll}\n",
       " title\\_year & currency & estimated & movie\\_title\\\\\n",
       "\\hline\n",
       "\t 2006                                            & b'\\$'                                          & 1                                               & b\"\"Pirates of the Caribbean: Dead Man's Chest\"\"\\\\\n",
       "\t 2013                                            & b'\\$'                                          & 1                                               & b'The Lone Ranger'                             \\\\\n",
       "\t 2013                                            & b'\\$'                                          & 1                                               & b'Man of Steel'                                \\\\\n",
       "\t 2008                                            & b'\\$'                                          & 1                                               & b'The Chronicles of Narnia: Prince Caspian'    \\\\\n",
       "\t 2012                                            & b'\\$'                                          & 1                                               & b'The Avengers'                                \\\\\n",
       "\t 2011                                            & b'\\$'                                          & 1                                               & b'Pirates of the Caribbean: On Stranger Tides' \\\\\n",
       "\\end{tabular}\n"
      ],
      "text/markdown": [
       "\n",
       "title_year | currency | estimated | movie_title | \n",
       "|---|---|---|---|---|---|\n",
       "| 2006                                            | b'$'                                            | 1                                               | b\"\"Pirates of the Caribbean: Dead Man's Chest\"\" | \n",
       "| 2013                                            | b'$'                                            | 1                                               | b'The Lone Ranger'                              | \n",
       "| 2013                                            | b'$'                                            | 1                                               | b'Man of Steel'                                 | \n",
       "| 2008                                            | b'$'                                            | 1                                               | b'The Chronicles of Narnia: Prince Caspian'     | \n",
       "| 2012                                            | b'$'                                            | 1                                               | b'The Avengers'                                 | \n",
       "| 2011                                            | b'$'                                            | 1                                               | b'Pirates of the Caribbean: On Stranger Tides'  | \n",
       "\n",
       "\n"
      ],
      "text/plain": [
       "  title_year currency estimated movie_title                                    \n",
       "1 2006       b'$'     1         b\"\"Pirates of the Caribbean: Dead Man's Chest\"\"\n",
       "2 2013       b'$'     1         b'The Lone Ranger'                             \n",
       "3 2013       b'$'     1         b'Man of Steel'                                \n",
       "4 2008       b'$'     1         b'The Chronicles of Narnia: Prince Caspian'    \n",
       "5 2012       b'$'     1         b'The Avengers'                                \n",
       "6 2011       b'$'     1         b'Pirates of the Caribbean: On Stranger Tides' "
      ]
     },
     "metadata": {},
     "output_type": "display_data"
    }
   ],
   "source": [
    "head(currency)"
   ]
  },
  {
   "cell_type": "markdown",
   "metadata": {
    "collapsed": true
   },
   "source": [
    "By looking at the table above, I realised I had a bit of data cleaning to do."
   ]
  },
  {
   "cell_type": "code",
   "execution_count": 82,
   "metadata": {
    "collapsed": false
   },
   "outputs": [
    {
     "data": {
      "text/html": [
       "<ol class=list-inline>\n",
       "\t<li>'b\\'$''</li>\n",
       "\t<li>''</li>\n",
       "\t<li>'b\\'€''</li>\n",
       "\t<li>'b\\'£''</li>\n",
       "\t<li>'b\\'FRF''</li>\n",
       "\t<li>'b\\'RUR''</li>\n",
       "\t<li>'b\\'CNY''</li>\n",
       "\t<li>'b\\'AUD''</li>\n",
       "\t<li>'b\\'HKD''</li>\n",
       "\t<li>'b\\'CAD''</li>\n",
       "\t<li>'b\\'JPY''</li>\n",
       "\t<li>'b\\'NOK''</li>\n",
       "\t<li>'b\\'DEM''</li>\n",
       "\t<li>'b\\'THB''</li>\n",
       "\t<li>'b\\'KRW''</li>\n",
       "\t<li>'b\\'HUF''</li>\n",
       "\t<li>'b\\'INR''</li>\n",
       "\t<li>'b\\'DKK''</li>\n",
       "\t<li>'b\\'CZK''</li>\n",
       "\t<li>'b\\'ESP''</li>\n",
       "\t<li>'b\\'NZD''</li>\n",
       "\t<li>'b\\'CHF''</li>\n",
       "\t<li>'b\\'BRL''</li>\n",
       "\t<li>'b\\'ZAR''</li>\n",
       "\t<li>'b\\'SEK''</li>\n",
       "</ol>\n"
      ],
      "text/latex": [
       "\\begin{enumerate*}\n",
       "\\item 'b\\textbackslash{}'\\$''\n",
       "\\item ''\n",
       "\\item 'b\\textbackslash{}'€''\n",
       "\\item 'b\\textbackslash{}'£''\n",
       "\\item 'b\\textbackslash{}'FRF''\n",
       "\\item 'b\\textbackslash{}'RUR''\n",
       "\\item 'b\\textbackslash{}'CNY''\n",
       "\\item 'b\\textbackslash{}'AUD''\n",
       "\\item 'b\\textbackslash{}'HKD''\n",
       "\\item 'b\\textbackslash{}'CAD''\n",
       "\\item 'b\\textbackslash{}'JPY''\n",
       "\\item 'b\\textbackslash{}'NOK''\n",
       "\\item 'b\\textbackslash{}'DEM''\n",
       "\\item 'b\\textbackslash{}'THB''\n",
       "\\item 'b\\textbackslash{}'KRW''\n",
       "\\item 'b\\textbackslash{}'HUF''\n",
       "\\item 'b\\textbackslash{}'INR''\n",
       "\\item 'b\\textbackslash{}'DKK''\n",
       "\\item 'b\\textbackslash{}'CZK''\n",
       "\\item 'b\\textbackslash{}'ESP''\n",
       "\\item 'b\\textbackslash{}'NZD''\n",
       "\\item 'b\\textbackslash{}'CHF''\n",
       "\\item 'b\\textbackslash{}'BRL''\n",
       "\\item 'b\\textbackslash{}'ZAR''\n",
       "\\item 'b\\textbackslash{}'SEK''\n",
       "\\end{enumerate*}\n"
      ],
      "text/markdown": [
       "1. 'b\\'$''\n",
       "2. ''\n",
       "3. 'b\\'€''\n",
       "4. 'b\\'£''\n",
       "5. 'b\\'FRF''\n",
       "6. 'b\\'RUR''\n",
       "7. 'b\\'CNY''\n",
       "8. 'b\\'AUD''\n",
       "9. 'b\\'HKD''\n",
       "10. 'b\\'CAD''\n",
       "11. 'b\\'JPY''\n",
       "12. 'b\\'NOK''\n",
       "13. 'b\\'DEM''\n",
       "14. 'b\\'THB''\n",
       "15. 'b\\'KRW''\n",
       "16. 'b\\'HUF''\n",
       "17. 'b\\'INR''\n",
       "18. 'b\\'DKK''\n",
       "19. 'b\\'CZK''\n",
       "20. 'b\\'ESP''\n",
       "21. 'b\\'NZD''\n",
       "22. 'b\\'CHF''\n",
       "23. 'b\\'BRL''\n",
       "24. 'b\\'ZAR''\n",
       "25. 'b\\'SEK''\n",
       "\n",
       "\n"
      ],
      "text/plain": [
       " [1] \"b'$'\"   \"\"       \"b''\"   \"b'£'\"   \"b'FRF'\" \"b'RUR'\" \"b'CNY'\" \"b'AUD'\"\n",
       " [9] \"b'HKD'\" \"b'CAD'\" \"b'JPY'\" \"b'NOK'\" \"b'DEM'\" \"b'THB'\" \"b'KRW'\" \"b'HUF'\"\n",
       "[17] \"b'INR'\" \"b'DKK'\" \"b'CZK'\" \"b'ESP'\" \"b'NZD'\" \"b'CHF'\" \"b'BRL'\" \"b'ZAR'\"\n",
       "[25] \"b'SEK'\""
      ]
     },
     "metadata": {},
     "output_type": "display_data"
    }
   ],
   "source": [
    "unique(currency$currency)"
   ]
  },
  {
   "cell_type": "markdown",
   "metadata": {},
   "source": [
    "I dropped the first three characters in the variables \"currency\" and \"movie_title\"."
   ]
  },
  {
   "cell_type": "code",
   "execution_count": 83,
   "metadata": {
    "collapsed": false
   },
   "outputs": [
    {
     "data": {
      "text/html": [
       "<ol class=list-inline>\n",
       "\t<li>'$'</li>\n",
       "\t<li>''</li>\n",
       "\t<li>'€'</li>\n",
       "\t<li>'£'</li>\n",
       "\t<li>'FRF'</li>\n",
       "\t<li>'RUR'</li>\n",
       "\t<li>'CNY'</li>\n",
       "\t<li>'AUD'</li>\n",
       "\t<li>'HKD'</li>\n",
       "\t<li>'CAD'</li>\n",
       "\t<li>'JPY'</li>\n",
       "\t<li>'NOK'</li>\n",
       "\t<li>'DEM'</li>\n",
       "\t<li>'THB'</li>\n",
       "\t<li>'KRW'</li>\n",
       "\t<li>'HUF'</li>\n",
       "\t<li>'INR'</li>\n",
       "\t<li>'DKK'</li>\n",
       "\t<li>'CZK'</li>\n",
       "\t<li>'ESP'</li>\n",
       "\t<li>'NZD'</li>\n",
       "\t<li>'CHF'</li>\n",
       "\t<li>'BRL'</li>\n",
       "\t<li>'ZAR'</li>\n",
       "\t<li>'SEK'</li>\n",
       "</ol>\n"
      ],
      "text/latex": [
       "\\begin{enumerate*}\n",
       "\\item '\\$'\n",
       "\\item ''\n",
       "\\item '€'\n",
       "\\item '£'\n",
       "\\item 'FRF'\n",
       "\\item 'RUR'\n",
       "\\item 'CNY'\n",
       "\\item 'AUD'\n",
       "\\item 'HKD'\n",
       "\\item 'CAD'\n",
       "\\item 'JPY'\n",
       "\\item 'NOK'\n",
       "\\item 'DEM'\n",
       "\\item 'THB'\n",
       "\\item 'KRW'\n",
       "\\item 'HUF'\n",
       "\\item 'INR'\n",
       "\\item 'DKK'\n",
       "\\item 'CZK'\n",
       "\\item 'ESP'\n",
       "\\item 'NZD'\n",
       "\\item 'CHF'\n",
       "\\item 'BRL'\n",
       "\\item 'ZAR'\n",
       "\\item 'SEK'\n",
       "\\end{enumerate*}\n"
      ],
      "text/markdown": [
       "1. '$'\n",
       "2. ''\n",
       "3. '€'\n",
       "4. '£'\n",
       "5. 'FRF'\n",
       "6. 'RUR'\n",
       "7. 'CNY'\n",
       "8. 'AUD'\n",
       "9. 'HKD'\n",
       "10. 'CAD'\n",
       "11. 'JPY'\n",
       "12. 'NOK'\n",
       "13. 'DEM'\n",
       "14. 'THB'\n",
       "15. 'KRW'\n",
       "16. 'HUF'\n",
       "17. 'INR'\n",
       "18. 'DKK'\n",
       "19. 'CZK'\n",
       "20. 'ESP'\n",
       "21. 'NZD'\n",
       "22. 'CHF'\n",
       "23. 'BRL'\n",
       "24. 'ZAR'\n",
       "25. 'SEK'\n",
       "\n",
       "\n"
      ],
      "text/plain": [
       " [1] \"$\"   \"\"    \"\"   \"£\"   \"FRF\" \"RUR\" \"CNY\" \"AUD\" \"HKD\" \"CAD\" \"JPY\" \"NOK\"\n",
       "[13] \"DEM\" \"THB\" \"KRW\" \"HUF\" \"INR\" \"DKK\" \"CZK\" \"ESP\" \"NZD\" \"CHF\" \"BRL\" \"ZAR\"\n",
       "[25] \"SEK\""
      ]
     },
     "metadata": {},
     "output_type": "display_data"
    }
   ],
   "source": [
    "currency$currency<-as.character(currency$currency)\n",
    "currency$currency<-substr(currency$currency, 3, nchar(currency$currency)-1)\n",
    "unique(currency$currency)"
   ]
  },
  {
   "cell_type": "code",
   "execution_count": 84,
   "metadata": {
    "collapsed": false
   },
   "outputs": [
    {
     "data": {
      "text/html": [
       "<ol class=list-inline>\n",
       "\t<li>'Danny Collins'</li>\n",
       "\t<li>'The Brothers Solomon'</li>\n",
       "\t<li>'House of Sand'</li>\n",
       "\t<li>'The Hammer'</li>\n",
       "\t<li>'\"It\\'s a Wonderful Afterlife\"'</li>\n",
       "</ol>\n"
      ],
      "text/latex": [
       "\\begin{enumerate*}\n",
       "\\item 'Danny Collins'\n",
       "\\item 'The Brothers Solomon'\n",
       "\\item 'House of Sand'\n",
       "\\item 'The Hammer'\n",
       "\\item '\"It\\textbackslash{}'s a Wonderful Afterlife\"'\n",
       "\\end{enumerate*}\n"
      ],
      "text/markdown": [
       "1. 'Danny Collins'\n",
       "2. 'The Brothers Solomon'\n",
       "3. 'House of Sand'\n",
       "4. 'The Hammer'\n",
       "5. '\"It\\'s a Wonderful Afterlife\"'\n",
       "\n",
       "\n"
      ],
      "text/plain": [
       "[1] \"Danny Collins\"                  \"The Brothers Solomon\"          \n",
       "[3] \"House of Sand\"                  \"The Hammer\"                    \n",
       "[5] \"\\\"It's a Wonderful Afterlife\\\"\""
      ]
     },
     "metadata": {},
     "output_type": "display_data"
    }
   ],
   "source": [
    "currency$movie_title<-as.character(currency$movie_title)\n",
    "currency$movie_title<-substr(currency$movie_title, 3, nchar(currency$movie_title)-1)\n",
    "sample(currency$movie_title, size=5)"
   ]
  },
  {
   "cell_type": "markdown",
   "metadata": {
    "collapsed": true
   },
   "source": [
    "Then, I have changed the characters '$', '€' and '£' for their country code and the empty string \"\" by NA."
   ]
  },
  {
   "cell_type": "code",
   "execution_count": 85,
   "metadata": {
    "collapsed": false
   },
   "outputs": [
    {
     "data": {
      "text/html": [
       "<ol class=list-inline>\n",
       "\t<li>'USA'</li>\n",
       "\t<li>'NA'</li>\n",
       "\t<li>'EU28'</li>\n",
       "\t<li>'GBR'</li>\n",
       "\t<li>'FRF'</li>\n",
       "\t<li>'RUR'</li>\n",
       "\t<li>'CNY'</li>\n",
       "\t<li>'AUD'</li>\n",
       "\t<li>'HKD'</li>\n",
       "\t<li>'CAD'</li>\n",
       "\t<li>'JPY'</li>\n",
       "\t<li>'NOK'</li>\n",
       "\t<li>'DEM'</li>\n",
       "\t<li>'THB'</li>\n",
       "\t<li>'KRW'</li>\n",
       "\t<li>'HUF'</li>\n",
       "\t<li>'INR'</li>\n",
       "\t<li>'DKK'</li>\n",
       "\t<li>'CZK'</li>\n",
       "\t<li>'ESP'</li>\n",
       "\t<li>'NZD'</li>\n",
       "\t<li>'CHF'</li>\n",
       "\t<li>'BRL'</li>\n",
       "\t<li>'ZAR'</li>\n",
       "\t<li>'SEK'</li>\n",
       "</ol>\n"
      ],
      "text/latex": [
       "\\begin{enumerate*}\n",
       "\\item 'USA'\n",
       "\\item 'NA'\n",
       "\\item 'EU28'\n",
       "\\item 'GBR'\n",
       "\\item 'FRF'\n",
       "\\item 'RUR'\n",
       "\\item 'CNY'\n",
       "\\item 'AUD'\n",
       "\\item 'HKD'\n",
       "\\item 'CAD'\n",
       "\\item 'JPY'\n",
       "\\item 'NOK'\n",
       "\\item 'DEM'\n",
       "\\item 'THB'\n",
       "\\item 'KRW'\n",
       "\\item 'HUF'\n",
       "\\item 'INR'\n",
       "\\item 'DKK'\n",
       "\\item 'CZK'\n",
       "\\item 'ESP'\n",
       "\\item 'NZD'\n",
       "\\item 'CHF'\n",
       "\\item 'BRL'\n",
       "\\item 'ZAR'\n",
       "\\item 'SEK'\n",
       "\\end{enumerate*}\n"
      ],
      "text/markdown": [
       "1. 'USA'\n",
       "2. 'NA'\n",
       "3. 'EU28'\n",
       "4. 'GBR'\n",
       "5. 'FRF'\n",
       "6. 'RUR'\n",
       "7. 'CNY'\n",
       "8. 'AUD'\n",
       "9. 'HKD'\n",
       "10. 'CAD'\n",
       "11. 'JPY'\n",
       "12. 'NOK'\n",
       "13. 'DEM'\n",
       "14. 'THB'\n",
       "15. 'KRW'\n",
       "16. 'HUF'\n",
       "17. 'INR'\n",
       "18. 'DKK'\n",
       "19. 'CZK'\n",
       "20. 'ESP'\n",
       "21. 'NZD'\n",
       "22. 'CHF'\n",
       "23. 'BRL'\n",
       "24. 'ZAR'\n",
       "25. 'SEK'\n",
       "\n",
       "\n"
      ],
      "text/plain": [
       " [1] \"USA\"  NA     \"EU28\" \"GBR\"  \"FRF\"  \"RUR\"  \"CNY\"  \"AUD\"  \"HKD\"  \"CAD\" \n",
       "[11] \"JPY\"  \"NOK\"  \"DEM\"  \"THB\"  \"KRW\"  \"HUF\"  \"INR\"  \"DKK\"  \"CZK\"  \"ESP\" \n",
       "[21] \"NZD\"  \"CHF\"  \"BRL\"  \"ZAR\"  \"SEK\" "
      ]
     },
     "metadata": {},
     "output_type": "display_data"
    }
   ],
   "source": [
    "currency$currency[currency$currency=='$']<-\"USA\"\n",
    "currency$currency[currency$currency==currency$currency[currency$movie_title==\"Asterix at the Olympic Games\"]]<-\"EU28\"\n",
    "currency$currency[currency$currency=='£']<-\"GBR\"\n",
    "currency$currency[currency$currency=='']<-NA\n",
    "unique(currency$currency)"
   ]
  },
  {
   "cell_type": "markdown",
   "metadata": {},
   "source": [
    "In the list above, the empty string \"\" is used as a currency, that tells me that some movies have no currency label, let's look at some of them."
   ]
  },
  {
   "cell_type": "code",
   "execution_count": 86,
   "metadata": {
    "collapsed": false
   },
   "outputs": [
    {
     "data": {
      "text/html": [
       "<ol class=list-inline>\n",
       "\t<li>'The Good Dinosaur'</li>\n",
       "\t<li>'The Lovers'</li>\n",
       "\t<li>'Godzilla Resurgence'</li>\n",
       "\t<li>'Harry Potter and the Deathly Hallows: Part II'</li>\n",
       "\t<li>'Godzilla Resurgence'</li>\n",
       "\t<li>'Harry Potter and the Deathly Hallows: Part I'</li>\n",
       "</ol>\n"
      ],
      "text/latex": [
       "\\begin{enumerate*}\n",
       "\\item 'The Good Dinosaur'\n",
       "\\item 'The Lovers'\n",
       "\\item 'Godzilla Resurgence'\n",
       "\\item 'Harry Potter and the Deathly Hallows: Part II'\n",
       "\\item 'Godzilla Resurgence'\n",
       "\\item 'Harry Potter and the Deathly Hallows: Part I'\n",
       "\\end{enumerate*}\n"
      ],
      "text/markdown": [
       "1. 'The Good Dinosaur'\n",
       "2. 'The Lovers'\n",
       "3. 'Godzilla Resurgence'\n",
       "4. 'Harry Potter and the Deathly Hallows: Part II'\n",
       "5. 'Godzilla Resurgence'\n",
       "6. 'Harry Potter and the Deathly Hallows: Part I'\n",
       "\n",
       "\n"
      ],
      "text/plain": [
       "[1] \"The Good Dinosaur\"                            \n",
       "[2] \"The Lovers\"                                   \n",
       "[3] \"Godzilla Resurgence\"                          \n",
       "[4] \"Harry Potter and the Deathly Hallows: Part II\"\n",
       "[5] \"Godzilla Resurgence\"                          \n",
       "[6] \"Harry Potter and the Deathly Hallows: Part I\" "
      ]
     },
     "metadata": {},
     "output_type": "display_data"
    },
    {
     "data": {
      "text/html": [
       "490"
      ],
      "text/latex": [
       "490"
      ],
      "text/markdown": [
       "490"
      ],
      "text/plain": [
       "[1] 490"
      ]
     },
     "metadata": {},
     "output_type": "display_data"
    }
   ],
   "source": [
    "head(currency$movie_title[is.na(currency$currency)])\n",
    "length(currency$movie_title[is.na(currency$currency)])"
   ]
  },
  {
   "cell_type": "markdown",
   "metadata": {},
   "source": [
    "We see that the majority of those movies are American movies, which make sense since the U.S. dollar is the default currency, but some of them are just missing value. We also see that there's some duplicate in the table, for example:"
   ]
  },
  {
   "cell_type": "code",
   "execution_count": 87,
   "metadata": {
    "collapsed": false
   },
   "outputs": [
    {
     "data": {
      "text/html": [
       "<table>\n",
       "<thead><tr><th scope=col>title_year</th><th scope=col>currency</th><th scope=col>estimated</th><th scope=col>movie_title</th></tr></thead>\n",
       "<tbody>\n",
       "\t<tr><td>2016               </td><td>NA                 </td><td>NA                 </td><td>Godzilla Resurgence</td></tr>\n",
       "\t<tr><td>2016               </td><td>NA                 </td><td>NA                 </td><td>Godzilla Resurgence</td></tr>\n",
       "</tbody>\n",
       "</table>\n"
      ],
      "text/latex": [
       "\\begin{tabular}{r|llll}\n",
       " title\\_year & currency & estimated & movie\\_title\\\\\n",
       "\\hline\n",
       "\t 2016                & NA                  & NA                  & Godzilla Resurgence\\\\\n",
       "\t 2016                & NA                  & NA                  & Godzilla Resurgence\\\\\n",
       "\\end{tabular}\n"
      ],
      "text/markdown": [
       "\n",
       "title_year | currency | estimated | movie_title | \n",
       "|---|---|\n",
       "| 2016                | NA                  | NA                  | Godzilla Resurgence | \n",
       "| 2016                | NA                  | NA                  | Godzilla Resurgence | \n",
       "\n",
       "\n"
      ],
      "text/plain": [
       "  title_year currency estimated movie_title        \n",
       "1 2016       NA       NA        Godzilla Resurgence\n",
       "2 2016       NA       NA        Godzilla Resurgence"
      ]
     },
     "metadata": {},
     "output_type": "display_data"
    },
    {
     "name": "stdout",
     "output_type": "stream",
     "text": [
      "Classes 'data.table' and 'data.frame':\t5029 obs. of  4 variables:\n",
      " $ title_year : int  2006 2013 2013 2008 2012 2011 2012 2014 2012 2010 ...\n",
      " $ currency   : chr  \"USA\" \"USA\" \"USA\" \"USA\" ...\n",
      " $ estimated  : int  1 1 1 1 1 1 1 1 1 1 ...\n",
      " $ movie_title: chr  \"\\\"Pirates of the Caribbean: Dead Man's Chest\\\"\" \"The Lone Ranger\" \"Man of Steel\" \"The Chronicles of Narnia: Prince Caspian\" ...\n",
      " - attr(*, \".internal.selfref\")=<externalptr> \n"
     ]
    }
   ],
   "source": [
    "subset(currency,movie_title=='Godzilla Resurgence')\n",
    "str(currency)"
   ]
  },
  {
   "cell_type": "markdown",
   "metadata": {},
   "source": [
    "Let's get rid of the duplicates."
   ]
  },
  {
   "cell_type": "code",
   "execution_count": 88,
   "metadata": {
    "collapsed": false
   },
   "outputs": [
    {
     "name": "stdout",
     "output_type": "stream",
     "text": [
      "Classes 'data.table' and 'data.frame':\t4907 obs. of  4 variables:\n",
      " $ title_year : int  2006 2013 2013 2008 2012 2011 2012 2014 2012 2010 ...\n",
      " $ currency   : chr  \"USA\" \"USA\" \"USA\" \"USA\" ...\n",
      " $ estimated  : int  1 1 1 1 1 1 1 1 1 1 ...\n",
      " $ movie_title: chr  \"\\\"Pirates of the Caribbean: Dead Man's Chest\\\"\" \"The Lone Ranger\" \"Man of Steel\" \"The Chronicles of Narnia: Prince Caspian\" ...\n",
      " - attr(*, \".internal.selfref\")=<externalptr> \n"
     ]
    }
   ],
   "source": [
    "setkey(currency,NULL)\n",
    "currency<-unique(currency)\n",
    "str(currency)"
   ]
  },
  {
   "cell_type": "code",
   "execution_count": 89,
   "metadata": {
    "collapsed": false
   },
   "outputs": [
    {
     "data": {
      "text/html": [
       "<ol class=list-inline>\n",
       "\t<li>'The Good Dinosaur'</li>\n",
       "\t<li>'The Lovers'</li>\n",
       "\t<li>'Godzilla Resurgence'</li>\n",
       "\t<li>'Harry Potter and the Deathly Hallows: Part II'</li>\n",
       "\t<li>'Harry Potter and the Deathly Hallows: Part I'</li>\n",
       "\t<li><span style=white-space:pre-wrap>'The A-Team            '</span></li>\n",
       "</ol>\n"
      ],
      "text/latex": [
       "\\begin{enumerate*}\n",
       "\\item 'The Good Dinosaur'\n",
       "\\item 'The Lovers'\n",
       "\\item 'Godzilla Resurgence'\n",
       "\\item 'Harry Potter and the Deathly Hallows: Part II'\n",
       "\\item 'Harry Potter and the Deathly Hallows: Part I'\n",
       "\\item 'The A-Team            '\n",
       "\\end{enumerate*}\n"
      ],
      "text/markdown": [
       "1. 'The Good Dinosaur'\n",
       "2. 'The Lovers'\n",
       "3. 'Godzilla Resurgence'\n",
       "4. 'Harry Potter and the Deathly Hallows: Part II'\n",
       "5. 'Harry Potter and the Deathly Hallows: Part I'\n",
       "6. <span style=white-space:pre-wrap>'The A-Team            '</span>\n",
       "\n",
       "\n"
      ],
      "text/plain": [
       "[1] \"The Good Dinosaur\"                            \n",
       "[2] \"The Lovers\"                                   \n",
       "[3] \"Godzilla Resurgence\"                          \n",
       "[4] \"Harry Potter and the Deathly Hallows: Part II\"\n",
       "[5] \"Harry Potter and the Deathly Hallows: Part I\" \n",
       "[6] \"The A-Team            \"                       "
      ]
     },
     "metadata": {},
     "output_type": "display_data"
    }
   ],
   "source": [
    "head(currency$movie_title[is.na(currency$currency)])"
   ]
  },
  {
   "cell_type": "markdown",
   "metadata": {},
   "source": [
    "Now I'll use the data from the IMDB data.table to assign the USA label to American film with no currency data in the currency data.table."
   ]
  },
  {
   "cell_type": "code",
   "execution_count": 90,
   "metadata": {
    "collapsed": true
   },
   "outputs": [],
   "source": [
    "change_US_currency<-function(x,y){\n",
    "    value<-x$currency\n",
    "    count<-0\n",
    "    for (i in 1:length(x$currency)){\n",
    "        \n",
    "        index<-which(gsub(\" \", \"\", tolower(y$movie_title), fixed = TRUE) %in%\n",
    "                     gsub(\" \", \"\", tolower(x$movie_title[i]), fixed = TRUE)\n",
    "                    & gsub(\" \", \"\", tolower(y$title_year), fixed = TRUE) %in%\n",
    "                     gsub(\" \", \"\", tolower(x$title_year[i]), fixed = TRUE))\n",
    "       \n",
    "        if(length(index)==0||length(index)>=2)\n",
    "        {\n",
    "           #print(paste0(title_to_fill[i],\": \",length(index)))            \n",
    "        }\n",
    "        else\n",
    "        {\n",
    "            if(is.na(value[i]))\n",
    "            {\n",
    "                value[i]<-\"USA\"\n",
    "                count=count+1 \n",
    "            }  \n",
    "        }\n",
    "\n",
    "    }\n",
    "    print(paste0(\"Nomber of change: \",count))\n",
    "    return(value)\n",
    "}"
   ]
  },
  {
   "cell_type": "code",
   "execution_count": 91,
   "metadata": {
    "collapsed": false
   },
   "outputs": [
    {
     "name": "stdout",
     "output_type": "stream",
     "text": [
      "[1] \"Nomber of change: 351\"\n"
     ]
    }
   ],
   "source": [
    "temp<-change_US_currency(currency,movies)"
   ]
  },
  {
   "cell_type": "markdown",
   "metadata": {},
   "source": [
    "Let's look at the number of Americain movies, foreign movies and missing data in the currency data.table and in the new vector to see if the function behaved correctly. If the function did his job, the number of foreign movies should be the same in the two data.table, the number of missing values should be lower in the new vector and the number of Americain movies in this table should be equal to the number of Americain movies in the first plus the difference in the number of missing values."
   ]
  },
  {
   "cell_type": "code",
   "execution_count": 92,
   "metadata": {
    "collapsed": false
   },
   "outputs": [
    {
     "name": "stdout",
     "output_type": "stream",
     "text": [
      "[1] \"Number of foreign movies: 216\"\n",
      "[1] \"Number of american movies: 4208\"\n",
      "[1] \"Number of missing values: 483\"\n",
      "[1] \"Sum of the number of american movies and missing values: 4691\"\n",
      "[1] \"Sum of the number of american movies, foreign movies and missing values: 4907\"\n",
      "[1] \"Total number of observation: 4907\"\n"
     ]
    }
   ],
   "source": [
    "print(paste0(\"Number of foreign movies: \",length(currency$currency[currency$currency!=\"USA\"])-sum(is.na(currency$currency))))\n",
    "print(paste0(\"Number of american movies: \",nrow(currency[currency==\"USA\"])))\n",
    "print(paste0(\"Number of missing values: \",sum(is.na(currency$currency))))\n",
    "print(paste0(\"Sum of the number of american movies and missing values: \",\n",
    "             nrow(currency[currency==\"USA\"])+sum(is.na(currency$currency))))\n",
    "print(paste0(\"Sum of the number of american movies, foreign movies and missing values: \",\n",
    "             nrow(currency[currency==\"USA\"])+sum(is.na(currency$currency))+sum(currency$currency!=\"USA\",na.rm=TRUE)))\n",
    "print(paste0(\"Total number of observation: \",length(currency$currency)))"
   ]
  },
  {
   "cell_type": "code",
   "execution_count": 93,
   "metadata": {
    "collapsed": false
   },
   "outputs": [
    {
     "name": "stdout",
     "output_type": "stream",
     "text": [
      "[1] \"Number of foreign movies: 216\"\n",
      "[1] \"Number of american movies: 4559\"\n",
      "[1] \"Number of missing values: 132\"\n",
      "[1] \"Sum of the number of american movies and missing values: 4691\"\n",
      "[1] \"Sum of the number of american movies, foreign movies and missing values: 4907\"\n",
      "[1] \"Total number of observation: 4907\"\n"
     ]
    }
   ],
   "source": [
    "print(paste0(\"Number of foreign movies: \",sum(temp!=\"USA\",na.rm=TRUE)))\n",
    "print(paste0(\"Number of american movies: \",sum(temp==\"USA\",na.rm=TRUE)))\n",
    "print(paste0(\"Number of missing values: \",sum(is.na(temp))))\n",
    "print(paste0(\"Sum of the number of american movies and missing values: \",sum(temp==\"USA\",na.rm=TRUE)+sum(is.na(temp))))\n",
    "print(paste0(\"Sum of the number of american movies, foreign movies and missing values: \",\n",
    "             sum(temp==\"USA\",na.rm=TRUE)+sum(is.na(temp))+sum(temp!=\"USA\",na.rm=TRUE)))\n",
    "print(paste0(\"Total number of observation: \",length(temp)))"
   ]
  },
  {
   "cell_type": "markdown",
   "metadata": {
    "collapsed": false
   },
   "source": [
    "Everything looks fine, so I copied the vector in the currency data.table. "
   ]
  },
  {
   "cell_type": "code",
   "execution_count": 94,
   "metadata": {
    "collapsed": false
   },
   "outputs": [],
   "source": [
    "currency$currency<-temp"
   ]
  },
  {
   "cell_type": "code",
   "execution_count": 95,
   "metadata": {
    "collapsed": false
   },
   "outputs": [],
   "source": [
    "n<-c(\"title_year\",\"currency\",\"movie_title\")\n",
    "currency<-currency[,n,with=FALSE]"
   ]
  },
  {
   "cell_type": "code",
   "execution_count": 96,
   "metadata": {
    "collapsed": false
   },
   "outputs": [],
   "source": [
    "#write.csv(currency,\"currency.csv\",row.names=FALSE, col.names=TRUE)"
   ]
  },
  {
   "cell_type": "markdown",
   "metadata": {},
   "source": [
    "# Merging the currency and the movie data"
   ]
  },
  {
   "cell_type": "code",
   "execution_count": 97,
   "metadata": {
    "collapsed": false
   },
   "outputs": [],
   "source": [
    "#currency<-fread(\"currency.csv\", stringsAsFactors=FALSE)\n",
    "#setDT(currency)"
   ]
  },
  {
   "cell_type": "markdown",
   "metadata": {},
   "source": [
    "I found a data set of the historical exchange rate from 1950 to 2015 from the OECD website that I'll use to convert the budget of the movie in American dollars.\n",
    "\n",
    "(https://data.oecd.org/conversion/exchange-rates.html OECD (2017), Exchange rates (indicator). doi: 10.1787/037ed317-en (Accessed on 13 January 2017)) "
   ]
  },
  {
   "cell_type": "code",
   "execution_count": 98,
   "metadata": {
    "collapsed": false
   },
   "outputs": [
    {
     "name": "stdout",
     "output_type": "stream",
     "text": [
      "Classes 'data.table' and 'data.frame':\t2764 obs. of  3 variables:\n",
      " $ LOCATION: chr  \"AUS\" \"AUS\" \"AUS\" \"AUS\" ...\n",
      " $ TIME    : int  1950 1951 1952 1953 1954 1955 1956 1957 1958 1959 ...\n",
      " $ Value   : num  0.893 0.893 0.893 0.893 0.893 ...\n",
      " - attr(*, \".internal.selfref\")=<externalptr> \n",
      " [1] \"Country code to change in currency: NA\" \n",
      " [2] \"Country code to change in currency: FRF\"\n",
      " [3] \"Country code to change in currency: RUR\"\n",
      " [4] \"Country code to change in currency: CNY\"\n",
      " [5] \"Country code to change in currency: AUD\"\n",
      " [6] \"Country code to change in currency: HKD\"\n",
      " [7] \"Country code to change in currency: CAD\"\n",
      " [8] \"Country code to change in currency: JPY\"\n",
      " [9] \"Country code to change in currency: NOK\"\n",
      "[10] \"Country code to change in currency: DEM\"\n",
      "[11] \"Country code to change in currency: THB\"\n",
      "[12] \"Country code to change in currency: KRW\"\n",
      "[13] \"Country code to change in currency: HUF\"\n",
      "[14] \"Country code to change in currency: INR\"\n",
      "[15] \"Country code to change in currency: DKK\"\n",
      "[16] \"Country code to change in currency: CZK\"\n",
      "[17] \"Country code to change in currency: NZD\"\n",
      "[18] \"Country code to change in currency: CHF\"\n",
      "[19] \"Country code to change in currency: BRL\"\n",
      "[20] \"Country code to change in currency: ZAR\"\n",
      "[21] \"Country code to change in currency: SEK\"\n"
     ]
    }
   ],
   "source": [
    "ex_rate <- fread(\"ExRate50-15.csv\",select=c(\"LOCATION\",\"TIME\",\"Value\"),stringsAsFactors = F)\n",
    "str(ex_rate)\n",
    "print(paste0(\"Country code to change in currency: \",setdiff(unique(currency$currency),ex_rate$LOCATION)))"
   ]
  },
  {
   "cell_type": "markdown",
   "metadata": {},
   "source": [
    "This data set used the ISO 3166 country name abbreviations as an index for the table, while the IMDB website used the ISO 4217 currency codes to characterise the budget. In consequence, I'll have to map the abbreviations of the currency with the abbreviations of the country to be able to use these data. Lucky for me, I found a list of country code I can use for reference (http://data.okfn.org/data/core/country-codes)."
   ]
  },
  {
   "cell_type": "code",
   "execution_count": 99,
   "metadata": {
    "collapsed": false
   },
   "outputs": [
    {
     "name": "stdout",
     "output_type": "stream",
     "text": [
      "Classes 'data.table' and 'data.frame':\t235 obs. of  2 variables:\n",
      " $ CODE   : chr  \"ABW\" \"AFG\" \"AFRI\" \"AGO\" ...\n",
      " $ Country: chr  \"Aruba\" \"Afghanistan\" \"Africa\" \"Angola\" ...\n",
      " - attr(*, \".internal.selfref\")=<externalptr> \n"
     ]
    },
    {
     "data": {
      "text/html": [
       "<ol class=list-inline>\n",
       "\t<li>'NA'</li>\n",
       "\t<li>'EU28'</li>\n",
       "\t<li>'FRF'</li>\n",
       "\t<li>'RUR'</li>\n",
       "\t<li>'CNY'</li>\n",
       "\t<li>'AUD'</li>\n",
       "\t<li>'HKD'</li>\n",
       "\t<li>'CAD'</li>\n",
       "\t<li>'JPY'</li>\n",
       "\t<li>'NOK'</li>\n",
       "\t<li>'DEM'</li>\n",
       "\t<li>'THB'</li>\n",
       "\t<li>'KRW'</li>\n",
       "\t<li>'HUF'</li>\n",
       "\t<li>'INR'</li>\n",
       "\t<li>'DKK'</li>\n",
       "\t<li>'CZK'</li>\n",
       "\t<li>'NZD'</li>\n",
       "\t<li>'CHF'</li>\n",
       "\t<li>'BRL'</li>\n",
       "\t<li>'ZAR'</li>\n",
       "\t<li>'SEK'</li>\n",
       "</ol>\n"
      ],
      "text/latex": [
       "\\begin{enumerate*}\n",
       "\\item 'NA'\n",
       "\\item 'EU28'\n",
       "\\item 'FRF'\n",
       "\\item 'RUR'\n",
       "\\item 'CNY'\n",
       "\\item 'AUD'\n",
       "\\item 'HKD'\n",
       "\\item 'CAD'\n",
       "\\item 'JPY'\n",
       "\\item 'NOK'\n",
       "\\item 'DEM'\n",
       "\\item 'THB'\n",
       "\\item 'KRW'\n",
       "\\item 'HUF'\n",
       "\\item 'INR'\n",
       "\\item 'DKK'\n",
       "\\item 'CZK'\n",
       "\\item 'NZD'\n",
       "\\item 'CHF'\n",
       "\\item 'BRL'\n",
       "\\item 'ZAR'\n",
       "\\item 'SEK'\n",
       "\\end{enumerate*}\n"
      ],
      "text/markdown": [
       "1. 'NA'\n",
       "2. 'EU28'\n",
       "3. 'FRF'\n",
       "4. 'RUR'\n",
       "5. 'CNY'\n",
       "6. 'AUD'\n",
       "7. 'HKD'\n",
       "8. 'CAD'\n",
       "9. 'JPY'\n",
       "10. 'NOK'\n",
       "11. 'DEM'\n",
       "12. 'THB'\n",
       "13. 'KRW'\n",
       "14. 'HUF'\n",
       "15. 'INR'\n",
       "16. 'DKK'\n",
       "17. 'CZK'\n",
       "18. 'NZD'\n",
       "19. 'CHF'\n",
       "20. 'BRL'\n",
       "21. 'ZAR'\n",
       "22. 'SEK'\n",
       "\n",
       "\n"
      ],
      "text/plain": [
       " [1] NA     \"EU28\" \"FRF\"  \"RUR\"  \"CNY\"  \"AUD\"  \"HKD\"  \"CAD\"  \"JPY\"  \"NOK\" \n",
       "[11] \"DEM\"  \"THB\"  \"KRW\"  \"HUF\"  \"INR\"  \"DKK\"  \"CZK\"  \"NZD\"  \"CHF\"  \"BRL\" \n",
       "[21] \"ZAR\"  \"SEK\" "
      ]
     },
     "metadata": {},
     "output_type": "display_data"
    }
   ],
   "source": [
    "abreviation <- fread(\"Abr.csv\",stringsAsFactors = F)\n",
    "#abreviation$Country<-substr(abreviation$Country, 1, nchar(abreviation$Country)-1)\n",
    "str(abreviation)\n",
    "setdiff(unique(currency$currency),abreviation$CODE)"
   ]
  },
  {
   "cell_type": "code",
   "execution_count": 100,
   "metadata": {
    "collapsed": false
   },
   "outputs": [],
   "source": [
    "currency$currency[currency$currency=='FRF']<-\"FRA\"\n",
    "currency$currency[currency$currency=='RUR']<-\"USSR\"\n",
    "currency$currency[currency$currency=='CNY']<-\"CHN\"\n",
    "currency$currency[currency$currency=='AUD']<-\"AUS\"\n",
    "currency$currency[currency$currency=='HKD']<-\"HKG\"\n",
    "currency$currency[currency$currency=='CAD']<-\"CAN\"\n",
    "currency$currency[currency$currency=='JPY']<-\"JPN\"\n",
    "currency$currency[currency$currency=='NOK']<-\"NOR\"\n",
    "currency$currency[currency$currency=='DEM']<-\"DEU\"\n",
    "currency$currency[currency$currency=='THB']<-\"THA\"\n",
    "currency$currency[currency$currency=='KRW']<-\"KOR\"\n",
    "currency$currency[currency$currency=='HUF']<-\"HUN\"\n",
    "currency$currency[currency$currency=='INR']<-\"IND\"\n",
    "currency$currency[currency$currency=='DKK']<-\"DNK\"\n",
    "currency$currency[currency$currency=='CZK']<-\"CZE\"\n",
    "currency$currency[currency$currency=='NZD']<-\"NZL\"\n",
    "currency$currency[currency$currency=='CHF']<-\"CHE\"\n",
    "currency$currency[currency$currency=='BRL']<-\"BRA\"\n",
    "currency$currency[currency$currency=='ZAR']<-\"ZAF\"\n",
    "currency$currency[currency$currency=='SEK']<-\"SWE\""
   ]
  },
  {
   "cell_type": "markdown",
   "metadata": {},
   "source": [
    "Let's see if there's currency code that I left out."
   ]
  },
  {
   "cell_type": "code",
   "execution_count": 101,
   "metadata": {
    "collapsed": false
   },
   "outputs": [
    {
     "data": {
      "text/html": [
       "<ol class=list-inline>\n",
       "\t<li>'NA'</li>\n",
       "\t<li>'EU28'</li>\n",
       "</ol>\n"
      ],
      "text/latex": [
       "\\begin{enumerate*}\n",
       "\\item 'NA'\n",
       "\\item 'EU28'\n",
       "\\end{enumerate*}\n"
      ],
      "text/markdown": [
       "1. 'NA'\n",
       "2. 'EU28'\n",
       "\n",
       "\n"
      ],
      "text/plain": [
       "[1] NA     \"EU28\""
      ]
     },
     "metadata": {},
     "output_type": "display_data"
    }
   ],
   "source": [
    "setdiff(unique(currency$currency),abreviation$CODE)"
   ]
  },
  {
   "cell_type": "markdown",
   "metadata": {},
   "source": [
    "Since everything is ok, I can add the currency column, which I'll use in the next section to convert the budgets, to the data.table movies."
   ]
  },
  {
   "cell_type": "code",
   "execution_count": 102,
   "metadata": {
    "collapsed": false
   },
   "outputs": [
    {
     "name": "stderr",
     "output_type": "stream",
     "text": [
      "Joining, by = c(\"movie_title\", \"title_year\")\n"
     ]
    },
    {
     "data": {
      "text/html": [
       "<table>\n",
       "<thead><tr><th scope=col>color</th><th scope=col>director_name</th><th scope=col>num_critic_for_reviews</th><th scope=col>duration</th><th scope=col>director_facebook_likes</th><th scope=col>actor_3_facebook_likes</th><th scope=col>actor_2_name</th><th scope=col>actor_1_facebook_likes</th><th scope=col>gross</th><th scope=col>genres</th><th scope=col>...</th><th scope=col>genres_Reality.TV</th><th scope=col>genres_Romance</th><th scope=col>genres_Sci.Fi</th><th scope=col>genres_Short</th><th scope=col>genres_Sport</th><th scope=col>genres_Thriller</th><th scope=col>genres_War</th><th scope=col>genres_Western</th><th scope=col>movie_facebook_likes.1</th><th scope=col>currency</th></tr></thead>\n",
       "<tbody>\n",
       "\t<tr><td>Color                          </td><td>James Cameron                  </td><td>723                            </td><td>178                            </td><td>    0                          </td><td>  855                          </td><td>Joel David Moore               </td><td> 1000                          </td><td>760505847                      </td><td>Action|Adventure|Fantasy|Sci-Fi</td><td>...                            </td><td>0                              </td><td>0                              </td><td>1                              </td><td>0                              </td><td>0                              </td><td>0                              </td><td>0                              </td><td>0                              </td><td> 33000                         </td><td>NA                             </td></tr>\n",
       "\t<tr><td>Color                          </td><td>Gore Verbinski                 </td><td>302                            </td><td>169                            </td><td>  563                          </td><td> 1000                          </td><td>Orlando Bloom                  </td><td>40000                          </td><td>309404152                      </td><td>Action|Adventure|Fantasy       </td><td>...                            </td><td>0                              </td><td>0                              </td><td>0                              </td><td>0                              </td><td>0                              </td><td>0                              </td><td>0                              </td><td>0                              </td><td>     0                         </td><td>NA                             </td></tr>\n",
       "\t<tr><td>Color                          </td><td>Sam Mendes                     </td><td>602                            </td><td>148                            </td><td>    0                          </td><td>  161                          </td><td>Rory Kinnear                   </td><td>11000                          </td><td>200074175                      </td><td>Action|Adventure|Thriller      </td><td>...                            </td><td>0                              </td><td>0                              </td><td>0                              </td><td>0                              </td><td>0                              </td><td>1                              </td><td>0                              </td><td>0                              </td><td> 85000                         </td><td>NA                             </td></tr>\n",
       "\t<tr><td>Color                          </td><td>Christopher Nolan              </td><td>813                            </td><td>164                            </td><td>22000                          </td><td>23000                          </td><td>Christian Bale                 </td><td>27000                          </td><td>448130642                      </td><td>Action|Thriller                </td><td>...                            </td><td>0                              </td><td>0                              </td><td>0                              </td><td>0                              </td><td>0                              </td><td>1                              </td><td>0                              </td><td>0                              </td><td>164000                         </td><td>NA                             </td></tr>\n",
       "\t<tr><td>Color                          </td><td>Doug Walker                    </td><td> NA                            </td><td>136                            </td><td>  131                          </td><td>   NA                          </td><td>Rob Walker                     </td><td>  131                          </td><td>NA                             </td><td>Documentary                    </td><td>...                            </td><td>0                              </td><td>0                              </td><td>0                              </td><td>0                              </td><td>0                              </td><td>0                              </td><td>0                              </td><td>0                              </td><td>     0                         </td><td>NA                             </td></tr>\n",
       "\t<tr><td>Color                          </td><td>Andrew Stanton                 </td><td>462                            </td><td>132                            </td><td>  475                          </td><td>  530                          </td><td>Samantha Morton                </td><td>  640                          </td><td>73058679                       </td><td>Action|Adventure|Sci-Fi        </td><td>...                            </td><td>0                              </td><td>0                              </td><td>1                              </td><td>0                              </td><td>0                              </td><td>0                              </td><td>0                              </td><td>0                              </td><td> 24000                         </td><td>NA                             </td></tr>\n",
       "</tbody>\n",
       "</table>\n"
      ],
      "text/latex": [
       "\\begin{tabular}{r|llllllllllllllllllllllllllllllllllllllllllllllllllllllll}\n",
       " color & director\\_name & num\\_critic\\_for\\_reviews & duration & director\\_facebook\\_likes & actor\\_3\\_facebook\\_likes & actor\\_2\\_name & actor\\_1\\_facebook\\_likes & gross & genres & ... & genres\\_Reality.TV & genres\\_Romance & genres\\_Sci.Fi & genres\\_Short & genres\\_Sport & genres\\_Thriller & genres\\_War & genres\\_Western & movie\\_facebook\\_likes.1 & currency\\\\\n",
       "\\hline\n",
       "\t Color                                                         & James Cameron                                                 & 723                                                           & 178                                                           &     0                                                         &   855                                                         & Joel David Moore                                              &  1000                                                         & 760505847                                                     & Action\\textbar{}Adventure\\textbar{}Fantasy\\textbar{}Sci-Fi & ...                                                           & 0                                                             & 0                                                             & 1                                                             & 0                                                             & 0                                                             & 0                                                             & 0                                                             & 0                                                             &  33000                                                        & NA                                                           \\\\\n",
       "\t Color                                               & Gore Verbinski                                      & 302                                                 & 169                                                 &   563                                               &  1000                                               & Orlando Bloom                                       & 40000                                               & 309404152                                           & Action\\textbar{}Adventure\\textbar{}Fantasy        & ...                                                 & 0                                                   & 0                                                   & 0                                                   & 0                                                   & 0                                                   & 0                                                   & 0                                                   & 0                                                   &      0                                              & NA                                                 \\\\\n",
       "\t Color                                               & Sam Mendes                                          & 602                                                 & 148                                                 &     0                                               &   161                                               & Rory Kinnear                                        & 11000                                               & 200074175                                           & Action\\textbar{}Adventure\\textbar{}Thriller       & ...                                                 & 0                                                   & 0                                                   & 0                                                   & 0                                                   & 0                                                   & 1                                                   & 0                                                   & 0                                                   &  85000                                              & NA                                                 \\\\\n",
       "\t Color                                     & Christopher Nolan                         & 813                                       & 164                                       & 22000                                     & 23000                                     & Christian Bale                            & 27000                                     & 448130642                                 & Action\\textbar{}Thriller                 & ...                                       & 0                                         & 0                                         & 0                                         & 0                                         & 0                                         & 1                                         & 0                                         & 0                                         & 164000                                    & NA                                       \\\\\n",
       "\t Color                           & Doug Walker                     &  NA                             & 136                             &   131                           &    NA                           & Rob Walker                      &   131                           & NA                              & Documentary                     & ...                             & 0                               & 0                               & 0                               & 0                               & 0                               & 0                               & 0                               & 0                               &      0                          & NA                             \\\\\n",
       "\t Color                                               & Andrew Stanton                                      & 462                                                 & 132                                                 &   475                                               &   530                                               & Samantha Morton                                     &   640                                               & 73058679                                            & Action\\textbar{}Adventure\\textbar{}Sci-Fi         & ...                                                 & 0                                                   & 0                                                   & 1                                                   & 0                                                   & 0                                                   & 0                                                   & 0                                                   & 0                                                   &  24000                                              & NA                                                 \\\\\n",
       "\\end{tabular}\n"
      ],
      "text/markdown": [
       "\n",
       "color | director_name | num_critic_for_reviews | duration | director_facebook_likes | actor_3_facebook_likes | actor_2_name | actor_1_facebook_likes | gross | genres | ... | genres_Reality.TV | genres_Romance | genres_Sci.Fi | genres_Short | genres_Sport | genres_Thriller | genres_War | genres_Western | movie_facebook_likes.1 | currency | \n",
       "|---|---|---|---|---|---|\n",
       "| Color                           | James Cameron                   | 723                             | 178                             |     0                           |   855                           | Joel David Moore                |  1000                           | 760505847                       | Action|Adventure|Fantasy|Sci-Fi | ...                             | 0                               | 0                               | 1                               | 0                               | 0                               | 0                               | 0                               | 0                               |  33000                          | NA                              | \n",
       "| Color                           | Gore Verbinski                  | 302                             | 169                             |   563                           |  1000                           | Orlando Bloom                   | 40000                           | 309404152                       | Action|Adventure|Fantasy        | ...                             | 0                               | 0                               | 0                               | 0                               | 0                               | 0                               | 0                               | 0                               |      0                          | NA                              | \n",
       "| Color                           | Sam Mendes                      | 602                             | 148                             |     0                           |   161                           | Rory Kinnear                    | 11000                           | 200074175                       | Action|Adventure|Thriller       | ...                             | 0                               | 0                               | 0                               | 0                               | 0                               | 1                               | 0                               | 0                               |  85000                          | NA                              | \n",
       "| Color                           | Christopher Nolan               | 813                             | 164                             | 22000                           | 23000                           | Christian Bale                  | 27000                           | 448130642                       | Action|Thriller                 | ...                             | 0                               | 0                               | 0                               | 0                               | 0                               | 1                               | 0                               | 0                               | 164000                          | NA                              | \n",
       "| Color                           | Doug Walker                     |  NA                             | 136                             |   131                           |    NA                           | Rob Walker                      |   131                           | NA                              | Documentary                     | ...                             | 0                               | 0                               | 0                               | 0                               | 0                               | 0                               | 0                               | 0                               |      0                          | NA                              | \n",
       "| Color                           | Andrew Stanton                  | 462                             | 132                             |   475                           |   530                           | Samantha Morton                 |   640                           | 73058679                        | Action|Adventure|Sci-Fi         | ...                             | 0                               | 0                               | 1                               | 0                               | 0                               | 0                               | 0                               | 0                               |  24000                          | NA                              | \n",
       "\n",
       "\n"
      ],
      "text/plain": [
       "  color director_name     num_critic_for_reviews duration\n",
       "1 Color James Cameron     723                    178     \n",
       "2 Color Gore Verbinski    302                    169     \n",
       "3 Color Sam Mendes        602                    148     \n",
       "4 Color Christopher Nolan 813                    164     \n",
       "5 Color Doug Walker        NA                    136     \n",
       "6 Color Andrew Stanton    462                    132     \n",
       "  director_facebook_likes actor_3_facebook_likes actor_2_name    \n",
       "1     0                     855                  Joel David Moore\n",
       "2   563                    1000                  Orlando Bloom   \n",
       "3     0                     161                  Rory Kinnear    \n",
       "4 22000                   23000                  Christian Bale  \n",
       "5   131                      NA                  Rob Walker      \n",
       "6   475                     530                  Samantha Morton \n",
       "  actor_1_facebook_likes gross     genres                          ...\n",
       "1  1000                  760505847 Action|Adventure|Fantasy|Sci-Fi ...\n",
       "2 40000                  309404152 Action|Adventure|Fantasy        ...\n",
       "3 11000                  200074175 Action|Adventure|Thriller       ...\n",
       "4 27000                  448130642 Action|Thriller                 ...\n",
       "5   131                  NA        Documentary                     ...\n",
       "6   640                  73058679  Action|Adventure|Sci-Fi         ...\n",
       "  genres_Reality.TV genres_Romance genres_Sci.Fi genres_Short genres_Sport\n",
       "1 0                 0              1             0            0           \n",
       "2 0                 0              0             0            0           \n",
       "3 0                 0              0             0            0           \n",
       "4 0                 0              0             0            0           \n",
       "5 0                 0              0             0            0           \n",
       "6 0                 0              1             0            0           \n",
       "  genres_Thriller genres_War genres_Western movie_facebook_likes.1 currency\n",
       "1 0               0          0               33000                 NA      \n",
       "2 0               0          0                   0                 NA      \n",
       "3 1               0          0               85000                 NA      \n",
       "4 1               0          0              164000                 NA      \n",
       "5 0               0          0                   0                 NA      \n",
       "6 0               0          0               24000                 NA      "
      ]
     },
     "metadata": {},
     "output_type": "display_data"
    }
   ],
   "source": [
    "merge_movie<-full_join(movies,currency)\n",
    "setDT(merge_movie)\n",
    "head(merge_movie)"
   ]
  },
  {
   "cell_type": "code",
   "execution_count": 103,
   "metadata": {
    "collapsed": false
   },
   "outputs": [],
   "source": [
    "merge_movie<-merge_movie[order(-budget)]"
   ]
  },
  {
   "cell_type": "markdown",
   "metadata": {},
   "source": [
    "I make sure that all the labels in the variable \"currency\" are included in the data set from the OCED."
   ]
  },
  {
   "cell_type": "code",
   "execution_count": 104,
   "metadata": {
    "collapsed": false
   },
   "outputs": [
    {
     "data": {
      "text/html": [
       "<ol class=list-inline>\n",
       "\t<li>'THA'</li>\n",
       "\t<li>'NA'</li>\n",
       "\t<li>'HKG'</li>\n",
       "\t<li>'USSR'</li>\n",
       "</ol>\n"
      ],
      "text/latex": [
       "\\begin{enumerate*}\n",
       "\\item 'THA'\n",
       "\\item 'NA'\n",
       "\\item 'HKG'\n",
       "\\item 'USSR'\n",
       "\\end{enumerate*}\n"
      ],
      "text/markdown": [
       "1. 'THA'\n",
       "2. 'NA'\n",
       "3. 'HKG'\n",
       "4. 'USSR'\n",
       "\n",
       "\n"
      ],
      "text/plain": [
       "[1] \"THA\"  NA     \"HKG\"  \"USSR\""
      ]
     },
     "metadata": {},
     "output_type": "display_data"
    }
   ],
   "source": [
    "setdiff(unique(merge_movie$currency),ex_rate$LOCATION)"
   ]
  },
  {
   "cell_type": "markdown",
   "metadata": {},
   "source": [
    "Those values are not in the data set since these countries are not members of the OCED. Since there's not a lot of observations from Thailand or the USSR in the data set, I will enter those exchange rates manually in the table."
   ]
  },
  {
   "cell_type": "code",
   "execution_count": 105,
   "metadata": {
    "collapsed": false
   },
   "outputs": [
    {
     "data": {
      "text/html": [
       "<table>\n",
       "<thead><tr><th scope=col>color</th><th scope=col>director_name</th><th scope=col>num_critic_for_reviews</th><th scope=col>duration</th><th scope=col>director_facebook_likes</th><th scope=col>actor_3_facebook_likes</th><th scope=col>actor_2_name</th><th scope=col>actor_1_facebook_likes</th><th scope=col>gross</th><th scope=col>genres</th><th scope=col>...</th><th scope=col>genres_Reality.TV</th><th scope=col>genres_Romance</th><th scope=col>genres_Sci.Fi</th><th scope=col>genres_Short</th><th scope=col>genres_Sport</th><th scope=col>genres_Thriller</th><th scope=col>genres_War</th><th scope=col>genres_Western</th><th scope=col>movie_facebook_likes.1</th><th scope=col>currency</th></tr></thead>\n",
       "<tbody>\n",
       "\t<tr><td>Black and White     </td><td>Andrei Tarkovsky    </td><td>144                 </td><td>115                 </td><td>0                   </td><td>12                  </td><td>Anatoliy Solonitsyn </td><td>29                  </td><td>NA                  </td><td>Drama|Mystery|Sci-Fi</td><td>...                 </td><td>0                   </td><td>0                   </td><td>1                   </td><td>0                   </td><td>0                   </td><td>0                   </td><td>0                   </td><td>0                   </td><td>0                   </td><td>USSR                </td></tr>\n",
       "</tbody>\n",
       "</table>\n"
      ],
      "text/latex": [
       "\\begin{tabular}{r|llllllllllllllllllllllllllllllllllllllllllllllllllllllll}\n",
       " color & director\\_name & num\\_critic\\_for\\_reviews & duration & director\\_facebook\\_likes & actor\\_3\\_facebook\\_likes & actor\\_2\\_name & actor\\_1\\_facebook\\_likes & gross & genres & ... & genres\\_Reality.TV & genres\\_Romance & genres\\_Sci.Fi & genres\\_Short & genres\\_Sport & genres\\_Thriller & genres\\_War & genres\\_Western & movie\\_facebook\\_likes.1 & currency\\\\\n",
       "\\hline\n",
       "\t Black and White                          & Andrei Tarkovsky                         & 144                                      & 115                                      & 0                                        & 12                                       & Anatoliy Solonitsyn                      & 29                                       & NA                                       & Drama\\textbar{}Mystery\\textbar{}Sci-Fi & ...                                      & 0                                        & 0                                        & 1                                        & 0                                        & 0                                        & 0                                        & 0                                        & 0                                        & 0                                        & USSR                                    \\\\\n",
       "\\end{tabular}\n"
      ],
      "text/markdown": [
       "\n",
       "color | director_name | num_critic_for_reviews | duration | director_facebook_likes | actor_3_facebook_likes | actor_2_name | actor_1_facebook_likes | gross | genres | ... | genres_Reality.TV | genres_Romance | genres_Sci.Fi | genres_Short | genres_Sport | genres_Thriller | genres_War | genres_Western | movie_facebook_likes.1 | currency | \n",
       "|---|\n",
       "| Black and White      | Andrei Tarkovsky     | 144                  | 115                  | 0                    | 12                   | Anatoliy Solonitsyn  | 29                   | NA                   | Drama|Mystery|Sci-Fi | ...                  | 0                    | 0                    | 1                    | 0                    | 0                    | 0                    | 0                    | 0                    | 0                    | USSR                 | \n",
       "\n",
       "\n"
      ],
      "text/plain": [
       "  color           director_name    num_critic_for_reviews duration\n",
       "1 Black and White Andrei Tarkovsky 144                    115     \n",
       "  director_facebook_likes actor_3_facebook_likes actor_2_name       \n",
       "1 0                       12                     Anatoliy Solonitsyn\n",
       "  actor_1_facebook_likes gross genres               ... genres_Reality.TV\n",
       "1 29                     NA    Drama|Mystery|Sci-Fi ... 0                \n",
       "  genres_Romance genres_Sci.Fi genres_Short genres_Sport genres_Thriller\n",
       "1 0              1             0            0            0              \n",
       "  genres_War genres_Western movie_facebook_likes.1 currency\n",
       "1 0          0              0                      USSR    "
      ]
     },
     "metadata": {},
     "output_type": "display_data"
    }
   ],
   "source": [
    "merge_movie[currency=='USSR']"
   ]
  },
  {
   "cell_type": "code",
   "execution_count": 106,
   "metadata": {
    "collapsed": false
   },
   "outputs": [
    {
     "data": {
      "text/html": [
       "<table>\n",
       "<thead><tr><th scope=col>LOCATION</th><th scope=col>TIME</th><th scope=col>Value</th></tr></thead>\n",
       "<tbody>\n",
       "\t<tr><td>CRI     </td><td>2011    </td><td>505.6642</td></tr>\n",
       "\t<tr><td>CRI     </td><td>2012    </td><td>502.9015</td></tr>\n",
       "\t<tr><td>CRI     </td><td>2013    </td><td>499.7668</td></tr>\n",
       "\t<tr><td>CRI     </td><td>2014    </td><td>538.3172</td></tr>\n",
       "\t<tr><td>CRI     </td><td>2015    </td><td>534.5658</td></tr>\n",
       "\t<tr><td>USSR    </td><td>1972    </td><td>  0.8290</td></tr>\n",
       "</tbody>\n",
       "</table>\n"
      ],
      "text/latex": [
       "\\begin{tabular}{r|lll}\n",
       " LOCATION & TIME & Value\\\\\n",
       "\\hline\n",
       "\t CRI      & 2011     & 505.6642\\\\\n",
       "\t CRI      & 2012     & 502.9015\\\\\n",
       "\t CRI      & 2013     & 499.7668\\\\\n",
       "\t CRI      & 2014     & 538.3172\\\\\n",
       "\t CRI      & 2015     & 534.5658\\\\\n",
       "\t USSR     & 1972     &   0.8290\\\\\n",
       "\\end{tabular}\n"
      ],
      "text/markdown": [
       "\n",
       "LOCATION | TIME | Value | \n",
       "|---|---|---|---|---|---|\n",
       "| CRI      | 2011     | 505.6642 | \n",
       "| CRI      | 2012     | 502.9015 | \n",
       "| CRI      | 2013     | 499.7668 | \n",
       "| CRI      | 2014     | 538.3172 | \n",
       "| CRI      | 2015     | 534.5658 | \n",
       "| USSR     | 1972     |   0.8290 | \n",
       "\n",
       "\n"
      ],
      "text/plain": [
       "  LOCATION TIME Value   \n",
       "1 CRI      2011 505.6642\n",
       "2 CRI      2012 502.9015\n",
       "3 CRI      2013 499.7668\n",
       "4 CRI      2014 538.3172\n",
       "5 CRI      2015 534.5658\n",
       "6 USSR     1972   0.8290"
      ]
     },
     "metadata": {},
     "output_type": "display_data"
    }
   ],
   "source": [
    "temp<-data.table(LOCATION=\"USSR\",TIME=1972,Value=0.8290)\n",
    "ex_rate<-rbind(ex_rate, temp,fill=TRUE)\n",
    "tail(ex_rate)"
   ]
  },
  {
   "cell_type": "code",
   "execution_count": 107,
   "metadata": {
    "collapsed": false
   },
   "outputs": [
    {
     "data": {
      "text/html": [
       "<table>\n",
       "<thead><tr><th scope=col>color</th><th scope=col>director_name</th><th scope=col>num_critic_for_reviews</th><th scope=col>duration</th><th scope=col>director_facebook_likes</th><th scope=col>actor_3_facebook_likes</th><th scope=col>actor_2_name</th><th scope=col>actor_1_facebook_likes</th><th scope=col>gross</th><th scope=col>genres</th><th scope=col>...</th><th scope=col>genres_Reality.TV</th><th scope=col>genres_Romance</th><th scope=col>genres_Sci.Fi</th><th scope=col>genres_Short</th><th scope=col>genres_Sport</th><th scope=col>genres_Thriller</th><th scope=col>genres_War</th><th scope=col>genres_Western</th><th scope=col>movie_facebook_likes.1</th><th scope=col>currency</th></tr></thead>\n",
       "<tbody>\n",
       "\t<tr><td>Color                             </td><td>Chatrichalerm Yukol               </td><td> 31                               </td><td>300                               </td><td> 6                                </td><td>  6                               </td><td>Chatchai Plengpanich              </td><td>  7                               </td><td>454255                            </td><td>Action|Adventure|Drama|History|War</td><td>...                               </td><td>0                                 </td><td>0                                 </td><td>0                                 </td><td>0                                 </td><td>0                                 </td><td>0                                 </td><td>1                                 </td><td>0                                 </td><td>124                               </td><td>THA                               </td></tr>\n",
       "\t<tr><td>Color                             </td><td>Tony Jaa                          </td><td>110                               </td><td>110                               </td><td> 0                                </td><td>  7                               </td><td>Petchtai Wongkamlao               </td><td> 64                               </td><td>102055                            </td><td>Action                            </td><td>...                               </td><td>0                                 </td><td>0                                 </td><td>0                                 </td><td>0                                 </td><td>0                                 </td><td>0                                 </td><td>0                                 </td><td>0                                 </td><td>  0                               </td><td>THA                               </td></tr>\n",
       "\t<tr><td>Color                             </td><td>Prachya Pinkaew                   </td><td>112                               </td><td>111                               </td><td>64                                </td><td>380                               </td><td>Nathan Jones                      </td><td>778                               </td><td>11905519                          </td><td>Action|Crime|Drama|Thriller       </td><td>...                               </td><td>0                                 </td><td>0                                 </td><td>0                                 </td><td>0                                 </td><td>0                                 </td><td>1                                 </td><td>0                                 </td><td>0                                 </td><td>  0                               </td><td>THA                               </td></tr>\n",
       "</tbody>\n",
       "</table>\n"
      ],
      "text/latex": [
       "\\begin{tabular}{r|llllllllllllllllllllllllllllllllllllllllllllllllllllllll}\n",
       " color & director\\_name & num\\_critic\\_for\\_reviews & duration & director\\_facebook\\_likes & actor\\_3\\_facebook\\_likes & actor\\_2\\_name & actor\\_1\\_facebook\\_likes & gross & genres & ... & genres\\_Reality.TV & genres\\_Romance & genres\\_Sci.Fi & genres\\_Short & genres\\_Sport & genres\\_Thriller & genres\\_War & genres\\_Western & movie\\_facebook\\_likes.1 & currency\\\\\n",
       "\\hline\n",
       "\t Color                                                                      & Chatrichalerm Yukol                                                        &  31                                                                        & 300                                                                        &  6                                                                         &   6                                                                        & Chatchai Plengpanich                                                       &   7                                                                        & 454255                                                                     & Action\\textbar{}Adventure\\textbar{}Drama\\textbar{}History\\textbar{}War & ...                                                                        & 0                                                                          & 0                                                                          & 0                                                                          & 0                                                                          & 0                                                                          & 0                                                                          & 1                                                                          & 0                                                                          & 124                                                                        & THA                                                                       \\\\\n",
       "\t Color                              & Tony Jaa                           & 110                                & 110                                &  0                                 &   7                                & Petchtai Wongkamlao                &  64                                & 102055                             & Action                             & ...                                & 0                                  & 0                                  & 0                                  & 0                                  & 0                                  & 0                                  & 0                                  & 0                                  &   0                                & THA                               \\\\\n",
       "\t Color                                                            & Prachya Pinkaew                                                  & 112                                                              & 111                                                              & 64                                                               & 380                                                              & Nathan Jones                                                     & 778                                                              & 11905519                                                         & Action\\textbar{}Crime\\textbar{}Drama\\textbar{}Thriller        & ...                                                              & 0                                                                & 0                                                                & 0                                                                & 0                                                                & 0                                                                & 1                                                                & 0                                                                & 0                                                                &   0                                                              & THA                                                             \\\\\n",
       "\\end{tabular}\n"
      ],
      "text/markdown": [
       "\n",
       "color | director_name | num_critic_for_reviews | duration | director_facebook_likes | actor_3_facebook_likes | actor_2_name | actor_1_facebook_likes | gross | genres | ... | genres_Reality.TV | genres_Romance | genres_Sci.Fi | genres_Short | genres_Sport | genres_Thriller | genres_War | genres_Western | movie_facebook_likes.1 | currency | \n",
       "|---|---|---|\n",
       "| Color                              | Chatrichalerm Yukol                |  31                                | 300                                |  6                                 |   6                                | Chatchai Plengpanich               |   7                                | 454255                             | Action|Adventure|Drama|History|War | ...                                | 0                                  | 0                                  | 0                                  | 0                                  | 0                                  | 0                                  | 1                                  | 0                                  | 124                                | THA                                | \n",
       "| Color                              | Tony Jaa                           | 110                                | 110                                |  0                                 |   7                                | Petchtai Wongkamlao                |  64                                | 102055                             | Action                             | ...                                | 0                                  | 0                                  | 0                                  | 0                                  | 0                                  | 0                                  | 0                                  | 0                                  |   0                                | THA                                | \n",
       "| Color                              | Prachya Pinkaew                    | 112                                | 111                                | 64                                 | 380                                | Nathan Jones                       | 778                                | 11905519                           | Action|Crime|Drama|Thriller        | ...                                | 0                                  | 0                                  | 0                                  | 0                                  | 0                                  | 1                                  | 0                                  | 0                                  |   0                                | THA                                | \n",
       "\n",
       "\n"
      ],
      "text/plain": [
       "  color director_name       num_critic_for_reviews duration\n",
       "1 Color Chatrichalerm Yukol  31                    300     \n",
       "2 Color Tony Jaa            110                    110     \n",
       "3 Color Prachya Pinkaew     112                    111     \n",
       "  director_facebook_likes actor_3_facebook_likes actor_2_name        \n",
       "1  6                        6                    Chatchai Plengpanich\n",
       "2  0                        7                    Petchtai Wongkamlao \n",
       "3 64                      380                    Nathan Jones        \n",
       "  actor_1_facebook_likes gross    genres                             ...\n",
       "1   7                    454255   Action|Adventure|Drama|History|War ...\n",
       "2  64                    102055   Action                             ...\n",
       "3 778                    11905519 Action|Crime|Drama|Thriller        ...\n",
       "  genres_Reality.TV genres_Romance genres_Sci.Fi genres_Short genres_Sport\n",
       "1 0                 0              0             0            0           \n",
       "2 0                 0              0             0            0           \n",
       "3 0                 0              0             0            0           \n",
       "  genres_Thriller genres_War genres_Western movie_facebook_likes.1 currency\n",
       "1 0               1          0              124                    THA     \n",
       "2 0               0          0                0                    THA     \n",
       "3 1               0          0                0                    THA     "
      ]
     },
     "metadata": {},
     "output_type": "display_data"
    }
   ],
   "source": [
    "merge_movie[currency=='THA']"
   ]
  },
  {
   "cell_type": "code",
   "execution_count": 108,
   "metadata": {
    "collapsed": false
   },
   "outputs": [
    {
     "data": {
      "text/html": [
       "<table>\n",
       "<thead><tr><th scope=col>LOCATION</th><th scope=col>TIME</th><th scope=col>Value</th></tr></thead>\n",
       "<tbody>\n",
       "\t<tr><td>CRI     </td><td>2014    </td><td>538.3172</td></tr>\n",
       "\t<tr><td>CRI     </td><td>2015    </td><td>534.5658</td></tr>\n",
       "\t<tr><td>USSR    </td><td>1972    </td><td>  0.8290</td></tr>\n",
       "\t<tr><td>THA     </td><td>2001    </td><td> 43.7900</td></tr>\n",
       "\t<tr><td>THA     </td><td>2005    </td><td> 39.6800</td></tr>\n",
       "\t<tr><td>THA     </td><td>2008    </td><td> 35.2024</td></tr>\n",
       "</tbody>\n",
       "</table>\n"
      ],
      "text/latex": [
       "\\begin{tabular}{r|lll}\n",
       " LOCATION & TIME & Value\\\\\n",
       "\\hline\n",
       "\t CRI      & 2014     & 538.3172\\\\\n",
       "\t CRI      & 2015     & 534.5658\\\\\n",
       "\t USSR     & 1972     &   0.8290\\\\\n",
       "\t THA      & 2001     &  43.7900\\\\\n",
       "\t THA      & 2005     &  39.6800\\\\\n",
       "\t THA      & 2008     &  35.2024\\\\\n",
       "\\end{tabular}\n"
      ],
      "text/markdown": [
       "\n",
       "LOCATION | TIME | Value | \n",
       "|---|---|---|---|---|---|\n",
       "| CRI      | 2014     | 538.3172 | \n",
       "| CRI      | 2015     | 534.5658 | \n",
       "| USSR     | 1972     |   0.8290 | \n",
       "| THA      | 2001     |  43.7900 | \n",
       "| THA      | 2005     |  39.6800 | \n",
       "| THA      | 2008     |  35.2024 | \n",
       "\n",
       "\n"
      ],
      "text/plain": [
       "  LOCATION TIME Value   \n",
       "1 CRI      2014 538.3172\n",
       "2 CRI      2015 534.5658\n",
       "3 USSR     1972   0.8290\n",
       "4 THA      2001  43.7900\n",
       "5 THA      2005  39.6800\n",
       "6 THA      2008  35.2024"
      ]
     },
     "metadata": {},
     "output_type": "display_data"
    }
   ],
   "source": [
    "temp<-data.table(LOCATION=c('THA','THA','THA'),TIME=c(2001,2005,2008),Value=c(43.7900,39.6800,35.2024))\n",
    "ex_rate<-rbind(ex_rate, temp,fill=TRUE)\n",
    "tail(ex_rate)"
   ]
  },
  {
   "cell_type": "code",
   "execution_count": 109,
   "metadata": {
    "collapsed": false
   },
   "outputs": [
    {
     "data": {
      "text/html": [
       "<table>\n",
       "<thead><tr><th scope=col>color</th><th scope=col>director_name</th><th scope=col>num_critic_for_reviews</th><th scope=col>duration</th><th scope=col>director_facebook_likes</th><th scope=col>actor_3_facebook_likes</th><th scope=col>actor_2_name</th><th scope=col>actor_1_facebook_likes</th><th scope=col>gross</th><th scope=col>genres</th><th scope=col>...</th><th scope=col>genres_Reality.TV</th><th scope=col>genres_Romance</th><th scope=col>genres_Sci.Fi</th><th scope=col>genres_Short</th><th scope=col>genres_Sport</th><th scope=col>genres_Thriller</th><th scope=col>genres_War</th><th scope=col>genres_Western</th><th scope=col>movie_facebook_likes.1</th><th scope=col>currency</th></tr></thead>\n",
       "<tbody>\n",
       "\t<tr><td>Color                 </td><td>Kaige Chen            </td><td>90                    </td><td>103                   </td><td> 45                   </td><td>107                   </td><td>Toby Leonard Moore    </td><td>489                   </td><td>668171                </td><td>Action|Drama|Fantasy  </td><td>...                   </td><td>0                     </td><td>0                     </td><td>0                     </td><td>0                     </td><td>0                     </td><td>0                     </td><td>0                     </td><td>0                     </td><td>445                   </td><td>HKG                   </td></tr>\n",
       "\t<tr><td>Color                 </td><td>Johnnie To            </td><td>98                    </td><td>110                   </td><td>143                   </td><td> 76                   </td><td>Anthony Chau-Sang Wong</td><td>155                   </td><td>49413                 </td><td>Action|Crime|Thriller </td><td>...                   </td><td>0                     </td><td>0                     </td><td>0                     </td><td>0                     </td><td>0                     </td><td>1                     </td><td>0                     </td><td>0                     </td><td>528                   </td><td>HKG                   </td></tr>\n",
       "</tbody>\n",
       "</table>\n"
      ],
      "text/latex": [
       "\\begin{tabular}{r|llllllllllllllllllllllllllllllllllllllllllllllllllllllll}\n",
       " color & director\\_name & num\\_critic\\_for\\_reviews & duration & director\\_facebook\\_likes & actor\\_3\\_facebook\\_likes & actor\\_2\\_name & actor\\_1\\_facebook\\_likes & gross & genres & ... & genres\\_Reality.TV & genres\\_Romance & genres\\_Sci.Fi & genres\\_Short & genres\\_Sport & genres\\_Thriller & genres\\_War & genres\\_Western & movie\\_facebook\\_likes.1 & currency\\\\\n",
       "\\hline\n",
       "\t Color                                     & Kaige Chen                                & 90                                        & 103                                       &  45                                       & 107                                       & Toby Leonard Moore                        & 489                                       & 668171                                    & Action\\textbar{}Drama\\textbar{}Fantasy  & ...                                       & 0                                         & 0                                         & 0                                         & 0                                         & 0                                         & 0                                         & 0                                         & 0                                         & 445                                       & HKG                                      \\\\\n",
       "\t Color                                     & Johnnie To                                & 98                                        & 110                                       & 143                                       &  76                                       & Anthony Chau-Sang Wong                    & 155                                       & 49413                                     & Action\\textbar{}Crime\\textbar{}Thriller & ...                                       & 0                                         & 0                                         & 0                                         & 0                                         & 0                                         & 1                                         & 0                                         & 0                                         & 528                                       & HKG                                      \\\\\n",
       "\\end{tabular}\n"
      ],
      "text/markdown": [
       "\n",
       "color | director_name | num_critic_for_reviews | duration | director_facebook_likes | actor_3_facebook_likes | actor_2_name | actor_1_facebook_likes | gross | genres | ... | genres_Reality.TV | genres_Romance | genres_Sci.Fi | genres_Short | genres_Sport | genres_Thriller | genres_War | genres_Western | movie_facebook_likes.1 | currency | \n",
       "|---|---|\n",
       "| Color                  | Kaige Chen             | 90                     | 103                    |  45                    | 107                    | Toby Leonard Moore     | 489                    | 668171                 | Action|Drama|Fantasy   | ...                    | 0                      | 0                      | 0                      | 0                      | 0                      | 0                      | 0                      | 0                      | 445                    | HKG                    | \n",
       "| Color                  | Johnnie To             | 98                     | 110                    | 143                    |  76                    | Anthony Chau-Sang Wong | 155                    | 49413                  | Action|Crime|Thriller  | ...                    | 0                      | 0                      | 0                      | 0                      | 0                      | 1                      | 0                      | 0                      | 528                    | HKG                    | \n",
       "\n",
       "\n"
      ],
      "text/plain": [
       "  color director_name num_critic_for_reviews duration director_facebook_likes\n",
       "1 Color Kaige Chen    90                     103       45                    \n",
       "2 Color Johnnie To    98                     110      143                    \n",
       "  actor_3_facebook_likes actor_2_name           actor_1_facebook_likes gross \n",
       "1 107                    Toby Leonard Moore     489                    668171\n",
       "2  76                    Anthony Chau-Sang Wong 155                    49413 \n",
       "  genres                ... genres_Reality.TV genres_Romance genres_Sci.Fi\n",
       "1 Action|Drama|Fantasy  ... 0                 0              0            \n",
       "2 Action|Crime|Thriller ... 0                 0              0            \n",
       "  genres_Short genres_Sport genres_Thriller genres_War genres_Western\n",
       "1 0            0            0               0          0             \n",
       "2 0            0            1               0          0             \n",
       "  movie_facebook_likes.1 currency\n",
       "1 445                    HKG     \n",
       "2 528                    HKG     "
      ]
     },
     "metadata": {},
     "output_type": "display_data"
    }
   ],
   "source": [
    "merge_movie[currency=='HKG']"
   ]
  },
  {
   "cell_type": "code",
   "execution_count": 110,
   "metadata": {
    "collapsed": false
   },
   "outputs": [
    {
     "data": {
      "text/html": [
       "<table>\n",
       "<thead><tr><th scope=col>LOCATION</th><th scope=col>TIME</th><th scope=col>Value</th></tr></thead>\n",
       "<tbody>\n",
       "\t<tr><td>USSR   </td><td>1972   </td><td> 0.8290</td></tr>\n",
       "\t<tr><td>THA    </td><td>2001   </td><td>43.7900</td></tr>\n",
       "\t<tr><td>THA    </td><td>2005   </td><td>39.6800</td></tr>\n",
       "\t<tr><td>THA    </td><td>2008   </td><td>35.2024</td></tr>\n",
       "\t<tr><td>HKG    </td><td>2005   </td><td> 7.8000</td></tr>\n",
       "\t<tr><td>HKG    </td><td>2006   </td><td> 7.6800</td></tr>\n",
       "</tbody>\n",
       "</table>\n"
      ],
      "text/latex": [
       "\\begin{tabular}{r|lll}\n",
       " LOCATION & TIME & Value\\\\\n",
       "\\hline\n",
       "\t USSR    & 1972    &  0.8290\\\\\n",
       "\t THA     & 2001    & 43.7900\\\\\n",
       "\t THA     & 2005    & 39.6800\\\\\n",
       "\t THA     & 2008    & 35.2024\\\\\n",
       "\t HKG     & 2005    &  7.8000\\\\\n",
       "\t HKG     & 2006    &  7.6800\\\\\n",
       "\\end{tabular}\n"
      ],
      "text/markdown": [
       "\n",
       "LOCATION | TIME | Value | \n",
       "|---|---|---|---|---|---|\n",
       "| USSR    | 1972    |  0.8290 | \n",
       "| THA     | 2001    | 43.7900 | \n",
       "| THA     | 2005    | 39.6800 | \n",
       "| THA     | 2008    | 35.2024 | \n",
       "| HKG     | 2005    |  7.8000 | \n",
       "| HKG     | 2006    |  7.6800 | \n",
       "\n",
       "\n"
      ],
      "text/plain": [
       "  LOCATION TIME Value  \n",
       "1 USSR     1972  0.8290\n",
       "2 THA      2001 43.7900\n",
       "3 THA      2005 39.6800\n",
       "4 THA      2008 35.2024\n",
       "5 HKG      2005  7.8000\n",
       "6 HKG      2006  7.6800"
      ]
     },
     "metadata": {},
     "output_type": "display_data"
    }
   ],
   "source": [
    "temp<-data.table(LOCATION=c('HKG','HKG'),TIME=c(2005,2006),Value=c(7.80,7.68))\n",
    "ex_rate<-rbind(ex_rate, temp,fill=TRUE)\n",
    "tail(ex_rate)"
   ]
  },
  {
   "cell_type": "markdown",
   "metadata": {},
   "source": [
    "Also, I have created an entry in the exchange rate table with a \"LOCATION\" of NA, an exchange rate of 1 for the period from 1950 to 2015. By doing this, I didn't change the budget of the movie for which I don't know the country. Handling the missing values in the data set instead of handling those observations in my code will make calculation faster. "
   ]
  },
  {
   "cell_type": "code",
   "execution_count": 111,
   "metadata": {
    "collapsed": false
   },
   "outputs": [
    {
     "data": {
      "text/html": [
       "<table>\n",
       "<thead><tr><th scope=col>LOCATION</th><th scope=col>TIME</th><th scope=col>Value</th></tr></thead>\n",
       "<tbody>\n",
       "\t<tr><td>NA  </td><td>2010</td><td>1   </td></tr>\n",
       "\t<tr><td>NA  </td><td>2011</td><td>1   </td></tr>\n",
       "\t<tr><td>NA  </td><td>2012</td><td>1   </td></tr>\n",
       "\t<tr><td>NA  </td><td>2013</td><td>1   </td></tr>\n",
       "\t<tr><td>NA  </td><td>2014</td><td>1   </td></tr>\n",
       "\t<tr><td>NA  </td><td>2015</td><td>1   </td></tr>\n",
       "</tbody>\n",
       "</table>\n"
      ],
      "text/latex": [
       "\\begin{tabular}{r|lll}\n",
       " LOCATION & TIME & Value\\\\\n",
       "\\hline\n",
       "\t NA   & 2010 & 1   \\\\\n",
       "\t NA   & 2011 & 1   \\\\\n",
       "\t NA   & 2012 & 1   \\\\\n",
       "\t NA   & 2013 & 1   \\\\\n",
       "\t NA   & 2014 & 1   \\\\\n",
       "\t NA   & 2015 & 1   \\\\\n",
       "\\end{tabular}\n"
      ],
      "text/markdown": [
       "\n",
       "LOCATION | TIME | Value | \n",
       "|---|---|---|---|---|---|\n",
       "| NA   | 2010 | 1    | \n",
       "| NA   | 2011 | 1    | \n",
       "| NA   | 2012 | 1    | \n",
       "| NA   | 2013 | 1    | \n",
       "| NA   | 2014 | 1    | \n",
       "| NA   | 2015 | 1    | \n",
       "\n",
       "\n"
      ],
      "text/plain": [
       "  LOCATION TIME Value\n",
       "1 NA       2010 1    \n",
       "2 NA       2011 1    \n",
       "3 NA       2012 1    \n",
       "4 NA       2013 1    \n",
       "5 NA       2014 1    \n",
       "6 NA       2015 1    "
      ]
     },
     "metadata": {},
     "output_type": "display_data"
    }
   ],
   "source": [
    "temp<-data.table(LOCATION=rep(NA,times=66),TIME=1950:2015,Value=rep(1,times=66))\n",
    "ex_rate<-rbind(ex_rate, temp,fill=TRUE)\n",
    "tail(ex_rate)"
   ]
  },
  {
   "cell_type": "code",
   "execution_count": 112,
   "metadata": {
    "collapsed": false
   },
   "outputs": [],
   "source": [
    "#write.csv(merge_movie,\"movie_with_currency.csv\",row.names=FALSE, col.names=TRUE)"
   ]
  },
  {
   "cell_type": "markdown",
   "metadata": {},
   "source": [
    "# Convert budget"
   ]
  },
  {
   "cell_type": "code",
   "execution_count": 113,
   "metadata": {
    "collapsed": false
   },
   "outputs": [],
   "source": [
    "#merge_movie<-fread(\"movie_with_currency.csv\", stringsAsFactors=FALSE)\n",
    "#setDT(merge_movie)"
   ]
  },
  {
   "cell_type": "markdown",
   "metadata": {},
   "source": [
    "Below, I have written a custom function who compares the country code and the year variables in the movies and ex_rate data sets to locate which exchange rate to apply on which movie budget. After that the function divides the budget by the exchange rate to get the budgets in U.S. dollars and return a vector of those values. "
   ]
  },
  {
   "cell_type": "code",
   "execution_count": 114,
   "metadata": {
    "collapsed": false
   },
   "outputs": [],
   "source": [
    "#a=country of the rate\n",
    "#b=year of the exchange rate\n",
    "#c=value of the exchage rate\n",
    "#x=country of the movie\n",
    "#y=year of the making of the movie\n",
    "#z=budget of the movie\n",
    "\n",
    "convert_gross<-function(a,b,c,x,y,z){\n",
    "    value<-z\n",
    "    for (i in 1:length(y)){\n",
    "       index<-which(a %in% x[i] & b %in%y [i])\n",
    "        min<-1\n",
    "        find<-FALSE\n",
    "        if(length(index)==0)\n",
    "        {\n",
    "           value[i]<-z[i]\n",
    "        }\n",
    "        else\n",
    "            {\n",
    "            for (j in 1:length(index)){\n",
    "            \n",
    "            if(j==1)\n",
    "                {\n",
    "                    min<-c[index[j]]\n",
    "                    find<-FALSE\n",
    "                }           \n",
    "\n",
    "            if(y[i]==b[index[j]])\n",
    "            {\n",
    "                value[i]<-z[i]/c[index[j]]\n",
    "                Find<-TRUE\n",
    "            }\n",
    "        }\n",
    "        \n",
    "        if(!find)\n",
    "            {\n",
    "            \n",
    "            value[i]<-z[i]/min\n",
    "        }\n",
    "            \n",
    "        }\n",
    "        \n",
    "        \n",
    "    } \n",
    "    return(value)\n",
    "}"
   ]
  },
  {
   "cell_type": "code",
   "execution_count": 115,
   "metadata": {
    "collapsed": false
   },
   "outputs": [],
   "source": [
    "merge_movie$budget_us<-convert_gross(ex_rate$LOCATION,ex_rate$TIME,ex_rate$Value,\n",
    "                                  merge_movie$currency,merge_movie$title_year,merge_movie$budget)"
   ]
  },
  {
   "cell_type": "code",
   "execution_count": 116,
   "metadata": {
    "collapsed": true
   },
   "outputs": [],
   "source": [
    "merge_movie<-merge_movie[!duplicated(merge_movie$movie_title)]"
   ]
  },
  {
   "cell_type": "code",
   "execution_count": 117,
   "metadata": {
    "collapsed": false
   },
   "outputs": [
    {
     "data": {
      "text/html": [
       "<table>\n",
       "<thead><tr><th scope=col>movie_title</th><th scope=col>title_year</th><th scope=col>currency</th><th scope=col>budget</th><th scope=col>budget_us</th></tr></thead>\n",
       "<tbody>\n",
       "\t<tr><td>The Host         </td><td>2006             </td><td>KOR              </td><td>12215500000      </td><td>12793906         </td></tr>\n",
       "\t<tr><td>Lady Vengeance   </td><td>2005             </td><td>KOR              </td><td> 4200000000      </td><td> 4101095         </td></tr>\n",
       "\t<tr><td>Fateless         </td><td>2005             </td><td>HUN              </td><td> 2500000000      </td><td>12526148         </td></tr>\n",
       "\t<tr><td>Princess Mononoke</td><td>1997             </td><td>JPN              </td><td> 2400000000      </td><td>19836209         </td></tr>\n",
       "\t<tr><td>Steamboy         </td><td>2004             </td><td>JPN              </td><td> 2127519898      </td><td>19664196         </td></tr>\n",
       "\t<tr><td>Akira            </td><td>1988             </td><td>JPN              </td><td> 1100000000      </td><td> 8583579         </td></tr>\n",
       "</tbody>\n",
       "</table>\n"
      ],
      "text/latex": [
       "\\begin{tabular}{r|lllll}\n",
       " movie\\_title & title\\_year & currency & budget & budget\\_us\\\\\n",
       "\\hline\n",
       "\t The Host          & 2006              & KOR               & 12215500000       & 12793906         \\\\\n",
       "\t Lady Vengeance    & 2005              & KOR               &  4200000000       &  4101095         \\\\\n",
       "\t Fateless          & 2005              & HUN               &  2500000000       & 12526148         \\\\\n",
       "\t Princess Mononoke & 1997              & JPN               &  2400000000       & 19836209         \\\\\n",
       "\t Steamboy          & 2004              & JPN               &  2127519898       & 19664196         \\\\\n",
       "\t Akira             & 1988              & JPN               &  1100000000       &  8583579         \\\\\n",
       "\\end{tabular}\n"
      ],
      "text/markdown": [
       "\n",
       "movie_title | title_year | currency | budget | budget_us | \n",
       "|---|---|---|---|---|---|\n",
       "| The Host          | 2006              | KOR               | 12215500000       | 12793906          | \n",
       "| Lady Vengeance    | 2005              | KOR               |  4200000000       |  4101095          | \n",
       "| Fateless          | 2005              | HUN               |  2500000000       | 12526148          | \n",
       "| Princess Mononoke | 1997              | JPN               |  2400000000       | 19836209          | \n",
       "| Steamboy          | 2004              | JPN               |  2127519898       | 19664196          | \n",
       "| Akira             | 1988              | JPN               |  1100000000       |  8583579          | \n",
       "\n",
       "\n"
      ],
      "text/plain": [
       "  movie_title       title_year currency budget      budget_us\n",
       "1 The Host          2006       KOR      12215500000 12793906 \n",
       "2 Lady Vengeance    2005       KOR       4200000000  4101095 \n",
       "3 Fateless          2005       HUN       2500000000 12526148 \n",
       "4 Princess Mononoke 1997       JPN       2400000000 19836209 \n",
       "5 Steamboy          2004       JPN       2127519898 19664196 \n",
       "6 Akira             1988       JPN       1100000000  8583579 "
      ]
     },
     "metadata": {},
     "output_type": "display_data"
    },
    {
     "data": {
      "text/html": [
       "<table>\n",
       "<thead><tr><th scope=col>movie_title</th><th scope=col>title_year</th><th scope=col>currency</th><th scope=col>budget</th><th scope=col>budget_us</th></tr></thead>\n",
       "<tbody>\n",
       "\t<tr><td>Pirates of the Caribbean: At World's End </td><td>2007                                     </td><td>NA                                       </td><td>300000000                                </td><td>300000000                                </td></tr>\n",
       "\t<tr><td>John Carter                              </td><td>2012                                     </td><td>NA                                       </td><td>263700000                                </td><td>263700000                                </td></tr>\n",
       "\t<tr><td>Tangled                                  </td><td>2010                                     </td><td>NA                                       </td><td>260000000                                </td><td>260000000                                </td></tr>\n",
       "\t<tr><td>The Dark Knight Rises                    </td><td>2012                                     </td><td>NA                                       </td><td>250000000                                </td><td>250000000                                </td></tr>\n",
       "\t<tr><td>Avengers: Age of Ultron                  </td><td>2015                                     </td><td>NA                                       </td><td>250000000                                </td><td>250000000                                </td></tr>\n",
       "\t<tr><td>Harry Potter and the Half-Blood Prince   </td><td>2009                                     </td><td>NA                                       </td><td>250000000                                </td><td>250000000                                </td></tr>\n",
       "</tbody>\n",
       "</table>\n"
      ],
      "text/latex": [
       "\\begin{tabular}{r|lllll}\n",
       " movie\\_title & title\\_year & currency & budget & budget\\_us\\\\\n",
       "\\hline\n",
       "\t Pirates of the Caribbean: At World's End  & 2007                                      & NA                                        & 300000000                                 & 300000000                                \\\\\n",
       "\t John Carter                               & 2012                                      & NA                                        & 263700000                                 & 263700000                                \\\\\n",
       "\t Tangled                                   & 2010                                      & NA                                        & 260000000                                 & 260000000                                \\\\\n",
       "\t The Dark Knight Rises                     & 2012                                      & NA                                        & 250000000                                 & 250000000                                \\\\\n",
       "\t Avengers: Age of Ultron                   & 2015                                      & NA                                        & 250000000                                 & 250000000                                \\\\\n",
       "\t Harry Potter and the Half-Blood Prince    & 2009                                      & NA                                        & 250000000                                 & 250000000                                \\\\\n",
       "\\end{tabular}\n"
      ],
      "text/markdown": [
       "\n",
       "movie_title | title_year | currency | budget | budget_us | \n",
       "|---|---|---|---|---|---|\n",
       "| Pirates of the Caribbean: At World's End  | 2007                                      | NA                                        | 300000000                                 | 300000000                                 | \n",
       "| John Carter                               | 2012                                      | NA                                        | 263700000                                 | 263700000                                 | \n",
       "| Tangled                                   | 2010                                      | NA                                        | 260000000                                 | 260000000                                 | \n",
       "| The Dark Knight Rises                     | 2012                                      | NA                                        | 250000000                                 | 250000000                                 | \n",
       "| Avengers: Age of Ultron                   | 2015                                      | NA                                        | 250000000                                 | 250000000                                 | \n",
       "| Harry Potter and the Half-Blood Prince    | 2009                                      | NA                                        | 250000000                                 | 250000000                                 | \n",
       "\n",
       "\n"
      ],
      "text/plain": [
       "  movie_title                               title_year currency budget   \n",
       "1 Pirates of the Caribbean: At World's End  2007       NA       300000000\n",
       "2 John Carter                               2012       NA       263700000\n",
       "3 Tangled                                   2010       NA       260000000\n",
       "4 The Dark Knight Rises                     2012       NA       250000000\n",
       "5 Avengers: Age of Ultron                   2015       NA       250000000\n",
       "6 Harry Potter and the Half-Blood Prince    2009       NA       250000000\n",
       "  budget_us\n",
       "1 300000000\n",
       "2 263700000\n",
       "3 260000000\n",
       "4 250000000\n",
       "5 250000000\n",
       "6 250000000"
      ]
     },
     "metadata": {},
     "output_type": "display_data"
    }
   ],
   "source": [
    "col<-c(\"movie_title\",\"title_year\",\"currency\",\"budget\",\"budget_us\")\n",
    "head(merge_movie[,col,with=FALSE])\n",
    "head(merge_movie[is.na(merge_movie$currency),col,with=FALSE])"
   ]
  },
  {
   "cell_type": "markdown",
   "metadata": {},
   "source": [
    "That table above show that the function handle correctly the movies with a budget in U.S. dollar or who have a missing value. Let's look at some European movies to see if the conversion was well handled. "
   ]
  },
  {
   "cell_type": "code",
   "execution_count": 133,
   "metadata": {
    "collapsed": false
   },
   "outputs": [
    {
     "data": {
      "text/html": [
       "<table>\n",
       "<thead><tr><th scope=col>movie_title</th><th scope=col>title_year</th><th scope=col>currency</th><th scope=col>budget</th><th scope=col>budget_us</th></tr></thead>\n",
       "<tbody>\n",
       "\t<tr><td>Asterix at the Olympic Games    </td><td>2008                            </td><td>EU28                            </td><td>78000000                        </td><td>114256418                       </td></tr>\n",
       "\t<tr><td>Two Brothers                    </td><td>2004                            </td><td>EU28                            </td><td>59660000                        </td><td> 74078213                       </td></tr>\n",
       "\t<tr><td>Oliver Twist                    </td><td>2005                            </td><td>EU28                            </td><td>50000000                        </td><td> 62179774                       </td></tr>\n",
       "\t<tr><td>Perfume: The Story of a Murderer</td><td>2006                            </td><td>EU28                            </td><td>50000000                        </td><td> 62724160                       </td></tr>\n",
       "\t<tr><td>Oceans                          </td><td>2009                            </td><td>EU28                            </td><td>40000000                        </td><td> 55567672                       </td></tr>\n",
       "\t<tr><td>Bandidas                        </td><td>2006                            </td><td>EU28                            </td><td>32000000                        </td><td> 40143463                       </td></tr>\n",
       "</tbody>\n",
       "</table>\n"
      ],
      "text/latex": [
       "\\begin{tabular}{r|lllll}\n",
       " movie\\_title & title\\_year & currency & budget & budget\\_us\\\\\n",
       "\\hline\n",
       "\t Asterix at the Olympic Games     & 2008                             & EU28                             & 78000000                         & 114256418                       \\\\\n",
       "\t Two Brothers                     & 2004                             & EU28                             & 59660000                         &  74078213                       \\\\\n",
       "\t Oliver Twist                     & 2005                             & EU28                             & 50000000                         &  62179774                       \\\\\n",
       "\t Perfume: The Story of a Murderer & 2006                             & EU28                             & 50000000                         &  62724160                       \\\\\n",
       "\t Oceans                           & 2009                             & EU28                             & 40000000                         &  55567672                       \\\\\n",
       "\t Bandidas                         & 2006                             & EU28                             & 32000000                         &  40143463                       \\\\\n",
       "\\end{tabular}\n"
      ],
      "text/markdown": [
       "\n",
       "movie_title | title_year | currency | budget | budget_us | \n",
       "|---|---|---|---|---|---|\n",
       "| Asterix at the Olympic Games     | 2008                             | EU28                             | 78000000                         | 114256418                        | \n",
       "| Two Brothers                     | 2004                             | EU28                             | 59660000                         |  74078213                        | \n",
       "| Oliver Twist                     | 2005                             | EU28                             | 50000000                         |  62179774                        | \n",
       "| Perfume: The Story of a Murderer | 2006                             | EU28                             | 50000000                         |  62724160                        | \n",
       "| Oceans                           | 2009                             | EU28                             | 40000000                         |  55567672                        | \n",
       "| Bandidas                         | 2006                             | EU28                             | 32000000                         |  40143463                        | \n",
       "\n",
       "\n"
      ],
      "text/plain": [
       "  movie_title                      title_year currency budget   budget_us\n",
       "1 Asterix at the Olympic Games     2008       EU28     78000000 114256418\n",
       "2 Two Brothers                     2004       EU28     59660000  74078213\n",
       "3 Oliver Twist                     2005       EU28     50000000  62179774\n",
       "4 Perfume: The Story of a Murderer 2006       EU28     50000000  62724160\n",
       "5 Oceans                           2009       EU28     40000000  55567672\n",
       "6 Bandidas                         2006       EU28     32000000  40143463"
      ]
     },
     "metadata": {},
     "output_type": "display_data"
    }
   ],
   "source": [
    "head(merge_movie[merge_movie$currency==\"EU28\",col,with=FALSE])"
   ]
  },
  {
   "cell_type": "markdown",
   "metadata": {},
   "source": [
    "For exemple, the movie \"Asterix at the Olympic Games\" made in 2008 for 78 000 000 euro according to IMDB. So far, the table is good. That year, the exchage rate for the euro was 0.682675, so the budget should be, in U.S. dollar:"
   ]
  },
  {
   "cell_type": "code",
   "execution_count": 137,
   "metadata": {
    "collapsed": false
   },
   "outputs": [
    {
     "data": {
      "text/html": [
       "114256417.768338"
      ],
      "text/latex": [
       "114256417.768338"
      ],
      "text/markdown": [
       "114256417.768338"
      ],
      "text/plain": [
       "[1] 114256418"
      ]
     },
     "metadata": {},
     "output_type": "display_data"
    }
   ],
   "source": [
    "merge_movie[movie_title==\"Asterix at the Olympic Games\",budget]/ex_rate[LOCATION==\"EU28\"&TIME==2008,Value]"
   ]
  },
  {
   "cell_type": "markdown",
   "metadata": {},
   "source": [
    "That seems alright! Let's look at the Asian films that skew the distribution."
   ]
  },
  {
   "cell_type": "code",
   "execution_count": 120,
   "metadata": {
    "collapsed": false
   },
   "outputs": [
    {
     "data": {
      "text/html": [
       "<table>\n",
       "<thead><tr><th scope=col>movie_title</th><th scope=col>title_year</th><th scope=col>currency</th><th scope=col>budget</th><th scope=col>budget_us</th></tr></thead>\n",
       "<tbody>\n",
       "\t<tr><td>The Host      </td><td>2006          </td><td>KOR           </td><td>12215500000   </td><td>12793906      </td></tr>\n",
       "\t<tr><td>Lady Vengeance</td><td>2005          </td><td>KOR           </td><td> 4200000000   </td><td> 4101095      </td></tr>\n",
       "</tbody>\n",
       "</table>\n"
      ],
      "text/latex": [
       "\\begin{tabular}{r|lllll}\n",
       " movie\\_title & title\\_year & currency & budget & budget\\_us\\\\\n",
       "\\hline\n",
       "\t The Host       & 2006           & KOR            & 12215500000    & 12793906      \\\\\n",
       "\t Lady Vengeance & 2005           & KOR            &  4200000000    &  4101095      \\\\\n",
       "\\end{tabular}\n"
      ],
      "text/markdown": [
       "\n",
       "movie_title | title_year | currency | budget | budget_us | \n",
       "|---|---|\n",
       "| The Host       | 2006           | KOR            | 12215500000    | 12793906       | \n",
       "| Lady Vengeance | 2005           | KOR            |  4200000000    |  4101095       | \n",
       "\n",
       "\n"
      ],
      "text/plain": [
       "  movie_title    title_year currency budget      budget_us\n",
       "1 The Host       2006       KOR      12215500000 12793906 \n",
       "2 Lady Vengeance 2005       KOR       4200000000  4101095 "
      ]
     },
     "metadata": {},
     "output_type": "display_data"
    }
   ],
   "source": [
    "head(merge_movie[merge_movie$currency==\"KOR\",col,with=FALSE])"
   ]
  },
  {
   "cell_type": "code",
   "execution_count": 142,
   "metadata": {
    "collapsed": false
   },
   "outputs": [
    {
     "data": {
      "text/html": [
       "12793905.8833299"
      ],
      "text/latex": [
       "12793905.8833299"
      ],
      "text/markdown": [
       "12793905.8833299"
      ],
      "text/plain": [
       "[1] 12793906"
      ]
     },
     "metadata": {},
     "output_type": "display_data"
    }
   ],
   "source": [
    "merge_movie[movie_title==\"The Host\",budget]/ex_rate[LOCATION==\"KOR\"&TIME==2006,Value]"
   ]
  },
  {
   "cell_type": "markdown",
   "metadata": {
    "collapsed": true
   },
   "source": [
    "The math checks out. Now, the only thing to look for is if there's still some outlier in the data."
   ]
  },
  {
   "cell_type": "code",
   "execution_count": 122,
   "metadata": {
    "collapsed": false
   },
   "outputs": [
    {
     "data": {
      "text/html": [
       "<table>\n",
       "<thead><tr><th scope=col>movie_title</th><th scope=col>title_year</th><th scope=col>currency</th><th scope=col>budget</th><th scope=col>budget_us</th></tr></thead>\n",
       "<tbody>\n",
       "\t<tr><td>Tango                                      </td><td>1998                                       </td><td>ESP                                        </td><td>700000000                                  </td><td>779610729                                  </td></tr>\n",
       "\t<tr><td>The Messenger: The Story of Joan of Arc    </td><td>1999                                       </td><td>FRA                                        </td><td>390000000                                  </td><td>415500513                                  </td></tr>\n",
       "\t<tr><td>Pirates of the Caribbean: At World's End   </td><td>2007                                       </td><td>NA                                         </td><td>300000000                                  </td><td>300000000                                  </td></tr>\n",
       "\t<tr><td>John Carter                                </td><td>2012                                       </td><td>NA                                         </td><td>263700000                                  </td><td>263700000                                  </td></tr>\n",
       "\t<tr><td>Tangled                                    </td><td>2010                                       </td><td>NA                                         </td><td>260000000                                  </td><td>260000000                                  </td></tr>\n",
       "\t<tr><td>Spider-Man 3                               </td><td>2007                                       </td><td>USA                                        </td><td>258000000                                  </td><td>258000000                                  </td></tr>\n",
       "\t<tr><td>The Dark Knight Rises                      </td><td>2012                                       </td><td>NA                                         </td><td>250000000                                  </td><td>250000000                                  </td></tr>\n",
       "\t<tr><td>Avengers: Age of Ultron                    </td><td>2015                                       </td><td>NA                                         </td><td>250000000                                  </td><td>250000000                                  </td></tr>\n",
       "\t<tr><td>Harry Potter and the Half-Blood Prince     </td><td>2009                                       </td><td>NA                                         </td><td>250000000                                  </td><td>250000000                                  </td></tr>\n",
       "\t<tr><td>Batman v Superman: Dawn of Justice         </td><td>2016                                       </td><td>NA                                         </td><td>250000000                                  </td><td>250000000                                  </td></tr>\n",
       "\t<tr><td>Pirates of the Caribbean: On Stranger Tides</td><td>2011                                       </td><td>USA                                        </td><td>250000000                                  </td><td>250000000                                  </td></tr>\n",
       "\t<tr><td>The Hobbit: The Battle of the Five Armies  </td><td>2014                                       </td><td>USA                                        </td><td>250000000                                  </td><td>250000000                                  </td></tr>\n",
       "\t<tr><td>Captain America: Civil War                 </td><td>2016                                       </td><td>USA                                        </td><td>250000000                                  </td><td>250000000                                  </td></tr>\n",
       "\t<tr><td>Spectre                                    </td><td>2015                                       </td><td>NA                                         </td><td>245000000                                  </td><td>245000000                                  </td></tr>\n",
       "\t<tr><td>Avatar                                     </td><td>2009                                       </td><td>NA                                         </td><td>237000000                                  </td><td>237000000                                  </td></tr>\n",
       "\t<tr><td>The Amazing Spider-Man                     </td><td>2012                                       </td><td>USA                                        </td><td>230000000                                  </td><td>230000000                                  </td></tr>\n",
       "\t<tr><td>Pirates of the Caribbean: Dead Man's Chest </td><td>2006                                       </td><td>NA                                         </td><td>225000000                                  </td><td>225000000                                  </td></tr>\n",
       "\t<tr><td>Man of Steel                               </td><td>2013                                       </td><td>USA                                        </td><td>225000000                                  </td><td>225000000                                  </td></tr>\n",
       "\t<tr><td>The Chronicles of Narnia: Prince Caspian   </td><td>2008                                       </td><td>USA                                        </td><td>225000000                                  </td><td>225000000                                  </td></tr>\n",
       "\t<tr><td>Men in Black 3                             </td><td>2012                                       </td><td>USA                                        </td><td>225000000                                  </td><td>225000000                                  </td></tr>\n",
       "\t<tr><td>The Hobbit: The Desolation of Smaug        </td><td>2013                                       </td><td>USA                                        </td><td>225000000                                  </td><td>225000000                                  </td></tr>\n",
       "\t<tr><td>The Avengers                               </td><td>2012                                       </td><td>USA                                        </td><td>220000000                                  </td><td>220000000                                  </td></tr>\n",
       "\t<tr><td>The Lone Ranger                            </td><td>2013                                       </td><td>USA                                        </td><td>215000000                                  </td><td>215000000                                  </td></tr>\n",
       "\t<tr><td>Oz the Great and Powerful                  </td><td>2013                                       </td><td>USA                                        </td><td>215000000                                  </td><td>215000000                                  </td></tr>\n",
       "\t<tr><td>X-Men: The Last Stand                      </td><td>2006                                       </td><td>USA                                        </td><td>210000000                                  </td><td>210000000                                  </td></tr>\n",
       "\t<tr><td>Transformers: Age of Extinction            </td><td>2014                                       </td><td>USA                                        </td><td>210000000                                  </td><td>210000000                                  </td></tr>\n",
       "\t<tr><td>Superman Returns                           </td><td>2006                                       </td><td>NA                                         </td><td>209000000                                  </td><td>209000000                                  </td></tr>\n",
       "\t<tr><td>Battleship                                 </td><td>2012                                       </td><td>USA                                        </td><td>209000000                                  </td><td>209000000                                  </td></tr>\n",
       "\t<tr><td>King Kong                                  </td><td>2005                                       </td><td>USA                                        </td><td>207000000                                  </td><td>207000000                                  </td></tr>\n",
       "</tbody>\n",
       "</table>\n"
      ],
      "text/latex": [
       "\\begin{tabular}{r|lllll}\n",
       " movie\\_title & title\\_year & currency & budget & budget\\_us\\\\\n",
       "\\hline\n",
       "\t Tango                                       & 1998                                        & ESP                                         & 700000000                                   & 779610729                                  \\\\\n",
       "\t The Messenger: The Story of Joan of Arc     & 1999                                        & FRA                                         & 390000000                                   & 415500513                                  \\\\\n",
       "\t Pirates of the Caribbean: At World's End    & 2007                                        & NA                                          & 300000000                                   & 300000000                                  \\\\\n",
       "\t John Carter                                 & 2012                                        & NA                                          & 263700000                                   & 263700000                                  \\\\\n",
       "\t Tangled                                     & 2010                                        & NA                                          & 260000000                                   & 260000000                                  \\\\\n",
       "\t Spider-Man 3                                & 2007                                        & USA                                         & 258000000                                   & 258000000                                  \\\\\n",
       "\t The Dark Knight Rises                       & 2012                                        & NA                                          & 250000000                                   & 250000000                                  \\\\\n",
       "\t Avengers: Age of Ultron                     & 2015                                        & NA                                          & 250000000                                   & 250000000                                  \\\\\n",
       "\t Harry Potter and the Half-Blood Prince      & 2009                                        & NA                                          & 250000000                                   & 250000000                                  \\\\\n",
       "\t Batman v Superman: Dawn of Justice          & 2016                                        & NA                                          & 250000000                                   & 250000000                                  \\\\\n",
       "\t Pirates of the Caribbean: On Stranger Tides & 2011                                        & USA                                         & 250000000                                   & 250000000                                  \\\\\n",
       "\t The Hobbit: The Battle of the Five Armies   & 2014                                        & USA                                         & 250000000                                   & 250000000                                  \\\\\n",
       "\t Captain America: Civil War                  & 2016                                        & USA                                         & 250000000                                   & 250000000                                  \\\\\n",
       "\t Spectre                                     & 2015                                        & NA                                          & 245000000                                   & 245000000                                  \\\\\n",
       "\t Avatar                                      & 2009                                        & NA                                          & 237000000                                   & 237000000                                  \\\\\n",
       "\t The Amazing Spider-Man                      & 2012                                        & USA                                         & 230000000                                   & 230000000                                  \\\\\n",
       "\t Pirates of the Caribbean: Dead Man's Chest  & 2006                                        & NA                                          & 225000000                                   & 225000000                                  \\\\\n",
       "\t Man of Steel                                & 2013                                        & USA                                         & 225000000                                   & 225000000                                  \\\\\n",
       "\t The Chronicles of Narnia: Prince Caspian    & 2008                                        & USA                                         & 225000000                                   & 225000000                                  \\\\\n",
       "\t Men in Black 3                              & 2012                                        & USA                                         & 225000000                                   & 225000000                                  \\\\\n",
       "\t The Hobbit: The Desolation of Smaug         & 2013                                        & USA                                         & 225000000                                   & 225000000                                  \\\\\n",
       "\t The Avengers                                & 2012                                        & USA                                         & 220000000                                   & 220000000                                  \\\\\n",
       "\t The Lone Ranger                             & 2013                                        & USA                                         & 215000000                                   & 215000000                                  \\\\\n",
       "\t Oz the Great and Powerful                   & 2013                                        & USA                                         & 215000000                                   & 215000000                                  \\\\\n",
       "\t X-Men: The Last Stand                       & 2006                                        & USA                                         & 210000000                                   & 210000000                                  \\\\\n",
       "\t Transformers: Age of Extinction             & 2014                                        & USA                                         & 210000000                                   & 210000000                                  \\\\\n",
       "\t Superman Returns                            & 2006                                        & NA                                          & 209000000                                   & 209000000                                  \\\\\n",
       "\t Battleship                                  & 2012                                        & USA                                         & 209000000                                   & 209000000                                  \\\\\n",
       "\t King Kong                                   & 2005                                        & USA                                         & 207000000                                   & 207000000                                  \\\\\n",
       "\\end{tabular}\n"
      ],
      "text/markdown": [
       "\n",
       "movie_title | title_year | currency | budget | budget_us | \n",
       "|---|---|---|---|---|---|---|---|---|---|---|---|---|---|---|---|---|---|---|---|---|---|---|---|---|---|---|---|---|\n",
       "| Tango                                       | 1998                                        | ESP                                         | 700000000                                   | 779610729                                   | \n",
       "| The Messenger: The Story of Joan of Arc     | 1999                                        | FRA                                         | 390000000                                   | 415500513                                   | \n",
       "| Pirates of the Caribbean: At World's End    | 2007                                        | NA                                          | 300000000                                   | 300000000                                   | \n",
       "| John Carter                                 | 2012                                        | NA                                          | 263700000                                   | 263700000                                   | \n",
       "| Tangled                                     | 2010                                        | NA                                          | 260000000                                   | 260000000                                   | \n",
       "| Spider-Man 3                                | 2007                                        | USA                                         | 258000000                                   | 258000000                                   | \n",
       "| The Dark Knight Rises                       | 2012                                        | NA                                          | 250000000                                   | 250000000                                   | \n",
       "| Avengers: Age of Ultron                     | 2015                                        | NA                                          | 250000000                                   | 250000000                                   | \n",
       "| Harry Potter and the Half-Blood Prince      | 2009                                        | NA                                          | 250000000                                   | 250000000                                   | \n",
       "| Batman v Superman: Dawn of Justice          | 2016                                        | NA                                          | 250000000                                   | 250000000                                   | \n",
       "| Pirates of the Caribbean: On Stranger Tides | 2011                                        | USA                                         | 250000000                                   | 250000000                                   | \n",
       "| The Hobbit: The Battle of the Five Armies   | 2014                                        | USA                                         | 250000000                                   | 250000000                                   | \n",
       "| Captain America: Civil War                  | 2016                                        | USA                                         | 250000000                                   | 250000000                                   | \n",
       "| Spectre                                     | 2015                                        | NA                                          | 245000000                                   | 245000000                                   | \n",
       "| Avatar                                      | 2009                                        | NA                                          | 237000000                                   | 237000000                                   | \n",
       "| The Amazing Spider-Man                      | 2012                                        | USA                                         | 230000000                                   | 230000000                                   | \n",
       "| Pirates of the Caribbean: Dead Man's Chest  | 2006                                        | NA                                          | 225000000                                   | 225000000                                   | \n",
       "| Man of Steel                                | 2013                                        | USA                                         | 225000000                                   | 225000000                                   | \n",
       "| The Chronicles of Narnia: Prince Caspian    | 2008                                        | USA                                         | 225000000                                   | 225000000                                   | \n",
       "| Men in Black 3                              | 2012                                        | USA                                         | 225000000                                   | 225000000                                   | \n",
       "| The Hobbit: The Desolation of Smaug         | 2013                                        | USA                                         | 225000000                                   | 225000000                                   | \n",
       "| The Avengers                                | 2012                                        | USA                                         | 220000000                                   | 220000000                                   | \n",
       "| The Lone Ranger                             | 2013                                        | USA                                         | 215000000                                   | 215000000                                   | \n",
       "| Oz the Great and Powerful                   | 2013                                        | USA                                         | 215000000                                   | 215000000                                   | \n",
       "| X-Men: The Last Stand                       | 2006                                        | USA                                         | 210000000                                   | 210000000                                   | \n",
       "| Transformers: Age of Extinction             | 2014                                        | USA                                         | 210000000                                   | 210000000                                   | \n",
       "| Superman Returns                            | 2006                                        | NA                                          | 209000000                                   | 209000000                                   | \n",
       "| Battleship                                  | 2012                                        | USA                                         | 209000000                                   | 209000000                                   | \n",
       "| King Kong                                   | 2005                                        | USA                                         | 207000000                                   | 207000000                                   | \n",
       "\n",
       "\n"
      ],
      "text/plain": [
       "   movie_title                                 title_year currency budget   \n",
       "1  Tango                                       1998       ESP      700000000\n",
       "2  The Messenger: The Story of Joan of Arc     1999       FRA      390000000\n",
       "3  Pirates of the Caribbean: At World's End    2007       NA       300000000\n",
       "4  John Carter                                 2012       NA       263700000\n",
       "5  Tangled                                     2010       NA       260000000\n",
       "6  Spider-Man 3                                2007       USA      258000000\n",
       "7  The Dark Knight Rises                       2012       NA       250000000\n",
       "8  Avengers: Age of Ultron                     2015       NA       250000000\n",
       "9  Harry Potter and the Half-Blood Prince      2009       NA       250000000\n",
       "10 Batman v Superman: Dawn of Justice          2016       NA       250000000\n",
       "11 Pirates of the Caribbean: On Stranger Tides 2011       USA      250000000\n",
       "12 The Hobbit: The Battle of the Five Armies   2014       USA      250000000\n",
       "13 Captain America: Civil War                  2016       USA      250000000\n",
       "14 Spectre                                     2015       NA       245000000\n",
       "15 Avatar                                      2009       NA       237000000\n",
       "16 The Amazing Spider-Man                      2012       USA      230000000\n",
       "17 Pirates of the Caribbean: Dead Man's Chest  2006       NA       225000000\n",
       "18 Man of Steel                                2013       USA      225000000\n",
       "19 The Chronicles of Narnia: Prince Caspian    2008       USA      225000000\n",
       "20 Men in Black 3                              2012       USA      225000000\n",
       "21 The Hobbit: The Desolation of Smaug         2013       USA      225000000\n",
       "22 The Avengers                                2012       USA      220000000\n",
       "23 The Lone Ranger                             2013       USA      215000000\n",
       "24 Oz the Great and Powerful                   2013       USA      215000000\n",
       "25 X-Men: The Last Stand                       2006       USA      210000000\n",
       "26 Transformers: Age of Extinction             2014       USA      210000000\n",
       "27 Superman Returns                            2006       NA       209000000\n",
       "28 Battleship                                  2012       USA      209000000\n",
       "29 King Kong                                   2005       USA      207000000\n",
       "   budget_us\n",
       "1  779610729\n",
       "2  415500513\n",
       "3  300000000\n",
       "4  263700000\n",
       "5  260000000\n",
       "6  258000000\n",
       "7  250000000\n",
       "8  250000000\n",
       "9  250000000\n",
       "10 250000000\n",
       "11 250000000\n",
       "12 250000000\n",
       "13 250000000\n",
       "14 245000000\n",
       "15 237000000\n",
       "16 230000000\n",
       "17 225000000\n",
       "18 225000000\n",
       "19 225000000\n",
       "20 225000000\n",
       "21 225000000\n",
       "22 220000000\n",
       "23 215000000\n",
       "24 215000000\n",
       "25 210000000\n",
       "26 210000000\n",
       "27 209000000\n",
       "28 209000000\n",
       "29 207000000"
      ]
     },
     "metadata": {},
     "output_type": "display_data"
    }
   ],
   "source": [
    "merge_movie[merge_movie$budget_us>200000000,col,with=FALSE]"
   ]
  },
  {
   "cell_type": "raw",
   "metadata": {},
   "source": [
    "The European movies in the table above show a weird behavior. Let's look at these European blockbusters more in detail. "
   ]
  },
  {
   "cell_type": "code",
   "execution_count": 123,
   "metadata": {
    "collapsed": false
   },
   "outputs": [
    {
     "data": {
      "text/html": [
       "<table>\n",
       "<thead><tr><th scope=col>movie_title</th><th scope=col>title_year</th><th scope=col>currency</th><th scope=col>budget</th><th scope=col>budget_us</th></tr></thead>\n",
       "<tbody>\n",
       "\t<tr><td>Tango                                  </td><td>1998                                   </td><td>ESP                                    </td><td>700000000                              </td><td>779610729                              </td></tr>\n",
       "\t<tr><td>Red Cliff                              </td><td>2008                                   </td><td>CHN                                    </td><td>553632000                              </td><td> 79674700                              </td></tr>\n",
       "\t<tr><td>The Messenger: The Story of Joan of Arc</td><td>1999                                   </td><td>FRA                                    </td><td>390000000                              </td><td>415500513                              </td></tr>\n",
       "\t<tr><td>Winged Migration                       </td><td>2001                                   </td><td>FRA                                    </td><td>160000000                              </td><td>143175453                              </td></tr>\n",
       "\t<tr><td>Les couloirs du temps: Les visiteurs II</td><td>1998                                   </td><td>FRA                                    </td><td>140000000                              </td><td>155663655                              </td></tr>\n",
       "\t<tr><td>Amen.                                  </td><td>2002                                   </td><td>FRA                                    </td><td>103000000                              </td><td> 96936432                              </td></tr>\n",
       "\t<tr><td>The Widow of Saint-Pierre              </td><td>2000                                   </td><td>FRA                                    </td><td>100000000                              </td><td> 92131848                              </td></tr>\n",
       "\t<tr><td>Asterix at the Olympic Games           </td><td>2008                                   </td><td>EU28                                   </td><td> 78000000                              </td><td>114256418                              </td></tr>\n",
       "\t<tr><td>The Swindle                            </td><td>1997                                   </td><td>FRA                                    </td><td> 60000000                              </td><td> 67431035                              </td></tr>\n",
       "\t<tr><td>Two Brothers                           </td><td>2004                                   </td><td>EU28                                   </td><td> 59660000                              </td><td> 74078213                              </td></tr>\n",
       "\t<tr><td>Oliver Twist                           </td><td>2005                                   </td><td>EU28                                   </td><td> 50000000                              </td><td> 62179774                              </td></tr>\n",
       "\t<tr><td>Perfume: The Story of a Murderer       </td><td>2006                                   </td><td>EU28                                   </td><td> 50000000                              </td><td> 62724160                              </td></tr>\n",
       "\t<tr><td>Les visiteurs                          </td><td>1993                                   </td><td>FRA                                    </td><td> 50000000                              </td><td> 57913672                              </td></tr>\n",
       "\t<tr><td>Oceans                                 </td><td>2009                                   </td><td>EU28                                   </td><td> 40000000                              </td><td> 55567672                              </td></tr>\n",
       "\t<tr><td>Sunshine                               </td><td>2007                                   </td><td>GBR                                    </td><td> 26000000                              </td><td> 52023723                              </td></tr>\n",
       "\t<tr><td>Eastern Promises                       </td><td>2007                                   </td><td>GBR                                    </td><td> 25000000                              </td><td> 50022810                              </td></tr>\n",
       "</tbody>\n",
       "</table>\n"
      ],
      "text/latex": [
       "\\begin{tabular}{r|lllll}\n",
       " movie\\_title & title\\_year & currency & budget & budget\\_us\\\\\n",
       "\\hline\n",
       "\t Tango                                   & 1998                                    & ESP                                     & 700000000                               & 779610729                              \\\\\n",
       "\t Red Cliff                               & 2008                                    & CHN                                     & 553632000                               &  79674700                              \\\\\n",
       "\t The Messenger: The Story of Joan of Arc & 1999                                    & FRA                                     & 390000000                               & 415500513                              \\\\\n",
       "\t Winged Migration                        & 2001                                    & FRA                                     & 160000000                               & 143175453                              \\\\\n",
       "\t Les couloirs du temps: Les visiteurs II & 1998                                    & FRA                                     & 140000000                               & 155663655                              \\\\\n",
       "\t Amen.                                   & 2002                                    & FRA                                     & 103000000                               &  96936432                              \\\\\n",
       "\t The Widow of Saint-Pierre               & 2000                                    & FRA                                     & 100000000                               &  92131848                              \\\\\n",
       "\t Asterix at the Olympic Games            & 2008                                    & EU28                                    &  78000000                               & 114256418                              \\\\\n",
       "\t The Swindle                             & 1997                                    & FRA                                     &  60000000                               &  67431035                              \\\\\n",
       "\t Two Brothers                            & 2004                                    & EU28                                    &  59660000                               &  74078213                              \\\\\n",
       "\t Oliver Twist                            & 2005                                    & EU28                                    &  50000000                               &  62179774                              \\\\\n",
       "\t Perfume: The Story of a Murderer        & 2006                                    & EU28                                    &  50000000                               &  62724160                              \\\\\n",
       "\t Les visiteurs                           & 1993                                    & FRA                                     &  50000000                               &  57913672                              \\\\\n",
       "\t Oceans                                  & 2009                                    & EU28                                    &  40000000                               &  55567672                              \\\\\n",
       "\t Sunshine                                & 2007                                    & GBR                                     &  26000000                               &  52023723                              \\\\\n",
       "\t Eastern Promises                        & 2007                                    & GBR                                     &  25000000                               &  50022810                              \\\\\n",
       "\\end{tabular}\n"
      ],
      "text/markdown": [
       "\n",
       "movie_title | title_year | currency | budget | budget_us | \n",
       "|---|---|---|---|---|---|---|---|---|---|---|---|---|---|---|---|\n",
       "| Tango                                   | 1998                                    | ESP                                     | 700000000                               | 779610729                               | \n",
       "| Red Cliff                               | 2008                                    | CHN                                     | 553632000                               |  79674700                               | \n",
       "| The Messenger: The Story of Joan of Arc | 1999                                    | FRA                                     | 390000000                               | 415500513                               | \n",
       "| Winged Migration                        | 2001                                    | FRA                                     | 160000000                               | 143175453                               | \n",
       "| Les couloirs du temps: Les visiteurs II | 1998                                    | FRA                                     | 140000000                               | 155663655                               | \n",
       "| Amen.                                   | 2002                                    | FRA                                     | 103000000                               |  96936432                               | \n",
       "| The Widow of Saint-Pierre               | 2000                                    | FRA                                     | 100000000                               |  92131848                               | \n",
       "| Asterix at the Olympic Games            | 2008                                    | EU28                                    |  78000000                               | 114256418                               | \n",
       "| The Swindle                             | 1997                                    | FRA                                     |  60000000                               |  67431035                               | \n",
       "| Two Brothers                            | 2004                                    | EU28                                    |  59660000                               |  74078213                               | \n",
       "| Oliver Twist                            | 2005                                    | EU28                                    |  50000000                               |  62179774                               | \n",
       "| Perfume: The Story of a Murderer        | 2006                                    | EU28                                    |  50000000                               |  62724160                               | \n",
       "| Les visiteurs                           | 1993                                    | FRA                                     |  50000000                               |  57913672                               | \n",
       "| Oceans                                  | 2009                                    | EU28                                    |  40000000                               |  55567672                               | \n",
       "| Sunshine                                | 2007                                    | GBR                                     |  26000000                               |  52023723                               | \n",
       "| Eastern Promises                        | 2007                                    | GBR                                     |  25000000                               |  50022810                               | \n",
       "\n",
       "\n"
      ],
      "text/plain": [
       "   movie_title                             title_year currency budget   \n",
       "1  Tango                                   1998       ESP      700000000\n",
       "2  Red Cliff                               2008       CHN      553632000\n",
       "3  The Messenger: The Story of Joan of Arc 1999       FRA      390000000\n",
       "4  Winged Migration                        2001       FRA      160000000\n",
       "5  Les couloirs du temps: Les visiteurs II 1998       FRA      140000000\n",
       "6  Amen.                                   2002       FRA      103000000\n",
       "7  The Widow of Saint-Pierre               2000       FRA      100000000\n",
       "8  Asterix at the Olympic Games            2008       EU28      78000000\n",
       "9  The Swindle                             1997       FRA       60000000\n",
       "10 Two Brothers                            2004       EU28      59660000\n",
       "11 Oliver Twist                            2005       EU28      50000000\n",
       "12 Perfume: The Story of a Murderer        2006       EU28      50000000\n",
       "13 Les visiteurs                           1993       FRA       50000000\n",
       "14 Oceans                                  2009       EU28      40000000\n",
       "15 Sunshine                                2007       GBR       26000000\n",
       "16 Eastern Promises                        2007       GBR       25000000\n",
       "   budget_us\n",
       "1  779610729\n",
       "2   79674700\n",
       "3  415500513\n",
       "4  143175453\n",
       "5  155663655\n",
       "6   96936432\n",
       "7   92131848\n",
       "8  114256418\n",
       "9   67431035\n",
       "10  74078213\n",
       "11  62179774\n",
       "12  62724160\n",
       "13  57913672\n",
       "14  55567672\n",
       "15  52023723\n",
       "16  50022810"
      ]
     },
     "metadata": {},
     "output_type": "display_data"
    }
   ],
   "source": [
    "merge_movie[merge_movie$budget_us>50000000&merge_movie$currency!=\"USA\",col,with=FALSE]"
   ]
  },
  {
   "cell_type": "markdown",
   "metadata": {},
   "source": [
    "After looking at the IMDB page of those movies, I realised that the budget of some European movie made between 1997 and 2002 were written in their native currency even if the euro was already introduced. For those years, the OCED listed the euro as the official currency of every country member of the European union even though the national currency were still in circulation. \n",
    "\n",
    "To estimate the budget of those movies in U.S. dollar I'll divide the budget by the exchange rate of the national currency in 1999."
   ]
  },
  {
   "cell_type": "code",
   "execution_count": 156,
   "metadata": {
    "collapsed": false
   },
   "outputs": [
    {
     "data": {
      "text/html": [
       "<table>\n",
       "<thead><tr><th scope=col>movie_title</th><th scope=col>title_year</th><th scope=col>currency</th><th scope=col>budget</th><th scope=col>budget_us</th></tr></thead>\n",
       "<tbody>\n",
       "\t<tr><td>The Messenger: The Story of Joan of Arc</td><td>1999                                   </td><td>FRA                                    </td><td>390000000                              </td><td>65000000                               </td></tr>\n",
       "\t<tr><td>Winged Migration                       </td><td>2001                                   </td><td>FRA                                    </td><td>160000000                              </td><td>26666667                               </td></tr>\n",
       "\t<tr><td>Les couloirs du temps: Les visiteurs II</td><td>1998                                   </td><td>FRA                                    </td><td>140000000                              </td><td>23333333                               </td></tr>\n",
       "\t<tr><td>Amen.                                  </td><td>2002                                   </td><td>FRA                                    </td><td>103000000                              </td><td>17166667                               </td></tr>\n",
       "\t<tr><td>The Widow of Saint-Pierre              </td><td>2000                                   </td><td>FRA                                    </td><td>100000000                              </td><td>16666667                               </td></tr>\n",
       "\t<tr><td>Alias Betty                            </td><td>2001                                   </td><td>FRA                                    </td><td> 50000000                              </td><td>44742329                               </td></tr>\n",
       "</tbody>\n",
       "</table>\n"
      ],
      "text/latex": [
       "\\begin{tabular}{r|lllll}\n",
       " movie\\_title & title\\_year & currency & budget & budget\\_us\\\\\n",
       "\\hline\n",
       "\t The Messenger: The Story of Joan of Arc & 1999                                    & FRA                                     & 390000000                               & 65000000                               \\\\\n",
       "\t Winged Migration                        & 2001                                    & FRA                                     & 160000000                               & 26666667                               \\\\\n",
       "\t Les couloirs du temps: Les visiteurs II & 1998                                    & FRA                                     & 140000000                               & 23333333                               \\\\\n",
       "\t Amen.                                   & 2002                                    & FRA                                     & 103000000                               & 17166667                               \\\\\n",
       "\t The Widow of Saint-Pierre               & 2000                                    & FRA                                     & 100000000                               & 16666667                               \\\\\n",
       "\t Alias Betty                             & 2001                                    & FRA                                     &  50000000                               & 44742329                               \\\\\n",
       "\\end{tabular}\n"
      ],
      "text/markdown": [
       "\n",
       "movie_title | title_year | currency | budget | budget_us | \n",
       "|---|---|---|---|---|---|\n",
       "| The Messenger: The Story of Joan of Arc | 1999                                    | FRA                                     | 390000000                               | 65000000                                | \n",
       "| Winged Migration                        | 2001                                    | FRA                                     | 160000000                               | 26666667                                | \n",
       "| Les couloirs du temps: Les visiteurs II | 1998                                    | FRA                                     | 140000000                               | 23333333                                | \n",
       "| Amen.                                   | 2002                                    | FRA                                     | 103000000                               | 17166667                                | \n",
       "| The Widow of Saint-Pierre               | 2000                                    | FRA                                     | 100000000                               | 16666667                                | \n",
       "| Alias Betty                             | 2001                                    | FRA                                     |  50000000                               | 44742329                                | \n",
       "\n",
       "\n"
      ],
      "text/plain": [
       "  movie_title                             title_year currency budget   \n",
       "1 The Messenger: The Story of Joan of Arc 1999       FRA      390000000\n",
       "2 Winged Migration                        2001       FRA      160000000\n",
       "3 Les couloirs du temps: Les visiteurs II 1998       FRA      140000000\n",
       "4 Amen.                                   2002       FRA      103000000\n",
       "5 The Widow of Saint-Pierre               2000       FRA      100000000\n",
       "6 Alias Betty                             2001       FRA       50000000\n",
       "  budget_us\n",
       "1 65000000 \n",
       "2 26666667 \n",
       "3 23333333 \n",
       "4 17166667 \n",
       "5 16666667 \n",
       "6 44742329 "
      ]
     },
     "metadata": {},
     "output_type": "display_data"
    }
   ],
   "source": [
    "merge_movie[!is.na(merge_movie$budget)&merge_movie$title_year>1997&merge_movie$currency==\"FRA\",col,with=FALSE]"
   ]
  },
  {
   "cell_type": "code",
   "execution_count": 125,
   "metadata": {
    "collapsed": false
   },
   "outputs": [],
   "source": [
    "merge_movie$budget_us[merge_movie$movie_title==\"Amen.\"]<-merge_movie$budget[merge_movie$movie_title==\"Amen.\"]/6\n",
    "merge_movie$budget_us[merge_movie$movie_title==\"Les couloirs du temps: Les visiteurs II\"]<-\n",
    "merge_movie$budget[merge_movie$movie_title==\"Les couloirs du temps: Les visiteurs II\"]/6\n",
    "merge_movie$budget_us[merge_movie$movie_title==\"The Messenger: The Story of Joan of Arc\"]<-\n",
    "merge_movie$budget[merge_movie$movie_title==\"The Messenger: The Story of Joan of Arc\"]/6\n",
    "merge_movie$budget_us[merge_movie$movie_title==\"The Swindle\"]<-merge_movie$budget[merge_movie$movie_title==\"The Swindle\"]/6\n",
    "merge_movie$budget_us[merge_movie$movie_title==\"The Widow of Saint-Pierre\"]<-\n",
    "merge_movie$budget[merge_movie$movie_title==\"The Widow of Saint-Pierre\"]/6\n",
    "merge_movie$budget_us[merge_movie$movie_title==\"Winged Migration\"]<-merge_movie$budget[merge_movie$movie_title==\"Winged Migration\"]/6"
   ]
  },
  {
   "cell_type": "code",
   "execution_count": 127,
   "metadata": {
    "collapsed": false
   },
   "outputs": [
    {
     "data": {
      "text/html": [
       "<table>\n",
       "<thead><tr><th scope=col>movie_title</th><th scope=col>title_year</th><th scope=col>currency</th><th scope=col>budget</th><th scope=col>budget_us</th></tr></thead>\n",
       "<tbody>\n",
       "\t<tr><td>Tango    </td><td>1998     </td><td>ESP      </td><td>700000000</td><td>4604024  </td></tr>\n",
       "</tbody>\n",
       "</table>\n"
      ],
      "text/latex": [
       "\\begin{tabular}{r|lllll}\n",
       " movie\\_title & title\\_year & currency & budget & budget\\_us\\\\\n",
       "\\hline\n",
       "\t Tango     & 1998      & ESP       & 700000000 & 4604024  \\\\\n",
       "\\end{tabular}\n"
      ],
      "text/markdown": [
       "\n",
       "movie_title | title_year | currency | budget | budget_us | \n",
       "|---|\n",
       "| Tango     | 1998      | ESP       | 700000000 | 4604024   | \n",
       "\n",
       "\n"
      ],
      "text/plain": [
       "  movie_title title_year currency budget    budget_us\n",
       "1 Tango       1998       ESP      700000000 4604024  "
      ]
     },
     "metadata": {},
     "output_type": "display_data"
    }
   ],
   "source": [
    "merge_movie$budget_us[merge_movie$movie_title==\"Tango\"]<-merge_movie$budget[merge_movie$movie_title==\"Tango\"]/152.0409\n",
    "merge_movie[!is.na(merge_movie$budget_us)&merge_movie$budget>50000000&merge_movie$currency==\"ESP\",col,with=FALSE]"
   ]
  },
  {
   "cell_type": "markdown",
   "metadata": {},
   "source": [
    "Now that most of the outliers are dealt with, let's look again to the histogram of the \"budget\" variable. "
   ]
  },
  {
   "cell_type": "code",
   "execution_count": 128,
   "metadata": {
    "collapsed": false
   },
   "outputs": [
    {
     "name": "stderr",
     "output_type": "stream",
     "text": [
      "Warning message:\n",
      "\"Ignoring 632 observations\""
     ]
    },
    {
     "data": {
      "text/html": [
       "<iframe src=\"plotlyJupyterHTML/a0b8186c1436c7472b5cc0a6ded790d2.html\" width=\"100%\" height=\"400\" id=\"igraph\" scrolling=\"no\" seamless=\"seamless\" frameBorder=\"0\"> </iframe>"
      ]
     },
     "metadata": {},
     "output_type": "display_data"
    }
   ],
   "source": [
    "budget_hist <- plot_ly(x=~merge_movie$budget_us,type=\"histogram\")\n",
    "embed_notebook(budget_hist)"
   ]
  },
  {
   "cell_type": "code",
   "execution_count": 129,
   "metadata": {
    "collapsed": false
   },
   "outputs": [
    {
     "name": "stderr",
     "output_type": "stream",
     "text": [
      "Warning message in write.csv(merge_movie, \"movie_budget_us.csv\", row.names = FALSE, :\n",
      "\"attempt to set 'col.names' ignored\""
     ]
    }
   ],
   "source": [
    "write.csv(merge_movie,\"movie_budget_us.csv\",row.names=FALSE, col.names=TRUE)"
   ]
  },
  {
   "cell_type": "markdown",
   "metadata": {},
   "source": [
    "# Conclusion"
   ]
  },
  {
   "cell_type": "markdown",
   "metadata": {},
   "source": [
    "In this post I was able to reduce the number of missing data for the variables \"gross\" and \"budget\" by more than half. Also, I converted the value of the \"budget\" variable in a format that is accurate. In the next post, I'll explore the data by looking at the distribution of the variables and the relations between them."
   ]
  }
 ],
 "metadata": {
  "anaconda-cloud": {},
  "kernelspec": {
   "display_name": "R",
   "language": "R",
   "name": "ir"
  },
  "language_info": {
   "codemirror_mode": "r",
   "file_extension": ".r",
   "mimetype": "text/x-r-source",
   "name": "R",
   "pygments_lexer": "r",
   "version": "3.2.5"
  }
 },
 "nbformat": 4,
 "nbformat_minor": 0
}
