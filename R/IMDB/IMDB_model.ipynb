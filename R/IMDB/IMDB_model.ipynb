{
 "cells": [
  {
   "cell_type": "markdown",
   "metadata": {},
   "source": [
    "# IMDB part IV : the final chapter\n",
    "\n",
    "In part <a href=\"https://github.com/GTouzin/Portfolio/blob/master/R/IMDB/IMDB_data_cleaning.ipynb\">1</a>, <a href=\"https://github.com/GTouzin/Portfolio/blob/master/R/IMDB/IMDB_data_cleaning2.ipynb\">2</a> and <a href=\"https://github.com/GTouzin/Portfolio/blob/master/R/IMDB/IMDB_data_exploration.ipynb\">3</a> of this series of posts I cleaned, gathered and explored a data set of 5000 movies taken from IMDB by the Kaggle user deepMatrix. Now I will apply three different machine learning algorithms to create a model which will predict the profitability of a movie by looking at features that are available in pre-production. \n",
    "\n",
    "In the first part of this article, I will use the support machine vector algorithm, the XGBoost algorithm. Then, I'll use the XGBoost algorithm to label the movie as either profitable or non-profitable. Using this algorithm in both contexts will be a good occasion to talk about his limitation and how the formulation of a problem can affect the performance of a model.\n",
    "\n",
    "As usual, the first thing I do is load the necessary library and the data set."
   ]
  },
  {
   "cell_type": "code",
   "execution_count": 4,
   "metadata": {
    "collapsed": false
   },
   "outputs": [],
   "source": [
    "library(dplyr)\n",
    "library(data.table)\n",
    "library(bit64)\n",
    "library(plotly)\n",
    "library(corrplot)\n",
    "options(scipen=999)\n",
    "library(xgboost)\n",
    "library(psych)\n",
    "library(e1071)\n",
    "library(neuralnet)"
   ]
  },
  {
   "cell_type": "code",
   "execution_count": 5,
   "metadata": {
    "collapsed": false
   },
   "outputs": [],
   "source": [
    "movies <- fread(\"movie_exploration.csv\",stringsAsFactors = F)"
   ]
  },
  {
   "cell_type": "markdown",
   "metadata": {},
   "source": [
    "Then I choose the variables I could use in the model and classify them by type. Remember that some variables in the data set are the measure of phenomena who should happen after the release of the movie, so they are useless for my model and I don't list them."
   ]
  },
  {
   "cell_type": "code",
   "execution_count": 6,
   "metadata": {
    "collapsed": false
   },
   "outputs": [],
   "source": [
    "cont_var<-names(movies[,c(\"duration\",\"director_facebook_likes\",\"actor_3_facebook_likes\",\"actor_1_facebook_likes\",\n",
    "                           \"cast_total_facebook_likes\",\"facenumber_in_poster\",\"actor_2_facebook_likes\",\"budget_2016\",\n",
    "                          \"profit\",\"gross_2016\",\"dir_mean_gross\",\"act_1_mean_gross\",\"act_2_mean_gross\",\"act_3_mean_gross\")])\n",
    "\n",
    "cath_var<-names(movies[,c(\"color\",\"language\",\"country\",\"content_rating\",\"title_year\",\"aspect_ratio\")])\n",
    "\n",
    "genre_var<-names(movies[,c(\"genres_Action\",\"genres_Adventure\",\"genres_Animation\",\"genres_Biography\",\"genres_Comedy\",\n",
    "                        \"genres_Crime\",\"genres_Documentary\",\"genres_Drama\",\"genres_Family\",\"genres_Fantasy\",\"genres_Film_Noir\",\n",
    "                        \"genres_Game_Show\",\"genres_History\",\"genres_Horror\",\"genres_Music\",\"genres_Musical\",\"genres_Mystery\",\n",
    "                        \"genres_News\",\"genres_Reality_TV\",\"genres_Romance\",\"genres_Sci_Fi\",\"genres_Short\",\"genres_Sport\",\n",
    "                        \"genres_Thriller\",\"genres_War\",\"genres_Western\")])"
   ]
  },
  {
   "cell_type": "markdown",
   "metadata": {},
   "source": [
    "Since most functions in R can't handle the categorical variable, I coded them using multiple dummy variables, like I did previously for the genre variable."
   ]
  },
  {
   "cell_type": "code",
   "execution_count": 7,
   "metadata": {
    "collapsed": false
   },
   "outputs": [],
   "source": [
    "for (f in cath_var) {\n",
    "    movies <- cbind(movies, dummy.code(movies[[f]]))\n",
    "}"
   ]
  },
  {
   "cell_type": "markdown",
   "metadata": {},
   "source": [
    "I created two sets of sample to train and test the different model. When needed, I will split the train data set to cross validate the model."
   ]
  },
  {
   "cell_type": "code",
   "execution_count": 8,
   "metadata": {
    "collapsed": true
   },
   "outputs": [],
   "source": [
    "set.seed(383)\n",
    "row_sample<-sample(1:nrow(movies),0.8*nrow(movies),replace=FALSE)\n",
    "train<-movies[row_sample]\n",
    "test<-movies[!row_sample]"
   ]
  },
  {
   "cell_type": "markdown",
   "metadata": {},
   "source": [
    "# Regression\n",
    "## SVM\n",
    "\n",
    "The first algorithm I'll use is the support vector machine. I choose this algorithm since it's pretty versatile, capable of doing linear and non-linear regression and it's quite fast. So it's a perfect algorithm to do a base model. \n",
    "\n",
    "Since the efficiency of the SVM algorithm decrease with the number of dimensions of our model, I started by making a simple model with only a handful of variables and then made another more complex to see how what is the optimal number of variable to include in the model. The variables used are the one who had a correlation coefficient of at least 0.2 with the \"gross_2016\" variable. "
   ]
  },
  {
   "cell_type": "code",
   "execution_count": 9,
   "metadata": {
    "collapsed": false
   },
   "outputs": [],
   "source": [
    "base.var<-names(movies[,c(\"duration\",\"director_facebook_likes\",\"actor_3_facebook_likes\",\"budget_2016\",\n",
    "                          \"dir_mean_gross\",\"act_1_mean_gross\",\"act_2_mean_gross\",\"act_3_mean_gross\", \"gross_2016\")])\n",
    "train.svm.base<-train[,base.var,with=FALSE]\n",
    "test.svm.base<-test[,base.var,with=FALSE]\n",
    "\n",
    "train.svm.base<-train.svm.base[complete.cases(train.svm.base)]\n",
    "test.svm.base<-test.svm.base[complete.cases(test.svm.base)]"
   ]
  },
  {
   "cell_type": "markdown",
   "metadata": {
    "collapsed": true
   },
   "source": [
    "Since the R function can scale the continuous variables, I can pass them directly as an argument without normalization."
   ]
  },
  {
   "cell_type": "code",
   "execution_count": 10,
   "metadata": {
    "collapsed": false
   },
   "outputs": [],
   "source": [
    "model.svm.base <- svm(gross_2016~.,  scale = TRUE, data = train.svm.base)"
   ]
  },
  {
   "cell_type": "code",
   "execution_count": 11,
   "metadata": {
    "collapsed": false
   },
   "outputs": [],
   "source": [
    "resultats.svm.base <- predict(object = model.svm.base, newdata = train.svm.base)"
   ]
  },
  {
   "cell_type": "markdown",
   "metadata": {},
   "source": [
    "I chose the root mean square error as a metric to measure the difference between the real values and our model prediction. R doesn't provide a function to calculate the rmse so I have written my own."
   ]
  },
  {
   "cell_type": "code",
   "execution_count": 12,
   "metadata": {
    "collapsed": true
   },
   "outputs": [],
   "source": [
    "rmse <- function(error)\n",
    "{\n",
    "    sqrt(mean(error^2,na.rm=TRUE))\n",
    "}"
   ]
  },
  {
   "cell_type": "code",
   "execution_count": 13,
   "metadata": {
    "collapsed": false
   },
   "outputs": [
    {
     "data": {
      "text/html": [
       "71758341.3625101"
      ],
      "text/latex": [
       "71758341.3625101"
      ],
      "text/markdown": [
       "71758341.3625101"
      ],
      "text/plain": [
       "[1] 71758341"
      ]
     },
     "metadata": {},
     "output_type": "display_data"
    }
   ],
   "source": [
    "error <- train.svm.base$gross_2016 - resultats.svm.base\n",
    "rmse(error) "
   ]
  },
  {
   "cell_type": "markdown",
   "metadata": {},
   "source": [
    "After doing a base model with the default parameter, I now must tune the model by choosing the best value of the parameter epsilon and the cost in the Lagrange transformation. Choosing a good value for those parameters will help the model fit the data without overfitting. I looked at the value of epsilon between 0 and 1 by increment of 0.1 and the cost value of 4 and 8. If needed, I'll look at other values."
   ]
  },
  {
   "cell_type": "code",
   "execution_count": 14,
   "metadata": {
    "collapsed": false
   },
   "outputs": [
    {
     "name": "stdout",
     "output_type": "stream",
     "text": [
      "\n",
      "Parameter tuning of 'svm':\n",
      "\n",
      "- sampling method: 10-fold cross validation \n",
      "\n",
      "- best parameters:\n",
      " epsilon cost\n",
      "     0.3    4\n",
      "\n",
      "- best performance: 6002111824269366 \n",
      "\n"
     ]
    },
    {
     "data": {
      "image/png": "[encoded data removed]",
      "text/plain": [
       "Plot with title \"Performance of `svm'\""
      ]
     },
     "metadata": {},
     "output_type": "display_data"
    }
   ],
   "source": [
    "options(warn=-1)\n",
    "set.seed(383)\n",
    "svm.base.tune <- tune(svm, gross_2016~., data = train.svm.base,\n",
    "              ranges = list(epsilon = seq(0,1,0.1), cost = 2^(2:3))\n",
    ")\n",
    "options(warn = 1)\n",
    "print(svm.base.tune)\n",
    "plot(svm.base.tune)"
   ]
  },
  {
   "cell_type": "markdown",
   "metadata": {},
   "source": [
    "The darker area on this plot is the region where the optimal value of epsilon and cost is located. Since this region seems to be located between e=0.1, e=0.5 and cost<4, I searched deeper in this region."
   ]
  },
  {
   "cell_type": "code",
   "execution_count": 15,
   "metadata": {
    "collapsed": false
   },
   "outputs": [
    {
     "name": "stdout",
     "output_type": "stream",
     "text": [
      "\n",
      "Parameter tuning of 'svm':\n",
      "\n",
      "- sampling method: 10-fold cross validation \n",
      "\n",
      "- best parameters:\n",
      " epsilon cost\n",
      "     0.3    2\n",
      "\n",
      "- best performance: 6063056414748873 \n",
      "\n"
     ]
    },
    {
     "data": {
      "image/png": "[encoded data removed]",
      "text/plain": [
       "Plot with title \"Performance of `svm'\""
      ]
     },
     "metadata": {},
     "output_type": "display_data"
    }
   ],
   "source": [
    "options(warn=-1)\n",
    "svm.base.tune2 <- tune(svm, gross_2016~., data = train.svm.base,\n",
    "              ranges = list(epsilon = seq(0.1,0.5,0.02), cost = 2^(0:2))\n",
    ")\n",
    "options(warn = 1)\n",
    "print(svm.base.tune2)\n",
    "plot(svm.base.tune2)"
   ]
  },
  {
   "cell_type": "markdown",
   "metadata": {},
   "source": [
    "Now the region is more defined. Let focus on the region e=0.2, e=0.3, cost=1 and cost=4."
   ]
  },
  {
   "cell_type": "code",
   "execution_count": 16,
   "metadata": {
    "collapsed": false
   },
   "outputs": [
    {
     "name": "stdout",
     "output_type": "stream",
     "text": [
      "\n",
      "Parameter tuning of 'svm':\n",
      "\n",
      "- sampling method: 10-fold cross validation \n",
      "\n",
      "- best parameters:\n",
      " epsilon cost\n",
      "    0.29    2\n",
      "\n",
      "- best performance: 6071966176849776 \n",
      "\n"
     ]
    },
    {
     "data": {
      "image/png": "[encoded data removed]",
      "text/plain": [
       "Plot with title \"Performance of `svm'\""
      ]
     },
     "metadata": {},
     "output_type": "display_data"
    }
   ],
   "source": [
    "options(warn=-1)\n",
    "svm.base.tune3 <- tune(svm, gross_2016~., data = train.svm.base,\n",
    "              ranges = list(epsilon = seq(0.2,0.3,0.01), cost = 2^(0:2))\n",
    ")\n",
    "options(warn = 1)\n",
    "print(svm.base.tune3)\n",
    "plot(svm.base.tune3)"
   ]
  },
  {
   "cell_type": "code",
   "execution_count": 17,
   "metadata": {
    "collapsed": false
   },
   "outputs": [
    {
     "data": {
      "text/plain": [
       "\n",
       "Call:\n",
       "best.tune(method = svm, train.x = gross_2016 ~ ., data = train.svm.base, \n",
       "    ranges = list(epsilon = seq(0.2, 0.3, 0.01), cost = 2^(0:2)))\n",
       "\n",
       "\n",
       "Parameters:\n",
       "   SVM-Type:  eps-regression \n",
       " SVM-Kernel:  radial \n",
       "       cost:  2 \n",
       "      gamma:  0.125 \n",
       "    epsilon:  0.29 \n",
       "\n",
       "\n",
       "Number of Support Vectors:  1189\n"
      ]
     },
     "metadata": {},
     "output_type": "display_data"
    }
   ],
   "source": [
    "svm.base.tune3$best.model"
   ]
  },
  {
   "cell_type": "markdown",
   "metadata": {},
   "source": [
    "Now that I have the optimal value of the hyperparameter, I can make the prediction for the test set."
   ]
  },
  {
   "cell_type": "code",
   "execution_count": 18,
   "metadata": {
    "collapsed": false
   },
   "outputs": [
    {
     "data": {
      "text/html": [
       "85547247.9829898"
      ],
      "text/latex": [
       "85547247.9829898"
      ],
      "text/markdown": [
       "85547247.9829898"
      ],
      "text/plain": [
       "[1] 85547248"
      ]
     },
     "metadata": {},
     "output_type": "display_data"
    }
   ],
   "source": [
    "model.svm.base.tune <- svm.base.tune3$best.model\n",
    "model.svm.base.tune.pred <- predict(model.svm.base.tune, test.svm.base) \n",
    " \n",
    "error <- test.svm.base$gross_2016 - model.svm.base.tune.pred    \n",
    "rmse(error) "
   ]
  },
  {
   "cell_type": "code",
   "execution_count": 122,
   "metadata": {
    "collapsed": false
   },
   "outputs": [
    {
     "data": {
      "text/html": [
       "<iframe src=\"plotlyJupyterHTML/svm_base_pred.html\" width=\"100%\" height=\"400\" id=\"igraph\" scrolling=\"no\" seamless=\"seamless\" frameBorder=\"0\"> </iframe>"
      ]
     },
     "metadata": {},
     "output_type": "display_data"
    }
   ],
   "source": [
    "svm_base_pred<-plot_ly(test.svm.base) %>%\n",
    "add_trace(y=~test.svm.base$gross_2016, name = 'test set', type = 'scatter',mode = 'lines+markers' )%>%\n",
    "add_trace(y=~model.svm.base.tune.pred ,name = 'predictions', type = 'scatter',mode = 'markers' )%>%\n",
    "layout(title = 'Gross revenu of movies and prediction from the svm algorithm',\n",
    "         xaxis = list(title = '', zeroline = TRUE),\n",
    "         yaxis = list(title = 'Gross'))\n",
    "\n",
    "embed_notebook(svm_base_pred,file=paste0(\"plotlyJupyterHTML/\",\"svm_base_pred\",\".html\"))"
   ]
  },
  {
   "cell_type": "code",
   "execution_count": 20,
   "metadata": {
    "collapsed": true
   },
   "outputs": [],
   "source": [
    "write.svm(model.svm.base.tune , svm.file = \"model.svm.base.tune.svm\", scale.file = \"IMDB-regression.scale\")"
   ]
  },
  {
   "cell_type": "markdown",
   "metadata": {},
   "source": [
    "We can see that the model has trouble predicting the outlier since most of the predicted point are between 0 and 200 million dollars. Also, if we zoom on any part of the plot, we see that the model is quite good at predicting the shape of the curve, but miss the real value of the variable \"gross_2016\". Let's see if adding more feature will help the model. "
   ]
  },
  {
   "cell_type": "code",
   "execution_count": 21,
   "metadata": {
    "collapsed": false
   },
   "outputs": [],
   "source": [
    "train_svm<-train[,c(cont_var),with=FALSE]\n",
    "test_svm<-test[,c(cont_var),with=FALSE]"
   ]
  },
  {
   "cell_type": "markdown",
   "metadata": {},
   "source": [
    "After coping all the continuous variable in the data set, I drop the \"profit\" variables and I keep only the row without missing values."
   ]
  },
  {
   "cell_type": "code",
   "execution_count": 22,
   "metadata": {
    "collapsed": false
   },
   "outputs": [],
   "source": [
    "train_svm <- train_svm[,!\"profit\",with=FALSE]\n",
    "test_svm  <- test_svm[,!\"profit\",with=FALSE]\n",
    "\n",
    "train_svm <- train_svm[complete.cases(train_svm)]\n",
    "test_svm  <- test_svm[complete.cases(test_svm)]"
   ]
  },
  {
   "cell_type": "code",
   "execution_count": 23,
   "metadata": {
    "collapsed": false
   },
   "outputs": [],
   "source": [
    "model.svm.cont <- svm(gross_2016~.,  scale = TRUE, data = train_svm)"
   ]
  },
  {
   "cell_type": "code",
   "execution_count": 24,
   "metadata": {
    "collapsed": false
   },
   "outputs": [],
   "source": [
    "resultats.svm.cont <- predict(object = model.svm.cont, newdata = train_svm)"
   ]
  },
  {
   "cell_type": "code",
   "execution_count": 31,
   "metadata": {
    "collapsed": false
   },
   "outputs": [
    {
     "data": {
      "text/html": [
       "72497904.586543"
      ],
      "text/latex": [
       "72497904.586543"
      ],
      "text/markdown": [
       "72497904.586543"
      ],
      "text/plain": [
       "[1] 72497905"
      ]
     },
     "metadata": {},
     "output_type": "display_data"
    }
   ],
   "source": [
    "error <- train_svm$gross_2016 - resultats.svm.cont\n",
    "rmse(error) "
   ]
  },
  {
   "cell_type": "markdown",
   "metadata": {},
   "source": [
    "Using all the continuous variables to the model doesn't make it more precise. Like most algorithms, the SVM algorithm is less accurate the more feature we use. Let's see if fine tuning the model can help."
   ]
  },
  {
   "cell_type": "code",
   "execution_count": 32,
   "metadata": {
    "collapsed": false
   },
   "outputs": [
    {
     "name": "stdout",
     "output_type": "stream",
     "text": [
      "\n",
      "Parameter tuning of 'svm':\n",
      "\n",
      "- sampling method: 10-fold cross validation \n",
      "\n",
      "- best parameters:\n",
      " epsilon cost\n",
      "     0.3    4\n",
      "\n",
      "- best performance: 6166321760868823 \n",
      "\n"
     ]
    },
    {
     "data": {
      "image/png": "[encoded data removed]",
      "text/plain": [
       "Plot with title \"Performance of `svm'\""
      ]
     },
     "metadata": {},
     "output_type": "display_data"
    }
   ],
   "source": [
    "options(warn=-1)\n",
    "svm.cont.tune <- tune(svm, gross_2016~., data = train_svm,\n",
    "              ranges = list(epsilon = seq(0,1,0.1), cost = 2^(2:9))\n",
    ")\n",
    "options(warn = 1)\n",
    "print(svm.cont.tune)\n",
    "plot(svm.cont.tune)"
   ]
  },
  {
   "cell_type": "code",
   "execution_count": 33,
   "metadata": {
    "collapsed": false
   },
   "outputs": [
    {
     "name": "stdout",
     "output_type": "stream",
     "text": [
      "\n",
      "Parameter tuning of 'svm':\n",
      "\n",
      "- sampling method: 10-fold cross validation \n",
      "\n",
      "- best parameters:\n",
      " epsilon cost\n",
      "     0.3    2\n",
      "\n",
      "- best performance: 6144850702414798 \n",
      "\n"
     ]
    },
    {
     "data": {
      "image/png": "[encoded data removed]",
      "text/plain": [
       "Plot with title \"Performance of `svm'\""
      ]
     },
     "metadata": {},
     "output_type": "display_data"
    }
   ],
   "source": [
    "options(warn=-1)\n",
    "svm.cont.tune2 <- tune(svm, gross_2016~., data = train_svm,\n",
    "              ranges = list(epsilon = seq(0,0.5,0.1), cost = 2^(0:2))\n",
    ")\n",
    "options(warn = 1)\n",
    "print(svm.cont.tune2)\n",
    "plot(svm.cont.tune2)"
   ]
  },
  {
   "cell_type": "code",
   "execution_count": 34,
   "metadata": {
    "collapsed": false
   },
   "outputs": [
    {
     "data": {
      "text/plain": [
       "\n",
       "Call:\n",
       "best.tune(method = svm, train.x = gross_2016 ~ ., data = train_svm, \n",
       "    ranges = list(epsilon = seq(0, 1, 0.1), cost = 2^(2:9)))\n",
       "\n",
       "\n",
       "Parameters:\n",
       "   SVM-Type:  eps-regression \n",
       " SVM-Kernel:  radial \n",
       "       cost:  4 \n",
       "      gamma:  0.08333333 \n",
       "    epsilon:  0.3 \n",
       "\n",
       "\n",
       "Number of Support Vectors:  1176\n"
      ]
     },
     "metadata": {},
     "output_type": "display_data"
    }
   ],
   "source": [
    "svm.cont.tune$best.model"
   ]
  },
  {
   "cell_type": "code",
   "execution_count": 35,
   "metadata": {
    "collapsed": false
   },
   "outputs": [
    {
     "data": {
      "text/html": [
       "86670201.577433"
      ],
      "text/latex": [
       "86670201.577433"
      ],
      "text/markdown": [
       "86670201.577433"
      ],
      "text/plain": [
       "[1] 86670202"
      ]
     },
     "metadata": {},
     "output_type": "display_data"
    }
   ],
   "source": [
    "model.svm.cont.tune <- svm.cont.tune$best.model\n",
    "model.svm.cont.tune.pred <- predict(model.svm.cont.tune, test_svm) \n",
    "error <- test_svm$gross_2016 - model.svm.cont.tune.pred  \n",
    "rmse(error) "
   ]
  },
  {
   "cell_type": "markdown",
   "metadata": {},
   "source": [
    "Adding features to the model didn't help to reduce the root mean square error of the model. So for now, a rmse of 85383309 is the mark to beat with the other algorithm."
   ]
  },
  {
   "cell_type": "markdown",
   "metadata": {},
   "source": [
    "# Regression with XGBoost\n",
    "Now we will try regression with the XGBoost algorithm. This algorithm has for advantage to be really fast, he can handle very well sparse matrix and missing data which are present in the IMDB data set.\n",
    "\n",
    "Since most variables in the data set are not correlated to the variable of interest, using all of them in the model is not really a good idea: it will just add a lot of noise to the model and can create some overfitting problems. But this algorithm picks features according to their importance in the model and since he is so fast, I took the opposite approach I used for the SVM algorithm: I use the most features possible for my first use of this algorithm and I will prune the feature as I go on."
   ]
  },
  {
   "cell_type": "code",
   "execution_count": 36,
   "metadata": {
    "collapsed": false
   },
   "outputs": [],
   "source": [
    "variable_names <- names(train[,!c(\"budget\",\"gross\",\"profit\",\"budget_us\",\"currency\",\"imdb_score\",\"director_name\",\n",
    "                                  \"num_user_for_reviews\",\"movie_imdb_link\",\"num_voted_users\",\"num_critic_for_reviews\",\n",
    "                                  \"movie_facebook_likes\",\"genres\",\"movie_title\",\"plot_keywords\",\"actor_1_name\",\n",
    "                                 \"actor_2_name\",\"actor_3_name\",\"V1\")])"
   ]
  },
  {
   "cell_type": "code",
   "execution_count": 37,
   "metadata": {
    "collapsed": false
   },
   "outputs": [],
   "source": [
    "train_xgb<-train[,variable_names,with=FALSE]\n",
    "test_xgb<-test[,variable_names,with=FALSE]"
   ]
  },
  {
   "cell_type": "markdown",
   "metadata": {},
   "source": [
    "Since I already coded the categorical variables as dummy variables, I excluded them from the data sets."
   ]
  },
  {
   "cell_type": "code",
   "execution_count": 38,
   "metadata": {
    "collapsed": false
   },
   "outputs": [],
   "source": [
    "train_xgb <- train_xgb[,!cath_var,with=FALSE]\n",
    "test_xgb <- test_xgb[,!cath_var,with=FALSE]"
   ]
  },
  {
   "cell_type": "markdown",
   "metadata": {
    "collapsed": true
   },
   "source": [
    "Then I normalize the continuous variables and coded the missing information. "
   ]
  },
  {
   "cell_type": "code",
   "execution_count": 39,
   "metadata": {
    "collapsed": false
   },
   "outputs": [],
   "source": [
    "for (f in intersect(variable_names,cont_var)) {\n",
    "  if (max(train_xgb[[f]],na.rm=TRUE)!=1 | min(train_xgb[[f]],na.rm=TRUE)!=0) {\n",
    "    train_xgb[[f]] <- scale(train_xgb[[f]])\n",
    "    test_xgb[[f]]  <- scale(test_xgb[[f]])\n",
    "  }\n",
    "}\n",
    "\n",
    "train_xgb[is.na(train_xgb)]<--1\n",
    "test_xgb[is.na(test_xgb)]<--1"
   ]
  },
  {
   "cell_type": "markdown",
   "metadata": {},
   "source": [
    "To be able to use XGBoost, I have to feed the function a matrix, so I have to convert the data frame."
   ]
  },
  {
   "cell_type": "code",
   "execution_count": 40,
   "metadata": {
    "collapsed": false
   },
   "outputs": [
    {
     "name": "stdout",
     "output_type": "stream",
     "text": [
      " chr \"gross_2016\"\n"
     ]
    }
   ],
   "source": [
    "drop_col_names <- names(train[,c(\"gross_2016\")])\n",
    "str(drop_col_names)"
   ]
  },
  {
   "cell_type": "code",
   "execution_count": 41,
   "metadata": {
    "collapsed": false
   },
   "outputs": [],
   "source": [
    "train_xgb_matrix <- xgb.DMatrix(data.matrix(train_xgb[,!drop_col_names,with=FALSE]),\n",
    "                                label=train_xgb$gross_2016,missing=-1)\n",
    "test_xgb_matrix  <- xgb.DMatrix(data.matrix(test_xgb[,!drop_col_names,with=FALSE]),\n",
    "                                label=test_xgb$gross_2016,missing=-1)"
   ]
  },
  {
   "cell_type": "markdown",
   "metadata": {},
   "source": [
    "Then I set the parameters for the algorithm. Since the data is normalized, I'm not interested in having the rmse printed for each iteration of the algorithm, so I didn't initialise the Watchlist argument. Also, after trial and error, I realised that 500 iterations were enough for this data."
   ]
  },
  {
   "cell_type": "code",
   "execution_count": 42,
   "metadata": {
    "collapsed": false
   },
   "outputs": [],
   "source": [
    "param <- list(  objective           = \"reg:linear\", \n",
    "                booster             = \"gblinear\",\n",
    "                eval_metric         = \"rmse\"\n",
    "                )"
   ]
  },
  {
   "cell_type": "code",
   "execution_count": 43,
   "metadata": {
    "collapsed": false
   },
   "outputs": [],
   "source": [
    "set.seed(383)\n",
    "model_xgb <- xgb.train(   params          = param, \n",
    "                    data                  = train_xgb_matrix, \n",
    "                    nrounds               = 500,\n",
    "                    verbose               = 0, \n",
    "                    early_stopping_rounds = 20,\n",
    "                    missing               = -1,\n",
    "                    maximize              = FALSE)"
   ]
  },
  {
   "cell_type": "markdown",
   "metadata": {},
   "source": [
    "Next I took the model created by the algorithm and predicted how much money each movie in the dataset should make at the box-office and compare those predictions with the real values from the test set. To do so, I scale the prediction to match the data set and calculated the rmse."
   ]
  },
  {
   "cell_type": "code",
   "execution_count": 44,
   "metadata": {
    "collapsed": false
   },
   "outputs": [],
   "source": [
    "pred<-predict(model_xgb,test_xgb_matrix)"
   ]
  },
  {
   "cell_type": "code",
   "execution_count": 45,
   "metadata": {
    "collapsed": false
   },
   "outputs": [
    {
     "data": {
      "text/html": [
       "95480907.3966675"
      ],
      "text/latex": [
       "95480907.3966675"
      ],
      "text/markdown": [
       "95480907.3966675"
      ],
      "text/plain": [
       "[1] 95480907"
      ]
     },
     "metadata": {},
     "output_type": "display_data"
    }
   ],
   "source": [
    "scaleList <- list(scale = attr(train_xgb$gross_2016, \"scaled:scale\"),\n",
    "    center = attr(train_xgb$gross_2016, \"scaled:center\"))\n",
    "\n",
    "pred_unscale <- pred * scaleList$scale + scaleList$center\n",
    "error<-pred_unscale-test_xgb$gross_2016\n",
    "rmse(error)"
   ]
  },
  {
   "cell_type": "code",
   "execution_count": 46,
   "metadata": {
    "collapsed": false
   },
   "outputs": [
    {
     "data": {
      "text/html": [
       "TRUE"
      ],
      "text/latex": [
       "TRUE"
      ],
      "text/markdown": [
       "TRUE"
      ],
      "text/plain": [
       "[1] TRUE"
      ]
     },
     "metadata": {},
     "output_type": "display_data"
    }
   ],
   "source": [
    "xgb.save(model_xgb,fname=\"model_xgb_1_tune\")"
   ]
  },
  {
   "cell_type": "markdown",
   "metadata": {
    "collapsed": true
   },
   "source": [
    "This model did worse than the best SVM model: maybe the categorical variables don't offer useful information to the algorithm. In the next model, I'll use only the continuous variables that I choose for the last model."
   ]
  },
  {
   "cell_type": "code",
   "execution_count": 47,
   "metadata": {
    "collapsed": false
   },
   "outputs": [],
   "source": [
    "train_xgb <- train_xgb[,intersect(variable_names,cont_var),with=FALSE]\n",
    "test_xgb <- test_xgb[,intersect(variable_names,cont_var),with=FALSE]"
   ]
  },
  {
   "cell_type": "code",
   "execution_count": 48,
   "metadata": {
    "collapsed": true
   },
   "outputs": [],
   "source": [
    "train_xgb_matrix <- xgb.DMatrix(data.matrix(train_xgb[,!drop_col_names,with=FALSE]), label=train_xgb$gross_2016,missing=NA)\n",
    "test_xgb_matrix  <- xgb.DMatrix(data.matrix(test_xgb[,!drop_col_names,with=FALSE]), label=test_xgb$gross_2016,missing=NA)"
   ]
  },
  {
   "cell_type": "code",
   "execution_count": 49,
   "metadata": {
    "collapsed": false
   },
   "outputs": [],
   "source": [
    "set.seed(383)\n",
    "model_xgb <- xgb.train(   params          = param, \n",
    "                    data                  = train_xgb_matrix, \n",
    "                    nrounds               = 1000, # changed from 300\n",
    "                    verbose               = 0, \n",
    "                    early_stopping_rounds = 20,\n",
    "                    #watchlist             = watchlist,\n",
    "                    missing               = -1,\n",
    "                    maximize              = FALSE)"
   ]
  },
  {
   "cell_type": "code",
   "execution_count": 50,
   "metadata": {
    "collapsed": false
   },
   "outputs": [
    {
     "data": {
      "text/html": [
       "83958476.4217668"
      ],
      "text/latex": [
       "83958476.4217668"
      ],
      "text/markdown": [
       "83958476.4217668"
      ],
      "text/plain": [
       "[1] 83958476"
      ]
     },
     "metadata": {},
     "output_type": "display_data"
    }
   ],
   "source": [
    "pred<-predict(model_xgb,test_xgb_matrix)\n",
    "pred_unscale <- pred * scaleList$scale + scaleList$center\n",
    "error<-pred_unscale-test_xgb$gross_2016\n",
    "rmse(error)"
   ]
  },
  {
   "cell_type": "code",
   "execution_count": 51,
   "metadata": {
    "collapsed": false
   },
   "outputs": [
    {
     "data": {
      "text/html": [
       "TRUE"
      ],
      "text/latex": [
       "TRUE"
      ],
      "text/markdown": [
       "TRUE"
      ],
      "text/plain": [
       "[1] TRUE"
      ]
     },
     "metadata": {},
     "output_type": "display_data"
    }
   ],
   "source": [
    "xgb.save(model_xgb,fname=\"model_xgb_cont_var\")"
   ]
  },
  {
   "cell_type": "markdown",
   "metadata": {},
   "source": [
    "Dropping the categorical variables help the XGBoost algorithm greatly! Let's see if using even less variable will help us make a better model. For the next model, I used only the variables whom were at least mildly correlated with the \"gross_2016\" variable."
   ]
  },
  {
   "cell_type": "code",
   "execution_count": 52,
   "metadata": {
    "collapsed": false
   },
   "outputs": [],
   "source": [
    "min_var<-names(movies[,c(\"budget_2016\",\"gross_2016\",\"dir_mean_gross\",\"act_1_mean_gross\",\"act_2_mean_gross\",\"act_3_mean_gross\")])"
   ]
  },
  {
   "cell_type": "code",
   "execution_count": 53,
   "metadata": {
    "collapsed": false
   },
   "outputs": [],
   "source": [
    "train_xgb <- train_xgb[,min_var,with=FALSE]\n",
    "test_xgb <- test_xgb[,min_var,with=FALSE]"
   ]
  },
  {
   "cell_type": "code",
   "execution_count": 54,
   "metadata": {
    "collapsed": true
   },
   "outputs": [],
   "source": [
    "train_xgb_matrix <- xgb.DMatrix(data.matrix(train_xgb[,!drop_col_names,with=FALSE]), label=train_xgb$gross_2016,missing=NA)\n",
    "test_xgb_matrix  <- xgb.DMatrix(data.matrix(test_xgb[,!drop_col_names,with=FALSE]), label=test_xgb$gross_2016,missing=NA)"
   ]
  },
  {
   "cell_type": "code",
   "execution_count": 55,
   "metadata": {
    "collapsed": false
   },
   "outputs": [],
   "source": [
    "set.seed(383)\n",
    "model_xgb_tune_1 <- xgb.train(   params          = param, \n",
    "                    data                  = train_xgb_matrix, \n",
    "                    nrounds               = 1000, # changed from 300\n",
    "                    verbose               = 0, \n",
    "                    early_stopping_rounds = 20,\n",
    "                    #watchlist             = watchlist,\n",
    "                    missing               = -1,\n",
    "                    maximize              = FALSE)"
   ]
  },
  {
   "cell_type": "code",
   "execution_count": 56,
   "metadata": {
    "collapsed": false
   },
   "outputs": [
    {
     "data": {
      "text/html": [
       "83748392.8205082"
      ],
      "text/latex": [
       "83748392.8205082"
      ],
      "text/markdown": [
       "83748392.8205082"
      ],
      "text/plain": [
       "[1] 83748393"
      ]
     },
     "metadata": {},
     "output_type": "display_data"
    }
   ],
   "source": [
    "pred<-predict(model_xgb_tune_1,test_xgb_matrix)\n",
    "pred_unscale <- pred * scaleList$scale + scaleList$center\n",
    "error<-pred_unscale-test_xgb$gross_2016\n",
    "rmse(error)"
   ]
  },
  {
   "cell_type": "markdown",
   "metadata": {},
   "source": [
    "This model is the more efficient, so far, but I used almost only the default parameter of the XGBoost algorithm to do it. By tuning the hyperparameter I should be able to make a more efficient model to predict the gross of the movie in the test set. In the cell below, I calculated the rmse of different model using a value of eta from 0 to 0.99 by 0.01 increments. The cross validation is made using a 5 fold cross validation."
   ]
  },
  {
   "cell_type": "code",
   "execution_count": 57,
   "metadata": {
    "collapsed": false
   },
   "outputs": [],
   "source": [
    "xgb_mse<-data.frame(index=numeric(0),train.rmse.mean=numeric(0),train.rmse.std=numeric(0),\n",
    "                    test.rmse.mean=numeric(0),test.rmse.std=numeric(0))\n",
    "\n",
    "for (i in seq(0,0.99,0.01)){\n",
    "    set.seed(383)\n",
    "     model_xgb_cv <- xgb.cv(params=param, eta=i, data = train_xgb_matrix, nfold = 5, nrounds = 5, missing=-1,verbose= 0)\n",
    "    xgb_mse<-rbind(xgb_mse,c(\"index\"=i,lapply( model_xgb_cv,function(x) mean(x))))\n",
    "}"
   ]
  },
  {
   "cell_type": "code",
   "execution_count": 123,
   "metadata": {
    "collapsed": false
   },
   "outputs": [
    {
     "data": {
      "text/html": [
       "<iframe src=\"plotlyJupyterHTML/xgb_mse_plot.html\" width=\"100%\" height=\"400\" id=\"igraph\" scrolling=\"no\" seamless=\"seamless\" frameBorder=\"0\"> </iframe>"
      ]
     },
     "metadata": {},
     "output_type": "display_data"
    }
   ],
   "source": [
    "xgb_mse_plot<-plot_ly(xgb_mse) %>%\n",
    "add_trace(x=~index,y=~test.rmse.mean, type = 'scatter',mode = 'lines+markers' )%>%\n",
    "layout(title = 'Value of the rmse during the cross validation',\n",
    "         xaxis = list(title = 'eta', zeroline = TRUE),\n",
    "         yaxis = list(title = 'rmse'))\n",
    "embed_notebook(xgb_mse_plot,file=paste0(\"plotlyJupyterHTML/\",\"xgb_mse_plot\",\".html\"))"
   ]
  },
  {
   "cell_type": "code",
   "execution_count": 59,
   "metadata": {
    "collapsed": false
   },
   "outputs": [
    {
     "data": {
      "text/html": [
       "<table>\n",
       "<thead><tr><th></th><th scope=col>index</th><th scope=col>train.rmse.mean</th><th scope=col>train.rmse.std</th><th scope=col>test.rmse.mean</th><th scope=col>test.rmse.std</th></tr></thead>\n",
       "<tbody>\n",
       "\t<tr><th scope=row>67</th><td>0.66     </td><td>0.7717064</td><td>0.0302158</td><td>0.7675378</td><td>0.1186582</td></tr>\n",
       "</tbody>\n",
       "</table>\n"
      ],
      "text/latex": [
       "\\begin{tabular}{r|lllll}\n",
       "  & index & train.rmse.mean & train.rmse.std & test.rmse.mean & test.rmse.std\\\\\n",
       "\\hline\n",
       "\t67 & 0.66      & 0.7717064 & 0.0302158 & 0.7675378 & 0.1186582\\\\\n",
       "\\end{tabular}\n"
      ],
      "text/markdown": [
       "\n",
       "| <!--/--> | index | train.rmse.mean | train.rmse.std | test.rmse.mean | test.rmse.std | \n",
       "|---|\n",
       "| 67 | 0.66      | 0.7717064 | 0.0302158 | 0.7675378 | 0.1186582 | \n",
       "\n",
       "\n"
      ],
      "text/plain": [
       "   index train.rmse.mean train.rmse.std test.rmse.mean test.rmse.std\n",
       "67 0.66  0.7717064       0.0302158      0.7675378      0.1186582    "
      ]
     },
     "metadata": {},
     "output_type": "display_data"
    }
   ],
   "source": [
    "xgb_mse[xgb_mse$test.rmse.mean==min(xgb_mse$test.rmse.mean,na.rm=TRUE),]"
   ]
  },
  {
   "cell_type": "markdown",
   "metadata": {},
   "source": [
    "Now that I have the value of the eta that minimise the rmse of the test set used in the cross validation, I can create a more efficient model."
   ]
  },
  {
   "cell_type": "code",
   "execution_count": 60,
   "metadata": {
    "collapsed": false
   },
   "outputs": [],
   "source": [
    "set.seed(383)\n",
    "model_xgb_tune_2 <- xgb.train(   params          = param, \n",
    "                    data                  = train_xgb_matrix, \n",
    "                    eta                   = 0.66,\n",
    "                    nrounds               = 500,\n",
    "                    verbose               = 0, \n",
    "                    early_stopping_rounds = 20,\n",
    "                    missing               = -1,\n",
    "                    maximize              = FALSE)"
   ]
  },
  {
   "cell_type": "code",
   "execution_count": 61,
   "metadata": {
    "collapsed": false
   },
   "outputs": [
    {
     "data": {
      "text/html": [
       "83748392.8717631"
      ],
      "text/latex": [
       "83748392.8717631"
      ],
      "text/markdown": [
       "83748392.8717631"
      ],
      "text/plain": [
       "[1] 83748393"
      ]
     },
     "metadata": {},
     "output_type": "display_data"
    }
   ],
   "source": [
    "pred<-predict(model_xgb_tune_2,test_xgb_matrix)\n",
    "pred_unscale <- pred * scaleList$scale + scaleList$center\n",
    "error<-pred_unscale-test_xgb$gross_2016\n",
    "rmse(error)"
   ]
  },
  {
   "cell_type": "code",
   "execution_count": 124,
   "metadata": {
    "collapsed": false
   },
   "outputs": [
    {
     "data": {
      "text/html": [
       "<iframe src=\"plotlyJupyterHTML/xgb_pred.html\" width=\"100%\" height=\"400\" id=\"igraph\" scrolling=\"no\" seamless=\"seamless\" frameBorder=\"0\"> </iframe>"
      ]
     },
     "metadata": {},
     "output_type": "display_data"
    }
   ],
   "source": [
    "xgb_pred<-plot_ly(test_xgb) %>%\n",
    "add_trace(y=~test$gross_2016, \n",
    "          name = 'test set', type = 'scatter',mode = 'lines+markers' )%>%\n",
    "add_trace(y=~pred_unscale ,name = 'predictions', type = 'scatter',mode = 'markers' )%>%\n",
    "layout(title = 'Gross revenu of movies in the data set and prediction made with the XGBoost algorithm',\n",
    "         xaxis = list(title = '', zeroline = TRUE),\n",
    "         yaxis = list(title = 'Gross'))\n",
    "\n",
    "embed_notebook(xgb_pred,file=paste0(\"plotlyJupyterHTML/\",\"xgb_pred\",\".html\"))"
   ]
  },
  {
   "cell_type": "code",
   "execution_count": 63,
   "metadata": {
    "collapsed": false
   },
   "outputs": [
    {
     "data": {
      "text/html": [
       "TRUE"
      ],
      "text/latex": [
       "TRUE"
      ],
      "text/markdown": [
       "TRUE"
      ],
      "text/plain": [
       "[1] TRUE"
      ]
     },
     "metadata": {},
     "output_type": "display_data"
    }
   ],
   "source": [
    "xgb.save(model_xgb,fname=\"model_xgb_min_var\")"
   ]
  },
  {
   "cell_type": "markdown",
   "metadata": {
    "collapsed": false
   },
   "source": [
    "# Classification\n",
    "## XGBoost logistic regression\n",
    "\n",
    "By zooming on any part of the last plot, we see that regression with the XGBoost algorithm has trouble adjusting to the variability of the data, i.e. the algorithm underestimate the profit of a high margin movie and overestimate the performance of the movie who lost a lot of money. If we simplify our goal and only are interested to know if the movie will be profitable, does the model will be more accurate? First, let us look at the previous results."
   ]
  },
  {
   "cell_type": "code",
   "execution_count": 64,
   "metadata": {
    "collapsed": false
   },
   "outputs": [
    {
     "data": {
      "text/html": [
       "0.554491017964072"
      ],
      "text/latex": [
       "0.554491017964072"
      ],
      "text/markdown": [
       "0.554491017964072"
      ],
      "text/plain": [
       "[1] 0.554491"
      ]
     },
     "metadata": {},
     "output_type": "display_data"
    }
   ],
   "source": [
    "prediction<-test[,c(\"gross_2016\",\"budget_2016\",\"profit\")]\n",
    "prediction$pred_gross<-error\n",
    "prediction$pred_profit<-prediction$pred_gross-prediction$budget_2016\n",
    "prediction$pred_profit_binary<-0\n",
    "prediction[prediction$pred_profit*prediction$profit>0, \"pred_profit_binary\"]<-1\n",
    "\n",
    "sum(prediction[complete.cases(prediction),\"pred_profit_binary\"])/nrow(prediction[complete.cases(prediction),])"
   ]
  },
  {
   "cell_type": "markdown",
   "metadata": {},
   "source": [
    "The previous model sort correctly about half of the observations in the test set. Not bad, but we can do better by using an algorithm tailor made for that classification. The first one I used is the XGBoost for logistic regression.\n",
    "\n",
    "As usual, I started by creating a modified train and test set to use with the algorithm. "
   ]
  },
  {
   "cell_type": "code",
   "execution_count": 65,
   "metadata": {
    "collapsed": false
   },
   "outputs": [],
   "source": [
    "variable_names_log <- names(train[,!c(\"budget\",\"gross\",\"gross_2016\",\"budget_us\",\"currency\",\"imdb_score\",\"director_name\",\n",
    "                                  \"num_user_for_reviews\",\"movie_imdb_link\",\"num_voted_users\",\"num_critic_for_reviews\",\n",
    "                                  \"movie_facebook_likes\",\"genres\",\"movie_title\",\"plot_keywords\",\"actor_1_name\",\n",
    "                                 \"actor_2_name\",\"actor_3_name\",\"V1\")])\n",
    "\n",
    "train_xgb_log<-train[,variable_names_log,with=FALSE]\n",
    "test_xgb_log<-test[,variable_names_log,with=FALSE]\n",
    "\n",
    "train_xgb_log <- train_xgb_log[,!cath_var,with=FALSE]\n",
    "test_xgb_log <- test_xgb_log[,!cath_var,with=FALSE]\n",
    "\n",
    "for (f in intersect(variable_names_log,cont_var)) {\n",
    "  if (max(train_xgb_log[[f]],na.rm=TRUE)!=1 | min(train_xgb_log[[f]],na.rm=TRUE)!=0) {\n",
    "    train_xgb_log[[f]] <- scale(train_xgb_log[[f]])\n",
    "    test_xgb_log[[f]]  <- scale(test_xgb_log[[f]])\n",
    "  }\n",
    "}\n",
    "\n",
    "train_xgb_log[is.na(train_xgb_log)]<--1\n",
    "test_xgb_log[is.na(test_xgb_log)]<--1"
   ]
  },
  {
   "cell_type": "markdown",
   "metadata": {},
   "source": [
    "Then I create a new variable \"profitable\" who indicate if the movie was profitable or not."
   ]
  },
  {
   "cell_type": "code",
   "execution_count": 66,
   "metadata": {
    "collapsed": true
   },
   "outputs": [],
   "source": [
    "train_xgb_log$profitable<-0\n",
    "test_xgb_log$profitable<-0\n",
    "\n",
    "train_xgb_log[which(train_xgb_log$profit>=0),\"profitable\"]<-1\n",
    "test_xgb_log[which(test_xgb_log$profit>=0),\"profitable\"]<-1"
   ]
  },
  {
   "cell_type": "markdown",
   "metadata": {},
   "source": [
    "Then I repeat the steps use for the regression with XGBoost, but I changed the objective for the logistic regression and the evaluation metric for the binary classification error rate."
   ]
  },
  {
   "cell_type": "code",
   "execution_count": 67,
   "metadata": {
    "collapsed": false
   },
   "outputs": [],
   "source": [
    "train_xgb_log_mat <- xgb.DMatrix(data.matrix(train_xgb_log[,!c(\"profitable\",\"profit\"),with=FALSE]), label=train_xgb_log$profitable,missing=-1)\n",
    "test_xgb_log_mat <- xgb.DMatrix(data.matrix(test_xgb_log[,!c(\"profitable\",\"profit\"),with=FALSE]), label=test_xgb_log$profitable,missing=-1)"
   ]
  },
  {
   "cell_type": "code",
   "execution_count": 68,
   "metadata": {
    "collapsed": false
   },
   "outputs": [],
   "source": [
    "param <- list(  objective           = \"binary:logistic\",\n",
    "                eval_metric         = \"error\")"
   ]
  },
  {
   "cell_type": "code",
   "execution_count": 69,
   "metadata": {
    "collapsed": false
   },
   "outputs": [],
   "source": [
    "set.seed(383)\n",
    "model_xgb_log <- xgb.train(   params        = param, \n",
    "                    data                = train_xgb_log_mat, \n",
    "                    nrounds             = 500,\n",
    "                    verbose             = 0, \n",
    "                    missing             =-1,\n",
    "                    maximize            = FALSE)"
   ]
  },
  {
   "cell_type": "markdown",
   "metadata": {},
   "source": [
    "Having made the model, I have to make the prediction over the test set and calculate the binary error rate."
   ]
  },
  {
   "cell_type": "code",
   "execution_count": 70,
   "metadata": {
    "collapsed": false
   },
   "outputs": [],
   "source": [
    "prediction<-data.frame(profit=test_xgb_log$profitable)\n",
    "prediction$output<-NA"
   ]
  },
  {
   "cell_type": "code",
   "execution_count": 71,
   "metadata": {
    "collapsed": false
   },
   "outputs": [],
   "source": [
    "for (rows in split(1:nrow(test_xgb), ceiling((1:nrow(test_xgb))/10000))) {\n",
    "    prediction[rows, \"output\"] <- predict(model_xgb_log, test_xgb_log_mat)\n",
    "    }"
   ]
  },
  {
   "cell_type": "code",
   "execution_count": 72,
   "metadata": {
    "collapsed": false
   },
   "outputs": [
    {
     "data": {
      "text/html": [
       "<table>\n",
       "<thead><tr><th scope=col>profit</th><th scope=col>output</th><th scope=col>pred</th><th scope=col>index</th></tr></thead>\n",
       "<tbody>\n",
       "\t<tr><td>0                   </td><td>0.000003818766799668</td><td>0                   </td><td>1                   </td></tr>\n",
       "\t<tr><td>0                   </td><td>0.000000000203112957</td><td>0                   </td><td>2                   </td></tr>\n",
       "\t<tr><td>0                   </td><td>0.000347295281244442</td><td>0                   </td><td>3                   </td></tr>\n",
       "\t<tr><td>0                   </td><td>0.001790401292964816</td><td>0                   </td><td>4                   </td></tr>\n",
       "\t<tr><td>0                   </td><td>0.999916315078735352</td><td>1                   </td><td>5                   </td></tr>\n",
       "\t<tr><td>0                   </td><td>0.000000000002252107</td><td>0                   </td><td>6                   </td></tr>\n",
       "</tbody>\n",
       "</table>\n"
      ],
      "text/latex": [
       "\\begin{tabular}{r|llll}\n",
       " profit & output & pred & index\\\\\n",
       "\\hline\n",
       "\t 0                    & 0.000003818766799668 & 0                    & 1                   \\\\\n",
       "\t 0                    & 0.000000000203112957 & 0                    & 2                   \\\\\n",
       "\t 0                    & 0.000347295281244442 & 0                    & 3                   \\\\\n",
       "\t 0                    & 0.001790401292964816 & 0                    & 4                   \\\\\n",
       "\t 0                    & 0.999916315078735352 & 1                    & 5                   \\\\\n",
       "\t 0                    & 0.000000000002252107 & 0                    & 6                   \\\\\n",
       "\\end{tabular}\n"
      ],
      "text/markdown": [
       "\n",
       "profit | output | pred | index | \n",
       "|---|---|---|---|---|---|\n",
       "| 0                    | 0.000003818766799668 | 0                    | 1                    | \n",
       "| 0                    | 0.000000000203112957 | 0                    | 2                    | \n",
       "| 0                    | 0.000347295281244442 | 0                    | 3                    | \n",
       "| 0                    | 0.001790401292964816 | 0                    | 4                    | \n",
       "| 0                    | 0.999916315078735352 | 1                    | 5                    | \n",
       "| 0                    | 0.000000000002252107 | 0                    | 6                    | \n",
       "\n",
       "\n"
      ],
      "text/plain": [
       "  profit output               pred index\n",
       "1 0      0.000003818766799668 0    1    \n",
       "2 0      0.000000000203112957 0    2    \n",
       "3 0      0.000347295281244442 0    3    \n",
       "4 0      0.001790401292964816 0    4    \n",
       "5 0      0.999916315078735352 1    5    \n",
       "6 0      0.000000000002252107 0    6    "
      ]
     },
     "metadata": {},
     "output_type": "display_data"
    }
   ],
   "source": [
    "prediction$pred<-0\n",
    "prediction[which(prediction$output>=0.5),\"pred\"]<-1\n",
    "prediction$index<-seq.int(nrow(prediction))\n",
    "head(prediction)"
   ]
  },
  {
   "cell_type": "code",
   "execution_count": 73,
   "metadata": {
    "collapsed": false
   },
   "outputs": [
    {
     "data": {
      "text/plain": [
       "   \n",
       "      0   1\n",
       "  0 565  54\n",
       "  1 179  65"
      ]
     },
     "metadata": {},
     "output_type": "display_data"
    }
   ],
   "source": [
    "prediction<-prediction[!is.na(test$gross_2016),]\n",
    "result<-table(prediction$profit,prediction$pred)\n",
    "result"
   ]
  },
  {
   "cell_type": "code",
   "execution_count": 74,
   "metadata": {
    "collapsed": false
   },
   "outputs": [
    {
     "name": "stdout",
     "output_type": "stream",
     "text": [
      "[1] \"Accuracy: 0.730011587485516\"\n",
      "[1] \"Precision: 0.266393442622951\"\n",
      "[1] \"Recall: 0.546218487394958\"\n"
     ]
    }
   ],
   "source": [
    "print(paste0(\"Accuracy: \",(result[1,1]+result[2,2])/sum(result)))\n",
    "print(paste0(\"Precision: \",(result[2,2])/(result[2,2]+result[2,1])))\n",
    "print(paste0(\"Recall: \",(result[2,2])/(result[2,2]+result[1,2])))"
   ]
  },
  {
   "cell_type": "markdown",
   "metadata": {},
   "source": [
    "We can see that this model is more accurate to classify the movies than the regression algorithm from the last section, but not by much. In fact, our model has trouble to classify correctly the profitable movies and tend to overclassify the movie in the non-profitable category. The table above shows me that a model who would classify all the movie in the data set as non-profitable would have about 55% accuracy which is not that much less than this model. \n",
    "\n",
    "Maybe tuning and simplifying the model will help improve the precision of the model. Let us look at the contribution to the model of each individual model."
   ]
  },
  {
   "cell_type": "code",
   "execution_count": 75,
   "metadata": {
    "collapsed": false
   },
   "outputs": [
    {
     "data": {},
     "metadata": {},
     "output_type": "display_data"
    },
    {
     "data": {
      "image/png": "[encoded data removed]",
      "text/plain": [
       "plot without title"
      ]
     },
     "metadata": {},
     "output_type": "display_data"
    }
   ],
   "source": [
    "importance_matrix <- xgb.importance(dimnames(train_xgb_log[,!c(\"profitable\",\"profit\"),with=FALSE])[[2]], model = model_xgb_log)\n",
    "xgb.plot.importance(importance_matrix[1:20])"
   ]
  },
  {
   "cell_type": "markdown",
   "metadata": {},
   "source": [
    "We can see that most of the 274 variables have little or no influence on the model. In consequence, I will keep only the 20 variables with the most importance. "
   ]
  },
  {
   "cell_type": "code",
   "execution_count": 76,
   "metadata": {
    "collapsed": false
   },
   "outputs": [],
   "source": [
    "names_var_log<-c(importance_matrix[1:30,Feature],\"profitable\",\"profit\")\n",
    "train_xgb_log<-train_xgb_log[,names_var_log,with=FALSE]\n",
    "test_xgb_log<-test_xgb_log[,names_var_log,with=FALSE]"
   ]
  },
  {
   "cell_type": "code",
   "execution_count": 77,
   "metadata": {
    "collapsed": false
   },
   "outputs": [],
   "source": [
    "train_xgb_log_mat <- xgb.DMatrix(data.matrix(train_xgb_log[,!c(\"profitable\",\"profit\"),with=FALSE]), \n",
    "                                 label=train_xgb_log$profitable,missing=-1)\n",
    "test_xgb_log_mat <- xgb.DMatrix(data.matrix(test_xgb_log[,!c(\"profitable\",\"profit\"),with=FALSE]), \n",
    "                                label=test_xgb_log$profitable,missing=-1)"
   ]
  },
  {
   "cell_type": "markdown",
   "metadata": {},
   "source": [
    "Then I do a cross validation to determine which value of the hyperparameter to use with the algorithm. I started by the ETA.\n",
    "\n",
    "### ETA\n",
    "\n",
    "The eta is a parameter that prevents overfitting by scaling down the weight of each feature after each iteration. I used a 5 fold cross validation process with 5 rounds after which the averages of the mean error are calculated for the prediction of the train a test set."
   ]
  },
  {
   "cell_type": "code",
   "execution_count": 126,
   "metadata": {
    "collapsed": false
   },
   "outputs": [],
   "source": [
    "xgb_mse_log<-data.frame(index=numeric(0),train.rmse.mean=numeric(0),train.rmse.std=numeric(0),\n",
    "                    test.rmse.mean=numeric(0),test.rmse.std=numeric(0))\n",
    "\n",
    "for (i in seq(0,0.99,0.01)){\n",
    "    set.seed(383)\n",
    "     model_xgb_log_cv <- xgb.cv(objective= \"binary:logistic\", eta=i, data = train_xgb_log_mat,eval_metric= \"error\",\n",
    "                                nfold = 5, nrounds = 5, missing=-1,verbose= 0)\n",
    "    xgb_mse_log<-rbind(xgb_mse_log,c(\"index\"=i,lapply( model_xgb_log_cv,function(x) mean(x))))\n",
    "}"
   ]
  },
  {
   "cell_type": "code",
   "execution_count": 80,
   "metadata": {
    "collapsed": false
   },
   "outputs": [
    {
     "data": {
      "text/html": [
       "<table>\n",
       "<thead><tr><th></th><th scope=col>index</th><th scope=col>train.error.mean</th><th scope=col>train.error.std</th><th scope=col>test.error.mean</th><th scope=col>test.error.std</th></tr></thead>\n",
       "<tbody>\n",
       "\t<tr><th scope=row>2</th><td>0.00     </td><td>0.2687690</td><td>0.0030040</td><td>0.2687650</td><td>0.0120120</td></tr>\n",
       "\t<tr><th scope=row>21</th><td>0.01     </td><td>0.2106102</td><td>0.0053150</td><td>0.2681410</td><td>0.0089248</td></tr>\n",
       "\t<tr><th scope=row>3</th><td>0.02     </td><td>0.2093326</td><td>0.0061988</td><td>0.2669412</td><td>0.0091132</td></tr>\n",
       "\t<tr><th scope=row>4</th><td>0.03     </td><td>0.2079380</td><td>0.0070086</td><td>0.2673060</td><td>0.0083570</td></tr>\n",
       "\t<tr><th scope=row>5</th><td>0.04     </td><td>0.2055914</td><td>0.0078950</td><td>0.2664192</td><td>0.0101324</td></tr>\n",
       "\t<tr><th scope=row>6</th><td>0.05     </td><td>0.2041578</td><td>0.0088464</td><td>0.2653764</td><td>0.0110574</td></tr>\n",
       "</tbody>\n",
       "</table>\n"
      ],
      "text/latex": [
       "\\begin{tabular}{r|lllll}\n",
       "  & index & train.error.mean & train.error.std & test.error.mean & test.error.std\\\\\n",
       "\\hline\n",
       "\t2 & 0.00      & 0.2687690 & 0.0030040 & 0.2687650 & 0.0120120\\\\\n",
       "\t21 & 0.01      & 0.2106102 & 0.0053150 & 0.2681410 & 0.0089248\\\\\n",
       "\t3 & 0.02      & 0.2093326 & 0.0061988 & 0.2669412 & 0.0091132\\\\\n",
       "\t4 & 0.03      & 0.2079380 & 0.0070086 & 0.2673060 & 0.0083570\\\\\n",
       "\t5 & 0.04      & 0.2055914 & 0.0078950 & 0.2664192 & 0.0101324\\\\\n",
       "\t6 & 0.05      & 0.2041578 & 0.0088464 & 0.2653764 & 0.0110574\\\\\n",
       "\\end{tabular}\n"
      ],
      "text/markdown": [
       "\n",
       "| <!--/--> | index | train.error.mean | train.error.std | test.error.mean | test.error.std | \n",
       "|---|---|---|---|---|---|\n",
       "| 2 | 0.00      | 0.2687690 | 0.0030040 | 0.2687650 | 0.0120120 | \n",
       "| 21 | 0.01      | 0.2106102 | 0.0053150 | 0.2681410 | 0.0089248 | \n",
       "| 3 | 0.02      | 0.2093326 | 0.0061988 | 0.2669412 | 0.0091132 | \n",
       "| 4 | 0.03      | 0.2079380 | 0.0070086 | 0.2673060 | 0.0083570 | \n",
       "| 5 | 0.04      | 0.2055914 | 0.0078950 | 0.2664192 | 0.0101324 | \n",
       "| 6 | 0.05      | 0.2041578 | 0.0088464 | 0.2653764 | 0.0110574 | \n",
       "\n",
       "\n"
      ],
      "text/plain": [
       "   index train.error.mean train.error.std test.error.mean test.error.std\n",
       "2  0.00  0.2687690        0.0030040       0.2687650       0.0120120     \n",
       "21 0.01  0.2106102        0.0053150       0.2681410       0.0089248     \n",
       "3  0.02  0.2093326        0.0061988       0.2669412       0.0091132     \n",
       "4  0.03  0.2079380        0.0070086       0.2673060       0.0083570     \n",
       "5  0.04  0.2055914        0.0078950       0.2664192       0.0101324     \n",
       "6  0.05  0.2041578        0.0088464       0.2653764       0.0110574     "
      ]
     },
     "metadata": {},
     "output_type": "display_data"
    }
   ],
   "source": [
    "head(xgb_mse_log)"
   ]
  },
  {
   "cell_type": "markdown",
   "metadata": {},
   "source": [
    "The plot below shows the average mean classification error for the prediction of the test set made with different value of eta from 0 to 1. "
   ]
  },
  {
   "cell_type": "code",
   "execution_count": 127,
   "metadata": {
    "collapsed": false
   },
   "outputs": [
    {
     "data": {
      "text/html": [
       "<iframe src=\"plotlyJupyterHTML/xgb_log_eta_mse_plot.html\" width=\"100%\" height=\"400\" id=\"igraph\" scrolling=\"no\" seamless=\"seamless\" frameBorder=\"0\"> </iframe>"
      ]
     },
     "metadata": {},
     "output_type": "display_data"
    }
   ],
   "source": [
    "xgb_log_eta_mse_plot<-plot_ly(xgb_mse_log) %>%\n",
    "add_trace(x=~index,y=~test.error.mean, type = 'scatter',mode = 'lines+markers' )%>%\n",
    "layout(title = 'Value of the mean error during the cross validation of the eta parameter',\n",
    "         xaxis = list(title = 'eta', zeroline = TRUE),\n",
    "         yaxis = list(title = 'rmse'))\n",
    "embed_notebook(xgb_log_eta_mse_plot,file=paste0(\"plotlyJupyterHTML/\",\"xgb_log_eta_mse_plot\",\".html\"))"
   ]
  },
  {
   "cell_type": "code",
   "execution_count": 128,
   "metadata": {
    "collapsed": false
   },
   "outputs": [
    {
     "data": {
      "text/html": [
       "<table>\n",
       "<thead><tr><th></th><th scope=col>index</th><th scope=col>train.error.mean</th><th scope=col>train.error.std</th><th scope=col>test.error.mean</th><th scope=col>test.error.std</th></tr></thead>\n",
       "<tbody>\n",
       "\t<tr><th scope=row>45</th><td>0.44     </td><td>0.1779068</td><td>0.0050786</td><td>0.2552106</td><td>0.0093492</td></tr>\n",
       "</tbody>\n",
       "</table>\n"
      ],
      "text/latex": [
       "\\begin{tabular}{r|lllll}\n",
       "  & index & train.error.mean & train.error.std & test.error.mean & test.error.std\\\\\n",
       "\\hline\n",
       "\t45 & 0.44      & 0.1779068 & 0.0050786 & 0.2552106 & 0.0093492\\\\\n",
       "\\end{tabular}\n"
      ],
      "text/markdown": [
       "\n",
       "| <!--/--> | index | train.error.mean | train.error.std | test.error.mean | test.error.std | \n",
       "|---|\n",
       "| 45 | 0.44      | 0.1779068 | 0.0050786 | 0.2552106 | 0.0093492 | \n",
       "\n",
       "\n"
      ],
      "text/plain": [
       "   index train.error.mean train.error.std test.error.mean test.error.std\n",
       "45 0.44  0.1779068        0.0050786       0.2552106       0.0093492     "
      ]
     },
     "metadata": {},
     "output_type": "display_data"
    }
   ],
   "source": [
    "xgb_mse_log[xgb_mse_log$test.error.mean==min(xgb_mse_log$test.error.mean,na.rm=TRUE),]"
   ]
  },
  {
   "cell_type": "markdown",
   "metadata": {},
   "source": [
    "Since the value of the parameter eta who minimise the mean error is 0.4 that is the value I'll use for the model.\n",
    "\n",
    "### Alpha\n",
    "\n",
    "Alpha is a regularization term use in the linear version of XGBoost. To find the most appropriate value to use in the model, I used the same cross validation process than before."
   ]
  },
  {
   "cell_type": "code",
   "execution_count": 83,
   "metadata": {
    "collapsed": false
   },
   "outputs": [],
   "source": [
    "xgb_mse_log<-data.frame(index=numeric(0),train.rmse.mean=numeric(0),train.rmse.std=numeric(0),\n",
    "                    test.rmse.mean=numeric(0),test.rmse.std=numeric(0))\n",
    "\n",
    "for (i in seq(0,20,0.1)){\n",
    "    set.seed(383)\n",
    "     model_xgb_log_cv <- xgb.cv(objective= \"binary:logistic\", eta=0.44, alpha = i, \n",
    "                                data = train_xgb_log_mat,eval_metric= \"error\",\n",
    "                                nfold = 5, nrounds = 5, missing=-1,verbose= 0)\n",
    "    xgb_mse_log<-rbind(xgb_mse_log,c(\"index\"=i,lapply( model_xgb_log_cv,function(x) mean(x))))\n",
    "}"
   ]
  },
  {
   "cell_type": "code",
   "execution_count": 87,
   "metadata": {
    "collapsed": false
   },
   "outputs": [
    {
     "data": {
      "text/html": [
       "<iframe src=\"plotlyJupyterHTML/xgb_log_mse_alpha_plot.html\" width=\"100%\" height=\"400\" id=\"igraph\" scrolling=\"no\" seamless=\"seamless\" frameBorder=\"0\"> </iframe>"
      ]
     },
     "metadata": {},
     "output_type": "display_data"
    }
   ],
   "source": [
    "xgb_log_alpha_mse_plot<-plot_ly(xgb_mse_log) %>%\n",
    "add_trace(x=~index,y=~test.error.mean, type = 'scatter',mode = 'lines+markers' )%>%\n",
    "layout(title = 'Value of the mean error during the cross validation of the alpha parameter',\n",
    "         xaxis = list(title = 'Alpha', zeroline = TRUE),\n",
    "         yaxis = list(title = 'Mean error'))\n",
    "embed_notebook(xgb_log_alpha_mse_plot,file=paste0(\"plotlyJupyterHTML/\",\"xgb_log_mse_alpha_plot\",\".html\"))"
   ]
  },
  {
   "cell_type": "code",
   "execution_count": 85,
   "metadata": {
    "collapsed": false
   },
   "outputs": [
    {
     "data": {
      "text/html": [
       "<table>\n",
       "<thead><tr><th></th><th scope=col>index</th><th scope=col>train.error.mean</th><th scope=col>train.error.std</th><th scope=col>test.error.mean</th><th scope=col>test.error.std</th></tr></thead>\n",
       "<tbody>\n",
       "\t<tr><th scope=row>40</th><td>3.9      </td><td>0.1948644</td><td>0.0044528</td><td>0.2474418</td><td>0.009387 </td></tr>\n",
       "</tbody>\n",
       "</table>\n"
      ],
      "text/latex": [
       "\\begin{tabular}{r|lllll}\n",
       "  & index & train.error.mean & train.error.std & test.error.mean & test.error.std\\\\\n",
       "\\hline\n",
       "\t40 & 3.9       & 0.1948644 & 0.0044528 & 0.2474418 & 0.009387 \\\\\n",
       "\\end{tabular}\n"
      ],
      "text/markdown": [
       "\n",
       "| <!--/--> | index | train.error.mean | train.error.std | test.error.mean | test.error.std | \n",
       "|---|\n",
       "| 40 | 3.9       | 0.1948644 | 0.0044528 | 0.2474418 | 0.009387  | \n",
       "\n",
       "\n"
      ],
      "text/plain": [
       "   index train.error.mean train.error.std test.error.mean test.error.std\n",
       "40 3.9   0.1948644        0.0044528       0.2474418       0.009387      "
      ]
     },
     "metadata": {},
     "output_type": "display_data"
    }
   ],
   "source": [
    "xgb_mse_log[xgb_mse_log$test.error.mean==min(xgb_mse_log$test.error.mean,na.rm=TRUE),]"
   ]
  },
  {
   "cell_type": "markdown",
   "metadata": {},
   "source": [
    "### Lambda\n",
    "\n",
    "Like alpha, lambda is another regularization parameter that prevent overfitting problem."
   ]
  },
  {
   "cell_type": "code",
   "execution_count": 86,
   "metadata": {
    "collapsed": false
   },
   "outputs": [],
   "source": [
    "xgb_mse_log<-data.frame(index=numeric(0),train.rmse.mean=numeric(0),train.rmse.std=numeric(0),\n",
    "                    test.rmse.mean=numeric(0),test.rmse.std=numeric(0))\n",
    "\n",
    "for (i in seq(0,10,0.1)){\n",
    "    set.seed(383)\n",
    "     model_xgb_log_cv <- xgb.cv(objective= \"binary:logistic\", eta=0.4, alpha = 3.9, lambda=i,\n",
    "                                data = train_xgb_log_mat,eval_metric= \"error\",\n",
    "                                nfold = 5, nrounds = 5, missing=-1,verbose= 0)\n",
    "    xgb_mse_log<-rbind(xgb_mse_log,c(\"index\"=i,lapply( model_xgb_log_cv,function(x) mean(x))))\n",
    "}"
   ]
  },
  {
   "cell_type": "code",
   "execution_count": 88,
   "metadata": {
    "collapsed": false
   },
   "outputs": [
    {
     "data": {
      "text/html": [
       "<table>\n",
       "<thead><tr><th></th><th scope=col>index</th><th scope=col>train.error.mean</th><th scope=col>train.error.std</th><th scope=col>test.error.mean</th><th scope=col>test.error.std</th></tr></thead>\n",
       "<tbody>\n",
       "\t<tr><th scope=row>2</th><td>0.0      </td><td>0.1930528</td><td>0.0035864</td><td>0.2527058</td><td>0.0126518</td></tr>\n",
       "\t<tr><th scope=row>21</th><td>0.1      </td><td>0.1929874</td><td>0.0035914</td><td>0.2517150</td><td>0.0127060</td></tr>\n",
       "\t<tr><th scope=row>3</th><td>0.2      </td><td>0.1932742</td><td>0.0037084</td><td>0.2539572</td><td>0.0130306</td></tr>\n",
       "\t<tr><th scope=row>4</th><td>0.3      </td><td>0.1936132</td><td>0.0035516</td><td>0.2543218</td><td>0.0135720</td></tr>\n",
       "\t<tr><th scope=row>5</th><td>0.4      </td><td>0.1931176</td><td>0.0039812</td><td>0.2530710</td><td>0.0127222</td></tr>\n",
       "\t<tr><th scope=row>6</th><td>0.5      </td><td>0.1939650</td><td>0.0032350</td><td>0.2524460</td><td>0.0115320</td></tr>\n",
       "</tbody>\n",
       "</table>\n"
      ],
      "text/latex": [
       "\\begin{tabular}{r|lllll}\n",
       "  & index & train.error.mean & train.error.std & test.error.mean & test.error.std\\\\\n",
       "\\hline\n",
       "\t2 & 0.0       & 0.1930528 & 0.0035864 & 0.2527058 & 0.0126518\\\\\n",
       "\t21 & 0.1       & 0.1929874 & 0.0035914 & 0.2517150 & 0.0127060\\\\\n",
       "\t3 & 0.2       & 0.1932742 & 0.0037084 & 0.2539572 & 0.0130306\\\\\n",
       "\t4 & 0.3       & 0.1936132 & 0.0035516 & 0.2543218 & 0.0135720\\\\\n",
       "\t5 & 0.4       & 0.1931176 & 0.0039812 & 0.2530710 & 0.0127222\\\\\n",
       "\t6 & 0.5       & 0.1939650 & 0.0032350 & 0.2524460 & 0.0115320\\\\\n",
       "\\end{tabular}\n"
      ],
      "text/markdown": [
       "\n",
       "| <!--/--> | index | train.error.mean | train.error.std | test.error.mean | test.error.std | \n",
       "|---|---|---|---|---|---|\n",
       "| 2 | 0.0       | 0.1930528 | 0.0035864 | 0.2527058 | 0.0126518 | \n",
       "| 21 | 0.1       | 0.1929874 | 0.0035914 | 0.2517150 | 0.0127060 | \n",
       "| 3 | 0.2       | 0.1932742 | 0.0037084 | 0.2539572 | 0.0130306 | \n",
       "| 4 | 0.3       | 0.1936132 | 0.0035516 | 0.2543218 | 0.0135720 | \n",
       "| 5 | 0.4       | 0.1931176 | 0.0039812 | 0.2530710 | 0.0127222 | \n",
       "| 6 | 0.5       | 0.1939650 | 0.0032350 | 0.2524460 | 0.0115320 | \n",
       "\n",
       "\n"
      ],
      "text/plain": [
       "   index train.error.mean train.error.std test.error.mean test.error.std\n",
       "2  0.0   0.1930528        0.0035864       0.2527058       0.0126518     \n",
       "21 0.1   0.1929874        0.0035914       0.2517150       0.0127060     \n",
       "3  0.2   0.1932742        0.0037084       0.2539572       0.0130306     \n",
       "4  0.3   0.1936132        0.0035516       0.2543218       0.0135720     \n",
       "5  0.4   0.1931176        0.0039812       0.2530710       0.0127222     \n",
       "6  0.5   0.1939650        0.0032350       0.2524460       0.0115320     "
      ]
     },
     "metadata": {},
     "output_type": "display_data"
    }
   ],
   "source": [
    "head(xgb_mse_log)"
   ]
  },
  {
   "cell_type": "code",
   "execution_count": 95,
   "metadata": {
    "collapsed": false
   },
   "outputs": [
    {
     "data": {
      "text/html": [
       "<iframe src=\"plotlyJupyterHTML/xgb_log_lambda_plot.html\" width=\"100%\" height=\"400\" id=\"igraph\" scrolling=\"no\" seamless=\"seamless\" frameBorder=\"0\"> </iframe>"
      ]
     },
     "metadata": {},
     "output_type": "display_data"
    }
   ],
   "source": [
    "xgb_log_lambda_mse_plot<-plot_ly(xgb_mse_log) %>%\n",
    "add_trace(x=~index,y=~test.error.mean, type = 'scatter',mode = 'lines+markers' )%>%\n",
    "layout(title = 'Value of the mean error during the cross validation of the lambda parameter',\n",
    "         xaxis = list(title = 'Lambda', zeroline = TRUE),\n",
    "         yaxis = list(title = 'Mean error'))\n",
    "embed_notebook(xgb_log_lambda_mse_plot,file=paste0(\"plotlyJupyterHTML/\",\"xgb_log_lambda_plot\",\".html\"))"
   ]
  },
  {
   "cell_type": "code",
   "execution_count": 96,
   "metadata": {
    "collapsed": false
   },
   "outputs": [
    {
     "data": {
      "text/html": [
       "<table>\n",
       "<thead><tr><th></th><th scope=col>index</th><th scope=col>train.error.mean</th><th scope=col>train.error.std</th><th scope=col>test.error.mean</th><th scope=col>test.error.std</th></tr></thead>\n",
       "<tbody>\n",
       "\t<tr><th scope=row>23</th><td>2.2      </td><td>0.2130214</td><td>0.0051100</td><td>0.2463468</td><td>0.0111840</td></tr>\n",
       "\t<tr><th scope=row>25</th><td>2.4      </td><td>0.2142726</td><td>0.0053868</td><td>0.2463468</td><td>0.0112264</td></tr>\n",
       "</tbody>\n",
       "</table>\n"
      ],
      "text/latex": [
       "\\begin{tabular}{r|lllll}\n",
       "  & index & train.error.mean & train.error.std & test.error.mean & test.error.std\\\\\n",
       "\\hline\n",
       "\t23 & 2.2       & 0.2130214 & 0.0051100 & 0.2463468 & 0.0111840\\\\\n",
       "\t25 & 2.4       & 0.2142726 & 0.0053868 & 0.2463468 & 0.0112264\\\\\n",
       "\\end{tabular}\n"
      ],
      "text/markdown": [
       "\n",
       "| <!--/--> | index | train.error.mean | train.error.std | test.error.mean | test.error.std | \n",
       "|---|---|\n",
       "| 23 | 2.2       | 0.2130214 | 0.0051100 | 0.2463468 | 0.0111840 | \n",
       "| 25 | 2.4       | 0.2142726 | 0.0053868 | 0.2463468 | 0.0112264 | \n",
       "\n",
       "\n"
      ],
      "text/plain": [
       "   index train.error.mean train.error.std test.error.mean test.error.std\n",
       "23 2.2   0.2130214        0.0051100       0.2463468       0.0111840     \n",
       "25 2.4   0.2142726        0.0053868       0.2463468       0.0112264     "
      ]
     },
     "metadata": {},
     "output_type": "display_data"
    }
   ],
   "source": [
    "xgb_mse_log[xgb_mse_log$test.error.mean==min(xgb_mse_log$test.error.mean,na.rm=TRUE),]"
   ]
  },
  {
   "cell_type": "markdown",
   "metadata": {},
   "source": [
    "### gamma \n",
    "\n",
    "This parameter is the minimum loss reduction that need to occur for the partition of a tree. That parameter can take any value greater or equal to 0 and the greater the value, the more conservative the model will be.  "
   ]
  },
  {
   "cell_type": "code",
   "execution_count": 98,
   "metadata": {
    "collapsed": false
   },
   "outputs": [],
   "source": [
    "xgb_mse_log<-data.frame(index=numeric(0),train.rmse.mean=numeric(0),train.rmse.std=numeric(0),\n",
    "                    test.rmse.mean=numeric(0),test.rmse.std=numeric(0))\n",
    "\n",
    "for (i in seq(0,10,0.1)){\n",
    "    set.seed(383)\n",
    "     model_xgb_log_cv <- xgb.cv(objective= \"binary:logistic\", eta=0.4, alpha =3.9, lambda=2.2,\n",
    "                                gamma=i,data = train_xgb_log_mat,eval_metric= \"error\",\n",
    "                                nfold = 5, nrounds = 5, missing=-1,verbose= 0)\n",
    "    xgb_mse_log<-rbind(xgb_mse_log,c(\"index\"=i,lapply( model_xgb_log_cv,function(x) mean(x))))\n",
    "}"
   ]
  },
  {
   "cell_type": "code",
   "execution_count": 99,
   "metadata": {
    "collapsed": false
   },
   "outputs": [
    {
     "data": {
      "text/html": [
       "<iframe src=\"plotlyJupyterHTML/xgb_log_gamma_plot.html\" width=\"100%\" height=\"400\" id=\"igraph\" scrolling=\"no\" seamless=\"seamless\" frameBorder=\"0\"> </iframe>"
      ]
     },
     "metadata": {},
     "output_type": "display_data"
    }
   ],
   "source": [
    "xgb_log_gamma_mse_plot<-plot_ly(xgb_mse_log) %>%\n",
    "add_trace(x=~index,y=~test.error.mean, type = 'scatter',mode = 'lines+markers' )%>%\n",
    "layout(title = 'Value of the mean error during the cross validation of the gamma parameter',\n",
    "         xaxis = list(title = 'Gamma', zeroline = TRUE),\n",
    "         yaxis = list(title = 'Mean error'))\n",
    "embed_notebook(xgb_log_gamma_mse_plot,file=paste0(\"plotlyJupyterHTML/\",\"xgb_log_gamma_plot\",\".html\"))"
   ]
  },
  {
   "cell_type": "code",
   "execution_count": 100,
   "metadata": {
    "collapsed": false
   },
   "outputs": [
    {
     "data": {
      "text/html": [
       "<table>\n",
       "<thead><tr><th></th><th scope=col>index</th><th scope=col>train.error.mean</th><th scope=col>train.error.std</th><th scope=col>test.error.mean</th><th scope=col>test.error.std</th></tr></thead>\n",
       "<tbody>\n",
       "\t<tr><th scope=row>56</th><td>5.5      </td><td>0.2236188</td><td>0.0056596</td><td>0.2468158</td><td>0.0117578</td></tr>\n",
       "</tbody>\n",
       "</table>\n"
      ],
      "text/latex": [
       "\\begin{tabular}{r|lllll}\n",
       "  & index & train.error.mean & train.error.std & test.error.mean & test.error.std\\\\\n",
       "\\hline\n",
       "\t56 & 5.5       & 0.2236188 & 0.0056596 & 0.2468158 & 0.0117578\\\\\n",
       "\\end{tabular}\n"
      ],
      "text/markdown": [
       "\n",
       "| <!--/--> | index | train.error.mean | train.error.std | test.error.mean | test.error.std | \n",
       "|---|\n",
       "| 56 | 5.5       | 0.2236188 | 0.0056596 | 0.2468158 | 0.0117578 | \n",
       "\n",
       "\n"
      ],
      "text/plain": [
       "   index train.error.mean train.error.std test.error.mean test.error.std\n",
       "56 5.5   0.2236188        0.0056596       0.2468158       0.0117578     "
      ]
     },
     "metadata": {},
     "output_type": "display_data"
    }
   ],
   "source": [
    "xgb_mse_log[xgb_mse_log$test.error.mean==min(xgb_mse_log$test.error.mean,na.rm=TRUE),]"
   ]
  },
  {
   "cell_type": "markdown",
   "metadata": {},
   "source": [
    "### max_depth"
   ]
  },
  {
   "cell_type": "markdown",
   "metadata": {},
   "source": [
    "As his name indicates that a parameter set the maximum depth of each tree. This parameter takes value greater or equal to 1."
   ]
  },
  {
   "cell_type": "code",
   "execution_count": 101,
   "metadata": {
    "collapsed": false
   },
   "outputs": [],
   "source": [
    "xgb_mse_log<-data.frame(index=numeric(0),train.rmse.mean=numeric(0),train.rmse.std=numeric(0),\n",
    "                    test.rmse.mean=numeric(0),test.rmse.std=numeric(0))\n",
    "\n",
    "for (i in seq(1,50,1)){\n",
    "    set.seed(383)\n",
    "     model_xgb_log_cv <- xgb.cv(objective= \"binary:logistic\", eta=0.4, alpha =3.9, lambda=2.2,\n",
    "                                gamma=5.5,max_depth=i,data = train_xgb_log_mat,eval_metric= \"error\",\n",
    "                                nfold = 5, nrounds = 5, missing=-1,verbose= 0)\n",
    "    xgb_mse_log<-rbind(xgb_mse_log,c(\"index\"=i,lapply( model_xgb_log_cv,function(x) mean(x))))\n",
    "}"
   ]
  },
  {
   "cell_type": "code",
   "execution_count": 102,
   "metadata": {
    "collapsed": false
   },
   "outputs": [
    {
     "data": {
      "text/html": [
       "<iframe src=\"plotlyJupyterHTML/xgb_log_max_depth_plot.html\" width=\"100%\" height=\"400\" id=\"igraph\" scrolling=\"no\" seamless=\"seamless\" frameBorder=\"0\"> </iframe>"
      ]
     },
     "metadata": {},
     "output_type": "display_data"
    }
   ],
   "source": [
    "xgb_log_max_depth_mse_plot<-plot_ly(xgb_mse_log) %>%\n",
    "add_trace(x=~index,y=~test.error.mean, type = 'scatter',mode = 'lines+markers' )%>%\n",
    "layout(title = 'Value of the mean error during the cross validation of the max_depth parameter',\n",
    "         xaxis = list(title = 'max_depth', zeroline = TRUE),\n",
    "         yaxis = list(title = 'Mean error'))\n",
    "embed_notebook(xgb_log_max_depth_mse_plot,file=paste0(\"plotlyJupyterHTML/\",\"xgb_log_max_depth_plot\",\".html\"))"
   ]
  },
  {
   "cell_type": "code",
   "execution_count": 103,
   "metadata": {
    "collapsed": false
   },
   "outputs": [
    {
     "data": {
      "text/html": [
       "<table>\n",
       "<thead><tr><th></th><th scope=col>index</th><th scope=col>train.error.mean</th><th scope=col>train.error.std</th><th scope=col>test.error.mean</th><th scope=col>test.error.std</th></tr></thead>\n",
       "<tbody>\n",
       "\t<tr><th scope=row>6</th><td>6        </td><td>0.2236188</td><td>0.0056596</td><td>0.2468158</td><td>0.0117578</td></tr>\n",
       "</tbody>\n",
       "</table>\n"
      ],
      "text/latex": [
       "\\begin{tabular}{r|lllll}\n",
       "  & index & train.error.mean & train.error.std & test.error.mean & test.error.std\\\\\n",
       "\\hline\n",
       "\t6 & 6         & 0.2236188 & 0.0056596 & 0.2468158 & 0.0117578\\\\\n",
       "\\end{tabular}\n"
      ],
      "text/markdown": [
       "\n",
       "| <!--/--> | index | train.error.mean | train.error.std | test.error.mean | test.error.std | \n",
       "|---|\n",
       "| 6 | 6         | 0.2236188 | 0.0056596 | 0.2468158 | 0.0117578 | \n",
       "\n",
       "\n"
      ],
      "text/plain": [
       "  index train.error.mean train.error.std test.error.mean test.error.std\n",
       "6 6     0.2236188        0.0056596       0.2468158       0.0117578     "
      ]
     },
     "metadata": {},
     "output_type": "display_data"
    }
   ],
   "source": [
    "xgb_mse_log[xgb_mse_log$test.error.mean==min(xgb_mse_log$test.error.mean,na.rm=TRUE),]"
   ]
  },
  {
   "cell_type": "markdown",
   "metadata": {},
   "source": [
    "As 6 is the default value of the parameter max_depth and that value minimise the mean error during the cross validation, I didn't change the default value.\n",
    "\n",
    "### min_child_weight\n",
    "\n",
    "This parameter determines the minimum weight that can have a tree after a partition during the creation of the model. Before each partition, the algorithm verify if the resulting child tree would have a weight smaller than that value and if it's the case, he doesn't do the partition. This parameter can take values greater than 0 and the bigger the value the more conservative the model will be."
   ]
  },
  {
   "cell_type": "code",
   "execution_count": 104,
   "metadata": {
    "collapsed": false
   },
   "outputs": [],
   "source": [
    "xgb_mse_log<-data.frame(index=numeric(0),train.rmse.mean=numeric(0),train.rmse.std=numeric(0),\n",
    "                    test.rmse.mean=numeric(0),test.rmse.std=numeric(0))\n",
    "\n",
    "for (i in seq(0,150,0.5)){\n",
    "    set.seed(383)\n",
    "     model_xgb_log_cv <- xgb.cv(objective= \"binary:logistic\", eta=0.4, alpha =3.9, lambda=2.2,\n",
    "                                gamma=5.5,min_child_weight=i,data = train_xgb_log_mat,eval_metric= \"error\",\n",
    "                                nfold = 5, nrounds = 5, missing=-1,verbose= 0)\n",
    "    xgb_mse_log<-rbind(xgb_mse_log,c(\"index\"=i,lapply( model_xgb_log_cv,function(x) mean(x))))\n",
    "}"
   ]
  },
  {
   "cell_type": "code",
   "execution_count": 105,
   "metadata": {
    "collapsed": false
   },
   "outputs": [
    {
     "data": {
      "text/html": [
       "<iframe src=\"plotlyJupyterHTML/xgb_log_min_child_weight_expl.html\" width=\"100%\" height=\"400\" id=\"igraph\" scrolling=\"no\" seamless=\"seamless\" frameBorder=\"0\"> </iframe>"
      ]
     },
     "metadata": {},
     "output_type": "display_data"
    }
   ],
   "source": [
    "xgb_log_min_child_weight_expl<-plot_ly(xgb_mse_log) %>%\n",
    "add_trace(x=~index,y=~test.error.mean, type = 'scatter',mode = 'lines+markers' )%>%\n",
    "layout(title = 'Value of the mean error during the cross validation of the min_child_weight parameter',\n",
    "         xaxis = list(title = 'min_child_weight', zeroline = TRUE),\n",
    "         yaxis = list(title = 'Mean error'))\n",
    "embed_notebook(xgb_log_min_child_weight_expl,file=paste0(\"plotlyJupyterHTML/\",\"xgb_log_min_child_weight_expl\",\".html\"))"
   ]
  },
  {
   "cell_type": "markdown",
   "metadata": {},
   "source": [
    "We see that there a minimum around min_child_weight=0, so I focus on this area of the graph."
   ]
  },
  {
   "cell_type": "code",
   "execution_count": 106,
   "metadata": {
    "collapsed": false
   },
   "outputs": [],
   "source": [
    "xgb_mse_log<-data.frame(index=numeric(0),train.rmse.mean=numeric(0),train.rmse.std=numeric(0),\n",
    "                    test.rmse.mean=numeric(0),test.rmse.std=numeric(0))\n",
    "\n",
    "for (i in seq(0,5,0.1)){\n",
    "    set.seed(383)\n",
    "     model_xgb_log_cv <- xgb.cv(objective= \"binary:logistic\", eta=0.4, alpha =3.9, lambda=2.2,\n",
    "                                gamma=0.1,min_child_weight=i,data = train_xgb_log_mat,eval_metric= \"error\",\n",
    "                                nfold = 5, nrounds = 5, missing=-1,verbose= 0)\n",
    "    xgb_mse_log<-rbind(xgb_mse_log,c(\"index\"=i,lapply( model_xgb_log_cv,function(x) mean(x))))\n",
    "}"
   ]
  },
  {
   "cell_type": "code",
   "execution_count": 107,
   "metadata": {
    "collapsed": false
   },
   "outputs": [
    {
     "data": {
      "text/html": [
       "<iframe src=\"plotlyJupyterHTML/xgb_log_min_child_weight_plot.html\" width=\"100%\" height=\"400\" id=\"igraph\" scrolling=\"no\" seamless=\"seamless\" frameBorder=\"0\"> </iframe>"
      ]
     },
     "metadata": {},
     "output_type": "display_data"
    }
   ],
   "source": [
    "xgb_log_min_child_weight_plot<-plot_ly(xgb_mse_log) %>%\n",
    "add_trace(x=~index,y=~test.error.mean, type = 'scatter',mode = 'lines+markers' )%>%\n",
    "layout(title = 'Value of the mean error during the cross validation of the min_child_weight parameter',\n",
    "         xaxis = list(title = 'min_child_weight', zeroline = TRUE),\n",
    "         yaxis = list(title = 'Mean error'))\n",
    "embed_notebook(xgb_log_min_child_weight_plot,file=paste0(\"plotlyJupyterHTML/\",\"xgb_log_min_child_weight_plot\",\".html\"))"
   ]
  },
  {
   "cell_type": "code",
   "execution_count": 108,
   "metadata": {
    "collapsed": false
   },
   "outputs": [
    {
     "data": {
      "text/html": [
       "<table>\n",
       "<thead><tr><th></th><th scope=col>index</th><th scope=col>train.error.mean</th><th scope=col>train.error.std</th><th scope=col>test.error.mean</th><th scope=col>test.error.std</th></tr></thead>\n",
       "<tbody>\n",
       "\t<tr><th scope=row>17</th><td>1.6      </td><td>0.1959332</td><td>0.0042286</td><td>0.2496824</td><td>0.01162  </td></tr>\n",
       "</tbody>\n",
       "</table>\n"
      ],
      "text/latex": [
       "\\begin{tabular}{r|lllll}\n",
       "  & index & train.error.mean & train.error.std & test.error.mean & test.error.std\\\\\n",
       "\\hline\n",
       "\t17 & 1.6       & 0.1959332 & 0.0042286 & 0.2496824 & 0.01162  \\\\\n",
       "\\end{tabular}\n"
      ],
      "text/markdown": [
       "\n",
       "| <!--/--> | index | train.error.mean | train.error.std | test.error.mean | test.error.std | \n",
       "|---|\n",
       "| 17 | 1.6       | 0.1959332 | 0.0042286 | 0.2496824 | 0.01162   | \n",
       "\n",
       "\n"
      ],
      "text/plain": [
       "   index train.error.mean train.error.std test.error.mean test.error.std\n",
       "17 1.6   0.1959332        0.0042286       0.2496824       0.01162       "
      ]
     },
     "metadata": {},
     "output_type": "display_data"
    }
   ],
   "source": [
    "xgb_mse_log[xgb_mse_log$test.error.mean==min(xgb_mse_log$test.error.mean,na.rm=TRUE),]"
   ]
  },
  {
   "cell_type": "markdown",
   "metadata": {},
   "source": [
    "Since all those values would minimise the mean classification error, I used min_child_weight=1.6.\n",
    "\n",
    "### max_delta_step\n",
    "\n",
    "max_delta_step is the maximum variation of the weight that we allow between two iterations of the algorithm. This value could be 0 (no constraint) or greater (more conservative).  "
   ]
  },
  {
   "cell_type": "code",
   "execution_count": 109,
   "metadata": {
    "collapsed": false
   },
   "outputs": [],
   "source": [
    "xgb_mse_log<-data.frame(index=numeric(0),train.rmse.mean=numeric(0),train.rmse.std=numeric(0),\n",
    "                    test.rmse.mean=numeric(0),test.rmse.std=numeric(0))\n",
    "\n",
    "for (i in seq(0,10,0.1)){\n",
    "    set.seed(383)\n",
    "     model_xgb_log_cv <- xgb.cv(objective= \"binary:logistic\", eta=0.4, alpha =3.9, lambda=2.2,\n",
    "                                gamma=0.1,min_child_weight=1.6,max_delta_step=i,data = train_xgb_log_mat,eval_metric= \"error\",\n",
    "                                nfold = 5, nrounds = 5, missing=-1,verbose= 0)\n",
    "    xgb_mse_log<-rbind(xgb_mse_log,c(\"index\"=i,lapply( model_xgb_log_cv,function(x) mean(x))))\n",
    "}"
   ]
  },
  {
   "cell_type": "code",
   "execution_count": 110,
   "metadata": {
    "collapsed": false
   },
   "outputs": [
    {
     "data": {
      "text/html": [
       "<iframe src=\"plotlyJupyterHTML/xgb_log_max_delta_step_plot.html\" width=\"100%\" height=\"400\" id=\"igraph\" scrolling=\"no\" seamless=\"seamless\" frameBorder=\"0\"> </iframe>"
      ]
     },
     "metadata": {},
     "output_type": "display_data"
    }
   ],
   "source": [
    "xgb_log_max_delta_step_plot<-plot_ly(xgb_mse_log) %>%\n",
    "add_trace(x=~index,y=~test.error.mean, type = 'scatter',mode = 'lines+markers' )%>%\n",
    "layout(title = 'Value of the mean error during the cross validation of the max_delta_step parameter',\n",
    "         xaxis = list(title = 'max_delta_step', zeroline = TRUE),\n",
    "         yaxis = list(title = 'Mean error'))\n",
    "embed_notebook(xgb_log_max_delta_step_plot,file=paste0(\"plotlyJupyterHTML/\",\"xgb_log_max_delta_step_plot\",\".html\"))"
   ]
  },
  {
   "cell_type": "markdown",
   "metadata": {},
   "source": [
    "Since the default value of the parameter gives the minimum me an error, I won't modify this value in the function.\n",
    "### subsample\n",
    "This is the ratio of the sample during the training of the model. This parameter can take values between 0 and 1 (included)."
   ]
  },
  {
   "cell_type": "code",
   "execution_count": 111,
   "metadata": {
    "collapsed": false
   },
   "outputs": [],
   "source": [
    "xgb_mse_log<-data.frame(index=numeric(0),train.rmse.mean=numeric(0),train.rmse.std=numeric(0),\n",
    "                    test.rmse.mean=numeric(0),test.rmse.std=numeric(0))\n",
    "\n",
    "for (i in seq(0,1,0.01)){\n",
    "    set.seed(383)\n",
    "     model_xgb_log_cv <- xgb.cv(objective= \"binary:logistic\", eta=0.4, alpha =3.9, lambda=2.2,\n",
    "                                gamma=0.1,min_child_weight=1.6,max_delta_step=1.1,min_child_weight=62, \n",
    "                                subsample=i,data = train_xgb_log_mat,\n",
    "                                eval_metric= \"error\",nfold = 5, nrounds = 5, missing=-1,verbose= 0)\n",
    "    xgb_mse_log<-rbind(xgb_mse_log,c(\"index\"=i,lapply( model_xgb_log_cv,function(x) mean(x))))\n",
    "}"
   ]
  },
  {
   "cell_type": "code",
   "execution_count": 112,
   "metadata": {
    "collapsed": false
   },
   "outputs": [
    {
     "data": {
      "text/html": [
       "<iframe src=\"plotlyJupyterHTML/xgb_log_subsample_plot.html\" width=\"100%\" height=\"400\" id=\"igraph\" scrolling=\"no\" seamless=\"seamless\" frameBorder=\"0\"> </iframe>"
      ]
     },
     "metadata": {},
     "output_type": "display_data"
    }
   ],
   "source": [
    "xgb_log_subsample_plot<-plot_ly(xgb_mse_log) %>%\n",
    "add_trace(x=~index,y=~test.error.mean, type = 'scatter',mode = 'lines+markers' )%>%\n",
    "layout(title = 'Value of the mean error during the cross validation of the subsample parameter',\n",
    "         xaxis = list(title = 'subsample', zeroline = TRUE),\n",
    "         yaxis = list(title = 'Mean error'))\n",
    "embed_notebook(xgb_log_subsample_plot,file=paste0(\"plotlyJupyterHTML/\",\"xgb_log_subsample_plot\",\".html\"))"
   ]
  },
  {
   "cell_type": "code",
   "execution_count": 114,
   "metadata": {
    "collapsed": false
   },
   "outputs": [
    {
     "data": {
      "text/html": [
       "<table>\n",
       "<thead><tr><th></th><th scope=col>index</th><th scope=col>train.error.mean</th><th scope=col>train.error.std</th><th scope=col>test.error.mean</th><th scope=col>test.error.std</th></tr></thead>\n",
       "<tbody>\n",
       "\t<tr><th scope=row>98</th><td>0.97     </td><td>0.2397416</td><td>0.0031538</td><td>0.2485894</td><td>0.0095586</td></tr>\n",
       "</tbody>\n",
       "</table>\n"
      ],
      "text/latex": [
       "\\begin{tabular}{r|lllll}\n",
       "  & index & train.error.mean & train.error.std & test.error.mean & test.error.std\\\\\n",
       "\\hline\n",
       "\t98 & 0.97      & 0.2397416 & 0.0031538 & 0.2485894 & 0.0095586\\\\\n",
       "\\end{tabular}\n"
      ],
      "text/markdown": [
       "\n",
       "| <!--/--> | index | train.error.mean | train.error.std | test.error.mean | test.error.std | \n",
       "|---|\n",
       "| 98 | 0.97      | 0.2397416 | 0.0031538 | 0.2485894 | 0.0095586 | \n",
       "\n",
       "\n"
      ],
      "text/plain": [
       "   index train.error.mean train.error.std test.error.mean test.error.std\n",
       "98 0.97  0.2397416        0.0031538       0.2485894       0.0095586     "
      ]
     },
     "metadata": {},
     "output_type": "display_data"
    }
   ],
   "source": [
    "xgb_mse_log[xgb_mse_log$test.error.mean==min(xgb_mse_log$test.error.mean,na.rm=TRUE),]"
   ]
  },
  {
   "cell_type": "markdown",
   "metadata": {},
   "source": [
    "Now that I know which value of the hyperparameter to use, I can test the new model."
   ]
  },
  {
   "cell_type": "code",
   "execution_count": 129,
   "metadata": {
    "collapsed": false
   },
   "outputs": [],
   "source": [
    "param_tune <- list(     objective= \"binary:logistic\", \n",
    "                        eta=0.4,\n",
    "                        alpha = 3.9, \n",
    "                        lambda=2.2,\n",
    "                        gamma=0.1, \n",
    "                        min_child_weight=1.6,\n",
    "                        max_delta_step=1.1,\n",
    "                        min_child_weight=62,\n",
    "                        subsample=0.97, \n",
    "                        colsample_bytree=1                \n",
    "                )"
   ]
  },
  {
   "cell_type": "code",
   "execution_count": 130,
   "metadata": {
    "collapsed": false
   },
   "outputs": [],
   "source": [
    "set.seed(383)\n",
    "model_xgb_log_tune <- xgb.train(    params              = param_tune, \n",
    "                                    data                = train_xgb_log_mat, \n",
    "                                    nrounds             = 500, \n",
    "                                    eval_metric         = \"error\", \n",
    "                                    missing             =-1,\n",
    "                                    verbose             = 0,\n",
    "                                    maximize            = FALSE)"
   ]
  },
  {
   "cell_type": "code",
   "execution_count": 136,
   "metadata": {
    "collapsed": false
   },
   "outputs": [
    {
     "data": {},
     "metadata": {},
     "output_type": "display_data"
    },
    {
     "data": {
      "image/png": "[encoded data removed]",
      "text/plain": [
       "plot without title"
      ]
     },
     "metadata": {},
     "output_type": "display_data"
    }
   ],
   "source": [
    "importance_matrix <- xgb.importance(dimnames(train_xgb_log[,!c(\"profitable\",\"profit\"),with=FALSE])[[2]],\n",
    "                                    model =model_xgb_log_tune)\n",
    "xgb.plot.importance(importance_matrix[1:20])"
   ]
  },
  {
   "cell_type": "markdown",
   "metadata": {},
   "source": [
    "We can see the previous success of a director is the most important factor for the profitability of a movie, follow by the budget of the movie, then by the previous success of the main actor. Let's see if the model is able to classify effectively the movie in the test data set."
   ]
  },
  {
   "cell_type": "code",
   "execution_count": 131,
   "metadata": {
    "collapsed": false
   },
   "outputs": [],
   "source": [
    "prediction<-data.frame(profit=test_xgb_log$profitable)\n",
    "prediction$output<-NA"
   ]
  },
  {
   "cell_type": "code",
   "execution_count": 132,
   "metadata": {
    "collapsed": false
   },
   "outputs": [],
   "source": [
    "for (rows in split(1:nrow(test_xgb), ceiling((1:nrow(test_xgb))/10000))) {\n",
    "    prediction[rows, \"output\"] <- predict(model_xgb_log_tune, test_xgb_log_mat)\n",
    "    }"
   ]
  },
  {
   "cell_type": "code",
   "execution_count": 133,
   "metadata": {
    "collapsed": false
   },
   "outputs": [
    {
     "data": {
      "text/plain": [
       "   \n",
       "      0   1\n",
       "  0 560  59\n",
       "  1 174  70"
      ]
     },
     "metadata": {},
     "output_type": "display_data"
    }
   ],
   "source": [
    "prediction$pred<-0\n",
    "prediction[which(prediction$output>=0.5),\"pred\"]<-1\n",
    "prediction$index<-seq.int(nrow(prediction))\n",
    "prediction<-prediction[!is.na(test$gross_2016),]\n",
    "\n",
    "result<-table(prediction$profit,prediction$pred)\n",
    "result"
   ]
  },
  {
   "cell_type": "code",
   "execution_count": 134,
   "metadata": {
    "collapsed": false
   },
   "outputs": [
    {
     "name": "stdout",
     "output_type": "stream",
     "text": [
      "[1] \"Accuracy: 0.730011587485516\"\n",
      "[1] \"Precision: 0.286885245901639\"\n",
      "[1] \"Recall: 0.542635658914729\"\n"
     ]
    }
   ],
   "source": [
    "print(paste0(\"Accuracy: \",(result[1,1]+result[2,2])/sum(result)))\n",
    "print(paste0(\"Precision: \",(result[2,2])/(result[2,2]+result[2,1])))\n",
    "print(paste0(\"Recall: \",(result[2,2])/(result[2,2]+result[1,2])))"
   ]
  },
  {
   "cell_type": "markdown",
   "metadata": {},
   "source": [
    "The tuning help improve the precision of the model. "
   ]
  },
  {
   "cell_type": "code",
   "execution_count": 439,
   "metadata": {
    "collapsed": false
   },
   "outputs": [
    {
     "data": {
      "text/html": [
       "TRUE"
      ],
      "text/latex": [
       "TRUE"
      ],
      "text/markdown": [
       "TRUE"
      ],
      "text/plain": [
       "[1] TRUE"
      ]
     },
     "metadata": {},
     "output_type": "display_data"
    }
   ],
   "source": [
    "xgb.save(model_xgb_log,fname=\"model_xgb_log\")"
   ]
  },
  {
   "cell_type": "markdown",
   "metadata": {},
   "source": [
    "# Conclusion\n",
    "\n",
    "We saw that the regression algorithms were not really accurate in predicting the exact amount of money a movie would make at the box-office, but that the XGBoost algorithm is quite accurate when answering the broader question \"Will a movie be profitable or not\". \n",
    "\n",
    "Part of the reason why the regression algorithm did poorly is because the box-office is very volatile, but also because some important variables were not available in our data set. For example, the marketing budget is not a value disclosed by the movie studios and is a really important factor in the success of a movie. The same thing can be said of the date of release of a movie, the number of movie release that same week, etc. Having access to those data would greatly improve the regression model.\n",
    "\n",
    "In the context where some important variables are not available, simplifying the model and focusing on the profitability of the movie proved to be a great strategy. The above output shows us that near 73% of the observations are correctly labelled by the model. That is 30% of the profitable movie are correctly labelled and near 90% of the non-profitable movie is correctly labelled."
   ]
  }
 ],
 "metadata": {
  "anaconda-cloud": {},
  "kernelspec": {
   "display_name": "R",
   "language": "R",
   "name": "ir"
  },
  "language_info": {
   "codemirror_mode": "r",
   "file_extension": ".r",
   "mimetype": "text/x-r-source",
   "name": "R",
   "pygments_lexer": "r",
   "version": "3.2.5"
  }
 },
 "nbformat": 4,
 "nbformat_minor": 1
}
