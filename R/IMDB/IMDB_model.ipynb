{
 "cells": [
  {
   "cell_type": "markdown",
   "metadata": {},
   "source": [
    "# IMDB part IV : the final chapter\n",
    "\n",
    "In part 1, 2 and 3 of this series of post I cleaned, gathered and explored a data set of 5000 movies taken from IMDB by the Kaggle user deepMatrix. Now I will apply three different machine learning algorithm to create a model which will predict the profitability of a movie by looking at features that are available in pre-production. \n",
    "\n",
    "In the first part of this article, I will use the support machine vector algorithm, the XGBoost algorithm and a simple neural network to predict the revenue a movie will make at the American box-office. After using those algorithms in a regression context, I'll use them to label the movie either profitable or non-profitable. Using those algorithms in both context will be a good occasion to talk about the limitation of each and how the formulation of a problem can affect the performance of a model.\n",
    "\n",
    "As usual, the first thing I do is load the necessary library and the data set."
   ]
  },
  {
   "cell_type": "code",
   "execution_count": 2,
   "metadata": {
    "collapsed": false
   },
   "outputs": [],
   "source": [
    "library(dplyr)\n",
    "library(data.table)\n",
    "library(bit64)\n",
    "library(plotly)\n",
    "library(corrplot)\n",
    "options(scipen=999)\n",
    "library(xgboost)\n",
    "library(psych)\n",
    "library(e1071)\n",
    "library(neuralnet)"
   ]
  },
  {
   "cell_type": "code",
   "execution_count": 3,
   "metadata": {
    "collapsed": false
   },
   "outputs": [],
   "source": [
    "movies <- fread(\"movie_exploration.csv\",stringsAsFactors = F)"
   ]
  },
  {
   "cell_type": "markdown",
   "metadata": {},
   "source": [
    "Then I choose the variables I could use in the model and classify them by type. Remember that some variables in the data set are the measure of phenomenons who should happen after the release of the movie, so they are useless for my model and I don't list them."
   ]
  },
  {
   "cell_type": "code",
   "execution_count": 3,
   "metadata": {
    "collapsed": false
   },
   "outputs": [],
   "source": [
    "cont_var<-names(movies[,c(\"duration\",\"director_facebook_likes\",\"actor_3_facebook_likes\",\"actor_1_facebook_likes\",\n",
    "                           \"cast_total_facebook_likes\",\"facenumber_in_poster\",\"actor_2_facebook_likes\",\"budget_2016\",\n",
    "                          \"profit\",\"gross_2016\",\"dir_mean_gross\",\"act_1_mean_gross\",\"act_2_mean_gross\",\"act_3_mean_gross\")])\n",
    "\n",
    "cath_var<-names(movies[,c(\"color\",\"language\",\"country\",\"content_rating\",\"title_year\",\"aspect_ratio\")])\n",
    "\n",
    "genre_var<-names(movies[,c(\"genres_Action\",\"genres_Adventure\",\"genres_Animation\",\"genres_Biography\",\"genres_Comedy\",\n",
    "                        \"genres_Crime\",\"genres_Documentary\",\"genres_Drama\",\"genres_Family\",\"genres_Fantasy\",\"genres_Film_Noir\",\n",
    "                        \"genres_Game_Show\",\"genres_History\",\"genres_Horror\",\"genres_Music\",\"genres_Musical\",\"genres_Mystery\",\n",
    "                        \"genres_News\",\"genres_Reality_TV\",\"genres_Romance\",\"genres_Sci_Fi\",\"genres_Short\",\"genres_Sport\",\n",
    "                        \"genres_Thriller\",\"genres_War\",\"genres_Western\")])"
   ]
  },
  {
   "cell_type": "markdown",
   "metadata": {},
   "source": [
    "Since most functions in R can't handle the categorical variable, I coded them in dummy variable, like I did for the genre variable."
   ]
  },
  {
   "cell_type": "code",
   "execution_count": 4,
   "metadata": {
    "collapsed": false
   },
   "outputs": [],
   "source": [
    "for (f in cath_var) {\n",
    "    movies <- cbind(movies, dummy.code(movies[[f]]))\n",
    "}"
   ]
  },
  {
   "cell_type": "markdown",
   "metadata": {},
   "source": [
    "I created two sets of sample to train and test the different model. When needed, I will split the train data set to cross validate the model."
   ]
  },
  {
   "cell_type": "code",
   "execution_count": 5,
   "metadata": {
    "collapsed": true
   },
   "outputs": [],
   "source": [
    "set.seed(383)\n",
    "row_sample<-sample(1:nrow(movies),0.8*nrow(movies),replace=FALSE)\n",
    "train<-movies[row_sample]\n",
    "test<-movies[!row_sample]"
   ]
  },
  {
   "cell_type": "markdown",
   "metadata": {},
   "source": [
    "# Regression\n",
    "## SVM\n",
    "\n",
    "The first algorithm I'll use is the support vector machine. I choose this algorithm since it's pretty versatile, capable of doing linear and non-linear regression and it's quite fast. So it's a perfect algorithm to do a base model. \n",
    "\n",
    "Since the efficiency of the SVM algorithm decrease with the number of dimensions of our model, I started by making a simple model with only a handful of variables and then made another more complex to see how what is the optimal number of variable to include in the model. The variable used are the one who had a correlation coefficient of at least 0.2 with the \"gross_2016\" variable. "
   ]
  },
  {
   "cell_type": "code",
   "execution_count": 14,
   "metadata": {
    "collapsed": false
   },
   "outputs": [],
   "source": [
    "base.var<-names(movies[,c(\"duration\",\"director_facebook_likes\",\"actor_3_facebook_likes\",\"budget_2016\",\n",
    "                          \"dir_mean_gross\",\"act_1_mean_gross\",\"act_2_mean_gross\",\"act_3_mean_gross\", \"gross_2016\")])\n",
    "train.svm.base<-train[,base.var,with=FALSE]\n",
    "test.svm.base<-test[,base.var,with=FALSE]\n",
    "\n",
    "train.svm.base<-train.svm.base[complete.cases(train.svm.base)]\n",
    "test.svm.base<-test.svm.base[complete.cases(test.svm.base)]"
   ]
  },
  {
   "cell_type": "markdown",
   "metadata": {
    "collapsed": true
   },
   "source": [
    "Since the R function can scale the continuous variables, I can pass them directly as an argument without normalization."
   ]
  },
  {
   "cell_type": "code",
   "execution_count": 15,
   "metadata": {
    "collapsed": false
   },
   "outputs": [],
   "source": [
    "model.svm.base <- svm(gross_2016~.,  scale = TRUE, data = train.svm.base)"
   ]
  },
  {
   "cell_type": "code",
   "execution_count": 16,
   "metadata": {
    "collapsed": false
   },
   "outputs": [],
   "source": [
    "resultats.svm.base <- predict(object = model.svm.base, newdata = train.svm.base)"
   ]
  },
  {
   "cell_type": "code",
   "execution_count": 17,
   "metadata": {
    "collapsed": false
   },
   "outputs": [
    {
     "name": "stdout",
     "output_type": "stream",
     "text": [
      " Named num [1:2818] 139158295 33673405 14807203 32264724 78546455 ...\n",
      " - attr(*, \"names\")= chr [1:2818] \"1\" \"2\" \"3\" \"4\" ...\n"
     ]
    }
   ],
   "source": [
    "str(resultats.svm.base)"
   ]
  },
  {
   "cell_type": "markdown",
   "metadata": {},
   "source": [
    "I chose the root mean square error to measure the difference between the real values and our model prediction. R doesn't provide a function to calculate the rmse so I have written my own."
   ]
  },
  {
   "cell_type": "code",
   "execution_count": 9,
   "metadata": {
    "collapsed": true
   },
   "outputs": [],
   "source": [
    "rmse <- function(error)\n",
    "{\n",
    "    sqrt(mean(error^2,na.rm=TRUE))\n",
    "}"
   ]
  },
  {
   "cell_type": "code",
   "execution_count": 20,
   "metadata": {
    "collapsed": false
   },
   "outputs": [
    {
     "data": {
      "text/html": [
       "71758341.3625101"
      ],
      "text/latex": [
       "71758341.3625101"
      ],
      "text/markdown": [
       "71758341.3625101"
      ],
      "text/plain": [
       "[1] 71758341"
      ]
     },
     "metadata": {},
     "output_type": "display_data"
    }
   ],
   "source": [
    "error <- train.svm.base$gross_2016 - resultats.svm.base\n",
    "rmse(error) "
   ]
  },
  {
   "cell_type": "markdown",
   "metadata": {},
   "source": [
    "After doing a base model with the defaul parameter, I now must tune the model by choosing the best value of the parameter epsilon and the cost in the Lagrange transformation. Choosing a good value for those parameter will help the model fit the data without overfitting. I looked at the value of epsilon between 0 and 1 by increment of 0.1 and the cost value of 4 and 8. If needed, I'll look at other values."
   ]
  },
  {
   "cell_type": "code",
   "execution_count": 23,
   "metadata": {
    "collapsed": false
   },
   "outputs": [
    {
     "name": "stdout",
     "output_type": "stream",
     "text": [
      "\n",
      "Parameter tuning of 'svm':\n",
      "\n",
      "- sampling method: 10-fold cross validation \n",
      "\n",
      "- best parameters:\n",
      " epsilon cost\n",
      "     0.3    4\n",
      "\n",
      "- best performance: 6047948505755821 \n",
      "\n"
     ]
    },
    {
     "data": {
      "image/png": "[encoded data removed]",
      "text/plain": [
       "Plot with title \"Performance of `svm'\""
      ]
     },
     "metadata": {},
     "output_type": "display_data"
    }
   ],
   "source": [
    "options(warn=-1)\n",
    "svm.base.tune <- tune(svm, gross_2016~., data = train.svm.base,\n",
    "              ranges = list(epsilon = seq(0,1,0.1), cost = 2^(2:3))\n",
    ")\n",
    "options(warn = 1)\n",
    "print(svm.base.tune)\n",
    "plot(svm.base.tune)"
   ]
  },
  {
   "cell_type": "markdown",
   "metadata": {},
   "source": [
    "The darker area on this plot is the region where the to optimal value of epsilon and cost is located. Since this region seems to be located between e=0.1, e=0.5 and cost<4, I search deeper in this region."
   ]
  },
  {
   "cell_type": "code",
   "execution_count": 25,
   "metadata": {
    "collapsed": false
   },
   "outputs": [
    {
     "name": "stdout",
     "output_type": "stream",
     "text": [
      "\n",
      "Parameter tuning of 'svm':\n",
      "\n",
      "- sampling method: 10-fold cross validation \n",
      "\n",
      "- best parameters:\n",
      " epsilon cost\n",
      "    0.26    2\n",
      "\n",
      "- best performance: 6023072951120205 \n",
      "\n"
     ]
    },
    {
     "data": {
      "image/png": "[encoded data removed]",
      "text/plain": [
       "Plot with title \"Performance of `svm'\""
      ]
     },
     "metadata": {},
     "output_type": "display_data"
    }
   ],
   "source": [
    "options(warn=-1)\n",
    "svm.base.tune2 <- tune(svm, gross_2016~., data = train.svm.base,\n",
    "              ranges = list(epsilon = seq(0.1,0.5,0.02), cost = 2^(0:2))\n",
    ")\n",
    "options(warn = 1)\n",
    "print(svm.base.tune2)\n",
    "plot(svm.base.tune2)"
   ]
  },
  {
   "cell_type": "markdown",
   "metadata": {},
   "source": [
    "Now the region is more define. Let focus on the region e=0.2, e=0.3, cost=1 and cost=4."
   ]
  },
  {
   "cell_type": "code",
   "execution_count": 26,
   "metadata": {
    "collapsed": false
   },
   "outputs": [
    {
     "name": "stdout",
     "output_type": "stream",
     "text": [
      "\n",
      "Parameter tuning of 'svm':\n",
      "\n",
      "- sampling method: 10-fold cross validation \n",
      "\n",
      "- best parameters:\n",
      " epsilon cost\n",
      "    0.25    2\n",
      "\n",
      "- best performance: 6024713655296222 \n",
      "\n"
     ]
    },
    {
     "data": {
      "image/png": "[encoded data removed]",
      "text/plain": [
       "Plot with title \"Performance of `svm'\""
      ]
     },
     "metadata": {},
     "output_type": "display_data"
    }
   ],
   "source": [
    "options(warn=-1)\n",
    "svm.base.tune3 <- tune(svm, gross_2016~., data = train.svm.base,\n",
    "              ranges = list(epsilon = seq(0.2,0.3,0.01), cost = 2^(0:2))\n",
    ")\n",
    "options(warn = 1)\n",
    "print(svm.base.tune3)\n",
    "plot(svm.base.tune3)"
   ]
  },
  {
   "cell_type": "code",
   "execution_count": 27,
   "metadata": {
    "collapsed": false
   },
   "outputs": [
    {
     "data": {
      "text/plain": [
       "\n",
       "Call:\n",
       "best.tune(method = svm, train.x = gross_2016 ~ ., data = train.svm.base, \n",
       "    ranges = list(epsilon = seq(0.2, 0.3, 0.01), cost = 2^(0:2)))\n",
       "\n",
       "\n",
       "Parameters:\n",
       "   SVM-Type:  eps-regression \n",
       " SVM-Kernel:  radial \n",
       "       cost:  2 \n",
       "      gamma:  0.125 \n",
       "    epsilon:  0.25 \n",
       "\n",
       "\n",
       "Number of Support Vectors:  1328\n"
      ]
     },
     "metadata": {},
     "output_type": "display_data"
    }
   ],
   "source": [
    "svm.base.tune3$best.model"
   ]
  },
  {
   "cell_type": "markdown",
   "metadata": {},
   "source": [
    "Now that I have the optimal value of the hyperparameter, I can make the prediction for the test set."
   ]
  },
  {
   "cell_type": "code",
   "execution_count": 34,
   "metadata": {
    "collapsed": false
   },
   "outputs": [
    {
     "data": {
      "text/html": [
       "85383309.2039541"
      ],
      "text/latex": [
       "85383309.2039541"
      ],
      "text/markdown": [
       "85383309.2039541"
      ],
      "text/plain": [
       "[1] 85383309"
      ]
     },
     "metadata": {},
     "output_type": "display_data"
    }
   ],
   "source": [
    "model.svm.base.tune <- svm.base.tune3$best.model\n",
    "model.svm.base.tune.pred <- predict(model.svm.base.tune, test.svm.base) \n",
    " \n",
    "error <- test.svm.base$gross_2016 - model.svm.base.tune.pred    \n",
    "rmse(error) "
   ]
  },
  {
   "cell_type": "code",
   "execution_count": 67,
   "metadata": {
    "collapsed": false
   },
   "outputs": [
    {
     "ename": "ERROR",
     "evalue": "Error in is.data.frame(data): objet 'test.svm.base' introuvable\n",
     "output_type": "error",
     "traceback": [
      "Error in is.data.frame(data): objet 'test.svm.base' introuvable\nTraceback:\n",
      "1. plot_ly(test.svm.base) %>% add_trace(y = ~test.svm.base$gross_2016, \n .     name = \"trace 0\", type = \"scatter\", mode = \"lines+markers\") %>% \n .     add_trace(y = ~model.svm.base.tune.pred, name = \"trace 1\", \n .         type = \"scatter\", mode = \"markers\") %>% layout(title = \"Gross revenu of movies in the data set and prediction from the svm algorithm\", \n .     xaxis = list(title = \"\", zeroline = TRUE), yaxis = list(title = \"Gross\"))",
      "2. eval(lhs, parent, parent)",
      "3. eval(expr, envir, enclos)",
      "4. plot_ly(test.svm.base)",
      "5. is.data.frame(data)"
     ]
    }
   ],
   "source": [
    "svm_base_pred<-plot_ly(test.svm.base) %>%\n",
    "add_trace(y=~test.svm.base$gross_2016, name = 'test set', type = 'scatter',mode = 'lines+markers' )%>%\n",
    "add_trace(y=~model.svm.base.tune.pred ,name = 'predictions', type = 'scatter',mode = 'markers' )%>%\n",
    "layout(title = 'Gross revenu of movies in the data set and prediction from the svm algorithm',\n",
    "         xaxis = list(title = '', zeroline = TRUE),\n",
    "         yaxis = list(title = 'Gross'))\n",
    "\n",
    "embed_notebook(svm_base_pred,file=paste0(\"plotlyJupyterHTML/\",\"svm_base_pred\",\".html\"))"
   ]
  },
  {
   "cell_type": "code",
   "execution_count": 33,
   "metadata": {
    "collapsed": true
   },
   "outputs": [],
   "source": [
    "write.svm(model.svm.base.tune , svm.file = \"model.svm.base.tune.svm\", scale.file = \"IMDB-regression.scale\")"
   ]
  },
  {
   "cell_type": "markdown",
   "metadata": {},
   "source": [
    "We can see that the model has trouble predicting the outlier since most of the predicted point are between 0 and 200 million dollars. Also if we zoom we see taht the model is quite good at predicting if the shape of the curve, but miss the real value of the variable \"gross_2016\". Let's see if adding more feature will help the model. "
   ]
  },
  {
   "cell_type": "code",
   "execution_count": 51,
   "metadata": {
    "collapsed": false
   },
   "outputs": [],
   "source": [
    "train_svm<-train[,c(cont_var),with=FALSE]\n",
    "test_svm<-test[,c(cont_var),with=FALSE]"
   ]
  },
  {
   "cell_type": "markdown",
   "metadata": {},
   "source": [
    "After coping all the continous variable in the data set, I drop the \"profit\" variables and I keep only the row without missing values."
   ]
  },
  {
   "cell_type": "code",
   "execution_count": 52,
   "metadata": {
    "collapsed": false
   },
   "outputs": [],
   "source": [
    "train_svm <- train_svm[,!\"profit\",with=FALSE]\n",
    "test_svm  <- test_svm[,!\"profit\",with=FALSE]\n",
    "\n",
    "train_svm <- train_svm[complete.cases(train_svm)]\n",
    "test_svm  <- test_svm[complete.cases(test_svm)]"
   ]
  },
  {
   "cell_type": "code",
   "execution_count": 53,
   "metadata": {
    "collapsed": false
   },
   "outputs": [],
   "source": [
    "model.svm.cont <- svm(gross_2016~.,  scale = TRUE, data = train_svm)"
   ]
  },
  {
   "cell_type": "code",
   "execution_count": 54,
   "metadata": {
    "collapsed": false
   },
   "outputs": [],
   "source": [
    "resultats.svm.cont <- predict(object = model.svm.cont, newdata = train_svm)"
   ]
  },
  {
   "cell_type": "code",
   "execution_count": 56,
   "metadata": {
    "collapsed": false
   },
   "outputs": [
    {
     "name": "stderr",
     "output_type": "stream",
     "text": [
      "Warning message in train_svm$gross_2016 - resultats.svm.base:\n",
      "\"la taille d'un objet plus long n'est pas multiple de la taille d'un objet plus court\""
     ]
    },
    {
     "data": {
      "text/html": [
       "94543061.3671373"
      ],
      "text/latex": [
       "94543061.3671373"
      ],
      "text/markdown": [
       "94543061.3671373"
      ],
      "text/plain": [
       "[1] 94543061"
      ]
     },
     "metadata": {},
     "output_type": "display_data"
    }
   ],
   "source": [
    "error <- train_svm$gross_2016 - resultats.svm.base\n",
    "rmse(error) "
   ]
  },
  {
   "cell_type": "markdown",
   "metadata": {},
   "source": [
    "Using all the continuous variables to the model doesn't make it more precice. Like most algorithm, the SVM algorithm is less accurate the more feature we use. Let's see if tuning the model can help."
   ]
  },
  {
   "cell_type": "code",
   "execution_count": 57,
   "metadata": {
    "collapsed": false
   },
   "outputs": [
    {
     "ename": "ERROR",
     "evalue": "Error in print(svm.tune): objet 'svm.tune' introuvable\n",
     "output_type": "error",
     "traceback": [
      "Error in print(svm.tune): objet 'svm.tune' introuvable\nTraceback:\n",
      "1. print(svm.tune)"
     ]
    }
   ],
   "source": [
    "options(warn=-1)\n",
    "svm.cont.tune <- tune(svm, gross_2016~., data = train_svm,\n",
    "              ranges = list(epsilon = seq(0,1,0.1), cost = 2^(2:9))\n",
    ")\n",
    "options(warn = 1)\n",
    "print(svm.cont.tune)\n",
    "plot(svm.cont.tune)"
   ]
  },
  {
   "cell_type": "code",
   "execution_count": 58,
   "metadata": {
    "collapsed": false
   },
   "outputs": [
    {
     "name": "stdout",
     "output_type": "stream",
     "text": [
      "\n",
      "Parameter tuning of 'svm':\n",
      "\n",
      "- sampling method: 10-fold cross validation \n",
      "\n",
      "- best parameters:\n",
      " epsilon cost\n",
      "     0.2    4\n",
      "\n",
      "- best performance: 6168608417283058 \n",
      "\n"
     ]
    },
    {
     "data": {
      "image/png": "[encoded data removed]",
      "text/plain": [
       "Plot with title \"Performance of `svm'\""
      ]
     },
     "metadata": {},
     "output_type": "display_data"
    }
   ],
   "source": [
    "options(warn = 1)\n",
    "print(svm.cont.tune)\n",
    "plot(svm.cont.tune)"
   ]
  },
  {
   "cell_type": "code",
   "execution_count": null,
   "metadata": {
    "collapsed": true
   },
   "outputs": [],
   "source": [
    "options(warn=-1)\n",
    "svm.cont.tune2 <- tune(svm, gross_2016~., data = train_svm,\n",
    "              ranges = list(epsilon = seq(0,0.5,0.2), cost = 2^(0:2))\n",
    ")\n",
    "options(warn = 1)\n",
    "print(svm.cont.tune2)\n",
    "plot(svm.cont.tune2)"
   ]
  },
  {
   "cell_type": "code",
   "execution_count": 59,
   "metadata": {
    "collapsed": false
   },
   "outputs": [
    {
     "data": {
      "text/plain": [
       "\n",
       "Call:\n",
       "best.tune(method = svm, train.x = gross_2016 ~ ., data = train_svm, \n",
       "    ranges = list(epsilon = seq(0, 1, 0.1), cost = 2^(2:9)))\n",
       "\n",
       "\n",
       "Parameters:\n",
       "   SVM-Type:  eps-regression \n",
       " SVM-Kernel:  radial \n",
       "       cost:  4 \n",
       "      gamma:  0.08333333 \n",
       "    epsilon:  0.2 \n",
       "\n",
       "\n",
       "Number of Support Vectors:  1519\n"
      ]
     },
     "metadata": {},
     "output_type": "display_data"
    }
   ],
   "source": [
    "svm.cont.tune$best.model"
   ]
  },
  {
   "cell_type": "code",
   "execution_count": 61,
   "metadata": {
    "collapsed": false
   },
   "outputs": [
    {
     "data": {
      "text/html": [
       "86767051.5595682"
      ],
      "text/latex": [
       "86767051.5595682"
      ],
      "text/markdown": [
       "86767051.5595682"
      ],
      "text/plain": [
       "[1] 86767052"
      ]
     },
     "metadata": {},
     "output_type": "display_data"
    }
   ],
   "source": [
    "model.svm.cont.tune <- svm.cont.tune$best.model\n",
    "model.svm.cont.tune.pred <- predict(model.svm.cont.tune, test_svm) \n",
    "error <- test_svm$gross_2016 - model.svm.cont.tune.pred  \n",
    "rmse(error) "
   ]
  },
  {
   "cell_type": "markdown",
   "metadata": {},
   "source": [
    "Adding features to the model didn't help to reduce the root mean square error of the model. So for now, 85383309 is the mark to beat with the other algorithm."
   ]
  },
  {
   "cell_type": "markdown",
   "metadata": {},
   "source": [
    "# Regression with Xgboost\n",
    "This algorithm has for advantage to be really fast, he can handle very well sparse matrix and missing data.\n",
    "\n",
    "Since most variables in the data set are not correlated to the variable of interest, using all of them in the model is not really a good idea: it will just add a lot of noise to the model and can create some overfitting problems. But this algorithm is really good at picking the important feature in a model and since he is so fast, I took the opposite approach I used for the SVM algorithm: I use the most feature possible for my first use of this algorithm and I will prune the feature as a go on."
   ]
  },
  {
   "cell_type": "code",
   "execution_count": 6,
   "metadata": {
    "collapsed": false
   },
   "outputs": [],
   "source": [
    "variable_names <- names(train[,!c(\"budget\",\"gross\",\"profit\",\"budget_us\",\"currency\",\"imdb_score\",\"director_name\",\n",
    "                                  \"num_user_for_reviews\",\"movie_imdb_link\",\"num_voted_users\",\"num_critic_for_reviews\",\n",
    "                                  \"movie_facebook_likes\",\"genres\",\"movie_title\",\"plot_keywords\",\"actor_1_name\",\n",
    "                                 \"actor_2_name\",\"actor_3_name\",\"V1\")])"
   ]
  },
  {
   "cell_type": "code",
   "execution_count": 7,
   "metadata": {
    "collapsed": false
   },
   "outputs": [],
   "source": [
    "train_xgb<-train[,variable_names,with=FALSE]\n",
    "test_xgb<-test[,variable_names,with=FALSE]"
   ]
  },
  {
   "cell_type": "markdown",
   "metadata": {},
   "source": [
    "Since I already coded the cathegorical variables as dummy variables, I excluded them from the data sets."
   ]
  },
  {
   "cell_type": "code",
   "execution_count": 8,
   "metadata": {
    "collapsed": false
   },
   "outputs": [],
   "source": [
    "train_xgb <- train_xgb[,!cath_var,with=FALSE]\n",
    "test_xgb <- test_xgb[,!cath_var,with=FALSE]"
   ]
  },
  {
   "cell_type": "markdown",
   "metadata": {
    "collapsed": true
   },
   "source": [
    "Then I normalize the continuous variables and coded the missing information. "
   ]
  },
  {
   "cell_type": "code",
   "execution_count": 10,
   "metadata": {
    "collapsed": false
   },
   "outputs": [],
   "source": [
    "for (f in intersect(variable_names,cont_var)) {\n",
    "  if (max(train_xgb[[f]],na.rm=TRUE)!=1 | min(train_xgb[[f]],na.rm=TRUE)!=0) {\n",
    "    train_xgb[[f]] <- scale(train_xgb[[f]])\n",
    "    test_xgb[[f]]  <- scale(test_xgb[[f]])\n",
    "  }\n",
    "}\n",
    "\n",
    "train_xgb[is.na(train_xgb)]<--1\n",
    "test_xgb[is.na(test_xgb)]<--1"
   ]
  },
  {
   "cell_type": "markdown",
   "metadata": {},
   "source": [
    "To be able to use xgboost, I have to feed the function a matrix, so I have to convert the data frame."
   ]
  },
  {
   "cell_type": "code",
   "execution_count": 11,
   "metadata": {
    "collapsed": false
   },
   "outputs": [
    {
     "name": "stdout",
     "output_type": "stream",
     "text": [
      " chr \"gross_2016\"\n"
     ]
    }
   ],
   "source": [
    "drop_col_names <- names(train[,c(\"gross_2016\")])\n",
    "str(drop_col_names)"
   ]
  },
  {
   "cell_type": "code",
   "execution_count": 12,
   "metadata": {
    "collapsed": false
   },
   "outputs": [],
   "source": [
    "train_xgb_matrix <- xgb.DMatrix(data.matrix(train_xgb[,!drop_col_names,with=FALSE]),\n",
    "                                label=train_xgb$gross_2016,missing=-1)\n",
    "test_xgb_matrix  <- xgb.DMatrix(data.matrix(test_xgb[,!drop_col_names,with=FALSE]),\n",
    "                                label=test_xgb$gross_2016,missing=-1)"
   ]
  },
  {
   "cell_type": "markdown",
   "metadata": {},
   "source": [
    "Then I set the pameters for the algorithm. Since the data is normalize, I'm not interested in having the rmse printed for each iteration of the algorithm, so I didn't initialise the watchlist argument. Also, after trial and error, I realised that 500 iterations where enoupht for this data."
   ]
  },
  {
   "cell_type": "code",
   "execution_count": 13,
   "metadata": {
    "collapsed": false
   },
   "outputs": [],
   "source": [
    "param <- list(  objective           = \"reg:linear\", \n",
    "                booster             = \"gblinear\",\n",
    "                eval_metric         = \"rmse\"\n",
    "                )"
   ]
  },
  {
   "cell_type": "code",
   "execution_count": 14,
   "metadata": {
    "collapsed": false
   },
   "outputs": [],
   "source": [
    "set.seed(383)\n",
    "model_xgb <- xgb.train(   params          = param, \n",
    "                    data                  = train_xgb_matrix, \n",
    "                    nrounds               = 500,\n",
    "                    verbose               = 0, \n",
    "                    early_stopping_rounds = 20,\n",
    "                    missing               = -1,\n",
    "                    maximize              = FALSE)"
   ]
  },
  {
   "cell_type": "markdown",
   "metadata": {},
   "source": [
    "Next I took the model greated by the algorithm and predited how much that each movie in the data set should gross at the box-office and compare those prediction with the real values. To do so, I scale the prediction to match the data set and calculated the rmse."
   ]
  },
  {
   "cell_type": "code",
   "execution_count": 15,
   "metadata": {
    "collapsed": false
   },
   "outputs": [],
   "source": [
    "pred<-predict(model_xgb,test_xgb_matrix)"
   ]
  },
  {
   "cell_type": "code",
   "execution_count": 16,
   "metadata": {
    "collapsed": false
   },
   "outputs": [
    {
     "data": {
      "text/html": [
       "95480460.0796237"
      ],
      "text/latex": [
       "95480460.0796237"
      ],
      "text/markdown": [
       "95480460.0796237"
      ],
      "text/plain": [
       "[1] 95480460"
      ]
     },
     "metadata": {},
     "output_type": "display_data"
    }
   ],
   "source": [
    "scaleList <- list(scale = attr(train_xgb$gross_2016, \"scaled:scale\"),\n",
    "    center = attr(train_xgb$gross_2016, \"scaled:center\"))\n",
    "\n",
    "pred_unscale <- pred * scaleList$scale + scaleList$center\n",
    "error<-pred_unscale-test_xgb$gross_2016\n",
    "rmse(error)"
   ]
  },
  {
   "cell_type": "code",
   "execution_count": 21,
   "metadata": {
    "collapsed": false
   },
   "outputs": [
    {
     "data": {
      "text/html": [
       "TRUE"
      ],
      "text/latex": [
       "TRUE"
      ],
      "text/markdown": [
       "TRUE"
      ],
      "text/plain": [
       "[1] TRUE"
      ]
     },
     "metadata": {},
     "output_type": "display_data"
    }
   ],
   "source": [
    "xgb.save(model_xgb,fname=\"model_xgb_1_tune\")"
   ]
  },
  {
   "cell_type": "code",
   "execution_count": null,
   "metadata": {
    "collapsed": true
   },
   "outputs": [],
   "source": []
  },
  {
   "cell_type": "code",
   "execution_count": null,
   "metadata": {
    "collapsed": true
   },
   "outputs": [],
   "source": []
  },
  {
   "cell_type": "markdown",
   "metadata": {
    "collapsed": true
   },
   "source": [
    "This model did worst than the best SVM model: maybe the cathegorical variables don't offer usefull information to the algorithm. In the next model, I'll use only the continous variables that I choose for the last model."
   ]
  },
  {
   "cell_type": "code",
   "execution_count": 41,
   "metadata": {
    "collapsed": false
   },
   "outputs": [],
   "source": [
    "train_xgb <- train_xgb[,intersect(variable_names,cont_var),with=FALSE]\n",
    "test_xgb <- test_xgb[,intersect(variable_names,cont_var),with=FALSE]"
   ]
  },
  {
   "cell_type": "code",
   "execution_count": 42,
   "metadata": {
    "collapsed": true
   },
   "outputs": [],
   "source": [
    "train_xgb_matrix <- xgb.DMatrix(data.matrix(train_xgb[,!drop_col_names,with=FALSE]), label=train_xgb$gross_2016,missing=NA)\n",
    "test_xgb_matrix  <- xgb.DMatrix(data.matrix(test_xgb[,!drop_col_names,with=FALSE]), label=test_xgb$gross_2016,missing=NA)"
   ]
  },
  {
   "cell_type": "code",
   "execution_count": 44,
   "metadata": {
    "collapsed": false
   },
   "outputs": [],
   "source": [
    "set.seed(383)\n",
    "model_xgb <- xgb.train(   params          = param, \n",
    "                    data                  = train_xgb_matrix, \n",
    "                    nrounds               = 1000, # changed from 300\n",
    "                    verbose               = 0, \n",
    "                    early_stopping_rounds = 20,\n",
    "                    #watchlist             = watchlist,\n",
    "                    missing               = -1,\n",
    "                    maximize              = FALSE)"
   ]
  },
  {
   "cell_type": "code",
   "execution_count": 45,
   "metadata": {
    "collapsed": false
   },
   "outputs": [
    {
     "data": {
      "text/html": [
       "83959483.9582247"
      ],
      "text/latex": [
       "83959483.9582247"
      ],
      "text/markdown": [
       "83959483.9582247"
      ],
      "text/plain": [
       "[1] 83959484"
      ]
     },
     "metadata": {},
     "output_type": "display_data"
    }
   ],
   "source": [
    "pred<-predict(model_xgb,test_xgb_matrix)\n",
    "pred_unscale <- pred * scaleList$scale + scaleList$center\n",
    "error<-pred_unscale-test_xgb$gross_2016\n",
    "rmse(error)"
   ]
  },
  {
   "cell_type": "code",
   "execution_count": 50,
   "metadata": {
    "collapsed": false
   },
   "outputs": [
    {
     "data": {
      "text/html": [
       "TRUE"
      ],
      "text/latex": [
       "TRUE"
      ],
      "text/markdown": [
       "TRUE"
      ],
      "text/plain": [
       "[1] TRUE"
      ]
     },
     "metadata": {},
     "output_type": "display_data"
    }
   ],
   "source": [
    "xgb.save(model_xgb,fname=\"model_xgb_cont_var\")"
   ]
  },
  {
   "cell_type": "markdown",
   "metadata": {},
   "source": [
    "Dropping the cathegorical variables help the xgboost algorithm greatly! Let's see if using even less variable will help us make a better model. For the next model, I used only the variables whom where at least midly correlated with the \"gross_2016\" variable."
   ]
  },
  {
   "cell_type": "code",
   "execution_count": 50,
   "metadata": {
    "collapsed": false
   },
   "outputs": [],
   "source": [
    "min_var<-names(movies[,c(\"budget_2016\",\"gross_2016\",\"dir_mean_gross\",\"act_1_mean_gross\",\"act_2_mean_gross\",\"act_3_mean_gross\")])"
   ]
  },
  {
   "cell_type": "code",
   "execution_count": 51,
   "metadata": {
    "collapsed": false
   },
   "outputs": [],
   "source": [
    "train_xgb <- train_xgb[,min_var,with=FALSE]\n",
    "test_xgb <- test_xgb[,min_var,with=FALSE]"
   ]
  },
  {
   "cell_type": "code",
   "execution_count": 52,
   "metadata": {
    "collapsed": true
   },
   "outputs": [],
   "source": [
    "train_xgb_matrix <- xgb.DMatrix(data.matrix(train_xgb[,!drop_col_names,with=FALSE]), label=train_xgb$gross_2016,missing=NA)\n",
    "test_xgb_matrix  <- xgb.DMatrix(data.matrix(test_xgb[,!drop_col_names,with=FALSE]), label=test_xgb$gross_2016,missing=NA)"
   ]
  },
  {
   "cell_type": "code",
   "execution_count": 64,
   "metadata": {
    "collapsed": false
   },
   "outputs": [],
   "source": [
    "set.seed(383)\n",
    "model_xgb_tune_1 <- xgb.train(   params          = param, \n",
    "                    data                  = train_xgb_matrix, \n",
    "                    nrounds               = 1000, # changed from 300\n",
    "                    verbose               = 0, \n",
    "                    early_stopping_rounds = 20,\n",
    "                    #watchlist             = watchlist,\n",
    "                    missing               = -1,\n",
    "                    maximize              = FALSE)"
   ]
  },
  {
   "cell_type": "code",
   "execution_count": 65,
   "metadata": {
    "collapsed": false
   },
   "outputs": [
    {
     "data": {
      "text/html": [
       "83748392.8717631"
      ],
      "text/latex": [
       "83748392.8717631"
      ],
      "text/markdown": [
       "83748392.8717631"
      ],
      "text/plain": [
       "[1] 83748393"
      ]
     },
     "metadata": {},
     "output_type": "display_data"
    }
   ],
   "source": [
    "pred<-predict(model_xgb_tune_1,test_xgb_matrix)\n",
    "pred_unscale <- pred * scaleList$scale + scaleList$center\n",
    "error<-pred_unscale-test_xgb$gross_2016\n",
    "rmse(error)"
   ]
  },
  {
   "cell_type": "markdown",
   "metadata": {},
   "source": [
    "This model is the more efficient so far, but I used almost only the default parameter of the xgboost algorithm to do it. By tuning the hyperparameter I should be able to make a more efficient model to predict the gross of the movie in the test set. In the cell below, I calculated the rmse of different model using a value of eta from 0 to 0.99 by 0.01 increment. The cross validation is made using a 5 fold cross validation."
   ]
  },
  {
   "cell_type": "code",
   "execution_count": 34,
   "metadata": {
    "collapsed": false
   },
   "outputs": [],
   "source": [
    "xgb_mse<-data.frame(index=numeric(0),train.rmse.mean=numeric(0),train.rmse.std=numeric(0),\n",
    "                    test.rmse.mean=numeric(0),test.rmse.std=numeric(0))\n",
    "\n",
    "for (i in seq(0,0.99,0.01)){\n",
    "    set.seed(383)\n",
    "     model_xgb_cv <- xgb.cv(params=param, eta=i, data = train_xgb_matrix, nfold = 5, nrounds = 5, missing=-1,verbose= 0)\n",
    "    xgb_mse<-rbind(xgb_mse,c(\"index\"=i,lapply( model_xgb_cv,function(x) mean(x))))\n",
    "}"
   ]
  },
  {
   "cell_type": "code",
   "execution_count": 66,
   "metadata": {
    "collapsed": false
   },
   "outputs": [
    {
     "data": {
      "text/html": [
       "<iframe src=\"plotlyJupyterHTML/xgb_mse_plot.html\" width=\"100%\" height=\"400\" id=\"igraph\" scrolling=\"no\" seamless=\"seamless\" frameBorder=\"0\"> </iframe>"
      ]
     },
     "metadata": {},
     "output_type": "display_data"
    }
   ],
   "source": [
    "xgb_mse_plot<-plot_ly(xgb_mse) %>%\n",
    "add_trace(x=~index,y=~test.rmse.mean, type = 'scatter',mode = 'lines+markers' )%>%\n",
    "layout(title = 'Value of the rmse during the cross validation',\n",
    "         xaxis = list(title = 'eta', zeroline = TRUE),\n",
    "         yaxis = list(title = 'rmse'))\n",
    "embed_notebook(xgb_mse_plot,file=paste0(\"plotlyJupyterHTML/\",\"xgb_mse_plot\",\".html\"))"
   ]
  },
  {
   "cell_type": "code",
   "execution_count": 63,
   "metadata": {
    "collapsed": false
   },
   "outputs": [
    {
     "data": {
      "text/html": [
       "<table>\n",
       "<thead><tr><th></th><th scope=col>index</th><th scope=col>train.rmse.mean</th><th scope=col>train.rmse.std</th><th scope=col>test.rmse.mean</th><th scope=col>test.rmse.std</th></tr></thead>\n",
       "<tbody>\n",
       "\t<tr><th scope=row>34</th><td>0.33     </td><td>0.7073754</td><td>0.0264264</td><td>0.7763158</td><td>0.1146582</td></tr>\n",
       "</tbody>\n",
       "</table>\n"
      ],
      "text/latex": [
       "\\begin{tabular}{r|lllll}\n",
       "  & index & train.rmse.mean & train.rmse.std & test.rmse.mean & test.rmse.std\\\\\n",
       "\\hline\n",
       "\t34 & 0.33      & 0.7073754 & 0.0264264 & 0.7763158 & 0.1146582\\\\\n",
       "\\end{tabular}\n"
      ],
      "text/markdown": [
       "\n",
       "| <!--/--> | index | train.rmse.mean | train.rmse.std | test.rmse.mean | test.rmse.std | \n",
       "|---|\n",
       "| 34 | 0.33      | 0.7073754 | 0.0264264 | 0.7763158 | 0.1146582 | \n",
       "\n",
       "\n"
      ],
      "text/plain": [
       "   index train.rmse.mean train.rmse.std test.rmse.mean test.rmse.std\n",
       "34 0.33  0.7073754       0.0264264      0.7763158      0.1146582    "
      ]
     },
     "metadata": {},
     "output_type": "display_data"
    }
   ],
   "source": [
    "xgb_mse[xgb_mse$test.rmse.mean==min(xgb_mse$test.rmse.mean,na.rm=TRUE),]"
   ]
  },
  {
   "cell_type": "markdown",
   "metadata": {},
   "source": [
    "Now that I have the value of the eta that minimise the rmse of the test set used in the cross validation, I can create a more efficient model."
   ]
  },
  {
   "cell_type": "code",
   "execution_count": 58,
   "metadata": {
    "collapsed": false
   },
   "outputs": [],
   "source": [
    "set.seed(383)\n",
    "model_xgb_tune_2 <- xgb.train(   params          = param, \n",
    "                    data                  = train_xgb_matrix, \n",
    "                    eta                   = 0.33,\n",
    "                    nrounds               = 500, # changed from 300\n",
    "                    verbose               = 0, \n",
    "                    early_stopping_rounds = 20,\n",
    "                    missing               = -1,\n",
    "                    maximize              = FALSE)"
   ]
  },
  {
   "cell_type": "code",
   "execution_count": 59,
   "metadata": {
    "collapsed": false
   },
   "outputs": [
    {
     "data": {
      "text/html": [
       "83748395.6760708"
      ],
      "text/latex": [
       "83748395.6760708"
      ],
      "text/markdown": [
       "83748395.6760708"
      ],
      "text/plain": [
       "[1] 83748396"
      ]
     },
     "metadata": {},
     "output_type": "display_data"
    }
   ],
   "source": [
    "pred<-predict(model_xgb_tune_2,test_xgb_matrix)\n",
    "pred_unscale <- pred * scaleList$scale + scaleList$center\n",
    "error<-pred_unscale-test_xgb$gross_2016\n",
    "rmse(error)"
   ]
  },
  {
   "cell_type": "code",
   "execution_count": 71,
   "metadata": {
    "collapsed": false
   },
   "outputs": [
    {
     "data": {
      "text/html": [
       "<iframe src=\"plotlyJupyterHTML/xgb_pred.html\" width=\"100%\" height=\"400\" id=\"igraph\" scrolling=\"no\" seamless=\"seamless\" frameBorder=\"0\"> </iframe>"
      ]
     },
     "metadata": {},
     "output_type": "display_data"
    }
   ],
   "source": [
    "xgb_pred<-plot_ly(test_xgb) %>%\n",
    "add_trace(y=~test$gross_2016, \n",
    "          name = 'test set', type = 'scatter',mode = 'lines+markers' )%>%\n",
    "add_trace(y=~pred_unscale ,name = 'predictions', type = 'scatter',mode = 'markers' )%>%\n",
    "layout(title = 'Gross revenu of movies in the data set and prediction from the xgboost algorithm',\n",
    "         xaxis = list(title = '', zeroline = TRUE),\n",
    "         yaxis = list(title = 'Gross'))\n",
    "\n",
    "embed_notebook(xgb_pred,file=paste0(\"plotlyJupyterHTML/\",\"xgb_pred\",\".html\"))"
   ]
  },
  {
   "cell_type": "code",
   "execution_count": 60,
   "metadata": {
    "collapsed": false
   },
   "outputs": [
    {
     "data": {
      "text/html": [
       "TRUE"
      ],
      "text/latex": [
       "TRUE"
      ],
      "text/markdown": [
       "TRUE"
      ],
      "text/plain": [
       "[1] TRUE"
      ]
     },
     "metadata": {},
     "output_type": "display_data"
    }
   ],
   "source": [
    "xgb.save(model_xgb,fname=\"model_xgb_min_var\")"
   ]
  },
  {
   "cell_type": "markdown",
   "metadata": {
    "collapsed": false
   },
   "source": [
    "# Classification\n",
    "## XGBoost logistic regression\n",
    "\n",
    "By zooming on any part of the last plot, we see that regression with the XGBoost algorithm has trouble adjusting to the variability of the data, i.e. the algorithm underestimate the profit of high margin movie and overestimate the performance of movie how lost a lot of money. If we simplify our goal and only are interested to know if the movie will be profitable, does the model will be more accurate? First let us look at the previous results."
   ]
  },
  {
   "cell_type": "code",
   "execution_count": 83,
   "metadata": {
    "collapsed": false
   },
   "outputs": [
    {
     "data": {
      "text/html": [
       "0.554491017964072"
      ],
      "text/latex": [
       "0.554491017964072"
      ],
      "text/markdown": [
       "0.554491017964072"
      ],
      "text/plain": [
       "[1] 0.554491"
      ]
     },
     "metadata": {},
     "output_type": "display_data"
    }
   ],
   "source": [
    "prediction<-test[,c(\"gross_2016\",\"budget_2016\",\"profit\")]\n",
    "prediction$pred_gross<-error\n",
    "prediction$pred_profit<-prediction$pred_gross-prediction$budget_2016\n",
    "prediction$pred_profit_binary<-0\n",
    "prediction[prediction$pred_profit*prediction$profit>0, \"pred_profit_binary\"]<-1\n",
    "\n",
    "sum(prediction[complete.cases(prediction),\"pred_profit_binary\"])/nrow(prediction[complete.cases(prediction),])"
   ]
  },
  {
   "cell_type": "markdown",
   "metadata": {},
   "source": [
    "The previous model class correctly about half of the observations in the test set. Not bad, but we can do better by using a algorithm taylor made for that classification. The first one I used is the xgboost for logistic regression.\n",
    "\n",
    "As usual, I started by created a modified train and test set to use with the algorithm. "
   ]
  },
  {
   "cell_type": "code",
   "execution_count": 376,
   "metadata": {
    "collapsed": false
   },
   "outputs": [],
   "source": [
    "variable_names_log <- names(train[,!c(\"budget\",\"gross\",\"gross_2016\",\"budget_us\",\"currency\",\"imdb_score\",\"director_name\",\n",
    "                                  \"num_user_for_reviews\",\"movie_imdb_link\",\"num_voted_users\",\"num_critic_for_reviews\",\n",
    "                                  \"movie_facebook_likes\",\"genres\",\"movie_title\",\"plot_keywords\",\"actor_1_name\",\n",
    "                                 \"actor_2_name\",\"actor_3_name\",\"V1\")])\n",
    "\n",
    "train_xgb_log<-train[,variable_names_log,with=FALSE]\n",
    "test_xgb_log<-test[,variable_names_log,with=FALSE]\n",
    "\n",
    "train_xgb_log <- train_xgb_log[,!cath_var,with=FALSE]\n",
    "test_xgb_log <- test_xgb_log[,!cath_var,with=FALSE]\n",
    "\n",
    "for (f in intersect(variable_names_log,cont_var)) {\n",
    "  if (max(train_xgb_log[[f]],na.rm=TRUE)!=1 | min(train_xgb_log[[f]],na.rm=TRUE)!=0) {\n",
    "    train_xgb_log[[f]] <- scale(train_xgb_log[[f]])\n",
    "    test_xgb_log[[f]]  <- scale(test_xgb_log[[f]])\n",
    "  }\n",
    "}\n",
    "\n",
    "train_xgb_log[is.na(train_xgb_log)]<--1\n",
    "test_xgb_log[is.na(test_xgb_log)]<--1"
   ]
  },
  {
   "cell_type": "markdown",
   "metadata": {},
   "source": [
    "Then I create a new variable \"profitable\" whom indicate if the movie was profitable or not."
   ]
  },
  {
   "cell_type": "code",
   "execution_count": 377,
   "metadata": {
    "collapsed": true
   },
   "outputs": [],
   "source": [
    "train_xgb_log$profitable<-0\n",
    "test_xgb_log$profitable<-0\n",
    "\n",
    "train_xgb_log[which(train_xgb_log$profit>=0),\"profitable\"]<-1\n",
    "test_xgb_log[which(test_xgb_log$profit>=0),\"profitable\"]<-1"
   ]
  },
  {
   "cell_type": "markdown",
   "metadata": {},
   "source": [
    "Then I repeat the steps use for the regression with xgboost, but I changed the objective for the logistic regression and the evaluation metric for the binary classification error rate."
   ]
  },
  {
   "cell_type": "code",
   "execution_count": 378,
   "metadata": {
    "collapsed": false
   },
   "outputs": [],
   "source": [
    "train_xgb_log_mat <- xgb.DMatrix(data.matrix(train_xgb_log[,!c(\"profitable\",\"profit\"),with=FALSE]), label=train_xgb_log$profitable,missing=-1)\n",
    "test_xgb_log_mat <- xgb.DMatrix(data.matrix(test_xgb_log[,!c(\"profitable\",\"profit\"),with=FALSE]), label=test_xgb_log$profitable,missing=-1)"
   ]
  },
  {
   "cell_type": "code",
   "execution_count": 379,
   "metadata": {
    "collapsed": false
   },
   "outputs": [],
   "source": [
    "param <- list(  objective           = \"binary:logistic\",\n",
    "                eval_metric         = \"error\")"
   ]
  },
  {
   "cell_type": "code",
   "execution_count": 380,
   "metadata": {
    "collapsed": false
   },
   "outputs": [],
   "source": [
    "set.seed(383)\n",
    "model_xgb_log <- xgb.train(   params        = param, \n",
    "                    data                = train_xgb_log_mat, \n",
    "                    nrounds             = 500,\n",
    "                    verbose             = 0, \n",
    "                    missing             =-1,\n",
    "                    maximize            = FALSE)"
   ]
  },
  {
   "cell_type": "markdown",
   "metadata": {},
   "source": [
    "Having made the model, I have to make the prediction onver the test set and calculate the binary error rate."
   ]
  },
  {
   "cell_type": "code",
   "execution_count": 387,
   "metadata": {
    "collapsed": false
   },
   "outputs": [],
   "source": [
    "prediction<-data.frame(profit=test_xgb_log$profitable)\n",
    "prediction$output<-NA"
   ]
  },
  {
   "cell_type": "code",
   "execution_count": 388,
   "metadata": {
    "collapsed": false
   },
   "outputs": [],
   "source": [
    "for (rows in split(1:nrow(test_xgb), ceiling((1:nrow(test_xgb))/10000))) {\n",
    "    prediction[rows, \"output\"] <- predict(model_xgb_log, test_xgb_log_mat)\n",
    "    }"
   ]
  },
  {
   "cell_type": "code",
   "execution_count": 389,
   "metadata": {
    "collapsed": false
   },
   "outputs": [
    {
     "data": {
      "text/html": [
       "<table>\n",
       "<thead><tr><th scope=col>profit</th><th scope=col>output</th><th scope=col>pred</th><th scope=col>index</th></tr></thead>\n",
       "<tbody>\n",
       "\t<tr><td>0                   </td><td>0.000003818766799668</td><td>0                   </td><td>1                   </td></tr>\n",
       "\t<tr><td>0                   </td><td>0.000000000203112957</td><td>0                   </td><td>2                   </td></tr>\n",
       "\t<tr><td>0                   </td><td>0.000347295281244442</td><td>0                   </td><td>3                   </td></tr>\n",
       "\t<tr><td>0                   </td><td>0.001790401292964816</td><td>0                   </td><td>4                   </td></tr>\n",
       "\t<tr><td>0                   </td><td>0.999916315078735352</td><td>1                   </td><td>5                   </td></tr>\n",
       "\t<tr><td>0                   </td><td>0.000000000002252107</td><td>0                   </td><td>6                   </td></tr>\n",
       "</tbody>\n",
       "</table>\n"
      ],
      "text/latex": [
       "\\begin{tabular}{r|llll}\n",
       " profit & output & pred & index\\\\\n",
       "\\hline\n",
       "\t 0                    & 0.000003818766799668 & 0                    & 1                   \\\\\n",
       "\t 0                    & 0.000000000203112957 & 0                    & 2                   \\\\\n",
       "\t 0                    & 0.000347295281244442 & 0                    & 3                   \\\\\n",
       "\t 0                    & 0.001790401292964816 & 0                    & 4                   \\\\\n",
       "\t 0                    & 0.999916315078735352 & 1                    & 5                   \\\\\n",
       "\t 0                    & 0.000000000002252107 & 0                    & 6                   \\\\\n",
       "\\end{tabular}\n"
      ],
      "text/markdown": [
       "\n",
       "profit | output | pred | index | \n",
       "|---|---|---|---|---|---|\n",
       "| 0                    | 0.000003818766799668 | 0                    | 1                    | \n",
       "| 0                    | 0.000000000203112957 | 0                    | 2                    | \n",
       "| 0                    | 0.000347295281244442 | 0                    | 3                    | \n",
       "| 0                    | 0.001790401292964816 | 0                    | 4                    | \n",
       "| 0                    | 0.999916315078735352 | 1                    | 5                    | \n",
       "| 0                    | 0.000000000002252107 | 0                    | 6                    | \n",
       "\n",
       "\n"
      ],
      "text/plain": [
       "  profit output               pred index\n",
       "1 0      0.000003818766799668 0    1    \n",
       "2 0      0.000000000203112957 0    2    \n",
       "3 0      0.000347295281244442 0    3    \n",
       "4 0      0.001790401292964816 0    4    \n",
       "5 0      0.999916315078735352 1    5    \n",
       "6 0      0.000000000002252107 0    6    "
      ]
     },
     "metadata": {},
     "output_type": "display_data"
    }
   ],
   "source": [
    "prediction$pred<-0\n",
    "prediction[which(prediction$output>=0.5),\"pred\"]<-1\n",
    "prediction$index<-seq.int(nrow(prediction))\n",
    "head(prediction)"
   ]
  },
  {
   "cell_type": "code",
   "execution_count": 390,
   "metadata": {
    "collapsed": false
   },
   "outputs": [
    {
     "data": {
      "text/plain": [
       "   \n",
       "      0   1\n",
       "  0 565  54\n",
       "  1 179  65"
      ]
     },
     "metadata": {},
     "output_type": "display_data"
    }
   ],
   "source": [
    "prediction<-prediction[!is.na(test$gross_2016),]\n",
    "result<-table(prediction$profit,prediction$pred)\n",
    "result"
   ]
  },
  {
   "cell_type": "code",
   "execution_count": 391,
   "metadata": {
    "collapsed": false
   },
   "outputs": [
    {
     "name": "stdout",
     "output_type": "stream",
     "text": [
      "[1] \"Accuracy: 0.730011587485516\"\n",
      "[1] \"Precision: 0.266393442622951\"\n",
      "[1] \"Recall: 0.546218487394958\"\n"
     ]
    }
   ],
   "source": [
    "print(paste0(\"Accuracy: \",(result[1,1]+result[2,2])/sum(result)))\n",
    "print(paste0(\"Precision: \",(result[2,2])/(result[2,2]+result[2,1])))\n",
    "print(paste0(\"Recall: \",(result[2,2])/(result[2,2]+result[1,2])))"
   ]
  },
  {
   "cell_type": "markdown",
   "metadata": {},
   "source": [
    "We can see that this model is more accurate to classify the movies than the regression algorithm from the last section, but not by much. In fact, our model has trouble to classify correctly the profitable movies and tend to overclassify the movie in the non-profitable cathegory. The table above show me that a model who would classify all the movie in the data set as non profitable would have about 55% accuracy which is not that much less than this model. \n",
    "\n",
    "Maybe tuning and simplifying the model will help improve the precision of the model. Let us look at the contribution to the model of each individual model."
   ]
  },
  {
   "cell_type": "code",
   "execution_count": 392,
   "metadata": {
    "collapsed": false
   },
   "outputs": [
    {
     "data": {},
     "metadata": {},
     "output_type": "display_data"
    },
    {
     "data": {
      "image/png": "[encoded data removed]",
      "text/plain": [
       "plot without title"
      ]
     },
     "metadata": {},
     "output_type": "display_data"
    }
   ],
   "source": [
    "importance_matrix <- xgb.importance(dimnames(train_xgb_log[,!c(\"profitable\",\"profit\"),with=FALSE])[[2]], model = model_xgb_log)\n",
    "xgb.plot.importance(importance_matrix[1:20])"
   ]
  },
  {
   "cell_type": "markdown",
   "metadata": {},
   "source": [
    "We can see that most of the 274 variables have little or no influence on the model. In consequence, I will keep only the 20 variables with the most importance. "
   ]
  },
  {
   "cell_type": "code",
   "execution_count": 393,
   "metadata": {
    "collapsed": false
   },
   "outputs": [],
   "source": [
    "names_var_log<-c(importance_matrix[1:30,Feature],\"profitable\",\"profit\")\n",
    "train_xgb_log<-train_xgb_log[,names_var_log,with=FALSE]\n",
    "test_xgb_log<-test_xgb_log[,names_var_log,with=FALSE]"
   ]
  },
  {
   "cell_type": "code",
   "execution_count": 394,
   "metadata": {
    "collapsed": false
   },
   "outputs": [],
   "source": [
    "train_xgb_log_mat <- xgb.DMatrix(data.matrix(train_xgb_log[,!c(\"profitable\",\"profit\"),with=FALSE]), \n",
    "                                 label=train_xgb_log$profitable,missing=-1)\n",
    "test_xgb_log_mat <- xgb.DMatrix(data.matrix(test_xgb_log[,!c(\"profitable\",\"profit\"),with=FALSE]), \n",
    "                                label=test_xgb_log$profitable,missing=-1)"
   ]
  },
  {
   "cell_type": "markdown",
   "metadata": {},
   "source": [
    "Then I do a cross validation to determine which value of the hyperparameter of the algorithm. I started by the ETA.\n",
    "\n",
    "### ETA\n",
    "\n",
    "The eta is a parameter that prevent overfitting by scaling down the weigth of each feature after each iteration. I used a 5 fold cross validation process with 5 round after which the averages of the mean error is calculated for the prediction of the train a test set."
   ]
  },
  {
   "cell_type": "code",
   "execution_count": 395,
   "metadata": {
    "collapsed": false
   },
   "outputs": [],
   "source": [
    "xgb_mse_log<-data.frame(index=numeric(0),train.rmse.mean=numeric(0),train.rmse.std=numeric(0),\n",
    "                    test.rmse.mean=numeric(0),test.rmse.std=numeric(0))\n",
    "\n",
    "for (i in seq(0,0.99,0.01)){\n",
    "    set.seed(383)\n",
    "     model_xgb_log_cv <- xgb.cv(objective= \"binary:logistic\", eta=i, data = train_xgb_log_mat,eval_metric= \"error\",\n",
    "                                nfold = 5, nrounds = 5, missing=-1,verbose= 0)\n",
    "    xgb_mse_log<-rbind(xgb_mse_log,c(\"index\"=i,lapply( model_xgb_log_cv,function(x) mean(x))))\n",
    "}"
   ]
  },
  {
   "cell_type": "code",
   "execution_count": 396,
   "metadata": {
    "collapsed": false
   },
   "outputs": [
    {
     "data": {
      "text/html": [
       "<table>\n",
       "<thead><tr><th></th><th scope=col>index</th><th scope=col>train.error.mean</th><th scope=col>train.error.std</th><th scope=col>test.error.mean</th><th scope=col>test.error.std</th></tr></thead>\n",
       "<tbody>\n",
       "\t<tr><th scope=row>2</th><td>0.00     </td><td>0.2687690</td><td>0.0030040</td><td>0.2687650</td><td>0.0120120</td></tr>\n",
       "\t<tr><th scope=row>21</th><td>0.01     </td><td>0.2106102</td><td>0.0053150</td><td>0.2681410</td><td>0.0089248</td></tr>\n",
       "\t<tr><th scope=row>3</th><td>0.02     </td><td>0.2093326</td><td>0.0061988</td><td>0.2669412</td><td>0.0091132</td></tr>\n",
       "\t<tr><th scope=row>4</th><td>0.03     </td><td>0.2079380</td><td>0.0070086</td><td>0.2673060</td><td>0.0083570</td></tr>\n",
       "\t<tr><th scope=row>5</th><td>0.04     </td><td>0.2055914</td><td>0.0078950</td><td>0.2664192</td><td>0.0101324</td></tr>\n",
       "\t<tr><th scope=row>6</th><td>0.05     </td><td>0.2041578</td><td>0.0088464</td><td>0.2653764</td><td>0.0110574</td></tr>\n",
       "</tbody>\n",
       "</table>\n"
      ],
      "text/latex": [
       "\\begin{tabular}{r|lllll}\n",
       "  & index & train.error.mean & train.error.std & test.error.mean & test.error.std\\\\\n",
       "\\hline\n",
       "\t2 & 0.00      & 0.2687690 & 0.0030040 & 0.2687650 & 0.0120120\\\\\n",
       "\t21 & 0.01      & 0.2106102 & 0.0053150 & 0.2681410 & 0.0089248\\\\\n",
       "\t3 & 0.02      & 0.2093326 & 0.0061988 & 0.2669412 & 0.0091132\\\\\n",
       "\t4 & 0.03      & 0.2079380 & 0.0070086 & 0.2673060 & 0.0083570\\\\\n",
       "\t5 & 0.04      & 0.2055914 & 0.0078950 & 0.2664192 & 0.0101324\\\\\n",
       "\t6 & 0.05      & 0.2041578 & 0.0088464 & 0.2653764 & 0.0110574\\\\\n",
       "\\end{tabular}\n"
      ],
      "text/markdown": [
       "\n",
       "| <!--/--> | index | train.error.mean | train.error.std | test.error.mean | test.error.std | \n",
       "|---|---|---|---|---|---|\n",
       "| 2 | 0.00      | 0.2687690 | 0.0030040 | 0.2687650 | 0.0120120 | \n",
       "| 21 | 0.01      | 0.2106102 | 0.0053150 | 0.2681410 | 0.0089248 | \n",
       "| 3 | 0.02      | 0.2093326 | 0.0061988 | 0.2669412 | 0.0091132 | \n",
       "| 4 | 0.03      | 0.2079380 | 0.0070086 | 0.2673060 | 0.0083570 | \n",
       "| 5 | 0.04      | 0.2055914 | 0.0078950 | 0.2664192 | 0.0101324 | \n",
       "| 6 | 0.05      | 0.2041578 | 0.0088464 | 0.2653764 | 0.0110574 | \n",
       "\n",
       "\n"
      ],
      "text/plain": [
       "   index train.error.mean train.error.std test.error.mean test.error.std\n",
       "2  0.00  0.2687690        0.0030040       0.2687650       0.0120120     \n",
       "21 0.01  0.2106102        0.0053150       0.2681410       0.0089248     \n",
       "3  0.02  0.2093326        0.0061988       0.2669412       0.0091132     \n",
       "4  0.03  0.2079380        0.0070086       0.2673060       0.0083570     \n",
       "5  0.04  0.2055914        0.0078950       0.2664192       0.0101324     \n",
       "6  0.05  0.2041578        0.0088464       0.2653764       0.0110574     "
      ]
     },
     "metadata": {},
     "output_type": "display_data"
    }
   ],
   "source": [
    "head(xgb_mse_log)"
   ]
  },
  {
   "cell_type": "markdown",
   "metadata": {},
   "source": [
    "The plot below show the average mean classification error for the prediction of the test set made with different value of eta from 0 to 1. "
   ]
  },
  {
   "cell_type": "code",
   "execution_count": 397,
   "metadata": {
    "collapsed": false
   },
   "outputs": [
    {
     "data": {
      "text/html": [
       "<iframe src=\"plotlyJupyterHTML/xgb_log_eta_mse_plot.html\" width=\"100%\" height=\"400\" id=\"igraph\" scrolling=\"no\" seamless=\"seamless\" frameBorder=\"0\"> </iframe>"
      ]
     },
     "metadata": {},
     "output_type": "display_data"
    }
   ],
   "source": [
    "xgb_log_eta_mse_plot<-plot_ly(xgb_mse_log) %>%\n",
    "add_trace(x=~index,y=~test.error.mean, type = 'scatter',mode = 'lines+markers' )%>%\n",
    "layout(title = 'Value of the mean error during the cross validation of the eta parameter',\n",
    "         xaxis = list(title = 'eta', zeroline = TRUE),\n",
    "         yaxis = list(title = 'rmse'))\n",
    "embed_notebook(xgb_log_eta_mse_plot,file=paste0(\"plotlyJupyterHTML/\",\"xgb_log_eta_mse_plot\",\".html\"))"
   ]
  },
  {
   "cell_type": "code",
   "execution_count": 398,
   "metadata": {
    "collapsed": false
   },
   "outputs": [
    {
     "data": {
      "text/html": [
       "<table>\n",
       "<thead><tr><th></th><th scope=col>index</th><th scope=col>train.error.mean</th><th scope=col>train.error.std</th><th scope=col>test.error.mean</th><th scope=col>test.error.std</th></tr></thead>\n",
       "<tbody>\n",
       "\t<tr><th scope=row>45</th><td>0.44     </td><td>0.1779068</td><td>0.0050786</td><td>0.2552106</td><td>0.0093492</td></tr>\n",
       "</tbody>\n",
       "</table>\n"
      ],
      "text/latex": [
       "\\begin{tabular}{r|lllll}\n",
       "  & index & train.error.mean & train.error.std & test.error.mean & test.error.std\\\\\n",
       "\\hline\n",
       "\t45 & 0.44      & 0.1779068 & 0.0050786 & 0.2552106 & 0.0093492\\\\\n",
       "\\end{tabular}\n"
      ],
      "text/markdown": [
       "\n",
       "| <!--/--> | index | train.error.mean | train.error.std | test.error.mean | test.error.std | \n",
       "|---|\n",
       "| 45 | 0.44      | 0.1779068 | 0.0050786 | 0.2552106 | 0.0093492 | \n",
       "\n",
       "\n"
      ],
      "text/plain": [
       "   index train.error.mean train.error.std test.error.mean test.error.std\n",
       "45 0.44  0.1779068        0.0050786       0.2552106       0.0093492     "
      ]
     },
     "metadata": {},
     "output_type": "display_data"
    }
   ],
   "source": [
    "xgb_mse_log[xgb_mse_log$test.error.mean==min(xgb_mse_log$test.error.mean,na.rm=TRUE),]"
   ]
  },
  {
   "cell_type": "markdown",
   "metadata": {},
   "source": [
    "Since the value of the parameter eta who minimise the mean error is 0.4 that is the value I'll use for the model.\n",
    "\n",
    "### Alpha\n",
    "\n",
    "Alpha is a regularization term use in the linear version of xgboost. To find the most appropriete value to use in the model, I used the same cross validation process than before."
   ]
  },
  {
   "cell_type": "code",
   "execution_count": 399,
   "metadata": {
    "collapsed": false
   },
   "outputs": [],
   "source": [
    "xgb_mse_log<-data.frame(index=numeric(0),train.rmse.mean=numeric(0),train.rmse.std=numeric(0),\n",
    "                    test.rmse.mean=numeric(0),test.rmse.std=numeric(0))\n",
    "\n",
    "for (i in seq(0,20,0.1)){\n",
    "    set.seed(383)\n",
    "     model_xgb_log_cv <- xgb.cv(objective= \"binary:logistic\", eta=0.4, alpha = i, \n",
    "                                data = train_xgb_log_mat,eval_metric= \"error\",\n",
    "                                nfold = 5, nrounds = 5, missing=-1,verbose= 0)\n",
    "    xgb_mse_log<-rbind(xgb_mse_log,c(\"index\"=i,lapply( model_xgb_log_cv,function(x) mean(x))))\n",
    "}"
   ]
  },
  {
   "cell_type": "code",
   "execution_count": 400,
   "metadata": {
    "collapsed": false
   },
   "outputs": [
    {
     "data": {
      "text/html": [
       "<iframe src=\"plotlyJupyterHTML/xgb_log_eta_alpha_plot.html\" width=\"100%\" height=\"400\" id=\"igraph\" scrolling=\"no\" seamless=\"seamless\" frameBorder=\"0\"> </iframe>"
      ]
     },
     "metadata": {},
     "output_type": "display_data"
    }
   ],
   "source": [
    "xgb_log_alpha_mse_plot<-plot_ly(xgb_mse_log) %>%\n",
    "add_trace(x=~index,y=~test.error.mean, type = 'scatter',mode = 'lines+markers' )%>%\n",
    "layout(title = 'Value of the mean error during the cross validation of the alpha parameter',\n",
    "         xaxis = list(title = 'Alpha', zeroline = TRUE),\n",
    "         yaxis = list(title = 'Mean error'))\n",
    "embed_notebook(xgb_log_alpha_mse_plot,file=paste0(\"plotlyJupyterHTML/\",\"xgb_log_eta_alpha_plot\",\".html\"))"
   ]
  },
  {
   "cell_type": "code",
   "execution_count": 401,
   "metadata": {
    "collapsed": false
   },
   "outputs": [
    {
     "data": {
      "text/html": [
       "<table>\n",
       "<thead><tr><th></th><th scope=col>index</th><th scope=col>train.error.mean</th><th scope=col>train.error.std</th><th scope=col>test.error.mean</th><th scope=col>test.error.std</th></tr></thead>\n",
       "<tbody>\n",
       "\t<tr><th scope=row>54</th><td>5.3      </td><td>0.2010814</td><td>0.0055086</td><td>0.2479624</td><td>0.0113454</td></tr>\n",
       "</tbody>\n",
       "</table>\n"
      ],
      "text/latex": [
       "\\begin{tabular}{r|lllll}\n",
       "  & index & train.error.mean & train.error.std & test.error.mean & test.error.std\\\\\n",
       "\\hline\n",
       "\t54 & 5.3       & 0.2010814 & 0.0055086 & 0.2479624 & 0.0113454\\\\\n",
       "\\end{tabular}\n"
      ],
      "text/markdown": [
       "\n",
       "| <!--/--> | index | train.error.mean | train.error.std | test.error.mean | test.error.std | \n",
       "|---|\n",
       "| 54 | 5.3       | 0.2010814 | 0.0055086 | 0.2479624 | 0.0113454 | \n",
       "\n",
       "\n"
      ],
      "text/plain": [
       "   index train.error.mean train.error.std test.error.mean test.error.std\n",
       "54 5.3   0.2010814        0.0055086       0.2479624       0.0113454     "
      ]
     },
     "metadata": {},
     "output_type": "display_data"
    }
   ],
   "source": [
    "xgb_mse_log[xgb_mse_log$test.error.mean==min(xgb_mse_log$test.error.mean,na.rm=TRUE),]"
   ]
  },
  {
   "cell_type": "markdown",
   "metadata": {},
   "source": [
    "### Lambda\n",
    "\n",
    "Like alpha, lambda is another regularization parameter that prevent overfitting problem."
   ]
  },
  {
   "cell_type": "code",
   "execution_count": 402,
   "metadata": {
    "collapsed": false
   },
   "outputs": [],
   "source": [
    "xgb_mse_log<-data.frame(index=numeric(0),train.rmse.mean=numeric(0),train.rmse.std=numeric(0),\n",
    "                    test.rmse.mean=numeric(0),test.rmse.std=numeric(0))\n",
    "\n",
    "for (i in seq(0,10,0.1)){\n",
    "    set.seed(383)\n",
    "     model_xgb_log_cv <- xgb.cv(objective= \"binary:logistic\", eta=0.4, alpha = 4.8, lambda=i,\n",
    "                                data = train_xgb_log_mat,eval_metric= \"error\",\n",
    "                                nfold = 5, nrounds = 5, missing=-1,verbose= 0)\n",
    "    xgb_mse_log<-rbind(xgb_mse_log,c(\"index\"=i,lapply( model_xgb_log_cv,function(x) mean(x))))\n",
    "}"
   ]
  },
  {
   "cell_type": "code",
   "execution_count": 403,
   "metadata": {
    "collapsed": false
   },
   "outputs": [
    {
     "data": {
      "text/html": [
       "<table>\n",
       "<thead><tr><th></th><th scope=col>index</th><th scope=col>train.error.mean</th><th scope=col>train.error.std</th><th scope=col>test.error.mean</th><th scope=col>test.error.std</th></tr></thead>\n",
       "<tbody>\n",
       "\t<tr><th scope=row>2</th><td>0.0      </td><td>0.1972888</td><td>0.0043234</td><td>0.2517156</td><td>0.0126984</td></tr>\n",
       "\t<tr><th scope=row>21</th><td>0.1      </td><td>0.1974190</td><td>0.0043068</td><td>0.2515590</td><td>0.0127742</td></tr>\n",
       "\t<tr><th scope=row>3</th><td>0.2      </td><td>0.1970148</td><td>0.0049518</td><td>0.2509336</td><td>0.0117240</td></tr>\n",
       "\t<tr><th scope=row>4</th><td>0.3      </td><td>0.1968976</td><td>0.0048442</td><td>0.2513510</td><td>0.0118268</td></tr>\n",
       "\t<tr><th scope=row>5</th><td>0.4      </td><td>0.1973148</td><td>0.0050204</td><td>0.2505686</td><td>0.0117064</td></tr>\n",
       "\t<tr><th scope=row>6</th><td>0.5      </td><td>0.1977450</td><td>0.0041752</td><td>0.2505162</td><td>0.0119040</td></tr>\n",
       "</tbody>\n",
       "</table>\n"
      ],
      "text/latex": [
       "\\begin{tabular}{r|lllll}\n",
       "  & index & train.error.mean & train.error.std & test.error.mean & test.error.std\\\\\n",
       "\\hline\n",
       "\t2 & 0.0       & 0.1972888 & 0.0043234 & 0.2517156 & 0.0126984\\\\\n",
       "\t21 & 0.1       & 0.1974190 & 0.0043068 & 0.2515590 & 0.0127742\\\\\n",
       "\t3 & 0.2       & 0.1970148 & 0.0049518 & 0.2509336 & 0.0117240\\\\\n",
       "\t4 & 0.3       & 0.1968976 & 0.0048442 & 0.2513510 & 0.0118268\\\\\n",
       "\t5 & 0.4       & 0.1973148 & 0.0050204 & 0.2505686 & 0.0117064\\\\\n",
       "\t6 & 0.5       & 0.1977450 & 0.0041752 & 0.2505162 & 0.0119040\\\\\n",
       "\\end{tabular}\n"
      ],
      "text/markdown": [
       "\n",
       "| <!--/--> | index | train.error.mean | train.error.std | test.error.mean | test.error.std | \n",
       "|---|---|---|---|---|---|\n",
       "| 2 | 0.0       | 0.1972888 | 0.0043234 | 0.2517156 | 0.0126984 | \n",
       "| 21 | 0.1       | 0.1974190 | 0.0043068 | 0.2515590 | 0.0127742 | \n",
       "| 3 | 0.2       | 0.1970148 | 0.0049518 | 0.2509336 | 0.0117240 | \n",
       "| 4 | 0.3       | 0.1968976 | 0.0048442 | 0.2513510 | 0.0118268 | \n",
       "| 5 | 0.4       | 0.1973148 | 0.0050204 | 0.2505686 | 0.0117064 | \n",
       "| 6 | 0.5       | 0.1977450 | 0.0041752 | 0.2505162 | 0.0119040 | \n",
       "\n",
       "\n"
      ],
      "text/plain": [
       "   index train.error.mean train.error.std test.error.mean test.error.std\n",
       "2  0.0   0.1972888        0.0043234       0.2517156       0.0126984     \n",
       "21 0.1   0.1974190        0.0043068       0.2515590       0.0127742     \n",
       "3  0.2   0.1970148        0.0049518       0.2509336       0.0117240     \n",
       "4  0.3   0.1968976        0.0048442       0.2513510       0.0118268     \n",
       "5  0.4   0.1973148        0.0050204       0.2505686       0.0117064     \n",
       "6  0.5   0.1977450        0.0041752       0.2505162       0.0119040     "
      ]
     },
     "metadata": {},
     "output_type": "display_data"
    }
   ],
   "source": [
    "head(xgb_mse_log)"
   ]
  },
  {
   "cell_type": "code",
   "execution_count": 404,
   "metadata": {
    "collapsed": false
   },
   "outputs": [
    {
     "data": {
      "text/html": [
       "<iframe src=\"plotlyJupyterHTML/xgb_log_alpha_plot.html\" width=\"100%\" height=\"400\" id=\"igraph\" scrolling=\"no\" seamless=\"seamless\" frameBorder=\"0\"> </iframe>"
      ]
     },
     "metadata": {},
     "output_type": "display_data"
    }
   ],
   "source": [
    "xgb_log_alpha_mse_plot<-plot_ly(xgb_mse_log) %>%\n",
    "add_trace(x=~index,y=~test.error.mean, type = 'scatter',mode = 'lines+markers' )%>%\n",
    "layout(title = 'Value of the mean error during the cross validation of the alpha parameter',\n",
    "         xaxis = list(title = 'Alpha', zeroline = TRUE),\n",
    "         yaxis = list(title = 'Mean error'))\n",
    "embed_notebook(xgb_log_alpha_mse_plot,file=paste0(\"plotlyJupyterHTML/\",\"xgb_log_alpha_plot\",\".html\"))"
   ]
  },
  {
   "cell_type": "code",
   "execution_count": 405,
   "metadata": {
    "collapsed": false
   },
   "outputs": [
    {
     "data": {
      "text/html": [
       "<table>\n",
       "<thead><tr><th></th><th scope=col>index</th><th scope=col>train.error.mean</th><th scope=col>train.error.std</th><th scope=col>test.error.mean</th><th scope=col>test.error.std</th></tr></thead>\n",
       "<tbody>\n",
       "\t<tr><th scope=row>14</th><td>1.3      </td><td>0.1988656</td><td>0.0050564</td><td>0.2486386</td><td>0.0145952</td></tr>\n",
       "</tbody>\n",
       "</table>\n"
      ],
      "text/latex": [
       "\\begin{tabular}{r|lllll}\n",
       "  & index & train.error.mean & train.error.std & test.error.mean & test.error.std\\\\\n",
       "\\hline\n",
       "\t14 & 1.3       & 0.1988656 & 0.0050564 & 0.2486386 & 0.0145952\\\\\n",
       "\\end{tabular}\n"
      ],
      "text/markdown": [
       "\n",
       "| <!--/--> | index | train.error.mean | train.error.std | test.error.mean | test.error.std | \n",
       "|---|\n",
       "| 14 | 1.3       | 0.1988656 | 0.0050564 | 0.2486386 | 0.0145952 | \n",
       "\n",
       "\n"
      ],
      "text/plain": [
       "   index train.error.mean train.error.std test.error.mean test.error.std\n",
       "14 1.3   0.1988656        0.0050564       0.2486386       0.0145952     "
      ]
     },
     "metadata": {},
     "output_type": "display_data"
    }
   ],
   "source": [
    "xgb_mse_log[xgb_mse_log$test.error.mean==min(xgb_mse_log$test.error.mean,na.rm=TRUE),]"
   ]
  },
  {
   "cell_type": "markdown",
   "metadata": {},
   "source": [
    "### gamma \n",
    "\n",
    "This parameter is the minimum loss reduction that need to occurs for the partition of a tree. That parameter can take any value greater or equal to 0 and the greater the value, the more conservative the model will be.  "
   ]
  },
  {
   "cell_type": "code",
   "execution_count": 406,
   "metadata": {
    "collapsed": false
   },
   "outputs": [],
   "source": [
    "xgb_mse_log<-data.frame(index=numeric(0),train.rmse.mean=numeric(0),train.rmse.std=numeric(0),\n",
    "                    test.rmse.mean=numeric(0),test.rmse.std=numeric(0))\n",
    "\n",
    "for (i in seq(0,10,0.1)){\n",
    "    set.seed(383)\n",
    "     model_xgb_log_cv <- xgb.cv(objective= \"binary:logistic\", eta=0.4, alpha = 4.8, lambda=5,\n",
    "                                gamma=i,data = train_xgb_log_mat,eval_metric= \"error\",\n",
    "                                nfold = 5, nrounds = 5, missing=-1,verbose= 0)\n",
    "    xgb_mse_log<-rbind(xgb_mse_log,c(\"index\"=i,lapply( model_xgb_log_cv,function(x) mean(x))))\n",
    "}"
   ]
  },
  {
   "cell_type": "code",
   "execution_count": 407,
   "metadata": {
    "collapsed": false
   },
   "outputs": [
    {
     "data": {
      "text/html": [
       "<iframe src=\"plotlyJupyterHTML/xgb_log_gamma_plot.html\" width=\"100%\" height=\"400\" id=\"igraph\" scrolling=\"no\" seamless=\"seamless\" frameBorder=\"0\"> </iframe>"
      ]
     },
     "metadata": {},
     "output_type": "display_data"
    }
   ],
   "source": [
    "xgb_log_gamma_mse_plot<-plot_ly(xgb_mse_log) %>%\n",
    "add_trace(x=~index,y=~test.error.mean, type = 'scatter',mode = 'lines+markers' )%>%\n",
    "layout(title = 'Value of the mean error during the cross validation of the gamma parameter',\n",
    "         xaxis = list(title = 'gamma', zeroline = TRUE),\n",
    "         yaxis = list(title = 'Mean error'))\n",
    "embed_notebook(xgb_log_gamma_mse_plot,file=paste0(\"plotlyJupyterHTML/\",\"xgb_log_gamma_plot\",\".html\"))"
   ]
  },
  {
   "cell_type": "code",
   "execution_count": 408,
   "metadata": {
    "collapsed": false
   },
   "outputs": [
    {
     "data": {
      "text/html": [
       "<table>\n",
       "<thead><tr><th></th><th scope=col>index</th><th scope=col>train.error.mean</th><th scope=col>train.error.std</th><th scope=col>test.error.mean</th><th scope=col>test.error.std</th></tr></thead>\n",
       "<tbody>\n",
       "\t<tr><th scope=row>23</th><td>2.2      </td><td>0.2130214</td><td>0.0051100</td><td>0.2463468</td><td>0.0111840</td></tr>\n",
       "\t<tr><th scope=row>25</th><td>2.4      </td><td>0.2142726</td><td>0.0053868</td><td>0.2463468</td><td>0.0112264</td></tr>\n",
       "</tbody>\n",
       "</table>\n"
      ],
      "text/latex": [
       "\\begin{tabular}{r|lllll}\n",
       "  & index & train.error.mean & train.error.std & test.error.mean & test.error.std\\\\\n",
       "\\hline\n",
       "\t23 & 2.2       & 0.2130214 & 0.0051100 & 0.2463468 & 0.0111840\\\\\n",
       "\t25 & 2.4       & 0.2142726 & 0.0053868 & 0.2463468 & 0.0112264\\\\\n",
       "\\end{tabular}\n"
      ],
      "text/markdown": [
       "\n",
       "| <!--/--> | index | train.error.mean | train.error.std | test.error.mean | test.error.std | \n",
       "|---|---|\n",
       "| 23 | 2.2       | 0.2130214 | 0.0051100 | 0.2463468 | 0.0111840 | \n",
       "| 25 | 2.4       | 0.2142726 | 0.0053868 | 0.2463468 | 0.0112264 | \n",
       "\n",
       "\n"
      ],
      "text/plain": [
       "   index train.error.mean train.error.std test.error.mean test.error.std\n",
       "23 2.2   0.2130214        0.0051100       0.2463468       0.0111840     \n",
       "25 2.4   0.2142726        0.0053868       0.2463468       0.0112264     "
      ]
     },
     "metadata": {},
     "output_type": "display_data"
    }
   ],
   "source": [
    "xgb_mse_log[xgb_mse_log$test.error.mean==min(xgb_mse_log$test.error.mean,na.rm=TRUE),]"
   ]
  },
  {
   "cell_type": "markdown",
   "metadata": {},
   "source": [
    "### max_depth"
   ]
  },
  {
   "cell_type": "markdown",
   "metadata": {},
   "source": [
    "As his name indicate that parameter set the maximun depth of each tree. This parameter take value greater or equal to 1."
   ]
  },
  {
   "cell_type": "code",
   "execution_count": 410,
   "metadata": {
    "collapsed": false
   },
   "outputs": [],
   "source": [
    "xgb_mse_log<-data.frame(index=numeric(0),train.rmse.mean=numeric(0),train.rmse.std=numeric(0),\n",
    "                    test.rmse.mean=numeric(0),test.rmse.std=numeric(0))\n",
    "\n",
    "for (i in seq(1,50,1)){\n",
    "    set.seed(383)\n",
    "     model_xgb_log_cv <- xgb.cv(objective= \"binary:logistic\", eta=0.4, alpha = 4.8, lambda=5,\n",
    "                                gamma=0.1,max_depth=i,data = train_xgb_log_mat,eval_metric= \"error\",\n",
    "                                nfold = 5, nrounds = 5, missing=-1,verbose= 0)\n",
    "    xgb_mse_log<-rbind(xgb_mse_log,c(\"index\"=i,lapply( model_xgb_log_cv,function(x) mean(x))))\n",
    "}"
   ]
  },
  {
   "cell_type": "code",
   "execution_count": 411,
   "metadata": {
    "collapsed": false
   },
   "outputs": [
    {
     "data": {
      "text/html": [
       "<iframe src=\"plotlyJupyterHTML/xgb_log_max_depth_plot.html\" width=\"100%\" height=\"400\" id=\"igraph\" scrolling=\"no\" seamless=\"seamless\" frameBorder=\"0\"> </iframe>"
      ]
     },
     "metadata": {},
     "output_type": "display_data"
    }
   ],
   "source": [
    "xgb_log_max_depth_mse_plot<-plot_ly(xgb_mse_log) %>%\n",
    "add_trace(x=~index,y=~test.error.mean, type = 'scatter',mode = 'lines+markers' )%>%\n",
    "layout(title = 'Value of the mean error during the cross validation of the max_depth parameter',\n",
    "         xaxis = list(title = 'max_depth', zeroline = TRUE),\n",
    "         yaxis = list(title = 'Mean error'))\n",
    "embed_notebook(xgb_log_max_depth_mse_plot,file=paste0(\"plotlyJupyterHTML/\",\"xgb_log_max_depth_plot\",\".html\"))"
   ]
  },
  {
   "cell_type": "code",
   "execution_count": 416,
   "metadata": {
    "collapsed": false
   },
   "outputs": [
    {
     "data": {
      "text/html": [
       "<table>\n",
       "<thead><tr><th></th><th scope=col>index</th><th scope=col>train.error.mean</th><th scope=col>train.error.std</th><th scope=col>test.error.mean</th><th scope=col>test.error.std</th></tr></thead>\n",
       "<tbody>\n",
       "\t<tr><th scope=row>2</th><td>55       </td><td>0.2380474</td><td>0.00488  </td><td>0.2473398</td><td>0.0086426</td></tr>\n",
       "</tbody>\n",
       "</table>\n"
      ],
      "text/latex": [
       "\\begin{tabular}{r|lllll}\n",
       "  & index & train.error.mean & train.error.std & test.error.mean & test.error.std\\\\\n",
       "\\hline\n",
       "\t2 & 55        & 0.2380474 & 0.00488   & 0.2473398 & 0.0086426\\\\\n",
       "\\end{tabular}\n"
      ],
      "text/markdown": [
       "\n",
       "| <!--/--> | index | train.error.mean | train.error.std | test.error.mean | test.error.std | \n",
       "|---|\n",
       "| 2 | 55        | 0.2380474 | 0.00488   | 0.2473398 | 0.0086426 | \n",
       "\n",
       "\n"
      ],
      "text/plain": [
       "  index train.error.mean train.error.std test.error.mean test.error.std\n",
       "2 55    0.2380474        0.00488         0.2473398       0.0086426     "
      ]
     },
     "metadata": {},
     "output_type": "display_data"
    }
   ],
   "source": [
    "xgb_mse_log[xgb_mse_log$test.error.mean==min(xgb_mse_log$test.error.mean,na.rm=TRUE),]"
   ]
  },
  {
   "cell_type": "markdown",
   "metadata": {},
   "source": [
    "As 6 is the defaul value of the parameter max_depth and that value minimise the mean error during the cross validation, I didn't change the defaut value.\n",
    "\n",
    "### min_child_weight\n",
    "\n",
    "This parameter determine the minimun weight that can have a tree after a partition during the creation of the model. Before each partition, the algorithm verify if the resulting child tree would have a weight smaller than that value and if it's the case, he doesn't do the partition. This parameter can take value greater than 0 and the bigger the value the more conservative the model will be."
   ]
  },
  {
   "cell_type": "code",
   "execution_count": 417,
   "metadata": {
    "collapsed": false
   },
   "outputs": [],
   "source": [
    "xgb_mse_log<-data.frame(index=numeric(0),train.rmse.mean=numeric(0),train.rmse.std=numeric(0),\n",
    "                    test.rmse.mean=numeric(0),test.rmse.std=numeric(0))\n",
    "\n",
    "for (i in seq(0,150,0.5)){\n",
    "    set.seed(383)\n",
    "     model_xgb_log_cv <- xgb.cv(objective= \"binary:logistic\", eta=0.4, alpha = 4.8, lambda=5,\n",
    "                                gamma=0.1,min_child_weight=i,data = train_xgb_log_mat,eval_metric= \"error\",\n",
    "                                nfold = 5, nrounds = 5, missing=-1,verbose= 0)\n",
    "    xgb_mse_log<-rbind(xgb_mse_log,c(\"index\"=i,lapply( model_xgb_log_cv,function(x) mean(x))))\n",
    "}"
   ]
  },
  {
   "cell_type": "code",
   "execution_count": 418,
   "metadata": {
    "collapsed": false
   },
   "outputs": [
    {
     "data": {
      "text/html": [
       "<iframe src=\"plotlyJupyterHTML/xgb_log_min_child_weight_expl.html\" width=\"100%\" height=\"400\" id=\"igraph\" scrolling=\"no\" seamless=\"seamless\" frameBorder=\"0\"> </iframe>"
      ]
     },
     "metadata": {},
     "output_type": "display_data"
    }
   ],
   "source": [
    "xgb_log_min_child_weight_expl<-plot_ly(xgb_mse_log) %>%\n",
    "add_trace(x=~index,y=~test.error.mean, type = 'scatter',mode = 'lines+markers' )%>%\n",
    "layout(title = 'Value of the mean error during the cross validation of the min_child_weight parameter',\n",
    "         xaxis = list(title = 'min_child_weight', zeroline = TRUE),\n",
    "         yaxis = list(title = 'Mean error'))\n",
    "embed_notebook(xgb_log_min_child_weight_expl,file=paste0(\"plotlyJupyterHTML/\",\"xgb_log_min_child_weight_expl\",\".html\"))"
   ]
  },
  {
   "cell_type": "markdown",
   "metadata": {},
   "source": [
    "We see that there a minimum around min_child_weight=60, so I focus on this area of the graph."
   ]
  },
  {
   "cell_type": "code",
   "execution_count": 419,
   "metadata": {
    "collapsed": false
   },
   "outputs": [],
   "source": [
    "xgb_mse_log<-data.frame(index=numeric(0),train.rmse.mean=numeric(0),train.rmse.std=numeric(0),\n",
    "                    test.rmse.mean=numeric(0),test.rmse.std=numeric(0))\n",
    "\n",
    "for (i in seq(55,70,0.1)){\n",
    "    set.seed(383)\n",
    "     model_xgb_log_cv <- xgb.cv(objective= \"binary:logistic\", eta=0.4, alpha = 4.8, lambda=5,\n",
    "                                gamma=0.1,min_child_weight=i,data = train_xgb_log_mat,eval_metric= \"error\",\n",
    "                                nfold = 5, nrounds = 5, missing=-1,verbose= 0)\n",
    "    xgb_mse_log<-rbind(xgb_mse_log,c(\"index\"=i,lapply( model_xgb_log_cv,function(x) mean(x))))\n",
    "}"
   ]
  },
  {
   "cell_type": "code",
   "execution_count": 420,
   "metadata": {
    "collapsed": false
   },
   "outputs": [
    {
     "data": {
      "text/html": [
       "<iframe src=\"plotlyJupyterHTML/xgb_log_min_child_weight_plot.html\" width=\"100%\" height=\"400\" id=\"igraph\" scrolling=\"no\" seamless=\"seamless\" frameBorder=\"0\"> </iframe>"
      ]
     },
     "metadata": {},
     "output_type": "display_data"
    }
   ],
   "source": [
    "xgb_log_min_child_weight_plot<-plot_ly(xgb_mse_log) %>%\n",
    "add_trace(x=~index,y=~test.error.mean, type = 'scatter',mode = 'lines+markers' )%>%\n",
    "layout(title = 'Value of the mean error during the cross validation of the min_child_weight parameter',\n",
    "         xaxis = list(title = 'min_child_weight', zeroline = TRUE),\n",
    "         yaxis = list(title = 'Mean error'))\n",
    "embed_notebook(xgb_log_min_child_weight_plot,file=paste0(\"plotlyJupyterHTML/\",\"xgb_log_min_child_weight_plot\",\".html\"))"
   ]
  },
  {
   "cell_type": "code",
   "execution_count": 421,
   "metadata": {
    "collapsed": false
   },
   "outputs": [
    {
     "data": {
      "text/html": [
       "<table>\n",
       "<thead><tr><th></th><th scope=col>index</th><th scope=col>train.error.mean</th><th scope=col>train.error.std</th><th scope=col>test.error.mean</th><th scope=col>test.error.std</th></tr></thead>\n",
       "<tbody>\n",
       "\t<tr><th scope=row>2</th><td>55       </td><td>0.2380474</td><td>0.00488  </td><td>0.2473398</td><td>0.0086426</td></tr>\n",
       "</tbody>\n",
       "</table>\n"
      ],
      "text/latex": [
       "\\begin{tabular}{r|lllll}\n",
       "  & index & train.error.mean & train.error.std & test.error.mean & test.error.std\\\\\n",
       "\\hline\n",
       "\t2 & 55        & 0.2380474 & 0.00488   & 0.2473398 & 0.0086426\\\\\n",
       "\\end{tabular}\n"
      ],
      "text/markdown": [
       "\n",
       "| <!--/--> | index | train.error.mean | train.error.std | test.error.mean | test.error.std | \n",
       "|---|\n",
       "| 2 | 55        | 0.2380474 | 0.00488   | 0.2473398 | 0.0086426 | \n",
       "\n",
       "\n"
      ],
      "text/plain": [
       "  index train.error.mean train.error.std test.error.mean test.error.std\n",
       "2 55    0.2380474        0.00488         0.2473398       0.0086426     "
      ]
     },
     "metadata": {},
     "output_type": "display_data"
    }
   ],
   "source": [
    "xgb_mse_log[xgb_mse_log$test.error.mean==min(xgb_mse_log$test.error.mean,na.rm=TRUE),]"
   ]
  },
  {
   "cell_type": "markdown",
   "metadata": {},
   "source": [
    "Since all those value would minimise the mean classification error, I used min_child_weight=62.\n",
    "\n",
    "### max_delta_step\n",
    "\n",
    "max_delta_step is the maximum variation of the weight that we allow between two iterations of the algorithm. This value could be 0 (no constraint) or greater (more conservative).  "
   ]
  },
  {
   "cell_type": "code",
   "execution_count": 422,
   "metadata": {
    "collapsed": false
   },
   "outputs": [],
   "source": [
    "xgb_mse_log<-data.frame(index=numeric(0),train.rmse.mean=numeric(0),train.rmse.std=numeric(0),\n",
    "                    test.rmse.mean=numeric(0),test.rmse.std=numeric(0))\n",
    "\n",
    "for (i in seq(0,10,0.1)){\n",
    "    set.seed(383)\n",
    "     model_xgb_log_cv <- xgb.cv(objective= \"binary:logistic\", eta=0.4, alpha = 4.8, lambda=5,gamma=0.1,\n",
    "                                min_child_weight=62,max_delta_step=i,data = train_xgb_log_mat,eval_metric= \"error\",\n",
    "                                nfold = 5, nrounds = 5, missing=-1,verbose= 0)\n",
    "    xgb_mse_log<-rbind(xgb_mse_log,c(\"index\"=i,lapply( model_xgb_log_cv,function(x) mean(x))))\n",
    "}"
   ]
  },
  {
   "cell_type": "code",
   "execution_count": 423,
   "metadata": {
    "collapsed": false
   },
   "outputs": [
    {
     "data": {
      "text/html": [
       "<iframe src=\"plotlyJupyterHTML/xgb_log_max_delta_step_plot.html\" width=\"100%\" height=\"400\" id=\"igraph\" scrolling=\"no\" seamless=\"seamless\" frameBorder=\"0\"> </iframe>"
      ]
     },
     "metadata": {},
     "output_type": "display_data"
    }
   ],
   "source": [
    "xgb_log_max_delta_step_plot<-plot_ly(xgb_mse_log) %>%\n",
    "add_trace(x=~index,y=~test.error.mean, type = 'scatter',mode = 'lines+markers' )%>%\n",
    "layout(title = 'Value of the mean error during the cross validation of the max_delta_step parameter',\n",
    "         xaxis = list(title = 'max_delta_step', zeroline = TRUE),\n",
    "         yaxis = list(title = 'Mean error'))\n",
    "embed_notebook(xgb_log_max_delta_step_plot,file=paste0(\"plotlyJupyterHTML/\",\"xgb_log_max_delta_step_plot\",\".html\"))"
   ]
  },
  {
   "cell_type": "markdown",
   "metadata": {},
   "source": [
    "Since the default value of the parameter give the minimun mean error, I won't modify this value in the function.\n",
    "\n",
    "### subsample \n",
    "This is the ratio of the sample during the training of the model. This parameter can take value between 0 and 1 (included)."
   ]
  },
  {
   "cell_type": "code",
   "execution_count": 424,
   "metadata": {
    "collapsed": false
   },
   "outputs": [],
   "source": [
    "xgb_mse_log<-data.frame(index=numeric(0),train.rmse.mean=numeric(0),train.rmse.std=numeric(0),\n",
    "                    test.rmse.mean=numeric(0),test.rmse.std=numeric(0))\n",
    "\n",
    "for (i in seq(0,1,0.01)){\n",
    "    set.seed(383)\n",
    "     model_xgb_log_cv <- xgb.cv(objective= \"binary:logistic\", eta=0.4, alpha = 4.8, lambda=5,,gamma=0.1,\n",
    "                                min_child_weight=62, subsample=i,data = train_xgb_log_mat,\n",
    "                                eval_metric= \"error\",nfold = 5, nrounds = 5, missing=-1,verbose= 0)\n",
    "    xgb_mse_log<-rbind(xgb_mse_log,c(\"index\"=i,lapply( model_xgb_log_cv,function(x) mean(x))))\n",
    "}"
   ]
  },
  {
   "cell_type": "code",
   "execution_count": 425,
   "metadata": {
    "collapsed": false
   },
   "outputs": [
    {
     "data": {
      "text/html": [
       "<iframe src=\"plotlyJupyterHTML/xgb_log_subsample_plot.html\" width=\"100%\" height=\"400\" id=\"igraph\" scrolling=\"no\" seamless=\"seamless\" frameBorder=\"0\"> </iframe>"
      ]
     },
     "metadata": {},
     "output_type": "display_data"
    }
   ],
   "source": [
    "xgb_log_subsample_plot<-plot_ly(xgb_mse_log) %>%\n",
    "add_trace(x=~index,y=~test.error.mean, type = 'scatter',mode = 'lines+markers' )%>%\n",
    "layout(title = 'Value of the mean error during the cross validation of the subsample parameter',\n",
    "         xaxis = list(title = 'subsample', zeroline = TRUE),\n",
    "         yaxis = list(title = 'Mean error'))\n",
    "embed_notebook(xgb_log_subsample_plot,file=paste0(\"plotlyJupyterHTML/\",\"xgb_log_subsample_plot\",\".html\"))"
   ]
  },
  {
   "cell_type": "code",
   "execution_count": 426,
   "metadata": {
    "collapsed": false
   },
   "outputs": [
    {
     "data": {
      "text/html": [
       "<table>\n",
       "<thead><tr><th></th><th scope=col>index</th><th scope=col>train.error.mean</th><th scope=col>train.error.std</th><th scope=col>test.error.mean</th><th scope=col>test.error.std</th></tr></thead>\n",
       "<tbody>\n",
       "\t<tr><th scope=row>96</th><td>0.95     </td><td>0.240563 </td><td>0.005243 </td><td>0.2482244</td><td>0.0108298</td></tr>\n",
       "</tbody>\n",
       "</table>\n"
      ],
      "text/latex": [
       "\\begin{tabular}{r|lllll}\n",
       "  & index & train.error.mean & train.error.std & test.error.mean & test.error.std\\\\\n",
       "\\hline\n",
       "\t96 & 0.95      & 0.240563  & 0.005243  & 0.2482244 & 0.0108298\\\\\n",
       "\\end{tabular}\n"
      ],
      "text/markdown": [
       "\n",
       "| <!--/--> | index | train.error.mean | train.error.std | test.error.mean | test.error.std | \n",
       "|---|\n",
       "| 96 | 0.95      | 0.240563  | 0.005243  | 0.2482244 | 0.0108298 | \n",
       "\n",
       "\n"
      ],
      "text/plain": [
       "   index train.error.mean train.error.std test.error.mean test.error.std\n",
       "96 0.95  0.240563         0.005243        0.2482244       0.0108298     "
      ]
     },
     "metadata": {},
     "output_type": "display_data"
    }
   ],
   "source": [
    "xgb_mse_log[xgb_mse_log$test.error.mean==min(xgb_mse_log$test.error.mean,na.rm=TRUE),]"
   ]
  },
  {
   "cell_type": "markdown",
   "metadata": {},
   "source": [
    "Now that I know which value of the hyperparameter to use, I can test the new model."
   ]
  },
  {
   "cell_type": "code",
   "execution_count": 433,
   "metadata": {
    "collapsed": false
   },
   "outputs": [],
   "source": [
    "param_tune <- list(     objective= \"binary:logistic\", \n",
    "                        eta=0.4,\n",
    "                        alpha = 4.8, \n",
    "                        lambda=5,\n",
    "                        gamma=0.1, \n",
    "                        min_child_weight=35.5,\n",
    "                        subsample=0.9, \n",
    "                        colsample_bytree=1                \n",
    "                )"
   ]
  },
  {
   "cell_type": "code",
   "execution_count": 434,
   "metadata": {
    "collapsed": false
   },
   "outputs": [],
   "source": [
    "set.seed(383)\n",
    "model_xgb_log_tune <- xgb.train(    params              = param_tune, \n",
    "                                    data                = train_xgb_log_mat, \n",
    "                                    nrounds             = 500, \n",
    "                                    eval_metric         = \"error\", \n",
    "                                    missing             =-1,\n",
    "                                    verbose             = 0,\n",
    "                                    maximize            = FALSE)"
   ]
  },
  {
   "cell_type": "code",
   "execution_count": 435,
   "metadata": {
    "collapsed": false
   },
   "outputs": [],
   "source": [
    "prediction<-data.frame(profit=test_xgb_log$profitable)\n",
    "prediction$output<-NA"
   ]
  },
  {
   "cell_type": "code",
   "execution_count": 436,
   "metadata": {
    "collapsed": false
   },
   "outputs": [],
   "source": [
    "for (rows in split(1:nrow(test_xgb), ceiling((1:nrow(test_xgb))/10000))) {\n",
    "    prediction[rows, \"output\"] <- predict(model_xgb_log_tune, test_xgb_log_mat)\n",
    "    }"
   ]
  },
  {
   "cell_type": "code",
   "execution_count": 437,
   "metadata": {
    "collapsed": false
   },
   "outputs": [
    {
     "data": {
      "text/plain": [
       "   \n",
       "      0   1\n",
       "  0 553  66\n",
       "  1 175  69"
      ]
     },
     "metadata": {},
     "output_type": "display_data"
    }
   ],
   "source": [
    "prediction$pred<-0\n",
    "prediction[which(prediction$output>=0.5),\"pred\"]<-1\n",
    "prediction$index<-seq.int(nrow(prediction))\n",
    "prediction<-prediction[!is.na(test$gross_2016),]\n",
    "\n",
    "result<-table(prediction$profit,prediction$pred)\n",
    "result"
   ]
  },
  {
   "cell_type": "code",
   "execution_count": 438,
   "metadata": {
    "collapsed": false
   },
   "outputs": [
    {
     "name": "stdout",
     "output_type": "stream",
     "text": [
      "[1] \"Accuracy: 0.720741599073001\"\n",
      "[1] \"Precision: 0.282786885245902\"\n",
      "[1] \"Recall: 0.511111111111111\"\n"
     ]
    }
   ],
   "source": [
    "print(paste0(\"Accuracy: \",(result[1,1]+result[2,2])/sum(result)))\n",
    "print(paste0(\"Precision: \",(result[2,2])/(result[2,2]+result[2,1])))\n",
    "print(paste0(\"Recall: \",(result[2,2])/(result[2,2]+result[1,2])))"
   ]
  },
  {
   "cell_type": "code",
   "execution_count": 439,
   "metadata": {
    "collapsed": false
   },
   "outputs": [
    {
     "data": {
      "text/html": [
       "TRUE"
      ],
      "text/latex": [
       "TRUE"
      ],
      "text/markdown": [
       "TRUE"
      ],
      "text/plain": [
       "[1] TRUE"
      ]
     },
     "metadata": {},
     "output_type": "display_data"
    }
   ],
   "source": [
    "xgb.save(model_xgb_log,fname=\"model_xgb_log\")"
   ]
  },
  {
   "cell_type": "markdown",
   "metadata": {},
   "source": [
    "# Neural Network\n",
    "\n",
    "The last algorithm I used is a simple neural network. To do so, I created two new set for training the neural network and testing the model. I choosed to include the continous and genre feature, since a network too complex couldn't be trained in a timely matter by my old computer."
   ]
  },
  {
   "cell_type": "code",
   "execution_count": 441,
   "metadata": {
    "collapsed": false
   },
   "outputs": [],
   "source": [
    "train_nn<-train[,c(cont_var,genre_var),with=FALSE]\n",
    "test_nn<-test[,c(cont_var,genre_var),with=FALSE]\n",
    "\n",
    "train_nn$profitable<-0\n",
    "test_nn$profitable<-0\n",
    "\n",
    "train_nn[which(train_nn$profit>=0),\"profitable\"]<-1\n",
    "test_nn[which(test_nn$profit>=0),\"profitable\"]<-1"
   ]
  },
  {
   "cell_type": "markdown",
   "metadata": {},
   "source": [
    "The neural network I will use won't be able to handle the missing data. In consequence, I delete thos observations from the set."
   ]
  },
  {
   "cell_type": "code",
   "execution_count": 442,
   "metadata": {
    "collapsed": false
   },
   "outputs": [],
   "source": [
    "train_nn<-train_nn[complete.cases(train_nn)]\n",
    "test_nn<-test_nn[complete.cases(test_nn)]"
   ]
  },
  {
   "cell_type": "markdown",
   "metadata": {
    "collapsed": true
   },
   "source": [
    "Next I normalize the continuous variables and I drop the \"profit\" and \"gross_2016\" variables."
   ]
  },
  {
   "cell_type": "code",
   "execution_count": 443,
   "metadata": {
    "collapsed": false
   },
   "outputs": [],
   "source": [
    "for (f in cont_var) {\n",
    "  if (max(train_nn[[f]])!=1 | min(train_nn[[f]])!=-1) {\n",
    "    train_nn[[f]] <- scale(train_nn[[f]])\n",
    "    test_nn[[f]]  <- scale(test_nn[[f]])\n",
    "  }\n",
    "}"
   ]
  },
  {
   "cell_type": "code",
   "execution_count": 445,
   "metadata": {
    "collapsed": true
   },
   "outputs": [],
   "source": [
    "train_nn<-train_nn[,!c(\"profit\",\"gross_2016\"),with=FALSE]\n",
    "test_nn<-test_nn[,!c(\"profit\",\"gross_2016\"),with=FALSE]"
   ]
  },
  {
   "cell_type": "markdown",
   "metadata": {
    "collapsed": true
   },
   "source": [
    "Below I defined the model I want to create with the neural network."
   ]
  },
  {
   "cell_type": "code",
   "execution_count": 460,
   "metadata": {
    "collapsed": false
   },
   "outputs": [],
   "source": [
    "n <- names(train_nn)\n",
    "f <- as.formula(paste(\"profitable ~\", paste(n[!n %in% \"profitable\"], collapse = \" + \")))"
   ]
  },
  {
   "cell_type": "code",
   "execution_count": 461,
   "metadata": {
    "collapsed": false
   },
   "outputs": [
    {
     "data": {
      "text/plain": [
       "profitable ~ duration + director_facebook_likes + actor_3_facebook_likes + \n",
       "    actor_1_facebook_likes + cast_total_facebook_likes + facenumber_in_poster + \n",
       "    actor_2_facebook_likes + budget_2016 + dir_mean_gross + act_1_mean_gross + \n",
       "    act_2_mean_gross + act_3_mean_gross + genres_Action + genres_Adventure + \n",
       "    genres_Animation + genres_Biography + genres_Comedy + genres_Crime + \n",
       "    genres_Documentary + genres_Drama + genres_Family + genres_Fantasy + \n",
       "    genres_Film_Noir + genres_Game_Show + genres_History + genres_Horror + \n",
       "    genres_Music + genres_Musical + genres_Mystery + genres_News + \n",
       "    genres_Reality_TV + genres_Romance + genres_Sci_Fi + genres_Short + \n",
       "    genres_Sport + genres_Thriller + genres_War + genres_Western"
      ]
     },
     "metadata": {},
     "output_type": "display_data"
    }
   ],
   "source": [
    "f"
   ]
  },
  {
   "cell_type": "markdown",
   "metadata": {},
   "source": [
    "Before I train the neural network, I must choose the number of hidden layer I'll use, the number of neuron in those layer and the value of the regularization parameter alpha. Since that adding redondant hidden layer give marginal improvement on the neural network, exept in rare occasion or when a lot is added, I chosed one hidden layer. To test how many neuron will be in that layer, I have written a function to easily test multiple value."
   ]
  },
  {
   "cell_type": "code",
   "execution_count": 454,
   "metadata": {
    "collapsed": false
   },
   "outputs": [],
   "source": [
    "test.neuron<-function(n)\n",
    "{\n",
    "    index <- sample(1:nrow(train_nn),round(0.85*nrow(train_nn)))\n",
    "    train.cv <- train_nn[index,]\n",
    "    cross.val.cv <- train_nn[-index,]\n",
    "    \n",
    "    nn <- neuralnet(f,data=train.cv,hidden=n,algorithm= 'rprop+',learningrate=0.01,\n",
    "                    err.fct = \"sse\",act.fct = \"logistic\",linear.output=FALSE)\n",
    "    pred<-compute(nn, cross.val.cv[,!\"profitable\",with=FALSE])\n",
    "    output<-round(pred$net.result)\n",
    "    result<-sum((cross.val.cv$profitable-output)^2)\n",
    "\n",
    "    return(result)\n",
    "}"
   ]
  },
  {
   "cell_type": "markdown",
   "metadata": {
    "collapsed": false
   },
   "source": [
    "There's 39 features"
   ]
  },
  {
   "cell_type": "code",
   "execution_count": 462,
   "metadata": {
    "collapsed": false
   },
   "outputs": [
    {
     "data": {
      "text/html": [
       "<ol class=list-inline>\n",
       "\t<li>194</li>\n",
       "\t<li>160</li>\n",
       "\t<li>173</li>\n",
       "\t<li>174</li>\n",
       "\t<li>191</li>\n",
       "\t<li>183</li>\n",
       "\t<li>204</li>\n",
       "</ol>\n"
      ],
      "text/latex": [
       "\\begin{enumerate*}\n",
       "\\item 194\n",
       "\\item 160\n",
       "\\item 173\n",
       "\\item 174\n",
       "\\item 191\n",
       "\\item 183\n",
       "\\item 204\n",
       "\\end{enumerate*}\n"
      ],
      "text/markdown": [
       "1. 194\n",
       "2. 160\n",
       "3. 173\n",
       "4. 174\n",
       "5. 191\n",
       "6. 183\n",
       "7. 204\n",
       "\n",
       "\n"
      ],
      "text/plain": [
       "[1] 194 160 173 174 191 183 204"
      ]
     },
     "metadata": {},
     "output_type": "display_data"
    }
   ],
   "source": [
    "test.layer<-NULL\n",
    "for (i in 5*(3:9)){\n",
    "    test.layer<-c(test.layer,test.neuron(i))\n",
    "}\n",
    "test.layer"
   ]
  },
  {
   "cell_type": "code",
   "execution_count": 16,
   "metadata": {
    "collapsed": false
   },
   "outputs": [
    {
     "data": {
      "text/plain": [
       "NULL"
      ]
     },
     "metadata": {},
     "output_type": "display_data"
    }
   ],
   "source": [
    "test.layer"
   ]
  },
  {
   "cell_type": "code",
   "execution_count": 463,
   "metadata": {
    "collapsed": false
   },
   "outputs": [],
   "source": [
    "test.learning.rate<-function(n)\n",
    "{\n",
    "    index <- sample(1:nrow(train_nn),round(0.9*nrow(train_nn)))\n",
    "    train.cv <- train_nn[index,]\n",
    "    cross.val.cv <- train_nn[-index,]\n",
    "    \n",
    "    nn <- neuralnet(f,data=train.cv,hidden=25,algorithm= 'rprop+',learningrate=n,\n",
    "                    err.fct = \"sse\",act.fct = \"logistic\",linear.output=FALSE)\n",
    "    pred<-compute(nn, cross.val.cv[,!\"profitable\",with=FALSE])\n",
    "    output<-round(pred$net.result)\n",
    "    result<-sum((cross.val.cv$profitable-output)^2)\n",
    "    \n",
    "    return(result)\n",
    "}"
   ]
  },
  {
   "cell_type": "code",
   "execution_count": 464,
   "metadata": {
    "collapsed": false
   },
   "outputs": [
    {
     "data": {
      "text/html": [
       "<ol class=list-inline>\n",
       "\t<li>129</li>\n",
       "\t<li>113</li>\n",
       "\t<li>120</li>\n",
       "\t<li>124</li>\n",
       "\t<li>119</li>\n",
       "</ol>\n"
      ],
      "text/latex": [
       "\\begin{enumerate*}\n",
       "\\item 129\n",
       "\\item 113\n",
       "\\item 120\n",
       "\\item 124\n",
       "\\item 119\n",
       "\\end{enumerate*}\n"
      ],
      "text/markdown": [
       "1. 129\n",
       "2. 113\n",
       "3. 120\n",
       "4. 124\n",
       "5. 119\n",
       "\n",
       "\n"
      ],
      "text/plain": [
       "[1] 129 113 120 124 119"
      ]
     },
     "metadata": {},
     "output_type": "display_data"
    }
   ],
   "source": [
    "test.lr<-NULL\n",
    "learning.rate<-c(0.01,0.007,0.005,0.002,0.001)\n",
    "for (i in (learning.rate)){\n",
    "    test.lr<-c(test.lr,test.learning.rate(i))\n",
    "}\n",
    "test.lr"
   ]
  },
  {
   "cell_type": "code",
   "execution_count": 474,
   "metadata": {
    "collapsed": false
   },
   "outputs": [],
   "source": [
    "set.seed(383)\n",
    "initial_weight <- runif(1240, -(1/sqrt(39)),(1/sqrt(39)))"
   ]
  },
  {
   "cell_type": "code",
   "execution_count": 477,
   "metadata": {
    "collapsed": false
   },
   "outputs": [],
   "source": [
    "nn <- neuralnet(f,data=train_nn,hidden=30,algorithm= 'rprop+',stepmax=10000000,startweights =initial_weight,\n",
    "                    err.fct = \"sse\",act.fct = \"logistic\",linear.output=FALSE)"
   ]
  },
  {
   "cell_type": "code",
   "execution_count": 476,
   "metadata": {
    "collapsed": false
   },
   "outputs": [
    {
     "data": {
      "text/html": [
       "289"
      ],
      "text/latex": [
       "289"
      ],
      "text/markdown": [
       "289"
      ],
      "text/plain": [
       "[1] 289"
      ]
     },
     "metadata": {},
     "output_type": "display_data"
    },
    {
     "data": {
      "text/plain": [
       "   output\n",
       "      0   1\n",
       "  0 195 165\n",
       "  1 124 209"
      ]
     },
     "metadata": {},
     "output_type": "display_data"
    },
    {
     "name": "stdout",
     "output_type": "stream",
     "text": [
      "[1] \"Accuracy: 0.582972582972583\"\n"
     ]
    }
   ],
   "source": [
    "pred<-compute(nn, test_nn[,!\"profitable\",with=FALSE])\n",
    "    output<-round(pred$net.result)\n",
    "    sse<-sum((test_nn$profitable-output)^2)\n",
    "sse\n",
    "result<-table(test_nn$profitable,output)\n",
    "result\n",
    "print(paste0(\"Accuracy: \",(result[1,1]+result[2,2])/sum(result)))"
   ]
  },
  {
   "cell_type": "markdown",
   "metadata": {},
   "source": []
  },
  {
   "cell_type": "code",
   "execution_count": 17,
   "metadata": {
    "collapsed": false
   },
   "outputs": [],
   "source": [
    "xgb_mse<-data.frame(index=as.numeric(0),train.rmse.mean=as.numeric(0),train.rmse.std=as.numeric(0),\n",
    "                    test.rmse.mean=as.numeric(0),test.rmse.std=as.numeric(0))\n",
    "\n",
    "for (i in seq(0.1,0.9,0.01)){\n",
    "    set.seed(383)\n",
    "    model_xgb_cv <- xgb.cv(params=param, eta=i, data = train_xgb_matrix, nfold = 5, nrounds = 5, missing=-1,verbose= 0)\n",
    "    xgb_mse<-rbind(xgb_mse,c(\"index\"=i,lapply(model_xgb_cv,function(x) mean(x))))\n",
    "}"
   ]
  },
  {
   "cell_type": "code",
   "execution_count": 18,
   "metadata": {
    "collapsed": false
   },
   "outputs": [
    {
     "data": {
      "text/html": [
       "<iframe src=\"plotlyJupyterHTML/xgb_mse1.html\" width=\"100%\" height=\"400\" id=\"igraph\" scrolling=\"no\" seamless=\"seamless\" frameBorder=\"0\"> </iframe>"
      ]
     },
     "metadata": {},
     "output_type": "display_data"
    }
   ],
   "source": [
    "xgb_mse1<-plot_ly(xgb_mse) %>%\n",
    "add_trace(x=~index,y=~test.rmse.mean, name = 'trace 0', type = 'scatter',mode = 'lines+markers' )%>%\n",
    "layout(title = 'Trend line of the proportion ofmovie\\'s color in the IMDB data set over the year',\n",
    "         xaxis = list(title = 'eta', zeroline = TRUE),\n",
    "         yaxis = list(title = 'rmse'))\n",
    "embed_notebook(xgb_mse1,file=paste0(\"plotlyJupyterHTML/\",\"xgb_mse1\",\".html\"))"
   ]
  },
  {
   "cell_type": "code",
   "execution_count": 19,
   "metadata": {
    "collapsed": false
   },
   "outputs": [],
   "source": [
    "set.seed(383)\n",
    "model_xgb_1_tune <- xgb.train(   params          = param, \n",
    "                    data                  = train_xgb_matrix, \n",
    "                    eta                   = 0.34,\n",
    "                    nrounds               = 500, \n",
    "                    verbose               = 0, \n",
    "                    early_stopping_rounds = 20,\n",
    "                    missing               = -1,\n",
    "                    maximize              = FALSE)"
   ]
  },
  {
   "cell_type": "code",
   "execution_count": 20,
   "metadata": {
    "collapsed": false
   },
   "outputs": [
    {
     "data": {
      "text/html": [
       "95464240.9596377"
      ],
      "text/latex": [
       "95464240.9596377"
      ],
      "text/markdown": [
       "95464240.9596377"
      ],
      "text/plain": [
       "[1] 95464241"
      ]
     },
     "metadata": {},
     "output_type": "display_data"
    }
   ],
   "source": [
    "pred<-predict(model_xgb_1_tune,test_xgb_matrix)\n",
    "scaleList <- list(scale = attr(train_xgb$gross_2016, \"scaled:scale\"),\n",
    "    center = attr(train_xgb$gross_2016, \"scaled:center\"))\n",
    "\n",
    "pred_unscale <- pred * scaleList$scale + scaleList$center\n",
    "error<-pred_unscale-test_xgb$gross_2016\n",
    "rmse(error)"
   ]
  },
  {
   "cell_type": "code",
   "execution_count": 12,
   "metadata": {
    "collapsed": false
   },
   "outputs": [],
   "source": [
    "for (f in variable_names) {\n",
    "  if (class(train_xgb[[f]])==\"character\") {\n",
    "    levels <- unique(c(train_xgb[[f]],cross_val_xgb[[f]],test_xgb[[f]]))\n",
    "    train_xgb[[f]] <- as.numeric(factor(train_xgb[[f]], levels=levels))\n",
    "    cross_val_xgb[[f]] <- as.numeric(factor(cross_val_xgb[[f]], levels=levels))\n",
    "    test_xgb[[f]]  <- as.numeric(factor(test_xgb[[f]],  levels=levels))\n",
    "  }\n",
    "}"
   ]
  },
  {
   "cell_type": "code",
   "execution_count": 46,
   "metadata": {
    "collapsed": false
   },
   "outputs": [],
   "source": [
    "xgb_mse_2<-data.frame(index=as.numeric(0),train.rmse.mean=as.numeric(0),train.rmse.std=as.numeric(0),\n",
    "                    test.rmse.mean=as.numeric(0),test.rmse.std=as.numeric(0))\n",
    "\n",
    "for (i in seq(0.1,0.9,0.01)){\n",
    "    set.seed(383)\n",
    "     model_xgb_cv <- xgb.cv(params=param, eta=i, data = train_xgb_matrix, nfold = 5, nrounds = 5, missing=-1,verbose= 0)\n",
    "    xgb_mse_2<-rbind(xgb_mse_2,c(\"index\"=i,lapply( model_xgb_cv,function(x) mean(x))))\n",
    "}"
   ]
  },
  {
   "cell_type": "code",
   "execution_count": 47,
   "metadata": {
    "collapsed": false
   },
   "outputs": [
    {
     "data": {
      "text/html": [
       "<iframe src=\"plotlyJupyterHTML/xgb_mse2.html\" width=\"100%\" height=\"400\" id=\"igraph\" scrolling=\"no\" seamless=\"seamless\" frameBorder=\"0\"> </iframe>"
      ]
     },
     "metadata": {},
     "output_type": "display_data"
    }
   ],
   "source": [
    "xgb_mse2<-plot_ly(xgb_mse_2) %>%\n",
    "add_trace(x=~index,y=~test.rmse.mean, name = 'trace 0', type = 'scatter',mode = 'lines+markers' )%>%\n",
    "layout(title = 'Trend line of the proportion ofmovie\\'s color in the IMDB data set over the year',\n",
    "         xaxis = list(title = 'eta', zeroline = TRUE),\n",
    "         yaxis = list(title = 'rmse'))\n",
    "embed_notebook(xgb_mse2,file=paste0(\"plotlyJupyterHTML/\",\"xgb_mse2\",\".html\"))"
   ]
  },
  {
   "cell_type": "code",
   "execution_count": 48,
   "metadata": {
    "collapsed": false
   },
   "outputs": [],
   "source": [
    "set.seed(383)\n",
    "model_xgb_2_tune <- xgb.train(   params          = param, \n",
    "                    data                  = train_xgb_matrix, \n",
    "                    eta                   = 0.25,\n",
    "                    nrounds               = 500, # changed from 300\n",
    "                    verbose               = 0, \n",
    "                    early_stopping_rounds = 20,\n",
    "                    missing               = -1,\n",
    "                    maximize              = FALSE)"
   ]
  },
  {
   "cell_type": "code",
   "execution_count": 49,
   "metadata": {
    "collapsed": false
   },
   "outputs": [
    {
     "data": {
      "text/html": [
       "83849993.6021591"
      ],
      "text/latex": [
       "83849993.6021591"
      ],
      "text/markdown": [
       "83849993.6021591"
      ],
      "text/plain": [
       "[1] 83849994"
      ]
     },
     "metadata": {},
     "output_type": "display_data"
    }
   ],
   "source": [
    "pred<-predict(model_xgb_2_tune,test_xgb_matrix)\n",
    "scaleList <- list(scale = attr(train_xgb$gross_2016, \"scaled:scale\"),\n",
    "    center = attr(train_xgb$gross_2016, \"scaled:center\"))\n",
    "\n",
    "pred_unscale <- pred * scaleList$scale + scaleList$center\n",
    "error<-pred_unscale-test_xgb$gross_2016\n",
    "rmse(error)"
   ]
  },
  {
   "cell_type": "markdown",
   "metadata": {
    "collapsed": false
   },
   "source": [
    "# XGBoost tree\n",
    "\n",
    "Since the XGBoost algorithm give good result, I"
   ]
  },
  {
   "cell_type": "markdown",
   "metadata": {},
   "source": [
    "Create 4 class: higly profitable(3), profitable(2), non-profitable(1), higly non-profitable(0)"
   ]
  },
  {
   "cell_type": "code",
   "execution_count": 127,
   "metadata": {
    "collapsed": false
   },
   "outputs": [],
   "source": [
    "train_xgb$profitable<-0\n",
    "test_xgb$profitable<-0\n",
    "\n",
    "train_xgb[which(train_xgb$profit>=0),\"profitable\"]<-1 \n",
    "test_xgb[which(test_xgb$profit>=0),\"profitable\"]<-1"
   ]
  },
  {
   "cell_type": "code",
   "execution_count": 128,
   "metadata": {
    "collapsed": false
   },
   "outputs": [],
   "source": [
    "train_tree_mat <- xgb.DMatrix(data.matrix(train_xgb[,!c(\"profitable\",\"profit\"),with=FALSE]), \n",
    "                              label=train_xgb$profitable,missing=-1)\n",
    "test_tree_mat <- xgb.DMatrix(data.matrix(test_xgb[,!c(\"profitable\",\"profit\"),with=FALSE]), \n",
    "                             label=test_xgb$profitable,missing=-1)"
   ]
  },
  {
   "cell_type": "code",
   "execution_count": 129,
   "metadata": {
    "collapsed": true
   },
   "outputs": [],
   "source": [
    "watchlist <- list(eval = test_tree_mat , train=train_tree_mat )"
   ]
  },
  {
   "cell_type": "code",
   "execution_count": 130,
   "metadata": {
    "collapsed": false
   },
   "outputs": [],
   "source": [
    "param <- list(  objective           = \"multi:softmax\", \n",
    "                num_class           = 2,\n",
    "                eta                 = 0.01,\n",
    "                max_depth           = 14,  \n",
    "                #subsample           = 0.6,\n",
    "                #colsample_bytree    = 0.6,\n",
    "                eval_metric         = \"merror\"\n",
    "                # alpha = 0.0001, \n",
    "                # lambda = 1\n",
    "                )"
   ]
  },
  {
   "cell_type": "code",
   "execution_count": 131,
   "metadata": {
    "collapsed": false
   },
   "outputs": [
    {
     "name": "stderr",
     "output_type": "stream",
     "text": [
      "Warning message:\n",
      "\"'early.stop.round' is deprecated.\n",
      "Use 'early_stopping_rounds' instead.\n",
      "See help(\"Deprecated\") and help(\"xgboost-deprecated\").\""
     ]
    },
    {
     "name": "stdout",
     "output_type": "stream",
     "text": [
      "[10:25:18] amalgamation/../src/tree/updater_prune.cc:74: tree pruning end, 1 roots, 934 extra nodes, 0 pruned nodes, max_depth=14\n",
      "[10:25:18] amalgamation/../src/tree/updater_prune.cc:74: tree pruning end, 1 roots, 934 extra nodes, 0 pruned nodes, max_depth=14\n",
      "[1]\teval-merror:0.341641\ttrain-merror:0.081214 \n",
      "Multiple eval metrics are present. Will use train_merror for early stopping.\n",
      "Will train until train_merror hasn't improved in 20 rounds.\n",
      "\n",
      "[10:25:18] amalgamation/../src/tree/updater_prune.cc:74: tree pruning end, 1 roots, 874 extra nodes, 0 pruned nodes, max_depth=14\n",
      "[10:25:18] amalgamation/../src/tree/updater_prune.cc:74: tree pruning end, 1 roots, 874 extra nodes, 0 pruned nodes, max_depth=14\n",
      "[2]\teval-merror:0.323988\ttrain-merror:0.036845 \n",
      "[10:25:18] amalgamation/../src/tree/updater_prune.cc:74: tree pruning end, 1 roots, 798 extra nodes, 0 pruned nodes, max_depth=14\n",
      "[10:25:18] amalgamation/../src/tree/updater_prune.cc:74: tree pruning end, 1 roots, 798 extra nodes, 0 pruned nodes, max_depth=14\n",
      "[3]\teval-merror:0.327103\ttrain-merror:0.038921 \n",
      "[10:25:18] amalgamation/../src/tree/updater_prune.cc:74: tree pruning end, 1 roots, 854 extra nodes, 0 pruned nodes, max_depth=14\n",
      "[10:25:18] amalgamation/../src/tree/updater_prune.cc:74: tree pruning end, 1 roots, 854 extra nodes, 0 pruned nodes, max_depth=14\n",
      "[4]\teval-merror:0.325026\ttrain-merror:0.034769 \n",
      "[10:25:18] amalgamation/../src/tree/updater_prune.cc:74: tree pruning end, 1 roots, 864 extra nodes, 0 pruned nodes, max_depth=14\n",
      "[10:25:18] amalgamation/../src/tree/updater_prune.cc:74: tree pruning end, 1 roots, 864 extra nodes, 0 pruned nodes, max_depth=14\n",
      "[5]\teval-merror:0.315680\ttrain-merror:0.037104 \n",
      "[10:25:18] amalgamation/../src/tree/updater_prune.cc:74: tree pruning end, 1 roots, 794 extra nodes, 0 pruned nodes, max_depth=14\n",
      "[10:25:18] amalgamation/../src/tree/updater_prune.cc:74: tree pruning end, 1 roots, 794 extra nodes, 0 pruned nodes, max_depth=14\n",
      "[6]\teval-merror:0.328141\ttrain-merror:0.037623 \n",
      "[10:25:18] amalgamation/../src/tree/updater_prune.cc:74: tree pruning end, 1 roots, 870 extra nodes, 0 pruned nodes, max_depth=14\n",
      "[10:25:18] amalgamation/../src/tree/updater_prune.cc:74: tree pruning end, 1 roots, 870 extra nodes, 0 pruned nodes, max_depth=14\n",
      "[7]\teval-merror:0.314642\ttrain-merror:0.038661 \n",
      "[10:25:18] amalgamation/../src/tree/updater_prune.cc:74: tree pruning end, 1 roots, 866 extra nodes, 0 pruned nodes, max_depth=14\n",
      "[10:25:18] amalgamation/../src/tree/updater_prune.cc:74: tree pruning end, 1 roots, 866 extra nodes, 0 pruned nodes, max_depth=14\n",
      "[8]\teval-merror:0.323988\ttrain-merror:0.038661 \n",
      "[10:25:18] amalgamation/../src/tree/updater_prune.cc:74: tree pruning end, 1 roots, 784 extra nodes, 0 pruned nodes, max_depth=14\n",
      "[10:25:18] amalgamation/../src/tree/updater_prune.cc:74: tree pruning end, 1 roots, 784 extra nodes, 0 pruned nodes, max_depth=14\n",
      "[9]\teval-merror:0.313603\ttrain-merror:0.038402 \n",
      "[10:25:18] amalgamation/../src/tree/updater_prune.cc:74: tree pruning end, 1 roots, 880 extra nodes, 0 pruned nodes, max_depth=14\n",
      "[10:25:18] amalgamation/../src/tree/updater_prune.cc:74: tree pruning end, 1 roots, 880 extra nodes, 0 pruned nodes, max_depth=14\n",
      "[10]\teval-merror:0.319834\ttrain-merror:0.037883 \n",
      "[10:25:18] amalgamation/../src/tree/updater_prune.cc:74: tree pruning end, 1 roots, 868 extra nodes, 0 pruned nodes, max_depth=14\n",
      "[10:25:18] amalgamation/../src/tree/updater_prune.cc:74: tree pruning end, 1 roots, 868 extra nodes, 0 pruned nodes, max_depth=14\n",
      "[11]\teval-merror:0.321911\ttrain-merror:0.038921 \n",
      "[10:25:18] amalgamation/../src/tree/updater_prune.cc:74: tree pruning end, 1 roots, 776 extra nodes, 0 pruned nodes, max_depth=14\n",
      "[10:25:18] amalgamation/../src/tree/updater_prune.cc:74: tree pruning end, 1 roots, 776 extra nodes, 0 pruned nodes, max_depth=14\n",
      "[12]\teval-merror:0.318795\ttrain-merror:0.036845 \n",
      "[10:25:18] amalgamation/../src/tree/updater_prune.cc:74: tree pruning end, 1 roots, 880 extra nodes, 0 pruned nodes, max_depth=14\n",
      "[10:25:18] amalgamation/../src/tree/updater_prune.cc:74: tree pruning end, 1 roots, 880 extra nodes, 0 pruned nodes, max_depth=14\n",
      "[13]\teval-merror:0.317757\ttrain-merror:0.037104 \n",
      "[10:25:18] amalgamation/../src/tree/updater_prune.cc:74: tree pruning end, 1 roots, 884 extra nodes, 0 pruned nodes, max_depth=14\n",
      "[10:25:18] amalgamation/../src/tree/updater_prune.cc:74: tree pruning end, 1 roots, 884 extra nodes, 0 pruned nodes, max_depth=14\n",
      "[14]\teval-merror:0.317757\ttrain-merror:0.036326 \n",
      "[10:25:18] amalgamation/../src/tree/updater_prune.cc:74: tree pruning end, 1 roots, 788 extra nodes, 0 pruned nodes, max_depth=14\n",
      "[10:25:18] amalgamation/../src/tree/updater_prune.cc:74: tree pruning end, 1 roots, 788 extra nodes, 0 pruned nodes, max_depth=14\n",
      "[15]\teval-merror:0.316719\ttrain-merror:0.035807 \n",
      "[10:25:19] amalgamation/../src/tree/updater_prune.cc:74: tree pruning end, 1 roots, 870 extra nodes, 0 pruned nodes, max_depth=14\n",
      "[10:25:19] amalgamation/../src/tree/updater_prune.cc:74: tree pruning end, 1 roots, 870 extra nodes, 0 pruned nodes, max_depth=14\n",
      "[16]\teval-merror:0.318795\ttrain-merror:0.034250 \n",
      "[10:25:19] amalgamation/../src/tree/updater_prune.cc:74: tree pruning end, 1 roots, 762 extra nodes, 0 pruned nodes, max_depth=14\n",
      "[10:25:19] amalgamation/../src/tree/updater_prune.cc:74: tree pruning end, 1 roots, 762 extra nodes, 0 pruned nodes, max_depth=14\n",
      "[17]\teval-merror:0.314642\ttrain-merror:0.035547 \n",
      "[10:25:19] amalgamation/../src/tree/updater_prune.cc:74: tree pruning end, 1 roots, 880 extra nodes, 0 pruned nodes, max_depth=14\n",
      "[10:25:19] amalgamation/../src/tree/updater_prune.cc:74: tree pruning end, 1 roots, 880 extra nodes, 0 pruned nodes, max_depth=14\n",
      "[18]\teval-merror:0.314642\ttrain-merror:0.033472 \n",
      "[10:25:19] amalgamation/../src/tree/updater_prune.cc:74: tree pruning end, 1 roots, 780 extra nodes, 0 pruned nodes, max_depth=14\n",
      "[10:25:19] amalgamation/../src/tree/updater_prune.cc:74: tree pruning end, 1 roots, 780 extra nodes, 0 pruned nodes, max_depth=14\n",
      "[19]\teval-merror:0.316719\ttrain-merror:0.032953 \n",
      "[10:25:19] amalgamation/../src/tree/updater_prune.cc:74: tree pruning end, 1 roots, 870 extra nodes, 0 pruned nodes, max_depth=14\n",
      "[10:25:19] amalgamation/../src/tree/updater_prune.cc:74: tree pruning end, 1 roots, 870 extra nodes, 0 pruned nodes, max_depth=14\n",
      "[20]\teval-merror:0.315680\ttrain-merror:0.031396 \n",
      "[10:25:19] amalgamation/../src/tree/updater_prune.cc:74: tree pruning end, 1 roots, 788 extra nodes, 0 pruned nodes, max_depth=14\n",
      "[10:25:19] amalgamation/../src/tree/updater_prune.cc:74: tree pruning end, 1 roots, 788 extra nodes, 0 pruned nodes, max_depth=14\n",
      "[21]\teval-merror:0.314642\ttrain-merror:0.031136 \n",
      "[10:25:19] amalgamation/../src/tree/updater_prune.cc:74: tree pruning end, 1 roots, 814 extra nodes, 0 pruned nodes, max_depth=14\n",
      "[10:25:19] amalgamation/../src/tree/updater_prune.cc:74: tree pruning end, 1 roots, 814 extra nodes, 0 pruned nodes, max_depth=14\n",
      "[22]\teval-merror:0.317757\ttrain-merror:0.028801 \n",
      "[10:25:19] amalgamation/../src/tree/updater_prune.cc:74: tree pruning end, 1 roots, 798 extra nodes, 0 pruned nodes, max_depth=14\n",
      "[10:25:19] amalgamation/../src/tree/updater_prune.cc:74: tree pruning end, 1 roots, 798 extra nodes, 0 pruned nodes, max_depth=14\n",
      "[23]\teval-merror:0.315680\ttrain-merror:0.029580 \n",
      "[10:25:19] amalgamation/../src/tree/updater_prune.cc:74: tree pruning end, 1 roots, 878 extra nodes, 0 pruned nodes, max_depth=14\n",
      "[10:25:19] amalgamation/../src/tree/updater_prune.cc:74: tree pruning end, 1 roots, 878 extra nodes, 0 pruned nodes, max_depth=14\n",
      "[24]\teval-merror:0.318795\ttrain-merror:0.029061 \n",
      "[10:25:19] amalgamation/../src/tree/updater_prune.cc:74: tree pruning end, 1 roots, 826 extra nodes, 0 pruned nodes, max_depth=14\n",
      "[10:25:19] amalgamation/../src/tree/updater_prune.cc:74: tree pruning end, 1 roots, 826 extra nodes, 0 pruned nodes, max_depth=14\n",
      "[25]\teval-merror:0.315680\ttrain-merror:0.029061 \n",
      "[10:25:19] amalgamation/../src/tree/updater_prune.cc:74: tree pruning end, 1 roots, 828 extra nodes, 0 pruned nodes, max_depth=14\n",
      "[10:25:19] amalgamation/../src/tree/updater_prune.cc:74: tree pruning end, 1 roots, 828 extra nodes, 0 pruned nodes, max_depth=14\n",
      "[26]\teval-merror:0.316719\ttrain-merror:0.027504 \n",
      "[10:25:19] amalgamation/../src/tree/updater_prune.cc:74: tree pruning end, 1 roots, 806 extra nodes, 0 pruned nodes, max_depth=14\n",
      "[10:25:19] amalgamation/../src/tree/updater_prune.cc:74: tree pruning end, 1 roots, 806 extra nodes, 0 pruned nodes, max_depth=14\n",
      "[27]\teval-merror:0.314642\ttrain-merror:0.027244 \n",
      "[10:25:19] amalgamation/../src/tree/updater_prune.cc:74: tree pruning end, 1 roots, 864 extra nodes, 0 pruned nodes, max_depth=14\n",
      "[10:25:19] amalgamation/../src/tree/updater_prune.cc:74: tree pruning end, 1 roots, 864 extra nodes, 0 pruned nodes, max_depth=14\n",
      "[28]\teval-merror:0.317757\ttrain-merror:0.025428 \n",
      "[10:25:19] amalgamation/../src/tree/updater_prune.cc:74: tree pruning end, 1 roots, 806 extra nodes, 0 pruned nodes, max_depth=14\n",
      "[10:25:19] amalgamation/../src/tree/updater_prune.cc:74: tree pruning end, 1 roots, 806 extra nodes, 0 pruned nodes, max_depth=14\n",
      "[29]\teval-merror:0.314642\ttrain-merror:0.025428 \n",
      "[10:25:19] amalgamation/../src/tree/updater_prune.cc:74: tree pruning end, 1 roots, 758 extra nodes, 0 pruned nodes, max_depth=14\n",
      "[10:25:19] amalgamation/../src/tree/updater_prune.cc:74: tree pruning end, 1 roots, 758 extra nodes, 0 pruned nodes, max_depth=14\n",
      "[30]\teval-merror:0.316719\ttrain-merror:0.023871 \n",
      "[10:25:19] amalgamation/../src/tree/updater_prune.cc:74: tree pruning end, 1 roots, 800 extra nodes, 0 pruned nodes, max_depth=14\n",
      "[10:25:19] amalgamation/../src/tree/updater_prune.cc:74: tree pruning end, 1 roots, 800 extra nodes, 0 pruned nodes, max_depth=14\n",
      "[31]\teval-merror:0.312565\ttrain-merror:0.023612 \n",
      "[10:25:19] amalgamation/../src/tree/updater_prune.cc:74: tree pruning end, 1 roots, 854 extra nodes, 0 pruned nodes, max_depth=14\n",
      "[10:25:19] amalgamation/../src/tree/updater_prune.cc:74: tree pruning end, 1 roots, 854 extra nodes, 0 pruned nodes, max_depth=14\n",
      "[32]\teval-merror:0.306334\ttrain-merror:0.024131 \n",
      "[10:25:19] amalgamation/../src/tree/updater_prune.cc:74: tree pruning end, 1 roots, 768 extra nodes, 0 pruned nodes, max_depth=14\n",
      "[10:25:19] amalgamation/../src/tree/updater_prune.cc:74: tree pruning end, 1 roots, 768 extra nodes, 0 pruned nodes, max_depth=14\n",
      "[33]\teval-merror:0.308411\ttrain-merror:0.023612 \n",
      "[10:25:19] amalgamation/../src/tree/updater_prune.cc:74: tree pruning end, 1 roots, 842 extra nodes, 0 pruned nodes, max_depth=14\n",
      "[10:25:19] amalgamation/../src/tree/updater_prune.cc:74: tree pruning end, 1 roots, 842 extra nodes, 0 pruned nodes, max_depth=14\n",
      "[34]\teval-merror:0.304258\ttrain-merror:0.023352 \n",
      "[10:25:19] amalgamation/../src/tree/updater_prune.cc:74: tree pruning end, 1 roots, 840 extra nodes, 0 pruned nodes, max_depth=14\n",
      "[10:25:19] amalgamation/../src/tree/updater_prune.cc:74: tree pruning end, 1 roots, 840 extra nodes, 0 pruned nodes, max_depth=14\n",
      "[35]\teval-merror:0.307373\ttrain-merror:0.023352 \n",
      "[10:25:19] amalgamation/../src/tree/updater_prune.cc:74: tree pruning end, 1 roots, 828 extra nodes, 0 pruned nodes, max_depth=14\n",
      "[10:25:19] amalgamation/../src/tree/updater_prune.cc:74: tree pruning end, 1 roots, 828 extra nodes, 0 pruned nodes, max_depth=14\n",
      "[36]\teval-merror:0.308411\ttrain-merror:0.022833 \n",
      "[10:25:19] amalgamation/../src/tree/updater_prune.cc:74: tree pruning end, 1 roots, 782 extra nodes, 0 pruned nodes, max_depth=14\n",
      "[10:25:19] amalgamation/../src/tree/updater_prune.cc:74: tree pruning end, 1 roots, 782 extra nodes, 0 pruned nodes, max_depth=14\n",
      "[37]\teval-merror:0.305296\ttrain-merror:0.021277 \n",
      "[10:25:19] amalgamation/../src/tree/updater_prune.cc:74: tree pruning end, 1 roots, 830 extra nodes, 0 pruned nodes, max_depth=14\n",
      "[10:25:19] amalgamation/../src/tree/updater_prune.cc:74: tree pruning end, 1 roots, 830 extra nodes, 0 pruned nodes, max_depth=14\n",
      "[38]\teval-merror:0.307373\ttrain-merror:0.021017 \n",
      "[10:25:19] amalgamation/../src/tree/updater_prune.cc:74: tree pruning end, 1 roots, 778 extra nodes, 0 pruned nodes, max_depth=14\n",
      "[10:25:19] amalgamation/../src/tree/updater_prune.cc:74: tree pruning end, 1 roots, 778 extra nodes, 0 pruned nodes, max_depth=14\n",
      "[39]\teval-merror:0.302181\ttrain-merror:0.020239 \n",
      "[10:25:19] amalgamation/../src/tree/updater_prune.cc:74: tree pruning end, 1 roots, 800 extra nodes, 0 pruned nodes, max_depth=14\n",
      "[10:25:19] amalgamation/../src/tree/updater_prune.cc:74: tree pruning end, 1 roots, 800 extra nodes, 0 pruned nodes, max_depth=14\n",
      "[40]\teval-merror:0.300104\ttrain-merror:0.019201 \n",
      "[10:25:19] amalgamation/../src/tree/updater_prune.cc:74: tree pruning end, 1 roots, 846 extra nodes, 0 pruned nodes, max_depth=14\n",
      "[10:25:19] amalgamation/../src/tree/updater_prune.cc:74: tree pruning end, 1 roots, 846 extra nodes, 0 pruned nodes, max_depth=14\n",
      "[41]\teval-merror:0.300104\ttrain-merror:0.019201 \n",
      "[10:25:19] amalgamation/../src/tree/updater_prune.cc:74: tree pruning end, 1 roots, 836 extra nodes, 0 pruned nodes, max_depth=14\n",
      "[10:25:19] amalgamation/../src/tree/updater_prune.cc:74: tree pruning end, 1 roots, 836 extra nodes, 0 pruned nodes, max_depth=14\n",
      "[42]\teval-merror:0.301142\ttrain-merror:0.018682 \n",
      "[10:25:20] amalgamation/../src/tree/updater_prune.cc:74: tree pruning end, 1 roots, 804 extra nodes, 0 pruned nodes, max_depth=14\n",
      "[10:25:20] amalgamation/../src/tree/updater_prune.cc:74: tree pruning end, 1 roots, 804 extra nodes, 0 pruned nodes, max_depth=14\n",
      "[43]\teval-merror:0.303219\ttrain-merror:0.018682 \n",
      "[10:25:20] amalgamation/../src/tree/updater_prune.cc:74: tree pruning end, 1 roots, 834 extra nodes, 0 pruned nodes, max_depth=14\n",
      "[10:25:20] amalgamation/../src/tree/updater_prune.cc:74: tree pruning end, 1 roots, 834 extra nodes, 0 pruned nodes, max_depth=14\n",
      "[44]\teval-merror:0.305296\ttrain-merror:0.018941 \n",
      "[10:25:20] amalgamation/../src/tree/updater_prune.cc:74: tree pruning end, 1 roots, 844 extra nodes, 0 pruned nodes, max_depth=14\n",
      "[10:25:20] amalgamation/../src/tree/updater_prune.cc:74: tree pruning end, 1 roots, 844 extra nodes, 0 pruned nodes, max_depth=14\n",
      "[45]\teval-merror:0.302181\ttrain-merror:0.018163 \n",
      "[10:25:20] amalgamation/../src/tree/updater_prune.cc:74: tree pruning end, 1 roots, 798 extra nodes, 0 pruned nodes, max_depth=14\n",
      "[10:25:20] amalgamation/../src/tree/updater_prune.cc:74: tree pruning end, 1 roots, 798 extra nodes, 0 pruned nodes, max_depth=14\n",
      "[46]\teval-merror:0.305296\ttrain-merror:0.017644 \n",
      "[10:25:20] amalgamation/../src/tree/updater_prune.cc:74: tree pruning end, 1 roots, 828 extra nodes, 0 pruned nodes, max_depth=14\n",
      "[10:25:20] amalgamation/../src/tree/updater_prune.cc:74: tree pruning end, 1 roots, 828 extra nodes, 0 pruned nodes, max_depth=14\n",
      "[47]\teval-merror:0.304258\ttrain-merror:0.016866 \n",
      "[10:25:20] amalgamation/../src/tree/updater_prune.cc:74: tree pruning end, 1 roots, 792 extra nodes, 0 pruned nodes, max_depth=14\n",
      "[10:25:20] amalgamation/../src/tree/updater_prune.cc:74: tree pruning end, 1 roots, 792 extra nodes, 0 pruned nodes, max_depth=14\n",
      "[48]\teval-merror:0.301142\ttrain-merror:0.017125 \n",
      "[10:25:20] amalgamation/../src/tree/updater_prune.cc:74: tree pruning end, 1 roots, 786 extra nodes, 0 pruned nodes, max_depth=14\n",
      "[10:25:20] amalgamation/../src/tree/updater_prune.cc:74: tree pruning end, 1 roots, 786 extra nodes, 0 pruned nodes, max_depth=14\n",
      "[49]\teval-merror:0.301142\ttrain-merror:0.016866 \n",
      "[10:25:20] amalgamation/../src/tree/updater_prune.cc:74: tree pruning end, 1 roots, 844 extra nodes, 0 pruned nodes, max_depth=14\n",
      "[10:25:20] amalgamation/../src/tree/updater_prune.cc:74: tree pruning end, 1 roots, 844 extra nodes, 0 pruned nodes, max_depth=14\n",
      "[50]\teval-merror:0.300104\ttrain-merror:0.016606 \n",
      "[10:25:20] amalgamation/../src/tree/updater_prune.cc:74: tree pruning end, 1 roots, 790 extra nodes, 0 pruned nodes, max_depth=14\n",
      "[10:25:20] amalgamation/../src/tree/updater_prune.cc:74: tree pruning end, 1 roots, 790 extra nodes, 0 pruned nodes, max_depth=14\n",
      "[51]\teval-merror:0.301142\ttrain-merror:0.015828 \n",
      "[10:25:20] amalgamation/../src/tree/updater_prune.cc:74: tree pruning end, 1 roots, 752 extra nodes, 0 pruned nodes, max_depth=14\n",
      "[10:25:20] amalgamation/../src/tree/updater_prune.cc:74: tree pruning end, 1 roots, 752 extra nodes, 0 pruned nodes, max_depth=14\n",
      "[52]\teval-merror:0.302181\ttrain-merror:0.015049 \n",
      "[10:25:20] amalgamation/../src/tree/updater_prune.cc:74: tree pruning end, 1 roots, 842 extra nodes, 0 pruned nodes, max_depth=14\n",
      "[10:25:20] amalgamation/../src/tree/updater_prune.cc:74: tree pruning end, 1 roots, 842 extra nodes, 0 pruned nodes, max_depth=14\n",
      "[53]\teval-merror:0.303219\ttrain-merror:0.014530 \n",
      "[10:25:20] amalgamation/../src/tree/updater_prune.cc:74: tree pruning end, 1 roots, 756 extra nodes, 0 pruned nodes, max_depth=14\n",
      "[10:25:20] amalgamation/../src/tree/updater_prune.cc:74: tree pruning end, 1 roots, 756 extra nodes, 0 pruned nodes, max_depth=14\n",
      "[54]\teval-merror:0.303219\ttrain-merror:0.014271 \n",
      "[10:25:20] amalgamation/../src/tree/updater_prune.cc:74: tree pruning end, 1 roots, 788 extra nodes, 0 pruned nodes, max_depth=14\n",
      "[10:25:20] amalgamation/../src/tree/updater_prune.cc:74: tree pruning end, 1 roots, 788 extra nodes, 0 pruned nodes, max_depth=14\n",
      "[55]\teval-merror:0.301142\ttrain-merror:0.014271 \n",
      "[10:25:20] amalgamation/../src/tree/updater_prune.cc:74: tree pruning end, 1 roots, 762 extra nodes, 0 pruned nodes, max_depth=14\n",
      "[10:25:20] amalgamation/../src/tree/updater_prune.cc:74: tree pruning end, 1 roots, 762 extra nodes, 0 pruned nodes, max_depth=14\n",
      "[56]\teval-merror:0.303219\ttrain-merror:0.014011 \n",
      "[10:25:20] amalgamation/../src/tree/updater_prune.cc:74: tree pruning end, 1 roots, 752 extra nodes, 0 pruned nodes, max_depth=14\n",
      "[10:25:20] amalgamation/../src/tree/updater_prune.cc:74: tree pruning end, 1 roots, 752 extra nodes, 0 pruned nodes, max_depth=14\n",
      "[57]\teval-merror:0.300104\ttrain-merror:0.013752 \n",
      "[10:25:20] amalgamation/../src/tree/updater_prune.cc:74: tree pruning end, 1 roots, 808 extra nodes, 0 pruned nodes, max_depth=14\n",
      "[10:25:20] amalgamation/../src/tree/updater_prune.cc:74: tree pruning end, 1 roots, 808 extra nodes, 0 pruned nodes, max_depth=14\n",
      "[58]\teval-merror:0.296989\ttrain-merror:0.014011 \n",
      "[10:25:20] amalgamation/../src/tree/updater_prune.cc:74: tree pruning end, 1 roots, 752 extra nodes, 0 pruned nodes, max_depth=14\n",
      "[10:25:20] amalgamation/../src/tree/updater_prune.cc:74: tree pruning end, 1 roots, 752 extra nodes, 0 pruned nodes, max_depth=14\n",
      "[59]\teval-merror:0.301142\ttrain-merror:0.014271 \n",
      "[10:25:20] amalgamation/../src/tree/updater_prune.cc:74: tree pruning end, 1 roots, 764 extra nodes, 0 pruned nodes, max_depth=14\n",
      "[10:25:20] amalgamation/../src/tree/updater_prune.cc:74: tree pruning end, 1 roots, 764 extra nodes, 0 pruned nodes, max_depth=14\n",
      "[60]\teval-merror:0.298027\ttrain-merror:0.014790 \n",
      "[10:25:20] amalgamation/../src/tree/updater_prune.cc:74: tree pruning end, 1 roots, 784 extra nodes, 0 pruned nodes, max_depth=14\n",
      "[10:25:20] amalgamation/../src/tree/updater_prune.cc:74: tree pruning end, 1 roots, 784 extra nodes, 0 pruned nodes, max_depth=14\n",
      "[61]\teval-merror:0.302181\ttrain-merror:0.014011 \n",
      "[10:25:20] amalgamation/../src/tree/updater_prune.cc:74: tree pruning end, 1 roots, 778 extra nodes, 0 pruned nodes, max_depth=14\n",
      "[10:25:20] amalgamation/../src/tree/updater_prune.cc:74: tree pruning end, 1 roots, 778 extra nodes, 0 pruned nodes, max_depth=14\n",
      "[62]\teval-merror:0.303219\ttrain-merror:0.013752 \n",
      "[10:25:20] amalgamation/../src/tree/updater_prune.cc:74: tree pruning end, 1 roots, 794 extra nodes, 0 pruned nodes, max_depth=14\n",
      "[10:25:20] amalgamation/../src/tree/updater_prune.cc:74: tree pruning end, 1 roots, 794 extra nodes, 0 pruned nodes, max_depth=14\n",
      "[63]\teval-merror:0.305296\ttrain-merror:0.013752 \n",
      "[10:25:20] amalgamation/../src/tree/updater_prune.cc:74: tree pruning end, 1 roots, 796 extra nodes, 0 pruned nodes, max_depth=14\n",
      "[10:25:20] amalgamation/../src/tree/updater_prune.cc:74: tree pruning end, 1 roots, 796 extra nodes, 0 pruned nodes, max_depth=14\n",
      "[64]\teval-merror:0.304258\ttrain-merror:0.013233 \n",
      "[10:25:20] amalgamation/../src/tree/updater_prune.cc:74: tree pruning end, 1 roots, 810 extra nodes, 0 pruned nodes, max_depth=14\n",
      "[10:25:20] amalgamation/../src/tree/updater_prune.cc:74: tree pruning end, 1 roots, 810 extra nodes, 0 pruned nodes, max_depth=14\n",
      "[65]\teval-merror:0.305296\ttrain-merror:0.013492 \n",
      "[10:25:20] amalgamation/../src/tree/updater_prune.cc:74: tree pruning end, 1 roots, 820 extra nodes, 0 pruned nodes, max_depth=14\n",
      "[10:25:20] amalgamation/../src/tree/updater_prune.cc:74: tree pruning end, 1 roots, 820 extra nodes, 0 pruned nodes, max_depth=14\n",
      "[66]\teval-merror:0.304258\ttrain-merror:0.014271 \n",
      "[10:25:20] amalgamation/../src/tree/updater_prune.cc:74: tree pruning end, 1 roots, 766 extra nodes, 0 pruned nodes, max_depth=14\n",
      "[10:25:20] amalgamation/../src/tree/updater_prune.cc:74: tree pruning end, 1 roots, 766 extra nodes, 0 pruned nodes, max_depth=14\n",
      "[67]\teval-merror:0.300104\ttrain-merror:0.013752 \n",
      "[10:25:20] amalgamation/../src/tree/updater_prune.cc:74: tree pruning end, 1 roots, 746 extra nodes, 0 pruned nodes, max_depth=14\n",
      "[10:25:20] amalgamation/../src/tree/updater_prune.cc:74: tree pruning end, 1 roots, 746 extra nodes, 0 pruned nodes, max_depth=14\n",
      "[68]\teval-merror:0.303219\ttrain-merror:0.013752 \n",
      "[10:25:20] amalgamation/../src/tree/updater_prune.cc:74: tree pruning end, 1 roots, 810 extra nodes, 0 pruned nodes, max_depth=14\n",
      "[10:25:20] amalgamation/../src/tree/updater_prune.cc:74: tree pruning end, 1 roots, 810 extra nodes, 0 pruned nodes, max_depth=14\n",
      "[69]\teval-merror:0.301142\ttrain-merror:0.013752 \n",
      "[10:25:20] amalgamation/../src/tree/updater_prune.cc:74: tree pruning end, 1 roots, 768 extra nodes, 0 pruned nodes, max_depth=14\n",
      "[10:25:21] amalgamation/../src/tree/updater_prune.cc:74: tree pruning end, 1 roots, 768 extra nodes, 0 pruned nodes, max_depth=14\n",
      "[70]\teval-merror:0.302181\ttrain-merror:0.013752 \n",
      "[10:25:21] amalgamation/../src/tree/updater_prune.cc:74: tree pruning end, 1 roots, 782 extra nodes, 0 pruned nodes, max_depth=14\n",
      "[10:25:21] amalgamation/../src/tree/updater_prune.cc:74: tree pruning end, 1 roots, 782 extra nodes, 0 pruned nodes, max_depth=14\n",
      "[71]\teval-merror:0.301142\ttrain-merror:0.013492 \n",
      "[10:25:21] amalgamation/../src/tree/updater_prune.cc:74: tree pruning end, 1 roots, 808 extra nodes, 0 pruned nodes, max_depth=14\n",
      "[10:25:21] amalgamation/../src/tree/updater_prune.cc:74: tree pruning end, 1 roots, 808 extra nodes, 0 pruned nodes, max_depth=14\n",
      "[72]\teval-merror:0.304258\ttrain-merror:0.013492 \n",
      "[10:25:21] amalgamation/../src/tree/updater_prune.cc:74: tree pruning end, 1 roots, 806 extra nodes, 0 pruned nodes, max_depth=14\n",
      "[10:25:21] amalgamation/../src/tree/updater_prune.cc:74: tree pruning end, 1 roots, 806 extra nodes, 0 pruned nodes, max_depth=14\n",
      "[73]\teval-merror:0.303219\ttrain-merror:0.013492 \n",
      "[10:25:21] amalgamation/../src/tree/updater_prune.cc:74: tree pruning end, 1 roots, 852 extra nodes, 0 pruned nodes, max_depth=14\n",
      "[10:25:21] amalgamation/../src/tree/updater_prune.cc:74: tree pruning end, 1 roots, 852 extra nodes, 0 pruned nodes, max_depth=14\n",
      "[74]\teval-merror:0.303219\ttrain-merror:0.012714 \n",
      "[10:25:21] amalgamation/../src/tree/updater_prune.cc:74: tree pruning end, 1 roots, 774 extra nodes, 0 pruned nodes, max_depth=14\n",
      "[10:25:21] amalgamation/../src/tree/updater_prune.cc:74: tree pruning end, 1 roots, 774 extra nodes, 0 pruned nodes, max_depth=14\n",
      "[75]\teval-merror:0.301142\ttrain-merror:0.013233 \n",
      "[10:25:21] amalgamation/../src/tree/updater_prune.cc:74: tree pruning end, 1 roots, 844 extra nodes, 0 pruned nodes, max_depth=14\n",
      "[10:25:21] amalgamation/../src/tree/updater_prune.cc:74: tree pruning end, 1 roots, 844 extra nodes, 0 pruned nodes, max_depth=14\n",
      "[76]\teval-merror:0.302181\ttrain-merror:0.012195 \n",
      "[10:25:21] amalgamation/../src/tree/updater_prune.cc:74: tree pruning end, 1 roots, 778 extra nodes, 0 pruned nodes, max_depth=14\n",
      "[10:25:21] amalgamation/../src/tree/updater_prune.cc:74: tree pruning end, 1 roots, 778 extra nodes, 0 pruned nodes, max_depth=14\n",
      "[77]\teval-merror:0.302181\ttrain-merror:0.012974 \n",
      "[10:25:21] amalgamation/../src/tree/updater_prune.cc:74: tree pruning end, 1 roots, 770 extra nodes, 0 pruned nodes, max_depth=14\n",
      "[10:25:21] amalgamation/../src/tree/updater_prune.cc:74: tree pruning end, 1 roots, 770 extra nodes, 0 pruned nodes, max_depth=14\n",
      "[78]\teval-merror:0.302181\ttrain-merror:0.012455 \n",
      "[10:25:21] amalgamation/../src/tree/updater_prune.cc:74: tree pruning end, 1 roots, 826 extra nodes, 0 pruned nodes, max_depth=14\n",
      "[10:25:21] amalgamation/../src/tree/updater_prune.cc:74: tree pruning end, 1 roots, 826 extra nodes, 0 pruned nodes, max_depth=14\n",
      "[79]\teval-merror:0.301142\ttrain-merror:0.012195 \n",
      "[10:25:21] amalgamation/../src/tree/updater_prune.cc:74: tree pruning end, 1 roots, 816 extra nodes, 0 pruned nodes, max_depth=14\n",
      "[10:25:21] amalgamation/../src/tree/updater_prune.cc:74: tree pruning end, 1 roots, 816 extra nodes, 0 pruned nodes, max_depth=14\n",
      "[80]\teval-merror:0.298027\ttrain-merror:0.012455 \n",
      "[10:25:21] amalgamation/../src/tree/updater_prune.cc:74: tree pruning end, 1 roots, 820 extra nodes, 0 pruned nodes, max_depth=14\n",
      "[10:25:21] amalgamation/../src/tree/updater_prune.cc:74: tree pruning end, 1 roots, 820 extra nodes, 0 pruned nodes, max_depth=14\n",
      "[81]\teval-merror:0.298027\ttrain-merror:0.012195 \n",
      "[10:25:21] amalgamation/../src/tree/updater_prune.cc:74: tree pruning end, 1 roots, 812 extra nodes, 0 pruned nodes, max_depth=14\n",
      "[10:25:21] amalgamation/../src/tree/updater_prune.cc:74: tree pruning end, 1 roots, 812 extra nodes, 0 pruned nodes, max_depth=14\n",
      "[82]\teval-merror:0.296989\ttrain-merror:0.011936 \n",
      "[10:25:21] amalgamation/../src/tree/updater_prune.cc:74: tree pruning end, 1 roots, 800 extra nodes, 0 pruned nodes, max_depth=14\n",
      "[10:25:21] amalgamation/../src/tree/updater_prune.cc:74: tree pruning end, 1 roots, 800 extra nodes, 0 pruned nodes, max_depth=14\n",
      "[83]\teval-merror:0.295950\ttrain-merror:0.011936 \n",
      "[10:25:21] amalgamation/../src/tree/updater_prune.cc:74: tree pruning end, 1 roots, 800 extra nodes, 0 pruned nodes, max_depth=14\n",
      "[10:25:21] amalgamation/../src/tree/updater_prune.cc:74: tree pruning end, 1 roots, 800 extra nodes, 0 pruned nodes, max_depth=14\n",
      "[84]\teval-merror:0.294912\ttrain-merror:0.011676 \n",
      "[10:25:21] amalgamation/../src/tree/updater_prune.cc:74: tree pruning end, 1 roots, 736 extra nodes, 0 pruned nodes, max_depth=14\n",
      "[10:25:21] amalgamation/../src/tree/updater_prune.cc:74: tree pruning end, 1 roots, 736 extra nodes, 0 pruned nodes, max_depth=14\n",
      "[85]\teval-merror:0.294912\ttrain-merror:0.011936 \n",
      "[10:25:21] amalgamation/../src/tree/updater_prune.cc:74: tree pruning end, 1 roots, 812 extra nodes, 0 pruned nodes, max_depth=14\n",
      "[10:25:21] amalgamation/../src/tree/updater_prune.cc:74: tree pruning end, 1 roots, 812 extra nodes, 0 pruned nodes, max_depth=14\n",
      "[86]\teval-merror:0.299065\ttrain-merror:0.011676 \n",
      "[10:25:21] amalgamation/../src/tree/updater_prune.cc:74: tree pruning end, 1 roots, 774 extra nodes, 0 pruned nodes, max_depth=14\n",
      "[10:25:21] amalgamation/../src/tree/updater_prune.cc:74: tree pruning end, 1 roots, 774 extra nodes, 0 pruned nodes, max_depth=14\n",
      "[87]\teval-merror:0.294912\ttrain-merror:0.011417 \n",
      "[10:25:21] amalgamation/../src/tree/updater_prune.cc:74: tree pruning end, 1 roots, 746 extra nodes, 0 pruned nodes, max_depth=14\n",
      "[10:25:21] amalgamation/../src/tree/updater_prune.cc:74: tree pruning end, 1 roots, 746 extra nodes, 0 pruned nodes, max_depth=14\n",
      "[88]\teval-merror:0.294912\ttrain-merror:0.011676 \n",
      "[10:25:21] amalgamation/../src/tree/updater_prune.cc:74: tree pruning end, 1 roots, 754 extra nodes, 0 pruned nodes, max_depth=14\n",
      "[10:25:21] amalgamation/../src/tree/updater_prune.cc:74: tree pruning end, 1 roots, 754 extra nodes, 0 pruned nodes, max_depth=14\n",
      "[89]\teval-merror:0.294912\ttrain-merror:0.011417 \n",
      "[10:25:21] amalgamation/../src/tree/updater_prune.cc:74: tree pruning end, 1 roots, 738 extra nodes, 0 pruned nodes, max_depth=14\n",
      "[10:25:21] amalgamation/../src/tree/updater_prune.cc:74: tree pruning end, 1 roots, 738 extra nodes, 0 pruned nodes, max_depth=14\n",
      "[90]\teval-merror:0.295950\ttrain-merror:0.011417 \n",
      "[10:25:21] amalgamation/../src/tree/updater_prune.cc:74: tree pruning end, 1 roots, 828 extra nodes, 0 pruned nodes, max_depth=14\n",
      "[10:25:21] amalgamation/../src/tree/updater_prune.cc:74: tree pruning end, 1 roots, 828 extra nodes, 0 pruned nodes, max_depth=14\n",
      "[91]\teval-merror:0.295950\ttrain-merror:0.010898 \n",
      "[10:25:21] amalgamation/../src/tree/updater_prune.cc:74: tree pruning end, 1 roots, 784 extra nodes, 0 pruned nodes, max_depth=14\n",
      "[10:25:21] amalgamation/../src/tree/updater_prune.cc:74: tree pruning end, 1 roots, 784 extra nodes, 0 pruned nodes, max_depth=14\n",
      "[92]\teval-merror:0.298027\ttrain-merror:0.010898 \n",
      "[10:25:21] amalgamation/../src/tree/updater_prune.cc:74: tree pruning end, 1 roots, 764 extra nodes, 0 pruned nodes, max_depth=14\n",
      "[10:25:21] amalgamation/../src/tree/updater_prune.cc:74: tree pruning end, 1 roots, 764 extra nodes, 0 pruned nodes, max_depth=14\n",
      "[93]\teval-merror:0.296989\ttrain-merror:0.010638 \n",
      "[10:25:21] amalgamation/../src/tree/updater_prune.cc:74: tree pruning end, 1 roots, 780 extra nodes, 0 pruned nodes, max_depth=14\n",
      "[10:25:21] amalgamation/../src/tree/updater_prune.cc:74: tree pruning end, 1 roots, 780 extra nodes, 0 pruned nodes, max_depth=14\n",
      "[94]\teval-merror:0.296989\ttrain-merror:0.010638 \n",
      "[10:25:21] amalgamation/../src/tree/updater_prune.cc:74: tree pruning end, 1 roots, 750 extra nodes, 0 pruned nodes, max_depth=14\n",
      "[10:25:21] amalgamation/../src/tree/updater_prune.cc:74: tree pruning end, 1 roots, 750 extra nodes, 0 pruned nodes, max_depth=14\n",
      "[95]\teval-merror:0.295950\ttrain-merror:0.010638 \n",
      "[10:25:21] amalgamation/../src/tree/updater_prune.cc:74: tree pruning end, 1 roots, 624 extra nodes, 0 pruned nodes, max_depth=14\n",
      "[10:25:21] amalgamation/../src/tree/updater_prune.cc:74: tree pruning end, 1 roots, 624 extra nodes, 0 pruned nodes, max_depth=14\n",
      "[96]\teval-merror:0.294912\ttrain-merror:0.010379 \n",
      "[10:25:21] amalgamation/../src/tree/updater_prune.cc:74: tree pruning end, 1 roots, 626 extra nodes, 0 pruned nodes, max_depth=14\n",
      "[10:25:21] amalgamation/../src/tree/updater_prune.cc:74: tree pruning end, 1 roots, 626 extra nodes, 0 pruned nodes, max_depth=14\n",
      "[97]\teval-merror:0.293873\ttrain-merror:0.010119 \n",
      "[10:25:22] amalgamation/../src/tree/updater_prune.cc:74: tree pruning end, 1 roots, 620 extra nodes, 0 pruned nodes, max_depth=14\n",
      "[10:25:22] amalgamation/../src/tree/updater_prune.cc:74: tree pruning end, 1 roots, 620 extra nodes, 0 pruned nodes, max_depth=14\n",
      "[98]\teval-merror:0.291796\ttrain-merror:0.009860 \n",
      "[10:25:22] amalgamation/../src/tree/updater_prune.cc:74: tree pruning end, 1 roots, 614 extra nodes, 0 pruned nodes, max_depth=14\n",
      "[10:25:22] amalgamation/../src/tree/updater_prune.cc:74: tree pruning end, 1 roots, 614 extra nodes, 0 pruned nodes, max_depth=14\n",
      "[99]\teval-merror:0.291796\ttrain-merror:0.010119 \n",
      "[10:25:22] amalgamation/../src/tree/updater_prune.cc:74: tree pruning end, 1 roots, 614 extra nodes, 0 pruned nodes, max_depth=14\n",
      "[10:25:22] amalgamation/../src/tree/updater_prune.cc:74: tree pruning end, 1 roots, 614 extra nodes, 0 pruned nodes, max_depth=14\n",
      "[100]\teval-merror:0.292835\ttrain-merror:0.009860 \n",
      "[10:25:22] amalgamation/../src/tree/updater_prune.cc:74: tree pruning end, 1 roots, 618 extra nodes, 0 pruned nodes, max_depth=14\n",
      "[10:25:22] amalgamation/../src/tree/updater_prune.cc:74: tree pruning end, 1 roots, 618 extra nodes, 0 pruned nodes, max_depth=14\n",
      "[101]\teval-merror:0.291796\ttrain-merror:0.009860 \n",
      "[10:25:22] amalgamation/../src/tree/updater_prune.cc:74: tree pruning end, 1 roots, 612 extra nodes, 0 pruned nodes, max_depth=14\n",
      "[10:25:22] amalgamation/../src/tree/updater_prune.cc:74: tree pruning end, 1 roots, 612 extra nodes, 0 pruned nodes, max_depth=14\n",
      "[102]\teval-merror:0.292835\ttrain-merror:0.009600 \n",
      "[10:25:22] amalgamation/../src/tree/updater_prune.cc:74: tree pruning end, 1 roots, 630 extra nodes, 0 pruned nodes, max_depth=14\n",
      "[10:25:22] amalgamation/../src/tree/updater_prune.cc:74: tree pruning end, 1 roots, 630 extra nodes, 0 pruned nodes, max_depth=14\n",
      "[103]\teval-merror:0.291796\ttrain-merror:0.009341 \n",
      "[10:25:22] amalgamation/../src/tree/updater_prune.cc:74: tree pruning end, 1 roots, 744 extra nodes, 0 pruned nodes, max_depth=14\n",
      "[10:25:22] amalgamation/../src/tree/updater_prune.cc:74: tree pruning end, 1 roots, 744 extra nodes, 0 pruned nodes, max_depth=14\n",
      "[104]\teval-merror:0.292835\ttrain-merror:0.009081 \n",
      "[10:25:22] amalgamation/../src/tree/updater_prune.cc:74: tree pruning end, 1 roots, 632 extra nodes, 0 pruned nodes, max_depth=14\n",
      "[10:25:22] amalgamation/../src/tree/updater_prune.cc:74: tree pruning end, 1 roots, 632 extra nodes, 0 pruned nodes, max_depth=14\n",
      "[105]\teval-merror:0.291796\ttrain-merror:0.009081 \n",
      "[10:25:22] amalgamation/../src/tree/updater_prune.cc:74: tree pruning end, 1 roots, 630 extra nodes, 0 pruned nodes, max_depth=14\n",
      "[10:25:22] amalgamation/../src/tree/updater_prune.cc:74: tree pruning end, 1 roots, 630 extra nodes, 0 pruned nodes, max_depth=14\n",
      "[106]\teval-merror:0.290758\ttrain-merror:0.009341 \n",
      "[10:25:22] amalgamation/../src/tree/updater_prune.cc:74: tree pruning end, 1 roots, 628 extra nodes, 0 pruned nodes, max_depth=14\n",
      "[10:25:22] amalgamation/../src/tree/updater_prune.cc:74: tree pruning end, 1 roots, 628 extra nodes, 0 pruned nodes, max_depth=14\n",
      "[107]\teval-merror:0.291796\ttrain-merror:0.009341 \n",
      "[10:25:22] amalgamation/../src/tree/updater_prune.cc:74: tree pruning end, 1 roots, 622 extra nodes, 0 pruned nodes, max_depth=14\n",
      "[10:25:22] amalgamation/../src/tree/updater_prune.cc:74: tree pruning end, 1 roots, 622 extra nodes, 0 pruned nodes, max_depth=14\n",
      "[108]\teval-merror:0.292835\ttrain-merror:0.009600 \n",
      "[10:25:22] amalgamation/../src/tree/updater_prune.cc:74: tree pruning end, 1 roots, 632 extra nodes, 0 pruned nodes, max_depth=14\n",
      "[10:25:22] amalgamation/../src/tree/updater_prune.cc:74: tree pruning end, 1 roots, 632 extra nodes, 0 pruned nodes, max_depth=14\n",
      "[109]\teval-merror:0.293873\ttrain-merror:0.009600 \n",
      "[10:25:22] amalgamation/../src/tree/updater_prune.cc:74: tree pruning end, 1 roots, 622 extra nodes, 0 pruned nodes, max_depth=14\n",
      "[10:25:22] amalgamation/../src/tree/updater_prune.cc:74: tree pruning end, 1 roots, 622 extra nodes, 0 pruned nodes, max_depth=14\n",
      "[110]\teval-merror:0.293873\ttrain-merror:0.009341 \n",
      "[10:25:22] amalgamation/../src/tree/updater_prune.cc:74: tree pruning end, 1 roots, 638 extra nodes, 0 pruned nodes, max_depth=14\n",
      "[10:25:22] amalgamation/../src/tree/updater_prune.cc:74: tree pruning end, 1 roots, 638 extra nodes, 0 pruned nodes, max_depth=14\n",
      "[111]\teval-merror:0.294912\ttrain-merror:0.009341 \n",
      "[10:25:22] amalgamation/../src/tree/updater_prune.cc:74: tree pruning end, 1 roots, 622 extra nodes, 0 pruned nodes, max_depth=14\n",
      "[10:25:22] amalgamation/../src/tree/updater_prune.cc:74: tree pruning end, 1 roots, 622 extra nodes, 0 pruned nodes, max_depth=14\n",
      "[112]\teval-merror:0.295950\ttrain-merror:0.009341 \n",
      "[10:25:22] amalgamation/../src/tree/updater_prune.cc:74: tree pruning end, 1 roots, 622 extra nodes, 0 pruned nodes, max_depth=14\n",
      "[10:25:22] amalgamation/../src/tree/updater_prune.cc:74: tree pruning end, 1 roots, 622 extra nodes, 0 pruned nodes, max_depth=14\n",
      "[113]\teval-merror:0.298027\ttrain-merror:0.009341 \n",
      "[10:25:22] amalgamation/../src/tree/updater_prune.cc:74: tree pruning end, 1 roots, 630 extra nodes, 0 pruned nodes, max_depth=14\n",
      "[10:25:22] amalgamation/../src/tree/updater_prune.cc:74: tree pruning end, 1 roots, 630 extra nodes, 0 pruned nodes, max_depth=14\n",
      "[114]\teval-merror:0.294912\ttrain-merror:0.009341 \n",
      "[10:25:22] amalgamation/../src/tree/updater_prune.cc:74: tree pruning end, 1 roots, 642 extra nodes, 0 pruned nodes, max_depth=14\n",
      "[10:25:22] amalgamation/../src/tree/updater_prune.cc:74: tree pruning end, 1 roots, 642 extra nodes, 0 pruned nodes, max_depth=14\n",
      "[115]\teval-merror:0.295950\ttrain-merror:0.009081 \n",
      "[10:25:22] amalgamation/../src/tree/updater_prune.cc:74: tree pruning end, 1 roots, 648 extra nodes, 0 pruned nodes, max_depth=14\n",
      "[10:25:22] amalgamation/../src/tree/updater_prune.cc:74: tree pruning end, 1 roots, 648 extra nodes, 0 pruned nodes, max_depth=14\n",
      "[116]\teval-merror:0.294912\ttrain-merror:0.009081 \n",
      "[10:25:22] amalgamation/../src/tree/updater_prune.cc:74: tree pruning end, 1 roots, 720 extra nodes, 0 pruned nodes, max_depth=14\n",
      "[10:25:22] amalgamation/../src/tree/updater_prune.cc:74: tree pruning end, 1 roots, 720 extra nodes, 0 pruned nodes, max_depth=14\n",
      "[117]\teval-merror:0.295950\ttrain-merror:0.008563 \n",
      "[10:25:22] amalgamation/../src/tree/updater_prune.cc:74: tree pruning end, 1 roots, 616 extra nodes, 0 pruned nodes, max_depth=14\n",
      "[10:25:22] amalgamation/../src/tree/updater_prune.cc:74: tree pruning end, 1 roots, 616 extra nodes, 0 pruned nodes, max_depth=14\n",
      "[118]\teval-merror:0.296989\ttrain-merror:0.008303 \n",
      "[10:25:22] amalgamation/../src/tree/updater_prune.cc:74: tree pruning end, 1 roots, 704 extra nodes, 0 pruned nodes, max_depth=14\n",
      "[10:25:22] amalgamation/../src/tree/updater_prune.cc:74: tree pruning end, 1 roots, 704 extra nodes, 0 pruned nodes, max_depth=14\n",
      "[119]\teval-merror:0.295950\ttrain-merror:0.008303 \n",
      "[10:25:22] amalgamation/../src/tree/updater_prune.cc:74: tree pruning end, 1 roots, 718 extra nodes, 0 pruned nodes, max_depth=14\n",
      "[10:25:22] amalgamation/../src/tree/updater_prune.cc:74: tree pruning end, 1 roots, 718 extra nodes, 0 pruned nodes, max_depth=14\n",
      "[120]\teval-merror:0.296989\ttrain-merror:0.008303 \n",
      "[10:25:22] amalgamation/../src/tree/updater_prune.cc:74: tree pruning end, 1 roots, 704 extra nodes, 0 pruned nodes, max_depth=14\n",
      "[10:25:22] amalgamation/../src/tree/updater_prune.cc:74: tree pruning end, 1 roots, 704 extra nodes, 0 pruned nodes, max_depth=14\n",
      "[121]\teval-merror:0.298027\ttrain-merror:0.008303 \n",
      "[10:25:22] amalgamation/../src/tree/updater_prune.cc:74: tree pruning end, 1 roots, 704 extra nodes, 0 pruned nodes, max_depth=14\n",
      "[10:25:22] amalgamation/../src/tree/updater_prune.cc:74: tree pruning end, 1 roots, 704 extra nodes, 0 pruned nodes, max_depth=14\n",
      "[122]\teval-merror:0.300104\ttrain-merror:0.008303 \n",
      "[10:25:22] amalgamation/../src/tree/updater_prune.cc:74: tree pruning end, 1 roots, 730 extra nodes, 0 pruned nodes, max_depth=14\n",
      "[10:25:22] amalgamation/../src/tree/updater_prune.cc:74: tree pruning end, 1 roots, 730 extra nodes, 0 pruned nodes, max_depth=14\n",
      "[123]\teval-merror:0.301142\ttrain-merror:0.008044 \n",
      "[10:25:22] amalgamation/../src/tree/updater_prune.cc:74: tree pruning end, 1 roots, 720 extra nodes, 0 pruned nodes, max_depth=14\n",
      "[10:25:22] amalgamation/../src/tree/updater_prune.cc:74: tree pruning end, 1 roots, 720 extra nodes, 0 pruned nodes, max_depth=14\n",
      "[124]\teval-merror:0.300104\ttrain-merror:0.008044 \n",
      "[10:25:22] amalgamation/../src/tree/updater_prune.cc:74: tree pruning end, 1 roots, 646 extra nodes, 0 pruned nodes, max_depth=14\n",
      "[10:25:22] amalgamation/../src/tree/updater_prune.cc:74: tree pruning end, 1 roots, 646 extra nodes, 0 pruned nodes, max_depth=14\n",
      "[125]\teval-merror:0.300104\ttrain-merror:0.008044 \n",
      "[10:25:22] amalgamation/../src/tree/updater_prune.cc:74: tree pruning end, 1 roots, 692 extra nodes, 0 pruned nodes, max_depth=14\n",
      "[10:25:23] amalgamation/../src/tree/updater_prune.cc:74: tree pruning end, 1 roots, 692 extra nodes, 0 pruned nodes, max_depth=14\n",
      "[126]\teval-merror:0.299065\ttrain-merror:0.007784 \n",
      "[10:25:23] amalgamation/../src/tree/updater_prune.cc:74: tree pruning end, 1 roots, 638 extra nodes, 0 pruned nodes, max_depth=14\n",
      "[10:25:23] amalgamation/../src/tree/updater_prune.cc:74: tree pruning end, 1 roots, 638 extra nodes, 0 pruned nodes, max_depth=14\n",
      "[127]\teval-merror:0.299065\ttrain-merror:0.007784 \n",
      "[10:25:23] amalgamation/../src/tree/updater_prune.cc:74: tree pruning end, 1 roots, 638 extra nodes, 0 pruned nodes, max_depth=14\n",
      "[10:25:23] amalgamation/../src/tree/updater_prune.cc:74: tree pruning end, 1 roots, 638 extra nodes, 0 pruned nodes, max_depth=14\n",
      "[128]\teval-merror:0.299065\ttrain-merror:0.007525 \n",
      "[10:25:23] amalgamation/../src/tree/updater_prune.cc:74: tree pruning end, 1 roots, 710 extra nodes, 0 pruned nodes, max_depth=14\n",
      "[10:25:23] amalgamation/../src/tree/updater_prune.cc:74: tree pruning end, 1 roots, 710 extra nodes, 0 pruned nodes, max_depth=14\n",
      "[129]\teval-merror:0.298027\ttrain-merror:0.007525 \n",
      "[10:25:23] amalgamation/../src/tree/updater_prune.cc:74: tree pruning end, 1 roots, 648 extra nodes, 0 pruned nodes, max_depth=14\n",
      "[10:25:23] amalgamation/../src/tree/updater_prune.cc:74: tree pruning end, 1 roots, 648 extra nodes, 0 pruned nodes, max_depth=14\n",
      "[130]\teval-merror:0.296989\ttrain-merror:0.007784 \n",
      "[10:25:23] amalgamation/../src/tree/updater_prune.cc:74: tree pruning end, 1 roots, 706 extra nodes, 0 pruned nodes, max_depth=14\n",
      "[10:25:23] amalgamation/../src/tree/updater_prune.cc:74: tree pruning end, 1 roots, 706 extra nodes, 0 pruned nodes, max_depth=14\n",
      "[131]\teval-merror:0.296989\ttrain-merror:0.007525 \n",
      "[10:25:23] amalgamation/../src/tree/updater_prune.cc:74: tree pruning end, 1 roots, 638 extra nodes, 0 pruned nodes, max_depth=14\n",
      "[10:25:23] amalgamation/../src/tree/updater_prune.cc:74: tree pruning end, 1 roots, 638 extra nodes, 0 pruned nodes, max_depth=14\n",
      "[132]\teval-merror:0.296989\ttrain-merror:0.006746 \n",
      "[10:25:23] amalgamation/../src/tree/updater_prune.cc:74: tree pruning end, 1 roots, 640 extra nodes, 0 pruned nodes, max_depth=14\n",
      "[10:25:23] amalgamation/../src/tree/updater_prune.cc:74: tree pruning end, 1 roots, 640 extra nodes, 0 pruned nodes, max_depth=14\n",
      "[133]\teval-merror:0.298027\ttrain-merror:0.006487 \n",
      "[10:25:23] amalgamation/../src/tree/updater_prune.cc:74: tree pruning end, 1 roots, 760 extra nodes, 0 pruned nodes, max_depth=14\n",
      "[10:25:23] amalgamation/../src/tree/updater_prune.cc:74: tree pruning end, 1 roots, 760 extra nodes, 0 pruned nodes, max_depth=14\n",
      "[134]\teval-merror:0.295950\ttrain-merror:0.006487 \n",
      "[10:25:23] amalgamation/../src/tree/updater_prune.cc:74: tree pruning end, 1 roots, 662 extra nodes, 0 pruned nodes, max_depth=14\n",
      "[10:25:23] amalgamation/../src/tree/updater_prune.cc:74: tree pruning end, 1 roots, 662 extra nodes, 0 pruned nodes, max_depth=14\n",
      "[135]\teval-merror:0.295950\ttrain-merror:0.006227 \n",
      "[10:25:23] amalgamation/../src/tree/updater_prune.cc:74: tree pruning end, 1 roots, 690 extra nodes, 0 pruned nodes, max_depth=14\n",
      "[10:25:23] amalgamation/../src/tree/updater_prune.cc:74: tree pruning end, 1 roots, 690 extra nodes, 0 pruned nodes, max_depth=14\n",
      "[136]\teval-merror:0.294912\ttrain-merror:0.006227 \n",
      "[10:25:23] amalgamation/../src/tree/updater_prune.cc:74: tree pruning end, 1 roots, 682 extra nodes, 0 pruned nodes, max_depth=14\n",
      "[10:25:23] amalgamation/../src/tree/updater_prune.cc:74: tree pruning end, 1 roots, 682 extra nodes, 0 pruned nodes, max_depth=14\n",
      "[137]\teval-merror:0.295950\ttrain-merror:0.006227 \n",
      "[10:25:23] amalgamation/../src/tree/updater_prune.cc:74: tree pruning end, 1 roots, 702 extra nodes, 0 pruned nodes, max_depth=14\n",
      "[10:25:23] amalgamation/../src/tree/updater_prune.cc:74: tree pruning end, 1 roots, 702 extra nodes, 0 pruned nodes, max_depth=14\n",
      "[138]\teval-merror:0.294912\ttrain-merror:0.005708 \n",
      "[10:25:23] amalgamation/../src/tree/updater_prune.cc:74: tree pruning end, 1 roots, 660 extra nodes, 0 pruned nodes, max_depth=14\n",
      "[10:25:23] amalgamation/../src/tree/updater_prune.cc:74: tree pruning end, 1 roots, 660 extra nodes, 0 pruned nodes, max_depth=14\n",
      "[139]\teval-merror:0.295950\ttrain-merror:0.005708 \n",
      "[10:25:23] amalgamation/../src/tree/updater_prune.cc:74: tree pruning end, 1 roots, 682 extra nodes, 0 pruned nodes, max_depth=14\n",
      "[10:25:23] amalgamation/../src/tree/updater_prune.cc:74: tree pruning end, 1 roots, 682 extra nodes, 0 pruned nodes, max_depth=14\n",
      "[140]\teval-merror:0.296989\ttrain-merror:0.005708 \n",
      "[10:25:23] amalgamation/../src/tree/updater_prune.cc:74: tree pruning end, 1 roots, 682 extra nodes, 0 pruned nodes, max_depth=14\n",
      "[10:25:23] amalgamation/../src/tree/updater_prune.cc:74: tree pruning end, 1 roots, 682 extra nodes, 0 pruned nodes, max_depth=14\n",
      "[141]\teval-merror:0.293873\ttrain-merror:0.005708 \n",
      "[10:25:23] amalgamation/../src/tree/updater_prune.cc:74: tree pruning end, 1 roots, 654 extra nodes, 0 pruned nodes, max_depth=14\n",
      "[10:25:23] amalgamation/../src/tree/updater_prune.cc:74: tree pruning end, 1 roots, 654 extra nodes, 0 pruned nodes, max_depth=14\n",
      "[142]\teval-merror:0.293873\ttrain-merror:0.005708 \n",
      "[10:25:23] amalgamation/../src/tree/updater_prune.cc:74: tree pruning end, 1 roots, 710 extra nodes, 0 pruned nodes, max_depth=14\n",
      "[10:25:23] amalgamation/../src/tree/updater_prune.cc:74: tree pruning end, 1 roots, 710 extra nodes, 0 pruned nodes, max_depth=14\n",
      "[143]\teval-merror:0.294912\ttrain-merror:0.005449 \n",
      "[10:25:23] amalgamation/../src/tree/updater_prune.cc:74: tree pruning end, 1 roots, 636 extra nodes, 0 pruned nodes, max_depth=14\n",
      "[10:25:23] amalgamation/../src/tree/updater_prune.cc:74: tree pruning end, 1 roots, 636 extra nodes, 0 pruned nodes, max_depth=14\n",
      "[144]\teval-merror:0.291796\ttrain-merror:0.005449 \n",
      "[10:25:23] amalgamation/../src/tree/updater_prune.cc:74: tree pruning end, 1 roots, 672 extra nodes, 0 pruned nodes, max_depth=14\n",
      "[10:25:23] amalgamation/../src/tree/updater_prune.cc:74: tree pruning end, 1 roots, 672 extra nodes, 0 pruned nodes, max_depth=14\n",
      "[145]\teval-merror:0.291796\ttrain-merror:0.005449 \n",
      "[10:25:23] amalgamation/../src/tree/updater_prune.cc:74: tree pruning end, 1 roots, 702 extra nodes, 0 pruned nodes, max_depth=14\n",
      "[10:25:23] amalgamation/../src/tree/updater_prune.cc:74: tree pruning end, 1 roots, 702 extra nodes, 0 pruned nodes, max_depth=14\n",
      "[146]\teval-merror:0.292835\ttrain-merror:0.005189 \n",
      "[10:25:23] amalgamation/../src/tree/updater_prune.cc:74: tree pruning end, 1 roots, 624 extra nodes, 0 pruned nodes, max_depth=14\n",
      "[10:25:23] amalgamation/../src/tree/updater_prune.cc:74: tree pruning end, 1 roots, 624 extra nodes, 0 pruned nodes, max_depth=14\n",
      "[147]\teval-merror:0.292835\ttrain-merror:0.005189 \n",
      "[10:25:23] amalgamation/../src/tree/updater_prune.cc:74: tree pruning end, 1 roots, 722 extra nodes, 0 pruned nodes, max_depth=14\n",
      "[10:25:23] amalgamation/../src/tree/updater_prune.cc:74: tree pruning end, 1 roots, 722 extra nodes, 0 pruned nodes, max_depth=14\n",
      "[148]\teval-merror:0.293873\ttrain-merror:0.004930 \n",
      "[10:25:23] amalgamation/../src/tree/updater_prune.cc:74: tree pruning end, 1 roots, 610 extra nodes, 0 pruned nodes, max_depth=14\n",
      "[10:25:23] amalgamation/../src/tree/updater_prune.cc:74: tree pruning end, 1 roots, 610 extra nodes, 0 pruned nodes, max_depth=14\n",
      "[149]\teval-merror:0.294912\ttrain-merror:0.004670 \n",
      "[10:25:23] amalgamation/../src/tree/updater_prune.cc:74: tree pruning end, 1 roots, 684 extra nodes, 0 pruned nodes, max_depth=14\n",
      "[10:25:23] amalgamation/../src/tree/updater_prune.cc:74: tree pruning end, 1 roots, 684 extra nodes, 0 pruned nodes, max_depth=14\n",
      "[150]\teval-merror:0.292835\ttrain-merror:0.004930 \n",
      "[10:25:23] amalgamation/../src/tree/updater_prune.cc:74: tree pruning end, 1 roots, 712 extra nodes, 0 pruned nodes, max_depth=14\n",
      "[10:25:23] amalgamation/../src/tree/updater_prune.cc:74: tree pruning end, 1 roots, 712 extra nodes, 0 pruned nodes, max_depth=14\n",
      "[151]\teval-merror:0.290758\ttrain-merror:0.004930 \n",
      "[10:25:23] amalgamation/../src/tree/updater_prune.cc:74: tree pruning end, 1 roots, 650 extra nodes, 0 pruned nodes, max_depth=14\n",
      "[10:25:23] amalgamation/../src/tree/updater_prune.cc:74: tree pruning end, 1 roots, 650 extra nodes, 0 pruned nodes, max_depth=14\n",
      "[152]\teval-merror:0.292835\ttrain-merror:0.004670 \n",
      "[10:25:23] amalgamation/../src/tree/updater_prune.cc:74: tree pruning end, 1 roots, 632 extra nodes, 0 pruned nodes, max_depth=14\n",
      "[10:25:23] amalgamation/../src/tree/updater_prune.cc:74: tree pruning end, 1 roots, 632 extra nodes, 0 pruned nodes, max_depth=14\n",
      "[153]\teval-merror:0.293873\ttrain-merror:0.004670 \n",
      "[10:25:23] amalgamation/../src/tree/updater_prune.cc:74: tree pruning end, 1 roots, 652 extra nodes, 0 pruned nodes, max_depth=14\n",
      "[10:25:23] amalgamation/../src/tree/updater_prune.cc:74: tree pruning end, 1 roots, 652 extra nodes, 0 pruned nodes, max_depth=14\n",
      "[154]\teval-merror:0.295950\ttrain-merror:0.004670 \n",
      "[10:25:23] amalgamation/../src/tree/updater_prune.cc:74: tree pruning end, 1 roots, 634 extra nodes, 0 pruned nodes, max_depth=14\n",
      "[10:25:24] amalgamation/../src/tree/updater_prune.cc:74: tree pruning end, 1 roots, 634 extra nodes, 0 pruned nodes, max_depth=14\n",
      "[155]\teval-merror:0.295950\ttrain-merror:0.004411 \n",
      "[10:25:24] amalgamation/../src/tree/updater_prune.cc:74: tree pruning end, 1 roots, 630 extra nodes, 0 pruned nodes, max_depth=14\n",
      "[10:25:24] amalgamation/../src/tree/updater_prune.cc:74: tree pruning end, 1 roots, 630 extra nodes, 0 pruned nodes, max_depth=14\n",
      "[156]\teval-merror:0.295950\ttrain-merror:0.004411 \n",
      "[10:25:24] amalgamation/../src/tree/updater_prune.cc:74: tree pruning end, 1 roots, 660 extra nodes, 0 pruned nodes, max_depth=14\n",
      "[10:25:24] amalgamation/../src/tree/updater_prune.cc:74: tree pruning end, 1 roots, 660 extra nodes, 0 pruned nodes, max_depth=14\n",
      "[157]\teval-merror:0.295950\ttrain-merror:0.004152 \n",
      "[10:25:24] amalgamation/../src/tree/updater_prune.cc:74: tree pruning end, 1 roots, 634 extra nodes, 0 pruned nodes, max_depth=14\n",
      "[10:25:24] amalgamation/../src/tree/updater_prune.cc:74: tree pruning end, 1 roots, 634 extra nodes, 0 pruned nodes, max_depth=14\n",
      "[158]\teval-merror:0.295950\ttrain-merror:0.004152 \n",
      "[10:25:24] amalgamation/../src/tree/updater_prune.cc:74: tree pruning end, 1 roots, 634 extra nodes, 0 pruned nodes, max_depth=14\n",
      "[10:25:24] amalgamation/../src/tree/updater_prune.cc:74: tree pruning end, 1 roots, 634 extra nodes, 0 pruned nodes, max_depth=14\n",
      "[159]\teval-merror:0.295950\ttrain-merror:0.004152 \n",
      "[10:25:24] amalgamation/../src/tree/updater_prune.cc:74: tree pruning end, 1 roots, 628 extra nodes, 0 pruned nodes, max_depth=14\n",
      "[10:25:24] amalgamation/../src/tree/updater_prune.cc:74: tree pruning end, 1 roots, 628 extra nodes, 0 pruned nodes, max_depth=14\n",
      "[160]\teval-merror:0.295950\ttrain-merror:0.004152 \n",
      "[10:25:24] amalgamation/../src/tree/updater_prune.cc:74: tree pruning end, 1 roots, 694 extra nodes, 0 pruned nodes, max_depth=14\n",
      "[10:25:24] amalgamation/../src/tree/updater_prune.cc:74: tree pruning end, 1 roots, 694 extra nodes, 0 pruned nodes, max_depth=14\n",
      "[161]\teval-merror:0.296989\ttrain-merror:0.004152 \n",
      "[10:25:24] amalgamation/../src/tree/updater_prune.cc:74: tree pruning end, 1 roots, 686 extra nodes, 0 pruned nodes, max_depth=14\n",
      "[10:25:24] amalgamation/../src/tree/updater_prune.cc:74: tree pruning end, 1 roots, 686 extra nodes, 0 pruned nodes, max_depth=14\n",
      "[162]\teval-merror:0.296989\ttrain-merror:0.004152 \n",
      "[10:25:24] amalgamation/../src/tree/updater_prune.cc:74: tree pruning end, 1 roots, 658 extra nodes, 0 pruned nodes, max_depth=14\n",
      "[10:25:24] amalgamation/../src/tree/updater_prune.cc:74: tree pruning end, 1 roots, 658 extra nodes, 0 pruned nodes, max_depth=14\n",
      "[163]\teval-merror:0.298027\ttrain-merror:0.004152 \n",
      "[10:25:24] amalgamation/../src/tree/updater_prune.cc:74: tree pruning end, 1 roots, 602 extra nodes, 0 pruned nodes, max_depth=14\n",
      "[10:25:24] amalgamation/../src/tree/updater_prune.cc:74: tree pruning end, 1 roots, 602 extra nodes, 0 pruned nodes, max_depth=14\n",
      "[164]\teval-merror:0.298027\ttrain-merror:0.003892 \n",
      "[10:25:24] amalgamation/../src/tree/updater_prune.cc:74: tree pruning end, 1 roots, 674 extra nodes, 0 pruned nodes, max_depth=14\n",
      "[10:25:24] amalgamation/../src/tree/updater_prune.cc:74: tree pruning end, 1 roots, 674 extra nodes, 0 pruned nodes, max_depth=14\n",
      "[165]\teval-merror:0.298027\ttrain-merror:0.004152 \n",
      "[10:25:24] amalgamation/../src/tree/updater_prune.cc:74: tree pruning end, 1 roots, 694 extra nodes, 0 pruned nodes, max_depth=14\n",
      "[10:25:24] amalgamation/../src/tree/updater_prune.cc:74: tree pruning end, 1 roots, 694 extra nodes, 0 pruned nodes, max_depth=14\n",
      "[166]\teval-merror:0.296989\ttrain-merror:0.004152 \n",
      "[10:25:24] amalgamation/../src/tree/updater_prune.cc:74: tree pruning end, 1 roots, 628 extra nodes, 0 pruned nodes, max_depth=14\n",
      "[10:25:24] amalgamation/../src/tree/updater_prune.cc:74: tree pruning end, 1 roots, 628 extra nodes, 0 pruned nodes, max_depth=14\n",
      "[167]\teval-merror:0.300104\ttrain-merror:0.004152 \n",
      "[10:25:24] amalgamation/../src/tree/updater_prune.cc:74: tree pruning end, 1 roots, 564 extra nodes, 0 pruned nodes, max_depth=14\n",
      "[10:25:24] amalgamation/../src/tree/updater_prune.cc:74: tree pruning end, 1 roots, 564 extra nodes, 0 pruned nodes, max_depth=14\n",
      "[168]\teval-merror:0.299065\ttrain-merror:0.003892 \n",
      "[10:25:24] amalgamation/../src/tree/updater_prune.cc:74: tree pruning end, 1 roots, 564 extra nodes, 0 pruned nodes, max_depth=14\n",
      "[10:25:24] amalgamation/../src/tree/updater_prune.cc:74: tree pruning end, 1 roots, 564 extra nodes, 0 pruned nodes, max_depth=14\n",
      "[169]\teval-merror:0.298027\ttrain-merror:0.003892 \n",
      "[10:25:24] amalgamation/../src/tree/updater_prune.cc:74: tree pruning end, 1 roots, 566 extra nodes, 0 pruned nodes, max_depth=14\n",
      "[10:25:24] amalgamation/../src/tree/updater_prune.cc:74: tree pruning end, 1 roots, 566 extra nodes, 0 pruned nodes, max_depth=14\n",
      "[170]\teval-merror:0.298027\ttrain-merror:0.003892 \n",
      "[10:25:24] amalgamation/../src/tree/updater_prune.cc:74: tree pruning end, 1 roots, 610 extra nodes, 0 pruned nodes, max_depth=14\n",
      "[10:25:24] amalgamation/../src/tree/updater_prune.cc:74: tree pruning end, 1 roots, 610 extra nodes, 0 pruned nodes, max_depth=14\n",
      "[171]\teval-merror:0.298027\ttrain-merror:0.003892 \n",
      "[10:25:24] amalgamation/../src/tree/updater_prune.cc:74: tree pruning end, 1 roots, 622 extra nodes, 0 pruned nodes, max_depth=14\n",
      "[10:25:24] amalgamation/../src/tree/updater_prune.cc:74: tree pruning end, 1 roots, 622 extra nodes, 0 pruned nodes, max_depth=14\n",
      "[172]\teval-merror:0.295950\ttrain-merror:0.003633 \n",
      "[10:25:24] amalgamation/../src/tree/updater_prune.cc:74: tree pruning end, 1 roots, 660 extra nodes, 0 pruned nodes, max_depth=14\n",
      "[10:25:24] amalgamation/../src/tree/updater_prune.cc:74: tree pruning end, 1 roots, 660 extra nodes, 0 pruned nodes, max_depth=14\n",
      "[173]\teval-merror:0.298027\ttrain-merror:0.003633 \n",
      "[10:25:24] amalgamation/../src/tree/updater_prune.cc:74: tree pruning end, 1 roots, 612 extra nodes, 0 pruned nodes, max_depth=14\n",
      "[10:25:24] amalgamation/../src/tree/updater_prune.cc:74: tree pruning end, 1 roots, 612 extra nodes, 0 pruned nodes, max_depth=14\n",
      "[174]\teval-merror:0.295950\ttrain-merror:0.003633 \n",
      "[10:25:24] amalgamation/../src/tree/updater_prune.cc:74: tree pruning end, 1 roots, 538 extra nodes, 0 pruned nodes, max_depth=14\n",
      "[10:25:24] amalgamation/../src/tree/updater_prune.cc:74: tree pruning end, 1 roots, 538 extra nodes, 0 pruned nodes, max_depth=14\n",
      "[175]\teval-merror:0.295950\ttrain-merror:0.003373 \n",
      "[10:25:24] amalgamation/../src/tree/updater_prune.cc:74: tree pruning end, 1 roots, 620 extra nodes, 0 pruned nodes, max_depth=14\n",
      "[10:25:24] amalgamation/../src/tree/updater_prune.cc:74: tree pruning end, 1 roots, 620 extra nodes, 0 pruned nodes, max_depth=14\n",
      "[176]\teval-merror:0.293873\ttrain-merror:0.003373 \n",
      "[10:25:24] amalgamation/../src/tree/updater_prune.cc:74: tree pruning end, 1 roots, 622 extra nodes, 0 pruned nodes, max_depth=14\n",
      "[10:25:24] amalgamation/../src/tree/updater_prune.cc:74: tree pruning end, 1 roots, 622 extra nodes, 0 pruned nodes, max_depth=14\n",
      "[177]\teval-merror:0.291796\ttrain-merror:0.003373 \n",
      "[10:25:24] amalgamation/../src/tree/updater_prune.cc:74: tree pruning end, 1 roots, 698 extra nodes, 0 pruned nodes, max_depth=14\n",
      "[10:25:24] amalgamation/../src/tree/updater_prune.cc:74: tree pruning end, 1 roots, 698 extra nodes, 0 pruned nodes, max_depth=14\n",
      "[178]\teval-merror:0.292835\ttrain-merror:0.003373 \n",
      "[10:25:24] amalgamation/../src/tree/updater_prune.cc:74: tree pruning end, 1 roots, 622 extra nodes, 0 pruned nodes, max_depth=14\n",
      "[10:25:24] amalgamation/../src/tree/updater_prune.cc:74: tree pruning end, 1 roots, 622 extra nodes, 0 pruned nodes, max_depth=14\n",
      "[179]\teval-merror:0.291796\ttrain-merror:0.003373 \n",
      "[10:25:24] amalgamation/../src/tree/updater_prune.cc:74: tree pruning end, 1 roots, 530 extra nodes, 0 pruned nodes, max_depth=14\n",
      "[10:25:24] amalgamation/../src/tree/updater_prune.cc:74: tree pruning end, 1 roots, 530 extra nodes, 0 pruned nodes, max_depth=14\n",
      "[180]\teval-merror:0.289720\ttrain-merror:0.003373 \n",
      "[10:25:24] amalgamation/../src/tree/updater_prune.cc:74: tree pruning end, 1 roots, 528 extra nodes, 0 pruned nodes, max_depth=14\n",
      "[10:25:24] amalgamation/../src/tree/updater_prune.cc:74: tree pruning end, 1 roots, 528 extra nodes, 0 pruned nodes, max_depth=14\n",
      "[181]\teval-merror:0.289720\ttrain-merror:0.003373 \n",
      "[10:25:24] amalgamation/../src/tree/updater_prune.cc:74: tree pruning end, 1 roots, 664 extra nodes, 0 pruned nodes, max_depth=14\n",
      "[10:25:24] amalgamation/../src/tree/updater_prune.cc:74: tree pruning end, 1 roots, 664 extra nodes, 0 pruned nodes, max_depth=14\n",
      "[182]\teval-merror:0.289720\ttrain-merror:0.003373 \n",
      "[10:25:24] amalgamation/../src/tree/updater_prune.cc:74: tree pruning end, 1 roots, 596 extra nodes, 0 pruned nodes, max_depth=14\n",
      "[10:25:24] amalgamation/../src/tree/updater_prune.cc:74: tree pruning end, 1 roots, 596 extra nodes, 0 pruned nodes, max_depth=14\n",
      "[183]\teval-merror:0.289720\ttrain-merror:0.003373 \n",
      "[10:25:24] amalgamation/../src/tree/updater_prune.cc:74: tree pruning end, 1 roots, 518 extra nodes, 0 pruned nodes, max_depth=14\n",
      "[10:25:24] amalgamation/../src/tree/updater_prune.cc:74: tree pruning end, 1 roots, 518 extra nodes, 0 pruned nodes, max_depth=14\n",
      "[184]\teval-merror:0.290758\ttrain-merror:0.003373 \n",
      "[10:25:25] amalgamation/../src/tree/updater_prune.cc:74: tree pruning end, 1 roots, 570 extra nodes, 0 pruned nodes, max_depth=14\n",
      "[10:25:25] amalgamation/../src/tree/updater_prune.cc:74: tree pruning end, 1 roots, 570 extra nodes, 0 pruned nodes, max_depth=14\n",
      "[185]\teval-merror:0.290758\ttrain-merror:0.003373 \n",
      "[10:25:25] amalgamation/../src/tree/updater_prune.cc:74: tree pruning end, 1 roots, 606 extra nodes, 0 pruned nodes, max_depth=14\n",
      "[10:25:25] amalgamation/../src/tree/updater_prune.cc:74: tree pruning end, 1 roots, 606 extra nodes, 0 pruned nodes, max_depth=14\n",
      "[186]\teval-merror:0.288681\ttrain-merror:0.003373 \n",
      "[10:25:25] amalgamation/../src/tree/updater_prune.cc:74: tree pruning end, 1 roots, 602 extra nodes, 0 pruned nodes, max_depth=14\n",
      "[10:25:25] amalgamation/../src/tree/updater_prune.cc:74: tree pruning end, 1 roots, 602 extra nodes, 0 pruned nodes, max_depth=14\n",
      "[187]\teval-merror:0.289720\ttrain-merror:0.003373 \n",
      "[10:25:25] amalgamation/../src/tree/updater_prune.cc:74: tree pruning end, 1 roots, 568 extra nodes, 0 pruned nodes, max_depth=14\n",
      "[10:25:25] amalgamation/../src/tree/updater_prune.cc:74: tree pruning end, 1 roots, 568 extra nodes, 0 pruned nodes, max_depth=14\n",
      "[188]\teval-merror:0.289720\ttrain-merror:0.003373 \n",
      "[10:25:25] amalgamation/../src/tree/updater_prune.cc:74: tree pruning end, 1 roots, 594 extra nodes, 0 pruned nodes, max_depth=14\n",
      "[10:25:25] amalgamation/../src/tree/updater_prune.cc:74: tree pruning end, 1 roots, 594 extra nodes, 0 pruned nodes, max_depth=14\n",
      "[189]\teval-merror:0.289720\ttrain-merror:0.003373 \n",
      "[10:25:25] amalgamation/../src/tree/updater_prune.cc:74: tree pruning end, 1 roots, 514 extra nodes, 0 pruned nodes, max_depth=14\n",
      "[10:25:25] amalgamation/../src/tree/updater_prune.cc:74: tree pruning end, 1 roots, 514 extra nodes, 0 pruned nodes, max_depth=14\n",
      "[190]\teval-merror:0.287643\ttrain-merror:0.003373 \n",
      "[10:25:25] amalgamation/../src/tree/updater_prune.cc:74: tree pruning end, 1 roots, 572 extra nodes, 0 pruned nodes, max_depth=14\n",
      "[10:25:25] amalgamation/../src/tree/updater_prune.cc:74: tree pruning end, 1 roots, 572 extra nodes, 0 pruned nodes, max_depth=14\n",
      "[191]\teval-merror:0.289720\ttrain-merror:0.003373 \n",
      "[10:25:25] amalgamation/../src/tree/updater_prune.cc:74: tree pruning end, 1 roots, 684 extra nodes, 0 pruned nodes, max_depth=14\n",
      "[10:25:25] amalgamation/../src/tree/updater_prune.cc:74: tree pruning end, 1 roots, 684 extra nodes, 0 pruned nodes, max_depth=14\n",
      "[192]\teval-merror:0.288681\ttrain-merror:0.003373 \n",
      "[10:25:25] amalgamation/../src/tree/updater_prune.cc:74: tree pruning end, 1 roots, 604 extra nodes, 0 pruned nodes, max_depth=14\n",
      "[10:25:25] amalgamation/../src/tree/updater_prune.cc:74: tree pruning end, 1 roots, 604 extra nodes, 0 pruned nodes, max_depth=14\n",
      "[193]\teval-merror:0.287643\ttrain-merror:0.003114 \n",
      "[10:25:25] amalgamation/../src/tree/updater_prune.cc:74: tree pruning end, 1 roots, 566 extra nodes, 0 pruned nodes, max_depth=14\n",
      "[10:25:25] amalgamation/../src/tree/updater_prune.cc:74: tree pruning end, 1 roots, 566 extra nodes, 0 pruned nodes, max_depth=14\n",
      "[194]\teval-merror:0.287643\ttrain-merror:0.003114 \n",
      "[10:25:25] amalgamation/../src/tree/updater_prune.cc:74: tree pruning end, 1 roots, 596 extra nodes, 0 pruned nodes, max_depth=14\n",
      "[10:25:25] amalgamation/../src/tree/updater_prune.cc:74: tree pruning end, 1 roots, 596 extra nodes, 0 pruned nodes, max_depth=14\n",
      "[195]\teval-merror:0.285566\ttrain-merror:0.003114 \n",
      "[10:25:25] amalgamation/../src/tree/updater_prune.cc:74: tree pruning end, 1 roots, 598 extra nodes, 0 pruned nodes, max_depth=14\n",
      "[10:25:25] amalgamation/../src/tree/updater_prune.cc:74: tree pruning end, 1 roots, 598 extra nodes, 0 pruned nodes, max_depth=14\n",
      "[196]\teval-merror:0.283489\ttrain-merror:0.003114 \n",
      "[10:25:25] amalgamation/../src/tree/updater_prune.cc:74: tree pruning end, 1 roots, 540 extra nodes, 0 pruned nodes, max_depth=14\n",
      "[10:25:25] amalgamation/../src/tree/updater_prune.cc:74: tree pruning end, 1 roots, 540 extra nodes, 0 pruned nodes, max_depth=14\n",
      "[197]\teval-merror:0.283489\ttrain-merror:0.002854 \n",
      "[10:25:25] amalgamation/../src/tree/updater_prune.cc:74: tree pruning end, 1 roots, 530 extra nodes, 0 pruned nodes, max_depth=14\n",
      "[10:25:25] amalgamation/../src/tree/updater_prune.cc:74: tree pruning end, 1 roots, 530 extra nodes, 0 pruned nodes, max_depth=14\n",
      "[198]\teval-merror:0.284528\ttrain-merror:0.002854 \n",
      "[10:25:25] amalgamation/../src/tree/updater_prune.cc:74: tree pruning end, 1 roots, 542 extra nodes, 0 pruned nodes, max_depth=14\n",
      "[10:25:25] amalgamation/../src/tree/updater_prune.cc:74: tree pruning end, 1 roots, 542 extra nodes, 0 pruned nodes, max_depth=14\n",
      "[199]\teval-merror:0.284528\ttrain-merror:0.002854 \n",
      "[10:25:25] amalgamation/../src/tree/updater_prune.cc:74: tree pruning end, 1 roots, 678 extra nodes, 0 pruned nodes, max_depth=14\n",
      "[10:25:25] amalgamation/../src/tree/updater_prune.cc:74: tree pruning end, 1 roots, 678 extra nodes, 0 pruned nodes, max_depth=14\n",
      "[200]\teval-merror:0.283489\ttrain-merror:0.002595 \n",
      "[10:25:25] amalgamation/../src/tree/updater_prune.cc:74: tree pruning end, 1 roots, 576 extra nodes, 0 pruned nodes, max_depth=14\n",
      "[10:25:25] amalgamation/../src/tree/updater_prune.cc:74: tree pruning end, 1 roots, 576 extra nodes, 0 pruned nodes, max_depth=14\n",
      "[201]\teval-merror:0.283489\ttrain-merror:0.002595 \n",
      "[10:25:25] amalgamation/../src/tree/updater_prune.cc:74: tree pruning end, 1 roots, 574 extra nodes, 0 pruned nodes, max_depth=14\n",
      "[10:25:25] amalgamation/../src/tree/updater_prune.cc:74: tree pruning end, 1 roots, 574 extra nodes, 0 pruned nodes, max_depth=14\n",
      "[202]\teval-merror:0.283489\ttrain-merror:0.002595 \n",
      "[10:25:25] amalgamation/../src/tree/updater_prune.cc:74: tree pruning end, 1 roots, 570 extra nodes, 0 pruned nodes, max_depth=14\n",
      "[10:25:25] amalgamation/../src/tree/updater_prune.cc:74: tree pruning end, 1 roots, 570 extra nodes, 0 pruned nodes, max_depth=14\n",
      "[203]\teval-merror:0.284528\ttrain-merror:0.002595 \n",
      "[10:25:25] amalgamation/../src/tree/updater_prune.cc:74: tree pruning end, 1 roots, 584 extra nodes, 0 pruned nodes, max_depth=14\n",
      "[10:25:25] amalgamation/../src/tree/updater_prune.cc:74: tree pruning end, 1 roots, 584 extra nodes, 0 pruned nodes, max_depth=14\n",
      "[204]\teval-merror:0.283489\ttrain-merror:0.002595 \n",
      "[10:25:25] amalgamation/../src/tree/updater_prune.cc:74: tree pruning end, 1 roots, 556 extra nodes, 0 pruned nodes, max_depth=14\n",
      "[10:25:25] amalgamation/../src/tree/updater_prune.cc:74: tree pruning end, 1 roots, 556 extra nodes, 0 pruned nodes, max_depth=14\n",
      "[205]\teval-merror:0.284528\ttrain-merror:0.002595 \n",
      "[10:25:25] amalgamation/../src/tree/updater_prune.cc:74: tree pruning end, 1 roots, 514 extra nodes, 0 pruned nodes, max_depth=14\n",
      "[10:25:25] amalgamation/../src/tree/updater_prune.cc:74: tree pruning end, 1 roots, 514 extra nodes, 0 pruned nodes, max_depth=14\n",
      "[206]\teval-merror:0.285566\ttrain-merror:0.002595 \n",
      "[10:25:25] amalgamation/../src/tree/updater_prune.cc:74: tree pruning end, 1 roots, 504 extra nodes, 0 pruned nodes, max_depth=14\n",
      "[10:25:25] amalgamation/../src/tree/updater_prune.cc:74: tree pruning end, 1 roots, 504 extra nodes, 0 pruned nodes, max_depth=14\n",
      "[207]\teval-merror:0.286604\ttrain-merror:0.002595 \n",
      "[10:25:25] amalgamation/../src/tree/updater_prune.cc:74: tree pruning end, 1 roots, 672 extra nodes, 0 pruned nodes, max_depth=14\n",
      "[10:25:25] amalgamation/../src/tree/updater_prune.cc:74: tree pruning end, 1 roots, 672 extra nodes, 0 pruned nodes, max_depth=14\n",
      "[208]\teval-merror:0.287643\ttrain-merror:0.002595 \n",
      "[10:25:25] amalgamation/../src/tree/updater_prune.cc:74: tree pruning end, 1 roots, 554 extra nodes, 0 pruned nodes, max_depth=14\n",
      "[10:25:25] amalgamation/../src/tree/updater_prune.cc:74: tree pruning end, 1 roots, 554 extra nodes, 0 pruned nodes, max_depth=14\n",
      "[209]\teval-merror:0.287643\ttrain-merror:0.002595 \n",
      "[10:25:25] amalgamation/../src/tree/updater_prune.cc:74: tree pruning end, 1 roots, 530 extra nodes, 0 pruned nodes, max_depth=14\n",
      "[10:25:25] amalgamation/../src/tree/updater_prune.cc:74: tree pruning end, 1 roots, 530 extra nodes, 0 pruned nodes, max_depth=14\n",
      "[210]\teval-merror:0.287643\ttrain-merror:0.002595 \n",
      "[10:25:25] amalgamation/../src/tree/updater_prune.cc:74: tree pruning end, 1 roots, 502 extra nodes, 0 pruned nodes, max_depth=14\n",
      "[10:25:25] amalgamation/../src/tree/updater_prune.cc:74: tree pruning end, 1 roots, 502 extra nodes, 0 pruned nodes, max_depth=14\n",
      "[211]\teval-merror:0.287643\ttrain-merror:0.002335 \n",
      "[10:25:25] amalgamation/../src/tree/updater_prune.cc:74: tree pruning end, 1 roots, 496 extra nodes, 0 pruned nodes, max_depth=14\n",
      "[10:25:25] amalgamation/../src/tree/updater_prune.cc:74: tree pruning end, 1 roots, 496 extra nodes, 0 pruned nodes, max_depth=14\n",
      "[212]\teval-merror:0.287643\ttrain-merror:0.002335 \n",
      "[10:25:25] amalgamation/../src/tree/updater_prune.cc:74: tree pruning end, 1 roots, 506 extra nodes, 0 pruned nodes, max_depth=14\n",
      "[10:25:25] amalgamation/../src/tree/updater_prune.cc:74: tree pruning end, 1 roots, 506 extra nodes, 0 pruned nodes, max_depth=14\n",
      "[213]\teval-merror:0.288681\ttrain-merror:0.002335 \n",
      "[10:25:25] amalgamation/../src/tree/updater_prune.cc:74: tree pruning end, 1 roots, 462 extra nodes, 0 pruned nodes, max_depth=14\n",
      "[10:25:25] amalgamation/../src/tree/updater_prune.cc:74: tree pruning end, 1 roots, 462 extra nodes, 0 pruned nodes, max_depth=14\n",
      "[214]\teval-merror:0.288681\ttrain-merror:0.002335 \n",
      "[10:25:26] amalgamation/../src/tree/updater_prune.cc:74: tree pruning end, 1 roots, 512 extra nodes, 0 pruned nodes, max_depth=14\n",
      "[10:25:26] amalgamation/../src/tree/updater_prune.cc:74: tree pruning end, 1 roots, 512 extra nodes, 0 pruned nodes, max_depth=14\n",
      "[215]\teval-merror:0.288681\ttrain-merror:0.002335 \n",
      "[10:25:26] amalgamation/../src/tree/updater_prune.cc:74: tree pruning end, 1 roots, 532 extra nodes, 0 pruned nodes, max_depth=14\n",
      "[10:25:26] amalgamation/../src/tree/updater_prune.cc:74: tree pruning end, 1 roots, 532 extra nodes, 0 pruned nodes, max_depth=14\n",
      "[216]\teval-merror:0.288681\ttrain-merror:0.002076 \n",
      "[10:25:26] amalgamation/../src/tree/updater_prune.cc:74: tree pruning end, 1 roots, 654 extra nodes, 0 pruned nodes, max_depth=14\n",
      "[10:25:26] amalgamation/../src/tree/updater_prune.cc:74: tree pruning end, 1 roots, 654 extra nodes, 0 pruned nodes, max_depth=14\n",
      "[217]\teval-merror:0.291796\ttrain-merror:0.002076 \n",
      "[10:25:26] amalgamation/../src/tree/updater_prune.cc:74: tree pruning end, 1 roots, 652 extra nodes, 0 pruned nodes, max_depth=14\n",
      "[10:25:26] amalgamation/../src/tree/updater_prune.cc:74: tree pruning end, 1 roots, 652 extra nodes, 0 pruned nodes, max_depth=14\n",
      "[218]\teval-merror:0.291796\ttrain-merror:0.001816 \n",
      "[10:25:26] amalgamation/../src/tree/updater_prune.cc:74: tree pruning end, 1 roots, 508 extra nodes, 0 pruned nodes, max_depth=14\n",
      "[10:25:26] amalgamation/../src/tree/updater_prune.cc:74: tree pruning end, 1 roots, 508 extra nodes, 0 pruned nodes, max_depth=14\n",
      "[219]\teval-merror:0.291796\ttrain-merror:0.001816 \n",
      "[10:25:26] amalgamation/../src/tree/updater_prune.cc:74: tree pruning end, 1 roots, 522 extra nodes, 0 pruned nodes, max_depth=14\n",
      "[10:25:26] amalgamation/../src/tree/updater_prune.cc:74: tree pruning end, 1 roots, 522 extra nodes, 0 pruned nodes, max_depth=14\n",
      "[220]\teval-merror:0.291796\ttrain-merror:0.001297 \n",
      "[10:25:26] amalgamation/../src/tree/updater_prune.cc:74: tree pruning end, 1 roots, 490 extra nodes, 0 pruned nodes, max_depth=14\n",
      "[10:25:26] amalgamation/../src/tree/updater_prune.cc:74: tree pruning end, 1 roots, 490 extra nodes, 0 pruned nodes, max_depth=14\n",
      "[221]\teval-merror:0.290758\ttrain-merror:0.001297 \n",
      "[10:25:26] amalgamation/../src/tree/updater_prune.cc:74: tree pruning end, 1 roots, 658 extra nodes, 0 pruned nodes, max_depth=14\n",
      "[10:25:26] amalgamation/../src/tree/updater_prune.cc:74: tree pruning end, 1 roots, 658 extra nodes, 0 pruned nodes, max_depth=14\n",
      "[222]\teval-merror:0.289720\ttrain-merror:0.001297 \n",
      "[10:25:26] amalgamation/../src/tree/updater_prune.cc:74: tree pruning end, 1 roots, 704 extra nodes, 0 pruned nodes, max_depth=14\n",
      "[10:25:26] amalgamation/../src/tree/updater_prune.cc:74: tree pruning end, 1 roots, 704 extra nodes, 0 pruned nodes, max_depth=14\n",
      "[223]\teval-merror:0.289720\ttrain-merror:0.001297 \n",
      "[10:25:26] amalgamation/../src/tree/updater_prune.cc:74: tree pruning end, 1 roots, 596 extra nodes, 0 pruned nodes, max_depth=14\n",
      "[10:25:26] amalgamation/../src/tree/updater_prune.cc:74: tree pruning end, 1 roots, 596 extra nodes, 0 pruned nodes, max_depth=14\n",
      "[224]\teval-merror:0.288681\ttrain-merror:0.001297 \n",
      "[10:25:26] amalgamation/../src/tree/updater_prune.cc:74: tree pruning end, 1 roots, 464 extra nodes, 0 pruned nodes, max_depth=14\n",
      "[10:25:26] amalgamation/../src/tree/updater_prune.cc:74: tree pruning end, 1 roots, 464 extra nodes, 0 pruned nodes, max_depth=14\n",
      "[225]\teval-merror:0.288681\ttrain-merror:0.001297 \n",
      "[10:25:26] amalgamation/../src/tree/updater_prune.cc:74: tree pruning end, 1 roots, 464 extra nodes, 0 pruned nodes, max_depth=14\n",
      "[10:25:26] amalgamation/../src/tree/updater_prune.cc:74: tree pruning end, 1 roots, 464 extra nodes, 0 pruned nodes, max_depth=14\n",
      "[226]\teval-merror:0.287643\ttrain-merror:0.001297 \n",
      "[10:25:26] amalgamation/../src/tree/updater_prune.cc:74: tree pruning end, 1 roots, 510 extra nodes, 0 pruned nodes, max_depth=14\n",
      "[10:25:26] amalgamation/../src/tree/updater_prune.cc:74: tree pruning end, 1 roots, 510 extra nodes, 0 pruned nodes, max_depth=14\n",
      "[227]\teval-merror:0.287643\ttrain-merror:0.001297 \n",
      "[10:25:26] amalgamation/../src/tree/updater_prune.cc:74: tree pruning end, 1 roots, 492 extra nodes, 0 pruned nodes, max_depth=14\n",
      "[10:25:26] amalgamation/../src/tree/updater_prune.cc:74: tree pruning end, 1 roots, 492 extra nodes, 0 pruned nodes, max_depth=14\n",
      "[228]\teval-merror:0.286604\ttrain-merror:0.001297 \n",
      "[10:25:26] amalgamation/../src/tree/updater_prune.cc:74: tree pruning end, 1 roots, 648 extra nodes, 0 pruned nodes, max_depth=14\n",
      "[10:25:26] amalgamation/../src/tree/updater_prune.cc:74: tree pruning end, 1 roots, 648 extra nodes, 0 pruned nodes, max_depth=14\n",
      "[229]\teval-merror:0.286604\ttrain-merror:0.001297 \n",
      "[10:25:26] amalgamation/../src/tree/updater_prune.cc:74: tree pruning end, 1 roots, 450 extra nodes, 0 pruned nodes, max_depth=14\n",
      "[10:25:26] amalgamation/../src/tree/updater_prune.cc:74: tree pruning end, 1 roots, 450 extra nodes, 0 pruned nodes, max_depth=14\n",
      "[230]\teval-merror:0.286604\ttrain-merror:0.001297 \n",
      "[10:25:26] amalgamation/../src/tree/updater_prune.cc:74: tree pruning end, 1 roots, 666 extra nodes, 0 pruned nodes, max_depth=14\n",
      "[10:25:26] amalgamation/../src/tree/updater_prune.cc:74: tree pruning end, 1 roots, 666 extra nodes, 0 pruned nodes, max_depth=14\n",
      "[231]\teval-merror:0.287643\ttrain-merror:0.001297 \n",
      "[10:25:26] amalgamation/../src/tree/updater_prune.cc:74: tree pruning end, 1 roots, 446 extra nodes, 0 pruned nodes, max_depth=14\n",
      "[10:25:26] amalgamation/../src/tree/updater_prune.cc:74: tree pruning end, 1 roots, 446 extra nodes, 0 pruned nodes, max_depth=14\n",
      "[232]\teval-merror:0.286604\ttrain-merror:0.001297 \n",
      "[10:25:26] amalgamation/../src/tree/updater_prune.cc:74: tree pruning end, 1 roots, 480 extra nodes, 0 pruned nodes, max_depth=14\n",
      "[10:25:26] amalgamation/../src/tree/updater_prune.cc:74: tree pruning end, 1 roots, 480 extra nodes, 0 pruned nodes, max_depth=14\n",
      "[233]\teval-merror:0.288681\ttrain-merror:0.001297 \n",
      "[10:25:26] amalgamation/../src/tree/updater_prune.cc:74: tree pruning end, 1 roots, 454 extra nodes, 0 pruned nodes, max_depth=14\n",
      "[10:25:26] amalgamation/../src/tree/updater_prune.cc:74: tree pruning end, 1 roots, 454 extra nodes, 0 pruned nodes, max_depth=14\n",
      "[234]\teval-merror:0.287643\ttrain-merror:0.001297 \n",
      "[10:25:26] amalgamation/../src/tree/updater_prune.cc:74: tree pruning end, 1 roots, 516 extra nodes, 0 pruned nodes, max_depth=14\n",
      "[10:25:26] amalgamation/../src/tree/updater_prune.cc:74: tree pruning end, 1 roots, 516 extra nodes, 0 pruned nodes, max_depth=14\n",
      "[235]\teval-merror:0.287643\ttrain-merror:0.001297 \n",
      "[10:25:26] amalgamation/../src/tree/updater_prune.cc:74: tree pruning end, 1 roots, 648 extra nodes, 0 pruned nodes, max_depth=14\n",
      "[10:25:26] amalgamation/../src/tree/updater_prune.cc:74: tree pruning end, 1 roots, 648 extra nodes, 0 pruned nodes, max_depth=14\n",
      "[236]\teval-merror:0.286604\ttrain-merror:0.001297 \n",
      "[10:25:26] amalgamation/../src/tree/updater_prune.cc:74: tree pruning end, 1 roots, 460 extra nodes, 0 pruned nodes, max_depth=14\n",
      "[10:25:26] amalgamation/../src/tree/updater_prune.cc:74: tree pruning end, 1 roots, 460 extra nodes, 0 pruned nodes, max_depth=14\n",
      "[237]\teval-merror:0.285566\ttrain-merror:0.001297 \n",
      "[10:25:26] amalgamation/../src/tree/updater_prune.cc:74: tree pruning end, 1 roots, 472 extra nodes, 0 pruned nodes, max_depth=14\n",
      "[10:25:26] amalgamation/../src/tree/updater_prune.cc:74: tree pruning end, 1 roots, 472 extra nodes, 0 pruned nodes, max_depth=14\n",
      "[238]\teval-merror:0.285566\ttrain-merror:0.001297 \n",
      "[10:25:26] amalgamation/../src/tree/updater_prune.cc:74: tree pruning end, 1 roots, 472 extra nodes, 0 pruned nodes, max_depth=14\n",
      "[10:25:26] amalgamation/../src/tree/updater_prune.cc:74: tree pruning end, 1 roots, 472 extra nodes, 0 pruned nodes, max_depth=14\n",
      "[239]\teval-merror:0.285566\ttrain-merror:0.001297 \n",
      "[10:25:26] amalgamation/../src/tree/updater_prune.cc:74: tree pruning end, 1 roots, 460 extra nodes, 0 pruned nodes, max_depth=14\n",
      "[10:25:26] amalgamation/../src/tree/updater_prune.cc:74: tree pruning end, 1 roots, 460 extra nodes, 0 pruned nodes, max_depth=14\n",
      "[240]\teval-merror:0.285566\ttrain-merror:0.001297 \n",
      "Stopping. Best iteration:\n",
      "[220]\teval-merror:0.291796\ttrain-merror:0.001297\n",
      "\n"
     ]
    }
   ],
   "source": [
    "set.seed(383)\n",
    "model_xgb_tree <- xgb.train(   params        = param, \n",
    "                    data                     = train_tree_mat, \n",
    "                    nrounds                  = 500, # changed from 300\n",
    "                    verbose                  = 2, \n",
    "                    early_stopping_rounds    = 20,\n",
    "                    watchlist                = watchlist,\n",
    "                    missing                  =NA,\n",
    "                    maximize                 = FALSE)"
   ]
  },
  {
   "cell_type": "code",
   "execution_count": 132,
   "metadata": {
    "collapsed": false
   },
   "outputs": [
    {
     "name": "stdout",
     "output_type": "stream",
     "text": [
      "[1]\ttrain-merror:0.081003+0.005405\ttest-merror:0.314113+0.075735 \n",
      "[2]\ttrain-merror:0.069269+0.008364\ttest-merror:0.313650+0.077467 \n"
     ]
    },
    {
     "data": {
      "text/plain": [
       "##### xgb.cv 100-folds\n",
       " iter train_merror_mean train_merror_std test_merror_mean test_merror_std\n",
       "    1        0.08100288      0.005405426        0.3141132      0.07573513\n",
       "    2        0.06926909      0.008364049        0.3136498      0.07746738"
      ]
     },
     "metadata": {},
     "output_type": "display_data"
    }
   ],
   "source": [
    "model.xgb.tree.cv<- xgb.cv(data = train_tree_mat,params=param, nfold = 100,nrounds = 2, missing=-1)\n",
    "model.xgb.tree.cv"
   ]
  },
  {
   "cell_type": "code",
   "execution_count": 133,
   "metadata": {
    "collapsed": false
   },
   "outputs": [],
   "source": [
    "prediction<-data.frame(profit=test_xgb$profitable)\n",
    "prediction$output<-NA"
   ]
  },
  {
   "cell_type": "code",
   "execution_count": 134,
   "metadata": {
    "collapsed": false
   },
   "outputs": [],
   "source": [
    "for (rows in split(1:nrow(test_xgb), ceiling((1:nrow(test_xgb))/10000))) {\n",
    "    prediction[rows, \"output\"] <- predict(model_xgb_tree, test_tree_mat)\n",
    "    }"
   ]
  },
  {
   "cell_type": "code",
   "execution_count": 135,
   "metadata": {
    "collapsed": false
   },
   "outputs": [
    {
     "data": {
      "text/html": [
       "<table>\n",
       "<thead><tr><th scope=col>profit</th><th scope=col>output</th><th scope=col>index</th></tr></thead>\n",
       "<tbody>\n",
       "\t<tr><td>0</td><td>0</td><td>1</td></tr>\n",
       "\t<tr><td>0</td><td>0</td><td>2</td></tr>\n",
       "\t<tr><td>0</td><td>1</td><td>3</td></tr>\n",
       "\t<tr><td>1</td><td>0</td><td>4</td></tr>\n",
       "\t<tr><td>0</td><td>0</td><td>5</td></tr>\n",
       "\t<tr><td>0</td><td>0</td><td>6</td></tr>\n",
       "</tbody>\n",
       "</table>\n"
      ],
      "text/latex": [
       "\\begin{tabular}{r|lll}\n",
       " profit & output & index\\\\\n",
       "\\hline\n",
       "\t 0 & 0 & 1\\\\\n",
       "\t 0 & 0 & 2\\\\\n",
       "\t 0 & 1 & 3\\\\\n",
       "\t 1 & 0 & 4\\\\\n",
       "\t 0 & 0 & 5\\\\\n",
       "\t 0 & 0 & 6\\\\\n",
       "\\end{tabular}\n"
      ],
      "text/markdown": [
       "\n",
       "profit | output | index | \n",
       "|---|---|---|---|---|---|\n",
       "| 0 | 0 | 1 | \n",
       "| 0 | 0 | 2 | \n",
       "| 0 | 1 | 3 | \n",
       "| 1 | 0 | 4 | \n",
       "| 0 | 0 | 5 | \n",
       "| 0 | 0 | 6 | \n",
       "\n",
       "\n"
      ],
      "text/plain": [
       "  profit output index\n",
       "1 0      0      1    \n",
       "2 0      0      2    \n",
       "3 0      1      3    \n",
       "4 1      0      4    \n",
       "5 0      0      5    \n",
       "6 0      0      6    "
      ]
     },
     "metadata": {},
     "output_type": "display_data"
    }
   ],
   "source": [
    "prediction$index<-seq.int(nrow(prediction))\n",
    "head(prediction)"
   ]
  },
  {
   "cell_type": "code",
   "execution_count": 136,
   "metadata": {
    "collapsed": false
   },
   "outputs": [
    {
     "data": {
      "text/plain": [
       "   \n",
       "      0   1\n",
       "  0 620  87\n",
       "  1 194  62"
      ]
     },
     "metadata": {},
     "output_type": "display_data"
    }
   ],
   "source": [
    "result<-table(prediction$profit,prediction$output)\n",
    "result"
   ]
  },
  {
   "cell_type": "code",
   "execution_count": 137,
   "metadata": {
    "collapsed": false
   },
   "outputs": [
    {
     "name": "stdout",
     "output_type": "stream",
     "text": [
      "[1] \"Accuracy: 0.708203530633437\"\n"
     ]
    }
   ],
   "source": [
    "print(paste0(\"Accuracy: \",(result[1,1]+result[2,2])/sum(result)))"
   ]
  },
  {
   "cell_type": "code",
   "execution_count": 138,
   "metadata": {
    "collapsed": false
   },
   "outputs": [
    {
     "data": {
      "image/png": "[encoded data removed]",
      "text/plain": [
       "plot without title"
      ]
     },
     "metadata": {},
     "output_type": "display_data"
    }
   ],
   "source": [
    "importance_matrix <- xgb.importance(dimnames(train_xgb)[[2]], model = model_xgb_tree)\n",
    "xgb.plot.importance(importance_matrix)"
   ]
  },
  {
   "cell_type": "code",
   "execution_count": 139,
   "metadata": {
    "collapsed": false
   },
   "outputs": [
    {
     "data": {
      "text/html": [
       "TRUE"
      ],
      "text/latex": [
       "TRUE"
      ],
      "text/markdown": [
       "TRUE"
      ],
      "text/plain": [
       "[1] TRUE"
      ]
     },
     "metadata": {},
     "output_type": "display_data"
    }
   ],
   "source": [
    "xgb.save(model_xgb_tree,fname=\"model_xgb_tree\")"
   ]
  }
 ],
 "metadata": {
  "anaconda-cloud": {},
  "kernelspec": {
   "display_name": "R",
   "language": "R",
   "name": "ir"
  },
  "language_info": {
   "codemirror_mode": "r",
   "file_extension": ".r",
   "mimetype": "text/x-r-source",
   "name": "R",
   "pygments_lexer": "r",
   "version": "3.2.5"
  }
 },
 "nbformat": 4,
 "nbformat_minor": 1
}
