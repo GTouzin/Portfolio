{
 "cells": [
  {
   "cell_type": "markdown",
   "metadata": {
    "collapsed": true
   },
   "source": [
    "Dans le texte qui suit nous allons continuer à interpréter les données provenant de la compétition \"Ghoul, Ghost and Goblin\" organisée par le site internet kaggle.com durant le mois d'octobre 2016. Dans la section précédente, j'ai décrit les données et expliqué la démarche que j'ai suivie lors de l'exploration des données à classer. Maintenant, nous sommes à l'étape de la modélisation des données. Commençons par enregistrer les données de la compétition dans les data table monstres et monstres_test, contenant les données servant à entraîner nos algorithmes et à valider le modèle, respectivement. (Note: je vais passé rapidement sur ces étapes puisque je j'ai déjà expliqué ces étapes dans la section précédente accessible à l'adresse https://github.com/GTouzin/Portfolio/blob/master/R/Kaggle_GGG_exploration.ipynb) "
   ]
  },
  {
   "cell_type": "code",
   "execution_count": 1,
   "metadata": {
    "collapsed": false
   },
   "outputs": [
    {
     "name": "stderr",
     "output_type": "stream",
     "text": [
      "Warning message:\n",
      "\"package 'ggplot2' was built under R version 3.3.2\"Warning message:\n",
      "\"package 'corrplot' was built under R version 3.3.2\""
     ]
    },
    {
     "data": {
      "text/html": [
       "<table>\n",
       "<thead><tr><th></th><th scope=col>id</th><th scope=col>bone_length</th><th scope=col>rotting_flesh</th><th scope=col>hair_length</th><th scope=col>has_soul</th><th scope=col>color</th><th scope=col>type</th></tr></thead>\n",
       "<tbody>\n",
       "\t<tr><th scope=row>1</th><td>0                </td><td>0.354512184582154</td><td>0.35083902671065 </td><td>0.465760891829121</td><td>0.78114166586219 </td><td>clear            </td><td>Ghoul            </td></tr>\n",
       "\t<tr><th scope=row>2</th><td>1                </td><td>0.575559905025466</td><td>0.425868432210585</td><td>0.531401378709141</td><td>0.439898877037289</td><td>green            </td><td>Goblin           </td></tr>\n",
       "\t<tr><th scope=row>3</th><td>2                </td><td>0.467875498742323</td><td>0.354330420391775</td><td>0.811616089668924</td><td>0.791224973337769</td><td>black            </td><td>Ghoul            </td></tr>\n",
       "\t<tr><th scope=row>4</th><td>4                </td><td>0.776652460655474</td><td>0.508722549943229</td><td>0.636765579959788</td><td>0.884463692097697</td><td>black            </td><td>Ghoul            </td></tr>\n",
       "\t<tr><th scope=row>5</th><td>5                </td><td>0.56611660205779 </td><td>0.875861795506256</td><td>0.41859367087488 </td><td>0.636437818727937</td><td>green            </td><td>Ghost            </td></tr>\n",
       "\t<tr><th scope=row>6</th><td>7                </td><td>0.405679744891883</td><td>0.253277496666039</td><td>0.441419671072687</td><td>0.28032381992139 </td><td>green            </td><td>Goblin           </td></tr>\n",
       "</tbody>\n",
       "</table>\n"
      ],
      "text/latex": [
       "\\begin{tabular}{r|lllllll}\n",
       "  & id & bone\\_length & rotting\\_flesh & hair\\_length & has\\_soul & color & type\\\\\n",
       "\\hline\n",
       "\t1 & 0                 & 0.354512184582154 & 0.35083902671065  & 0.465760891829121 & 0.78114166586219  & clear             & Ghoul            \\\\\n",
       "\t2 & 1                 & 0.575559905025466 & 0.425868432210585 & 0.531401378709141 & 0.439898877037289 & green             & Goblin           \\\\\n",
       "\t3 & 2                 & 0.467875498742323 & 0.354330420391775 & 0.811616089668924 & 0.791224973337769 & black             & Ghoul            \\\\\n",
       "\t4 & 4                 & 0.776652460655474 & 0.508722549943229 & 0.636765579959788 & 0.884463692097697 & black             & Ghoul            \\\\\n",
       "\t5 & 5                 & 0.56611660205779  & 0.875861795506256 & 0.41859367087488  & 0.636437818727937 & green             & Ghost            \\\\\n",
       "\t6 & 7                 & 0.405679744891883 & 0.253277496666039 & 0.441419671072687 & 0.28032381992139  & green             & Goblin           \\\\\n",
       "\\end{tabular}\n"
      ],
      "text/plain": [
       "  id bone_length rotting_flesh hair_length  has_soul color   type\n",
       "1  0   0.3545122     0.3508390   0.4657609 0.7811417 clear  Ghoul\n",
       "2  1   0.5755599     0.4258684   0.5314014 0.4398989 green Goblin\n",
       "3  2   0.4678755     0.3543304   0.8116161 0.7912250 black  Ghoul\n",
       "4  4   0.7766525     0.5087225   0.6367656 0.8844637 black  Ghoul\n",
       "5  5   0.5661166     0.8758618   0.4185937 0.6364378 green  Ghost\n",
       "6  7   0.4056797     0.2532775   0.4414197 0.2803238 green Goblin"
      ]
     },
     "metadata": {},
     "output_type": "display_data"
    }
   ],
   "source": [
    "# Charger les packages à utiliser\n",
    "library(data.table)\n",
    "library(ggplot2)\n",
    "library(ggthemes)\n",
    "library(corrplot)\n",
    "\n",
    "\n",
    "#Lire les données \n",
    "monstres <- fread(\"./Kaggle/train/train.csv\",stringsAsFactors = T)\n",
    "monstres_test <- fread(\"./Kaggle/test/test.csv\",stringsAsFactors = T)\n",
    "head(monstres)"
   ]
  },
  {
   "cell_type": "markdown",
   "metadata": {},
   "source": [
    "Ensuite, j'ai créé deux échantillons aléatoires: train contenant les données que j'ai utilisé pour entraîner les différents algorithmes et cross_val contenant le reste des données qui serviront lors de la validation croisée."
   ]
  },
  {
   "cell_type": "code",
   "execution_count": 32,
   "metadata": {
    "collapsed": true
   },
   "outputs": [],
   "source": [
    "set.seed(97)\n",
    "train.indice <- sample(1:nrow(monstres), round(nrow(monstres)*0.7))\n",
    "train <- monstres[train.indice , ]\n",
    "cross_val <- monstres[-train.indice , ]"
   ]
  },
  {
   "cell_type": "markdown",
   "metadata": {},
   "source": [
    "Finalement, j'ajoute aux data table des colonnes contenant les nouvelles variables que j'ai crues bon créer durant l'exploration des données."
   ]
  },
  {
   "cell_type": "code",
   "execution_count": 33,
   "metadata": {
    "collapsed": false
   },
   "outputs": [],
   "source": [
    "train$soul_square=train$has_soul*train$has_soul\n",
    "train$hair_square=train$hair_length*train$hair_length\n",
    "train$bone_square=train$bone_length*train$bone_length\n",
    "\n",
    "train$hair_time_soul=train$hair_length*train$has_soul\n",
    "train$hair_time_bone=train$hair_length*train$bone_length\n",
    "train$bone_time_soul=train$bone_length*train$has_soul\n",
    "\n",
    "train$color<-as.factor(train$color)\n",
    "train$type<-as.factor(train$type)"
   ]
  },
  {
   "cell_type": "code",
   "execution_count": 34,
   "metadata": {
    "collapsed": false
   },
   "outputs": [],
   "source": [
    "cross_val$hair_square=cross_val$hair_length*cross_val$hair_length\n",
    "cross_val$soul_square=cross_val$has_soul*cross_val$has_soul\n",
    "cross_val$bone_square=cross_val$bone_length*cross_val$bone_length\n",
    "\n",
    "cross_val$hair_time_soul=cross_val$hair_length*cross_val$has_soul\n",
    "cross_val$hair_time_bone=cross_val$hair_length*cross_val$bone_length\n",
    "cross_val$bone_time_soul=cross_val$bone_length*cross_val$has_soul    \n",
    "\n",
    "cross_val$color <- factor(cross_val$color)\n",
    "cross_val$type <- factor(cross_val$type)"
   ]
  },
  {
   "cell_type": "markdown",
   "metadata": {
    "collapsed": true
   },
   "source": [
    "# Modèle de base : Kmeans \n"
   ]
  },
  {
   "cell_type": "markdown",
   "metadata": {},
   "source": [
    "Avant de créer des nouvelles variables, nous allons créer un modèle contenant toutes les variables dans le tableau et estimer l'efficacité du modèle. Cela va nous permettre d'avoir une valeur de référence pour vérifier si on fait des bons choix dans l'élaboration du modèle.\n",
    "\n",
    "J'ai choisi d'utiliser l'algorithme \"Kmeans\" pour créer le premier modèle, car ce dernier a pour avantage d'être rapide, simple et n'utilise pas beaucoup de mémoire. Donc, cet algorithme est idéal pour tester des hypothèses. De plus, cette méthode fait partie d'une classe d'algorithmes d'ont l'efficacité dépend grandement de la séparation des données provenant des trois catégories. Donc si l'algorithme \"K-means\" est peu efficace, nous pourrons conclure que ces autres algorithmes seront à éviter pour modéliser ces données qui ne sont pas linéairement séparables.    \n",
    "\n",
    "Commençons par changer les valeurs de la variable catégorique \"color\" en valeur numérique normalisées."
   ]
  },
  {
   "cell_type": "code",
   "execution_count": 35,
   "metadata": {
    "collapsed": false
   },
   "outputs": [
    {
     "data": {
      "text/html": [
       "<ol class=list-inline>\n",
       "\t<li>\"0\"</li>\n",
       "\t<li>\"0.2\"</li>\n",
       "\t<li>\"0.4\"</li>\n",
       "\t<li>\"0.6\"</li>\n",
       "\t<li>\"0.8\"</li>\n",
       "\t<li>\"1\"</li>\n",
       "</ol>\n"
      ],
      "text/latex": [
       "\\begin{enumerate*}\n",
       "\\item \"0\"\n",
       "\\item \"0.2\"\n",
       "\\item \"0.4\"\n",
       "\\item \"0.6\"\n",
       "\\item \"0.8\"\n",
       "\\item \"1\"\n",
       "\\end{enumerate*}\n"
      ],
      "text/markdown": [
       "1. \"0\"\n",
       "2. \"0.2\"\n",
       "3. \"0.4\"\n",
       "4. \"0.6\"\n",
       "5. \"0.8\"\n",
       "6. \"1\"\n",
       "\n",
       "\n"
      ],
      "text/plain": [
       "[1] \"0\"   \"0.2\" \"0.4\" \"0.6\" \"0.8\" \"1\"  "
      ]
     },
     "metadata": {},
     "output_type": "display_data"
    }
   ],
   "source": [
    "library(plyr)\n",
    "train$color<-revalue(train$color, c(\"black\"=0, \"blood\"=1/5, \"blue\"=2*1/5, \"clear\"=3*1/5, \"green\"=4*1/5, \"white\"=1))\n",
    "levels(train$color)"
   ]
  },
  {
   "cell_type": "code",
   "execution_count": 36,
   "metadata": {
    "collapsed": false
   },
   "outputs": [],
   "source": [
    "set.seed(97)\n",
    "vars <- names(train) %in% c(\"bone_length\", \"rotting_flesh\", \"hair_length\",\"has_soul\",\"color\")\n",
    "model.kmeans.base <- kmeans(subset(train, select=vars), 3, nstart = 50)"
   ]
  },
  {
   "cell_type": "markdown",
   "metadata": {},
   "source": [
    "Examinons la justesse du modèle en créant un tableau de contingence où les lignes contiennent les effectifs des grappes de points générés par l'algorithme et où les colonnes contiennent les véritables effectifs de chacune des trois catégories."
   ]
  },
  {
   "cell_type": "code",
   "execution_count": 37,
   "metadata": {
    "collapsed": false
   },
   "outputs": [
    {
     "data": {
      "text/plain": [
       "   \n",
       "    Ghost Ghoul Goblin\n",
       "  1    20    42     37\n",
       "  2    13    16      9\n",
       "  3    44    43     36"
      ]
     },
     "metadata": {},
     "output_type": "display_data"
    }
   ],
   "source": [
    "table<-table(model.kmeans.base$cluster, train$type)\n",
    "table"
   ]
  },
  {
   "cell_type": "markdown",
   "metadata": {},
   "source": [
    "L'algorithme génère des grappes de points sans tenir compte des catégories des observations. En conséquence, pour calculer la précision du modèle, nous devons catégoriser chacune des grappes. Pour ce faire, j'ai associé chaque catégorie avec la grappe qui contient le plus grand nombre d'observations de cette catégorie. Donc la grappe 1 est associée à la catégorie \"Goblin\", la grappe 2 est associée à \"Ghost\" et la grappe 3 à la catégorie \"Ghoul\". C'est la stratégie que j'ai appliquée à chaque exemple dans cette section.\n",
    "\n",
    "Vous remarquez sûrement que la catégorie \"Goblin\" est répartie dans les trois grappes et que la décision d'y associer la grappe 1 n'est pas immédiate. Ce comportement est en accord avec ce que nous avons vue lors de l'exploration des données où, pour chacune des variables, les nuages de points des catégories \"Ghost\" et \"Ghoul\" étaient séparer, alors que ceux de la variable \"Goblin\" les chevauchaient. Cela implique que les grappes associées aux catégories \"Ghost\" et \"Ghoul\" sont valides, puisque l'algorithme K-means dépend de la séparation des données et que ces deux catégories de données sont séparées. En conséquence, nous n'avons pas vraiment le choix d'associée la grappe 1 avec \"Goblin\" et cela montre les limites de cet algorithme quand les données ne sont pas linéairement séparable: cette grappe ne nous apporte aucune information sur les données et le modèle ne nous permettra pas de distingué les observations de cette catégorie.\n"
   ]
  },
  {
   "cell_type": "code",
   "execution_count": 38,
   "metadata": {
    "collapsed": false
   },
   "outputs": [
    {
     "name": "stdout",
     "output_type": "stream",
     "text": [
      "[1] \"Accuracy\"          \"0.357692307692308\"\n"
     ]
    }
   ],
   "source": [
    "accuracy<-(table[2,1]+table[3,2]+table[1,3])/sum(table)\n",
    "print(c(\"Accuracy\",accuracy))\n"
   ]
  },
  {
   "cell_type": "markdown",
   "metadata": {},
   "source": [
    "J'obtiens une précision de 56,53%, ce qui est mieux que d'étiquette chaque donnée au hasard, mais de peu. Ci-dessous, je calcule l'indice de Dunn qui est une statistique qui permet d'évaluer la qualité de la partition des données. Si la partition est bonne, c'est-à-dire que les grappes sont bien séparées et distinctes, alors l'indice de Dunn sera élevé."
   ]
  },
  {
   "cell_type": "code",
   "execution_count": 9,
   "metadata": {
    "collapsed": false
   },
   "outputs": [
    {
     "name": "stderr",
     "output_type": "stream",
     "text": [
      "Warning message:\n",
      "\"package 'clValid' was built under R version 3.3.2\"Loading required package: cluster\n",
      "Warning message in dist(Data, method = method):\n",
      "\"NAs introduits lors de la conversion automatique\""
     ]
    },
    {
     "data": {
      "text/html": [
       "0.00118753379261904"
      ],
      "text/latex": [
       "0.00118753379261904"
      ],
      "text/markdown": [
       "0.00118753379261904"
      ],
      "text/plain": [
       "[1] 0.001187534"
      ]
     },
     "metadata": {},
     "output_type": "display_data"
    }
   ],
   "source": [
    "library(clValid)\n",
    "Dunn_index <- dunn(clusters = model.kmeans.base$cluster, Data = train)\n",
    "Dunn_index"
   ]
  },
  {
   "cell_type": "markdown",
   "metadata": {},
   "source": [
    "Ce résultat vient confirmer qu'il est préférable d'utiliser un autre modèle. Durant l'exploration des données, j'ai remarqué que la variable catégorique \"color\" ne semble pas apporter beaucoup d'informations et qu'elle pourrait nuire au modèle en générant du bruit dans les données. Essayons d'appliquer cet algorithme sur un jeu de données omettant cette variable."
   ]
  },
  {
   "cell_type": "code",
   "execution_count": 10,
   "metadata": {
    "collapsed": true
   },
   "outputs": [],
   "source": [
    "set.seed(97)\n",
    "vars <- names(train) %in% c(\"bone_length\", \"rotting_flesh\", \"hair_length\",\"has_soul\")\n",
    "model.kmeans.nocolor <- kmeans(subset(train, select=vars), 3, nstart = 50)"
   ]
  },
  {
   "cell_type": "code",
   "execution_count": 11,
   "metadata": {
    "collapsed": false
   },
   "outputs": [
    {
     "data": {
      "text/plain": [
       "   \n",
       "    Ghost Ghoul Goblin\n",
       "  1     0    85     33\n",
       "  2    15     8     41\n",
       "  3    67     1     10"
      ]
     },
     "metadata": {},
     "output_type": "display_data"
    },
    {
     "name": "stdout",
     "output_type": "stream",
     "text": [
      "[1] \"Accuracy\"          \"0.188461538461538\"\n"
     ]
    }
   ],
   "source": [
    "table<-table(model.kmeans.nocolor$cluster, train$type)\n",
    "table\n",
    "accuracy<-(table[2,1]+table[3,2]+table[1,3])/sum(table)\n",
    "print(c(\"Accuracy\",accuracy))"
   ]
  },
  {
   "cell_type": "markdown",
   "metadata": {},
   "source": [
    "Nous obtenons une précision de 75,77%, ce qui est beaucoup mieux que notre premier essaie! Nous voyons que la variable \"color\" avait une influence très négative sur le modèle. Calculons l'indice de Dunn."
   ]
  },
  {
   "cell_type": "code",
   "execution_count": 12,
   "metadata": {
    "collapsed": false
   },
   "outputs": [
    {
     "name": "stderr",
     "output_type": "stream",
     "text": [
      "Warning message in dist(Data, method = method):\n",
      "\"NAs introduits lors de la conversion automatique\""
     ]
    },
    {
     "data": {
      "text/html": [
       "0.00118753379261904"
      ],
      "text/latex": [
       "0.00118753379261904"
      ],
      "text/markdown": [
       "0.00118753379261904"
      ],
      "text/plain": [
       "[1] 0.001187534"
      ]
     },
     "metadata": {},
     "output_type": "display_data"
    }
   ],
   "source": [
    "Dunn_index <- dunn(clusters = model.kmeans.nocolor$cluster, Data = train)\n",
    "Dunn_index"
   ]
  },
  {
   "cell_type": "markdown",
   "metadata": {
    "collapsed": false
   },
   "source": [
    "Maintenant, essayons un modèle contenant seulement les variables créées précédemment."
   ]
  },
  {
   "cell_type": "code",
   "execution_count": 14,
   "metadata": {
    "collapsed": true
   },
   "outputs": [],
   "source": [
    "set.seed(97)\n",
    "vars <- names(train) %in% c(\"soul_square\",\"bone_square\", \"hair_square\",\"hair_time_soul\",\n",
    "                           \"hair_time_bone\",\"bone_time_soul\")\n",
    "model.kmeans.new.var <- kmeans(subset(train, select=vars), 3, nstart = 50)"
   ]
  },
  {
   "cell_type": "code",
   "execution_count": 15,
   "metadata": {
    "collapsed": false
   },
   "outputs": [
    {
     "data": {
      "text/plain": [
       "   \n",
       "    Ghost Ghoul Goblin\n",
       "  1    79     2     29\n",
       "  2     3    55     52\n",
       "  3     0    37      3"
      ]
     },
     "metadata": {},
     "output_type": "display_data"
    },
    {
     "name": "stdout",
     "output_type": "stream",
     "text": [
      "[1] \"Accuracy\"          \"0.265384615384615\"\n"
     ]
    },
    {
     "name": "stderr",
     "output_type": "stream",
     "text": [
      "Warning message in dist(Data, method = method):\n",
      "\"NAs introduits lors de la conversion automatique\""
     ]
    },
    {
     "data": {
      "text/html": [
       "0.00119018712781042"
      ],
      "text/latex": [
       "0.00119018712781042"
      ],
      "text/markdown": [
       "0.00119018712781042"
      ],
      "text/plain": [
       "[1] 0.001190187"
      ]
     },
     "metadata": {},
     "output_type": "display_data"
    }
   ],
   "source": [
    "table<-table(model.kmeans.new.var$cluster, train$type)\n",
    "table\n",
    "accuracy<-(table[2,1]+table[3,2]+table[1,3])/sum(table)\n",
    "print(c(\"Accuracy\",accuracy))\n",
    "Dunn_index <- dunn(clusters = model.kmeans.new.var$cluster, Data = train)\n",
    "Dunn_index"
   ]
  },
  {
   "cell_type": "markdown",
   "metadata": {},
   "source": [
    "Ce modèle est un peu plus performant que notre modèle initial, mais de peu. Cela est dû à deux facteurs. Premièrement plusieurs de ces nouvelles variables sont redondantes et puisque l'efficacité de l'algorithme K-means diminue en fonction du nombre de dimensions du modèle, les ajouter fait diminuer la précision du modèle. Deuxièmement, dans ce modèle, nous avons omis la variable \"rotting_flesh\" qui est la seule variable qui discrimine entre la catégorie \"Goblin\" et les deux autres. \n",
    "\n",
    "Dans le modèle suivant, j'ai ajouté la variable \"rotting_flesh\" et limité le nombre de variables pour contrer ces deux problèmes. \n"
   ]
  },
  {
   "cell_type": "code",
   "execution_count": 16,
   "metadata": {
    "collapsed": false
   },
   "outputs": [],
   "source": [
    "set.seed(97)\n",
    "vars <- names(train) %in% c(\"rotting_flesh\",\"soul_square\", \"hair_square\",\"bone_square\")\n",
    "model.kmeans.balance <- kmeans(subset(train, select=vars), 3, nstart = 50)"
   ]
  },
  {
   "cell_type": "code",
   "execution_count": 17,
   "metadata": {
    "collapsed": false
   },
   "outputs": [
    {
     "data": {
      "text/plain": [
       "   \n",
       "    Ghost Ghoul Goblin\n",
       "  1     0    74     17\n",
       "  2    72     2     12\n",
       "  3    10    18     55"
      ]
     },
     "metadata": {},
     "output_type": "display_data"
    },
    {
     "name": "stdout",
     "output_type": "stream",
     "text": [
      "[1] \"Accuracy\"          \"0.111538461538462\"\n"
     ]
    }
   ],
   "source": [
    "table<-table(model.kmeans.balance$cluster, train$type)\n",
    "table\n",
    "accuracy<-(table[3,1]+table[2,2]+table[1,3])/sum(table)\n",
    "print(c(\"Accuracy\",accuracy))\n"
   ]
  },
  {
   "cell_type": "code",
   "execution_count": 18,
   "metadata": {
    "collapsed": false
   },
   "outputs": [
    {
     "name": "stderr",
     "output_type": "stream",
     "text": [
      "Warning message in dist(Data, method = method):\n",
      "\"NAs introduits lors de la conversion automatique\""
     ]
    },
    {
     "data": {
      "text/html": [
       "0.00116619882917825"
      ],
      "text/latex": [
       "0.00116619882917825"
      ],
      "text/markdown": [
       "0.00116619882917825"
      ],
      "text/plain": [
       "[1] 0.001166199"
      ]
     },
     "metadata": {},
     "output_type": "display_data"
    }
   ],
   "source": [
    "Dunn_index <- dunn(clusters = model.kmeans.balance$cluster, Data = train)\n",
    "Dunn_index"
   ]
  },
  {
   "cell_type": "markdown",
   "metadata": {
    "collapsed": true
   },
   "source": [
    "Ce modèle est marginalement plus précis que le modèle contenant les variables initiales. Pour décider quel modèle nous allons utiliser, je vais calculer la précision de ces modèles dans la partition des données du data frame cross_val."
   ]
  },
  {
   "cell_type": "markdown",
   "metadata": {},
   "source": [
    "# Validation croissée"
   ]
  },
  {
   "cell_type": "code",
   "execution_count": 19,
   "metadata": {
    "collapsed": false
   },
   "outputs": [
    {
     "data": {
      "text/plain": [
       "   \n",
       "    Ghost Ghoul Goblin\n",
       "  1     1    29     21\n",
       "  2    24     1      2\n",
       "  3    10     5     18"
      ]
     },
     "metadata": {},
     "output_type": "display_data"
    },
    {
     "name": "stdout",
     "output_type": "stream",
     "text": [
      "[1] \"Accuracy\"         \"0.63963963963964\"\n"
     ]
    }
   ],
   "source": [
    "set.seed(97)\n",
    "vars <- names(cross_val) %in% c(\"bone_length\", \"rotting_flesh\", \"hair_length\",\"has_soul\")\n",
    "cross.val.kmeans.nocolor <- kmeans(subset(cross_val, select=vars), 3, nstart = 50)\n",
    "\n",
    "table<-table(cross.val.kmeans.nocolor $cluster, cross_val$type)\n",
    "table\n",
    "accuracy<-(table[2,1]+table[1,2]+table[3,3])/sum(table)\n",
    "print(c(\"Accuracy\",accuracy))"
   ]
  },
  {
   "cell_type": "code",
   "execution_count": 24,
   "metadata": {
    "collapsed": false
   },
   "outputs": [
    {
     "data": {
      "text/plain": [
       "   \n",
       "    Ghost Ghoul Goblin\n",
       "  1     0    27     13\n",
       "  2    25     3      7\n",
       "  3    10     5     21"
      ]
     },
     "metadata": {},
     "output_type": "display_data"
    },
    {
     "name": "stdout",
     "output_type": "stream",
     "text": [
      "[1] \"Accuracy\"          \"0.585585585585586\"\n"
     ]
    }
   ],
   "source": [
    "set.seed(97)\n",
    "vars <- names(cross_val) %in% c(\"rotting_flesh\",\"soul_square\", \"hair_square\",\"bone_square\")\n",
    "cross.val.kmeans.balance <- kmeans(subset(cross_val, select=vars), 3, nstart = 50)\n",
    "\n",
    "table<-table(cross.val.kmeans.balance$cluster, cross_val$type)\n",
    "table\n",
    "accuracy<-(table[2,1]+table[1,2]+table[1,3])/sum(table)\n",
    "print(c(\"Accuracy\",accuracy))"
   ]
  },
  {
   "cell_type": "markdown",
   "metadata": {},
   "source": [
    "Suite à la validation croisée, l'algorithme k-means avec les variables \"rotting_flesh\",\"soul_square\", \"hair_square\",\"bone_square\" semble être la configuration la plus adaptée pour modéliser ces données. C'est le modèle que je vais utiliser pour juger les autres modèles dans le reste de ce document."
   ]
  },
  {
   "cell_type": "markdown",
   "metadata": {},
   "source": [
    "# Machine à vecteurs de support (SVM)"
   ]
  },
  {
   "cell_type": "markdown",
   "metadata": {
    "collapsed": true
   },
   "source": [
    "Une autre méthode de classification que je vais utiliser sur ces données est l'algorithme SVM. Cet algorithme a comme avantage d'être rapide et d'être plus performant que l'algorithme K-means quand les données ne sont pas linéairement séparables. De plus, cet algorithme inclut un paramètre de régulation qui permet d'éviter le surapprentissage (\"overfitting\" en anglais).\n",
    "\n",
    "Commençons par appliquer l'algorithme sur le modèle où la variable \"type\" est estimée à partir des variables \"rotting_flesh\",\"soul_square\", \"hair_square\" et \"bone_square\".\n"
   ]
  },
  {
   "cell_type": "code",
   "execution_count": 43,
   "metadata": {
    "collapsed": false
   },
   "outputs": [
    {
     "data": {
      "text/plain": [
       "                  \n",
       "resultats.svm.base Ghost Ghoul Goblin\n",
       "            Ghost     32     0      5\n",
       "            Ghoul      0    24     15\n",
       "            Goblin     8     4     23"
      ]
     },
     "metadata": {},
     "output_type": "display_data"
    },
    {
     "data": {
      "text/html": [
       "0.711711711711712"
      ],
      "text/latex": [
       "0.711711711711712"
      ],
      "text/markdown": [
       "0.711711711711712"
      ],
      "text/plain": [
       "[1] 0.7117117"
      ]
     },
     "metadata": {},
     "output_type": "display_data"
    }
   ],
   "source": [
    "library(e1071)\n",
    "\n",
    "model.svm.base <- svm(type~bone_length+rotting_flesh+hair_length+has_soul, data = train)\n",
    "resultats.svm.base <- predict(object = model.svm.base, newdata = cross_val, type = \"class\")\n",
    "\n",
    "table<-table(resultats.svm.base, cross_val$type)\n",
    "table\n",
    "\n",
    "accuracy<-(table[1,1]+table[2,2]+table[3,3])/sum(table)\n",
    "accuracy"
   ]
  },
  {
   "cell_type": "markdown",
   "metadata": {},
   "source": [
    "Cette précision de 72,07% est beaucoup plus élevée que la précision de 61,26% que nous avions obtenue avec l'algorithme K-means. Testons le modèle où la variable \"type\" est estimée par les variables \"rotting_flesh\",\"soul_square\", \"hair_square\" et \"bone_square\"."
   ]
  },
  {
   "cell_type": "code",
   "execution_count": 49,
   "metadata": {
    "collapsed": false
   },
   "outputs": [
    {
     "data": {
      "text/plain": [
       "                    \n",
       "resultats.svm.newvar Ghost Ghoul Goblin\n",
       "              Ghost     32     0      5\n",
       "              Ghoul      0    24     15\n",
       "              Goblin     8     4     23"
      ]
     },
     "metadata": {},
     "output_type": "display_data"
    },
    {
     "data": {
      "text/html": [
       "0.711711711711712"
      ],
      "text/latex": [
       "0.711711711711712"
      ],
      "text/markdown": [
       "0.711711711711712"
      ],
      "text/plain": [
       "[1] 0.7117117"
      ]
     },
     "metadata": {},
     "output_type": "display_data"
    }
   ],
   "source": [
    "model.svm.newvar <- svm(type ~ rotting_flesh+soul_square+hair_square+bone_square, data = train)\n",
    "resultats.svm.newvar <- predict(object = model.svm.newvar, newdata = cross_val, type = \"class\")\n",
    "\n",
    "table<-table(resultats.svm.newvar, cross_val$type)\n",
    "table\n",
    "\n",
    "accuracy<-(table[1,1]+table[2,2]+table[3,3])/sum(table)\n",
    "accuracy"
   ]
  },
  {
   "cell_type": "markdown",
   "metadata": {
    "collapsed": true
   },
   "source": [
    "On voit que l'utilisation des nouvelles variables n'améliore pas l'efficacité du modèle. Cela est dû au fait que l'interaction entre les variables que j'ai voulu exploiter en créant de nouvelles variables est utilisée par défaut par l'algorithme. Alors pour la suite, je vais utiliser seulement les variables de départ. \n",
    "\n",
    "Pour choisir quelle variable que je vais utiliser dans le modèle, je vais ajouter utiliser l'algorithme glouton, c'est-à-dire que je vais partir d'un modèle vide et ajouter des variables, jusqu'à ce que le gain de précision devienne marginal.\n"
   ]
  },
  {
   "cell_type": "code",
   "execution_count": 53,
   "metadata": {
    "collapsed": false
   },
   "outputs": [
    {
     "data": {
      "text/plain": [
       "                 \n",
       "resultats.old.val Ghost Ghoul Goblin\n",
       "           Ghost     22     3     11\n",
       "           Ghoul      3    19     19\n",
       "           Goblin    15     6     13"
      ]
     },
     "metadata": {},
     "output_type": "display_data"
    },
    {
     "data": {
      "text/html": [
       "0.486486486486487"
      ],
      "text/latex": [
       "0.486486486486487"
      ],
      "text/markdown": [
       "0.486486486486487"
      ],
      "text/plain": [
       "[1] 0.4864865"
      ]
     },
     "metadata": {},
     "output_type": "display_data"
    }
   ],
   "source": [
    "model.svm.1val <- svm(type ~ bone_length, data = train)\n",
    "resultats.svm.1val<- predict(object = model.svm.1val, newdata = cross_val, type = \"class\")\n",
    "\n",
    "table<-table(resultats.svm.1val, cross_val$type)\n",
    "table\n",
    "\n",
    "accuracy<-(table[1,1]+table[2,2]+table[3,3])/sum(table)\n",
    "accuracy"
   ]
  },
  {
   "cell_type": "code",
   "execution_count": 54,
   "metadata": {
    "collapsed": false
   },
   "outputs": [
    {
     "data": {
      "text/plain": [
       "                 \n",
       "resultats.old.val Ghost Ghoul Goblin\n",
       "           Ghost     29     1      6\n",
       "           Ghoul      5    18     16\n",
       "           Goblin     6     9     21"
      ]
     },
     "metadata": {},
     "output_type": "display_data"
    },
    {
     "data": {
      "text/html": [
       "0.612612612612613"
      ],
      "text/latex": [
       "0.612612612612613"
      ],
      "text/markdown": [
       "0.612612612612613"
      ],
      "text/plain": [
       "[1] 0.6126126"
      ]
     },
     "metadata": {},
     "output_type": "display_data"
    }
   ],
   "source": [
    "model.svm.2val <- svm(type ~ bone_length + rotting_flesh, data = train)\n",
    "resultats.svm.2val <- predict(object = model.svm.2val, newdata = cross_val, type = \"class\")\n",
    "\n",
    "table<-table(resultats.svm.2val, cross_val$type)\n",
    "table\n",
    "\n",
    "accuracy<-(table[1,1]+table[2,2]+table[3,3])/sum(table)\n",
    "accuracy"
   ]
  },
  {
   "cell_type": "code",
   "execution_count": 55,
   "metadata": {
    "collapsed": false
   },
   "outputs": [
    {
     "data": {
      "text/plain": [
       "                 \n",
       "resultats.old.val Ghost Ghoul Goblin\n",
       "           Ghost     32     2      3\n",
       "           Ghoul      0    21     14\n",
       "           Goblin     8     5     26"
      ]
     },
     "metadata": {},
     "output_type": "display_data"
    },
    {
     "data": {
      "text/html": [
       "0.711711711711712"
      ],
      "text/latex": [
       "0.711711711711712"
      ],
      "text/markdown": [
       "0.711711711711712"
      ],
      "text/plain": [
       "[1] 0.7117117"
      ]
     },
     "metadata": {},
     "output_type": "display_data"
    }
   ],
   "source": [
    "model.svm.3val <- svm(type ~ bone_length + rotting_flesh + hair_length, data = train)\n",
    "resultats.svm.3val <- predict(object = model.svm.3val, newdata = cross_val, type = \"class\")\n",
    "\n",
    "table<-table(resultats.svm.3val, cross_val$type)\n",
    "table\n",
    "\n",
    "accuracy<-(table[1,1]+table[2,2]+table[3,3])/sum(table)\n",
    "accuracy"
   ]
  },
  {
   "cell_type": "markdown",
   "metadata": {},
   "source": [
    "On voit que l'utilisation des trois variables \"bone_length\", \"rotting_flesh\" et \"hair_length\" entraîne une précision égale à un modèle contenant toutes les variables. Un modèle tel que celui-ci a comme avantage d'être plus simple à interpréter et de diminuer les chances de surapprentissage. Un autre moyen de limiter cette source d'erreur est d'ajuster le paramètre de régulation epsilon utilisé par l'algorithme."
   ]
  },
  {
   "cell_type": "code",
   "execution_count": 58,
   "metadata": {
    "collapsed": false
   },
   "outputs": [
    {
     "name": "stdout",
     "output_type": "stream",
     "text": [
      "\n",
      "Parameter tuning of 'svm':\n",
      "\n",
      "- sampling method: 10-fold cross validation \n",
      "\n",
      "- best parameters:\n",
      " epsilon cost\n",
      "       0    4\n",
      "\n",
      "- best performance: 0.3230769 \n",
      "\n"
     ]
    },
    {
     "data": {
      "image/png": "[encoded data removed]",
      "text/plain": [
       "Plot with title \"Performance of `svm'\""
      ]
     },
     "metadata": {},
     "output_type": "display_data"
    }
   ],
   "source": [
    "smv.epsilon <- tune(svm, type ~ bone_length + rotting_flesh + hair_length, data = train,\n",
    "              ranges = list(epsilon = seq(0,1,0.1), cost = 2^(2:9))\n",
    ")\n",
    "print(smv.epsilon )\n",
    "\n",
    "plot(smv.epsilon )"
   ]
  },
  {
   "cell_type": "markdown",
   "metadata": {
    "collapsed": true
   },
   "source": [
    "Maintenant qu'on a choisi le paramètre epsilon optimal, égal à 0, testons notre modèle sur l'échantillon de données cross_val. "
   ]
  },
  {
   "cell_type": "code",
   "execution_count": 59,
   "metadata": {
    "collapsed": false
   },
   "outputs": [
    {
     "data": {
      "text/plain": [
       "           \n",
       "predict.svm Ghost Ghoul Goblin\n",
       "     Ghost     31     2      5\n",
       "     Ghoul      1    21     13\n",
       "     Goblin     8     5     25"
      ]
     },
     "metadata": {},
     "output_type": "display_data"
    },
    {
     "data": {
      "text/html": [
       "0.693693693693694"
      ],
      "text/latex": [
       "0.693693693693694"
      ],
      "text/markdown": [
       "0.693693693693694"
      ],
      "text/plain": [
       "[1] 0.6936937"
      ]
     },
     "metadata": {},
     "output_type": "display_data"
    }
   ],
   "source": [
    "model.svm <- smv.epsilon$best.model\n",
    "predict.svm <- predict(model.svm, cross_val)\n",
    "table<-table(predict.svm, cross_val$type)\n",
    "table\n",
    "\n",
    "accuracy<-(table[1,1]+table[2,2]+table[3,3])/sum(table)\n",
    "accuracy"
   ]
  },
  {
   "cell_type": "markdown",
   "metadata": {
    "collapsed": true
   },
   "source": [
    "La précision a diminué, mais cette version du modèle aura une meilleure précision quand nous aurons à classer des données qui ne sont pas dans notre échantillon."
   ]
  },
  {
   "cell_type": "markdown",
   "metadata": {},
   "source": [
    "# Random forest"
   ]
  },
  {
   "cell_type": "code",
   "execution_count": null,
   "metadata": {
    "collapsed": true
   },
   "outputs": [],
   "source": []
  },
  {
   "cell_type": "code",
   "execution_count": null,
   "metadata": {
    "collapsed": true
   },
   "outputs": [],
   "source": [
    "set.seed(10)\n",
    "library(ranger)\n",
    "library(caret)\n",
    "model.RF <- train(\n",
    "    type ~.,\n",
    "    tuneLength = 3,\n",
    "    data = monstres, \n",
    "    method = \"ranger\", \n",
    "    \n",
    "    importance = 'impurity'\n",
    ")"
   ]
  },
  {
   "cell_type": "code",
   "execution_count": null,
   "metadata": {
    "collapsed": true
   },
   "outputs": [],
   "source": [
    "rfFit$model.RF"
   ]
  },
  {
   "cell_type": "code",
   "execution_count": null,
   "metadata": {
    "collapsed": true
   },
   "outputs": [],
   "source": []
  },
  {
   "cell_type": "code",
   "execution_count": null,
   "metadata": {
    "collapsed": true
   },
   "outputs": [],
   "source": [
    "modele_hclust<-hclust(dist(monstres))"
   ]
  },
  {
   "cell_type": "code",
   "execution_count": null,
   "metadata": {
    "collapsed": true
   },
   "outputs": [],
   "source": [
    "plot(modele_hclust)"
   ]
  },
  {
   "cell_type": "code",
   "execution_count": null,
   "metadata": {
    "collapsed": true
   },
   "outputs": [],
   "source": [
    "clusterCut <- cutree(modele_hclust, 3)"
   ]
  },
  {
   "cell_type": "code",
   "execution_count": null,
   "metadata": {
    "collapsed": true
   },
   "outputs": [],
   "source": [
    "table<-table(clusterCut, monstres$type)\n",
    "table\n",
    "\n",
    "accuracy<-(table[1,1]+table[2,2]+table[3,3])/sum(table)\n",
    "accuracy"
   ]
  },
  {
   "cell_type": "code",
   "execution_count": null,
   "metadata": {
    "collapsed": true
   },
   "outputs": [],
   "source": []
  },
  {
   "cell_type": "code",
   "execution_count": null,
   "metadata": {
    "collapsed": true
   },
   "outputs": [],
   "source": [
    "library(nnet)\n",
    "test <- multinom(type2 ~ bone_length + rotting_flesh + hair_length+has_soul+color+bone_time_soul+\n",
    "               hair_time_soul+bone_hair_soul+bone_hair_soul_square, data = monstres)"
   ]
  },
  {
   "cell_type": "code",
   "execution_count": null,
   "metadata": {
    "collapsed": true
   },
   "outputs": [],
   "source": [
    "summary(test)"
   ]
  },
  {
   "cell_type": "code",
   "execution_count": null,
   "metadata": {
    "collapsed": true
   },
   "outputs": [],
   "source": [
    "summary(test)$coefficients/summary(test)$standard.errors"
   ]
  },
  {
   "cell_type": "code",
   "execution_count": null,
   "metadata": {
    "collapsed": true
   },
   "outputs": [],
   "source": [
    "head(pred <- fitted(test))"
   ]
  },
  {
   "cell_type": "code",
   "execution_count": null,
   "metadata": {
    "collapsed": true
   },
   "outputs": [],
   "source": [
    "result<-predict(test,monstres_test,\"probs\")"
   ]
  }
 ],
 "metadata": {
  "kernelspec": {
   "display_name": "R",
   "language": "R",
   "name": "ir"
  },
  "language_info": {
   "codemirror_mode": "r",
   "file_extension": ".r",
   "mimetype": "text/x-r-source",
   "name": "R",
   "pygments_lexer": "r",
   "version": "3.3.1"
  }
 },
 "nbformat": 4,
 "nbformat_minor": 0
}
