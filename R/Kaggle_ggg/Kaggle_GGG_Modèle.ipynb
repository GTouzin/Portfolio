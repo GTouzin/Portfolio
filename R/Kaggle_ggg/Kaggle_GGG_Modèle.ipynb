{
 "cells": [
  {
   "cell_type": "markdown",
   "metadata": {
    "collapsed": true
   },
   "source": [
    "Dans le texte qui suit nous allons continuer à interpréter les données provenant de la compétition \"Ghoul, Ghost and Goblin\" organisée par le site internet kaggle.com durant le mois d'octobre 2016. Cette compétition avait pour but de classer correctement un jeu de données dans trois catégories \"Ghoul\", \"Ghost\" ou \"Goblin\" et la métrique utilisée pour déterminer la note de chaque participant était le taux d'exactitude des données classées, soit le nombre de classifications juste divisé par le nombre total d'observations dans le jeu de données.\n",
    "\n",
    "Dans la section précédente, j'ai décrit les données et expliqué la démarche que j'ai suivie lors de l'exploration des données à classer. Maintenant, nous sommes à l'étape de la modélisation des données. Commençons par enregistrer les données de la compétition dans les data table monstres et monstres_test, contenant les données servant à entraîner nos algorithmes et à valider le modèle, respectivement. (Note: je vais passé rapidement sur ces étapes puisque je j'ai déjà expliqué ces étapes dans la section précédente accessible à l'adresse https://github.com/GTouzin/Portfolio/blob/master/R/Kaggle_GGG_exploration.ipynb) "
   ]
  },
  {
   "cell_type": "code",
   "execution_count": 2,
   "metadata": {
    "collapsed": false
   },
   "outputs": [
    {
     "data": {
      "text/html": [
       "<table>\n",
       "<thead><tr><th></th><th scope=col>id</th><th scope=col>bone_length</th><th scope=col>rotting_flesh</th><th scope=col>hair_length</th><th scope=col>has_soul</th><th scope=col>color</th><th scope=col>type</th></tr></thead>\n",
       "<tbody>\n",
       "\t<tr><th scope=row>1</th><td>0</td><td>0.3545122</td><td>0.350839</td><td>0.4657609</td><td>0.7811417</td><td>clear</td><td>Ghoul</td></tr>\n",
       "\t<tr><th scope=row>2</th><td>1</td><td>0.5755599</td><td>0.4258684</td><td>0.5314014</td><td>0.4398989</td><td>green</td><td>Goblin</td></tr>\n",
       "\t<tr><th scope=row>3</th><td>2</td><td>0.4678755</td><td>0.3543304</td><td>0.8116161</td><td>0.791225</td><td>black</td><td>Ghoul</td></tr>\n",
       "\t<tr><th scope=row>4</th><td>4</td><td>0.7766525</td><td>0.5087225</td><td>0.6367656</td><td>0.8844637</td><td>black</td><td>Ghoul</td></tr>\n",
       "\t<tr><th scope=row>5</th><td>5</td><td>0.5661166</td><td>0.8758618</td><td>0.4185937</td><td>0.6364378</td><td>green</td><td>Ghost</td></tr>\n",
       "\t<tr><th scope=row>6</th><td>7</td><td>0.4056797</td><td>0.2532775</td><td>0.4414197</td><td>0.2803238</td><td>green</td><td>Goblin</td></tr>\n",
       "</tbody>\n",
       "</table>\n"
      ],
      "text/latex": [
       "\\begin{tabular}{r|lllllll}\n",
       "  & id & bone_length & rotting_flesh & hair_length & has_soul & color & type\\\\\n",
       "\\hline\n",
       "\t1 & 0 & 0.3545122 & 0.350839 & 0.4657609 & 0.7811417 & clear & Ghoul\\\\\n",
       "\t2 & 1 & 0.5755599 & 0.4258684 & 0.5314014 & 0.4398989 & green & Goblin\\\\\n",
       "\t3 & 2 & 0.4678755 & 0.3543304 & 0.8116161 & 0.791225 & black & Ghoul\\\\\n",
       "\t4 & 4 & 0.7766525 & 0.5087225 & 0.6367656 & 0.8844637 & black & Ghoul\\\\\n",
       "\t5 & 5 & 0.5661166 & 0.8758618 & 0.4185937 & 0.6364378 & green & Ghost\\\\\n",
       "\t6 & 7 & 0.4056797 & 0.2532775 & 0.4414197 & 0.2803238 & green & Goblin\\\\\n",
       "\\end{tabular}\n"
      ],
      "text/plain": [
       "   id bone_length rotting_flesh hair_length  has_soul color   type\n",
       "1:  0   0.3545122     0.3508390   0.4657609 0.7811417 clear  Ghoul\n",
       "2:  1   0.5755599     0.4258684   0.5314014 0.4398989 green Goblin\n",
       "3:  2   0.4678755     0.3543304   0.8116161 0.7912250 black  Ghoul\n",
       "4:  4   0.7766525     0.5087225   0.6367656 0.8844637 black  Ghoul\n",
       "5:  5   0.5661166     0.8758618   0.4185937 0.6364378 green  Ghost\n",
       "6:  7   0.4056797     0.2532775   0.4414197 0.2803238 green Goblin"
      ]
     },
     "execution_count": 2,
     "metadata": {},
     "output_type": "execute_result"
    }
   ],
   "source": [
    "# Charger les packages à utiliser\n",
    "library(data.table)\n",
    "library(ggplot2)\n",
    "library(ggthemes)\n",
    "library(corrplot)\n",
    "\n",
    "\n",
    "#Lire les données \n",
    "monstres <- fread(\"./Kaggle/train/train.csv\",stringsAsFactors = T)\n",
    "monstres_test <- fread(\"./Kaggle/test/test.csv\",stringsAsFactors = T)\n",
    "head(monstres)"
   ]
  },
  {
   "cell_type": "markdown",
   "metadata": {},
   "source": [
    "Ensuite, j'ai créé deux échantillons aléatoires: train contenant les données que j'ai utilisées pour entraîner les différents algorithmes et cross_val contenant le reste des données qui serviront lors de la validation croisée."
   ]
  },
  {
   "cell_type": "code",
   "execution_count": 100,
   "metadata": {
    "collapsed": true
   },
   "outputs": [],
   "source": [
    "set.seed(97)\n",
    "train.indice <- sample(1:nrow(monstres), round(nrow(monstres)*0.7))\n",
    "train <- monstres[train.indice , ]\n",
    "cross_val <- monstres[-train.indice , ]"
   ]
  },
  {
   "cell_type": "markdown",
   "metadata": {},
   "source": [
    "Finalement, j'ajoute aux data table des colonnes contenant les nouvelles variables que j'ai crues bon créer durant l'exploration des données."
   ]
  },
  {
   "cell_type": "code",
   "execution_count": 101,
   "metadata": {
    "collapsed": false
   },
   "outputs": [],
   "source": [
    "train$soul_square=train$has_soul*train$has_soul\n",
    "train$hair_square=train$hair_length*train$hair_length\n",
    "train$bone_square=train$bone_length*train$bone_length\n",
    "\n",
    "train$hair_time_soul=train$hair_length*train$has_soul\n",
    "train$hair_time_bone=train$hair_length*train$bone_length\n",
    "train$bone_time_soul=train$bone_length*train$has_soul\n",
    "\n",
    "train$color<-as.factor(train$color)\n",
    "train$type<-as.factor(train$type)"
   ]
  },
  {
   "cell_type": "code",
   "execution_count": 102,
   "metadata": {
    "collapsed": false
   },
   "outputs": [],
   "source": [
    "cross_val$hair_square=cross_val$hair_length*cross_val$hair_length\n",
    "cross_val$soul_square=cross_val$has_soul*cross_val$has_soul\n",
    "cross_val$bone_square=cross_val$bone_length*cross_val$bone_length\n",
    "\n",
    "cross_val$hair_time_soul=cross_val$hair_length*cross_val$has_soul\n",
    "cross_val$hair_time_bone=cross_val$hair_length*cross_val$bone_length\n",
    "cross_val$bone_time_soul=cross_val$bone_length*cross_val$has_soul    \n",
    "\n",
    "cross_val$color <- factor(cross_val$color)\n",
    "cross_val$type <- factor(cross_val$type)"
   ]
  },
  {
   "cell_type": "markdown",
   "metadata": {
    "collapsed": true
   },
   "source": [
    "# Modèle de base : K-means \n"
   ]
  },
  {
   "cell_type": "markdown",
   "metadata": {},
   "source": [
    "Avant de tester l'efficacité des nouvelles variables, nous allons créer un modèle contenant toutes les variables initiales et estimer l'efficacité du modèle. Cela va nous permettre d'avoir une valeur de référence pour vérifier si on fait de bons choix lors de l'élaboration du modèle.\n",
    "\n",
    "J'ai choisi d'utiliser l'algorithme \"K-means\", K-moyennes en français, pour créer le premier modèle, car ce dernier a pour avantage d'être rapide, simple et n'utilise pas beaucoup de mémoire. Donc, cet algorithme est idéal pour tester des hypothèses. De plus, cette méthode fait partie d'une classe d'algorithmes d'ont l'efficacité dépend grandement de la séparation des données provenant des trois catégories. Donc si l'algorithme \"K-means\" est peu efficace, nous pourrons conclure que ces autres algorithmes seront à éviter pour modéliser ces données qui ne sont pas linéairement séparables.    \n",
    "\n",
    "Commençons par transformer les valeurs de la variable catégorique \"color\" en valeur numérique normalisées."
   ]
  },
  {
   "cell_type": "code",
   "execution_count": 6,
   "metadata": {
    "collapsed": false
   },
   "outputs": [
    {
     "data": {
      "text/html": [
       "<ol class=list-inline>\n",
       "\t<li>\"0\"</li>\n",
       "\t<li>\"0.2\"</li>\n",
       "\t<li>\"0.4\"</li>\n",
       "\t<li>\"0.6\"</li>\n",
       "\t<li>\"0.8\"</li>\n",
       "\t<li>\"1\"</li>\n",
       "</ol>\n"
      ],
      "text/latex": [
       "\\begin{enumerate*}\n",
       "\\item \"0\"\n",
       "\\item \"0.2\"\n",
       "\\item \"0.4\"\n",
       "\\item \"0.6\"\n",
       "\\item \"0.8\"\n",
       "\\item \"1\"\n",
       "\\end{enumerate*}\n"
      ],
      "text/markdown": [
       "1. \"0\"\n",
       "2. \"0.2\"\n",
       "3. \"0.4\"\n",
       "4. \"0.6\"\n",
       "5. \"0.8\"\n",
       "6. \"1\"\n",
       "\n",
       "\n"
      ],
      "text/plain": [
       "[1] \"0\"   \"0.2\" \"0.4\" \"0.6\" \"0.8\" \"1\"  "
      ]
     },
     "execution_count": 6,
     "metadata": {},
     "output_type": "execute_result"
    }
   ],
   "source": [
    "library(plyr)\n",
    "train$color<-revalue(train$color, c(\"black\"=0, \"blood\"=1/5, \"blue\"=2*1/5, \"clear\"=3*1/5, \"green\"=4*1/5, \"white\"=1))\n",
    "levels(train$color)"
   ]
  },
  {
   "cell_type": "code",
   "execution_count": 55,
   "metadata": {
    "collapsed": false
   },
   "outputs": [],
   "source": [
    "set.seed(97)\n",
    "vars <- names(train) %in% c(\"bone_length\", \"rotting_flesh\", \"hair_length\",\"has_soul\",\"color\")\n",
    "model.kmeans.base <- kmeans(subset(train, select=vars), 3, nstart = 75)"
   ]
  },
  {
   "cell_type": "markdown",
   "metadata": {},
   "source": [
    "Examinons la justesse du modèle en créant un tableau de contingence où les lignes contiennent les effectifs des grappes de points générés par l'algorithme et où les colonnes contiennent les véritables effectifs de chacune des trois catégories. "
   ]
  },
  {
   "cell_type": "code",
   "execution_count": 69,
   "metadata": {
    "collapsed": false
   },
   "outputs": [
    {
     "data": {
      "text/plain": [
       "   \n",
       "    Ghost Ghoul Goblin\n",
       "  1    20    42     37\n",
       "  2    13    16      9\n",
       "  3    44    43     36"
      ]
     },
     "execution_count": 69,
     "metadata": {},
     "output_type": "execute_result"
    }
   ],
   "source": [
    "table<-table(model.kmeans.base$cluster, train$type)\n",
    "table"
   ]
  },
  {
   "cell_type": "markdown",
   "metadata": {},
   "source": [
    "L'algorithme génère des grappes de points sans tenir compte des catégories des observations. En conséquence, pour calculer la précision du modèle, nous devons catégoriser chacune des grappes. Pour ce faire, j'ai associé chaque catégorie avec la grappe qui contient le plus grand nombre d'observations de cette catégorie. Donc la grappe 1 est associée à la catégorie \"Ghoul\", la grappe 2 est associée à \"Goblin\" et la grappe 3 à la catégorie \"Ghost\". C'est la stratégie que j'ai appliquée à chaque exemple dans cette section.\n",
    "\n"
   ]
  },
  {
   "cell_type": "code",
   "execution_count": 118,
   "metadata": {
    "collapsed": false
   },
   "outputs": [
    {
     "name": "stdout",
     "output_type": "stream",
     "text": [
      "[1] \"Taux d'exactitude\" \"0.342342342342342\"\n"
     ]
    }
   ],
   "source": [
    "exactitude<-(table[1,3]+table[2,1]+table[3,2])/sum(table)\n",
    "print(c(\"Taux d'exactitude\",exactitude))"
   ]
  },
  {
   "cell_type": "markdown",
   "metadata": {},
   "source": [
    "Nous obtenons une précision de 38,85%, ce qui est légèrement mieux que d'étiqueter chaque donnée au hasard, mais de peu. Ci-dessous, nous calculons l'indice de Dunn qui est une statistique qui permet d'évaluer la qualité de la partition des données. Si la partition est bonne, c'est-à-dire que les grappes sont bien séparées et distinctes, alors l'indice de Dunn sera élevé."
   ]
  },
  {
   "cell_type": "code",
   "execution_count": 58,
   "metadata": {
    "collapsed": false
   },
   "outputs": [
    {
     "name": "stderr",
     "output_type": "stream",
     "text": [
      "Loading required package: cluster\n",
      "Warning message:\n",
      "In dist(Data, method = method): NAs introduits lors de la conversion automatique"
     ]
    },
    {
     "data": {
      "text/html": [
       "0.00116831346823256"
      ],
      "text/latex": [
       "0.00116831346823256"
      ],
      "text/markdown": [
       "0.00116831346823256"
      ],
      "text/plain": [
       "[1] 0.001168313"
      ]
     },
     "execution_count": 58,
     "metadata": {},
     "output_type": "execute_result"
    }
   ],
   "source": [
    "library(clValid)\n",
    "Dunn_index <- dunn(clusters = model.kmeans.base$cluster, Data = train)\n",
    "Dunn_index"
   ]
  },
  {
   "cell_type": "markdown",
   "metadata": {},
   "source": [
    "Ce résultat vient confirmer qu'il est préférable d'utiliser un autre modèle. \n",
    "\n",
    "Durant l'exploration des données, j'ai remarqué que la variable catégorique \"color\" ne semble pas apporter beaucoup d'informations et qu'elle pourrait nuire au modèle en générant du bruit dans les données. Essayons d'appliquer cet algorithme sur un jeu de données omettant cette variable."
   ]
  },
  {
   "cell_type": "code",
   "execution_count": 65,
   "metadata": {
    "collapsed": true
   },
   "outputs": [],
   "source": [
    "set.seed(97)\n",
    "vars <- names(train) %in% c(\"bone_length\", \"rotting_flesh\", \"hair_length\",\"has_soul\")\n",
    "model.kmeans.nocolor <- kmeans(subset(train, select=vars), 3, nstart = 50)"
   ]
  },
  {
   "cell_type": "code",
   "execution_count": 119,
   "metadata": {
    "collapsed": false
   },
   "outputs": [
    {
     "data": {
      "text/plain": [
       "   \n",
       "    Ghost Ghoul Goblin\n",
       "  1    67     5     12\n",
       "  2     9    16     50\n",
       "  3     1    80     20"
      ]
     },
     "execution_count": 119,
     "metadata": {},
     "output_type": "execute_result"
    },
    {
     "name": "stdout",
     "output_type": "stream",
     "text": [
      "[1] \"Taux d'exactitude\" \"0.757692307692308\"\n"
     ]
    }
   ],
   "source": [
    "table<-table(model.kmeans.nocolor$cluster, train$type)\n",
    "table\n",
    "exactitude<-(table[1,1]+table[2,3]+table[3,2])/sum(table)\n",
    "print(c(\"Taux d'exactitude\",exactitude))"
   ]
  },
  {
   "cell_type": "markdown",
   "metadata": {},
   "source": [
    "Nous obtenons une précision de 75,77%, ce qui est beaucoup mieux que notre premier essaie! Nous voyons que la variable \"color\" avait une influence très négative sur le modèle. Maintenant, testons un modèle contenant seulement les variables créées précédemment."
   ]
  },
  {
   "cell_type": "code",
   "execution_count": 74,
   "metadata": {
    "collapsed": true
   },
   "outputs": [],
   "source": [
    "set.seed(97)\n",
    "vars <- names(train) %in% c(\"soul_square\",\"bone_square\", \"hair_square\",\"hair_time_soul\",\n",
    "                           \"hair_time_bone\",\"bone_time_soul\")\n",
    "model.kmeans.new.var <- kmeans(subset(train, select=vars), 3, nstart = 50)"
   ]
  },
  {
   "cell_type": "code",
   "execution_count": 121,
   "metadata": {
    "collapsed": false
   },
   "outputs": [
    {
     "data": {
      "text/plain": [
       "   \n",
       "    Ghost Ghoul Goblin\n",
       "  1    72     6     34\n",
       "  2     0    47      5\n",
       "  3     5    48     43"
      ]
     },
     "execution_count": 121,
     "metadata": {},
     "output_type": "execute_result"
    },
    {
     "name": "stdout",
     "output_type": "stream",
     "text": [
      "[1] \"Taux d'exactitude\" \"0.623076923076923\"\n"
     ]
    }
   ],
   "source": [
    "table<-table(model.kmeans.new.var$cluster, train$type)\n",
    "table\n",
    "exactitude<-(table[1,1]+table[2,2]+table[3,3])/sum(table)\n",
    "print(c(\"Taux d'exactitude\",exactitude))"
   ]
  },
  {
   "cell_type": "markdown",
   "metadata": {},
   "source": [
    "Ce modèle classe moins bien les données que le modèle précédent. Cela est dû à deux facteurs. Premièrement plusieurs de ces nouvelles variables sont redondantes et puisque l'efficacité de l'algorithme K-means diminue en fonction du nombre de dimensions du modèle, les ajouter fait diminuer la précision du modèle. Deuxièmement, dans ce modèle, nous avons omis la variable \"rotting_flesh\" qui est la seule variable qui discrimine entre la catégorie \"Goblin\" et les deux autres. \n",
    "\n",
    "Dans le modèle suivant, j'ai ajouté la variable \"rotting_flesh\" et limité le nombre de variables pour contrer ces deux problèmes. \n"
   ]
  },
  {
   "cell_type": "code",
   "execution_count": 78,
   "metadata": {
    "collapsed": false
   },
   "outputs": [],
   "source": [
    "set.seed(97)\n",
    "vars <- names(train) %in% c(\"rotting_flesh\",\"soul_square\", \"hair_square\",\"bone_square\")\n",
    "model.kmeans.balance <- kmeans(subset(train, select=vars), 3, nstart = 50)"
   ]
  },
  {
   "cell_type": "code",
   "execution_count": 122,
   "metadata": {
    "collapsed": false
   },
   "outputs": [
    {
     "data": {
      "text/plain": [
       "   \n",
       "    Ghost Ghoul Goblin\n",
       "  1     0    78     17\n",
       "  2    15    19     56\n",
       "  3    62     4      9"
      ]
     },
     "execution_count": 122,
     "metadata": {},
     "output_type": "execute_result"
    },
    {
     "name": "stdout",
     "output_type": "stream",
     "text": [
      "[1] \"Taux d'exactitude\" \"0.753846153846154\"\n"
     ]
    }
   ],
   "source": [
    "table<-table(model.kmeans.balance$cluster, train$type)\n",
    "table\n",
    "exactitude<-(table[1,2]+table[2,3]+table[3,1])/sum(table)\n",
    "print(c(\"Taux d'exactitude\",exactitude))"
   ]
  },
  {
   "cell_type": "markdown",
   "metadata": {
    "collapsed": true
   },
   "source": [
    "Ce modèle est marginalement plus précis que le modèle contenant les variables initiales. Pour décider quel modèle nous allons utiliser, je vais calculer la précision de ces modèles dans la partition des données du data frame cross_val."
   ]
  },
  {
   "cell_type": "markdown",
   "metadata": {},
   "source": [
    "# Validation croissée"
   ]
  },
  {
   "cell_type": "code",
   "execution_count": 123,
   "metadata": {
    "collapsed": false
   },
   "outputs": [
    {
     "data": {
      "text/plain": [
       "   \n",
       "    Ghost Ghoul Goblin\n",
       "  1    30     0      3\n",
       "  2    10     3     23\n",
       "  3     0    25     17"
      ]
     },
     "execution_count": 123,
     "metadata": {},
     "output_type": "execute_result"
    },
    {
     "name": "stdout",
     "output_type": "stream",
     "text": [
      "[1] \"Taux d'exactitude\" \"0.702702702702703\"\n"
     ]
    },
    {
     "name": "stderr",
     "output_type": "stream",
     "text": [
      "Warning message:\n",
      "In dist(Data, method = method): NAs introduits lors de la conversion automatique"
     ]
    },
    {
     "data": {
      "text/html": [
       "0.00120712902598146"
      ],
      "text/latex": [
       "0.00120712902598146"
      ],
      "text/markdown": [
       "0.00120712902598146"
      ],
      "text/plain": [
       "[1] 0.001207129"
      ]
     },
     "execution_count": 123,
     "metadata": {},
     "output_type": "execute_result"
    }
   ],
   "source": [
    "set.seed(97)\n",
    "vars <- names(cross_val) %in% c(\"bone_length\", \"rotting_flesh\", \"hair_length\",\"has_soul\")\n",
    "cross.val.kmeans.nocolor <- kmeans(subset(cross_val, select=vars), 3, nstart = 50)\n",
    "table<-table(cross.val.kmeans.nocolor$cluster, cross_val$type)\n",
    "table\n",
    "exactitude<-(table[1,1]+table[2,3]+table[3,2])/sum(table)\n",
    "print(c(\"Taux d'exactitude\",exactitude))\n",
    "dunn(clusters = cross.val.kmeans.nocolor$cluster, Data = cross_val)"
   ]
  },
  {
   "cell_type": "code",
   "execution_count": 124,
   "metadata": {
    "collapsed": false
   },
   "outputs": [
    {
     "data": {
      "text/plain": [
       "   \n",
       "    Ghost Ghoul Goblin\n",
       "  1    34     0      8\n",
       "  2     0    25     16\n",
       "  3     6     3     19"
      ]
     },
     "execution_count": 124,
     "metadata": {},
     "output_type": "execute_result"
    },
    {
     "name": "stdout",
     "output_type": "stream",
     "text": [
      "[1] \"Taux d'exactitude\" \"0.702702702702703\"\n"
     ]
    },
    {
     "name": "stderr",
     "output_type": "stream",
     "text": [
      "Warning message:\n",
      "In dist(Data, method = method): NAs introduits lors de la conversion automatique"
     ]
    },
    {
     "data": {
      "text/html": [
       "0.00120712902598146"
      ],
      "text/latex": [
       "0.00120712902598146"
      ],
      "text/markdown": [
       "0.00120712902598146"
      ],
      "text/plain": [
       "[1] 0.001207129"
      ]
     },
     "execution_count": 124,
     "metadata": {},
     "output_type": "execute_result"
    }
   ],
   "source": [
    "set.seed(97)\n",
    "vars <- names(cross_val) %in% c(\"rotting_flesh\",\"soul_square\", \"hair_square\",\"bone_square\")\n",
    "cross.val.kmeans.balance <- kmeans(subset(cross_val, select=vars), 3, nstart = 50)\n",
    "\n",
    "table<-table(cross.val.kmeans.balance$cluster, cross_val$type)\n",
    "table\n",
    "exactitude<-(table[1,1]+table[2,2]+table[3,3])/sum(table)\n",
    "print(c(\"Taux d'exactitude\",exactitude))\n",
    "dunn(clusters = cross.val.kmeans.balance$cluster, Data = cross_val)"
   ]
  },
  {
   "cell_type": "markdown",
   "metadata": {},
   "source": [
    "Suite à la validation croisée, l'algorithme k-means avec les variables \"rotting_flesh\",\"soul_square\", \"hair_square\",\"bone_square\" semble être la configuration la plus adaptée pour modéliser ces données. C'est le modèle que je vais utiliser pour juger les autres modèles dans le reste de ce document."
   ]
  },
  {
   "cell_type": "markdown",
   "metadata": {},
   "source": [
    "# Algorithme random forest"
   ]
  },
  {
   "cell_type": "markdown",
   "metadata": {},
   "source": [
    "Dans cette section, nous allons utiliser les forêts d'arbres décisionnels pour classer les données de la compétition. \n",
    "\n",
    "Commençons par calculer la performance de cet algorithme avec un modèle contenant toutes les variables de départ. "
   ]
  },
  {
   "cell_type": "code",
   "execution_count": 150,
   "metadata": {
    "collapsed": true
   },
   "outputs": [],
   "source": [
    "set.seed(97)\n",
    "library(ranger)\n",
    "library(caret)\n",
    "model.rf.base <- train(type~bone_length+rotting_flesh+hair_length+has_soul+color,tuneLength = 3,data = train, \n",
    "    method = \"ranger\", importance = 'impurity')"
   ]
  },
  {
   "cell_type": "code",
   "execution_count": 151,
   "metadata": {
    "collapsed": false
   },
   "outputs": [
    {
     "data": {
      "text/plain": [
       "               \n",
       "predict.rf.base Ghost Ghoul Goblin\n",
       "         Ghost     31     0      6\n",
       "         Ghoul      1    23     17\n",
       "         Goblin     8     5     20"
      ]
     },
     "execution_count": 151,
     "metadata": {},
     "output_type": "execute_result"
    },
    {
     "data": {
      "text/html": [
       "0.666666666666667"
      ],
      "text/latex": [
       "0.666666666666667"
      ],
      "text/markdown": [
       "0.666666666666667"
      ],
      "text/plain": [
       "[1] 0.6666667"
      ]
     },
     "execution_count": 151,
     "metadata": {},
     "output_type": "execute_result"
    }
   ],
   "source": [
    "predict.rf.base<- predict(model.rf.base, cross_val)\n",
    "table<-table(predict.rf.base, cross_val$type)\n",
    "table\n",
    "\n",
    "exactitude<-(table[1,1]+table[2,2]+table[3,3])/sum(table)\n",
    "exactitude"
   ]
  },
  {
   "cell_type": "markdown",
   "metadata": {},
   "source": [
    "Précédemment, nous avons vu que la variable \"color\" avait une influence négative sur l'algorithme k-moyennes. Vérifions si c'est le cas avec cet algorithme en calculant l'exactitude du modèle précédent si on soustrait cette variable."
   ]
  },
  {
   "cell_type": "code",
   "execution_count": 154,
   "metadata": {
    "collapsed": true
   },
   "outputs": [],
   "source": [
    "set.seed(97)\n",
    "rf.nocolor <- train(type~bone_length+rotting_flesh+hair_length+has_soul,tuneLength = 3,data = train, \n",
    "    method = \"ranger\", importance = 'impurity')"
   ]
  },
  {
   "cell_type": "code",
   "execution_count": 155,
   "metadata": {
    "collapsed": false
   },
   "outputs": [
    {
     "data": {
      "text/plain": [
       "                \n",
       "predict.no.color Ghost Ghoul Goblin\n",
       "          Ghost     33     1      7\n",
       "          Ghoul      1    23     14\n",
       "          Goblin     6     4     22"
      ]
     },
     "execution_count": 155,
     "metadata": {},
     "output_type": "execute_result"
    },
    {
     "data": {
      "text/html": [
       "0.702702702702703"
      ],
      "text/latex": [
       "0.702702702702703"
      ],
      "text/markdown": [
       "0.702702702702703"
      ],
      "text/plain": [
       "[1] 0.7027027"
      ]
     },
     "execution_count": 155,
     "metadata": {},
     "output_type": "execute_result"
    }
   ],
   "source": [
    "set.seed(97)\n",
    "predict.no.color<- predict(rf.nocolor, cross_val)\n",
    "table<-table(predict.no.color, cross_val$type)\n",
    "table\n",
    "\n",
    "exactitude<-(table[1,1]+table[2,2]+table[3,3])/sum(table)\n",
    "exactitude"
   ]
  },
  {
   "cell_type": "markdown",
   "metadata": {},
   "source": [
    "La différence entre les deux modèles étant significative, nous concluons qu'il est bénéfique de ne pas utiliser cette variable dans le modèle. \n",
    "\n",
    "Maintenant, utilisons cet algorithme pour classer les données à l'aide des variables \"rotting_flesh\" et les variables que nous avons créées \"soul_square\", \"hair_square\" et \"bone_square\"."
   ]
  },
  {
   "cell_type": "code",
   "execution_count": 156,
   "metadata": {
    "collapsed": false
   },
   "outputs": [
    {
     "data": {
      "text/plain": [
       "                   \n",
       "predict.altVariable Ghost Ghoul Goblin\n",
       "             Ghost     33     1      7\n",
       "             Ghoul      0    24     14\n",
       "             Goblin     7     3     22"
      ]
     },
     "execution_count": 156,
     "metadata": {},
     "output_type": "execute_result"
    },
    {
     "data": {
      "text/html": [
       "0.711711711711712"
      ],
      "text/latex": [
       "0.711711711711712"
      ],
      "text/markdown": [
       "0.711711711711712"
      ],
      "text/plain": [
       "[1] 0.7117117"
      ]
     },
     "execution_count": 156,
     "metadata": {},
     "output_type": "execute_result"
    }
   ],
   "source": [
    "set.seed(97)\n",
    "rf.altVariable <- train(type~rotting_flesh+soul_square+hair_square+bone_square,\n",
    "tuneLength = 3,data = train,method = \"ranger\", importance = 'impurity')\n",
    "\n",
    "predict.altVariable<- predict(rf.altVariable, cross_val)\n",
    "table<-table(predict.altVariable, cross_val$type)\n",
    "table\n",
    "\n",
    "exactitude<-(table[1,1]+table[2,2]+table[3,3])/sum(table)\n",
    "exactitude"
   ]
  },
  {
   "cell_type": "markdown",
   "metadata": {},
   "source": [
    "# Machine à vecteurs de support (SVM)"
   ]
  },
  {
   "cell_type": "markdown",
   "metadata": {
    "collapsed": true
   },
   "source": [
    "Une autre méthode de classification que je vais utiliser sur ces données est l'algorithme SVM. Cet algorithme a comme avantage d'être rapide et d'être plus performant que l'algorithme K-means quand les données ne sont pas linéairement séparables. De plus, cet algorithme inclut un paramètre de régulation qui permet d'éviter le surapprentissage (\"overfitting\" en anglais).\n",
    "\n",
    "Commençons par appliquer l'algorithme sur le modèle où la variable \"type\" est estimée à partir des variables \"rotting_flesh\",\"soul_square\", \"hair_square\" et \"bone_square\"."
   ]
  },
  {
   "cell_type": "code",
   "execution_count": 126,
   "metadata": {
    "collapsed": false
   },
   "outputs": [
    {
     "data": {
      "text/plain": [
       "                  \n",
       "resultats.svm.base Ghost Ghoul Goblin\n",
       "            Ghost     32     0      5\n",
       "            Ghoul      0    24     15\n",
       "            Goblin     8     4     23"
      ]
     },
     "execution_count": 126,
     "metadata": {},
     "output_type": "execute_result"
    },
    {
     "name": "stdout",
     "output_type": "stream",
     "text": [
      "[1] \"Taux d'exactitude\" \"0.711711711711712\"\n"
     ]
    }
   ],
   "source": [
    "library(e1071)\n",
    "\n",
    "model.svm.base <- svm(type~bone_length+rotting_flesh+hair_length+has_soul, data = train)\n",
    "resultats.svm.base <- predict(object = model.svm.base, newdata = cross_val, type = \"class\")\n",
    "\n",
    "table<-table(resultats.svm.base, cross_val$type)\n",
    "table\n",
    "\n",
    "exactitude<-(table[1,1]+table[2,2]+table[3,3])/sum(table)\n",
    "print(c(\"Taux d'exactitude\",exactitude))"
   ]
  },
  {
   "cell_type": "markdown",
   "metadata": {},
   "source": [
    "Ce taux d'exactitude de 71,17% est légèrement plus élevé que la précision de 70,27% que nous avions obtenue avec l'algorithme K-means. Testons le modèle où la variable \"type\" est estimée par les variables \"rotting_flesh\",\"soul_square\", \"hair_square\" et \"bone_square\"."
   ]
  },
  {
   "cell_type": "code",
   "execution_count": 127,
   "metadata": {
    "collapsed": false
   },
   "outputs": [
    {
     "data": {
      "text/plain": [
       "                    \n",
       "resultats.svm.newvar Ghost Ghoul Goblin\n",
       "              Ghost     32     0      5\n",
       "              Ghoul      0    24     15\n",
       "              Goblin     8     4     23"
      ]
     },
     "execution_count": 127,
     "metadata": {},
     "output_type": "execute_result"
    },
    {
     "name": "stdout",
     "output_type": "stream",
     "text": [
      "[1] \"Taux d'exactitude\" \"0.711711711711712\"\n"
     ]
    }
   ],
   "source": [
    "model.svm.newvar <- svm(type ~ rotting_flesh+soul_square+hair_square+bone_square, data = train)\n",
    "resultats.svm.newvar <- predict(object = model.svm.newvar, newdata = cross_val, type = \"class\")\n",
    "\n",
    "table<-table(resultats.svm.newvar, cross_val$type)\n",
    "table\n",
    "\n",
    "exactitude<-(table[1,1]+table[2,2]+table[3,3])/sum(table)\n",
    "print(c(\"Taux d'exactitude\",exactitude))"
   ]
  },
  {
   "cell_type": "markdown",
   "metadata": {
    "collapsed": true
   },
   "source": [
    "On voit que l'utilisation des nouvelles variables n'améliore pas l'efficacité du modèle. Cela est dû au fait que l'interaction entre les variables que j'ai voulu exploiter en créant de nouvelles variables est utilisée par défaut par l'algorithme. Alors pour la suite, je vais utiliser seulement les variables de départ. \n",
    "\n",
    "Pour choisir quelle variable que je vais utiliser dans le modèle, je vais ajouter utiliser l'algorithme \"glouton\", c'est-à-dire que je vais partir d'un modèle vide et ajouter des variables, jusqu'à ce que le gain de précision devienne marginal."
   ]
  },
  {
   "cell_type": "code",
   "execution_count": 128,
   "metadata": {
    "collapsed": false
   },
   "outputs": [
    {
     "data": {
      "text/plain": [
       "                  \n",
       "resultats.svm.1val Ghost Ghoul Goblin\n",
       "            Ghost     22     3     11\n",
       "            Ghoul      3    19     19\n",
       "            Goblin    15     6     13"
      ]
     },
     "execution_count": 128,
     "metadata": {},
     "output_type": "execute_result"
    },
    {
     "name": "stdout",
     "output_type": "stream",
     "text": [
      "[1] \"Taux d'exactitude\" \"0.486486486486487\"\n"
     ]
    }
   ],
   "source": [
    "model.svm.1val <- svm(type ~ bone_length, data = train)\n",
    "resultats.svm.1val<- predict(object = model.svm.1val, newdata = cross_val, type = \"class\")\n",
    "\n",
    "table<-table(resultats.svm.1val, cross_val$type)\n",
    "table\n",
    "\n",
    "exactitude<-(table[1,1]+table[2,2]+table[3,3])/sum(table)\n",
    "print(c(\"Taux d'exactitude\",exactitude))"
   ]
  },
  {
   "cell_type": "code",
   "execution_count": 129,
   "metadata": {
    "collapsed": false
   },
   "outputs": [
    {
     "data": {
      "text/plain": [
       "                  \n",
       "resultats.svm.2val Ghost Ghoul Goblin\n",
       "            Ghost     29     1      6\n",
       "            Ghoul      5    18     16\n",
       "            Goblin     6     9     21"
      ]
     },
     "execution_count": 129,
     "metadata": {},
     "output_type": "execute_result"
    },
    {
     "name": "stdout",
     "output_type": "stream",
     "text": [
      "[1] \"Taux d'exactitude\" \"0.612612612612613\"\n"
     ]
    }
   ],
   "source": [
    "model.svm.2val <- svm(type ~ bone_length + rotting_flesh, data = train)\n",
    "resultats.svm.2val <- predict(object = model.svm.2val, newdata = cross_val, type = \"class\")\n",
    "\n",
    "table<-table(resultats.svm.2val, cross_val$type)\n",
    "table\n",
    "\n",
    "exactitude<-(table[1,1]+table[2,2]+table[3,3])/sum(table)\n",
    "print(c(\"Taux d'exactitude\",exactitude))"
   ]
  },
  {
   "cell_type": "code",
   "execution_count": 130,
   "metadata": {
    "collapsed": false
   },
   "outputs": [
    {
     "data": {
      "text/plain": [
       "                  \n",
       "resultats.svm.3val Ghost Ghoul Goblin\n",
       "            Ghost     32     2      3\n",
       "            Ghoul      0    21     14\n",
       "            Goblin     8     5     26"
      ]
     },
     "execution_count": 130,
     "metadata": {},
     "output_type": "execute_result"
    },
    {
     "name": "stdout",
     "output_type": "stream",
     "text": [
      "[1] \"Taux d'exactitude\" \"0.711711711711712\"\n"
     ]
    }
   ],
   "source": [
    "model.svm.3val <- svm(type ~ bone_length + rotting_flesh + hair_length, data = train)\n",
    "resultats.svm.3val <- predict(object = model.svm.3val, newdata = cross_val, type = \"class\")\n",
    "\n",
    "table<-table(resultats.svm.3val, cross_val$type)\n",
    "table\n",
    "\n",
    "exactitude<-(table[1,1]+table[2,2]+table[3,3])/sum(table)\n",
    "print(c(\"Taux d'exactitude\",exactitude))"
   ]
  },
  {
   "cell_type": "markdown",
   "metadata": {},
   "source": [
    "On voit que l'utilisation des trois variables \"bone_length\", \"rotting_flesh\" et \"hair_length\" entraîne une précision égale à un modèle contenant toutes les variables. Un modèle tel que celui-ci a comme avantage d'être plus simple à interpréter et de diminuer les chances de surapprentissage. Un autre moyen de limiter cette source d'erreur est d'ajuster le paramètre de régulation epsilon utilisé par l'algorithme."
   ]
  },
  {
   "cell_type": "code",
   "execution_count": 164,
   "metadata": {
    "collapsed": false
   },
   "outputs": [
    {
     "name": "stdout",
     "output_type": "stream",
     "text": [
      "\n",
      "Parameter tuning of 'svm':\n",
      "\n",
      "- sampling method: 10-fold cross validation \n",
      "\n",
      "- best parameters:\n",
      " epsilon cost\n",
      "       0    4\n",
      "\n",
      "- best performance: 0.2807692 \n",
      "\n"
     ]
    },
    {
     "data": {
      "application/pdf": "[encoded data removed]",
      "image/jpeg": "[encoded data removed]",
      "image/png": "[encoded data removed]",
      "text/plain": [
       "Plot with title \"Performance of `svm'\""
      ]
     },
     "metadata": {
      "image/svg+xml": {
       "isolated": true
      }
     },
     "output_type": "display_data"
    }
   ],
   "source": [
    "smv.epsilon <- tune(svm,type ~ bone_length + rotting_flesh + hair_length, data = train,\n",
    "              ranges = list(epsilon = seq(0,1,0.1), cost = 2^(2:9))\n",
    ")\n",
    "print(smv.epsilon )\n",
    "\n",
    "plot(smv.epsilon )"
   ]
  },
  {
   "cell_type": "markdown",
   "metadata": {
    "collapsed": true
   },
   "source": [
    "Maintenant qu'on a choisi le paramètre epsilon optimal, égal à 0, testons notre modèle sur l'échantillon de données cross_val. "
   ]
  },
  {
   "cell_type": "code",
   "execution_count": 165,
   "metadata": {
    "collapsed": false
   },
   "outputs": [
    {
     "data": {
      "text/plain": [
       "           \n",
       "predict.svm Ghost Ghoul Goblin\n",
       "     Ghost     33     0      5\n",
       "     Ghoul      0    23     15\n",
       "     Goblin     7     5     23"
      ]
     },
     "execution_count": 165,
     "metadata": {},
     "output_type": "execute_result"
    },
    {
     "data": {
      "text/html": [
       "0.711711711711712"
      ],
      "text/latex": [
       "0.711711711711712"
      ],
      "text/markdown": [
       "0.711711711711712"
      ],
      "text/plain": [
       "[1] 0.7117117"
      ]
     },
     "execution_count": 165,
     "metadata": {},
     "output_type": "execute_result"
    }
   ],
   "source": [
    "model.svm <- smv.epsilon$best.model\n",
    "predict.svm <- predict(model.svm, cross_val)\n",
    "table<-table(predict.svm, cross_val$type)\n",
    "table\n",
    "\n",
    "exactitude<-(table[1,1]+table[2,2]+table[3,3])/sum(table)\n",
    "exactitude"
   ]
  },
  {
   "cell_type": "markdown",
   "metadata": {
    "collapsed": true
   },
   "source": [
    "# Conclusion"
   ]
  },
  {
   "cell_type": "markdown",
   "metadata": {},
   "source": [
    "Nous avons vu que les algorithmes SVM et forêts aléatoires permettent d'obtenir un taux d'exactitude maximum de 71,17%, taux qui dépend grandement du choix de variables utilisées dans le modèle. Pour la compétition, j'ai utilisé ces différents modèles pour classer un jeu de données dont les étiquettes m'étaient inconnues. J'ai remarqué que les forêts d'arbres décisionnels performaient moins bien que l'algorithme SVM sur ce nouveau jeu de données. Cela peut être attribuable à la tendance qu'à cet algorithme à surentraîner les données et c'est un facteur auquel je devrais faire particulièrement attention à l'avenir.\n",
    "\n",
    "Finalement, en utilisant l'algorithme SVM sur le modèle contenant les trois variables \"bone_length\", \"rotting_flesh\" et \"hair_length\", j'ai obtenu un taux d'exactitude de 0.73913."
   ]
  }
 ],
 "metadata": {
  "kernelspec": {
   "display_name": "R",
   "language": "R",
   "name": "ir"
  },
  "language_info": {
   "codemirror_mode": "r",
   "file_extension": ".r",
   "mimetype": "text/x-r-source",
   "name": "R",
   "pygments_lexer": "r",
   "version": "3.1.3"
  }
 },
 "nbformat": 4,
 "nbformat_minor": 0
}
