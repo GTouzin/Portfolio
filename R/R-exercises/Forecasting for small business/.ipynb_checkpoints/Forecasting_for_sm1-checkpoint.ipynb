{
 "cells": [
  {
   "cell_type": "markdown",
   "metadata": {
    "deletable": true,
    "editable": true
   },
   "source": [
    "# Time series analysis for small business "
   ]
  },
  {
   "cell_type": "markdown",
   "metadata": {
    "deletable": true,
    "editable": true
   },
   "source": [
    "Incertenty is the biggest enemy of a profitable business. That is espiciealy true of small business who don’t have enouph resource to adapt to sodden increase of cost, an unexpected drop of revenue or to capitalize on a opportunity in a small window. In that situation it is especyaly important to be able to predict accurately the change of operation to stay competitive.\n",
    "Just think about your favorite restaurant and all the things a good manager must estimate to give a good service and still make profit: how many people will eat at his restaurant each hour, how that value will chage during the day, how many order of each dish should be bought, how much time the service will take, are all variables that he must estimate before ordering food, making schedule for his staff, fixing price, hiring or laying out staff etc. Basically, making prediction is something all business owner do before making a choice, sometime without knowing it, and the quality of the choice depend on the quality of the prediction. In that context, it’s not a surprice that the best entrepreneur are the one who are the better to anticipate the future.\n",
    "\n",
    "In this series of post, you will see how to use data to make sound predictions. First, you’ll learn how to use the fondamental R functions which will be used througout this seris and you'll verify the stationnarity of a time series."
   ]
  },
  {
   "cell_type": "markdown",
   "metadata": {
    "deletable": true,
    "editable": true
   },
   "source": [
    "Uncertainty is the biggest enemy of a profitable business. That is especially true of small business who don’t have enough resources to survive an unexpected diminution of revenue or to capitalize on a sudden increase of the demand. In this context, it is especially important to be able to predict accurately the change in the markets to be able to make better decision and stay competitive.\n",
    "\n",
    "This series of posts will teach you how to use data to make sound prediction. In this first set of exercises, you’ll learn the essential concepts we'll use throughout the series: how to use the fundamental R tools for time series analysis, how to verify if a time series is stationary and how to make prediction in that context."
   ]
  },
  {
   "cell_type": "markdown",
   "metadata": {
    "deletable": true,
    "editable": true
   },
   "source": [
    "To be able to do theses exercice, you have to have installed the packages \"forecast\" and \"tseries\". Also, use the data() function to load the \"treering\" dataset from the R library. "
   ]
  },
  {
   "cell_type": "code",
   "execution_count": 1,
   "metadata": {
    "collapsed": false,
    "deletable": true,
    "editable": true
   },
   "outputs": [
    {
     "name": "stderr",
     "output_type": "stream",
     "text": [
      "Installing package into 'E:/Users/Guillaume/Documents/R/win-library/3.2'\n",
      "(as 'lib' is unspecified)\n",
      "also installing the dependencies 'highr', 'markdown'\n",
      "\n"
     ]
    },
    {
     "name": "stdout",
     "output_type": "stream",
     "text": [
      "package 'highr' successfully unpacked and MD5 sums checked\n",
      "package 'markdown' successfully unpacked and MD5 sums checked\n",
      "package 'knitr' successfully unpacked and MD5 sums checked\n",
      "\n",
      "The downloaded binary packages are in\n",
      "\tC:\\Users\\Simon\\AppData\\Local\\Temp\\RtmpMdQKQs\\downloaded_packages\n"
     ]
    }
   ],
   "source": [
    "install.packages(\"knitr\", repos=\"http://cran.utstat.utoronto.ca/\")"
   ]
  },
  {
   "cell_type": "code",
   "execution_count": 195,
   "metadata": {
    "collapsed": false,
    "deletable": true,
    "editable": true
   },
   "outputs": [
    {
     "data": {},
     "metadata": {},
     "output_type": "display_data"
    }
   ],
   "source": [
    "library(help=\"datasets\") "
   ]
  },
  {
   "cell_type": "markdown",
   "metadata": {
    "deletable": true,
    "editable": true
   },
   "source": [
    "exercice 1 Use the data() function to load the \"treering\" dataset from the R library. This dataset is loaded as an R time series object which is a vector whose value are ordered chronologically. Look at the structure of this ts object and use another function to find the number of observations in the dataset."
   ]
  },
  {
   "cell_type": "code",
   "execution_count": 2,
   "metadata": {
    "collapsed": false,
    "deletable": true,
    "editable": true
   },
   "outputs": [
    {
     "name": "stdout",
     "output_type": "stream",
     "text": [
      " Time-Series [1:7980] from -6000 to 1979: 1.34 1.08 1.54 1.32 1.41 ...\n"
     ]
    },
    {
     "data": {
      "text/html": [
       "7980"
      ],
      "text/latex": [
       "7980"
      ],
      "text/markdown": [
       "7980"
      ],
      "text/plain": [
       "[1] 7980"
      ]
     },
     "metadata": {},
     "output_type": "display_data"
    }
   ],
   "source": [
    "data(treering)\n",
    "str(treering)\n",
    "length(treering)"
   ]
  },
  {
   "cell_type": "markdown",
   "metadata": {
    "deletable": true,
    "editable": true
   },
   "source": [
    "exercice 2 Use the function window(ts, start, end) to select the observations in the treering dataset from the year 1500 to the year 2000."
   ]
  },
  {
   "cell_type": "code",
   "execution_count": 3,
   "metadata": {
    "collapsed": false,
    "deletable": true,
    "editable": true
   },
   "outputs": [
    {
     "name": "stderr",
     "output_type": "stream",
     "text": [
      "Warning message in window.default(x, ...):\n",
      "\"'end' value not changed\""
     ]
    }
   ],
   "source": [
    "ts1 <- window(treering, start=1500, end=2000)"
   ]
  },
  {
   "cell_type": "markdown",
   "metadata": {
    "deletable": true,
    "editable": true
   },
   "source": [
    "exercice 3 Do a basic plot of the treering dataset and use the abline function to add an horizontal red line representing the mean of the dataset.    "
   ]
  },
  {
   "cell_type": "code",
   "execution_count": 4,
   "metadata": {
    "collapsed": false,
    "deletable": true,
    "editable": true
   },
   "outputs": [
    {
     "data": {
      "image/png": "[encoded data removed]",
      "text/plain": [
       "plot without title"
      ]
     },
     "metadata": {},
     "output_type": "display_data"
    }
   ],
   "source": [
    "plot(ts1)\n",
    "abline(a=mean(ts1),b=0, col = \"red\")\n"
   ]
  },
  {
   "cell_type": "markdown",
   "metadata": {
    "collapsed": false,
    "deletable": true,
    "editable": true
   },
   "source": [
    "Looking at the previous plot, we get the sense that these values are randomly distributed around the red line who represent the mean of the data set. Also the magnitude of the random fluctuation of the points seems to stay stable over time. Such a time series is called \"stationary\" and it is a propriety we prefer to observe in a time series when we want to make predictions.\n",
    "\n",
    "To make sure that the time series is stationary, we'll draw the autocorrelation plot and run the Box-Ljung test, Kwiatkowski-Phillips-Schmidt-Shin test and the Augmented Dickey–Fuller test on the dataset.\n",
    "\n",
    "Exercice 4 Load the \"forecast\" package and use the Acf function to draw the autocorrelation plot of the time series."
   ]
  },
  {
   "cell_type": "code",
   "execution_count": 5,
   "metadata": {
    "collapsed": false,
    "deletable": true,
    "editable": true
   },
   "outputs": [
    {
     "data": {
      "image/png": "[encoded data removed]",
      "text/plain": [
       "Plot with title \"Series  ts1\""
      ]
     },
     "metadata": {},
     "output_type": "display_data"
    }
   ],
   "source": [
    "library(\"forecast\")\n",
    "Acf(ts1)"
   ]
  },
  {
   "cell_type": "markdown",
   "metadata": {
    "deletable": true,
    "editable": true
   },
   "source": [
    "Exercice 5 Use the Box.test function to apply the Box-Ljung test on the data set. Set the parameter lag to the maximum value of Lag in the previous plot."
   ]
  },
  {
   "cell_type": "code",
   "execution_count": 6,
   "metadata": {
    "collapsed": false,
    "deletable": true,
    "editable": true
   },
   "outputs": [
    {
     "data": {
      "text/plain": [
       "\n",
       "\tBox-Ljung test\n",
       "\n",
       "data:  ts1\n",
       "X-squared = 88.25, df = 27, p-value = 2.004e-08\n"
      ]
     },
     "metadata": {},
     "output_type": "display_data"
    }
   ],
   "source": [
    "Box.test(ts1, lag=27, type=\"Ljung-Box\")"
   ]
  },
  {
   "cell_type": "markdown",
   "metadata": {
    "deletable": true,
    "editable": true
   },
   "source": [
    "Exercice 6 Load the \"tseries\" package and apply the Kwiatkowski-Phillips-Schmidt-Shin test by using the kpss.test function."
   ]
  },
  {
   "cell_type": "code",
   "execution_count": 9,
   "metadata": {
    "collapsed": false,
    "deletable": true,
    "editable": true
   },
   "outputs": [
    {
     "name": "stderr",
     "output_type": "stream",
     "text": [
      "Warning message in kpss.test(ts1, null = \"Level\"):\n",
      "\"p-value greater than printed p-value\""
     ]
    },
    {
     "data": {
      "text/plain": [
       "\n",
       "\tKPSS Test for Level Stationarity\n",
       "\n",
       "data:  ts1\n",
       "KPSS Level = 0.12394, Truncation lag parameter = 5, p-value = 0.1\n"
      ]
     },
     "metadata": {},
     "output_type": "display_data"
    }
   ],
   "source": [
    "library(\"tseries\")\n",
    "kpss.test(ts1, null=\"Level\")"
   ]
  },
  {
   "cell_type": "markdown",
   "metadata": {
    "deletable": true,
    "editable": true
   },
   "source": [
    "Exercice 7 Use the adf.test function to apply the Augmented Dickey–Fuller t-statistic test on the dataset. Set the argument \"alternative\" to \"stationary\"."
   ]
  },
  {
   "cell_type": "code",
   "execution_count": 14,
   "metadata": {
    "collapsed": false,
    "deletable": true,
    "editable": true
   },
   "outputs": [
    {
     "name": "stderr",
     "output_type": "stream",
     "text": [
      "Warning message in adf.test(ts1, alternative = \"stationary\"):\n",
      "\"p-value smaller than printed p-value\""
     ]
    },
    {
     "data": {
      "text/plain": [
       "\n",
       "\tAugmented Dickey-Fuller Test\n",
       "\n",
       "data:  ts1\n",
       "Dickey-Fuller = -6.4686, Lag order = 7, p-value = 0.01\n",
       "alternative hypothesis: stationary\n"
      ]
     },
     "metadata": {},
     "output_type": "display_data"
    }
   ],
   "source": [
    "adf.test(ts1, alternative=\"stationary\")"
   ]
  },
  {
   "cell_type": "markdown",
   "metadata": {
    "deletable": true,
    "editable": true
   },
   "source": [
    "Exercice 8 Use the Holt-Winters Filtering method to apply an exponential smoothing on the time series. Use the function HoltWinters with the parameters beta and gamma set to \"FALSE\" to select the exponential smoothing and start the function at the first observation of the dataset. Store the result in a variable named \"HW\"."
   ]
  },
  {
   "cell_type": "code",
   "execution_count": 15,
   "metadata": {
    "collapsed": false,
    "deletable": true,
    "editable": true
   },
   "outputs": [],
   "source": [
    "HW <-HoltWinters(ts1, beta=FALSE, gamma=FALSE, l.start=ts1[1])"
   ]
  },
  {
   "cell_type": "markdown",
   "metadata": {
    "deletable": true,
    "editable": true
   },
   "source": [
    "Exercice 9 With the forecast.HoltWinters function make prediction for the next 5 years, store the results in a variable named \"prediction\" and print them to the screen. "
   ]
  },
  {
   "cell_type": "code",
   "execution_count": 16,
   "metadata": {
    "collapsed": false,
    "deletable": true,
    "editable": true
   },
   "outputs": [
    {
     "data": {
      "text/plain": [
       "     Point Forecast     Lo 80    Hi 80     Lo 95    Hi 95\n",
       "1980       1.185992 0.8251861 1.546799 0.6341867 1.737798\n",
       "1981       1.185992 0.8155840 1.556401 0.6195016 1.752483\n",
       "1982       1.185992 0.8062246 1.565760 0.6051877 1.766797\n",
       "1983       1.185992 0.7970904 1.574894 0.5912182 1.780767\n",
       "1984       1.185992 0.7881659 1.583819 0.5775693 1.794415"
      ]
     },
     "metadata": {},
     "output_type": "display_data"
    }
   ],
   "source": [
    "prediction <- forecast.HoltWinters(HW, h=5)\n",
    "prediction"
   ]
  },
  {
   "cell_type": "markdown",
   "metadata": {
    "deletable": true,
    "editable": true
   },
   "source": [
    "Exercice 10 Use the plot.forecast function from the \"forecast\" package to plot your predictions."
   ]
  },
  {
   "cell_type": "code",
   "execution_count": 17,
   "metadata": {
    "collapsed": false,
    "deletable": true,
    "editable": true
   },
   "outputs": [
    {
     "data": {
      "image/png": "[encoded data removed]",
      "text/plain": [
       "Plot with title \"Forecasts from HoltWinters\""
      ]
     },
     "metadata": {},
     "output_type": "display_data"
    }
   ],
   "source": [
    "plot.forecast(prediction)"
   ]
  },
  {
   "cell_type": "code",
   "execution_count": 5,
   "metadata": {
    "collapsed": false,
    "deletable": true,
    "editable": true
   },
   "outputs": [],
   "source": [
    "library(\"ggplot2\")\n",
    "data(EuStockMarkets)"
   ]
  },
  {
   "cell_type": "code",
   "execution_count": 35,
   "metadata": {
    "collapsed": false,
    "deletable": true,
    "editable": true
   },
   "outputs": [
    {
     "data": {
      "text/html": [
       "<table>\n",
       "<thead><tr><th scope=col>Date</th><th scope=col>Price</th></tr></thead>\n",
       "<tbody>\n",
       "\t<tr><td>1991.496</td><td>1628.75 </td></tr>\n",
       "\t<tr><td>1991.500</td><td>1613.63 </td></tr>\n",
       "\t<tr><td>1991.504</td><td>1606.51 </td></tr>\n",
       "\t<tr><td>1991.508</td><td>1621.04 </td></tr>\n",
       "\t<tr><td>1991.512</td><td>1618.16 </td></tr>\n",
       "\t<tr><td>1991.515</td><td>1610.61 </td></tr>\n",
       "</tbody>\n",
       "</table>\n"
      ],
      "text/latex": [
       "\\begin{tabular}{r|ll}\n",
       " Date & Price\\\\\n",
       "\\hline\n",
       "\t 1991.496 & 1628.75 \\\\\n",
       "\t 1991.500 & 1613.63 \\\\\n",
       "\t 1991.504 & 1606.51 \\\\\n",
       "\t 1991.508 & 1621.04 \\\\\n",
       "\t 1991.512 & 1618.16 \\\\\n",
       "\t 1991.515 & 1610.61 \\\\\n",
       "\\end{tabular}\n"
      ],
      "text/markdown": [
       "\n",
       "Date | Price | \n",
       "|---|---|---|---|---|---|\n",
       "| 1991.496 | 1628.75  | \n",
       "| 1991.500 | 1613.63  | \n",
       "| 1991.504 | 1606.51  | \n",
       "| 1991.508 | 1621.04  | \n",
       "| 1991.512 | 1618.16  | \n",
       "| 1991.515 | 1610.61  | \n",
       "\n",
       "\n"
      ],
      "text/plain": [
       "  Date     Price  \n",
       "1 1991.496 1628.75\n",
       "2 1991.500 1613.63\n",
       "3 1991.504 1606.51\n",
       "4 1991.508 1621.04\n",
       "5 1991.512 1618.16\n",
       "6 1991.515 1610.61"
      ]
     },
     "metadata": {},
     "output_type": "display_data"
    }
   ],
   "source": [
    "df<-data.frame(Date=as.numeric(time(EuStockMarkets[,1])),Price=as.matrix(EuStockMarkets[,1]))\n",
    "head(df)"
   ]
  },
  {
   "cell_type": "code",
   "execution_count": 20,
   "metadata": {
    "collapsed": false,
    "deletable": true,
    "editable": true
   },
   "outputs": [
    {
     "name": "stdout",
     "output_type": "stream",
     "text": [
      "'data.frame':\t1860 obs. of  2 variables:\n",
      " $ Date : num  1991 1992 1992 1992 1992 ...\n",
      " $ Price: num  1629 1614 1607 1621 1618 ...\n"
     ]
    }
   ],
   "source": [
    "str(df)"
   ]
  },
  {
   "cell_type": "code",
   "execution_count": 61,
   "metadata": {
    "collapsed": false,
    "deletable": true,
    "editable": true
   },
   "outputs": [
    {
     "name": "stderr",
     "output_type": "stream",
     "text": [
      "`geom_smooth()` using method = 'gam'\n"
     ]
    },
    {
     "data": {},
     "metadata": {},
     "output_type": "display_data"
    },
    {
     "data": {
      "image/png": "[encoded data removed]",
      "text/plain": [
       "plot without title"
      ]
     },
     "metadata": {},
     "output_type": "display_data"
    }
   ],
   "source": [
    "ggplot(df, aes(Date, Price)) + geom_point()+ geom_smooth(color=\"red\")+geom_smooth(method = \"lm\")+ ggtitle(\"Daily closing prices of the DAX index\")+theme(plot.title = element_text(hjust = 0.5))\n"
   ]
  },
  {
   "cell_type": "markdown",
   "metadata": {
    "deletable": true,
    "editable": true
   },
   "source": [
    "Exercice 4 Load the \"EuStockMarkets\" time serie, plot it and mark the mean of the data set with a red line. Add a blue trend line to the plot by using the lowess() function as an argument to the lines function."
   ]
  },
  {
   "cell_type": "code",
   "execution_count": 223,
   "metadata": {
    "collapsed": false,
    "deletable": true,
    "editable": true
   },
   "outputs": [
    {
     "name": "stdout",
     "output_type": "stream",
     "text": [
      " mts [1:1860, 1:4] 1629 1614 1607 1621 1618 ...\n",
      " - attr(*, \"dimnames\")=List of 2\n",
      "  ..$ : NULL\n",
      "  ..$ : chr [1:4] \"DAX\" \"SMI\" \"CAC\" \"FTSE\"\n",
      " - attr(*, \"tsp\")= num [1:3] 1991 1999 260\n",
      " - attr(*, \"class\")= chr [1:3] \"mts\" \"ts\" \"matrix\"\n"
     ]
    },
    {
     "data": {
      "image/png": "[encoded data removed]",
      "text/plain": [
       "plot without title"
      ]
     },
     "metadata": {},
     "output_type": "display_data"
    }
   ],
   "source": [
    "data(EuStockMarkets)\n",
    "str(EuStockMarkets)\n",
    "plot(EuStockMarkets[,1])\n",
    "abline(a=mean(EuStockMarkets[,1]),b=0, col = \"red\")\n",
    "lines(lowess(EuStockMarkets[,1]), col = \"blue\")\n"
   ]
  },
  {
   "cell_type": "code",
   "execution_count": 185,
   "metadata": {
    "collapsed": false,
    "deletable": true,
    "editable": true
   },
   "outputs": [
    {
     "name": "stdout",
     "output_type": "stream",
     "text": [
      " mts [1:1860, 1:4] 1629 1614 1607 1621 1618 ...\n",
      " - attr(*, \"dimnames\")=List of 2\n",
      "  ..$ : NULL\n",
      "  ..$ : chr [1:4] \"DAX\" \"SMI\" \"CAC\" \"FTSE\"\n",
      " - attr(*, \"tsp\")= num [1:3] 1991 1999 260\n",
      " - attr(*, \"class\")= chr [1:3] \"mts\" \"ts\" \"matrix\"\n"
     ]
    },
    {
     "name": "stderr",
     "output_type": "stream",
     "text": [
      "Warning message in window.default(x, ...):\n",
      "\"'end' value not changed\""
     ]
    },
    {
     "data": {
      "image/png": "[encoded data removed]",
      "text/plain": [
       "plot without title"
      ]
     },
     "metadata": {},
     "output_type": "display_data"
    }
   ],
   "source": []
  },
  {
   "cell_type": "code",
   "execution_count": 52,
   "metadata": {
    "collapsed": true,
    "deletable": true,
    "editable": true
   },
   "outputs": [],
   "source": []
  },
  {
   "cell_type": "code",
   "execution_count": 53,
   "metadata": {
    "collapsed": false,
    "deletable": true,
    "editable": true
   },
   "outputs": [
    {
     "name": "stdout",
     "output_type": "stream",
     "text": [
      " Time-Series [1:192] from 1969 to 1985: 1687 1508 1507 1385 1632 ...\n"
     ]
    }
   ],
   "source": []
  },
  {
   "cell_type": "code",
   "execution_count": 193,
   "metadata": {
    "collapsed": false,
    "deletable": true,
    "editable": true
   },
   "outputs": [
    {
     "data": {
      "image/png": "[encoded data removed]",
      "text/plain": [
       "plot without title"
      ]
     },
     "metadata": {},
     "output_type": "display_data"
    }
   ],
   "source": [
    "data(LakeHuron)\n",
    "plot(LakeHuron)\n",
    "lines(lowess(LakeHuron), col = \"blue\")"
   ]
  },
  {
   "cell_type": "code",
   "execution_count": 192,
   "metadata": {
    "collapsed": false,
    "deletable": true,
    "editable": true
   },
   "outputs": [
    {
     "data": {
      "image/png": "[encoded data removed]",
      "text/plain": [
       "plot without title"
      ]
     },
     "metadata": {},
     "output_type": "display_data"
    }
   ],
   "source": [
    "data(USAccDeaths)\n",
    "str(USAccDeaths)\n",
    "plot(USAccDeaths)\n",
    "lines(lowess(USAccDeaths), col = \"blue\")"
   ]
  },
  {
   "cell_type": "code",
   "execution_count": 187,
   "metadata": {
    "collapsed": false,
    "deletable": true,
    "editable": true
   },
   "outputs": [
    {
     "name": "stdout",
     "output_type": "stream",
     "text": [
      " Time-Series [1:192] from 1969 to 1985: 1687 1508 1507 1385 1632 ...\n"
     ]
    },
    {
     "data": {
      "image/png": "[encoded data removed]",
      "text/plain": [
       "plot without title"
      ]
     },
     "metadata": {},
     "output_type": "display_data"
    }
   ],
   "source": [
    "data(UKDriverDeaths)\n",
    "str(UKDriverDeaths)\n",
    "plot(UKDriverDeaths)\n",
    "lines(lowess(UKDriverDeaths), col = \"blue\")"
   ]
  },
  {
   "cell_type": "code",
   "execution_count": 26,
   "metadata": {
    "collapsed": false,
    "deletable": true,
    "editable": true
   },
   "outputs": [],
   "source": []
  },
  {
   "cell_type": "code",
   "execution_count": 27,
   "metadata": {
    "collapsed": false,
    "deletable": true,
    "editable": true
   },
   "outputs": [
    {
     "name": "stdout",
     "output_type": "stream",
     "text": [
      " Time-Series [1:240] from 1920 to 1940: 40.6 40.8 44.4 46.7 54.1 58.5 57.7 56.4 54.3 50.5 ...\n"
     ]
    }
   ],
   "source": []
  },
  {
   "cell_type": "code",
   "execution_count": 188,
   "metadata": {
    "collapsed": false,
    "deletable": true,
    "editable": true
   },
   "outputs": [
    {
     "name": "stdout",
     "output_type": "stream",
     "text": [
      " Time-Series [1:240] from 1920 to 1940: 40.6 40.8 44.4 46.7 54.1 58.5 57.7 56.4 54.3 50.5 ...\n"
     ]
    },
    {
     "data": {
      "image/png": "[encoded data removed]",
      "text/plain": [
       "plot without title"
      ]
     },
     "metadata": {},
     "output_type": "display_data"
    }
   ],
   "source": [
    "data(nottem)\n",
    "str(nottem)\n",
    "plot(nottem)\n",
    "abline(a=mean(nottem),b=0, col = \"red\")\n",
    "lines(lowess(nottem), col = \"blue\")"
   ]
  },
  {
   "cell_type": "code",
   "execution_count": 35,
   "metadata": {
    "collapsed": true,
    "deletable": true,
    "editable": true
   },
   "outputs": [],
   "source": []
  },
  {
   "cell_type": "code",
   "execution_count": 36,
   "metadata": {
    "collapsed": false,
    "deletable": true,
    "editable": true
   },
   "outputs": [
    {
     "name": "stdout",
     "output_type": "stream",
     "text": [
      " Time-Series [1:468] from 1959 to 1998: 315 316 316 318 318 ...\n"
     ]
    }
   ],
   "source": []
  },
  {
   "cell_type": "code",
   "execution_count": 189,
   "metadata": {
    "collapsed": false,
    "deletable": true,
    "editable": true
   },
   "outputs": [
    {
     "name": "stdout",
     "output_type": "stream",
     "text": [
      " Time-Series [1:468] from 1959 to 1998: 315 316 316 318 318 ...\n"
     ]
    },
    {
     "data": {
      "image/png": "[encoded data removed]",
      "text/plain": [
       "plot without title"
      ]
     },
     "metadata": {},
     "output_type": "display_data"
    }
   ],
   "source": [
    "data(co2)\n",
    "str(co2)\n",
    "plot(co2)\n",
    "lines(lowess(co2), col = \"blue\")"
   ]
  },
  {
   "cell_type": "code",
   "execution_count": 191,
   "metadata": {
    "collapsed": false,
    "deletable": true,
    "editable": true
   },
   "outputs": [
    {
     "name": "stdout",
     "output_type": "stream",
     "text": [
      " Time-Series [1:108] from 1960 to 1987: 160.1 129.7 84.8 120.1 160.1 ...\n"
     ]
    },
    {
     "data": {
      "image/png": "[encoded data removed]",
      "text/plain": [
       "plot without title"
      ]
     },
     "metadata": {},
     "output_type": "display_data"
    }
   ],
   "source": [
    "data(UKgas)\n",
    "str(UKgas)\n",
    "plot(UKgas)\n",
    "lines(lowess(UKgas), col = \"blue\")"
   ]
  },
  {
   "cell_type": "code",
   "execution_count": 58,
   "metadata": {
    "collapsed": true,
    "deletable": true,
    "editable": true
   },
   "outputs": [],
   "source": []
  },
  {
   "cell_type": "code",
   "execution_count": 59,
   "metadata": {
    "collapsed": false,
    "deletable": true,
    "editable": true
   },
   "outputs": [
    {
     "name": "stdout",
     "output_type": "stream",
     "text": [
      " Time-Series [1:72] from 1973 to 1979: 9007 8106 8928 9137 10017 ...\n"
     ]
    }
   ],
   "source": []
  },
  {
   "cell_type": "code",
   "execution_count": 61,
   "metadata": {
    "collapsed": true,
    "deletable": true,
    "editable": true
   },
   "outputs": [],
   "source": []
  },
  {
   "cell_type": "code",
   "execution_count": 62,
   "metadata": {
    "collapsed": false,
    "deletable": true,
    "editable": true
   },
   "outputs": [
    {
     "name": "stdout",
     "output_type": "stream",
     "text": [
      " Time-Series [1:98] from 1875 to 1972: 580 582 581 581 580 ...\n"
     ]
    }
   ],
   "source": [
    "str(LakeHuron)"
   ]
  },
  {
   "cell_type": "code",
   "execution_count": null,
   "metadata": {
    "collapsed": true,
    "deletable": true,
    "editable": true
   },
   "outputs": [],
   "source": []
  },
  {
   "cell_type": "markdown",
   "metadata": {
    "deletable": true,
    "editable": true
   },
   "source": [
    "Mean variation: https://datamarket.com/data/set/22tl/annual-water-use-in-new-york-city-litres-per-capita-per-day-1898-1968#!ds=22tl&display=line\n"
   ]
  },
  {
   "cell_type": "markdown",
   "metadata": {
    "deletable": true,
    "editable": true
   },
   "source": [
    "Polynominal : https://datamarket.com/data/set/2322/ibm-common-stock-closing-prices-daily-17th-may-1961-2nd-november-1962#!ds=2322&display=line\n"
   ]
  },
  {
   "cell_type": "markdown",
   "metadata": {
    "deletable": true,
    "editable": true
   },
   "source": [
    "Saisonality https://datamarket.com/data/list/?q=provider:tsdl\n"
   ]
  },
  {
   "cell_type": "markdown",
   "metadata": {
    "deletable": true,
    "editable": true
   },
   "source": [
    "Saisonality+mean variation https://datamarket.com/data/set/22v1/co2-ppm-mauna-loa-1965-1980#!ds=22v1&display=line"
   ]
  }
 ],
 "metadata": {
  "kernelspec": {
   "display_name": "R",
   "language": "R",
   "name": "ir"
  },
  "language_info": {
   "codemirror_mode": "r",
   "file_extension": ".r",
   "mimetype": "text/x-r-source",
   "name": "R",
   "pygments_lexer": "r",
   "version": "3.3.2"
  }
 },
 "nbformat": 4,
 "nbformat_minor": 2
}
