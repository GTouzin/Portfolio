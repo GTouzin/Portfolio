{
 "cells": [
  {
   "cell_type": "markdown",
   "metadata": {},
   "source": [
    "# Creating a AI producer or: How I Learn to Stop Worrying and Love box office Bomb"
   ]
  },
  {
   "cell_type": "markdown",
   "metadata": {},
   "source": [
    "If you love the movie, you have probably seen a trailer for a new blockbuster in the past and ask yourself \"Why would someone spend 100 million dollars to make such a stupid movie?\". For me, the last time this happens is when I heard of the existence of the \"Baywatch\" movie. I mean nobody wanted to watch a \"Baywatch\" movie; no director could possibly have dreamed of making a \"Baywatch\" movie. So what happened? There's probably a producer who's been sitting on that script for years now and Zack Efron had bills to pay. Maybe Dwayne \"the Rock\" Johnson saw that and thought \"Hey, I like to have a new house and I'm free for two months between shooting \"The Fast and the Furious 8\" and \"Jumanji 2\"! I should be in this movie!\". Then a studio executive talked with the producer and taught something like \"It's an IP known by the public, there's two names we can put on the poster and we have a reason to put girls in bikini in the trailers... That could do 80 million at the box-office!\". Then the movie got green lit... and will probably fail.\n",
    "\n",
    "For every stupid movie made, there's always a weird commercial logic, who's been used to justify the investment and this logic is often based on hype, rumour and other subjective considerations. What if we used hard data to predict the success of a movie? Would we be more successful that a producer or the movie goers are so unpredictable that only a good judge the zeitgeist can predict if a movie will be successful.\n",
    "\n",
    "In this project, I will use a data set of 5000 movies, scrape from IMDB by https://www.kaggle.com/deepmatrix, to try to predict if a movie will make money at the box-office by looking at his cast, his director and others key characteristics. The project is divided in three sections: the first one, this article, explain my process for cleaning and getting the data; in the second one, I explore the data by looking at the distribution of the variables and the relations between them; in the third one, I test some statistical model with the objective to predict the revenue of a movie with the information available before the release of the movie.\n",
    "\n",
    "You can find the dataset here: https://www.kaggle.com/deepmatrix/imdb-5000-movie-dataset.  "
   ]
  },
  {
   "cell_type": "markdown",
   "metadata": {},
   "source": [
    "# Loading data"
   ]
  },
  {
   "cell_type": "markdown",
   "metadata": {},
   "source": [
    "First of all, I load the library that I will use in that notebook."
   ]
  },
  {
   "cell_type": "code",
   "execution_count": 35,
   "metadata": {
    "collapsed": false
   },
   "outputs": [
    {
     "name": "stderr",
     "output_type": "stream",
     "text": [
      "------------------------------------------------------------------------------\n",
      "data.table + dplyr code now lives in dtplyr.\n",
      "Please library(dtplyr)!\n",
      "------------------------------------------------------------------------------\n",
      "\n",
      "Attaching package: 'dplyr'\n",
      "\n",
      "The following objects are masked from 'package:data.table':\n",
      "\n",
      "    between, last\n",
      "\n",
      "The following objects are masked from 'package:stats':\n",
      "\n",
      "    filter, lag\n",
      "\n",
      "The following objects are masked from 'package:base':\n",
      "\n",
      "    intersect, setdiff, setequal, union\n",
      "\n"
     ]
    }
   ],
   "source": [
    "#library(ggplot2)\n",
    "library(dplyr)\n",
    "library(data.table)\n",
    "#library(plotly)\n",
    "#library(formattable)\n",
    "library(bit64)"
   ]
  },
  {
   "cell_type": "markdown",
   "metadata": {},
   "source": [
    "After I load the data in the data frame \"movies\", I look at the first five rows of the table  to get a sense of the data and at the list of the variables."
   ]
  },
  {
   "cell_type": "code",
   "execution_count": 438,
   "metadata": {
    "collapsed": false
   },
   "outputs": [],
   "source": [
    "movies <- fread(\"movie_metadata2.csv\",stringsAsFactors = F)"
   ]
  },
  {
   "cell_type": "code",
   "execution_count": 439,
   "metadata": {
    "collapsed": false
   },
   "outputs": [
    {
     "data": {
      "text/html": [
       "<table>\n",
       "<thead><tr><th scope=col>color</th><th scope=col>director_name</th><th scope=col>num_critic_for_reviews</th><th scope=col>duration</th><th scope=col>director_facebook_likes</th><th scope=col>actor_3_facebook_likes</th><th scope=col>actor_2_name</th><th scope=col>actor_1_facebook_likes</th><th scope=col>gross</th><th scope=col>genres</th><th scope=col>...</th><th scope=col>num_user_for_reviews</th><th scope=col>language</th><th scope=col>country</th><th scope=col>content_rating</th><th scope=col>budget</th><th scope=col>title_year</th><th scope=col>actor_2_facebook_likes</th><th scope=col>imdb_score</th><th scope=col>aspect_ratio</th><th scope=col>movie_facebook_likes;</th></tr></thead>\n",
       "<tbody>\n",
       "\t<tr><td>Color                          </td><td>James Cameron                  </td><td>723                            </td><td>178                            </td><td>    0                          </td><td>  855                          </td><td>Joel David Moore               </td><td> 1000                          </td><td>760505847                      </td><td>Action|Adventure|Fantasy|Sci-Fi</td><td>...                            </td><td>3054                           </td><td>English                        </td><td>USA                            </td><td>PG-13                          </td><td>237000000                      </td><td>2009                           </td><td>  936                          </td><td>7.9                            </td><td>1.78                           </td><td>33000;                         </td></tr>\n",
       "\t<tr><td>Color                          </td><td>Gore Verbinski                 </td><td>302                            </td><td>169                            </td><td>  563                          </td><td> 1000                          </td><td>Orlando Bloom                  </td><td>40000                          </td><td>309404152                      </td><td>Action|Adventure|Fantasy       </td><td>...                            </td><td>1238                           </td><td>English                        </td><td>USA                            </td><td>PG-13                          </td><td>300000000                      </td><td>2007                           </td><td> 5000                          </td><td>7.1                            </td><td>2.35                           </td><td>0;                             </td></tr>\n",
       "\t<tr><td>Color                          </td><td>Sam Mendes                     </td><td>602                            </td><td>148                            </td><td>    0                          </td><td>  161                          </td><td>Rory Kinnear                   </td><td>11000                          </td><td>200074175                      </td><td>Action|Adventure|Thriller      </td><td>...                            </td><td> 994                           </td><td>English                        </td><td>UK                             </td><td>PG-13                          </td><td>245000000                      </td><td>2015                           </td><td>  393                          </td><td>6.8                            </td><td>2.35                           </td><td>85000;                         </td></tr>\n",
       "\t<tr><td>Color                          </td><td>Christopher Nolan              </td><td>813                            </td><td>164                            </td><td>22000                          </td><td>23000                          </td><td>Christian Bale                 </td><td>27000                          </td><td>448130642                      </td><td>Action|Thriller                </td><td>...                            </td><td>2701                           </td><td>English                        </td><td>USA                            </td><td>PG-13                          </td><td>250000000                      </td><td>2012                           </td><td>23000                          </td><td>8.5                            </td><td>2.35                           </td><td>164000;                        </td></tr>\n",
       "\t<tr><td>                               </td><td>Doug Walker                    </td><td> NA                            </td><td> NA                            </td><td>  131                          </td><td>   NA                          </td><td>Rob Walker                     </td><td>  131                          </td><td>       NA                      </td><td>Documentary                    </td><td>...                            </td><td>  NA                           </td><td>                               </td><td>                               </td><td>                               </td><td>       NA                      </td><td>  NA                           </td><td>   12                          </td><td>7.1                            </td><td>  NA                           </td><td>0;                             </td></tr>\n",
       "\t<tr><td>Color                          </td><td>Andrew Stanton                 </td><td>462                            </td><td>132                            </td><td>  475                          </td><td>  530                          </td><td>Samantha Morton                </td><td>  640                          </td><td> 73058679                      </td><td>Action|Adventure|Sci-Fi        </td><td>...                            </td><td> 738                           </td><td>English                        </td><td>USA                            </td><td>PG-13                          </td><td>263700000                      </td><td>2012                           </td><td>  632                          </td><td>6.6                            </td><td>2.35                           </td><td>24000;                         </td></tr>\n",
       "</tbody>\n",
       "</table>\n"
      ],
      "text/latex": [
       "\\begin{tabular}{r|llllllllllllllllllllllllllll}\n",
       " color & director\\_name & num\\_critic\\_for\\_reviews & duration & director\\_facebook\\_likes & actor\\_3\\_facebook\\_likes & actor\\_2\\_name & actor\\_1\\_facebook\\_likes & gross & genres & ... & num\\_user\\_for\\_reviews & language & country & content\\_rating & budget & title\\_year & actor\\_2\\_facebook\\_likes & imdb\\_score & aspect\\_ratio & movie\\_facebook\\_likes;\\\\\n",
       "\\hline\n",
       "\t Color                                                         & James Cameron                                                 & 723                                                           & 178                                                           &     0                                                         &   855                                                         & Joel David Moore                                              &  1000                                                         & 760505847                                                     & Action\\textbar{}Adventure\\textbar{}Fantasy\\textbar{}Sci-Fi & ...                                                           & 3054                                                          & English                                                       & USA                                                           & PG-13                                                         & 237000000                                                     & 2009                                                          &   936                                                         & 7.9                                                           & 1.78                                                          & 33000;                                                       \\\\\n",
       "\t Color                                               & Gore Verbinski                                      & 302                                                 & 169                                                 &   563                                               &  1000                                               & Orlando Bloom                                       & 40000                                               & 309404152                                           & Action\\textbar{}Adventure\\textbar{}Fantasy        & ...                                                 & 1238                                                & English                                             & USA                                                 & PG-13                                               & 300000000                                           & 2007                                                &  5000                                               & 7.1                                                 & 2.35                                                & 0;                                                 \\\\\n",
       "\t Color                                               & Sam Mendes                                          & 602                                                 & 148                                                 &     0                                               &   161                                               & Rory Kinnear                                        & 11000                                               & 200074175                                           & Action\\textbar{}Adventure\\textbar{}Thriller       & ...                                                 &  994                                                & English                                             & UK                                                  & PG-13                                               & 245000000                                           & 2015                                                &   393                                               & 6.8                                                 & 2.35                                                & 85000;                                             \\\\\n",
       "\t Color                                     & Christopher Nolan                         & 813                                       & 164                                       & 22000                                     & 23000                                     & Christian Bale                            & 27000                                     & 448130642                                 & Action\\textbar{}Thriller                 & ...                                       & 2701                                      & English                                   & USA                                       & PG-13                                     & 250000000                                 & 2012                                      & 23000                                     & 8.5                                       & 2.35                                      & 164000;                                  \\\\\n",
       "\t                                 & Doug Walker                     &  NA                             &  NA                             &   131                           &    NA                           & Rob Walker                      &   131                           &        NA                       & Documentary                     & ...                             &   NA                            &                                 &                                 &                                 &        NA                       &   NA                            &    12                           & 7.1                             &   NA                            & 0;                             \\\\\n",
       "\t Color                                               & Andrew Stanton                                      & 462                                                 & 132                                                 &   475                                               &   530                                               & Samantha Morton                                     &   640                                               &  73058679                                           & Action\\textbar{}Adventure\\textbar{}Sci-Fi         & ...                                                 &  738                                                & English                                             & USA                                                 & PG-13                                               & 263700000                                           & 2012                                                &   632                                               & 6.6                                                 & 2.35                                                & 24000;                                             \\\\\n",
       "\\end{tabular}\n"
      ],
      "text/markdown": [
       "\n",
       "color | director_name | num_critic_for_reviews | duration | director_facebook_likes | actor_3_facebook_likes | actor_2_name | actor_1_facebook_likes | gross | genres | ... | num_user_for_reviews | language | country | content_rating | budget | title_year | actor_2_facebook_likes | imdb_score | aspect_ratio | movie_facebook_likes; | \n",
       "|---|---|---|---|---|---|\n",
       "| Color                           | James Cameron                   | 723                             | 178                             |     0                           |   855                           | Joel David Moore                |  1000                           | 760505847                       | Action|Adventure|Fantasy|Sci-Fi | ...                             | 3054                            | English                         | USA                             | PG-13                           | 237000000                       | 2009                            |   936                           | 7.9                             | 1.78                            | 33000;                          | \n",
       "| Color                           | Gore Verbinski                  | 302                             | 169                             |   563                           |  1000                           | Orlando Bloom                   | 40000                           | 309404152                       | Action|Adventure|Fantasy        | ...                             | 1238                            | English                         | USA                             | PG-13                           | 300000000                       | 2007                            |  5000                           | 7.1                             | 2.35                            | 0;                              | \n",
       "| Color                           | Sam Mendes                      | 602                             | 148                             |     0                           |   161                           | Rory Kinnear                    | 11000                           | 200074175                       | Action|Adventure|Thriller       | ...                             |  994                            | English                         | UK                              | PG-13                           | 245000000                       | 2015                            |   393                           | 6.8                             | 2.35                            | 85000;                          | \n",
       "| Color                           | Christopher Nolan               | 813                             | 164                             | 22000                           | 23000                           | Christian Bale                  | 27000                           | 448130642                       | Action|Thriller                 | ...                             | 2701                            | English                         | USA                             | PG-13                           | 250000000                       | 2012                            | 23000                           | 8.5                             | 2.35                            | 164000;                         | \n",
       "|                                 | Doug Walker                     |  NA                             |  NA                             |   131                           |    NA                           | Rob Walker                      |   131                           |        NA                       | Documentary                     | ...                             |   NA                            |                                 |                                 |                                 |        NA                       |   NA                            |    12                           | 7.1                             |   NA                            | 0;                              | \n",
       "| Color                           | Andrew Stanton                  | 462                             | 132                             |   475                           |   530                           | Samantha Morton                 |   640                           |  73058679                       | Action|Adventure|Sci-Fi         | ...                             |  738                            | English                         | USA                             | PG-13                           | 263700000                       | 2012                            |   632                           | 6.6                             | 2.35                            | 24000;                          | \n",
       "\n",
       "\n"
      ],
      "text/plain": [
       "  color director_name     num_critic_for_reviews duration\n",
       "1 Color James Cameron     723                    178     \n",
       "2 Color Gore Verbinski    302                    169     \n",
       "3 Color Sam Mendes        602                    148     \n",
       "4 Color Christopher Nolan 813                    164     \n",
       "5       Doug Walker        NA                     NA     \n",
       "6 Color Andrew Stanton    462                    132     \n",
       "  director_facebook_likes actor_3_facebook_likes actor_2_name    \n",
       "1     0                     855                  Joel David Moore\n",
       "2   563                    1000                  Orlando Bloom   \n",
       "3     0                     161                  Rory Kinnear    \n",
       "4 22000                   23000                  Christian Bale  \n",
       "5   131                      NA                  Rob Walker      \n",
       "6   475                     530                  Samantha Morton \n",
       "  actor_1_facebook_likes gross     genres                          ...\n",
       "1  1000                  760505847 Action|Adventure|Fantasy|Sci-Fi ...\n",
       "2 40000                  309404152 Action|Adventure|Fantasy        ...\n",
       "3 11000                  200074175 Action|Adventure|Thriller       ...\n",
       "4 27000                  448130642 Action|Thriller                 ...\n",
       "5   131                         NA Documentary                     ...\n",
       "6   640                   73058679 Action|Adventure|Sci-Fi         ...\n",
       "  num_user_for_reviews language country content_rating budget    title_year\n",
       "1 3054                 English  USA     PG-13          237000000 2009      \n",
       "2 1238                 English  USA     PG-13          300000000 2007      \n",
       "3  994                 English  UK      PG-13          245000000 2015      \n",
       "4 2701                 English  USA     PG-13          250000000 2012      \n",
       "5   NA                                                        NA   NA      \n",
       "6  738                 English  USA     PG-13          263700000 2012      \n",
       "  actor_2_facebook_likes imdb_score aspect_ratio movie_facebook_likes;\n",
       "1   936                  7.9        1.78         33000;               \n",
       "2  5000                  7.1        2.35         0;                   \n",
       "3   393                  6.8        2.35         85000;               \n",
       "4 23000                  8.5        2.35         164000;              \n",
       "5    12                  7.1          NA         0;                   \n",
       "6   632                  6.6        2.35         24000;               "
      ]
     },
     "metadata": {},
     "output_type": "display_data"
    }
   ],
   "source": [
    "head(movies)"
   ]
  },
  {
   "cell_type": "code",
   "execution_count": 440,
   "metadata": {
    "collapsed": false
   },
   "outputs": [
    {
     "name": "stdout",
     "output_type": "stream",
     "text": [
      "Classes 'data.table' and 'data.frame':\t5043 obs. of  28 variables:\n",
      " $ color                    : chr  \"Color\" \"Color\" \"Color\" \"Color\" ...\n",
      " $ director_name            : chr  \"James Cameron\" \"Gore Verbinski\" \"Sam Mendes\" \"Christopher Nolan\" ...\n",
      " $ num_critic_for_reviews   : int  723 302 602 813 NA 462 392 324 635 375 ...\n",
      " $ duration                 : int  178 169 148 164 NA 132 156 100 141 153 ...\n",
      " $ director_facebook_likes  : int  0 563 0 22000 131 475 0 15 0 282 ...\n",
      " $ actor_3_facebook_likes   : int  855 1000 161 23000 NA 530 4000 284 19000 10000 ...\n",
      " $ actor_2_name             : chr  \"Joel David Moore\" \"Orlando Bloom\" \"Rory Kinnear\" \"Christian Bale\" ...\n",
      " $ actor_1_facebook_likes   : int  1000 40000 11000 27000 131 640 24000 799 26000 25000 ...\n",
      " $ gross                    : int  760505847 309404152 200074175 448130642 NA 73058679 336530303 200807262 458991599 301956980 ...\n",
      " $ genres                   : chr  \"Action|Adventure|Fantasy|Sci-Fi\" \"Action|Adventure|Fantasy\" \"Action|Adventure|Thriller\" \"Action|Thriller\" ...\n",
      " $ actor_1_name             : chr  \"CCH Pounder\" \"Johnny Depp\" \"Christoph Waltz\" \"Tom Hardy\" ...\n",
      " $ movie_title              : chr  \"AvatarÂ\" \"Pirates of the Caribbean: At World's End \" \"SpectreÂ\" \"The Dark Knight RisesÂ\" ...\n",
      " $ num_voted_users          : int  886204 471220 275868 1144337 8 212204 383056 294810 462669 321795 ...\n",
      " $ cast_total_facebook_likes: int  4834 48350 11700 106759 143 1873 46055 2036 92000 58753 ...\n",
      " $ actor_3_name             : chr  \"Wes Studi\" \"Jack Davenport\" \"Stephanie Sigman\" \"Joseph Gordon-Levitt\" ...\n",
      " $ facenumber_in_poster     : int  0 0 1 0 0 1 0 1 4 3 ...\n",
      " $ plot_keywords            : chr  \"avatar|future|marine|native|paraplegic\" \"goddess|marriage ceremony|marriage proposal|pirate|singapore\" \"bomb|espionage|sequel|spy|terrorist\" \"deception|imprisonment|lawlessness|police officer|terrorist plot\" ...\n",
      " $ movie_imdb_link          : chr  \"http://www.imdb.com/title/tt0499549/?ref_=fn_tt_tt_1\" \"http://www.imdb.com/title/tt0449088/?ref_=fn_tt_tt_1\" \"http://www.imdb.com/title/tt2379713/?ref_=fn_tt_tt_1\" \"http://www.imdb.com/title/tt1345836/?ref_=fn_tt_tt_1\" ...\n",
      " $ num_user_for_reviews     : int  3054 1238 994 2701 NA 738 1902 387 1117 973 ...\n",
      " $ language                 : chr  \"English\" \"English\" \"English\" \"English\" ...\n",
      " $ country                  : chr  \"USA\" \"USA\" \"UK\" \"USA\" ...\n",
      " $ content_rating           : chr  \"PG-13\" \"PG-13\" \"PG-13\" \"PG-13\" ...\n",
      " $ budget                   :Class 'integer64'  num [1:5043] 1.17e-315 1.48e-315 1.21e-315 1.24e-315 0.00 ...\n",
      " $ title_year               : int  2009 2007 2015 2012 NA 2012 2007 2010 2015 2009 ...\n",
      " $ actor_2_facebook_likes   : int  936 5000 393 23000 12 632 11000 553 21000 11000 ...\n",
      " $ imdb_score               : num  7.9 7.1 6.8 8.5 7.1 6.6 6.2 7.8 7.5 7.5 ...\n",
      " $ aspect_ratio             : num  1.78 2.35 2.35 2.35 NA 2.35 2.35 1.85 2.35 2.35 ...\n",
      " $ movie_facebook_likes;    : chr  \"33000;\" \"0;\" \"85000;\" \"164000;\" ...\n",
      " - attr(*, \".internal.selfref\")=<externalptr> \n"
     ]
    }
   ],
   "source": [
    "str(movies)"
   ]
  },
  {
   "cell_type": "markdown",
   "metadata": {},
   "source": [
    "# Cleaning data"
   ]
  },
  {
   "cell_type": "markdown",
   "metadata": {},
   "source": [
    "When I first looked at the variables in the summary above, two things caught my eyes. First, there's a lot of missing values, so I'll have either to scrape them from IMDB, estimate them or delete those observations completely. Second, the formatting of the string in the column movie_title is weird..."
   ]
  },
  {
   "cell_type": "code",
   "execution_count": 441,
   "metadata": {
    "collapsed": false
   },
   "outputs": [
    {
     "data": {
      "text/html": [
       "<ol class=list-inline>\n",
       "\t<li>'AvatarÂ'</li>\n",
       "\t<li>'Pirates of the Caribbean: At World\\'s End '</li>\n",
       "\t<li>'SpectreÂ'</li>\n",
       "\t<li>'The Dark Knight RisesÂ'</li>\n",
       "\t<li>'Star Wars: Episode VII - The Force Awakens'</li>\n",
       "\t<li>'John CarterÂ'</li>\n",
       "</ol>\n"
      ],
      "text/latex": [
       "\\begin{enumerate*}\n",
       "\\item 'AvatarÂ'\n",
       "\\item 'Pirates of the Caribbean: At World\\textbackslash{}'s End '\n",
       "\\item 'SpectreÂ'\n",
       "\\item 'The Dark Knight RisesÂ'\n",
       "\\item 'Star Wars: Episode VII - The Force Awakens'\n",
       "\\item 'John CarterÂ'\n",
       "\\end{enumerate*}\n"
      ],
      "text/markdown": [
       "1. 'AvatarÂ'\n",
       "2. 'Pirates of the Caribbean: At World\\'s End '\n",
       "3. 'SpectreÂ'\n",
       "4. 'The Dark Knight RisesÂ'\n",
       "5. 'Star Wars: Episode VII - The Force Awakens'\n",
       "6. 'John CarterÂ'\n",
       "\n",
       "\n"
      ],
      "text/plain": [
       "[1] \"AvatarÂ\"                                   \n",
       "[2] \"Pirates of the Caribbean: At World's End \" \n",
       "[3] \"SpectreÂ\"                                  \n",
       "[4] \"The Dark Knight RisesÂ\"                    \n",
       "[5] \"Star Wars: Episode VII - The Force Awakens\"\n",
       "[6] \"John CarterÂ\"                              "
      ]
     },
     "metadata": {},
     "output_type": "display_data"
    }
   ],
   "source": [
    "head(movies$movie_title)"
   ]
  },
  {
   "cell_type": "markdown",
   "metadata": {},
   "source": [
    "While getting the data from IMDB, there must have been an encoding error. I'll have to delete the character \"Â\" at the end of each string."
   ]
  },
  {
   "cell_type": "code",
   "execution_count": 442,
   "metadata": {
    "collapsed": false
   },
   "outputs": [],
   "source": [
    "#movies$movie_title<-as.character(movies$movie_title)\n",
    "movies$movie_title<-sub('Â', \"\", movies$movie_title)"
   ]
  },
  {
   "cell_type": "code",
   "execution_count": 443,
   "metadata": {
    "collapsed": false
   },
   "outputs": [
    {
     "data": {
      "text/html": [
       "<ol class=list-inline>\n",
       "\t<li>'Avatar'</li>\n",
       "\t<li>'Pirates of the Caribbean: At World\\'s End '</li>\n",
       "\t<li>'Spectre'</li>\n",
       "\t<li>'The Dark Knight Rises'</li>\n",
       "\t<li>'Star Wars: Episode VII - The Force Awakens'</li>\n",
       "\t<li>'John Carter'</li>\n",
       "</ol>\n"
      ],
      "text/latex": [
       "\\begin{enumerate*}\n",
       "\\item 'Avatar'\n",
       "\\item 'Pirates of the Caribbean: At World\\textbackslash{}'s End '\n",
       "\\item 'Spectre'\n",
       "\\item 'The Dark Knight Rises'\n",
       "\\item 'Star Wars: Episode VII - The Force Awakens'\n",
       "\\item 'John Carter'\n",
       "\\end{enumerate*}\n"
      ],
      "text/markdown": [
       "1. 'Avatar'\n",
       "2. 'Pirates of the Caribbean: At World\\'s End '\n",
       "3. 'Spectre'\n",
       "4. 'The Dark Knight Rises'\n",
       "5. 'Star Wars: Episode VII - The Force Awakens'\n",
       "6. 'John Carter'\n",
       "\n",
       "\n"
      ],
      "text/plain": [
       "[1] \"Avatar\"                                    \n",
       "[2] \"Pirates of the Caribbean: At World's End \" \n",
       "[3] \"Spectre\"                                   \n",
       "[4] \"The Dark Knight Rises\"                     \n",
       "[5] \"Star Wars: Episode VII - The Force Awakens\"\n",
       "[6] \"John Carter\"                               "
      ]
     },
     "metadata": {},
     "output_type": "display_data"
    }
   ],
   "source": [
    "head(movies$movie_title)"
   ]
  },
  {
   "cell_type": "markdown",
   "metadata": {},
   "source": [
    "Now, I take care of the missing values. First, let's look at the number of missing values of the first variable \"color\"."
   ]
  },
  {
   "cell_type": "code",
   "execution_count": 444,
   "metadata": {
    "collapsed": false
   },
   "outputs": [
    {
     "name": "stdout",
     "output_type": "stream",
     "text": [
      "[1] \"Empty string: 18\"\n",
      "[1] \"NA: 0\"\n"
     ]
    }
   ],
   "source": [
    "print(paste0(\"Empty string: \",sum(movies$color==\"\")))\n",
    "print(paste0(\"NA: \",sum(movies$color==\"NA\")))"
   ]
  },
  {
   "cell_type": "markdown",
   "metadata": {},
   "source": [
    "There's 18 observations where the value of the variable \"color\" is missing. Since before 1939, the year where the wizard of Oz was released, the majority of the movie was in black and white, my first thought was to look for a separation in the data. If the distributions of the variable \"title_year\", who represent the year where the movie was released, for the movies in black and white is quite different from the one for the movies in color, I will be able to tell if a movie is in color or in black and white just by looking at the variable \"title_year\".     "
   ]
  },
  {
   "cell_type": "code",
   "execution_count": 445,
   "metadata": {
    "collapsed": false
   },
   "outputs": [
    {
     "name": "stdout",
     "output_type": "stream",
     "text": [
      "[1] \"Mean, Black and White: 1984.07843137255\"\n",
      "[1] \"Standard deviation, Black and White: 26.2500992349088\"\n",
      "[1] \"Mean, Color: 2003.26709677419\"\n",
      "[1] \"Standard deviation, Color: 10.7673361222041\"\n"
     ]
    }
   ],
   "source": [
    "print(paste0(\"Mean, Black and White: \",mean(movies[which(color==\"Black and White\"),title_year], na.rm=TRUE)))\n",
    "print(paste0(\"Standard deviation, Black and White: \",sd(movies[which(color==\"Black and White\"),title_year],na.rm=TRUE)))\n",
    "print(paste0(\"Mean, Color: \",mean(movies[which(color==\"Color\"),title_year], na.rm=TRUE)))\n",
    "print(paste0(\"Standard deviation, Color: \",sd(movies[which(color==\"Color\"),title_year],na.rm=TRUE)))"
   ]
  },
  {
   "cell_type": "code",
   "execution_count": 446,
   "metadata": {
    "collapsed": false
   },
   "outputs": [
    {
     "name": "stdout",
     "output_type": "stream",
     "text": [
      "[1] \"Summary Black and White\"\n"
     ]
    },
    {
     "data": {
      "text/plain": [
       "   Min. 1st Qu.  Median    Mean 3rd Qu.    Max.    NA's \n",
       "   1916    1962    1998    1984    2004    2015       3 "
      ]
     },
     "metadata": {},
     "output_type": "display_data"
    },
    {
     "name": "stdout",
     "output_type": "stream",
     "text": [
      "[1] \"Summary color\"\n"
     ]
    },
    {
     "data": {
      "text/plain": [
       "   Min. 1st Qu.  Median    Mean 3rd Qu.    Max.    NA's \n",
       "   1937    1999    2006    2003    2011    2016      99 "
      ]
     },
     "metadata": {},
     "output_type": "display_data"
    }
   ],
   "source": [
    "print(\"Summary Black and White\")\n",
    "summary(movies[which(color==\"Black and White\"),title_year])\n",
    "print(\"Summary color\")\n",
    "summary(movies[which(color==\"Color\"),title_year])"
   ]
  },
  {
   "cell_type": "code",
   "execution_count": 447,
   "metadata": {
    "collapsed": false
   },
   "outputs": [
    {
     "data": {
      "text/html": [
       "<ol class=list-inline>\n",
       "\t<li>NA</li>\n",
       "\t<li>NA</li>\n",
       "\t<li>2010</li>\n",
       "\t<li>2014</li>\n",
       "\t<li>NA</li>\n",
       "\t<li>2009</li>\n",
       "\t<li>2015</li>\n",
       "\t<li>2014</li>\n",
       "\t<li>2011</li>\n",
       "\t<li>2012</li>\n",
       "\t<li>2014</li>\n",
       "\t<li>2015</li>\n",
       "\t<li>2012</li>\n",
       "\t<li>2016</li>\n",
       "\t<li>2013</li>\n",
       "\t<li>2014</li>\n",
       "\t<li>1990</li>\n",
       "\t<li>2011</li>\n",
       "</ol>\n"
      ],
      "text/latex": [
       "\\begin{enumerate*}\n",
       "\\item NA\n",
       "\\item NA\n",
       "\\item 2010\n",
       "\\item 2014\n",
       "\\item NA\n",
       "\\item 2009\n",
       "\\item 2015\n",
       "\\item 2014\n",
       "\\item 2011\n",
       "\\item 2012\n",
       "\\item 2014\n",
       "\\item 2015\n",
       "\\item 2012\n",
       "\\item 2016\n",
       "\\item 2013\n",
       "\\item 2014\n",
       "\\item 1990\n",
       "\\item 2011\n",
       "\\end{enumerate*}\n"
      ],
      "text/markdown": [
       "1. NA\n",
       "2. NA\n",
       "3. 2010\n",
       "4. 2014\n",
       "5. NA\n",
       "6. 2009\n",
       "7. 2015\n",
       "8. 2014\n",
       "9. 2011\n",
       "10. 2012\n",
       "11. 2014\n",
       "12. 2015\n",
       "13. 2012\n",
       "14. 2016\n",
       "15. 2013\n",
       "16. 2014\n",
       "17. 1990\n",
       "18. 2011\n",
       "\n",
       "\n"
      ],
      "text/plain": [
       " [1]   NA   NA 2010 2014   NA 2009 2015 2014 2011 2012 2014 2015 2012 2016 2013\n",
       "[16] 2014 1990 2011"
      ]
     },
     "metadata": {},
     "output_type": "display_data"
    }
   ],
   "source": [
    "movies[which(color==\"\"),title_year]"
   ]
  },
  {
   "cell_type": "markdown",
   "metadata": {},
   "source": [
    "We can see that the two means are much closer than I thought and that the standard deviation of the movies in black and white is quite large. The shape of those two distributions tells me that there's a high probability that a movie made after 2000 is in color and that those made before 1993 are in black and white. By looking at the year of release of the movies with a missing \"color\" value I count four movies with a missing value for the variable \"title_year\" and one movie made in 1990 right in between the two distributions. Let's look at the name of those movies."
   ]
  },
  {
   "cell_type": "code",
   "execution_count": 448,
   "metadata": {
    "collapsed": false
   },
   "outputs": [
    {
     "data": {
      "text/html": [
       "<ol class=list-inline>\n",
       "\t<li>'Star Wars: Episode VII - The Force Awakens'</li>\n",
       "\t<li>'Daredevil '</li>\n",
       "\t<li>'Unforgettable '</li>\n",
       "\t<li>'Midnight Cabaret'</li>\n",
       "</ol>\n"
      ],
      "text/latex": [
       "\\begin{enumerate*}\n",
       "\\item 'Star Wars: Episode VII - The Force Awakens'\n",
       "\\item 'Daredevil '\n",
       "\\item 'Unforgettable '\n",
       "\\item 'Midnight Cabaret'\n",
       "\\end{enumerate*}\n"
      ],
      "text/markdown": [
       "1. 'Star Wars: Episode VII - The Force Awakens'\n",
       "2. 'Daredevil '\n",
       "3. 'Unforgettable '\n",
       "4. 'Midnight Cabaret'\n",
       "\n",
       "\n"
      ],
      "text/plain": [
       "[1] \"Star Wars: Episode VII - The Force Awakens\"\n",
       "[2] \"Daredevil \"                                \n",
       "[3] \"Unforgettable \"                            \n",
       "[4] \"Midnight Cabaret\"                          "
      ]
     },
     "metadata": {},
     "output_type": "display_data"
    }
   ],
   "source": [
    "movies[which(color==\"\"&(title_year==1990|is.na(title_year))),movie_title]"
   ]
  },
  {
   "cell_type": "markdown",
   "metadata": {},
   "source": [
    "Since there's only five problematics movies, I decided to do some research and find the missing value. After 2 minutes of searching on IMDB, I learned that all those movies are in color, so I can assign that factor to all the movie with a missing value on that variable. "
   ]
  },
  {
   "cell_type": "code",
   "execution_count": 449,
   "metadata": {
    "collapsed": false
   },
   "outputs": [],
   "source": [
    "movies[which(color==\"\"),\"color\"]=\"Color\""
   ]
  },
  {
   "cell_type": "code",
   "execution_count": 450,
   "metadata": {
    "collapsed": false
   },
   "outputs": [
    {
     "data": {
      "text/html": [
       "0"
      ],
      "text/latex": [
       "0"
      ],
      "text/markdown": [
       "0"
      ],
      "text/plain": [
       "[1] 0"
      ]
     },
     "metadata": {},
     "output_type": "display_data"
    }
   ],
   "source": [
    "sum(movies$color==\"\")"
   ]
  },
  {
   "cell_type": "markdown",
   "metadata": {},
   "source": [
    "Let's look at the number of missing values for each variable."
   ]
  },
  {
   "cell_type": "code",
   "execution_count": 451,
   "metadata": {
    "collapsed": false
   },
   "outputs": [
    {
     "data": {
      "text/html": [
       "<dl class=dl-horizontal>\n",
       "\t<dt>color</dt>\n",
       "\t\t<dd>0</dd>\n",
       "\t<dt>director_name</dt>\n",
       "\t\t<dd>0</dd>\n",
       "\t<dt>num_critic_for_reviews</dt>\n",
       "\t\t<dd>50</dd>\n",
       "\t<dt>duration</dt>\n",
       "\t\t<dd>15</dd>\n",
       "\t<dt>director_facebook_likes</dt>\n",
       "\t\t<dd>104</dd>\n",
       "\t<dt>actor_3_facebook_likes</dt>\n",
       "\t\t<dd>23</dd>\n",
       "\t<dt>actor_2_name</dt>\n",
       "\t\t<dd>0</dd>\n",
       "\t<dt>actor_1_facebook_likes</dt>\n",
       "\t\t<dd>7</dd>\n",
       "\t<dt>gross</dt>\n",
       "\t\t<dd>884</dd>\n",
       "\t<dt>genres</dt>\n",
       "\t\t<dd>0</dd>\n",
       "\t<dt>actor_1_name</dt>\n",
       "\t\t<dd>0</dd>\n",
       "\t<dt>movie_title</dt>\n",
       "\t\t<dd>0</dd>\n",
       "\t<dt>num_voted_users</dt>\n",
       "\t\t<dd>0</dd>\n",
       "\t<dt>cast_total_facebook_likes</dt>\n",
       "\t\t<dd>0</dd>\n",
       "\t<dt>actor_3_name</dt>\n",
       "\t\t<dd>0</dd>\n",
       "\t<dt>facenumber_in_poster</dt>\n",
       "\t\t<dd>13</dd>\n",
       "\t<dt>plot_keywords</dt>\n",
       "\t\t<dd>0</dd>\n",
       "\t<dt>movie_imdb_link</dt>\n",
       "\t\t<dd>0</dd>\n",
       "\t<dt>num_user_for_reviews</dt>\n",
       "\t\t<dd>21</dd>\n",
       "\t<dt>language</dt>\n",
       "\t\t<dd>0</dd>\n",
       "\t<dt>country</dt>\n",
       "\t\t<dd>0</dd>\n",
       "\t<dt>content_rating</dt>\n",
       "\t\t<dd>0</dd>\n",
       "\t<dt>budget</dt>\n",
       "\t\t<dd>492</dd>\n",
       "\t<dt>title_year</dt>\n",
       "\t\t<dd>108</dd>\n",
       "\t<dt>actor_2_facebook_likes</dt>\n",
       "\t\t<dd>13</dd>\n",
       "\t<dt>imdb_score</dt>\n",
       "\t\t<dd>0</dd>\n",
       "\t<dt>aspect_ratio</dt>\n",
       "\t\t<dd>329</dd>\n",
       "\t<dt>movie_facebook_likes;</dt>\n",
       "\t\t<dd>0</dd>\n",
       "</dl>\n"
      ],
      "text/latex": [
       "\\begin{description*}\n",
       "\\item[color] 0\n",
       "\\item[director\\textbackslash{}\\_name] 0\n",
       "\\item[num\\textbackslash{}\\_critic\\textbackslash{}\\_for\\textbackslash{}\\_reviews] 50\n",
       "\\item[duration] 15\n",
       "\\item[director\\textbackslash{}\\_facebook\\textbackslash{}\\_likes] 104\n",
       "\\item[actor\\textbackslash{}\\_3\\textbackslash{}\\_facebook\\textbackslash{}\\_likes] 23\n",
       "\\item[actor\\textbackslash{}\\_2\\textbackslash{}\\_name] 0\n",
       "\\item[actor\\textbackslash{}\\_1\\textbackslash{}\\_facebook\\textbackslash{}\\_likes] 7\n",
       "\\item[gross] 884\n",
       "\\item[genres] 0\n",
       "\\item[actor\\textbackslash{}\\_1\\textbackslash{}\\_name] 0\n",
       "\\item[movie\\textbackslash{}\\_title] 0\n",
       "\\item[num\\textbackslash{}\\_voted\\textbackslash{}\\_users] 0\n",
       "\\item[cast\\textbackslash{}\\_total\\textbackslash{}\\_facebook\\textbackslash{}\\_likes] 0\n",
       "\\item[actor\\textbackslash{}\\_3\\textbackslash{}\\_name] 0\n",
       "\\item[facenumber\\textbackslash{}\\_in\\textbackslash{}\\_poster] 13\n",
       "\\item[plot\\textbackslash{}\\_keywords] 0\n",
       "\\item[movie\\textbackslash{}\\_imdb\\textbackslash{}\\_link] 0\n",
       "\\item[num\\textbackslash{}\\_user\\textbackslash{}\\_for\\textbackslash{}\\_reviews] 21\n",
       "\\item[language] 0\n",
       "\\item[country] 0\n",
       "\\item[content\\textbackslash{}\\_rating] 0\n",
       "\\item[budget] 492\n",
       "\\item[title\\textbackslash{}\\_year] 108\n",
       "\\item[actor\\textbackslash{}\\_2\\textbackslash{}\\_facebook\\textbackslash{}\\_likes] 13\n",
       "\\item[imdb\\textbackslash{}\\_score] 0\n",
       "\\item[aspect\\textbackslash{}\\_ratio] 329\n",
       "\\item[movie\\textbackslash{}\\_facebook\\textbackslash{}\\_likes;] 0\n",
       "\\end{description*}\n"
      ],
      "text/markdown": [
       "color\n",
       ":   0director_name\n",
       ":   0num_critic_for_reviews\n",
       ":   50duration\n",
       ":   15director_facebook_likes\n",
       ":   104actor_3_facebook_likes\n",
       ":   23actor_2_name\n",
       ":   0actor_1_facebook_likes\n",
       ":   7gross\n",
       ":   884genres\n",
       ":   0actor_1_name\n",
       ":   0movie_title\n",
       ":   0num_voted_users\n",
       ":   0cast_total_facebook_likes\n",
       ":   0actor_3_name\n",
       ":   0facenumber_in_poster\n",
       ":   13plot_keywords\n",
       ":   0movie_imdb_link\n",
       ":   0num_user_for_reviews\n",
       ":   21language\n",
       ":   0country\n",
       ":   0content_rating\n",
       ":   0budget\n",
       ":   492title_year\n",
       ":   108actor_2_facebook_likes\n",
       ":   13imdb_score\n",
       ":   0aspect_ratio\n",
       ":   329movie_facebook_likes;\n",
       ":   0\n",
       "\n"
      ],
      "text/plain": [
       "                    color             director_name    num_critic_for_reviews \n",
       "                        0                         0                        50 \n",
       "                 duration   director_facebook_likes    actor_3_facebook_likes \n",
       "                       15                       104                        23 \n",
       "             actor_2_name    actor_1_facebook_likes                     gross \n",
       "                        0                         7                       884 \n",
       "                   genres              actor_1_name               movie_title \n",
       "                        0                         0                         0 \n",
       "          num_voted_users cast_total_facebook_likes              actor_3_name \n",
       "                        0                         0                         0 \n",
       "     facenumber_in_poster             plot_keywords           movie_imdb_link \n",
       "                       13                         0                         0 \n",
       "     num_user_for_reviews                  language                   country \n",
       "                       21                         0                         0 \n",
       "           content_rating                    budget                title_year \n",
       "                        0                       492                       108 \n",
       "   actor_2_facebook_likes                imdb_score              aspect_ratio \n",
       "                       13                         0                       329 \n",
       "    movie_facebook_likes; \n",
       "                        0 "
      ]
     },
     "metadata": {},
     "output_type": "display_data"
    }
   ],
   "source": [
    "sapply(movies, function(y) sum(length(which(is.na(y)))))"
   ]
  },
  {
   "cell_type": "markdown",
   "metadata": {},
   "source": [
    "Of those variables, only the variable duration as few missing data that are easily obtainable, so I will manually fetch those data by searching them on IMDB."
   ]
  },
  {
   "cell_type": "code",
   "execution_count": 452,
   "metadata": {
    "collapsed": false
   },
   "outputs": [
    {
     "data": {
      "text/html": [
       "<ol class=list-inline>\n",
       "\t<li>'Star Wars: Episode VII - The Force Awakens'</li>\n",
       "\t<li>'Harry Potter and the Deathly Hallows: Part II'</li>\n",
       "\t<li>'Harry Potter and the Deathly Hallows: Part I'</li>\n",
       "\t<li>'Black Water Transit'</li>\n",
       "\t<li>'War &amp; Peace '</li>\n",
       "\t<li>'Should\\'ve Been Romeo'</li>\n",
       "\t<li>'Barfi'</li>\n",
       "\t<li>'Hum To Mohabbat Karega'</li>\n",
       "\t<li>'N-Secure'</li>\n",
       "\t<li>'Dil Jo Bhi Kahey...'</li>\n",
       "\t<li>'Wolf Creek '</li>\n",
       "\t<li>'Karachi se Lahore'</li>\n",
       "\t<li>'Destiny'</li>\n",
       "\t<li>'Romantic Schemer'</li>\n",
       "\t<li>'The Naked Ape'</li>\n",
       "</ol>\n"
      ],
      "text/latex": [
       "\\begin{enumerate*}\n",
       "\\item 'Star Wars: Episode VII - The Force Awakens'\n",
       "\\item 'Harry Potter and the Deathly Hallows: Part II'\n",
       "\\item 'Harry Potter and the Deathly Hallows: Part I'\n",
       "\\item 'Black Water Transit'\n",
       "\\item 'War \\& Peace '\n",
       "\\item 'Should\\textbackslash{}'ve Been Romeo'\n",
       "\\item 'Barfi'\n",
       "\\item 'Hum To Mohabbat Karega'\n",
       "\\item 'N-Secure'\n",
       "\\item 'Dil Jo Bhi Kahey...'\n",
       "\\item 'Wolf Creek '\n",
       "\\item 'Karachi se Lahore'\n",
       "\\item 'Destiny'\n",
       "\\item 'Romantic Schemer'\n",
       "\\item 'The Naked Ape'\n",
       "\\end{enumerate*}\n"
      ],
      "text/markdown": [
       "1. 'Star Wars: Episode VII - The Force Awakens'\n",
       "2. 'Harry Potter and the Deathly Hallows: Part II'\n",
       "3. 'Harry Potter and the Deathly Hallows: Part I'\n",
       "4. 'Black Water Transit'\n",
       "5. 'War &amp; Peace '\n",
       "6. 'Should\\'ve Been Romeo'\n",
       "7. 'Barfi'\n",
       "8. 'Hum To Mohabbat Karega'\n",
       "9. 'N-Secure'\n",
       "10. 'Dil Jo Bhi Kahey...'\n",
       "11. 'Wolf Creek '\n",
       "12. 'Karachi se Lahore'\n",
       "13. 'Destiny'\n",
       "14. 'Romantic Schemer'\n",
       "15. 'The Naked Ape'\n",
       "\n",
       "\n"
      ],
      "text/plain": [
       " [1] \"Star Wars: Episode VII - The Force Awakens\"   \n",
       " [2] \"Harry Potter and the Deathly Hallows: Part II\"\n",
       " [3] \"Harry Potter and the Deathly Hallows: Part I\" \n",
       " [4] \"Black Water Transit\"                          \n",
       " [5] \"War & Peace \"                                 \n",
       " [6] \"Should've Been Romeo\"                         \n",
       " [7] \"Barfi\"                                        \n",
       " [8] \"Hum To Mohabbat Karega\"                       \n",
       " [9] \"N-Secure\"                                     \n",
       "[10] \"Dil Jo Bhi Kahey...\"                          \n",
       "[11] \"Wolf Creek \"                                  \n",
       "[12] \"Karachi se Lahore\"                            \n",
       "[13] \"Destiny\"                                      \n",
       "[14] \"Romantic Schemer\"                             \n",
       "[15] \"The Naked Ape\"                                "
      ]
     },
     "metadata": {},
     "output_type": "display_data"
    }
   ],
   "source": [
    "movies[is.na(movies$duration),movie_title]"
   ]
  },
  {
   "cell_type": "code",
   "execution_count": 453,
   "metadata": {
    "collapsed": false
   },
   "outputs": [],
   "source": [
    "movies[movie_title==\"Star Wars: Episode VII - The Force Awakens\",4]<-136\n",
    "movies[movie_title==\"Harry Potter and the Deathly Hallows: Part II\",4]<-130\n",
    "movies[movie_title==\"Harry Potter and the Deathly Hallows: Part I\",4]<-146\n",
    "movies[movie_title==\"Black Water Transit\",4]<-100\n",
    "movies[movie_title==\"Should've Been Romeo\",4]<-90\n",
    "movies[movie_title==\"Barfi\",4]<-151\n",
    "movies[movie_title==\"Hum To Mohabbat Karega\",4]<-87\n",
    "movies[movie_title==\"N-Secure\",4]<-115\n",
    "movies[movie_title==\"Dil Jo Bhi Kahey...\",4]<-144\n",
    "movies[movie_title==\"Wolf Creek\",4]<-95\n",
    "movies[movie_title==\"Karachi se Lahore\",4]<-143\n",
    "movies[movie_title==\"Destiny\",4]<-105\n",
    "movies[movie_title==\"Romantic Schemer\",4]<-85\n",
    "movies[movie_title==\"The Naked Ape\",4]<-110\n",
    "movies[movie_title==\"War & Peace\",4]<- 379"
   ]
  },
  {
   "cell_type": "markdown",
   "metadata": {},
   "source": [
    "Now if we look back at the number of missing value of every variable in the data set, we see that the variable \"duration\" have none."
   ]
  },
  {
   "cell_type": "code",
   "execution_count": 454,
   "metadata": {
    "collapsed": false
   },
   "outputs": [
    {
     "data": {
      "text/html": [
       "<dl class=dl-horizontal>\n",
       "\t<dt>color</dt>\n",
       "\t\t<dd>0</dd>\n",
       "\t<dt>director_name</dt>\n",
       "\t\t<dd>0</dd>\n",
       "\t<dt>num_critic_for_reviews</dt>\n",
       "\t\t<dd>50</dd>\n",
       "\t<dt>duration</dt>\n",
       "\t\t<dd>2</dd>\n",
       "\t<dt>director_facebook_likes</dt>\n",
       "\t\t<dd>104</dd>\n",
       "\t<dt>actor_3_facebook_likes</dt>\n",
       "\t\t<dd>23</dd>\n",
       "\t<dt>actor_2_name</dt>\n",
       "\t\t<dd>0</dd>\n",
       "\t<dt>actor_1_facebook_likes</dt>\n",
       "\t\t<dd>7</dd>\n",
       "\t<dt>gross</dt>\n",
       "\t\t<dd>884</dd>\n",
       "\t<dt>genres</dt>\n",
       "\t\t<dd>0</dd>\n",
       "\t<dt>actor_1_name</dt>\n",
       "\t\t<dd>0</dd>\n",
       "\t<dt>movie_title</dt>\n",
       "\t\t<dd>0</dd>\n",
       "\t<dt>num_voted_users</dt>\n",
       "\t\t<dd>0</dd>\n",
       "\t<dt>cast_total_facebook_likes</dt>\n",
       "\t\t<dd>0</dd>\n",
       "\t<dt>actor_3_name</dt>\n",
       "\t\t<dd>0</dd>\n",
       "\t<dt>facenumber_in_poster</dt>\n",
       "\t\t<dd>13</dd>\n",
       "\t<dt>plot_keywords</dt>\n",
       "\t\t<dd>0</dd>\n",
       "\t<dt>movie_imdb_link</dt>\n",
       "\t\t<dd>0</dd>\n",
       "\t<dt>num_user_for_reviews</dt>\n",
       "\t\t<dd>21</dd>\n",
       "\t<dt>language</dt>\n",
       "\t\t<dd>0</dd>\n",
       "\t<dt>country</dt>\n",
       "\t\t<dd>0</dd>\n",
       "\t<dt>content_rating</dt>\n",
       "\t\t<dd>0</dd>\n",
       "\t<dt>budget</dt>\n",
       "\t\t<dd>492</dd>\n",
       "\t<dt>title_year</dt>\n",
       "\t\t<dd>108</dd>\n",
       "\t<dt>actor_2_facebook_likes</dt>\n",
       "\t\t<dd>13</dd>\n",
       "\t<dt>imdb_score</dt>\n",
       "\t\t<dd>0</dd>\n",
       "\t<dt>aspect_ratio</dt>\n",
       "\t\t<dd>329</dd>\n",
       "\t<dt>movie_facebook_likes;</dt>\n",
       "\t\t<dd>0</dd>\n",
       "</dl>\n"
      ],
      "text/latex": [
       "\\begin{description*}\n",
       "\\item[color] 0\n",
       "\\item[director\\textbackslash{}\\_name] 0\n",
       "\\item[num\\textbackslash{}\\_critic\\textbackslash{}\\_for\\textbackslash{}\\_reviews] 50\n",
       "\\item[duration] 2\n",
       "\\item[director\\textbackslash{}\\_facebook\\textbackslash{}\\_likes] 104\n",
       "\\item[actor\\textbackslash{}\\_3\\textbackslash{}\\_facebook\\textbackslash{}\\_likes] 23\n",
       "\\item[actor\\textbackslash{}\\_2\\textbackslash{}\\_name] 0\n",
       "\\item[actor\\textbackslash{}\\_1\\textbackslash{}\\_facebook\\textbackslash{}\\_likes] 7\n",
       "\\item[gross] 884\n",
       "\\item[genres] 0\n",
       "\\item[actor\\textbackslash{}\\_1\\textbackslash{}\\_name] 0\n",
       "\\item[movie\\textbackslash{}\\_title] 0\n",
       "\\item[num\\textbackslash{}\\_voted\\textbackslash{}\\_users] 0\n",
       "\\item[cast\\textbackslash{}\\_total\\textbackslash{}\\_facebook\\textbackslash{}\\_likes] 0\n",
       "\\item[actor\\textbackslash{}\\_3\\textbackslash{}\\_name] 0\n",
       "\\item[facenumber\\textbackslash{}\\_in\\textbackslash{}\\_poster] 13\n",
       "\\item[plot\\textbackslash{}\\_keywords] 0\n",
       "\\item[movie\\textbackslash{}\\_imdb\\textbackslash{}\\_link] 0\n",
       "\\item[num\\textbackslash{}\\_user\\textbackslash{}\\_for\\textbackslash{}\\_reviews] 21\n",
       "\\item[language] 0\n",
       "\\item[country] 0\n",
       "\\item[content\\textbackslash{}\\_rating] 0\n",
       "\\item[budget] 492\n",
       "\\item[title\\textbackslash{}\\_year] 108\n",
       "\\item[actor\\textbackslash{}\\_2\\textbackslash{}\\_facebook\\textbackslash{}\\_likes] 13\n",
       "\\item[imdb\\textbackslash{}\\_score] 0\n",
       "\\item[aspect\\textbackslash{}\\_ratio] 329\n",
       "\\item[movie\\textbackslash{}\\_facebook\\textbackslash{}\\_likes;] 0\n",
       "\\end{description*}\n"
      ],
      "text/markdown": [
       "color\n",
       ":   0director_name\n",
       ":   0num_critic_for_reviews\n",
       ":   50duration\n",
       ":   2director_facebook_likes\n",
       ":   104actor_3_facebook_likes\n",
       ":   23actor_2_name\n",
       ":   0actor_1_facebook_likes\n",
       ":   7gross\n",
       ":   884genres\n",
       ":   0actor_1_name\n",
       ":   0movie_title\n",
       ":   0num_voted_users\n",
       ":   0cast_total_facebook_likes\n",
       ":   0actor_3_name\n",
       ":   0facenumber_in_poster\n",
       ":   13plot_keywords\n",
       ":   0movie_imdb_link\n",
       ":   0num_user_for_reviews\n",
       ":   21language\n",
       ":   0country\n",
       ":   0content_rating\n",
       ":   0budget\n",
       ":   492title_year\n",
       ":   108actor_2_facebook_likes\n",
       ":   13imdb_score\n",
       ":   0aspect_ratio\n",
       ":   329movie_facebook_likes;\n",
       ":   0\n",
       "\n"
      ],
      "text/plain": [
       "                    color             director_name    num_critic_for_reviews \n",
       "                        0                         0                        50 \n",
       "                 duration   director_facebook_likes    actor_3_facebook_likes \n",
       "                        2                       104                        23 \n",
       "             actor_2_name    actor_1_facebook_likes                     gross \n",
       "                        0                         7                       884 \n",
       "                   genres              actor_1_name               movie_title \n",
       "                        0                         0                         0 \n",
       "          num_voted_users cast_total_facebook_likes              actor_3_name \n",
       "                        0                         0                         0 \n",
       "     facenumber_in_poster             plot_keywords           movie_imdb_link \n",
       "                       13                         0                         0 \n",
       "     num_user_for_reviews                  language                   country \n",
       "                       21                         0                         0 \n",
       "           content_rating                    budget                title_year \n",
       "                        0                       492                       108 \n",
       "   actor_2_facebook_likes                imdb_score              aspect_ratio \n",
       "                       13                         0                       329 \n",
       "    movie_facebook_likes; \n",
       "                        0 "
      ]
     },
     "metadata": {},
     "output_type": "display_data"
    }
   ],
   "source": [
    "sapply(movies, function(y) sum(length(which(is.na(y)))))"
   ]
  },
  {
   "cell_type": "markdown",
   "metadata": {},
   "source": [
    "Having missing values of the variables \"num_critic_for_reviews\",\"num_voted_users\",\"movie_imdb_link\",\"num_user_for_reviews\", \"imdb_score\" and \"movie_facebook_likes\" is not really an issue, since I'm interested in predicting the box-office result of a movie before his production and those variables are metrics collected after the theater release of their respective movie. Also, some variable like \"director_facebook_likes\", \"facenumber_in_poster\", \"title_year\" and \"actor_2_facebook_likes\" have a relatively low number of missing values and the omission of those observations won't affect significantly the quality of our model. With that in mind, I'll focus my attention on the variables \"gross\" and \"budget\".\n",
    "\n",
    "First, I need to find why the scrapping code returned some empty field. I looked at the IMDB page of some movies with missing data to try to find a pattern."
   ]
  },
  {
   "cell_type": "markdown",
   "metadata": {},
   "source": [
    "# Scrapping data"
   ]
  },
  {
   "cell_type": "markdown",
   "metadata": {
    "collapsed": true
   },
   "source": [
    "  "
   ]
  },
  {
   "cell_type": "code",
   "execution_count": 455,
   "metadata": {
    "collapsed": false
   },
   "outputs": [
    {
     "data": {
      "text/html": [
       "<ol class=list-inline>\n",
       "\t<li>'Star Wars: Episode VII - The Force Awakens'</li>\n",
       "\t<li>'The Lovers'</li>\n",
       "\t<li>'Godzilla Resurgence'</li>\n",
       "\t<li>'Miami Vice '</li>\n",
       "\t<li>'Harry Potter and the Deathly Hallows: Part II'</li>\n",
       "\t<li>'Godzilla Resurgence'</li>\n",
       "</ol>\n"
      ],
      "text/latex": [
       "\\begin{enumerate*}\n",
       "\\item 'Star Wars: Episode VII - The Force Awakens'\n",
       "\\item 'The Lovers'\n",
       "\\item 'Godzilla Resurgence'\n",
       "\\item 'Miami Vice '\n",
       "\\item 'Harry Potter and the Deathly Hallows: Part II'\n",
       "\\item 'Godzilla Resurgence'\n",
       "\\end{enumerate*}\n"
      ],
      "text/markdown": [
       "1. 'Star Wars: Episode VII - The Force Awakens'\n",
       "2. 'The Lovers'\n",
       "3. 'Godzilla Resurgence'\n",
       "4. 'Miami Vice '\n",
       "5. 'Harry Potter and the Deathly Hallows: Part II'\n",
       "6. 'Godzilla Resurgence'\n",
       "\n",
       "\n"
      ],
      "text/plain": [
       "[1] \"Star Wars: Episode VII - The Force Awakens\"   \n",
       "[2] \"The Lovers\"                                   \n",
       "[3] \"Godzilla Resurgence\"                          \n",
       "[4] \"Miami Vice \"                                  \n",
       "[5] \"Harry Potter and the Deathly Hallows: Part II\"\n",
       "[6] \"Godzilla Resurgence\"                          "
      ]
     },
     "metadata": {},
     "output_type": "display_data"
    }
   ],
   "source": [
    "head(movies[is.na(movies$gross),movie_title],)"
   ]
  },
  {
   "cell_type": "code",
   "execution_count": 456,
   "metadata": {
    "collapsed": false
   },
   "outputs": [
    {
     "data": {
      "text/html": [
       "'http://www.imdb.com/title/tt5289954/?ref_=fn_tt_tt_1'"
      ],
      "text/latex": [
       "'http://www.imdb.com/title/tt5289954/?ref\\_=fn\\_tt\\_tt\\_1'"
      ],
      "text/markdown": [
       "'http://www.imdb.com/title/tt5289954/?ref_=fn_tt_tt_1'"
      ],
      "text/plain": [
       "[1] \"http://www.imdb.com/title/tt5289954/?ref_=fn_tt_tt_1\""
      ]
     },
     "metadata": {},
     "output_type": "display_data"
    }
   ],
   "source": [
    "movies[which(movies$movie_title=='Star Wars: Episode VII - The Force Awakens'),movie_imdb_link]"
   ]
  },
  {
   "cell_type": "code",
   "execution_count": 457,
   "metadata": {
    "collapsed": false
   },
   "outputs": [
    {
     "data": {
      "text/html": [],
      "text/latex": [],
      "text/markdown": [],
      "text/plain": [
       "character(0)"
      ]
     },
     "metadata": {},
     "output_type": "display_data"
    }
   ],
   "source": [
    "movies[which(movie_title=='Miami Vice'),movie_imdb_link]"
   ]
  },
  {
   "cell_type": "code",
   "execution_count": 458,
   "metadata": {
    "collapsed": false
   },
   "outputs": [
    {
     "data": {
      "text/html": [],
      "text/latex": [],
      "text/markdown": [],
      "text/plain": [
       "character(0)"
      ]
     },
     "metadata": {},
     "output_type": "display_data"
    }
   ],
   "source": [
    "movies[which(movies$movie_title=='Harry Potter and the Deathly Hallows: Part II '), movie_imdb_link]"
   ]
  },
  {
   "cell_type": "markdown",
   "metadata": {},
   "source": [
    "By looking at those three pages, we see the problem: IMDB list not only theatrical movie release, but also web series, tv show, direct to dvd release and since some entries have the same title some error have been injected in the data set. For example, instead of having data on the movie \"Miami Vice\", the script return data on an episode of the tv serie of the same name, where the fields \"gross\" ans \"budget\" are empty. In consequence, a missing value in those columns seems to be an indicator of a bad observation. \n",
    "\n",
    "I took a sample of 20 movies (about 3% of the observations with the value \"gross\" missing) to see if that hypothesis is correct."
   ]
  },
  {
   "cell_type": "code",
   "execution_count": 459,
   "metadata": {
    "collapsed": false
   },
   "outputs": [
    {
     "name": "stdout",
     "output_type": "stream",
     "text": [
      "[1] \"Number of rows: 224\"\n"
     ]
    },
    {
     "data": {
      "text/html": [
       "<table>\n",
       "<thead><tr><th scope=col>movie_title</th><th scope=col>director_name</th><th scope=col>actor_1_name</th><th scope=col>actor_2_name</th><th scope=col>actor_3_name</th><th scope=col>title_year</th><th scope=col>movie_imdb_link</th></tr></thead>\n",
       "<tbody>\n",
       "\t<tr><td>Star Wars: Episode VII - The Force Awakens          </td><td>Doug Walker                                         </td><td>Doug Walker                                         </td><td>Rob Walker                                          </td><td>                                                    </td><td>  NA                                                </td><td>http://www.imdb.com/title/tt5289954/?ref_=fn_tt_tt_1</td></tr>\n",
       "\t<tr><td>The Lovers                                          </td><td>Roland JoffÃ©                                       </td><td>Tamsin Egerton                                      </td><td>Alice Englert                                       </td><td>Bipasha Basu                                        </td><td>2015                                                </td><td>http://www.imdb.com/title/tt1321869/?ref_=fn_tt_tt_1</td></tr>\n",
       "\t<tr><td>Godzilla Resurgence                                 </td><td>Hideaki Anno                                        </td><td>Mark Chinnery                                       </td><td>Shin'ya Tsukamoto                                   </td><td>Atsuko Maeda                                        </td><td>2016                                                </td><td>http://www.imdb.com/title/tt4262980/?ref_=fn_tt_tt_1</td></tr>\n",
       "\t<tr><td>Harry Potter and the Deathly Hallows: Part II       </td><td>Matt Birch                                          </td><td>Rupert Grint                                        </td><td>Dave Legeno                                         </td><td>Ralph Ineson                                        </td><td>2011                                                </td><td>http://www.imdb.com/title/tt1680310/?ref_=fn_tt_tt_1</td></tr>\n",
       "\t<tr><td>Godzilla Resurgence                                 </td><td>Hideaki Anno                                        </td><td>Mark Chinnery                                       </td><td>Shin'ya Tsukamoto                                   </td><td>Atsuko Maeda                                        </td><td>2016                                                </td><td>http://www.imdb.com/title/tt4262980/?ref_=fn_tt_tt_1</td></tr>\n",
       "\t<tr><td>Harry Potter and the Deathly Hallows: Part I        </td><td>Matt Birch                                          </td><td>Rupert Grint                                        </td><td>Toby Jones                                          </td><td>Alfred Enoch                                        </td><td>2010                                                </td><td>http://www.imdb.com/title/tt1571403/?ref_=fn_tt_tt_1</td></tr>\n",
       "\t<tr><td>The A-Team                                          </td><td>                                                    </td><td>George Peppard                                      </td><td>Dirk Benedict                                       </td><td>Dwight Schultz                                      </td><td>  NA                                                </td><td>http://www.imdb.com/title/tt0084967/?ref_=fn_tt_tt_1</td></tr>\n",
       "\t<tr><td>\"10,000 B.C.             \"                          </td><td>Christopher Barnard                                 </td><td>Mathew Buck                                         </td><td>                                                    </td><td>                                                    </td><td>  NA                                                </td><td>http://www.imdb.com/title/tt1869849/?ref_=fn_tt_tt_1</td></tr>\n",
       "\t<tr><td>Ben-Hur                                             </td><td>Timur Bekmambetov                                   </td><td>Morgan Freeman                                      </td><td>Ayelet Zurer                                        </td><td>Moises Arias                                        </td><td>2016                                                </td><td>http://www.imdb.com/title/tt2638144/?ref_=fn_tt_tt_1</td></tr>\n",
       "\t<tr><td>Hannibal                                            </td><td>                                                    </td><td>Caroline Dhavernas                                  </td><td>Scott Thompson                                      </td><td>Hettienne Park                                      </td><td>  NA                                                </td><td>http://www.imdb.com/title/tt2243973/?ref_=fn_tt_tt_1</td></tr>\n",
       "\t<tr><td>All That Jazz                                       </td><td>Bob Fosse                                           </td><td>Roy Scheider                                        </td><td>Ben Vereen                                          </td><td>Max Wright                                          </td><td>1979                                                </td><td>http://www.imdb.com/title/tt0078754/?ref_=fn_tt_tt_1</td></tr>\n",
       "\t<tr><td>Daredevil                                           </td><td>                                                    </td><td>Elden Henson                                        </td><td>Royce Johnson                                       </td><td>Charlie Cox                                         </td><td>  NA                                                </td><td>http://www.imdb.com/title/tt3322312/?ref_=fn_tt_tt_1</td></tr>\n",
       "\t<tr><td>Bewitched                                           </td><td>                                                    </td><td>Elizabeth Montgomery                                </td><td>Agnes Moorehead                                     </td><td>Dick York                                           </td><td>  NA                                                </td><td>http://www.imdb.com/title/tt0057733/?ref_=fn_tt_tt_1</td></tr>\n",
       "\t<tr><td>Evolution                                           </td><td>Lucile Hadzihalilovic                               </td><td>Nissim Renard                                       </td><td>Roxane Duran                                        </td><td>Julie-Marie Parmentier                              </td><td>2015                                                </td><td>http://www.imdb.com/title/tt4291590/?ref_=fn_tt_tt_1</td></tr>\n",
       "\t<tr><td>Constantine                                         </td><td>                                                    </td><td>Harold Perrineau                                    </td><td>Matt Ryan                                           </td><td>Charles Halford                                     </td><td>  NA                                                </td><td>http://www.imdb.com/title/tt3489184/?ref_=fn_tt_tt_1</td></tr>\n",
       "\t<tr><td>Life                                                </td><td>                                                    </td><td>Adam Arkin                                          </td><td>Brent Sexton                                        </td><td>Damian Lewis                                        </td><td>  NA                                                </td><td>http://www.imdb.com/title/tt0874936/?ref_=fn_tt_tt_1</td></tr>\n",
       "\t<tr><td>Sleepy Hollow                                       </td><td>                                                    </td><td>Nicole Beharie                                      </td><td>Katia Winter                                        </td><td>Lyndie Greenwood                                    </td><td>  NA                                                </td><td>http://www.imdb.com/title/tt2647544/?ref_=fn_tt_tt_1</td></tr>\n",
       "\t<tr><td>Last Man Standing                                   </td><td>                                                    </td><td>Hector Elizondo                                     </td><td>Kaitlyn Dever                                       </td><td>Nancy Travis                                        </td><td>  NA                                                </td><td>http://www.imdb.com/title/tt1828327/?ref_=fn_tt_tt_1</td></tr>\n",
       "\t<tr><td>The Missing                                         </td><td>                                                    </td><td>Jason Flemyng                                       </td><td>James Nesbitt                                       </td><td>Frances O'Connor                                    </td><td>  NA                                                </td><td>http://www.imdb.com/title/tt3877200/?ref_=fn_tt_tt_1</td></tr>\n",
       "\t<tr><td>Rules of Engagement                                 </td><td>                                                    </td><td>Bianca Kajlich                                      </td><td>Oliver Hudson                                       </td><td>Adhir Kalyan                                        </td><td>  NA                                                </td><td>http://www.imdb.com/title/tt0790772/?ref_=fn_tt_tt_1</td></tr>\n",
       "</tbody>\n",
       "</table>\n"
      ],
      "text/latex": [
       "\\begin{tabular}{r|lllllll}\n",
       " movie\\_title & director\\_name & actor\\_1\\_name & actor\\_2\\_name & actor\\_3\\_name & title\\_year & movie\\_imdb\\_link\\\\\n",
       "\\hline\n",
       "\t Star Wars: Episode VII - The Force Awakens                   & Doug Walker                                                  & Doug Walker                                                  & Rob Walker                                                   &                                                              &   NA                                                         & http://www.imdb.com/title/tt5289954/?ref\\_=fn\\_tt\\_tt\\_1\\\\\n",
       "\t The Lovers                                                   & Roland JoffÃ©                                                & Tamsin Egerton                                               & Alice Englert                                                & Bipasha Basu                                                 & 2015                                                         & http://www.imdb.com/title/tt1321869/?ref\\_=fn\\_tt\\_tt\\_1\\\\\n",
       "\t Godzilla Resurgence                                          & Hideaki Anno                                                 & Mark Chinnery                                                & Shin'ya Tsukamoto                                            & Atsuko Maeda                                                 & 2016                                                         & http://www.imdb.com/title/tt4262980/?ref\\_=fn\\_tt\\_tt\\_1\\\\\n",
       "\t Harry Potter and the Deathly Hallows: Part II                & Matt Birch                                                   & Rupert Grint                                                 & Dave Legeno                                                  & Ralph Ineson                                                 & 2011                                                         & http://www.imdb.com/title/tt1680310/?ref\\_=fn\\_tt\\_tt\\_1\\\\\n",
       "\t Godzilla Resurgence                                          & Hideaki Anno                                                 & Mark Chinnery                                                & Shin'ya Tsukamoto                                            & Atsuko Maeda                                                 & 2016                                                         & http://www.imdb.com/title/tt4262980/?ref\\_=fn\\_tt\\_tt\\_1\\\\\n",
       "\t Harry Potter and the Deathly Hallows: Part I                 & Matt Birch                                                   & Rupert Grint                                                 & Toby Jones                                                   & Alfred Enoch                                                 & 2010                                                         & http://www.imdb.com/title/tt1571403/?ref\\_=fn\\_tt\\_tt\\_1\\\\\n",
       "\t The A-Team                                                   &                                                              & George Peppard                                               & Dirk Benedict                                                & Dwight Schultz                                               &   NA                                                         & http://www.imdb.com/title/tt0084967/?ref\\_=fn\\_tt\\_tt\\_1\\\\\n",
       "\t \"10,000 B.C.             \"                                   & Christopher Barnard                                          & Mathew Buck                                                  &                                                              &                                                              &   NA                                                         & http://www.imdb.com/title/tt1869849/?ref\\_=fn\\_tt\\_tt\\_1\\\\\n",
       "\t Ben-Hur                                                      & Timur Bekmambetov                                            & Morgan Freeman                                               & Ayelet Zurer                                                 & Moises Arias                                                 & 2016                                                         & http://www.imdb.com/title/tt2638144/?ref\\_=fn\\_tt\\_tt\\_1\\\\\n",
       "\t Hannibal                                                     &                                                              & Caroline Dhavernas                                           & Scott Thompson                                               & Hettienne Park                                               &   NA                                                         & http://www.imdb.com/title/tt2243973/?ref\\_=fn\\_tt\\_tt\\_1\\\\\n",
       "\t All That Jazz                                                & Bob Fosse                                                    & Roy Scheider                                                 & Ben Vereen                                                   & Max Wright                                                   & 1979                                                         & http://www.imdb.com/title/tt0078754/?ref\\_=fn\\_tt\\_tt\\_1\\\\\n",
       "\t Daredevil                                                    &                                                              & Elden Henson                                                 & Royce Johnson                                                & Charlie Cox                                                  &   NA                                                         & http://www.imdb.com/title/tt3322312/?ref\\_=fn\\_tt\\_tt\\_1\\\\\n",
       "\t Bewitched                                                    &                                                              & Elizabeth Montgomery                                         & Agnes Moorehead                                              & Dick York                                                    &   NA                                                         & http://www.imdb.com/title/tt0057733/?ref\\_=fn\\_tt\\_tt\\_1\\\\\n",
       "\t Evolution                                                    & Lucile Hadzihalilovic                                        & Nissim Renard                                                & Roxane Duran                                                 & Julie-Marie Parmentier                                       & 2015                                                         & http://www.imdb.com/title/tt4291590/?ref\\_=fn\\_tt\\_tt\\_1\\\\\n",
       "\t Constantine                                                  &                                                              & Harold Perrineau                                             & Matt Ryan                                                    & Charles Halford                                              &   NA                                                         & http://www.imdb.com/title/tt3489184/?ref\\_=fn\\_tt\\_tt\\_1\\\\\n",
       "\t Life                                                         &                                                              & Adam Arkin                                                   & Brent Sexton                                                 & Damian Lewis                                                 &   NA                                                         & http://www.imdb.com/title/tt0874936/?ref\\_=fn\\_tt\\_tt\\_1\\\\\n",
       "\t Sleepy Hollow                                                &                                                              & Nicole Beharie                                               & Katia Winter                                                 & Lyndie Greenwood                                             &   NA                                                         & http://www.imdb.com/title/tt2647544/?ref\\_=fn\\_tt\\_tt\\_1\\\\\n",
       "\t Last Man Standing                                            &                                                              & Hector Elizondo                                              & Kaitlyn Dever                                                & Nancy Travis                                                 &   NA                                                         & http://www.imdb.com/title/tt1828327/?ref\\_=fn\\_tt\\_tt\\_1\\\\\n",
       "\t The Missing                                                  &                                                              & Jason Flemyng                                                & James Nesbitt                                                & Frances O'Connor                                             &   NA                                                         & http://www.imdb.com/title/tt3877200/?ref\\_=fn\\_tt\\_tt\\_1\\\\\n",
       "\t Rules of Engagement                                          &                                                              & Bianca Kajlich                                               & Oliver Hudson                                                & Adhir Kalyan                                                 &   NA                                                         & http://www.imdb.com/title/tt0790772/?ref\\_=fn\\_tt\\_tt\\_1\\\\\n",
       "\\end{tabular}\n"
      ],
      "text/markdown": [
       "\n",
       "movie_title | director_name | actor_1_name | actor_2_name | actor_3_name | title_year | movie_imdb_link | \n",
       "|---|---|---|---|---|---|---|---|---|---|---|---|---|---|---|---|---|---|---|---|\n",
       "| Star Wars: Episode VII - The Force Awakens           | Doug Walker                                          | Doug Walker                                          | Rob Walker                                           |                                                      |   NA                                                 | http://www.imdb.com/title/tt5289954/?ref_=fn_tt_tt_1 | \n",
       "| The Lovers                                           | Roland JoffÃ©                                        | Tamsin Egerton                                       | Alice Englert                                        | Bipasha Basu                                         | 2015                                                 | http://www.imdb.com/title/tt1321869/?ref_=fn_tt_tt_1 | \n",
       "| Godzilla Resurgence                                  | Hideaki Anno                                         | Mark Chinnery                                        | Shin'ya Tsukamoto                                    | Atsuko Maeda                                         | 2016                                                 | http://www.imdb.com/title/tt4262980/?ref_=fn_tt_tt_1 | \n",
       "| Harry Potter and the Deathly Hallows: Part II        | Matt Birch                                           | Rupert Grint                                         | Dave Legeno                                          | Ralph Ineson                                         | 2011                                                 | http://www.imdb.com/title/tt1680310/?ref_=fn_tt_tt_1 | \n",
       "| Godzilla Resurgence                                  | Hideaki Anno                                         | Mark Chinnery                                        | Shin'ya Tsukamoto                                    | Atsuko Maeda                                         | 2016                                                 | http://www.imdb.com/title/tt4262980/?ref_=fn_tt_tt_1 | \n",
       "| Harry Potter and the Deathly Hallows: Part I         | Matt Birch                                           | Rupert Grint                                         | Toby Jones                                           | Alfred Enoch                                         | 2010                                                 | http://www.imdb.com/title/tt1571403/?ref_=fn_tt_tt_1 | \n",
       "| The A-Team                                           |                                                      | George Peppard                                       | Dirk Benedict                                        | Dwight Schultz                                       |   NA                                                 | http://www.imdb.com/title/tt0084967/?ref_=fn_tt_tt_1 | \n",
       "| \"10,000 B.C.             \"                           | Christopher Barnard                                  | Mathew Buck                                          |                                                      |                                                      |   NA                                                 | http://www.imdb.com/title/tt1869849/?ref_=fn_tt_tt_1 | \n",
       "| Ben-Hur                                              | Timur Bekmambetov                                    | Morgan Freeman                                       | Ayelet Zurer                                         | Moises Arias                                         | 2016                                                 | http://www.imdb.com/title/tt2638144/?ref_=fn_tt_tt_1 | \n",
       "| Hannibal                                             |                                                      | Caroline Dhavernas                                   | Scott Thompson                                       | Hettienne Park                                       |   NA                                                 | http://www.imdb.com/title/tt2243973/?ref_=fn_tt_tt_1 | \n",
       "| All That Jazz                                        | Bob Fosse                                            | Roy Scheider                                         | Ben Vereen                                           | Max Wright                                           | 1979                                                 | http://www.imdb.com/title/tt0078754/?ref_=fn_tt_tt_1 | \n",
       "| Daredevil                                            |                                                      | Elden Henson                                         | Royce Johnson                                        | Charlie Cox                                          |   NA                                                 | http://www.imdb.com/title/tt3322312/?ref_=fn_tt_tt_1 | \n",
       "| Bewitched                                            |                                                      | Elizabeth Montgomery                                 | Agnes Moorehead                                      | Dick York                                            |   NA                                                 | http://www.imdb.com/title/tt0057733/?ref_=fn_tt_tt_1 | \n",
       "| Evolution                                            | Lucile Hadzihalilovic                                | Nissim Renard                                        | Roxane Duran                                         | Julie-Marie Parmentier                               | 2015                                                 | http://www.imdb.com/title/tt4291590/?ref_=fn_tt_tt_1 | \n",
       "| Constantine                                          |                                                      | Harold Perrineau                                     | Matt Ryan                                            | Charles Halford                                      |   NA                                                 | http://www.imdb.com/title/tt3489184/?ref_=fn_tt_tt_1 | \n",
       "| Life                                                 |                                                      | Adam Arkin                                           | Brent Sexton                                         | Damian Lewis                                         |   NA                                                 | http://www.imdb.com/title/tt0874936/?ref_=fn_tt_tt_1 | \n",
       "| Sleepy Hollow                                        |                                                      | Nicole Beharie                                       | Katia Winter                                         | Lyndie Greenwood                                     |   NA                                                 | http://www.imdb.com/title/tt2647544/?ref_=fn_tt_tt_1 | \n",
       "| Last Man Standing                                    |                                                      | Hector Elizondo                                      | Kaitlyn Dever                                        | Nancy Travis                                         |   NA                                                 | http://www.imdb.com/title/tt1828327/?ref_=fn_tt_tt_1 | \n",
       "| The Missing                                          |                                                      | Jason Flemyng                                        | James Nesbitt                                        | Frances O'Connor                                     |   NA                                                 | http://www.imdb.com/title/tt3877200/?ref_=fn_tt_tt_1 | \n",
       "| Rules of Engagement                                  |                                                      | Bianca Kajlich                                       | Oliver Hudson                                        | Adhir Kalyan                                         |   NA                                                 | http://www.imdb.com/title/tt0790772/?ref_=fn_tt_tt_1 | \n",
       "\n",
       "\n"
      ],
      "text/plain": [
       "   movie_title                                   director_name        \n",
       "1  Star Wars: Episode VII - The Force Awakens    Doug Walker          \n",
       "2  The Lovers                                    Roland JoffÃ©        \n",
       "3  Godzilla Resurgence                           Hideaki Anno         \n",
       "4  Harry Potter and the Deathly Hallows: Part II Matt Birch           \n",
       "5  Godzilla Resurgence                           Hideaki Anno         \n",
       "6  Harry Potter and the Deathly Hallows: Part I  Matt Birch           \n",
       "7  The A-Team                                                         \n",
       "8  \"10,000 B.C.             \"                    Christopher Barnard  \n",
       "9  Ben-Hur                                       Timur Bekmambetov    \n",
       "10 Hannibal                                                           \n",
       "11 All That Jazz                                 Bob Fosse            \n",
       "12 Daredevil                                                          \n",
       "13 Bewitched                                                          \n",
       "14 Evolution                                     Lucile Hadzihalilovic\n",
       "15 Constantine                                                        \n",
       "16 Life                                                               \n",
       "17 Sleepy Hollow                                                      \n",
       "18 Last Man Standing                                                  \n",
       "19 The Missing                                                        \n",
       "20 Rules of Engagement                                                \n",
       "   actor_1_name         actor_2_name      actor_3_name           title_year\n",
       "1  Doug Walker          Rob Walker                                 NA      \n",
       "2  Tamsin Egerton       Alice Englert     Bipasha Basu           2015      \n",
       "3  Mark Chinnery        Shin'ya Tsukamoto Atsuko Maeda           2016      \n",
       "4  Rupert Grint         Dave Legeno       Ralph Ineson           2011      \n",
       "5  Mark Chinnery        Shin'ya Tsukamoto Atsuko Maeda           2016      \n",
       "6  Rupert Grint         Toby Jones        Alfred Enoch           2010      \n",
       "7  George Peppard       Dirk Benedict     Dwight Schultz           NA      \n",
       "8  Mathew Buck                                                     NA      \n",
       "9  Morgan Freeman       Ayelet Zurer      Moises Arias           2016      \n",
       "10 Caroline Dhavernas   Scott Thompson    Hettienne Park           NA      \n",
       "11 Roy Scheider         Ben Vereen        Max Wright             1979      \n",
       "12 Elden Henson         Royce Johnson     Charlie Cox              NA      \n",
       "13 Elizabeth Montgomery Agnes Moorehead   Dick York                NA      \n",
       "14 Nissim Renard        Roxane Duran      Julie-Marie Parmentier 2015      \n",
       "15 Harold Perrineau     Matt Ryan         Charles Halford          NA      \n",
       "16 Adam Arkin           Brent Sexton      Damian Lewis             NA      \n",
       "17 Nicole Beharie       Katia Winter      Lyndie Greenwood         NA      \n",
       "18 Hector Elizondo      Kaitlyn Dever     Nancy Travis             NA      \n",
       "19 Jason Flemyng        James Nesbitt     Frances O'Connor         NA      \n",
       "20 Bianca Kajlich       Oliver Hudson     Adhir Kalyan             NA      \n",
       "   movie_imdb_link                                     \n",
       "1  http://www.imdb.com/title/tt5289954/?ref_=fn_tt_tt_1\n",
       "2  http://www.imdb.com/title/tt1321869/?ref_=fn_tt_tt_1\n",
       "3  http://www.imdb.com/title/tt4262980/?ref_=fn_tt_tt_1\n",
       "4  http://www.imdb.com/title/tt1680310/?ref_=fn_tt_tt_1\n",
       "5  http://www.imdb.com/title/tt4262980/?ref_=fn_tt_tt_1\n",
       "6  http://www.imdb.com/title/tt1571403/?ref_=fn_tt_tt_1\n",
       "7  http://www.imdb.com/title/tt0084967/?ref_=fn_tt_tt_1\n",
       "8  http://www.imdb.com/title/tt1869849/?ref_=fn_tt_tt_1\n",
       "9  http://www.imdb.com/title/tt2638144/?ref_=fn_tt_tt_1\n",
       "10 http://www.imdb.com/title/tt2243973/?ref_=fn_tt_tt_1\n",
       "11 http://www.imdb.com/title/tt0078754/?ref_=fn_tt_tt_1\n",
       "12 http://www.imdb.com/title/tt3322312/?ref_=fn_tt_tt_1\n",
       "13 http://www.imdb.com/title/tt0057733/?ref_=fn_tt_tt_1\n",
       "14 http://www.imdb.com/title/tt4291590/?ref_=fn_tt_tt_1\n",
       "15 http://www.imdb.com/title/tt3489184/?ref_=fn_tt_tt_1\n",
       "16 http://www.imdb.com/title/tt0874936/?ref_=fn_tt_tt_1\n",
       "17 http://www.imdb.com/title/tt2647544/?ref_=fn_tt_tt_1\n",
       "18 http://www.imdb.com/title/tt1828327/?ref_=fn_tt_tt_1\n",
       "19 http://www.imdb.com/title/tt3877200/?ref_=fn_tt_tt_1\n",
       "20 http://www.imdb.com/title/tt0790772/?ref_=fn_tt_tt_1"
      ]
     },
     "metadata": {},
     "output_type": "display_data"
    }
   ],
   "source": [
    "print(paste0(\"Number of rows: \",nrow(subset(movies,is.na(movies$gross)&is.na(movies$budget)))))\n",
    "head(subset(movies,is.na(movies$gross)&is.na(movies$budget),\n",
    "            select=c(\"movie_title\",\"director_name\",\"actor_1_name\",\"actor_2_name\",\n",
    "                     \"actor_3_name\",\"title_year\",\"movie_imdb_link\")), n=20)"
   ]
  },
  {
   "cell_type": "markdown",
   "metadata": {},
   "source": [
    "In these data, 13 observations, on a total of 20, come from the wrong IMDB page, and six are movies whose IMDB page don't show that information and one is a duplicate. From that sample, I notice that data who were mistakenly taken from the IMDB page of a TV show doesn't have a value for the variable \"director_name\", since generally more than one director work on a TV show, and for the variable \"title_year\", since they often run for more than a season. That could indicate that missing value for those two variables and the variable \"gross\" and/or \"budget\" is a strong indicator of an odd observation. \n",
    "\n",
    "Let's look at some examples of observations were only \"gross\" values is missing to see if that hypothesis is correct."
   ]
  },
  {
   "cell_type": "code",
   "execution_count": 460,
   "metadata": {
    "collapsed": false
   },
   "outputs": [
    {
     "name": "stdout",
     "output_type": "stream",
     "text": [
      "[1] \"Number of rows: 660\"\n"
     ]
    },
    {
     "data": {
      "text/html": [
       "<table>\n",
       "<thead><tr><th scope=col>movie_title</th><th scope=col>director_name</th><th scope=col>actor_1_name</th><th scope=col>actor_2_name</th><th scope=col>actor_3_name</th><th scope=col>title_year</th><th scope=col>movie_imdb_link</th></tr></thead>\n",
       "<tbody>\n",
       "\t<tr><td>Miami Vice                                          </td><td>                                                    </td><td>Don Johnson                                         </td><td>Philip Michael Thomas                               </td><td>John Diehl                                          </td><td>  NA                                                </td><td>http://www.imdb.com/title/tt0086759/?ref_=fn_tt_tt_1</td></tr>\n",
       "\t<tr><td>Asterix at the Olympic Games                        </td><td>FrÃ©dÃ©ric Forestier                                </td><td>Alain Delon                                         </td><td>Santiago Segura                                     </td><td>Vanessa Hessler                                     </td><td>2008                                                </td><td>http://www.imdb.com/title/tt0463872/?ref_=fn_tt_tt_1</td></tr>\n",
       "\t<tr><td>Creepshow                                           </td><td>George A. Romero                                    </td><td>Ted Danson                                          </td><td>Hal Holbrook                                        </td><td>Adrienne Barbeau                                    </td><td>1982                                                </td><td>http://www.imdb.com/title/tt0083767/?ref_=fn_tt_tt_1</td></tr>\n",
       "\t<tr><td>Top Cat Begins                                      </td><td>AndrÃ©s Couturier                                   </td><td>Sariann Monaco                                      </td><td>David Hoffman                                       </td><td>Ben Diskin                                          </td><td>2015                                                </td><td>http://www.imdb.com/title/tt4057916/?ref_=fn_tt_tt_1</td></tr>\n",
       "\t<tr><td>Red Dawn                                            </td><td>John Milius                                         </td><td>Lea Thompson                                        </td><td>Jennifer Grey                                       </td><td>William Smith                                       </td><td>1984                                                </td><td>http://www.imdb.com/title/tt0087985/?ref_=fn_tt_tt_1</td></tr>\n",
       "\t<tr><td>Xi you ji zhi: Sun Wukong san da Baigu Jing         </td><td>Pou-Soi Cheang                                      </td><td>Li Gong                                             </td><td>Aaron Kwok                                          </td><td>Eddie Peng                                          </td><td>2016                                                </td><td>http://www.imdb.com/title/tt4591310/?ref_=fn_tt_tt_1</td></tr>\n",
       "\t<tr><td>\"Sabrina, the Teenage Witch             \"           </td><td>                                                    </td><td>Nate Richert                                        </td><td>Soleil Moon Frye                                    </td><td>Caroline Rhea                                       </td><td>  NA                                                </td><td>http://www.imdb.com/title/tt0115341/?ref_=fn_tt_tt_1</td></tr>\n",
       "\t<tr><td>Stargate SG-1                                       </td><td>                                                    </td><td>Christopher Judge                                   </td><td>Don S. Davis                                        </td><td>Gary Jones                                          </td><td>  NA                                                </td><td>http://www.imdb.com/title/tt0118480/?ref_=fn_tt_tt_1</td></tr>\n",
       "\t<tr><td>Lolita                                              </td><td>Stanley Kubrick                                     </td><td>James Mason                                         </td><td>Shelley Winters                                     </td><td>Lois Maxwell                                        </td><td>1962                                                </td><td>http://www.imdb.com/title/tt0056193/?ref_=fn_tt_tt_1</td></tr>\n",
       "\t<tr><td>Eye See You                                         </td><td>Jim Gillespie                                       </td><td>Sylvester Stallone                                  </td><td>Tom Berenger                                        </td><td>Charles S. Dutton                                   </td><td>2002                                                </td><td>http://www.imdb.com/title/tt0160184/?ref_=fn_tt_tt_1</td></tr>\n",
       "\t<tr><td>The Tooth Fairy                                     </td><td>Chuck Bowman                                        </td><td>P.J. Soles                                          </td><td>Lochlyn Munro                                       </td><td>Steve Bacic                                         </td><td>2006                                                </td><td>http://www.imdb.com/title/tt0473553/?ref_=fn_tt_tt_1</td></tr>\n",
       "\t<tr><td>First Blood                                         </td><td>Ted Kotcheff                                        </td><td>Sylvester Stallone                                  </td><td>Brian Dennehy                                       </td><td>Chris Mulkey                                        </td><td>1982                                                </td><td>http://www.imdb.com/title/tt0083944/?ref_=fn_tt_tt_1</td></tr>\n",
       "\t<tr><td>Solaris                                             </td><td>Andrei Tarkovsky                                    </td><td>Donatas Banionis                                    </td><td>Anatoliy Solonitsyn                                 </td><td>Natalya Bondarchuk                                  </td><td>1972                                                </td><td>http://www.imdb.com/title/tt0069293/?ref_=fn_tt_tt_1</td></tr>\n",
       "\t<tr><td>Inchon                                              </td><td>Terence Young                                       </td><td>Laurence Olivier                                    </td><td>Ben Gazzara                                         </td><td>Jacqueline Bisset                                   </td><td>1981                                                </td><td>http://www.imdb.com/title/tt0084132/?ref_=fn_tt_tt_1</td></tr>\n",
       "\t<tr><td>\"Yours, Mine and Ours \"                             </td><td>Melville Shavelson                                  </td><td>Lucille Ball                                        </td><td>Tom Bosley                                          </td><td>Tim Matheson                                        </td><td>1968                                                </td><td>http://www.imdb.com/title/tt0063829/?ref_=fn_tt_tt_1</td></tr>\n",
       "\t<tr><td>Foodfight!                                          </td><td>Lawrence Kasanoff                                   </td><td>Jerry Stiller                                       </td><td>Larry Miller                                        </td><td>Harvey Fierstein                                    </td><td>2012                                                </td><td>http://www.imdb.com/title/tt0249516/?ref_=fn_tt_tt_1</td></tr>\n",
       "\t<tr><td>A Monster in Paris                                  </td><td>Bibo Bergeron                                       </td><td>Adam Goldberg                                       </td><td>Bob Balaban                                         </td><td>FranÃ§ois Cluzet                                    </td><td>2011                                                </td><td>http://www.imdb.com/title/tt0961097/?ref_=fn_tt_tt_1</td></tr>\n",
       "\t<tr><td>Dragon Nest: Warriors' Dawn                         </td><td>Yuefeng Song                                        </td><td>Blythe Auffarth                                     </td><td>Bianca Collins                                      </td><td>Jiao Xu                                             </td><td>2014                                                </td><td>http://www.imdb.com/title/tt2911342/?ref_=fn_tt_tt_1</td></tr>\n",
       "\t<tr><td>Virgin Territory                                    </td><td>David Leland                                        </td><td>Hayden Christensen                                  </td><td>Ryan Cartwright                                     </td><td>David Walliams                                      </td><td>2007                                                </td><td>http://www.imdb.com/title/tt0437954/?ref_=fn_tt_tt_1</td></tr>\n",
       "\t<tr><td>Obitaemyy ostrov                                    </td><td>Fedor Bondarchuk                                    </td><td>Yuliya Snigir                                       </td><td>Fedor Bondarchuk                                    </td><td>Aleksey Serebryakov                                 </td><td>2009                                                </td><td>http://www.imdb.com/title/tt0972558/?ref_=fn_tt_tt_1</td></tr>\n",
       "</tbody>\n",
       "</table>\n"
      ],
      "text/latex": [
       "\\begin{tabular}{r|lllllll}\n",
       " movie\\_title & director\\_name & actor\\_1\\_name & actor\\_2\\_name & actor\\_3\\_name & title\\_year & movie\\_imdb\\_link\\\\\n",
       "\\hline\n",
       "\t Miami Vice                                                   &                                                              & Don Johnson                                                  & Philip Michael Thomas                                        & John Diehl                                                   &   NA                                                         & http://www.imdb.com/title/tt0086759/?ref\\_=fn\\_tt\\_tt\\_1\\\\\n",
       "\t Asterix at the Olympic Games                                 & FrÃ©dÃ©ric Forestier                                         & Alain Delon                                                  & Santiago Segura                                              & Vanessa Hessler                                              & 2008                                                         & http://www.imdb.com/title/tt0463872/?ref\\_=fn\\_tt\\_tt\\_1\\\\\n",
       "\t Creepshow                                                    & George A. Romero                                             & Ted Danson                                                   & Hal Holbrook                                                 & Adrienne Barbeau                                             & 1982                                                         & http://www.imdb.com/title/tt0083767/?ref\\_=fn\\_tt\\_tt\\_1\\\\\n",
       "\t Top Cat Begins                                               & AndrÃ©s Couturier                                            & Sariann Monaco                                               & David Hoffman                                                & Ben Diskin                                                   & 2015                                                         & http://www.imdb.com/title/tt4057916/?ref\\_=fn\\_tt\\_tt\\_1\\\\\n",
       "\t Red Dawn                                                     & John Milius                                                  & Lea Thompson                                                 & Jennifer Grey                                                & William Smith                                                & 1984                                                         & http://www.imdb.com/title/tt0087985/?ref\\_=fn\\_tt\\_tt\\_1\\\\\n",
       "\t Xi you ji zhi: Sun Wukong san da Baigu Jing                  & Pou-Soi Cheang                                               & Li Gong                                                      & Aaron Kwok                                                   & Eddie Peng                                                   & 2016                                                         & http://www.imdb.com/title/tt4591310/?ref\\_=fn\\_tt\\_tt\\_1\\\\\n",
       "\t \"Sabrina, the Teenage Witch             \"                    &                                                              & Nate Richert                                                 & Soleil Moon Frye                                             & Caroline Rhea                                                &   NA                                                         & http://www.imdb.com/title/tt0115341/?ref\\_=fn\\_tt\\_tt\\_1\\\\\n",
       "\t Stargate SG-1                                                &                                                              & Christopher Judge                                            & Don S. Davis                                                 & Gary Jones                                                   &   NA                                                         & http://www.imdb.com/title/tt0118480/?ref\\_=fn\\_tt\\_tt\\_1\\\\\n",
       "\t Lolita                                                       & Stanley Kubrick                                              & James Mason                                                  & Shelley Winters                                              & Lois Maxwell                                                 & 1962                                                         & http://www.imdb.com/title/tt0056193/?ref\\_=fn\\_tt\\_tt\\_1\\\\\n",
       "\t Eye See You                                                  & Jim Gillespie                                                & Sylvester Stallone                                           & Tom Berenger                                                 & Charles S. Dutton                                            & 2002                                                         & http://www.imdb.com/title/tt0160184/?ref\\_=fn\\_tt\\_tt\\_1\\\\\n",
       "\t The Tooth Fairy                                              & Chuck Bowman                                                 & P.J. Soles                                                   & Lochlyn Munro                                                & Steve Bacic                                                  & 2006                                                         & http://www.imdb.com/title/tt0473553/?ref\\_=fn\\_tt\\_tt\\_1\\\\\n",
       "\t First Blood                                                  & Ted Kotcheff                                                 & Sylvester Stallone                                           & Brian Dennehy                                                & Chris Mulkey                                                 & 1982                                                         & http://www.imdb.com/title/tt0083944/?ref\\_=fn\\_tt\\_tt\\_1\\\\\n",
       "\t Solaris                                                      & Andrei Tarkovsky                                             & Donatas Banionis                                             & Anatoliy Solonitsyn                                          & Natalya Bondarchuk                                           & 1972                                                         & http://www.imdb.com/title/tt0069293/?ref\\_=fn\\_tt\\_tt\\_1\\\\\n",
       "\t Inchon                                                       & Terence Young                                                & Laurence Olivier                                             & Ben Gazzara                                                  & Jacqueline Bisset                                            & 1981                                                         & http://www.imdb.com/title/tt0084132/?ref\\_=fn\\_tt\\_tt\\_1\\\\\n",
       "\t \"Yours, Mine and Ours \"                                      & Melville Shavelson                                           & Lucille Ball                                                 & Tom Bosley                                                   & Tim Matheson                                                 & 1968                                                         & http://www.imdb.com/title/tt0063829/?ref\\_=fn\\_tt\\_tt\\_1\\\\\n",
       "\t Foodfight!                                                   & Lawrence Kasanoff                                            & Jerry Stiller                                                & Larry Miller                                                 & Harvey Fierstein                                             & 2012                                                         & http://www.imdb.com/title/tt0249516/?ref\\_=fn\\_tt\\_tt\\_1\\\\\n",
       "\t A Monster in Paris                                           & Bibo Bergeron                                                & Adam Goldberg                                                & Bob Balaban                                                  & FranÃ§ois Cluzet                                             & 2011                                                         & http://www.imdb.com/title/tt0961097/?ref\\_=fn\\_tt\\_tt\\_1\\\\\n",
       "\t Dragon Nest: Warriors' Dawn                                  & Yuefeng Song                                                 & Blythe Auffarth                                              & Bianca Collins                                               & Jiao Xu                                                      & 2014                                                         & http://www.imdb.com/title/tt2911342/?ref\\_=fn\\_tt\\_tt\\_1\\\\\n",
       "\t Virgin Territory                                             & David Leland                                                 & Hayden Christensen                                           & Ryan Cartwright                                              & David Walliams                                               & 2007                                                         & http://www.imdb.com/title/tt0437954/?ref\\_=fn\\_tt\\_tt\\_1\\\\\n",
       "\t Obitaemyy ostrov                                             & Fedor Bondarchuk                                             & Yuliya Snigir                                                & Fedor Bondarchuk                                             & Aleksey Serebryakov                                          & 2009                                                         & http://www.imdb.com/title/tt0972558/?ref\\_=fn\\_tt\\_tt\\_1\\\\\n",
       "\\end{tabular}\n"
      ],
      "text/markdown": [
       "\n",
       "movie_title | director_name | actor_1_name | actor_2_name | actor_3_name | title_year | movie_imdb_link | \n",
       "|---|---|---|---|---|---|---|---|---|---|---|---|---|---|---|---|---|---|---|---|\n",
       "| Miami Vice                                           |                                                      | Don Johnson                                          | Philip Michael Thomas                                | John Diehl                                           |   NA                                                 | http://www.imdb.com/title/tt0086759/?ref_=fn_tt_tt_1 | \n",
       "| Asterix at the Olympic Games                         | FrÃ©dÃ©ric Forestier                                 | Alain Delon                                          | Santiago Segura                                      | Vanessa Hessler                                      | 2008                                                 | http://www.imdb.com/title/tt0463872/?ref_=fn_tt_tt_1 | \n",
       "| Creepshow                                            | George A. Romero                                     | Ted Danson                                           | Hal Holbrook                                         | Adrienne Barbeau                                     | 1982                                                 | http://www.imdb.com/title/tt0083767/?ref_=fn_tt_tt_1 | \n",
       "| Top Cat Begins                                       | AndrÃ©s Couturier                                    | Sariann Monaco                                       | David Hoffman                                        | Ben Diskin                                           | 2015                                                 | http://www.imdb.com/title/tt4057916/?ref_=fn_tt_tt_1 | \n",
       "| Red Dawn                                             | John Milius                                          | Lea Thompson                                         | Jennifer Grey                                        | William Smith                                        | 1984                                                 | http://www.imdb.com/title/tt0087985/?ref_=fn_tt_tt_1 | \n",
       "| Xi you ji zhi: Sun Wukong san da Baigu Jing          | Pou-Soi Cheang                                       | Li Gong                                              | Aaron Kwok                                           | Eddie Peng                                           | 2016                                                 | http://www.imdb.com/title/tt4591310/?ref_=fn_tt_tt_1 | \n",
       "| \"Sabrina, the Teenage Witch             \"            |                                                      | Nate Richert                                         | Soleil Moon Frye                                     | Caroline Rhea                                        |   NA                                                 | http://www.imdb.com/title/tt0115341/?ref_=fn_tt_tt_1 | \n",
       "| Stargate SG-1                                        |                                                      | Christopher Judge                                    | Don S. Davis                                         | Gary Jones                                           |   NA                                                 | http://www.imdb.com/title/tt0118480/?ref_=fn_tt_tt_1 | \n",
       "| Lolita                                               | Stanley Kubrick                                      | James Mason                                          | Shelley Winters                                      | Lois Maxwell                                         | 1962                                                 | http://www.imdb.com/title/tt0056193/?ref_=fn_tt_tt_1 | \n",
       "| Eye See You                                          | Jim Gillespie                                        | Sylvester Stallone                                   | Tom Berenger                                         | Charles S. Dutton                                    | 2002                                                 | http://www.imdb.com/title/tt0160184/?ref_=fn_tt_tt_1 | \n",
       "| The Tooth Fairy                                      | Chuck Bowman                                         | P.J. Soles                                           | Lochlyn Munro                                        | Steve Bacic                                          | 2006                                                 | http://www.imdb.com/title/tt0473553/?ref_=fn_tt_tt_1 | \n",
       "| First Blood                                          | Ted Kotcheff                                         | Sylvester Stallone                                   | Brian Dennehy                                        | Chris Mulkey                                         | 1982                                                 | http://www.imdb.com/title/tt0083944/?ref_=fn_tt_tt_1 | \n",
       "| Solaris                                              | Andrei Tarkovsky                                     | Donatas Banionis                                     | Anatoliy Solonitsyn                                  | Natalya Bondarchuk                                   | 1972                                                 | http://www.imdb.com/title/tt0069293/?ref_=fn_tt_tt_1 | \n",
       "| Inchon                                               | Terence Young                                        | Laurence Olivier                                     | Ben Gazzara                                          | Jacqueline Bisset                                    | 1981                                                 | http://www.imdb.com/title/tt0084132/?ref_=fn_tt_tt_1 | \n",
       "| \"Yours, Mine and Ours \"                              | Melville Shavelson                                   | Lucille Ball                                         | Tom Bosley                                           | Tim Matheson                                         | 1968                                                 | http://www.imdb.com/title/tt0063829/?ref_=fn_tt_tt_1 | \n",
       "| Foodfight!                                           | Lawrence Kasanoff                                    | Jerry Stiller                                        | Larry Miller                                         | Harvey Fierstein                                     | 2012                                                 | http://www.imdb.com/title/tt0249516/?ref_=fn_tt_tt_1 | \n",
       "| A Monster in Paris                                   | Bibo Bergeron                                        | Adam Goldberg                                        | Bob Balaban                                          | FranÃ§ois Cluzet                                     | 2011                                                 | http://www.imdb.com/title/tt0961097/?ref_=fn_tt_tt_1 | \n",
       "| Dragon Nest: Warriors' Dawn                          | Yuefeng Song                                         | Blythe Auffarth                                      | Bianca Collins                                       | Jiao Xu                                              | 2014                                                 | http://www.imdb.com/title/tt2911342/?ref_=fn_tt_tt_1 | \n",
       "| Virgin Territory                                     | David Leland                                         | Hayden Christensen                                   | Ryan Cartwright                                      | David Walliams                                       | 2007                                                 | http://www.imdb.com/title/tt0437954/?ref_=fn_tt_tt_1 | \n",
       "| Obitaemyy ostrov                                     | Fedor Bondarchuk                                     | Yuliya Snigir                                        | Fedor Bondarchuk                                     | Aleksey Serebryakov                                  | 2009                                                 | http://www.imdb.com/title/tt0972558/?ref_=fn_tt_tt_1 | \n",
       "\n",
       "\n"
      ],
      "text/plain": [
       "   movie_title                                 director_name       \n",
       "1  Miami Vice                                                      \n",
       "2  Asterix at the Olympic Games                FrÃ©dÃ©ric Forestier\n",
       "3  Creepshow                                   George A. Romero    \n",
       "4  Top Cat Begins                              AndrÃ©s Couturier   \n",
       "5  Red Dawn                                    John Milius         \n",
       "6  Xi you ji zhi: Sun Wukong san da Baigu Jing Pou-Soi Cheang      \n",
       "7  \"Sabrina, the Teenage Witch             \"                       \n",
       "8  Stargate SG-1                                                   \n",
       "9  Lolita                                      Stanley Kubrick     \n",
       "10 Eye See You                                 Jim Gillespie       \n",
       "11 The Tooth Fairy                             Chuck Bowman        \n",
       "12 First Blood                                 Ted Kotcheff        \n",
       "13 Solaris                                     Andrei Tarkovsky    \n",
       "14 Inchon                                      Terence Young       \n",
       "15 \"Yours, Mine and Ours \"                     Melville Shavelson  \n",
       "16 Foodfight!                                  Lawrence Kasanoff   \n",
       "17 A Monster in Paris                          Bibo Bergeron       \n",
       "18 Dragon Nest: Warriors' Dawn                 Yuefeng Song        \n",
       "19 Virgin Territory                            David Leland        \n",
       "20 Obitaemyy ostrov                            Fedor Bondarchuk    \n",
       "   actor_1_name       actor_2_name          actor_3_name        title_year\n",
       "1  Don Johnson        Philip Michael Thomas John Diehl            NA      \n",
       "2  Alain Delon        Santiago Segura       Vanessa Hessler     2008      \n",
       "3  Ted Danson         Hal Holbrook          Adrienne Barbeau    1982      \n",
       "4  Sariann Monaco     David Hoffman         Ben Diskin          2015      \n",
       "5  Lea Thompson       Jennifer Grey         William Smith       1984      \n",
       "6  Li Gong            Aaron Kwok            Eddie Peng          2016      \n",
       "7  Nate Richert       Soleil Moon Frye      Caroline Rhea         NA      \n",
       "8  Christopher Judge  Don S. Davis          Gary Jones            NA      \n",
       "9  James Mason        Shelley Winters       Lois Maxwell        1962      \n",
       "10 Sylvester Stallone Tom Berenger          Charles S. Dutton   2002      \n",
       "11 P.J. Soles         Lochlyn Munro         Steve Bacic         2006      \n",
       "12 Sylvester Stallone Brian Dennehy         Chris Mulkey        1982      \n",
       "13 Donatas Banionis   Anatoliy Solonitsyn   Natalya Bondarchuk  1972      \n",
       "14 Laurence Olivier   Ben Gazzara           Jacqueline Bisset   1981      \n",
       "15 Lucille Ball       Tom Bosley            Tim Matheson        1968      \n",
       "16 Jerry Stiller      Larry Miller          Harvey Fierstein    2012      \n",
       "17 Adam Goldberg      Bob Balaban           FranÃ§ois Cluzet    2011      \n",
       "18 Blythe Auffarth    Bianca Collins        Jiao Xu             2014      \n",
       "19 Hayden Christensen Ryan Cartwright       David Walliams      2007      \n",
       "20 Yuliya Snigir      Fedor Bondarchuk      Aleksey Serebryakov 2009      \n",
       "   movie_imdb_link                                     \n",
       "1  http://www.imdb.com/title/tt0086759/?ref_=fn_tt_tt_1\n",
       "2  http://www.imdb.com/title/tt0463872/?ref_=fn_tt_tt_1\n",
       "3  http://www.imdb.com/title/tt0083767/?ref_=fn_tt_tt_1\n",
       "4  http://www.imdb.com/title/tt4057916/?ref_=fn_tt_tt_1\n",
       "5  http://www.imdb.com/title/tt0087985/?ref_=fn_tt_tt_1\n",
       "6  http://www.imdb.com/title/tt4591310/?ref_=fn_tt_tt_1\n",
       "7  http://www.imdb.com/title/tt0115341/?ref_=fn_tt_tt_1\n",
       "8  http://www.imdb.com/title/tt0118480/?ref_=fn_tt_tt_1\n",
       "9  http://www.imdb.com/title/tt0056193/?ref_=fn_tt_tt_1\n",
       "10 http://www.imdb.com/title/tt0160184/?ref_=fn_tt_tt_1\n",
       "11 http://www.imdb.com/title/tt0473553/?ref_=fn_tt_tt_1\n",
       "12 http://www.imdb.com/title/tt0083944/?ref_=fn_tt_tt_1\n",
       "13 http://www.imdb.com/title/tt0069293/?ref_=fn_tt_tt_1\n",
       "14 http://www.imdb.com/title/tt0084132/?ref_=fn_tt_tt_1\n",
       "15 http://www.imdb.com/title/tt0063829/?ref_=fn_tt_tt_1\n",
       "16 http://www.imdb.com/title/tt0249516/?ref_=fn_tt_tt_1\n",
       "17 http://www.imdb.com/title/tt0961097/?ref_=fn_tt_tt_1\n",
       "18 http://www.imdb.com/title/tt2911342/?ref_=fn_tt_tt_1\n",
       "19 http://www.imdb.com/title/tt0437954/?ref_=fn_tt_tt_1\n",
       "20 http://www.imdb.com/title/tt0972558/?ref_=fn_tt_tt_1"
      ]
     },
     "metadata": {},
     "output_type": "display_data"
    }
   ],
   "source": [
    "print(paste0(\"Number of rows: \",nrow(subset(movies,is.na(movies$gross)&!is.na(movies$budget)))))\n",
    "head(subset(movies,is.na(movies$gross)&!is.na(movies$budget),\n",
    "            select=c(\"movie_title\",\"director_name\",\"actor_1_name\",\"actor_2_name\",\n",
    "                     \"actor_3_name\",\"title_year\",\"movie_imdb_link\")), n=20)"
   ]
  },
  {
   "cell_type": "markdown",
   "metadata": {},
   "source": [
    "Three observations out of 20 are from a TV show instead of the movie of the same name and they all have missing value in the column \"director_name\" and \"title_year\".\n",
    "\n",
    "Now I look at the observations were only the \"budget\" values is missing to see if I should keep them in the data set."
   ]
  },
  {
   "cell_type": "code",
   "execution_count": 461,
   "metadata": {
    "collapsed": false
   },
   "outputs": [
    {
     "name": "stdout",
     "output_type": "stream",
     "text": [
      "[1] \"Number of rows: 268\"\n"
     ]
    },
    {
     "data": {
      "text/html": [
       "<table>\n",
       "<thead><tr><th scope=col>movie_title</th><th scope=col>director_name</th><th scope=col>actor_1_name</th><th scope=col>actor_2_name</th><th scope=col>actor_3_name</th><th scope=col>title_year</th><th scope=col>movie_imdb_link</th></tr></thead>\n",
       "<tbody>\n",
       "\t<tr><td>The Good Dinosaur                                   </td><td>Peter Sohn                                          </td><td>A.J. Buckley                                        </td><td>Jack McGraw                                         </td><td>Peter Sohn                                          </td><td>2015                                                </td><td>http://www.imdb.com/title/tt1979388/?ref_=fn_tt_tt_1</td></tr>\n",
       "\t<tr><td>Charlotte's Web                                     </td><td>Gary Winick                                         </td><td>Steve Buscemi                                       </td><td>Julia Roberts                                       </td><td>Oprah Winfrey                                       </td><td>2006                                                </td><td>http://www.imdb.com/title/tt0413895/?ref_=fn_tt_tt_1</td></tr>\n",
       "\t<tr><td>DÃ©jÃ  Vu                                           </td><td>Henry Jaglom                                        </td><td>Vanessa Redgrave                                    </td><td>Stephen Dillane                                     </td><td>Michael Brandon                                     </td><td>1997                                                </td><td>http://www.imdb.com/title/tt0119033/?ref_=fn_tt_tt_1</td></tr>\n",
       "\t<tr><td>The Edge                                            </td><td>Lee Tamahori                                        </td><td>Anthony Hopkins                                     </td><td>Harold Perrineau                                    </td><td>Bart the Bear                                       </td><td>1997                                                </td><td>http://www.imdb.com/title/tt0119051/?ref_=fn_tt_tt_1</td></tr>\n",
       "\t<tr><td>Carriers                                            </td><td>David Pastor                                        </td><td>Christopher Meloni                                  </td><td>Kiernan Shipka                                      </td><td>Lou Taylor Pucci                                    </td><td>2009                                                </td><td>http://www.imdb.com/title/tt0806203/?ref_=fn_tt_tt_1</td></tr>\n",
       "\t<tr><td>The Finest Hours                                    </td><td>Craig Gillespie                                     </td><td>Michael Raymond-James                               </td><td>Abraham Benrubi                                     </td><td>Graham McTavish                                     </td><td>2016                                                </td><td>http://www.imdb.com/title/tt2025690/?ref_=fn_tt_tt_1</td></tr>\n",
       "\t<tr><td>Dinner for Schmucks                                 </td><td>Jay Roach                                           </td><td>Steve Carell                                        </td><td>Stephanie Szostak                                   </td><td>Bruce Greenwood                                     </td><td>2010                                                </td><td>http://www.imdb.com/title/tt0427152/?ref_=fn_tt_tt_1</td></tr>\n",
       "\t<tr><td>Wild Hogs                                           </td><td>Walt Becker                                         </td><td>Jill Hennessy                                       </td><td>Tichina Arnold                                      </td><td>Drew Sidora                                         </td><td>2007                                                </td><td>http://www.imdb.com/title/tt0486946/?ref_=fn_tt_tt_1</td></tr>\n",
       "\t<tr><td>State of Play                                       </td><td>Kevin Macdonald                                     </td><td>Robin Wright                                        </td><td>Harry Lennix                                        </td><td>Michael Weston                                      </td><td>2009                                                </td><td>http://www.imdb.com/title/tt0473705/?ref_=fn_tt_tt_1</td></tr>\n",
       "\t<tr><td>Trouble with the Curve                              </td><td>Robert Lorenz                                       </td><td>Clint Eastwood                                      </td><td>Ed Lauter                                           </td><td>Bob Gunton                                          </td><td>2012                                                </td><td>http://www.imdb.com/title/tt2083383/?ref_=fn_tt_tt_1</td></tr>\n",
       "\t<tr><td>Garfield 2                                          </td><td>Tim Hill                                            </td><td>Bill Murray                                         </td><td>Roger Rees                                          </td><td>Ben Falcone                                         </td><td>2006                                                </td><td>http://www.imdb.com/title/tt0455499/?ref_=fn_tt_tt_1</td></tr>\n",
       "\t<tr><td>Deck the Halls                                      </td><td>John Whitesell                                      </td><td>Matthew Broderick                                   </td><td>Jorge Garcia                                        </td><td>Alia Shawkat                                        </td><td>2006                                                </td><td>http://www.imdb.com/title/tt0790604/?ref_=fn_tt_tt_1</td></tr>\n",
       "\t<tr><td>We Bought a Zoo                                     </td><td>Cameron Crowe                                       </td><td>Scarlett Johansson                                  </td><td>Matt Damon                                          </td><td>Stephanie Szostak                                   </td><td>2011                                                </td><td>http://www.imdb.com/title/tt1389137/?ref_=fn_tt_tt_1</td></tr>\n",
       "\t<tr><td>The Ring Two                                        </td><td>Hideo Nakata                                        </td><td>Naomi Watts                                         </td><td>Gary Cole                                           </td><td>Sissy Spacek                                        </td><td>2005                                                </td><td>http://www.imdb.com/title/tt0377109/?ref_=fn_tt_tt_1</td></tr>\n",
       "\t<tr><td>Pirate Radio                                        </td><td>Richard Curtis                                      </td><td>Philip Seymour Hoffman                              </td><td>Charlie Rowe                                        </td><td>Tom Sturridge                                       </td><td>2009                                                </td><td>http://www.imdb.com/title/tt1131729/?ref_=fn_tt_tt_1</td></tr>\n",
       "\t<tr><td>Anna Karenina                                       </td><td>Joe Wright                                          </td><td>Kelly Macdonald                                     </td><td>Guro Nagelhus Schia                                 </td><td>Matthew Macfadyen                                   </td><td>2012                                                </td><td>http://www.imdb.com/title/tt1781769/?ref_=fn_tt_tt_1</td></tr>\n",
       "\t<tr><td>Earth                                               </td><td>Deepa Mehta                                         </td><td>Nandita Das                                         </td><td>Gulshan Grover                                      </td><td>Eric Peterson                                       </td><td>1998                                                </td><td>http://www.imdb.com/title/tt0150433/?ref_=fn_tt_tt_1</td></tr>\n",
       "\t<tr><td>Get Him to the Greek                                </td><td>Nicholas Stoller                                    </td><td>Pink                                                </td><td>Mario Lopez                                         </td><td>Lino Facioli                                        </td><td>2010                                                </td><td>http://www.imdb.com/title/tt1226229/?ref_=fn_tt_tt_1</td></tr>\n",
       "\t<tr><td>Music and Lyrics                                    </td><td>Marc Lawrence                                       </td><td>Brad Garrett                                        </td><td>Scott Porter                                        </td><td>Haley Bennett                                       </td><td>2007                                                </td><td>http://www.imdb.com/title/tt0758766/?ref_=fn_tt_tt_1</td></tr>\n",
       "\t<tr><td>Soul Men                                            </td><td>Malcolm D. Lee                                      </td><td>Bernie Mac                                          </td><td>Sean Hayes                                          </td><td>Mike Epps                                           </td><td>2008                                                </td><td>http://www.imdb.com/title/tt1111948/?ref_=fn_tt_tt_1</td></tr>\n",
       "</tbody>\n",
       "</table>\n"
      ],
      "text/latex": [
       "\\begin{tabular}{r|lllllll}\n",
       " movie\\_title & director\\_name & actor\\_1\\_name & actor\\_2\\_name & actor\\_3\\_name & title\\_year & movie\\_imdb\\_link\\\\\n",
       "\\hline\n",
       "\t The Good Dinosaur                                            & Peter Sohn                                                   & A.J. Buckley                                                 & Jack McGraw                                                  & Peter Sohn                                                   & 2015                                                         & http://www.imdb.com/title/tt1979388/?ref\\_=fn\\_tt\\_tt\\_1\\\\\n",
       "\t Charlotte's Web                                              & Gary Winick                                                  & Steve Buscemi                                                & Julia Roberts                                                & Oprah Winfrey                                                & 2006                                                         & http://www.imdb.com/title/tt0413895/?ref\\_=fn\\_tt\\_tt\\_1\\\\\n",
       "\t DÃ©jÃ  Vu                                                    & Henry Jaglom                                                 & Vanessa Redgrave                                             & Stephen Dillane                                              & Michael Brandon                                              & 1997                                                         & http://www.imdb.com/title/tt0119033/?ref\\_=fn\\_tt\\_tt\\_1\\\\\n",
       "\t The Edge                                                     & Lee Tamahori                                                 & Anthony Hopkins                                              & Harold Perrineau                                             & Bart the Bear                                                & 1997                                                         & http://www.imdb.com/title/tt0119051/?ref\\_=fn\\_tt\\_tt\\_1\\\\\n",
       "\t Carriers                                                     & David Pastor                                                 & Christopher Meloni                                           & Kiernan Shipka                                               & Lou Taylor Pucci                                             & 2009                                                         & http://www.imdb.com/title/tt0806203/?ref\\_=fn\\_tt\\_tt\\_1\\\\\n",
       "\t The Finest Hours                                             & Craig Gillespie                                              & Michael Raymond-James                                        & Abraham Benrubi                                              & Graham McTavish                                              & 2016                                                         & http://www.imdb.com/title/tt2025690/?ref\\_=fn\\_tt\\_tt\\_1\\\\\n",
       "\t Dinner for Schmucks                                          & Jay Roach                                                    & Steve Carell                                                 & Stephanie Szostak                                            & Bruce Greenwood                                              & 2010                                                         & http://www.imdb.com/title/tt0427152/?ref\\_=fn\\_tt\\_tt\\_1\\\\\n",
       "\t Wild Hogs                                                    & Walt Becker                                                  & Jill Hennessy                                                & Tichina Arnold                                               & Drew Sidora                                                  & 2007                                                         & http://www.imdb.com/title/tt0486946/?ref\\_=fn\\_tt\\_tt\\_1\\\\\n",
       "\t State of Play                                                & Kevin Macdonald                                              & Robin Wright                                                 & Harry Lennix                                                 & Michael Weston                                               & 2009                                                         & http://www.imdb.com/title/tt0473705/?ref\\_=fn\\_tt\\_tt\\_1\\\\\n",
       "\t Trouble with the Curve                                       & Robert Lorenz                                                & Clint Eastwood                                               & Ed Lauter                                                    & Bob Gunton                                                   & 2012                                                         & http://www.imdb.com/title/tt2083383/?ref\\_=fn\\_tt\\_tt\\_1\\\\\n",
       "\t Garfield 2                                                   & Tim Hill                                                     & Bill Murray                                                  & Roger Rees                                                   & Ben Falcone                                                  & 2006                                                         & http://www.imdb.com/title/tt0455499/?ref\\_=fn\\_tt\\_tt\\_1\\\\\n",
       "\t Deck the Halls                                               & John Whitesell                                               & Matthew Broderick                                            & Jorge Garcia                                                 & Alia Shawkat                                                 & 2006                                                         & http://www.imdb.com/title/tt0790604/?ref\\_=fn\\_tt\\_tt\\_1\\\\\n",
       "\t We Bought a Zoo                                              & Cameron Crowe                                                & Scarlett Johansson                                           & Matt Damon                                                   & Stephanie Szostak                                            & 2011                                                         & http://www.imdb.com/title/tt1389137/?ref\\_=fn\\_tt\\_tt\\_1\\\\\n",
       "\t The Ring Two                                                 & Hideo Nakata                                                 & Naomi Watts                                                  & Gary Cole                                                    & Sissy Spacek                                                 & 2005                                                         & http://www.imdb.com/title/tt0377109/?ref\\_=fn\\_tt\\_tt\\_1\\\\\n",
       "\t Pirate Radio                                                 & Richard Curtis                                               & Philip Seymour Hoffman                                       & Charlie Rowe                                                 & Tom Sturridge                                                & 2009                                                         & http://www.imdb.com/title/tt1131729/?ref\\_=fn\\_tt\\_tt\\_1\\\\\n",
       "\t Anna Karenina                                                & Joe Wright                                                   & Kelly Macdonald                                              & Guro Nagelhus Schia                                          & Matthew Macfadyen                                            & 2012                                                         & http://www.imdb.com/title/tt1781769/?ref\\_=fn\\_tt\\_tt\\_1\\\\\n",
       "\t Earth                                                        & Deepa Mehta                                                  & Nandita Das                                                  & Gulshan Grover                                               & Eric Peterson                                                & 1998                                                         & http://www.imdb.com/title/tt0150433/?ref\\_=fn\\_tt\\_tt\\_1\\\\\n",
       "\t Get Him to the Greek                                         & Nicholas Stoller                                             & Pink                                                         & Mario Lopez                                                  & Lino Facioli                                                 & 2010                                                         & http://www.imdb.com/title/tt1226229/?ref\\_=fn\\_tt\\_tt\\_1\\\\\n",
       "\t Music and Lyrics                                             & Marc Lawrence                                                & Brad Garrett                                                 & Scott Porter                                                 & Haley Bennett                                                & 2007                                                         & http://www.imdb.com/title/tt0758766/?ref\\_=fn\\_tt\\_tt\\_1\\\\\n",
       "\t Soul Men                                                     & Malcolm D. Lee                                               & Bernie Mac                                                   & Sean Hayes                                                   & Mike Epps                                                    & 2008                                                         & http://www.imdb.com/title/tt1111948/?ref\\_=fn\\_tt\\_tt\\_1\\\\\n",
       "\\end{tabular}\n"
      ],
      "text/markdown": [
       "\n",
       "movie_title | director_name | actor_1_name | actor_2_name | actor_3_name | title_year | movie_imdb_link | \n",
       "|---|---|---|---|---|---|---|---|---|---|---|---|---|---|---|---|---|---|---|---|\n",
       "| The Good Dinosaur                                    | Peter Sohn                                           | A.J. Buckley                                         | Jack McGraw                                          | Peter Sohn                                           | 2015                                                 | http://www.imdb.com/title/tt1979388/?ref_=fn_tt_tt_1 | \n",
       "| Charlotte's Web                                      | Gary Winick                                          | Steve Buscemi                                        | Julia Roberts                                        | Oprah Winfrey                                        | 2006                                                 | http://www.imdb.com/title/tt0413895/?ref_=fn_tt_tt_1 | \n",
       "| DÃ©jÃ  Vu                                            | Henry Jaglom                                         | Vanessa Redgrave                                     | Stephen Dillane                                      | Michael Brandon                                      | 1997                                                 | http://www.imdb.com/title/tt0119033/?ref_=fn_tt_tt_1 | \n",
       "| The Edge                                             | Lee Tamahori                                         | Anthony Hopkins                                      | Harold Perrineau                                     | Bart the Bear                                        | 1997                                                 | http://www.imdb.com/title/tt0119051/?ref_=fn_tt_tt_1 | \n",
       "| Carriers                                             | David Pastor                                         | Christopher Meloni                                   | Kiernan Shipka                                       | Lou Taylor Pucci                                     | 2009                                                 | http://www.imdb.com/title/tt0806203/?ref_=fn_tt_tt_1 | \n",
       "| The Finest Hours                                     | Craig Gillespie                                      | Michael Raymond-James                                | Abraham Benrubi                                      | Graham McTavish                                      | 2016                                                 | http://www.imdb.com/title/tt2025690/?ref_=fn_tt_tt_1 | \n",
       "| Dinner for Schmucks                                  | Jay Roach                                            | Steve Carell                                         | Stephanie Szostak                                    | Bruce Greenwood                                      | 2010                                                 | http://www.imdb.com/title/tt0427152/?ref_=fn_tt_tt_1 | \n",
       "| Wild Hogs                                            | Walt Becker                                          | Jill Hennessy                                        | Tichina Arnold                                       | Drew Sidora                                          | 2007                                                 | http://www.imdb.com/title/tt0486946/?ref_=fn_tt_tt_1 | \n",
       "| State of Play                                        | Kevin Macdonald                                      | Robin Wright                                         | Harry Lennix                                         | Michael Weston                                       | 2009                                                 | http://www.imdb.com/title/tt0473705/?ref_=fn_tt_tt_1 | \n",
       "| Trouble with the Curve                               | Robert Lorenz                                        | Clint Eastwood                                       | Ed Lauter                                            | Bob Gunton                                           | 2012                                                 | http://www.imdb.com/title/tt2083383/?ref_=fn_tt_tt_1 | \n",
       "| Garfield 2                                           | Tim Hill                                             | Bill Murray                                          | Roger Rees                                           | Ben Falcone                                          | 2006                                                 | http://www.imdb.com/title/tt0455499/?ref_=fn_tt_tt_1 | \n",
       "| Deck the Halls                                       | John Whitesell                                       | Matthew Broderick                                    | Jorge Garcia                                         | Alia Shawkat                                         | 2006                                                 | http://www.imdb.com/title/tt0790604/?ref_=fn_tt_tt_1 | \n",
       "| We Bought a Zoo                                      | Cameron Crowe                                        | Scarlett Johansson                                   | Matt Damon                                           | Stephanie Szostak                                    | 2011                                                 | http://www.imdb.com/title/tt1389137/?ref_=fn_tt_tt_1 | \n",
       "| The Ring Two                                         | Hideo Nakata                                         | Naomi Watts                                          | Gary Cole                                            | Sissy Spacek                                         | 2005                                                 | http://www.imdb.com/title/tt0377109/?ref_=fn_tt_tt_1 | \n",
       "| Pirate Radio                                         | Richard Curtis                                       | Philip Seymour Hoffman                               | Charlie Rowe                                         | Tom Sturridge                                        | 2009                                                 | http://www.imdb.com/title/tt1131729/?ref_=fn_tt_tt_1 | \n",
       "| Anna Karenina                                        | Joe Wright                                           | Kelly Macdonald                                      | Guro Nagelhus Schia                                  | Matthew Macfadyen                                    | 2012                                                 | http://www.imdb.com/title/tt1781769/?ref_=fn_tt_tt_1 | \n",
       "| Earth                                                | Deepa Mehta                                          | Nandita Das                                          | Gulshan Grover                                       | Eric Peterson                                        | 1998                                                 | http://www.imdb.com/title/tt0150433/?ref_=fn_tt_tt_1 | \n",
       "| Get Him to the Greek                                 | Nicholas Stoller                                     | Pink                                                 | Mario Lopez                                          | Lino Facioli                                         | 2010                                                 | http://www.imdb.com/title/tt1226229/?ref_=fn_tt_tt_1 | \n",
       "| Music and Lyrics                                     | Marc Lawrence                                        | Brad Garrett                                         | Scott Porter                                         | Haley Bennett                                        | 2007                                                 | http://www.imdb.com/title/tt0758766/?ref_=fn_tt_tt_1 | \n",
       "| Soul Men                                             | Malcolm D. Lee                                       | Bernie Mac                                           | Sean Hayes                                           | Mike Epps                                            | 2008                                                 | http://www.imdb.com/title/tt1111948/?ref_=fn_tt_tt_1 | \n",
       "\n",
       "\n"
      ],
      "text/plain": [
       "   movie_title            director_name    actor_1_name          \n",
       "1  The Good Dinosaur      Peter Sohn       A.J. Buckley          \n",
       "2  Charlotte's Web        Gary Winick      Steve Buscemi         \n",
       "3  DÃ©jÃ  Vu              Henry Jaglom     Vanessa Redgrave      \n",
       "4  The Edge               Lee Tamahori     Anthony Hopkins       \n",
       "5  Carriers               David Pastor     Christopher Meloni    \n",
       "6  The Finest Hours       Craig Gillespie  Michael Raymond-James \n",
       "7  Dinner for Schmucks    Jay Roach        Steve Carell          \n",
       "8  Wild Hogs              Walt Becker      Jill Hennessy         \n",
       "9  State of Play          Kevin Macdonald  Robin Wright          \n",
       "10 Trouble with the Curve Robert Lorenz    Clint Eastwood        \n",
       "11 Garfield 2             Tim Hill         Bill Murray           \n",
       "12 Deck the Halls         John Whitesell   Matthew Broderick     \n",
       "13 We Bought a Zoo        Cameron Crowe    Scarlett Johansson    \n",
       "14 The Ring Two           Hideo Nakata     Naomi Watts           \n",
       "15 Pirate Radio           Richard Curtis   Philip Seymour Hoffman\n",
       "16 Anna Karenina          Joe Wright       Kelly Macdonald       \n",
       "17 Earth                  Deepa Mehta      Nandita Das           \n",
       "18 Get Him to the Greek   Nicholas Stoller Pink                  \n",
       "19 Music and Lyrics       Marc Lawrence    Brad Garrett          \n",
       "20 Soul Men               Malcolm D. Lee   Bernie Mac            \n",
       "   actor_2_name        actor_3_name      title_year\n",
       "1  Jack McGraw         Peter Sohn        2015      \n",
       "2  Julia Roberts       Oprah Winfrey     2006      \n",
       "3  Stephen Dillane     Michael Brandon   1997      \n",
       "4  Harold Perrineau    Bart the Bear     1997      \n",
       "5  Kiernan Shipka      Lou Taylor Pucci  2009      \n",
       "6  Abraham Benrubi     Graham McTavish   2016      \n",
       "7  Stephanie Szostak   Bruce Greenwood   2010      \n",
       "8  Tichina Arnold      Drew Sidora       2007      \n",
       "9  Harry Lennix        Michael Weston    2009      \n",
       "10 Ed Lauter           Bob Gunton        2012      \n",
       "11 Roger Rees          Ben Falcone       2006      \n",
       "12 Jorge Garcia        Alia Shawkat      2006      \n",
       "13 Matt Damon          Stephanie Szostak 2011      \n",
       "14 Gary Cole           Sissy Spacek      2005      \n",
       "15 Charlie Rowe        Tom Sturridge     2009      \n",
       "16 Guro Nagelhus Schia Matthew Macfadyen 2012      \n",
       "17 Gulshan Grover      Eric Peterson     1998      \n",
       "18 Mario Lopez         Lino Facioli      2010      \n",
       "19 Scott Porter        Haley Bennett     2007      \n",
       "20 Sean Hayes          Mike Epps         2008      \n",
       "   movie_imdb_link                                     \n",
       "1  http://www.imdb.com/title/tt1979388/?ref_=fn_tt_tt_1\n",
       "2  http://www.imdb.com/title/tt0413895/?ref_=fn_tt_tt_1\n",
       "3  http://www.imdb.com/title/tt0119033/?ref_=fn_tt_tt_1\n",
       "4  http://www.imdb.com/title/tt0119051/?ref_=fn_tt_tt_1\n",
       "5  http://www.imdb.com/title/tt0806203/?ref_=fn_tt_tt_1\n",
       "6  http://www.imdb.com/title/tt2025690/?ref_=fn_tt_tt_1\n",
       "7  http://www.imdb.com/title/tt0427152/?ref_=fn_tt_tt_1\n",
       "8  http://www.imdb.com/title/tt0486946/?ref_=fn_tt_tt_1\n",
       "9  http://www.imdb.com/title/tt0473705/?ref_=fn_tt_tt_1\n",
       "10 http://www.imdb.com/title/tt2083383/?ref_=fn_tt_tt_1\n",
       "11 http://www.imdb.com/title/tt0455499/?ref_=fn_tt_tt_1\n",
       "12 http://www.imdb.com/title/tt0790604/?ref_=fn_tt_tt_1\n",
       "13 http://www.imdb.com/title/tt1389137/?ref_=fn_tt_tt_1\n",
       "14 http://www.imdb.com/title/tt0377109/?ref_=fn_tt_tt_1\n",
       "15 http://www.imdb.com/title/tt1131729/?ref_=fn_tt_tt_1\n",
       "16 http://www.imdb.com/title/tt1781769/?ref_=fn_tt_tt_1\n",
       "17 http://www.imdb.com/title/tt0150433/?ref_=fn_tt_tt_1\n",
       "18 http://www.imdb.com/title/tt1226229/?ref_=fn_tt_tt_1\n",
       "19 http://www.imdb.com/title/tt0758766/?ref_=fn_tt_tt_1\n",
       "20 http://www.imdb.com/title/tt1111948/?ref_=fn_tt_tt_1"
      ]
     },
     "metadata": {},
     "output_type": "display_data"
    }
   ],
   "source": [
    "print(paste0(\"Number of rows: \",nrow(subset(movies,!is.na(movies$gross)&is.na(movies$budget)))))\n",
    "head(subset(movies,!is.na(movies$gross)&is.na(movies$budget),\n",
    "            select=c(\"movie_title\",\"director_name\",\"actor_1_name\",\"actor_2_name\",\n",
    "                     \"actor_3_name\",\"title_year\",\"movie_imdb_link\")), n=20)"
   ]
  },
  {
   "cell_type": "markdown",
   "metadata": {},
   "source": [
    "All the observations from that sample have the same value on their IMDB page, so I will keep those observations in the data set. In fact, this table shows me that the absence of information on the budget of a movie is not a good indicator of an aberrant observation. \n",
    "\n",
    "The last three tables comfort my opinion that observations with missing \"gross\",\"director_name\" and \"title_year\" value won't contribute positively to the model. I will delete them from the data set, but in the future when I'll have more time, I would like to scrape them by myself."
   ]
  },
  {
   "cell_type": "markdown",
   "metadata": {},
   "source": [
    "One more thing I saw while looking at the IMDB page of those movies, is that the value for the variables \"actor_1_name\", \"actor_2_name\" and \"actor_3_name\" are not necessarily goods indicators for the name of the starring actor of a movie. For example, the movie \"The Edge\" has Anthony Hopkins, Alec Baldwin, Elle Macpherson and Harold Perrineau as top billing actor, according to Wikipedia, while the data set list Anthony Hopkins, Harold Perrineau and \"Bart the Bear\" instead. I'm sure \"Bart the Bear\" did a good acting job in that movie, but I doubt that many people have bought a ticket to see him instead of Elle Macpherson or Alec Baldwin. I'll have to remember this while creating the predictive model."
   ]
  },
  {
   "cell_type": "markdown",
   "metadata": {},
   "source": [
    "All that being said, I have three things to do before moving into the exploration of the data: delete the duplicate in the table, delete the observations without a value for the variables \"gross\",\"director_name\" and \"title_year\" and scrape the value of the missing budget and gross."
   ]
  },
  {
   "cell_type": "code",
   "execution_count": 462,
   "metadata": {
    "collapsed": false
   },
   "outputs": [
    {
     "name": "stdout",
     "output_type": "stream",
     "text": [
      "[1] \"Number of rows before: 5043\"\n",
      "[1] \"Number of rows after: 4998\"\n"
     ]
    }
   ],
   "source": [
    "print(paste0(\"Number of rows before: \",nrow(movies)))\n",
    "movies<-unique(movies)\n",
    "print(paste0(\"Number of rows after: \",nrow(movies)))"
   ]
  },
  {
   "cell_type": "code",
   "execution_count": 463,
   "metadata": {
    "collapsed": false
   },
   "outputs": [
    {
     "name": "stdout",
     "output_type": "stream",
     "text": [
      "[1] \"Number of rows before: 4998\"\n",
      "[1] \"Number of rows after: 4898\"\n"
     ]
    }
   ],
   "source": [
    "print(paste0(\"Number of rows before: \",nrow(movies)))\n",
    "movies<-subset(movies,!is.na(gross)|!is.na(title_year)|director_name!=\"\")\n",
    "print(paste0(\"Number of rows after: \",nrow(movies)))"
   ]
  },
  {
   "cell_type": "markdown",
   "metadata": {},
   "source": [
    "I want to find the missing data from the variables \"budget\" and \"gross\" by using a Python script to scrape the data from the web. Since Kaggle user chuansun76 (https://www.kaggle.com/deepmatrix) was kind enough to share his source code with the IMDB data set, I'll modify his code to scrape the data. You can find the details of that scrapping process here https://github.com/GTouzin/Portfolio/tree/master/Python (full notebook coming soon).\n",
    "\n",
    "I saved the results in the file \"scrap_gross_budget.csv\""
   ]
  },
  {
   "cell_type": "code",
   "execution_count": 464,
   "metadata": {
    "collapsed": false
   },
   "outputs": [
    {
     "data": {
      "text/html": [
       "<table>\n",
       "<thead><tr><th scope=col>title_year</th><th scope=col>budget</th><th scope=col>movie_title</th><th scope=col>gross</th></tr></thead>\n",
       "<tbody>\n",
       "\t<tr><td>2009                                   </td><td>425000000                              </td><td>Avatar                                 </td><td>760507625                              </td></tr>\n",
       "\t<tr><td>2015                                   </td><td>306000000                              </td><td>Star Wars Ep. VII: The Force Awakens   </td><td>936662225                              </td></tr>\n",
       "\t<tr><td>2007                                   </td><td>300000000                              </td><td>Pirates of the Caribbean: At Worlds End</td><td>309420425                              </td></tr>\n",
       "\t<tr><td>2015                                   </td><td>300000000                              </td><td>Spectre                                </td><td>200074175                              </td></tr>\n",
       "\t<tr><td>2012                                   </td><td>275000000                              </td><td>The Dark Knight Rises                  </td><td>448139099                              </td></tr>\n",
       "\t<tr><td>2013                                   </td><td>275000000                              </td><td>The Lone Ranger                        </td><td>89302115                               </td></tr>\n",
       "</tbody>\n",
       "</table>\n"
      ],
      "text/latex": [
       "\\begin{tabular}{r|llll}\n",
       " title\\_year & budget & movie\\_title & gross\\\\\n",
       "\\hline\n",
       "\t 2009                                    & 425000000                               & Avatar                                  & 760507625                              \\\\\n",
       "\t 2015                                    & 306000000                               & Star Wars Ep. VII: The Force Awakens    & 936662225                              \\\\\n",
       "\t 2007                                    & 300000000                               & Pirates of the Caribbean: At Worlds End & 309420425                              \\\\\n",
       "\t 2015                                    & 300000000                               & Spectre                                 & 200074175                              \\\\\n",
       "\t 2012                                    & 275000000                               & The Dark Knight Rises                   & 448139099                              \\\\\n",
       "\t 2013                                    & 275000000                               & The Lone Ranger                         & 89302115                               \\\\\n",
       "\\end{tabular}\n"
      ],
      "text/markdown": [
       "\n",
       "title_year | budget | movie_title | gross | \n",
       "|---|---|---|---|---|---|\n",
       "| 2009                                    | 425000000                               | Avatar                                  | 760507625                               | \n",
       "| 2015                                    | 306000000                               | Star Wars Ep. VII: The Force Awakens    | 936662225                               | \n",
       "| 2007                                    | 300000000                               | Pirates of the Caribbean: At Worlds End | 309420425                               | \n",
       "| 2015                                    | 300000000                               | Spectre                                 | 200074175                               | \n",
       "| 2012                                    | 275000000                               | The Dark Knight Rises                   | 448139099                               | \n",
       "| 2013                                    | 275000000                               | The Lone Ranger                         | 89302115                                | \n",
       "\n",
       "\n"
      ],
      "text/plain": [
       "  title_year budget    movie_title                             gross    \n",
       "1 2009       425000000 Avatar                                  760507625\n",
       "2 2015       306000000 Star Wars Ep. VII: The Force Awakens    936662225\n",
       "3 2007       300000000 Pirates of the Caribbean: At Worlds End 309420425\n",
       "4 2015       300000000 Spectre                                 200074175\n",
       "5 2012       275000000 The Dark Knight Rises                   448139099\n",
       "6 2013       275000000 The Lone Ranger                         89302115 "
      ]
     },
     "metadata": {},
     "output_type": "display_data"
    }
   ],
   "source": [
    "budget <- read.csv (\"scrap_gross_budget_copie.csv\",stringsAsFactors = F)\n",
    "budget<-data.table(budget)\n",
    "head(budget)"
   ]
  },
  {
   "cell_type": "markdown",
   "metadata": {},
   "source": [
    "I have to custom function to fill the missing \"budget\" and \"gross\" values with the new values."
   ]
  },
  {
   "cell_type": "code",
   "execution_count": 466,
   "metadata": {
    "collapsed": true
   },
   "outputs": [],
   "source": [
    "fill_budget<-function(title_ref,year_ref,budget_ref,title_to_fill,year_to_fill,budget_to_fill){\n",
    "    value<-budget_to_fill\n",
    "    for (i in 1:length(title_to_fill))\n",
    "    {\n",
    "       index<-which(gsub(\" \", \"\", tolower(title_ref), fixed = TRUE) %in% gsub(\" \", \"\", tolower(title_to_fill[i]), fixed = TRUE)\n",
    "                    & gsub(\" \", \"\", tolower(year_ref), fixed = TRUE) %in% gsub(\" \", \"\", tolower(year_to_fill[i]), fixed = TRUE))\n",
    "       \n",
    "        if(length(index)==0||length(index)>=2)\n",
    "        {\n",
    "           #print(paste0(title_to_fill[i],\": \",length(index)))            \n",
    "        }\n",
    "        else\n",
    "        {\n",
    "            if(is.na(value[i]))\n",
    "            {\n",
    "                value[i]<-budget_ref[index[1]]\n",
    "                #print(paste0(title_to_fill[i],\": \",budget_ref[index[1]]))  \n",
    "            }  \n",
    "        }\n",
    "    } \n",
    "    return(value)\n",
    "}"
   ]
  },
  {
   "cell_type": "code",
   "execution_count": 467,
   "metadata": {
    "collapsed": false,
    "scrolled": true
   },
   "outputs": [],
   "source": [
    "temp<-fill_budget(budget$movie_title,budget$title_year,budget$budget,movies$movie_title,movies$title_year,movies$budget)"
   ]
  },
  {
   "cell_type": "markdown",
   "metadata": {
    "collapsed": true
   },
   "source": [
    "I count the numbers of missing observation that have been replaced by my function."
   ]
  },
  {
   "cell_type": "code",
   "execution_count": 468,
   "metadata": {
    "collapsed": false
   },
   "outputs": [
    {
     "data": {
      "text/html": [
       "166"
      ],
      "text/latex": [
       "166"
      ],
      "text/markdown": [
       "166"
      ],
      "text/plain": [
       "[1] 166"
      ]
     },
     "metadata": {},
     "output_type": "display_data"
    }
   ],
   "source": [
    "sum(is.na(movies[, budget]))-sum(is.na(temp))"
   ]
  },
  {
   "cell_type": "markdown",
   "metadata": {},
   "source": [
    "I filled the third of the missing data: Not bad! By looking at the name of the movies who still have a missing value, I realized that some movies names in the reference data set are a little bit different than the movie name in the data set with the new budget values. Generally, the difference is small, often a quote missing is the cause of the difference. When I'll have time in the future, I would like to write a script to fix that problem.\n",
    "\n",
    "Let's make sure my function didn't create any error in the data by comparing the value of the original vector with the vector I created."
   ]
  },
  {
   "cell_type": "code",
   "execution_count": 469,
   "metadata": {
    "collapsed": false
   },
   "outputs": [
    {
     "data": {
      "text/html": [
       "395"
      ],
      "text/latex": [
       "395"
      ],
      "text/markdown": [
       "395"
      ],
      "text/plain": [
       "[1] 395"
      ]
     },
     "metadata": {},
     "output_type": "display_data"
    },
    {
     "data": {
      "text/html": [
       "395"
      ],
      "text/latex": [
       "395"
      ],
      "text/markdown": [
       "395"
      ],
      "text/plain": [
       "[1] 395"
      ]
     },
     "metadata": {},
     "output_type": "display_data"
    }
   ],
   "source": [
    "sum(is.na(movies[, budget]))\n",
    "length(temp)-sum(movies[, budget]==temp,na.rm =TRUE)"
   ]
  },
  {
   "cell_type": "markdown",
   "metadata": {},
   "source": [
    "Since the only difference between the two vectors are present on the rows where there's a missing value in the first vector, my function didn't change a original value in the first vector. Reassured by that fact, I copies the new vector, the one with less missing value in the original data set."
   ]
  },
  {
   "cell_type": "code",
   "execution_count": 470,
   "metadata": {
    "collapsed": false
   },
   "outputs": [],
   "source": [
    "movies$budget<-temp"
   ]
  },
  {
   "cell_type": "markdown",
   "metadata": {},
   "source": [
    "Now, to fill the missing \"gross\" values, I'll apply the same logic than before. "
   ]
  },
  {
   "cell_type": "code",
   "execution_count": 471,
   "metadata": {
    "collapsed": true
   },
   "outputs": [],
   "source": [
    "temp<-fill_budget(budget$movie_title,budget$title_year,budget$gross,movies$movie_title,movies$title_year,movies$gross)"
   ]
  },
  {
   "cell_type": "code",
   "execution_count": 473,
   "metadata": {
    "collapsed": false
   },
   "outputs": [
    {
     "data": {
      "text/html": [
       "383"
      ],
      "text/latex": [
       "383"
      ],
      "text/markdown": [
       "383"
      ],
      "text/plain": [
       "[1] 383"
      ]
     },
     "metadata": {},
     "output_type": "display_data"
    },
    {
     "data": {
      "text/html": [
       "774"
      ],
      "text/latex": [
       "774"
      ],
      "text/markdown": [
       "774"
      ],
      "text/plain": [
       "[1] 774"
      ]
     },
     "metadata": {},
     "output_type": "display_data"
    },
    {
     "data": {
      "text/html": [
       "774"
      ],
      "text/latex": [
       "774"
      ],
      "text/markdown": [
       "774"
      ],
      "text/plain": [
       "[1] 774"
      ]
     },
     "metadata": {},
     "output_type": "display_data"
    }
   ],
   "source": [
    "sum(is.na(movies[, gross]))-sum(is.na(temp))\n",
    "sum(is.na(movies[, gross]))\n",
    "length(temp)-sum(movies[, gross]==temp,na.rm =TRUE)"
   ]
  },
  {
   "cell_type": "code",
   "execution_count": 474,
   "metadata": {
    "collapsed": true
   },
   "outputs": [],
   "source": [
    "movies$gross<-temp"
   ]
  },
  {
   "cell_type": "markdown",
   "metadata": {},
   "source": [
    "Here's the numbers of missing values in the data set for each variable. Since most of the variable is categorical with too much level to allow for two observations to be similar I'm afraid that to impute missing data would generate too much noise in the data. So, I will capitalise on the fact that my data set is large and I won't use those observations while creating my model. Also, I won't delete the observations with missing values, since the information in those observations will be useful in the estimation of the distribution for each variable.  "
   ]
  },
  {
   "cell_type": "code",
   "execution_count": 492,
   "metadata": {
    "collapsed": false
   },
   "outputs": [
    {
     "data": {
      "text/html": [
       "<dl class=dl-horizontal>\n",
       "\t<dt>color</dt>\n",
       "\t\t<dd>0</dd>\n",
       "\t<dt>director_name</dt>\n",
       "\t\t<dd>0</dd>\n",
       "\t<dt>num_critic_for_reviews</dt>\n",
       "\t\t<dd>44</dd>\n",
       "\t<dt>duration</dt>\n",
       "\t\t<dd>0</dd>\n",
       "\t<dt>director_facebook_likes</dt>\n",
       "\t\t<dd>3</dd>\n",
       "\t<dt>actor_3_facebook_likes</dt>\n",
       "\t\t<dd>20</dd>\n",
       "\t<dt>actor_2_name</dt>\n",
       "\t\t<dd>0</dd>\n",
       "\t<dt>actor_1_facebook_likes</dt>\n",
       "\t\t<dd>7</dd>\n",
       "\t<dt>gross</dt>\n",
       "\t\t<dd>391</dd>\n",
       "\t<dt>genres</dt>\n",
       "\t\t<dd>0</dd>\n",
       "\t<dt>actor_1_name</dt>\n",
       "\t\t<dd>0</dd>\n",
       "\t<dt>movie_title</dt>\n",
       "\t\t<dd>0</dd>\n",
       "\t<dt>num_voted_users</dt>\n",
       "\t\t<dd>0</dd>\n",
       "\t<dt>cast_total_facebook_likes</dt>\n",
       "\t\t<dd>0</dd>\n",
       "\t<dt>actor_3_name</dt>\n",
       "\t\t<dd>0</dd>\n",
       "\t<dt>facenumber_in_poster</dt>\n",
       "\t\t<dd>13</dd>\n",
       "\t<dt>plot_keywords</dt>\n",
       "\t\t<dd>0</dd>\n",
       "\t<dt>movie_imdb_link</dt>\n",
       "\t\t<dd>0</dd>\n",
       "\t<dt>num_user_for_reviews</dt>\n",
       "\t\t<dd>19</dd>\n",
       "\t<dt>language</dt>\n",
       "\t\t<dd>0</dd>\n",
       "\t<dt>country</dt>\n",
       "\t\t<dd>0</dd>\n",
       "\t<dt>content_rating</dt>\n",
       "\t\t<dd>0</dd>\n",
       "\t<dt>budget</dt>\n",
       "\t\t<dd>229</dd>\n",
       "\t<dt>title_year</dt>\n",
       "\t\t<dd>7</dd>\n",
       "\t<dt>actor_2_facebook_likes</dt>\n",
       "\t\t<dd>11</dd>\n",
       "\t<dt>imdb_score</dt>\n",
       "\t\t<dd>0</dd>\n",
       "\t<dt>aspect_ratio</dt>\n",
       "\t\t<dd>308</dd>\n",
       "\t<dt>movie_facebook_likes;</dt>\n",
       "\t\t<dd>0</dd>\n",
       "</dl>\n"
      ],
      "text/latex": [
       "\\begin{description*}\n",
       "\\item[color] 0\n",
       "\\item[director\\textbackslash{}\\_name] 0\n",
       "\\item[num\\textbackslash{}\\_critic\\textbackslash{}\\_for\\textbackslash{}\\_reviews] 44\n",
       "\\item[duration] 0\n",
       "\\item[director\\textbackslash{}\\_facebook\\textbackslash{}\\_likes] 3\n",
       "\\item[actor\\textbackslash{}\\_3\\textbackslash{}\\_facebook\\textbackslash{}\\_likes] 20\n",
       "\\item[actor\\textbackslash{}\\_2\\textbackslash{}\\_name] 0\n",
       "\\item[actor\\textbackslash{}\\_1\\textbackslash{}\\_facebook\\textbackslash{}\\_likes] 7\n",
       "\\item[gross] 391\n",
       "\\item[genres] 0\n",
       "\\item[actor\\textbackslash{}\\_1\\textbackslash{}\\_name] 0\n",
       "\\item[movie\\textbackslash{}\\_title] 0\n",
       "\\item[num\\textbackslash{}\\_voted\\textbackslash{}\\_users] 0\n",
       "\\item[cast\\textbackslash{}\\_total\\textbackslash{}\\_facebook\\textbackslash{}\\_likes] 0\n",
       "\\item[actor\\textbackslash{}\\_3\\textbackslash{}\\_name] 0\n",
       "\\item[facenumber\\textbackslash{}\\_in\\textbackslash{}\\_poster] 13\n",
       "\\item[plot\\textbackslash{}\\_keywords] 0\n",
       "\\item[movie\\textbackslash{}\\_imdb\\textbackslash{}\\_link] 0\n",
       "\\item[num\\textbackslash{}\\_user\\textbackslash{}\\_for\\textbackslash{}\\_reviews] 19\n",
       "\\item[language] 0\n",
       "\\item[country] 0\n",
       "\\item[content\\textbackslash{}\\_rating] 0\n",
       "\\item[budget] 229\n",
       "\\item[title\\textbackslash{}\\_year] 7\n",
       "\\item[actor\\textbackslash{}\\_2\\textbackslash{}\\_facebook\\textbackslash{}\\_likes] 11\n",
       "\\item[imdb\\textbackslash{}\\_score] 0\n",
       "\\item[aspect\\textbackslash{}\\_ratio] 308\n",
       "\\item[movie\\textbackslash{}\\_facebook\\textbackslash{}\\_likes;] 0\n",
       "\\end{description*}\n"
      ],
      "text/markdown": [
       "color\n",
       ":   0director_name\n",
       ":   0num_critic_for_reviews\n",
       ":   44duration\n",
       ":   0director_facebook_likes\n",
       ":   3actor_3_facebook_likes\n",
       ":   20actor_2_name\n",
       ":   0actor_1_facebook_likes\n",
       ":   7gross\n",
       ":   391genres\n",
       ":   0actor_1_name\n",
       ":   0movie_title\n",
       ":   0num_voted_users\n",
       ":   0cast_total_facebook_likes\n",
       ":   0actor_3_name\n",
       ":   0facenumber_in_poster\n",
       ":   13plot_keywords\n",
       ":   0movie_imdb_link\n",
       ":   0num_user_for_reviews\n",
       ":   19language\n",
       ":   0country\n",
       ":   0content_rating\n",
       ":   0budget\n",
       ":   229title_year\n",
       ":   7actor_2_facebook_likes\n",
       ":   11imdb_score\n",
       ":   0aspect_ratio\n",
       ":   308movie_facebook_likes;\n",
       ":   0\n",
       "\n"
      ],
      "text/plain": [
       "                    color             director_name    num_critic_for_reviews \n",
       "                        0                         0                        44 \n",
       "                 duration   director_facebook_likes    actor_3_facebook_likes \n",
       "                        0                         3                        20 \n",
       "             actor_2_name    actor_1_facebook_likes                     gross \n",
       "                        0                         7                       391 \n",
       "                   genres              actor_1_name               movie_title \n",
       "                        0                         0                         0 \n",
       "          num_voted_users cast_total_facebook_likes              actor_3_name \n",
       "                        0                         0                         0 \n",
       "     facenumber_in_poster             plot_keywords           movie_imdb_link \n",
       "                       13                         0                         0 \n",
       "     num_user_for_reviews                  language                   country \n",
       "                       19                         0                         0 \n",
       "           content_rating                    budget                title_year \n",
       "                        0                       229                         7 \n",
       "   actor_2_facebook_likes                imdb_score              aspect_ratio \n",
       "                       11                         0                       308 \n",
       "    movie_facebook_likes; \n",
       "                        0 "
      ]
     },
     "metadata": {},
     "output_type": "display_data"
    }
   ],
   "source": [
    "sapply(movies, function(y) sum(length(which(is.na(y)))))"
   ]
  },
  {
   "cell_type": "code",
   "execution_count": 489,
   "metadata": {
    "collapsed": false
   },
   "outputs": [],
   "source": [
    "write.table(movies,file =\"movies_clean.csv\",row.names=FALSE,sep=\";\")"
   ]
  },
  {
   "cell_type": "markdown",
   "metadata": {
    "collapsed": true
   },
   "source": [
    "# Converting the currency"
   ]
  },
  {
   "cell_type": "markdown",
   "metadata": {},
   "source": [
    "Here I'm cheating a little bit: I realise there was a problem with the data way into the exploration phase, which will be my next article. But, even though I saw this problem way past this particular point, I believe that I should covert it while I'm cleaning the data. So without further adieu, let's look at the distribution of the budget variable."
   ]
  },
  {
   "cell_type": "code",
   "execution_count": 495,
   "metadata": {
    "collapsed": false
   },
   "outputs": [
    {
     "data": {
      "text/html": [
       "<iframe src=\"plotlyJupyterHTML/f2062920fcaf87f755b4460bec022bfd.html\" width=\"100%\" height=\"400\" id=\"igraph\" scrolling=\"no\" seamless=\"seamless\" frameBorder=\"0\"> </iframe>"
      ]
     },
     "metadata": {},
     "output_type": "display_data"
    }
   ],
   "source": [
    "budget_hist <- plot_ly(x=~movies$budget,type=\"histogram\")\n",
    "embed_notebook(budget_hist)"
   ]
  },
  {
   "cell_type": "markdown",
   "metadata": {},
   "source": [
    "When the outliers of your graph are so far away from the mode of the distribution that your histogram look like a density plot, something's wrong! Let's look at the table to have a better sense of what is happening. "
   ]
  },
  {
   "cell_type": "code",
   "execution_count": 490,
   "metadata": {
    "collapsed": false
   },
   "outputs": [
    {
     "data": {
      "text/html": [
       "<table>\n",
       "<thead><tr><th scope=col>movie_title</th><th scope=col>budget</th><th scope=col>gross</th><th scope=col>country</th><th scope=col>title_year</th></tr></thead>\n",
       "<tbody>\n",
       "\t<tr><td>The Host              </td><td>12215500000           </td><td>2201412               </td><td>South Korea           </td><td>2006                  </td></tr>\n",
       "\t<tr><td>Lady Vengeance        </td><td> 4200000000           </td><td>211667                </td><td>South Korea           </td><td>2005                  </td></tr>\n",
       "\t<tr><td>Fateless              </td><td> 2500000000           </td><td>195888                </td><td>Hungary               </td><td>2005                  </td></tr>\n",
       "\t<tr><td>Princess Mononoke     </td><td> 2400000000           </td><td>2298191               </td><td>Japan                 </td><td>1997                  </td></tr>\n",
       "\t<tr><td>Steamboy              </td><td> 2127519898           </td><td>410388                </td><td>Japan                 </td><td>2004                  </td></tr>\n",
       "\t<tr><td>Akira                 </td><td> 1100000000           </td><td>439162                </td><td>Japan                 </td><td>1988                  </td></tr>\n",
       "\t<tr><td>Godzilla 2000         </td><td> 1000000000           </td><td>10037390              </td><td>Japan                 </td><td>1999                  </td></tr>\n",
       "\t<tr><td>Kabhi Alvida Naa Kehna</td><td>  700000000           </td><td>3275443               </td><td>India                 </td><td>2006                  </td></tr>\n",
       "\t<tr><td>Tango                 </td><td>  700000000           </td><td>1687311               </td><td>Spain                 </td><td>1998                  </td></tr>\n",
       "\t<tr><td>Kites                 </td><td>  600000000           </td><td>1602466               </td><td>India                 </td><td>2010                  </td></tr>\n",
       "</tbody>\n",
       "</table>\n"
      ],
      "text/latex": [
       "\\begin{tabular}{r|lllll}\n",
       " movie\\_title & budget & gross & country & title\\_year\\\\\n",
       "\\hline\n",
       "\t The Host               & 12215500000            & 2201412                & South Korea            & 2006                  \\\\\n",
       "\t Lady Vengeance         &  4200000000            & 211667                 & South Korea            & 2005                  \\\\\n",
       "\t Fateless               &  2500000000            & 195888                 & Hungary                & 2005                  \\\\\n",
       "\t Princess Mononoke      &  2400000000            & 2298191                & Japan                  & 1997                  \\\\\n",
       "\t Steamboy               &  2127519898            & 410388                 & Japan                  & 2004                  \\\\\n",
       "\t Akira                  &  1100000000            & 439162                 & Japan                  & 1988                  \\\\\n",
       "\t Godzilla 2000          &  1000000000            & 10037390               & Japan                  & 1999                  \\\\\n",
       "\t Kabhi Alvida Naa Kehna &   700000000            & 3275443                & India                  & 2006                  \\\\\n",
       "\t Tango                  &   700000000            & 1687311                & Spain                  & 1998                  \\\\\n",
       "\t Kites                  &   600000000            & 1602466                & India                  & 2010                  \\\\\n",
       "\\end{tabular}\n"
      ],
      "text/markdown": [
       "\n",
       "movie_title | budget | gross | country | title_year | \n",
       "|---|---|---|---|---|---|---|---|---|---|\n",
       "| The Host               | 12215500000            | 2201412                | South Korea            | 2006                   | \n",
       "| Lady Vengeance         |  4200000000            | 211667                 | South Korea            | 2005                   | \n",
       "| Fateless               |  2500000000            | 195888                 | Hungary                | 2005                   | \n",
       "| Princess Mononoke      |  2400000000            | 2298191                | Japan                  | 1997                   | \n",
       "| Steamboy               |  2127519898            | 410388                 | Japan                  | 2004                   | \n",
       "| Akira                  |  1100000000            | 439162                 | Japan                  | 1988                   | \n",
       "| Godzilla 2000          |  1000000000            | 10037390               | Japan                  | 1999                   | \n",
       "| Kabhi Alvida Naa Kehna |   700000000            | 3275443                | India                  | 2006                   | \n",
       "| Tango                  |   700000000            | 1687311                | Spain                  | 1998                   | \n",
       "| Kites                  |   600000000            | 1602466                | India                  | 2010                   | \n",
       "\n",
       "\n"
      ],
      "text/plain": [
       "   movie_title            budget      gross    country     title_year\n",
       "1  The Host               12215500000 2201412  South Korea 2006      \n",
       "2  Lady Vengeance          4200000000 211667   South Korea 2005      \n",
       "3  Fateless                2500000000 195888   Hungary     2005      \n",
       "4  Princess Mononoke       2400000000 2298191  Japan       1997      \n",
       "5  Steamboy                2127519898 410388   Japan       2004      \n",
       "6  Akira                   1100000000 439162   Japan       1988      \n",
       "7  Godzilla 2000           1000000000 10037390 Japan       1999      \n",
       "8  Kabhi Alvida Naa Kehna   700000000 3275443  India       2006      \n",
       "9  Tango                    700000000 1687311  Spain       1998      \n",
       "10 Kites                    600000000 1602466  India       2010      "
      ]
     },
     "metadata": {},
     "output_type": "display_data"
    }
   ],
   "source": [
    "temp<-data.table(movie_title=movies$movie_title,budget=movies$budget,gross=movies$gross,\n",
    "                 country=movies$country,title_year=movies$title_year)\n",
    "temp<-temp[order(-budget)]\n",
    "head(temp, n=10)"
   ]
  },
  {
   "cell_type": "markdown",
   "metadata": {
    "collapsed": false
   },
   "source": [
    "We see that foreing movie skew the distribution of that variable, especially the Asian films. That is because those \"budget\" and \"gross\" revenues are listed in a foreign currency and since most currencies have an exchange rate bigger than one with the US dollar, their value tends to skew negatively those two distributions.\n",
    "\n",
    "I looked at the movie from South Korea to see how I could deal with this problem."
   ]
  },
  {
   "cell_type": "code",
   "execution_count": 496,
   "metadata": {
    "collapsed": false
   },
   "outputs": [
    {
     "data": {
      "text/html": [
       "<table>\n",
       "<thead><tr><th scope=col>movie_title</th><th scope=col>budget</th><th scope=col>gross</th><th scope=col>country</th><th scope=col>title_year</th></tr></thead>\n",
       "<tbody>\n",
       "\t<tr><td>The Host                          </td><td>12215500000                       </td><td>2201412                           </td><td>South Korea                       </td><td>2006                              </td></tr>\n",
       "\t<tr><td>Lady Vengeance                    </td><td> 4200000000                       </td><td>211667                            </td><td>South Korea                       </td><td>2005                              </td></tr>\n",
       "\t<tr><td>Inchon                            </td><td>   48000000                       </td><td>NA                                </td><td>South Korea                       </td><td>1981                              </td></tr>\n",
       "\t<tr><td>Snowpiercer                       </td><td>   39200000                       </td><td>4563029                           </td><td>South Korea                       </td><td>2013                              </td></tr>\n",
       "\t<tr><td>Dragon Wars: D-War                </td><td>   35000000                       </td><td>10956379                          </td><td>South Korea                       </td><td>2007                              </td></tr>\n",
       "\t<tr><td>The Last Godfather                </td><td>   13400000                       </td><td>163591                            </td><td>South Korea                       </td><td>2010                              </td></tr>\n",
       "\t<tr><td>Tae Guk Gi: The Brotherhood of War</td><td>   12800000                       </td><td>1110186                           </td><td>South Korea                       </td><td>2004                              </td></tr>\n",
       "\t<tr><td>Operation Chromite                </td><td>   12620000                       </td><td>31662                             </td><td>South Korea                       </td><td>2016                              </td></tr>\n",
       "\t<tr><td>Jungle Shuffle                    </td><td>   10000000                       </td><td>NA                                </td><td>South Korea                       </td><td>2014                              </td></tr>\n",
       "\t<tr><td>\"The Good, the Bad, the Weird \"   </td><td>   10000000                       </td><td>128486                            </td><td>South Korea                       </td><td>2008                              </td></tr>\n",
       "\t<tr><td>Silmido                           </td><td>    8000000                       </td><td>NA                                </td><td>South Korea                       </td><td>2003                              </td></tr>\n",
       "\t<tr><td>Oldboy                            </td><td>    3000000                       </td><td>2181290                           </td><td>South Korea                       </td><td>2003                              </td></tr>\n",
       "\t<tr><td>Tidal Wave                        </td><td>         NA                       </td><td>NA                                </td><td>South Korea                       </td><td>2009                              </td></tr>\n",
       "\t<tr><td>The Wailing                       </td><td>         NA                       </td><td>770629                            </td><td>South Korea                       </td><td>2016                              </td></tr>\n",
       "</tbody>\n",
       "</table>\n"
      ],
      "text/latex": [
       "\\begin{tabular}{r|lllll}\n",
       " movie\\_title & budget & gross & country & title\\_year\\\\\n",
       "\\hline\n",
       "\t The Host                           & 12215500000                        & 2201412                            & South Korea                        & 2006                              \\\\\n",
       "\t Lady Vengeance                     &  4200000000                        & 211667                             & South Korea                        & 2005                              \\\\\n",
       "\t Inchon                             &    48000000                        & NA                                 & South Korea                        & 1981                              \\\\\n",
       "\t Snowpiercer                        &    39200000                        & 4563029                            & South Korea                        & 2013                              \\\\\n",
       "\t Dragon Wars: D-War                 &    35000000                        & 10956379                           & South Korea                        & 2007                              \\\\\n",
       "\t The Last Godfather                 &    13400000                        & 163591                             & South Korea                        & 2010                              \\\\\n",
       "\t Tae Guk Gi: The Brotherhood of War &    12800000                        & 1110186                            & South Korea                        & 2004                              \\\\\n",
       "\t Operation Chromite                 &    12620000                        & 31662                              & South Korea                        & 2016                              \\\\\n",
       "\t Jungle Shuffle                     &    10000000                        & NA                                 & South Korea                        & 2014                              \\\\\n",
       "\t \"The Good, the Bad, the Weird \"    &    10000000                        & 128486                             & South Korea                        & 2008                              \\\\\n",
       "\t Silmido                            &     8000000                        & NA                                 & South Korea                        & 2003                              \\\\\n",
       "\t Oldboy                             &     3000000                        & 2181290                            & South Korea                        & 2003                              \\\\\n",
       "\t Tidal Wave                         &          NA                        & NA                                 & South Korea                        & 2009                              \\\\\n",
       "\t The Wailing                        &          NA                        & 770629                             & South Korea                        & 2016                              \\\\\n",
       "\\end{tabular}\n"
      ],
      "text/markdown": [
       "\n",
       "movie_title | budget | gross | country | title_year | \n",
       "|---|---|---|---|---|---|---|---|---|---|---|---|---|---|\n",
       "| The Host                           | 12215500000                        | 2201412                            | South Korea                        | 2006                               | \n",
       "| Lady Vengeance                     |  4200000000                        | 211667                             | South Korea                        | 2005                               | \n",
       "| Inchon                             |    48000000                        | NA                                 | South Korea                        | 1981                               | \n",
       "| Snowpiercer                        |    39200000                        | 4563029                            | South Korea                        | 2013                               | \n",
       "| Dragon Wars: D-War                 |    35000000                        | 10956379                           | South Korea                        | 2007                               | \n",
       "| The Last Godfather                 |    13400000                        | 163591                             | South Korea                        | 2010                               | \n",
       "| Tae Guk Gi: The Brotherhood of War |    12800000                        | 1110186                            | South Korea                        | 2004                               | \n",
       "| Operation Chromite                 |    12620000                        | 31662                              | South Korea                        | 2016                               | \n",
       "| Jungle Shuffle                     |    10000000                        | NA                                 | South Korea                        | 2014                               | \n",
       "| \"The Good, the Bad, the Weird \"    |    10000000                        | 128486                             | South Korea                        | 2008                               | \n",
       "| Silmido                            |     8000000                        | NA                                 | South Korea                        | 2003                               | \n",
       "| Oldboy                             |     3000000                        | 2181290                            | South Korea                        | 2003                               | \n",
       "| Tidal Wave                         |          NA                        | NA                                 | South Korea                        | 2009                               | \n",
       "| The Wailing                        |          NA                        | 770629                             | South Korea                        | 2016                               | \n",
       "\n",
       "\n"
      ],
      "text/plain": [
       "   movie_title                        budget      gross    country    \n",
       "1  The Host                           12215500000 2201412  South Korea\n",
       "2  Lady Vengeance                      4200000000 211667   South Korea\n",
       "3  Inchon                                48000000 NA       South Korea\n",
       "4  Snowpiercer                           39200000 4563029  South Korea\n",
       "5  Dragon Wars: D-War                    35000000 10956379 South Korea\n",
       "6  The Last Godfather                    13400000 163591   South Korea\n",
       "7  Tae Guk Gi: The Brotherhood of War    12800000 1110186  South Korea\n",
       "8  Operation Chromite                    12620000 31662    South Korea\n",
       "9  Jungle Shuffle                        10000000 NA       South Korea\n",
       "10 \"The Good, the Bad, the Weird \"       10000000 128486   South Korea\n",
       "11 Silmido                                8000000 NA       South Korea\n",
       "12 Oldboy                                 3000000 2181290  South Korea\n",
       "13 Tidal Wave                                  NA NA       South Korea\n",
       "14 The Wailing                                 NA 770629   South Korea\n",
       "   title_year\n",
       "1  2006      \n",
       "2  2005      \n",
       "3  1981      \n",
       "4  2013      \n",
       "5  2007      \n",
       "6  2010      \n",
       "7  2004      \n",
       "8  2016      \n",
       "9  2014      \n",
       "10 2008      \n",
       "11 2003      \n",
       "12 2003      \n",
       "13 2009      \n",
       "14 2016      "
      ]
     },
     "metadata": {},
     "output_type": "display_data"
    }
   ],
   "source": [
    "temp[temp$country==\"South Korea\"]"
   ]
  },
  {
   "cell_type": "markdown",
   "metadata": {},
   "source": [
    "The budget for \"Oldboy\" is in US dollar. This observation tells me that I can't just convert all budgets of foreign movie without taking in consideration in which currency it is valued. Maybe I can convert the budget of foreign movies with budget high enough to indicate that it's not written in us dollar, let's say 50 000 000$? Of course, it's not an optimal approach, because some movies that cost under 50 million dollars will still be written in a foreign currency, but this approach would diminish the negative skew of the distribution and be the most time effective. Of course, it's not an optimal approach, because some movies that cost under 50 million dollars will still be written in a foreign currency, but this approach would diminish the effect of those outliers on the distribution and be the most time effective. \n",
    "\n",
    "On the next table, the foreign movies with a budget of more than 50 million dollars are displayed in descending order."
   ]
  },
  {
   "cell_type": "code",
   "execution_count": 498,
   "metadata": {
    "collapsed": false
   },
   "outputs": [
    {
     "data": {
      "text/html": [
       "<table>\n",
       "<thead><tr><th scope=col>movie_title</th><th scope=col>budget</th><th scope=col>gross</th><th scope=col>country</th><th scope=col>title_year</th></tr></thead>\n",
       "<tbody>\n",
       "\t<tr><td>The Host                                 </td><td>12215500000                              </td><td>2201412                                  </td><td>South Korea                              </td><td>2006                                     </td></tr>\n",
       "\t<tr><td>Lady Vengeance                           </td><td> 4200000000                              </td><td>211667                                   </td><td>South Korea                              </td><td>2005                                     </td></tr>\n",
       "\t<tr><td>Fateless                                 </td><td> 2500000000                              </td><td>195888                                   </td><td>Hungary                                  </td><td>2005                                     </td></tr>\n",
       "\t<tr><td>Princess Mononoke                        </td><td> 2400000000                              </td><td>2298191                                  </td><td>Japan                                    </td><td>1997                                     </td></tr>\n",
       "\t<tr><td>Steamboy                                 </td><td> 2127519898                              </td><td>410388                                   </td><td>Japan                                    </td><td>2004                                     </td></tr>\n",
       "\t<tr><td>Akira                                    </td><td> 1100000000                              </td><td>439162                                   </td><td>Japan                                    </td><td>1988                                     </td></tr>\n",
       "\t<tr><td>Godzilla 2000                            </td><td> 1000000000                              </td><td>10037390                                 </td><td>Japan                                    </td><td>1999                                     </td></tr>\n",
       "\t<tr><td>Kabhi Alvida Naa Kehna                   </td><td>  700000000                              </td><td>3275443                                  </td><td>India                                    </td><td>2006                                     </td></tr>\n",
       "\t<tr><td>Tango                                    </td><td>  700000000                              </td><td>1687311                                  </td><td>Spain                                    </td><td>1998                                     </td></tr>\n",
       "\t<tr><td>Kites                                    </td><td>  600000000                              </td><td>1602466                                  </td><td>India                                    </td><td>2010                                     </td></tr>\n",
       "\t<tr><td>Red Cliff                                </td><td>  553632000                              </td><td>626809                                   </td><td>China                                    </td><td>2008                                     </td></tr>\n",
       "\t<tr><td>The Legend of Suriyothai                 </td><td>  400000000                              </td><td>454255                                   </td><td>Thailand                                 </td><td>2001                                     </td></tr>\n",
       "\t<tr><td>The Messenger: The Story of Joan of Arc  </td><td>  390000000                              </td><td>14131298                                 </td><td>France                                   </td><td>1999                                     </td></tr>\n",
       "\t<tr><td>Ong-bak 2                                </td><td>  300000000                              </td><td>102055                                   </td><td>Thailand                                 </td><td>2008                                     </td></tr>\n",
       "\t<tr><td>Harry Potter and the Half-Blood Prince   </td><td>  250000000                              </td><td>301956980                                </td><td>UK                                       </td><td>2009                                     </td></tr>\n",
       "\t<tr><td>The Hobbit: The Battle of the Five Armies</td><td>  250000000                              </td><td>255108370                                </td><td>New Zealand                              </td><td>2014                                     </td></tr>\n",
       "\t<tr><td>Spectre                                  </td><td>  245000000                              </td><td>200074175                                </td><td>UK                                       </td><td>2015                                     </td></tr>\n",
       "\t<tr><td>X-Men: The Last Stand                    </td><td>  210000000                              </td><td>234360014                                </td><td>Canada                                   </td><td>2006                                     </td></tr>\n",
       "\t<tr><td>King Kong                                </td><td>  207000000                              </td><td>218051260                                </td><td>New Zealand                              </td><td>2005                                     </td></tr>\n",
       "</tbody>\n",
       "</table>\n"
      ],
      "text/latex": [
       "\\begin{tabular}{r|lllll}\n",
       " movie\\_title & budget & gross & country & title\\_year\\\\\n",
       "\\hline\n",
       "\t The Host                                  & 12215500000                               & 2201412                                   & South Korea                               & 2006                                     \\\\\n",
       "\t Lady Vengeance                            &  4200000000                               & 211667                                    & South Korea                               & 2005                                     \\\\\n",
       "\t Fateless                                  &  2500000000                               & 195888                                    & Hungary                                   & 2005                                     \\\\\n",
       "\t Princess Mononoke                         &  2400000000                               & 2298191                                   & Japan                                     & 1997                                     \\\\\n",
       "\t Steamboy                                  &  2127519898                               & 410388                                    & Japan                                     & 2004                                     \\\\\n",
       "\t Akira                                     &  1100000000                               & 439162                                    & Japan                                     & 1988                                     \\\\\n",
       "\t Godzilla 2000                             &  1000000000                               & 10037390                                  & Japan                                     & 1999                                     \\\\\n",
       "\t Kabhi Alvida Naa Kehna                    &   700000000                               & 3275443                                   & India                                     & 2006                                     \\\\\n",
       "\t Tango                                     &   700000000                               & 1687311                                   & Spain                                     & 1998                                     \\\\\n",
       "\t Kites                                     &   600000000                               & 1602466                                   & India                                     & 2010                                     \\\\\n",
       "\t Red Cliff                                 &   553632000                               & 626809                                    & China                                     & 2008                                     \\\\\n",
       "\t The Legend of Suriyothai                  &   400000000                               & 454255                                    & Thailand                                  & 2001                                     \\\\\n",
       "\t The Messenger: The Story of Joan of Arc   &   390000000                               & 14131298                                  & France                                    & 1999                                     \\\\\n",
       "\t Ong-bak 2                                 &   300000000                               & 102055                                    & Thailand                                  & 2008                                     \\\\\n",
       "\t Harry Potter and the Half-Blood Prince    &   250000000                               & 301956980                                 & UK                                        & 2009                                     \\\\\n",
       "\t The Hobbit: The Battle of the Five Armies &   250000000                               & 255108370                                 & New Zealand                               & 2014                                     \\\\\n",
       "\t Spectre                                   &   245000000                               & 200074175                                 & UK                                        & 2015                                     \\\\\n",
       "\t X-Men: The Last Stand                     &   210000000                               & 234360014                                 & Canada                                    & 2006                                     \\\\\n",
       "\t King Kong                                 &   207000000                               & 218051260                                 & New Zealand                               & 2005                                     \\\\\n",
       "\\end{tabular}\n"
      ],
      "text/markdown": [
       "\n",
       "movie_title | budget | gross | country | title_year | \n",
       "|---|---|---|---|---|---|---|---|---|---|---|---|---|---|---|---|---|---|---|\n",
       "| The Host                                  | 12215500000                               | 2201412                                   | South Korea                               | 2006                                      | \n",
       "| Lady Vengeance                            |  4200000000                               | 211667                                    | South Korea                               | 2005                                      | \n",
       "| Fateless                                  |  2500000000                               | 195888                                    | Hungary                                   | 2005                                      | \n",
       "| Princess Mononoke                         |  2400000000                               | 2298191                                   | Japan                                     | 1997                                      | \n",
       "| Steamboy                                  |  2127519898                               | 410388                                    | Japan                                     | 2004                                      | \n",
       "| Akira                                     |  1100000000                               | 439162                                    | Japan                                     | 1988                                      | \n",
       "| Godzilla 2000                             |  1000000000                               | 10037390                                  | Japan                                     | 1999                                      | \n",
       "| Kabhi Alvida Naa Kehna                    |   700000000                               | 3275443                                   | India                                     | 2006                                      | \n",
       "| Tango                                     |   700000000                               | 1687311                                   | Spain                                     | 1998                                      | \n",
       "| Kites                                     |   600000000                               | 1602466                                   | India                                     | 2010                                      | \n",
       "| Red Cliff                                 |   553632000                               | 626809                                    | China                                     | 2008                                      | \n",
       "| The Legend of Suriyothai                  |   400000000                               | 454255                                    | Thailand                                  | 2001                                      | \n",
       "| The Messenger: The Story of Joan of Arc   |   390000000                               | 14131298                                  | France                                    | 1999                                      | \n",
       "| Ong-bak 2                                 |   300000000                               | 102055                                    | Thailand                                  | 2008                                      | \n",
       "| Harry Potter and the Half-Blood Prince    |   250000000                               | 301956980                                 | UK                                        | 2009                                      | \n",
       "| The Hobbit: The Battle of the Five Armies |   250000000                               | 255108370                                 | New Zealand                               | 2014                                      | \n",
       "| Spectre                                   |   245000000                               | 200074175                                 | UK                                        | 2015                                      | \n",
       "| X-Men: The Last Stand                     |   210000000                               | 234360014                                 | Canada                                    | 2006                                      | \n",
       "| King Kong                                 |   207000000                               | 218051260                                 | New Zealand                               | 2005                                      | \n",
       "\n",
       "\n"
      ],
      "text/plain": [
       "   movie_title                               budget      gross     country    \n",
       "1  The Host                                  12215500000 2201412   South Korea\n",
       "2  Lady Vengeance                             4200000000 211667    South Korea\n",
       "3  Fateless                                   2500000000 195888    Hungary    \n",
       "4  Princess Mononoke                          2400000000 2298191   Japan      \n",
       "5  Steamboy                                   2127519898 410388    Japan      \n",
       "6  Akira                                      1100000000 439162    Japan      \n",
       "7  Godzilla 2000                              1000000000 10037390  Japan      \n",
       "8  Kabhi Alvida Naa Kehna                      700000000 3275443   India      \n",
       "9  Tango                                       700000000 1687311   Spain      \n",
       "10 Kites                                       600000000 1602466   India      \n",
       "11 Red Cliff                                   553632000 626809    China      \n",
       "12 The Legend of Suriyothai                    400000000 454255    Thailand   \n",
       "13 The Messenger: The Story of Joan of Arc     390000000 14131298  France     \n",
       "14 Ong-bak 2                                   300000000 102055    Thailand   \n",
       "15 Harry Potter and the Half-Blood Prince      250000000 301956980 UK         \n",
       "16 The Hobbit: The Battle of the Five Armies   250000000 255108370 New Zealand\n",
       "17 Spectre                                     245000000 200074175 UK         \n",
       "18 X-Men: The Last Stand                       210000000 234360014 Canada     \n",
       "19 King Kong                                   207000000 218051260 New Zealand\n",
       "   title_year\n",
       "1  2006      \n",
       "2  2005      \n",
       "3  2005      \n",
       "4  1997      \n",
       "5  2004      \n",
       "6  1988      \n",
       "7  1999      \n",
       "8  2006      \n",
       "9  1998      \n",
       "10 2010      \n",
       "11 2008      \n",
       "12 2001      \n",
       "13 1999      \n",
       "14 2008      \n",
       "15 2009      \n",
       "16 2014      \n",
       "17 2015      \n",
       "18 2006      \n",
       "19 2005      "
      ]
     },
     "metadata": {},
     "output_type": "display_data"
    }
   ],
   "source": [
    "head(temp[temp$country!=\"USA\"&temp$budget>=50000000], n=20)"
   ]
  },
  {
   "cell_type": "markdown",
   "metadata": {},
   "source": [
    "We see that there's quite a few american movies that are credited as foreign movie in IMDB (probably for tax reasons) but their budget are in US dollars. See for exemple, King Kong, X-Men: The Last Stand and Harry Potter and the Half-Blood Prince.\n",
    "\n",
    "So using the strategy that I discribed above, not only some budget will still be written in a foreign currency, but I will change the value of some American movies for an incorrect value.  I'll have to scrap some more data... "
   ]
  },
  {
   "cell_type": "markdown",
   "metadata": {
    "collapsed": true
   },
   "source": [
    "# Getting the currency"
   ]
  },
  {
   "cell_type": "code",
   "execution_count": null,
   "metadata": {
    "collapsed": true
   },
   "outputs": [],
   "source": []
  },
  {
   "cell_type": "code",
   "execution_count": null,
   "metadata": {
    "collapsed": true
   },
   "outputs": [],
   "source": []
  },
  {
   "cell_type": "code",
   "execution_count": null,
   "metadata": {
    "collapsed": true
   },
   "outputs": [],
   "source": []
  },
  {
   "cell_type": "code",
   "execution_count": 201,
   "metadata": {
    "collapsed": false
   },
   "outputs": [],
   "source": [
    "currency <- fread(\"find_estimated.csv\",stringsAsFactors = F)"
   ]
  },
  {
   "cell_type": "code",
   "execution_count": 202,
   "metadata": {
    "collapsed": false
   },
   "outputs": [
    {
     "data": {
      "text/html": [
       "<table>\n",
       "<thead><tr><th scope=col>title_year</th><th scope=col>currency</th><th scope=col>estimated</th><th scope=col>movie_title</th></tr></thead>\n",
       "<tbody>\n",
       "\t<tr><td>2006                                           </td><td>b'$'                                           </td><td>1                                              </td><td>b\"\"Pirates of the Caribbean: Dead Man's Chest\"\"</td></tr>\n",
       "\t<tr><td>2013                                           </td><td>b'$'                                           </td><td>1                                              </td><td>b'The Lone Ranger'                             </td></tr>\n",
       "\t<tr><td>2013                                           </td><td>b'$'                                           </td><td>1                                              </td><td>b'Man of Steel'                                </td></tr>\n",
       "\t<tr><td>2008                                           </td><td>b'$'                                           </td><td>1                                              </td><td>b'The Chronicles of Narnia: Prince Caspian'    </td></tr>\n",
       "\t<tr><td>2012                                           </td><td>b'$'                                           </td><td>1                                              </td><td>b'The Avengers'                                </td></tr>\n",
       "\t<tr><td>2011                                           </td><td>b'$'                                           </td><td>1                                              </td><td>b'Pirates of the Caribbean: On Stranger Tides' </td></tr>\n",
       "</tbody>\n",
       "</table>\n"
      ],
      "text/latex": [
       "\\begin{tabular}{r|llll}\n",
       " title\\_year & currency & estimated & movie\\_title\\\\\n",
       "\\hline\n",
       "\t 2006                                            & b'\\$'                                          & 1                                               & b\"\"Pirates of the Caribbean: Dead Man's Chest\"\"\\\\\n",
       "\t 2013                                            & b'\\$'                                          & 1                                               & b'The Lone Ranger'                             \\\\\n",
       "\t 2013                                            & b'\\$'                                          & 1                                               & b'Man of Steel'                                \\\\\n",
       "\t 2008                                            & b'\\$'                                          & 1                                               & b'The Chronicles of Narnia: Prince Caspian'    \\\\\n",
       "\t 2012                                            & b'\\$'                                          & 1                                               & b'The Avengers'                                \\\\\n",
       "\t 2011                                            & b'\\$'                                          & 1                                               & b'Pirates of the Caribbean: On Stranger Tides' \\\\\n",
       "\\end{tabular}\n"
      ],
      "text/markdown": [
       "\n",
       "title_year | currency | estimated | movie_title | \n",
       "|---|---|---|---|---|---|\n",
       "| 2006                                            | b'$'                                            | 1                                               | b\"\"Pirates of the Caribbean: Dead Man's Chest\"\" | \n",
       "| 2013                                            | b'$'                                            | 1                                               | b'The Lone Ranger'                              | \n",
       "| 2013                                            | b'$'                                            | 1                                               | b'Man of Steel'                                 | \n",
       "| 2008                                            | b'$'                                            | 1                                               | b'The Chronicles of Narnia: Prince Caspian'     | \n",
       "| 2012                                            | b'$'                                            | 1                                               | b'The Avengers'                                 | \n",
       "| 2011                                            | b'$'                                            | 1                                               | b'Pirates of the Caribbean: On Stranger Tides'  | \n",
       "\n",
       "\n"
      ],
      "text/plain": [
       "  title_year currency estimated movie_title                                    \n",
       "1 2006       b'$'     1         b\"\"Pirates of the Caribbean: Dead Man's Chest\"\"\n",
       "2 2013       b'$'     1         b'The Lone Ranger'                             \n",
       "3 2013       b'$'     1         b'Man of Steel'                                \n",
       "4 2008       b'$'     1         b'The Chronicles of Narnia: Prince Caspian'    \n",
       "5 2012       b'$'     1         b'The Avengers'                                \n",
       "6 2011       b'$'     1         b'Pirates of the Caribbean: On Stranger Tides' "
      ]
     },
     "metadata": {},
     "output_type": "display_data"
    }
   ],
   "source": [
    "head(currency)"
   ]
  },
  {
   "cell_type": "markdown",
   "metadata": {
    "collapsed": true
   },
   "source": [
    "Soo there's gonna be a bit of cleaning to do."
   ]
  },
  {
   "cell_type": "code",
   "execution_count": 203,
   "metadata": {
    "collapsed": false
   },
   "outputs": [
    {
     "data": {
      "text/html": [
       "<ol class=list-inline>\n",
       "\t<li>'b\\'$''</li>\n",
       "\t<li>''</li>\n",
       "\t<li>'b\\'€''</li>\n",
       "\t<li>'b\\'£''</li>\n",
       "\t<li>'b\\'FRF''</li>\n",
       "\t<li>'b\\'RUR''</li>\n",
       "\t<li>'b\\'CNY''</li>\n",
       "\t<li>'b\\'AUD''</li>\n",
       "\t<li>'b\\'HKD''</li>\n",
       "\t<li>'b\\'CAD''</li>\n",
       "\t<li>'b\\'JPY''</li>\n",
       "\t<li>'b\\'NOK''</li>\n",
       "\t<li>'b\\'DEM''</li>\n",
       "\t<li>'b\\'THB''</li>\n",
       "\t<li>'b\\'KRW''</li>\n",
       "\t<li>'b\\'HUF''</li>\n",
       "\t<li>'b\\'INR''</li>\n",
       "\t<li>'b\\'DKK''</li>\n",
       "\t<li>'b\\'CZK''</li>\n",
       "\t<li>'b\\'ESP''</li>\n",
       "\t<li>'b\\'NZD''</li>\n",
       "\t<li>'b\\'CHF''</li>\n",
       "\t<li>'b\\'BRL''</li>\n",
       "\t<li>'b\\'ZAR''</li>\n",
       "\t<li>'b\\'SEK''</li>\n",
       "</ol>\n"
      ],
      "text/latex": [
       "\\begin{enumerate*}\n",
       "\\item 'b\\textbackslash{}'\\$''\n",
       "\\item ''\n",
       "\\item 'b\\textbackslash{}'€''\n",
       "\\item 'b\\textbackslash{}'£''\n",
       "\\item 'b\\textbackslash{}'FRF''\n",
       "\\item 'b\\textbackslash{}'RUR''\n",
       "\\item 'b\\textbackslash{}'CNY''\n",
       "\\item 'b\\textbackslash{}'AUD''\n",
       "\\item 'b\\textbackslash{}'HKD''\n",
       "\\item 'b\\textbackslash{}'CAD''\n",
       "\\item 'b\\textbackslash{}'JPY''\n",
       "\\item 'b\\textbackslash{}'NOK''\n",
       "\\item 'b\\textbackslash{}'DEM''\n",
       "\\item 'b\\textbackslash{}'THB''\n",
       "\\item 'b\\textbackslash{}'KRW''\n",
       "\\item 'b\\textbackslash{}'HUF''\n",
       "\\item 'b\\textbackslash{}'INR''\n",
       "\\item 'b\\textbackslash{}'DKK''\n",
       "\\item 'b\\textbackslash{}'CZK''\n",
       "\\item 'b\\textbackslash{}'ESP''\n",
       "\\item 'b\\textbackslash{}'NZD''\n",
       "\\item 'b\\textbackslash{}'CHF''\n",
       "\\item 'b\\textbackslash{}'BRL''\n",
       "\\item 'b\\textbackslash{}'ZAR''\n",
       "\\item 'b\\textbackslash{}'SEK''\n",
       "\\end{enumerate*}\n"
      ],
      "text/markdown": [
       "1. 'b\\'$''\n",
       "2. ''\n",
       "3. 'b\\'€''\n",
       "4. 'b\\'£''\n",
       "5. 'b\\'FRF''\n",
       "6. 'b\\'RUR''\n",
       "7. 'b\\'CNY''\n",
       "8. 'b\\'AUD''\n",
       "9. 'b\\'HKD''\n",
       "10. 'b\\'CAD''\n",
       "11. 'b\\'JPY''\n",
       "12. 'b\\'NOK''\n",
       "13. 'b\\'DEM''\n",
       "14. 'b\\'THB''\n",
       "15. 'b\\'KRW''\n",
       "16. 'b\\'HUF''\n",
       "17. 'b\\'INR''\n",
       "18. 'b\\'DKK''\n",
       "19. 'b\\'CZK''\n",
       "20. 'b\\'ESP''\n",
       "21. 'b\\'NZD''\n",
       "22. 'b\\'CHF''\n",
       "23. 'b\\'BRL''\n",
       "24. 'b\\'ZAR''\n",
       "25. 'b\\'SEK''\n",
       "\n",
       "\n"
      ],
      "text/plain": [
       " [1] \"b'$'\"   \"\"       \"b''\"   \"b'£'\"   \"b'FRF'\" \"b'RUR'\" \"b'CNY'\" \"b'AUD'\"\n",
       " [9] \"b'HKD'\" \"b'CAD'\" \"b'JPY'\" \"b'NOK'\" \"b'DEM'\" \"b'THB'\" \"b'KRW'\" \"b'HUF'\"\n",
       "[17] \"b'INR'\" \"b'DKK'\" \"b'CZK'\" \"b'ESP'\" \"b'NZD'\" \"b'CHF'\" \"b'BRL'\" \"b'ZAR'\"\n",
       "[25] \"b'SEK'\""
      ]
     },
     "metadata": {},
     "output_type": "display_data"
    }
   ],
   "source": [
    "unique(currency$currency)"
   ]
  },
  {
   "cell_type": "markdown",
   "metadata": {},
   "source": [
    "I'll drop the first three caracters in the variable currency and movie_title"
   ]
  },
  {
   "cell_type": "code",
   "execution_count": 204,
   "metadata": {
    "collapsed": false
   },
   "outputs": [
    {
     "data": {
      "text/html": [
       "<ol class=list-inline>\n",
       "\t<li>'$'</li>\n",
       "\t<li>''</li>\n",
       "\t<li>'€'</li>\n",
       "\t<li>'£'</li>\n",
       "\t<li>'FRF'</li>\n",
       "\t<li>'RUR'</li>\n",
       "\t<li>'CNY'</li>\n",
       "\t<li>'AUD'</li>\n",
       "\t<li>'HKD'</li>\n",
       "\t<li>'CAD'</li>\n",
       "\t<li>'JPY'</li>\n",
       "\t<li>'NOK'</li>\n",
       "\t<li>'DEM'</li>\n",
       "\t<li>'THB'</li>\n",
       "\t<li>'KRW'</li>\n",
       "\t<li>'HUF'</li>\n",
       "\t<li>'INR'</li>\n",
       "\t<li>'DKK'</li>\n",
       "\t<li>'CZK'</li>\n",
       "\t<li>'ESP'</li>\n",
       "\t<li>'NZD'</li>\n",
       "\t<li>'CHF'</li>\n",
       "\t<li>'BRL'</li>\n",
       "\t<li>'ZAR'</li>\n",
       "\t<li>'SEK'</li>\n",
       "</ol>\n"
      ],
      "text/latex": [
       "\\begin{enumerate*}\n",
       "\\item '\\$'\n",
       "\\item ''\n",
       "\\item '€'\n",
       "\\item '£'\n",
       "\\item 'FRF'\n",
       "\\item 'RUR'\n",
       "\\item 'CNY'\n",
       "\\item 'AUD'\n",
       "\\item 'HKD'\n",
       "\\item 'CAD'\n",
       "\\item 'JPY'\n",
       "\\item 'NOK'\n",
       "\\item 'DEM'\n",
       "\\item 'THB'\n",
       "\\item 'KRW'\n",
       "\\item 'HUF'\n",
       "\\item 'INR'\n",
       "\\item 'DKK'\n",
       "\\item 'CZK'\n",
       "\\item 'ESP'\n",
       "\\item 'NZD'\n",
       "\\item 'CHF'\n",
       "\\item 'BRL'\n",
       "\\item 'ZAR'\n",
       "\\item 'SEK'\n",
       "\\end{enumerate*}\n"
      ],
      "text/markdown": [
       "1. '$'\n",
       "2. ''\n",
       "3. '€'\n",
       "4. '£'\n",
       "5. 'FRF'\n",
       "6. 'RUR'\n",
       "7. 'CNY'\n",
       "8. 'AUD'\n",
       "9. 'HKD'\n",
       "10. 'CAD'\n",
       "11. 'JPY'\n",
       "12. 'NOK'\n",
       "13. 'DEM'\n",
       "14. 'THB'\n",
       "15. 'KRW'\n",
       "16. 'HUF'\n",
       "17. 'INR'\n",
       "18. 'DKK'\n",
       "19. 'CZK'\n",
       "20. 'ESP'\n",
       "21. 'NZD'\n",
       "22. 'CHF'\n",
       "23. 'BRL'\n",
       "24. 'ZAR'\n",
       "25. 'SEK'\n",
       "\n",
       "\n"
      ],
      "text/plain": [
       " [1] \"$\"   \"\"    \"\"   \"£\"   \"FRF\" \"RUR\" \"CNY\" \"AUD\" \"HKD\" \"CAD\" \"JPY\" \"NOK\"\n",
       "[13] \"DEM\" \"THB\" \"KRW\" \"HUF\" \"INR\" \"DKK\" \"CZK\" \"ESP\" \"NZD\" \"CHF\" \"BRL\" \"ZAR\"\n",
       "[25] \"SEK\""
      ]
     },
     "metadata": {},
     "output_type": "display_data"
    }
   ],
   "source": [
    "currency$currency<-as.character(currency$currency)\n",
    "currency$currency<-substr(currency$currency, 3, nchar(currency$currency)-1)\n",
    "unique(currency$currency)"
   ]
  },
  {
   "cell_type": "code",
   "execution_count": 205,
   "metadata": {
    "collapsed": false
   },
   "outputs": [
    {
     "data": {
      "text/html": [
       "<ol class=list-inline>\n",
       "\t<li>'Legally Blonde 2: Red White &amp; Blonde'</li>\n",
       "\t<li>'Riding in Cars with Boys'</li>\n",
       "\t<li>'Heavenly Creatures'</li>\n",
       "\t<li>'Big Miracle'</li>\n",
       "\t<li>'To Die For'</li>\n",
       "</ol>\n"
      ],
      "text/latex": [
       "\\begin{enumerate*}\n",
       "\\item 'Legally Blonde 2: Red White \\& Blonde'\n",
       "\\item 'Riding in Cars with Boys'\n",
       "\\item 'Heavenly Creatures'\n",
       "\\item 'Big Miracle'\n",
       "\\item 'To Die For'\n",
       "\\end{enumerate*}\n"
      ],
      "text/markdown": [
       "1. 'Legally Blonde 2: Red White &amp; Blonde'\n",
       "2. 'Riding in Cars with Boys'\n",
       "3. 'Heavenly Creatures'\n",
       "4. 'Big Miracle'\n",
       "5. 'To Die For'\n",
       "\n",
       "\n"
      ],
      "text/plain": [
       "[1] \"Legally Blonde 2: Red White & Blonde\"\n",
       "[2] \"Riding in Cars with Boys\"            \n",
       "[3] \"Heavenly Creatures\"                  \n",
       "[4] \"Big Miracle\"                         \n",
       "[5] \"To Die For\"                          "
      ]
     },
     "metadata": {},
     "output_type": "display_data"
    }
   ],
   "source": [
    "currency$movie_title<-as.character(currency$movie_title)\n",
    "currency$movie_title<-substr(currency$movie_title, 3, nchar(currency$movie_title)-1)\n",
    "sample(currency$movie_title, size=5)"
   ]
  },
  {
   "cell_type": "markdown",
   "metadata": {
    "collapsed": true
   },
   "source": [
    "Then, I'll change the caracters '$', '€' and '£' for their country code."
   ]
  },
  {
   "cell_type": "code",
   "execution_count": 206,
   "metadata": {
    "collapsed": false
   },
   "outputs": [
    {
     "data": {
      "text/html": [
       "<ol class=list-inline>\n",
       "\t<li>'USA'</li>\n",
       "\t<li>''</li>\n",
       "\t<li>'FRF'</li>\n",
       "\t<li>'GBR'</li>\n",
       "\t<li>'RUR'</li>\n",
       "\t<li>'CNY'</li>\n",
       "\t<li>'AUD'</li>\n",
       "\t<li>'HKD'</li>\n",
       "\t<li>'CAD'</li>\n",
       "\t<li>'JPY'</li>\n",
       "\t<li>'NOK'</li>\n",
       "\t<li>'DEM'</li>\n",
       "\t<li>'THB'</li>\n",
       "\t<li>'KRW'</li>\n",
       "\t<li>'HUF'</li>\n",
       "\t<li>'INR'</li>\n",
       "\t<li>'DKK'</li>\n",
       "\t<li>'CZK'</li>\n",
       "\t<li>'ESP'</li>\n",
       "\t<li>'NZD'</li>\n",
       "\t<li>'CHF'</li>\n",
       "\t<li>'BRL'</li>\n",
       "\t<li>'ZAR'</li>\n",
       "\t<li>'SEK'</li>\n",
       "</ol>\n"
      ],
      "text/latex": [
       "\\begin{enumerate*}\n",
       "\\item 'USA'\n",
       "\\item ''\n",
       "\\item 'FRF'\n",
       "\\item 'GBR'\n",
       "\\item 'RUR'\n",
       "\\item 'CNY'\n",
       "\\item 'AUD'\n",
       "\\item 'HKD'\n",
       "\\item 'CAD'\n",
       "\\item 'JPY'\n",
       "\\item 'NOK'\n",
       "\\item 'DEM'\n",
       "\\item 'THB'\n",
       "\\item 'KRW'\n",
       "\\item 'HUF'\n",
       "\\item 'INR'\n",
       "\\item 'DKK'\n",
       "\\item 'CZK'\n",
       "\\item 'ESP'\n",
       "\\item 'NZD'\n",
       "\\item 'CHF'\n",
       "\\item 'BRL'\n",
       "\\item 'ZAR'\n",
       "\\item 'SEK'\n",
       "\\end{enumerate*}\n"
      ],
      "text/markdown": [
       "1. 'USA'\n",
       "2. ''\n",
       "3. 'FRF'\n",
       "4. 'GBR'\n",
       "5. 'RUR'\n",
       "6. 'CNY'\n",
       "7. 'AUD'\n",
       "8. 'HKD'\n",
       "9. 'CAD'\n",
       "10. 'JPY'\n",
       "11. 'NOK'\n",
       "12. 'DEM'\n",
       "13. 'THB'\n",
       "14. 'KRW'\n",
       "15. 'HUF'\n",
       "16. 'INR'\n",
       "17. 'DKK'\n",
       "18. 'CZK'\n",
       "19. 'ESP'\n",
       "20. 'NZD'\n",
       "21. 'CHF'\n",
       "22. 'BRL'\n",
       "23. 'ZAR'\n",
       "24. 'SEK'\n",
       "\n",
       "\n"
      ],
      "text/plain": [
       " [1] \"USA\" \"\"    \"FRF\" \"GBR\" \"RUR\" \"CNY\" \"AUD\" \"HKD\" \"CAD\" \"JPY\" \"NOK\" \"DEM\"\n",
       "[13] \"THB\" \"KRW\" \"HUF\" \"INR\" \"DKK\" \"CZK\" \"ESP\" \"NZD\" \"CHF\" \"BRL\" \"ZAR\" \"SEK\""
      ]
     },
     "metadata": {},
     "output_type": "display_data"
    }
   ],
   "source": [
    "currency$currency[currency$currency=='$']<-\"USA\"\n",
    "currency$currency[currency$currency==currency$currency[currency$movie_title==\"Micmacs\"]]<-\"FRF\"\n",
    "currency$currency[currency$currency=='£']<-\"GBR\"\n",
    "unique(currency$currency)"
   ]
  },
  {
   "cell_type": "markdown",
   "metadata": {},
   "source": [
    "There's with no currency label, let's look at some of them"
   ]
  },
  {
   "cell_type": "code",
   "execution_count": 207,
   "metadata": {
    "collapsed": false
   },
   "outputs": [
    {
     "data": {
      "text/html": [
       "<ol class=list-inline>\n",
       "\t<li>'The Good Dinosaur'</li>\n",
       "\t<li>'The Lovers'</li>\n",
       "\t<li>'Godzilla Resurgence'</li>\n",
       "\t<li>'Harry Potter and the Deathly Hallows: Part II'</li>\n",
       "\t<li>'Godzilla Resurgence'</li>\n",
       "\t<li>'Harry Potter and the Deathly Hallows: Part I'</li>\n",
       "</ol>\n"
      ],
      "text/latex": [
       "\\begin{enumerate*}\n",
       "\\item 'The Good Dinosaur'\n",
       "\\item 'The Lovers'\n",
       "\\item 'Godzilla Resurgence'\n",
       "\\item 'Harry Potter and the Deathly Hallows: Part II'\n",
       "\\item 'Godzilla Resurgence'\n",
       "\\item 'Harry Potter and the Deathly Hallows: Part I'\n",
       "\\end{enumerate*}\n"
      ],
      "text/markdown": [
       "1. 'The Good Dinosaur'\n",
       "2. 'The Lovers'\n",
       "3. 'Godzilla Resurgence'\n",
       "4. 'Harry Potter and the Deathly Hallows: Part II'\n",
       "5. 'Godzilla Resurgence'\n",
       "6. 'Harry Potter and the Deathly Hallows: Part I'\n",
       "\n",
       "\n"
      ],
      "text/plain": [
       "[1] \"The Good Dinosaur\"                            \n",
       "[2] \"The Lovers\"                                   \n",
       "[3] \"Godzilla Resurgence\"                          \n",
       "[4] \"Harry Potter and the Deathly Hallows: Part II\"\n",
       "[5] \"Godzilla Resurgence\"                          \n",
       "[6] \"Harry Potter and the Deathly Hallows: Part I\" "
      ]
     },
     "metadata": {},
     "output_type": "display_data"
    }
   ],
   "source": [
    "head(currency$movie_title[currency$currency==''])"
   ]
  },
  {
   "cell_type": "markdown",
   "metadata": {},
   "source": [
    "We see that the majority of those movies are american movie, which make sens since the us dollar is the default currency, but some of them are just missing value. We also see that there's some duplicate in the table, for exemple:"
   ]
  },
  {
   "cell_type": "code",
   "execution_count": 208,
   "metadata": {
    "collapsed": false
   },
   "outputs": [
    {
     "data": {
      "text/html": [
       "<table>\n",
       "<thead><tr><th scope=col>title_year</th><th scope=col>currency</th><th scope=col>estimated</th><th scope=col>movie_title</th></tr></thead>\n",
       "<tbody>\n",
       "\t<tr><td>2016               </td><td>                   </td><td>NA                 </td><td>Godzilla Resurgence</td></tr>\n",
       "\t<tr><td>2016               </td><td>                   </td><td>NA                 </td><td>Godzilla Resurgence</td></tr>\n",
       "</tbody>\n",
       "</table>\n"
      ],
      "text/latex": [
       "\\begin{tabular}{r|llll}\n",
       " title\\_year & currency & estimated & movie\\_title\\\\\n",
       "\\hline\n",
       "\t 2016                &                     & NA                  & Godzilla Resurgence\\\\\n",
       "\t 2016                &                     & NA                  & Godzilla Resurgence\\\\\n",
       "\\end{tabular}\n"
      ],
      "text/markdown": [
       "\n",
       "title_year | currency | estimated | movie_title | \n",
       "|---|---|\n",
       "| 2016                |                     | NA                  | Godzilla Resurgence | \n",
       "| 2016                |                     | NA                  | Godzilla Resurgence | \n",
       "\n",
       "\n"
      ],
      "text/plain": [
       "  title_year currency estimated movie_title        \n",
       "1 2016                NA        Godzilla Resurgence\n",
       "2 2016                NA        Godzilla Resurgence"
      ]
     },
     "metadata": {},
     "output_type": "display_data"
    },
    {
     "name": "stdout",
     "output_type": "stream",
     "text": [
      "Classes 'data.table' and 'data.frame':\t5029 obs. of  4 variables:\n",
      " $ title_year : int  2006 2013 2013 2008 2012 2011 2012 2014 2012 2010 ...\n",
      " $ currency   : chr  \"USA\" \"USA\" \"USA\" \"USA\" ...\n",
      " $ estimated  : int  1 1 1 1 1 1 1 1 1 1 ...\n",
      " $ movie_title: chr  \"\\\"Pirates of the Caribbean: Dead Man's Chest\\\"\" \"The Lone Ranger\" \"Man of Steel\" \"The Chronicles of Narnia: Prince Caspian\" ...\n",
      " - attr(*, \".internal.selfref\")=<externalptr> \n"
     ]
    }
   ],
   "source": [
    "subset(currency,movie_title=='Godzilla Resurgence')\n",
    "str(currency)"
   ]
  },
  {
   "cell_type": "markdown",
   "metadata": {},
   "source": [
    "Let's get rid of them"
   ]
  },
  {
   "cell_type": "code",
   "execution_count": 209,
   "metadata": {
    "collapsed": false
   },
   "outputs": [
    {
     "name": "stdout",
     "output_type": "stream",
     "text": [
      "Classes 'data.table' and 'data.frame':\t4907 obs. of  4 variables:\n",
      " $ title_year : int  2006 2013 2013 2008 2012 2011 2012 2014 2012 2010 ...\n",
      " $ currency   : chr  \"USA\" \"USA\" \"USA\" \"USA\" ...\n",
      " $ estimated  : int  1 1 1 1 1 1 1 1 1 1 ...\n",
      " $ movie_title: chr  \"\\\"Pirates of the Caribbean: Dead Man's Chest\\\"\" \"The Lone Ranger\" \"Man of Steel\" \"The Chronicles of Narnia: Prince Caspian\" ...\n",
      " - attr(*, \".internal.selfref\")=<externalptr> \n"
     ]
    }
   ],
   "source": [
    "#currency<-currency[!duplicated(currency),]\n",
    "setkey(currency,NULL)\n",
    "currency<-unique(currency)\n",
    "str(currency)"
   ]
  },
  {
   "cell_type": "code",
   "execution_count": 162,
   "metadata": {
    "collapsed": false
   },
   "outputs": [
    {
     "data": {
      "text/html": [
       "<ol class=list-inline>\n",
       "\t<li>'The Lovers'</li>\n",
       "\t<li>'Godzilla Resurgence'</li>\n",
       "\t<li>'Harry Potter and the Deathly Hallows: Part II'</li>\n",
       "\t<li>'Harry Potter and the Deathly Hallows: Part I'</li>\n",
       "\t<li><span style=white-space:pre-wrap>'The A-Team            '</span></li>\n",
       "\t<li><span style=white-space:pre-wrap>'10000 B.C.            '</span></li>\n",
       "</ol>\n"
      ],
      "text/latex": [
       "\\begin{enumerate*}\n",
       "\\item 'The Lovers'\n",
       "\\item 'Godzilla Resurgence'\n",
       "\\item 'Harry Potter and the Deathly Hallows: Part II'\n",
       "\\item 'Harry Potter and the Deathly Hallows: Part I'\n",
       "\\item 'The A-Team            '\n",
       "\\item '10000 B.C.            '\n",
       "\\end{enumerate*}\n"
      ],
      "text/markdown": [
       "1. 'The Lovers'\n",
       "2. 'Godzilla Resurgence'\n",
       "3. 'Harry Potter and the Deathly Hallows: Part II'\n",
       "4. 'Harry Potter and the Deathly Hallows: Part I'\n",
       "5. <span style=white-space:pre-wrap>'The A-Team            '</span>\n",
       "6. <span style=white-space:pre-wrap>'10000 B.C.            '</span>\n",
       "\n",
       "\n"
      ],
      "text/plain": [
       "[1] \"The Lovers\"                                   \n",
       "[2] \"Godzilla Resurgence\"                          \n",
       "[3] \"Harry Potter and the Deathly Hallows: Part II\"\n",
       "[4] \"Harry Potter and the Deathly Hallows: Part I\" \n",
       "[5] \"The A-Team            \"                       \n",
       "[6] \"10000 B.C.            \"                       "
      ]
     },
     "metadata": {},
     "output_type": "display_data"
    },
    {
     "data": {
      "text/html": [
       "358"
      ],
      "text/latex": [
       "358"
      ],
      "text/markdown": [
       "358"
      ],
      "text/plain": [
       "[1] 358"
      ]
     },
     "metadata": {},
     "output_type": "display_data"
    }
   ],
   "source": [
    "head(currency$movie_title[currency$currency==''])\n",
    "length(currency$movie_title[currency$currency==''])"
   ]
  },
  {
   "cell_type": "markdown",
   "metadata": {},
   "source": [
    "Now I'll use the data from the IMDB data.table to assign the USA label to american film with no currency data"
   ]
  },
  {
   "cell_type": "code",
   "execution_count": 210,
   "metadata": {
    "collapsed": true
   },
   "outputs": [],
   "source": [
    "change_US_currency<-function(x,y){\n",
    "    values<-x$currency\n",
    "    for (i in 1:length(x$currency)){\n",
    "        for (j in 1:length(y$country)){\n",
    "            if(x$currency[i]==''&y$movie_title[j]==x$movie_title[i]&y$country[j]==\"USA\")\n",
    "            {\n",
    "                values[i]<-\"USA\"\n",
    "            }\n",
    "        }\n",
    "    } \n",
    "    return(values)\n",
    "}"
   ]
  },
  {
   "cell_type": "code",
   "execution_count": 211,
   "metadata": {
    "collapsed": false
   },
   "outputs": [],
   "source": [
    "temp<-change_US_currency(currency,movies)"
   ]
  },
  {
   "cell_type": "code",
   "execution_count": 212,
   "metadata": {
    "collapsed": false
   },
   "outputs": [
    {
     "data": {
      "text/html": [
       "4333"
      ],
      "text/latex": [
       "4333"
      ],
      "text/markdown": [
       "4333"
      ],
      "text/plain": [
       "[1] 4333"
      ]
     },
     "metadata": {},
     "output_type": "display_data"
    },
    {
     "data": {
      "text/html": [
       "358"
      ],
      "text/latex": [
       "358"
      ],
      "text/markdown": [
       "358"
      ],
      "text/plain": [
       "[1] 358"
      ]
     },
     "metadata": {},
     "output_type": "display_data"
    },
    {
     "data": {
      "text/html": [
       "216"
      ],
      "text/latex": [
       "216"
      ],
      "text/markdown": [
       "216"
      ],
      "text/plain": [
       "[1] 216"
      ]
     },
     "metadata": {},
     "output_type": "display_data"
    },
    {
     "data": {
      "text/html": [
       "4907"
      ],
      "text/latex": [
       "4907"
      ],
      "text/markdown": [
       "4907"
      ],
      "text/plain": [
       "[1] 4907"
      ]
     },
     "metadata": {},
     "output_type": "display_data"
    }
   ],
   "source": [
    "length(temp[temp==\"USA\"])\n",
    "length(temp[temp==\"\"])\n",
    "length(temp)-(length(temp[temp==\"USA\"])+length(temp[temp==\"\"]))\n",
    "length(temp)"
   ]
  },
  {
   "cell_type": "code",
   "execution_count": 213,
   "metadata": {
    "collapsed": false
   },
   "outputs": [
    {
     "data": {
      "text/html": [
       "4208"
      ],
      "text/latex": [
       "4208"
      ],
      "text/markdown": [
       "4208"
      ],
      "text/plain": [
       "[1] 4208"
      ]
     },
     "metadata": {},
     "output_type": "display_data"
    },
    {
     "data": {
      "text/html": [
       "483"
      ],
      "text/latex": [
       "483"
      ],
      "text/markdown": [
       "483"
      ],
      "text/plain": [
       "[1] 483"
      ]
     },
     "metadata": {},
     "output_type": "display_data"
    },
    {
     "data": {
      "text/html": [
       "216"
      ],
      "text/latex": [
       "216"
      ],
      "text/markdown": [
       "216"
      ],
      "text/plain": [
       "[1] 216"
      ]
     },
     "metadata": {},
     "output_type": "display_data"
    },
    {
     "data": {
      "text/html": [
       "4907"
      ],
      "text/latex": [
       "4907"
      ],
      "text/markdown": [
       "4907"
      ],
      "text/plain": [
       "[1] 4907"
      ]
     },
     "metadata": {},
     "output_type": "display_data"
    }
   ],
   "source": [
    "length(currency$currency[currency$currency==\"USA\"])\n",
    "length(currency$currency[currency$currency==\"\"])\n",
    "length(currency$currency)-(length(currency$currency[currency$currency==\"USA\"])+length(currency$currency[currency$currency==\"\"]))\n",
    "length(currency$currency)"
   ]
  },
  {
   "cell_type": "code",
   "execution_count": 214,
   "metadata": {
    "collapsed": false
   },
   "outputs": [],
   "source": [
    "currency$currency<-temp"
   ]
  },
  {
   "cell_type": "code",
   "execution_count": 216,
   "metadata": {
    "collapsed": false
   },
   "outputs": [],
   "source": [
    "n<-c(\"title_year\",\"currency\",\"movie_title\")\n",
    "currency<-currency[,n,with=FALSE]"
   ]
  },
  {
   "cell_type": "code",
   "execution_count": 217,
   "metadata": {
    "collapsed": false
   },
   "outputs": [
    {
     "name": "stderr",
     "output_type": "stream",
     "text": [
      "Warning message in write.csv(currency, \"currency.csv\", row.names = FALSE, col.names = TRUE):\n",
      "\"attempt to set 'col.names' ignored\""
     ]
    }
   ],
   "source": [
    "write.csv(currency,\"currency.csv\",row.names=FALSE, col.names=TRUE)"
   ]
  },
  {
   "cell_type": "code",
   "execution_count": 218,
   "metadata": {
    "collapsed": false
   },
   "outputs": [],
   "source": [
    "currency<-fread(\"currency.csv\", stringsAsFactors=FALSE)"
   ]
  },
  {
   "cell_type": "markdown",
   "metadata": {},
   "source": [
    "# Merging the data"
   ]
  },
  {
   "cell_type": "markdown",
   "metadata": {},
   "source": [
    "I found a data set of the historical exchange rate from 1950 to 2015 from the OECD website  https://data.oecd.org/conversion/exchange-rates.htm. OECD (2017), Exchange rates (indicator). doi: 10.1787/037ed317-en (Accessed on 13 January 2017)"
   ]
  },
  {
   "cell_type": "code",
   "execution_count": 219,
   "metadata": {
    "collapsed": false
   },
   "outputs": [
    {
     "name": "stdout",
     "output_type": "stream",
     "text": [
      "Classes 'data.table' and 'data.frame':\t234 obs. of  2 variables:\n",
      " $ CODE   : chr  \"ABW\" \"AFG\" \"AFRI\" \"AGO\" ...\n",
      " $ Country: chr  \"Aruba\" \"Afghanistan\" \"Africa\" \"Angola\" ...\n",
      " - attr(*, \".internal.selfref\")=<externalptr> \n"
     ]
    },
    {
     "data": {
      "text/html": [
       "<ol class=list-inline>\n",
       "\t<li>''</li>\n",
       "\t<li>'FRF'</li>\n",
       "\t<li>'RUR'</li>\n",
       "\t<li>'CNY'</li>\n",
       "\t<li>'AUD'</li>\n",
       "\t<li>'HKD'</li>\n",
       "\t<li>'CAD'</li>\n",
       "\t<li>'JPY'</li>\n",
       "\t<li>'NOK'</li>\n",
       "\t<li>'DEM'</li>\n",
       "\t<li>'THB'</li>\n",
       "\t<li>'KRW'</li>\n",
       "\t<li>'HUF'</li>\n",
       "\t<li>'INR'</li>\n",
       "\t<li>'DKK'</li>\n",
       "\t<li>'CZK'</li>\n",
       "\t<li>'NZD'</li>\n",
       "\t<li>'CHF'</li>\n",
       "\t<li>'BRL'</li>\n",
       "\t<li>'ZAR'</li>\n",
       "\t<li>'SEK'</li>\n",
       "</ol>\n"
      ],
      "text/latex": [
       "\\begin{enumerate*}\n",
       "\\item ''\n",
       "\\item 'FRF'\n",
       "\\item 'RUR'\n",
       "\\item 'CNY'\n",
       "\\item 'AUD'\n",
       "\\item 'HKD'\n",
       "\\item 'CAD'\n",
       "\\item 'JPY'\n",
       "\\item 'NOK'\n",
       "\\item 'DEM'\n",
       "\\item 'THB'\n",
       "\\item 'KRW'\n",
       "\\item 'HUF'\n",
       "\\item 'INR'\n",
       "\\item 'DKK'\n",
       "\\item 'CZK'\n",
       "\\item 'NZD'\n",
       "\\item 'CHF'\n",
       "\\item 'BRL'\n",
       "\\item 'ZAR'\n",
       "\\item 'SEK'\n",
       "\\end{enumerate*}\n"
      ],
      "text/markdown": [
       "1. ''\n",
       "2. 'FRF'\n",
       "3. 'RUR'\n",
       "4. 'CNY'\n",
       "5. 'AUD'\n",
       "6. 'HKD'\n",
       "7. 'CAD'\n",
       "8. 'JPY'\n",
       "9. 'NOK'\n",
       "10. 'DEM'\n",
       "11. 'THB'\n",
       "12. 'KRW'\n",
       "13. 'HUF'\n",
       "14. 'INR'\n",
       "15. 'DKK'\n",
       "16. 'CZK'\n",
       "17. 'NZD'\n",
       "18. 'CHF'\n",
       "19. 'BRL'\n",
       "20. 'ZAR'\n",
       "21. 'SEK'\n",
       "\n",
       "\n"
      ],
      "text/plain": [
       " [1] \"\"    \"FRF\" \"RUR\" \"CNY\" \"AUD\" \"HKD\" \"CAD\" \"JPY\" \"NOK\" \"DEM\" \"THB\" \"KRW\"\n",
       "[13] \"HUF\" \"INR\" \"DKK\" \"CZK\" \"NZD\" \"CHF\" \"BRL\" \"ZAR\" \"SEK\""
      ]
     },
     "metadata": {},
     "output_type": "display_data"
    }
   ],
   "source": [
    "abreviation <- fread(\"Abr.csv\",stringsAsFactors = F)\n",
    "#abreviation$Country<-substr(abreviation$Country, 1, nchar(abreviation$Country)-1)\n",
    "str(abreviation)\n",
    "setdiff(unique(currency$currency),abreviation$CODE)"
   ]
  },
  {
   "cell_type": "markdown",
   "metadata": {},
   "source": [
    "That data set use the ISO 3166 country name abreviation as an index for the table, while the IMDB website use the ISO 4217 currency codes to caracterise the budget. In consequence, I'll have to map the abreviation of the currency with the abreviation of the country to be able to use those data. "
   ]
  },
  {
   "cell_type": "code",
   "execution_count": 220,
   "metadata": {
    "collapsed": true
   },
   "outputs": [],
   "source": [
    "currency$currency[currency$currency=='FRF']<-\"FRA\"\n",
    "currency$currency[currency$currency=='RUR']<-\"USSR\"\n",
    "currency$currency[currency$currency=='CNY']<-\"CHN\"\n",
    "currency$currency[currency$currency=='AUD']<-\"AUS\"\n",
    "currency$currency[currency$currency=='HKD']<-\"HKG\"\n",
    "currency$currency[currency$currency=='CAD']<-\"CAN\"\n",
    "currency$currency[currency$currency=='JPY']<-\"JPN\"\n",
    "currency$currency[currency$currency=='NOK']<-\"NOR\"\n",
    "currency$currency[currency$currency=='DEM']<-\"DEU\"\n",
    "currency$currency[currency$currency=='THB']<-\"THA\"\n",
    "currency$currency[currency$currency=='KRW']<-\"KOR\"\n",
    "currency$currency[currency$currency=='HUF']<-\"HUN\"\n",
    "currency$currency[currency$currency=='INR']<-\"IND\"\n",
    "currency$currency[currency$currency=='DKK']<-\"DNK\"\n",
    "currency$currency[currency$currency=='CZK']<-\"CZE\"\n",
    "currency$currency[currency$currency=='NZD']<-\"NZL\"\n",
    "currency$currency[currency$currency=='CHF']<-\"CHE\"\n",
    "currency$currency[currency$currency=='BRL']<-\"BRA\"\n",
    "currency$currency[currency$currency=='ZAR']<-\"ZAF\"\n",
    "currency$currency[currency$currency=='SEK']<-\"SWE\""
   ]
  },
  {
   "cell_type": "markdown",
   "metadata": {},
   "source": [
    "Let's see if there's currency code that I left out"
   ]
  },
  {
   "cell_type": "code",
   "execution_count": 221,
   "metadata": {
    "collapsed": false
   },
   "outputs": [
    {
     "data": {
      "text/html": [
       "''"
      ],
      "text/latex": [
       "''"
      ],
      "text/markdown": [
       "''"
      ],
      "text/plain": [
       "[1] \"\""
      ]
     },
     "metadata": {},
     "output_type": "display_data"
    }
   ],
   "source": [
    "setdiff(unique(currency$currency),abreviation$CODE)"
   ]
  },
  {
   "cell_type": "code",
   "execution_count": 234,
   "metadata": {
    "collapsed": false
   },
   "outputs": [
    {
     "data": {
      "text/html": [
       "<table>\n",
       "<thead><tr><th scope=col>movie_title</th><th scope=col>budget</th><th scope=col>gross</th><th scope=col>country</th><th scope=col>title_year</th></tr></thead>\n",
       "<tbody>\n",
       "\t<tr><td>The Host              </td><td>12215500000           </td><td> 2201412              </td><td>South Korea           </td><td>2006                  </td></tr>\n",
       "\t<tr><td>Lady Vengeance        </td><td> 4200000000           </td><td>  211667              </td><td>South Korea           </td><td>2005                  </td></tr>\n",
       "\t<tr><td>Fateless              </td><td> 2500000000           </td><td>  195888              </td><td>Hungary               </td><td>2005                  </td></tr>\n",
       "\t<tr><td>Princess Mononoke     </td><td> 2400000000           </td><td> 2298191              </td><td>Japan                 </td><td>1997                  </td></tr>\n",
       "\t<tr><td>Steamboy              </td><td> 2127519898           </td><td>  410388              </td><td>Japan                 </td><td>2004                  </td></tr>\n",
       "\t<tr><td>Akira                 </td><td> 1100000000           </td><td>  439162              </td><td>Japan                 </td><td>1988                  </td></tr>\n",
       "\t<tr><td>Godzilla 2000         </td><td> 1000000000           </td><td>10037390              </td><td>Japan                 </td><td>1999                  </td></tr>\n",
       "\t<tr><td>Kabhi Alvida Naa Kehna</td><td>  700000000           </td><td> 3275443              </td><td>India                 </td><td>2006                  </td></tr>\n",
       "\t<tr><td>Tango                 </td><td>  700000000           </td><td> 1687311              </td><td>Spain                 </td><td>1998                  </td></tr>\n",
       "\t<tr><td>Red Cliff             </td><td>  553632000           </td><td>  626809              </td><td>China                 </td><td>2008                  </td></tr>\n",
       "</tbody>\n",
       "</table>\n"
      ],
      "text/latex": [
       "\\begin{tabular}{r|lllll}\n",
       " movie\\_title & budget & gross & country & title\\_year\\\\\n",
       "\\hline\n",
       "\t The Host               & 12215500000            &  2201412               & South Korea            & 2006                  \\\\\n",
       "\t Lady Vengeance         &  4200000000            &   211667               & South Korea            & 2005                  \\\\\n",
       "\t Fateless               &  2500000000            &   195888               & Hungary                & 2005                  \\\\\n",
       "\t Princess Mononoke      &  2400000000            &  2298191               & Japan                  & 1997                  \\\\\n",
       "\t Steamboy               &  2127519898            &   410388               & Japan                  & 2004                  \\\\\n",
       "\t Akira                  &  1100000000            &   439162               & Japan                  & 1988                  \\\\\n",
       "\t Godzilla 2000          &  1000000000            & 10037390               & Japan                  & 1999                  \\\\\n",
       "\t Kabhi Alvida Naa Kehna &   700000000            &  3275443               & India                  & 2006                  \\\\\n",
       "\t Tango                  &   700000000            &  1687311               & Spain                  & 1998                  \\\\\n",
       "\t Red Cliff              &   553632000            &   626809               & China                  & 2008                  \\\\\n",
       "\\end{tabular}\n"
      ],
      "text/markdown": [
       "\n",
       "movie_title | budget | gross | country | title_year | \n",
       "|---|---|---|---|---|---|---|---|---|---|\n",
       "| The Host               | 12215500000            |  2201412               | South Korea            | 2006                   | \n",
       "| Lady Vengeance         |  4200000000            |   211667               | South Korea            | 2005                   | \n",
       "| Fateless               |  2500000000            |   195888               | Hungary                | 2005                   | \n",
       "| Princess Mononoke      |  2400000000            |  2298191               | Japan                  | 1997                   | \n",
       "| Steamboy               |  2127519898            |   410388               | Japan                  | 2004                   | \n",
       "| Akira                  |  1100000000            |   439162               | Japan                  | 1988                   | \n",
       "| Godzilla 2000          |  1000000000            | 10037390               | Japan                  | 1999                   | \n",
       "| Kabhi Alvida Naa Kehna |   700000000            |  3275443               | India                  | 2006                   | \n",
       "| Tango                  |   700000000            |  1687311               | Spain                  | 1998                   | \n",
       "| Red Cliff              |   553632000            |   626809               | China                  | 2008                   | \n",
       "\n",
       "\n"
      ],
      "text/plain": [
       "   movie_title            budget      gross    country     title_year\n",
       "1  The Host               12215500000  2201412 South Korea 2006      \n",
       "2  Lady Vengeance          4200000000   211667 South Korea 2005      \n",
       "3  Fateless                2500000000   195888 Hungary     2005      \n",
       "4  Princess Mononoke       2400000000  2298191 Japan       1997      \n",
       "5  Steamboy                2127519898   410388 Japan       2004      \n",
       "6  Akira                   1100000000   439162 Japan       1988      \n",
       "7  Godzilla 2000           1000000000 10037390 Japan       1999      \n",
       "8  Kabhi Alvida Naa Kehna   700000000  3275443 India       2006      \n",
       "9  Tango                    700000000  1687311 Spain       1998      \n",
       "10 Red Cliff                553632000   626809 China       2008      "
      ]
     },
     "metadata": {},
     "output_type": "display_data"
    },
    {
     "name": "stdout",
     "output_type": "stream",
     "text": [
      "Classes 'data.table' and 'data.frame':\t4034 obs. of  5 variables:\n",
      " $ movie_title: chr  \"The Host\" \"Lady Vengeance\" \"Fateless\" \"Princess Mononoke\" ...\n",
      " $ budget     :Class 'integer64'  num [1:4034] 6.04e-314 2.08e-314 1.24e-314 1.19e-314 1.05e-314 ...\n",
      " $ gross      : int  2201412 211667 195888 2298191 410388 439162 10037390 3275443 1687311 626809 ...\n",
      " $ country    : chr  \"South Korea\" \"South Korea\" \"Hungary\" \"Japan\" ...\n",
      " $ title_year : int  2006 2005 2005 1997 2004 1988 1999 2006 1998 2008 ...\n",
      " - attr(*, \".internal.selfref\")=<externalptr> \n"
     ]
    }
   ],
   "source": [
    "resumer_movie<-data.table(movie_title=movies$movie_title,budget=movies$budget,gross=movies$gross,\n",
    "                 country=movies$country,title_year=movies$title_year)\n",
    "resumer_movie<-resumer_movie[order(-budget)]\n",
    "head(resumer_movie, n=10)\n",
    "str(resumer_movie)"
   ]
  },
  {
   "cell_type": "code",
   "execution_count": 282,
   "metadata": {
    "collapsed": false
   },
   "outputs": [
    {
     "data": {
      "text/html": [
       "<table>\n",
       "<thead><tr><th scope=col>movie_title</th><th scope=col>title_year</th><th scope=col>budget</th><th scope=col>gross</th><th scope=col>country</th><th scope=col>currency</th></tr></thead>\n",
       "<tbody>\n",
       "\t<tr><td>10 Cloverfield Lane       </td><td>2016                      </td><td>15000000                  </td><td>71897215                  </td><td>USA                       </td><td>USA                       </td></tr>\n",
       "\t<tr><td>10 Days in a Madhouse     </td><td>2015                      </td><td>12000000                  </td><td>   14616                  </td><td>USA                       </td><td>USA                       </td></tr>\n",
       "\t<tr><td>10 Things I Hate About You</td><td>1999                      </td><td>16000000                  </td><td>38176108                  </td><td>USA                       </td><td>USA                       </td></tr>\n",
       "\t<tr><td>102 Dalmatians            </td><td>2000                      </td><td>85000000                  </td><td>66941559                  </td><td>USA                       </td><td>USA                       </td></tr>\n",
       "\t<tr><td><span style=white-space:pre-wrap>10th &amp; Wolf               </span></td><td>2006                                                                  </td><td> 8000000                                                              </td><td><span style=white-space:pre-wrap>   53481</span>                      </td><td>USA                                                                   </td><td>USA                                                                   </td></tr>\n",
       "\t<tr><td>12 Rounds                 </td><td>2009                      </td><td>22000000                  </td><td>12232937                  </td><td>USA                       </td><td>USA                       </td></tr>\n",
       "</tbody>\n",
       "</table>\n"
      ],
      "text/latex": [
       "\\begin{tabular}{r|llllll}\n",
       " movie\\_title & title\\_year & budget & gross & country & currency\\\\\n",
       "\\hline\n",
       "\t 10 Cloverfield Lane        & 2016                       & 15000000                   & 71897215                   & USA                        & USA                       \\\\\n",
       "\t 10 Days in a Madhouse      & 2015                       & 12000000                   &    14616                   & USA                        & USA                       \\\\\n",
       "\t 10 Things I Hate About You & 1999                       & 16000000                   & 38176108                   & USA                        & USA                       \\\\\n",
       "\t 102 Dalmatians             & 2000                       & 85000000                   & 66941559                   & USA                        & USA                       \\\\\n",
       "\t 10th \\& Wolf                & 2006                         &  8000000                     &    53481                     & USA                          & USA                         \\\\\n",
       "\t 12 Rounds                  & 2009                       & 22000000                   & 12232937                   & USA                        & USA                       \\\\\n",
       "\\end{tabular}\n"
      ],
      "text/markdown": [
       "\n",
       "movie_title | title_year | budget | gross | country | currency | \n",
       "|---|---|---|---|---|---|\n",
       "| 10 Cloverfield Lane        | 2016                       | 15000000                   | 71897215                   | USA                        | USA                        | \n",
       "| 10 Days in a Madhouse      | 2015                       | 12000000                   |    14616                   | USA                        | USA                        | \n",
       "| 10 Things I Hate About You | 1999                       | 16000000                   | 38176108                   | USA                        | USA                        | \n",
       "| 102 Dalmatians             | 2000                       | 85000000                   | 66941559                   | USA                        | USA                        | \n",
       "| 10th & Wolf                | 2006                       |  8000000                   |    53481                   | USA                        | USA                        | \n",
       "| 12 Rounds                  | 2009                       | 22000000                   | 12232937                   | USA                        | USA                        | \n",
       "\n",
       "\n"
      ],
      "text/plain": [
       "  movie_title                title_year budget   gross    country currency\n",
       "1 10 Cloverfield Lane        2016       15000000 71897215 USA     USA     \n",
       "2 10 Days in a Madhouse      2015       12000000    14616 USA     USA     \n",
       "3 10 Things I Hate About You 1999       16000000 38176108 USA     USA     \n",
       "4 102 Dalmatians             2000       85000000 66941559 USA     USA     \n",
       "5 10th & Wolf                2006        8000000    53481 USA     USA     \n",
       "6 12 Rounds                  2009       22000000 12232937 USA     USA     "
      ]
     },
     "metadata": {},
     "output_type": "display_data"
    }
   ],
   "source": [
    "merge_movie<-merge(resumer_movie,currency,by=c(\"movie_title\",\"title_year\"))\n",
    "head(merge_movie)"
   ]
  },
  {
   "cell_type": "code",
   "execution_count": 238,
   "metadata": {
    "collapsed": false
   },
   "outputs": [
    {
     "name": "stdout",
     "output_type": "stream",
     "text": [
      "Classes 'data.table' and 'data.frame':\t4034 obs. of  5 variables:\n",
      " $ movie_title: chr  \"The Host\" \"Lady Vengeance\" \"Fateless\" \"Princess Mononoke\" ...\n",
      " $ budget     :Class 'integer64'  num [1:4034] 6.04e-314 2.08e-314 1.24e-314 1.19e-314 1.05e-314 ...\n",
      " $ gross      : int  2201412 211667 195888 2298191 410388 439162 10037390 3275443 1687311 626809 ...\n",
      " $ country    : chr  \"South Korea\" \"South Korea\" \"Hungary\" \"Japan\" ...\n",
      " $ title_year : int  2006 2005 2005 1997 2004 1988 1999 2006 1998 2008 ...\n",
      " - attr(*, \".internal.selfref\")=<externalptr> \n",
      "Classes 'data.table' and 'data.frame':\t3785 obs. of  6 variables:\n",
      " $ movie_title: chr  \"10 Cloverfield Lane\" \"10 Days in a Madhouse\" \"10 Things I Hate About You\" \"102 Dalmatians\" ...\n",
      " $ title_year : int  2016 2015 1999 2000 2006 2009 2013 2010 2004 2016 ...\n",
      " $ budget     :Class 'integer64'  num [1:3785] 7.41e-317 5.93e-317 7.91e-317 4.20e-316 3.95e-317 ...\n",
      " $ gross      : int  71897215 14616 38176108 66941559 53481 12232937 56667870 18329466 56044241 52822418 ...\n",
      " $ country    : chr  \"USA\" \"USA\" \"USA\" \"USA\" ...\n",
      " $ currency   : chr  \"USA\" \"USA\" \"USA\" \"USA\" ...\n",
      " - attr(*, \".internal.selfref\")=<externalptr> \n",
      " - attr(*, \"sorted\")= chr  \"movie_title\" \"title_year\"\n"
     ]
    }
   ],
   "source": [
    "str(resumer_movie)\n",
    "str(merge_movie)"
   ]
  },
  {
   "cell_type": "markdown",
   "metadata": {},
   "source": [
    "I make sure that all the label in the variable currency are included in the data set from the OCED"
   ]
  },
  {
   "cell_type": "markdown",
   "metadata": {},
   "source": [
    "# Convert budget"
   ]
  },
  {
   "cell_type": "code",
   "execution_count": 231,
   "metadata": {
    "collapsed": false
   },
   "outputs": [],
   "source": [
    "change_string_value<-function(x,y,z){\n",
    "    value<-z\n",
    "    for (i in 1:length(x)){\n",
    "        for (j in 1:length(z)){\n",
    "            if(tolower(x[i])==tolower(z[j]))\n",
    "            {\n",
    "                value[j]<-y[i]\n",
    "            }\n",
    "        }\n",
    "    } \n",
    "    return(value)\n",
    "}"
   ]
  },
  {
   "cell_type": "code",
   "execution_count": null,
   "metadata": {
    "collapsed": false
   },
   "outputs": [],
   "source": [
    "#temp$V4<-change_string_value(abreviation$Country,abreviation$CODE,temp$V4)"
   ]
  },
  {
   "cell_type": "code",
   "execution_count": 232,
   "metadata": {
    "collapsed": false
   },
   "outputs": [
    {
     "data": {
      "text/plain": [
       "NULL"
      ]
     },
     "metadata": {},
     "output_type": "display_data"
    }
   ],
   "source": [
    "head(temp$V4)"
   ]
  },
  {
   "cell_type": "code",
   "execution_count": 233,
   "metadata": {
    "collapsed": false
   },
   "outputs": [
    {
     "name": "stdout",
     "output_type": "stream",
     "text": [
      "Classes 'data.table' and 'data.frame':\t2764 obs. of  8 variables:\n",
      " $ LOCATION  : chr  \"AUS\" \"AUS\" \"AUS\" \"AUS\" ...\n",
      " $ INDICATOR : chr  \"EXCH\" \"EXCH\" \"EXCH\" \"EXCH\" ...\n",
      " $ SUBJECT   : chr  \"TOT\" \"TOT\" \"TOT\" \"TOT\" ...\n",
      " $ MEASURE   : chr  \"NATUSD\" \"NATUSD\" \"NATUSD\" \"NATUSD\" ...\n",
      " $ FREQUENCY : chr  \"A\" \"A\" \"A\" \"A\" ...\n",
      " $ TIME      : int  1950 1951 1952 1953 1954 1955 1956 1957 1958 1959 ...\n",
      " $ Value     : num  0.893 0.893 0.893 0.893 0.893 ...\n",
      " $ Flag Codes: logi  NA NA NA NA NA NA ...\n",
      " - attr(*, \".internal.selfref\")=<externalptr> \n"
     ]
    }
   ],
   "source": [
    "ex_rate <- fread(\"ExRate50-15.csv\",stringsAsFactors = F)\n",
    "\n",
    "str(ex_rate)"
   ]
  },
  {
   "cell_type": "code",
   "execution_count": 286,
   "metadata": {
    "collapsed": false
   },
   "outputs": [
    {
     "data": {
      "text/html": [
       "<ol class=list-inline>\n",
       "\t<li>''</li>\n",
       "\t<li>'HKG'</li>\n",
       "\t<li>'CSFR-CZE'</li>\n",
       "\t<li>'THA'</li>\n",
       "</ol>\n"
      ],
      "text/latex": [
       "\\begin{enumerate*}\n",
       "\\item ''\n",
       "\\item 'HKG'\n",
       "\\item 'CSFR-CZE'\n",
       "\\item 'THA'\n",
       "\\end{enumerate*}\n"
      ],
      "text/markdown": [
       "1. ''\n",
       "2. 'HKG'\n",
       "3. 'CSFR-CZE'\n",
       "4. 'THA'\n",
       "\n",
       "\n"
      ],
      "text/plain": [
       "[1] \"\"         \"HKG\"      \"CSFR-CZE\" \"THA\"     "
      ]
     },
     "metadata": {},
     "output_type": "display_data"
    }
   ],
   "source": [
    "setdiff(merge_movie$currency,ex_rate$LOCATION)"
   ]
  },
  {
   "cell_type": "code",
   "execution_count": 276,
   "metadata": {
    "collapsed": false
   },
   "outputs": [],
   "source": [
    "#a=country of the rate\n",
    "#b=year of the exchange rate\n",
    "#c=value of the exchage rate\n",
    "#x=country of the movie\n",
    "#y=year of the making of the movie\n",
    "#z=budget of the movie\n",
    "\n",
    "convert_gross<-function(a,b,c,x,y,z){\n",
    "    value<-z\n",
    "    for (i in 1:length(y)){\n",
    "       index<-which(a %in% x[i] & b %in%y [i])\n",
    "        min<-1\n",
    "        find<-FALSE\n",
    "        if(length(index)==0)\n",
    "        {\n",
    "           value[i]<-z[i]\n",
    "        }\n",
    "        else\n",
    "            {\n",
    "            for (j in 1:length(index)){\n",
    "            \n",
    "            if(j==1)\n",
    "                {\n",
    "                    min<-c[index[j]]\n",
    "                    find<-FALSE\n",
    "                }           \n",
    "\n",
    "            if(y[i]==b[index[j]])\n",
    "            {\n",
    "                value[i]<-z[i]/c[index[j]]\n",
    "                Find<-TRUE\n",
    "            }\n",
    "        }\n",
    "        \n",
    "        if(!find)\n",
    "            {\n",
    "            \n",
    "            value[i]<-z[i]/min\n",
    "        }\n",
    "            \n",
    "        }\n",
    "        \n",
    "        \n",
    "    } \n",
    "    return(value)\n",
    "}"
   ]
  },
  {
   "cell_type": "code",
   "execution_count": 274,
   "metadata": {
    "collapsed": false
   },
   "outputs": [
    {
     "name": "stdout",
     "output_type": "stream",
     "text": [
      " int 1879\n"
     ]
    },
    {
     "data": {
      "text/html": [
       "1"
      ],
      "text/latex": [
       "1"
      ],
      "text/markdown": [
       "1"
      ],
      "text/plain": [
       "[1] 1"
      ]
     },
     "metadata": {},
     "output_type": "display_data"
    },
    {
     "data": {
      "text/html": [
       "TRUE"
      ],
      "text/latex": [
       "TRUE"
      ],
      "text/markdown": [
       "TRUE"
      ],
      "text/plain": [
       "[1] TRUE"
      ]
     },
     "metadata": {},
     "output_type": "display_data"
    }
   ],
   "source": [
    "index<-which(ex_rate$LOCATION %in% merge_movie$currency[2] & ex_rate$TIME %in% merge_movie$title_year[2])\n",
    "str(index)\n",
    "length(index)\n",
    "merge_movie$currency[1]==ex_rate$LOCATION[index[1]]"
   ]
  },
  {
   "cell_type": "code",
   "execution_count": 277,
   "metadata": {
    "collapsed": false
   },
   "outputs": [],
   "source": [
    "merge_movie$budget_us<-convert_gross(ex_rate$LOCATION,ex_rate$TIME,ex_rate$Value,\n",
    "                                  merge_movie$currency,merge_movie$title_year,merge_movie$budget)"
   ]
  },
  {
   "cell_type": "code",
   "execution_count": 273,
   "metadata": {
    "collapsed": false
   },
   "outputs": [
    {
     "data": {
      "text/html": [
       "'10 Cloverfield Lane'"
      ],
      "text/latex": [
       "'10 Cloverfield Lane'"
      ],
      "text/markdown": [
       "'10 Cloverfield Lane'"
      ],
      "text/plain": [
       "[1] \"10 Cloverfield Lane\""
      ]
     },
     "metadata": {},
     "output_type": "display_data"
    }
   ],
   "source": [
    "merge_movie$movie_title[1]"
   ]
  },
  {
   "cell_type": "code",
   "execution_count": 278,
   "metadata": {
    "collapsed": false
   },
   "outputs": [
    {
     "data": {
      "text/html": [
       "<table>\n",
       "<thead><tr><th scope=col>movie_title</th><th scope=col>title_year</th><th scope=col>budget</th><th scope=col>gross</th><th scope=col>country</th><th scope=col>currency</th><th scope=col>Result</th><th scope=col>result</th></tr></thead>\n",
       "<tbody>\n",
       "\t<tr><td>10 Cloverfield Lane       </td><td>2016                      </td><td>15000000                  </td><td>71897215                  </td><td>USA                       </td><td>USA                       </td><td>15000000                  </td><td>15000000                  </td></tr>\n",
       "\t<tr><td>10 Days in a Madhouse     </td><td>2015                      </td><td>12000000                  </td><td>   14616                  </td><td>USA                       </td><td>USA                       </td><td>12000000                  </td><td>12000000                  </td></tr>\n",
       "\t<tr><td>10 Things I Hate About You</td><td>1999                      </td><td>16000000                  </td><td>38176108                  </td><td>USA                       </td><td>USA                       </td><td>16000000                  </td><td>16000000                  </td></tr>\n",
       "\t<tr><td>102 Dalmatians            </td><td>2000                      </td><td>85000000                  </td><td>66941559                  </td><td>USA                       </td><td>USA                       </td><td>85000000                  </td><td>85000000                  </td></tr>\n",
       "\t<tr><td><span style=white-space:pre-wrap>10th &amp; Wolf               </span></td><td>2006                                                                  </td><td> 8000000                                                              </td><td><span style=white-space:pre-wrap>   53481</span>                      </td><td>USA                                                                   </td><td>USA                                                                   </td><td> 8000000                                                              </td><td> 8000000                                                              </td></tr>\n",
       "\t<tr><td>12 Rounds                 </td><td>2009                      </td><td>22000000                  </td><td>12232937                  </td><td>USA                       </td><td>USA                       </td><td>22000000                  </td><td>22000000                  </td></tr>\n",
       "</tbody>\n",
       "</table>\n"
      ],
      "text/latex": [
       "\\begin{tabular}{r|llllllll}\n",
       " movie\\_title & title\\_year & budget & gross & country & currency & Result & result\\\\\n",
       "\\hline\n",
       "\t 10 Cloverfield Lane        & 2016                       & 15000000                   & 71897215                   & USA                        & USA                        & 15000000                   & 15000000                  \\\\\n",
       "\t 10 Days in a Madhouse      & 2015                       & 12000000                   &    14616                   & USA                        & USA                        & 12000000                   & 12000000                  \\\\\n",
       "\t 10 Things I Hate About You & 1999                       & 16000000                   & 38176108                   & USA                        & USA                        & 16000000                   & 16000000                  \\\\\n",
       "\t 102 Dalmatians             & 2000                       & 85000000                   & 66941559                   & USA                        & USA                        & 85000000                   & 85000000                  \\\\\n",
       "\t 10th \\& Wolf                & 2006                         &  8000000                     &    53481                     & USA                          & USA                          &  8000000                     &  8000000                    \\\\\n",
       "\t 12 Rounds                  & 2009                       & 22000000                   & 12232937                   & USA                        & USA                        & 22000000                   & 22000000                  \\\\\n",
       "\\end{tabular}\n"
      ],
      "text/markdown": [
       "\n",
       "movie_title | title_year | budget | gross | country | currency | Result | result | \n",
       "|---|---|---|---|---|---|\n",
       "| 10 Cloverfield Lane        | 2016                       | 15000000                   | 71897215                   | USA                        | USA                        | 15000000                   | 15000000                   | \n",
       "| 10 Days in a Madhouse      | 2015                       | 12000000                   |    14616                   | USA                        | USA                        | 12000000                   | 12000000                   | \n",
       "| 10 Things I Hate About You | 1999                       | 16000000                   | 38176108                   | USA                        | USA                        | 16000000                   | 16000000                   | \n",
       "| 102 Dalmatians             | 2000                       | 85000000                   | 66941559                   | USA                        | USA                        | 85000000                   | 85000000                   | \n",
       "| 10th & Wolf                | 2006                       |  8000000                   |    53481                   | USA                        | USA                        |  8000000                   |  8000000                   | \n",
       "| 12 Rounds                  | 2009                       | 22000000                   | 12232937                   | USA                        | USA                        | 22000000                   | 22000000                   | \n",
       "\n",
       "\n"
      ],
      "text/plain": [
       "  movie_title                title_year budget   gross    country currency\n",
       "1 10 Cloverfield Lane        2016       15000000 71897215 USA     USA     \n",
       "2 10 Days in a Madhouse      2015       12000000    14616 USA     USA     \n",
       "3 10 Things I Hate About You 1999       16000000 38176108 USA     USA     \n",
       "4 102 Dalmatians             2000       85000000 66941559 USA     USA     \n",
       "5 10th & Wolf                2006        8000000    53481 USA     USA     \n",
       "6 12 Rounds                  2009       22000000 12232937 USA     USA     \n",
       "  Result   result  \n",
       "1 15000000 15000000\n",
       "2 12000000 12000000\n",
       "3 16000000 16000000\n",
       "4 85000000 85000000\n",
       "5  8000000  8000000\n",
       "6 22000000 22000000"
      ]
     },
     "metadata": {},
     "output_type": "display_data"
    }
   ],
   "source": [
    "head(merge_movie)"
   ]
  },
  {
   "cell_type": "code",
   "execution_count": 279,
   "metadata": {
    "collapsed": false
   },
   "outputs": [
    {
     "data": {
      "text/html": [
       "<table>\n",
       "<thead><tr><th scope=col>movie_title</th><th scope=col>title_year</th><th scope=col>budget</th><th scope=col>gross</th><th scope=col>country</th><th scope=col>currency</th><th scope=col>Result</th><th scope=col>result</th></tr></thead>\n",
       "<tbody>\n",
       "\t<tr><td>3                     </td><td>2010                  </td><td>      NA              </td><td>  59774               </td><td>Germany               </td><td>                      </td><td>      NA              </td><td>      NA              </td></tr>\n",
       "\t<tr><td>8 Women               </td><td>2002                  </td><td> 8000000              </td><td>3076425               </td><td>France                </td><td>FRA                   </td><td>15007015              </td><td> 7529043              </td></tr>\n",
       "\t<tr><td>A Dangerous Method    </td><td>2011                  </td><td>15000000              </td><td>5702083               </td><td>UK                    </td><td>FRA                   </td><td>28138154              </td><td>20852013              </td></tr>\n",
       "\t<tr><td>A Room for Romeo Brass</td><td>1999                  </td><td>      NA              </td><td>  18434               </td><td>UK                    </td><td>                      </td><td>      NA              </td><td>      NA              </td></tr>\n",
       "\t<tr><td><span style=white-space:pre-wrap>Aimee &amp; Jaguar        </span></td><td>1999                                                              </td><td>15000000                                                          </td><td> 927107                                                           </td><td>Germany                                                           </td><td>DEU                                                               </td><td> 6993460                                                          </td><td>15980788                                                          </td></tr>\n",
       "\t<tr><td>Ajami                 </td><td>2009                  </td><td>      NA              </td><td> 621240               </td><td>Germany               </td><td>                      </td><td>      NA              </td><td>      NA              </td></tr>\n",
       "</tbody>\n",
       "</table>\n"
      ],
      "text/latex": [
       "\\begin{tabular}{r|llllllll}\n",
       " movie\\_title & title\\_year & budget & gross & country & currency & Result & result\\\\\n",
       "\\hline\n",
       "\t 3                      & 2010                   &       NA               &   59774                & Germany                &                        &       NA               &       NA              \\\\\n",
       "\t 8 Women                & 2002                   &  8000000               & 3076425                & France                 & FRA                    & 15007015               &  7529043              \\\\\n",
       "\t A Dangerous Method     & 2011                   & 15000000               & 5702083                & UK                     & FRA                    & 28138154               & 20852013              \\\\\n",
       "\t A Room for Romeo Brass & 1999                   &       NA               &   18434                & UK                     &                        &       NA               &       NA              \\\\\n",
       "\t Aimee \\& Jaguar         & 1999                     & 15000000                 &  927107                  & Germany                  & DEU                      &  6993460                 & 15980788                \\\\\n",
       "\t Ajami                  & 2009                   &       NA               &  621240                & Germany                &                        &       NA               &       NA              \\\\\n",
       "\\end{tabular}\n"
      ],
      "text/markdown": [
       "\n",
       "movie_title | title_year | budget | gross | country | currency | Result | result | \n",
       "|---|---|---|---|---|---|\n",
       "| 3                      | 2010                   |       NA               |   59774                | Germany                |                        |       NA               |       NA               | \n",
       "| 8 Women                | 2002                   |  8000000               | 3076425                | France                 | FRA                    | 15007015               |  7529043               | \n",
       "| A Dangerous Method     | 2011                   | 15000000               | 5702083                | UK                     | FRA                    | 28138154               | 20852013               | \n",
       "| A Room for Romeo Brass | 1999                   |       NA               |   18434                | UK                     |                        |       NA               |       NA               | \n",
       "| Aimee & Jaguar         | 1999                   | 15000000               |  927107                | Germany                | DEU                    |  6993460               | 15980788               | \n",
       "| Ajami                  | 2009                   |       NA               |  621240                | Germany                |                        |       NA               |       NA               | \n",
       "\n",
       "\n"
      ],
      "text/plain": [
       "  movie_title            title_year budget   gross   country currency Result  \n",
       "1 3                      2010             NA   59774 Germany                NA\n",
       "2 8 Women                2002        8000000 3076425 France  FRA      15007015\n",
       "3 A Dangerous Method     2011       15000000 5702083 UK      FRA      28138154\n",
       "4 A Room for Romeo Brass 1999             NA   18434 UK                     NA\n",
       "5 Aimee & Jaguar         1999       15000000  927107 Germany DEU       6993460\n",
       "6 Ajami                  2009             NA  621240 Germany                NA\n",
       "  result  \n",
       "1       NA\n",
       "2  7529043\n",
       "3 20852013\n",
       "4       NA\n",
       "5 15980788\n",
       "6       NA"
      ]
     },
     "metadata": {},
     "output_type": "display_data"
    }
   ],
   "source": [
    "head(merge_movie[merge_movie$currency!=\"USA\"])"
   ]
  },
  {
   "cell_type": "markdown",
   "metadata": {},
   "source": [
    "For exemple, the movie \"A Dangerous Method\" made in 2011 for 15 000 000 euro according to IMDB. So far, the table is good. That year, the exchage rate for the euro was 0.719355, so the budget should be, in US dollar"
   ]
  },
  {
   "cell_type": "code",
   "execution_count": 253,
   "metadata": {
    "collapsed": false
   },
   "outputs": [
    {
     "data": {
      "text/html": [
       "20852013.2618804"
      ],
      "text/latex": [
       "20852013.2618804"
      ],
      "text/markdown": [
       "20852013.2618804"
      ],
      "text/plain": [
       "[1] 20852013"
      ]
     },
     "metadata": {},
     "output_type": "display_data"
    }
   ],
   "source": [
    "15000000/0.719355"
   ]
  },
  {
   "cell_type": "markdown",
   "metadata": {},
   "source": [
    "That seem Alright! Let's look at the asian film that skew the distribution"
   ]
  },
  {
   "cell_type": "code",
   "execution_count": 280,
   "metadata": {
    "collapsed": false
   },
   "outputs": [
    {
     "data": {
      "text/html": [
       "<table>\n",
       "<thead><tr><th scope=col>movie_title</th><th scope=col>title_year</th><th scope=col>budget</th><th scope=col>gross</th><th scope=col>country</th><th scope=col>currency</th><th scope=col>Result</th><th scope=col>result</th></tr></thead>\n",
       "<tbody>\n",
       "\t<tr><td>Lady Vengeance</td><td>2005          </td><td> 4200000000   </td><td> 211667       </td><td>South Korea   </td><td>KOR           </td><td>1680000000    </td><td> 4101095      </td></tr>\n",
       "\t<tr><td>The Host      </td><td>2006          </td><td>12215500000   </td><td>2201412       </td><td>South Korea   </td><td>KOR           </td><td>4886200000    </td><td>12793905      </td></tr>\n",
       "</tbody>\n",
       "</table>\n"
      ],
      "text/latex": [
       "\\begin{tabular}{r|llllllll}\n",
       " movie\\_title & title\\_year & budget & gross & country & currency & Result & result\\\\\n",
       "\\hline\n",
       "\t Lady Vengeance & 2005           &  4200000000    &  211667        & South Korea    & KOR            & 1680000000     &  4101095      \\\\\n",
       "\t The Host       & 2006           & 12215500000    & 2201412        & South Korea    & KOR            & 4886200000     & 12793905      \\\\\n",
       "\\end{tabular}\n"
      ],
      "text/markdown": [
       "\n",
       "movie_title | title_year | budget | gross | country | currency | Result | result | \n",
       "|---|---|\n",
       "| Lady Vengeance | 2005           |  4200000000    |  211667        | South Korea    | KOR            | 1680000000     |  4101095       | \n",
       "| The Host       | 2006           | 12215500000    | 2201412        | South Korea    | KOR            | 4886200000     | 12793905       | \n",
       "\n",
       "\n"
      ],
      "text/plain": [
       "  movie_title    title_year budget      gross   country     currency Result    \n",
       "1 Lady Vengeance 2005        4200000000  211667 South Korea KOR      1680000000\n",
       "2 The Host       2006       12215500000 2201412 South Korea KOR      4886200000\n",
       "  result  \n",
       "1  4101095\n",
       "2 12793905"
      ]
     },
     "metadata": {},
     "output_type": "display_data"
    }
   ],
   "source": [
    "head(merge_movie[merge_movie$currency==\"KOR\"])"
   ]
  },
  {
   "cell_type": "markdown",
   "metadata": {},
   "source": [
    "The movie the \"The Host\" "
   ]
  },
  {
   "cell_type": "code",
   "execution_count": 281,
   "metadata": {
    "collapsed": false
   },
   "outputs": [
    {
     "data": {
      "text/html": [
       "12793905.8833299"
      ],
      "text/latex": [
       "12793905.8833299"
      ],
      "text/markdown": [
       "12793905.8833299"
      ],
      "text/plain": [
       "[1] 12793906"
      ]
     },
     "metadata": {},
     "output_type": "display_data"
    }
   ],
   "source": [
    "12215500000/954.790516"
   ]
  },
  {
   "cell_type": "code",
   "execution_count": null,
   "metadata": {
    "collapsed": true
   },
   "outputs": [],
   "source": []
  },
  {
   "cell_type": "code",
   "execution_count": null,
   "metadata": {
    "collapsed": false
   },
   "outputs": [],
   "source": [
    "movies<-merge(movies,merge_movie,by=c(\"movie_title\",\"title_year\"))\n",
    "head(movies)"
   ]
  },
  {
   "cell_type": "code",
   "execution_count": null,
   "metadata": {
    "collapsed": true
   },
   "outputs": [],
   "source": []
  },
  {
   "cell_type": "code",
   "execution_count": null,
   "metadata": {
    "collapsed": true
   },
   "outputs": [],
   "source": []
  },
  {
   "cell_type": "markdown",
   "metadata": {},
   "source": [
    "I'll have to delete that observation with the others. But before, I'll delete the variable that I won't use with the intension to minimise the number of observation deleted. For exemple, the variable num_user_for_reviews\n",
    "represent the number of review by users on IMDB for each movie, after their release (I hope). Since I'm interested in predicting the box-office of a movie before his production, that variable is useless. \n",
    "\n",
    "I'm deleting the variable num_voted_users, movie_imdb_link, num_user_for_reviews, imdb_score and movie_facebook_likes."
   ]
  },
  {
   "cell_type": "code",
   "execution_count": null,
   "metadata": {
    "collapsed": true
   },
   "outputs": [],
   "source": []
  },
  {
   "cell_type": "code",
   "execution_count": 181,
   "metadata": {
    "collapsed": false
   },
   "outputs": [],
   "source": [
    "col<-names(movies)%in% c(\"num_critic_for_reviews\",\"num_voted_users\",\"movie_imdb_link\",\"num_user_for_reviews\",\n",
    "                        \"imdb_score\",\"movie_facebook_likes\")\n",
    "movies<-movies[,!col,with=FALSE]"
   ]
  },
  {
   "cell_type": "markdown",
   "metadata": {},
   "source": [
    "Delete observations with missing data"
   ]
  },
  {
   "cell_type": "code",
   "execution_count": 182,
   "metadata": {
    "collapsed": false
   },
   "outputs": [],
   "source": [
    "movies<-movies[complete.cases(movies),]"
   ]
  },
  {
   "cell_type": "markdown",
   "metadata": {},
   "source": [
    "Now, let's look at the value of each variable."
   ]
  },
  {
   "cell_type": "code",
   "execution_count": 183,
   "metadata": {
    "collapsed": false
   },
   "outputs": [
    {
     "data": {
      "text/plain": [
       "    color           director_name         duration     director_facebook_likes\n",
       " Length:4034        Length:4034        Min.   : 37.0   Min.   :    0.0        \n",
       " Class :character   Class :character   1st Qu.: 95.0   1st Qu.:   10.0        \n",
       " Mode  :character   Mode  :character   Median :106.0   Median :   59.0        \n",
       "                                       Mean   :109.8   Mean   :  768.2        \n",
       "                                       3rd Qu.:120.0   3rd Qu.:  226.0        \n",
       "                                       Max.   :330.0   Max.   :23000.0        \n",
       "                                                                              \n",
       " actor_3_facebook_likes actor_2_name       actor_1_facebook_likes\n",
       " Min.   :    0.0        Length:4034        Min.   :     0        \n",
       " 1st Qu.:  178.2        Class :character   1st Qu.:   722        \n",
       " Median :  423.0        Mode  :character   Median :  1000        \n",
       " Mean   :  737.1                           Mean   :  7471        \n",
       " 3rd Qu.:  681.0                           3rd Qu.: 12000        \n",
       " Max.   :23000.0                           Max.   :640000        \n",
       "                                                                 \n",
       "     gross              genres          actor_1_name       movie_title       \n",
       " Min.   :      162   Length:4034        Length:4034        Length:4034       \n",
       " 1st Qu.:  6179580   Class :character   Class :character   Class :character  \n",
       " Median : 26652086   Mode  :character   Mode  :character   Mode  :character  \n",
       " Mean   : 49710491                                                           \n",
       " 3rd Qu.: 63889580                                                           \n",
       " Max.   :760505847                                                           \n",
       "                                                                             \n",
       " cast_total_facebook_likes actor_3_name       facenumber_in_poster\n",
       " Min.   :     0            Length:4034        Min.   : 0.000      \n",
       " 1st Qu.:  1798            Class :character   1st Qu.: 0.000      \n",
       " Median :  3845            Mode  :character   Median : 1.000      \n",
       " Mean   : 11091                               Mean   : 1.373      \n",
       " 3rd Qu.: 15800                               3rd Qu.: 2.000      \n",
       " Max.   :656730                               Max.   :43.000      \n",
       "                                                                  \n",
       " plot_keywords        language           country          content_rating    \n",
       " Length:4034        Length:4034        Length:4034        Length:4034       \n",
       " Class :character   Class :character   Class :character   Class :character  \n",
       " Mode  :character   Mode  :character   Mode  :character   Mode  :character  \n",
       "                                                                            \n",
       "                                                                            \n",
       "                                                                            \n",
       "                                                                            \n",
       "     budget              title_year   actor_2_facebook_likes  aspect_ratio   \n",
       " Min.   :        218   Min.   :1920   Min.   :     0.0       Min.   : 1.180  \n",
       " 1st Qu.:   10000000   1st Qu.:1999   1st Qu.:   360.0       1st Qu.: 1.850  \n",
       " Median :   25000000   Median :2005   Median :   659.5       Median : 2.350  \n",
       " Mean   :   45842859   Mean   :2003   Mean   :  1930.3       Mean   : 2.107  \n",
       " 3rd Qu.:   50000000   3rd Qu.:2010   3rd Qu.:   968.0       3rd Qu.: 2.350  \n",
       " Max.   :12215500000   Max.   :2016   Max.   :137000.0       Max.   :16.000  \n",
       " NA's   :        232                                                         "
      ]
     },
     "metadata": {},
     "output_type": "display_data"
    }
   ],
   "source": [
    "summary(movies)"
   ]
  },
  {
   "cell_type": "markdown",
   "metadata": {},
   "source": [
    "In the future, I would like to check for redondancy in the categorial variable. The reason being is that those data have been scraped from IMDB with a python package called \"scrapy\" and not from the IMDB database themself. In consequence, a bad formatting in a page or a networking error can cause some error in the value. So, for exemple, there's a possibility that there's a value Steven Spi^Xberg in the column director name who won't be associated to the factor Steven Spielberg. \n",
    "\n",
    "For the time being, looking at the value of the quantile of each numerical variable, there's two things I would like to investigate furter. First of all, the maximal value taken by the variable facenumber_in_poster that count the number of head on the movie poster is 43, which seem to be quite high. Since the number of head in each poster has been counted by a face recognicion algorithm, I suspect that this is a aberrant value. If that's not the case, investigating these data is worth my time just to find what kind of abobination of a poster can containt that many head."
   ]
  },
  {
   "cell_type": "code",
   "execution_count": 184,
   "metadata": {
    "collapsed": false
   },
   "outputs": [
    {
     "data": {
      "text/html": [
       "<iframe src=\"plotlyJupyterHTML/527ecbda0484e653967f935531dae505.html\" width=\"100%\" height=\"400\" id=\"igraph\" scrolling=\"no\" seamless=\"seamless\" frameBorder=\"0\"> </iframe>"
      ]
     },
     "metadata": {},
     "output_type": "display_data"
    }
   ],
   "source": [
    "p1 <- plot_ly(x=~movies$facenumber_in_poster,type=\"histogram\")\n",
    "embed_notebook(p1)"
   ]
  },
  {
   "cell_type": "code",
   "execution_count": 185,
   "metadata": {
    "collapsed": false
   },
   "outputs": [
    {
     "data": {
      "text/html": [
       "<table>\n",
       "<thead><tr><th scope=col>movie_title</th><th scope=col>facenumber</th></tr></thead>\n",
       "<tbody>\n",
       "\t<tr><td>500 Days of Summer  </td><td>43                  </td></tr>\n",
       "\t<tr><td>The Master          </td><td>31                  </td></tr>\n",
       "\t<tr><td>Battle of the Year  </td><td>19                  </td></tr>\n",
       "\t<tr><td>The Expendables 3   </td><td>15                  </td></tr>\n",
       "\t<tr><td>Cheaper by the Dozen</td><td>15                  </td></tr>\n",
       "\t<tr><td>New Year's Eve      </td><td>15                  </td></tr>\n",
       "\t<tr><td>Boogie Nights       </td><td>15                  </td></tr>\n",
       "\t<tr><td>As It Is in Heaven  </td><td>15                  </td></tr>\n",
       "\t<tr><td>A Bridge Too Far    </td><td>14                  </td></tr>\n",
       "\t<tr><td>Love the Coopers    </td><td>13                  </td></tr>\n",
       "</tbody>\n",
       "</table>\n"
      ],
      "text/latex": [
       "\\begin{tabular}{r|ll}\n",
       " movie\\_title & facenumber\\\\\n",
       "\\hline\n",
       "\t 500 Days of Summer   & 43                  \\\\\n",
       "\t The Master           & 31                  \\\\\n",
       "\t Battle of the Year   & 19                  \\\\\n",
       "\t The Expendables 3    & 15                  \\\\\n",
       "\t Cheaper by the Dozen & 15                  \\\\\n",
       "\t New Year's Eve       & 15                  \\\\\n",
       "\t Boogie Nights        & 15                  \\\\\n",
       "\t As It Is in Heaven   & 15                  \\\\\n",
       "\t A Bridge Too Far     & 14                  \\\\\n",
       "\t Love the Coopers     & 13                  \\\\\n",
       "\\end{tabular}\n"
      ],
      "text/markdown": [
       "\n",
       "movie_title | facenumber | \n",
       "|---|---|---|---|---|---|---|---|---|---|\n",
       "| 500 Days of Summer   | 43                   | \n",
       "| The Master           | 31                   | \n",
       "| Battle of the Year   | 19                   | \n",
       "| The Expendables 3    | 15                   | \n",
       "| Cheaper by the Dozen | 15                   | \n",
       "| New Year's Eve       | 15                   | \n",
       "| Boogie Nights        | 15                   | \n",
       "| As It Is in Heaven   | 15                   | \n",
       "| A Bridge Too Far     | 14                   | \n",
       "| Love the Coopers     | 13                   | \n",
       "\n",
       "\n"
      ],
      "text/plain": [
       "   movie_title          facenumber\n",
       "1  500 Days of Summer   43        \n",
       "2  The Master           31        \n",
       "3  Battle of the Year   19        \n",
       "4  The Expendables 3    15        \n",
       "5  Cheaper by the Dozen 15        \n",
       "6  New Year's Eve       15        \n",
       "7  Boogie Nights        15        \n",
       "8  As It Is in Heaven   15        \n",
       "9  A Bridge Too Far     14        \n",
       "10 Love the Coopers     13        "
      ]
     },
     "metadata": {},
     "output_type": "display_data"
    }
   ],
   "source": [
    "faaaaaaaaaaace<-data.table(movie_title=movies$movie_title,facenumber=movies$facenumber)\n",
    "faaaaaaaaaaace<-faaaaaaaaaaace[order(-movies$facenumber)]\n",
    "head(faaaaaaaaaaace, n=10)"
   ]
  },
  {
   "cell_type": "code",
   "execution_count": 186,
   "metadata": {
    "collapsed": false
   },
   "outputs": [
    {
     "data": {
      "text/html": [
       "<table>\n",
       "<thead><tr><th scope=col>movie_title</th><th scope=col>facenumber</th></tr></thead>\n",
       "<tbody>\n",
       "\t<tr><td>George Washington      </td><td>0                      </td></tr>\n",
       "\t<tr><td>The Last Waltz         </td><td>0                      </td></tr>\n",
       "\t<tr><td>The Legend of God's Gun</td><td>0                      </td></tr>\n",
       "\t<tr><td>In the Company of Men  </td><td>0                      </td></tr>\n",
       "\t<tr><td>Slacker                </td><td>0                      </td></tr>\n",
       "\t<tr><td>The Circle             </td><td>0                      </td></tr>\n",
       "\t<tr><td>The Cure               </td><td>0                      </td></tr>\n",
       "\t<tr><td>Primer                 </td><td>0                      </td></tr>\n",
       "\t<tr><td>El Mariachi            </td><td>0                      </td></tr>\n",
       "\t<tr><td>My Date with Drew      </td><td>0                      </td></tr>\n",
       "</tbody>\n",
       "</table>\n"
      ],
      "text/latex": [
       "\\begin{tabular}{r|ll}\n",
       " movie\\_title & facenumber\\\\\n",
       "\\hline\n",
       "\t George Washington       & 0                      \\\\\n",
       "\t The Last Waltz          & 0                      \\\\\n",
       "\t The Legend of God's Gun & 0                      \\\\\n",
       "\t In the Company of Men   & 0                      \\\\\n",
       "\t Slacker                 & 0                      \\\\\n",
       "\t The Circle              & 0                      \\\\\n",
       "\t The Cure                & 0                      \\\\\n",
       "\t Primer                  & 0                      \\\\\n",
       "\t El Mariachi             & 0                      \\\\\n",
       "\t My Date with Drew       & 0                      \\\\\n",
       "\\end{tabular}\n"
      ],
      "text/markdown": [
       "\n",
       "movie_title | facenumber | \n",
       "|---|---|---|---|---|---|---|---|---|---|\n",
       "| George Washington       | 0                       | \n",
       "| The Last Waltz          | 0                       | \n",
       "| The Legend of God's Gun | 0                       | \n",
       "| In the Company of Men   | 0                       | \n",
       "| Slacker                 | 0                       | \n",
       "| The Circle              | 0                       | \n",
       "| The Cure                | 0                       | \n",
       "| Primer                  | 0                       | \n",
       "| El Mariachi             | 0                       | \n",
       "| My Date with Drew       | 0                       | \n",
       "\n",
       "\n"
      ],
      "text/plain": [
       "   movie_title             facenumber\n",
       "1  George Washington       0         \n",
       "2  The Last Waltz          0         \n",
       "3  The Legend of God's Gun 0         \n",
       "4  In the Company of Men   0         \n",
       "5  Slacker                 0         \n",
       "6  The Circle              0         \n",
       "7  The Cure                0         \n",
       "8  Primer                  0         \n",
       "9  El Mariachi             0         \n",
       "10 My Date with Drew       0         "
      ]
     },
     "metadata": {},
     "output_type": "display_data"
    }
   ],
   "source": [
    "tail(faaaaaaaaaaace, n=10)"
   ]
  },
  {
   "cell_type": "markdown",
   "metadata": {},
   "source": [
    "Mother of god: the movies \"500 Days of Summer\" poster really has 43 faces on it! I also looked at the poster of 10 movies who have the most head on their poster and the face recognition algorithm was on mark. I conclude that I can trust those number.\n",
    "\n",
    "The second thing I find suspicious is that the two variables \"director_facebook_likes\" and \"actor_3_facebook_likes\" have the same maximum value, but have  "
   ]
  },
  {
   "cell_type": "code",
   "execution_count": 187,
   "metadata": {
    "collapsed": false
   },
   "outputs": [
    {
     "data": {
      "text/html": [
       "<iframe src=\"plotlyJupyterHTML/f79a7b0a86cdf3925c16618a1e686712.html\" width=\"100%\" height=\"400\" id=\"igraph\" scrolling=\"no\" seamless=\"seamless\" frameBorder=\"0\"> </iframe>"
      ]
     },
     "metadata": {},
     "output_type": "display_data"
    }
   ],
   "source": [
    "p2 <- plot_ly(x=~movies$director_facebook_likes,type=\"histogram\")\n",
    "embed_notebook(p2)"
   ]
  },
  {
   "cell_type": "code",
   "execution_count": null,
   "metadata": {
    "collapsed": true
   },
   "outputs": [],
   "source": []
  },
  {
   "cell_type": "code",
   "execution_count": 188,
   "metadata": {
    "collapsed": false
   },
   "outputs": [
    {
     "data": {
      "text/html": [
       "<iframe src=\"plotlyJupyterHTML/29729e13386fa724f46d75e83fe56cdb.html\" width=\"100%\" height=\"400\" id=\"igraph\" scrolling=\"no\" seamless=\"seamless\" frameBorder=\"0\"> </iframe>"
      ]
     },
     "metadata": {},
     "output_type": "display_data"
    }
   ],
   "source": [
    "p3 <- plot_ly(x=~movies$actor_3_facebook_likes,type=\"histogram\")\n",
    "embed_notebook(p3)"
   ]
  },
  {
   "cell_type": "code",
   "execution_count": 189,
   "metadata": {
    "collapsed": false
   },
   "outputs": [
    {
     "data": {
      "text/html": [
       "<iframe src=\"plotlyJupyterHTML/5bb2d21edad7361d69170957191d721e.html\" width=\"100%\" height=\"400\" id=\"igraph\" scrolling=\"no\" seamless=\"seamless\" frameBorder=\"0\"> </iframe>"
      ]
     },
     "metadata": {},
     "output_type": "display_data"
    }
   ],
   "source": [
    "p4 <- plot_ly(x=~movies$actor_2_facebook_likes,type=\"histogram\")\n",
    "embed_notebook(p4)"
   ]
  },
  {
   "cell_type": "code",
   "execution_count": 190,
   "metadata": {
    "collapsed": false
   },
   "outputs": [
    {
     "data": {
      "text/html": [
       "<iframe src=\"plotlyJupyterHTML/86ce5eea8cfa17184c30096299d9c450.html\" width=\"100%\" height=\"400\" id=\"igraph\" scrolling=\"no\" seamless=\"seamless\" frameBorder=\"0\"> </iframe>"
      ]
     },
     "metadata": {},
     "output_type": "display_data"
    }
   ],
   "source": [
    "p5 <- plot_ly(x=~movies$actor_1_facebook_likes,type=\"histogram\")\n",
    "embed_notebook(p5)"
   ]
  },
  {
   "cell_type": "code",
   "execution_count": 191,
   "metadata": {
    "collapsed": false
   },
   "outputs": [
    {
     "data": {
      "text/html": [
       "<iframe src=\"plotlyJupyterHTML/b3b79a1a5a3a6e1f5d28318f09785ca8.html\" width=\"100%\" height=\"400\" id=\"igraph\" scrolling=\"no\" seamless=\"seamless\" frameBorder=\"0\"> </iframe>"
      ]
     },
     "metadata": {},
     "output_type": "display_data"
    }
   ],
   "source": [
    "p9 <- plot_ly(x=~movies$cast_total_facebook_likes,type=\"histogram\")\n",
    "embed_notebook(p9)"
   ]
  },
  {
   "cell_type": "markdown",
   "metadata": {},
   "source": [
    "# Country"
   ]
  },
  {
   "cell_type": "code",
   "execution_count": 192,
   "metadata": {
    "collapsed": false
   },
   "outputs": [
    {
     "data": {
      "text/html": [
       "<ol class=list-inline>\n",
       "\t<li>'USA'</li>\n",
       "\t<li>'UK'</li>\n",
       "\t<li>'New Zealand'</li>\n",
       "\t<li>'Canada'</li>\n",
       "\t<li>'Australia'</li>\n",
       "\t<li>'Germany'</li>\n",
       "\t<li>'China'</li>\n",
       "\t<li>'New Line'</li>\n",
       "\t<li>'France'</li>\n",
       "\t<li>'Japan'</li>\n",
       "\t<li>'Spain'</li>\n",
       "\t<li>'Hong Kong'</li>\n",
       "\t<li>'Czech Republic'</li>\n",
       "\t<li>'Peru'</li>\n",
       "\t<li>'South Korea'</li>\n",
       "\t<li>'India'</li>\n",
       "\t<li>'Aruba'</li>\n",
       "\t<li>'Denmark'</li>\n",
       "\t<li>'Mexico'</li>\n",
       "\t<li>'Belgium'</li>\n",
       "\t<li>'Ireland'</li>\n",
       "\t<li>'South Africa'</li>\n",
       "\t<li>'Italy'</li>\n",
       "\t<li>'Romania'</li>\n",
       "\t<li>'Chile'</li>\n",
       "\t<li>'Netherlands'</li>\n",
       "\t<li>'Hungary'</li>\n",
       "\t<li>'Russia'</li>\n",
       "\t<li>'Greece'</li>\n",
       "\t<li>'Taiwan'</li>\n",
       "\t<li>'Official site'</li>\n",
       "\t<li>'Thailand'</li>\n",
       "\t<li>'Iran'</li>\n",
       "\t<li>'West Germany'</li>\n",
       "\t<li>'Georgia'</li>\n",
       "\t<li>'Iceland'</li>\n",
       "\t<li>'Brazil'</li>\n",
       "\t<li>'Finland'</li>\n",
       "\t<li>'Norway'</li>\n",
       "\t<li>'Sweden'</li>\n",
       "\t<li>'Argentina'</li>\n",
       "\t<li>'Colombia'</li>\n",
       "\t<li>'Poland'</li>\n",
       "\t<li>'Israel'</li>\n",
       "\t<li>'Indonesia'</li>\n",
       "\t<li>'Afghanistan'</li>\n",
       "</ol>\n"
      ],
      "text/latex": [
       "\\begin{enumerate*}\n",
       "\\item 'USA'\n",
       "\\item 'UK'\n",
       "\\item 'New Zealand'\n",
       "\\item 'Canada'\n",
       "\\item 'Australia'\n",
       "\\item 'Germany'\n",
       "\\item 'China'\n",
       "\\item 'New Line'\n",
       "\\item 'France'\n",
       "\\item 'Japan'\n",
       "\\item 'Spain'\n",
       "\\item 'Hong Kong'\n",
       "\\item 'Czech Republic'\n",
       "\\item 'Peru'\n",
       "\\item 'South Korea'\n",
       "\\item 'India'\n",
       "\\item 'Aruba'\n",
       "\\item 'Denmark'\n",
       "\\item 'Mexico'\n",
       "\\item 'Belgium'\n",
       "\\item 'Ireland'\n",
       "\\item 'South Africa'\n",
       "\\item 'Italy'\n",
       "\\item 'Romania'\n",
       "\\item 'Chile'\n",
       "\\item 'Netherlands'\n",
       "\\item 'Hungary'\n",
       "\\item 'Russia'\n",
       "\\item 'Greece'\n",
       "\\item 'Taiwan'\n",
       "\\item 'Official site'\n",
       "\\item 'Thailand'\n",
       "\\item 'Iran'\n",
       "\\item 'West Germany'\n",
       "\\item 'Georgia'\n",
       "\\item 'Iceland'\n",
       "\\item 'Brazil'\n",
       "\\item 'Finland'\n",
       "\\item 'Norway'\n",
       "\\item 'Sweden'\n",
       "\\item 'Argentina'\n",
       "\\item 'Colombia'\n",
       "\\item 'Poland'\n",
       "\\item 'Israel'\n",
       "\\item 'Indonesia'\n",
       "\\item 'Afghanistan'\n",
       "\\end{enumerate*}\n"
      ],
      "text/markdown": [
       "1. 'USA'\n",
       "2. 'UK'\n",
       "3. 'New Zealand'\n",
       "4. 'Canada'\n",
       "5. 'Australia'\n",
       "6. 'Germany'\n",
       "7. 'China'\n",
       "8. 'New Line'\n",
       "9. 'France'\n",
       "10. 'Japan'\n",
       "11. 'Spain'\n",
       "12. 'Hong Kong'\n",
       "13. 'Czech Republic'\n",
       "14. 'Peru'\n",
       "15. 'South Korea'\n",
       "16. 'India'\n",
       "17. 'Aruba'\n",
       "18. 'Denmark'\n",
       "19. 'Mexico'\n",
       "20. 'Belgium'\n",
       "21. 'Ireland'\n",
       "22. 'South Africa'\n",
       "23. 'Italy'\n",
       "24. 'Romania'\n",
       "25. 'Chile'\n",
       "26. 'Netherlands'\n",
       "27. 'Hungary'\n",
       "28. 'Russia'\n",
       "29. 'Greece'\n",
       "30. 'Taiwan'\n",
       "31. 'Official site'\n",
       "32. 'Thailand'\n",
       "33. 'Iran'\n",
       "34. 'West Germany'\n",
       "35. 'Georgia'\n",
       "36. 'Iceland'\n",
       "37. 'Brazil'\n",
       "38. 'Finland'\n",
       "39. 'Norway'\n",
       "40. 'Sweden'\n",
       "41. 'Argentina'\n",
       "42. 'Colombia'\n",
       "43. 'Poland'\n",
       "44. 'Israel'\n",
       "45. 'Indonesia'\n",
       "46. 'Afghanistan'\n",
       "\n",
       "\n"
      ],
      "text/plain": [
       " [1] \"USA\"            \"UK\"             \"New Zealand\"    \"Canada\"        \n",
       " [5] \"Australia\"      \"Germany\"        \"China\"          \"New Line\"      \n",
       " [9] \"France\"         \"Japan\"          \"Spain\"          \"Hong Kong\"     \n",
       "[13] \"Czech Republic\" \"Peru\"           \"South Korea\"    \"India\"         \n",
       "[17] \"Aruba\"          \"Denmark\"        \"Mexico\"         \"Belgium\"       \n",
       "[21] \"Ireland\"        \"South Africa\"   \"Italy\"          \"Romania\"       \n",
       "[25] \"Chile\"          \"Netherlands\"    \"Hungary\"        \"Russia\"        \n",
       "[29] \"Greece\"         \"Taiwan\"         \"Official site\"  \"Thailand\"      \n",
       "[33] \"Iran\"           \"West Germany\"   \"Georgia\"        \"Iceland\"       \n",
       "[37] \"Brazil\"         \"Finland\"        \"Norway\"         \"Sweden\"        \n",
       "[41] \"Argentina\"      \"Colombia\"       \"Poland\"         \"Israel\"        \n",
       "[45] \"Indonesia\"      \"Afghanistan\"   "
      ]
     },
     "metadata": {},
     "output_type": "display_data"
    }
   ],
   "source": [
    "unique(movies$country) "
   ]
  },
  {
   "cell_type": "markdown",
   "metadata": {},
   "source": [
    "'New Line','Official site','West Germany' "
   ]
  },
  {
   "cell_type": "code",
   "execution_count": 193,
   "metadata": {
    "collapsed": false
   },
   "outputs": [
    {
     "data": {
      "text/html": [
       "'Town &amp; Country'"
      ],
      "text/latex": [
       "'Town \\& Country'"
      ],
      "text/markdown": [
       "'Town &amp; Country'"
      ],
      "text/plain": [
       "[1] \"Town & Country\""
      ]
     },
     "metadata": {},
     "output_type": "display_data"
    },
    {
     "data": {
      "text/plain": [
       "integer64\n",
       "[1] 90000000"
      ]
     },
     "metadata": {},
     "output_type": "display_data"
    }
   ],
   "source": [
    "movies$movie_title[movies$country==\"New Line\"]\n",
    "movies$budget[movies$country==\"New Line\"]"
   ]
  },
  {
   "cell_type": "code",
   "execution_count": 194,
   "metadata": {
    "collapsed": true
   },
   "outputs": [],
   "source": [
    "movies$country[movies$movie_title==\"Town & Country\"]<-\"USA\""
   ]
  },
  {
   "cell_type": "code",
   "execution_count": 195,
   "metadata": {
    "collapsed": false
   },
   "outputs": [
    {
     "data": {
      "text/html": [
       "'Country Strong'"
      ],
      "text/latex": [
       "'Country Strong'"
      ],
      "text/markdown": [
       "'Country Strong'"
      ],
      "text/plain": [
       "[1] \"Country Strong\""
      ]
     },
     "metadata": {},
     "output_type": "display_data"
    },
    {
     "data": {
      "text/plain": [
       "integer64\n",
       "[1] 15000000"
      ]
     },
     "metadata": {},
     "output_type": "display_data"
    }
   ],
   "source": [
    "movies$movie_title[movies$country==\"Official site\"]\n",
    "movies$budget[movies$country==\"Official site\"]"
   ]
  },
  {
   "cell_type": "code",
   "execution_count": 196,
   "metadata": {
    "collapsed": true
   },
   "outputs": [],
   "source": [
    "movies$country[movies$country==\"Official site\"]<-\"USA\""
   ]
  },
  {
   "cell_type": "code",
   "execution_count": 197,
   "metadata": {
    "collapsed": false
   },
   "outputs": [],
   "source": [
    "movies$country[movies$movie_title==\"Das Boot\"]<-\"USA\""
   ]
  },
  {
   "cell_type": "code",
   "execution_count": 32,
   "metadata": {
    "collapsed": false
   },
   "outputs": [
    {
     "data": {
      "text/html": [
       "<iframe src=\"plotlyJupyterHTML/6c60d043cfac7dc797f7c3531fdc9e09.html\" width=\"100%\" height=\"400\" id=\"igraph\" scrolling=\"no\" seamless=\"seamless\" frameBorder=\"0\"> </iframe>"
      ]
     },
     "metadata": {},
     "output_type": "display_data"
    }
   ],
   "source": [
    "p6 <- plot_ly(x=~movies$gross,type=\"histogram\")\n",
    "embed_notebook(p6)"
   ]
  },
  {
   "cell_type": "code",
   "execution_count": 33,
   "metadata": {
    "collapsed": false
   },
   "outputs": [
    {
     "data": {
      "text/html": [
       "<iframe src=\"plotlyJupyterHTML/a0bec116d240237f7953024062447708.html\" width=\"100%\" height=\"400\" id=\"igraph\" scrolling=\"no\" seamless=\"seamless\" frameBorder=\"0\"> </iframe>"
      ]
     },
     "metadata": {},
     "output_type": "display_data"
    }
   ],
   "source": []
  },
  {
   "cell_type": "markdown",
   "metadata": {},
   "source": [
    "# Scrapping currency data"
   ]
  },
  {
   "cell_type": "code",
   "execution_count": 201,
   "metadata": {
    "collapsed": false
   },
   "outputs": [],
   "source": [
    "currency <- fread(\"find_estimated.csv\",stringsAsFactors = F)"
   ]
  },
  {
   "cell_type": "code",
   "execution_count": 202,
   "metadata": {
    "collapsed": false
   },
   "outputs": [
    {
     "data": {
      "text/html": [
       "<table>\n",
       "<thead><tr><th scope=col>title_year</th><th scope=col>currency</th><th scope=col>estimated</th><th scope=col>movie_title</th></tr></thead>\n",
       "<tbody>\n",
       "\t<tr><td>2006                                           </td><td>b'$'                                           </td><td>1                                              </td><td>b\"\"Pirates of the Caribbean: Dead Man's Chest\"\"</td></tr>\n",
       "\t<tr><td>2013                                           </td><td>b'$'                                           </td><td>1                                              </td><td>b'The Lone Ranger'                             </td></tr>\n",
       "\t<tr><td>2013                                           </td><td>b'$'                                           </td><td>1                                              </td><td>b'Man of Steel'                                </td></tr>\n",
       "\t<tr><td>2008                                           </td><td>b'$'                                           </td><td>1                                              </td><td>b'The Chronicles of Narnia: Prince Caspian'    </td></tr>\n",
       "\t<tr><td>2012                                           </td><td>b'$'                                           </td><td>1                                              </td><td>b'The Avengers'                                </td></tr>\n",
       "\t<tr><td>2011                                           </td><td>b'$'                                           </td><td>1                                              </td><td>b'Pirates of the Caribbean: On Stranger Tides' </td></tr>\n",
       "</tbody>\n",
       "</table>\n"
      ],
      "text/latex": [
       "\\begin{tabular}{r|llll}\n",
       " title\\_year & currency & estimated & movie\\_title\\\\\n",
       "\\hline\n",
       "\t 2006                                            & b'\\$'                                          & 1                                               & b\"\"Pirates of the Caribbean: Dead Man's Chest\"\"\\\\\n",
       "\t 2013                                            & b'\\$'                                          & 1                                               & b'The Lone Ranger'                             \\\\\n",
       "\t 2013                                            & b'\\$'                                          & 1                                               & b'Man of Steel'                                \\\\\n",
       "\t 2008                                            & b'\\$'                                          & 1                                               & b'The Chronicles of Narnia: Prince Caspian'    \\\\\n",
       "\t 2012                                            & b'\\$'                                          & 1                                               & b'The Avengers'                                \\\\\n",
       "\t 2011                                            & b'\\$'                                          & 1                                               & b'Pirates of the Caribbean: On Stranger Tides' \\\\\n",
       "\\end{tabular}\n"
      ],
      "text/markdown": [
       "\n",
       "title_year | currency | estimated | movie_title | \n",
       "|---|---|---|---|---|---|\n",
       "| 2006                                            | b'$'                                            | 1                                               | b\"\"Pirates of the Caribbean: Dead Man's Chest\"\" | \n",
       "| 2013                                            | b'$'                                            | 1                                               | b'The Lone Ranger'                              | \n",
       "| 2013                                            | b'$'                                            | 1                                               | b'Man of Steel'                                 | \n",
       "| 2008                                            | b'$'                                            | 1                                               | b'The Chronicles of Narnia: Prince Caspian'     | \n",
       "| 2012                                            | b'$'                                            | 1                                               | b'The Avengers'                                 | \n",
       "| 2011                                            | b'$'                                            | 1                                               | b'Pirates of the Caribbean: On Stranger Tides'  | \n",
       "\n",
       "\n"
      ],
      "text/plain": [
       "  title_year currency estimated movie_title                                    \n",
       "1 2006       b'$'     1         b\"\"Pirates of the Caribbean: Dead Man's Chest\"\"\n",
       "2 2013       b'$'     1         b'The Lone Ranger'                             \n",
       "3 2013       b'$'     1         b'Man of Steel'                                \n",
       "4 2008       b'$'     1         b'The Chronicles of Narnia: Prince Caspian'    \n",
       "5 2012       b'$'     1         b'The Avengers'                                \n",
       "6 2011       b'$'     1         b'Pirates of the Caribbean: On Stranger Tides' "
      ]
     },
     "metadata": {},
     "output_type": "display_data"
    }
   ],
   "source": [
    "head(currency)"
   ]
  },
  {
   "cell_type": "markdown",
   "metadata": {
    "collapsed": true
   },
   "source": [
    "Soo there's gonna be a bit of cleaning to do."
   ]
  },
  {
   "cell_type": "code",
   "execution_count": 203,
   "metadata": {
    "collapsed": false
   },
   "outputs": [
    {
     "data": {
      "text/html": [
       "<ol class=list-inline>\n",
       "\t<li>'b\\'$''</li>\n",
       "\t<li>''</li>\n",
       "\t<li>'b\\'€''</li>\n",
       "\t<li>'b\\'£''</li>\n",
       "\t<li>'b\\'FRF''</li>\n",
       "\t<li>'b\\'RUR''</li>\n",
       "\t<li>'b\\'CNY''</li>\n",
       "\t<li>'b\\'AUD''</li>\n",
       "\t<li>'b\\'HKD''</li>\n",
       "\t<li>'b\\'CAD''</li>\n",
       "\t<li>'b\\'JPY''</li>\n",
       "\t<li>'b\\'NOK''</li>\n",
       "\t<li>'b\\'DEM''</li>\n",
       "\t<li>'b\\'THB''</li>\n",
       "\t<li>'b\\'KRW''</li>\n",
       "\t<li>'b\\'HUF''</li>\n",
       "\t<li>'b\\'INR''</li>\n",
       "\t<li>'b\\'DKK''</li>\n",
       "\t<li>'b\\'CZK''</li>\n",
       "\t<li>'b\\'ESP''</li>\n",
       "\t<li>'b\\'NZD''</li>\n",
       "\t<li>'b\\'CHF''</li>\n",
       "\t<li>'b\\'BRL''</li>\n",
       "\t<li>'b\\'ZAR''</li>\n",
       "\t<li>'b\\'SEK''</li>\n",
       "</ol>\n"
      ],
      "text/latex": [
       "\\begin{enumerate*}\n",
       "\\item 'b\\textbackslash{}'\\$''\n",
       "\\item ''\n",
       "\\item 'b\\textbackslash{}'€''\n",
       "\\item 'b\\textbackslash{}'£''\n",
       "\\item 'b\\textbackslash{}'FRF''\n",
       "\\item 'b\\textbackslash{}'RUR''\n",
       "\\item 'b\\textbackslash{}'CNY''\n",
       "\\item 'b\\textbackslash{}'AUD''\n",
       "\\item 'b\\textbackslash{}'HKD''\n",
       "\\item 'b\\textbackslash{}'CAD''\n",
       "\\item 'b\\textbackslash{}'JPY''\n",
       "\\item 'b\\textbackslash{}'NOK''\n",
       "\\item 'b\\textbackslash{}'DEM''\n",
       "\\item 'b\\textbackslash{}'THB''\n",
       "\\item 'b\\textbackslash{}'KRW''\n",
       "\\item 'b\\textbackslash{}'HUF''\n",
       "\\item 'b\\textbackslash{}'INR''\n",
       "\\item 'b\\textbackslash{}'DKK''\n",
       "\\item 'b\\textbackslash{}'CZK''\n",
       "\\item 'b\\textbackslash{}'ESP''\n",
       "\\item 'b\\textbackslash{}'NZD''\n",
       "\\item 'b\\textbackslash{}'CHF''\n",
       "\\item 'b\\textbackslash{}'BRL''\n",
       "\\item 'b\\textbackslash{}'ZAR''\n",
       "\\item 'b\\textbackslash{}'SEK''\n",
       "\\end{enumerate*}\n"
      ],
      "text/markdown": [
       "1. 'b\\'$''\n",
       "2. ''\n",
       "3. 'b\\'€''\n",
       "4. 'b\\'£''\n",
       "5. 'b\\'FRF''\n",
       "6. 'b\\'RUR''\n",
       "7. 'b\\'CNY''\n",
       "8. 'b\\'AUD''\n",
       "9. 'b\\'HKD''\n",
       "10. 'b\\'CAD''\n",
       "11. 'b\\'JPY''\n",
       "12. 'b\\'NOK''\n",
       "13. 'b\\'DEM''\n",
       "14. 'b\\'THB''\n",
       "15. 'b\\'KRW''\n",
       "16. 'b\\'HUF''\n",
       "17. 'b\\'INR''\n",
       "18. 'b\\'DKK''\n",
       "19. 'b\\'CZK''\n",
       "20. 'b\\'ESP''\n",
       "21. 'b\\'NZD''\n",
       "22. 'b\\'CHF''\n",
       "23. 'b\\'BRL''\n",
       "24. 'b\\'ZAR''\n",
       "25. 'b\\'SEK''\n",
       "\n",
       "\n"
      ],
      "text/plain": [
       " [1] \"b'$'\"   \"\"       \"b''\"   \"b'£'\"   \"b'FRF'\" \"b'RUR'\" \"b'CNY'\" \"b'AUD'\"\n",
       " [9] \"b'HKD'\" \"b'CAD'\" \"b'JPY'\" \"b'NOK'\" \"b'DEM'\" \"b'THB'\" \"b'KRW'\" \"b'HUF'\"\n",
       "[17] \"b'INR'\" \"b'DKK'\" \"b'CZK'\" \"b'ESP'\" \"b'NZD'\" \"b'CHF'\" \"b'BRL'\" \"b'ZAR'\"\n",
       "[25] \"b'SEK'\""
      ]
     },
     "metadata": {},
     "output_type": "display_data"
    }
   ],
   "source": [
    "unique(currency$currency)"
   ]
  },
  {
   "cell_type": "markdown",
   "metadata": {},
   "source": [
    "I'll drop the first three caracters in the variable currency and movie_title"
   ]
  },
  {
   "cell_type": "code",
   "execution_count": 204,
   "metadata": {
    "collapsed": false
   },
   "outputs": [
    {
     "data": {
      "text/html": [
       "<ol class=list-inline>\n",
       "\t<li>'$'</li>\n",
       "\t<li>''</li>\n",
       "\t<li>'€'</li>\n",
       "\t<li>'£'</li>\n",
       "\t<li>'FRF'</li>\n",
       "\t<li>'RUR'</li>\n",
       "\t<li>'CNY'</li>\n",
       "\t<li>'AUD'</li>\n",
       "\t<li>'HKD'</li>\n",
       "\t<li>'CAD'</li>\n",
       "\t<li>'JPY'</li>\n",
       "\t<li>'NOK'</li>\n",
       "\t<li>'DEM'</li>\n",
       "\t<li>'THB'</li>\n",
       "\t<li>'KRW'</li>\n",
       "\t<li>'HUF'</li>\n",
       "\t<li>'INR'</li>\n",
       "\t<li>'DKK'</li>\n",
       "\t<li>'CZK'</li>\n",
       "\t<li>'ESP'</li>\n",
       "\t<li>'NZD'</li>\n",
       "\t<li>'CHF'</li>\n",
       "\t<li>'BRL'</li>\n",
       "\t<li>'ZAR'</li>\n",
       "\t<li>'SEK'</li>\n",
       "</ol>\n"
      ],
      "text/latex": [
       "\\begin{enumerate*}\n",
       "\\item '\\$'\n",
       "\\item ''\n",
       "\\item '€'\n",
       "\\item '£'\n",
       "\\item 'FRF'\n",
       "\\item 'RUR'\n",
       "\\item 'CNY'\n",
       "\\item 'AUD'\n",
       "\\item 'HKD'\n",
       "\\item 'CAD'\n",
       "\\item 'JPY'\n",
       "\\item 'NOK'\n",
       "\\item 'DEM'\n",
       "\\item 'THB'\n",
       "\\item 'KRW'\n",
       "\\item 'HUF'\n",
       "\\item 'INR'\n",
       "\\item 'DKK'\n",
       "\\item 'CZK'\n",
       "\\item 'ESP'\n",
       "\\item 'NZD'\n",
       "\\item 'CHF'\n",
       "\\item 'BRL'\n",
       "\\item 'ZAR'\n",
       "\\item 'SEK'\n",
       "\\end{enumerate*}\n"
      ],
      "text/markdown": [
       "1. '$'\n",
       "2. ''\n",
       "3. '€'\n",
       "4. '£'\n",
       "5. 'FRF'\n",
       "6. 'RUR'\n",
       "7. 'CNY'\n",
       "8. 'AUD'\n",
       "9. 'HKD'\n",
       "10. 'CAD'\n",
       "11. 'JPY'\n",
       "12. 'NOK'\n",
       "13. 'DEM'\n",
       "14. 'THB'\n",
       "15. 'KRW'\n",
       "16. 'HUF'\n",
       "17. 'INR'\n",
       "18. 'DKK'\n",
       "19. 'CZK'\n",
       "20. 'ESP'\n",
       "21. 'NZD'\n",
       "22. 'CHF'\n",
       "23. 'BRL'\n",
       "24. 'ZAR'\n",
       "25. 'SEK'\n",
       "\n",
       "\n"
      ],
      "text/plain": [
       " [1] \"$\"   \"\"    \"\"   \"£\"   \"FRF\" \"RUR\" \"CNY\" \"AUD\" \"HKD\" \"CAD\" \"JPY\" \"NOK\"\n",
       "[13] \"DEM\" \"THB\" \"KRW\" \"HUF\" \"INR\" \"DKK\" \"CZK\" \"ESP\" \"NZD\" \"CHF\" \"BRL\" \"ZAR\"\n",
       "[25] \"SEK\""
      ]
     },
     "metadata": {},
     "output_type": "display_data"
    }
   ],
   "source": [
    "currency$currency<-as.character(currency$currency)\n",
    "currency$currency<-substr(currency$currency, 3, nchar(currency$currency)-1)\n",
    "unique(currency$currency)"
   ]
  },
  {
   "cell_type": "code",
   "execution_count": 205,
   "metadata": {
    "collapsed": false
   },
   "outputs": [
    {
     "data": {
      "text/html": [
       "<ol class=list-inline>\n",
       "\t<li>'Legally Blonde 2: Red White &amp; Blonde'</li>\n",
       "\t<li>'Riding in Cars with Boys'</li>\n",
       "\t<li>'Heavenly Creatures'</li>\n",
       "\t<li>'Big Miracle'</li>\n",
       "\t<li>'To Die For'</li>\n",
       "</ol>\n"
      ],
      "text/latex": [
       "\\begin{enumerate*}\n",
       "\\item 'Legally Blonde 2: Red White \\& Blonde'\n",
       "\\item 'Riding in Cars with Boys'\n",
       "\\item 'Heavenly Creatures'\n",
       "\\item 'Big Miracle'\n",
       "\\item 'To Die For'\n",
       "\\end{enumerate*}\n"
      ],
      "text/markdown": [
       "1. 'Legally Blonde 2: Red White &amp; Blonde'\n",
       "2. 'Riding in Cars with Boys'\n",
       "3. 'Heavenly Creatures'\n",
       "4. 'Big Miracle'\n",
       "5. 'To Die For'\n",
       "\n",
       "\n"
      ],
      "text/plain": [
       "[1] \"Legally Blonde 2: Red White & Blonde\"\n",
       "[2] \"Riding in Cars with Boys\"            \n",
       "[3] \"Heavenly Creatures\"                  \n",
       "[4] \"Big Miracle\"                         \n",
       "[5] \"To Die For\"                          "
      ]
     },
     "metadata": {},
     "output_type": "display_data"
    }
   ],
   "source": [
    "currency$movie_title<-as.character(currency$movie_title)\n",
    "currency$movie_title<-substr(currency$movie_title, 3, nchar(currency$movie_title)-1)\n",
    "sample(currency$movie_title, size=5)"
   ]
  },
  {
   "cell_type": "markdown",
   "metadata": {
    "collapsed": true
   },
   "source": [
    "Then, I'll change the caracters '$', '€' and '£' for their country code."
   ]
  },
  {
   "cell_type": "code",
   "execution_count": 206,
   "metadata": {
    "collapsed": false
   },
   "outputs": [
    {
     "data": {
      "text/html": [
       "<ol class=list-inline>\n",
       "\t<li>'USA'</li>\n",
       "\t<li>''</li>\n",
       "\t<li>'FRF'</li>\n",
       "\t<li>'GBR'</li>\n",
       "\t<li>'RUR'</li>\n",
       "\t<li>'CNY'</li>\n",
       "\t<li>'AUD'</li>\n",
       "\t<li>'HKD'</li>\n",
       "\t<li>'CAD'</li>\n",
       "\t<li>'JPY'</li>\n",
       "\t<li>'NOK'</li>\n",
       "\t<li>'DEM'</li>\n",
       "\t<li>'THB'</li>\n",
       "\t<li>'KRW'</li>\n",
       "\t<li>'HUF'</li>\n",
       "\t<li>'INR'</li>\n",
       "\t<li>'DKK'</li>\n",
       "\t<li>'CZK'</li>\n",
       "\t<li>'ESP'</li>\n",
       "\t<li>'NZD'</li>\n",
       "\t<li>'CHF'</li>\n",
       "\t<li>'BRL'</li>\n",
       "\t<li>'ZAR'</li>\n",
       "\t<li>'SEK'</li>\n",
       "</ol>\n"
      ],
      "text/latex": [
       "\\begin{enumerate*}\n",
       "\\item 'USA'\n",
       "\\item ''\n",
       "\\item 'FRF'\n",
       "\\item 'GBR'\n",
       "\\item 'RUR'\n",
       "\\item 'CNY'\n",
       "\\item 'AUD'\n",
       "\\item 'HKD'\n",
       "\\item 'CAD'\n",
       "\\item 'JPY'\n",
       "\\item 'NOK'\n",
       "\\item 'DEM'\n",
       "\\item 'THB'\n",
       "\\item 'KRW'\n",
       "\\item 'HUF'\n",
       "\\item 'INR'\n",
       "\\item 'DKK'\n",
       "\\item 'CZK'\n",
       "\\item 'ESP'\n",
       "\\item 'NZD'\n",
       "\\item 'CHF'\n",
       "\\item 'BRL'\n",
       "\\item 'ZAR'\n",
       "\\item 'SEK'\n",
       "\\end{enumerate*}\n"
      ],
      "text/markdown": [
       "1. 'USA'\n",
       "2. ''\n",
       "3. 'FRF'\n",
       "4. 'GBR'\n",
       "5. 'RUR'\n",
       "6. 'CNY'\n",
       "7. 'AUD'\n",
       "8. 'HKD'\n",
       "9. 'CAD'\n",
       "10. 'JPY'\n",
       "11. 'NOK'\n",
       "12. 'DEM'\n",
       "13. 'THB'\n",
       "14. 'KRW'\n",
       "15. 'HUF'\n",
       "16. 'INR'\n",
       "17. 'DKK'\n",
       "18. 'CZK'\n",
       "19. 'ESP'\n",
       "20. 'NZD'\n",
       "21. 'CHF'\n",
       "22. 'BRL'\n",
       "23. 'ZAR'\n",
       "24. 'SEK'\n",
       "\n",
       "\n"
      ],
      "text/plain": [
       " [1] \"USA\" \"\"    \"FRF\" \"GBR\" \"RUR\" \"CNY\" \"AUD\" \"HKD\" \"CAD\" \"JPY\" \"NOK\" \"DEM\"\n",
       "[13] \"THB\" \"KRW\" \"HUF\" \"INR\" \"DKK\" \"CZK\" \"ESP\" \"NZD\" \"CHF\" \"BRL\" \"ZAR\" \"SEK\""
      ]
     },
     "metadata": {},
     "output_type": "display_data"
    }
   ],
   "source": [
    "currency$currency[currency$currency=='$']<-\"USA\"\n",
    "currency$currency[currency$currency==currency$currency[currency$movie_title==\"Micmacs\"]]<-\"FRF\"\n",
    "currency$currency[currency$currency=='£']<-\"GBR\"\n",
    "unique(currency$currency)"
   ]
  },
  {
   "cell_type": "markdown",
   "metadata": {},
   "source": [
    "There's with no currency label, let's look at some of them"
   ]
  },
  {
   "cell_type": "code",
   "execution_count": 207,
   "metadata": {
    "collapsed": false
   },
   "outputs": [
    {
     "data": {
      "text/html": [
       "<ol class=list-inline>\n",
       "\t<li>'The Good Dinosaur'</li>\n",
       "\t<li>'The Lovers'</li>\n",
       "\t<li>'Godzilla Resurgence'</li>\n",
       "\t<li>'Harry Potter and the Deathly Hallows: Part II'</li>\n",
       "\t<li>'Godzilla Resurgence'</li>\n",
       "\t<li>'Harry Potter and the Deathly Hallows: Part I'</li>\n",
       "</ol>\n"
      ],
      "text/latex": [
       "\\begin{enumerate*}\n",
       "\\item 'The Good Dinosaur'\n",
       "\\item 'The Lovers'\n",
       "\\item 'Godzilla Resurgence'\n",
       "\\item 'Harry Potter and the Deathly Hallows: Part II'\n",
       "\\item 'Godzilla Resurgence'\n",
       "\\item 'Harry Potter and the Deathly Hallows: Part I'\n",
       "\\end{enumerate*}\n"
      ],
      "text/markdown": [
       "1. 'The Good Dinosaur'\n",
       "2. 'The Lovers'\n",
       "3. 'Godzilla Resurgence'\n",
       "4. 'Harry Potter and the Deathly Hallows: Part II'\n",
       "5. 'Godzilla Resurgence'\n",
       "6. 'Harry Potter and the Deathly Hallows: Part I'\n",
       "\n",
       "\n"
      ],
      "text/plain": [
       "[1] \"The Good Dinosaur\"                            \n",
       "[2] \"The Lovers\"                                   \n",
       "[3] \"Godzilla Resurgence\"                          \n",
       "[4] \"Harry Potter and the Deathly Hallows: Part II\"\n",
       "[5] \"Godzilla Resurgence\"                          \n",
       "[6] \"Harry Potter and the Deathly Hallows: Part I\" "
      ]
     },
     "metadata": {},
     "output_type": "display_data"
    }
   ],
   "source": [
    "head(currency$movie_title[currency$currency==''])"
   ]
  },
  {
   "cell_type": "markdown",
   "metadata": {},
   "source": [
    "We see that the majority of those movies are american movie, which make sens since the us dollar is the default currency, but some of them are just missing value. We also see that there's some duplicate in the table, for exemple:"
   ]
  },
  {
   "cell_type": "code",
   "execution_count": 208,
   "metadata": {
    "collapsed": false
   },
   "outputs": [
    {
     "data": {
      "text/html": [
       "<table>\n",
       "<thead><tr><th scope=col>title_year</th><th scope=col>currency</th><th scope=col>estimated</th><th scope=col>movie_title</th></tr></thead>\n",
       "<tbody>\n",
       "\t<tr><td>2016               </td><td>                   </td><td>NA                 </td><td>Godzilla Resurgence</td></tr>\n",
       "\t<tr><td>2016               </td><td>                   </td><td>NA                 </td><td>Godzilla Resurgence</td></tr>\n",
       "</tbody>\n",
       "</table>\n"
      ],
      "text/latex": [
       "\\begin{tabular}{r|llll}\n",
       " title\\_year & currency & estimated & movie\\_title\\\\\n",
       "\\hline\n",
       "\t 2016                &                     & NA                  & Godzilla Resurgence\\\\\n",
       "\t 2016                &                     & NA                  & Godzilla Resurgence\\\\\n",
       "\\end{tabular}\n"
      ],
      "text/markdown": [
       "\n",
       "title_year | currency | estimated | movie_title | \n",
       "|---|---|\n",
       "| 2016                |                     | NA                  | Godzilla Resurgence | \n",
       "| 2016                |                     | NA                  | Godzilla Resurgence | \n",
       "\n",
       "\n"
      ],
      "text/plain": [
       "  title_year currency estimated movie_title        \n",
       "1 2016                NA        Godzilla Resurgence\n",
       "2 2016                NA        Godzilla Resurgence"
      ]
     },
     "metadata": {},
     "output_type": "display_data"
    },
    {
     "name": "stdout",
     "output_type": "stream",
     "text": [
      "Classes 'data.table' and 'data.frame':\t5029 obs. of  4 variables:\n",
      " $ title_year : int  2006 2013 2013 2008 2012 2011 2012 2014 2012 2010 ...\n",
      " $ currency   : chr  \"USA\" \"USA\" \"USA\" \"USA\" ...\n",
      " $ estimated  : int  1 1 1 1 1 1 1 1 1 1 ...\n",
      " $ movie_title: chr  \"\\\"Pirates of the Caribbean: Dead Man's Chest\\\"\" \"The Lone Ranger\" \"Man of Steel\" \"The Chronicles of Narnia: Prince Caspian\" ...\n",
      " - attr(*, \".internal.selfref\")=<externalptr> \n"
     ]
    }
   ],
   "source": [
    "subset(currency,movie_title=='Godzilla Resurgence')\n",
    "str(currency)"
   ]
  },
  {
   "cell_type": "markdown",
   "metadata": {},
   "source": [
    "Let's get rid of them"
   ]
  },
  {
   "cell_type": "code",
   "execution_count": 209,
   "metadata": {
    "collapsed": false
   },
   "outputs": [
    {
     "name": "stdout",
     "output_type": "stream",
     "text": [
      "Classes 'data.table' and 'data.frame':\t4907 obs. of  4 variables:\n",
      " $ title_year : int  2006 2013 2013 2008 2012 2011 2012 2014 2012 2010 ...\n",
      " $ currency   : chr  \"USA\" \"USA\" \"USA\" \"USA\" ...\n",
      " $ estimated  : int  1 1 1 1 1 1 1 1 1 1 ...\n",
      " $ movie_title: chr  \"\\\"Pirates of the Caribbean: Dead Man's Chest\\\"\" \"The Lone Ranger\" \"Man of Steel\" \"The Chronicles of Narnia: Prince Caspian\" ...\n",
      " - attr(*, \".internal.selfref\")=<externalptr> \n"
     ]
    }
   ],
   "source": [
    "#currency<-currency[!duplicated(currency),]\n",
    "setkey(currency,NULL)\n",
    "currency<-unique(currency)\n",
    "str(currency)"
   ]
  },
  {
   "cell_type": "code",
   "execution_count": 162,
   "metadata": {
    "collapsed": false
   },
   "outputs": [
    {
     "data": {
      "text/html": [
       "<ol class=list-inline>\n",
       "\t<li>'The Lovers'</li>\n",
       "\t<li>'Godzilla Resurgence'</li>\n",
       "\t<li>'Harry Potter and the Deathly Hallows: Part II'</li>\n",
       "\t<li>'Harry Potter and the Deathly Hallows: Part I'</li>\n",
       "\t<li><span style=white-space:pre-wrap>'The A-Team            '</span></li>\n",
       "\t<li><span style=white-space:pre-wrap>'10000 B.C.            '</span></li>\n",
       "</ol>\n"
      ],
      "text/latex": [
       "\\begin{enumerate*}\n",
       "\\item 'The Lovers'\n",
       "\\item 'Godzilla Resurgence'\n",
       "\\item 'Harry Potter and the Deathly Hallows: Part II'\n",
       "\\item 'Harry Potter and the Deathly Hallows: Part I'\n",
       "\\item 'The A-Team            '\n",
       "\\item '10000 B.C.            '\n",
       "\\end{enumerate*}\n"
      ],
      "text/markdown": [
       "1. 'The Lovers'\n",
       "2. 'Godzilla Resurgence'\n",
       "3. 'Harry Potter and the Deathly Hallows: Part II'\n",
       "4. 'Harry Potter and the Deathly Hallows: Part I'\n",
       "5. <span style=white-space:pre-wrap>'The A-Team            '</span>\n",
       "6. <span style=white-space:pre-wrap>'10000 B.C.            '</span>\n",
       "\n",
       "\n"
      ],
      "text/plain": [
       "[1] \"The Lovers\"                                   \n",
       "[2] \"Godzilla Resurgence\"                          \n",
       "[3] \"Harry Potter and the Deathly Hallows: Part II\"\n",
       "[4] \"Harry Potter and the Deathly Hallows: Part I\" \n",
       "[5] \"The A-Team            \"                       \n",
       "[6] \"10000 B.C.            \"                       "
      ]
     },
     "metadata": {},
     "output_type": "display_data"
    },
    {
     "data": {
      "text/html": [
       "358"
      ],
      "text/latex": [
       "358"
      ],
      "text/markdown": [
       "358"
      ],
      "text/plain": [
       "[1] 358"
      ]
     },
     "metadata": {},
     "output_type": "display_data"
    }
   ],
   "source": [
    "head(currency$movie_title[currency$currency==''])\n",
    "length(currency$movie_title[currency$currency==''])"
   ]
  },
  {
   "cell_type": "markdown",
   "metadata": {},
   "source": [
    "Now I'll use the data from the IMDB data.table to assign the USA label to american film with no currency data"
   ]
  },
  {
   "cell_type": "code",
   "execution_count": 210,
   "metadata": {
    "collapsed": true
   },
   "outputs": [],
   "source": [
    "change_US_currency<-function(x,y){\n",
    "    values<-x$currency\n",
    "    for (i in 1:length(x$currency)){\n",
    "        for (j in 1:length(y$country)){\n",
    "            if(x$currency[i]==''&y$movie_title[j]==x$movie_title[i]&y$country[j]==\"USA\")\n",
    "            {\n",
    "                values[i]<-\"USA\"\n",
    "            }\n",
    "        }\n",
    "    } \n",
    "    return(values)\n",
    "}"
   ]
  },
  {
   "cell_type": "code",
   "execution_count": 211,
   "metadata": {
    "collapsed": false
   },
   "outputs": [],
   "source": [
    "temp<-change_US_currency(currency,movies)"
   ]
  },
  {
   "cell_type": "code",
   "execution_count": 212,
   "metadata": {
    "collapsed": false
   },
   "outputs": [
    {
     "data": {
      "text/html": [
       "4333"
      ],
      "text/latex": [
       "4333"
      ],
      "text/markdown": [
       "4333"
      ],
      "text/plain": [
       "[1] 4333"
      ]
     },
     "metadata": {},
     "output_type": "display_data"
    },
    {
     "data": {
      "text/html": [
       "358"
      ],
      "text/latex": [
       "358"
      ],
      "text/markdown": [
       "358"
      ],
      "text/plain": [
       "[1] 358"
      ]
     },
     "metadata": {},
     "output_type": "display_data"
    },
    {
     "data": {
      "text/html": [
       "216"
      ],
      "text/latex": [
       "216"
      ],
      "text/markdown": [
       "216"
      ],
      "text/plain": [
       "[1] 216"
      ]
     },
     "metadata": {},
     "output_type": "display_data"
    },
    {
     "data": {
      "text/html": [
       "4907"
      ],
      "text/latex": [
       "4907"
      ],
      "text/markdown": [
       "4907"
      ],
      "text/plain": [
       "[1] 4907"
      ]
     },
     "metadata": {},
     "output_type": "display_data"
    }
   ],
   "source": [
    "length(temp[temp==\"USA\"])\n",
    "length(temp[temp==\"\"])\n",
    "length(temp)-(length(temp[temp==\"USA\"])+length(temp[temp==\"\"]))\n",
    "length(temp)"
   ]
  },
  {
   "cell_type": "code",
   "execution_count": 213,
   "metadata": {
    "collapsed": false
   },
   "outputs": [
    {
     "data": {
      "text/html": [
       "4208"
      ],
      "text/latex": [
       "4208"
      ],
      "text/markdown": [
       "4208"
      ],
      "text/plain": [
       "[1] 4208"
      ]
     },
     "metadata": {},
     "output_type": "display_data"
    },
    {
     "data": {
      "text/html": [
       "483"
      ],
      "text/latex": [
       "483"
      ],
      "text/markdown": [
       "483"
      ],
      "text/plain": [
       "[1] 483"
      ]
     },
     "metadata": {},
     "output_type": "display_data"
    },
    {
     "data": {
      "text/html": [
       "216"
      ],
      "text/latex": [
       "216"
      ],
      "text/markdown": [
       "216"
      ],
      "text/plain": [
       "[1] 216"
      ]
     },
     "metadata": {},
     "output_type": "display_data"
    },
    {
     "data": {
      "text/html": [
       "4907"
      ],
      "text/latex": [
       "4907"
      ],
      "text/markdown": [
       "4907"
      ],
      "text/plain": [
       "[1] 4907"
      ]
     },
     "metadata": {},
     "output_type": "display_data"
    }
   ],
   "source": [
    "length(currency$currency[currency$currency==\"USA\"])\n",
    "length(currency$currency[currency$currency==\"\"])\n",
    "length(currency$currency)-(length(currency$currency[currency$currency==\"USA\"])+length(currency$currency[currency$currency==\"\"]))\n",
    "length(currency$currency)"
   ]
  },
  {
   "cell_type": "code",
   "execution_count": 214,
   "metadata": {
    "collapsed": false
   },
   "outputs": [],
   "source": [
    "currency$currency<-temp"
   ]
  },
  {
   "cell_type": "code",
   "execution_count": 216,
   "metadata": {
    "collapsed": false
   },
   "outputs": [],
   "source": [
    "n<-c(\"title_year\",\"currency\",\"movie_title\")\n",
    "currency<-currency[,n,with=FALSE]"
   ]
  },
  {
   "cell_type": "code",
   "execution_count": 217,
   "metadata": {
    "collapsed": false
   },
   "outputs": [
    {
     "name": "stderr",
     "output_type": "stream",
     "text": [
      "Warning message in write.csv(currency, \"currency.csv\", row.names = FALSE, col.names = TRUE):\n",
      "\"attempt to set 'col.names' ignored\""
     ]
    }
   ],
   "source": [
    "write.csv(currency,\"currency.csv\",row.names=FALSE, col.names=TRUE)"
   ]
  },
  {
   "cell_type": "code",
   "execution_count": 218,
   "metadata": {
    "collapsed": false
   },
   "outputs": [],
   "source": [
    "currency<-fread(\"currency.csv\", stringsAsFactors=FALSE)"
   ]
  },
  {
   "cell_type": "markdown",
   "metadata": {},
   "source": [
    "# Merging the data"
   ]
  },
  {
   "cell_type": "markdown",
   "metadata": {},
   "source": [
    "I found a data set of the historical exchange rate from 1950 to 2015 from the OECD website  https://data.oecd.org/conversion/exchange-rates.htm. OECD (2017), Exchange rates (indicator). doi: 10.1787/037ed317-en (Accessed on 13 January 2017)"
   ]
  },
  {
   "cell_type": "code",
   "execution_count": 219,
   "metadata": {
    "collapsed": false
   },
   "outputs": [
    {
     "name": "stdout",
     "output_type": "stream",
     "text": [
      "Classes 'data.table' and 'data.frame':\t234 obs. of  2 variables:\n",
      " $ CODE   : chr  \"ABW\" \"AFG\" \"AFRI\" \"AGO\" ...\n",
      " $ Country: chr  \"Aruba\" \"Afghanistan\" \"Africa\" \"Angola\" ...\n",
      " - attr(*, \".internal.selfref\")=<externalptr> \n"
     ]
    },
    {
     "data": {
      "text/html": [
       "<ol class=list-inline>\n",
       "\t<li>''</li>\n",
       "\t<li>'FRF'</li>\n",
       "\t<li>'RUR'</li>\n",
       "\t<li>'CNY'</li>\n",
       "\t<li>'AUD'</li>\n",
       "\t<li>'HKD'</li>\n",
       "\t<li>'CAD'</li>\n",
       "\t<li>'JPY'</li>\n",
       "\t<li>'NOK'</li>\n",
       "\t<li>'DEM'</li>\n",
       "\t<li>'THB'</li>\n",
       "\t<li>'KRW'</li>\n",
       "\t<li>'HUF'</li>\n",
       "\t<li>'INR'</li>\n",
       "\t<li>'DKK'</li>\n",
       "\t<li>'CZK'</li>\n",
       "\t<li>'NZD'</li>\n",
       "\t<li>'CHF'</li>\n",
       "\t<li>'BRL'</li>\n",
       "\t<li>'ZAR'</li>\n",
       "\t<li>'SEK'</li>\n",
       "</ol>\n"
      ],
      "text/latex": [
       "\\begin{enumerate*}\n",
       "\\item ''\n",
       "\\item 'FRF'\n",
       "\\item 'RUR'\n",
       "\\item 'CNY'\n",
       "\\item 'AUD'\n",
       "\\item 'HKD'\n",
       "\\item 'CAD'\n",
       "\\item 'JPY'\n",
       "\\item 'NOK'\n",
       "\\item 'DEM'\n",
       "\\item 'THB'\n",
       "\\item 'KRW'\n",
       "\\item 'HUF'\n",
       "\\item 'INR'\n",
       "\\item 'DKK'\n",
       "\\item 'CZK'\n",
       "\\item 'NZD'\n",
       "\\item 'CHF'\n",
       "\\item 'BRL'\n",
       "\\item 'ZAR'\n",
       "\\item 'SEK'\n",
       "\\end{enumerate*}\n"
      ],
      "text/markdown": [
       "1. ''\n",
       "2. 'FRF'\n",
       "3. 'RUR'\n",
       "4. 'CNY'\n",
       "5. 'AUD'\n",
       "6. 'HKD'\n",
       "7. 'CAD'\n",
       "8. 'JPY'\n",
       "9. 'NOK'\n",
       "10. 'DEM'\n",
       "11. 'THB'\n",
       "12. 'KRW'\n",
       "13. 'HUF'\n",
       "14. 'INR'\n",
       "15. 'DKK'\n",
       "16. 'CZK'\n",
       "17. 'NZD'\n",
       "18. 'CHF'\n",
       "19. 'BRL'\n",
       "20. 'ZAR'\n",
       "21. 'SEK'\n",
       "\n",
       "\n"
      ],
      "text/plain": [
       " [1] \"\"    \"FRF\" \"RUR\" \"CNY\" \"AUD\" \"HKD\" \"CAD\" \"JPY\" \"NOK\" \"DEM\" \"THB\" \"KRW\"\n",
       "[13] \"HUF\" \"INR\" \"DKK\" \"CZK\" \"NZD\" \"CHF\" \"BRL\" \"ZAR\" \"SEK\""
      ]
     },
     "metadata": {},
     "output_type": "display_data"
    }
   ],
   "source": [
    "abreviation <- fread(\"Abr.csv\",stringsAsFactors = F)\n",
    "#abreviation$Country<-substr(abreviation$Country, 1, nchar(abreviation$Country)-1)\n",
    "str(abreviation)\n",
    "setdiff(unique(currency$currency),abreviation$CODE)"
   ]
  },
  {
   "cell_type": "markdown",
   "metadata": {},
   "source": [
    "That data set use the ISO 3166 country name abreviation as an index for the table, while the IMDB website use the ISO 4217 currency codes to caracterise the budget. In consequence, I'll have to map the abreviation of the currency with the abreviation of the country to be able to use those data. "
   ]
  },
  {
   "cell_type": "code",
   "execution_count": 220,
   "metadata": {
    "collapsed": true
   },
   "outputs": [],
   "source": [
    "currency$currency[currency$currency=='FRF']<-\"FRA\"\n",
    "currency$currency[currency$currency=='RUR']<-\"USSR\"\n",
    "currency$currency[currency$currency=='CNY']<-\"CHN\"\n",
    "currency$currency[currency$currency=='AUD']<-\"AUS\"\n",
    "currency$currency[currency$currency=='HKD']<-\"HKG\"\n",
    "currency$currency[currency$currency=='CAD']<-\"CAN\"\n",
    "currency$currency[currency$currency=='JPY']<-\"JPN\"\n",
    "currency$currency[currency$currency=='NOK']<-\"NOR\"\n",
    "currency$currency[currency$currency=='DEM']<-\"DEU\"\n",
    "currency$currency[currency$currency=='THB']<-\"THA\"\n",
    "currency$currency[currency$currency=='KRW']<-\"KOR\"\n",
    "currency$currency[currency$currency=='HUF']<-\"HUN\"\n",
    "currency$currency[currency$currency=='INR']<-\"IND\"\n",
    "currency$currency[currency$currency=='DKK']<-\"DNK\"\n",
    "currency$currency[currency$currency=='CZK']<-\"CZE\"\n",
    "currency$currency[currency$currency=='NZD']<-\"NZL\"\n",
    "currency$currency[currency$currency=='CHF']<-\"CHE\"\n",
    "currency$currency[currency$currency=='BRL']<-\"BRA\"\n",
    "currency$currency[currency$currency=='ZAR']<-\"ZAF\"\n",
    "currency$currency[currency$currency=='SEK']<-\"SWE\""
   ]
  },
  {
   "cell_type": "markdown",
   "metadata": {},
   "source": [
    "Let's see if there's currency code that I left out"
   ]
  },
  {
   "cell_type": "code",
   "execution_count": 221,
   "metadata": {
    "collapsed": false
   },
   "outputs": [
    {
     "data": {
      "text/html": [
       "''"
      ],
      "text/latex": [
       "''"
      ],
      "text/markdown": [
       "''"
      ],
      "text/plain": [
       "[1] \"\""
      ]
     },
     "metadata": {},
     "output_type": "display_data"
    }
   ],
   "source": [
    "setdiff(unique(currency$currency),abreviation$CODE)"
   ]
  },
  {
   "cell_type": "code",
   "execution_count": 234,
   "metadata": {
    "collapsed": false
   },
   "outputs": [
    {
     "data": {
      "text/html": [
       "<table>\n",
       "<thead><tr><th scope=col>movie_title</th><th scope=col>budget</th><th scope=col>gross</th><th scope=col>country</th><th scope=col>title_year</th></tr></thead>\n",
       "<tbody>\n",
       "\t<tr><td>The Host              </td><td>12215500000           </td><td> 2201412              </td><td>South Korea           </td><td>2006                  </td></tr>\n",
       "\t<tr><td>Lady Vengeance        </td><td> 4200000000           </td><td>  211667              </td><td>South Korea           </td><td>2005                  </td></tr>\n",
       "\t<tr><td>Fateless              </td><td> 2500000000           </td><td>  195888              </td><td>Hungary               </td><td>2005                  </td></tr>\n",
       "\t<tr><td>Princess Mononoke     </td><td> 2400000000           </td><td> 2298191              </td><td>Japan                 </td><td>1997                  </td></tr>\n",
       "\t<tr><td>Steamboy              </td><td> 2127519898           </td><td>  410388              </td><td>Japan                 </td><td>2004                  </td></tr>\n",
       "\t<tr><td>Akira                 </td><td> 1100000000           </td><td>  439162              </td><td>Japan                 </td><td>1988                  </td></tr>\n",
       "\t<tr><td>Godzilla 2000         </td><td> 1000000000           </td><td>10037390              </td><td>Japan                 </td><td>1999                  </td></tr>\n",
       "\t<tr><td>Kabhi Alvida Naa Kehna</td><td>  700000000           </td><td> 3275443              </td><td>India                 </td><td>2006                  </td></tr>\n",
       "\t<tr><td>Tango                 </td><td>  700000000           </td><td> 1687311              </td><td>Spain                 </td><td>1998                  </td></tr>\n",
       "\t<tr><td>Red Cliff             </td><td>  553632000           </td><td>  626809              </td><td>China                 </td><td>2008                  </td></tr>\n",
       "</tbody>\n",
       "</table>\n"
      ],
      "text/latex": [
       "\\begin{tabular}{r|lllll}\n",
       " movie\\_title & budget & gross & country & title\\_year\\\\\n",
       "\\hline\n",
       "\t The Host               & 12215500000            &  2201412               & South Korea            & 2006                  \\\\\n",
       "\t Lady Vengeance         &  4200000000            &   211667               & South Korea            & 2005                  \\\\\n",
       "\t Fateless               &  2500000000            &   195888               & Hungary                & 2005                  \\\\\n",
       "\t Princess Mononoke      &  2400000000            &  2298191               & Japan                  & 1997                  \\\\\n",
       "\t Steamboy               &  2127519898            &   410388               & Japan                  & 2004                  \\\\\n",
       "\t Akira                  &  1100000000            &   439162               & Japan                  & 1988                  \\\\\n",
       "\t Godzilla 2000          &  1000000000            & 10037390               & Japan                  & 1999                  \\\\\n",
       "\t Kabhi Alvida Naa Kehna &   700000000            &  3275443               & India                  & 2006                  \\\\\n",
       "\t Tango                  &   700000000            &  1687311               & Spain                  & 1998                  \\\\\n",
       "\t Red Cliff              &   553632000            &   626809               & China                  & 2008                  \\\\\n",
       "\\end{tabular}\n"
      ],
      "text/markdown": [
       "\n",
       "movie_title | budget | gross | country | title_year | \n",
       "|---|---|---|---|---|---|---|---|---|---|\n",
       "| The Host               | 12215500000            |  2201412               | South Korea            | 2006                   | \n",
       "| Lady Vengeance         |  4200000000            |   211667               | South Korea            | 2005                   | \n",
       "| Fateless               |  2500000000            |   195888               | Hungary                | 2005                   | \n",
       "| Princess Mononoke      |  2400000000            |  2298191               | Japan                  | 1997                   | \n",
       "| Steamboy               |  2127519898            |   410388               | Japan                  | 2004                   | \n",
       "| Akira                  |  1100000000            |   439162               | Japan                  | 1988                   | \n",
       "| Godzilla 2000          |  1000000000            | 10037390               | Japan                  | 1999                   | \n",
       "| Kabhi Alvida Naa Kehna |   700000000            |  3275443               | India                  | 2006                   | \n",
       "| Tango                  |   700000000            |  1687311               | Spain                  | 1998                   | \n",
       "| Red Cliff              |   553632000            |   626809               | China                  | 2008                   | \n",
       "\n",
       "\n"
      ],
      "text/plain": [
       "   movie_title            budget      gross    country     title_year\n",
       "1  The Host               12215500000  2201412 South Korea 2006      \n",
       "2  Lady Vengeance          4200000000   211667 South Korea 2005      \n",
       "3  Fateless                2500000000   195888 Hungary     2005      \n",
       "4  Princess Mononoke       2400000000  2298191 Japan       1997      \n",
       "5  Steamboy                2127519898   410388 Japan       2004      \n",
       "6  Akira                   1100000000   439162 Japan       1988      \n",
       "7  Godzilla 2000           1000000000 10037390 Japan       1999      \n",
       "8  Kabhi Alvida Naa Kehna   700000000  3275443 India       2006      \n",
       "9  Tango                    700000000  1687311 Spain       1998      \n",
       "10 Red Cliff                553632000   626809 China       2008      "
      ]
     },
     "metadata": {},
     "output_type": "display_data"
    },
    {
     "name": "stdout",
     "output_type": "stream",
     "text": [
      "Classes 'data.table' and 'data.frame':\t4034 obs. of  5 variables:\n",
      " $ movie_title: chr  \"The Host\" \"Lady Vengeance\" \"Fateless\" \"Princess Mononoke\" ...\n",
      " $ budget     :Class 'integer64'  num [1:4034] 6.04e-314 2.08e-314 1.24e-314 1.19e-314 1.05e-314 ...\n",
      " $ gross      : int  2201412 211667 195888 2298191 410388 439162 10037390 3275443 1687311 626809 ...\n",
      " $ country    : chr  \"South Korea\" \"South Korea\" \"Hungary\" \"Japan\" ...\n",
      " $ title_year : int  2006 2005 2005 1997 2004 1988 1999 2006 1998 2008 ...\n",
      " - attr(*, \".internal.selfref\")=<externalptr> \n"
     ]
    }
   ],
   "source": [
    "resumer_movie<-data.table(movie_title=movies$movie_title,budget=movies$budget,gross=movies$gross,\n",
    "                 country=movies$country,title_year=movies$title_year)\n",
    "resumer_movie<-resumer_movie[order(-budget)]\n",
    "head(resumer_movie, n=10)\n",
    "str(resumer_movie)"
   ]
  },
  {
   "cell_type": "code",
   "execution_count": 282,
   "metadata": {
    "collapsed": false
   },
   "outputs": [
    {
     "data": {
      "text/html": [
       "<table>\n",
       "<thead><tr><th scope=col>movie_title</th><th scope=col>title_year</th><th scope=col>budget</th><th scope=col>gross</th><th scope=col>country</th><th scope=col>currency</th></tr></thead>\n",
       "<tbody>\n",
       "\t<tr><td>10 Cloverfield Lane       </td><td>2016                      </td><td>15000000                  </td><td>71897215                  </td><td>USA                       </td><td>USA                       </td></tr>\n",
       "\t<tr><td>10 Days in a Madhouse     </td><td>2015                      </td><td>12000000                  </td><td>   14616                  </td><td>USA                       </td><td>USA                       </td></tr>\n",
       "\t<tr><td>10 Things I Hate About You</td><td>1999                      </td><td>16000000                  </td><td>38176108                  </td><td>USA                       </td><td>USA                       </td></tr>\n",
       "\t<tr><td>102 Dalmatians            </td><td>2000                      </td><td>85000000                  </td><td>66941559                  </td><td>USA                       </td><td>USA                       </td></tr>\n",
       "\t<tr><td><span style=white-space:pre-wrap>10th &amp; Wolf               </span></td><td>2006                                                                  </td><td> 8000000                                                              </td><td><span style=white-space:pre-wrap>   53481</span>                      </td><td>USA                                                                   </td><td>USA                                                                   </td></tr>\n",
       "\t<tr><td>12 Rounds                 </td><td>2009                      </td><td>22000000                  </td><td>12232937                  </td><td>USA                       </td><td>USA                       </td></tr>\n",
       "</tbody>\n",
       "</table>\n"
      ],
      "text/latex": [
       "\\begin{tabular}{r|llllll}\n",
       " movie\\_title & title\\_year & budget & gross & country & currency\\\\\n",
       "\\hline\n",
       "\t 10 Cloverfield Lane        & 2016                       & 15000000                   & 71897215                   & USA                        & USA                       \\\\\n",
       "\t 10 Days in a Madhouse      & 2015                       & 12000000                   &    14616                   & USA                        & USA                       \\\\\n",
       "\t 10 Things I Hate About You & 1999                       & 16000000                   & 38176108                   & USA                        & USA                       \\\\\n",
       "\t 102 Dalmatians             & 2000                       & 85000000                   & 66941559                   & USA                        & USA                       \\\\\n",
       "\t 10th \\& Wolf                & 2006                         &  8000000                     &    53481                     & USA                          & USA                         \\\\\n",
       "\t 12 Rounds                  & 2009                       & 22000000                   & 12232937                   & USA                        & USA                       \\\\\n",
       "\\end{tabular}\n"
      ],
      "text/markdown": [
       "\n",
       "movie_title | title_year | budget | gross | country | currency | \n",
       "|---|---|---|---|---|---|\n",
       "| 10 Cloverfield Lane        | 2016                       | 15000000                   | 71897215                   | USA                        | USA                        | \n",
       "| 10 Days in a Madhouse      | 2015                       | 12000000                   |    14616                   | USA                        | USA                        | \n",
       "| 10 Things I Hate About You | 1999                       | 16000000                   | 38176108                   | USA                        | USA                        | \n",
       "| 102 Dalmatians             | 2000                       | 85000000                   | 66941559                   | USA                        | USA                        | \n",
       "| 10th & Wolf                | 2006                       |  8000000                   |    53481                   | USA                        | USA                        | \n",
       "| 12 Rounds                  | 2009                       | 22000000                   | 12232937                   | USA                        | USA                        | \n",
       "\n",
       "\n"
      ],
      "text/plain": [
       "  movie_title                title_year budget   gross    country currency\n",
       "1 10 Cloverfield Lane        2016       15000000 71897215 USA     USA     \n",
       "2 10 Days in a Madhouse      2015       12000000    14616 USA     USA     \n",
       "3 10 Things I Hate About You 1999       16000000 38176108 USA     USA     \n",
       "4 102 Dalmatians             2000       85000000 66941559 USA     USA     \n",
       "5 10th & Wolf                2006        8000000    53481 USA     USA     \n",
       "6 12 Rounds                  2009       22000000 12232937 USA     USA     "
      ]
     },
     "metadata": {},
     "output_type": "display_data"
    }
   ],
   "source": [
    "merge_movie<-merge(resumer_movie,currency,by=c(\"movie_title\",\"title_year\"))\n",
    "head(merge_movie)"
   ]
  },
  {
   "cell_type": "code",
   "execution_count": 238,
   "metadata": {
    "collapsed": false
   },
   "outputs": [
    {
     "name": "stdout",
     "output_type": "stream",
     "text": [
      "Classes 'data.table' and 'data.frame':\t4034 obs. of  5 variables:\n",
      " $ movie_title: chr  \"The Host\" \"Lady Vengeance\" \"Fateless\" \"Princess Mononoke\" ...\n",
      " $ budget     :Class 'integer64'  num [1:4034] 6.04e-314 2.08e-314 1.24e-314 1.19e-314 1.05e-314 ...\n",
      " $ gross      : int  2201412 211667 195888 2298191 410388 439162 10037390 3275443 1687311 626809 ...\n",
      " $ country    : chr  \"South Korea\" \"South Korea\" \"Hungary\" \"Japan\" ...\n",
      " $ title_year : int  2006 2005 2005 1997 2004 1988 1999 2006 1998 2008 ...\n",
      " - attr(*, \".internal.selfref\")=<externalptr> \n",
      "Classes 'data.table' and 'data.frame':\t3785 obs. of  6 variables:\n",
      " $ movie_title: chr  \"10 Cloverfield Lane\" \"10 Days in a Madhouse\" \"10 Things I Hate About You\" \"102 Dalmatians\" ...\n",
      " $ title_year : int  2016 2015 1999 2000 2006 2009 2013 2010 2004 2016 ...\n",
      " $ budget     :Class 'integer64'  num [1:3785] 7.41e-317 5.93e-317 7.91e-317 4.20e-316 3.95e-317 ...\n",
      " $ gross      : int  71897215 14616 38176108 66941559 53481 12232937 56667870 18329466 56044241 52822418 ...\n",
      " $ country    : chr  \"USA\" \"USA\" \"USA\" \"USA\" ...\n",
      " $ currency   : chr  \"USA\" \"USA\" \"USA\" \"USA\" ...\n",
      " - attr(*, \".internal.selfref\")=<externalptr> \n",
      " - attr(*, \"sorted\")= chr  \"movie_title\" \"title_year\"\n"
     ]
    }
   ],
   "source": [
    "str(resumer_movie)\n",
    "str(merge_movie)"
   ]
  },
  {
   "cell_type": "markdown",
   "metadata": {},
   "source": [
    "I make sure that all the label in the variable currency are included in the data set from the OCED"
   ]
  },
  {
   "cell_type": "markdown",
   "metadata": {},
   "source": [
    "# Convert budget"
   ]
  },
  {
   "cell_type": "code",
   "execution_count": 231,
   "metadata": {
    "collapsed": false
   },
   "outputs": [],
   "source": [
    "change_string_value<-function(x,y,z){\n",
    "    value<-z\n",
    "    for (i in 1:length(x)){\n",
    "        for (j in 1:length(z)){\n",
    "            if(tolower(x[i])==tolower(z[j]))\n",
    "            {\n",
    "                value[j]<-y[i]\n",
    "            }\n",
    "        }\n",
    "    } \n",
    "    return(value)\n",
    "}"
   ]
  },
  {
   "cell_type": "code",
   "execution_count": null,
   "metadata": {
    "collapsed": false
   },
   "outputs": [],
   "source": [
    "#temp$V4<-change_string_value(abreviation$Country,abreviation$CODE,temp$V4)"
   ]
  },
  {
   "cell_type": "code",
   "execution_count": 232,
   "metadata": {
    "collapsed": false
   },
   "outputs": [
    {
     "data": {
      "text/plain": [
       "NULL"
      ]
     },
     "metadata": {},
     "output_type": "display_data"
    }
   ],
   "source": [
    "head(temp$V4)"
   ]
  },
  {
   "cell_type": "code",
   "execution_count": 233,
   "metadata": {
    "collapsed": false
   },
   "outputs": [
    {
     "name": "stdout",
     "output_type": "stream",
     "text": [
      "Classes 'data.table' and 'data.frame':\t2764 obs. of  8 variables:\n",
      " $ LOCATION  : chr  \"AUS\" \"AUS\" \"AUS\" \"AUS\" ...\n",
      " $ INDICATOR : chr  \"EXCH\" \"EXCH\" \"EXCH\" \"EXCH\" ...\n",
      " $ SUBJECT   : chr  \"TOT\" \"TOT\" \"TOT\" \"TOT\" ...\n",
      " $ MEASURE   : chr  \"NATUSD\" \"NATUSD\" \"NATUSD\" \"NATUSD\" ...\n",
      " $ FREQUENCY : chr  \"A\" \"A\" \"A\" \"A\" ...\n",
      " $ TIME      : int  1950 1951 1952 1953 1954 1955 1956 1957 1958 1959 ...\n",
      " $ Value     : num  0.893 0.893 0.893 0.893 0.893 ...\n",
      " $ Flag Codes: logi  NA NA NA NA NA NA ...\n",
      " - attr(*, \".internal.selfref\")=<externalptr> \n"
     ]
    }
   ],
   "source": [
    "ex_rate <- fread(\"ExRate50-15.csv\",stringsAsFactors = F)\n",
    "\n",
    "str(ex_rate)"
   ]
  },
  {
   "cell_type": "code",
   "execution_count": 286,
   "metadata": {
    "collapsed": false
   },
   "outputs": [
    {
     "data": {
      "text/html": [
       "<ol class=list-inline>\n",
       "\t<li>''</li>\n",
       "\t<li>'HKG'</li>\n",
       "\t<li>'CSFR-CZE'</li>\n",
       "\t<li>'THA'</li>\n",
       "</ol>\n"
      ],
      "text/latex": [
       "\\begin{enumerate*}\n",
       "\\item ''\n",
       "\\item 'HKG'\n",
       "\\item 'CSFR-CZE'\n",
       "\\item 'THA'\n",
       "\\end{enumerate*}\n"
      ],
      "text/markdown": [
       "1. ''\n",
       "2. 'HKG'\n",
       "3. 'CSFR-CZE'\n",
       "4. 'THA'\n",
       "\n",
       "\n"
      ],
      "text/plain": [
       "[1] \"\"         \"HKG\"      \"CSFR-CZE\" \"THA\"     "
      ]
     },
     "metadata": {},
     "output_type": "display_data"
    }
   ],
   "source": [
    "setdiff(merge_movie$currency,ex_rate$LOCATION)"
   ]
  },
  {
   "cell_type": "code",
   "execution_count": 276,
   "metadata": {
    "collapsed": false
   },
   "outputs": [],
   "source": [
    "#a=country of the rate\n",
    "#b=year of the exchange rate\n",
    "#c=value of the exchage rate\n",
    "#x=country of the movie\n",
    "#y=year of the making of the movie\n",
    "#z=budget of the movie\n",
    "\n",
    "convert_gross<-function(a,b,c,x,y,z){\n",
    "    value<-z\n",
    "    for (i in 1:length(y)){\n",
    "       index<-which(a %in% x[i] & b %in%y [i])\n",
    "        min<-1\n",
    "        find<-FALSE\n",
    "        if(length(index)==0)\n",
    "        {\n",
    "           value[i]<-z[i]\n",
    "        }\n",
    "        else\n",
    "            {\n",
    "            for (j in 1:length(index)){\n",
    "            \n",
    "            if(j==1)\n",
    "                {\n",
    "                    min<-c[index[j]]\n",
    "                    find<-FALSE\n",
    "                }           \n",
    "\n",
    "            if(y[i]==b[index[j]])\n",
    "            {\n",
    "                value[i]<-z[i]/c[index[j]]\n",
    "                Find<-TRUE\n",
    "            }\n",
    "        }\n",
    "        \n",
    "        if(!find)\n",
    "            {\n",
    "            \n",
    "            value[i]<-z[i]/min\n",
    "        }\n",
    "            \n",
    "        }\n",
    "        \n",
    "        \n",
    "    } \n",
    "    return(value)\n",
    "}"
   ]
  },
  {
   "cell_type": "code",
   "execution_count": 274,
   "metadata": {
    "collapsed": false
   },
   "outputs": [
    {
     "name": "stdout",
     "output_type": "stream",
     "text": [
      " int 1879\n"
     ]
    },
    {
     "data": {
      "text/html": [
       "1"
      ],
      "text/latex": [
       "1"
      ],
      "text/markdown": [
       "1"
      ],
      "text/plain": [
       "[1] 1"
      ]
     },
     "metadata": {},
     "output_type": "display_data"
    },
    {
     "data": {
      "text/html": [
       "TRUE"
      ],
      "text/latex": [
       "TRUE"
      ],
      "text/markdown": [
       "TRUE"
      ],
      "text/plain": [
       "[1] TRUE"
      ]
     },
     "metadata": {},
     "output_type": "display_data"
    }
   ],
   "source": [
    "index<-which(ex_rate$LOCATION %in% merge_movie$currency[2] & ex_rate$TIME %in% merge_movie$title_year[2])\n",
    "str(index)\n",
    "length(index)\n",
    "merge_movie$currency[1]==ex_rate$LOCATION[index[1]]"
   ]
  },
  {
   "cell_type": "code",
   "execution_count": 277,
   "metadata": {
    "collapsed": false
   },
   "outputs": [],
   "source": [
    "merge_movie$budget_us<-convert_gross(ex_rate$LOCATION,ex_rate$TIME,ex_rate$Value,\n",
    "                                  merge_movie$currency,merge_movie$title_year,merge_movie$budget)"
   ]
  },
  {
   "cell_type": "code",
   "execution_count": 273,
   "metadata": {
    "collapsed": false
   },
   "outputs": [
    {
     "data": {
      "text/html": [
       "'10 Cloverfield Lane'"
      ],
      "text/latex": [
       "'10 Cloverfield Lane'"
      ],
      "text/markdown": [
       "'10 Cloverfield Lane'"
      ],
      "text/plain": [
       "[1] \"10 Cloverfield Lane\""
      ]
     },
     "metadata": {},
     "output_type": "display_data"
    }
   ],
   "source": [
    "merge_movie$movie_title[1]"
   ]
  },
  {
   "cell_type": "code",
   "execution_count": 278,
   "metadata": {
    "collapsed": false
   },
   "outputs": [
    {
     "data": {
      "text/html": [
       "<table>\n",
       "<thead><tr><th scope=col>movie_title</th><th scope=col>title_year</th><th scope=col>budget</th><th scope=col>gross</th><th scope=col>country</th><th scope=col>currency</th><th scope=col>Result</th><th scope=col>result</th></tr></thead>\n",
       "<tbody>\n",
       "\t<tr><td>10 Cloverfield Lane       </td><td>2016                      </td><td>15000000                  </td><td>71897215                  </td><td>USA                       </td><td>USA                       </td><td>15000000                  </td><td>15000000                  </td></tr>\n",
       "\t<tr><td>10 Days in a Madhouse     </td><td>2015                      </td><td>12000000                  </td><td>   14616                  </td><td>USA                       </td><td>USA                       </td><td>12000000                  </td><td>12000000                  </td></tr>\n",
       "\t<tr><td>10 Things I Hate About You</td><td>1999                      </td><td>16000000                  </td><td>38176108                  </td><td>USA                       </td><td>USA                       </td><td>16000000                  </td><td>16000000                  </td></tr>\n",
       "\t<tr><td>102 Dalmatians            </td><td>2000                      </td><td>85000000                  </td><td>66941559                  </td><td>USA                       </td><td>USA                       </td><td>85000000                  </td><td>85000000                  </td></tr>\n",
       "\t<tr><td><span style=white-space:pre-wrap>10th &amp; Wolf               </span></td><td>2006                                                                  </td><td> 8000000                                                              </td><td><span style=white-space:pre-wrap>   53481</span>                      </td><td>USA                                                                   </td><td>USA                                                                   </td><td> 8000000                                                              </td><td> 8000000                                                              </td></tr>\n",
       "\t<tr><td>12 Rounds                 </td><td>2009                      </td><td>22000000                  </td><td>12232937                  </td><td>USA                       </td><td>USA                       </td><td>22000000                  </td><td>22000000                  </td></tr>\n",
       "</tbody>\n",
       "</table>\n"
      ],
      "text/latex": [
       "\\begin{tabular}{r|llllllll}\n",
       " movie\\_title & title\\_year & budget & gross & country & currency & Result & result\\\\\n",
       "\\hline\n",
       "\t 10 Cloverfield Lane        & 2016                       & 15000000                   & 71897215                   & USA                        & USA                        & 15000000                   & 15000000                  \\\\\n",
       "\t 10 Days in a Madhouse      & 2015                       & 12000000                   &    14616                   & USA                        & USA                        & 12000000                   & 12000000                  \\\\\n",
       "\t 10 Things I Hate About You & 1999                       & 16000000                   & 38176108                   & USA                        & USA                        & 16000000                   & 16000000                  \\\\\n",
       "\t 102 Dalmatians             & 2000                       & 85000000                   & 66941559                   & USA                        & USA                        & 85000000                   & 85000000                  \\\\\n",
       "\t 10th \\& Wolf                & 2006                         &  8000000                     &    53481                     & USA                          & USA                          &  8000000                     &  8000000                    \\\\\n",
       "\t 12 Rounds                  & 2009                       & 22000000                   & 12232937                   & USA                        & USA                        & 22000000                   & 22000000                  \\\\\n",
       "\\end{tabular}\n"
      ],
      "text/markdown": [
       "\n",
       "movie_title | title_year | budget | gross | country | currency | Result | result | \n",
       "|---|---|---|---|---|---|\n",
       "| 10 Cloverfield Lane        | 2016                       | 15000000                   | 71897215                   | USA                        | USA                        | 15000000                   | 15000000                   | \n",
       "| 10 Days in a Madhouse      | 2015                       | 12000000                   |    14616                   | USA                        | USA                        | 12000000                   | 12000000                   | \n",
       "| 10 Things I Hate About You | 1999                       | 16000000                   | 38176108                   | USA                        | USA                        | 16000000                   | 16000000                   | \n",
       "| 102 Dalmatians             | 2000                       | 85000000                   | 66941559                   | USA                        | USA                        | 85000000                   | 85000000                   | \n",
       "| 10th & Wolf                | 2006                       |  8000000                   |    53481                   | USA                        | USA                        |  8000000                   |  8000000                   | \n",
       "| 12 Rounds                  | 2009                       | 22000000                   | 12232937                   | USA                        | USA                        | 22000000                   | 22000000                   | \n",
       "\n",
       "\n"
      ],
      "text/plain": [
       "  movie_title                title_year budget   gross    country currency\n",
       "1 10 Cloverfield Lane        2016       15000000 71897215 USA     USA     \n",
       "2 10 Days in a Madhouse      2015       12000000    14616 USA     USA     \n",
       "3 10 Things I Hate About You 1999       16000000 38176108 USA     USA     \n",
       "4 102 Dalmatians             2000       85000000 66941559 USA     USA     \n",
       "5 10th & Wolf                2006        8000000    53481 USA     USA     \n",
       "6 12 Rounds                  2009       22000000 12232937 USA     USA     \n",
       "  Result   result  \n",
       "1 15000000 15000000\n",
       "2 12000000 12000000\n",
       "3 16000000 16000000\n",
       "4 85000000 85000000\n",
       "5  8000000  8000000\n",
       "6 22000000 22000000"
      ]
     },
     "metadata": {},
     "output_type": "display_data"
    }
   ],
   "source": [
    "head(merge_movie)"
   ]
  },
  {
   "cell_type": "code",
   "execution_count": 279,
   "metadata": {
    "collapsed": false
   },
   "outputs": [
    {
     "data": {
      "text/html": [
       "<table>\n",
       "<thead><tr><th scope=col>movie_title</th><th scope=col>title_year</th><th scope=col>budget</th><th scope=col>gross</th><th scope=col>country</th><th scope=col>currency</th><th scope=col>Result</th><th scope=col>result</th></tr></thead>\n",
       "<tbody>\n",
       "\t<tr><td>3                     </td><td>2010                  </td><td>      NA              </td><td>  59774               </td><td>Germany               </td><td>                      </td><td>      NA              </td><td>      NA              </td></tr>\n",
       "\t<tr><td>8 Women               </td><td>2002                  </td><td> 8000000              </td><td>3076425               </td><td>France                </td><td>FRA                   </td><td>15007015              </td><td> 7529043              </td></tr>\n",
       "\t<tr><td>A Dangerous Method    </td><td>2011                  </td><td>15000000              </td><td>5702083               </td><td>UK                    </td><td>FRA                   </td><td>28138154              </td><td>20852013              </td></tr>\n",
       "\t<tr><td>A Room for Romeo Brass</td><td>1999                  </td><td>      NA              </td><td>  18434               </td><td>UK                    </td><td>                      </td><td>      NA              </td><td>      NA              </td></tr>\n",
       "\t<tr><td><span style=white-space:pre-wrap>Aimee &amp; Jaguar        </span></td><td>1999                                                              </td><td>15000000                                                          </td><td> 927107                                                           </td><td>Germany                                                           </td><td>DEU                                                               </td><td> 6993460                                                          </td><td>15980788                                                          </td></tr>\n",
       "\t<tr><td>Ajami                 </td><td>2009                  </td><td>      NA              </td><td> 621240               </td><td>Germany               </td><td>                      </td><td>      NA              </td><td>      NA              </td></tr>\n",
       "</tbody>\n",
       "</table>\n"
      ],
      "text/latex": [
       "\\begin{tabular}{r|llllllll}\n",
       " movie\\_title & title\\_year & budget & gross & country & currency & Result & result\\\\\n",
       "\\hline\n",
       "\t 3                      & 2010                   &       NA               &   59774                & Germany                &                        &       NA               &       NA              \\\\\n",
       "\t 8 Women                & 2002                   &  8000000               & 3076425                & France                 & FRA                    & 15007015               &  7529043              \\\\\n",
       "\t A Dangerous Method     & 2011                   & 15000000               & 5702083                & UK                     & FRA                    & 28138154               & 20852013              \\\\\n",
       "\t A Room for Romeo Brass & 1999                   &       NA               &   18434                & UK                     &                        &       NA               &       NA              \\\\\n",
       "\t Aimee \\& Jaguar         & 1999                     & 15000000                 &  927107                  & Germany                  & DEU                      &  6993460                 & 15980788                \\\\\n",
       "\t Ajami                  & 2009                   &       NA               &  621240                & Germany                &                        &       NA               &       NA              \\\\\n",
       "\\end{tabular}\n"
      ],
      "text/markdown": [
       "\n",
       "movie_title | title_year | budget | gross | country | currency | Result | result | \n",
       "|---|---|---|---|---|---|\n",
       "| 3                      | 2010                   |       NA               |   59774                | Germany                |                        |       NA               |       NA               | \n",
       "| 8 Women                | 2002                   |  8000000               | 3076425                | France                 | FRA                    | 15007015               |  7529043               | \n",
       "| A Dangerous Method     | 2011                   | 15000000               | 5702083                | UK                     | FRA                    | 28138154               | 20852013               | \n",
       "| A Room for Romeo Brass | 1999                   |       NA               |   18434                | UK                     |                        |       NA               |       NA               | \n",
       "| Aimee & Jaguar         | 1999                   | 15000000               |  927107                | Germany                | DEU                    |  6993460               | 15980788               | \n",
       "| Ajami                  | 2009                   |       NA               |  621240                | Germany                |                        |       NA               |       NA               | \n",
       "\n",
       "\n"
      ],
      "text/plain": [
       "  movie_title            title_year budget   gross   country currency Result  \n",
       "1 3                      2010             NA   59774 Germany                NA\n",
       "2 8 Women                2002        8000000 3076425 France  FRA      15007015\n",
       "3 A Dangerous Method     2011       15000000 5702083 UK      FRA      28138154\n",
       "4 A Room for Romeo Brass 1999             NA   18434 UK                     NA\n",
       "5 Aimee & Jaguar         1999       15000000  927107 Germany DEU       6993460\n",
       "6 Ajami                  2009             NA  621240 Germany                NA\n",
       "  result  \n",
       "1       NA\n",
       "2  7529043\n",
       "3 20852013\n",
       "4       NA\n",
       "5 15980788\n",
       "6       NA"
      ]
     },
     "metadata": {},
     "output_type": "display_data"
    }
   ],
   "source": [
    "head(merge_movie[merge_movie$currency!=\"USA\"])"
   ]
  },
  {
   "cell_type": "markdown",
   "metadata": {},
   "source": [
    "For exemple, the movie \"A Dangerous Method\" made in 2011 for 15 000 000 euro according to IMDB. So far, the table is good. That year, the exchage rate for the euro was 0.719355, so the budget should be, in US dollar"
   ]
  },
  {
   "cell_type": "code",
   "execution_count": 253,
   "metadata": {
    "collapsed": false
   },
   "outputs": [
    {
     "data": {
      "text/html": [
       "20852013.2618804"
      ],
      "text/latex": [
       "20852013.2618804"
      ],
      "text/markdown": [
       "20852013.2618804"
      ],
      "text/plain": [
       "[1] 20852013"
      ]
     },
     "metadata": {},
     "output_type": "display_data"
    }
   ],
   "source": [
    "15000000/0.719355"
   ]
  },
  {
   "cell_type": "markdown",
   "metadata": {},
   "source": [
    "That seem Alright! Let's look at the asian film that skew the distribution"
   ]
  },
  {
   "cell_type": "code",
   "execution_count": 280,
   "metadata": {
    "collapsed": false
   },
   "outputs": [
    {
     "data": {
      "text/html": [
       "<table>\n",
       "<thead><tr><th scope=col>movie_title</th><th scope=col>title_year</th><th scope=col>budget</th><th scope=col>gross</th><th scope=col>country</th><th scope=col>currency</th><th scope=col>Result</th><th scope=col>result</th></tr></thead>\n",
       "<tbody>\n",
       "\t<tr><td>Lady Vengeance</td><td>2005          </td><td> 4200000000   </td><td> 211667       </td><td>South Korea   </td><td>KOR           </td><td>1680000000    </td><td> 4101095      </td></tr>\n",
       "\t<tr><td>The Host      </td><td>2006          </td><td>12215500000   </td><td>2201412       </td><td>South Korea   </td><td>KOR           </td><td>4886200000    </td><td>12793905      </td></tr>\n",
       "</tbody>\n",
       "</table>\n"
      ],
      "text/latex": [
       "\\begin{tabular}{r|llllllll}\n",
       " movie\\_title & title\\_year & budget & gross & country & currency & Result & result\\\\\n",
       "\\hline\n",
       "\t Lady Vengeance & 2005           &  4200000000    &  211667        & South Korea    & KOR            & 1680000000     &  4101095      \\\\\n",
       "\t The Host       & 2006           & 12215500000    & 2201412        & South Korea    & KOR            & 4886200000     & 12793905      \\\\\n",
       "\\end{tabular}\n"
      ],
      "text/markdown": [
       "\n",
       "movie_title | title_year | budget | gross | country | currency | Result | result | \n",
       "|---|---|\n",
       "| Lady Vengeance | 2005           |  4200000000    |  211667        | South Korea    | KOR            | 1680000000     |  4101095       | \n",
       "| The Host       | 2006           | 12215500000    | 2201412        | South Korea    | KOR            | 4886200000     | 12793905       | \n",
       "\n",
       "\n"
      ],
      "text/plain": [
       "  movie_title    title_year budget      gross   country     currency Result    \n",
       "1 Lady Vengeance 2005        4200000000  211667 South Korea KOR      1680000000\n",
       "2 The Host       2006       12215500000 2201412 South Korea KOR      4886200000\n",
       "  result  \n",
       "1  4101095\n",
       "2 12793905"
      ]
     },
     "metadata": {},
     "output_type": "display_data"
    }
   ],
   "source": [
    "head(merge_movie[merge_movie$currency==\"KOR\"])"
   ]
  },
  {
   "cell_type": "markdown",
   "metadata": {},
   "source": [
    "The movie the \"The Host\" "
   ]
  },
  {
   "cell_type": "code",
   "execution_count": 281,
   "metadata": {
    "collapsed": false
   },
   "outputs": [
    {
     "data": {
      "text/html": [
       "12793905.8833299"
      ],
      "text/latex": [
       "12793905.8833299"
      ],
      "text/markdown": [
       "12793905.8833299"
      ],
      "text/plain": [
       "[1] 12793906"
      ]
     },
     "metadata": {},
     "output_type": "display_data"
    }
   ],
   "source": [
    "12215500000/954.790516"
   ]
  },
  {
   "cell_type": "code",
   "execution_count": null,
   "metadata": {
    "collapsed": true
   },
   "outputs": [],
   "source": []
  },
  {
   "cell_type": "code",
   "execution_count": null,
   "metadata": {
    "collapsed": false
   },
   "outputs": [],
   "source": [
    "movies<-merge(movies,merge_movie,by=c(\"movie_title\",\"title_year\"))\n",
    "head(movies)"
   ]
  },
  {
   "cell_type": "markdown",
   "metadata": {
    "collapsed": false
   },
   "source": [
    "# Facebook likes"
   ]
  },
  {
   "cell_type": "code",
   "execution_count": null,
   "metadata": {
    "collapsed": true
   },
   "outputs": [],
   "source": [
    "p8 <- plot_ly(x=~movies$actor_1_facebook_likes,type=\"histogram\")\n",
    "embed_notebook(p8)"
   ]
  },
  {
   "cell_type": "code",
   "execution_count": null,
   "metadata": {
    "collapsed": true
   },
   "outputs": [],
   "source": [
    "p59 <- plot_ly(x=~movies$actor_1_facebook_likes,type=\"histogram\")\n",
    "embed_notebook(p9)"
   ]
  },
  {
   "cell_type": "code",
   "execution_count": null,
   "metadata": {
    "collapsed": false
   },
   "outputs": [],
   "source": [
    "index<-which(ex_rate$LOCATION %in% temp$V4[1])\n",
    "head(index)"
   ]
  },
  {
   "cell_type": "code",
   "execution_count": null,
   "metadata": {
    "collapsed": false
   },
   "outputs": [],
   "source": [
    "head(ex_rate$ï»¿\"LOCATION\")"
   ]
  },
  {
   "cell_type": "code",
   "execution_count": null,
   "metadata": {
    "collapsed": false
   },
   "outputs": [],
   "source": [
    "\n",
    "temp <- movies %>% select(budget,title_year)\n",
    "temp <- temp %>% group_by(title_year)%>% summarise(score=mean(budget))\n",
    "temp <- na.omit(temp)\n",
    "p <- plot_ly(temp, x = title_year, y = score, name = \"Avg Score by Year\")\n",
    "p %>%\n",
    "  add_trace(y = fitted(loess(score ~ as.numeric(title_year))), x = title_year) %>%\n",
    "  layout(title = \"Year and Score\",\n",
    "         showlegend = FALSE) %>%\n",
    "  dplyr::filter(score == max(score)) %>%\n",
    "  layout(annotations = list(x = title_year, y = score, text = \"Peak\", showarrow = T))"
   ]
  },
  {
   "cell_type": "code",
   "execution_count": null,
   "metadata": {
    "collapsed": true
   },
   "outputs": [],
   "source": []
  },
  {
   "cell_type": "code",
   "execution_count": null,
   "metadata": {
    "collapsed": true
   },
   "outputs": [],
   "source": []
  },
  {
   "cell_type": "code",
   "execution_count": null,
   "metadata": {
    "collapsed": false
   },
   "outputs": [],
   "source": [
    "summary(movies$color)"
   ]
  },
  {
   "cell_type": "code",
   "execution_count": null,
   "metadata": {
    "collapsed": false
   },
   "outputs": [],
   "source": [
    "head(summary(movies$director_name))"
   ]
  },
  {
   "cell_type": "code",
   "execution_count": null,
   "metadata": {
    "collapsed": false
   },
   "outputs": [],
   "source": [
    "col<-names(movies)%in% c(\"num_critic_for_reviews\")\n",
    "movies<-movies[,!col,with=FALSE]"
   ]
  },
  {
   "cell_type": "code",
   "execution_count": null,
   "metadata": {
    "collapsed": true
   },
   "outputs": [],
   "source": []
  },
  {
   "cell_type": "code",
   "execution_count": null,
   "metadata": {
    "collapsed": true
   },
   "outputs": [],
   "source": [
    "movies<-movies[!(movies$director_name==\"\"),]"
   ]
  },
  {
   "cell_type": "code",
   "execution_count": null,
   "metadata": {
    "collapsed": true
   },
   "outputs": [],
   "source": []
  },
  {
   "cell_type": "code",
   "execution_count": null,
   "metadata": {
    "collapsed": false
   },
   "outputs": [],
   "source": [
    "sort(unique(movies$aspect_ratio))"
   ]
  },
  {
   "cell_type": "code",
   "execution_count": null,
   "metadata": {
    "collapsed": false
   },
   "outputs": [],
   "source": [
    "movies[aspect_ratio==16,movie_title]"
   ]
  },
  {
   "cell_type": "code",
   "execution_count": null,
   "metadata": {
    "collapsed": true
   },
   "outputs": [],
   "source": []
  },
  {
   "cell_type": "code",
   "execution_count": null,
   "metadata": {
    "collapsed": true
   },
   "outputs": [],
   "source": []
  },
  {
   "cell_type": "code",
   "execution_count": null,
   "metadata": {
    "collapsed": true
   },
   "outputs": [],
   "source": []
  },
  {
   "cell_type": "markdown",
   "metadata": {
    "collapsed": true
   },
   "source": [
    "When I'll have time, I'll use IMDbPY to find those missing name, but for now, let's delete those line "
   ]
  },
  {
   "cell_type": "code",
   "execution_count": null,
   "metadata": {
    "collapsed": false
   },
   "outputs": [],
   "source": [
    "movies<-movies[!(movies$director_name==\"\"),]"
   ]
  },
  {
   "cell_type": "code",
   "execution_count": null,
   "metadata": {
    "collapsed": false
   },
   "outputs": [],
   "source": [
    "str(movies)"
   ]
  },
  {
   "cell_type": "code",
   "execution_count": null,
   "metadata": {
    "collapsed": true
   },
   "outputs": [],
   "source": []
  },
  {
   "cell_type": "code",
   "execution_count": null,
   "metadata": {
    "collapsed": false
   },
   "outputs": [],
   "source": [
    "sapply(movies, function(y) sum(length(which(is.na(y)))))"
   ]
  },
  {
   "cell_type": "code",
   "execution_count": null,
   "metadata": {
    "collapsed": false
   },
   "outputs": [],
   "source": []
  },
  {
   "cell_type": "code",
   "execution_count": null,
   "metadata": {
    "collapsed": true
   },
   "outputs": [],
   "source": []
  },
  {
   "cell_type": "markdown",
   "metadata": {
    "collapsed": true
   },
   "source": [
    "The number of missing cases drastically decreases since the beginning of the cleaning and it's time to start exploring the data! If you like, you can access this section of the project at the address:  "
   ]
  }
 ],
 "metadata": {
  "anaconda-cloud": {},
  "kernelspec": {
   "display_name": "R",
   "language": "R",
   "name": "ir"
  },
  "language_info": {
   "codemirror_mode": "r",
   "file_extension": ".r",
   "mimetype": "text/x-r-source",
   "name": "R",
   "pygments_lexer": "r",
   "version": "3.2.5"
  }
 },
 "nbformat": 4,
 "nbformat_minor": 0
}
